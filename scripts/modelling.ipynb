{
 "cells": [
  {
   "cell_type": "markdown",
   "metadata": {},
   "source": [
    "### Preparing HDFS\n",
    "Using magic\n",
    "\n",
    "Create input folder on HDFS if not exists\n",
    "\n",
    "Copy from data from local\n",
    "\n",
    "<span style=\"color:red\"><em style=font-size:40px;>!</em>The following cells are  a copy and paste of our assessment 1 submission"
   ]
  },
  {
   "cell_type": "code",
   "execution_count": 1,
   "metadata": {},
   "outputs": [
    {
     "name": "stdout",
     "output_type": "stream",
     "text": [
      "/home/big-data-realestate-master/scripts\n",
      "\n",
      "20/06/07 13:16:47 INFO fs.TrashPolicyDefault: Namenode trash configuration: Deletion interval = 0 minutes, Emptier interval = 0 minutes.\n",
      "\n",
      "\n",
      "Deleted /tmp/rs_input\n",
      "\n",
      "\n",
      "Found 1 items\n",
      "\n",
      "\n",
      "-rwxrwxrwx   1 1000 staff    5018236 2020-06-07 06:53 /tmp/rs_input/raw.csv\n",
      "\n",
      "\n"
     ]
    }
   ],
   "source": [
    "!pwd\n",
    "! hadoop fs -rm -R /tmp/rs_input\n",
    "! hadoop fs -mkdir -p  /tmp/rs_input\n",
    "! hadoop fs -put   -p  ./../data-raw/Melbourne_housing_FULL.csv             /tmp/rs_input/raw.csv\n",
    "! hadoop fs -ls        /tmp/rs_input/"
   ]
  },
  {
   "cell_type": "code",
   "execution_count": 2,
   "metadata": {},
   "outputs": [
    {
     "data": {
      "text/plain": [
       "Intitializing Scala interpreter ..."
      ]
     },
     "metadata": {},
     "output_type": "display_data"
    },
    {
     "data": {
      "text/plain": [
       "Spark Web UI available at http://a56a95a92af2:4041\n",
       "SparkContext available as 'sc' (version = 2.4.5, master = local[*], app id = local-1591535816132)\n",
       "SparkSession available as 'spark'\n"
      ]
     },
     "metadata": {},
     "output_type": "display_data"
    },
    {
     "data": {
      "text/plain": [
       "df_raw: org.apache.spark.sql.DataFrame = [Suburb: string, Address: string ... 19 more fields]\n"
      ]
     },
     "execution_count": 2,
     "metadata": {},
     "output_type": "execute_result"
    }
   ],
   "source": [
    "//load raw into df\n",
    "val df_raw = spark\n",
    "    .read\n",
    "    .format(\"csv\")\n",
    "    .option(\"header\", \"true\")\n",
    "    .load(\"hdfs://localhost:9000/tmp/rs_input/raw.csv\")"
   ]
  },
  {
   "cell_type": "code",
   "execution_count": 3,
   "metadata": {},
   "outputs": [
    {
     "data": {
      "text/plain": [
       "df_working: org.apache.spark.sql.DataFrame = [Price: string, MethodOfSale: string ... 11 more fields]\n",
       "df_working: org.apache.spark.sql.DataFrame = [Price: string, MethodOfSale: string ... 11 more fields]\n"
      ]
     },
     "execution_count": 3,
     "metadata": {},
     "output_type": "execute_result"
    }
   ],
   "source": [
    "//only select columns we need now\n",
    "var df_working= df_raw.select(\"Price\",\n",
    "                          \"Method\",\n",
    "                          \"Type\",\n",
    "                          \"Distance\",\n",
    "                          \"Rooms\",\n",
    "                          \"Bathroom\",\n",
    "                          \"Car\",\n",
    "                          \"Landsize\",\n",
    "                          \"Lattitude\",\n",
    "                          \"Longtitude\",    \n",
    "                          \"Suburb\",\n",
    "                          \"Address\",\n",
    "                          \"Date\")\n",
    "\n",
    "\n",
    "//add meaningful to column names\n",
    "df_working = df_working.withColumnRenamed(\"Method\",\"MethodOfSale\")\n",
    "    .withColumnRenamed(\"Distance\",\"DistanceFromCBD\")\n",
    "    .withColumnRenamed(\"Type\",\"PropertyType\")\n",
    "    .withColumnRenamed(\"Lattitude\",\"Latitude\")"
   ]
  },
  {
   "cell_type": "code",
   "execution_count": 4,
   "metadata": {},
   "outputs": [
    {
     "data": {
      "text/plain": [
       "df_working: org.apache.spark.sql.DataFrame = [Price: string, MethodOfSale: string ... 11 more fields]\n"
      ]
     },
     "execution_count": 4,
     "metadata": {},
     "output_type": "execute_result"
    }
   ],
   "source": [
    "//when profiling there are a number of columns with a \"#N/A\" which need to be removed\n",
    "df_working = df_working.filter($\"DistanceFromCBD\" =!= \"#N/A\")"
   ]
  },
  {
   "cell_type": "code",
   "execution_count": 5,
   "metadata": {},
   "outputs": [
    {
     "data": {
      "text/plain": [
       "df_working: org.apache.spark.sql.DataFrame = [Price: double, MethodOfSale: string ... 11 more fields]\n"
      ]
     },
     "execution_count": 5,
     "metadata": {},
     "output_type": "execute_result"
    }
   ],
   "source": [
    "//refactored to remove the for column loop\n",
    "df_working = df_working.withColumn(\"Price\",col(\"Price\").cast(\"Double\"))\n",
    "    .withColumn(\"Rooms\",col(\"Rooms\").cast(\"Int\"))\n",
    "    .withColumn(\"DistanceFromCBD\",col(\"DistanceFromCBD\").cast(\"Double\"))\n",
    "    .withColumn(\"Bathroom\",col(\"Bathroom\").cast(\"Int\"))\n",
    "    .withColumn(\"Car\",col(\"Car\").cast(\"Int\"))\n",
    "    .withColumn(\"Landsize\",col(\"Landsize\").cast(\"Double\"))\n",
    "    .withColumn(\"Latitude\",col(\"Latitude\").cast(\"Double\"))\n",
    "    .withColumn(\"Longtitude\",col(\"Longtitude\").cast(\"Double\"))\n",
    "    "
   ]
  },
  {
   "cell_type": "code",
   "execution_count": 6,
   "metadata": {},
   "outputs": [
    {
     "data": {
      "text/plain": [
       "df_working: org.apache.spark.sql.DataFrame = [Price: double, MethodOfSale: string ... 11 more fields]\n",
       "df_working: org.apache.spark.sql.DataFrame = [Price: double, MethodOfSale: string ... 11 more fields]\n"
      ]
     },
     "execution_count": 6,
     "metadata": {},
     "output_type": "execute_result"
    }
   ],
   "source": [
    "//convert categorically values to ints\n",
    "//make sure the categorical type is upper\n",
    "df_working = df_working.withColumn(\"PropertyType\", upper(col(\"PropertyType\")))\n",
    "\n",
    "df_working = df_working.withColumn(\"PropertyType\",\n",
    "when(col(\"PropertyType\") === \"H\", \"1\")\n",
    ".when(col(\"PropertyType\") === \"U\", \"2\")\n",
    ".when(col(\"PropertyType\") ===\"T\", \"3\")\n",
    ".otherwise(\"0\"))"
   ]
  },
  {
   "cell_type": "code",
   "execution_count": 7,
   "metadata": {},
   "outputs": [
    {
     "data": {
      "text/plain": [
       "df_working: org.apache.spark.sql.DataFrame = [Price: double, MethodOfSale: string ... 11 more fields]\n"
      ]
     },
     "execution_count": 7,
     "metadata": {},
     "output_type": "execute_result"
    }
   ],
   "source": [
    "//convert categorically values to ints\n",
    "//make sure the categorical type is upper\n",
    "df_working = df_working.withColumn(\"MethodOfSale\", upper(col(\"MethodOfSale\")))"
   ]
  },
  {
   "cell_type": "code",
   "execution_count": 8,
   "metadata": {},
   "outputs": [
    {
     "data": {
      "text/plain": [
       "df_working: org.apache.spark.sql.DataFrame = [Price: double, MethodOfSale: string ... 11 more fields]\n"
      ]
     },
     "execution_count": 8,
     "metadata": {},
     "output_type": "execute_result"
    }
   ],
   "source": [
    "df_working = df_working.withColumn(\"MethodOfSale\",\n",
    "when(col(\"MethodOfSale\") === \"S\", \"1\")\n",
    ".when(col(\"MethodOfSale\") === \"SP\", \"2\")\n",
    ".when(col(\"MethodOfSale\") === \"PI\", \"3\")\n",
    ".when(col(\"MethodOfSale\") === \"PN\", \"4\")\n",
    ".when(col(\"MethodOfSale\") === \"SN\", \"5\")\n",
    ".when(col(\"MethodOfSale\") === \"VB\", \"6\")\n",
    ".when(col(\"MethodOfSale\") === \"W\", \"7\")\n",
    ".when(col(\"MethodOfSale\") === \"SA\", \"8\")\n",
    ".when(col(\"MethodOfSale\") === \"SS\", \"9\")                                \n",
    ".otherwise(\"0\"))"
   ]
  },
  {
   "cell_type": "code",
   "execution_count": 9,
   "metadata": {},
   "outputs": [
    {
     "data": {
      "text/plain": [
       "df_working: org.apache.spark.sql.DataFrame = [Price: double, MethodOfSale: int ... 11 more fields]\n"
      ]
     },
     "execution_count": 9,
     "metadata": {},
     "output_type": "execute_result"
    }
   ],
   "source": [
    "//cast categorical values to Ints\n",
    "//Not strictly needed with the one hot encoding later\n",
    "df_working = df_working.withColumn(\"PropertyType\",col(\"PropertyType\").cast(\"Int\"))\n",
    "    .withColumn(\"MethodOfSale\",col(\"MethodOfSale\").cast(\"Int\"))"
   ]
  },
  {
   "cell_type": "code",
   "execution_count": 10,
   "metadata": {},
   "outputs": [
    {
     "data": {
      "text/plain": [
       "df_working: org.apache.spark.sql.DataFrame = [Price: double, MethodOfSale: int ... 11 more fields]\n"
      ]
     },
     "execution_count": 10,
     "metadata": {},
     "output_type": "execute_result"
    }
   ],
   "source": [
    "// make first letter of suburb upper case\n",
    "df_working= df_working.withColumn(\"Suburb\", initcap(col(\"Suburb\")))"
   ]
  },
  {
   "cell_type": "code",
   "execution_count": 11,
   "metadata": {},
   "outputs": [
    {
     "data": {
      "text/plain": [
       "df_working: org.apache.spark.sql.DataFrame = [Price: double, MethodOfSale: int ... 12 more fields]\n"
      ]
     },
     "execution_count": 11,
     "metadata": {},
     "output_type": "execute_result"
    }
   ],
   "source": [
    "//split address on Street name and Suffix\n",
    "df_working = df_working.withColumn(\"StreetName\",split(col(\"Address\"),\" \").getItem(1)).\n",
    "    withColumn(\"StreetSuffix\",split(col(\"Address\"),\" \").getItem(2)).drop(\"Address\")"
   ]
  },
  {
   "cell_type": "code",
   "execution_count": 12,
   "metadata": {},
   "outputs": [
    {
     "data": {
      "text/plain": [
       "df_working: org.apache.spark.sql.DataFrame = [Price: double, MethodOfSale: int ... 12 more fields]\n",
       "df_working: org.apache.spark.sql.DataFrame = [Price: double, MethodOfSale: int ... 12 more fields]\n"
      ]
     },
     "execution_count": 12,
     "metadata": {},
     "output_type": "execute_result"
    }
   ],
   "source": [
    "//fix \"The Parade, The *** adddresses\"\n",
    "df_working = df_working.withColumn(\"StreetName\",\n",
    "when(col(\"StreetName\").like(\"The\"), concat(lit(\"The \"),col(\"StreetSuffix\")))\n",
    ".otherwise(col(\"StreetName\")))\n",
    "\n",
    "//remove the street suffix\n",
    "df_working = df_working.withColumn(\"StreetSuffix\",\n",
    "when(col(\"StreetName\").contains(\"The\"), lit(\"\"))\n",
    ".otherwise(col(\"StreetSuffix\")))"
   ]
  },
  {
   "cell_type": "code",
   "execution_count": 13,
   "metadata": {},
   "outputs": [
    {
     "data": {
      "text/plain": [
       "df_working: org.apache.spark.sql.DataFrame = [Price: double, MethodOfSale: int ... 11 more fields]\n"
      ]
     },
     "execution_count": 13,
     "metadata": {},
     "output_type": "execute_result"
    }
   ],
   "source": [
    "//Rebuild street name from cleaned tokens\n",
    "//this is approach was due to the legacy code we already had tokenizing the address so i just rejoined them\n",
    "//one could write a regex replace to remove the street numbers unit numbers etc. bu i know these columns are clean\n",
    "df_working = df_working.withColumn(\"StreetName\", concat(col(\"StreetName\"), lit(\" \"),col(\"StreetSuffix\"))).drop(\"StreetSuffix\")"
   ]
  },
  {
   "cell_type": "code",
   "execution_count": 14,
   "metadata": {},
   "outputs": [
    {
     "data": {
      "text/plain": [
       "df_working: org.apache.spark.sql.DataFrame = [Price: double, MethodOfSale: int ... 11 more fields]\n"
      ]
     },
     "execution_count": 14,
     "metadata": {},
     "output_type": "execute_result"
    }
   ],
   "source": [
    "// make first letter of Street upper case\n",
    "df_working= df_working.withColumn(\"StreetName\", initcap(col(\"StreetName\")))"
   ]
  },
  {
   "cell_type": "code",
   "execution_count": 15,
   "metadata": {},
   "outputs": [
    {
     "data": {
      "text/plain": [
       "df_working: org.apache.spark.sql.DataFrame = [Price: double, MethodOfSale: int ... 11 more fields]\n"
      ]
     },
     "execution_count": 15,
     "metadata": {},
     "output_type": "execute_result"
    }
   ],
   "source": [
    "//drop all properties with land area less than 12 sqm \n",
    "df_working = df_working.filter(!($\"Landsize\"<12))"
   ]
  },
  {
   "cell_type": "code",
   "execution_count": 16,
   "metadata": {},
   "outputs": [
    {
     "data": {
      "text/plain": [
       "df_working: org.apache.spark.sql.DataFrame = [Price: double, MethodOfSale: int ... 11 more fields]\n"
      ]
     },
     "execution_count": 16,
     "metadata": {},
     "output_type": "execute_result"
    }
   ],
   "source": [
    "//drop rows where type = h and landsize < 50 sqm\n",
    "df_working = df_working.filter(!($\"Landsize\"<50 && $\"PropertyType\"===1))"
   ]
  },
  {
   "cell_type": "code",
   "execution_count": 17,
   "metadata": {},
   "outputs": [
    {
     "data": {
      "text/plain": [
       "df_not_null: org.apache.spark.sql.DataFrame = [Price: double, MethodOfSale: int ... 11 more fields]\n"
      ]
     },
     "execution_count": 17,
     "metadata": {},
     "output_type": "execute_result"
    }
   ],
   "source": [
    "val df_not_null = df_working.na.drop()"
   ]
  },
  {
   "cell_type": "code",
   "execution_count": 18,
   "metadata": {},
   "outputs": [
    {
     "name": "stdout",
     "output_type": "stream",
     "text": [
      "root\n",
      " |-- Price: double (nullable = true)\n",
      " |-- MethodOfSale: integer (nullable = true)\n",
      " |-- PropertyType: integer (nullable = true)\n",
      " |-- DistanceFromCBD: double (nullable = true)\n",
      " |-- Rooms: integer (nullable = true)\n",
      " |-- Bathroom: integer (nullable = true)\n",
      " |-- Car: integer (nullable = true)\n",
      " |-- Landsize: double (nullable = true)\n",
      " |-- Latitude: double (nullable = true)\n",
      " |-- Longtitude: double (nullable = true)\n",
      " |-- Suburb: string (nullable = true)\n",
      " |-- Date: string (nullable = true)\n",
      " |-- StreetName: string (nullable = true)\n",
      "\n"
     ]
    }
   ],
   "source": [
    "df_not_null.printSchema()"
   ]
  },
  {
   "cell_type": "code",
   "execution_count": 19,
   "metadata": {},
   "outputs": [
    {
     "name": "stdout",
     "output_type": "stream",
     "text": [
      "20/06/07 13:17:13 INFO fs.TrashPolicyDefault: Namenode trash configuration: Deletion interval = 0 minutes, Emptier interval = 0 minutes.\n",
      "\n",
      "\n",
      "Deleted /tmp/output\n",
      "\n",
      "\n"
     ]
    }
   ],
   "source": [
    "! hadoop fs -rm -R /tmp/output\n",
    "! hadoop fs -mkdir -p /tmp/output"
   ]
  },
  {
   "cell_type": "code",
   "execution_count": 20,
   "metadata": {},
   "outputs": [
    {
     "data": {
      "text/plain": [
       "df_output: Unit = ()\n"
      ]
     },
     "execution_count": 20,
     "metadata": {},
     "output_type": "execute_result"
    }
   ],
   "source": [
    "//this coalesce and write out isn't necessary if doing e2e\n",
    "val df_output = df_not_null.coalesce(1)\n",
    "   .write\n",
    "   .format(\"csv\")\n",
    "   .option(\"header\",\"true\")\n",
    "   .mode(\"overwrite\").option(\"sep\",\",\")\n",
    "   .save(\"hdfs://localhost:9000/tmp/output\")"
   ]
  },
  {
   "cell_type": "code",
   "execution_count": 21,
   "metadata": {},
   "outputs": [],
   "source": [
    "! hadoop fs -mkdir -p /tmp/output\n",
    "! rm ./../data-clean/cleanMelbourneData.csv\n",
    "! hadoop fs -copyToLocal /tmp/output/\\*.csv ./../data-clean/cleanMelbourneData.csv"
   ]
  },
  {
   "cell_type": "markdown",
   "metadata": {},
   "source": [
    "##  <span style=\"color:red\"><em style=font-size:40px;>!</em>Assessment 2 Modelling etc. Starts from here\n"
   ]
  },
  {
   "cell_type": "markdown",
   "metadata": {},
   "source": [
    "## Import Data\n",
    "Here you have the option to just start from the outputed file from the wrangling if that has been ran before. \n",
    "Or can go e2e\n",
    "\n",
    "I think ideally we would want to move from output to a new input folder somewhere on HDFS"
   ]
  },
  {
   "cell_type": "code",
   "execution_count": 22,
   "metadata": {},
   "outputs": [
    {
     "data": {
      "text/plain": [
       "df_clean: org.apache.spark.sql.DataFrame = [Price: double, MethodOfSale: int ... 11 more fields]\n"
      ]
     },
     "execution_count": 22,
     "metadata": {},
     "output_type": "execute_result"
    }
   ],
   "source": [
    "//use the set wrangled from above\n",
    "var df_clean = df_not_null"
   ]
  },
  {
   "cell_type": "markdown",
   "metadata": {},
   "source": [
    "### Load from saved local file\n",
    "\n",
    "ctrl + / or cmd + / should can comment / uncomment selections"
   ]
  },
  {
   "cell_type": "code",
   "execution_count": 23,
   "metadata": {},
   "outputs": [],
   "source": [
    "! hadoop fs -mkdir -p  /tmp/output\n",
    "! hadoop fs -put   -p  ./../data-clean/cleanMelbourneData.csv  /tmp/output  "
   ]
  },
  {
   "cell_type": "code",
   "execution_count": 24,
   "metadata": {},
   "outputs": [
    {
     "data": {
      "text/plain": [
       "df_clean: org.apache.spark.sql.DataFrame = [Price: double, MethodOfSale: int ... 11 more fields]\n",
       "df_clean: org.apache.spark.sql.DataFrame = [Price: double, MethodOfSale: int ... 11 more fields]\n"
      ]
     },
     "execution_count": 24,
     "metadata": {},
     "output_type": "execute_result"
    }
   ],
   "source": [
    "// Load Clean Dataset into a DataFrame from HDFS after wrangling is completed\n",
    "var df_clean = spark\n",
    "    .read\n",
    "    .format(\"csv\")\n",
    "    .option(\"header\", \"true\")\n",
    "    .load(\"hdfs://localhost:9000/tmp/input/*.csv\")\n",
    "df_clean.cache()\n",
    "\n",
    "//when we use the output from the wrangle \n",
    "//this can be removed as types should be fine\n",
    "df_clean = df_clean.withColumn(\"Price\",col(\"Price\").cast(\"Double\"))\n",
    "    .withColumn(\"Rooms\",col(\"Rooms\").cast(\"Int\"))\n",
    "    .withColumn(\"DistanceFromCBD\",col(\"DistanceFromCBD\").cast(\"Double\"))\n",
    "    .withColumn(\"MethodOfSale\",col(\"MethodOfSale\").cast(\"Int\"))\n",
    "    .withColumn(\"PropertyType\",col(\"PropertyType\").cast(\"Int\"))\n",
    "    .withColumn(\"Bathroom\",col(\"Bathroom\").cast(\"Int\"))\n",
    "    .withColumn(\"Car\",col(\"Car\").cast(\"Int\"))\n",
    "    .withColumn(\"Landsize\",col(\"Landsize\").cast(\"Double\"))\n",
    "    .withColumn(\"Latitude\",col(\"Latitude\").cast(\"Double\"))\n",
    "    .withColumn(\"Longtitude\",col(\"Longtitude\").cast(\"Double\"))\n"
   ]
  },
  {
   "cell_type": "code",
   "execution_count": 25,
   "metadata": {
    "scrolled": true
   },
   "outputs": [
    {
     "name": "stdout",
     "output_type": "stream",
     "text": [
      "root\n",
      " |-- Price: double (nullable = true)\n",
      " |-- MethodOfSale: integer (nullable = true)\n",
      " |-- PropertyType: integer (nullable = true)\n",
      " |-- DistanceFromCBD: double (nullable = true)\n",
      " |-- Rooms: integer (nullable = true)\n",
      " |-- Bathroom: integer (nullable = true)\n",
      " |-- Car: integer (nullable = true)\n",
      " |-- Landsize: double (nullable = true)\n",
      " |-- Latitude: double (nullable = true)\n",
      " |-- Longtitude: double (nullable = true)\n",
      " |-- Suburb: string (nullable = true)\n",
      " |-- Date: string (nullable = true)\n",
      " |-- StreetName: string (nullable = true)\n",
      "\n"
     ]
    },
    {
     "data": {
      "text/plain": [
       "res1: Long = 15728\n"
      ]
     },
     "execution_count": 25,
     "metadata": {},
     "output_type": "execute_result"
    }
   ],
   "source": [
    "//debug check file load\n",
    "df_clean.cache()\n",
    "df_clean.printSchema()\n",
    "df_clean.count()"
   ]
  },
  {
   "cell_type": "markdown",
   "metadata": {},
   "source": [
    " ### Check Spark Parameters"
   ]
  },
  {
   "cell_type": "code",
   "execution_count": 26,
   "metadata": {},
   "outputs": [
    {
     "data": {
      "text/plain": [
       "import org.apache.spark.sql.SparkSession\n",
       "import org.apache.spark.{SparkConf, SparkContext}\n",
       "cs: org.apache.spark.SparkConf = org.apache.spark.SparkConf@73482db5\n",
       "res2: String =\n",
       "spark.app.id=local-1591535816132\n",
       "spark.app.name=spylon-kernel\n",
       "spark.driver.host=a56a95a92af2\n",
       "spark.driver.port=40185\n",
       "spark.executor.id=driver\n",
       "spark.master=local[*]\n",
       "spark.rdd.compress=True\n",
       "spark.repl.class.outputDir=/tmp/tmpebateiix\n",
       "spark.repl.class.uri=spark://a56a95a92af2:40185/classes\n",
       "spark.serializer.objectStreamReset=100\n",
       "spark.submit.deployMode=client\n",
       "spark.ui.showConsoleProgress=true\n"
      ]
     },
     "execution_count": 26,
     "metadata": {},
     "output_type": "execute_result"
    }
   ],
   "source": [
    "import org.apache.spark.sql.SparkSession\n",
    "import org.apache.spark.{SparkConf,SparkContext}\n",
    "\n",
    "// Set log level to ERROR (less verbose)\n",
    "sc.setLogLevel(\"WARN\")\n",
    "val cs = spark.sparkContext.getConf\n",
    "sc.getConf.toDebugString\n",
    "\n"
   ]
  },
  {
   "cell_type": "markdown",
   "metadata": {},
   "source": [
    "### Construct vectors from attributes\n",
    "#### Transform Sale Date into a numeric value"
   ]
  },
  {
   "cell_type": "code",
   "execution_count": 27,
   "metadata": {
    "scrolled": true
   },
   "outputs": [
    {
     "data": {
      "text/plain": [
       "df_clean: org.apache.spark.sql.DataFrame = [Price: double, MethodOfSale: int ... 11 more fields]\n"
      ]
     },
     "execution_count": 27,
     "metadata": {},
     "output_type": "execute_result"
    }
   ],
   "source": [
    "df_clean = df_clean.withColumn(\"Date\",unix_timestamp($\"Date\", \"dd/mm/yyyy\"))"
   ]
  },
  {
   "cell_type": "code",
   "execution_count": 65,
   "metadata": {
    "scrolled": true
   },
   "outputs": [
    {
     "data": {
      "text/plain": [
       "import org.apache.spark.ml.feature.{FeatureHasher, StandardScaler, OneHotEncoder, VectorAssembler}\n",
       "import org.apache.spark.ml.feature.OneHotEncoderEstimator\n",
       "import org.apache.spark.ml.feature.StringIndexer\n",
       "import org.apache.spark.ml.feature.VectorIndexer\n",
       "import org.apache.spark.ml.linalg.Vectors\n",
       "featureColumnNames: Array[String] = Array(MethodOfSale, PropertyType, DistanceFromCBD, Rooms, Bathroom, Car, Landsize, Latitude, Longtitude, SuburbIndex, Date, StreetNameIndex)\n",
       "categoricalFeatureColumnNames: Array[String] = Array(MethodOfSale, PropertyType, SuburbIndex, StreetNameIndex)\n",
       "EncodedCategoricalFeatureColumnNames: Array[String] = Array(MethodOfSalecategoryVec1, PropertyTypecategoryVec2, DistanceFromCBD, Rooms, Bathroom, Car, Landsize, Latitude, Longtitude, SuburbIndexcategoryVec3, Date..."
      ]
     },
     "execution_count": 65,
     "metadata": {},
     "output_type": "execute_result"
    }
   ],
   "source": [
    "import org.apache.spark.ml.feature.{FeatureHasher,StandardScaler,OneHotEncoder,VectorAssembler}\n",
    "import org.apache.spark.ml.feature.OneHotEncoderEstimator\n",
    "import org.apache.spark.ml.feature.StringIndexer\n",
    "import org.apache.spark.ml.feature.VectorIndexer\n",
    "import org.apache.spark.ml.linalg.Vectors\n",
    "\n",
    "\n",
    "//set the feature names\n",
    "val featureColumnNames= Array(\"MethodOfSale\",\n",
    "            \"PropertyType\",\n",
    "            \"DistanceFromCBD\",\n",
    "            \"Rooms\",\n",
    "            \"Bathroom\",\n",
    "            \"Car\",\n",
    "            \"Landsize\",\n",
    "            \"Latitude\",\n",
    "            \"Longtitude\",\n",
    "            \"SuburbIndex\",\n",
    "            \"Date\",\n",
    "            \"StreetNameIndex\")\n",
    "\n",
    "//set the categorical names\n",
    "val categoricalFeatureColumnNames= Array(\"MethodOfSale\",\n",
    "            \"PropertyType\",\n",
    "            \"SuburbIndex\",\n",
    "            \"StreetNameIndex\")\n",
    "\n",
    "//set the categorical names after encoding\n",
    "//used by the assembler\n",
    "val EncodedCategoricalFeatureColumnNames = Array(\"MethodOfSalecategoryVec1\",\n",
    "            \"PropertyTypecategoryVec2\",\n",
    "            \"DistanceFromCBD\",\n",
    "            \"Rooms\",\n",
    "            \"Bathroom\",\n",
    "            \"Car\",\n",
    "            \"Landsize\",\n",
    "            \"Latitude\",\n",
    "            \"Longtitude\",\n",
    "            \"SuburbIndexcategoryVec3\",\n",
    "            \"Date\",\n",
    "            \"StreetNameIndexSuburbIndexcategoryVec4\")\n",
    "\n",
    "\n",
    "//define feature hasher for Linear Regressoin\n",
    "val featureHasher = new FeatureHasher()\n",
    "    .setInputCols(featureColumnNames)\n",
    "    .setCategoricalCols(categoricalFeatureColumnNames)\n",
    "    .setOutputCol(\"hashedFeatures\")\n",
    "\n",
    "\n",
    "//define string indexers\n",
    "val suburbIndexer = new StringIndexer()\n",
    "    .setInputCol(\"Suburb\")\n",
    "    .setOutputCol(\"SuburbIndex\")\n",
    "    .setHandleInvalid(\"keep\")\n",
    "\n",
    "val streetNameIndexer = new StringIndexer()\n",
    "    .setInputCol(\"StreetName\")\n",
    "    .setOutputCol(\"StreetNameIndex\")\n",
    "    .setHandleInvalid(\"keep\")\n",
    "\n",
    "\n",
    "//define assmebler\n",
    "val assembler = new VectorAssembler()\n",
    "    .setInputCols(EncodedCategoricalFeatureColumnNames)\n",
    "    .setOutputCol(\"features\")\n",
    "\n",
    "//define indexer \n",
    "val indexer = new VectorIndexer()\n",
    "    .setInputCol(\"features\")\n",
    "    .setOutputCol(\"indexedFeatures\")\n",
    "    .setMaxCategories(1298) //number of distinct streetnames\n",
    "    .setHandleInvalid(\"keep\")\n",
    "\n",
    "// one hot encoder\n",
    "val allEncoder = new OneHotEncoderEstimator()\n",
    "  .setInputCols(Array(\"MethodOfSale\",\n",
    "                      \"PropertyType\",\n",
    "                      \"SuburbIndex\",\n",
    "                      \"StreetNameIndex\"))\n",
    "  .setOutputCols(Array(\"MethodOfSalecategoryVec1\",\n",
    "                       \"PropertyTypecategoryVec2\",\n",
    "                       \"SuburbIndexcategoryVec3\",\n",
    "                       \"StreetNameIndexSuburbIndexcategoryVec4\"))\n",
    "\n",
    "\n",
    "//define scaler \n",
    "val scaler = new StandardScaler()\n",
    "      .setInputCol(\"features\")\n",
    "      .setOutputCol(\"scaledFeatures\")\n",
    "      .setWithStd(true).setWithMean(true)"
   ]
  },
  {
   "cell_type": "markdown",
   "metadata": {},
   "source": [
    "### Apply Log transformation to price"
   ]
  },
  {
   "cell_type": "code",
   "execution_count": 29,
   "metadata": {},
   "outputs": [
    {
     "data": {
      "text/plain": [
       "df_clean: org.apache.spark.sql.DataFrame = [Price: double, MethodOfSale: int ... 12 more fields]\n"
      ]
     },
     "execution_count": 29,
     "metadata": {},
     "output_type": "execute_result"
    }
   ],
   "source": [
    "df_clean = df_clean.withColumn(\"loggedPrice\", log($\"Price\").cast(\"Double\"))"
   ]
  },
  {
   "cell_type": "code",
   "execution_count": 30,
   "metadata": {},
   "outputs": [
    {
     "name": "stdout",
     "output_type": "stream",
     "text": [
      "+------------------+\n",
      "|       loggedPrice|\n",
      "+------------------+\n",
      "|14.207552645740298|\n",
      "|13.849911984681606|\n",
      "|14.197365800433305|\n",
      "|13.652991628466498|\n",
      "+------------------+\n",
      "only showing top 4 rows\n",
      "\n"
     ]
    }
   ],
   "source": [
    "df_clean.select(\"loggedPrice\").show(4)"
   ]
  },
  {
   "cell_type": "code",
   "execution_count": 31,
   "metadata": {},
   "outputs": [
    {
     "name": "stdout",
     "output_type": "stream",
     "text": [
      "+---------+------------------+\n",
      "|    Price|      PriceAntilog|\n",
      "+---------+------------------+\n",
      "|1480000.0|1480000.0000000007|\n",
      "|1035000.0|1034999.9999999997|\n",
      "|1465000.0|1465000.0000000005|\n",
      "| 850000.0| 849999.9999999994|\n",
      "|1600000.0| 1600000.000000001|\n",
      "| 941000.0| 940999.9999999994|\n",
      "|1876000.0|1876000.0000000012|\n",
      "|1636000.0| 1635999.999999999|\n",
      "|1097000.0|1096999.9999999995|\n",
      "|1350000.0|1350000.0000000002|\n",
      "+---------+------------------+\n",
      "only showing top 10 rows\n",
      "\n"
     ]
    }
   ],
   "source": [
    "//check the antilog - introduces a slight rounding error\n",
    "//could fix in future\n",
    "df_clean.withColumn(\"PriceAntilog\", exp((col(\"loggedPrice\")))).select(\"Price\",\"PriceAntilog\").show(10)"
   ]
  },
  {
   "cell_type": "markdown",
   "metadata": {},
   "source": [
    "### Split Data into a Training and a Testing Set"
   ]
  },
  {
   "cell_type": "code",
   "execution_count": 32,
   "metadata": {},
   "outputs": [],
   "source": [
    "df_clean.toDF.createOrReplaceTempView(\"df_py_clean\")"
   ]
  },
  {
   "cell_type": "code",
   "execution_count": 33,
   "metadata": {},
   "outputs": [
    {
     "name": "stdout",
     "output_type": "stream",
     "text": [
      "+---------+------------+------------+---------------+-----+--------+---+--------+--------+----------+----------+----------+-------------+------------------+\n",
      "|    Price|MethodOfSale|PropertyType|DistanceFromCBD|Rooms|Bathroom|Car|Landsize|Latitude|Longtitude|    Suburb|      Date|   StreetName|       loggedPrice|\n",
      "+---------+------------+------------+---------------+-----+--------+---+--------+--------+----------+----------+----------+-------------+------------------+\n",
      "|1480000.0|           1|           1|            2.5|    2|       1|  1|   202.0|-37.7996|  144.9984|Abbotsford|1451779920|    Turner St|14.207552645740298|\n",
      "|1035000.0|           1|           1|            2.5|    2|       1|  0|   156.0|-37.8079|  144.9934|Abbotsford|1451865720| Bloomburg St|13.849911984681606|\n",
      "|1465000.0|           2|           1|            2.5|    3|       2|  0|   134.0|-37.8093|  144.9944|Abbotsford|1483488180|   Charles St|14.197365800433305|\n",
      "| 850000.0|           3|           1|            2.5|    3|       2|  1|    94.0|-37.7969|  144.9969|Abbotsford|1483488180|Federation La|13.652991628466498|\n",
      "|1600000.0|           6|           1|            2.5|    4|       1|  2|   120.0|-37.8072|  144.9941|Abbotsford|1451865960|      Park St| 14.28551418721001|\n",
      "+---------+------------+------------+---------------+-----+--------+---+--------+--------+----------+----------+----------+-------------+------------------+\n",
      "only showing top 5 rows\n",
      "\n"
     ]
    }
   ],
   "source": [
    "%%python\n",
    "df_clean_p = spark.sql(\"select * from df_py_clean\")\n",
    "df_clean_p.show(5)"
   ]
  },
  {
   "cell_type": "code",
   "execution_count": 34,
   "metadata": {},
   "outputs": [
    {
     "name": "stdout",
     "output_type": "stream",
     "text": [
      "Requirement already satisfied: matplotlib in /usr/local/lib/python3.6/dist-packages (3.2.1)\n",
      "\n",
      "\n",
      "Requirement already satisfied: pyparsing!=2.0.4,!=2.1.2,!=2.1.6,>=2.0.1 in /usr/local/lib/python3.6/dist-packages (from matplotlib) (2.4.7)\n",
      "\n",
      "\n",
      "Requirement already satisfied: python-dateutil>=2.1 in /usr/local/lib/python3.6/dist-packages (from matplotlib) (2.8.1)\n",
      "\n",
      "\n",
      "Requirement already satisfied: numpy>=1.11 in /usr/local/lib/python3.6/dist-packages (from matplotlib) (1.18.5)\n",
      "\n",
      "\n",
      "Requirement already satisfied: kiwisolver>=1.0.1 in /usr/local/lib/python3.6/dist-packages (from matplotlib) (1.2.0)\n",
      "\n",
      "\n",
      "Requirement already satisfied: cycler>=0.10 in /usr/local/lib/python3.6/dist-packages (from matplotlib) (0.10.0)\n",
      "\n",
      "\n",
      "Requirement already satisfied: six>=1.5 in /usr/lib/python3/dist-packages (from python-dateutil>=2.1->matplotlib) (1.11.0)\n",
      "\n",
      "\u001b[33mWARNING: You are using pip version 20.1; however, version 20.1.1 is available.\n",
      "You should consider upgrading via the '/usr/bin/python3 -m pip install --upgrade pip' command.\u001b[0m\n",
      "\n",
      "Requirement already satisfied: pandas in /usr/local/lib/python3.6/dist-packages (1.0.4)\n",
      "\n",
      "\n",
      "Requirement already satisfied: pytz>=2017.2 in /usr/local/lib/python3.6/dist-packages (from pandas) (2020.1)\n",
      "\n",
      "\n",
      "Requirement already satisfied: python-dateutil>=2.6.1 in /usr/local/lib/python3.6/dist-packages (from pandas) (2.8.1)\n",
      "\n",
      "\n",
      "Requirement already satisfied: numpy>=1.13.3 in /usr/local/lib/python3.6/dist-packages (from pandas) (1.18.5)\n",
      "\n",
      "\n",
      "Requirement already satisfied: six>=1.5 in /usr/lib/python3/dist-packages (from python-dateutil>=2.6.1->pandas) (1.11.0)\n",
      "\n",
      "\u001b[33mWARNING: You are using pip version 20.1; however, version 20.1.1 is available.\n",
      "You should consider upgrading via the '/usr/bin/python3 -m pip install --upgrade pip' command.\u001b[0m\n",
      "\n"
     ]
    }
   ],
   "source": [
    "! pip install matplotlib\n",
    "! pip install pandas"
   ]
  },
  {
   "cell_type": "code",
   "execution_count": 35,
   "metadata": {},
   "outputs": [
    {
     "data": {
      "application/javascript": [
       "/* Put everything inside the global mpl namespace */\n",
       "window.mpl = {};\n",
       "\n",
       "\n",
       "mpl.get_websocket_type = function() {\n",
       "    if (typeof(WebSocket) !== 'undefined') {\n",
       "        return WebSocket;\n",
       "    } else if (typeof(MozWebSocket) !== 'undefined') {\n",
       "        return MozWebSocket;\n",
       "    } else {\n",
       "        alert('Your browser does not have WebSocket support. ' +\n",
       "              'Please try Chrome, Safari or Firefox ≥ 6. ' +\n",
       "              'Firefox 4 and 5 are also supported but you ' +\n",
       "              'have to enable WebSockets in about:config.');\n",
       "    };\n",
       "}\n",
       "\n",
       "mpl.figure = function(figure_id, websocket, ondownload, parent_element) {\n",
       "    this.id = figure_id;\n",
       "\n",
       "    this.ws = websocket;\n",
       "\n",
       "    this.supports_binary = (this.ws.binaryType != undefined);\n",
       "\n",
       "    if (!this.supports_binary) {\n",
       "        var warnings = document.getElementById(\"mpl-warnings\");\n",
       "        if (warnings) {\n",
       "            warnings.style.display = 'block';\n",
       "            warnings.textContent = (\n",
       "                \"This browser does not support binary websocket messages. \" +\n",
       "                    \"Performance may be slow.\");\n",
       "        }\n",
       "    }\n",
       "\n",
       "    this.imageObj = new Image();\n",
       "\n",
       "    this.context = undefined;\n",
       "    this.message = undefined;\n",
       "    this.canvas = undefined;\n",
       "    this.rubberband_canvas = undefined;\n",
       "    this.rubberband_context = undefined;\n",
       "    this.format_dropdown = undefined;\n",
       "\n",
       "    this.image_mode = 'full';\n",
       "\n",
       "    this.root = $('<div/>');\n",
       "    this._root_extra_style(this.root)\n",
       "    this.root.attr('style', 'display: inline-block');\n",
       "\n",
       "    $(parent_element).append(this.root);\n",
       "\n",
       "    this._init_header(this);\n",
       "    this._init_canvas(this);\n",
       "    this._init_toolbar(this);\n",
       "\n",
       "    var fig = this;\n",
       "\n",
       "    this.waiting = false;\n",
       "\n",
       "    this.ws.onopen =  function () {\n",
       "            fig.send_message(\"supports_binary\", {value: fig.supports_binary});\n",
       "            fig.send_message(\"send_image_mode\", {});\n",
       "            if (mpl.ratio != 1) {\n",
       "                fig.send_message(\"set_dpi_ratio\", {'dpi_ratio': mpl.ratio});\n",
       "            }\n",
       "            fig.send_message(\"refresh\", {});\n",
       "        }\n",
       "\n",
       "    this.imageObj.onload = function() {\n",
       "            if (fig.image_mode == 'full') {\n",
       "                // Full images could contain transparency (where diff images\n",
       "                // almost always do), so we need to clear the canvas so that\n",
       "                // there is no ghosting.\n",
       "                fig.context.clearRect(0, 0, fig.canvas.width, fig.canvas.height);\n",
       "            }\n",
       "            fig.context.drawImage(fig.imageObj, 0, 0);\n",
       "        };\n",
       "\n",
       "    this.imageObj.onunload = function() {\n",
       "        fig.ws.close();\n",
       "    }\n",
       "\n",
       "    this.ws.onmessage = this._make_on_message_function(this);\n",
       "\n",
       "    this.ondownload = ondownload;\n",
       "}\n",
       "\n",
       "mpl.figure.prototype._init_header = function() {\n",
       "    var titlebar = $(\n",
       "        '<div class=\"ui-dialog-titlebar ui-widget-header ui-corner-all ' +\n",
       "        'ui-helper-clearfix\"/>');\n",
       "    var titletext = $(\n",
       "        '<div class=\"ui-dialog-title\" style=\"width: 100%; ' +\n",
       "        'text-align: center; padding: 3px;\"/>');\n",
       "    titlebar.append(titletext)\n",
       "    this.root.append(titlebar);\n",
       "    this.header = titletext[0];\n",
       "}\n",
       "\n",
       "\n",
       "\n",
       "mpl.figure.prototype._canvas_extra_style = function(canvas_div) {\n",
       "\n",
       "}\n",
       "\n",
       "\n",
       "mpl.figure.prototype._root_extra_style = function(canvas_div) {\n",
       "\n",
       "}\n",
       "\n",
       "mpl.figure.prototype._init_canvas = function() {\n",
       "    var fig = this;\n",
       "\n",
       "    var canvas_div = $('<div/>');\n",
       "\n",
       "    canvas_div.attr('style', 'position: relative; clear: both; outline: 0');\n",
       "\n",
       "    function canvas_keyboard_event(event) {\n",
       "        return fig.key_event(event, event['data']);\n",
       "    }\n",
       "\n",
       "    canvas_div.keydown('key_press', canvas_keyboard_event);\n",
       "    canvas_div.keyup('key_release', canvas_keyboard_event);\n",
       "    this.canvas_div = canvas_div\n",
       "    this._canvas_extra_style(canvas_div)\n",
       "    this.root.append(canvas_div);\n",
       "\n",
       "    var canvas = $('<canvas/>');\n",
       "    canvas.addClass('mpl-canvas');\n",
       "    canvas.attr('style', \"left: 0; top: 0; z-index: 0; outline: 0\")\n",
       "\n",
       "    this.canvas = canvas[0];\n",
       "    this.context = canvas[0].getContext(\"2d\");\n",
       "\n",
       "    var backingStore = this.context.backingStorePixelRatio ||\n",
       "\tthis.context.webkitBackingStorePixelRatio ||\n",
       "\tthis.context.mozBackingStorePixelRatio ||\n",
       "\tthis.context.msBackingStorePixelRatio ||\n",
       "\tthis.context.oBackingStorePixelRatio ||\n",
       "\tthis.context.backingStorePixelRatio || 1;\n",
       "\n",
       "    mpl.ratio = (window.devicePixelRatio || 1) / backingStore;\n",
       "\n",
       "    var rubberband = $('<canvas/>');\n",
       "    rubberband.attr('style', \"position: absolute; left: 0; top: 0; z-index: 1;\")\n",
       "\n",
       "    var pass_mouse_events = true;\n",
       "\n",
       "    canvas_div.resizable({\n",
       "        start: function(event, ui) {\n",
       "            pass_mouse_events = false;\n",
       "        },\n",
       "        resize: function(event, ui) {\n",
       "            fig.request_resize(ui.size.width, ui.size.height);\n",
       "        },\n",
       "        stop: function(event, ui) {\n",
       "            pass_mouse_events = true;\n",
       "            fig.request_resize(ui.size.width, ui.size.height);\n",
       "        },\n",
       "    });\n",
       "\n",
       "    function mouse_event_fn(event) {\n",
       "        if (pass_mouse_events)\n",
       "            return fig.mouse_event(event, event['data']);\n",
       "    }\n",
       "\n",
       "    rubberband.mousedown('button_press', mouse_event_fn);\n",
       "    rubberband.mouseup('button_release', mouse_event_fn);\n",
       "    // Throttle sequential mouse events to 1 every 20ms.\n",
       "    rubberband.mousemove('motion_notify', mouse_event_fn);\n",
       "\n",
       "    rubberband.mouseenter('figure_enter', mouse_event_fn);\n",
       "    rubberband.mouseleave('figure_leave', mouse_event_fn);\n",
       "\n",
       "    canvas_div.on(\"wheel\", function (event) {\n",
       "        event = event.originalEvent;\n",
       "        event['data'] = 'scroll'\n",
       "        if (event.deltaY < 0) {\n",
       "            event.step = 1;\n",
       "        } else {\n",
       "            event.step = -1;\n",
       "        }\n",
       "        mouse_event_fn(event);\n",
       "    });\n",
       "\n",
       "    canvas_div.append(canvas);\n",
       "    canvas_div.append(rubberband);\n",
       "\n",
       "    this.rubberband = rubberband;\n",
       "    this.rubberband_canvas = rubberband[0];\n",
       "    this.rubberband_context = rubberband[0].getContext(\"2d\");\n",
       "    this.rubberband_context.strokeStyle = \"#000000\";\n",
       "\n",
       "    this._resize_canvas = function(width, height) {\n",
       "        // Keep the size of the canvas, canvas container, and rubber band\n",
       "        // canvas in synch.\n",
       "        canvas_div.css('width', width)\n",
       "        canvas_div.css('height', height)\n",
       "\n",
       "        canvas.attr('width', width * mpl.ratio);\n",
       "        canvas.attr('height', height * mpl.ratio);\n",
       "        canvas.attr('style', 'width: ' + width + 'px; height: ' + height + 'px;');\n",
       "\n",
       "        rubberband.attr('width', width);\n",
       "        rubberband.attr('height', height);\n",
       "    }\n",
       "\n",
       "    // Set the figure to an initial 600x600px, this will subsequently be updated\n",
       "    // upon first draw.\n",
       "    this._resize_canvas(600, 600);\n",
       "\n",
       "    // Disable right mouse context menu.\n",
       "    $(this.rubberband_canvas).bind(\"contextmenu\",function(e){\n",
       "        return false;\n",
       "    });\n",
       "\n",
       "    function set_focus () {\n",
       "        canvas.focus();\n",
       "        canvas_div.focus();\n",
       "    }\n",
       "\n",
       "    window.setTimeout(set_focus, 100);\n",
       "}\n",
       "\n",
       "mpl.figure.prototype._init_toolbar = function() {\n",
       "    var fig = this;\n",
       "\n",
       "    var nav_element = $('<div/>');\n",
       "    nav_element.attr('style', 'width: 100%');\n",
       "    this.root.append(nav_element);\n",
       "\n",
       "    // Define a callback function for later on.\n",
       "    function toolbar_event(event) {\n",
       "        return fig.toolbar_button_onclick(event['data']);\n",
       "    }\n",
       "    function toolbar_mouse_event(event) {\n",
       "        return fig.toolbar_button_onmouseover(event['data']);\n",
       "    }\n",
       "\n",
       "    for(var toolbar_ind in mpl.toolbar_items) {\n",
       "        var name = mpl.toolbar_items[toolbar_ind][0];\n",
       "        var tooltip = mpl.toolbar_items[toolbar_ind][1];\n",
       "        var image = mpl.toolbar_items[toolbar_ind][2];\n",
       "        var method_name = mpl.toolbar_items[toolbar_ind][3];\n",
       "\n",
       "        if (!name) {\n",
       "            // put a spacer in here.\n",
       "            continue;\n",
       "        }\n",
       "        var button = $('<button/>');\n",
       "        button.addClass('ui-button ui-widget ui-state-default ui-corner-all ' +\n",
       "                        'ui-button-icon-only');\n",
       "        button.attr('role', 'button');\n",
       "        button.attr('aria-disabled', 'false');\n",
       "        button.click(method_name, toolbar_event);\n",
       "        button.mouseover(tooltip, toolbar_mouse_event);\n",
       "\n",
       "        var icon_img = $('<span/>');\n",
       "        icon_img.addClass('ui-button-icon-primary ui-icon');\n",
       "        icon_img.addClass(image);\n",
       "        icon_img.addClass('ui-corner-all');\n",
       "\n",
       "        var tooltip_span = $('<span/>');\n",
       "        tooltip_span.addClass('ui-button-text');\n",
       "        tooltip_span.html(tooltip);\n",
       "\n",
       "        button.append(icon_img);\n",
       "        button.append(tooltip_span);\n",
       "\n",
       "        nav_element.append(button);\n",
       "    }\n",
       "\n",
       "    var fmt_picker_span = $('<span/>');\n",
       "\n",
       "    var fmt_picker = $('<select/>');\n",
       "    fmt_picker.addClass('mpl-toolbar-option ui-widget ui-widget-content');\n",
       "    fmt_picker_span.append(fmt_picker);\n",
       "    nav_element.append(fmt_picker_span);\n",
       "    this.format_dropdown = fmt_picker[0];\n",
       "\n",
       "    for (var ind in mpl.extensions) {\n",
       "        var fmt = mpl.extensions[ind];\n",
       "        var option = $(\n",
       "            '<option/>', {selected: fmt === mpl.default_extension}).html(fmt);\n",
       "        fmt_picker.append(option);\n",
       "    }\n",
       "\n",
       "    // Add hover states to the ui-buttons\n",
       "    $( \".ui-button\" ).hover(\n",
       "        function() { $(this).addClass(\"ui-state-hover\");},\n",
       "        function() { $(this).removeClass(\"ui-state-hover\");}\n",
       "    );\n",
       "\n",
       "    var status_bar = $('<span class=\"mpl-message\"/>');\n",
       "    nav_element.append(status_bar);\n",
       "    this.message = status_bar[0];\n",
       "}\n",
       "\n",
       "mpl.figure.prototype.request_resize = function(x_pixels, y_pixels) {\n",
       "    // Request matplotlib to resize the figure. Matplotlib will then trigger a resize in the client,\n",
       "    // which will in turn request a refresh of the image.\n",
       "    this.send_message('resize', {'width': x_pixels, 'height': y_pixels});\n",
       "}\n",
       "\n",
       "mpl.figure.prototype.send_message = function(type, properties) {\n",
       "    properties['type'] = type;\n",
       "    properties['figure_id'] = this.id;\n",
       "    this.ws.send(JSON.stringify(properties));\n",
       "}\n",
       "\n",
       "mpl.figure.prototype.send_draw_message = function() {\n",
       "    if (!this.waiting) {\n",
       "        this.waiting = true;\n",
       "        this.ws.send(JSON.stringify({type: \"draw\", figure_id: this.id}));\n",
       "    }\n",
       "}\n",
       "\n",
       "\n",
       "mpl.figure.prototype.handle_save = function(fig, msg) {\n",
       "    var format_dropdown = fig.format_dropdown;\n",
       "    var format = format_dropdown.options[format_dropdown.selectedIndex].value;\n",
       "    fig.ondownload(fig, format);\n",
       "}\n",
       "\n",
       "\n",
       "mpl.figure.prototype.handle_resize = function(fig, msg) {\n",
       "    var size = msg['size'];\n",
       "    if (size[0] != fig.canvas.width || size[1] != fig.canvas.height) {\n",
       "        fig._resize_canvas(size[0], size[1]);\n",
       "        fig.send_message(\"refresh\", {});\n",
       "    };\n",
       "}\n",
       "\n",
       "mpl.figure.prototype.handle_rubberband = function(fig, msg) {\n",
       "    var x0 = msg['x0'] / mpl.ratio;\n",
       "    var y0 = (fig.canvas.height - msg['y0']) / mpl.ratio;\n",
       "    var x1 = msg['x1'] / mpl.ratio;\n",
       "    var y1 = (fig.canvas.height - msg['y1']) / mpl.ratio;\n",
       "    x0 = Math.floor(x0) + 0.5;\n",
       "    y0 = Math.floor(y0) + 0.5;\n",
       "    x1 = Math.floor(x1) + 0.5;\n",
       "    y1 = Math.floor(y1) + 0.5;\n",
       "    var min_x = Math.min(x0, x1);\n",
       "    var min_y = Math.min(y0, y1);\n",
       "    var width = Math.abs(x1 - x0);\n",
       "    var height = Math.abs(y1 - y0);\n",
       "\n",
       "    fig.rubberband_context.clearRect(\n",
       "        0, 0, fig.canvas.width / mpl.ratio, fig.canvas.height / mpl.ratio);\n",
       "\n",
       "    fig.rubberband_context.strokeRect(min_x, min_y, width, height);\n",
       "}\n",
       "\n",
       "mpl.figure.prototype.handle_figure_label = function(fig, msg) {\n",
       "    // Updates the figure title.\n",
       "    fig.header.textContent = msg['label'];\n",
       "}\n",
       "\n",
       "mpl.figure.prototype.handle_cursor = function(fig, msg) {\n",
       "    var cursor = msg['cursor'];\n",
       "    switch(cursor)\n",
       "    {\n",
       "    case 0:\n",
       "        cursor = 'pointer';\n",
       "        break;\n",
       "    case 1:\n",
       "        cursor = 'default';\n",
       "        break;\n",
       "    case 2:\n",
       "        cursor = 'crosshair';\n",
       "        break;\n",
       "    case 3:\n",
       "        cursor = 'move';\n",
       "        break;\n",
       "    }\n",
       "    fig.rubberband_canvas.style.cursor = cursor;\n",
       "}\n",
       "\n",
       "mpl.figure.prototype.handle_message = function(fig, msg) {\n",
       "    fig.message.textContent = msg['message'];\n",
       "}\n",
       "\n",
       "mpl.figure.prototype.handle_draw = function(fig, msg) {\n",
       "    // Request the server to send over a new figure.\n",
       "    fig.send_draw_message();\n",
       "}\n",
       "\n",
       "mpl.figure.prototype.handle_image_mode = function(fig, msg) {\n",
       "    fig.image_mode = msg['mode'];\n",
       "}\n",
       "\n",
       "mpl.figure.prototype.updated_canvas_event = function() {\n",
       "    // Called whenever the canvas gets updated.\n",
       "    this.send_message(\"ack\", {});\n",
       "}\n",
       "\n",
       "// A function to construct a web socket function for onmessage handling.\n",
       "// Called in the figure constructor.\n",
       "mpl.figure.prototype._make_on_message_function = function(fig) {\n",
       "    return function socket_on_message(evt) {\n",
       "        if (evt.data instanceof Blob) {\n",
       "            /* FIXME: We get \"Resource interpreted as Image but\n",
       "             * transferred with MIME type text/plain:\" errors on\n",
       "             * Chrome.  But how to set the MIME type?  It doesn't seem\n",
       "             * to be part of the websocket stream */\n",
       "            evt.data.type = \"image/png\";\n",
       "\n",
       "            /* Free the memory for the previous frames */\n",
       "            if (fig.imageObj.src) {\n",
       "                (window.URL || window.webkitURL).revokeObjectURL(\n",
       "                    fig.imageObj.src);\n",
       "            }\n",
       "\n",
       "            fig.imageObj.src = (window.URL || window.webkitURL).createObjectURL(\n",
       "                evt.data);\n",
       "            fig.updated_canvas_event();\n",
       "            fig.waiting = false;\n",
       "            return;\n",
       "        }\n",
       "        else if (typeof evt.data === 'string' && evt.data.slice(0, 21) == \"data:image/png;base64\") {\n",
       "            fig.imageObj.src = evt.data;\n",
       "            fig.updated_canvas_event();\n",
       "            fig.waiting = false;\n",
       "            return;\n",
       "        }\n",
       "\n",
       "        var msg = JSON.parse(evt.data);\n",
       "        var msg_type = msg['type'];\n",
       "\n",
       "        // Call the  \"handle_{type}\" callback, which takes\n",
       "        // the figure and JSON message as its only arguments.\n",
       "        try {\n",
       "            var callback = fig[\"handle_\" + msg_type];\n",
       "        } catch (e) {\n",
       "            console.log(\"No handler for the '\" + msg_type + \"' message type: \", msg);\n",
       "            return;\n",
       "        }\n",
       "\n",
       "        if (callback) {\n",
       "            try {\n",
       "                // console.log(\"Handling '\" + msg_type + \"' message: \", msg);\n",
       "                callback(fig, msg);\n",
       "            } catch (e) {\n",
       "                console.log(\"Exception inside the 'handler_\" + msg_type + \"' callback:\", e, e.stack, msg);\n",
       "            }\n",
       "        }\n",
       "    };\n",
       "}\n",
       "\n",
       "// from http://stackoverflow.com/questions/1114465/getting-mouse-location-in-canvas\n",
       "mpl.findpos = function(e) {\n",
       "    //this section is from http://www.quirksmode.org/js/events_properties.html\n",
       "    var targ;\n",
       "    if (!e)\n",
       "        e = window.event;\n",
       "    if (e.target)\n",
       "        targ = e.target;\n",
       "    else if (e.srcElement)\n",
       "        targ = e.srcElement;\n",
       "    if (targ.nodeType == 3) // defeat Safari bug\n",
       "        targ = targ.parentNode;\n",
       "\n",
       "    // jQuery normalizes the pageX and pageY\n",
       "    // pageX,Y are the mouse positions relative to the document\n",
       "    // offset() returns the position of the element relative to the document\n",
       "    var x = e.pageX - $(targ).offset().left;\n",
       "    var y = e.pageY - $(targ).offset().top;\n",
       "\n",
       "    return {\"x\": x, \"y\": y};\n",
       "};\n",
       "\n",
       "/*\n",
       " * return a copy of an object with only non-object keys\n",
       " * we need this to avoid circular references\n",
       " * http://stackoverflow.com/a/24161582/3208463\n",
       " */\n",
       "function simpleKeys (original) {\n",
       "  return Object.keys(original).reduce(function (obj, key) {\n",
       "    if (typeof original[key] !== 'object')\n",
       "        obj[key] = original[key]\n",
       "    return obj;\n",
       "  }, {});\n",
       "}\n",
       "\n",
       "mpl.figure.prototype.mouse_event = function(event, name) {\n",
       "    var canvas_pos = mpl.findpos(event)\n",
       "\n",
       "    if (name === 'button_press')\n",
       "    {\n",
       "        this.canvas.focus();\n",
       "        this.canvas_div.focus();\n",
       "    }\n",
       "\n",
       "    var x = canvas_pos.x * mpl.ratio;\n",
       "    var y = canvas_pos.y * mpl.ratio;\n",
       "\n",
       "    this.send_message(name, {x: x, y: y, button: event.button,\n",
       "                             step: event.step,\n",
       "                             guiEvent: simpleKeys(event)});\n",
       "\n",
       "    /* This prevents the web browser from automatically changing to\n",
       "     * the text insertion cursor when the button is pressed.  We want\n",
       "     * to control all of the cursor setting manually through the\n",
       "     * 'cursor' event from matplotlib */\n",
       "    event.preventDefault();\n",
       "    return false;\n",
       "}\n",
       "\n",
       "mpl.figure.prototype._key_event_extra = function(event, name) {\n",
       "    // Handle any extra behaviour associated with a key event\n",
       "}\n",
       "\n",
       "mpl.figure.prototype.key_event = function(event, name) {\n",
       "\n",
       "    // Prevent repeat events\n",
       "    if (name == 'key_press')\n",
       "    {\n",
       "        if (event.which === this._key)\n",
       "            return;\n",
       "        else\n",
       "            this._key = event.which;\n",
       "    }\n",
       "    if (name == 'key_release')\n",
       "        this._key = null;\n",
       "\n",
       "    var value = '';\n",
       "    if (event.ctrlKey && event.which != 17)\n",
       "        value += \"ctrl+\";\n",
       "    if (event.altKey && event.which != 18)\n",
       "        value += \"alt+\";\n",
       "    if (event.shiftKey && event.which != 16)\n",
       "        value += \"shift+\";\n",
       "\n",
       "    value += 'k';\n",
       "    value += event.which.toString();\n",
       "\n",
       "    this._key_event_extra(event, name);\n",
       "\n",
       "    this.send_message(name, {key: value,\n",
       "                             guiEvent: simpleKeys(event)});\n",
       "    return false;\n",
       "}\n",
       "\n",
       "mpl.figure.prototype.toolbar_button_onclick = function(name) {\n",
       "    if (name == 'download') {\n",
       "        this.handle_save(this, null);\n",
       "    } else {\n",
       "        this.send_message(\"toolbar_button\", {name: name});\n",
       "    }\n",
       "};\n",
       "\n",
       "mpl.figure.prototype.toolbar_button_onmouseover = function(tooltip) {\n",
       "    this.message.textContent = tooltip;\n",
       "};\n",
       "mpl.toolbar_items = [[\"Home\", \"Reset original view\", \"fa fa-home icon-home\", \"home\"], [\"Back\", \"Back to previous view\", \"fa fa-arrow-left icon-arrow-left\", \"back\"], [\"Forward\", \"Forward to next view\", \"fa fa-arrow-right icon-arrow-right\", \"forward\"], [\"\", \"\", \"\", \"\"], [\"Pan\", \"Pan axes with left mouse, zoom with right\", \"fa fa-arrows icon-move\", \"pan\"], [\"Zoom\", \"Zoom to rectangle\", \"fa fa-square-o icon-check-empty\", \"zoom\"], [\"\", \"\", \"\", \"\"], [\"Download\", \"Download plot\", \"fa fa-floppy-o icon-save\", \"download\"]];\n",
       "\n",
       "mpl.extensions = [\"eps\", \"pdf\", \"png\", \"ps\", \"raw\", \"svg\"];\n",
       "\n",
       "mpl.default_extension = \"png\";var comm_websocket_adapter = function(comm) {\n",
       "    // Create a \"websocket\"-like object which calls the given IPython comm\n",
       "    // object with the appropriate methods. Currently this is a non binary\n",
       "    // socket, so there is still some room for performance tuning.\n",
       "    var ws = {};\n",
       "\n",
       "    ws.close = function() {\n",
       "        comm.close()\n",
       "    };\n",
       "    ws.send = function(m) {\n",
       "        //console.log('sending', m);\n",
       "        comm.send(m);\n",
       "    };\n",
       "    // Register the callback with on_msg.\n",
       "    comm.on_msg(function(msg) {\n",
       "        //console.log('receiving', msg['content']['data'], msg);\n",
       "        // Pass the mpl event to the overridden (by mpl) onmessage function.\n",
       "        ws.onmessage(msg['content']['data'])\n",
       "    });\n",
       "    return ws;\n",
       "}\n",
       "\n",
       "mpl.mpl_figure_comm = function(comm, msg) {\n",
       "    // This is the function which gets called when the mpl process\n",
       "    // starts-up an IPython Comm through the \"matplotlib\" channel.\n",
       "\n",
       "    var id = msg.content.data.id;\n",
       "    // Get hold of the div created by the display call when the Comm\n",
       "    // socket was opened in Python.\n",
       "    var element = $(\"#\" + id);\n",
       "    var ws_proxy = comm_websocket_adapter(comm)\n",
       "\n",
       "    function ondownload(figure, format) {\n",
       "        window.open(figure.imageObj.src);\n",
       "    }\n",
       "\n",
       "    var fig = new mpl.figure(id, ws_proxy,\n",
       "                           ondownload,\n",
       "                           element.get(0));\n",
       "\n",
       "    // Call onopen now - mpl needs it, as it is assuming we've passed it a real\n",
       "    // web socket which is closed, not our websocket->open comm proxy.\n",
       "    ws_proxy.onopen();\n",
       "\n",
       "    fig.parent_element = element.get(0);\n",
       "    fig.cell_info = mpl.find_output_cell(\"<div id='\" + id + \"'></div>\");\n",
       "    if (!fig.cell_info) {\n",
       "        console.error(\"Failed to find cell for figure\", id, fig);\n",
       "        return;\n",
       "    }\n",
       "\n",
       "    var output_index = fig.cell_info[2]\n",
       "    var cell = fig.cell_info[0];\n",
       "\n",
       "};\n",
       "\n",
       "mpl.figure.prototype.handle_close = function(fig, msg) {\n",
       "    var width = fig.canvas.width/mpl.ratio\n",
       "    fig.root.unbind('remove')\n",
       "\n",
       "    // Update the output cell to use the data from the current canvas.\n",
       "    fig.push_to_output();\n",
       "    var dataURL = fig.canvas.toDataURL();\n",
       "    // Re-enable the keyboard manager in IPython - without this line, in FF,\n",
       "    // the notebook keyboard shortcuts fail.\n",
       "    IPython.keyboard_manager.enable()\n",
       "    $(fig.parent_element).html('<img src=\"' + dataURL + '\" width=\"' + width + '\">');\n",
       "    fig.close_ws(fig, msg);\n",
       "}\n",
       "\n",
       "mpl.figure.prototype.close_ws = function(fig, msg){\n",
       "    fig.send_message('closing', msg);\n",
       "    // fig.ws.close()\n",
       "}\n",
       "\n",
       "mpl.figure.prototype.push_to_output = function(remove_interactive) {\n",
       "    // Turn the data on the canvas into data in the output cell.\n",
       "    var width = this.canvas.width/mpl.ratio\n",
       "    var dataURL = this.canvas.toDataURL();\n",
       "    this.cell_info[1]['text/html'] = '<img src=\"' + dataURL + '\" width=\"' + width + '\">';\n",
       "}\n",
       "\n",
       "mpl.figure.prototype.updated_canvas_event = function() {\n",
       "    // Tell IPython that the notebook contents must change.\n",
       "    IPython.notebook.set_dirty(true);\n",
       "    this.send_message(\"ack\", {});\n",
       "    var fig = this;\n",
       "    // Wait a second, then push the new image to the DOM so\n",
       "    // that it is saved nicely (might be nice to debounce this).\n",
       "    setTimeout(function () { fig.push_to_output() }, 1000);\n",
       "}\n",
       "\n",
       "mpl.figure.prototype._init_toolbar = function() {\n",
       "    var fig = this;\n",
       "\n",
       "    var nav_element = $('<div/>');\n",
       "    nav_element.attr('style', 'width: 100%');\n",
       "    this.root.append(nav_element);\n",
       "\n",
       "    // Define a callback function for later on.\n",
       "    function toolbar_event(event) {\n",
       "        return fig.toolbar_button_onclick(event['data']);\n",
       "    }\n",
       "    function toolbar_mouse_event(event) {\n",
       "        return fig.toolbar_button_onmouseover(event['data']);\n",
       "    }\n",
       "\n",
       "    for(var toolbar_ind in mpl.toolbar_items){\n",
       "        var name = mpl.toolbar_items[toolbar_ind][0];\n",
       "        var tooltip = mpl.toolbar_items[toolbar_ind][1];\n",
       "        var image = mpl.toolbar_items[toolbar_ind][2];\n",
       "        var method_name = mpl.toolbar_items[toolbar_ind][3];\n",
       "\n",
       "        if (!name) { continue; };\n",
       "\n",
       "        var button = $('<button class=\"btn btn-default\" href=\"#\" title=\"' + name + '\"><i class=\"fa ' + image + ' fa-lg\"></i></button>');\n",
       "        button.click(method_name, toolbar_event);\n",
       "        button.mouseover(tooltip, toolbar_mouse_event);\n",
       "        nav_element.append(button);\n",
       "    }\n",
       "\n",
       "    // Add the status bar.\n",
       "    var status_bar = $('<span class=\"mpl-message\" style=\"text-align:right; float: right;\"/>');\n",
       "    nav_element.append(status_bar);\n",
       "    this.message = status_bar[0];\n",
       "\n",
       "    // Add the close button to the window.\n",
       "    var buttongrp = $('<div class=\"btn-group inline pull-right\"></div>');\n",
       "    var button = $('<button class=\"btn btn-mini btn-primary\" href=\"#\" title=\"Stop Interaction\"><i class=\"fa fa-power-off icon-remove icon-large\"></i></button>');\n",
       "    button.click(function (evt) { fig.handle_close(fig, {}); } );\n",
       "    button.mouseover('Stop Interaction', toolbar_mouse_event);\n",
       "    buttongrp.append(button);\n",
       "    var titlebar = this.root.find($('.ui-dialog-titlebar'));\n",
       "    titlebar.prepend(buttongrp);\n",
       "}\n",
       "\n",
       "mpl.figure.prototype._root_extra_style = function(el){\n",
       "    var fig = this\n",
       "    el.on(\"remove\", function(){\n",
       "\tfig.close_ws(fig, {});\n",
       "    });\n",
       "}\n",
       "\n",
       "mpl.figure.prototype._canvas_extra_style = function(el){\n",
       "    // this is important to make the div 'focusable\n",
       "    el.attr('tabindex', 0)\n",
       "    // reach out to IPython and tell the keyboard manager to turn it's self\n",
       "    // off when our div gets focus\n",
       "\n",
       "    // location in version 3\n",
       "    if (IPython.notebook.keyboard_manager) {\n",
       "        IPython.notebook.keyboard_manager.register_events(el);\n",
       "    }\n",
       "    else {\n",
       "        // location in version 2\n",
       "        IPython.keyboard_manager.register_events(el);\n",
       "    }\n",
       "\n",
       "}\n",
       "\n",
       "mpl.figure.prototype._key_event_extra = function(event, name) {\n",
       "    var manager = IPython.notebook.keyboard_manager;\n",
       "    if (!manager)\n",
       "        manager = IPython.keyboard_manager;\n",
       "\n",
       "    // Check for shift+enter\n",
       "    if (event.shiftKey && event.which == 13) {\n",
       "        this.canvas_div.blur();\n",
       "        // select the cell after this one\n",
       "        var index = IPython.notebook.find_cell_index(this.cell_info[0]);\n",
       "        IPython.notebook.select(index + 1);\n",
       "    }\n",
       "}\n",
       "\n",
       "mpl.figure.prototype.handle_save = function(fig, msg) {\n",
       "    fig.ondownload(fig, null);\n",
       "}\n",
       "\n",
       "\n",
       "mpl.find_output_cell = function(html_output) {\n",
       "    // Return the cell and output element which can be found *uniquely* in the notebook.\n",
       "    // Note - this is a bit hacky, but it is done because the \"notebook_saving.Notebook\"\n",
       "    // IPython event is triggered only after the cells have been serialised, which for\n",
       "    // our purposes (turning an active figure into a static one), is too late.\n",
       "    var cells = IPython.notebook.get_cells();\n",
       "    var ncells = cells.length;\n",
       "    for (var i=0; i<ncells; i++) {\n",
       "        var cell = cells[i];\n",
       "        if (cell.cell_type === 'code'){\n",
       "            for (var j=0; j<cell.output_area.outputs.length; j++) {\n",
       "                var data = cell.output_area.outputs[j];\n",
       "                if (data.data) {\n",
       "                    // IPython >= 3 moved mimebundle to data attribute of output\n",
       "                    data = data.data;\n",
       "                }\n",
       "                if (data['text/html'] == html_output) {\n",
       "                    return [cell, data, j];\n",
       "                }\n",
       "            }\n",
       "        }\n",
       "    }\n",
       "}\n",
       "\n",
       "// Register the function which deals with the matplotlib target/channel.\n",
       "// The kernel may be null if the page has been refreshed.\n",
       "if (IPython.notebook.kernel != null) {\n",
       "    IPython.notebook.kernel.comm_manager.register_target('matplotlib', mpl.mpl_figure_comm);\n",
       "}\n"
      ],
      "text/plain": [
       "<IPython.core.display.Javascript object>"
      ]
     },
     "metadata": {},
     "output_type": "display_data"
    },
    {
     "data": {
      "text/html": [
       "<img src=\"data:image/png;base64,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\" width=\"766\">"
      ],
      "text/plain": [
       "<IPython.core.display.HTML object>"
      ]
     },
     "metadata": {},
     "output_type": "display_data"
    }
   ],
   "source": [
    "%matplotlib notebook \n",
    "%%python\n",
    "\n",
    "import pandas as pd\n",
    "import matplotlib.pyplot as plt\n",
    "\n",
    "df_clean_pd = df_clean_p.toPandas() \n",
    "\n",
    "# 1 -House, 2- Unit, 3 -Townhouse\n",
    "ax = df_clean_pd.groupby(\"PropertyType\")[\"Price\"].nunique().plot(kind=\"bar\")\n",
    "ax.set_ylabel(\"Price in (mln)\")\n",
    "ax.set_xlabel(\"Propetry Type\")\n",
    "plt.grid()\n",
    "plt.title(\"Price Distribution by Property Type\")\n",
    "plt.show()"
   ]
  },
  {
   "cell_type": "code",
   "execution_count": 36,
   "metadata": {},
   "outputs": [
    {
     "data": {
      "text/plain": [
       "import org.apache.spark.sql.DataFrame\n",
       "import org.apache.spark.sql.functions._\n",
       "train_test_split: (data: org.apache.spark.sql.DataFrame)(org.apache.spark.sql.Dataset[org.apache.spark.sql.Row], org.apache.spark.sql.Dataset[org.apache.spark.sql.Row])\n",
       "train: org.apache.spark.sql.Dataset[org.apache.spark.sql.Row] = [Price: double, MethodOfSale: int ... 12 more fields]\n",
       "test: org.apache.spark.sql.Dataset[org.apache.spark.sql.Row] = [Price: double, MethodOfSale: int ... 12 more fields]\n",
       "res6: test.type = [Price: double, MethodOfSale: int ... 12 more fields]\n"
      ]
     },
     "execution_count": 36,
     "metadata": {},
     "output_type": "execute_result"
    }
   ],
   "source": [
    "//define function to take a data frame and set training and test samples\n",
    "//stratafied sample on propertype type\n",
    "//original random sample may have been skewing the model\n",
    "//used propertype as the prices vary wildly based on the type \n",
    "\n",
    "//idea is split into training and testing - then stratify the training set so its balanced.\n",
    "\n",
    "//https://maet3608.github.io/nuts-ml/tutorial/split_stratify.html#id1\n",
    "\n",
    "import org.apache.spark.sql.DataFrame\n",
    "import org.apache.spark.sql.functions._\n",
    "\n",
    "\n",
    "def train_test_split(data: DataFrame) = {\n",
    "    \n",
    "    //split into 80% 20%\n",
    "    var Array(train, test) = data.randomSplit(Array(0.8, 0.2), seed = 30)\n",
    "    \n",
    "    //Stratified sampler\n",
    "    //want to over sample the other propertyTypes\n",
    "    val fractions = Map(1 -> 0.8,2 ->0.9, 3 -> 0.9)\n",
    "\n",
    "     train = train.stat.sampleBy(\"PropertyType\",fractions,36L)\n",
    "    \n",
    "    (train, test)\n",
    "}\n",
    "\n",
    "val (train, test) = train_test_split(df_clean)\n",
    "\n",
    "train.cache()\n",
    "test.cache()\n",
    "\n",
    "//debug sample counts\n",
    "//println(train.count())\n",
    "//println(test.count())"
   ]
  },
  {
   "cell_type": "markdown",
   "metadata": {},
   "source": [
    "### 1. Apply Linear Regression\n"
   ]
  },
  {
   "cell_type": "markdown",
   "metadata": {},
   "source": [
    "###  Useful Specs for this section \n",
    "\n",
    "Feel free to move to references i guess\n",
    "\n",
    "https://spark.apache.org/docs/latest/api/scala/index.html#org.apache.spark.ml.regression.LinearRegression\n",
    "\n",
    "https://spark.apache.org/docs/latest/api/scala/index.html#org.apache.spark.ml.tuning.ParamGridBuilder\n",
    "\n",
    "https://spark.apache.org/docs/latest/api/scala/index.html#org.apache.spark.ml.feature.FeatureHasher\n",
    "\n",
    "https://spark.apache.org/docs/latest/ml-classification-regression.html#linear-regression\n",
    "\n",
    "https://spark.apache.org/docs/latest/mllib-evaluation-metrics.html#regression-model-evaluation\n",
    "\n",
    "https://spark.apache.org/docs/1.6.2/api/java/org/apache/spark/sql/DataFrameStatFunctions.html#sampleBy(java.lang.String,%20java.util.Map,%20long)\n"
   ]
  },
  {
   "cell_type": "code",
   "execution_count": 37,
   "metadata": {},
   "outputs": [
    {
     "data": {
      "text/plain": [
       "import org.apache.spark.ml.regression.LinearRegression\n",
       "import org.apache.spark.ml.evaluation.RegressionEvaluator\n",
       "import org.apache.spark.ml.tuning.{CrossValidator, ParamGridBuilder}\n",
       "import org.apache.spark.ml.param.ParamMap\n",
       "import org.apache.spark.ml.Pipeline\n"
      ]
     },
     "execution_count": 37,
     "metadata": {},
     "output_type": "execute_result"
    }
   ],
   "source": [
    "//imports for linear regression code in one spot\n",
    "//to be moved with other imports to start\n",
    "import org.apache.spark.ml.regression.LinearRegression\n",
    "import org.apache.spark.ml.evaluation.RegressionEvaluator\n",
    "import org.apache.spark.ml.tuning.{CrossValidator, ParamGridBuilder}\n",
    "import org.apache.spark.ml.param.ParamMap\n",
    "import org.apache.spark.ml.Pipeline"
   ]
  },
  {
   "cell_type": "code",
   "execution_count": 38,
   "metadata": {},
   "outputs": [
    {
     "data": {
      "text/plain": [
       "getExecutionTime: (start: Long, end: Long)Long\n"
      ]
     },
     "execution_count": 38,
     "metadata": {},
     "output_type": "execute_result"
    }
   ],
   "source": [
    "//function for getting execution time from start and end times\n",
    "def getExecutionTime(start: Long , end : Long) = {\n",
    "    val duration:Long = (end - start) / 1000\n",
    "    (duration)\n",
    "}"
   ]
  },
  {
   "cell_type": "markdown",
   "metadata": {},
   "source": [
    "### Run first LR model with default Params\n",
    "Assess the training set"
   ]
  },
  {
   "cell_type": "code",
   "execution_count": 39,
   "metadata": {},
   "outputs": [
    {
     "name": "stdout",
     "output_type": "stream",
     "text": [
      "2020-06-07 13:17:41,260 WARN  [Thread-4] netlib.BLAS (BLAS.java:<clinit>(61)) - Failed to load implementation from: com.github.fommil.netlib.NativeSystemBLAS\n",
      "2020-06-07 13:17:41,261 WARN  [Thread-4] netlib.BLAS (BLAS.java:<clinit>(61)) - Failed to load implementation from: com.github.fommil.netlib.NativeRefBLAS\n"
     ]
    },
    {
     "name": "stdout",
     "output_type": "stream",
     "text": [
      "Coefficients: (262144,[19,133,179,380,382,490,745,756,830,849,885,926,961,990,1077,1087,1192,1201,1225,1256,1295,1395,1405,1499,1565,1607,1690,1696,1760,1822,1872,1929,1977,2070,2106,2117,2124,2187,2256,2504,2667,2713,2848,2888,2889,2897,2957,2969,2976,2978,3046,3047,3050,3059,3204,3277,3278,3291,3322,3343,3360,3387,3397,3416,3417,3473,3490,3535,3582,3612,3708,3792,3822,3872,3994,4008,4066,4080,4110,4135,4156,4173,4246,4278,4330,4334,4372,4454,4502,4582,4822,4938,4966,4985,5113,5290,5326,5372,5582,5605,5670,5706,5722,5740,5881,6038,6228,6238,6311,6335,6367,6368,6384,6466,6471,6475,6522,6601,6649,6655,6754,6757,6871,6892,7093,7135,7181,7305,7310,7325,7353,7367,7440,7599,7610,7659,7673,7707,7718,7787,7971,7978,8038,8147,8183,8213,8243,8257,8281,8439,8451,8482,8507,8515,8593,8671,8681,8686,8712,8730,8738,8746,8785,8796,8846,8847,8928,8997,9010,9080,9089,9105,9185,9214,9229,9255,9348,9352,9392,9437,9626,9634,9663,9731,9750,9924,9957,10175,10184,10270,10271,10274,10289,10348,10393,10399,10427,10515,10581,10598,10610,10625,10750,10769,10799,11189,11347,11365,11374,11396,11421,11462,11562,11573,11588,11592,11623,11642,11673,11723,11755,11770,11784,11806,11839,11864,11938,11968,12005,12038,12184,12340,12365,12387,12452,12467,12542,12556,12739,12741,12805,12867,12906,12934,12984,13023,13151,13220,13353,13475,13625,13653,13717,13724,13749,13935,13941,14035,14056,14146,14173,14189,14242,14256,14257,14416,14440,14492,14500,14511,14600,14639,14682,14877,14957,14992,15014,15093,15098,15228,15245,15255,15288,15299,15360,15433,15439,15596,15628,15637,15708,15780,15813,15854,15893,15948,15981,16033,16055,16140,16234,16274,16319,16320,16476,16563,16675,16684,16700,16716,16775,16936,17140,17151,17193,17207,17276,17395,17461,17531,17617,17702,17758,17761,17875,17971,18097,18202,18207,18233,18266,18299,18303,18321,18334,18424,18454,18466,18479,18482,18581,18596,18631,18634,18739,18742,19140,19173,19235,19285,19318,19428,19513,19750,19756,19808,19810,19878,19883,19918,20021,20024,20066,20092,20108,20116,20226,20433,20453,20519,20688,20735,20838,20870,20889,20911,20934,20982,21058,21112,21167,21268,21304,21555,21593,21656,21699,21710,21811,21814,21841,21871,21935,21981,22028,22029,22077,22183,22195,22201,22240,22282,22352,22394,22427,22442,22469,22470,22496,22556,22617,22737,22750,22776,22791,22846,22882,22905,22930,22934,22948,22960,22968,23054,23137,23139,23226,23306,23357,23575,23585,23641,23649,23700,23913,24009,24027,24064,24097,24131,24146,24258,24397,24401,24428,24456,24466,24605,24622,24659,24717,24866,24876,24916,24961,25003,25023,25222,25236,25273,25357,25396,25407,25428,25587,25595,25607,25614,25706,25738,25917,25940,25949,25974,25993,26007,26022,26024,26026,26058,26212,26221,26300,26387,26435,26459,26491,26496,26562,26571,26585,26622,26739,26768,26772,26799,26830,26874,26903,26936,26989,27072,27142,27177,27228,27292,27312,27420,27477,27511,27576,27670,27688,27710,27734,27791,27828,27866,27890,27967,27968,27984,28005,28018,28032,28084,28118,28136,28141,28233,28256,28312,28320,28321,28325,28391,28427,28486,28548,28571,28591,28600,28605,28643,28671,28675,28837,28896,28918,28923,28943,28944,28987,29002,29032,29049,29074,29116,29176,29182,29200,29290,29349,29512,29520,29527,29528,29539,29565,29639,29670,29774,29808,29851,29859,29887,30007,30056,30089,30278,30384,30448,30513,30537,30543,30545,30658,30715,30794,30802,30819,30887,30942,30943,31116,31190,31249,31392,31452,31474,31496,31528,31559,31606,31630,31658,31670,31688,31736,31783,31848,32009,32060,32088,32103,32115,32138,32167,32345,32517,32604,32664,32678,32717,32728,32750,32769,32796,32817,32930,33041,33061,33132,33152,33213,33277,33319,33384,33466,33619,33629,33642,33678,33793,33910,33953,33963,34020,34057,34107,34170,34172,34187,34201,34257,34350,34479,34500,34534,34543,34592,34748,34761,34805,34855,34876,34890,34899,34904,34907,34921,35058,35121,35179,35249,35316,35353,35374,35485,35493,35496,35535,35559,35580,35656,35771,35835,35851,36149,36163,36209,36213,36242,36365,36445,36523,36530,36561,36567,36595,36756,36771,36782,36831,36854,36859,36906,36930,36942,36951,36998,37059,37085,37106,37128,37167,37294,37329,37378,37395,37401,37402,37417,37429,37430,37540,37553,37639,37657,37777,37928,37929,37965,37969,38016,38036,38072,38176,38226,38330,38340,38361,38443,38455,38473,38495,38502,38634,38659,38809,38857,38892,38898,38900,39010,39066,39085,39086,39140,39169,39182,39275,39323,39406,39440,39445,39455,39456,39459,39521,39530,39607,39682,39703,39741,39776,39803,39844,39920,39997,40066,40147,40186,40190,40204,40329,40331,40415,40430,40452,40473,40529,40537,40605,40618,40636,40647,40789,40844,40893,40968,41058,41067,41076,41170,41265,41267,41303,41388,41493,41520,41542,41543,41547,41587,41645,41675,41676,41710,41717,41765,41821,41844,41868,41954,41955,42007,42031,42055,42101,42114,42153,42203,42233,42371,42514,42541,42587,42591,42598,42697,42733,42755,42780,42814,42818,42938,42993,43031,43068,43084,43094,43141,43162,43194,43195,43266,43314,43345,43360,43369,43495,43563,43675,43739,43740,43757,43789,43856,43922,43927,44003,44157,44167,44305,44341,44360,44409,44434,44462,44513,44515,44553,44557,44604,44652,44715,44778,44785,44820,44823,44851,44921,45012,45078,45089,45120,45205,45226,45243,45303,45571,45572,45610,45633,45638,45749,45905,45954,45964,45981,46098,46118,46146,46148,46160,46252,46265,46280,46289,46374,46438,46479,46485,46490,46504,46508,46516,46535,46594,46613,46655,46709,46722,46724,46814,46899,46924,46977,46993,47038,47051,47070,47080,47135,47143,47174,47207,47225,47240,47296,47332,47342,47352,47377,47396,47456,47523,47564,47571,47709,47757,47771,47794,47829,47888,47925,47937,47993,48003,48284,48346,48376,48508,48509,48579,48708,48733,48738,48739,48791,48824,48870,48884,48915,48922,48940,48951,48971,49055,49166,49246,49249,49278,49310,49313,49315,49411,49512,49520,49617,49702,49704,49743,49755,49794,49859,49867,49906,49961,50002,50080,50122,50136,50236,50289,50363,50464,50467,50474,50481,50530,50532,50746,50757,50775,50793,50810,50855,50949,51063,51067,51080,51121,51128,51216,51237,51250,51295,51334,51345,51391,51420,51424,51480,51584,51767,51982,52069,52176,52236,52309,52367,52400,52408,52430,52446,52466,52569,52593,52611,52624,52629,52711,52726,52801,52804,52878,52931,52935,52961,53022,53183,53311,53321,53507,53528,53586,53636,53639,53644,53658,53730,53747,53836,54056,54238,54247,54272,54277,54279,54382,54401,54420,54441,54520,54583,54659,54717,54833,54891,54960,55001,55120,55170,55243,55296,55382,55455,55558,55581,55648,55690,55714,55722,55834,55836,56000,56067,56135,56157,56167,56253,56263,56369,56370,56436,56472,56611,56680,56779,56899,57032,57122,57137,57151,57190,57195,57233,57257,57337,57349,57374,57420,57430,57519,57594,57597,57617,57646,57718,57765,57775,57854,57957,58016,58045,58057,58250,58313,58398,58510,58523,58543,58619,58756,58797,59011,59027,59203,59439,59469,59502,59542,59545,59550,59618,59626,59651,59681,59699,59711,59735,59736,59743,59872,59903,60050,60103,60215,60264,60288,60292,60317,60348,60431,60465,60563,60689,60702,60800,60840,60855,60999,61012,61062,61086,61121,61142,61192,61308,61310,61331,61337,61342,61354,61363,61381,61427,61465,61503,61556,61583,61585,61657,61823,61905,61965,62034,62035,62215,62413,62419,62476,62477,62593,62601,62617,62659,62663,62736,62785,62821,62851,62868,62902,62903,62946,62968,63030,63031,63094,63102,63133,63217,63264,63270,63332,63355,63365,63412,63482,63614,63633,63680,63797,63842,63927,64132,64189,64197,64213,64222,64230,64249,64293,64357,64407,64423,64496,64519,64552,64555,64600,64603,64619,64631,64680,64694,64745,64752,64757,64836,64843,64907,64908,64965,64982,64992,65001,65161,65240,65262,65266,65371,65412,65428,65437,65493,65521,65552,65686,65707,65889,65896,65908,65914,65933,66016,66061,66075,66137,66161,66205,66269,66312,66487,66515,66517,66547,66706,66760,66793,66868,66872,66924,66935,66945,66963,66992,67004,67052,67079,67143,67193,67318,67336,67367,67402,67457,67530,67618,67624,67713,67826,67985,68015,68171,68267,68304,68325,68347,68350,68355,68469,68479,68534,68541,68566,68746,68765,68818,68857,68893,68938,68939,68989,69025,69033,69053,69085,69219,69301,69320,69363,69394,69400,69479,69520,69627,69634,69778,69872,69922,69981,69985,70018,70030,70032,70156,70214,70413,70466,70467,70487,70561,70690,70707,70736,70775,70781,70909,70917,71040,71085,71122,71204,71224,71245,71280,71299,71327,71353,71394,71552,71585,71613,71635,71868,71915,71929,71947,71966,72046,72195,72239,72258,72288,72338,72342,72378,72455,72465,72494,72513,72541,72551,72714,72782,72791,72806,72819,72912,72955,72999,73032,73100,73111,73182,73234,73251,73322,73325,73341,73387,73571,73583,73671,73731,73755,73766,73770,73811,73812,73826,73947,73963,73964,74121,74139,74183,74201,74343,74378,74460,74517,74537,74563,74579,74591,74604,74724,74796,74801,74814,74815,74924,75001,75034,75057,75110,75115,75214,75248,75330,75353,75378,75382,75437,75443,75479,75544,75579,75595,75601,75658,75666,75668,75673,75686,75699,75702,75722,75769,75773,75846,75906,75917,75993,76007,76141,76155,76176,76181,76273,76354,76424,76427,76446,76459,76486,76509,76645,76713,76763,76765,76832,76882,76913,76985,77031,77034,77115,77152,77174,77228,77256,77268,77341,77347,77349,77422,77478,77626,77675,77722,77854,77884,77911,78182,78220,78294,78308,78318,78340,78360,78401,78472,78501,78522,78601,78612,78735,78811,78841,78849,78893,78895,78950,78966,78976,79116,79157,79165,79193,79365,79389,79538,79594,79604,79635,79646,79683,79695,79782,79804,79895,79969,80009,80049,80063,80130,80173,80186,80189,80203,80232,80250,80267,80293,80302,80322,80335,80382,80427,80439,80591,80611,80636,80653,80667,80688,80754,80942,80963,81042,81051,81105,81110,81137,81205,81216,81239,81240,81281,81387,81388,81482,81554,81665,81674,81743,81752,81825,81844,81858,81864,81960,82065,82083,82193,82228,82293,82449,82452,82543,82663,82752,82842,82858,82944,82972,83006,83022,83094,83108,83109,83112,83173,83183,83251,83264,83301,83387,83398,83451,83465,83493,83596,83619,83671,83766,83796,83825,83839,83846,83958,84001,84022,84029,84070,84142,84163,84220,84227,84336,84368,84506,84544,84581,84633,84641,84667,84699,84725,84757,84777,84816,84818,84927,85059,85061,85070,85094,85100,85143,85196,85214,85224,85270,85359,85462,85495,85538,85634,85637,85804,85841,85878,85904,85983,86006,86034,86075,86097,86132,86212,86221,86283,86294,86341,86356,86366,86463,86476,86478,86543,86715,86716,86749,86762,86783,86844,86965,87062,87129,87405,87442,87478,87514,87739,87746,87797,87822,87828,87863,87937,87971,88021,88022,88040,88123,88193,88252,88335,88432,88433,88442,88509,88649,88665,88676,88773,89071,89122,89193,89221,89265,89273,89304,89335,89340,89353,89449,89464,89487,89499,89520,89554,89589,89609,89616,89650,89651,89655,89679,89696,89709,89801,89831,89916,89928,89934,89938,89966,90010,90144,90168,90183,90201,90323,90387,90388,90418,90431,90553,90645,90742,90814,90823,90857,90877,90962,90991,90996,91019,91131,91243,91247,91254,91349,91409,91454,91557,91574,91577,91628,91736,91740,91766,91787,91823,91950,91952,91974,92003,92121,92134,92185,92223,92228,92232,92455,92466,92546,92590,92608,92718,92794,92807,92841,92893,92937,92953,93075,93095,93217,93224,93248,93259,93263,93376,93452,93456,93519,93559,93615,93718,93750,93787,93821,93828,93918,93945,94009,94011,94023,94140,94148,94177,94199,94203,94282,94311,94464,94500,94530,94733,94774,94790,94798,94878,94881,94908,94921,94936,94938,95159,95191,95205,95259,95325,95389,95460,95555,95751,95756,95993,96031,96049,96076,96101,96182,96223,96275,96286,96324,96328,96348,96351,96483,96573,96597,96622,96664,96690,96810,96815,96862,96867,96897,96906,96911,96993,97041,97060,97067,97111,97144,97166,97175,97177,97190,97200,97279,97333,97346,97450,97545,97548,97561,97604,97693,97750,97752,97810,97852,97913,98091,98101,98163,98164,98165,98188,98201,98266,98325,98383,98442,98458,98490,98500,98520,98535,98544,98549,98558,98565,98599,98605,98636,98757,98767,98771,98812,98857,98871,98891,98900,98930,99019,99020,99073,99132,99206,99273,99293,99357,99477,99479,99515,99581,99588,99598,99612,99622,99741,99905,100037,100122,100188,100290,100297,100303,100357,100360,100405,100415,100478,100524,100593,100606,100650,100667,100768,100876,100928,100979,100982,100997,101021,101114,101125,101150,101163,101194,101277,101336,101397,101644,101661,101726,101757,101765,101776,101778,101793,101822,101948,102000,102075,102104,102166,102214,102320,102399,102438,102609,102630,102647,102651,102655,102668,102679,102690,102791,102842,102864,102910,102947,103005,103007,103037,103101,103137,103233,103320,103355,103362,103392,103393,103437,103486,103530,103658,103689,103695,103696,103733,103763,103857,103864,103866,104021,104037,104051,104084,104103,104116,104140,104152,104170,104174,104239,104249,104280,104392,104403,104409,104576,104590,104644,104685,104790,104876,104937,105006,105091,105113,105306,105355,105362,105410,105425,105456,105501,105522,105595,105609,105649,105656,105666,105715,105833,105838,105848,105857,105866,106029,106060,106062,106097,106115,106161,106163,106197,106206,106269,106310,106365,106377,106401,106455,106476,106494,106500,106539,106620,106624,106634,106654,106695,106991,106994,107011,107036,107053,107081,107156,107160,107194,107204,107205,107213,107318,107385,107419,107447,107460,107482,107485,107503,107508,107556,107596,107614,107654,107680,107717,107727,107769,107824,107861,107872,107874,107929,107936,108034,108037,108058,108123,108202,108306,108341,108356,108422,108463,108676,108690,108702,108835,108868,108923,108972,109006,109025,109026,109093,109098,109099,109142,109201,109208,109250,109381,109398,109465,109488,109514,109524,109554,109566,109582,109589,109723,109840,109878,109951,110006,110025,110084,110168,110346,110369,110380,110551,110566,110575,110689,110693,110723,110737,110780,110862,110903,111010,111019,111043,111058,111113,111238,111265,111333,111339,111372,111380,111506,111521,111546,111568,111713,111766,111792,111873,111927,111961,112027,112035,112066,112089,112139,112213,112221,112294,112330,112373,112377,112414,112474,112526,112557,112600,112711,112736,112747,112771,112888,112913,113101,113122,113128,113134,113135,113196,113227,113245,113290,113312,113325,113382,113391,113417,113424,113442,113534,113616,113697,113760,113764,113767,113811,113887,113889,113964,113977,113979,113999,114021,114120,114298,114343,114415,114445,114479,114515,114540,114555,114613,114715,114727,114791,114826,114938,114975,114991,115008,115019,115058,115065,115113,115120,115156,115272,115275,115307,115327,115369,115390,115452,115461,115475,115580,115588,115635,115673,115787,115820,115828,115851,115915,115949,115962,115973,115978,116228,116331,116572,116575,116616,116622,116723,116790,116797,116821,116915,116934,117120,117129,117235,117273,117308,117346,117534,117540,117600,117638,117671,117719,117724,117726,117753,117837,117976,118024,118076,118087,118101,118112,118229,118230,118268,118286,118302,118311,118391,118396,118609,118622,118625,118655,118741,118912,118951,118986,119053,119161,119173,119187,119219,119231,119319,119383,119395,119413,119456,119503,119597,119666,119690,119748,119790,119810,119836,119890,119913,119920,119953,120013,120178,120224,120291,120306,120328,120361,120363,120446,120452,120464,120469,120530,120531,120582,120593,120594,120611,120632,120676,120752,120857,120904,120950,121002,121041,121059,121184,121199,121482,121489,121558,121570,121574,121577,121690,121767,121811,121819,121830,122068,122074,122091,122092,122100,122102,122130,122157,122205,122213,122386,122393,122510,122600,122642,122663,122720,122781,122793,122800,122802,122959,122960,123002,123054,123094,123100,123104,123113,123118,123162,123198,123229,123271,123282,123307,123359,123435,123484,123608,123611,123618,123698,123727,123741,123761,123767,123781,123885,123954,123975,124140,124149,124154,124165,124194,124205,124263,124279,124334,124342,124394,124399,124479,124513,124572,124652,124728,124730,124747,124795,124842,124902,124909,124962,125048,125106,125131,125257,125265,125277,125329,125352,125468,125546,125584,125591,125695,125720,125755,125831,126018,126023,126070,126118,126168,126205,126231,126242,126383,126413,126450,126485,126489,126503,126582,126616,126701,126764,126956,127027,127112,127162,127167,127181,127207,127213,127235,127346,127376,127388,127477,127670,127911,127921,127929,127991,128005,128044,128048,128056,128087,128096,128140,128162,128299,128316,128339,128359,128378,12"
     ]
    },
    {
     "name": "stdout",
     "output_type": "stream",
     "text": [
      "8413,128440,128475,128479,128494,128555,128584,128804,128818,128827,128889,128927,129013,129061,129071,129171,129213,129237,129268,129320,129365,129395,129438,129449,129700,129739,129769,129802,129829,129832,129878,129899,129952,130062,130098,130160,130254,130290,130316,130339,130345,130355,130360,130393,130421,130439,130449,130540,130589,130596,130629,130649,130650,130692,130705,130727,130813,130827,130923,130957,131012,131068,131163,131193,131308,131312,131412,131428,131439,131442,131464,131508,131515,131528,131538,131559,131653,131814,131878,131879,131895,131955,132014,132042,132070,132193,132224,132237,132346,132352,132354,132376,132377,132503,132686,132702,132752,132786,132856,132933,132938,132942,133044,133102,133130,133187,133236,133279,133297,133405,133416,133451,133512,133525,133536,133577,133635,133722,133729,133776,133797,133821,133872,133896,133957,134049,134058,134093,134245,134254,134342,134367,134403,134519,134546,134672,134680,134746,134758,134761,134882,134962,134982,135004,135023,135065,135127,135159,135227,135232,135272,135291,135336,135373,135387,135431,135487,135554,135563,135585,135749,135843,135930,136009,136014,136017,136061,136065,136131,136172,136313,136331,136341,136344,136394,136478,136554,136666,136781,136826,136890,136897,136975,137038,137060,137063,137079,137086,137115,137135,137167,137202,137281,137290,137314,137405,137440,137481,137522,137535,137567,137582,137609,137729,137768,137809,137817,137881,137898,138019,138128,138189,138323,138412,138467,138491,138556,138669,138684,138701,138734,138872,138891,138932,138935,138943,138971,138982,138997,139021,139029,139059,139222,139233,139242,139375,139386,139550,139587,139715,139757,139781,139793,139794,139867,139929,140085,140155,140185,140218,140225,140258,140281,140322,140348,140387,140420,140505,140512,140517,140552,140623,140632,140661,140673,140732,140744,140780,140803,140897,140971,140976,141062,141068,141194,141222,141284,141394,141456,141520,141628,141668,141671,141702,141704,141729,141809,141970,142068,142117,142158,142215,142233,142290,142300,142332,142344,142360,142406,142458,142555,142571,142606,142676,142701,142787,142874,142878,142917,142926,142956,143001,143026,143027,143050,143104,143195,143236,143299,143309,143403,143406,143409,143643,143651,143657,143685,143732,143764,143867,143880,143993,144025,144122,144141,144205,144214,144354,144491,144603,144608,144690,144694,144875,144903,144904,144937,145000,145274,145311,145348,145352,145513,145534,145605,145645,145674,145766,145962,145971,145990,146007,146032,146066,146076,146192,146193,146253,146254,146276,146293,146324,146391,146417,146495,146509,146533,146641,146668,146712,146785,146870,146933,146946,146982,147218,147235,147260,147299,147315,147346,147382,147469,147520,147629,147659,147693,147709,147737,147750,147757,147776,147831,147843,148056,148067,148076,148095,148121,148161,148196,148264,148290,148295,148354,148360,148463,148471,148552,148554,148606,148624,148647,148650,148696,148697,148707,148724,148734,148767,148795,148800,148807,148813,148830,148885,148888,148916,148991,149073,149134,149189,149261,149313,149337,149381,149387,149414,149428,149444,149559,149603,149640,149642,149658,149715,149750,149779,149873,149967,150097,150099,150144,150149,150216,150241,150256,150301,150304,150380,150474,150522,150579,150584,150591,150605,150625,150760,150784,150794,150834,150873,150943,151064,151164,151208,151275,151326,151359,151408,151411,151571,151576,151602,151615,151703,151704,151731,151852,151895,151901,151921,151938,151957,152094,152217,152296,152314,152421,152497,152498,152521,152547,152566,152571,152580,152589,152619,152665,152673,152718,152789,152813,152854,152949,152992,153009,153106,153131,153144,153210,153212,153285,153311,153334,153399,153490,153590,153628,153693,153763,153950,153977,154009,154158,154160,154425,154541,154673,154686,154796,154804,154834,154969,154998,155009,155084,155089,155112,155164,155324,155433,155461,155502,155543,155560,155574,155683,155747,155767,155815,155821,155879,155926,155928,155948,155980,156011,156015,156018,156026,156140,156229,156316,156342,156351,156390,156410,156584,156595,156683,156713,156729,156743,156770,156797,156829,156861,156877,156906,156911,156958,156975,157039,157124,157159,157203,157293,157333,157343,157447,157451,157547,157569,157679,157741,157855,157907,157964,157968,158008,158022,158039,158105,158127,158192,158212,158217,158273,158274,158510,158610,158622,158656,158665,158776,158795,158829,158967,159021,159025,159151,159245,159250,159257,159278,159312,159321,159357,159418,159429,159485,159544,159581,159591,159671,159677,159682,159717,159722,159779,159812,159860,159880,159884,159892,159961,159964,160036,160111,160182,160197,160289,160352,160408,160484,160546,160553,160568,160594,160677,160718,160729,160732,160738,160743,160756,160760,160796,160949,160951,160968,161015,161150,161181,161216,161231,161258,161298,161351,161477,161492,161495,161508,161526,161556,161564,161661,161800,161816,162023,162085,162100,162104,162300,162312,162332,162435,162495,162499,162517,162531,162618,162654,162678,162693,162751,162791,162893,162913,162936,162985,163188,163347,163439,163456,163486,163562,163592,163671,163689,163745,163780,163805,163978,164026,164054,164058,164070,164105,164138,164181,164394,164396,164414,164443,164532,164594,164634,164654,164747,164758,164771,164832,164909,164933,164939,165001,165013,165032,165237,165239,165304,165392,165402,165411,165417,165514,165531,165551,165620,165716,165770,165778,165839,165841,165857,165901,165927,166012,166013,166060,166097,166190,166193,166212,166254,166346,166392,166393,166424,166431,166456,166488,166557,166602,166604,166624,166638,166703,166706,166732,166749,166756,166883,166886,166916,166926,166955,167031,167073,167197,167328,167379,167480,167493,167604,167627,167641,167654,167710,167784,167785,167822,167831,167969,168017,168096,168260,168319,168387,168525,168551,168651,168731,168747,168773,168779,168861,168893,168915,169131,169254,169259,169265,169275,169311,169326,169352,169558,169628,169652,169667,169688,169694,169728,169733,169813,169915,170160,170244,170299,170312,170327,170329,170341,170445,170466,170581,170608,170623,170741,170758,170759,170806,170836,171002,171056,171221,171295,171299,171342,171373,171390,171394,171474,171493,171585,171613,171775,171863,171872,171975,171995,172005,172074,172108,172164,172220,172242,172282,172351,172504,172558,172577,172588,172647,172653,172772,172787,172799,172824,172854,172864,172879,172899,172926,172928,172943,172949,173026,173062,173081,173152,173234,173246,173270,173380,173419,173498,173530,173537,173553,173576,173689,173727,173768,173835,173876,173915,173925,173948,173981,174009,174016,174018,174063,174073,174190,174265,174354,174408,174412,174578,174811,174814,174855,174944,174963,175028,175043,175067,175089,175101,175184,175192,175201,175300,175354,175364,175395,175434,175489,175532,175588,175605,175607,175615,175751,175777,175796,175856,175900,175930,175959,176083,176095,176110,176173,176189,176207,176269,176270,176326,176333,176341,176372,176440,176489,176544,176551,176643,176718,176739,176764,176781,176805,176907,176913,176944,176965,176973,176990,177017,177099,177158,177246,177304,177342,177354,177370,177636,177744,177754,177833,177839,177857,177933,177957,177963,177970,178059,178061,178071,178103,178144,178214,178237,178322,178338,178390,178424,178444,178502,178547,178560,178606,178621,178660,178759,178813,178888,178894,178918,179100,179185,179343,179434,179439,179456,179483,179485,179517,179525,179667,179783,179839,179841,179935,179995,180094,180135,180138,180163,180182,180233,180268,180348,180358,180365,180386,180499,180565,180581,180637,180651,180730,180846,180887,180934,180960,180971,180996,181035,181057,181088,181145,181211,181359,181408,181572,181738,181787,181794,181796,181867,181883,182073,182183,182200,182256,182306,182386,182439,182445,182504,182553,182557,182627,182686,182697,182764,182820,182869,182898,182900,182916,182976,183006,183008,183137,183142,183156,183208,183310,183344,183406,183414,183516,183547,183595,183628,183712,183775,183777,183814,183851,183866,183943,184011,184016,184017,184083,184212,184213,184269,184270,184360,184367,184467,184590,184601,184647,184691,184707,184712,184727,184754,184763,184771,184830,184835,184842,184874,184879,184909,184946,185031,185067,185106,185110,185118,185181,185186,185276,185293,185294,185342,185350,185380,185421,185434,185469,185471,185487,185532,185627,185663,185683,185776,185818,185899,185928,185946,186012,186038,186060,186090,186102,186154,186334,186369,186423,186442,186489,186506,186613,186799,186801,186811,186903,186905,186915,187064,187065,187081,187086,187089,187101,187171,187206,187211,187235,187236,187259,187279,187339,187419,187477,187546,187598,187664,187688,187722,187724,187769,187840,187906,187948,188162,188186,188191,188192,188215,188248,188279,188292,188319,188425,188436,188611,188742,188787,188790,188806,188822,188831,188940,189057,189143,189150,189195,189243,189329,189333,189366,189391,189427,189601,189670,189682,189738,189812,189813,189860,189873,189931,189938,189967,189976,189977,189987,190068,190165,190263,190291,190315,190390,190442,190755,190825,190868,191022,191141,191150,191188,191219,191278,191329,191359,191377,191519,191600,191764,191904,191975,191976,191993,192004,192015,192023,192044,192046,192048,192080,192091,192290,192296,192365,192378,192424,192432,192483,192490,192693,192719,192828,192849,192887,192893,192969,193037,193154,193189,193200,193370,193378,193405,193407,193408,193435,193437,193522,193564,193658,193675,193682,193712,193717,193728,193742,193790,193882,193904,193914,193936,194111,194129,194140,194145,194176,194199,194207,194293,194358,194409,194476,194485,194593,194697,194761,194819,194943,194959,195051,195073,195100,195101,195165,195202,195234,195335,195388,195471,195518,195529,195562,195661,195667,195702,195727,195788,195797,195820,195890,195931,195957,195976,196009,196016,196019,196047,196139,196141,196142,196181,196240,196242,196255,196267,196272,196278,196347,196350,196399,196503,196610,196620,196668,196683,196808,196842,196889,196953,196974,197005,197056,197057,197073,197083,197127,197140,197144,197221,197237,197308,197329,197345,197355,197508,197767,197782,197838,197925,198007,198050,198144,198205,198265,198272,198282,198299,198324,198356,198363,198392,198466,198481,198549,198566,198605,198657,198687,198688,198698,198723,198777,198798,198816,198848,198859,198919,198933,198995,199014,199040,199043,199044,199205,199313,199328,199340,199388,199430,199431,199435,199502,199559,199723,199736,199757,199955,199975,200036,200104,200194,200201,200238,200242,200359,200373,200522,200606,200715,200748,200783,200941,200958,201012,201041,201064,201103,201202,201204,201214,201327,201349,201364,201498,201506,201512,201541,201553,201625,201644,201752,201814,201838,201963,202004,202027,202044,202049,202114,202149,202164,202256,202260,202264,202286,202387,202483,202514,202536,202538,202610,202676,202681,202906,202914,202933,202935,202947,202980,203179,203302,203344,203357,203390,203418,203431,203499,203509,203523,203544,203559,203568,203764,203789,203804,203834,203904,203928,204094,204118,204168,204198,204293,204305,204333,204443,204475,204480,204498,204538,204606,204612,204614,204650,204688,204713,204725,204731,204779,204863,204994,205060,205075,205101,205121,205174,205209,205302,205314,205315,205360,205372,205429,205477,205648,205653,205701,205704,205706,205934,206010,206094,206100,206139,206149,206153,206158,206225,206250,206352,206394,206516,206519,206543,206607,206677,206761,206812,206847,206865,206905,206933,206967,207006,207009,207041,207113,207149,207218,207241,207287,207301,207326,207330,207351,207360,207394,207415,207452,207476,207581,207676,207735,207737,207743,207812,207846,207952,207970,208058,208153,208200,208214,208223,208373,208465,208827,208848,208866,208946,208992,209018,209020,209088,209092,209249,209281,209336,209363,209443,209447,209498,209524,209546,209548,209581,209740,209759,209771,209819,209860,209931,210054,210102,210123,210126,210138,210178,210193,210226,210294,210340,210353,210361,210455,210507,210648,210715,210719,210993,211038,211068,211133,211165,211201,211242,211291,211327,211351,211401,211482,211543,211594,211602,211612,211729,211764,211826,211836,211852,211917,211938,211946,211965,212059,212167,212183,212232,212268,212298,212440,212501,212525,212543,212672,212739,212754,212808,212867,213017,213047,213058,213093,213130,213193,213218,213270,213441,213443,213448,213458,213575,213592,213621,213634,213693,213774,213791,213827,213838,213890,214023,214392,214486,214526,214593,214648,214652,214653,214654,214921,214940,215016,215057,215108,215139,215172,215204,215259,215285,215376,215406,215461,215543,215578,215611,215657,215674,215693,215710,215931,215941,215946,215959,216014,216093,216098,216118,216122,216166,216430,216450,216454,216557,216656,216721,216733,216745,216750,216774,216782,216799,216831,216857,216869,216875,216895,216922,216925,216942,216966,216991,216994,216995,217008,217017,217054,217169,217232,217254,217259,217284,217353,217357,217381,217472,217521,217648,217668,217673,217677,217684,217797,217824,217875,217897,217905,217961,217982,218017,218057,218116,218172,218199,218329,218361,218363,218379,218433,218503,218532,218556,218560,218590,218653,218697,218928,218938,218955,218972,219036,219106,219319,219347,219451,219515,219522,219540,219666,219678,219697,219706,219796,219814,219839,219936,219963,219966,219994,220007,220008,220054,220107,220229,220242,220246,220329,220372,220413,220473,220485,220556,220644,220679,220690,220692,220708,220709,220889,220982,221015,221107,221122,221190,221338,221340,221406,221548,221551,221627,221640,221722,221752,221753,221829,221865,221977,221989,222088,222299,222411,222470,222561,222625,222752,222789,222824,222874,223008,223038,223069,223169,223195,223314,223320,223370,223372,223379,223401,223410,223458,223585,223704,223717,223726,223737,223782,223788,223796,223797,223931,224016,224045,224079,224197,224255,224272,224286,224308,224332,224357,224421,224428,224429,224554,224567,224589,224664,224788,224797,224889,224895,224936,224955,224956,225142,225159,225210,225217,225231,225260,225277,225329,225384,225388,225421,225423,225462,225503,225504,225522,225552,225577,225706,225788,225822,225892,225993,226157,226167,226229,226233,226287,226293,226297,226397,226411,226426,226427,226482,226489,226657,226704,226714,226757,226761,226765,226775,226778,226791,226846,226933,227026,227068,227096,227150,227162,227307,227364,227450,227497,227517,227559,227574,227580,227955,227963,228031,228037,228061,228067,228125,228130,228139,228168,228198,228204,228220,228229,228250,228322,228327,228338,228413,228427,228445,228497,228516,228544,228550,228551,228595,228596,228601,228657,228660,228716,228739,228746,228800,228848,228868,229004,229017,229165,229236,229276,229280,229306,229337,229353,229360,229434,229439,229492,229524,229567,229627,229638,229642,229709,229735,229812,229822,229832,229892,229896,229904,229946,229956,230037,230064,230071,230181,230238,230239,230314,230315,230345,230354,230360,230364,230391,230398,230441,230478,230557,230671,230692,230841,230845,230916,230930,230973,231037,231038,231044,231098,231124,231146,231166,231200,231272,231347,231382,231591,231754,231892,231922,231952,231974,232016,232056,232087,232097,232101,232143,232213,232229,232248,232337,232368,232404,232423,232454,232496,232553,232588,232609,232667,232702,232730,232744,232794,232810,232863,232866,232886,232911,232959,233023,233086,233129,233132,233163,233176,233239,233270,233305,233320,233348,233359,233490,233497,233516,233541,233589,233659,233765,233783,233871,233895,233980,234056,234177,234214,234287,234293,234301,234403,234460,234524,234578,234593,234597,234664,234727,234754,235048,235051,235060,235330,235389,235520,235535,235564,235690,235691,235751,235756,235782,235914,235916,235973,236021,236031,236060,236103,236105,236218,236245,236259,236301,236337,236376,236378,236510,236515,236544,236593,236614,236637,236640,236730,236889,236942,237019,237032,237049,237057,237150,237219,237222,237223,237261,237262,237267,237279,237420,237467,237523,237637,237672,237703,237726,237781,237856,237860,237903,238058,238060,238073,238074,238151,238279,238289,238341,238372,238497,238500,238514,238517,238525,238589,238590,238659,238768,238795,238997,239179,239216,239221,239289,239294,239296,239413"
     ]
    },
    {
     "name": "stdout",
     "output_type": "stream",
     "text": [
      ",239435,239452,239505,239515,239525,239568,239576,239642,239644,239752,239754,239761,239782,239838,239931,239946,239969,240115,240172,240185,240235,240297,240382,240390,240422,240429,240457,240487,240584,240588,240616,240618,240658,240659,240665,240667,240689,240763,240844,240941,240952,241037,241050,241107,241257,241262,241325,241347,241394,241397,241450,241478,241479,241492,241524,241547,241593,241635,241711,241823,241857,241870,241977,241989,242059,242076,242122,242179,242204,242379,242417,242488,242549,242559,242569,242588,242640,242657,242716,242731,242746,242783,242787,242835,242859,242938,242992,243029,243048,243060,243123,243125,243148,243162,243315,243413,243417,243499,243537,243538,243645,243672,243731,243748,243751,243807,243952,243998,244022,244071,244100,244128,244194,244233,244296,244328,244385,244415,244451,244456,244461,244470,244472,244513,244539,244546,244571,244598,244600,244638,244652,244676,244724,244752,244766,244859,244869,244972,245081,245136,245243,245342,245448,245529,245554,245620,245629,245673,245710,245728,245735,245764,245820,245847,245875,245927,245941,245971,246004,246056,246073,246087,246096,246156,246261,246331,246404,246422,246525,246600,246601,246616,246680,246682,246683,246861,246875,246907,246931,246965,246978,247011,247062,247088,247195,247204,247271,247343,247345,247356,247360,247371,247509,247541,247551,247610,247619,247629,247684,247695,247701,247757,247814,247852,247877,248076,248216,248383,248393,248404,248426,248545,248561,248597,248624,248628,248643,248668,248731,248777,248859,248891,248913,248949,248965,249149,249166,249191,249273,249356,249380,249432,249473,249575,249602,249621,249641,249643,249676,249682,249848,249863,249971,250035,250076,250238,250325,250366,250553,250595,250660,250700,250717,250764,250797,250802,250812,250868,250881,250884,250924,250932,251112,251267,251269,251305,251345,251385,251472,251497,251517,251550,251675,251682,251684,251720,251763,251784,251819,251971,252011,252103,252130,252296,252303,252375,252456,252459,252472,252484,252508,252511,252540,252550,252620,252642,252647,252657,252767,252799,252806,252847,252930,252998,253023,253089,253098,253185,253331,253345,253374,253434,253479,253481,253497,253594,253595,253689,253746,253785,253808,253848,253888,253890,253928,253933,253963,254041,254098,254110,254147,254152,254173,254194,254200,254237,254284,254367,254454,254462,254542,254609,254627,254630,254787,254803,255107,255111,255194,255278,255349,255391,255452,255460,255469,255475,255659,255661,255686,255795,255801,255820,255829,255831,255859,255888,255917,256014,256059,256063,256111,256126,256127,256128,256173,256361,256416,256489,256574,256680,256709,256712,256735,256777,256871,256907,256910,256992,257028,257093,257229,257248,257278,257290,257374,257420,257427,257454,257508,257514,257523,257537,257630,257637,257721,257891,258013,258047,258062,258107,258162,258193,258326,258342,258347,258386,258464,258542,258588,258649,258671,258733,258766,258835,258983,259015,259030,259068,259107,259189,259197,259201,259240,259271,259293,259317,259328,259340,259392,259418,259567,259673,259683,259728,259760,259766,259813,260092,260111,260172,260230,260238,260239,260274,260299,260364,260434,260583,260585,260640,260655,260729,260775,260803,260857,260859,260903,260928,261004,261074,261078,261243,261342,261346,261375,261399,261566,261596,261680,261702,261751,261757,261781,261905,262024,262072,262108,262133],[0.1468870576378404,-0.19265111496466608,0.20984222217952853,0.18553924983920292,-0.1068900752523878,-0.17171991683565258,-0.6433131447992829,0.02150116261129785,-0.07665756844567499,0.2983332890087691,-0.6091658081984511,0.07673691632514801,0.3173348349377464,-0.02941172301985017,-0.10544965738584161,0.21946063807087027,-0.5530889267198873,-0.17173323934860116,-0.19979965366262828,-0.07347073408199169,0.0732947446260502,0.20378280372426694,-0.10280618873260468,-0.045502218065493885,-0.02080513161892945,0.2226095835772928,-0.11044921663871299,0.014694453108158144,-0.1892909776450183,0.3113426489911379,-0.15335536683470263,0.25546328679642705,-0.05821188024270056,0.16211723244175988,0.01960574882353737,0.07752954214866449,-0.30191672848540324,0.044152659337342415,0.029234750466053963,0.44110885403693034,-0.2793761965227833,0.18370877848023068,0.3643709597144358,0.15762103333321884,0.33754193269790317,-0.22447906170913068,0.2882869273992411,-0.2176207549136445,-0.17335864755708097,0.04969575599215676,0.04913144971797674,0.25150453709590564,-0.07215651614586369,0.20558765618186126,0.008990891868401702,-0.1354195267306427,-0.07118252066185582,-0.1357235320367897,-0.07512508974818938,-0.1647153420011668,0.040305472781581114,0.13362126191762,-0.0010122006896533821,-0.041937123660704054,-0.6475655999931121,0.45935723546111046,0.1107116770509618,-0.47185144436011045,0.03687102792303634,-0.08891579201014085,0.016020520148377095,-0.03585897908605942,0.13796242969710545,0.04404806436775824,-0.018868813471641193,0.1708853773873458,-0.148383831689178,0.0655437806180699,0.04314037643384665,0.09286225098063926,0.23258213137389433,-0.027838809175807756,-0.13505199298522114,-0.20861283315736318,0.19246272527681743,-0.11709930974596883,-0.09002706738522229,-0.1725296051693766,-0.07173847796484933,0.07511522513095943,-0.27432963739868443,-0.018319825582538318,0.00969804935654509,0.3685353503864691,-0.1335065993254707,0.2034068996148999,-0.09661368937222695,-0.4811843594801211,0.1571653927615548,-0.028919645662228356,-0.45957622003091675,0.14021183086569758,-0.03588151831232039,-0.23276332061274208,-0.21987489819878464,0.40914100557478245,-0.014315510451064366,0.12887374064552154,0.12016216926945675,0.026369981919267833,0.3881118607444815,-2.6610545957641803E-4,0.7346842549019238,0.016643341684436083,-0.057368827123634815,0.12320136073415619,-0.04659058170191927,0.12895077163298582,0.40687968023137727,-0.051851142553362456,0.12740356665794095,-0.21369632227989574,0.05657896984072971,-0.1796179718728956,0.3778914291117691,-0.23527355010988796,0.07067889144793389,-0.02074546519929076,-0.22526970542749208,0.13449420431444223,0.28314799426833787,0.18320319749408953,-0.21019723066644083,0.2906790314156347,-0.021936489954890396,0.12658675899922786,0.08263818797983186,-0.0203337698090394,0.0321371929248209,0.05720554457473059,0.7075914004746349,0.5240292033460175,-0.18586679788292568,-0.1875060369990172,0.5165834739784851,0.266401207559037,-0.23260815077844826,-0.28420133607312636,0.22849777849957506,0.2819119374673127,-0.19475561954060625,-0.17749423078382015,-0.024501873448110535,0.5533897077407122,-0.0013175932343240414,0.34385864837019103,0.699859419636657,0.2844595480114204,-0.24004732019681077,-0.0048749001181343475,0.2668253123351973,0.24066340585328386,-0.20247778618704743,0.37201541483557193,0.004741802680270735,0.014137849257207125,0.30016845000337394,0.15528999593790394,0.19922946189837107,0.02256269249060381,0.22048207421068997,0.07806167750138022,-0.027455904408713126,-0.22161281139225808,-0.0958479098610354,0.04132223619614442,-0.0702383981890989,0.05906946220731531,-0.3427203652025192,-0.24374798275616866,0.40698014028826335,-0.2667305652737732,0.006160774741395333,0.297452320733119,-0.027118057668830044,-0.043014789874433954,0.07753347976199716,0.081491453503587,-0.4870498077991972,0.3880457237046644,0.013033378671239644,0.004661743191941924,0.4893578252658833,-0.3294007149856984,-0.1346349437737069,-0.09534014278633665,-0.059787307181767085,-0.0587773260923344,0.18602800953391607,-0.1521212359171562,0.121859170470799,0.20807425140829397,0.00590945780951035,0.15394385508858624,0.0453437423232555,0.021157015416670637,-0.3618824912927015,-0.02262430924438025,-0.2551818626949529,-0.38034140734181526,-0.09778581005078736,0.12315242931063682,-0.46399982510626253,-0.02833176793700535,0.4471272747889346,0.010314460781529944,0.05925878413132496,-0.10932949045011936,-0.2943060333158879,0.05812428406758988,0.06741984696127265,-0.19820706913009165,-0.0028045522787989658,-0.048589916851010134,-0.2296669226316394,0.4906512556605898,0.37537903208148404,0.03664948499605916,-0.15008459511154865,-0.3685031385185911,-0.1573422190437197,0.9989962299667859,0.21832825395552832,-0.5124877073858968,0.2502672634138077,-0.06621350198034028,0.10881944444775461,-0.08964419274372683,-0.16280453564661856,-0.3036461824490291,-0.18236007801000864,-0.29147928947845747,-0.2327451995221218,0.23300630972855108,-0.38176500561991866,0.23454911015366925,0.04729117188614738,-0.09464494909134277,0.26428069284207084,0.1307200711571564,0.01461651262839059,-0.040811801622960005,0.4660018875646314,-0.17323835156605388,-0.11938457387073172,0.08708682494848247,-0.012010484273106747,0.11469430603039027,-0.12000257524022154,-0.06174352675729422,0.2667772451914978,-0.05854045310559967,-0.02775267686183148,-0.1964246620503921,-0.026557218737264323,0.09594859108164894,0.18591234332230694,0.0894139026492659,0.07442004498056848,-0.055102749109408954,-0.057190216482320075,-0.13311219846349331,0.20297717070591942,0.04032564878634207,0.09116531371022965,0.08411394236095007,-0.12066440502056788,0.2232255602237516,-0.07119020519210464,-0.14287215183084673,-0.3270816304873473,0.10994216019742409,0.07452808549541753,0.17392956479059757,-0.045266993807214974,0.2829236128546363,-0.24441832821966814,0.12365429630288043,0.10633412770059525,-0.08343631355170729,0.08525139307688809,0.030512022904864766,-0.4440892907405776,-0.05925495608037256,0.0734752142899035,0.26893854119841215,-0.0347522078539237,-0.13567432041158514,-0.7550112801427772,-0.4381227229057965,-0.21843091162047698,0.16685138015518405,-0.07766642447454555,0.43703903051418347,0.0046715570550725045,0.19811313769083286,-0.29884128376778724,-0.09413095546651452,0.10048085239831502,0.11548976839010192,0.31530352092468134,-0.07756615254036187,0.1970148165468191,3.736955242110319E-4,-0.3262231504035175,-0.014333829454523217,0.19666549842406636,-0.16850906116082126,0.4446593771836215,-0.4735563291826382,0.04636968353243576,0.1018387884574717,0.5396519962037231,0.08625928865721659,0.14681950162623517,-0.01938387166370544,0.4293150734566005,-0.1751478055587945,0.14723571685644013,0.16082792364967086,0.12977131065494812,-0.10041908852162751,-0.04605754153321038,0.01257939253361619,0.19240943272986527,0.15878831366791832,0.016157405241527905,-0.28118495077187106,-0.11763014521490957,0.39429932240382554,-0.03461294921986428,0.10174263546719027,0.09578279675373616,-3.5114026231572873E-7,0.058769713592557435,-0.5334905125083941,-0.1427371053394463,-0.15167792599964794,-0.21407606317877462,-0.1474274083841741,-0.2029239500992623,-0.08131113120385139,-0.07192790343808636,0.2819827570133538,-0.37952404678140295,-0.15916554385357312,0.08928299749872709,-0.43061242512332376,0.01734417110712245,-0.012364312620165142,0.09265013526178047,-0.05477831374130183,0.17084861034463475,0.5542704272998698,-0.04459352058326337,-0.3045649316002881,0.027071830531706552,0.23223303451145083,0.13234043155135414,0.008688232262304986,0.09368747973879082,0.05144287331368086,-0.01794550324199647,0.21691397994076755,-0.25899533526610463,0.333741333860561,-0.7789341746036993,0.008153661569898767,0.38026236327315155,0.06781253052964928,0.6600909580996979,-0.17171899526680187,-0.39870463957673985,-0.353668856774234,-0.06260364382611149,0.052326920350124616,-0.19521747320302654,0.03345395366437727,0.1432527991418572,0.19645482178025392,-0.1402199693586017,-0.3290008801995437,0.24631179251328025,-0.3732117089811062,-0.0402716832820423,0.08300631040126107,-0.2370242696471657,-0.08853040213346682,0.026581692763560816,-0.04965194907835981,0.08615730842203098,0.04632233967543066,0.08835480617881393,-0.059204333260771,0.1211971311644167,-0.15956976053224567,-0.07498594435747714,0.0033914963374596153,0.08219752830290934,-0.05983540276379886,0.09328587688931722,0.28659942360143653,0.19403930135911987,0.17915746252381498,0.0707156974022787,0.04326885621642156,0.0356178047939143,-0.25043027602059115,-0.13735458345207882,0.07006267182861929,0.33837373273846716,0.3108609924888429,-0.13788773339241692,0.19734472517385443,-0.03892448408478769,0.07228075810332077,-0.28572072239331076,-0.2987112056207302,-0.33371560565257413,0.1654565643371762,-0.06755061095816542,-0.009938348433492393,-0.04407710404472787,0.07668955252737744,-0.10614183803671762,-0.038301375658121785,-0.034139116177328385,-0.21663545430652198,0.030820962798019248,0.04156110731695626,-0.20808147631153148,-0.8441530620225022,-0.23133619741895356,0.14143485868251574,0.018415015437340004,0.5300589597631767,-0.060795369947755695,0.2819759771707037,0.18723144251966134,-0.16865672551162142,-0.13816122135412595,0.17379296110853415,0.44244018594132695,0.123367288968004,-0.3890541240626532,-0.012791290642961564,-0.005156077792481255,0.015014440633406633,0.09957039250633899,0.19479972743136656,-0.01813541152967422,0.5030322359663609,0.23193246072863088,0.11394370125310789,-0.3364025045370335,0.15590850290778416,0.06504013568873664,0.14657254122279698,0.05142446388172476,0.22426817356322887,0.26016273654993693,-0.1307607288615193,0.2866457048717328,0.1847405814556175,0.11649948883615173,-0.0934465569415446,0.046888606049492805,0.068041695433336,0.35713757043806227,0.16219986914358137,0.41485310518959456,0.09728513791833547,-0.09261260233439474,-0.3386957439886925,-0.0082384572001897,-0.02582128960249288,0.11113515796918931,0.2871063383780714,0.13830353915292257,-0.6458473801764716,0.09484659558420837,-0.09468467005001513,0.09091182391405786,-0.20257371208004726,0.11859375359977113,0.03568382284674344,0.014482549934142818,0.27457967514385623,0.23666600575793567,0.1805154438480022,-0.0011580993625655961,0.15593312071991378,-0.8211036484065393,-0.21959117947106174,0.163418496781673,-0.15020668517022626,-0.016608238231090297,-0.21663545430652198,-0.15492372149994574,0.02986166456926927,0.17965646212135122,-0.17074747011331265,0.04767417133013372,0.07424378373576494,0.03599522696418551,0.0010278702511828343,-0.11142239904098644,-0.004207645591761697,-0.17704897759247853,0.27092014694005756,0.2081625895063011,0.0856713495873314,0.08135576251845116,-0.0034148265733838197,-0.037967759321522576,0.07535562360868298,-0.03715260661710627,0.07358837119811922,-0.1497543782750957,0.12363999893448915,0.06798857543456274,-0.06456073333966567,-0.0966352929269992,0.2523921421973967,-0.051247184259721176,0.06857594112827882,0.22457631216177656,0.11372609830414047,-0.20179786446303322,0.05903821344312458,0.15128828879833878,-0.16161172571335516,0.28068179215905825,0.13298748145593503,0.21542544072368686,-0.39509681257904944,0.15276258288464276,-0.262307189366174,-0.32769707222773414,0.5453015317914908,0.5102101223402494,-0.022909735926605265,-0.34801381518988583,0.0019493707905641206,0.1359331827775041,0.10710699895730434,0.25041072571363104,-0.05870788923315212,0.027674653098798224,0.23437277551233646,-0.07519760363157527,0.017261454754256812,0.09992139507717662,0.05938991865225993,0.2980052191002687,0.640878315581325,0.31634342946953026,0.34458576368146787,-0.1112808569098062,0.1266600426061167,-0.06540753506937372,-0.47342844341718643,-0.11080632774133117,0.03450396529333021,0.3547860726902049,-0.1860675822916074,-0.032881589828684,0.021469905431595066,-0.309209645556267,0.21757038279477878,-0.3208441063308501,-0.06426088476618508,0.014662898460199471,0.12069260501802938,-0.08260970669295346,-0.18571931296590477,-0.001612336141801875,0.058317313104313616,-0.1726312183636539,0.2660532490012757,-0.10672740326765008,0.22065412453846048,0.29293652441720214,0.17600882722552708,-0.02991845205399586,-0.20313187549383246,-0.22076105374835203,-0.004782820119483978,0.20183930028608718,-0.06571306067881193,0.092746969902979,0.04033305156151203,-0.25587580164377877,-0.015907479327847814,0.22312402010487786,-0.14831527304651942,0.2155277982912172,-0.35967414844169227,-0.004259728846112172,0.1613794108115553,-1.0316683198778727,-0.017853876834515326,-0.08433620067658704,0.13138311767804836,-0.2839478116537077,0.164232411134927,0.052100457078719,-0.08495306409888863,0.35105774907602166,0.3191675977305917,0.022122757529074742,-0.02296707008219545,0.36392465414708697,-0.19567584778693045,0.11079871878683306,-0.11742466539761584,0.07130500960919982,-0.06696009366855923,-0.15474280776047292,0.0915346757349912,0.427989429201346,0.11579694733924292,-0.2102972223718367,0.2774358909770628,-0.14613220039842756,0.1943512546049463,-0.2091470547417153,0.10145992036421589,-0.44"
     ]
    },
    {
     "name": "stdout",
     "output_type": "stream",
     "text": [
      "88090716896604,-0.034976678866418955,-0.3063662921732319,-0.11716427734220718,-0.13489929524534242,0.04484378691812171,0.04790855658713474,0.20971304876244082,-0.04441286342375183,0.09342043728675786,-0.10578534738662511,0.142807450091704,0.062254112969645274,-4.6682848518613787E-4,-0.12057192387536914,0.2650745023713922,-0.15728863640992083,0.07360947030446857,-0.038064119318428624,-0.029410759911852814,0.04948843427495439,-0.3776593671560832,0.04418697240111588,0.03684509406421319,0.10337450555105972,0.37973240177276196,-0.14150550261847555,0.16277281561114068,0.07537403673525261,0.060354759830331804,-0.4322207976713206,-0.24771512782057759,0.23523651317863695,0.03638482263166754,0.02329795017730083,-0.05764232046869633,-0.1046313265709317,0.06662556487792774,0.14834637180264224,-0.5764163692703026,-0.023788939361485285,0.23960057742165589,0.17294951323124827,0.11207226586242278,0.15171422536661855,0.16057207550009855,0.03499556264129223,-0.12291553488038756,-0.17889447808271416,0.09096303839365122,0.2516604072457983,-0.011319099879551717,-0.16150300985921787,-0.043633548936684266,-0.01391207781233392,0.05355347434842509,0.1304831447426339,-0.12763637442510506,0.05613699292303981,0.14084004948160064,0.1789034688596116,0.223408226378937,-0.11709598717005522,0.11688185638370081,0.45829886826479743,-0.15810293963776606,-0.14381717988526999,-0.024878227089146436,0.08575932645904667,-0.023067161500954843,-0.04365589255935099,0.1251311177807347,0.22239408222326468,-0.31427174445191297,-0.12140989741161058,-0.07539102845711171,-0.06577743466732633,0.1831839143349396,0.12596907215878006,-0.06903020974138924,0.04770823311891405,0.15180472688101435,-0.021896448594929414,-0.060428738374140395,-0.2948953633197178,0.0634915850973942,-0.031716296941207506,0.6560772834910231,-0.1373121802567275,-0.16341125621030772,0.4666477712560021,-0.09186047138890358,0.21989716574897283,-0.2894019766595561,0.11208525731440477,0.14775143657693782,0.2261715835270298,0.7027615339987943,0.06243784399413642,-0.45660376453884116,-0.028739729879907007,-0.1045774586545968,0.09614767179738762,0.07735693709077557,-0.1394362612880479,0.0010536943656339261,0.3069241739609924,0.007567049392009582,-0.13752052665209605,0.7383750023185262,-0.10708095613154706,-0.34864170327917665,0.3117751278433215,-0.19985722351137644,0.23269941284601287,-0.06652177120532962,-0.029396451144407983,0.07758380485332492,-0.15167726473107984,-0.051063687065129204,0.03595680756861041,-0.16087527756122202,0.08910598528379628,-0.2159140581854764,0.08125897752659979,0.023080726074974075,-0.09405300547000131,-0.12446940609831526,-0.19381790865973533,-0.14926390053815095,0.22208320471963586,-0.4284299579442024,-0.09428105614411249,0.06301227175356691,-1.1796371335611928,-0.0678712983528751,-0.00822310129828296,-0.20278932580056358,-0.05081184090385071,-0.0556084290864755,0.008398394192563819,-0.11728865177240008,-0.09990158284621346,-0.01264517889370246,0.023613332981102943,0.030819511403267826,-0.2516659015923452,0.16858056078666037,0.4093546168453491,0.1718637193431134,0.06975080295849602,0.04109832988111764,-0.07146288460565715,0.5107887729992123,0.30294901383163997,0.09446202378009659,-0.19082693981133733,-0.08586771604975163,-0.06176073960544523,0.15012598188399245,-0.18725482775416433,-0.017483470576095495,-0.07439906666411714,-0.22960834682277076,0.1988499961648134,0.06186773088433835,0.7390388355445205,0.18304884002491895,-0.12758088871925025,0.5018006873488576,0.012815799417114675,-0.07859411349881502,-0.048025939069535,-0.05948538447644831,-0.006558141589111967,0.20403456893658536,0.5946597222107626,0.05519096998133301,-0.1338079176731257,0.146441266516135,-0.11556962548882128,0.1904597740755368,0.10072702071311988,0.1801567468630007,0.1314472864428796,-0.0905340592498119,-0.2403132472773919,-0.17898388458115272,-0.011176284410215637,0.08504621728191657,0.19949641213692826,-0.1819453144443546,-0.2176110098153147,-0.19181715107291628,0.383539720838675,0.050968048373612074,-0.14978893291628054,-0.16646295892443957,-0.17988833581142183,-0.11414931324527738,-0.0029461142723443564,0.027333510087574547,-0.10801884684789327,-0.12306127755026504,0.34002098498365696,0.03545221809613972,0.012212263822993076,0.061677165399562486,0.371502896870078,0.09347484886838914,-0.23361564321972927,-0.16493271166098392,-0.07632412997571644,0.1954234093921757,-0.5298958350902196,0.15863098854060542,-0.6868089586116928,0.1340390313745779,-0.4519316049756627,-0.04841470177763837,-0.11985343039066905,0.17915399459635248,-0.0720111805234335,-0.09675948992979269,-0.27775096203977134,0.03905829547470255,-0.10586751216380434,0.04313895853672596,0.04728073708092599,0.36506198651822014,0.15772088151240143,0.034638349605174173,-0.09264838012836309,-0.21354203890462553,-0.11529986783301034,-0.3663958557990848,0.11234048161126636,-0.15288331049764056,0.08329259469466307,0.05504182716847418,-0.1435266195998748,0.15033174634627608,0.1449082172303602,0.11737054008128003,-0.18484475112936422,0.08575856461222797,0.10652243027909786,0.03909793541627416,0.1529735640424258,-0.1119070040242507,-0.037178653494874855,0.013245310321472947,0.2592496582069598,0.1289890636554606,0.06354070714694995,-0.20629538970031536,-0.09368041006020775,-0.16366789155715292,-0.18610634703068388,-0.0025805424696234125,-0.1077407249142948,-0.22120970058289988,0.05726109245547291,0.04502533739322677,-0.1110629471176177,0.12459257553997867,0.10133210214393852,-0.023660671102024244,0.16751637609234873,-0.14286916186218382,-0.6113652321521742,-0.16157569390875015,0.01340404287081021,-0.0239169149657433,0.17527372585289758,0.020729872770464022,-0.18261473547534202,-0.4359589161609927,-0.0018665160203248537,-0.06555976428666023,-0.006415825734263327,-0.10183082235697272,0.16296794720577956,0.0592413404305044,-0.08286075282976127,0.053205892593994136,-0.013339127215269147,0.09136807813048674,-0.022437411904617535,0.16121563310184853,-0.1651861514263115,0.19673370892919176,0.05441340614886749,0.15009583737836227,0.2126629417869555,0.2553933813487799,0.04761002568253622,0.08985641014488961,0.005756081482602758,0.09223574904565666,-0.3613065873709428,-0.18853204205853447,0.19952245070650637,0.2508840561802852,-0.049912465447801556,-0.0670664501891913,0.16471614714264138,0.3386913299849841,-0.5613697778667139,0.05201479012182823,-0.016049543332501023,-0.43613842441151834,-0.14909382320833442,0.40776623444657256,0.39312171431428855,0.4396636131510788,0.4606006937045223,0.4843093380431139,0.28112669281556224,-0.007468954818155622,-0.34576204708861485,0.06454919092715891,-0.1715800108739246,0.09937998055274065,0.026078578980432476,0.08540173090196004,0.21385029277560952,-0.3982362422135036,0.06860895632505044,0.11652294276399033,-0.029558498424859695,-0.10161887151437565,-0.48035304869865403,0.12239712760534377,-0.2994608656204011,0.02805345654662905,0.5531364302928626,-0.022299756902499565,0.13863410464709275,-0.07658269739737086,-0.2988417994808039,0.24613969027402188,0.39752127770121753,-0.18959611772587795,-0.00843428990081985,0.05534649647805465,0.19262652037178052,0.03715374881907158,0.4072364836558792,0.007933597650677127,-0.11572203118002389,-0.2127740200138555,0.005997924429612692,-0.16337123849164667,0.08858584354692765,0.1405731365221816,-0.1436003934223985,-0.3523911427292571,-0.10558062952876379,-0.04786164340227745,-0.10686695037754042,-0.4520270500438224,-0.28092503624517823,-0.0314665668983381,0.2110282425606839,-0.5328368188272332,0.10827285842098204,0.2123711789989587,0.2446181358721581,-0.4946544357869341,0.4848536557507841,0.30098929256356594,0.17238932061280404,-0.05779506084906756,0.01742660677741258,-0.20611391857895192,0.193307556095905,0.2722878105296874,-0.20601101630506816,0.11250051954784582,0.11599996870177176,-0.1191366099591545,-0.6399668259345968,7.965277114227228E-4,-0.04579135634793395,-0.061763792448852786,-0.2371381008436164,-0.14462552470876472,0.17672650252032837,-0.41504768728930297,-0.17509581200457244,0.3523779038887717,0.06744457932686018,-0.15598263518855848,-0.11815353597390353,-0.7219121746240177,-0.35049553890719404,0.13632920513653998,0.3352071907297719,0.061677626707776115,0.5300105831393646,-0.16083782462226057,-0.06676845076141597,0.06807015142920546,0.11047899670299993,0.0537622251006845,-0.23835589336225757,-0.07465603864205139,-0.12165136498400614,-0.2830168172423703,0.16997103667823335,0.16266580527885746,-0.4925087918471918,0.1498295246840842,0.07197532742511306,-0.07767575322718263,0.06780076467061495,-0.06824656671828473,-0.16512139318445193,0.038284854629159204,0.02438069049543398,-0.5261059274785235,0.011195034004315253,0.13566727189743427,0.28339088048057887,0.09635395127557105,0.4118591940354833,0.05599845693408488,-0.10754049648493097,-0.03979886318461713,0.3280593221919735,-0.23051170236939575,0.2205156752549481,0.013548968519385715,0.17159207278634786,0.12319210286626171,0.08363395466874192,-0.21704535665924513,-0.03155504928683332,0.4582154994786292,0.5922590122537877,0.34584159746767057,0.10089641424744923,0.16824370745767822,0.4178908072304579,0.3188992300821971,0.4836454954483456,-0.28886167348248376,0.2683076112759953,-0.17757636361853013,0.13722944236365317,-0.16730626854921687,-0.11843100103492717,-0.004630216229615118,-0.25900175273148957,-0.13611410055289902,-0.00488047183215895,0.18864907859195873,-0.16093511632900412,0.19043342372466174,0.27040326271760257,-0.20464613159073125,0.20191115802935733,0.19330413795546111,-0.20260387637098037,-0.04575661566266163,0.25437691471206797,-0.2642151547431494,-0.7545681782381771,-1.0246593686386016,-0.16088641551332478,0.0809849600568725,0.1896918711878651,0.5324020309366717,0.05782835410374983,-0.5956101502219121,0.2105598154227767,0.26325808078523194,0.12214300756192388,-0.5506310940184469,-0.18333892381542738,0.09796178428271571,-0.1566114152156708,-8.484909518046188E-4,-0.15633980961279623,-0.25402085903824245,0.18808173462200875,0.193513671319607,0.018581636976372135,0.28268365999218603,0.11726163512118884,0.030425181381893828,0.137437182137286,0.17800059774385502,-0.15365616163456838,-0.33410170591077737,0.03521171014799092,0.13300080645404772,-0.1318216677654641,0.03748558764649742,0.2253956373990239,-0.10351080791696071,0.1352023456127148,0.12450185208111715,0.05041913014500905,-0.3338534933585394,-0.029269890761957993,0.29477318367026667,0.08796548245508483,0.04190419599253554,0.24171003008910966,0.2554672611944582,0.033318131127850724,0.29045639701897563,-0.3070201722498097,0.16121438543509845,-0.23194892493672123,0.04957369411867448,0.16892497103906545,0.2312213850667475,-0.11705156234501174,0.24026686927115698,-0.0056929460752144405,-0.015246933010229606,0.16191738666836866,-0.03226351689473332,0.21576248886266572,-0.5954512496944159,0.04556344442718764,0.08042524169451962,0.1966542629035845,0.03664543011125763,0.13565408880221583,-0.2321509157586917,-0.29174639678208386,-0.1597069036333227,0.21472250605883736,-0.06272017618691422,-0.1418184031999698,-0.14458070678819673,0.07686804143776584,-0.08006971926420545,-0.16086894317694617,0.013412273347095173,0.19228833833260423,0.3778792149264458,0.07246255869508396,0.034570076928044764,0.3211187258793037,-0.17732939118808175,-0.2957720240157086,-0.004860098061407061,0.0098876872234733,0.10279524226758081,0.0831621607786601,-0.277681137514979,-0.25112724776537265,0.17302980783172442,0.2852487018420715,0.21895398159220808,0.25856562769782715,0.07851738665544061,-0.16600879399455828,-0.034551867028625595,0.09225160615952906,0.09345311904136376,-0.0180219327085961,-0.021821036039042604,-0.13953330028111746,0.15331779459536474,0.1397735143576792,-0.3571955504221521,-0.023749277792068632,0.3267105002279349,0.053715691580051364,-0.33406324982589236,0.2540825876771983,0.18985831315288504,-0.24732725627838376,0.402788748661692,0.20212809289785444,-0.2199956060796295,-0.034171360318112444,-0.22106468132462795,-0.0037631604663977566,0.06865854695405954,0.22837907922470382,0.4076161827226924,0.19132973268972223,-0.1465461041726646,0.006978264793019557,0.16767348878598087,0.10268218331165699,0.1774124395032941,-0.396960283076857,0.2158825549363835,-0.19549587476867583,0.025842767814578803,-2.763751549267574,0.09502334447695211,0.40681342399692016,-0.03388085002448382,0.07944693064930822,-0.3645166060271568,0.14328051519867985,-0.3334048624389302,0.13642695842439637,0.10816482121061108,0.21399465802054685,0.028695556194292354,0.05267130535200364,0.36153593571488285,-0.4816221211249417,-0.2427774916535996,0.15166978375166368,0.27119777895677066,0.01780775389928047,-0.06520598799995239,-0.23794021269078153,0.2636735710617594,0.06111418619189677,-0.19992762798128702,0.165586833590691,0.12338117422966763,0.08032551435208408,0.21660318744616758,0.035212986421465295,0.1644805195737436,0.30491561461035105,0.4984896488513234,-0.018062100084466567,-0.4655229772058999,0.3188240148405229,-0.04631652644425187,0.01859823212273264,-0.19104557103889808,0.2059788359474288,-0.16982416127337943,0.11929107733793232,0.22488238837168847,0.5107035778949991,-0.29476093465641445,-0.13895567562508748,-0.2714064043652816,0.30282314151382456,0.049177496692988244,-0.10453488043889061,0.3972678270068803,0.17231397321508626,0.04293873736276037,-0.2900010632818464,0.3584233910035809,-0.07882362074045861,-0.1291369321123546,0.24254898569949362,0.10960395371262674,0.025745234619923864,-0.41236985136442905,0.11993988471912052,0.5978639530756988,0.19394899369240867,0.17904147352388866,0.292353272108889,-0.00959648597019742,-0.1356081224255246,-0.1522044578837781,-0.037360629420852484,-0.1668177450512772,0.09840330097282149,0.1458184247488656,-0.04622744350177188,0.1144728308505818,0.018970582430102582,0.04153315572960403,0.05972217395380391,-0.012929730387291862,-0.17301119258526435,0.12391789030701728,0.2233289086772416,-0.09550730017153329,0.14487778856701095,0.03887286567173739,-0.043316358636771836,-0.11913672149220024,0.02458152682083465,-0.017438299536660457,-0.001598638945325482,-0.1347333705480823,-0.24070952627295808,-0.11579729814235423,-0.5120817629838428,0.04933721119193276,0.08144946687394519,-0.05880966560938995,-0.568315311209827,-0.019516475753239067,0.1732373881810465,0.1047762812482136,0.1224325301638213,-0.05801273652948247,0.2644616466669821,-0.3193291887941118,0.26701756916552943,0.11259441169210313,-0.3764070044357651,0.20021399229447515,-0.01091148744120697,0.2780338237836779,0.3136546056385371,0.32512836905689974,-0.17176048472535274,-0.10546746119342446,-0.5310992105561305,0.1761976139302978,-0.3791463090588292,0.35981042514079364,-0.11846357560720493,0.07476913540944062,0.08684498346315783,-0.21976897946346932,0.18398392284059364,-0.05489986176333252,-0.06778230286288713,0.027492847933848662,0.11456791227485308,-0.06858754407429687,0.4856647053744803,0.0901317750523849,0.09932838863738068,-0.2662219983608124,0.1966162613001668,-0.518508493613816,-0.4398056275846892,-0.060823203778898646,-0.01765172698200068,-0.07090978576060858,6.039213531961729E-4,-0.061194572918444975,-0.05211446716063422,-0.06165847988210582,0.006791595688972282,0.24423237411066415,0.030819511403267826,-0.04995376183888689,0.10937672841349731,0.041949330213498816,-0.06553267722134569,0.06327059504464856,0.1370864579877236,0.042671102239910434,-0.13293492302368506,0.3062601601742348,-0.2790028728972253,0.006938953061065784,-0.10047212073017601,0.10947482837565861,0.1506371987806796,-0.02085290008025671,-0.6307526430100006,-0.049844147496756225,-0.022830242190201275,-0.08488473564343105,0.21087555693884175,0.40612486724693764,-0.20261830208790546,0.024294118326739778,0.32426225930933633,-0.14181065764588577,0.31877419447458816,-0.22901386560358694,0.11962142523499242,0.09866432029837201,-0.04772578385226513,-0.07065448819633528,-0.11257049358253533,-0.05210885465209693,-0.27447629027000303,0.11487411053485891,0.1471033113141883,0.3633455248200601,-0.26320748468582844,0.21558067793723196,0.0628459817429039,0.4777007498877024,-0.422269303718475,0.013060942626800664,-0.011324387483217414,0.1052098301786134,-0.14874715182605386,0.03183694453665053,0.020870173956091993,0.1488219443396383,-0.19454922376371328,-0.04395723814491113,-0.09713155801682828,-0.19274885113412174,-0.010878056222788089,-0.34593839388219544,0.07894878091820548,-0.021113350964079982,-0.12998507622388447,-0.22450024829719087,0.48006066553164534,-0.12928582553723203,0.18076261168752875,-0.3448038858495098,0.04891116723473903,0.0"
     ]
    },
    {
     "name": "stdout",
     "output_type": "stream",
     "text": [
      "8213225221143232,-0.06811344922727855,0.2441762720806187,0.24858976847985229,0.37051266880514183,0.027074020977841663,0.04009271911643776,0.2478955554238578,-0.016702268419439635,-0.02860079555867713,-0.007256767752049309,-0.023317296792382827,-0.282301235347462,0.10950426889912677,-0.3921867499475106,-0.1793045225324982,-0.16257948672140587,0.04682210989471199,-0.07131141937981324,-0.3832363715490525,-0.39564219898084185,0.12217128358443535,-0.42816661605426204,-0.07809533965276641,-0.0921688569696927,-0.1350821885754249,0.1537917278503292,0.15435729523067,0.4501408527417938,-0.2712213836031282,-0.25316563813523274,-0.05387035577889364,0.0679369426585711,1.9521675500970146E-9,-0.08194589083423001,-0.0900104114758996,0.036219053176903444,0.25527788546463126,0.18185936242776576,0.12101466088174334,0.033278907177486085,0.1663290659138444,0.21986663589340164,-0.05551599244537083,0.34500492253481824,0.259695956049207,0.08766608445388273,0.13358448555847743,0.5066378421140502,0.10666762268093359,0.10221828500350066,-0.15741294158785135,0.1002771691596399,-0.06625454090947293,-0.24810843731992618,0.2426666681288358,-0.017270529119971963,0.15360278216957157,0.04761579530686858,-0.08439165197978873,0.29613818924974994,0.13312320625140256,0.016227169805338434,-0.040161802829840984,0.08804226550462821,-0.1620812869593722,-0.05197849843740659,-0.1015891967252309,-0.041773202594387396,0.169742586065205,-0.45394785521969033,0.007617609441000936,-0.0880497958812007,0.5516214927112042,-0.13609627396148022,0.04165421120789948,-0.0308130775680697,-0.24562978554054166,-0.05898062495851719,0.005154782476654782,0.007724567222667517,-0.3466033211615575,0.01074906109176615,0.02094950440525307,-0.07469321051337911,-0.4863151784270142,0.057783207996156764,0.049007502380878615,0.07696097414324954,0.03556718300958093,0.12853558077513783,-0.426618761640846,-0.1092722067132257,0.16948904081181973,0.1687108774471872,0.07359048159146131,0.02384895722956941,0.7688005256321502,-0.2283839164445724,0.02499737332511776,0.36457218740767533,-0.23711651189788857,-0.14459839777919575,-0.1584570372146035,0.1389242765547818,-0.3762428297239002,0.1845852601781578,0.6042404347947967,0.058281216079752986,-0.08180258398797248,0.0679348954518306,-0.15889675450547508,-6.044071535318893E-4,-0.14120756515979677,-0.20131359245043814,-0.02934888863576169,-0.19914876931749934,0.1258169470261065,-0.28985756307524596,-0.5557690851047623,0.17410409078115746,-0.026081714184754735,0.09650331302852473,-0.11100954581434254,0.1301390825434887,-0.04832873448540573,0.09875086607062164,0.46605172252064625,-0.04307370483727342,-0.1165255819159752,-0.13135554829691082,0.010154418843120395,-0.14850948770434236,-0.18654701184051695,-0.03801488337981992,-0.46297908915774216,0.0969627000795261,0.5257116611084492,-0.8841672632113416,-0.02246527673491227,-0.4122297120582323,0.13178081370681705,0.18045252878879306,-0.13447303101516034,-0.08376074648571431,-0.033232904752768494,0.06266346830154917,-0.404024645079837,0.07116290096933535,-0.21367630822658215,0.23292403128668002,0.013383017995659047,-0.4994951661782189,0.2715754973120932,0.03324653172022652,0.204732357570067,0.6660928653137275,-0.12050568541220855,-0.19620750515269952,0.10777497862962249,0.12326426428642175,-0.23749520373392344,0.15396016852080888,-0.13584967261666486,-0.371728838789439,0.11711377984300794,0.11825120539783947,0.43949931869521197,-0.1573045663640736,0.5011742992253874,0.07541532583992154,0.22524613655606202,-0.002618501643741545,0.03849585659905145,-0.14140812943392314,0.1634782342806672,0.15641951160673628,-0.13631123655536878,0.07233194504420803,-0.03503141550873956,0.27242287348661587,0.08159479116552386,-0.39870486682978656,0.02221795306320293,0.10335296605803132,0.16057955287460005,0.1782613075233695,-0.23121768381497548,-0.08118232782555716,-0.017248355377873146,0.3237150044404135,-0.22025020689164468,0.04706143550299831,-0.057799636959474404,0.21022843449559994,-0.05669564207637203,-0.2530126114715911,0.2834975764650654,0.5118588919344543,0.16161035985939684,0.23243577518274922,-0.16321462263065295,-0.5075623210844675,-0.8530084015469157,0.05130937058177476,0.23414716703115906,-0.19628848389178014,0.07262465183173676,-0.2698573640917308,0.14008140269428798,-0.05500051463169125,-0.03355442606506039,-0.19496835895269174,-0.08294121822448408,0.29228060730820116,0.2318901613645972,0.2538203529531306,0.041805197393754684,0.1884231789938268,-0.6846040920669165,0.1714280248742827,-0.026163519846258098,-0.1595230219604813,-0.6405110114587882,-0.22532405226132277,-0.08421795932837582,-0.2543373556602608,0.32509081553795427,0.36883740006888355,-0.015665678932239364,-0.02083916016477088,0.5240292033460175,0.2628894105144718,0.22284183170788996,-0.17630031572504481,-0.33483289145027195,-0.025833632955005518,-0.07049620752484934,0.5155177421921926,0.1680366816410358,-0.04971077749242616,0.16484530009288403,1.0912187157782947,-0.35267496966119477,-0.5886981172044575,0.07013251528420562,-0.05232822751312556,0.04978588804560582,0.02402627490561382,0.19440767714264687,0.138944869464547,-0.09876257761410338,-0.049184722218779744,0.010604630050477105,0.15129161953983475,-0.17703277328044573,-0.3369045734847953,-0.1347258403490468,0.12008618217530634,-0.09990205680630974,0.09855445805865785,0.47201782596946684,0.002453849814258331,0.09233957687925422,-0.08207223050892212,-0.1637467831022744,-0.0063217405434577946,0.10289945841629129,0.40155816512110887,-0.26061100023390876,0.059562014124643924,0.13662236024203714,-0.41886387048475304,-0.21196965522536299,-0.3714123619110987,-0.011528849934927558,-0.034191664332358214,-0.04292537610440906,0.17090348873145328,0.4435753238168144,0.25404548006130084,0.2714946381748339,-0.029203651993612332,-0.2426481037413719,-0.022645822895006964,-0.18862701614770896,0.09625638502165798,-0.21850038076725967,0.18783344476619893,0.22658520607198443,-0.013820022017019271,0.10996656323963548,0.2577433967847264,0.018623463840308666,-0.08611570951495234,-0.3310150989272081,0.49221720136939895,0.07871779943181537,-0.26213428586065574,0.1138672998745437,0.09361092950660767,0.12133930270831468,-0.0015730762580329356,0.2437368340124868,0.30465087537801633,-0.08704906090457054,-0.06025473754665193,0.40983582466950697,-0.2064850502571158,0.15507538610301233,-0.21864751540766378,-0.12423264388740066,0.028301978893304228,0.09121934105955366,-0.4118072485351605,-0.03905708748525301,-0.44366803204855154,0.2052793350794641,0.07126208343188374,0.5722087190435836,0.046226298846685755,0.08691319259824508,-0.025169561592090783,0.01166126874884447,0.39762487101352667,-0.26497437787822503,0.1236855670267801,-0.20711692778029384,-0.0691725251361444,-0.10040209791448966,-0.07380398546160631,-0.30640234160090885,0.13335145736742904,0.24524130361000104,0.04205445527342105,-0.1257868897308767,-0.13716009427277528,-0.07732142804941454,0.043356934381234224,0.2376291606760787,-0.01750740903245447,0.3288959646773008,-0.26427847216853834,-0.04237788209707632,0.1366600940672262,-0.1302250232274295,0.16182206834513835,-0.043967735407663855,0.027456619201887748,0.008278785989201252,-0.07707072480150111,-0.24728265697162433,0.11781458041081085,0.2351480665745952,0.11749702687094182,-0.045999847605936624,-0.08354225747768688,-0.008298215021732204,-0.15513003158058605,0.02705122189407246,-0.06748656129605814,-0.07432071047647948,0.1415878058448395,-0.27009052961777774,-0.29162881915355676,-0.20876599899263798,-0.10775058636799437,0.022370405222397114,-0.337276326930258,0.09264318622723874,-0.4064685652246927,0.03944086118839707,0.40576650825335,0.13011212976809436,0.15492763973638776,0.23054128850292,0.10542419508380749,0.01779163860669728,0.35043292187246033,0.037509126626571285,-0.314677267837162,-0.30816783193101066,0.21864287926370468,0.10073955773063678,-0.16589953706811822,0.061172089723028615,-0.2671955086775608,0.07485176575874829,0.23351640779384544,-0.40354891485393485,-0.09552506411904364,0.04016335267083814,0.1588489339730864,0.22515090944214805,0.16734889114819163,0.32585847789453537,0.06820362985417429,0.017743263643297213,0.12322892560551517,0.08697200399908332,0.190664239742458,0.17384984231607048,0.1285656389606769,-7.404793682340002E-4,0.35448849830029117,-0.1076498797366379,-1.328864608266585,0.24318773367594695,-0.08056410297207468,0.18457792332426445,-0.31375367214071986,-0.004299136797582813,-0.3242231548123409,0.21766884989874458,-0.13354389183033935,0.01027780995014377,-0.06639816705265769,-1.0989147677651269E-4,-0.5597453245854068,0.11872161722499373,0.03394634533631157,-0.027494346961869996,-0.32271371171983965,0.09420876111483048,-0.6067435857190937,0.31205807690406256,-0.2241496732601967,-0.2929222036077346,-0.40345942673618007,-0.007533714596761705,0.21772540804391796,-0.12399361499676144,0.3722835325005131,0.2675168735636113,-0.2886935320366795,0.23513909229190463,-0.29676779468446285,-0.4471872732048013,-0.29840424106423163,0.015421969113180677,0.18471110349643538,0.019308430065483804,0.11597528755603005,-0.1945408817894378,0.1456863657045052,-0.06470303032389536,0.2035764805619326,-0.19936468367766205,0.24959385912535742,0.07443953453397623,-0.0715478976891156,-0.25864597347763624,0.0018796282971583864,-0.028765267538744362,-0.16765726541253462,-0.06610527923882394,-0.03771582590881705,-0.38584375335165744,0.18893338312019692,0.01990474720335101,-0.05132487209991217,0.10983944198610372,-0.173847760814951,0.1715920005774993,0.06541598424057934,-0.10741048540909415,0.17566948869680699,-0.055629471211884565,-0.11763308433417102,-0.09204210135242138,-0.040908597387051014,0.11149668462877023,-0.15041855644695787,0.19796685898393596,0.16173442655741463,0.11448999104850417,0.0557003768299028,-0.030663371108622554,-0.1860316832683031,-0.1990189203832584,0.10240923297730455,0.05280005923420325,-0.3186791837039889,0.09043328464980412,0.2996115314920931,-0.1094076682411511,0.049510383702699085,0.03949999832100509,0.03364871732620294,-0.21208337125403398,-0.035543799252850714,0.06586322519955107,0.06509588160482356,0.22982644673598204,0.4489086061621078,-0.09383804572830887,-0.5434044743643965,0.10441291121146147,-0.1368262704987321,-0.42624398602934116,-0.10415944265850877,-0.12216140253384075,-1.2270991768857265,0.031055811543082547,-0.1833469354935678,0.18917274955648736,-0.06615989918828898,0.2066777183933587,0.025246731944655425,-0.033319953185384395,0.43696540535393696,0.7281464434184218,0.07737659882278713,-0.24638824381654265,-0.022049720096144493,0.15546497635652595,0.1795611687329135,-0.14384914329419504,-0.3567135199792322,0.0794130093327467,-0.10772796167209574,0.02925046242747196,0.2588880883994729,-0.3069988141107277,0.2498640013201889,-0.18127311994380496,0.12408552916509594,-0.0761024365643489,0.13533607328668876,0.34809938902192783,0.07731095170439713,0.2064560647755104,-0.2319283155930204,0.06592464651418281,-0.13338037709741613,-0.31144212026248064,0.07734552820710582,0.06293621094058355,-0.027085702266482603,0.17197245611134537,-0.3372128681557909,0.22084401059795294,-0.19260416662403504,0.08688838428219253,0.2664572689068173,0.37720520990261686,-0.09483245522106079,8.127868931288996E-4,0.35115549999264206,-0.4088402424298037,-0.20323047770327685,-0.044559055361018104,-0.1740510049442239,0.0017615021073671452,-0.2953279110263051,-0.2834529999816383,0.06543013008595487,0.13640416565061358,0.23915644258982838,-0.03738930629925674,-0.3525778758648416,0.41412364342358277,0.3647603678358073,-0.17942765363432123,0.14654126026057643,-0.5426019862756568,0.061169602983040076,0.1663754083586679,0.15149130902066568,-0.0037540952756893843,-0.07687503940142,0.09495303002062276,0.3671426116152848,0.3812539735529973,0.1273335445662616,0.27439374978372605,0.15557609675113027,0.5398270881062013,-0.20319122643750206,0.043087874834283744,0.26629503220729484,0.05620621883557425,-0.09782947910788266,0.3255789897494754,0.11468291191242101,0.18774793910908152,0.2054772994699235,-0.27022918454218,0.0858374414353745,0.03368616525406345,-0.00199658022569166,-0.04391157746207851,0.19547032237507495,-0.03276016703264152,-0.024777439356954378,-0.30551844048979154,-0.003623699746246287,0.12802654772527539,0.20714272889118268,0.10805713497157331,-0.36175409301191713,-0.06115597643986084,0.08706543547875395,0.20001957594799125,-0.03453008207208573,0.16510644576041372,0.6014836601331185,0.2534536765173299,-0.08757339087978754,-0.44304687911535573,0.7852901521649575,-0.23870423722968484,-0.39464651145525254,-0.09277552066527894,-0.18094116700471558,0.09031503743486707,0.05385416892463855,-0.20888082342946984,-0.17707597265966235,-0.07278916718525136,-0.216615868067359,-0.11850435166502016,-0.3563010083027462,-0.010979093957746119,-0.0367492919848161,-0.27411973171820236,0.05431764159301586,-0.1464265860066866,0.051875114357429725,-0.25995381883800334,0.015252166125958389,-0.103618456220601,0.23440216784230006,-0.1375241040371061,-0.3757032641233282,0.06505340336488588,-0.46307294264442367,-0.09957190599369187,0.17076009760556674,0.4048733246860548,-0.08531006755278701,0.026028387348681997,0.06300345589078775,-0.0333962422770438,0.8248117327872614,-0.16579919798263582,-0.020739520757808095,-0.13826979095623537,0.05674974582276155,0.1567843742666419,1.2343063741515659,0.2112253322577792,-0.14785421119960404,0.358294577161395,-0.26031001666328074,-0.004127540382913139,0.16165084434044086,-0.3593438778763004,0.02699753261536743,-0.6934662608813774,-0.04833829735041897,0.27191367406781447,-0.13142142350820663,0.10139497037948762,0.03598277470028119,0.03453809831043668,0.2617117469194043,0.08207303799072074,0.0330559344941321,-0.48364748263762947,0.12391070434760033,-0.016108057897298397,0.054762819824455286,0.09252566752516396,-0.24212614119395642,0.0445455796265533,-0.14174737631364293,-0.006739113401254053,0.06964190306544597,0.7850405410361596,-0.23641061468713367,-0.031090002822042377,0.01746623114823378,0.09365556116008596,-0.18886993890706408,-0.18041951074355095,0.10179287086256184,-0.022959922997938826,-0.6060614970864598,0.9091774275645677,0.2939510175258432,0.06530761431720354,0.027092794821474978,-0.29464786856755804,-0.02643819901728019,-0.0835221771282623,0.25620603120893515,-0.17780158941227822,0.16471736451919772,-0.19247100530984934,-0.47505648141337786,-0.01857346802853439,0.18064403562302386,-0.29648488527156375,0.15428135889546804,0.22890546544500429,-0.009956432378464752,-0.09416415703513564,-0.10312962626326846,-0.08871782643324713,-0.4463148219334011,0.22032481056342576,0.19795509651970397,0.261844984459811,0.2243578453935942,0.4775174252360877,0.068029243139423,0.10810979479953253,-0.014946635139922351,-0.4042555317802039,0.048544072157891124,0.04104152735023511,-0.08624512614093945,-0.2556772622468297,-0.0776471206550943,-0.012238033492575944,-0.02488813059711832,0.20079960732339228,0.25698384524428053,0.19878413462403088,0.13903240725839633,-0.33178169844848787,0.028925717468346903,0.14768606418033914,0.03656379600483258,-0.07596852206595396,-0.07831754851693376,0.18684079211471724,-0.5337555471007603,0.2514641917741279,-0.5101934768991625,0.053104220420180946,-0.07617610784428762,0.3632561780239764,-0.1389506504605359,-0.15923093654845083,0.047189010431375314,0.10799878846525363,0.02350777958132885,0.14532539211513754,0.10003080019940008,0.15886155188800474,0.2927446862020236,-0.33628037378993814,-0.07947950303642098,-0.1952406793478539,0.03968261126902163,-0.17964103358079853,0.10321542689764213,-0.049479491286642724,-0.18477931149829027,0.2011786789577666,-0.02125914386487503,0.07427915403679851,0.04032443463359963,-0.10487922813061896,0.08975819913441867,0.30735322120795955,-0.48847150988716337,-0.11608522632970887,-0.01975348023751839,-0.12329184113835748,-0.5199735509947802,-0.15576342251608474,0.1629669100217347,0.03672340553864667,0.585546775185343,0.29910457832413123,-0.19695904742403728,-0.3623127928392797,-0.05201133076044406,-0.04181748225708096,0.01971090617635099,-0.09901173220970848,0.19037566591183755,-0.199005072191199,-0.019024042783534825,-0.05783777818668228,0.1712760910885649,-0.03205252418934119,0.16571326907213266,-0.33034586647515324,0.013529313648507846,-0.15018872168107436,-0.04663256288846054,0.004483974862400057,-0.08531142215534158,-0.3623726829786701,0.25256982965187885,-0.11349410073173438,-0.28002433360996737,-0.2768103561740001,8.488987688584777E-4,-0.11077651831154503,-0.35962340184518155,0.20191070404698103,-0.2800471512"
     ]
    },
    {
     "name": "stdout",
     "output_type": "stream",
     "text": [
      "618843,-0.23776874813150053,0.11216112866968844,0.02050520046921559,-0.13583651462796892,0.3611138030976686,-0.20478810087711358,0.28157169464891957,0.39867600658558083,0.010432643383100194,-0.41400775568625053,0.03658030111984988,0.08596332494026268,-0.3375922662694007,-0.27605197435053147,0.07680256524876396,0.08492569702630458,0.6125729205922229,-0.06479488119671264,0.06387037966028357,0.022141623149742745,0.1968511646798371,-2.157165271117037,-0.03632556244616507,0.04144121560662259,0.22898032297787302,0.12272719023325225,-0.1598715595556259,-0.1570375967678477,0.07810257527712242,-0.2107793106557686,-0.11197236293278773,0.06243982351703116,0.014161555976102897,-0.09424663788617475,0.17345491380882422,-0.08433937118907217,-0.05923341512140108,-0.24960495609167407,-0.012199403303853003,0.0815543569783444,0.19208147268892856,-0.09155980123990479,0.3394919977804724,-0.4886828626957032,-0.1071563130874121,0.08093014716574438,-0.18949795727195862,-0.07832015035051884,0.3838795543840884,0.3165636094981,-0.131558071769238,-0.09632841343383168,0.02604764466089978,0.0677643570274733,0.05330095939616248,-0.08417565103461117,-0.0016534158478443528,-0.04301350296499987,0.15202852411717746,0.10483542814846508,0.24017490102401234,-0.06633004981965075,-0.48942884944339754,-0.20791506532429158,0.17423918004005048,-0.11589956962502727,-0.25876596686297487,-0.06579110139410625,-0.16327493814445912,-0.0076311822307556934,-0.056214757256992605,-0.10214174648119376,-0.06455885581311409,-0.7408088445529921,0.2627743759635717,0.18348127705132425,-0.2685501468423868,-0.143702148806683,0.1746408744552659,-5.042297211334822E-4,0.18880289083645121,0.06139398149792764,0.11057688653737742,-0.0590333904540562,0.340990554887494,0.12387972331138067,-0.1298993742556134,0.010147008442895438,0.15190669036429796,-0.09440242647591134,0.0731029006487822,0.23444880940929363,-0.036534718499570275,0.37934969440650224,-0.3732356425462021,-0.26437928616921763,0.12127136955724455,0.18855339415815525,-0.3743969190250236,0.18635481654666083,0.10808418845917245,0.14110640888782536,-0.26875320520791957,0.025541224784311898,0.36521201026113803,0.005926307433754331,-0.2844242503313328,0.21378409657076802,0.060468540285987006,0.13692176053487276,-0.13434590625593845,-0.32112539703139403,0.491649989153391,0.04500784466423863,0.5492184145734004,0.3157659257966934,-0.10058435157319492,-0.03464902448120417,0.08435165241755696,-0.012834696822288617,-0.03232003814892869,-0.20205197152195675,0.14338726218539286,0.1308552302245783,0.10625648343487898,0.14009607854049955,-0.05362160309396693,0.015035498123142515,0.1719546406617122,0.17552509629780155,-0.0412019169472186,0.23140823943942854,0.06799561490715263,-0.028195849364947137,-0.01843033406053943,0.6456876940549673,-0.6472058811709961,-0.1378630212059243,-0.43404663838035046,0.457142988822935,-0.0780361353840204,0.15752737639462452,-0.2423230963801037,-0.1323445597794966,0.07082611979412264,-0.14568387827016707,0.06183397601205754,-0.08886771813737314,0.42188560910401446,-0.18179944111266927,0.11947071622711536,-0.0018606408161749677,0.21453221210398243,-0.03518259624640876,-0.010624288818952443,-0.012875580912257689,-0.5189637931977792,-0.01693856150053525,0.05315938542661049,0.04910153203600353,-0.1841581450155726,0.3313349447243916,0.014872260607889999,-0.6607857619469895,0.6181225780868056,0.14057257100064355,-0.06949752830630636,-0.26829565625177637,-0.1381461531126068,0.10801308076437832,0.3906403799778811,-0.0711498310640425,-0.2840232745372682,-0.6535585909213937,-0.10765047048751768,0.3752214819515792,0.2123172022482161,-0.25641379217855353,-0.03800541969149964,0.12292980138731678,-0.5631457203597291,0.5434876324905009,0.15537062004999794,0.5572812299191824,0.19990256101207884,0.283143559621576,0.27602220364031194,-0.16438738189210206,-0.4054792535576507,-0.528332755344405,0.3954188426554501,0.23988049741884265,-0.6933998169218878,0.8394665024354742,7.128673809414191E-4,-0.26013177592445486,-0.05878014106117382,-0.20540295653250465,-0.3413323818622708,0.3390905196335308,0.1316161496944803,-0.15715169545027324,-0.14141530747762884,-0.09599721283492797,0.3204359453546348,0.3162913241741137,-0.20732084851742488,-0.011633497328954856,0.427989429201346,0.04267772997131206,-0.12836383585792888,-0.5170333347306011,0.06964857562423095,0.0730534555239796,-0.010606936305902114,-0.209210891858366,0.2791432724209003,-0.9925614793578488,-0.47927094833756656,0.36646598734989827,0.08767998271365715,0.1534873477860139,-0.09320484943594295,-0.03905867995649102,-0.18382014465312538,0.3689778518315165,-0.18017122869259616,0.16215963350043555,0.07460683553287159,-0.12135284760437846,0.09183234839490996,0.13057082183195204,0.4532713197233457,-0.015694102158018353,-0.1485594559147083,0.006977061505660505,0.08881824314974214,-0.23395931677784848,0.3510372997574633,0.07459208674327805,-0.2675965204062307,-0.11510896289299415,0.10579531053019263,-0.22667938761853923,0.17135363615782587,-0.30133975515949407,0.018393680253958287,-0.012032933543088143,0.1093922719613748,0.13655113169539077,-0.18951705874369226,0.3460192915663987,0.3369010316862344,-0.054526748842892575,0.25295318365842956,0.11351369056210166,0.06239964437652181,-0.10267493123120519,-0.2671017371698813,0.10870243929799138,-0.16980458725818762,0.12905632062583614,0.2634350112550413,5.193624808542506E-4,-0.06076854197923024,0.21133752708459952,0.006880828426792945,0.04549267599511632,0.07542696224806644,0.051659390724251235,0.06368687597909273,0.02076366767938447,-0.056746401618957006,-0.11423628557690797,0.057711180191390134,0.008592029344998796,0.3334628311809914,-0.39033153082996475,-0.05574621177931361,-0.06381659605608353,0.18060480582474028,0.0700002235268169,0.10779642234234484,-0.07182053194669157,-0.09878853421176481,-0.057717680583543624,0.0878635115897999,-0.19273750335944245,-0.1648943928754302,0.19859062877987166,-0.324587119678067,0.5440644350670111,-0.4997954915666765,0.03821644608725779,0.2348511965192813,0.1944856843800565,-0.004012289141836149,0.08710369436631078,0.2887500984183837,0.11957050568002461,-0.05055679885367576,0.221481000972558,-0.39900410513919865,0.07791691115211793,-0.3006914680475195,-0.1904891441166746,0.13916771582654727,-0.10359509504506247,-0.3210219493155526,-0.12305829185483841,0.1877025746022801,0.0020860782736733235,0.19227892722449905,-0.283817440313191,-0.04250342315522543,0.020445827952987692,0.07248073991037372,0.3314354685339532,-0.29690850880553143,-0.17022476138663056,0.08081071621950271,-0.053589524229402406,0.13268977693609027,0.10745590547467739,0.19666347776085066,1.3651161390533157,-0.25653103561846374,1.1328990709498594,-0.10900566700664716,0.04199405631683831,-0.0722027742618081,-0.36603998471119664,-0.21425388783530508,0.12152471438791655,0.100392303946378,0.049647873395394164,0.18268045815822886,-0.4140623145678963,-0.7735139355632321,-0.029571848273773686,-0.017845821071511076,0.5638397048747542,1.0555565318286102,-0.12402933147962199,-0.029257046096998255,0.03257887379388525,-0.12170131165480327,0.08402066446261552,0.05246014012197125,-0.8100734709515309,0.42584591105810937,0.2226256945727588,0.1914592841732232,0.5233318759636335,-0.2004896103555697,0.6447682307725295,-0.1080302358420889,0.23190935973142515,-0.09593829370668079,0.19659686428675904,0.024532901143183294,0.0053837667564852944,0.3395412372809546,-0.16744229357227058,0.13069622436284095,0.1480556533164742,-0.029535291591962567,-0.12036729814490157,-0.17006133776639407,-0.5252708932089261,0.18657673407402459,-0.27664488090775846,-0.03723470950266649,0.19511912234417358,0.2934552156411621,-0.019272322861556425,0.27365077414507033,-0.13031901900296033,-0.18538018798240008,-0.14971028445536963,-0.5214943993196745,0.17205835877830383,0.40659125675920654,-0.039049700583369824,0.7588343682717141,-0.4054886617100411,0.2773642126444609,-0.733845693111283,-0.02520158735888604,-0.03502499203437643,0.10834706546111302,0.15108151448806215,0.4462796206688061,0.1913993190457973,0.11277365705433101,0.2174630228408584,1.169535357700224,-0.13303788742612963,0.18585408906668116,-0.6153845723033465,-0.19547055578201797,0.10036095331573454,0.26324918902805894,8.406264316143556E-4,0.07360365005361051,0.2788550187612335,0.18828402470763145,0.21548963298050705,0.31369008901295103,0.27489884162494616,0.6777873758206574,0.11000505574269236,0.09560867056697946,0.18011547850178453,0.13856048530965862,0.23981517418196552,0.14644576158544223,0.07827758019088177,-0.11046149826332055,-0.16828569690512804,-0.06508555231795057,0.2541912933867934,0.11642522053133043,-0.02041716926706944,-0.04124055300111931,0.10018420475053863,-0.28964544224653416,-0.10055598256439977,-0.27547958693155844,0.08696229124433619,-0.0366159167786786,0.06534844882955787,-0.16324058938671768,0.2711328716009167,-0.038541903067175844,-0.24072347816778403,-0.06265105368668177,-0.2690969929546798,0.12496202916608072,-0.10553735092055157,0.016353595586818873,-0.21075353368546285,0.597700675749344,-0.26516642512834804,-0.5084567679307811,-0.36069005721334557,-0.3471707701996487,0.024617037477895235,0.05872308740704342,-0.49024291122844954,0.2969913118403512,-0.037092817727283886,0.14773835399987395,-0.09632966472474601,-0.0989018832497149,-0.12515940544344004,-0.07935753157575137,-0.09694940722460615,0.010663253643250995,0.12253486384820175,0.05919301013113494,-0.20923408163407414,0.05566733272817832,0.0733443159363006,0.15187049524026133,-0.31731253062518966,0.06551713239234017,-0.16015654093731505,-0.07908867976221265,0.46636223658583886,-0.13274316726553664,-0.19566085702597794,0.2396032346164214,0.1791337765695694,0.09587107076948713,-0.1960419999615551,0.13621872578203895,0.1863009047409508,-0.1326546249306171,-0.1602038350531777,0.07421281586084533,0.028312530477656552,0.01491134935529335,-0.07373912624735782,0.20097545257101687,0.011643708806177915,0.15216076099556694,0.43686540374078975,0.03622542630718979,0.3388202558901924,0.18567324641960442,0.18705062988967994,-0.061806757035649335,0.33338857749598755,-0.02399030867112826,-0.2347551033099417,-0.13463715901532983,-0.1282993119093107,0.17556934926492138,-0.12855755690713913,-0.7000434447070268,0.0024680573693085903,0.057363514920894816,0.20664392102444137,0.07168498281091527,-0.14973286102767674,0.2858691352734868,0.12944289646768997,0.010640377799119917,0.06319117445629698,0.3424181604202754,-0.24278585973557623,0.07675149441178536,-0.184960003657115,0.1438869354255574,0.3722612817920789,0.16716407179064197,-0.2788889390125104,0.10276351600912921,0.18242496027411456,-0.03406764680107227,0.041839449312707784,-0.13854964733027064,0.21354139197457184,0.02765649878819298,-0.08837394771187349,0.11647212918881017,0.17283584732510418,-0.0745241933280745,0.08165412424444643,0.01473766564008786,0.04697811062542846,0.21930836598132786,0.17247784644690323,0.023126396109989178,0.4423574074510725,-0.07435516639609714,-0.1654357832676649,-0.31268495115378314,-0.23269211855141617,1.0316088952242113,0.1056509455093997,0.10774560343728519,0.043199666229086824,-0.3231455829566082,-0.5971160397416339,0.10022886986999241,0.06786206777695619,-0.22485974585569776,0.27094189011987835,-0.1509166196826311,0.057849595806712756,0.111880497466935,-0.4693360338828001,0.10238021332064418,-0.040970931545303776,0.10082212978163951,0.10022303008833308,-0.10790629955922222,0.21022670085208559,-0.1527545273375099,-0.06368946128409661,0.1287071093195499,-0.1734159002305289,-0.010378154730944295,0.0903101339585741,-0.26660946200255975,-0.02719508777435248,0.0035229773925825763,0.2541545811205929,0.06705175140632046,-0.30897634439267435,-0.4215226169991061,-0.8272907116408189,0.030293558256285068,-0.045095124661370244,0.18880203854972716,-0.06635349566448075,-0.19538399086800545,0.04747688770669854,-0.2855601161657786,0.11219882636732123,-0.0528804627923623,0.0786604332836299,-0.1150881777500266,0.03597138150305623,-0.4612078199000211,-0.42453268504189934,0.07398532819836143,-0.1486834812260363,0.06525645141465458,-0.2756698480227512,0.05428561208946734,-0.14445275924550455,-0.04532340002955421,0.5307977529236991,0.045902754827043125,0.3038262642029723,-0.0908403503630263,0.07324489977871465,-0.028449279179046327,-0.03290021040052326,-0.08931121714562046,0.1069453688597865,-0.11932598930752601,-0.11562740916583981,0.24324234524758287,-0.25298057391498663,-0.12152116306943217,-0.1930504593120667,0.2396965166796212,0.06053954481955384,-0.058900191468379076,-0.11510860551167114,0.09399007682782941,0.002294832545322024,0.07325532839476435,-0.10290252308677585,-0.06758249945522639,-0.26326989296417275,0.23903725087145386,0.1949448853772544,0.18866960018421997,-0.04109491094733327,-0.3393897028325645,0.20454981554795837,0.17424777357864166,0.15347967731696258,0.42850911708835293,-0.004719126974044577,0.49859807071580664,0.07582876889559596,0.36940307715313736,-1.2538924287835944,-0.19387850277461507,0.022319863520387468,0.32820558427388735,-0.09435672194729508,-0.06871411096149474,-0.012958055181552297,0.13374011390939244,0.08274906785518023,-0.040943254008348626,-0.07055346195950886,-0.00966682211451853,-0.33792705543291646,0.32563861647283726,0.11743520484368762,0.2065572096510577,0.12530370386888212,-0.4735927519901531,0.0015855544876850296,0.11737310477239225,0.07163720958766565,0.43856792529622796,-0.34409406183438485,-0.0774753022213321,-0.23559627106611827,0.18735410893130686,0.2932054503202175,-0.04970609891327485,-0.2025540858040262,0.5903908058111684,-0.24893574217312697,0.46957290203180696,0.03518164270954453,-0.38269434548648157,0.1936757344845141,0.04012588160749742,-0.1077293258537822,-0.08856858636592337,0.0220131179953064,0.3832515068741189,0.2211066892166738,0.776760057266757,-0.24050097639219434,0.2588038146962361,-0.3366950850876354,-0.042918088483910606,-0.25866671523450624,-0.047497896918341075,0.09231105938480455,0.43911879158258416,-0.03892290173079381,0.09813997692526222,-0.11372449590242953,0.1474344184048314,-0.39758923049141126,-0.3780202185545588,0.14537743021830857,0.5483729970707639,0.19612922273458003,-0.13615526461981783,0.5173893713204784,-0.4720260269140105,0.009971974070461721,-7.740118085608996E-4,-0.08837375977443612,0.05787580396876738,-0.21476362378312527,0.22028823265553474,0.12254436562359038,0.12348323047447443,-0.08247764036810351,0.5378902108622242,0.13038595010004425,0.23444880940929363,-0.045039852516246676,-0.5152330779524135,0.46931475295857417,0.04718910064134731,-0.12071886149126303,0.28444721397271866,-0.00862346941132921,-0.09579635024172739,-0.358233343073223,0.4712340144710878,0.09796470019368611,-0.26563119281956676,0.14874658271471614,0.9679551564632735,-0.06855548710284214,-0.0027637078303261882,-0.30301452386400185,-0.5110678916366982,0.37179838481973265,-0.16099163133966088,0.10647997231504318,0.4850587147117201,-0.1078876397375806,-0.13797973812158712,0.5074181511479569,0.9163933539921657,-0.019534910349386588,-0.32627681486345145,-0.35294521770137843,-0.016496119868195908,0.13048537114016226,0.09246782671364942,0.07825326369966462,-0.08426325731546129,0.032909919479322806,0.047898838586697065,-0.16078306847609783,0.11733211888877311,-0.24683164172876615,-0.005700719108973106,0.13121314461090386,-0.0508944783316884,-0.2955880447903356,0.29057940591940046,0.48131000788115014,0.1445949052738826,0.1335142992522965,0.007056111220653706,0.20113951382823905,0.2754566720146084,0.2479134817191239,-0.07594118725424272,0.24900671230029842,-0.14663585390988404,-0.05445507989585664,0.10485100789243303,0.41959077204250783,0.2217409290415858,0.14902964305414332,0.3032466308926368,-0.2664258158964764,0.17105715167283617,-0.01855171408475074,-0.0045670962654738405,-0.1541383948541677,0.015282057860739494,-0.01327767440086022,0.06460681720458473,-0.1482439283259592,-0.12877309801858977,0.23799001865443203,-0.26714725588775906,0.6612958033514009,-0.12884809727066268,-0.3333890699687329,0.0019859067217085392,-0.11858254414957967,-0.1757794549961576,-0.07650311458863104,0.6717318570958503,0.13779577180756372,-0.0862440660585222,0.1186935020105015,-0.05220042027049818,-0.32184452589867013,-0.06532257813564786,-0.0027678872454495905,-0.08455140557860333,-0.04348632660497853,0.010675062621857726,0.16071054925292483,-0.4606048944651163,0.2396032346164214,-0.15501311129289783,0.1680753665789533,0.16197780376143064,0.1346276938292317,-0.08513223612960047,-0.23795868346840465,0.19502684627089048,0.06299024398712051,"
     ]
    },
    {
     "name": "stdout",
     "output_type": "stream",
     "text": [
      "-0.08167536137948933,-0.09991585896756751,-0.07402433849732086,-0.1666034823621474,-0.31529069790567577,0.19197946153833675,0.3619356523990832,0.005673089041731071,-0.11342480714470023,-0.16392763020828863,-0.08004829257612017,-0.02790300568279128,-0.037030249876162866,0.038451501659017395,0.06177013871854521,-0.3059386308676911,0.10095034512872016,0.3167732663147648,-0.32289861422552013,0.16681638367226467,0.01747320132954233,0.39364956099054715,-0.4185830575547203,-0.36426025406434803,0.18609524349998388,-0.19229369524611295,-0.6646898528092225,-0.16658696188343236,-0.08777590404517323,0.02728648036641071,0.08310038222250052,0.14153205775321134,-0.3420420367394652,-0.06675625105761585,0.04934773791764821,0.22127100473934236,0.021550478809099077,0.19776180544016297,0.2853946104441129,0.11343221550268529,-0.5371289278471423,0.09954682405124253,0.14692668685421303,0.06683002694408269,0.05156333026687266,0.11604199865332424,-0.025366155430121017,0.10733379175254179,0.009382450547034644,0.26653901180962175,0.3210235555988344,-0.08689259107196128,-0.14517421584735318,0.11842102751145955,0.07256753419548646,-0.2924251230912762,0.07279370081344541,0.14822802798914245,-0.005751163590109401,0.3721841851467297,-0.2064721250251352,-0.14343716499636047,0.03721726709482203,-0.49033971663076176,0.4546395691741239,0.1368015028781676,0.07813708267529845,-0.27947538011725365,-0.08293134771361757,0.1000235190432499,0.10993793866720719,-0.040359678934316245,0.30239371563969175,-0.13517671313918897,-0.13710953089002098,-0.1942503614423363,0.19957328316973688,0.17735802773835668,-0.2793753255304611,0.04854396002390137,0.08390630529964713,0.05533018611622857,1.258624004554499,-0.35398660465283355,0.03864773573764002,-0.3109735627796481,-0.16925370798176406,0.08290877540927093,0.04454412999529003,0.4637401159078064,0.1335012290099206,0.0466396279119904,0.08094106629028396,0.30823879946129706,0.09752943903259934,-0.25903032848587626,0.2690270020613027,-0.10863445020324153,0.3200132365449766,-0.31927899422862066,0.19689491900035366,-0.4095083508697861,0.4468619789570099,0.047068071636340414,-0.23465754114921655,0.025815324312631553,0.04003647528039378,-0.5830822490986562,0.18017280298707777,0.014673993622893679,-0.03510058180273137,-0.1291180168419329,0.27037270632434646,0.3605191826830004,0.21050336990559537,-0.016249121880293586,-0.1426682067995743,-0.23631466007550042,-0.2552588069600668,0.2672267819849119,-0.1792413512190777,0.2502536856453677,-0.0786628481995647,-0.10134782371526685,-0.05853979147118442,-0.027317830003406575,0.11103168112777777,0.07636027176020568,0.10820134117092157,0.2370436275106898,0.10729056514731197,-0.01707710711546781,0.14081930143379626,-0.6320355759729654,0.05480984192209576,0.025386308170319193,0.020427046103679288,-0.06436953771770285,0.008844317735190461,0.13058132543663628,-0.33421204221955564,-0.18503948805175918,-0.019272638693141105,0.41231546409850794,0.04010925288548867,0.06467292478385493,0.3302214008293751,-0.04802239661895448,0.05025524152597291,-0.25490258174970853,0.24776533001208617,-0.29630635224231017,0.04040823216409397,-0.19394353664707564,0.09740029602066282,0.06406152309699226,0.07995799093278902,-0.11438635881364574,0.30822786323891627,0.6250744237440747,-0.24109495974439743,-0.18045308592004455,0.14723545209684205,-0.034915159778037656,-0.07317754270214988,0.17046862056145878,-0.0440428364587306,0.2382752247272303,0.04768681292082019,0.14958210124672464,-0.11409706040887263,-0.08827672869340436,0.09489232345589335,-0.28565706412704717,-0.018744311580864,-0.08755976345350246,-0.12773077723090648,-0.11710337189005479,-0.1326138835763766,0.5325242770778983,0.05370042146801454,-0.06875074123241542,0.1998606527667893,-0.0955918303041409,-0.35759719206816537,0.1654764075285001,0.00890947685426756,0.15671020462800894,-0.11116936513107997,-0.009274600038648897,-0.6714342320737087,-0.14347421845273584,-0.12778298148079148,0.28422327441506473,0.007861395352829165,0.06091663870240405,-0.6884421485085653,0.14222558424854886,-0.08163726779553283,0.09517395770977463,0.06610836008763779,0.0661834238100872,-0.050520990880094936,0.001303802266096895,-0.28269638295995214,0.03749065393730994,-0.5353226378591748,-0.7286283671580701,-0.09906810397556626,0.09566528888084594,-0.061093074287486955,0.024042576352034134,-0.1363532357198314,-0.00939901982660438,-0.03888420698860477,0.09124808417290098,-0.17840947585194483,0.2525687521388154,0.12770265910438588,0.28430333855773293,0.1045910588192308,0.11094017090346597,0.3415813167888008,-0.36223561787365066,0.1105176066942493,-0.04913828665128907,-0.06261913666126473,-0.33820128117029113,-0.05886079583588184,0.027648547583195952,-0.42803134642440804,0.00883192238768237,0.3840264833137306,-0.3242278527664054,0.08981576987051314,-0.11101404003980105,-0.12538024022081606,0.18310771151654695,-0.005650643155234051,0.2463277694126281,-0.2970341709670115,0.23449713161446253,0.04488129370120574,0.45585366956146167,-0.16911519802193853,-0.03764689225942896,-0.1755968660352185,-0.13087993426261982,0.01605719872947321,-0.1661426795066529,0.07301408726753372,0.33804264869971173,0.27402138645447466,-0.03684996193081205,0.30223727420874946,-8.075461994363599E-4,-0.256802059815749,-0.007230077002632938,-0.05867380113442957,0.07341985847471218,-5.155796446333611E-4,-0.10958416452246345,-0.30508015823320284,-0.08704210549270772,0.0224424029288399,0.08947582281879497,0.02725455895385044,0.32868249043505837,0.13582815599007814,0.032932144551546846,-0.7157608442627758,-0.07805231524581448,0.041096433378844985,-0.3163191924021688,-0.24795883782388192,-0.517815460210297,-0.38633433005961904,0.092868822067312,0.007963990010936657,-0.03436614857770687,0.4811939573592091,0.02625711932999363,-0.05269629074074434,0.008911615016837597,0.1239026903703995,-0.16951437176256207,-0.1164683374718761,-0.16035906586936166,-0.10086755973525595,0.024355750445823353,0.004082219653131076,0.021953512356729515,0.19175609253270245,-0.129124337228374,0.18418038226150354,0.14081943323715881,0.09739214579664157,-0.7352229151630508,-0.4239096713089983,0.1725769057708197,-0.5193591098623007,-0.10204501712137849,-0.09224568469388784,0.09773330398409268,0.20492110896973426,0.08906220781241801,-0.18259891778477846,-0.005924837989500403,-0.11306266679013148,-0.29351306990032117,0.25523925787829627,-0.07063563990274035,-0.1923111072565915,0.07985174295767879,-0.1345027893581076,0.07140820067664883,-0.13843564317598525,-0.011750481497536052,-0.0669266475664582,-0.013076245796455319,0.11495862893513555,-0.08842066243642696,-0.6284429010030621,0.1836873869759023,-0.16282510437002123,0.17172051527885696,0.0890064761524614,0.014960588679338084,-0.24299713807889659,0.21520046295982218,-0.3884514933720716,-0.006554660571301373,0.10242940811970909,0.3829615712496833,0.14485110034418164,-0.45198924808190594,0.11251516647863051,0.10377874258823372,-0.32544463311432625,0.7048780336482247,0.3530232960470376,0.08837925688931428,0.1748556433880809,0.11559787884733573,-0.07607495787205124,-0.589869409779108,0.11123831440014681,-0.04492985269790762,0.09438273370341502,0.1458184247488656,-0.012721139284689532,-0.29280533952105786,0.4835233141967097,0.1726138264771936,-0.08023829572317208,-0.23447880628056741,-0.0384997724714938,-0.21983718749651326,-0.30227180420843164,-0.34166659769098645,0.16079721891143578,-0.11632432601779193,0.26497062457399395,0.04706548960350123,-0.054245002774922675,0.20613877719936777,-0.03836985365084521,-0.04543181702872552,-0.005520016333592265,-0.1459987566663362,0.15967052962386202,0.02943315729765203,0.43085930941217604,0.12799223016970224,-0.28408354232664373,0.0917590922616601,0.569852496855255,-0.007741772924816337,0.17208982980828116,0.25170829909677,0.1376207399405729,0.1794262136165732,0.09442854961081754,0.29888488620976483,0.045700067461595155,-0.022670138660220395,-0.39478188748678417,-0.07370328856376222,0.17307649505160283,-0.09603541530515744,0.8772893520434392,0.3006232477351613,0.2685317019249184,0.12523629285316884,-0.06922146390138763,0.1144465995964807,-0.15472452711457935,0.09130487741796417,-0.06295199343108708,-0.09847273948126492,-0.03289354489570059,0.10384475590597497,-0.2588697847526698,0.06020159384945813,0.014042979775818394,0.34295570749573456,-0.14018224527964754,0.07005676450618475,0.33582087004306577,0.004997153196257772,-0.26585700994411765,-0.0731387953103963,-0.06116322560983974,-6.142732950986501E-4,0.009092605806017666,0.23321383569843923,0.8205731327014604,-0.40628182776940786,-0.07259518365333698,0.21682110049674508,0.20227538382699234,-0.026685021129264175,-0.1650070805618228,-0.18186288213933197,0.11030567569527482,0.09707261669824015,0.1456769682722802,-0.08119981342450028,0.0017840582296910698,0.009359106273001893,-0.6671802651180745,0.22948871903119059,-0.004690813138080453,0.0818619382090473,0.1788468216728477,-0.46182705827462067,0.018787722724363857,-0.3301609980243943,-0.0047951384666075425,-0.17477661086747415,0.04601621025048916,0.2239147926745778,0.09091050099104928,0.14406910707460044,0.3200678125671136,-0.2509868393238266,-0.017061972745840863,0.22844546889008446,0.07705121047229194,-0.09260913293488006,0.2678901022840004,0.12752045706342338,0.4582154994786292,0.15285135108117937,0.06712965118542491,-0.606409337988676,-0.2349074809179893,-0.2116935309953731,-0.08172205084428605,0.05252069367445556,-0.0189562543195707,0.2840286516389532,-0.44042341105695826,0.143876468060904,0.0484382655864812,0.15548872640363776,-0.15425018625424522,-0.05015721270192949,-0.02218648955739811,-0.25724381688935705,0.14892357082602467,0.1491824400650145,-0.09583382362594492,0.1430153309019719,0.48860407956079743,0.3368975678296753,0.16189486546322537,0.031199349118829045,-0.03297279514746733,0.07451381350499187,-0.12753414105053415,-0.23740893416229072,-0.16810828196888025,-0.052284193205209856,-0.15559069321241228,0.20259023312497007,-0.147260430128806,-0.07245049319668495,0.2515275837053598,-0.06625364147649611,-0.11996639041750472,0.05212299121863931,0.18097005877209815,0.03410195933219407,-0.06971328450115666,-0.3597330232896501,0.08872735638043537,0.07216476571290638,0.031736137488568156,-0.5664963774886966,0.3019336091386212,-0.19358217007495807,-0.31949666673002286,-0.007568051015193979,0.2791968195110128,-0.03870960806404861,-0.015864817374777872,-0.3847504140770763,-0.06631119806265173,0.16891811400577209,0.15883410403835882,-0.43121472337201244,-0.2721248423983481,0.29004825194320805,-0.11393146079904189,0.0180041232790534,-0.4961517726054522,-0.018042426437717307,0.17491668608852315,0.17440882672109478,-0.19405075181129336,-2.3740841540911294E-4,0.40302943690477366,0.03528106229562227,0.5101911630471228,0.2808098659481276,-0.24738328336085272,0.14256509215171023,-0.3239389185207184,-0.24670911100605392,0.04173407879936634,0.03311352629940827,0.2709506034714984,0.24796667791735474,0.006676763732557469,-0.18704499780320075,0.04011278951639222,-0.10937718528759437,-0.047234096309133076,-0.37265609149816914,0.11595720467869171,-0.32480378956514494,-0.3897807054401018,-0.2982775410454221,-0.04620002366173869,-0.06569718522165598,-0.03836062717934171,0.03950195891193521,0.5455198927653664,0.0263468812769658,0.04021296456523617,0.3459204759132116,0.30489123058563056,0.40291075436160617,-0.18638283555178323,-0.02619254037103866,0.08593154097496089,-0.21573295229065356,0.02050199108642101,-0.1289895104742697,0.04342336772141261,0.16211319993729895,-0.037725539907276236,-0.04647294337761373,-0.452932964745981,0.21833662997779035,0.023956097989776954,0.031347604504370824,0.03125080086788409,-0.20495957961947656,-0.006023236537781187,-0.14741918821347216,0.49024907703552223,0.7281464434184218,0.3548965504637731,0.5176505188952029,-0.10030372688177965,-0.1995165508109435,-0.027525177713519623,0.14701430691392084,0.1309851401836172,-0.7150574955688495,0.3680194403170964,0.2906790314156347,0.05613455591092931,-0.2241537564267048,-0.11249191213014445,0.013834249581899443,-0.19367827819560035,-0.0030107763373624233,-0.010228613261270707,-0.06701878969647418,-0.11567315510327557,-0.1587571168064931,0.18220381686273673,-0.017645662808864277,-0.3489442155149689,0.05001598454772065,-0.12875350246669207,0.017510985995747737,0.06802826451264546,0.018651744355868645,-0.28289809068700233,0.007633257496257887,0.19614436120445566,-0.23856457310372817,-0.08893236007592531,0.010429474269658574,0.07153171421304151,0.3416916596050736,0.06967513716014925,0.09866630952325063,0.09297452967125958,0.3095555595780368,0.07815742003597757,0.187920880069671,-0.15564837584432534,0.4209407856632711,0.19458339146313955,0.16725312342493925,0.09900598206750007,0.14923181636742935,-0.08332552508684243,0.17880622488241377,0.20255996941163865,0.4643431221142886,-0.2732934382928275,-0.2753743210738399,-0.2004264168923855,0.04093746207861569,0.1500870528215271,0.18614408611312538,-0.16243078034538863,-0.19667857911643277,0.047567201317010394,0.054713733666713664,0.23931205815427187,-0.06913909070559905,-0.03874109448644438,0.266733764689941,-0.1019152770172216,0.1434906516015751,0.0769516785881685,0.17955820859694122,-0.059911953536719895,-0.10307993334286211,0.1400579754822917,0.3029644179699149,-0.05992613224138621,0.08555193182619665,0.10354197888209576,0.3851226154983522,0.23659467385024843,0.03907814383696284,0.42968950280749496,0.2650189506711733,0.12285128576745263,-0.3074828371626787,-0.15086873811965867,-0.3209217782909473,-0.22348276487700833,-0.03145221762952766,0.1256443219863033,0.33417479343989714,0.3123307755324798,0.05461362950040445,-0.23640490080447774,-0.3452862937109267,-0.19339065148016468,0.0028053596230548034,-0.08002104573872715,-0.021194170936553985,0.01285194411793576,-0.11479718660608673,-0.24902713192668913,0.13853148933926274,0.16302356563252987,-0.07533565156899771,-0.04990169065838955,0.35201040113691556,0.36441152857415715,-0.174482818263139,-0.16544316940987017,0.04043628386422376,0.2840550613763219,-0.06822162178184563,-0.008802361919108829,0.16670560878571808,0.07048610847307249,0.2334556198183213,-0.16231654613981436,0.013927689202377466,-0.5805052285687001,0.12785329934984757,0.024663766754197243,-0.22784107382651364,-0.3398266069369961,-0.07714731999860613,-0.2717283613751055,-0.32148923565506493,0.20995974897725853,-0.013488687569438515,-0.570389818248032,0.09776385324704955,-0.2133996862791883,0.29255658157622494,-0.33188608923070445,0.18756937634930385,-0.15356683857679262,0.25468822799237395,-0.6911643255811357,0.05776835093531612,-0.16183977643218525,0.7002002325763882,0.1231088865031673,0.04107089319461994,-0.07806379490078753,0.15126082416538666,-0.47538666889431996,-0.010786936584329283,0.24524890391031418,-0.06130530425136216,0.024405219974043508,0.11631903840712561,0.04892333508078295,0.0074701586474252915,0.10923414759049276,0.16083110606842607,0.3640396161097419,0.033978778350848,-0.05269374704047929,-0.19677130700743367,-0.07480311278341212,0.2559974781721495,-0.05381784862238693,-0.07211422428735553,0.2926452687974848,-1.4815070133591928,-0.22672457645718644,0.23010719778021257,-0.3489674926766561,-0.14609877938516264,0.12944860906072098,0.242278830517281,0.03821977264881872,0.24876641533917235,-0.1415709467888711,-0.5354370336257483,-0.43606381224913054,-0.25754073114899706,0.19182585107236183,-0.23531953063463312,-0.062060331705095416,-0.20113361572426247,-0.23794021269078153,-0.21895947480513095,0.31543564455374323,-0.08225562336387814,-0.20560289442008883,0.21591865749985922,0.05417136510821924,-0.0978337237448569,0.4207233371724517,-0.11788007686825984,-0.018182408805264828,0.1000324314273866,-0.11968041912429485,0.42022329206815057,-0.30723925862173,0.3838882672685928,0.16385535642703541,-0.2814111838069833,-0.5276846001656628,0.04537092345262757,0.05051813241635126,-0.47831753331127735,0.20453448392614568,-0.13084711219986678,0.8693362187496194,-0.07914164180766171,-0.2662599525833607,0.24677646069375864,0.23054128850292,0.0381515814838086,0.14460260388981908,-0.23887251307298832,0.10573638714743687,-0.1054673739715417,-0.037949880050953365,0.1726784159992515,-0.1276817146329594,-0.08693520976882423,-0.08639810076216471,-0.3207343550245391,-0.09532042307673941,0.2090953553268345,0.05655725274660601,-0.17704897759247853,0.021671902817967544,0.08816077640566507,-0.2536553047357567,-0.024576313532306517,0.2992241830810829,-0.03795344732103192,0.16942230279554982,-0.1576760908149233,0.08784976821756942,-0."
     ]
    },
    {
     "name": "stdout",
     "output_type": "stream",
     "text": [
      "22014377687250256,-0.003023076860829484,0.28907061300555587,0.16748892743390148,-0.026843155505179222,0.46276803263577326,0.13632039482060496,0.08431237133859999,-0.03475329471485711,0.04219359428963564,-0.05333144828946636,0.20381690214622328,-0.17143225735557155,0.15085049397609196,-0.24752381662216275,-0.0872542624688599,-0.20440274332895955,0.17785294950134906,0.2343647949036451,-0.15603063790579563,0.04224551622239824,-0.015565060063505297,-0.1231760881153286,0.6072172172906781,0.5907033082282335,0.3343710436603048,0.268401163005725,-0.04143541754775633,0.01961651923379391,-0.020470368495482207,-0.15963986355233425,0.052494861436690576,-0.38070676293410144,0.06121786160251835,0.002966570844162422,0.19665629437914406,0.42349173644392074,-0.15467583325523582,0.03919848683352332,-1.3335062614609339,-0.18655359541863845,0.26019797295329955,-0.046881124629263145,0.012340044020831395,0.6463006874722832,-0.018063939276098537,0.1981979810314388,-0.39691955605181944,-0.5744784125828072,0.25684869969509205,-0.15003452651899843,-0.05176651694029677,-0.006337990040643893,-0.08244781648700468,0.37452622787229156,-0.309928283966893,-0.07298232444426973,0.25468005890378437,1.2245719571539742E-6,0.23382826446655455,-0.12701729815705634,-0.020940925122380084,0.07079488263662369,-0.08276649547214375,-0.14246552299471865,0.033254730825741104,-0.05901240364010866,-0.030875132589592062,0.11718997411641485,0.16196646607006415,0.05666296825438117,-0.004461661125651031,0.11796954343597138,-0.3381742775120305,0.8076322614073728,-0.027928595408784982,0.37011442722439936,0.07249152223232147,-0.28188131308907033,-0.024932768219628747,-0.006443763689590538,0.2562235519102541,-0.200500863985342,0.14688697977456613,0.09959714517139245,-0.010314128699074014,-0.3118687123425396,0.09183649457886711,-0.15495426545650084,0.03550753861768343,-0.22652201779666972,-0.0166527747900744,0.24878401120768923,-8.273273619098757E-6,0.15757370263956422,-0.011106782744613599,0.19731918945816154,0.29876606927340726,0.1414030623827245,0.1252402636619504,-1.2340663255068611,0.1541355300718813,0.0179889268037715,-0.16721318304669755,0.059770252975558734,0.4349815371567101,0.08887608328161671,-2.22295820475417,0.026646212042966435,-0.02077442898127855,-0.29546465927265875,-0.11468876237593638,-0.324064094647473,-0.02855550432448007,0.17055923824843197,0.11246840391187313,-0.13973428136499652,0.28134672769013286,-0.27629681624501135,-0.13415150739579076,-0.307914026949852,-0.278582780461203,0.1623472984754263,-0.4669361660821909,0.23219628897024816,0.33338354324032804,-0.048830097977207526,0.9914940718959565,-0.21898901084051953,0.074213891266408,0.05021630660456429,0.2476822768719665,0.11110693679462384,-0.3533521610348317,-0.4078783398589124,-0.13540832066702632,-0.027943274978797675,-0.048205046864597,0.26616640361281835,0.044937139564257995,-0.2123477925827803,-0.0827986348401228,-0.2339330497220991,-0.3781874357934528,0.24251729810347025,0.12372935314957875,-0.3172830227768551,-0.33637599454225287,0.10379735620974238,-0.11412346671230833,0.19754509820300223,0.08916025296346841,0.19718748414992843,0.22668608786339142,-0.008594216463933373,0.2111314626911113,0.13484322197407778,0.10350486907050027,-0.2861620538210308,-0.20754787672023747,0.05230971593973579,0.21732234065166703,-0.09484272795288895,-0.034893015151601425,-0.10380745502029812,0.1227049051714495,-0.12696904667083722,0.25099759482337985,0.1402251442833546,-0.434161677971101,0.01379906107301581,0.262310424741473,-0.2777384227155906,0.2819012109388054,-0.05892233130604055,-0.1347183772202224,0.10352576633300066,-0.31183925468154083,0.08021269549262705,-0.18001836975093347,-0.06938071820571944,0.14751471873752564,-0.26978603787856903,0.13589809251646923,0.569946897651607,-0.2983587390558147,-0.1150881431634836,0.35435552218646077,-0.007795728179316961,-0.1206427843878317,0.13811070546671791,0.009384169216920004,0.016758743907650538,0.519201137942471,-0.11476215349202382,0.01766453894252281,0.3877688280956762,0.3820645629488924,0.42586412278131053,0.215572565697039,0.07866971032300822,-0.09760930723075226,0.07079387193559646,-0.04320084862323437,-0.028051268925206495,0.18454723552690905,-0.032104383438690216,-0.0028185978256156014,0.20265736315943222,-0.1491729592680556,0.06697600673761296,-0.19445264913498223,-0.16914355778482001,0.08508797259893784,0.26474089423481734,0.18167190021642907,0.19391694853320757,-0.019675031019027817,-0.6848630963166565,0.3200579127833021,0.09050627600654548,-0.013032454151707862,-0.24145973921185893,-0.3434136217292937,0.0815196134899338,-0.2369891140892078,0.07004581130833128,-0.20785414908619385,-0.23951795215440744,0.2137562031834048,-0.33046683847248,-0.5841704661791587,0.1580780577589871,0.4016642399404738,0.028334392510891728,-0.1926617705419078,-0.11312810513430496,-0.11803964171659366,0.43417012176090586,-0.492587771308154,-0.052275414338661674,0.25825946131033245,-0.27489234302970883,0.30635589947388686,-0.03274242407163995,0.17734805059307632,-0.1147229813436737,0.04739783818024927,0.1361916458720948,0.8322980725975975,-0.13461788832253008,0.3851086411432709,0.040367107821867455,-0.2643801216372101,0.31702739164823357,-0.432330771181643,-0.2924432660408698,-0.0193652870891888,0.04637510069176815,-0.05781061221736846,0.10122654791798821,-0.48362227531514,-0.07785395977403285,0.14985393253498677,-0.3689312460090615,-0.016584083305638098,-0.19014441159964,0.38803561961614125,-0.173844067806693,-0.23024304125961287,-0.8318948026407273,-0.06631787818887656,-0.22234051449200398,-0.22719651940435642,0.08917508424446344,0.0231797580944148,0.18300744113573184,-0.04533548905070376,0.12269108837838211,0.24150142190619842,-0.29910947269593147,-0.02115145362837075,-0.0838866688314061,-0.5757525748843723,0.0706235076738073,0.16283406069552317,-0.281169499674867,-0.03579929785405792,0.2842089116291717,-0.11133364616750936,0.0033217259631369875,0.2605097281215364,0.023839736227299443,0.029095415498531743,-0.32499105473260853,-0.03652826851243667,0.23003728214962346,-0.1030366856458473,0.12464792613192517,0.018793167769907953,0.16004624324125538,-0.14487260418577244,0.12780185688991932,0.3736813163947231,-0.15859086458504415,0.05612525216818727,0.03382223351626393,-0.1987625758993707,-0.2804925867443431,0.072884270527159,0.2540099730913385,0.07064562006325696,0.11551752416390926,0.540466299934229,-0.17543687517247675,0.1839340405719298,0.01893197979069208,-0.06225024116736852,0.14975550639128654,-0.07725757777460329,0.263151415372317,0.07736159054519993,0.23935659664843145,-0.5520323048890475,0.10999666804236907,0.13659196361094167,0.09536493633475318,0.03024983554915955,0.030354164340879973,0.1374195164769473,-0.004821600044842839,0.049986724318901186,0.25609552978443767,0.2560978609003849,-0.18011025328893646,0.2282231430481984,0.12024621120266019,-0.2038075312215858,0.08999372698983969,-0.07555350564707833,0.4295811008234396,0.3197525602298187,0.1101854381278392,0.11521163559470603,0.22848192503962098,-0.08015002344169786,0.24742196219794535,0.07508295825419815,-0.09577519087824217,-0.08069773222170629,0.7788311322042262,-0.015802735269333457,0.03942088803505922,0.07178916238889797,0.06988622058471267,-0.03191492426098224,-0.03879366919101108,-0.04079935264595151,0.4547580826199294,-0.02456669225576862,-0.029135137839149363,-0.010745426533202188,0.01108266513850217,-0.04038696850423923,-0.23692680130132018,-0.08892078349439331,0.011035225810342095,-0.09456208623670874,-0.37695713169731787,0.02216944244901115,-0.10613560214384657,0.11481895488219535,-0.03167547349656727,0.06260791293100179,-0.039040344311373716,0.04250336702267803,-0.0994592931869233,0.026995209120748813,0.046107748790971716,-0.10268242559742473,0.17309603028892162,-0.024429054581909724,-0.18744158577315548,-0.297595322940107,-0.8436535471027808,0.02133493569024986,0.05369348580221331,0.3832380423831576,-0.0023963413961347333,-0.1317623179172136,0.524601736787514,0.08395463498311573,0.22702525660702183,-0.004965683467200694,0.16044314644709948,0.3171300410276802,0.2539171969669118,0.10160873174397142,-0.10331749655512242,0.025679978625913695,-0.0669103447603078,-0.212141228118317,0.056576628365735356,-7.25855181129963E-4,-0.47375989932880835,0.007663145085884445,0.1456969494718033,-0.32288240732566154,-0.22487735272653395,-0.21995211051965388,-0.0904331502204814,0.23926957120527695,-0.1686658949890996,0.02059320396688765,-0.033060882112433965,-0.038155691744786786,-0.04189387181661563,-0.029473378153934637,0.3536737091860897,0.08595943707623407,0.15290151126205892,0.031259899600190925,0.5457169250504418,-0.07053527581304503,0.13427832608301224,0.2559223970629964,0.32612678327692585,0.29757304242153615,0.25866880462976344,-0.3886380334865133,-0.2001514289492499,6.672780715248574E-4,-0.026975073727899496,0.1999377131212069,-0.08620156853367024,0.04037497684305165,-0.09844134450728724,-0.07532206605642072,-0.08171374718998614,0.13033843216943156,0.10293766448167892,0.005813931601058887,0.14534052143524387,0.15563155770823223,-0.25649142935230934,-0.018419837588472387,0.04164785812591768,0.27740999559423085,-0.5388325435113589,-0.014790480729511085,0.43486955130056737,-0.6525713237740287,0.028110526158228774,-0.10775736442829163,0.08774950870881787,-0.2719703042629102,-0.23005711235053056,0.19353667816553155,0.11782773696551543,0.16708443131810574,0.020610493504238173,-0.3231653336425414,-0.30351967700438637,-0.1737760350644043,-0.010681046645607954,0.03482982545738352,-0.01871617555239165,0.17259115404498715,0.3043812402641416,0.02983464463297553,0.026601209282197804,-0.11184115030320663,0.436799637772026,-0.2718011921257908,0.2011274678721992,0.15376370587362603,0.5505585113204293,0.14229941732292808,-0.0624833851578017,-0.042019445628993866,-3.412130834429832E-4,0.3748525786464294,0.0272031784452281,-0.04748156719682629,-0.19191455743364338,-0.19708544451768942,0.0027539117880975143,-0.16957396074741687,-0.026163519846258098,0.3038175004647597,0.13238486644162195,0.03477691379575633,0.012758088360211368,0.19639139356702487,0.13282904921390912,0.44128765918769114,0.05419937342034636,0.08512406050082123,0.10182053609645163,-0.1030538694196847,-0.31624147473405584,-0.25855073811213686,-0.19235963156442862,0.23067766632615275,-0.13898538049832265,0.028782003050101482,-0.030299947635047817,-0.14004672331408893,0.12439188296932194,-0.23256153468586505,0.023815837096761973,-0.037700420143191325,-0.3693438532966428,0.03450568714263051,-0.06794990483904663,0.0499773026243472,-0.1480939315007397,-0.14422043930983403,0.6743576311997757,-0.24972877847373123,0.11314057997624771,0.13690716381594192,0.10168616521875021,0.05430283514379765,0.10606956053606752,0.19489771311213747,0.4090121993445857,-0.037651588756057154,-0.6054350179602276,-0.15521897602586282,-0.23963558649700448,-0.12323857598686766,0.02181534495074171,0.01964562479957395,-0.22503438327325762,-0.6985308176409126,0.08237344299302517,0.08416743228452686,0.266693766837078,0.1676604305652224,3.577949449919612E-4,-0.03044232021306019,-0.18418635193245736,0.06141486428250596,0.11829457184395699,-0.24223984993923486,0.025811426672757473,-0.373618742469985,-0.09315756890399168,0.061772214516633554,-0.06451263097638409,-0.14749459853324268,0.025212687950787557,-0.11527822369181787,0.10463698814058148,-0.1115229604540964,0.28328060139424466,-0.1611861253018758,0.12205145652866234,0.12002242230516069,0.12898561919767293,-0.1878413856864377,0.18901339832627104,-0.020612405803550112,-0.28629134819724994,-0.2041906874702836,0.14028469131992896,0.25528070395344193,0.05117762118905078,0.19783335748532352,-0.23707289042575952,-0.051659493898916,-0.04309708200102453,-0.03612515139694771,0.5815359178523986,-0.2920463714113363,0.3738661268697297,-0.051768010023659224,-0.22174131036367095,-0.35395022056351805,-0.09123836004141471,0.03498557644224178,-0.07468940511744025,-0.04258114637993044,0.30496600333520635,0.08187043709970768,-0.2459558860421402,-0.024180970800805224,0.3167063318419021,-0.05500165960479365,-0.16162990457402404,0.15691892103511046,0.7984607203648625,0.22389548682712326,0.15399755367844292,0.05687810571675614,-0.30681173865462374,0.34190360656455066,0.18689334114369419,0.04728055669675997,0.08358949471133276,-0.2585472353014886,-0.007447994339306231,-0.13518996725842533,0.00796942114247989,-0.08598277536418622,0.21315349239038878,-0.1921269966674656,-0.19910628331117675,-0.273844806855612,-0.3279086592827956,0.26121222471070393,-0.11653696623060389,-0.10766264963514448,-0.02948454863964792,0.03651538842685421,0.05028302148126788,-0.07840926120924044,-0.014047716478777459,-0.3316552180488906,0.1793484321667308,-4.3129027658578804E-4,-0.04532038909563199,0.06875228562005409,0.06323179521534464,0.25836826380054934,0.19403930135911987,-0.1196856661617001,-0.06819466352154056,0.17844274162837087,0.21670548703445514,-0.058017993178860715,-0.11312778370615519,0.033744788389233886,0.35891122152805066,0.10161954661818667,0.09414122931984871,-0.0028987699676444544,0.0026739747559961623,0.08919033038361313,0.2372955496969631,-0.1304836209265663,0.3057279090343767,-0.2282221315510942,0.19967479595652152,0.0395793886711087,0.11206460278628154,0.0674826418278094,-0.14666973562402563,0.0774204901579414,-0.086718874120195,0.40011805712165827,-0.49165459495049274,0.5802996779842972,-0.7494880669282512,-0.1503526999524285,0.2158239084518467,0.6867328341828941,-0.35796241827312125,0.004483041971181453,0.3428458670586629,-0.10143517034350975,-0.014040559387789907,0.1074855386503172,0.006294355125087894,0.058518767985308126,-0.5063566836245187,-0.17674715304262967,0.541795356059358,0.35617576359809644,-0.26877197932647634,-0.23569507791571437,-0.038303374827177,-0.0488510754454725,0.011855793606128604,-0.19425853100689888,-0.1088217179816036,-0.1148358251666929,1.0331330094522562E-5,-0.15968928209324987,0.29457121556592963,-0.2843354021568849,0.062080999524414836,-0.005419660023190481,0.06587376606622207,-0.22301745555776514,-0.43078482622004943,0.5840034009594816,-0.04225345370359308,0.14075684160422738,0.4775439019933677,-0.09914816799323845,0.10968046658733001,-0.20206231349830772,-0.25754820419266883,-0.16320188099696417,-0.24458726557706104,0.22663763539190654,0.10870409537859545,0.6485035210102047,0.6565109542467898,0.14063127018696414,-0.020992706748368565,-0.28645657406414965,-0.17509804433206771,0.2216487459248904,0.046720888564469994,0.4288800877488008,-0.10114761646455128,-0.06861227259135078,0.15925452982352856,0.051533232463988825,-0.08961317495190976,0.1493586755523624,0.06744436102288477,0.22953520820976042,-0.1450916197107146,-0.007437973895036164,-0.07408478048475506,0.06587661870619389,0.362223730940293,0.06892062009731732,-0.24289564119645848,0.09196015034785003,0.23224477936025428,-0.6769856060887164,-0.01214169198027811,-0.22450745739704453,0.2018860525026364,-0.24855367093373054,0.6210705955039194,0.4572309514899455,-0.20822180407263094,0.03414994590342038,-0.1405208608896691,-0.10745469815221972,0.2581906627220455,0.21019370764669265,0.2991353354429775,0.07548620944874695,-0.16473666696315914,-0.12446295153075164,-0.21032752427681897,-0.14191808222174185,0.16521438686667325,0.33280844122864256,-0.08007728713543534,0.11813474289391382,0.2838971236075071,0.2854530685220337,0.1479214937376953,0.07225474604238924,0.1936373369341779,0.2431236419721559,0.27672248267681465,0.2187922145902147,-0.3600288433913084,-0.1409382406777266,0.048387195772169295,0.05015194046557032,-0.19819327134365533,-0.5553836835337257,-0.21604221661487075,0.25351481817460175,0.12350877131603048,0.0884261334493607,0.08416715803204394,-0.18346133289455052,0.28380857956957933,0.0035398608431256294,-0.10503601148155753,0.054270710665243825,0.09573592960046737,0.008681427482630061,-0.14605918530875361,0.15905688297872062,-0.16721051907906162,-0.35451766913363997,-0.11103236908240346,-0.03773211525624165,0.051729543278512716,-0.007889024397317276,-0.06346275962484044,-0.05042568932947067,0.0828735133472179,0.1010230344785944,-0.14076500598654706,-0.024204938981112256,0.5172959113861292,0.10561825213897089,0.2850051562149998,0.4444194615949823,-0.08546728827123498,-0.4105287132338569,0.09852160626707342,-0.17704587596175764,0.07079985436375683,-0.13369307018805843,0.061633497343249,-0.24995789816124647,0.004052340566707713,0.1969495139343444,-0.38159429147079116,0.45851073143133253,-0.048885536220497856,-0.3612624864636136,-0.18709335644200156,0.14"
     ]
    },
    {
     "name": "stdout",
     "output_type": "stream",
     "text": [
      "602881062817324,-0.020876326635393443,-0.25069122005731853,-0.24139334275577598,0.06513270347144982,-0.5298437039786978,-0.18512782693113528,-0.06540118518628997,-0.03723638922328852,0.3519929064166449,0.28844834700832983,0.14359878796173678,0.161210935896312,-0.3014586984415933,0.13701194020966534,-0.15045523007761638,-0.09478670141780722,-0.08848754406401167,-0.1130606115497363,0.3654138278946568,-0.25899533526610463,0.18571085613716043,-0.04125457851143083,0.04728138523895414,-0.024673097183009727,0.15161379239143097,0.32168295134593744,-0.10869128331010353,0.058184117844003264,-0.23985679376435684,-0.09890013455098147,-0.1147716957924563,0.1928406164711502,0.12335410890672815,0.16031178846436955,-0.4003768237170312,-0.09646872961572382,-0.06925974474824402,-0.010181132508698223,-0.2652831168912774,0.18593220541170274,0.2730463604635154,-0.05029965436369876,-0.2778519835181038,-0.1963238398147211,-0.33395407449255793,0.07644630278150395,0.6034293142160915,0.05535800485764737,0.003419898719604426,0.10877233070097934,-0.1156956296693476,-0.2726866433159196,0.046630696930030066,-0.15909762410747502,-0.22125504331716855,0.19106936141343717,-0.52223377537676,0.2544972373584827,0.13615024402468412,-0.0583691557870779,-0.2951417416805915,0.16101145769328348,-0.009592103291674158,-0.2606584306841824,-0.5516668098469097,-0.04241461729328166,-0.10614337290062689,0.004857749745864317,0.2123276310498997,-0.04814160610062988,-0.02065012308389493,0.24734085171119707,0.24466044980737758,-0.45268064492413657,0.0213142470121498,0.503493572570289,0.3739239954117106,-0.011497567818758042,-0.155582962759562,-0.6331646779092966,0.010287156465970537,-0.13584967261666486,0.16946321636547623,-0.3577589346394877,-0.04205373643913666,-0.03594378891543938,-0.16622511325147896,-0.1513108091116541,-0.06477864515340426,-0.09916409853654871,-0.0025491370562010724,-0.041895834805734715,0.2132198450239723,0.32217135355438986,-0.032892095177372516,-0.050311210041965676,0.32975412268696447,-0.030859245055142464,0.16187916310239928,-0.21315997847628873,-0.018831606825746125,-0.15669620821659752,0.05808938019546494,0.1305601644175655,0.3242943845993208,0.22954797367053423,-0.06321057198329283,-0.10610260792957762,-0.1391794531294441,0.03119723440447866,0.061937692493895545,-0.16056446507195743,0.04931567710556587,0.2605937964557013,-0.25518530164817793,-0.1292790800833132,-0.02745747472057168,-0.20879805167855175,-0.20709066364460343,0.3923651871377128,0.14874967112949383,0.02890734094348784,0.016176809829818915,0.24501441001822735,-0.2476548951084103,0.5111580598249811,-0.06418063795462792,0.03140339132368682,0.09106164541513485,0.19925760088467268,-0.3830768291121836,-0.002882838741157451,-0.040281766738616276,-0.09403969079440416,0.07319084806351546,-0.024013448782316454,-0.15871196542996047,-0.22547202702701463,0.11343833002204128,0.1252373653872323,0.19025005352322955,0.1598067791031604,0.0824561358585634,-0.04777888523369584,0.1374520765035864,-0.006109588969636373,-0.21540344279063084,-0.08743901924103273,0.14253316793070933,-0.028840731138579816,-0.06686822003878656,0.3186597391778747,-0.37658365720612796,-0.21668776419759234,0.2749862884896757,-0.061597918122656935,-0.05320099703326406,0.08932177270691237,0.029905111275102328,-0.008964485170356418,-0.014161472072168002,0.3361954551753632,-0.12153341022540415,0.3121166817088783,-0.1535167343851906,0.16933052444407407,0.0772107088260076,-0.13410847459207384,0.03521924548444549,-0.25588198020628483,0.009535420925390453,0.082378033637949,-0.07282333770774113,-0.3120961696122015,-0.043553591699655406,0.10647856420453414,-0.41889612829746087,-0.02700518661363168,-0.8699639640838889,-0.5268852141035734,0.06927850829688521,-0.13080113634887516,-0.2623227051448653,0.11598577732953642,0.03694648023539982,-0.3093922820965844,0.19533463076913105,0.11554294667475357,-0.07181246046307993,0.1205054861648364,0.06681716271457157,0.4094210855744289,0.2961888998666291,0.1560782067855507,0.02855964780853162,0.6128383237103111,0.09627368907097177,-0.3052045977921703,0.17858096838012322,0.002183497330065826,-0.39291001000444337,-0.07020307290410278,-0.0635546713657338,-0.5820864391263192,0.07418059186079673,0.11232785101054017,0.23798543923645085,-0.3757676568026805,-0.1992082247437653,-0.07062640670147738,0.20370695693519542,0.00991544337906079,0.1004663745654984,0.2676967557844806,0.13504898783170668,-0.10150989607296976,0.17347736576296222,0.06356205832141726,-0.33324883119524,-0.7408088445529921,-0.15298026618233687,-0.03023318412850358,0.7697641505927787,0.1533238563913558,-0.3522017994371187,0.1779505204010056,-0.16593192658879055,-0.07053078175979641,0.0029649592818710006,-0.23509041387156815,0.17229136273862547,-0.096974216635613,0.010943925346336793,-0.20207076669021654,0.19321398440003054,-0.3484192874394661,-0.003560824868042852,-0.10184856314725471,0.1701925208485541,0.05388385259276617,-0.2998336911605896,0.604689394877029,-0.07821751022958202,-0.01364055305623232,0.11008581842308628,-0.06427571177665074,0.09248390559579113,0.16492623372418633,0.23840656181556677,-0.638275425584767,0.021955255878982886,-0.08485837184776626,0.0042478563000015,-0.2514239040052847,0.02090524369908167,0.17025866474087079,-0.3948971793172687,0.0998125899320473,0.27855260472763227,0.10837654422192058,-0.21062555729168217,-0.04559474766466508,0.36596319430428104,0.07018940577476622,-0.03524437038640633,0.039940208468317924,0.0578969311440336,-0.029792760086545276,0.2054680335660191,-0.16677599711936472,-0.22599050690981204,0.213204222038841,-0.02206050757151419,0.040311528652149806,0.08928299749872709,0.3401539713071184,0.2700850248158223,-0.04357037981644186,0.28849744395399307,0.13463061863745482,0.1094332061963452,-0.04016035448477874,0.034021303027774584,-0.07413309753704678,0.003305736619815404,0.06353916180040525,0.8235037779604879,-0.01837819119971621,-0.5237760288945082,-0.24551505603582083,-0.12582524764661113,-0.09069956480549377,-0.22802992264751576,-0.3809635770073404,0.005267518239414456,-0.27888421624040133,-0.09006448374193342,0.7687070961085313,0.1494757821386822,0.051307674332186366,-0.16914835700877734,0.04393704357722387,-0.24310592332405928,0.5658210107994922,0.12188872783963244,0.19374925450017655,-0.013195032580733592,-0.05367600958904946,0.07513659047505489,0.1580085348503794,-0.09839838388434777,0.17171670880674253,0.11630704200395406,0.05005957248013246,0.06500346274919092,-0.2271593930523791,-0.1819668924454351,0.05569693980501149,-0.22043949695334844,-0.22814364166348686,-0.3109819431031003,-0.0272724469358774,0.3982199330614835,0.16383300622622649,0.24461302327645346,-0.011227359227576228,0.04245135438387088,0.27126686773294956,-0.3477249798613405,-0.06956483138783008,-0.2603837111719437,0.01187238625780947,0.23079763908037054,0.14063997331846892,0.17533659684468134,0.09787923272407456,-0.6260431113828496,0.08031285559380326,-0.039515297190532955,-0.44598176436822035,0.03085192128240606,0.021796493560775423,0.268352035504368,0.2409800215391827,-0.223978655391551,-0.21644885863786356,-0.03915588054032625,0.15051888853733789,0.004694000382017191,-0.021259246595864055,0.06517470123905741,-0.2756971101957587,-0.15295795475430013,-0.18930524189331316,0.01755156205945252,0.12968658427381122,0.12754516187644507,-0.029919795050520753,-0.08917253404604404,0.16655156570501767,0.15872968704742202,0.031416338693127384,0.047490158477105804,0.126194126514115,-0.2023424561055942,0.06447755382678792,-0.36638292382517496,-0.5453092918925871,-0.00652958840857148,-0.4709667571005112,-0.04406209619557563,0.17790598873865018,0.061927816074735735,-0.10642145401674641,-0.08525220869624067,-0.19291830785452585,-0.09701710097953611,0.16545076917611223,-0.057421895206599474,0.1571135425950026,-0.06299240997680026,-0.05418442272335395,0.03203057113880737,-0.10648591116753665,0.32146674162156075,0.02528414266939346,-0.21667621093862555,-0.044697520651887944,0.20010812935999087,-0.3054104750513731,-0.1541483396774477,-0.013541789741301626,0.054333054631441766,-0.028294744848856124,0.07973284213885368,-0.18591242725682025,0.13970671722177286,0.4044789271118049,0.18095704954025524,-0.028193471083997692,-0.1530753756076877,-0.01722790301021796,0.22959542967146337,0.1556683253184501,0.11461845993796892,-0.2289575904050212,-0.1506034447207823,0.47897741061353616,0.46438758594970814,0.04485518352400074,0.1483840281858791,0.1026071449369925,-0.20008915570883876,0.3606098232141259,0.07792186394419945,-0.0046228496846398934,0.17557033853468454,-0.684754805907507,0.2174582891761158,-0.16196810986666535,0.2847049417554558,0.0559787598830426,0.042885314449289856,0.3233035737587375,0.12809197271455128,0.0831083756259107,-0.009662650773741116,0.03834710894234148,0.14687135054394862,-0.09171138490304111,0.07797603392734798,0.37282797998668543,0.17867331713094792,0.012188654167237464,-0.30447024017703367,-0.2819163222859413,-0.007614040055190428,-0.10771789932986751,0.17837015902626066,-0.12121555949378035,-0.27072655713791677,-0.1555426463942307,0.054638249512566836,-0.5689712589220335,0.05816030432176854,0.05047753672663721,0.27162343565619756,-0.03670983259736702,-0.1592630373864858,0.29425391139420676,0.12367896313152009,0.5378902108622242,-0.218857775860282,0.14263117178515378,-0.1366465388401972,0.09514800300593257,0.10834624139172137,0.06270156164494499,0.01265846342061575,0.018391870508741026,0.045795766041021625,0.1749125396663952,0.17339827637658614,0.10307845308960883,-0.29459920743630674,0.22540352734375835,-0.16248974046671677,0.040226595903770306,0.23170906053736465,0.1775835783325138,0.1780275735192305,0.26596131375280174,0.06310265109995065,-0.34525627594924313,0.11879380902987595,-0.1600234871507476,0.24214445228913986,0.05823368543739148,0.17540492397922894,0.02093980712809142,0.12601881455896252,-0.1192708251698508,-1.63049431333997E-4,-0.0689618666419289,0.05067321819683958,0.13868901901168132,0.025206006664358762,0.1036683074576812,0.7107257396055245,0.15243517093200235,0.3750255419258269,-0.10534607238925393,-0.5739556743515617,0.1361865965743786,-0.07615980730118402,-0.05311646135577612,-0.17749967114462964,-0.11988532161773605,1.1520632234496075,0.052733902085303305,0.07725208974246807,0.2028316686128242,-0.2610925458029061,-0.15579421989060777,0.5708255440559817,0.27112643449772017,-0.0749415649958558,0.1584420959702484,-0.027769464255238567,0.07839124785227321,-0.12151409972032322,0.00548897267061697,-0.1845882613274278,0.045427476421602477,0.2845800288635198,0.05974112145267933,-0.18963702373025396,-0.20838938498648146,0.022908650181356276,-0.47309500274761274,0.12373370770815818,0.10413449448112491,0.5600966559606854,-0.14418304672041854,-0.1046206574380025,0.11612439273368297,0.23943936281211836,0.16780746186890805,-0.06024129616398342,0.23004596078468945,-0.2784494605948871,-0.16489752634532484,-0.1939207655137315,0.1823561377050499,-0.1082125037268768,0.1320925498757292,0.14812702353257218,-0.19866610911420102,0.20383623237923454,-0.1797296576478753,-0.09695356349460163,0.6868893889582558,-0.03988628013142475,0.023200955878457264,0.027784601919284543,-0.15903019363890425,0.22053036781803237,0.13389941789063314,0.05441269654262222,0.025341654142966994,-0.11486661399074158,0.15386340875939092,-0.478812057374215,-0.3491367341523253,-0.060703628960652234,-0.384308505603843,0.2121124439852692,0.07287280649069268,-0.07589107202787047,0.13150059804992223,-0.09931692474512663,-0.5389411616965905,0.4633752795661942,0.20614012733567535,-0.42453283403054065,0.4144933254383504,0.05159153708509365,-0.2394819196263844,-0.6603954565586172,-0.05250494710837338,-0.13643432124761087,-0.2184965163108926,-0.020199703194587602,-0.21012830449754002,-0.023278211053860662,0.0019545684369902936,0.07160962207941075,-0.13564351672068678,0.5294403205460144,-0.43625184549902557,0.06995946670011102,0.1321026929843436,0.5458902246370293,0.28709383450324966,0.17577360535520345,-0.09205113599284176,-0.09658266630304116,0.045800210066050555,0.2125047455556656,-0.003668039723263595,0.16846905856513028,-0.11764355342512234,0.3365073966406644,0.32075275330822817,0.09951942949068443,-0.03915049834295941,0.26850967328780173,0.10432809195371531,0.9150397191235479,0.21325839134754532,-0.14145837922191415,0.02745747445382295,0.04302280861103221,0.13272123914067604,0.16748055486184865,0.042026860571837195,-0.12186748793713155,0.25094447506435086,-0.006519487847186065,0.23312504815692184,-0.2172205506552702,0.2601294804224895,-0.17983954070665692,-0.2310875054374986,-0.07835807900771624,0.24333987635036333,0.11068602808635536,-0.15563271599528117,-0.056156562249365716,0.02853904878227531,-0.04785031317193911,-0.1551967583529951,-0.44443123021515757,0.2804888041357999,0.1578985802503171,0.7145643443998625,0.1048304251532171,-0.05136514294444587,0.19708189115616323,-0.14831916725870636,-0.02567784523865038,-0.2586500234220746,0.08174829864321455,0.10348482634573496,0.2884487535390319,0.02393672877615573,0.019254589412839845,0.32468596704594455,0.3238084443823941,-0.13008833127879674,0.28818466138922205,-0.2611914871607066,0.14128805833382674,-0.03549050975579277,0.13737108983474708,-0.26951529548675013,-0.05484779574979679,0.18881536153461118,0.28624811949086687,0.10455270744196955,-0.10880820050391692,0.07213813285555022,0.07520056663121338,0.08705838494535408,0.07650056630461423,-0.043050591719090946,-0.41139150311509426,-0.013412294307655562,-0.3358191181995261,-0.13108052141472756,-0.17965019635380733,-0.05372882402963424,0.0814378177202795,-0.03575159869245456,-0.08738864938934299,-0.177284878482655,0.2324260915757759,-0.18850206153012208,-0.21031382316413239,0.5562808766670828,0.02802966067796694,0.05758418454016348,0.3501491038921952,0.19913619998739326,-0.04578461752158084,-0.24099319753753842,-0.9295606897864253,-0.06008715605035103,-0.08338921210528412,0.09923793685115673,0.0033454893977079257,0.3956823674415561,0.29978744085768505,0.13517657713300532,-0.2097630392039798,0.37272877347694217,0.4446221182395802,0.07604186229286693,0.1323509135842998,0.21686318938741939,0.37710281418065167,0.04370469058035709,0.08311587877529561,0.044010568231036606,0.33599701604929894,-0.0818725884297001,0.1474142558625527,0.11422921782242283,-0.030274153125620644,-0.12986021090354002,-0.17139001352332592,-0.19593870802187185,-0.6124135177894839,-0.2327451995221218,0.37438115491648943,0.1369524998006287,0.25950780017806746,0.07079118254542417,-0.2197636366338473,-0.11033277538761542,-0.055759920938750034,0.0809521368414052,0.06654667035548392,0.27940549938158354,0.0603729367521224,-0.10064520395790306,-0.0059862182383220676,0.2952748322208253,-0.5214484822468067,0.09154253114864801,-0.012102763180464913,0.06940224567220837,-0.1717507737604773,-0.21189873072308693,0.20545782797869958,0.13726000104946698,-0.08063100224259957,0.11276767277934512,-0.07465576758258657,0.2346759037807142,0.01029496810084753,0.05396307441789754,0.157163949147285,0.31931644838190354,-0.3823990427693776,-0.04475154112496709,0.16919932861203837,0.16615928274766037,-0.03367361340365118,-0.8490686164466157,0.06332108615585198,0.15821336210215536,-0.08773668496733367,-0.1383156324646308,-0.2958445960161464,-0.10581110142887656,0.2808870794612991,-0.19695902432917822,-0.3419378791134415,0.01825351771970778,0.07662257373718727,0.19042711641705642,0.04023626142485291,0.9106459829578099,-0.0254440162026246,0.11125294719059382,0.015110935901619637,0.018159698504252305,-0.07253363618352494,-0.2892064696745322,0.14786385249894293,-0.17000211929155068,0.20700526692272891,0.15827659198543986,-0.24281225495437805,0.09610808947163761,-0.22227052802545022,-0.37043105435207035,0.3305318335327336,0.08384067905747454,-0.09054699335653607,3.042634449363623E-4,0.35787014032886355,-0.15743633336933174,0.12432803286352294,-0.5318970902037106,0.1381929358814773,0.3438815437975323,-0.37293814901593114,-0.5330909096344931,-0.055803854751361764,0.09946399349238655,0.33673867209598374,-0.1491556911977905,-0.27211703530196296,0.2300482643456148,-0.054567196433748376,-0.1447976785593791,0.4210626164586819,0.9052942929343978,0.08847697278417359,0.13962326236976672,-0.12515881169285958,0.10923889183854059,0.1350827100117115,0.17535431732201842,-0.10154790602871099,0.32542038792972855,0.04005793347465757,0.09941036558444086,0.013709747033460805,0.1948576794747772,0.07167535246262133,0.06352603476086245,0.4754500791110451,-0.17864104055351968,0.00558280599904104,-0.17149382"
     ]
    },
    {
     "name": "stdout",
     "output_type": "stream",
     "text": [
      "722108003,0.004808875601110092,-0.028589348030330607,0.054024436385886256]) Intercept: 87.77583235952021\n",
      "\n",
      "\n",
      "numIterations: 139\n",
      "objectiveHistory: [0.4999513287258013,0.35200284767286,0.06945513342143114,0.061409414083508515,0.05340995473116266,0.05103513941599841,0.049265533501503866,0.047655156493032216,0.047247268200478934,0.04671239818936668,0.04641615285968959,0.04629334691893712,0.04619382110051387,0.04610269854817644,0.046055467797766106,0.04599069527133474,0.045959327201782516,0.04592845978388971,0.045906732061052814,0.045891971628085344,0.04587688629504856,0.04586614918772345,0.0458500116624324,0.045843754252038335,0.04583003365181116,0.045823555665878764,0.04581470043144194,0.04580296265945521,0.045796772537759815,0.0457872516490066,0.04578189648775716,0.045775766776580365,0.045769865578536004,0.04576450767213344,0.045761323052082206,0.0457567365028277,0.04575402951390957,0.04574913730499984,0.045744228594141706,0.04574127223007126,0.04573700124769523,0.04573357326858175,0.04572911702713775,0.045724892691611035,0.04572097128791669,0.04571529627074276,0.04571210137333944,0.04570815588372792,0.045702454638922446,0.04570106768843068,0.045694667394629726,0.045690774709352136,0.04568650039861553,0.045681766873663564,0.04567701292101737,0.04566764799497535,0.04566058856901585,0.04565403212012129,0.04564820770726635,0.04564173717118614,0.045636941771467265,0.045631575898663936,0.04562900935472318,0.045624598575445784,0.04562289401286462,0.045619793174095195,0.045618132573625195,0.04561630726031216,0.045613768569249036,0.04561220698004403,0.045610899017578685,0.04561012949050306,0.04560903923455447,0.04560722397043538,0.04560639518974321,0.045605392969365575,0.04560463403159094,0.04560398111633579,0.04560335814141197,0.04560272526150784,0.04560215682650545,0.04560173697853163,0.04560074397787931,0.04559972354977038,0.04559916775012412,0.04559823730804632,0.04559732299533005,0.04559599445535234,0.045595125193433395,0.0455941925868056,0.045593505977276814,0.045592680619113236,0.04559159910333015,0.04559063997577559,0.04558977094993726,0.045588904341517474,0.04558817376577434,0.04558706805722315,0.04558642755472905,0.04558566934709598,0.04558499825784028,0.045584377425009245,0.045583596691486906,0.045582491911737556,0.04558206494064081,0.04558159241589213,0.04558113157041221,0.045580612759004824,0.045579779826420135,0.04557955055682279,0.04557921445765441,0.04557882400672413,0.04557850849447888,0.045578284623242836,0.04557810702233941,0.045577949558038476,0.0455778013446408,0.04557775948761714,0.04557753122031093,0.04557747355979679,0.0455773962657754,0.04557734729214977,0.04557727492676386,0.04557722948587933,0.04557719910270742,0.045577133777419176,0.04557710993009346,0.045577086355841775,0.04557707074250371,0.04557705698005816,0.04557704523753594,0.04557703804660006,0.04557703069339564,0.045577019784592866,0.04557701334149207,0.04557700491435712,0.04557699984537099,0.04557699417103869,0.04557698552628308]\n",
      "\n",
      "\n",
      "+--------------------+\n",
      "|           residuals|\n",
      "+--------------------+\n",
      "|2.908810053448007...|\n",
      "| -1.6314772315531663|\n",
      "| -0.1185201421956954|\n",
      "|  -1.226760216707559|\n",
      "| -0.9143788204833001|\n",
      "|-0.31769897044047823|\n",
      "| -0.2184539288023153|\n",
      "|-0.15876832153757547|\n",
      "| -0.2534959185903958|\n",
      "|-0.17010998424732549|\n",
      "|-0.20713238058863048|\n",
      "| -0.3913198929578776|\n",
      "|-0.10712092935078843|\n",
      "| -0.5976971144229974|\n",
      "|-0.07966129920558096|\n",
      "| -0.6771342290108606|\n",
      "|0.009295808314570664|\n",
      "| -0.7063211598888639|\n",
      "|-0.32966643411731233|\n",
      "|1.125959100534146...|\n",
      "+--------------------+\n",
      "only showing top 20 rows\n",
      "\n",
      "\n",
      "\n",
      "RMSE: 0.149988115432072\n",
      "r2: 0.9088371549237722\n",
      "\n",
      "\n",
      "Model was executed 23"
     ]
    },
    {
     "data": {
      "text/plain": [
       "startTimeMillis: Long = 1591535857089\n",
       "lr: org.apache.spark.ml.regression.LinearRegression = linReg_b0527e1209e5\n",
       "suburbindex: org.apache.spark.sql.DataFrame = [Price: double, MethodOfSale: int ... 13 more fields]\n",
       "allindex: org.apache.spark.sql.DataFrame = [Price: double, MethodOfSale: int ... 14 more fields]\n",
       "featurized: org.apache.spark.sql.DataFrame = [Price: double, MethodOfSale: int ... 15 more fields]\n",
       "lrModel: org.apache.spark.ml.regression.LinearRegressionModel = linReg_b0527e1209e5\n",
       "trainingSummary: org.apache.spark.ml.regression.LinearRegressionTrainingSummary = org.apache.spark.ml.regression.LinearRegressionTrainingSummary@3421cbfb\n",
       "endTimeMillis: Long = 1591535880839\n"
      ]
     },
     "execution_count": 39,
     "metadata": {},
     "output_type": "execute_result"
    }
   ],
   "source": [
    "val startTimeMillis = System.currentTimeMillis()\n",
    "\n",
    "//just give a LR a go with default settings values\n",
    "val lr = new LinearRegression()\n",
    "    .setLabelCol(\"loggedPrice\")\n",
    "    .setFeaturesCol(\"hashedFeatures\")\n",
    "    .setPredictionCol(\"Predicted loggedPrice\")\n",
    "    .setMaxIter(1500)\n",
    "\n",
    "//make a dataset for testing the model and printing its summarry\n",
    "//could be made into a pipeline\n",
    "val suburbindex = suburbIndexer.fit(train).transform(train)\n",
    "val allindex = streetNameIndexer.fit(suburbindex).transform(suburbindex)\n",
    "val featurized = featureHasher.transform(allindex)\n",
    "val lrModel = lr.fit(featurized)\n",
    "\n",
    "// Print the coefficients and intercept for linear regression\n",
    "println(s\"Coefficients: ${lrModel.coefficients} Intercept: ${lrModel.intercept}\")\n",
    "\n",
    "// Summarize the model over the training set and print out some metrics\n",
    "val trainingSummary = lrModel.summary\n",
    "\n",
    "println(\"\\n\")\n",
    "println(s\"numIterations: ${trainingSummary.totalIterations}\")\n",
    "println(s\"objectiveHistory: [${trainingSummary.objectiveHistory.mkString(\",\")}]\")\n",
    "println(\"\\n\")\n",
    "\n",
    "trainingSummary.residuals.show()\n",
    "\n",
    "println(\"\\n\")\n",
    "println(s\"RMSE: ${trainingSummary.rootMeanSquaredError}\")\n",
    "println(s\"r2: ${trainingSummary.r2}\")\n",
    "println(\"\\n\")\n",
    "\n",
    "//print runtime\n",
    "val endTimeMillis = System.currentTimeMillis()\n",
    "\n",
    "print(\"Model was executed \"\n",
    "      + getExecutionTime(startTimeMillis,endTimeMillis))\n"
   ]
  },
  {
   "cell_type": "markdown",
   "metadata": {},
   "source": [
    "### Run Crossvalidator on LR model\n",
    "Construct paramgrid of regParam and ElasticNet\n",
    "\n",
    "Estimate the performance using RMSE\n",
    "\n",
    "Get best Params to apply in final pipeline\n",
    "\n",
    "One could add this to the pipepline but this takes the longest to run\n",
    "as its assessing 4*4 combinations - so instead the learnings of this are passed to pipeline\n",
    "Then this wouldn't need to run\n",
    "\n",
    "<span style=\"color:red\"><em style=font-size:40px;>!</em>Runtime of next cell is around 250 seconds or so, on my VM with like 10gig of RAM and 4 CPUs</span>\n",
    "\n"
   ]
  },
  {
   "cell_type": "code",
   "execution_count": 40,
   "metadata": {},
   "outputs": [
    {
     "name": "stdout",
     "output_type": "stream",
     "text": [
      "2020-06-07 13:18:50,504 WARN  [block-manager-slave-async-thread-pool-21] storage.BlockManager (Logging.scala:logWarning(66)) - Asked to remove block broadcast_1519, which does not exist\n",
      "2020-06-07 13:20:07,964 WARN  [block-manager-slave-async-thread-pool-35] storage.BlockManager (Logging.scala:logWarning(66)) - Asked to remove block broadcast_4298, which does not exist\n",
      "2020-06-07 13:20:07,964 WARN  [block-manager-slave-async-thread-pool-35] storage.BlockManager (Logging.scala:logWarning(66)) - Asked to remove block broadcast_4298_piece0, which does not exist\n",
      "2020-06-07 13:21:06,586 WARN  [block-manager-slave-async-thread-pool-66] storage.BlockManager (Logging.scala:logWarning(66)) - Asked to remove block broadcast_6441, which does not exist\n",
      "2020-06-07 13:22:14,331 WARN  [block-manager-slave-async-thread-pool-85] storage.BlockManager (Logging.scala:logWarning(66)) - Asked to remove block broadcast_8972, which does not exist\n",
      "+------------------+---------------------+\n",
      "|       loggedPrice|Predicted LoggedPrice|\n",
      "+------------------+---------------------+\n",
      "|12.043553716032399|   13.490037495796614|\n",
      "|12.542544882151386|    12.83119170884143|\n",
      "|12.544329003944888|   12.940707687619366|\n",
      "|12.553202176625375|   12.966994452170937|\n",
      "|12.577636201962656|    13.21659114840719|\n",
      "|12.611537753638338|      12.868891611978|\n",
      "|12.611537753638338|   13.264123968823256|\n",
      "|12.628067055589549|   13.142578442941982|\n",
      "|12.644327576461329|    13.50143115277406|\n",
      "| 12.66349749256905|   12.925628700001084|\n",
      "|12.676076274775909|   13.561562005733535|\n",
      "|12.676076274775909|     13.3413589637791|\n",
      "|12.676076274775909|   13.270457736044335|\n",
      "|12.676076274775909|   13.130563794521805|\n",
      "|12.691580461311874|    13.02031536509115|\n",
      "| 12.71589776896258|   13.466383500155274|\n",
      "|12.736700896592344|   12.953642260595686|\n",
      "|12.751299696013497|   13.334793413685887|\n",
      "|12.759957758756611|   13.670182598398668|\n",
      "|12.765688433465597|   12.795681109284843|\n",
      "+------------------+---------------------+\n",
      "only showing top 20 rows\n",
      "\n",
      "Model was executed 256"
     ]
    },
    {
     "data": {
      "text/plain": [
       "startTimeMillis: Long = 1591535881303\n",
       "suburbindex_training: org.apache.spark.sql.DataFrame = [Price: double, MethodOfSale: int ... 13 more fields]\n",
       "allindex_training: org.apache.spark.sql.DataFrame = [Price: double, MethodOfSale: int ... 14 more fields]\n",
       "featurized_training: org.apache.spark.sql.DataFrame = [Price: double, MethodOfSale: int ... 15 more fields]\n",
       "suburbindex_test: org.apache.spark.sql.DataFrame = [Price: double, MethodOfSale: int ... 13 more fields]\n",
       "allindex_test: org.apache.spark.sql.DataFrame = [Price: double, MethodOfSale: int ... 14 more fields]\n",
       "featurized_test: org.apache.spark.sql.DataFrame = [Price: double, MethodOfSale: int ... 15 more fields]\n",
       "lr: org.apache.spark.ml.regression.LinearRegression = linReg_feca5c62a478\n",
       "paramGrid: Array[org.apache.spark.ml.param.ParamMap..."
      ]
     },
     "execution_count": 40,
     "metadata": {},
     "output_type": "execute_result"
    }
   ],
   "source": [
    "//Creates a crossvalidator on only the LR model\n",
    "//Had some issues retreiving the params when using on pipeline\n",
    "//and the pipeline only has one estimator in it so this was easier than traversing the stages of the pipline\n",
    "\n",
    "val startTimeMillis = System.currentTimeMillis()\n",
    "\n",
    "// make some featurised sets for just running the model thru the Crossvalidator\n",
    "//could be made into pipelines\n",
    "val suburbindex_training = suburbIndexer.fit(train).transform(train)\n",
    "val allindex_training = streetNameIndexer.fit(suburbindex_training).transform(suburbindex_training)\n",
    "val featurized_training = featureHasher.transform(allindex_training)\n",
    "\n",
    "val suburbindex_test = suburbIndexer.fit(test).transform(test)\n",
    "val allindex_test = streetNameIndexer.fit(suburbindex_test).transform(suburbindex_test)\n",
    "val featurized_test = featureHasher.transform(allindex_test)\n",
    "\n",
    "\n",
    "//set LR with 1500 max iter\n",
    "val lr = new LinearRegression()\n",
    "    .setLabelCol(\"loggedPrice\")\n",
    "    .setFeaturesCol(\"hashedFeatures\")\n",
    "    .setPredictionCol(\"Predicted LoggedPrice\")\n",
    "    .setMaxIter(1500)\n",
    "\n",
    "\n",
    "// We use a ParamGridBuilder to construct a grid of parameters to search over.\n",
    "val paramGrid = new ParamGridBuilder()\n",
    "  .addGrid(lr.regParam, Array(0,0.1,0.5,1))\n",
    "  .addGrid(lr.elasticNetParam, Array(0,0.1,0.5,1))\n",
    "  .build()\n",
    "\n",
    "// We now treat the model as an Estimator, wrapping it in a CrossValidator instance.\n",
    "// This will allow us to choose best params for the model\n",
    "val cv = new CrossValidator()\n",
    "  .setEstimator(lr)\n",
    "  .setEvaluator(new RegressionEvaluator()\n",
    "  .setLabelCol(\"loggedPrice\")\n",
    "  .setPredictionCol(\"Predicted LoggedPrice\")\n",
    "  .setMetricName(\"rmse\"))\n",
    "  .setEstimatorParamMaps(paramGrid)\n",
    "  .setNumFolds(5)  \n",
    "  .setParallelism(2)\n",
    "\n",
    "// Run cross-validation, and choose the best set of parameters.\n",
    "val cvModel = cv.fit(featurized_training)\n",
    "\n",
    "// Make predictions on test documents. \n",
    "//cvModel uses the best model found.\n",
    "cvModel.transform(featurized_test)\n",
    "  .select(\"loggedPrice\", \"Predicted LoggedPrice\")\n",
    "  .show()\n",
    "\n",
    "//print runtime\n",
    "val endTimeMillis = System.currentTimeMillis()\n",
    "\n",
    "print(\"Model was executed \"\n",
    "      + getExecutionTime(startTimeMillis,endTimeMillis))\n"
   ]
  },
  {
   "cell_type": "markdown",
   "metadata": {},
   "source": [
    "### Extract best Parameters from CrossValidation"
   ]
  },
  {
   "cell_type": "code",
   "execution_count": 41,
   "metadata": {},
   "outputs": [
    {
     "name": "stdout",
     "output_type": "stream",
     "text": [
      "{\n",
      "\tlinReg_feca5c62a478-aggregationDepth: 2,\n",
      "\tlinReg_feca5c62a478-elasticNetParam: 0.0,\n",
      "\tlinReg_feca5c62a478-epsilon: 1.35,\n",
      "\tlinReg_feca5c62a478-featuresCol: hashedFeatures,\n",
      "\tlinReg_feca5c62a478-fitIntercept: true,\n",
      "\tlinReg_feca5c62a478-labelCol: loggedPrice,\n",
      "\tlinReg_feca5c62a478-loss: squaredError,\n",
      "\tlinReg_feca5c62a478-maxIter: 1500,\n",
      "\tlinReg_feca5c62a478-predictionCol: Predicted LoggedPrice,\n",
      "\tlinReg_feca5c62a478-regParam: 0.1,\n",
      "\tlinReg_feca5c62a478-solver: auto,\n",
      "\tlinReg_feca5c62a478-standardization: true,\n",
      "\tlinReg_feca5c62a478-tol: 1.0E-6\n",
      "}\n"
     ]
    },
    {
     "data": {
      "text/plain": [
       "bestModel: org.apache.spark.ml.Model[_] = linReg_feca5c62a478\n",
       "bestParamMap: org.apache.spark.ml.param.ParamMap =\n",
       "{\n",
       "\tlinReg_feca5c62a478-aggregationDepth: 2,\n",
       "\tlinReg_feca5c62a478-elasticNetParam: 0.0,\n",
       "\tlinReg_feca5c62a478-epsilon: 1.35,\n",
       "\tlinReg_feca5c62a478-featuresCol: hashedFeatures,\n",
       "\tlinReg_feca5c62a478-fitIntercept: true,\n",
       "\tlinReg_feca5c62a478-labelCol: loggedPrice,\n",
       "\tlinReg_feca5c62a478-loss: squaredError,\n",
       "\tlinReg_feca5c62a478-maxIter: 1500,\n",
       "\tlinReg_feca5c62a478-predictionCol: Predicted LoggedPrice,\n",
       "\tlinReg_feca5c62a478-regParam: 0.1,\n",
       "\tlinReg_feca5c62a478-solver: auto,\n",
       "\tlinReg_feca5c62a478-standardization: true,\n",
       "\tlinReg_feca5c62a478-tol: 1.0E-6\n",
       "}\n"
      ]
     },
     "execution_count": 41,
     "metadata": {},
     "output_type": "execute_result"
    }
   ],
   "source": [
    "//print out the params used for the best model\n",
    "val bestModel = cvModel.bestModel\n",
    "\n",
    "//save as ParamMap to pass into pipeline\n",
    "val bestParamMap = bestModel.extractParamMap\n",
    "\n",
    "//these the bestParams determined from CV\n",
    "println(bestModel.extractParamMap) "
   ]
  },
  {
   "cell_type": "code",
   "execution_count": 42,
   "metadata": {},
   "outputs": [
    {
     "data": {
      "text/plain": [
       "bestlr: org.apache.spark.ml.regression.LinearRegression = linReg_dfcdf21d6925\n"
      ]
     },
     "execution_count": 42,
     "metadata": {},
     "output_type": "execute_result"
    }
   ],
   "source": [
    "//define new LR instance for using the best params in pipeline\n",
    "val bestlr = new LinearRegression()\n",
    "    .setLabelCol(\"loggedPrice\")\n",
    "    .setFeaturesCol(\"hashedFeatures\")\n",
    "    .setPredictionCol(\"Predicted loggedPrice\")"
   ]
  },
  {
   "cell_type": "markdown",
   "metadata": {},
   "source": [
    "### Define LR Pipeline "
   ]
  },
  {
   "cell_type": "code",
   "execution_count": 43,
   "metadata": {},
   "outputs": [
    {
     "data": {
      "text/plain": [
       "lrStages: Array[org.apache.spark.ml.PipelineStage with org.apache.spark.ml.util.DefaultParamsWritable{def copy(extra: org.apache.spark.ml.param.ParamMap): org.apache.spark.ml.PipelineStage with org.apache.spark.ml.util.DefaultParamsWritable{def copy(extra: org.apache.spark.ml.param.ParamMap): org.apache.spark.ml.PipelineStage with org.apache.spark.ml.util.DefaultParamsWritable}}] = Array(strIdx_a0758e5b7592, strIdx_95389aa5ab32, featureHasher_cbc5db765025, linReg_dfcdf21d6925)\n"
      ]
     },
     "execution_count": 43,
     "metadata": {},
     "output_type": "execute_result"
    }
   ],
   "source": [
    "// add linear regression to stages\n",
    "// I removed the scaler as the performance for gain was terrible\n",
    "val lrStages = Array(\n",
    "    suburbIndexer,\n",
    "    streetNameIndexer,\n",
    "    featureHasher,\n",
    "    bestlr\n",
    ")"
   ]
  },
  {
   "cell_type": "code",
   "execution_count": 44,
   "metadata": {},
   "outputs": [
    {
     "name": "stdout",
     "output_type": "stream",
     "text": [
      "Pipeline was executed 8"
     ]
    },
    {
     "data": {
      "text/plain": [
       "startTimeMillis: Long = 1591536138413\n",
       "lrPipe: org.apache.spark.ml.Pipeline = pipeline_c05a159a423c\n",
       "lrModel: org.apache.spark.ml.PipelineModel = pipeline_c05a159a423c\n",
       "predictions: org.apache.spark.sql.DataFrame = [Price: double, MethodOfSale: int ... 16 more fields]\n",
       "endTimeMillis: Long = 1591536146765\n"
      ]
     },
     "execution_count": 44,
     "metadata": {},
     "output_type": "execute_result"
    }
   ],
   "source": [
    "val startTimeMillis = System.currentTimeMillis()\n",
    "\n",
    "//define a pipleine\n",
    "val lrPipe = new Pipeline().setStages(lrStages)\n",
    "\n",
    "// We fit our DataFrame into the pipeline to generate a model\n",
    "// pass best ParamMap from cross validation\n",
    "val lrModel = lrPipe.fit(train,bestParamMap)\n",
    "\n",
    "\n",
    "// Make predictions using the model and the test data\n",
    "// pass best ParamMap from cross validation\n",
    "val predictions = lrModel.transform(test,bestParamMap)\n",
    "\n",
    "val endTimeMillis = System.currentTimeMillis()\n",
    "\n",
    "print(\"Pipeline was executed \"\n",
    "      + getExecutionTime(startTimeMillis,endTimeMillis))\n"
   ]
  },
  {
   "cell_type": "markdown",
   "metadata": {},
   "source": [
    "### Undo the Log transformation  on the prediciton"
   ]
  },
  {
   "cell_type": "code",
   "execution_count": 45,
   "metadata": {},
   "outputs": [
    {
     "name": "stdout",
     "output_type": "stream",
     "text": [
      "+------------------+\n",
      "|   Predicted Price|\n",
      "+------------------+\n",
      "|264587.61021553946|\n",
      "| 330501.7858012978|\n",
      "| 569668.0272572021|\n",
      "|311571.47162372776|\n",
      "|  566664.368320469|\n",
      "+------------------+\n",
      "only showing top 5 rows\n",
      "\n"
     ]
    },
    {
     "data": {
      "text/plain": [
       "Antilogpredictions: org.apache.spark.sql.DataFrame = [Price: double, MethodOfSale: int ... 16 more fields]\n"
      ]
     },
     "execution_count": 45,
     "metadata": {},
     "output_type": "execute_result"
    }
   ],
   "source": [
    "var Antilogpredictions = predictions.withColumn(\"Predicted loggedPrice\",col(\"Predicted loggedPrice\").cast(\"Double\"))\n",
    "\n",
    "Antilogpredictions.withColumn(\"Predicted Price\", exp((col(\"Predicted loggedPrice\")))).select(\"Predicted Price\").show(5)"
   ]
  },
  {
   "cell_type": "code",
   "execution_count": 46,
   "metadata": {},
   "outputs": [
    {
     "data": {
      "text/plain": [
       "Antilogpredictions: org.apache.spark.sql.DataFrame = [Price: double, MethodOfSale: int ... 17 more fields]\n"
      ]
     },
     "execution_count": 46,
     "metadata": {},
     "output_type": "execute_result"
    }
   ],
   "source": [
    "Antilogpredictions = Antilogpredictions.withColumn(\"Predicted Price\", exp((col(\"Predicted loggedPrice\"))))"
   ]
  },
  {
   "cell_type": "markdown",
   "metadata": {},
   "source": [
    "### Evaluation of the model and its predictions"
   ]
  },
  {
   "cell_type": "code",
   "execution_count": 47,
   "metadata": {},
   "outputs": [
    {
     "name": "stdout",
     "output_type": "stream",
     "text": [
      "+--------+---------------+\n",
      "|   Price|Predicted Price|\n",
      "+--------+---------------+\n",
      "|170000.0|       264588.0|\n",
      "|280000.0|       330502.0|\n",
      "|280500.0|       569668.0|\n",
      "|283000.0|       311571.0|\n",
      "|290000.0|       566664.0|\n",
      "|300000.0|       359429.0|\n",
      "|300000.0|       532903.0|\n",
      "|305000.0|       599353.0|\n",
      "|310000.0|       517302.0|\n",
      "|316000.0|       392354.0|\n",
      "|320000.0|       512671.0|\n",
      "|320000.0|       350437.0|\n",
      "|320000.0|       395222.0|\n",
      "|320000.0|       473669.0|\n",
      "|325000.0|       346299.0|\n",
      "|333000.0|       308002.0|\n",
      "|340000.0|       664435.0|\n",
      "|345000.0|       640057.0|\n",
      "|348000.0|       339907.0|\n",
      "|350000.0|       295273.0|\n",
      "+--------+---------------+\n",
      "only showing top 20 rows\n",
      "\n"
     ]
    }
   ],
   "source": [
    "//finesse the output of predicted price and price to aid visual compare\n",
    "Antilogpredictions.withColumn(\"Predicted Price\", round($\"Predicted Price\", 0))\n",
    "    .select(\"Price\",\"Predicted Price\").show()"
   ]
  },
  {
   "cell_type": "code",
   "execution_count": 48,
   "metadata": {},
   "outputs": [
    {
     "name": "stdout",
     "output_type": "stream",
     "text": [
      "+-------+-----------------+------------------+\n",
      "|summary|            Price|   Predicted Price|\n",
      "+-------+-----------------+------------------+\n",
      "|  count|             3108|              3108|\n",
      "|   mean|1148713.091055341| 1125119.430172566|\n",
      "| stddev|644982.7776402166| 567098.7727924552|\n",
      "|    min|         170000.0|158009.56029040692|\n",
      "|    max|        6250000.0| 7665697.130135115|\n",
      "+-------+-----------------+------------------+\n",
      "\n"
     ]
    }
   ],
   "source": [
    "Antilogpredictions.describe().select(\"summary\",\"Price\",\"Predicted Price\").show()"
   ]
  },
  {
   "cell_type": "code",
   "execution_count": 49,
   "metadata": {},
   "outputs": [
    {
     "data": {
      "text/plain": [
       "evaluateLR: (predictions: org.apache.spark.sql.DataFrame, metric: String)Unit\n"
      ]
     },
     "execution_count": 49,
     "metadata": {},
     "output_type": "execute_result"
    }
   ],
   "source": [
    "// define an evaluator \n",
    "def evaluateLR ( predictions: DataFrame, metric: String) = {\n",
    "    val eval =  new RegressionEvaluator()\n",
    "       .setLabelCol(\"loggedPrice\")\n",
    "       .setPredictionCol(\"Predicted loggedPrice\")\n",
    "       .setMetricName(metric)\n",
    "println(\"Root Mean Squared Error \"+  metric.toUpperCase()\n",
    "        +\" on test data = \" + eval.evaluate(predictions))\n",
    "}"
   ]
  },
  {
   "cell_type": "markdown",
   "metadata": {},
   "source": [
    "#### Regression metrics\n",
    "\n",
    "**Mean squared error (MSE)** -- the average of squared differences between the predicted outcome and the true outcome.\n",
    "\n",
    "**R2 coefficient** -- the proportion of variance in the outcome that our model is capable of predicting based on its features."
   ]
  },
  {
   "cell_type": "code",
   "execution_count": 50,
   "metadata": {},
   "outputs": [
    {
     "name": "stdout",
     "output_type": "stream",
     "text": [
      "Root Mean Squared Error RMSE on test data = 0.2548268037271533\n",
      "Root Mean Squared Error R2 on test data = 0.7281405437063517\n"
     ]
    }
   ],
   "source": [
    "//difference between logged price and predicted logged price\n",
    "evaluateLR(Antilogpredictions,\"rmse\")\n",
    "evaluateLR(Antilogpredictions,\"r2\")"
   ]
  },
  {
   "cell_type": "markdown",
   "metadata": {},
   "source": [
    "Looks like we go down from our training set:\n",
    "\n",
    "`RMSE: 0.149988115432072\n",
    "r2: 0.9088371549237722`\n",
    "\n",
    "to our test set with best params:\n",
    "\n",
    "`0.2548268037271533\n",
    "0.7281405437063517`\n"
   ]
  },
  {
   "cell_type": "markdown",
   "metadata": {},
   "source": [
    "### 2. Apply Random Forest Regression\n",
    "\n",
    "**Build Random Forest model**\n",
    "\n",
    "Specify _numTrees, maxDepth, maxBins, featureSubsetStrategy_ and _seed_ parameters.\n",
    "\n",
    "* **numTrees** -- Number of trees in the forest\n",
    "\n",
    "* **maxDepth** -- Maximum depth of a tree. Increasing the depth makes the model more powerful, but deep trees take longer to train.\n",
    "\n",
    "* **maxBins** -- Maximum number of bins used for discretizing continuous features and for choosing how to split on features at each node.\n",
    "\n",
    "* **featureSubsetStrategy** -- Automatically select the number of features to consider for splits at each tree node\n",
    "\n",
    "* **seed** -- Use a random seed number , allowing to repeat the results"
   ]
  },
  {
   "cell_type": "markdown",
   "metadata": {},
   "source": [
    "\n",
    "If the number of trees is 1, then no bootstrapping is used at all. However, if the number of trees is > 1, then the bootstrapping is accomplished. Where, the parameter _featureSubsetStrategy_ signifies the number of features to be considered for splits at each node. The supported values of _featureSubsetStrategy_ are \"auto\", \"all\", \"sqrt\", \"log2\" and \"on third\". The supported numerical values, on the other hand, are $(0.0-1.0]$ and $[1-n]$. However, if _featureSubsetStrategy_ is chosen as $\"auto\"$, the algorithm chooses the best feature subset strategy automatically\n",
    "\n",
    "\n",
    "If the $numTrees == 1$, the featureSubsetStrategy is set to be \"all\". However, if the $numTrees > 1$ (i.e., forest), featureSubsetStrategy is set to be \"onethird\" for regression\n",
    "\n",
    "\n",
    "Moreover, if a real value \"n\" is in the range $(0, 1.0]$ is set, n*number_of_features is used consequently. However, if an integer value \"n\" is in the range (1, the number of features) is set, only n features are used alternatively\n",
    "\n",
    "\n",
    "The parameter _categoricalFeaturesInfo_ which is a map is used for storing arbitrary of categorical features. An entry $(n -> k)$ indicates that feature n is categorical with k categories indexed from $0: {0, 1,...,k-1}$\n",
    "The impurity criterion used for regression is “variance”. \n",
    "\n",
    "The _maxDepth_ is the maximum depth of the tree. (e.g., depth 0 means 1 leaf node, depth 1 means 1 internal node + 2 leaf nodes). However, the suggested value is 4 to get a better result\n",
    "\n",
    "\n",
    "The _maxBins_ signifies the maximum number of bins used for splitting the features; where the suggested value is 100 to get better results\n",
    "\n",
    "\n",
    "Finally, the random seed is used for bootstrapping and choosing feature subsets to avoid the random nature of the results."
   ]
  },
  {
   "cell_type": "markdown",
   "metadata": {},
   "source": [
    "#### Define time function"
   ]
  },
  {
   "cell_type": "code",
   "execution_count": 66,
   "metadata": {},
   "outputs": [
    {
     "data": {
      "text/plain": [
       "time: [R](block: => R)R\n"
      ]
     },
     "execution_count": 66,
     "metadata": {},
     "output_type": "execute_result"
    }
   ],
   "source": [
    "def time[R](block: => R): R = {\n",
    "  val t0 = System.nanoTime()\n",
    "  val result = block    // call-by-name\n",
    "  val t1 = System.nanoTime()\n",
    "  println(\"Elapsed time: \" + (t1 - t0)/1000000000 + \" s\")\n",
    "  result\n",
    " }"
   ]
  },
  {
   "cell_type": "code",
   "execution_count": 67,
   "metadata": {},
   "outputs": [
    {
     "data": {
      "text/plain": [
       "import org.apache.spark.ml.regression.RandomForestRegressor\n",
       "rf: org.apache.spark.ml.regression.RandomForestRegressor = rfr_e325eca046b1\n",
       "res25: org.apache.spark.ml.param.ParamMap =\n",
       "{\n",
       "\trfr_e325eca046b1-cacheNodeIds: true,\n",
       "\trfr_e325eca046b1-checkpointInterval: 10,\n",
       "\trfr_e325eca046b1-featureSubsetStrategy: auto,\n",
       "\trfr_e325eca046b1-featuresCol: features,\n",
       "\trfr_e325eca046b1-impurity: variance,\n",
       "\trfr_e325eca046b1-labelCol: Price,\n",
       "\trfr_e325eca046b1-maxBins: 32,\n",
       "\trfr_e325eca046b1-maxDepth: 5,\n",
       "\trfr_e325eca046b1-maxMemoryInMB: 512,\n",
       "\trfr_e325eca046b1-minInfoGain: 0.0,\n",
       "\trfr_e325eca046b1-minInstancesPerNode: 1,\n",
       "\trfr_e325eca046b1-numTrees: 20,\n",
       "\trfr_e325eca046b1-predictionCol: prediction,\n",
       "\trfr_e325eca046b1-seed: 36,\n",
       "\trfr_e325eca046b1-subsamplingRate: 1.0\n",
       "}\n"
      ]
     },
     "execution_count": 67,
     "metadata": {},
     "output_type": "execute_result"
    }
   ],
   "source": [
    "import org.apache.spark.ml.regression.RandomForestRegressor\n",
    "\n",
    "val rf = new RandomForestRegressor()\n",
    "    .setSeed(36L)\n",
    "    .setLabelCol(\"Price\")\n",
    "    .setFeaturesCol(\"features\")\n",
    "    .setPredictionCol(\"prediction\")\n",
    "    .setMaxMemoryInMB(512)\n",
    "    .setCacheNodeIds(true)\n",
    "    .setMaxBins(32)\n",
    "\n",
    "rf.extractParamMap()"
   ]
  },
  {
   "cell_type": "markdown",
   "metadata": {},
   "source": [
    "#### Define get_predictions function"
   ]
  },
  {
   "cell_type": "code",
   "execution_count": 68,
   "metadata": {
    "scrolled": false
   },
   "outputs": [
    {
     "data": {
      "text/plain": [
       "import org.apache.spark.ml.Predictor\n",
       "import org.apache.spark.ml.linalg.Vector\n",
       "import org.apache.spark.ml.PredictionModel\n",
       "import org.apache.spark.ml.Pipeline\n",
       "get_predictions: [R <: org.apache.spark.ml.Predictor[org.apache.spark.ml.linalg.Vector,R,M], M <: org.apache.spark.ml.PredictionModel[org.apache.spark.ml.linalg.Vector,M]](predictor: org.apache.spark.ml.Predictor[org.apache.spark.ml.linalg.Vector,R,M], train: org.apache.spark.sql.DataFrame, test: org.apache.spark.sql.DataFrame)org.apache.spark.sql.DataFrame\n"
      ]
     },
     "execution_count": 68,
     "metadata": {},
     "output_type": "execute_result"
    }
   ],
   "source": [
    "import org.apache.spark.ml.Predictor\n",
    "import org.apache.spark.ml.linalg.Vector\n",
    "import org.apache.spark.ml.PredictionModel\n",
    "import org.apache.spark.ml.Pipeline\n",
    "\n",
    "\n",
    "def get_predictions[R <: Predictor[Vector, R, M],\n",
    "                M <: PredictionModel[Vector, M]](\n",
    "    predictor: Predictor[Vector, R, M],\n",
    "    train: DataFrame, \n",
    "    test: DataFrame) = {\n",
    "    \n",
    "    val pipeline = new Pipeline()\n",
    "      .setStages(Array(\n",
    "          suburbIndexer,\n",
    "          streetNameIndexer,\n",
    "          allEncoder,\n",
    "          assembler,\n",
    "          scaler,\n",
    "          //indexer,\n",
    "          rf))\n",
    "     \n",
    "    val result =pipeline.fit(train).transform(test)\n",
    "    result\n",
    "\n",
    "}"
   ]
  },
  {
   "cell_type": "code",
   "execution_count": 69,
   "metadata": {
    "scrolled": true
   },
   "outputs": [
    {
     "name": "stdout",
     "output_type": "stream",
     "text": [
      "getNumTrees: 20\n",
      "getMaxDepth: 5\n",
      "getMaxBins: 32\n",
      "getImpurity: variance\n"
     ]
    }
   ],
   "source": [
    "println(s\"getNumTrees: ${rf.getNumTrees}\")\n",
    "println(s\"getMaxDepth: ${rf.getMaxDepth}\")\n",
    "println(s\"getMaxBins: ${rf.getMaxBins}\")\n",
    "println(s\"getImpurity: ${rf.getImpurity}\")"
   ]
  },
  {
   "cell_type": "code",
   "execution_count": 70,
   "metadata": {
    "scrolled": false
   },
   "outputs": [
    {
     "name": "stdout",
     "output_type": "stream",
     "text": [
      "Elapsed time: 16 s\n"
     ]
    },
    {
     "data": {
      "text/plain": [
       "rfPredictions: org.apache.spark.sql.DataFrame = [Price: double, MethodOfSale: int ... 21 more fields]\n",
       "res27: rfPredictions.type = [Price: double, MethodOfSale: int ... 21 more fields]\n"
      ]
     },
     "execution_count": 70,
     "metadata": {},
     "output_type": "execute_result"
    }
   ],
   "source": [
    "val rfPredictions = time{get_predictions(rf, train, test)}\n",
    "rfPredictions.cache()"
   ]
  },
  {
   "cell_type": "code",
   "execution_count": 71,
   "metadata": {
    "scrolled": false
   },
   "outputs": [
    {
     "data": {
      "text/plain": [
       "res28: Array[String] = Array(Price, MethodOfSale, PropertyType, DistanceFromCBD, Rooms, Bathroom, Car, Landsize, Latitude, Longtitude, Suburb, Date, StreetName, loggedPrice, SuburbIndex, StreetNameIndex, MethodOfSalecategoryVec1, PropertyTypecategoryVec2, SuburbIndexcategoryVec3, StreetNameIndexSuburbIndexcategoryVec4, features, scaledFeatures, prediction)\n"
      ]
     },
     "execution_count": 71,
     "metadata": {},
     "output_type": "execute_result"
    }
   ],
   "source": [
    "rfPredictions.columns"
   ]
  },
  {
   "cell_type": "code",
   "execution_count": 73,
   "metadata": {},
   "outputs": [
    {
     "name": "stdout",
     "output_type": "stream",
     "text": [
      "+--------+----------+\n",
      "|   Price|prediction|\n",
      "+--------+----------+\n",
      "|170000.0|  533957.0|\n",
      "|280000.0|  537696.0|\n",
      "|280500.0|  582982.0|\n",
      "|283000.0|  620066.0|\n",
      "|290000.0|  575875.0|\n",
      "|300000.0|  517570.0|\n",
      "|300000.0|  663855.0|\n",
      "|305000.0|  561318.0|\n",
      "|310000.0|  601334.0|\n",
      "|316000.0|  561318.0|\n",
      "|320000.0|  585548.0|\n",
      "|320000.0|  576020.0|\n",
      "|320000.0|  649364.0|\n",
      "|320000.0|  566867.0|\n",
      "|325000.0|  600156.0|\n",
      "|333000.0|  510380.0|\n",
      "|340000.0|  707235.0|\n",
      "|345000.0|  839196.0|\n",
      "|348000.0|  683934.0|\n",
      "|350000.0|  601704.0|\n",
      "+--------+----------+\n",
      "only showing top 20 rows\n",
      "\n"
     ]
    }
   ],
   "source": [
    "rfPredictions.withColumn(\"prediction\", round($\"prediction\", 0)).select(\"Price\",\"prediction\").show()"
   ]
  },
  {
   "cell_type": "code",
   "execution_count": 78,
   "metadata": {},
   "outputs": [
    {
     "name": "stdout",
     "output_type": "stream",
     "text": [
      "+-------+-----------------+------------------+\n",
      "|summary|            Price|        prediction|\n",
      "+-------+-----------------+------------------+\n",
      "|  count|             3108|              3108|\n",
      "|   mean|1148713.091055341|1145054.0922929596|\n",
      "| stddev|644982.7776402166| 380199.9828385093|\n",
      "|    min|         170000.0|499492.97336291336|\n",
      "|    max|        6250000.0| 2747316.878713367|\n",
      "+-------+-----------------+------------------+\n",
      "\n"
     ]
    }
   ],
   "source": [
    "rfPredictions.describe().select(\"summary\",\"Price\",\"prediction\").show()"
   ]
  },
  {
   "cell_type": "markdown",
   "metadata": {},
   "source": [
    "#### Regression metrics\n"
   ]
  },
  {
   "cell_type": "code",
   "execution_count": 79,
   "metadata": {},
   "outputs": [
    {
     "data": {
      "text/plain": [
       "import org.apache.spark.ml.evaluation.RegressionEvaluator\n",
       "assessRandomForest: (predictions: org.apache.spark.sql.DataFrame, metric: String)Unit\n"
      ]
     },
     "execution_count": 79,
     "metadata": {},
     "output_type": "execute_result"
    }
   ],
   "source": [
    "import org.apache.spark.ml.evaluation.RegressionEvaluator\n",
    "\n",
    "def assessRandomForest ( predictions: DataFrame, metric: String) = {\n",
    "    val eval =  new RegressionEvaluator()\n",
    "       .setLabelCol(\"Price\")\n",
    "       .setPredictionCol(\"prediction\")\n",
    "       .setMetricName(metric)\n",
    "println(metric.toUpperCase()+\" on test data = \" + eval.evaluate(predictions))\n",
    "    \n",
    "}"
   ]
  },
  {
   "cell_type": "code",
   "execution_count": 80,
   "metadata": {},
   "outputs": [
    {
     "name": "stdout",
     "output_type": "stream",
     "text": [
      "RMSE on test data = 411773.1416909595\n"
     ]
    }
   ],
   "source": [
    "assessRandomForest(rfPredictions,\"rmse\")"
   ]
  },
  {
   "cell_type": "code",
   "execution_count": 76,
   "metadata": {},
   "outputs": [
    {
     "name": "stdout",
     "output_type": "stream",
     "text": [
      "R2 on test data = 0.592282312567372\n"
     ]
    }
   ],
   "source": [
    "assessRandomForest(rfPredictions,\"r2\")"
   ]
  },
  {
   "cell_type": "markdown",
   "metadata": {},
   "source": [
    "####  Finding the Best Model (Parameter Tuning) by Cross-Validation\n"
   ]
  },
  {
   "cell_type": "code",
   "execution_count": 82,
   "metadata": {
    "scrolled": true
   },
   "outputs": [
    {
     "data": {
      "text/plain": [
       "import org.apache.spark.ml.Predictor\n",
       "import org.apache.spark.ml.linalg.Vector\n",
       "import org.apache.spark.ml.PredictionModel\n",
       "import org.apache.spark.ml.param.ParamMap\n",
       "import org.apache.spark.ml.evaluation.RegressionEvaluator\n",
       "import org.apache.spark.ml.tuning.{CrossValidator, ParamGridBuilder}\n",
       "train_eval: [R <: org.apache.spark.ml.Predictor[org.apache.spark.ml.linalg.Vector,R,M], M <: org.apache.spark.ml.PredictionModel[org.apache.spark.ml.linalg.Vector,M]](predictor: org.apache.spark.ml.Predictor[org.apache.spark.ml.linalg.Vector,R,M], paramMap: Array[org.apache.spark.ml.param.ParamMap], train: org.apache.spark.sql.DataFrame, test: org.apache.spark.sql.DataFrame)org.apache.spark.ml.Model[_]\n"
      ]
     },
     "execution_count": 82,
     "metadata": {},
     "output_type": "execute_result"
    }
   ],
   "source": [
    "import org.apache.spark.ml.Predictor\n",
    "import org.apache.spark.ml.linalg.Vector\n",
    "import org.apache.spark.ml.PredictionModel\n",
    "import org.apache.spark.ml.param.ParamMap\n",
    "import org.apache.spark.ml.evaluation.RegressionEvaluator\n",
    "import org.apache.spark.ml.tuning.{CrossValidator, ParamGridBuilder}\n",
    "\n",
    "\n",
    "\n",
    "def train_eval[R <: Predictor[Vector, R, M],\n",
    "               M <: PredictionModel[Vector, M]](\n",
    "    predictor: Predictor[Vector, R, M],\n",
    "    paramMap: Array[ParamMap],\n",
    "    train: DataFrame, \n",
    "    test: DataFrame) = {\n",
    "\n",
    "    val pipeline = new Pipeline()\n",
    "      .setStages(Array(\n",
    "          suburbIndexer,\n",
    "          streetNameIndexer,\n",
    "          allEncoder,\n",
    "          assembler,\n",
    "          scaler,\n",
    "          //indexer,\n",
    "          rf))\n",
    "    \n",
    "    val cv = new CrossValidator()\n",
    "        .setEstimator(pipeline)\n",
    "        .setEvaluator(new RegressionEvaluator()\n",
    "        .setLabelCol(\"Price\")\n",
    "        .setPredictionCol(\"prediction\")\n",
    "        .setMetricName(\"rmse\"))\n",
    "        .setEstimatorParamMaps(paramMap)\n",
    "        .setNumFolds(5)\n",
    "        .setParallelism(2)\n",
    "\n",
    "    val cvModel = cv.fit(train)\n",
    "    val predictions = cvModel.transform(test)\n",
    "    \n",
    "    predictions.cache()\n",
    "    assessRandomForest(predictions,\"rmse\")\n",
    "    assessRandomForest(predictions,\"r2\")\n",
    "    \n",
    "    val bestModel = cvModel.bestModel\n",
    "    \n",
    "    println(bestModel.extractParamMap)\n",
    "    \n",
    "    bestModel\n",
    "}"
   ]
  },
  {
   "cell_type": "markdown",
   "metadata": {},
   "source": [
    "<span style=\"color:red\"><em style=font-size:40px;>!</em>Runtime of next cell is around 1567\n",
    "    seconds or so 20 mins, on my VM with like 10gig of RAM and 4 CPUs</span>"
   ]
  },
  {
   "cell_type": "code",
   "execution_count": 83,
   "metadata": {},
   "outputs": [
    {
     "name": "stdout",
     "output_type": "stream",
     "text": [
      "2020-06-07 13:32:04,595 WARN  [Executor task launch worker for task 4918] memory.MemoryStore (Logging.scala:logWarning(66)) - Not enough space to cache rdd_8978_0 in memory! (computed 141.6 MB so far)\n",
      "2020-06-07 13:32:04,603 WARN  [Executor task launch worker for task 4918] storage.BlockManager (Logging.scala:logWarning(66)) - Persisting block rdd_8978_0 to disk instead.\n",
      "2020-06-07 13:32:36,785 WARN  [Executor task launch worker for task 5007] memory.MemoryStore (Logging.scala:logWarning(66)) - Not enough space to cache rdd_9403_0 in memory! (computed 141.6 MB so far)\n",
      "2020-06-07 13:32:36,786 WARN  [Executor task launch worker for task 5007] storage.BlockManager (Logging.scala:logWarning(66)) - Persisting block rdd_9403_0 to disk instead.\n",
      "2020-06-07 13:33:40,090 WARN  [Executor task launch worker for task 5183] memory.MemoryStore (Logging.scala:logWarning(66)) - Not enough space to cache rdd_10235_0 in memory! (computed 141.6 MB so far)\n",
      "2020-06-07 13:33:40,090 WARN  [Executor task launch worker for task 5183] storage.BlockManager (Logging.scala:logWarning(66)) - Persisting block rdd_10235_0 to disk instead.\n",
      "2020-06-07 13:35:37,496 WARN  [Executor task launch worker for task 5491] memory.MemoryStore (Logging.scala:logWarning(66)) - Not enough space to cache rdd_11691_0 in memory! (computed 141.6 MB so far)\n",
      "2020-06-07 13:35:37,498 WARN  [Executor task launch worker for task 5491] storage.BlockManager (Logging.scala:logWarning(66)) - Persisting block rdd_11691_0 to disk instead.\n",
      "2020-06-07 13:37:19,094 WARN  [Executor task launch worker for task 5711] memory.MemoryStore (Logging.scala:logWarning(66)) - Not enough space to cache rdd_12735_0 in memory! (computed 142.5 MB so far)\n",
      "2020-06-07 13:37:19,094 WARN  [Executor task launch worker for task 5711] storage.BlockManager (Logging.scala:logWarning(66)) - Persisting block rdd_12735_0 to disk instead.\n",
      "2020-06-07 13:37:19,394 WARN  [Executor task launch worker for task 5711] memory.MemoryStore (Logging.scala:logWarning(66)) - Not enough space to cache rdd_12735_0 in memory! (computed 142.5 MB so far)\n",
      "2020-06-07 13:37:19,792 WARN  [Executor task launch worker for task 5711] memory.MemoryStore (Logging.scala:logWarning(66)) - Not enough space to cache rdd_12735_0 in memory! (computed 63.2 MB so far)\n",
      "2020-06-07 13:37:21,308 WARN  [Executor task launch worker for task 5715] memory.MemoryStore (Logging.scala:logWarning(66)) - Not enough space to cache rdd_12735_0 in memory! (computed 142.5 MB so far)\n",
      "2020-06-07 13:37:21,734 WARN  [Executor task launch worker for task 5715] memory.MemoryStore (Logging.scala:logWarning(66)) - Not enough space to cache rdd_12735_0 in memory! (computed 63.2 MB so far)\n",
      "2020-06-07 13:37:21,750 WARN  [Executor task launch worker for task 5715] memory.MemoryStore (Logging.scala:logWarning(66)) - Not enough space to cache rdd_12735_0 in memory! (computed 5.1 MB so far)\n",
      "2020-06-07 13:37:21,752 WARN  [Executor task launch worker for task 5715] memory.MemoryStore (Logging.scala:logWarning(66)) - Failed to reserve initial memory threshold of 1024.0 KB for computing block rdd_12748_0 in memory.\n",
      "2020-06-07 13:37:21,753 WARN  [Executor task launch worker for task 5715] memory.MemoryStore (Logging.scala:logWarning(66)) - Not enough space to cache rdd_12748_0 in memory! (computed 384.0 B so far)\n",
      "2020-06-07 13:37:21,753 WARN  [Executor task launch worker for task 5715] storage.BlockManager (Logging.scala:logWarning(66)) - Persisting block rdd_12748_0 to disk instead.\n",
      "2020-06-07 13:37:25,539 WARN  [Executor task launch worker for task 5721] memory.MemoryStore (Logging.scala:logWarning(66)) - Not enough space to cache rdd_12728_0 in memory! (computed 142.5 MB so far)\n",
      "2020-06-07 13:37:25,697 WARN  [Executor task launch worker for task 5721] memory.MemoryStore (Logging.scala:logWarning(66)) - Not enough space to cache rdd_12728_0 in memory! (computed 63.2 MB so far)\n",
      "2020-06-07 13:37:32,276 WARN  [Executor task launch worker for task 5727] memory.MemoryStore (Logging.scala:logWarning(66)) - Not enough space to cache rdd_12735_0 in memory! (computed 142.5 MB so far)\n",
      "2020-06-07 13:37:32,400 WARN  [Executor task launch worker for task 5727] memory.MemoryStore (Logging.scala:logWarning(66)) - Not enough space to cache rdd_12735_0 in memory! (computed 63.2 MB so far)\n",
      "2020-06-07 13:37:38,859 WARN  [Executor task launch worker for task 5756] memory.MemoryStore (Logging.scala:logWarning(66)) - Not enough space to cache rdd_12945_0 in memory! (computed 142.5 MB so far)\n",
      "2020-06-07 13:37:38,862 WARN  [Executor task launch worker for task 5756] storage.BlockManager (Logging.scala:logWarning(66)) - Persisting block rdd_12945_0 to disk instead.\n",
      "2020-06-07 13:37:39,184 WARN  [Executor task launch worker for task 5756] memory.MemoryStore (Logging.scala:logWarning(66)) - Not enough space to cache rdd_12945_0 in memory! (computed 142.5 MB so far)\n",
      "2020-06-07 13:37:39,601 WARN  [Executor task launch worker for task 5756] memory.MemoryStore (Logging.scala:logWarning(66)) - Not enough space to cache rdd_12945_0 in memory! (computed 63.2 MB so far)\n",
      "2020-06-07 13:37:41,911 WARN  [Executor task launch worker for task 5761] memory.MemoryStore (Logging.scala:logWarning(66)) - Not enough space to cache rdd_12945_0 in memory! (computed 142.5 MB so far)\n",
      "2020-06-07 13:37:42,017 WARN  [Executor task launch worker for task 5761] memory.MemoryStore (Logging.scala:logWarning(66)) - Not enough space to cache rdd_12945_0 in memory! (computed 63.2 MB so far)\n",
      "2020-06-07 13:37:42,044 WARN  [Executor task launch worker for task 5761] memory.MemoryStore (Logging.scala:logWarning(66)) - Not enough space to cache rdd_12945_0 in memory! (computed 5.1 MB so far)\n",
      "2020-06-07 13:37:42,048 WARN  [Executor task launch worker for task 5761] memory.MemoryStore (Logging.scala:logWarning(66)) - Failed to reserve initial memory threshold of 1024.0 KB for computing block rdd_12964_0 in memory.\n",
      "2020-06-07 13:37:42,050 WARN  [Executor task launch worker for task 5761] memory.MemoryStore (Logging.scala:logWarning(66)) - Not enough space to cache rdd_12964_0 in memory! (computed 384.0 B so far)\n",
      "2020-06-07 13:37:42,051 WARN  [Executor task launch worker for task 5761] storage.BlockManager (Logging.scala:logWarning(66)) - Persisting block rdd_12964_0 to disk instead.\n",
      "2020-06-07 13:37:44,970 WARN  [Executor task launch worker for task 5765] memory.MemoryStore (Logging.scala:logWarning(66)) - Not enough space to cache rdd_12945_0 in memory! (computed 142.5 MB so far)\n",
      "2020-06-07 13:37:45,043 WARN  [Executor task launch worker for task 5765] memory.MemoryStore (Logging.scala:logWarning(66)) - Not enough space to cache rdd_12945_0 in memory! (computed 63.2 MB so far)\n",
      "2020-06-07 13:37:48,155 WARN  [Executor task launch worker for task 5768] memory.MemoryStore (Logging.scala:logWarning(66)) - Not enough space to cache rdd_12945_0 in memory! (computed 142.5 MB so far)\n",
      "2020-06-07 13:37:48,570 WARN  [Executor task launch worker for task 5768] memory.MemoryStore (Logging.scala:logWarning(66)) - Not enough space to cache rdd_12945_0 in memory! (computed 63.2 MB so far)\n",
      "2020-06-07 13:37:48,596 WARN  [Executor task launch worker for task 5768] memory.MemoryStore (Logging.scala:logWarning(66)) - Failed to reserve initial memory threshold of 1024.0 KB for computing block rdd_12982_0 in memory.\n",
      "2020-06-07 13:37:48,597 WARN  [Executor task launch worker for task 5768] memory.MemoryStore (Logging.scala:logWarning(66)) - Not enough space to cache rdd_12982_0 in memory! (computed 384.0 B so far)\n",
      "2020-06-07 13:37:48,597 WARN  [Executor task launch worker for task 5768] storage.BlockManager (Logging.scala:logWarning(66)) - Persisting block rdd_12982_0 to disk instead.\n",
      "2020-06-07 13:38:02,499 WARN  [Executor task launch worker for task 5807] memory.MemoryStore (Logging.scala:logWarning(66)) - Not enough space to cache rdd_13165_0 in memory! (computed 142.5 MB so far)\n",
      "2020-06-07 13:38:02,608 WARN  [Executor task launch worker for task 5807] memory.MemoryStore (Logging.scala:logWarning(66)) - Not enough space to cache rdd_13165_0 in memory! (computed 63.2 MB so far)\n",
      "2020-06-07 13:38:02,649 WARN  [Executor task launch worker for task 5807] memory.MemoryStore (Logging.scala:logWarning(66)) - Not enough space to cache rdd_13165_0 in memory! (computed 3.3 MB so far)\n"
     ]
    },
    {
     "name": "stdout",
     "output_type": "stream",
     "text": [
      "2020-06-07 13:38:02,650 WARN  [Executor task launch worker for task 5807] memory.MemoryStore (Logging.scala:logWarning(66)) - Failed to reserve initial memory threshold of 1024.0 KB for computing block rdd_13178_0 in memory.\n",
      "2020-06-07 13:38:02,650 WARN  [Executor task launch worker for task 5807] memory.MemoryStore (Logging.scala:logWarning(66)) - Not enough space to cache rdd_13178_0 in memory! (computed 384.0 B so far)\n",
      "2020-06-07 13:38:02,650 WARN  [Executor task launch worker for task 5807] storage.BlockManager (Logging.scala:logWarning(66)) - Persisting block rdd_13178_0 to disk instead.\n",
      "2020-06-07 13:38:06,490 WARN  [Executor task launch worker for task 5811] memory.MemoryStore (Logging.scala:logWarning(66)) - Not enough space to cache rdd_13073_0 in memory! (computed 142.5 MB so far)\n",
      "2020-06-07 13:38:09,874 WARN  [Executor task launch worker for task 5813] memory.MemoryStore (Logging.scala:logWarning(66)) - Not enough space to cache rdd_13165_0 in memory! (computed 63.2 MB so far)\n",
      "2020-06-07 13:38:09,880 WARN  [Executor task launch worker for task 5813] memory.MemoryStore (Logging.scala:logWarning(66)) - Not enough space to cache rdd_13165_0 in memory! (computed 1244.3 KB so far)\n",
      "2020-06-07 13:38:09,883 WARN  [Executor task launch worker for task 5813] memory.MemoryStore (Logging.scala:logWarning(66)) - Failed to reserve initial memory threshold of 1024.0 KB for computing block rdd_13184_0 in memory.\n",
      "2020-06-07 13:38:09,884 WARN  [Executor task launch worker for task 5813] memory.MemoryStore (Logging.scala:logWarning(66)) - Not enough space to cache rdd_13184_0 in memory! (computed 384.0 B so far)\n",
      "2020-06-07 13:38:09,885 WARN  [Executor task launch worker for task 5813] memory.MemoryStore (Logging.scala:logWarning(66)) - Failed to reserve initial memory threshold of 1024.0 KB for computing block rdd_13196_0 in memory.\n",
      "2020-06-07 13:38:09,885 WARN  [Executor task launch worker for task 5813] memory.MemoryStore (Logging.scala:logWarning(66)) - Not enough space to cache rdd_13196_0 in memory! (computed 384.0 B so far)\n",
      "2020-06-07 13:38:09,885 WARN  [Executor task launch worker for task 5813] storage.BlockManager (Logging.scala:logWarning(66)) - Persisting block rdd_13196_0 to disk instead.\n",
      "2020-06-07 13:38:10,904 WARN  [Executor task launch worker for task 5813] memory.MemoryStore (Logging.scala:logWarning(66)) - Failed to reserve initial memory threshold of 1024.0 KB for computing block broadcast_10478 in memory.\n",
      "2020-06-07 13:38:10,906 WARN  [Executor task launch worker for task 5813] memory.MemoryStore (Logging.scala:logWarning(66)) - Not enough space to cache broadcast_10478 in memory! (computed 384.0 B so far)\n",
      "2020-06-07 13:38:21,577 WARN  [Executor task launch worker for task 5849] memory.MemoryStore (Logging.scala:logWarning(66)) - Not enough space to cache rdd_13281_0 in memory! (computed 142.5 MB so far)\n",
      "2020-06-07 13:38:21,700 WARN  [Executor task launch worker for task 5849] memory.MemoryStore (Logging.scala:logWarning(66)) - Not enough space to cache rdd_13281_0 in memory! (computed 63.2 MB so far)\n",
      "2020-06-07 13:38:26,422 WARN  [Executor task launch worker for task 5857] memory.MemoryStore (Logging.scala:logWarning(66)) - Not enough space to cache rdd_13373_0 in memory! (computed 142.5 MB so far)\n",
      "2020-06-07 13:38:26,923 WARN  [Executor task launch worker for task 5857] memory.MemoryStore (Logging.scala:logWarning(66)) - Not enough space to cache rdd_13373_0 in memory! (computed 63.2 MB so far)\n",
      "2020-06-07 13:38:26,939 WARN  [Executor task launch worker for task 5857] memory.MemoryStore (Logging.scala:logWarning(66)) - Failed to reserve initial memory threshold of 1024.0 KB for computing block rdd_13404_0 in memory.\n",
      "2020-06-07 13:38:26,940 WARN  [Executor task launch worker for task 5857] memory.MemoryStore (Logging.scala:logWarning(66)) - Not enough space to cache rdd_13404_0 in memory! (computed 384.0 B so far)\n",
      "2020-06-07 13:38:26,941 WARN  [Executor task launch worker for task 5857] storage.BlockManager (Logging.scala:logWarning(66)) - Persisting block rdd_13404_0 to disk instead.\n",
      "2020-06-07 13:38:38,819 WARN  [Executor task launch worker for task 5893] memory.MemoryStore (Logging.scala:logWarning(66)) - Not enough space to cache rdd_13489_0 in memory! (computed 142.5 MB so far)\n",
      "2020-06-07 13:38:39,153 WARN  [Executor task launch worker for task 5895] memory.MemoryStore (Logging.scala:logWarning(66)) - Not enough space to cache rdd_13581_0 in memory! (computed 5.1 MB so far)\n",
      "2020-06-07 13:38:39,160 WARN  [Executor task launch worker for task 5895] memory.MemoryStore (Logging.scala:logWarning(66)) - Not enough space to cache rdd_13581_0 in memory! (computed 2.1 MB so far)\n",
      "2020-06-07 13:38:39,161 WARN  [Executor task launch worker for task 5895] memory.MemoryStore (Logging.scala:logWarning(66)) - Failed to reserve initial memory threshold of 1024.0 KB for computing block rdd_13581_0 in memory.\n",
      "2020-06-07 13:38:39,161 WARN  [Executor task launch worker for task 5895] memory.MemoryStore (Logging.scala:logWarning(66)) - Not enough space to cache rdd_13581_0 in memory! (computed 384.0 B so far)\n",
      "2020-06-07 13:38:39,161 WARN  [Executor task launch worker for task 5895] memory.MemoryStore (Logging.scala:logWarning(66)) - Failed to reserve initial memory threshold of 1024.0 KB for computing block rdd_13594_0 in memory.\n",
      "2020-06-07 13:38:39,162 WARN  [Executor task launch worker for task 5895] memory.MemoryStore (Logging.scala:logWarning(66)) - Not enough space to cache rdd_13594_0 in memory! (computed 384.0 B so far)\n",
      "2020-06-07 13:38:39,162 WARN  [Executor task launch worker for task 5895] storage.BlockManager (Logging.scala:logWarning(66)) - Persisting block rdd_13594_0 to disk instead.\n",
      "2020-06-07 13:38:44,752 WARN  [Executor task launch worker for task 5901] memory.MemoryStore (Logging.scala:logWarning(66)) - Not enough space to cache rdd_13581_0 in memory! (computed 142.5 MB so far)\n",
      "2020-06-07 13:38:44,844 WARN  [Executor task launch worker for task 5901] memory.MemoryStore (Logging.scala:logWarning(66)) - Not enough space to cache rdd_13581_0 in memory! (computed 63.2 MB so far)\n",
      "2020-06-07 13:38:44,856 WARN  [Executor task launch worker for task 5901] memory.MemoryStore (Logging.scala:logWarning(66)) - Failed to reserve initial memory threshold of 1024.0 KB for computing block rdd_13612_0 in memory.\n",
      "2020-06-07 13:38:44,857 WARN  [Executor task launch worker for task 5901] memory.MemoryStore (Logging.scala:logWarning(66)) - Not enough space to cache rdd_13612_0 in memory! (computed 384.0 B so far)\n",
      "2020-06-07 13:38:44,857 WARN  [Executor task launch worker for task 5901] storage.BlockManager (Logging.scala:logWarning(66)) - Persisting block rdd_13612_0 to disk instead.\n",
      "2020-06-07 13:38:56,600 WARN  [Executor task launch worker for task 5937] memory.MemoryStore (Logging.scala:logWarning(66)) - Not enough space to cache rdd_13697_0 in memory! (computed 142.5 MB so far)\n",
      "2020-06-07 13:38:56,727 WARN  [Executor task launch worker for task 5937] memory.MemoryStore (Logging.scala:logWarning(66)) - Not enough space to cache rdd_13697_0 in memory! (computed 63.2 MB so far)\n",
      "2020-06-07 13:39:01,198 WARN  [Executor task launch worker for task 5945] memory.MemoryStore (Logging.scala:logWarning(66)) - Not enough space to cache rdd_13789_0 in memory! (computed 142.5 MB so far)\n",
      "2020-06-07 13:39:01,318 WARN  [Executor task launch worker for task 5945] memory.MemoryStore (Logging.scala:logWarning(66)) - Not enough space to cache rdd_13789_0 in memory! (computed 63.2 MB so far)\n",
      "2020-06-07 13:39:01,329 WARN  [Executor task launch worker for task 5945] memory.MemoryStore (Logging.scala:logWarning(66)) - Failed to reserve initial memory threshold of 1024.0 KB for computing block rdd_13820_0 in memory.\n",
      "2020-06-07 13:39:01,329 WARN  [Executor task launch worker for task 5945] memory.MemoryStore (Logging.scala:logWarning(66)) - Not enough space to cache rdd_13820_0 in memory! (computed 384.0 B so far)\n",
      "2020-06-07 13:39:01,330 WARN  [Executor task launch worker for task 5945] storage.BlockManager (Logging.scala:logWarning(66)) - Persisting block rdd_13820_0 to disk instead.\n",
      "2020-06-07 13:39:12,885 WARN  [Executor task launch worker for task 5981] memory.MemoryStore (Logging.scala:logWarning(66)) - Not enough space to cache rdd_13905_0 in memory! (computed 142.5 MB so far)\n"
     ]
    },
    {
     "name": "stdout",
     "output_type": "stream",
     "text": [
      "2020-06-07 13:39:13,275 WARN  [Executor task launch worker for task 5981] memory.MemoryStore (Logging.scala:logWarning(66)) - Not enough space to cache rdd_13905_0 in memory! (computed 63.2 MB so far)\n",
      "2020-06-07 13:39:18,215 WARN  [Executor task launch worker for task 5989] memory.MemoryStore (Logging.scala:logWarning(66)) - Not enough space to cache rdd_13997_0 in memory! (computed 142.5 MB so far)\n",
      "2020-06-07 13:39:18,311 WARN  [Executor task launch worker for task 5989] memory.MemoryStore (Logging.scala:logWarning(66)) - Not enough space to cache rdd_13997_0 in memory! (computed 63.2 MB so far)\n",
      "2020-06-07 13:39:18,323 WARN  [Executor task launch worker for task 5989] memory.MemoryStore (Logging.scala:logWarning(66)) - Failed to reserve initial memory threshold of 1024.0 KB for computing block rdd_14028_0 in memory.\n",
      "2020-06-07 13:39:18,324 WARN  [Executor task launch worker for task 5989] memory.MemoryStore (Logging.scala:logWarning(66)) - Not enough space to cache rdd_14028_0 in memory! (computed 384.0 B so far)\n",
      "2020-06-07 13:39:18,324 WARN  [Executor task launch worker for task 5989] storage.BlockManager (Logging.scala:logWarning(66)) - Persisting block rdd_14028_0 to disk instead.\n",
      "2020-06-07 13:39:29,762 WARN  [Executor task launch worker for task 6025] memory.MemoryStore (Logging.scala:logWarning(66)) - Not enough space to cache rdd_14113_0 in memory! (computed 142.5 MB so far)\n",
      "2020-06-07 13:39:30,154 WARN  [Executor task launch worker for task 6025] memory.MemoryStore (Logging.scala:logWarning(66)) - Not enough space to cache rdd_14113_0 in memory! (computed 63.2 MB so far)\n",
      "2020-06-07 13:39:34,929 WARN  [Executor task launch worker for task 6033] memory.MemoryStore (Logging.scala:logWarning(66)) - Not enough space to cache rdd_14205_0 in memory! (computed 142.5 MB so far)\n",
      "2020-06-07 13:39:35,016 WARN  [Executor task launch worker for task 6033] memory.MemoryStore (Logging.scala:logWarning(66)) - Not enough space to cache rdd_14205_0 in memory! (computed 63.2 MB so far)\n",
      "2020-06-07 13:39:35,369 WARN  [Executor task launch worker for task 6033] memory.MemoryStore (Logging.scala:logWarning(66)) - Failed to reserve initial memory threshold of 1024.0 KB for computing block rdd_14236_0 in memory.\n",
      "2020-06-07 13:39:35,371 WARN  [Executor task launch worker for task 6033] memory.MemoryStore (Logging.scala:logWarning(66)) - Not enough space to cache rdd_14236_0 in memory! (computed 384.0 B so far)\n",
      "2020-06-07 13:39:35,372 WARN  [Executor task launch worker for task 6033] storage.BlockManager (Logging.scala:logWarning(66)) - Persisting block rdd_14236_0 to disk instead.\n",
      "2020-06-07 13:39:46,363 WARN  [Executor task launch worker for task 6069] memory.MemoryStore (Logging.scala:logWarning(66)) - Not enough space to cache rdd_14321_0 in memory! (computed 142.5 MB so far)\n",
      "2020-06-07 13:39:46,835 WARN  [Executor task launch worker for task 6069] memory.MemoryStore (Logging.scala:logWarning(66)) - Not enough space to cache rdd_14321_0 in memory! (computed 63.2 MB so far)\n",
      "2020-06-07 13:39:51,393 WARN  [Executor task launch worker for task 6077] memory.MemoryStore (Logging.scala:logWarning(66)) - Not enough space to cache rdd_14413_0 in memory! (computed 142.5 MB so far)\n",
      "2020-06-07 13:39:51,504 WARN  [Executor task launch worker for task 6077] memory.MemoryStore (Logging.scala:logWarning(66)) - Not enough space to cache rdd_14413_0 in memory! (computed 63.2 MB so far)\n",
      "2020-06-07 13:39:51,519 WARN  [Executor task launch worker for task 6077] memory.MemoryStore (Logging.scala:logWarning(66)) - Failed to reserve initial memory threshold of 1024.0 KB for computing block rdd_14444_0 in memory.\n",
      "2020-06-07 13:39:51,520 WARN  [Executor task launch worker for task 6077] memory.MemoryStore (Logging.scala:logWarning(66)) - Not enough space to cache rdd_14444_0 in memory! (computed 384.0 B so far)\n",
      "2020-06-07 13:39:51,521 WARN  [Executor task launch worker for task 6077] storage.BlockManager (Logging.scala:logWarning(66)) - Persisting block rdd_14444_0 to disk instead.\n",
      "2020-06-07 13:40:03,064 WARN  [Executor task launch worker for task 6113] memory.MemoryStore (Logging.scala:logWarning(66)) - Not enough space to cache rdd_14529_0 in memory! (computed 142.5 MB so far)\n",
      "2020-06-07 13:40:03,131 WARN  [Executor task launch worker for task 6113] memory.MemoryStore (Logging.scala:logWarning(66)) - Not enough space to cache rdd_14529_0 in memory! (computed 63.2 MB so far)\n",
      "2020-06-07 13:40:07,906 WARN  [Executor task launch worker for task 6121] memory.MemoryStore (Logging.scala:logWarning(66)) - Not enough space to cache rdd_14621_0 in memory! (computed 142.5 MB so far)\n",
      "2020-06-07 13:40:07,994 WARN  [Executor task launch worker for task 6121] memory.MemoryStore (Logging.scala:logWarning(66)) - Not enough space to cache rdd_14621_0 in memory! (computed 63.2 MB so far)\n",
      "2020-06-07 13:40:08,007 WARN  [Executor task launch worker for task 6121] memory.MemoryStore (Logging.scala:logWarning(66)) - Failed to reserve initial memory threshold of 1024.0 KB for computing block rdd_14652_0 in memory.\n",
      "2020-06-07 13:40:08,008 WARN  [Executor task launch worker for task 6121] memory.MemoryStore (Logging.scala:logWarning(66)) - Not enough space to cache rdd_14652_0 in memory! (computed 384.0 B so far)\n",
      "2020-06-07 13:40:08,008 WARN  [Executor task launch worker for task 6121] storage.BlockManager (Logging.scala:logWarning(66)) - Persisting block rdd_14652_0 to disk instead.\n",
      "2020-06-07 13:40:18,250 WARN  [Executor task launch worker for task 6157] memory.MemoryStore (Logging.scala:logWarning(66)) - Not enough space to cache rdd_14737_0 in memory! (computed 142.5 MB so far)\n",
      "2020-06-07 13:40:18,711 WARN  [Executor task launch worker for task 6157] memory.MemoryStore (Logging.scala:logWarning(66)) - Not enough space to cache rdd_14737_0 in memory! (computed 63.2 MB so far)\n",
      "2020-06-07 13:40:23,377 WARN  [Executor task launch worker for task 6165] memory.MemoryStore (Logging.scala:logWarning(66)) - Not enough space to cache rdd_14829_0 in memory! (computed 142.5 MB so far)\n",
      "2020-06-07 13:40:23,465 WARN  [Executor task launch worker for task 6165] memory.MemoryStore (Logging.scala:logWarning(66)) - Not enough space to cache rdd_14829_0 in memory! (computed 63.2 MB so far)\n",
      "2020-06-07 13:40:23,479 WARN  [Executor task launch worker for task 6165] memory.MemoryStore (Logging.scala:logWarning(66)) - Failed to reserve initial memory threshold of 1024.0 KB for computing block rdd_14860_0 in memory.\n",
      "2020-06-07 13:40:23,480 WARN  [Executor task launch worker for task 6165] memory.MemoryStore (Logging.scala:logWarning(66)) - Not enough space to cache rdd_14860_0 in memory! (computed 384.0 B so far)\n",
      "2020-06-07 13:40:23,481 WARN  [Executor task launch worker for task 6165] storage.BlockManager (Logging.scala:logWarning(66)) - Persisting block rdd_14860_0 to disk instead.\n",
      "2020-06-07 13:40:34,410 WARN  [Executor task launch worker for task 6201] memory.MemoryStore (Logging.scala:logWarning(66)) - Not enough space to cache rdd_14945_0 in memory! (computed 142.5 MB so far)\n",
      "2020-06-07 13:40:34,504 WARN  [Executor task launch worker for task 6201] memory.MemoryStore (Logging.scala:logWarning(66)) - Not enough space to cache rdd_14945_0 in memory! (computed 63.2 MB so far)\n",
      "2020-06-07 13:40:39,388 WARN  [Executor task launch worker for task 6209] memory.MemoryStore (Logging.scala:logWarning(66)) - Not enough space to cache rdd_15037_0 in memory! (computed 142.5 MB so far)\n",
      "2020-06-07 13:40:39,489 WARN  [Executor task launch worker for task 6209] memory.MemoryStore (Logging.scala:logWarning(66)) - Not enough space to cache rdd_15037_0 in memory! (computed 63.2 MB so far)\n",
      "2020-06-07 13:40:39,503 WARN  [Executor task launch worker for task 6209] memory.MemoryStore (Logging.scala:logWarning(66)) - Failed to reserve initial memory threshold of 1024.0 KB for computing block rdd_15068_0 in memory.\n",
      "2020-06-07 13:40:39,503 WARN  [Executor task launch worker for task 6209] memory.MemoryStore (Logging.scala:logWarning(66)) - Not enough space to cache rdd_15068_0 in memory! (computed 384.0 B so far)\n",
      "2020-06-07 13:40:39,504 WARN  [Executor task launch worker for task 6209] storage.BlockManager (Logging.scala:logWarning(66)) - Persisting block rdd_15068_0 to disk instead.\n"
     ]
    },
    {
     "name": "stdout",
     "output_type": "stream",
     "text": [
      "2020-06-07 13:40:51,348 WARN  [Executor task launch worker for task 6245] memory.MemoryStore (Logging.scala:logWarning(66)) - Not enough space to cache rdd_15153_0 in memory! (computed 142.5 MB so far)\n",
      "2020-06-07 13:40:51,435 WARN  [Executor task launch worker for task 6245] memory.MemoryStore (Logging.scala:logWarning(66)) - Not enough space to cache rdd_15153_0 in memory! (computed 63.2 MB so far)\n",
      "2020-06-07 13:40:56,087 WARN  [Executor task launch worker for task 6253] memory.MemoryStore (Logging.scala:logWarning(66)) - Not enough space to cache rdd_15245_0 in memory! (computed 142.5 MB so far)\n",
      "2020-06-07 13:40:56,199 WARN  [Executor task launch worker for task 6253] memory.MemoryStore (Logging.scala:logWarning(66)) - Not enough space to cache rdd_15245_0 in memory! (computed 63.2 MB so far)\n",
      "2020-06-07 13:40:56,210 WARN  [Executor task launch worker for task 6253] memory.MemoryStore (Logging.scala:logWarning(66)) - Failed to reserve initial memory threshold of 1024.0 KB for computing block rdd_15276_0 in memory.\n",
      "2020-06-07 13:40:56,211 WARN  [Executor task launch worker for task 6253] memory.MemoryStore (Logging.scala:logWarning(66)) - Not enough space to cache rdd_15276_0 in memory! (computed 384.0 B so far)\n",
      "2020-06-07 13:40:56,211 WARN  [Executor task launch worker for task 6253] storage.BlockManager (Logging.scala:logWarning(66)) - Persisting block rdd_15276_0 to disk instead.\n",
      "2020-06-07 13:41:07,412 WARN  [Executor task launch worker for task 6289] memory.MemoryStore (Logging.scala:logWarning(66)) - Not enough space to cache rdd_15361_0 in memory! (computed 142.5 MB so far)\n",
      "2020-06-07 13:41:07,889 WARN  [Executor task launch worker for task 6289] memory.MemoryStore (Logging.scala:logWarning(66)) - Not enough space to cache rdd_15361_0 in memory! (computed 63.2 MB so far)\n",
      "2020-06-07 13:41:12,496 WARN  [Executor task launch worker for task 6297] memory.MemoryStore (Logging.scala:logWarning(66)) - Not enough space to cache rdd_15453_0 in memory! (computed 142.5 MB so far)\n",
      "2020-06-07 13:41:12,631 WARN  [Executor task launch worker for task 6297] memory.MemoryStore (Logging.scala:logWarning(66)) - Not enough space to cache rdd_15453_0 in memory! (computed 63.2 MB so far)\n",
      "2020-06-07 13:41:13,011 WARN  [Executor task launch worker for task 6297] memory.MemoryStore (Logging.scala:logWarning(66)) - Failed to reserve initial memory threshold of 1024.0 KB for computing block rdd_15484_0 in memory.\n",
      "2020-06-07 13:41:13,011 WARN  [Executor task launch worker for task 6297] memory.MemoryStore (Logging.scala:logWarning(66)) - Not enough space to cache rdd_15484_0 in memory! (computed 384.0 B so far)\n",
      "2020-06-07 13:41:13,011 WARN  [Executor task launch worker for task 6297] storage.BlockManager (Logging.scala:logWarning(66)) - Persisting block rdd_15484_0 to disk instead.\n",
      "2020-06-07 13:41:24,382 WARN  [Executor task launch worker for task 6333] memory.MemoryStore (Logging.scala:logWarning(66)) - Not enough space to cache rdd_15569_0 in memory! (computed 142.5 MB so far)\n",
      "2020-06-07 13:41:24,460 WARN  [Executor task launch worker for task 6333] memory.MemoryStore (Logging.scala:logWarning(66)) - Not enough space to cache rdd_15569_0 in memory! (computed 63.2 MB so far)\n",
      "2020-06-07 13:41:28,942 WARN  [Executor task launch worker for task 6341] memory.MemoryStore (Logging.scala:logWarning(66)) - Not enough space to cache rdd_15661_0 in memory! (computed 142.5 MB so far)\n",
      "2020-06-07 13:41:29,032 WARN  [Executor task launch worker for task 6341] memory.MemoryStore (Logging.scala:logWarning(66)) - Not enough space to cache rdd_15661_0 in memory! (computed 63.2 MB so far)\n",
      "2020-06-07 13:41:29,461 WARN  [Executor task launch worker for task 6341] memory.MemoryStore (Logging.scala:logWarning(66)) - Failed to reserve initial memory threshold of 1024.0 KB for computing block rdd_15692_0 in memory.\n",
      "2020-06-07 13:41:29,461 WARN  [Executor task launch worker for task 6341] memory.MemoryStore (Logging.scala:logWarning(66)) - Not enough space to cache rdd_15692_0 in memory! (computed 384.0 B so far)\n",
      "2020-06-07 13:41:29,462 WARN  [Executor task launch worker for task 6341] storage.BlockManager (Logging.scala:logWarning(66)) - Persisting block rdd_15692_0 to disk instead.\n",
      "2020-06-07 13:41:40,740 WARN  [Executor task launch worker for task 6377] memory.MemoryStore (Logging.scala:logWarning(66)) - Not enough space to cache rdd_15777_0 in memory! (computed 142.5 MB so far)\n",
      "2020-06-07 13:41:40,805 WARN  [Executor task launch worker for task 6377] memory.MemoryStore (Logging.scala:logWarning(66)) - Not enough space to cache rdd_15777_0 in memory! (computed 63.2 MB so far)\n",
      "2020-06-07 13:41:45,175 WARN  [Executor task launch worker for task 6385] memory.MemoryStore (Logging.scala:logWarning(66)) - Not enough space to cache rdd_15869_0 in memory! (computed 142.5 MB so far)\n",
      "2020-06-07 13:41:45,292 WARN  [Executor task launch worker for task 6385] memory.MemoryStore (Logging.scala:logWarning(66)) - Not enough space to cache rdd_15869_0 in memory! (computed 63.2 MB so far)\n",
      "2020-06-07 13:41:45,304 WARN  [Executor task launch worker for task 6385] memory.MemoryStore (Logging.scala:logWarning(66)) - Failed to reserve initial memory threshold of 1024.0 KB for computing block rdd_15900_0 in memory.\n",
      "2020-06-07 13:41:45,305 WARN  [Executor task launch worker for task 6385] memory.MemoryStore (Logging.scala:logWarning(66)) - Not enough space to cache rdd_15900_0 in memory! (computed 384.0 B so far)\n",
      "2020-06-07 13:41:45,305 WARN  [Executor task launch worker for task 6385] storage.BlockManager (Logging.scala:logWarning(66)) - Persisting block rdd_15900_0 to disk instead.\n",
      "2020-06-07 13:41:57,113 WARN  [Executor task launch worker for task 6421] memory.MemoryStore (Logging.scala:logWarning(66)) - Not enough space to cache rdd_15985_0 in memory! (computed 142.5 MB so far)\n",
      "2020-06-07 13:41:57,201 WARN  [Executor task launch worker for task 6421] memory.MemoryStore (Logging.scala:logWarning(66)) - Not enough space to cache rdd_15985_0 in memory! (computed 63.2 MB so far)\n",
      "2020-06-07 13:42:01,961 WARN  [Executor task launch worker for task 6429] memory.MemoryStore (Logging.scala:logWarning(66)) - Not enough space to cache rdd_16077_0 in memory! (computed 142.5 MB so far)\n",
      "2020-06-07 13:42:02,071 WARN  [Executor task launch worker for task 6429] memory.MemoryStore (Logging.scala:logWarning(66)) - Not enough space to cache rdd_16077_0 in memory! (computed 63.2 MB so far)\n",
      "2020-06-07 13:42:02,083 WARN  [Executor task launch worker for task 6429] memory.MemoryStore (Logging.scala:logWarning(66)) - Failed to reserve initial memory threshold of 1024.0 KB for computing block rdd_16108_0 in memory.\n",
      "2020-06-07 13:42:02,084 WARN  [Executor task launch worker for task 6429] memory.MemoryStore (Logging.scala:logWarning(66)) - Not enough space to cache rdd_16108_0 in memory! (computed 384.0 B so far)\n",
      "2020-06-07 13:42:02,085 WARN  [Executor task launch worker for task 6429] storage.BlockManager (Logging.scala:logWarning(66)) - Persisting block rdd_16108_0 to disk instead.\n",
      "2020-06-07 13:42:13,749 WARN  [Executor task launch worker for task 6465] memory.MemoryStore (Logging.scala:logWarning(66)) - Not enough space to cache rdd_16193_0 in memory! (computed 142.5 MB so far)\n",
      "2020-06-07 13:42:13,843 WARN  [Executor task launch worker for task 6465] memory.MemoryStore (Logging.scala:logWarning(66)) - Not enough space to cache rdd_16193_0 in memory! (computed 63.2 MB so far)\n",
      "2020-06-07 13:42:18,857 WARN  [Executor task launch worker for task 6473] memory.MemoryStore (Logging.scala:logWarning(66)) - Not enough space to cache rdd_16285_0 in memory! (computed 142.5 MB so far)\n",
      "2020-06-07 13:42:18,989 WARN  [Executor task launch worker for task 6473] memory.MemoryStore (Logging.scala:logWarning(66)) - Not enough space to cache rdd_16285_0 in memory! (computed 63.2 MB so far)\n",
      "2020-06-07 13:42:19,000 WARN  [Executor task launch worker for task 6473] memory.MemoryStore (Logging.scala:logWarning(66)) - Failed to reserve initial memory threshold of 1024.0 KB for computing block rdd_16316_0 in memory.\n",
      "2020-06-07 13:42:19,001 WARN  [Executor task launch worker for task 6473] memory.MemoryStore (Logging.scala:logWarning(66)) - Not enough space to cache rdd_16316_0 in memory! (computed 384.0 B so far)\n"
     ]
    },
    {
     "name": "stdout",
     "output_type": "stream",
     "text": [
      "2020-06-07 13:42:19,001 WARN  [Executor task launch worker for task 6473] storage.BlockManager (Logging.scala:logWarning(66)) - Persisting block rdd_16316_0 to disk instead.\n",
      "2020-06-07 13:42:29,965 WARN  [Executor task launch worker for task 6503] memory.MemoryStore (Logging.scala:logWarning(66)) - Not enough space to cache rdd_16485_0 in memory! (computed 142.3 MB so far)\n",
      "2020-06-07 13:42:29,966 WARN  [Executor task launch worker for task 6503] storage.BlockManager (Logging.scala:logWarning(66)) - Persisting block rdd_16485_0 to disk instead.\n",
      "2020-06-07 13:42:30,256 WARN  [Executor task launch worker for task 6503] memory.MemoryStore (Logging.scala:logWarning(66)) - Not enough space to cache rdd_16485_0 in memory! (computed 142.3 MB so far)\n",
      "2020-06-07 13:42:30,645 WARN  [Executor task launch worker for task 6503] memory.MemoryStore (Logging.scala:logWarning(66)) - Not enough space to cache rdd_16485_0 in memory! (computed 63.1 MB so far)\n",
      "2020-06-07 13:42:32,004 WARN  [Executor task launch worker for task 6507] memory.MemoryStore (Logging.scala:logWarning(66)) - Not enough space to cache rdd_16485_0 in memory! (computed 142.3 MB so far)\n",
      "2020-06-07 13:42:33,280 WARN  [Executor task launch worker for task 6509] memory.MemoryStore (Logging.scala:logWarning(66)) - Not enough space to cache rdd_16478_0 in memory! (computed 63.1 MB so far)\n",
      "2020-06-07 13:42:33,309 WARN  [Executor task launch worker for task 6509] memory.MemoryStore (Logging.scala:logWarning(66)) - Not enough space to cache rdd_16478_0 in memory! (computed 5.1 MB so far)\n",
      "2020-06-07 13:42:33,311 WARN  [Executor task launch worker for task 6509] memory.MemoryStore (Logging.scala:logWarning(66)) - Failed to reserve initial memory threshold of 1024.0 KB for computing block rdd_16492_0 in memory.\n",
      "2020-06-07 13:42:33,312 WARN  [Executor task launch worker for task 6509] memory.MemoryStore (Logging.scala:logWarning(66)) - Not enough space to cache rdd_16492_0 in memory! (computed 384.0 B so far)\n",
      "2020-06-07 13:42:33,314 WARN  [Executor task launch worker for task 6509] memory.MemoryStore (Logging.scala:logWarning(66)) - Failed to reserve initial memory threshold of 1024.0 KB for computing block rdd_16504_0 in memory.\n",
      "2020-06-07 13:42:33,315 WARN  [Executor task launch worker for task 6509] memory.MemoryStore (Logging.scala:logWarning(66)) - Not enough space to cache rdd_16504_0 in memory! (computed 384.0 B so far)\n",
      "2020-06-07 13:42:33,315 WARN  [Executor task launch worker for task 6509] storage.BlockManager (Logging.scala:logWarning(66)) - Persisting block rdd_16504_0 to disk instead.\n",
      "2020-06-07 13:42:37,092 WARN  [Executor task launch worker for task 6515] memory.MemoryStore (Logging.scala:logWarning(66)) - Not enough space to cache rdd_16485_0 in memory! (computed 142.3 MB so far)\n",
      "2020-06-07 13:42:37,172 WARN  [Executor task launch worker for task 6515] memory.MemoryStore (Logging.scala:logWarning(66)) - Not enough space to cache rdd_16485_0 in memory! (computed 63.1 MB so far)\n",
      "2020-06-07 13:42:41,523 WARN  [Executor task launch worker for task 6519] memory.MemoryStore (Logging.scala:logWarning(66)) - Not enough space to cache rdd_16485_0 in memory! (computed 142.3 MB so far)\n",
      "2020-06-07 13:42:41,743 WARN  [Executor task launch worker for task 6519] memory.MemoryStore (Logging.scala:logWarning(66)) - Not enough space to cache rdd_16485_0 in memory! (computed 63.1 MB so far)\n",
      "2020-06-07 13:42:41,758 WARN  [Executor task launch worker for task 6519] memory.MemoryStore (Logging.scala:logWarning(66)) - Failed to reserve initial memory threshold of 1024.0 KB for computing block rdd_16534_0 in memory.\n",
      "2020-06-07 13:42:41,759 WARN  [Executor task launch worker for task 6519] memory.MemoryStore (Logging.scala:logWarning(66)) - Not enough space to cache rdd_16534_0 in memory! (computed 384.0 B so far)\n",
      "2020-06-07 13:42:41,760 WARN  [Executor task launch worker for task 6519] storage.BlockManager (Logging.scala:logWarning(66)) - Persisting block rdd_16534_0 to disk instead.\n",
      "2020-06-07 13:42:50,098 WARN  [Executor task launch worker for task 6549] memory.MemoryStore (Logging.scala:logWarning(66)) - Not enough space to cache rdd_16627_0 in memory! (computed 142.3 MB so far)\n",
      "2020-06-07 13:42:50,168 WARN  [Executor task launch worker for task 6549] memory.MemoryStore (Logging.scala:logWarning(66)) - Not enough space to cache rdd_16627_0 in memory! (computed 63.1 MB so far)\n",
      "2020-06-07 13:42:50,178 WARN  [Executor task launch worker for task 6549] memory.MemoryStore (Logging.scala:logWarning(66)) - Not enough space to cache rdd_16627_0 in memory! (computed 5.1 MB so far)\n",
      "2020-06-07 13:42:52,538 WARN  [Executor task launch worker for task 6555] memory.MemoryStore (Logging.scala:logWarning(66)) - Not enough space to cache rdd_16695_0 in memory! (computed 142.3 MB so far)\n",
      "2020-06-07 13:42:52,911 WARN  [Executor task launch worker for task 6555] memory.MemoryStore (Logging.scala:logWarning(66)) - Not enough space to cache rdd_16695_0 in memory! (computed 63.1 MB so far)\n",
      "2020-06-07 13:42:55,618 WARN  [Executor task launch worker for task 6559] memory.MemoryStore (Logging.scala:logWarning(66)) - Not enough space to cache rdd_16695_0 in memory! (computed 142.3 MB so far)\n",
      "2020-06-07 13:42:55,709 WARN  [Executor task launch worker for task 6559] memory.MemoryStore (Logging.scala:logWarning(66)) - Not enough space to cache rdd_16695_0 in memory! (computed 63.1 MB so far)\n",
      "2020-06-07 13:43:00,089 WARN  [Executor task launch worker for task 6563] memory.MemoryStore (Logging.scala:logWarning(66)) - Not enough space to cache rdd_16695_0 in memory! (computed 142.3 MB so far)\n",
      "2020-06-07 13:43:00,553 WARN  [Executor task launch worker for task 6563] memory.MemoryStore (Logging.scala:logWarning(66)) - Not enough space to cache rdd_16695_0 in memory! (computed 63.1 MB so far)\n",
      "2020-06-07 13:43:00,564 WARN  [Executor task launch worker for task 6563] memory.MemoryStore (Logging.scala:logWarning(66)) - Failed to reserve initial memory threshold of 1024.0 KB for computing block rdd_16744_0 in memory.\n",
      "2020-06-07 13:43:00,565 WARN  [Executor task launch worker for task 6563] memory.MemoryStore (Logging.scala:logWarning(66)) - Not enough space to cache rdd_16744_0 in memory! (computed 384.0 B so far)\n",
      "2020-06-07 13:43:00,566 WARN  [Executor task launch worker for task 6563] storage.BlockManager (Logging.scala:logWarning(66)) - Persisting block rdd_16744_0 to disk instead.\n",
      "2020-06-07 13:43:09,432 WARN  [Executor task launch worker for task 6593] memory.MemoryStore (Logging.scala:logWarning(66)) - Not enough space to cache rdd_16825_0 in memory! (computed 142.3 MB so far)\n",
      "2020-06-07 13:43:09,510 WARN  [Executor task launch worker for task 6593] memory.MemoryStore (Logging.scala:logWarning(66)) - Not enough space to cache rdd_16825_0 in memory! (computed 63.1 MB so far)\n",
      "2020-06-07 13:43:09,522 WARN  [Executor task launch worker for task 6593] memory.MemoryStore (Logging.scala:logWarning(66)) - Not enough space to cache rdd_16825_0 in memory! (computed 5.1 MB so far)\n",
      "2020-06-07 13:43:11,314 WARN  [Executor task launch worker for task 6597] memory.MemoryStore (Logging.scala:logWarning(66)) - Not enough space to cache rdd_16825_0 in memory! (computed 142.3 MB so far)\n",
      "2020-06-07 13:43:13,318 WARN  [Executor task launch worker for task 6599] memory.MemoryStore (Logging.scala:logWarning(66)) - Not enough space to cache rdd_16903_0 in memory! (computed 63.1 MB so far)\n",
      "2020-06-07 13:43:13,340 WARN  [Executor task launch worker for task 6599] memory.MemoryStore (Logging.scala:logWarning(66)) - Not enough space to cache rdd_16903_0 in memory! (computed 5.1 MB so far)\n",
      "2020-06-07 13:43:13,342 WARN  [Executor task launch worker for task 6599] memory.MemoryStore (Logging.scala:logWarning(66)) - Failed to reserve initial memory threshold of 1024.0 KB for computing block rdd_16916_0 in memory.\n",
      "2020-06-07 13:43:13,343 WARN  [Executor task launch worker for task 6599] memory.MemoryStore (Logging.scala:logWarning(66)) - Not enough space to cache rdd_16916_0 in memory! (computed 384.0 B so far)\n",
      "2020-06-07 13:43:13,343 WARN  [Executor task launch worker for task 6599] memory.MemoryStore (Logging.scala:logWarning(66)) - Failed to reserve initial memory threshold of 1024.0 KB for computing block rdd_16928_0 in memory.\n"
     ]
    },
    {
     "name": "stdout",
     "output_type": "stream",
     "text": [
      "2020-06-07 13:43:13,343 WARN  [Executor task launch worker for task 6599] memory.MemoryStore (Logging.scala:logWarning(66)) - Not enough space to cache rdd_16928_0 in memory! (computed 384.0 B so far)\n",
      "2020-06-07 13:43:13,344 WARN  [Executor task launch worker for task 6599] storage.BlockManager (Logging.scala:logWarning(66)) - Persisting block rdd_16928_0 to disk instead.\n",
      "2020-06-07 13:43:16,689 WARN  [Executor task launch worker for task 6603] memory.MemoryStore (Logging.scala:logWarning(66)) - Not enough space to cache rdd_16903_0 in memory! (computed 142.3 MB so far)\n",
      "2020-06-07 13:43:16,788 WARN  [Executor task launch worker for task 6603] memory.MemoryStore (Logging.scala:logWarning(66)) - Not enough space to cache rdd_16903_0 in memory! (computed 63.1 MB so far)\n",
      "2020-06-07 13:43:21,310 WARN  [Executor task launch worker for task 6607] memory.MemoryStore (Logging.scala:logWarning(66)) - Not enough space to cache rdd_16903_0 in memory! (computed 142.3 MB so far)\n",
      "2020-06-07 13:43:21,418 WARN  [Executor task launch worker for task 6607] memory.MemoryStore (Logging.scala:logWarning(66)) - Not enough space to cache rdd_16903_0 in memory! (computed 63.1 MB so far)\n",
      "2020-06-07 13:43:21,430 WARN  [Executor task launch worker for task 6607] memory.MemoryStore (Logging.scala:logWarning(66)) - Failed to reserve initial memory threshold of 1024.0 KB for computing block rdd_16952_0 in memory.\n",
      "2020-06-07 13:43:21,430 WARN  [Executor task launch worker for task 6607] memory.MemoryStore (Logging.scala:logWarning(66)) - Not enough space to cache rdd_16952_0 in memory! (computed 384.0 B so far)\n",
      "2020-06-07 13:43:21,430 WARN  [Executor task launch worker for task 6607] storage.BlockManager (Logging.scala:logWarning(66)) - Persisting block rdd_16952_0 to disk instead.\n",
      "2020-06-07 13:43:28,846 WARN  [Executor task launch worker for task 6635] memory.MemoryStore (Logging.scala:logWarning(66)) - Not enough space to cache rdd_17111_0 in memory! (computed 142.3 MB so far)\n",
      "2020-06-07 13:43:28,846 WARN  [Executor task launch worker for task 6635] storage.BlockManager (Logging.scala:logWarning(66)) - Persisting block rdd_17111_0 to disk instead.\n",
      "2020-06-07 13:43:29,166 WARN  [Executor task launch worker for task 6635] memory.MemoryStore (Logging.scala:logWarning(66)) - Not enough space to cache rdd_17111_0 in memory! (computed 142.3 MB so far)\n",
      "2020-06-07 13:43:29,546 WARN  [Executor task launch worker for task 6635] memory.MemoryStore (Logging.scala:logWarning(66)) - Not enough space to cache rdd_17111_0 in memory! (computed 63.1 MB so far)\n",
      "2020-06-07 13:43:31,215 WARN  [Executor task launch worker for task 6641] memory.MemoryStore (Logging.scala:logWarning(66)) - Not enough space to cache rdd_17111_0 in memory! (computed 142.3 MB so far)\n",
      "2020-06-07 13:43:31,648 WARN  [Executor task launch worker for task 6641] memory.MemoryStore (Logging.scala:logWarning(66)) - Not enough space to cache rdd_17111_0 in memory! (computed 63.1 MB so far)\n",
      "2020-06-07 13:43:31,674 WARN  [Executor task launch worker for task 6641] memory.MemoryStore (Logging.scala:logWarning(66)) - Not enough space to cache rdd_17111_0 in memory! (computed 5.1 MB so far)\n",
      "2020-06-07 13:43:31,675 WARN  [Executor task launch worker for task 6641] memory.MemoryStore (Logging.scala:logWarning(66)) - Failed to reserve initial memory threshold of 1024.0 KB for computing block rdd_17130_0 in memory.\n",
      "2020-06-07 13:43:31,676 WARN  [Executor task launch worker for task 6641] memory.MemoryStore (Logging.scala:logWarning(66)) - Not enough space to cache rdd_17130_0 in memory! (computed 384.0 B so far)\n",
      "2020-06-07 13:43:31,676 WARN  [Executor task launch worker for task 6641] storage.BlockManager (Logging.scala:logWarning(66)) - Persisting block rdd_17130_0 to disk instead.\n",
      "2020-06-07 13:43:34,190 WARN  [Executor task launch worker for task 6645] memory.MemoryStore (Logging.scala:logWarning(66)) - Not enough space to cache rdd_17111_0 in memory! (computed 142.3 MB so far)\n",
      "2020-06-07 13:43:34,293 WARN  [Executor task launch worker for task 6645] memory.MemoryStore (Logging.scala:logWarning(66)) - Not enough space to cache rdd_17111_0 in memory! (computed 63.1 MB so far)\n",
      "2020-06-07 13:43:37,786 WARN  [Executor task launch worker for task 6648] memory.MemoryStore (Logging.scala:logWarning(66)) - Not enough space to cache rdd_17111_0 in memory! (computed 142.3 MB so far)\n",
      "2020-06-07 13:43:37,888 WARN  [Executor task launch worker for task 6648] memory.MemoryStore (Logging.scala:logWarning(66)) - Not enough space to cache rdd_17111_0 in memory! (computed 63.1 MB so far)\n",
      "2020-06-07 13:43:51,219 WARN  [Executor task launch worker for task 6687] memory.MemoryStore (Logging.scala:logWarning(66)) - Not enough space to cache rdd_17331_0 in memory! (computed 142.3 MB so far)\n",
      "2020-06-07 13:43:51,296 WARN  [Executor task launch worker for task 6687] memory.MemoryStore (Logging.scala:logWarning(66)) - Not enough space to cache rdd_17331_0 in memory! (computed 63.1 MB so far)\n",
      "2020-06-07 13:43:51,306 WARN  [Executor task launch worker for task 6687] memory.MemoryStore (Logging.scala:logWarning(66)) - Not enough space to cache rdd_17331_0 in memory! (computed 3.3 MB so far)\n",
      "2020-06-07 13:43:54,838 WARN  [Executor task launch worker for task 6691] memory.MemoryStore (Logging.scala:logWarning(66)) - Not enough space to cache rdd_17239_0 in memory! (computed 142.3 MB so far)\n",
      "2020-06-07 13:43:57,665 WARN  [Executor task launch worker for task 6693] memory.MemoryStore (Logging.scala:logWarning(66)) - Not enough space to cache rdd_17331_0 in memory! (computed 63.1 MB so far)\n",
      "2020-06-07 13:43:57,676 WARN  [Executor task launch worker for task 6693] memory.MemoryStore (Logging.scala:logWarning(66)) - Not enough space to cache rdd_17331_0 in memory! (computed 2.1 MB so far)\n",
      "2020-06-07 13:43:57,681 WARN  [Executor task launch worker for task 6693] memory.MemoryStore (Logging.scala:logWarning(66)) - Failed to reserve initial memory threshold of 1024.0 KB for computing block rdd_17350_0 in memory.\n",
      "2020-06-07 13:43:57,682 WARN  [Executor task launch worker for task 6693] memory.MemoryStore (Logging.scala:logWarning(66)) - Not enough space to cache rdd_17350_0 in memory! (computed 384.0 B so far)\n",
      "2020-06-07 13:43:57,684 WARN  [Executor task launch worker for task 6693] memory.MemoryStore (Logging.scala:logWarning(66)) - Failed to reserve initial memory threshold of 1024.0 KB for computing block rdd_17362_0 in memory.\n",
      "2020-06-07 13:43:57,685 WARN  [Executor task launch worker for task 6693] memory.MemoryStore (Logging.scala:logWarning(66)) - Not enough space to cache rdd_17362_0 in memory! (computed 384.0 B so far)\n",
      "2020-06-07 13:43:57,686 WARN  [Executor task launch worker for task 6693] storage.BlockManager (Logging.scala:logWarning(66)) - Persisting block rdd_17362_0 to disk instead.\n",
      "2020-06-07 13:44:09,548 WARN  [Executor task launch worker for task 6729] memory.MemoryStore (Logging.scala:logWarning(66)) - Not enough space to cache rdd_17447_0 in memory! (computed 142.3 MB so far)\n",
      "2020-06-07 13:44:09,663 WARN  [Executor task launch worker for task 6729] memory.MemoryStore (Logging.scala:logWarning(66)) - Not enough space to cache rdd_17447_0 in memory! (computed 63.1 MB so far)\n",
      "2020-06-07 13:44:14,481 WARN  [Executor task launch worker for task 6737] memory.MemoryStore (Logging.scala:logWarning(66)) - Not enough space to cache rdd_17539_0 in memory! (computed 142.3 MB so far)\n",
      "2020-06-07 13:44:14,621 WARN  [Executor task launch worker for task 6737] memory.MemoryStore (Logging.scala:logWarning(66)) - Not enough space to cache rdd_17539_0 in memory! (computed 63.1 MB so far)\n",
      "2020-06-07 13:44:26,371 WARN  [Executor task launch worker for task 6773] memory.MemoryStore (Logging.scala:logWarning(66)) - Not enough space to cache rdd_17655_0 in memory! (computed 142.3 MB so far)\n",
      "2020-06-07 13:44:26,862 WARN  [Executor task launch worker for task 6773] memory.MemoryStore (Logging.scala:logWarning(66)) - Not enough space to cache rdd_17655_0 in memory! (computed 63.1 MB so far)\n",
      "2020-06-07 13:44:30,389 WARN  [Executor task launch worker for task 6779] memory.MemoryStore (Logging.scala:logWarning(66)) - Not enough space to cache rdd_17655_0 in memory! (computed 142.3 MB so far)\n"
     ]
    },
    {
     "name": "stdout",
     "output_type": "stream",
     "text": [
      "2020-06-07 13:44:33,192 WARN  [Executor task launch worker for task 6781] memory.MemoryStore (Logging.scala:logWarning(66)) - Not enough space to cache rdd_17747_0 in memory! (computed 63.1 MB so far)\n",
      "2020-06-07 13:44:33,201 WARN  [Executor task launch worker for task 6781] memory.MemoryStore (Logging.scala:logWarning(66)) - Not enough space to cache rdd_17747_0 in memory! (computed 2.1 MB so far)\n",
      "2020-06-07 13:44:33,204 WARN  [Executor task launch worker for task 6781] memory.MemoryStore (Logging.scala:logWarning(66)) - Failed to reserve initial memory threshold of 1024.0 KB for computing block rdd_17766_0 in memory.\n",
      "2020-06-07 13:44:33,205 WARN  [Executor task launch worker for task 6781] memory.MemoryStore (Logging.scala:logWarning(66)) - Not enough space to cache rdd_17766_0 in memory! (computed 384.0 B so far)\n",
      "2020-06-07 13:44:33,205 WARN  [Executor task launch worker for task 6781] memory.MemoryStore (Logging.scala:logWarning(66)) - Failed to reserve initial memory threshold of 1024.0 KB for computing block rdd_17778_0 in memory.\n",
      "2020-06-07 13:44:33,206 WARN  [Executor task launch worker for task 6781] memory.MemoryStore (Logging.scala:logWarning(66)) - Not enough space to cache rdd_17778_0 in memory! (computed 384.0 B so far)\n",
      "2020-06-07 13:44:33,206 WARN  [Executor task launch worker for task 6781] storage.BlockManager (Logging.scala:logWarning(66)) - Persisting block rdd_17778_0 to disk instead.\n",
      "2020-06-07 13:44:44,936 WARN  [Executor task launch worker for task 6817] memory.MemoryStore (Logging.scala:logWarning(66)) - Not enough space to cache rdd_17863_0 in memory! (computed 142.3 MB so far)\n",
      "2020-06-07 13:44:45,353 WARN  [Executor task launch worker for task 6817] memory.MemoryStore (Logging.scala:logWarning(66)) - Not enough space to cache rdd_17863_0 in memory! (computed 63.1 MB so far)\n",
      "2020-06-07 13:44:50,567 WARN  [Executor task launch worker for task 6825] memory.MemoryStore (Logging.scala:logWarning(66)) - Not enough space to cache rdd_17955_0 in memory! (computed 142.3 MB so far)\n",
      "2020-06-07 13:44:50,731 WARN  [Executor task launch worker for task 6825] memory.MemoryStore (Logging.scala:logWarning(66)) - Not enough space to cache rdd_17955_0 in memory! (computed 63.1 MB so far)\n",
      "2020-06-07 13:45:03,036 WARN  [Executor task launch worker for task 6861] memory.MemoryStore (Logging.scala:logWarning(66)) - Not enough space to cache rdd_18071_0 in memory! (computed 142.3 MB so far)\n",
      "2020-06-07 13:45:03,105 WARN  [Executor task launch worker for task 6861] memory.MemoryStore (Logging.scala:logWarning(66)) - Not enough space to cache rdd_18071_0 in memory! (computed 63.1 MB so far)\n",
      "2020-06-07 13:45:07,778 WARN  [Executor task launch worker for task 6869] memory.MemoryStore (Logging.scala:logWarning(66)) - Not enough space to cache rdd_18163_0 in memory! (computed 142.3 MB so far)\n",
      "2020-06-07 13:45:07,882 WARN  [Executor task launch worker for task 6869] memory.MemoryStore (Logging.scala:logWarning(66)) - Not enough space to cache rdd_18163_0 in memory! (computed 63.1 MB so far)\n",
      "2020-06-07 13:45:20,231 WARN  [Executor task launch worker for task 6905] memory.MemoryStore (Logging.scala:logWarning(66)) - Not enough space to cache rdd_18279_0 in memory! (computed 142.3 MB so far)\n",
      "2020-06-07 13:45:20,303 WARN  [Executor task launch worker for task 6905] memory.MemoryStore (Logging.scala:logWarning(66)) - Not enough space to cache rdd_18279_0 in memory! (computed 63.1 MB so far)\n",
      "2020-06-07 13:45:25,135 WARN  [Executor task launch worker for task 6913] memory.MemoryStore (Logging.scala:logWarning(66)) - Not enough space to cache rdd_18371_0 in memory! (computed 142.3 MB so far)\n",
      "2020-06-07 13:45:25,248 WARN  [Executor task launch worker for task 6913] memory.MemoryStore (Logging.scala:logWarning(66)) - Not enough space to cache rdd_18371_0 in memory! (computed 63.1 MB so far)\n",
      "2020-06-07 13:45:37,263 WARN  [Executor task launch worker for task 6949] memory.MemoryStore (Logging.scala:logWarning(66)) - Not enough space to cache rdd_18487_0 in memory! (computed 142.3 MB so far)\n",
      "2020-06-07 13:45:37,361 WARN  [Executor task launch worker for task 6949] memory.MemoryStore (Logging.scala:logWarning(66)) - Not enough space to cache rdd_18487_0 in memory! (computed 63.1 MB so far)\n",
      "2020-06-07 13:45:42,220 WARN  [Executor task launch worker for task 6957] memory.MemoryStore (Logging.scala:logWarning(66)) - Not enough space to cache rdd_18579_0 in memory! (computed 142.3 MB so far)\n",
      "2020-06-07 13:45:42,330 WARN  [Executor task launch worker for task 6957] memory.MemoryStore (Logging.scala:logWarning(66)) - Not enough space to cache rdd_18579_0 in memory! (computed 63.1 MB so far)\n",
      "2020-06-07 13:45:54,421 WARN  [Executor task launch worker for task 6993] memory.MemoryStore (Logging.scala:logWarning(66)) - Not enough space to cache rdd_18695_0 in memory! (computed 142.3 MB so far)\n",
      "2020-06-07 13:45:54,941 WARN  [Executor task launch worker for task 6993] memory.MemoryStore (Logging.scala:logWarning(66)) - Not enough space to cache rdd_18695_0 in memory! (computed 63.1 MB so far)\n",
      "2020-06-07 13:46:00,153 WARN  [Executor task launch worker for task 7001] memory.MemoryStore (Logging.scala:logWarning(66)) - Not enough space to cache rdd_18787_0 in memory! (computed 142.3 MB so far)\n",
      "2020-06-07 13:46:00,273 WARN  [Executor task launch worker for task 7001] memory.MemoryStore (Logging.scala:logWarning(66)) - Not enough space to cache rdd_18787_0 in memory! (computed 63.1 MB so far)\n",
      "2020-06-07 13:46:12,767 WARN  [Executor task launch worker for task 7037] memory.MemoryStore (Logging.scala:logWarning(66)) - Not enough space to cache rdd_18903_0 in memory! (computed 142.3 MB so far)\n",
      "2020-06-07 13:46:13,648 WARN  [Executor task launch worker for task 7039] memory.MemoryStore (Logging.scala:logWarning(66)) - Not enough space to cache rdd_18995_0 in memory! (computed 63.1 MB so far)\n",
      "2020-06-07 13:46:13,664 WARN  [Executor task launch worker for task 7039] memory.MemoryStore (Logging.scala:logWarning(66)) - Not enough space to cache rdd_18995_0 in memory! (computed 3.3 MB so far)\n",
      "2020-06-07 13:46:13,669 WARN  [Executor task launch worker for task 7039] memory.MemoryStore (Logging.scala:logWarning(66)) - Not enough space to cache rdd_18995_0 in memory! (computed 1242.8 KB so far)\n",
      "2020-06-07 13:46:13,670 WARN  [Executor task launch worker for task 7039] memory.MemoryStore (Logging.scala:logWarning(66)) - Failed to reserve initial memory threshold of 1024.0 KB for computing block rdd_19008_0 in memory.\n",
      "2020-06-07 13:46:13,670 WARN  [Executor task launch worker for task 7039] memory.MemoryStore (Logging.scala:logWarning(66)) - Not enough space to cache rdd_19008_0 in memory! (computed 384.0 B so far)\n",
      "2020-06-07 13:46:13,670 WARN  [Executor task launch worker for task 7039] storage.BlockManager (Logging.scala:logWarning(66)) - Persisting block rdd_19008_0 to disk instead.\n",
      "2020-06-07 13:46:19,386 WARN  [Executor task launch worker for task 7045] memory.MemoryStore (Logging.scala:logWarning(66)) - Not enough space to cache rdd_18995_0 in memory! (computed 142.3 MB so far)\n",
      "2020-06-07 13:46:19,486 WARN  [Executor task launch worker for task 7045] memory.MemoryStore (Logging.scala:logWarning(66)) - Not enough space to cache rdd_18995_0 in memory! (computed 63.1 MB so far)\n",
      "2020-06-07 13:46:30,841 WARN  [Executor task launch worker for task 7080] memory.MemoryStore (Logging.scala:logWarning(66)) - Not enough space to cache rdd_19203_0 in memory! (computed 142.3 MB so far)\n",
      "2020-06-07 13:46:30,841 WARN  [Executor task launch worker for task 7080] storage.BlockManager (Logging.scala:logWarning(66)) - Persisting block rdd_19203_0 to disk instead.\n",
      "2020-06-07 13:46:31,459 WARN  [Executor task launch worker for task 7080] memory.MemoryStore (Logging.scala:logWarning(66)) - Not enough space to cache rdd_19203_0 in memory! (computed 142.3 MB so far)\n",
      "2020-06-07 13:46:31,533 WARN  [Executor task launch worker for task 7080] memory.MemoryStore (Logging.scala:logWarning(66)) - Not enough space to cache rdd_19203_0 in memory! (computed 63.1 MB so far)\n",
      "2020-06-07 13:46:34,255 WARN  [Executor task launch worker for task 7085] memory.MemoryStore (Logging.scala:logWarning(66)) - Not enough space to cache rdd_19111_0 in memory! (computed 142.3 MB so far)\n"
     ]
    },
    {
     "name": "stdout",
     "output_type": "stream",
     "text": [
      "2020-06-07 13:46:35,286 WARN  [Executor task launch worker for task 7087] memory.MemoryStore (Logging.scala:logWarning(66)) - Not enough space to cache rdd_19203_0 in memory! (computed 63.1 MB so far)\n",
      "2020-06-07 13:46:35,295 WARN  [Executor task launch worker for task 7087] memory.MemoryStore (Logging.scala:logWarning(66)) - Not enough space to cache rdd_19203_0 in memory! (computed 2.1 MB so far)\n",
      "2020-06-07 13:46:35,298 WARN  [Executor task launch worker for task 7087] memory.MemoryStore (Logging.scala:logWarning(66)) - Failed to reserve initial memory threshold of 1024.0 KB for computing block rdd_19216_0 in memory.\n",
      "2020-06-07 13:46:35,299 WARN  [Executor task launch worker for task 7087] memory.MemoryStore (Logging.scala:logWarning(66)) - Not enough space to cache rdd_19216_0 in memory! (computed 384.0 B so far)\n",
      "2020-06-07 13:46:35,300 WARN  [Executor task launch worker for task 7087] memory.MemoryStore (Logging.scala:logWarning(66)) - Failed to reserve initial memory threshold of 1024.0 KB for computing block rdd_19228_0 in memory.\n",
      "2020-06-07 13:46:35,300 WARN  [Executor task launch worker for task 7087] memory.MemoryStore (Logging.scala:logWarning(66)) - Not enough space to cache rdd_19228_0 in memory! (computed 384.0 B so far)\n",
      "2020-06-07 13:46:35,300 WARN  [Executor task launch worker for task 7087] storage.BlockManager (Logging.scala:logWarning(66)) - Persisting block rdd_19228_0 to disk instead.\n",
      "2020-06-07 13:46:42,139 WARN  [Executor task launch worker for task 7105] memory.MemoryStore (Logging.scala:logWarning(66)) - Not enough space to cache rdd_19319_0 in memory! (computed 142.3 MB so far)\n",
      "2020-06-07 13:46:42,140 WARN  [Executor task launch worker for task 7105] storage.BlockManager (Logging.scala:logWarning(66)) - Persisting block rdd_19319_0 to disk instead.\n",
      "2020-06-07 13:46:42,479 WARN  [Executor task launch worker for task 7105] memory.MemoryStore (Logging.scala:logWarning(66)) - Not enough space to cache rdd_19319_0 in memory! (computed 142.3 MB so far)\n",
      "2020-06-07 13:46:42,963 WARN  [Executor task launch worker for task 7105] memory.MemoryStore (Logging.scala:logWarning(66)) - Not enough space to cache rdd_19319_0 in memory! (computed 63.1 MB so far)\n",
      "2020-06-07 13:46:48,985 WARN  [Executor task launch worker for task 7125] memory.MemoryStore (Logging.scala:logWarning(66)) - Not enough space to cache rdd_19417_0 in memory! (computed 142.3 MB so far)\n",
      "2020-06-07 13:46:48,987 WARN  [Executor task launch worker for task 7125] storage.BlockManager (Logging.scala:logWarning(66)) - Persisting block rdd_19417_0 to disk instead.\n",
      "2020-06-07 13:46:49,331 WARN  [Executor task launch worker for task 7125] memory.MemoryStore (Logging.scala:logWarning(66)) - Not enough space to cache rdd_19417_0 in memory! (computed 142.3 MB so far)\n",
      "2020-06-07 13:46:49,850 WARN  [Executor task launch worker for task 7125] memory.MemoryStore (Logging.scala:logWarning(66)) - Not enough space to cache rdd_19417_0 in memory! (computed 63.1 MB so far)\n",
      "2020-06-07 13:46:52,389 WARN  [Executor task launch worker for task 7129] memory.MemoryStore (Logging.scala:logWarning(66)) - Not enough space to cache rdd_19319_0 in memory! (computed 142.3 MB so far)\n",
      "2020-06-07 13:46:52,486 WARN  [Executor task launch worker for task 7129] memory.MemoryStore (Logging.scala:logWarning(66)) - Not enough space to cache rdd_19319_0 in memory! (computed 63.1 MB so far)\n",
      "2020-06-07 13:47:00,930 WARN  [Executor task launch worker for task 7149] memory.MemoryStore (Logging.scala:logWarning(66)) - Not enough space to cache rdd_19527_0 in memory! (computed 142.3 MB so far)\n",
      "2020-06-07 13:47:00,933 WARN  [Executor task launch worker for task 7149] storage.BlockManager (Logging.scala:logWarning(66)) - Persisting block rdd_19527_0 to disk instead.\n",
      "2020-06-07 13:47:01,278 WARN  [Executor task launch worker for task 7149] memory.MemoryStore (Logging.scala:logWarning(66)) - Not enough space to cache rdd_19527_0 in memory! (computed 142.3 MB so far)\n",
      "2020-06-07 13:47:01,795 WARN  [Executor task launch worker for task 7149] memory.MemoryStore (Logging.scala:logWarning(66)) - Not enough space to cache rdd_19527_0 in memory! (computed 63.1 MB so far)\n",
      "2020-06-07 13:47:08,271 WARN  [Executor task launch worker for task 7169] memory.MemoryStore (Logging.scala:logWarning(66)) - Not enough space to cache rdd_19625_0 in memory! (computed 142.3 MB so far)\n",
      "2020-06-07 13:47:08,272 WARN  [Executor task launch worker for task 7169] storage.BlockManager (Logging.scala:logWarning(66)) - Persisting block rdd_19625_0 to disk instead.\n",
      "2020-06-07 13:47:08,649 WARN  [Executor task launch worker for task 7169] memory.MemoryStore (Logging.scala:logWarning(66)) - Not enough space to cache rdd_19625_0 in memory! (computed 142.3 MB so far)\n",
      "2020-06-07 13:47:08,794 WARN  [Executor task launch worker for task 7169] memory.MemoryStore (Logging.scala:logWarning(66)) - Not enough space to cache rdd_19625_0 in memory! (computed 63.1 MB so far)\n",
      "2020-06-07 13:47:11,750 WARN  [Executor task launch worker for task 7173] memory.MemoryStore (Logging.scala:logWarning(66)) - Not enough space to cache rdd_19527_0 in memory! (computed 142.3 MB so far)\n",
      "2020-06-07 13:47:11,891 WARN  [Executor task launch worker for task 7173] memory.MemoryStore (Logging.scala:logWarning(66)) - Not enough space to cache rdd_19527_0 in memory! (computed 63.1 MB so far)\n",
      "2020-06-07 13:47:19,702 WARN  [Executor task launch worker for task 7193] memory.MemoryStore (Logging.scala:logWarning(66)) - Not enough space to cache rdd_19735_0 in memory! (computed 142.3 MB so far)\n",
      "2020-06-07 13:47:19,704 WARN  [Executor task launch worker for task 7193] storage.BlockManager (Logging.scala:logWarning(66)) - Persisting block rdd_19735_0 to disk instead.\n",
      "2020-06-07 13:47:20,391 WARN  [Executor task launch worker for task 7193] memory.MemoryStore (Logging.scala:logWarning(66)) - Not enough space to cache rdd_19735_0 in memory! (computed 142.3 MB so far)\n",
      "2020-06-07 13:47:20,474 WARN  [Executor task launch worker for task 7193] memory.MemoryStore (Logging.scala:logWarning(66)) - Not enough space to cache rdd_19735_0 in memory! (computed 63.1 MB so far)\n",
      "2020-06-07 13:47:26,160 WARN  [Executor task launch worker for task 7212] memory.MemoryStore (Logging.scala:logWarning(66)) - Not enough space to cache rdd_19827_0 in memory! (computed 142.3 MB so far)\n",
      "2020-06-07 13:47:26,161 WARN  [Executor task launch worker for task 7212] storage.BlockManager (Logging.scala:logWarning(66)) - Persisting block rdd_19827_0 to disk instead.\n",
      "2020-06-07 13:47:26,533 WARN  [Executor task launch worker for task 7212] memory.MemoryStore (Logging.scala:logWarning(66)) - Not enough space to cache rdd_19827_0 in memory! (computed 142.3 MB so far)\n",
      "2020-06-07 13:47:26,669 WARN  [Executor task launch worker for task 7212] memory.MemoryStore (Logging.scala:logWarning(66)) - Not enough space to cache rdd_19827_0 in memory! (computed 63.1 MB so far)\n",
      "2020-06-07 13:47:30,434 WARN  [Executor task launch worker for task 7219] memory.MemoryStore (Logging.scala:logWarning(66)) - Not enough space to cache rdd_19827_0 in memory! (computed 142.3 MB so far)\n",
      "2020-06-07 13:47:30,574 WARN  [Executor task launch worker for task 7219] memory.MemoryStore (Logging.scala:logWarning(66)) - Not enough space to cache rdd_19827_0 in memory! (computed 63.1 MB so far)\n",
      "2020-06-07 13:47:37,504 WARN  [Executor task launch worker for task 7236] memory.MemoryStore (Logging.scala:logWarning(66)) - Not enough space to cache rdd_19937_0 in memory! (computed 142.3 MB so far)\n",
      "2020-06-07 13:47:37,505 WARN  [Executor task launch worker for task 7236] storage.BlockManager (Logging.scala:logWarning(66)) - Persisting block rdd_19937_0 to disk instead.\n",
      "2020-06-07 13:47:37,932 WARN  [Executor task launch worker for task 7236] memory.MemoryStore (Logging.scala:logWarning(66)) - Not enough space to cache rdd_19937_0 in memory! (computed 142.3 MB so far)\n",
      "2020-06-07 13:47:38,372 WARN  [Executor task launch worker for task 7236] memory.MemoryStore (Logging.scala:logWarning(66)) - Not enough space to cache rdd_19937_0 in memory! (computed 63.1 MB so far)\n",
      "2020-06-07 13:47:44,399 WARN  [Executor task launch worker for task 7257] memory.MemoryStore (Logging.scala:logWarning(66)) - Not enough space to cache rdd_20041_0 in memory! (computed 142.3 MB so far)\n"
     ]
    },
    {
     "name": "stdout",
     "output_type": "stream",
     "text": [
      "2020-06-07 13:47:44,400 WARN  [Executor task launch worker for task 7257] storage.BlockManager (Logging.scala:logWarning(66)) - Persisting block rdd_20041_0 to disk instead.\n",
      "2020-06-07 13:47:46,953 WARN  [Executor task launch worker for task 7261] memory.MemoryStore (Logging.scala:logWarning(66)) - Not enough space to cache rdd_19937_0 in memory! (computed 142.3 MB so far)\n",
      "2020-06-07 13:47:47,073 WARN  [Executor task launch worker for task 7261] memory.MemoryStore (Logging.scala:logWarning(66)) - Not enough space to cache rdd_19937_0 in memory! (computed 63.1 MB so far)\n",
      "2020-06-07 13:48:00,145 WARN  [Executor task launch worker for task 7295] memory.MemoryStore (Logging.scala:logWarning(66)) - Not enough space to cache rdd_20235_0 in memory! (computed 142.2 MB so far)\n",
      "2020-06-07 13:48:00,145 WARN  [Executor task launch worker for task 7295] storage.BlockManager (Logging.scala:logWarning(66)) - Persisting block rdd_20235_0 to disk instead.\n",
      "2020-06-07 13:48:00,833 WARN  [Executor task launch worker for task 7295] memory.MemoryStore (Logging.scala:logWarning(66)) - Not enough space to cache rdd_20235_0 in memory! (computed 142.2 MB so far)\n",
      "2020-06-07 13:48:00,898 WARN  [Executor task launch worker for task 7295] memory.MemoryStore (Logging.scala:logWarning(66)) - Not enough space to cache rdd_20235_0 in memory! (computed 63.1 MB so far)\n",
      "2020-06-07 13:48:02,243 WARN  [Executor task launch worker for task 7299] memory.MemoryStore (Logging.scala:logWarning(66)) - Not enough space to cache rdd_20235_0 in memory! (computed 142.2 MB so far)\n",
      "2020-06-07 13:48:03,931 WARN  [Executor task launch worker for task 7301] memory.MemoryStore (Logging.scala:logWarning(66)) - Not enough space to cache rdd_20228_0 in memory! (computed 63.1 MB so far)\n",
      "2020-06-07 13:48:03,950 WARN  [Executor task launch worker for task 7301] memory.MemoryStore (Logging.scala:logWarning(66)) - Not enough space to cache rdd_20228_0 in memory! (computed 5.1 MB so far)\n",
      "2020-06-07 13:48:03,959 WARN  [Executor task launch worker for task 7301] memory.MemoryStore (Logging.scala:logWarning(66)) - Failed to reserve initial memory threshold of 1024.0 KB for computing block rdd_20254_0 in memory.\n",
      "2020-06-07 13:48:03,960 WARN  [Executor task launch worker for task 7301] memory.MemoryStore (Logging.scala:logWarning(66)) - Not enough space to cache rdd_20254_0 in memory! (computed 384.0 B so far)\n",
      "2020-06-07 13:48:03,960 WARN  [Executor task launch worker for task 7301] storage.BlockManager (Logging.scala:logWarning(66)) - Persisting block rdd_20254_0 to disk instead.\n",
      "2020-06-07 13:48:08,061 WARN  [Executor task launch worker for task 7307] memory.MemoryStore (Logging.scala:logWarning(66)) - Not enough space to cache rdd_20235_0 in memory! (computed 142.2 MB so far)\n",
      "2020-06-07 13:48:08,170 WARN  [Executor task launch worker for task 7307] memory.MemoryStore (Logging.scala:logWarning(66)) - Not enough space to cache rdd_20235_0 in memory! (computed 63.1 MB so far)\n",
      "2020-06-07 13:48:12,477 WARN  [Executor task launch worker for task 7311] memory.MemoryStore (Logging.scala:logWarning(66)) - Not enough space to cache rdd_20235_0 in memory! (computed 142.2 MB so far)\n",
      "2020-06-07 13:48:12,948 WARN  [Executor task launch worker for task 7311] memory.MemoryStore (Logging.scala:logWarning(66)) - Not enough space to cache rdd_20235_0 in memory! (computed 63.1 MB so far)\n",
      "2020-06-07 13:48:12,957 WARN  [Executor task launch worker for task 7311] memory.MemoryStore (Logging.scala:logWarning(66)) - Failed to reserve initial memory threshold of 1024.0 KB for computing block rdd_20284_0 in memory.\n",
      "2020-06-07 13:48:12,958 WARN  [Executor task launch worker for task 7311] memory.MemoryStore (Logging.scala:logWarning(66)) - Not enough space to cache rdd_20284_0 in memory! (computed 384.0 B so far)\n",
      "2020-06-07 13:48:12,959 WARN  [Executor task launch worker for task 7311] storage.BlockManager (Logging.scala:logWarning(66)) - Persisting block rdd_20284_0 to disk instead.\n",
      "2020-06-07 13:48:20,797 WARN  [Executor task launch worker for task 7339] memory.MemoryStore (Logging.scala:logWarning(66)) - Not enough space to cache rdd_20445_0 in memory! (computed 142.2 MB so far)\n",
      "2020-06-07 13:48:20,798 WARN  [Executor task launch worker for task 7339] storage.BlockManager (Logging.scala:logWarning(66)) - Persisting block rdd_20445_0 to disk instead.\n",
      "2020-06-07 13:48:21,516 WARN  [Executor task launch worker for task 7341] memory.MemoryStore (Logging.scala:logWarning(66)) - Not enough space to cache rdd_20408_0 in memory! (computed 142.2 MB so far)\n",
      "2020-06-07 13:48:21,976 WARN  [Executor task launch worker for task 7341] memory.MemoryStore (Logging.scala:logWarning(66)) - Not enough space to cache rdd_20408_0 in memory! (computed 63.1 MB so far)\n",
      "2020-06-07 13:48:21,988 WARN  [Executor task launch worker for task 7341] memory.MemoryStore (Logging.scala:logWarning(66)) - Not enough space to cache rdd_20408_0 in memory! (computed 5.1 MB so far)\n",
      "2020-06-07 13:48:24,891 WARN  [Executor task launch worker for task 7347] memory.MemoryStore (Logging.scala:logWarning(66)) - Not enough space to cache rdd_20445_0 in memory! (computed 142.2 MB so far)\n",
      "2020-06-07 13:48:24,996 WARN  [Executor task launch worker for task 7347] memory.MemoryStore (Logging.scala:logWarning(66)) - Not enough space to cache rdd_20445_0 in memory! (computed 63.1 MB so far)\n",
      "2020-06-07 13:48:28,705 WARN  [Executor task launch worker for task 7351] memory.MemoryStore (Logging.scala:logWarning(66)) - Not enough space to cache rdd_20445_0 in memory! (computed 142.2 MB so far)\n",
      "2020-06-07 13:48:28,861 WARN  [Executor task launch worker for task 7351] memory.MemoryStore (Logging.scala:logWarning(66)) - Not enough space to cache rdd_20445_0 in memory! (computed 63.1 MB so far)\n",
      "2020-06-07 13:48:33,412 WARN  [Executor task launch worker for task 7355] memory.MemoryStore (Logging.scala:logWarning(66)) - Not enough space to cache rdd_20445_0 in memory! (computed 142.2 MB so far)\n",
      "2020-06-07 13:48:33,533 WARN  [Executor task launch worker for task 7355] memory.MemoryStore (Logging.scala:logWarning(66)) - Not enough space to cache rdd_20445_0 in memory! (computed 63.1 MB so far)\n",
      "2020-06-07 13:48:33,549 WARN  [Executor task launch worker for task 7355] memory.MemoryStore (Logging.scala:logWarning(66)) - Failed to reserve initial memory threshold of 1024.0 KB for computing block rdd_20494_0 in memory.\n",
      "2020-06-07 13:48:33,551 WARN  [Executor task launch worker for task 7355] memory.MemoryStore (Logging.scala:logWarning(66)) - Not enough space to cache rdd_20494_0 in memory! (computed 384.0 B so far)\n",
      "2020-06-07 13:48:33,551 WARN  [Executor task launch worker for task 7355] storage.BlockManager (Logging.scala:logWarning(66)) - Persisting block rdd_20494_0 to disk instead.\n",
      "2020-06-07 13:48:41,379 WARN  [Executor task launch worker for task 7385] memory.MemoryStore (Logging.scala:logWarning(66)) - Not enough space to cache rdd_20596_0 in memory! (computed 142.2 MB so far)\n",
      "2020-06-07 13:48:41,861 WARN  [Executor task launch worker for task 7385] memory.MemoryStore (Logging.scala:logWarning(66)) - Not enough space to cache rdd_20596_0 in memory! (computed 63.1 MB so far)\n",
      "2020-06-07 13:48:41,872 WARN  [Executor task launch worker for task 7385] memory.MemoryStore (Logging.scala:logWarning(66)) - Not enough space to cache rdd_20596_0 in memory! (computed 5.1 MB so far)\n",
      "2020-06-07 13:48:44,993 WARN  [Executor task launch worker for task 7391] memory.MemoryStore (Logging.scala:logWarning(66)) - Not enough space to cache rdd_20653_0 in memory! (computed 142.2 MB so far)\n",
      "2020-06-07 13:48:45,061 WARN  [Executor task launch worker for task 7391] memory.MemoryStore (Logging.scala:logWarning(66)) - Not enough space to cache rdd_20653_0 in memory! (computed 63.1 MB so far)\n",
      "2020-06-07 13:48:47,542 WARN  [Executor task launch worker for task 7395] memory.MemoryStore (Logging.scala:logWarning(66)) - Not enough space to cache rdd_20653_0 in memory! (computed 142.2 MB so far)\n",
      "2020-06-07 13:48:47,694 WARN  [Executor task launch worker for task 7395] memory.MemoryStore (Logging.scala:logWarning(66)) - Not enough space to cache rdd_20653_0 in memory! (computed 63.1 MB so far)\n",
      "2020-06-07 13:48:52,247 WARN  [Executor task launch worker for task 7399] memory.MemoryStore (Logging.scala:logWarning(66)) - Not enough space to cache rdd_20653_0 in memory! (computed 142.2 MB so far)\n"
     ]
    },
    {
     "name": "stdout",
     "output_type": "stream",
     "text": [
      "2020-06-07 13:48:52,355 WARN  [Executor task launch worker for task 7399] memory.MemoryStore (Logging.scala:logWarning(66)) - Not enough space to cache rdd_20653_0 in memory! (computed 63.1 MB so far)\n",
      "2020-06-07 13:48:52,364 WARN  [Executor task launch worker for task 7399] memory.MemoryStore (Logging.scala:logWarning(66)) - Failed to reserve initial memory threshold of 1024.0 KB for computing block rdd_20702_0 in memory.\n",
      "2020-06-07 13:48:52,365 WARN  [Executor task launch worker for task 7399] memory.MemoryStore (Logging.scala:logWarning(66)) - Not enough space to cache rdd_20702_0 in memory! (computed 384.0 B so far)\n",
      "2020-06-07 13:48:52,365 WARN  [Executor task launch worker for task 7399] storage.BlockManager (Logging.scala:logWarning(66)) - Persisting block rdd_20702_0 to disk instead.\n",
      "2020-06-07 13:49:00,316 WARN  [Executor task launch worker for task 7427] memory.MemoryStore (Logging.scala:logWarning(66)) - Not enough space to cache rdd_20861_0 in memory! (computed 142.2 MB so far)\n",
      "2020-06-07 13:49:00,317 WARN  [Executor task launch worker for task 7427] storage.BlockManager (Logging.scala:logWarning(66)) - Persisting block rdd_20861_0 to disk instead.\n",
      "2020-06-07 13:49:00,686 WARN  [Executor task launch worker for task 7427] memory.MemoryStore (Logging.scala:logWarning(66)) - Not enough space to cache rdd_20861_0 in memory! (computed 142.2 MB so far)\n",
      "2020-06-07 13:49:01,104 WARN  [Executor task launch worker for task 7427] memory.MemoryStore (Logging.scala:logWarning(66)) - Not enough space to cache rdd_20861_0 in memory! (computed 63.1 MB so far)\n",
      "2020-06-07 13:49:02,843 WARN  [Executor task launch worker for task 7433] memory.MemoryStore (Logging.scala:logWarning(66)) - Not enough space to cache rdd_20861_0 in memory! (computed 142.2 MB so far)\n",
      "2020-06-07 13:49:03,217 WARN  [Executor task launch worker for task 7433] memory.MemoryStore (Logging.scala:logWarning(66)) - Not enough space to cache rdd_20861_0 in memory! (computed 63.1 MB so far)\n",
      "2020-06-07 13:49:03,236 WARN  [Executor task launch worker for task 7433] memory.MemoryStore (Logging.scala:logWarning(66)) - Not enough space to cache rdd_20861_0 in memory! (computed 5.1 MB so far)\n",
      "2020-06-07 13:49:03,237 WARN  [Executor task launch worker for task 7433] memory.MemoryStore (Logging.scala:logWarning(66)) - Failed to reserve initial memory threshold of 1024.0 KB for computing block rdd_20880_0 in memory.\n",
      "2020-06-07 13:49:03,237 WARN  [Executor task launch worker for task 7433] memory.MemoryStore (Logging.scala:logWarning(66)) - Not enough space to cache rdd_20880_0 in memory! (computed 384.0 B so far)\n",
      "2020-06-07 13:49:03,237 WARN  [Executor task launch worker for task 7433] storage.BlockManager (Logging.scala:logWarning(66)) - Persisting block rdd_20880_0 to disk instead.\n",
      "2020-06-07 13:49:06,046 WARN  [Executor task launch worker for task 7437] memory.MemoryStore (Logging.scala:logWarning(66)) - Not enough space to cache rdd_20861_0 in memory! (computed 142.2 MB so far)\n",
      "2020-06-07 13:49:06,153 WARN  [Executor task launch worker for task 7437] memory.MemoryStore (Logging.scala:logWarning(66)) - Not enough space to cache rdd_20861_0 in memory! (computed 63.1 MB so far)\n",
      "2020-06-07 13:49:09,528 WARN  [Executor task launch worker for task 7440] memory.MemoryStore (Logging.scala:logWarning(66)) - Not enough space to cache rdd_20861_0 in memory! (computed 142.2 MB so far)\n",
      "2020-06-07 13:49:09,722 WARN  [Executor task launch worker for task 7440] memory.MemoryStore (Logging.scala:logWarning(66)) - Not enough space to cache rdd_20861_0 in memory! (computed 63.1 MB so far)\n",
      "2020-06-07 13:49:22,038 WARN  [Executor task launch worker for task 7477] memory.MemoryStore (Logging.scala:logWarning(66)) - Not enough space to cache rdd_20989_0 in memory! (computed 142.2 MB so far)\n",
      "2020-06-07 13:49:22,112 WARN  [Executor task launch worker for task 7477] memory.MemoryStore (Logging.scala:logWarning(66)) - Not enough space to cache rdd_20989_0 in memory! (computed 63.1 MB so far)\n",
      "2020-06-07 13:49:26,888 WARN  [Executor task launch worker for task 7485] memory.MemoryStore (Logging.scala:logWarning(66)) - Not enough space to cache rdd_21081_0 in memory! (computed 142.2 MB so far)\n",
      "2020-06-07 13:49:27,009 WARN  [Executor task launch worker for task 7485] memory.MemoryStore (Logging.scala:logWarning(66)) - Not enough space to cache rdd_21081_0 in memory! (computed 63.1 MB so far)\n",
      "2020-06-07 13:49:39,443 WARN  [Executor task launch worker for task 7521] memory.MemoryStore (Logging.scala:logWarning(66)) - Not enough space to cache rdd_21197_0 in memory! (computed 142.2 MB so far)\n",
      "2020-06-07 13:49:39,538 WARN  [Executor task launch worker for task 7521] memory.MemoryStore (Logging.scala:logWarning(66)) - Not enough space to cache rdd_21197_0 in memory! (computed 63.1 MB so far)\n",
      "2020-06-07 13:49:44,888 WARN  [Executor task launch worker for task 7529] memory.MemoryStore (Logging.scala:logWarning(66)) - Not enough space to cache rdd_21289_0 in memory! (computed 142.2 MB so far)\n",
      "2020-06-07 13:49:45,014 WARN  [Executor task launch worker for task 7529] memory.MemoryStore (Logging.scala:logWarning(66)) - Not enough space to cache rdd_21289_0 in memory! (computed 63.1 MB so far)\n",
      "2020-06-07 13:49:56,757 WARN  [Executor task launch worker for task 7564] memory.MemoryStore (Logging.scala:logWarning(66)) - Not enough space to cache rdd_21497_0 in memory! (computed 142.2 MB so far)\n",
      "2020-06-07 13:49:56,758 WARN  [Executor task launch worker for task 7564] storage.BlockManager (Logging.scala:logWarning(66)) - Persisting block rdd_21497_0 to disk instead.\n",
      "2020-06-07 13:49:57,089 WARN  [Executor task launch worker for task 7564] memory.MemoryStore (Logging.scala:logWarning(66)) - Not enough space to cache rdd_21497_0 in memory! (computed 142.2 MB so far)\n",
      "2020-06-07 13:49:57,192 WARN  [Executor task launch worker for task 7564] memory.MemoryStore (Logging.scala:logWarning(66)) - Not enough space to cache rdd_21497_0 in memory! (computed 63.1 MB so far)\n",
      "2020-06-07 13:50:00,959 WARN  [Executor task launch worker for task 7571] memory.MemoryStore (Logging.scala:logWarning(66)) - Not enough space to cache rdd_21497_0 in memory! (computed 142.2 MB so far)\n",
      "2020-06-07 13:50:01,358 WARN  [Executor task launch worker for task 7571] memory.MemoryStore (Logging.scala:logWarning(66)) - Not enough space to cache rdd_21497_0 in memory! (computed 63.1 MB so far)\n",
      "2020-06-07 13:50:08,424 WARN  [Executor task launch worker for task 7589] memory.MemoryStore (Logging.scala:logWarning(66)) - Not enough space to cache rdd_21613_0 in memory! (computed 142.2 MB so far)\n",
      "2020-06-07 13:50:08,426 WARN  [Executor task launch worker for task 7589] storage.BlockManager (Logging.scala:logWarning(66)) - Persisting block rdd_21613_0 to disk instead.\n",
      "2020-06-07 13:50:08,870 WARN  [Executor task launch worker for task 7589] memory.MemoryStore (Logging.scala:logWarning(66)) - Not enough space to cache rdd_21613_0 in memory! (computed 142.2 MB so far)\n",
      "2020-06-07 13:50:08,977 WARN  [Executor task launch worker for task 7589] memory.MemoryStore (Logging.scala:logWarning(66)) - Not enough space to cache rdd_21613_0 in memory! (computed 63.1 MB so far)\n",
      "2020-06-07 13:50:14,825 WARN  [Executor task launch worker for task 7608] memory.MemoryStore (Logging.scala:logWarning(66)) - Not enough space to cache rdd_21705_0 in memory! (computed 142.2 MB so far)\n",
      "2020-06-07 13:50:14,827 WARN  [Executor task launch worker for task 7608] storage.BlockManager (Logging.scala:logWarning(66)) - Persisting block rdd_21705_0 to disk instead.\n",
      "2020-06-07 13:50:15,163 WARN  [Executor task launch worker for task 7608] memory.MemoryStore (Logging.scala:logWarning(66)) - Not enough space to cache rdd_21705_0 in memory! (computed 142.2 MB so far)\n",
      "2020-06-07 13:50:15,607 WARN  [Executor task launch worker for task 7608] memory.MemoryStore (Logging.scala:logWarning(66)) - Not enough space to cache rdd_21705_0 in memory! (computed 63.1 MB so far)\n",
      "2020-06-07 13:50:18,500 WARN  [Executor task launch worker for task 7613] memory.MemoryStore (Logging.scala:logWarning(66)) - Not enough space to cache rdd_21613_0 in memory! (computed 142.2 MB so far)\n",
      "2020-06-07 13:50:20,174 WARN  [Executor task launch worker for task 7615] memory.MemoryStore (Logging.scala:logWarning(66)) - Not enough space to cache rdd_21705_0 in memory! (computed 63.1 MB so far)\n"
     ]
    },
    {
     "name": "stdout",
     "output_type": "stream",
     "text": [
      "2020-06-07 13:50:20,182 WARN  [Executor task launch worker for task 7615] memory.MemoryStore (Logging.scala:logWarning(66)) - Not enough space to cache rdd_21705_0 in memory! (computed 2.1 MB so far)\n",
      "2020-06-07 13:50:20,184 WARN  [Executor task launch worker for task 7615] memory.MemoryStore (Logging.scala:logWarning(66)) - Failed to reserve initial memory threshold of 1024.0 KB for computing block rdd_21718_0 in memory.\n",
      "2020-06-07 13:50:20,184 WARN  [Executor task launch worker for task 7615] memory.MemoryStore (Logging.scala:logWarning(66)) - Not enough space to cache rdd_21718_0 in memory! (computed 384.0 B so far)\n",
      "2020-06-07 13:50:20,184 WARN  [Executor task launch worker for task 7615] memory.MemoryStore (Logging.scala:logWarning(66)) - Failed to reserve initial memory threshold of 1024.0 KB for computing block rdd_21730_0 in memory.\n",
      "2020-06-07 13:50:20,184 WARN  [Executor task launch worker for task 7615] memory.MemoryStore (Logging.scala:logWarning(66)) - Not enough space to cache rdd_21730_0 in memory! (computed 384.0 B so far)\n",
      "2020-06-07 13:50:20,184 WARN  [Executor task launch worker for task 7615] storage.BlockManager (Logging.scala:logWarning(66)) - Persisting block rdd_21730_0 to disk instead.\n",
      "2020-06-07 13:50:27,843 WARN  [Executor task launch worker for task 7633] memory.MemoryStore (Logging.scala:logWarning(66)) - Not enough space to cache rdd_21821_0 in memory! (computed 142.2 MB so far)\n",
      "2020-06-07 13:50:27,843 WARN  [Executor task launch worker for task 7633] storage.BlockManager (Logging.scala:logWarning(66)) - Persisting block rdd_21821_0 to disk instead.\n",
      "2020-06-07 13:50:28,152 WARN  [Executor task launch worker for task 7633] memory.MemoryStore (Logging.scala:logWarning(66)) - Not enough space to cache rdd_21821_0 in memory! (computed 142.2 MB so far)\n",
      "2020-06-07 13:50:28,625 WARN  [Executor task launch worker for task 7633] memory.MemoryStore (Logging.scala:logWarning(66)) - Not enough space to cache rdd_21821_0 in memory! (computed 63.1 MB so far)\n",
      "2020-06-07 13:50:34,506 WARN  [Executor task launch worker for task 7652] memory.MemoryStore (Logging.scala:logWarning(66)) - Not enough space to cache rdd_21915_0 in memory! (computed 142.2 MB so far)\n",
      "2020-06-07 13:50:34,506 WARN  [Executor task launch worker for task 7652] storage.BlockManager (Logging.scala:logWarning(66)) - Persisting block rdd_21915_0 to disk instead.\n",
      "2020-06-07 13:50:34,903 WARN  [Executor task launch worker for task 7652] memory.MemoryStore (Logging.scala:logWarning(66)) - Not enough space to cache rdd_21915_0 in memory! (computed 142.2 MB so far)\n",
      "2020-06-07 13:50:35,028 WARN  [Executor task launch worker for task 7652] memory.MemoryStore (Logging.scala:logWarning(66)) - Not enough space to cache rdd_21915_0 in memory! (computed 63.1 MB so far)\n",
      "2020-06-07 13:50:37,997 WARN  [Executor task launch worker for task 7657] memory.MemoryStore (Logging.scala:logWarning(66)) - Not enough space to cache rdd_21821_0 in memory! (computed 142.2 MB so far)\n",
      "2020-06-07 13:50:38,111 WARN  [Executor task launch worker for task 7657] memory.MemoryStore (Logging.scala:logWarning(66)) - Not enough space to cache rdd_21821_0 in memory! (computed 63.1 MB so far)\n",
      "2020-06-07 13:50:46,302 WARN  [Executor task launch worker for task 7677] memory.MemoryStore (Logging.scala:logWarning(66)) - Not enough space to cache rdd_22029_0 in memory! (computed 142.2 MB so far)\n",
      "2020-06-07 13:50:46,303 WARN  [Executor task launch worker for task 7677] storage.BlockManager (Logging.scala:logWarning(66)) - Persisting block rdd_22029_0 to disk instead.\n",
      "2020-06-07 13:50:46,658 WARN  [Executor task launch worker for task 7677] memory.MemoryStore (Logging.scala:logWarning(66)) - Not enough space to cache rdd_22029_0 in memory! (computed 142.2 MB so far)\n",
      "2020-06-07 13:50:47,066 WARN  [Executor task launch worker for task 7677] memory.MemoryStore (Logging.scala:logWarning(66)) - Not enough space to cache rdd_22029_0 in memory! (computed 63.1 MB so far)\n",
      "2020-06-07 13:50:52,535 WARN  [Executor task launch worker for task 7696] memory.MemoryStore (Logging.scala:logWarning(66)) - Not enough space to cache rdd_22121_0 in memory! (computed 142.2 MB so far)\n",
      "2020-06-07 13:50:52,535 WARN  [Executor task launch worker for task 7696] storage.BlockManager (Logging.scala:logWarning(66)) - Persisting block rdd_22121_0 to disk instead.\n",
      "2020-06-07 13:50:53,231 WARN  [Executor task launch worker for task 7696] memory.MemoryStore (Logging.scala:logWarning(66)) - Not enough space to cache rdd_22121_0 in memory! (computed 142.2 MB so far)\n",
      "2020-06-07 13:50:53,313 WARN  [Executor task launch worker for task 7696] memory.MemoryStore (Logging.scala:logWarning(66)) - Not enough space to cache rdd_22121_0 in memory! (computed 63.1 MB so far)\n",
      "2020-06-07 13:50:57,621 WARN  [Executor task launch worker for task 7703] memory.MemoryStore (Logging.scala:logWarning(66)) - Not enough space to cache rdd_22121_0 in memory! (computed 142.2 MB so far)\n",
      "2020-06-07 13:50:57,742 WARN  [Executor task launch worker for task 7703] memory.MemoryStore (Logging.scala:logWarning(66)) - Not enough space to cache rdd_22121_0 in memory! (computed 63.1 MB so far)\n",
      "2020-06-07 13:51:04,741 WARN  [Executor task launch worker for task 7721] memory.MemoryStore (Logging.scala:logWarning(66)) - Not enough space to cache rdd_22237_0 in memory! (computed 142.2 MB so far)\n",
      "2020-06-07 13:51:04,741 WARN  [Executor task launch worker for task 7721] storage.BlockManager (Logging.scala:logWarning(66)) - Persisting block rdd_22237_0 to disk instead.\n",
      "2020-06-07 13:51:05,376 WARN  [Executor task launch worker for task 7721] memory.MemoryStore (Logging.scala:logWarning(66)) - Not enough space to cache rdd_22237_0 in memory! (computed 142.2 MB so far)\n",
      "2020-06-07 13:51:05,482 WARN  [Executor task launch worker for task 7721] memory.MemoryStore (Logging.scala:logWarning(66)) - Not enough space to cache rdd_22237_0 in memory! (computed 63.1 MB so far)\n",
      "2020-06-07 13:51:10,930 WARN  [Executor task launch worker for task 7740] memory.MemoryStore (Logging.scala:logWarning(66)) - Not enough space to cache rdd_22329_0 in memory! (computed 142.2 MB so far)\n",
      "2020-06-07 13:51:10,931 WARN  [Executor task launch worker for task 7740] storage.BlockManager (Logging.scala:logWarning(66)) - Persisting block rdd_22329_0 to disk instead.\n",
      "2020-06-07 13:51:11,257 WARN  [Executor task launch worker for task 7740] memory.MemoryStore (Logging.scala:logWarning(66)) - Not enough space to cache rdd_22329_0 in memory! (computed 142.2 MB so far)\n",
      "2020-06-07 13:51:11,353 WARN  [Executor task launch worker for task 7740] memory.MemoryStore (Logging.scala:logWarning(66)) - Not enough space to cache rdd_22329_0 in memory! (computed 63.1 MB so far)\n",
      "2020-06-07 13:51:14,882 WARN  [Executor task launch worker for task 7747] memory.MemoryStore (Logging.scala:logWarning(66)) - Not enough space to cache rdd_22329_0 in memory! (computed 142.2 MB so far)\n",
      "2020-06-07 13:51:14,998 WARN  [Executor task launch worker for task 7747] memory.MemoryStore (Logging.scala:logWarning(66)) - Not enough space to cache rdd_22329_0 in memory! (computed 63.1 MB so far)\n",
      "2020-06-07 13:51:21,655 WARN  [Executor task launch worker for task 7764] memory.MemoryStore (Logging.scala:logWarning(66)) - Not enough space to cache rdd_22441_0 in memory! (computed 142.2 MB so far)\n",
      "2020-06-07 13:51:21,656 WARN  [Executor task launch worker for task 7764] storage.BlockManager (Logging.scala:logWarning(66)) - Persisting block rdd_22441_0 to disk instead.\n",
      "2020-06-07 13:51:22,027 WARN  [Executor task launch worker for task 7764] memory.MemoryStore (Logging.scala:logWarning(66)) - Not enough space to cache rdd_22441_0 in memory! (computed 142.2 MB so far)\n",
      "2020-06-07 13:51:22,412 WARN  [Executor task launch worker for task 7764] memory.MemoryStore (Logging.scala:logWarning(66)) - Not enough space to cache rdd_22441_0 in memory! (computed 63.1 MB so far)\n",
      "2020-06-07 13:51:28,698 WARN  [Executor task launch worker for task 7785] memory.MemoryStore (Logging.scala:logWarning(66)) - Not enough space to cache rdd_22543_0 in memory! (computed 142.2 MB so far)\n",
      "2020-06-07 13:51:28,700 WARN  [Executor task launch worker for task 7785] storage.BlockManager (Logging.scala:logWarning(66)) - Persisting block rdd_22543_0 to disk instead.\n"
     ]
    },
    {
     "name": "stdout",
     "output_type": "stream",
     "text": [
      "2020-06-07 13:51:29,032 WARN  [Executor task launch worker for task 7785] memory.MemoryStore (Logging.scala:logWarning(66)) - Not enough space to cache rdd_22543_0 in memory! (computed 142.2 MB so far)\n",
      "2020-06-07 13:51:29,406 WARN  [Executor task launch worker for task 7785] memory.MemoryStore (Logging.scala:logWarning(66)) - Not enough space to cache rdd_22543_0 in memory! (computed 63.1 MB so far)\n",
      "2020-06-07 13:51:31,912 WARN  [Executor task launch worker for task 7789] memory.MemoryStore (Logging.scala:logWarning(66)) - Not enough space to cache rdd_22441_0 in memory! (computed 142.2 MB so far)\n",
      "2020-06-07 13:51:32,028 WARN  [Executor task launch worker for task 7789] memory.MemoryStore (Logging.scala:logWarning(66)) - Not enough space to cache rdd_22441_0 in memory! (computed 63.1 MB so far)\n",
      "2020-06-07 13:51:39,904 WARN  [Executor task launch worker for task 7809] memory.MemoryStore (Logging.scala:logWarning(66)) - Not enough space to cache rdd_22653_0 in memory! (computed 142.2 MB so far)\n",
      "2020-06-07 13:51:39,905 WARN  [Executor task launch worker for task 7809] storage.BlockManager (Logging.scala:logWarning(66)) - Persisting block rdd_22653_0 to disk instead.\n",
      "2020-06-07 13:51:45,323 WARN  [Executor task launch worker for task 7828] memory.MemoryStore (Logging.scala:logWarning(66)) - Not enough space to cache rdd_22745_0 in memory! (computed 142.2 MB so far)\n",
      "2020-06-07 13:51:45,324 WARN  [Executor task launch worker for task 7828] storage.BlockManager (Logging.scala:logWarning(66)) - Persisting block rdd_22745_0 to disk instead.\n",
      "2020-06-07 13:51:45,696 WARN  [Executor task launch worker for task 7828] memory.MemoryStore (Logging.scala:logWarning(66)) - Not enough space to cache rdd_22745_0 in memory! (computed 142.2 MB so far)\n",
      "2020-06-07 13:51:45,828 WARN  [Executor task launch worker for task 7828] memory.MemoryStore (Logging.scala:logWarning(66)) - Not enough space to cache rdd_22745_0 in memory! (computed 63.1 MB so far)\n",
      "2020-06-07 13:51:48,294 WARN  [Executor task launch worker for task 7833] memory.MemoryStore (Logging.scala:logWarning(66)) - Not enough space to cache rdd_22653_0 in memory! (computed 142.2 MB so far)\n",
      "2020-06-07 13:51:49,921 WARN  [Executor task launch worker for task 7835] memory.MemoryStore (Logging.scala:logWarning(66)) - Not enough space to cache rdd_22745_0 in memory! (computed 63.1 MB so far)\n",
      "2020-06-07 13:51:49,929 WARN  [Executor task launch worker for task 7835] memory.MemoryStore (Logging.scala:logWarning(66)) - Not enough space to cache rdd_22745_0 in memory! (computed 2.1 MB so far)\n",
      "2020-06-07 13:51:49,931 WARN  [Executor task launch worker for task 7835] memory.MemoryStore (Logging.scala:logWarning(66)) - Failed to reserve initial memory threshold of 1024.0 KB for computing block rdd_22758_0 in memory.\n",
      "2020-06-07 13:51:49,932 WARN  [Executor task launch worker for task 7835] memory.MemoryStore (Logging.scala:logWarning(66)) - Not enough space to cache rdd_22758_0 in memory! (computed 384.0 B so far)\n",
      "2020-06-07 13:51:49,933 WARN  [Executor task launch worker for task 7835] memory.MemoryStore (Logging.scala:logWarning(66)) - Failed to reserve initial memory threshold of 1024.0 KB for computing block rdd_22770_0 in memory.\n",
      "2020-06-07 13:51:49,933 WARN  [Executor task launch worker for task 7835] memory.MemoryStore (Logging.scala:logWarning(66)) - Not enough space to cache rdd_22770_0 in memory! (computed 384.0 B so far)\n",
      "2020-06-07 13:51:49,933 WARN  [Executor task launch worker for task 7835] storage.BlockManager (Logging.scala:logWarning(66)) - Persisting block rdd_22770_0 to disk instead.\n",
      "2020-06-07 13:51:56,771 WARN  [Executor task launch worker for task 7853] memory.MemoryStore (Logging.scala:logWarning(66)) - Not enough space to cache rdd_22861_0 in memory! (computed 142.2 MB so far)\n",
      "2020-06-07 13:51:56,772 WARN  [Executor task launch worker for task 7853] storage.BlockManager (Logging.scala:logWarning(66)) - Persisting block rdd_22861_0 to disk instead.\n",
      "2020-06-07 13:51:57,099 WARN  [Executor task launch worker for task 7853] memory.MemoryStore (Logging.scala:logWarning(66)) - Not enough space to cache rdd_22861_0 in memory! (computed 142.2 MB so far)\n",
      "2020-06-07 13:51:57,502 WARN  [Executor task launch worker for task 7853] memory.MemoryStore (Logging.scala:logWarning(66)) - Not enough space to cache rdd_22861_0 in memory! (computed 63.1 MB so far)\n",
      "2020-06-07 13:52:03,211 WARN  [Executor task launch worker for task 7873] memory.MemoryStore (Logging.scala:logWarning(66)) - Not enough space to cache rdd_22959_0 in memory! (computed 142.2 MB so far)\n",
      "2020-06-07 13:52:03,211 WARN  [Executor task launch worker for task 7873] storage.BlockManager (Logging.scala:logWarning(66)) - Persisting block rdd_22959_0 to disk instead.\n",
      "2020-06-07 13:52:03,519 WARN  [Executor task launch worker for task 7873] memory.MemoryStore (Logging.scala:logWarning(66)) - Not enough space to cache rdd_22959_0 in memory! (computed 142.2 MB so far)\n",
      "2020-06-07 13:52:03,982 WARN  [Executor task launch worker for task 7873] memory.MemoryStore (Logging.scala:logWarning(66)) - Not enough space to cache rdd_22959_0 in memory! (computed 63.1 MB so far)\n",
      "2020-06-07 13:52:06,292 WARN  [Executor task launch worker for task 7877] memory.MemoryStore (Logging.scala:logWarning(66)) - Not enough space to cache rdd_22861_0 in memory! (computed 142.2 MB so far)\n",
      "2020-06-07 13:52:06,406 WARN  [Executor task launch worker for task 7877] memory.MemoryStore (Logging.scala:logWarning(66)) - Not enough space to cache rdd_22861_0 in memory! (computed 63.1 MB so far)\n",
      "2020-06-07 13:52:14,208 WARN  [Executor task launch worker for task 7897] memory.MemoryStore (Logging.scala:logWarning(66)) - Not enough space to cache rdd_23069_0 in memory! (computed 142.2 MB so far)\n",
      "2020-06-07 13:52:14,209 WARN  [Executor task launch worker for task 7897] storage.BlockManager (Logging.scala:logWarning(66)) - Persisting block rdd_23069_0 to disk instead.\n",
      "2020-06-07 13:52:14,547 WARN  [Executor task launch worker for task 7897] memory.MemoryStore (Logging.scala:logWarning(66)) - Not enough space to cache rdd_23069_0 in memory! (computed 142.2 MB so far)\n",
      "2020-06-07 13:52:14,997 WARN  [Executor task launch worker for task 7897] memory.MemoryStore (Logging.scala:logWarning(66)) - Not enough space to cache rdd_23069_0 in memory! (computed 63.1 MB so far)\n",
      "2020-06-07 13:52:20,059 WARN  [Executor task launch worker for task 7916] memory.MemoryStore (Logging.scala:logWarning(66)) - Not enough space to cache rdd_23161_0 in memory! (computed 142.2 MB so far)\n",
      "2020-06-07 13:52:20,059 WARN  [Executor task launch worker for task 7916] storage.BlockManager (Logging.scala:logWarning(66)) - Persisting block rdd_23161_0 to disk instead.\n",
      "2020-06-07 13:52:20,376 WARN  [Executor task launch worker for task 7916] memory.MemoryStore (Logging.scala:logWarning(66)) - Not enough space to cache rdd_23161_0 in memory! (computed 142.2 MB so far)\n",
      "2020-06-07 13:52:20,517 WARN  [Executor task launch worker for task 7916] memory.MemoryStore (Logging.scala:logWarning(66)) - Not enough space to cache rdd_23161_0 in memory! (computed 63.1 MB so far)\n",
      "2020-06-07 13:52:24,343 WARN  [Executor task launch worker for task 7923] memory.MemoryStore (Logging.scala:logWarning(66)) - Not enough space to cache rdd_23161_0 in memory! (computed 142.2 MB so far)\n",
      "2020-06-07 13:52:24,453 WARN  [Executor task launch worker for task 7923] memory.MemoryStore (Logging.scala:logWarning(66)) - Not enough space to cache rdd_23161_0 in memory! (computed 63.1 MB so far)\n",
      "2020-06-07 13:52:31,347 WARN  [Executor task launch worker for task 7941] memory.MemoryStore (Logging.scala:logWarning(66)) - Not enough space to cache rdd_23277_0 in memory! (computed 142.2 MB so far)\n",
      "2020-06-07 13:52:31,348 WARN  [Executor task launch worker for task 7941] storage.BlockManager (Logging.scala:logWarning(66)) - Persisting block rdd_23277_0 to disk instead.\n",
      "2020-06-07 13:52:31,722 WARN  [Executor task launch worker for task 7941] memory.MemoryStore (Logging.scala:logWarning(66)) - Not enough space to cache rdd_23277_0 in memory! (computed 142.2 MB so far)\n",
      "2020-06-07 13:52:32,146 WARN  [Executor task launch worker for task 7941] memory.MemoryStore (Logging.scala:logWarning(66)) - Not enough space to cache rdd_23277_0 in memory! (computed 63.1 MB so far)\n"
     ]
    },
    {
     "name": "stdout",
     "output_type": "stream",
     "text": [
      "2020-06-07 13:52:37,511 WARN  [Executor task launch worker for task 7960] memory.MemoryStore (Logging.scala:logWarning(66)) - Not enough space to cache rdd_23369_0 in memory! (computed 142.2 MB so far)\n",
      "2020-06-07 13:52:37,512 WARN  [Executor task launch worker for task 7960] storage.BlockManager (Logging.scala:logWarning(66)) - Persisting block rdd_23369_0 to disk instead.\n",
      "2020-06-07 13:52:37,957 WARN  [Executor task launch worker for task 7960] memory.MemoryStore (Logging.scala:logWarning(66)) - Not enough space to cache rdd_23369_0 in memory! (computed 142.2 MB so far)\n",
      "2020-06-07 13:52:38,053 WARN  [Executor task launch worker for task 7960] memory.MemoryStore (Logging.scala:logWarning(66)) - Not enough space to cache rdd_23369_0 in memory! (computed 63.1 MB so far)\n",
      "2020-06-07 13:52:42,213 WARN  [Executor task launch worker for task 7967] memory.MemoryStore (Logging.scala:logWarning(66)) - Not enough space to cache rdd_23369_0 in memory! (computed 142.2 MB so far)\n",
      "2020-06-07 13:52:42,321 WARN  [Executor task launch worker for task 7967] memory.MemoryStore (Logging.scala:logWarning(66)) - Not enough space to cache rdd_23369_0 in memory! (computed 63.1 MB so far)\n",
      "2020-06-07 13:52:48,990 WARN  [Executor task launch worker for task 7984] memory.MemoryStore (Logging.scala:logWarning(66)) - Not enough space to cache rdd_23479_0 in memory! (computed 142.2 MB so far)\n",
      "2020-06-07 13:52:48,991 WARN  [Executor task launch worker for task 7984] storage.BlockManager (Logging.scala:logWarning(66)) - Persisting block rdd_23479_0 to disk instead.\n",
      "2020-06-07 13:52:49,678 WARN  [Executor task launch worker for task 7984] memory.MemoryStore (Logging.scala:logWarning(66)) - Not enough space to cache rdd_23479_0 in memory! (computed 142.2 MB so far)\n",
      "2020-06-07 13:52:49,793 WARN  [Executor task launch worker for task 7984] memory.MemoryStore (Logging.scala:logWarning(66)) - Not enough space to cache rdd_23479_0 in memory! (computed 63.1 MB so far)\n",
      "2020-06-07 13:52:56,152 WARN  [Executor task launch worker for task 8005] memory.MemoryStore (Logging.scala:logWarning(66)) - Not enough space to cache rdd_23583_0 in memory! (computed 142.2 MB so far)\n",
      "2020-06-07 13:52:56,152 WARN  [Executor task launch worker for task 8005] storage.BlockManager (Logging.scala:logWarning(66)) - Persisting block rdd_23583_0 to disk instead.\n",
      "2020-06-07 13:52:58,806 WARN  [Executor task launch worker for task 8009] memory.MemoryStore (Logging.scala:logWarning(66)) - Not enough space to cache rdd_23479_0 in memory! (computed 142.2 MB so far)\n",
      "2020-06-07 13:52:58,895 WARN  [Executor task launch worker for task 8009] memory.MemoryStore (Logging.scala:logWarning(66)) - Not enough space to cache rdd_23479_0 in memory! (computed 63.1 MB so far)\n",
      "2020-06-07 13:53:06,530 WARN  [Executor task launch worker for task 8029] memory.MemoryStore (Logging.scala:logWarning(66)) - Not enough space to cache rdd_23693_0 in memory! (computed 142.2 MB so far)\n",
      "2020-06-07 13:53:06,531 WARN  [Executor task launch worker for task 8029] storage.BlockManager (Logging.scala:logWarning(66)) - Persisting block rdd_23693_0 to disk instead.\n",
      "2020-06-07 13:53:06,913 WARN  [Executor task launch worker for task 8029] memory.MemoryStore (Logging.scala:logWarning(66)) - Not enough space to cache rdd_23693_0 in memory! (computed 142.2 MB so far)\n",
      "2020-06-07 13:53:07,321 WARN  [Executor task launch worker for task 8029] memory.MemoryStore (Logging.scala:logWarning(66)) - Not enough space to cache rdd_23693_0 in memory! (computed 63.1 MB so far)\n",
      "2020-06-07 13:53:12,876 WARN  [Executor task launch worker for task 8048] memory.MemoryStore (Logging.scala:logWarning(66)) - Not enough space to cache rdd_23785_0 in memory! (computed 142.2 MB so far)\n",
      "2020-06-07 13:53:12,877 WARN  [Executor task launch worker for task 8048] storage.BlockManager (Logging.scala:logWarning(66)) - Persisting block rdd_23785_0 to disk instead.\n",
      "2020-06-07 13:53:13,191 WARN  [Executor task launch worker for task 8048] memory.MemoryStore (Logging.scala:logWarning(66)) - Not enough space to cache rdd_23785_0 in memory! (computed 142.2 MB so far)\n",
      "2020-06-07 13:53:13,320 WARN  [Executor task launch worker for task 8048] memory.MemoryStore (Logging.scala:logWarning(66)) - Not enough space to cache rdd_23785_0 in memory! (computed 63.1 MB so far)\n",
      "2020-06-07 13:53:16,345 WARN  [Executor task launch worker for task 8053] memory.MemoryStore (Logging.scala:logWarning(66)) - Not enough space to cache rdd_23693_0 in memory! (computed 142.2 MB so far)\n",
      "2020-06-07 13:53:17,921 WARN  [Executor task launch worker for task 8055] memory.MemoryStore (Logging.scala:logWarning(66)) - Not enough space to cache rdd_23785_0 in memory! (computed 63.1 MB so far)\n",
      "2020-06-07 13:53:17,931 WARN  [Executor task launch worker for task 8055] memory.MemoryStore (Logging.scala:logWarning(66)) - Not enough space to cache rdd_23785_0 in memory! (computed 2.1 MB so far)\n",
      "2020-06-07 13:53:17,935 WARN  [Executor task launch worker for task 8055] memory.MemoryStore (Logging.scala:logWarning(66)) - Failed to reserve initial memory threshold of 1024.0 KB for computing block rdd_23798_0 in memory.\n",
      "2020-06-07 13:53:17,938 WARN  [Executor task launch worker for task 8055] memory.MemoryStore (Logging.scala:logWarning(66)) - Not enough space to cache rdd_23798_0 in memory! (computed 384.0 B so far)\n",
      "2020-06-07 13:53:17,940 WARN  [Executor task launch worker for task 8055] memory.MemoryStore (Logging.scala:logWarning(66)) - Failed to reserve initial memory threshold of 1024.0 KB for computing block rdd_23810_0 in memory.\n",
      "2020-06-07 13:53:17,941 WARN  [Executor task launch worker for task 8055] memory.MemoryStore (Logging.scala:logWarning(66)) - Not enough space to cache rdd_23810_0 in memory! (computed 384.0 B so far)\n",
      "2020-06-07 13:53:17,941 WARN  [Executor task launch worker for task 8055] storage.BlockManager (Logging.scala:logWarning(66)) - Persisting block rdd_23810_0 to disk instead.\n",
      "2020-06-07 13:53:30,104 WARN  [Executor task launch worker for task 8087] memory.MemoryStore (Logging.scala:logWarning(66)) - Not enough space to cache rdd_23984_0 in memory! (computed 142.7 MB so far)\n",
      "2020-06-07 13:53:30,105 WARN  [Executor task launch worker for task 8087] storage.BlockManager (Logging.scala:logWarning(66)) - Persisting block rdd_23984_0 to disk instead.\n",
      "2020-06-07 13:53:30,402 WARN  [Executor task launch worker for task 8087] memory.MemoryStore (Logging.scala:logWarning(66)) - Not enough space to cache rdd_23984_0 in memory! (computed 142.7 MB so far)\n",
      "2020-06-07 13:53:30,852 WARN  [Executor task launch worker for task 8087] memory.MemoryStore (Logging.scala:logWarning(66)) - Not enough space to cache rdd_23984_0 in memory! (computed 63.3 MB so far)\n",
      "2020-06-07 13:53:32,706 WARN  [Executor task launch worker for task 8091] memory.MemoryStore (Logging.scala:logWarning(66)) - Not enough space to cache rdd_23984_0 in memory! (computed 142.7 MB so far)\n",
      "2020-06-07 13:53:33,103 WARN  [Executor task launch worker for task 8091] memory.MemoryStore (Logging.scala:logWarning(66)) - Not enough space to cache rdd_23984_0 in memory! (computed 63.3 MB so far)\n",
      "2020-06-07 13:53:33,111 WARN  [Executor task launch worker for task 8091] memory.MemoryStore (Logging.scala:logWarning(66)) - Not enough space to cache rdd_23984_0 in memory! (computed 3.3 MB so far)\n",
      "2020-06-07 13:53:37,904 WARN  [Executor task launch worker for task 8097] memory.MemoryStore (Logging.scala:logWarning(66)) - Not enough space to cache rdd_23978_0 in memory! (computed 142.7 MB so far)\n",
      "2020-06-07 13:53:40,347 WARN  [Executor task launch worker for task 8099] memory.MemoryStore (Logging.scala:logWarning(66)) - Not enough space to cache rdd_23984_0 in memory! (computed 63.3 MB so far)\n",
      "2020-06-07 13:53:40,354 WARN  [Executor task launch worker for task 8099] memory.MemoryStore (Logging.scala:logWarning(66)) - Not enough space to cache rdd_23984_0 in memory! (computed 2.1 MB so far)\n",
      "2020-06-07 13:53:40,357 WARN  [Executor task launch worker for task 8099] memory.MemoryStore (Logging.scala:logWarning(66)) - Failed to reserve initial memory threshold of 1024.0 KB for computing block rdd_24010_0 in memory.\n",
      "2020-06-07 13:53:40,357 WARN  [Executor task launch worker for task 8099] memory.MemoryStore (Logging.scala:logWarning(66)) - Not enough space to cache rdd_24010_0 in memory! (computed 384.0 B so far)\n"
     ]
    },
    {
     "name": "stdout",
     "output_type": "stream",
     "text": [
      "2020-06-07 13:53:40,358 WARN  [Executor task launch worker for task 8099] memory.MemoryStore (Logging.scala:logWarning(66)) - Failed to reserve initial memory threshold of 1024.0 KB for computing block rdd_24022_0 in memory.\n",
      "2020-06-07 13:53:40,358 WARN  [Executor task launch worker for task 8099] memory.MemoryStore (Logging.scala:logWarning(66)) - Not enough space to cache rdd_24022_0 in memory! (computed 384.0 B so far)\n",
      "2020-06-07 13:53:40,359 WARN  [Executor task launch worker for task 8099] storage.BlockManager (Logging.scala:logWarning(66)) - Persisting block rdd_24022_0 to disk instead.\n",
      "2020-06-07 13:53:44,314 WARN  [Executor task launch worker for task 8103] memory.MemoryStore (Logging.scala:logWarning(66)) - Not enough space to cache rdd_23984_0 in memory! (computed 142.7 MB so far)\n",
      "2020-06-07 13:53:45,140 WARN  [Executor task launch worker for task 8103] memory.MemoryStore (Logging.scala:logWarning(66)) - Not enough space to cache rdd_23984_0 in memory! (computed 142.7 MB so far)\n",
      "2020-06-07 13:53:51,212 WARN  [Executor task launch worker for task 8132] memory.MemoryStore (Logging.scala:logWarning(66)) - Not enough space to cache rdd_24195_0 in memory! (computed 142.7 MB so far)\n",
      "2020-06-07 13:53:51,213 WARN  [Executor task launch worker for task 8132] storage.BlockManager (Logging.scala:logWarning(66)) - Persisting block rdd_24195_0 to disk instead.\n",
      "2020-06-07 13:53:51,892 WARN  [Executor task launch worker for task 8132] memory.MemoryStore (Logging.scala:logWarning(66)) - Not enough space to cache rdd_24195_0 in memory! (computed 142.7 MB so far)\n",
      "2020-06-07 13:53:51,971 WARN  [Executor task launch worker for task 8132] memory.MemoryStore (Logging.scala:logWarning(66)) - Not enough space to cache rdd_24195_0 in memory! (computed 63.3 MB so far)\n",
      "2020-06-07 13:53:53,842 WARN  [Executor task launch worker for task 8137] memory.MemoryStore (Logging.scala:logWarning(66)) - Not enough space to cache rdd_24195_0 in memory! (computed 142.7 MB so far)\n",
      "2020-06-07 13:53:53,941 WARN  [Executor task launch worker for task 8137] memory.MemoryStore (Logging.scala:logWarning(66)) - Not enough space to cache rdd_24195_0 in memory! (computed 63.3 MB so far)\n",
      "2020-06-07 13:53:53,956 WARN  [Executor task launch worker for task 8137] memory.MemoryStore (Logging.scala:logWarning(66)) - Not enough space to cache rdd_24195_0 in memory! (computed 3.3 MB so far)\n",
      "2020-06-07 13:53:57,911 WARN  [Executor task launch worker for task 8141] memory.MemoryStore (Logging.scala:logWarning(66)) - Not enough space to cache rdd_24195_0 in memory! (computed 142.7 MB so far)\n",
      "2020-06-07 13:53:58,026 WARN  [Executor task launch worker for task 8141] memory.MemoryStore (Logging.scala:logWarning(66)) - Not enough space to cache rdd_24195_0 in memory! (computed 63.3 MB so far)\n",
      "2020-06-07 13:54:01,537 WARN  [Executor task launch worker for task 8145] memory.MemoryStore (Logging.scala:logWarning(66)) - Not enough space to cache rdd_24195_0 in memory! (computed 142.7 MB so far)\n",
      "2020-06-07 13:54:01,680 WARN  [Executor task launch worker for task 8145] memory.MemoryStore (Logging.scala:logWarning(66)) - Not enough space to cache rdd_24195_0 in memory! (computed 63.3 MB so far)\n",
      "2020-06-07 13:54:01,708 WARN  [Executor task launch worker for task 8145] memory.MemoryStore (Logging.scala:logWarning(66)) - Failed to reserve initial memory threshold of 1024.0 KB for computing block rdd_24234_0 in memory.\n",
      "2020-06-07 13:54:01,709 WARN  [Executor task launch worker for task 8145] memory.MemoryStore (Logging.scala:logWarning(66)) - Not enough space to cache rdd_24234_0 in memory! (computed 384.0 B so far)\n",
      "2020-06-07 13:54:01,709 WARN  [Executor task launch worker for task 8145] storage.BlockManager (Logging.scala:logWarning(66)) - Persisting block rdd_24234_0 to disk instead.\n",
      "2020-06-07 13:54:14,082 WARN  [Executor task launch worker for task 8181] memory.MemoryStore (Logging.scala:logWarning(66)) - Not enough space to cache rdd_24323_0 in memory! (computed 142.7 MB so far)\n",
      "2020-06-07 13:54:14,499 WARN  [Executor task launch worker for task 8181] memory.MemoryStore (Logging.scala:logWarning(66)) - Not enough space to cache rdd_24323_0 in memory! (computed 63.3 MB so far)\n",
      "2020-06-07 13:54:19,216 WARN  [Executor task launch worker for task 8189] memory.MemoryStore (Logging.scala:logWarning(66)) - Not enough space to cache rdd_24415_0 in memory! (computed 142.7 MB so far)\n",
      "2020-06-07 13:54:19,339 WARN  [Executor task launch worker for task 8189] memory.MemoryStore (Logging.scala:logWarning(66)) - Not enough space to cache rdd_24415_0 in memory! (computed 63.3 MB so far)\n",
      "2020-06-07 13:54:19,349 WARN  [Executor task launch worker for task 8189] memory.MemoryStore (Logging.scala:logWarning(66)) - Failed to reserve initial memory threshold of 1024.0 KB for computing block rdd_24446_0 in memory.\n",
      "2020-06-07 13:54:19,349 WARN  [Executor task launch worker for task 8189] memory.MemoryStore (Logging.scala:logWarning(66)) - Not enough space to cache rdd_24446_0 in memory! (computed 384.0 B so far)\n",
      "2020-06-07 13:54:19,349 WARN  [Executor task launch worker for task 8189] storage.BlockManager (Logging.scala:logWarning(66)) - Persisting block rdd_24446_0 to disk instead.\n",
      "2020-06-07 13:54:31,422 WARN  [Executor task launch worker for task 8225] memory.MemoryStore (Logging.scala:logWarning(66)) - Not enough space to cache rdd_24531_0 in memory! (computed 142.7 MB so far)\n",
      "2020-06-07 13:54:31,501 WARN  [Executor task launch worker for task 8225] memory.MemoryStore (Logging.scala:logWarning(66)) - Not enough space to cache rdd_24531_0 in memory! (computed 63.3 MB so far)\n",
      "2020-06-07 13:54:36,630 WARN  [Executor task launch worker for task 8233] memory.MemoryStore (Logging.scala:logWarning(66)) - Not enough space to cache rdd_24623_0 in memory! (computed 142.7 MB so far)\n",
      "2020-06-07 13:54:36,798 WARN  [Executor task launch worker for task 8233] memory.MemoryStore (Logging.scala:logWarning(66)) - Not enough space to cache rdd_24623_0 in memory! (computed 63.3 MB so far)\n",
      "2020-06-07 13:54:36,812 WARN  [Executor task launch worker for task 8233] memory.MemoryStore (Logging.scala:logWarning(66)) - Failed to reserve initial memory threshold of 1024.0 KB for computing block rdd_24654_0 in memory.\n",
      "2020-06-07 13:54:36,813 WARN  [Executor task launch worker for task 8233] memory.MemoryStore (Logging.scala:logWarning(66)) - Not enough space to cache rdd_24654_0 in memory! (computed 384.0 B so far)\n",
      "2020-06-07 13:54:36,813 WARN  [Executor task launch worker for task 8233] storage.BlockManager (Logging.scala:logWarning(66)) - Persisting block rdd_24654_0 to disk instead.\n",
      "2020-06-07 13:54:49,518 WARN  [Executor task launch worker for task 8269] memory.MemoryStore (Logging.scala:logWarning(66)) - Not enough space to cache rdd_24739_0 in memory! (computed 142.7 MB so far)\n",
      "2020-06-07 13:54:49,610 WARN  [Executor task launch worker for task 8269] memory.MemoryStore (Logging.scala:logWarning(66)) - Not enough space to cache rdd_24739_0 in memory! (computed 63.3 MB so far)\n",
      "2020-06-07 13:54:54,502 WARN  [Executor task launch worker for task 8277] memory.MemoryStore (Logging.scala:logWarning(66)) - Not enough space to cache rdd_24831_0 in memory! (computed 142.7 MB so far)\n",
      "2020-06-07 13:54:54,647 WARN  [Executor task launch worker for task 8277] memory.MemoryStore (Logging.scala:logWarning(66)) - Not enough space to cache rdd_24831_0 in memory! (computed 63.3 MB so far)\n",
      "2020-06-07 13:54:54,662 WARN  [Executor task launch worker for task 8277] memory.MemoryStore (Logging.scala:logWarning(66)) - Failed to reserve initial memory threshold of 1024.0 KB for computing block rdd_24862_0 in memory.\n",
      "2020-06-07 13:54:54,664 WARN  [Executor task launch worker for task 8277] memory.MemoryStore (Logging.scala:logWarning(66)) - Not enough space to cache rdd_24862_0 in memory! (computed 384.0 B so far)\n",
      "2020-06-07 13:54:54,665 WARN  [Executor task launch worker for task 8277] storage.BlockManager (Logging.scala:logWarning(66)) - Persisting block rdd_24862_0 to disk instead.\n",
      "2020-06-07 13:55:06,800 WARN  [Executor task launch worker for task 8313] memory.MemoryStore (Logging.scala:logWarning(66)) - Not enough space to cache rdd_24947_0 in memory! (computed 142.7 MB so far)\n"
     ]
    },
    {
     "name": "stdout",
     "output_type": "stream",
     "text": [
      "2020-06-07 13:55:06,884 WARN  [Executor task launch worker for task 8313] memory.MemoryStore (Logging.scala:logWarning(66)) - Not enough space to cache rdd_24947_0 in memory! (computed 63.3 MB so far)\n",
      "2020-06-07 13:55:11,588 WARN  [Executor task launch worker for task 8321] memory.MemoryStore (Logging.scala:logWarning(66)) - Not enough space to cache rdd_25039_0 in memory! (computed 142.7 MB so far)\n",
      "2020-06-07 13:55:11,760 WARN  [Executor task launch worker for task 8321] memory.MemoryStore (Logging.scala:logWarning(66)) - Not enough space to cache rdd_25039_0 in memory! (computed 63.3 MB so far)\n",
      "2020-06-07 13:55:11,776 WARN  [Executor task launch worker for task 8321] memory.MemoryStore (Logging.scala:logWarning(66)) - Failed to reserve initial memory threshold of 1024.0 KB for computing block rdd_25070_0 in memory.\n",
      "2020-06-07 13:55:11,777 WARN  [Executor task launch worker for task 8321] memory.MemoryStore (Logging.scala:logWarning(66)) - Not enough space to cache rdd_25070_0 in memory! (computed 384.0 B so far)\n",
      "2020-06-07 13:55:11,778 WARN  [Executor task launch worker for task 8321] storage.BlockManager (Logging.scala:logWarning(66)) - Persisting block rdd_25070_0 to disk instead.\n",
      "2020-06-07 13:55:23,655 WARN  [Executor task launch worker for task 8357] memory.MemoryStore (Logging.scala:logWarning(66)) - Not enough space to cache rdd_25155_0 in memory! (computed 142.7 MB so far)\n",
      "2020-06-07 13:55:23,758 WARN  [Executor task launch worker for task 8357] memory.MemoryStore (Logging.scala:logWarning(66)) - Not enough space to cache rdd_25155_0 in memory! (computed 63.3 MB so far)\n",
      "2020-06-07 13:55:26,820 WARN  [Executor task launch worker for task 8363] memory.MemoryStore (Logging.scala:logWarning(66)) - Not enough space to cache rdd_25155_0 in memory! (computed 142.7 MB so far)\n",
      "2020-06-07 13:55:28,825 WARN  [Executor task launch worker for task 8365] memory.MemoryStore (Logging.scala:logWarning(66)) - Not enough space to cache rdd_25247_0 in memory! (computed 63.3 MB so far)\n",
      "2020-06-07 13:55:28,829 WARN  [Executor task launch worker for task 8365] memory.MemoryStore (Logging.scala:logWarning(66)) - Not enough space to cache rdd_25247_0 in memory! (computed 1246.3 KB so far)\n",
      "2020-06-07 13:55:28,834 WARN  [Executor task launch worker for task 8365] memory.MemoryStore (Logging.scala:logWarning(66)) - Failed to reserve initial memory threshold of 1024.0 KB for computing block rdd_25266_0 in memory.\n",
      "2020-06-07 13:55:28,836 WARN  [Executor task launch worker for task 8365] memory.MemoryStore (Logging.scala:logWarning(66)) - Not enough space to cache rdd_25266_0 in memory! (computed 384.0 B so far)\n",
      "2020-06-07 13:55:28,839 WARN  [Executor task launch worker for task 8365] memory.MemoryStore (Logging.scala:logWarning(66)) - Failed to reserve initial memory threshold of 1024.0 KB for computing block rdd_25278_0 in memory.\n",
      "2020-06-07 13:55:28,840 WARN  [Executor task launch worker for task 8365] memory.MemoryStore (Logging.scala:logWarning(66)) - Not enough space to cache rdd_25278_0 in memory! (computed 384.0 B so far)\n",
      "2020-06-07 13:55:28,841 WARN  [Executor task launch worker for task 8365] storage.BlockManager (Logging.scala:logWarning(66)) - Persisting block rdd_25278_0 to disk instead.\n",
      "2020-06-07 13:55:29,365 WARN  [Executor task launch worker for task 8365] memory.MemoryStore (Logging.scala:logWarning(66)) - Failed to reserve initial memory threshold of 1024.0 KB for computing block broadcast_13726 in memory.\n",
      "2020-06-07 13:55:29,367 WARN  [Executor task launch worker for task 8365] memory.MemoryStore (Logging.scala:logWarning(66)) - Not enough space to cache broadcast_13726 in memory! (computed 384.0 B so far)\n",
      "2020-06-07 13:55:40,433 WARN  [Executor task launch worker for task 8401] memory.MemoryStore (Logging.scala:logWarning(66)) - Not enough space to cache rdd_25363_0 in memory! (computed 142.7 MB so far)\n",
      "2020-06-07 13:55:40,506 WARN  [Executor task launch worker for task 8401] memory.MemoryStore (Logging.scala:logWarning(66)) - Not enough space to cache rdd_25363_0 in memory! (computed 63.3 MB so far)\n",
      "2020-06-07 13:55:45,051 WARN  [Executor task launch worker for task 8409] memory.MemoryStore (Logging.scala:logWarning(66)) - Not enough space to cache rdd_25455_0 in memory! (computed 142.7 MB so far)\n",
      "2020-06-07 13:55:45,160 WARN  [Executor task launch worker for task 8409] memory.MemoryStore (Logging.scala:logWarning(66)) - Not enough space to cache rdd_25455_0 in memory! (computed 63.3 MB so far)\n",
      "2020-06-07 13:55:45,169 WARN  [Executor task launch worker for task 8409] memory.MemoryStore (Logging.scala:logWarning(66)) - Failed to reserve initial memory threshold of 1024.0 KB for computing block rdd_25486_0 in memory.\n",
      "2020-06-07 13:55:45,170 WARN  [Executor task launch worker for task 8409] memory.MemoryStore (Logging.scala:logWarning(66)) - Not enough space to cache rdd_25486_0 in memory! (computed 384.0 B so far)\n",
      "2020-06-07 13:55:45,170 WARN  [Executor task launch worker for task 8409] storage.BlockManager (Logging.scala:logWarning(66)) - Persisting block rdd_25486_0 to disk instead.\n",
      "2020-06-07 13:55:57,183 WARN  [Executor task launch worker for task 8445] memory.MemoryStore (Logging.scala:logWarning(66)) - Not enough space to cache rdd_25571_0 in memory! (computed 142.7 MB so far)\n",
      "2020-06-07 13:55:57,267 WARN  [Executor task launch worker for task 8445] memory.MemoryStore (Logging.scala:logWarning(66)) - Not enough space to cache rdd_25571_0 in memory! (computed 63.3 MB so far)\n",
      "2020-06-07 13:56:02,459 WARN  [Executor task launch worker for task 8453] memory.MemoryStore (Logging.scala:logWarning(66)) - Not enough space to cache rdd_25663_0 in memory! (computed 142.7 MB so far)\n",
      "2020-06-07 13:56:02,562 WARN  [Executor task launch worker for task 8453] memory.MemoryStore (Logging.scala:logWarning(66)) - Not enough space to cache rdd_25663_0 in memory! (computed 63.3 MB so far)\n",
      "2020-06-07 13:56:02,575 WARN  [Executor task launch worker for task 8453] memory.MemoryStore (Logging.scala:logWarning(66)) - Failed to reserve initial memory threshold of 1024.0 KB for computing block rdd_25694_0 in memory.\n",
      "2020-06-07 13:56:02,576 WARN  [Executor task launch worker for task 8453] memory.MemoryStore (Logging.scala:logWarning(66)) - Not enough space to cache rdd_25694_0 in memory! (computed 384.0 B so far)\n",
      "2020-06-07 13:56:02,577 WARN  [Executor task launch worker for task 8453] storage.BlockManager (Logging.scala:logWarning(66)) - Persisting block rdd_25694_0 to disk instead.\n",
      "2020-06-07 13:56:14,254 WARN  [Executor task launch worker for task 8489] memory.MemoryStore (Logging.scala:logWarning(66)) - Not enough space to cache rdd_25779_0 in memory! (computed 142.7 MB so far)\n",
      "2020-06-07 13:56:14,320 WARN  [Executor task launch worker for task 8489] memory.MemoryStore (Logging.scala:logWarning(66)) - Not enough space to cache rdd_25779_0 in memory! (computed 63.3 MB so far)\n",
      "2020-06-07 13:56:18,866 WARN  [Executor task launch worker for task 8497] memory.MemoryStore (Logging.scala:logWarning(66)) - Not enough space to cache rdd_25871_0 in memory! (computed 142.7 MB so far)\n",
      "2020-06-07 13:56:18,977 WARN  [Executor task launch worker for task 8497] memory.MemoryStore (Logging.scala:logWarning(66)) - Not enough space to cache rdd_25871_0 in memory! (computed 63.3 MB so far)\n",
      "2020-06-07 13:56:18,986 WARN  [Executor task launch worker for task 8497] memory.MemoryStore (Logging.scala:logWarning(66)) - Failed to reserve initial memory threshold of 1024.0 KB for computing block rdd_25902_0 in memory.\n",
      "2020-06-07 13:56:18,987 WARN  [Executor task launch worker for task 8497] memory.MemoryStore (Logging.scala:logWarning(66)) - Not enough space to cache rdd_25902_0 in memory! (computed 384.0 B so far)\n",
      "2020-06-07 13:56:18,987 WARN  [Executor task launch worker for task 8497] storage.BlockManager (Logging.scala:logWarning(66)) - Persisting block rdd_25902_0 to disk instead.\n",
      "2020-06-07 13:56:30,785 WARN  [Executor task launch worker for task 8533] memory.MemoryStore (Logging.scala:logWarning(66)) - Not enough space to cache rdd_25987_0 in memory! (computed 142.7 MB so far)\n",
      "2020-06-07 13:56:30,867 WARN  [Executor task launch worker for task 8533] memory.MemoryStore (Logging.scala:logWarning(66)) - Not enough space to cache rdd_25987_0 in memory! (computed 63.3 MB so far)\n"
     ]
    },
    {
     "name": "stdout",
     "output_type": "stream",
     "text": [
      "2020-06-07 13:56:35,932 WARN  [Executor task launch worker for task 8541] memory.MemoryStore (Logging.scala:logWarning(66)) - Not enough space to cache rdd_26079_0 in memory! (computed 142.7 MB so far)\n",
      "2020-06-07 13:56:36,025 WARN  [Executor task launch worker for task 8541] memory.MemoryStore (Logging.scala:logWarning(66)) - Not enough space to cache rdd_26079_0 in memory! (computed 63.3 MB so far)\n",
      "2020-06-07 13:56:36,035 WARN  [Executor task launch worker for task 8541] memory.MemoryStore (Logging.scala:logWarning(66)) - Failed to reserve initial memory threshold of 1024.0 KB for computing block rdd_26110_0 in memory.\n",
      "2020-06-07 13:56:36,036 WARN  [Executor task launch worker for task 8541] memory.MemoryStore (Logging.scala:logWarning(66)) - Not enough space to cache rdd_26110_0 in memory! (computed 384.0 B so far)\n",
      "2020-06-07 13:56:36,036 WARN  [Executor task launch worker for task 8541] storage.BlockManager (Logging.scala:logWarning(66)) - Persisting block rdd_26110_0 to disk instead.\n",
      "2020-06-07 13:56:48,303 WARN  [Executor task launch worker for task 8577] memory.MemoryStore (Logging.scala:logWarning(66)) - Not enough space to cache rdd_26195_0 in memory! (computed 142.7 MB so far)\n",
      "2020-06-07 13:56:48,369 WARN  [Executor task launch worker for task 8577] memory.MemoryStore (Logging.scala:logWarning(66)) - Not enough space to cache rdd_26195_0 in memory! (computed 63.3 MB so far)\n",
      "2020-06-07 13:56:53,035 WARN  [Executor task launch worker for task 8585] memory.MemoryStore (Logging.scala:logWarning(66)) - Not enough space to cache rdd_26287_0 in memory! (computed 142.7 MB so far)\n",
      "2020-06-07 13:56:53,121 WARN  [Executor task launch worker for task 8585] memory.MemoryStore (Logging.scala:logWarning(66)) - Not enough space to cache rdd_26287_0 in memory! (computed 63.3 MB so far)\n",
      "2020-06-07 13:56:53,131 WARN  [Executor task launch worker for task 8585] memory.MemoryStore (Logging.scala:logWarning(66)) - Failed to reserve initial memory threshold of 1024.0 KB for computing block rdd_26318_0 in memory.\n",
      "2020-06-07 13:56:53,132 WARN  [Executor task launch worker for task 8585] memory.MemoryStore (Logging.scala:logWarning(66)) - Not enough space to cache rdd_26318_0 in memory! (computed 384.0 B so far)\n",
      "2020-06-07 13:56:53,132 WARN  [Executor task launch worker for task 8585] storage.BlockManager (Logging.scala:logWarning(66)) - Persisting block rdd_26318_0 to disk instead.\n",
      "2020-06-07 13:57:04,434 WARN  [Executor task launch worker for task 8621] memory.MemoryStore (Logging.scala:logWarning(66)) - Not enough space to cache rdd_26403_0 in memory! (computed 142.7 MB so far)\n",
      "2020-06-07 13:57:04,905 WARN  [Executor task launch worker for task 8621] memory.MemoryStore (Logging.scala:logWarning(66)) - Not enough space to cache rdd_26403_0 in memory! (computed 63.3 MB so far)\n",
      "2020-06-07 13:57:09,425 WARN  [Executor task launch worker for task 8629] memory.MemoryStore (Logging.scala:logWarning(66)) - Not enough space to cache rdd_26495_0 in memory! (computed 142.7 MB so far)\n",
      "2020-06-07 13:57:09,524 WARN  [Executor task launch worker for task 8629] memory.MemoryStore (Logging.scala:logWarning(66)) - Not enough space to cache rdd_26495_0 in memory! (computed 63.3 MB so far)\n",
      "2020-06-07 13:57:09,534 WARN  [Executor task launch worker for task 8629] memory.MemoryStore (Logging.scala:logWarning(66)) - Failed to reserve initial memory threshold of 1024.0 KB for computing block rdd_26526_0 in memory.\n",
      "2020-06-07 13:57:09,535 WARN  [Executor task launch worker for task 8629] memory.MemoryStore (Logging.scala:logWarning(66)) - Not enough space to cache rdd_26526_0 in memory! (computed 384.0 B so far)\n",
      "2020-06-07 13:57:09,535 WARN  [Executor task launch worker for task 8629] storage.BlockManager (Logging.scala:logWarning(66)) - Persisting block rdd_26526_0 to disk instead.\n",
      "2020-06-07 13:57:21,257 WARN  [Executor task launch worker for task 8665] memory.MemoryStore (Logging.scala:logWarning(66)) - Not enough space to cache rdd_26611_0 in memory! (computed 142.7 MB so far)\n",
      "2020-06-07 13:57:21,349 WARN  [Executor task launch worker for task 8665] memory.MemoryStore (Logging.scala:logWarning(66)) - Not enough space to cache rdd_26611_0 in memory! (computed 63.3 MB so far)\n",
      "2020-06-07 13:57:26,064 WARN  [Executor task launch worker for task 8673] memory.MemoryStore (Logging.scala:logWarning(66)) - Not enough space to cache rdd_26703_0 in memory! (computed 142.7 MB so far)\n",
      "2020-06-07 13:57:26,188 WARN  [Executor task launch worker for task 8673] memory.MemoryStore (Logging.scala:logWarning(66)) - Not enough space to cache rdd_26703_0 in memory! (computed 63.3 MB so far)\n",
      "2020-06-07 13:57:26,197 WARN  [Executor task launch worker for task 8673] memory.MemoryStore (Logging.scala:logWarning(66)) - Failed to reserve initial memory threshold of 1024.0 KB for computing block rdd_26734_0 in memory.\n",
      "2020-06-07 13:57:26,197 WARN  [Executor task launch worker for task 8673] memory.MemoryStore (Logging.scala:logWarning(66)) - Not enough space to cache rdd_26734_0 in memory! (computed 384.0 B so far)\n",
      "2020-06-07 13:57:26,198 WARN  [Executor task launch worker for task 8673] storage.BlockManager (Logging.scala:logWarning(66)) - Persisting block rdd_26734_0 to disk instead.\n",
      "2020-06-07 13:57:38,175 WARN  [Executor task launch worker for task 8709] memory.MemoryStore (Logging.scala:logWarning(66)) - Not enough space to cache rdd_26819_0 in memory! (computed 142.7 MB so far)\n",
      "2020-06-07 13:57:38,256 WARN  [Executor task launch worker for task 8709] memory.MemoryStore (Logging.scala:logWarning(66)) - Not enough space to cache rdd_26819_0 in memory! (computed 63.3 MB so far)\n",
      "2020-06-07 13:57:42,882 WARN  [Executor task launch worker for task 8717] memory.MemoryStore (Logging.scala:logWarning(66)) - Not enough space to cache rdd_26911_0 in memory! (computed 142.7 MB so far)\n",
      "2020-06-07 13:57:43,002 WARN  [Executor task launch worker for task 8717] memory.MemoryStore (Logging.scala:logWarning(66)) - Not enough space to cache rdd_26911_0 in memory! (computed 63.3 MB so far)\n",
      "2020-06-07 13:57:43,013 WARN  [Executor task launch worker for task 8717] memory.MemoryStore (Logging.scala:logWarning(66)) - Failed to reserve initial memory threshold of 1024.0 KB for computing block rdd_26942_0 in memory.\n",
      "2020-06-07 13:57:43,014 WARN  [Executor task launch worker for task 8717] memory.MemoryStore (Logging.scala:logWarning(66)) - Not enough space to cache rdd_26942_0 in memory! (computed 384.0 B so far)\n",
      "2020-06-07 13:57:43,016 WARN  [Executor task launch worker for task 8717] storage.BlockManager (Logging.scala:logWarning(66)) - Persisting block rdd_26942_0 to disk instead.\n",
      "2020-06-07 13:57:54,864 WARN  [Executor task launch worker for task 8753] memory.MemoryStore (Logging.scala:logWarning(66)) - Not enough space to cache rdd_27027_0 in memory! (computed 142.7 MB so far)\n",
      "2020-06-07 13:57:54,931 WARN  [Executor task launch worker for task 8753] memory.MemoryStore (Logging.scala:logWarning(66)) - Not enough space to cache rdd_27027_0 in memory! (computed 63.3 MB so far)\n",
      "2020-06-07 13:57:58,156 WARN  [Executor task launch worker for task 8759] memory.MemoryStore (Logging.scala:logWarning(66)) - Not enough space to cache rdd_27027_0 in memory! (computed 142.7 MB so far)\n",
      "2020-06-07 13:57:59,606 WARN  [Executor task launch worker for task 8761] memory.MemoryStore (Logging.scala:logWarning(66)) - Not enough space to cache rdd_27119_0 in memory! (computed 63.3 MB so far)\n",
      "2020-06-07 13:57:59,609 WARN  [Executor task launch worker for task 8761] memory.MemoryStore (Logging.scala:logWarning(66)) - Not enough space to cache rdd_27119_0 in memory! (computed 1246.3 KB so far)\n",
      "2020-06-07 13:57:59,612 WARN  [Executor task launch worker for task 8761] memory.MemoryStore (Logging.scala:logWarning(66)) - Failed to reserve initial memory threshold of 1024.0 KB for computing block rdd_27138_0 in memory.\n",
      "2020-06-07 13:57:59,613 WARN  [Executor task launch worker for task 8761] memory.MemoryStore (Logging.scala:logWarning(66)) - Not enough space to cache rdd_27138_0 in memory! (computed 384.0 B so far)\n",
      "2020-06-07 13:57:59,614 WARN  [Executor task launch worker for task 8761] memory.MemoryStore (Logging.scala:logWarning(66)) - Failed to reserve initial memory threshold of 1024.0 KB for computing block rdd_27150_0 in memory.\n"
     ]
    },
    {
     "name": "stdout",
     "output_type": "stream",
     "text": [
      "2020-06-07 13:57:59,614 WARN  [Executor task launch worker for task 8761] memory.MemoryStore (Logging.scala:logWarning(66)) - Not enough space to cache rdd_27150_0 in memory! (computed 384.0 B so far)\n",
      "2020-06-07 13:57:59,614 WARN  [Executor task launch worker for task 8761] storage.BlockManager (Logging.scala:logWarning(66)) - Persisting block rdd_27150_0 to disk instead.\n",
      "2020-06-07 13:57:59,848 WARN  [Executor task launch worker for task 8761] memory.MemoryStore (Logging.scala:logWarning(66)) - Failed to reserve initial memory threshold of 1024.0 KB for computing block broadcast_14230 in memory.\n",
      "2020-06-07 13:57:59,850 WARN  [Executor task launch worker for task 8761] memory.MemoryStore (Logging.scala:logWarning(66)) - Not enough space to cache broadcast_14230 in memory! (computed 384.0 B so far)\n",
      "2020-06-07 13:58:11,025 WARN  [Executor task launch worker for task 8797] memory.MemoryStore (Logging.scala:logWarning(66)) - Not enough space to cache rdd_27235_0 in memory! (computed 142.7 MB so far)\n",
      "2020-06-07 13:58:11,089 WARN  [Executor task launch worker for task 8797] memory.MemoryStore (Logging.scala:logWarning(66)) - Not enough space to cache rdd_27235_0 in memory! (computed 63.3 MB so far)\n",
      "2020-06-07 13:58:16,084 WARN  [Executor task launch worker for task 8805] memory.MemoryStore (Logging.scala:logWarning(66)) - Not enough space to cache rdd_27327_0 in memory! (computed 142.7 MB so far)\n",
      "2020-06-07 13:58:16,195 WARN  [Executor task launch worker for task 8805] memory.MemoryStore (Logging.scala:logWarning(66)) - Not enough space to cache rdd_27327_0 in memory! (computed 63.3 MB so far)\n",
      "2020-06-07 13:58:16,205 WARN  [Executor task launch worker for task 8805] memory.MemoryStore (Logging.scala:logWarning(66)) - Failed to reserve initial memory threshold of 1024.0 KB for computing block rdd_27358_0 in memory.\n",
      "2020-06-07 13:58:16,205 WARN  [Executor task launch worker for task 8805] memory.MemoryStore (Logging.scala:logWarning(66)) - Not enough space to cache rdd_27358_0 in memory! (computed 384.0 B so far)\n",
      "2020-06-07 13:58:16,206 WARN  [Executor task launch worker for task 8805] storage.BlockManager (Logging.scala:logWarning(66)) - Persisting block rdd_27358_0 to disk instead.\n",
      "2020-06-07 13:58:27,132 WARN  [Executor task launch worker for task 8839] memory.MemoryStore (Logging.scala:logWarning(66)) - Not enough space to cache rdd_27535_0 in memory! (computed 142.7 MB so far)\n",
      "2020-06-07 13:58:27,132 WARN  [Executor task launch worker for task 8839] storage.BlockManager (Logging.scala:logWarning(66)) - Persisting block rdd_27535_0 to disk instead.\n",
      "2020-06-07 13:58:28,703 WARN  [Executor task launch worker for task 8841] memory.MemoryStore (Logging.scala:logWarning(66)) - Not enough space to cache rdd_27443_0 in memory! (computed 142.7 MB so far)\n",
      "2020-06-07 13:58:28,805 WARN  [Executor task launch worker for task 8841] memory.MemoryStore (Logging.scala:logWarning(66)) - Not enough space to cache rdd_27443_0 in memory! (computed 63.3 MB so far)\n",
      "2020-06-07 13:58:33,070 WARN  [Executor task launch worker for task 8849] memory.MemoryStore (Logging.scala:logWarning(66)) - Not enough space to cache rdd_27535_0 in memory! (computed 142.7 MB so far)\n",
      "2020-06-07 13:58:33,492 WARN  [Executor task launch worker for task 8849] memory.MemoryStore (Logging.scala:logWarning(66)) - Not enough space to cache rdd_27535_0 in memory! (computed 63.3 MB so far)\n",
      "2020-06-07 13:58:33,506 WARN  [Executor task launch worker for task 8849] memory.MemoryStore (Logging.scala:logWarning(66)) - Failed to reserve initial memory threshold of 1024.0 KB for computing block rdd_27566_0 in memory.\n",
      "2020-06-07 13:58:33,507 WARN  [Executor task launch worker for task 8849] memory.MemoryStore (Logging.scala:logWarning(66)) - Not enough space to cache rdd_27566_0 in memory! (computed 384.0 B so far)\n",
      "2020-06-07 13:58:33,508 WARN  [Executor task launch worker for task 8849] storage.BlockManager (Logging.scala:logWarning(66)) - Persisting block rdd_27566_0 to disk instead.\n",
      "RMSE on test data = 411773.1416909595\n",
      "R2 on test data = 0.592282312567372\n",
      "{\n",
      "\n",
      "}\n",
      "Elapsed time: 1614 s\n"
     ]
    },
    {
     "data": {
      "text/plain": [
       "import org.apache.spark.ml.regression.RandomForestRegressor\n",
       "numTrees: Seq[Int] = List(5, 10, 30, 50)\n",
       "maxBins: Seq[Int] = List(32, 50, 100)\n",
       "maxDepth: Seq[Int] = List(2, 3, 5)\n",
       "rf: org.apache.spark.ml.regression.RandomForestRegressor = rfr_0b5acba28799\n",
       "rfParamMap: Array[org.apache.spark.ml.param.ParamMap] =\n",
       "Array({\n",
       "\trfr_0b5acba28799-maxBins: 32,\n",
       "\trfr_0b5acba28799-maxDepth: 2,\n",
       "\trfr_0b5acba28799-numTrees: 5\n",
       "}, {\n",
       "\trfr_0b5acba28799-maxBins: 32,\n",
       "\trfr_0b5acba28799-maxDepth: 2,\n",
       "\trfr_0b5acba28799-numTrees: 10\n",
       "}, {\n",
       "\trfr_0b5acba28799-maxBins: 32,\n",
       "\trfr_0b5acba28799-maxDepth: 2,\n",
       "\trfr_0b5acba28799-numTrees: 30\n",
       "}, {\n",
       "\trfr_0b5acba28799-maxBins: 32,\n",
       "\trfr_0b5acba28799-maxDepth: 2,\n",
       "\trfr_0b5acba28799-numTrees: 50\n",
       "}, {\n",
       "\trfr_0b5acba28799-maxBins: 32,\n",
       "\trfr_0b5acba28799-maxDepth: 3,\n",
       "\trfr_0b5acba28799-numTrees: 5\n",
       "..."
      ]
     },
     "execution_count": 83,
     "metadata": {},
     "output_type": "execute_result"
    }
   ],
   "source": [
    "import org.apache.spark.ml.regression.RandomForestRegressor\n",
    "\n",
    "// Models hyperparameters\n",
    "val numTrees = Seq(5,10,30,50)\n",
    "val maxBins = Seq(32,50,100)\n",
    "val maxDepth = Seq(2,3,5)\n",
    "\n",
    "val rf = new RandomForestRegressor()\n",
    "    .setSeed(36L)\n",
    "    .setLabelCol(\"Price\")\n",
    "    .setFeaturesCol(\"features\")\n",
    "    .setPredictionCol(\"prediction\")\n",
    "    .setImpurity(\"variance\")\n",
    "    .setMaxMemoryInMB(512)\n",
    "    .setCacheNodeIds(true)\n",
    "\n",
    "\n",
    "val rfParamMap = new ParamGridBuilder()\n",
    "    .addGrid(rf.numTrees, numTrees)\n",
    "    .addGrid(rf.maxDepth, maxDepth)\n",
    "    .addGrid(rf.maxBins, maxBins)\n",
    "    .build()\n",
    "\n",
    "val t0 = System.nanoTime()\n",
    "val best_model = train_eval(rf, rfParamMap, train, test)\n",
    "val t1 = System.nanoTime()\n",
    "println(\"Elapsed time: \" + (t1 - t0)/(1000000000) + \" s\")\n"
   ]
  },
  {
   "cell_type": "code",
   "execution_count": 84,
   "metadata": {},
   "outputs": [
    {
     "name": "stdout",
     "output_type": "stream",
     "text": [
      "\n",
      "\n",
      "\n",
      "\n",
      "\n",
      "\n",
      "RF params = {\n",
      "\trfr_e325eca046b1-cacheNodeIds: true,\n",
      "\trfr_e325eca046b1-checkpointInterval: 10,\n",
      "\trfr_e325eca046b1-featureSubsetStrategy: auto,\n",
      "\trfr_e325eca046b1-featuresCol: features,\n",
      "\trfr_e325eca046b1-impurity: variance,\n",
      "\trfr_e325eca046b1-labelCol: Price,\n",
      "\trfr_e325eca046b1-maxBins: 32,\n",
      "\trfr_e325eca046b1-maxDepth: 5,\n",
      "\trfr_e325eca046b1-maxMemoryInMB: 512,\n",
      "\trfr_e325eca046b1-minInfoGain: 0.0,\n",
      "\trfr_e325eca046b1-minInstancesPerNode: 1,\n",
      "\trfr_e325eca046b1-numTrees: 20,\n",
      "\trfr_e325eca046b1-predictionCol: prediction,\n",
      "\trfr_e325eca046b1-seed: 36,\n",
      "\trfr_e325eca046b1-subsamplingRate: 1.0\n",
      "}\n"
     ]
    },
    {
     "data": {
      "text/plain": [
       "import org.apache.spark.ml.PipelineModel\n",
       "import org.apache.spark.ml.regression.RandomForestRegressionModel\n",
       "bestPipelineModel: org.apache.spark.ml.PipelineModel = pipeline_e2e74c991b66\n",
       "stages: Array[org.apache.spark.ml.Transformer] = Array(strIdx_f40f438f8604, strIdx_8581d56ad74c, oneHotEncoder_e530b11b0bf5, vecAssembler_5f608c30170b, stdScal_7dd7bd6bad78, RandomForestRegressionModel (uid=rfr_e325eca046b1) with 20 trees)\n",
       "bestRFModel: org.apache.spark.ml.regression.RandomForestRegressionModel = RandomForestRegressionModel (uid=rfr_e325eca046b1) with 20 trees\n"
      ]
     },
     "execution_count": 84,
     "metadata": {},
     "output_type": "execute_result"
    }
   ],
   "source": [
    "import org.apache.spark.ml.PipelineModel\n",
    "import org.apache.spark.ml.regression.RandomForestRegressionModel\n",
    "\n",
    "val bestPipelineModel = best_model.asInstanceOf[PipelineModel]\n",
    "\n",
    "val stages = bestPipelineModel.stages\n",
    "for (i <- stages) println\n",
    "\n",
    "val bestRFModel = stages.last.asInstanceOf[RandomForestRegressionModel]\n",
    "\n",
    "println(\"RF params = \" + bestRFModel.extractParamMap())\n"
   ]
  },
  {
   "cell_type": "markdown",
   "metadata": {},
   "source": [
    "#### Prediction on the Best Model"
   ]
  },
  {
   "cell_type": "code",
   "execution_count": 85,
   "metadata": {},
   "outputs": [
    {
     "name": "stdout",
     "output_type": "stream",
     "text": [
      "Elapsed time: 16 s\n"
     ]
    },
    {
     "data": {
      "text/plain": [
       "rf_best: org.apache.spark.ml.regression.RandomForestRegressor = rfr_e28dfd875e95\n",
       "rf_best_Predictions: org.apache.spark.sql.DataFrame = [Price: double, MethodOfSale: int ... 21 more fields]\n",
       "res39: rf_best_Predictions.type = [Price: double, MethodOfSale: int ... 21 more fields]\n"
      ]
     },
     "execution_count": 85,
     "metadata": {},
     "output_type": "execute_result"
    }
   ],
   "source": [
    "val rf_best = new RandomForestRegressor()\n",
    "    .setSeed(36L)\n",
    "    .setLabelCol(\"Price\")\n",
    "    .setNumTrees(50)\n",
    "    .setMaxDepth(5)\n",
    "    .setMaxBins(100)\n",
    "    .setMaxMemoryInMB(512)\n",
    "    .setCacheNodeIds(true)\n",
    "\n",
    "val rf_best_Predictions = time{get_predictions(rf_best, train, test)}\n",
    "rf_best_Predictions.cache()"
   ]
  },
  {
   "cell_type": "markdown",
   "metadata": {},
   "source": [
    "#### Regression metrics\n"
   ]
  },
  {
   "cell_type": "code",
   "execution_count": 86,
   "metadata": {},
   "outputs": [
    {
     "name": "stdout",
     "output_type": "stream",
     "text": [
      "RMSE on test data = 411773.1416909595\n"
     ]
    }
   ],
   "source": [
    "assessRandomForest(rf_best_Predictions,\"rmse\")"
   ]
  },
  {
   "cell_type": "code",
   "execution_count": 87,
   "metadata": {},
   "outputs": [
    {
     "name": "stdout",
     "output_type": "stream",
     "text": [
      "R2 on test data = 0.592282312567372\n"
     ]
    }
   ],
   "source": [
    "assessRandomForest(rf_best_Predictions,\"r2\")"
   ]
  },
  {
   "cell_type": "markdown",
   "metadata": {},
   "source": [
    "### 3. Apply K-means Model  \n",
    "\n",
    "Unsupervised learning problem. To find opimal number of clusters run many models with differnet numer of clusters. When the number of clusters increses the differences between clusters gets smaller while the differences between points inside clusters increase as well. Optimally, WCSSE -  Within Set Sum of Squared Errors, should be as small as possible, while Slhouette coefficient [-1,1] cohesion and separation should get as close to 1 as possible.\n",
    "\n",
    "* WSSSE -  Within Set Sum of Squared Errors\n",
    "* Slhouette coefficient  for a data point is  $(b-a)/max(a,b)$, where $a$ - measure of cohesion (mean intra-cluster distance), b - measure of separarion (the distance between a sample and the nearest cluster that the sample is not a part of)\n"
   ]
  },
  {
   "cell_type": "markdown",
   "metadata": {},
   "source": [
    "#### Training and Predicting\n"
   ]
  },
  {
   "cell_type": "code",
   "execution_count": null,
   "metadata": {},
   "outputs": [],
   "source": [
    "import org.apache.spark.ml.clustering.{KMeans,KMeansModel}\n",
    "\n",
    "val kmeans = new KMeans().setSeed(5043L)\n",
    "                         .setPredictionCol(\"cluster\")\n",
    "                         .setFeaturesCol(\"scaledFeatures\")\n"
   ]
  },
  {
   "cell_type": "code",
   "execution_count": null,
   "metadata": {},
   "outputs": [],
   "source": [
    "import org.apache.spark.ml.Predictor\n",
    "import org.apache.spark.ml.linalg.Vector\n",
    "import org.apache.spark.ml.PredictionModel\n",
    "import org.apache.spark.ml.Pipeline\n",
    "\n",
    "\n",
    "val pipeline = new Pipeline()\n",
    "      .setStages(Array(scaler, kmeans))\n",
    "     \n",
    "val t0 = System.nanoTime()\n",
    " \n",
    "val pipelineModel = pipeline.fit(train_full)\n",
    "\n",
    "\n",
    "\n",
    "val kmPredictions = pipelineModel.transform(train_full) \n",
    "kmPredictions.cache()\n",
    "\n",
    "val kmModel = pipelineModel.stages.last.asInstanceOf[KMeansModel]\n",
    "val t1 = System.nanoTime()\n",
    "println(\"Elapsed time: \" + (t1 - t0)/1000000000 + \" s\")\n"
   ]
  },
  {
   "cell_type": "code",
   "execution_count": null,
   "metadata": {},
   "outputs": [],
   "source": [
    "kmPredictions.show(10)"
   ]
  },
  {
   "cell_type": "code",
   "execution_count": null,
   "metadata": {},
   "outputs": [],
   "source": [
    "kmModel.extractParamMap"
   ]
  },
  {
   "cell_type": "code",
   "execution_count": null,
   "metadata": {},
   "outputs": [],
   "source": [
    "//no of categories\n",
    "val num_clusters = kmPredictions.groupBy(\"cluster\").count().count()"
   ]
  },
  {
   "cell_type": "markdown",
   "metadata": {},
   "source": [
    "#### Evaluation.\n",
    "\n",
    "The silhouette metrics ranges between 1 and -1, where a value close to 1 means that the points in a cluster are close to the other points in the same cluster and far from the points of the other clusters."
   ]
  },
  {
   "cell_type": "code",
   "execution_count": null,
   "metadata": {},
   "outputs": [],
   "source": [
    "val num_train_full =train_full.count()"
   ]
  },
  {
   "cell_type": "code",
   "execution_count": null,
   "metadata": {},
   "outputs": [],
   "source": [
    "val WSSSE = kmModel.computeCost(kmPredictions)\n",
    "println(s\"WSSSE error = $WSSSE\")"
   ]
  },
  {
   "cell_type": "code",
   "execution_count": null,
   "metadata": {},
   "outputs": [],
   "source": [
    "val scaled_WSSSE = WSSSE/num_train_full\n",
    "\n",
    "print(s\"Normalised WCSSE error = \")\n",
    "println(\"%06.2f\".format(scaled_WSSSE))"
   ]
  },
  {
   "cell_type": "code",
   "execution_count": null,
   "metadata": {},
   "outputs": [],
   "source": [
    "import org.apache.spark.ml.evaluation.ClusteringEvaluator\n",
    "\n",
    "// Evaluate clustering by computing Silhouette score\n",
    "val evaluator = new ClusteringEvaluator()\n",
    "\n",
    "//assess(kmPredictions,\"WCSSE\")\n",
    "//assess(kmPredictions,\"silhouette\")\n",
    "evaluator.setPredictionCol(\"cluster\")\n",
    "val silhouette = evaluator.evaluate(kmPredictions)\n",
    "println(s\"Silhouette with squared euclidean distance =\")\n",
    "println(\"%06.2f\".format(silhouette))\n"
   ]
  },
  {
   "cell_type": "code",
   "execution_count": null,
   "metadata": {},
   "outputs": [],
   "source": [
    "for (i <- Array.range(0, num_clusters.toInt)){\n",
    "  println(\"Cluster \"+i+\":\")\n",
    "  kmPredictions.where($\"cluster\" === i).describe().select(\"Summary\", \"Price\").show()\n",
    "}   "
   ]
  },
  {
   "cell_type": "code",
   "execution_count": null,
   "metadata": {},
   "outputs": [],
   "source": [
    "import org.apache.spark.ml.evaluation.ClusteringEvaluator\n",
    "import org.apache.spark.ml.Predictor\n",
    "import org.apache.spark.ml.linalg.Vector\n",
    "import org.apache.spark.ml.PredictionModel\n",
    "\n",
    "def eval_points(maxK: Int): Map[Int, Double] = {\n",
    "  val evaluator = new ClusteringEvaluator()\n",
    "  var points = Map(2 -> WSSSE)\n",
    "  for (i <- Array.range(3, maxK)){\n",
    "\n",
    "    val kmeans = new KMeans().setSeed(5043L).setK(i)\n",
    "    val kmeansModel = kmeans.fit(train_sample)\n",
    "    val wssse = kmeansModel.computeCost(test_sample)\n",
    "    points += (i -> wssse)\n",
    "  }\n",
    "  points\n",
    "}"
   ]
  },
  {
   "cell_type": "code",
   "execution_count": null,
   "metadata": {},
   "outputs": [],
   "source": [
    "val points = time{eval_points(100)}"
   ]
  },
  {
   "cell_type": "code",
   "execution_count": null,
   "metadata": {},
   "outputs": [],
   "source": [
    "val num_sample = test_sample.count()"
   ]
  },
  {
   "cell_type": "code",
   "execution_count": null,
   "metadata": {},
   "outputs": [],
   "source": [
    "\n",
    "val pnt_sort = points.toArray.sortWith(_._2 < _._2)"
   ]
  },
  {
   "cell_type": "code",
   "execution_count": null,
   "metadata": {},
   "outputs": [],
   "source": [
    "val (best_num_centroids, best_wssse) = pointspoints.toArray.sortWith(_._2 < _._2)(0)\n",
    "best_num_centroids\n",
    "best_wssse/num_sample"
   ]
  },
  {
   "cell_type": "markdown",
   "metadata": {},
   "source": [
    "#### Visualize predictions\n"
   ]
  },
  {
   "cell_type": "code",
   "execution_count": null,
   "metadata": {},
   "outputs": [],
   "source": [
    "%matplotlib notebook \n",
    "%%python\n",
    "from matplotlib import pyplot as plt\n",
    "\n",
    "-i pnt_sort -o points\n",
    "\n",
    "fig = plt.figure()\n",
    "ax = plt.axes()\n",
    "(x,y) = points\n",
    "ax.plot(x, y);\n",
    "ax.grid()\n",
    "ax.set_xlabel(\"Number of clusters\")\n",
    "ax.set_ylabel(\"Costs\");"
   ]
  },
  {
   "cell_type": "code",
   "execution_count": null,
   "metadata": {},
   "outputs": [],
   "source": [
    "val bestPredictions  = new KMeans().setSeed(1L).setK(best_num_centroids).fit(train_sample)\n",
    "bestPredictions.cache()\n",
    "bestPredictions.show(10)"
   ]
  },
  {
   "cell_type": "code",
   "execution_count": null,
   "metadata": {},
   "outputs": [],
   "source": [
    "for (i <- Array.range(0, best_num_centroids.toInt)){\n",
    "  println(\"Cluster \"+i+\":\")\n",
    "  bestPredictions.where($\"prediction\" === i).describe().select(\"Summary\", \"Price\").show()\n",
    "}   "
   ]
  },
  {
   "cell_type": "code",
   "execution_count": null,
   "metadata": {},
   "outputs": [],
   "source": [
    "bestPredictions.clusterCenters.foreach(println)"
   ]
  },
  {
   "cell_type": "code",
   "execution_count": null,
   "metadata": {},
   "outputs": [],
   "source": [
    "bestPredictions.clusterCenters.foreach(println)"
   ]
  },
  {
   "cell_type": "code",
   "execution_count": null,
   "metadata": {},
   "outputs": [],
   "source": [
    "val columns = Array(\"DistanceFromCBD\", \"Rooms\", \"Bathroom\", \"Car\", \"Landsize\", \"Latitude\", \"Longtitude\", \"Date\", \n",
    "                    \"str_name_suburb_vec\", \"m_sale_vec\", \"pt_vec\")\n",
    "\n",
    "val assembler = new VectorAssembler()\n",
    "            .setInputCols(\"features\")\n",
    "            .setOutputCol(columns)\n",
    "\n",
    "val unassembled_bc = assembler.transform(bestPredictions)\n"
   ]
  },
  {
   "cell_type": "markdown",
   "metadata": {},
   "source": [
    "### Reverse Best Cluster column to data row"
   ]
  },
  {
   "cell_type": "code",
   "execution_count": null,
   "metadata": {},
   "outputs": [],
   "source": [
    "val columns = Array(\"DistanceFromCBD\", \"Rooms\", \"Bathroom\", \"Car\", \"Landsize\", \"Latitude\", \"Longtitude\", \"Date\", \n",
    "                    \"str_name_suburb_vec\", \"m_sale_vec\", \"pt_vec\")\n",
    "\n",
    "val assembler = new VectorAssembler()\n",
    "            .setInputCols(\"features\")\n",
    "            .setOutputCol(columns)\n",
    "\n",
    "val unassembled_bc = assembler.transform(bestClust)\n"
   ]
  },
  {
   "cell_type": "code",
   "execution_count": null,
   "metadata": {},
   "outputs": [],
   "source": [
    "val ms_encoder = new OneHotEncoder()\n",
    "      .setInputCol(\"m_sale_vec\")\n",
    "      .setOutputCol(\"MethodOfSale\")\n",
    "\n",
    "val pt_encoder = new OneHotEncoder()\n",
    "      .setInputCol(\"pt_vec\")\n",
    "      .setOutputCol(\"PropertyType\")\n",
    "\n",
    "val unassembled_ms_pt_bc = pt_encoder.transform(ms_encoder.transform(unassembled_bc))\n"
   ]
  },
  {
   "cell_type": "code",
   "execution_count": null,
   "metadata": {},
   "outputs": [],
   "source": [
    "import org.apache.spark.ml.feature.{FeatureHasher,OneHotEncoder,StandardScaler,VectorAssembler}\n",
    "\n",
    "val hasher = new FeatureHasher()\n",
    "    .setInputCols(\"str_name_suburb_vec\")\n",
    "    .setOutputCol(\"StreetName\",\"Suburb\")\n",
    "\n",
    "val unhashed_bc = hasher.transform(unassembled_ms_pt_bc)"
   ]
  },
  {
   "cell_type": "code",
   "execution_count": null,
   "metadata": {},
   "outputs": [],
   "source": [
    "val reversed_bc = unhashed_bc.drop(\"str_name_suburb_vec\", \"m_sale_vec\", \"pt_vec\",\"features\")\n",
    "reversed_bc.show()"
   ]
  },
  {
   "cell_type": "code",
   "execution_count": null,
   "metadata": {},
   "outputs": [],
   "source": [
    "// save model\n",
    "kmeansModel.write.overwrite()\n",
    "  .save(\"./kmeans-model\")\n",
    "\n",
    "// load model\n",
    "val kmeansModelLoded = KMeansModel\n",
    "  .load(\"./kmeans-model\")"
   ]
  },
  {
   "cell_type": "markdown",
   "metadata": {},
   "source": [
    "#### Bias vs Variance Graph of Error (validation error and training error) versus training set size. \n",
    "\n",
    "\n",
    "<span style=\"color:red\">\n",
    "TO DO: \n",
    "produce graph -- validation error and training error should converge\n",
    "</span>\n"
   ]
  },
  {
   "cell_type": "markdown",
   "metadata": {},
   "source": [
    "### References\n",
    "\n",
    "Apache Spark (n.d.). _Spark ML Programming Guide._ Retrieved from https://spark.apache.org/docs/1.2.2/ml-guide.html\n",
    "\n",
    "Bahadoor N., (2020). _Spark tutorials_ Retrieved from https://allaboutscala.com/big-data/spark/\n",
    "Gorczynski M. (2017). _Introduction to machine learning with spark and mllib (dataframe API)._ Retrieved from https://scalac.io/scala-spark-ml-machine-learning-introduction/\n",
    "\n",
    "Hydrospheredata (2020). Program creek. Scala Code Examples. Scaler Retrieved from https://www.programcreek.com/scala/org.apache.spark.ml.feature.StandardScaler\n",
    "\n",
    "Jen G. (2020) _FeatureHasher_. Retrieved from https://george-jen.gitbook.io/data-science-and-apache-spark/featurehasher\n",
    "\n",
    "Johnson S (2019). _From sckit-learn to Spark ML._ Retrieved from https://towardsdatascience.com/from-scikit-learn-to-spark-ml-f2886fb46852\n",
    "\n",
    "Johnson S (2019). _Housing Prices - Spark ML Project_ Retrieved from https://github.com/scottdjohnson/HousingPricePredictions/blob/master/HousingPrices-SparkML.ipynb\n",
    "\n",
    "Masri A. (2019). _FeatureTransformation. Retrieved from\n",
    "https://towardsdatascience.com/apache-spark-mllib-tutorial-7aba8a1dce6e\n",
    "\n",
    "Poddutur S. (). _Distribution of Executors, Cores and Memory for a Spark Application running in Yarn:_ Retrieved from https://spoddutur.github.io/spark-notes/distribution_of_executors_cores_and_memory_for_spark_application.html \n",
    "\n",
    "Rai D.,(2018) _Feature Engineering in pyspark — Part I._ Retrieved from https://medium.com/@dhiraj.p.rai/essentials-of-feature-engineering-in-pyspark-part-i-76a57680a85\n",
    "\n",
    "Sarkar A. (2017). _Learning Spark SQL. Implementing a Spark ML clustering model._ Packt Publishing.\n",
    "\n",
    "Scala Doc (n.d.) Retrieved from https://docs.scala-lang.org\n",
    "\n",
    "\n",
    "(2019) _Random Forest Classifier with Apache Spark_ Retireved from https://medium.com/rahasak/random-forest-classifier-with-apache-spark-c63b4a23a7cc\n",
    "\n",
    "Wagle M.(2020) _Predicting House Prices using Machine Learning_. Retrieved from https://medium.com/@manilwagle/predicting-house-prices-using-machine-learning-cab0b82cd3f\n",
    "\n",
    "\n",
    "Zecevic P., Bonaci M. (2020) _Spark in Action_ Retireved from https://livebook.manning.com/book/spark-in-action/about-this-book/"
   ]
  },
  {
   "cell_type": "code",
   "execution_count": null,
   "metadata": {},
   "outputs": [],
   "source": []
  },
  {
   "cell_type": "code",
   "execution_count": null,
   "metadata": {},
   "outputs": [],
   "source": []
  },
  {
   "cell_type": "code",
   "execution_count": null,
   "metadata": {},
   "outputs": [],
   "source": []
  }
 ],
 "metadata": {
  "kernelspec": {
   "display_name": "spylon-kernel",
   "language": "scala",
   "name": "spylon-kernel"
  },
  "language_info": {
   "codemirror_mode": "text/x-scala",
   "file_extension": ".scala",
   "help_links": [
    {
     "text": "MetaKernel Magics",
     "url": "https://metakernel.readthedocs.io/en/latest/source/README.html"
    }
   ],
   "mimetype": "text/x-scala",
   "name": "scala",
   "pygments_lexer": "scala",
   "version": "0.4.1"
  }
 },
 "nbformat": 4,
 "nbformat_minor": 4
}
