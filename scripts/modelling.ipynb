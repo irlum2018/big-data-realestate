{
 "cells": [
  {
   "cell_type": "markdown",
   "metadata": {},
   "source": [
    "### Preparing HDFS\n",
    "Using magic\n",
    "\n",
    "Create input folder on HDFS if not exists\n",
    "\n",
    "Copy from data from local\n",
    "\n",
    "<span style=\"color:red\"><em style=font-size:40px;>!</em>The following cells are basically a copy and paste of our assessment 1 submission"
   ]
  },
  {
   "cell_type": "code",
   "execution_count": 46,
   "metadata": {},
   "outputs": [
    {
     "name": "stdout",
     "output_type": "stream",
     "text": [
      "/home/big-data-realestate-master/scripts\n",
      "\n",
      "20/06/07 03:33:08 INFO fs.TrashPolicyDefault: Namenode trash configuration: Deletion interval = 0 minutes, Emptier interval = 0 minutes.\n",
      "\n",
      "\n",
      "Deleted /tmp/rs_input\n",
      "\n",
      "\n",
      "Found 1 items\n",
      "\n",
      "\n",
      "-rwxrwxrwx   1 1000 staff    5018236 2020-06-04 09:20 /tmp/rs_input/raw.csv\n",
      "\n",
      "\n"
     ]
    }
   ],
   "source": [
    "!pwd\n",
    "! hadoop fs -rm -R /tmp/rs_input\n",
    "! hadoop fs -mkdir -p  /tmp/rs_input\n",
    "! hadoop fs -put   -p  ./../data-raw/Melbourne_housing_FULL.csv             /tmp/rs_input/raw.csv\n",
    "! hadoop fs -ls        /tmp/rs_input/"
   ]
  },
  {
   "cell_type": "code",
   "execution_count": 47,
   "metadata": {},
   "outputs": [
    {
     "data": {
      "text/plain": [
       "df_raw: org.apache.spark.sql.DataFrame = [Suburb: string, Address: string ... 19 more fields]\n"
      ]
     },
     "execution_count": 47,
     "metadata": {},
     "output_type": "execute_result"
    }
   ],
   "source": [
    "//load raw into df\n",
    "val df_raw = spark\n",
    "    .read\n",
    "    .format(\"csv\")\n",
    "    .option(\"header\", \"true\")\n",
    "    .load(\"hdfs://localhost:9000/tmp/rs_input/raw.csv\")"
   ]
  },
  {
   "cell_type": "code",
   "execution_count": 48,
   "metadata": {},
   "outputs": [
    {
     "data": {
      "text/plain": [
       "df_working: org.apache.spark.sql.DataFrame = [Price: string, MethodOfSale: string ... 11 more fields]\n",
       "df_working: org.apache.spark.sql.DataFrame = [Price: string, MethodOfSale: string ... 11 more fields]\n"
      ]
     },
     "execution_count": 48,
     "metadata": {},
     "output_type": "execute_result"
    }
   ],
   "source": [
    "//only select columns we need now\n",
    "var df_working= df_raw.select(\"Price\",\n",
    "                          \"Method\",\n",
    "                          \"Type\",\n",
    "                          \"Distance\",\n",
    "                          \"Rooms\",\n",
    "                          \"Bathroom\",\n",
    "                          \"Car\",\n",
    "                          \"Landsize\",\n",
    "                          \"Lattitude\",\n",
    "                          \"Longtitude\",    \n",
    "                          \"Suburb\",\n",
    "                          \"Address\",\n",
    "                          \"Date\")\n",
    "\n",
    "\n",
    "//add meaningful to column names\n",
    "df_working = df_working.withColumnRenamed(\"Method\",\"MethodOfSale\")\n",
    "    .withColumnRenamed(\"Distance\",\"DistanceFromCBD\")\n",
    "    .withColumnRenamed(\"Type\",\"PropertyType\")\n",
    "    .withColumnRenamed(\"Lattitude\",\"Latitude\")"
   ]
  },
  {
   "cell_type": "code",
   "execution_count": 49,
   "metadata": {},
   "outputs": [
    {
     "data": {
      "text/plain": [
       "df_working: org.apache.spark.sql.DataFrame = [Price: string, MethodOfSale: string ... 11 more fields]\n"
      ]
     },
     "execution_count": 49,
     "metadata": {},
     "output_type": "execute_result"
    }
   ],
   "source": [
    "//when profiling there are a number of columns with a \"#N/A\" which need to be removed\n",
    "df_working = df_working.filter($\"DistanceFromCBD\" =!= \"#N/A\")"
   ]
  },
  {
   "cell_type": "code",
   "execution_count": 50,
   "metadata": {},
   "outputs": [
    {
     "data": {
      "text/plain": [
       "df_working: org.apache.spark.sql.DataFrame = [Price: double, MethodOfSale: string ... 11 more fields]\n"
      ]
     },
     "execution_count": 50,
     "metadata": {},
     "output_type": "execute_result"
    }
   ],
   "source": [
    "//refactored to remove the for column loop\n",
    "df_working = df_working.withColumn(\"Price\",col(\"Price\").cast(\"Double\"))\n",
    "    .withColumn(\"Rooms\",col(\"Rooms\").cast(\"Int\"))\n",
    "    .withColumn(\"DistanceFromCBD\",col(\"DistanceFromCBD\").cast(\"Double\"))\n",
    "    .withColumn(\"Bathroom\",col(\"Bathroom\").cast(\"Int\"))\n",
    "    .withColumn(\"Car\",col(\"Car\").cast(\"Int\"))\n",
    "    .withColumn(\"Landsize\",col(\"Landsize\").cast(\"Double\"))\n",
    "    .withColumn(\"Latitude\",col(\"Latitude\").cast(\"Double\"))\n",
    "    .withColumn(\"Longtitude\",col(\"Longtitude\").cast(\"Double\"))\n",
    "    "
   ]
  },
  {
   "cell_type": "code",
   "execution_count": 51,
   "metadata": {},
   "outputs": [
    {
     "data": {
      "text/plain": [
       "df_working: org.apache.spark.sql.DataFrame = [Price: double, MethodOfSale: string ... 11 more fields]\n",
       "df_working: org.apache.spark.sql.DataFrame = [Price: double, MethodOfSale: string ... 11 more fields]\n"
      ]
     },
     "execution_count": 51,
     "metadata": {},
     "output_type": "execute_result"
    }
   ],
   "source": [
    "//convert categorically values to ints\n",
    "//make sure the categorical type is upper\n",
    "df_working = df_working.withColumn(\"PropertyType\", upper(col(\"PropertyType\")))\n",
    "\n",
    "df_working = df_working.withColumn(\"PropertyType\",\n",
    "when(col(\"PropertyType\") === \"H\", \"1\")\n",
    ".when(col(\"PropertyType\") === \"U\", \"2\")\n",
    ".when(col(\"PropertyType\") ===\"T\", \"3\")\n",
    ".otherwise(\"0\"))"
   ]
  },
  {
   "cell_type": "code",
   "execution_count": 52,
   "metadata": {},
   "outputs": [
    {
     "data": {
      "text/plain": [
       "df_working: org.apache.spark.sql.DataFrame = [Price: double, MethodOfSale: string ... 11 more fields]\n"
      ]
     },
     "execution_count": 52,
     "metadata": {},
     "output_type": "execute_result"
    }
   ],
   "source": [
    "//convert categorically values to ints\n",
    "//make sure the categorical type is upper\n",
    "df_working = df_working.withColumn(\"MethodOfSale\", upper(col(\"MethodOfSale\")))"
   ]
  },
  {
   "cell_type": "code",
   "execution_count": 53,
   "metadata": {},
   "outputs": [
    {
     "data": {
      "text/plain": [
       "df_working: org.apache.spark.sql.DataFrame = [Price: double, MethodOfSale: string ... 11 more fields]\n"
      ]
     },
     "execution_count": 53,
     "metadata": {},
     "output_type": "execute_result"
    }
   ],
   "source": [
    "df_working = df_working.withColumn(\"MethodOfSale\",\n",
    "when(col(\"MethodOfSale\") === \"S\", \"1\")\n",
    ".when(col(\"MethodOfSale\") === \"SP\", \"2\")\n",
    ".when(col(\"MethodOfSale\") === \"PI\", \"3\")\n",
    ".when(col(\"MethodOfSale\") === \"PN\", \"4\")\n",
    ".when(col(\"MethodOfSale\") === \"SN\", \"5\")\n",
    ".when(col(\"MethodOfSale\") === \"VB\", \"6\")\n",
    ".when(col(\"MethodOfSale\") === \"W\", \"7\")\n",
    ".when(col(\"MethodOfSale\") === \"SA\", \"8\")\n",
    ".when(col(\"MethodOfSale\") === \"SS\", \"9\")                                \n",
    ".otherwise(\"0\"))"
   ]
  },
  {
   "cell_type": "code",
   "execution_count": 54,
   "metadata": {},
   "outputs": [
    {
     "data": {
      "text/plain": [
       "df_working: org.apache.spark.sql.DataFrame = [Price: double, MethodOfSale: int ... 11 more fields]\n"
      ]
     },
     "execution_count": 54,
     "metadata": {},
     "output_type": "execute_result"
    }
   ],
   "source": [
    "//cast categorical values to Ints\n",
    "//Not strictly needed with the one hot encoding later\n",
    "df_working = df_working.withColumn(\"PropertyType\",col(\"PropertyType\").cast(\"Int\"))\n",
    "    .withColumn(\"MethodOfSale\",col(\"MethodOfSale\").cast(\"Int\"))"
   ]
  },
  {
   "cell_type": "code",
   "execution_count": 55,
   "metadata": {},
   "outputs": [
    {
     "data": {
      "text/plain": [
       "df_working: org.apache.spark.sql.DataFrame = [Price: double, MethodOfSale: int ... 11 more fields]\n"
      ]
     },
     "execution_count": 55,
     "metadata": {},
     "output_type": "execute_result"
    }
   ],
   "source": [
    "// make first letter of suburb upper case\n",
    "df_working= df_working.withColumn(\"Suburb\", initcap(col(\"Suburb\")))"
   ]
  },
  {
   "cell_type": "code",
   "execution_count": 56,
   "metadata": {},
   "outputs": [
    {
     "data": {
      "text/plain": [
       "df_working: org.apache.spark.sql.DataFrame = [Price: double, MethodOfSale: int ... 12 more fields]\n"
      ]
     },
     "execution_count": 56,
     "metadata": {},
     "output_type": "execute_result"
    }
   ],
   "source": [
    "//split address on Street name and Suffix\n",
    "df_working = df_working.withColumn(\"StreetName\",split(col(\"Address\"),\" \").getItem(1)).\n",
    "    withColumn(\"StreetSuffix\",split(col(\"Address\"),\" \").getItem(2)).drop(\"Address\")"
   ]
  },
  {
   "cell_type": "code",
   "execution_count": 57,
   "metadata": {},
   "outputs": [
    {
     "data": {
      "text/plain": [
       "df_working: org.apache.spark.sql.DataFrame = [Price: double, MethodOfSale: int ... 12 more fields]\n",
       "df_working: org.apache.spark.sql.DataFrame = [Price: double, MethodOfSale: int ... 12 more fields]\n"
      ]
     },
     "execution_count": 57,
     "metadata": {},
     "output_type": "execute_result"
    }
   ],
   "source": [
    "//fix \"The Parade, The *** adddresses\"\n",
    "df_working = df_working.withColumn(\"StreetName\",\n",
    "when(col(\"StreetName\").like(\"The\"), concat(lit(\"The \"),col(\"StreetSuffix\")))\n",
    ".otherwise(col(\"StreetName\")))\n",
    "\n",
    "//remove the street suffix\n",
    "df_working = df_working.withColumn(\"StreetSuffix\",\n",
    "when(col(\"StreetName\").contains(\"The\"), lit(\"\"))\n",
    ".otherwise(col(\"StreetSuffix\")))"
   ]
  },
  {
   "cell_type": "code",
   "execution_count": 58,
   "metadata": {},
   "outputs": [
    {
     "data": {
      "text/plain": [
       "df_working: org.apache.spark.sql.DataFrame = [Price: double, MethodOfSale: int ... 11 more fields]\n"
      ]
     },
     "execution_count": 58,
     "metadata": {},
     "output_type": "execute_result"
    }
   ],
   "source": [
    "//Rebuild street name from cleaned tokens\n",
    "//this is approach was due to the legacy code we already had tokenizing the address so i just rejoined them\n",
    "//one could write a regex replace to remove the street numbers unit numbers etc. bu i know these columns are clean\n",
    "df_working = df_working.withColumn(\"StreetName\", concat(col(\"StreetName\"), lit(\" \"),col(\"StreetSuffix\"))).drop(\"StreetSuffix\")"
   ]
  },
  {
   "cell_type": "code",
   "execution_count": 59,
   "metadata": {},
   "outputs": [
    {
     "data": {
      "text/plain": [
       "df_working: org.apache.spark.sql.DataFrame = [Price: double, MethodOfSale: int ... 11 more fields]\n"
      ]
     },
     "execution_count": 59,
     "metadata": {},
     "output_type": "execute_result"
    }
   ],
   "source": [
    "// make first letter of Street upper case\n",
    "df_working= df_working.withColumn(\"StreetName\", initcap(col(\"StreetName\")))"
   ]
  },
  {
   "cell_type": "code",
   "execution_count": 60,
   "metadata": {},
   "outputs": [
    {
     "data": {
      "text/plain": [
       "df_working: org.apache.spark.sql.DataFrame = [Price: double, MethodOfSale: int ... 11 more fields]\n"
      ]
     },
     "execution_count": 60,
     "metadata": {},
     "output_type": "execute_result"
    }
   ],
   "source": [
    "//drop all properties with land area less than 12 sqm \n",
    "df_working = df_working.filter(!($\"Landsize\"<12))"
   ]
  },
  {
   "cell_type": "code",
   "execution_count": 61,
   "metadata": {},
   "outputs": [
    {
     "data": {
      "text/plain": [
       "df_working: org.apache.spark.sql.DataFrame = [Price: double, MethodOfSale: int ... 11 more fields]\n"
      ]
     },
     "execution_count": 61,
     "metadata": {},
     "output_type": "execute_result"
    }
   ],
   "source": [
    "//drop rows where type = h and landsize < 50 sqm\n",
    "df_working = df_working.filter(!($\"Landsize\"<50 && $\"PropertyType\"===1))"
   ]
  },
  {
   "cell_type": "code",
   "execution_count": 62,
   "metadata": {},
   "outputs": [
    {
     "data": {
      "text/plain": [
       "df_not_null: org.apache.spark.sql.DataFrame = [Price: double, MethodOfSale: int ... 11 more fields]\n"
      ]
     },
     "execution_count": 62,
     "metadata": {},
     "output_type": "execute_result"
    }
   ],
   "source": [
    "val df_not_null = df_working.na.drop()"
   ]
  },
  {
   "cell_type": "code",
   "execution_count": 63,
   "metadata": {},
   "outputs": [
    {
     "name": "stdout",
     "output_type": "stream",
     "text": [
      "root\n",
      " |-- Price: double (nullable = true)\n",
      " |-- MethodOfSale: integer (nullable = true)\n",
      " |-- PropertyType: integer (nullable = true)\n",
      " |-- DistanceFromCBD: double (nullable = true)\n",
      " |-- Rooms: integer (nullable = true)\n",
      " |-- Bathroom: integer (nullable = true)\n",
      " |-- Car: integer (nullable = true)\n",
      " |-- Landsize: double (nullable = true)\n",
      " |-- Latitude: double (nullable = true)\n",
      " |-- Longtitude: double (nullable = true)\n",
      " |-- Suburb: string (nullable = true)\n",
      " |-- Date: string (nullable = true)\n",
      " |-- StreetName: string (nullable = true)\n",
      "\n"
     ]
    }
   ],
   "source": [
    "df_not_null.printSchema()"
   ]
  },
  {
   "cell_type": "code",
   "execution_count": 64,
   "metadata": {},
   "outputs": [
    {
     "name": "stdout",
     "output_type": "stream",
     "text": [
      "20/06/07 03:33:20 INFO fs.TrashPolicyDefault: Namenode trash configuration: Deletion interval = 0 minutes, Emptier interval = 0 minutes.\n",
      "\n",
      "\n",
      "Deleted /tmp/output\n",
      "\n",
      "\n"
     ]
    }
   ],
   "source": [
    "! hadoop fs -rm -R /tmp/output\n",
    "! hadoop fs -mkdir -p /tmp/output"
   ]
  },
  {
   "cell_type": "code",
   "execution_count": 65,
   "metadata": {},
   "outputs": [
    {
     "data": {
      "text/plain": [
       "df_output: Unit = ()\n"
      ]
     },
     "execution_count": 65,
     "metadata": {},
     "output_type": "execute_result"
    }
   ],
   "source": [
    "//this coalesce and write out isn't necessary if doing e2e\n",
    "val df_output = df_not_null.coalesce(1)\n",
    "   .write\n",
    "   .format(\"csv\")\n",
    "   .option(\"header\",\"true\")\n",
    "   .mode(\"overwrite\").option(\"sep\",\",\")\n",
    "   .save(\"hdfs://localhost:9000/tmp/output\")"
   ]
  },
  {
   "cell_type": "code",
   "execution_count": 66,
   "metadata": {
    "scrolled": true
   },
   "outputs": [],
   "source": [
    "! hadoop fs -mkdir -p /tmp/output\n",
    "! rm ./../data-clean/cleanMelbourneData.csv\n",
    "! hadoop fs -copyToLocal /tmp/output/\\*.csv ./../data-clean/cleanMelbourneData.csv"
   ]
  },
  {
   "cell_type": "markdown",
   "metadata": {},
   "source": [
    "##  <span style=\"color:red\"><em style=font-size:40px;>!</em>Assessment 2 Modelling etc. Starts from here\n"
   ]
  },
  {
   "cell_type": "markdown",
   "metadata": {},
   "source": [
    "## Import Data\n",
    "Here you have the option to just start from the outputed file from the wrangling if that has been ran before. \n",
    "Or can go e2e\n",
    "\n",
    "I think ideally we would want to move from output to a new input folder somewhere on HDFS"
   ]
  },
  {
   "cell_type": "code",
   "execution_count": 67,
   "metadata": {},
   "outputs": [
    {
     "data": {
      "text/plain": [
       "df_clean: org.apache.spark.sql.DataFrame = [Price: double, MethodOfSale: int ... 11 more fields]\n"
      ]
     },
     "execution_count": 67,
     "metadata": {},
     "output_type": "execute_result"
    }
   ],
   "source": [
    "//use the set wrangled from above\n",
    "var df_clean = df_not_null"
   ]
  },
  {
   "cell_type": "markdown",
   "metadata": {},
   "source": [
    "### Load from saved local file\n",
    "\n",
    "ctrl + / or cmd + / should can comment / uncomment selections"
   ]
  },
  {
   "cell_type": "code",
   "execution_count": 15,
   "metadata": {},
   "outputs": [
    {
     "name": "stdout",
     "output_type": "stream",
     "text": [
      "put: `/tmp/output/cleanMelbourneData.csv': File exists\n",
      "\n",
      "\n"
     ]
    }
   ],
   "source": [
    "! hadoop fs -mkdir -p  /tmp/output\n",
    "! hadoop fs -put   -p  ./../data-clean/cleanMelbourneData.csv  /tmp/output  "
   ]
  },
  {
   "cell_type": "code",
   "execution_count": 16,
   "metadata": {},
   "outputs": [
    {
     "name": "stdout",
     "output_type": "stream",
     "text": [
      "2020-06-07 06:32:26,284 WARN  [Thread-4] execution.CacheManager (Logging.scala:logWarning(66)) - Asked to cache already cached data.\n"
     ]
    },
    {
     "data": {
      "text/plain": [
       "df_clean: org.apache.spark.sql.DataFrame = [Price: double, MethodOfSale: int ... 11 more fields]\n",
       "df_clean: org.apache.spark.sql.DataFrame = [Price: double, MethodOfSale: int ... 11 more fields]\n"
      ]
     },
     "execution_count": 16,
     "metadata": {},
     "output_type": "execute_result"
    }
   ],
   "source": [
    "// Load Clean Dataset into a DataFrame from HDFS after wrangling is completed\n",
    "var df_clean = spark\n",
    "    .read\n",
    "    .format(\"csv\")\n",
    "    .option(\"header\", \"true\")\n",
    "    .load(\"hdfs://localhost:9000/tmp/input/*.csv\")\n",
    "df_clean.cache()\n",
    "\n",
    "//when we use the output from the wrangle \n",
    "//this can be removed as types should be fine\n",
    "df_clean = df_clean.withColumn(\"Price\",col(\"Price\").cast(\"Double\"))\n",
    "    .withColumn(\"Rooms\",col(\"Rooms\").cast(\"Int\"))\n",
    "    .withColumn(\"DistanceFromCBD\",col(\"DistanceFromCBD\").cast(\"Double\"))\n",
    "    .withColumn(\"MethodOfSale\",col(\"MethodOfSale\").cast(\"Int\"))\n",
    "    .withColumn(\"PropertyType\",col(\"PropertyType\").cast(\"Int\"))\n",
    "    .withColumn(\"Bathroom\",col(\"Bathroom\").cast(\"Int\"))\n",
    "    .withColumn(\"Car\",col(\"Car\").cast(\"Int\"))\n",
    "    .withColumn(\"Landsize\",col(\"Landsize\").cast(\"Double\"))\n",
    "    .withColumn(\"Latitude\",col(\"Latitude\").cast(\"Double\"))\n",
    "    .withColumn(\"Longtitude\",col(\"Longtitude\").cast(\"Double\"))\n"
   ]
  },
  {
   "cell_type": "code",
   "execution_count": 17,
   "metadata": {},
   "outputs": [
    {
     "name": "stdout",
     "output_type": "stream",
     "text": [
      "2020-06-07 06:32:26,523 WARN  [Thread-4] execution.CacheManager (Logging.scala:logWarning(66)) - Asked to cache already cached data.\n",
      "root\n",
      " |-- Price: double (nullable = true)\n",
      " |-- MethodOfSale: integer (nullable = true)\n",
      " |-- PropertyType: integer (nullable = true)\n",
      " |-- DistanceFromCBD: double (nullable = true)\n",
      " |-- Rooms: integer (nullable = true)\n",
      " |-- Bathroom: integer (nullable = true)\n",
      " |-- Car: integer (nullable = true)\n",
      " |-- Landsize: double (nullable = true)\n",
      " |-- Latitude: double (nullable = true)\n",
      " |-- Longtitude: double (nullable = true)\n",
      " |-- Suburb: string (nullable = true)\n",
      " |-- Date: string (nullable = true)\n",
      " |-- StreetName: string (nullable = true)\n",
      "\n"
     ]
    },
    {
     "data": {
      "text/plain": [
       "res8: Long = 15728\n"
      ]
     },
     "execution_count": 17,
     "metadata": {},
     "output_type": "execute_result"
    }
   ],
   "source": [
    "//debug check file load\n",
    "df_clean.cache()\n",
    "df_clean.printSchema()\n",
    "df_clean.count()"
   ]
  },
  {
   "cell_type": "markdown",
   "metadata": {},
   "source": [
    " ### Check Spark Parameters"
   ]
  },
  {
   "cell_type": "code",
   "execution_count": 18,
   "metadata": {
    "scrolled": false
   },
   "outputs": [
    {
     "name": "stdout",
     "output_type": "stream",
     "text": [
      "(spark.driver.host,a56a95a92af2)\n",
      "(spark.driver.port,36855)\n",
      "(spark.repl.class.outputDir,/tmp/tmpd3lhnv14)\n",
      "(spark.rdd.compress,True)\n",
      "(spark.serializer.objectStreamReset,100)\n",
      "(spark.repl.class.uri,spark://a56a95a92af2:36855/classes)\n",
      "(spark.master,local[*])\n",
      "(spark.executor.id,driver)\n",
      "(spark.submit.deployMode,client)\n",
      "(spark.app.id,local-1591511179864)\n",
      "(spark.app.name,spylon-kernel)\n",
      "(spark.ui.showConsoleProgress,true)\n"
     ]
    },
    {
     "data": {
      "text/plain": [
       "import org.apache.spark.sql.SparkSession\n",
       "import org.apache.spark.{SparkConf, SparkContext}\n",
       "cs: org.apache.spark.SparkConf = org.apache.spark.SparkConf@7909f61d\n"
      ]
     },
     "execution_count": 18,
     "metadata": {},
     "output_type": "execute_result"
    }
   ],
   "source": [
    "import org.apache.spark.sql.SparkSession\n",
    "import org.apache.spark.{SparkConf,SparkContext}\n",
    "\n",
    "val cs = spark.sparkContext.getConf\n",
    "sc.getConf.getAll.foreach { println }"
   ]
  },
  {
   "cell_type": "markdown",
   "metadata": {},
   "source": [
    "### Construct vectors from attributes\n",
    "#### Transform Sale Date into a numeric value"
   ]
  },
  {
   "cell_type": "code",
   "execution_count": 19,
   "metadata": {
    "scrolled": true
   },
   "outputs": [
    {
     "data": {
      "text/plain": [
       "df_clean: org.apache.spark.sql.DataFrame = [Price: double, MethodOfSale: int ... 11 more fields]\n"
      ]
     },
     "execution_count": 19,
     "metadata": {},
     "output_type": "execute_result"
    }
   ],
   "source": [
    "//does this don't do much for Pat's LR model\n",
    "//so i removed it, but i have left it here incase others used it\n",
    "df_clean = df_clean.withColumn(\"Date\",unix_timestamp($\"Date\", \"dd/mm/yyyy\"))"
   ]
  },
  {
   "cell_type": "code",
   "execution_count": 20,
   "metadata": {
    "scrolled": true
   },
   "outputs": [
    {
     "data": {
      "text/plain": [
       "import org.apache.spark.ml.feature.{FeatureHasher, OneHotEncoder, VectorAssembler}\n",
       "featureColumnNames: Array[String] = Array(MethodOfSale, PropertyType, DistanceFromCBD, Rooms, Bathroom, Car, Landsize, Latitude, Longtitude, Suburb, Date, StreetName)\n",
       "categoricalFeatureColumnNames: Array[String] = Array(MethodOfSale, PropertyType, Suburb, StreetName)\n",
       "hasher: org.apache.spark.ml.feature.FeatureHasher = featureHasher_6ae964db2281\n"
      ]
     },
     "execution_count": 20,
     "metadata": {},
     "output_type": "execute_result"
    }
   ],
   "source": [
    "import org.apache.spark.ml.feature.{FeatureHasher,OneHotEncoder,VectorAssembler}\n",
    "\n",
    "//PK i have refactored the separte instances of hashers, encoders and assemblers to just using the feature hasher\n",
    "//this will handle all the categorical items and and one hot encoding in single call\n",
    "\n",
    "//set the feature names\n",
    "val featureColumnNames= Array(\"MethodOfSale\",\n",
    "            \"PropertyType\",\n",
    "            \"DistanceFromCBD\",\n",
    "            \"Rooms\",\n",
    "            \"Bathroom\",\n",
    "            \"Car\",\n",
    "            \"Landsize\",\n",
    "            \"Latitude\",\n",
    "            \"Longtitude\",\n",
    "            \"Suburb\",\n",
    "            \"Date\",\n",
    "            \"StreetName\")\n",
    "\n",
    "\n",
    "//set the categorical names\n",
    "val categoricalFeatureColumnNames= Array(\"MethodOfSale\",\n",
    "            \"PropertyType\",\n",
    "            \"Suburb\",\n",
    "            \"StreetName\")\n",
    "\n",
    "//define hasher\n",
    "val hasher = new FeatureHasher()\n",
    "  .setInputCols(featureColumnNames)\n",
    "  .setCategoricalCols(categoricalFeatureColumnNames)\n",
    "  .setOutputCol(\"hashedFeatures\")\n"
   ]
  },
  {
   "cell_type": "markdown",
   "metadata": {},
   "source": [
    "### Apply Log transformation to price"
   ]
  },
  {
   "cell_type": "code",
   "execution_count": 21,
   "metadata": {
    "scrolled": true
   },
   "outputs": [
    {
     "data": {
      "text/plain": [
       "df_clean: org.apache.spark.sql.DataFrame = [Price: double, MethodOfSale: int ... 12 more fields]\n"
      ]
     },
     "execution_count": 21,
     "metadata": {},
     "output_type": "execute_result"
    }
   ],
   "source": [
    "df_clean = df_clean.withColumn(\"loggedPrice\", log($\"Price\"))"
   ]
  },
  {
   "cell_type": "code",
   "execution_count": 22,
   "metadata": {
    "scrolled": true
   },
   "outputs": [
    {
     "name": "stdout",
     "output_type": "stream",
     "text": [
      "+------------------+\n",
      "|       loggedPrice|\n",
      "+------------------+\n",
      "|14.207552645740298|\n",
      "|13.849911984681606|\n",
      "|14.197365800433305|\n",
      "|13.652991628466498|\n",
      "+------------------+\n",
      "only showing top 4 rows\n",
      "\n"
     ]
    }
   ],
   "source": [
    "df_clean.select(\"loggedPrice\").show(4)"
   ]
  },
  {
   "cell_type": "code",
   "execution_count": 23,
   "metadata": {},
   "outputs": [
    {
     "name": "stdout",
     "output_type": "stream",
     "text": [
      "+---------+------------------+\n",
      "|    Price|      PriceAntilog|\n",
      "+---------+------------------+\n",
      "|1480000.0|1480000.0000000007|\n",
      "|1035000.0|1034999.9999999997|\n",
      "|1465000.0|1465000.0000000005|\n",
      "| 850000.0| 849999.9999999994|\n",
      "|1600000.0| 1600000.000000001|\n",
      "| 941000.0| 940999.9999999994|\n",
      "|1876000.0|1876000.0000000012|\n",
      "|1636000.0| 1635999.999999999|\n",
      "|1097000.0|1096999.9999999995|\n",
      "|1350000.0|1350000.0000000002|\n",
      "+---------+------------------+\n",
      "only showing top 10 rows\n",
      "\n"
     ]
    }
   ],
   "source": [
    "//check the antilog - introduces a slight rounding error\n",
    "//could fix in future\n",
    "df_clean.withColumn(\"PriceAntilog\", exp((col(\"loggedPrice\")))).select(\"Price\",\"PriceAntilog\").show(10)"
   ]
  },
  {
   "cell_type": "markdown",
   "metadata": {},
   "source": [
    "### Split Data into a Training and a Testing Set"
   ]
  },
  {
   "cell_type": "code",
   "execution_count": 24,
   "metadata": {},
   "outputs": [
    {
     "data": {
      "text/plain": [
       "import org.apache.spark.sql.DataFrame\n",
       "import org.apache.spark.sql.functions._\n",
       "train_test_split: (data: org.apache.spark.sql.DataFrame)(org.apache.spark.sql.Dataset[org.apache.spark.sql.Row], org.apache.spark.sql.Dataset[org.apache.spark.sql.Row])\n",
       "train: org.apache.spark.sql.Dataset[org.apache.spark.sql.Row] = [Price: double, MethodOfSale: int ... 12 more fields]\n",
       "test: org.apache.spark.sql.Dataset[org.apache.spark.sql.Row] = [Price: double, MethodOfSale: int ... 12 more fields]\n",
       "res12: test.type = [Price: double, MethodOfSale: int ... 12 more fields]\n"
      ]
     },
     "execution_count": 24,
     "metadata": {},
     "output_type": "execute_result"
    }
   ],
   "source": [
    "//define function to take a data frame and set training and test samples\n",
    "//stratafied sample on propertype type\n",
    "//original random sample may have been skewing the model\n",
    "//used propertype as the prices vary wildly based on the type \n",
    "\n",
    "//idea is split into training and testing - then stratify the training set so its balanced.\n",
    "\n",
    "//https://maet3608.github.io/nuts-ml/tutorial/split_stratify.html#id1\n",
    "\n",
    "import org.apache.spark.sql.DataFrame\n",
    "import org.apache.spark.sql.functions._\n",
    "\n",
    "\n",
    "def train_test_split(data: DataFrame) = {\n",
    "    \n",
    "    //split into 80% 20%\n",
    "    var Array(train, test) = data.randomSplit(Array(0.8, 0.2), seed = 30)\n",
    "    \n",
    "    //Stratified sampler\n",
    "    //want to over sample the other propertyTypes\n",
    "    val fractions = Map(1 -> 0.8,2 ->0.9, 3 -> 0.9)\n",
    "\n",
    "     train = train.stat.sampleBy(\"PropertyType\",fractions,36L)\n",
    "    \n",
    "    (train, test)\n",
    "}\n",
    "\n",
    "val (train, test) = train_test_split(df_clean)\n",
    "\n",
    "train.cache()\n",
    "test.cache()\n",
    "\n",
    "//debug sample counts\n",
    "//println(train.count())\n",
    "//println(test.count())"
   ]
  },
  {
   "cell_type": "markdown",
   "metadata": {},
   "source": [
    "### 1. Apply Linear Regression\n"
   ]
  },
  {
   "cell_type": "markdown",
   "metadata": {},
   "source": [
    "###  Useful Specs for this section \n",
    "\n",
    "Feel free to move to references i guess\n",
    "\n",
    "https://spark.apache.org/docs/latest/api/scala/index.html#org.apache.spark.ml.regression.LinearRegression\n",
    "\n",
    "https://spark.apache.org/docs/latest/api/scala/index.html#org.apache.spark.ml.tuning.ParamGridBuilder\n",
    "\n",
    "https://spark.apache.org/docs/latest/api/scala/index.html#org.apache.spark.ml.feature.FeatureHasher\n",
    "\n",
    "https://spark.apache.org/docs/latest/ml-classification-regression.html#linear-regression\n",
    "\n",
    "https://spark.apache.org/docs/latest/mllib-evaluation-metrics.html#regression-model-evaluation\n",
    "\n",
    "https://spark.apache.org/docs/1.6.2/api/java/org/apache/spark/sql/DataFrameStatFunctions.html#sampleBy(java.lang.String,%20java.util.Map,%20long)\n",
    "\n",
    "\n",
    "\n",
    "\n",
    "\n",
    "\n"
   ]
  },
  {
   "cell_type": "code",
   "execution_count": 25,
   "metadata": {
    "scrolled": true
   },
   "outputs": [
    {
     "data": {
      "text/plain": [
       "import org.apache.spark.ml.regression.LinearRegression\n",
       "import org.apache.spark.ml.evaluation.RegressionEvaluator\n",
       "import org.apache.spark.ml.tuning.{CrossValidator, ParamGridBuilder}\n",
       "import org.apache.spark.ml.param.ParamMap\n",
       "import org.apache.spark.ml.Pipeline\n"
      ]
     },
     "execution_count": 25,
     "metadata": {},
     "output_type": "execute_result"
    }
   ],
   "source": [
    "//imports for linear regression code in one spot\n",
    "//to be moved with other imports to start\n",
    "\n",
    "import org.apache.spark.ml.regression.LinearRegression\n",
    "import org.apache.spark.ml.evaluation.RegressionEvaluator\n",
    "import org.apache.spark.ml.tuning.{CrossValidator, ParamGridBuilder}\n",
    "import org.apache.spark.ml.param.ParamMap\n",
    "import org.apache.spark.ml.Pipeline"
   ]
  },
  {
   "cell_type": "code",
   "execution_count": 26,
   "metadata": {},
   "outputs": [
    {
     "data": {
      "text/plain": [
       "getExecutionTime: (start: Long, end: Long)Long\n"
      ]
     },
     "execution_count": 26,
     "metadata": {},
     "output_type": "execute_result"
    }
   ],
   "source": [
    "//function for getting execution time from start and end times\n",
    "def getExecutionTime(start: Long , end : Long) = {\n",
    "    val duration:Long = (end - start) / 1000\n",
    "    (duration)\n",
    "}"
   ]
  },
  {
   "cell_type": "markdown",
   "metadata": {},
   "source": [
    "### Run first LR model with default Params\n",
    "Assess the training set"
   ]
  },
  {
   "cell_type": "code",
   "execution_count": 27,
   "metadata": {
    "scrolled": true
   },
   "outputs": [
    {
     "name": "stdout",
     "output_type": "stream",
     "text": [
      "2020-06-07 06:32:33,248 WARN  [Thread-4] netlib.BLAS (BLAS.java:<clinit>(61)) - Failed to load implementation from: com.github.fommil.netlib.NativeSystemBLAS\n",
      "2020-06-07 06:32:33,249 WARN  [Thread-4] netlib.BLAS (BLAS.java:<clinit>(61)) - Failed to load implementation from: com.github.fommil.netlib.NativeRefBLAS\n"
     ]
    },
    {
     "name": "stdout",
     "output_type": "stream",
     "text": [
      "Coefficients: (262144,[23,38,54,85,200,209,238,240,246,403,441,457,507,508,510,562,589,603,629,651,706,709,845,894,943,950,1004,1025,1031,1059,1179,1249,1272,1340,1364,1372,1438,1512,1603,1750,1764,1815,1819,1867,1874,1972,2065,2079,2090,2158,2242,2284,2307,2354,2389,2398,2467,2476,2620,2630,2669,2695,2702,2760,2764,2807,2835,2933,2940,3036,3093,3101,3161,3187,3208,3298,3351,3380,3447,3556,3640,3667,3677,3735,3748,3817,3846,3849,3894,3963,3972,3987,4080,4093,4127,4157,4160,4223,4266,4278,4345,4381,4396,4397,4411,4447,4462,4496,4549,4566,4614,4652,4694,4780,4804,4843,4853,4878,4890,4914,4917,4960,5030,5125,5147,5154,5160,5166,5177,5196,5409,5417,5442,5510,5516,5540,5569,5632,5646,5700,5753,5777,5852,6144,6186,6204,6239,6349,6366,6453,6463,6484,6503,6509,6512,6637,6645,6701,6732,6756,6904,6943,6947,6951,6983,6998,7013,7116,7145,7210,7248,7265,7326,7329,7333,7369,7385,7393,7408,7458,7560,7564,7591,7612,7617,7634,7645,7665,7783,7785,7903,7916,7918,7968,7995,8039,8135,8154,8159,8177,8189,8234,8369,8419,8431,8497,8551,8614,8635,8656,8710,8716,8768,8811,8837,8911,8964,9114,9254,9358,9393,9460,9465,9476,9643,9760,9853,9905,9920,9928,9941,9981,10000,10025,10033,10085,10191,10353,10362,10409,10448,10473,10496,10545,10548,10769,10770,10772,10817,10912,11016,11051,11101,11108,11134,11147,11160,11186,11278,11282,11307,11373,11376,11404,11426,11459,11663,11681,11741,11770,11796,11840,11882,12009,12011,12021,12035,12045,12053,12102,12147,12197,12298,12338,12343,12455,12481,12534,12565,12628,12674,12707,12734,12749,12769,12773,12886,12904,12909,13034,13037,13059,13076,13079,13122,13138,13222,13266,13313,13328,13353,13362,13373,13392,13491,13504,13525,13554,13566,13742,13775,13941,13952,13984,14002,14003,14029,14207,14208,14275,14287,14450,14495,14505,14549,14739,14782,14808,14885,14938,14968,15021,15023,15051,15138,15140,15151,15231,15370,15436,15451,15456,15656,15691,15704,15741,15755,15756,15780,15802,15809,15822,15844,15888,15890,15935,15955,16017,16021,16069,16083,16115,16134,16137,16166,16198,16281,16301,16374,16378,16438,16484,16501,16611,16619,16657,16747,16800,16816,16853,16880,16881,16890,16930,16947,16978,17077,17134,17239,17271,17411,17415,17431,17450,17451,17565,17570,17859,17861,17864,17887,18064,18100,18188,18217,18263,18294,18297,18376,18553,18607,18751,18807,18850,18861,18870,18996,18998,19015,19090,19138,19207,19252,19282,19339,19450,19513,19524,19535,19623,19643,19648,19679,19709,19719,19829,19841,19866,19880,19996,20022,20172,20390,20523,20655,20667,20680,20694,20711,20779,20803,20915,20989,21033,21047,21070,21092,21128,21151,21160,21218,21238,21287,21302,21328,21375,21475,21501,21525,21527,21598,21599,21660,21702,21796,21813,21833,21883,21956,21978,21990,22056,22076,22124,22142,22146,22182,22230,22309,22327,22379,22398,22418,22445,22461,22583,22606,22695,22765,22766,22783,22865,22917,22923,22942,22981,23001,23002,23005,23009,23045,23094,23164,23174,23193,23315,23333,23560,23659,23665,23704,23714,23720,23762,23846,23855,23859,24007,24023,24048,24054,24092,24096,24228,24234,24274,24312,24344,24418,24423,24431,24438,24466,24485,24515,24541,24760,24785,24881,24890,24910,24916,24930,24973,24975,25002,25028,25087,25138,25243,25311,25405,25456,25539,25696,25706,25759,25870,25876,25896,25897,25918,25975,25990,25995,26044,26066,26105,26133,26162,26165,26214,26216,26241,26305,26306,26396,26445,26475,26541,26568,26608,26630,26675,26694,26697,26727,26733,26760,26766,26796,26842,26847,26872,26879,26902,27072,27092,27099,27127,27131,27207,27278,27292,27307,27327,27384,27385,27388,27454,27465,27560,27597,27731,27779,27903,27932,27974,27989,27992,27994,28056,28067,28104,28147,28234,28235,28267,28328,28363,28445,28458,28505,28540,28578,28761,28803,28804,28863,28916,28960,29033,29087,29090,29212,29253,29290,29331,29336,29380,29385,29542,29660,29728,29773,29869,29882,29884,29938,30015,30124,30165,30353,30411,30437,30479,30498,30501,30558,30565,30603,30678,30720,30728,30845,30876,30899,30922,31025,31063,31108,31111,31116,31154,31177,31237,31255,31256,31374,31394,31422,31431,31470,31472,31581,31602,31670,31733,31762,31771,31938,31974,32025,32070,32142,32157,32158,32177,32311,32343,32369,32440,32454,32458,32467,32494,32503,32509,32575,32624,32699,32725,32739,32764,32794,32897,32974,32995,33024,33085,33110,33126,33189,33217,33232,33238,33246,33258,33274,33278,33281,33305,33445,33544,33551,33659,33711,33768,33772,33800,33876,33960,33997,34044,34059,34066,34092,34098,34153,34288,34367,34400,34419,34457,34499,34580,34602,34615,34654,34715,34897,34922,34930,35005,35062,35143,35150,35199,35303,35308,35359,35413,35570,35583,35615,35702,35730,35761,35811,35891,36025,36031,36035,36048,36091,36157,36197,36258,36443,36465,36467,36653,36719,36771,36823,36844,36860,36938,37048,37096,37152,37224,37227,37279,37320,37385,37402,37444,37462,37482,37626,37638,37655,37754,37755,37773,37848,37879,37941,38035,38112,38148,38154,38157,38191,38226,38231,38256,38311,38351,38460,38591,38620,38624,38628,38718,38762,38781,38810,38830,38846,39006,39007,39023,39135,39347,39437,39441,39522,39539,39545,39612,39676,39680,39686,39699,39707,39855,39991,40011,40030,40126,40151,40188,40242,40293,40393,40403,40445,40518,40632,40671,40716,40742,40864,40879,40909,40949,40954,40982,41019,41028,41138,41171,41191,41241,41262,41264,41311,41332,41371,41478,41481,41548,41610,41658,41756,41777,41855,41888,41897,41981,42024,42061,42066,42124,42129,42142,42176,42342,42349,42437,42445,42506,42531,42638,42639,42660,42680,42712,42931,42942,42998,43018,43028,43060,43075,43079,43183,43217,43301,43315,43322,43334,43373,43381,43721,43744,43796,43842,43863,43898,43929,44076,44161,44193,44213,44239,44264,44379,44425,44504,44537,44641,44663,44675,44681,44684,44716,44738,44758,44810,44838,44864,44900,45054,45142,45230,45309,45425,45497,45499,45615,45625,45690,45702,45718,45733,45735,45761,45784,45803,45962,45981,46097,46146,46154,46178,46218,46221,46282,46303,46309,46407,46417,46467,46569,46616,46681,46720,46735,46786,46884,46904,46995,47019,47082,47134,47142,47172,47224,47231,47240,47252,47427,47463,47548,47758,47845,47851,47970,48019,48126,48197,48210,48230,48242,48475,48489,48508,48518,48571,48772,48818,48843,48883,48915,48931,49069,49137,49223,49307,49398,49416,49469,49519,49599,49716,49777,49787,49798,49815,49822,49823,49872,49901,49978,49993,50116,50121,50187,50260,50336,50365,50379,50490,50574,50644,50658,50722,50769,50807,50985,51063,51074,51114,51143,51250,51304,51327,51349,51401,51410,51414,51429,51446,51460,51475,51500,51517,51549,51611,51659,51880,51890,52031,52073,52154,52258,52328,52450,52473,52519,52680,52805,52851,52855,52858,52912,52917,52931,52937,53018,53025,53026,53035,53046,53127,53172,53188,53211,53307,53435,53449,53462,53466,53591,53644,53747,53762,53835,53846,53877,53936,53960,53998,54009,54031,54071,54209,54265,54316,54615,54662,54726,54762,54831,54869,54943,54999,55025,55107,55161,55173,55218,55247,55278,55338,55350,55377,55626,55806,55910,55971,55983,56116,56163,56241,56274,56314,56320,56380,56411,56424,56530,56571,56589,56613,56685,56734,56808,56901,56905,56912,57000,57026,57119,57182,57188,57233,57238,57247,57264,57443,57505,57591,57632,57665,57713,57842,57888,57959,57964,57970,57986,57990,58143,58145,58152,58163,58243,58290,58326,58514,58563,58630,58661,58668,58759,58985,59046,59086,59157,59217,59291,59309,59376,59494,59560,59589,59621,59653,59674,59694,59699,59754,59822,59856,59869,59894,59936,59945,59991,60017,60064,60093,60108,60168,60218,60223,60356,60362,60377,60385,60442,60556,60561,60585,60617,60708,60735,60840,60875,60989,61024,61050,61092,61095,61234,61319,61348,61354,61408,61472,61476,61561,61707,61724,61728,61777,61838,61843,61873,61929,61997,62002,62011,62058,62094,62179,62196,62213,62220,62225,62253,62256,62259,62302,62314,62356,62389,62409,62478,62501,62552,62574,62579,62588,62601,62627,62674,62742,62786,62794,62803,62808,62910,62916,62951,63007,63010,63016,63043,63069,63120,63134,63172,63253,63313,63356,63364,63487,63515,63602,63613,63662,63753,63756,63792,63812,63846,63855,63913,63933,63942,63977,64055,64080,64094,64095,64166,64243,64254,64274,64381,64503,64544,64605,64624,64645,64669,64695,64783,64835,64881,64938,64946,64986,65000,65031,65102,65160,65196,65253,65257,65275,65292,65295,65343,65354,65450,65500,65519,65577,65596,65620,65631,65678,65722,65745,65787,65814,65894,65913,65920,65924,65933,66024,66042,66070,66162,66203,66297,66360,66488,66552,66639,66655,66667,66722,66766,66791,66795,66840,66880,66919,66976,67102,67106,67196,67251,67269,67279,67395,67398,67399,67443,67452,67458,67460,67475,67700,67718,67828,67863,67874,67924,67939,67960,67969,68033,68107,68176,68193,68205,68209,68221,68229,68293,68307,68339,68340,68464,68492,68531,68579,68590,68639,68654,68667,68692,68743,68793,68802,68868,68927,68928,68948,69034,69149,69171,69172,69265,69293,69372,69511,69560,69565,69654,69661,69736,69739,69751,69810,69831,69832,69845,70064,70117,70217,70230,70233,70358,70359,70375,70390,70589,70744,70848,70851,70882,70928,71002,71029,71050,71148,71167,71219,71348,71372,71483,71494,71546,71591,71661,71755,71914,71928,71940,72032,72099,72152,72158,72218,72235,72473,72505,72602,72624,72631,72645,72704,72728,72733,72755,72794,72891,72910,72919,72973,72980,73010,73062,73175,73227,73408,73460,73501,73511,73515,73535,73572,73575,73577,73618,73628,73638,73708,73726,73932,73943,73977,74026,74085,74111,74114,74121,74142,74183,74226,74232,74235,74236,74263,74269,74281,74298,74337,74369,74375,74432,74553,74625,74775,74783,74786,75012,75082,75090,75140,75167,75258,75275,75292,75313,75443,75449,75470,75477,75714,75767,75830,75880,75890,75910,75982,76027,76079,76177,76243,76283,76299,76303,76312,76334,76350,76391,76402,76422,76492,76716,76719,76763,76841,76970,76987,76991,77127,77132,77163,77183,77208,77244,77295,77372,77470,77478,77482,77515,77574,77602,77605,77606,77616,77654,77722,77726,77783,77789,77790,77853,77953,77962,77985,78025,78107,78178,78230,78285,78399,78716,78777,78847,78899,78931,78972,79026,79048,79051,79056,79066,79228,79294,79326,79331,79338,79440,79526,79528,79600,79857,79874,79883,79888,80013,80078,80091,80234,80279,80292,80306,80353,80468,80527,80545,80600,80611,80723,80733,80837,80866,80898,80941,80980,81009,81025,81084,81092,81150,81229,81279,81317,81322,81403,81488,81506,81518,81561,81640,81655,81668,81676,81741,81749,81796,81824,81829,81855,81912,81969,82064,82102,82117,82266,82316,82356,82379,82467,82525,82552,82649,82651,82701,82708,82794,82829,82854,83012,83090,83194,83364,83480,83504,83538,83599,83604,83663,83679,83868,83906,83955,83978,83991,84013,84292,84324,84409,84455,84502,84618,84688,84701,84739,84882,84909,84913,84959,85003,85042,85075,85167,85251,85259,85262,85277,85374,85376,85425,85476,85487,85561,85563,85572,85574,85606,85636,85684,85689,85714,85734,85780,85821,85881,85961,86022,86131,86147,86168,86230,86255,86276,86295,86337,86341,86364,86412,86424,86446,86518,86611,86617,86651,86668,86720,86747,86755,86957,86961,86981,87003,87016,87044,87047,87079,87170,87249,87292,87367,87373,87418,87455,87456,87565,87576,87630,87634,87671,87701,87724,87790,87895,87995,88005,88009,88139,88141,88161,88195,88324,88410,88451,88453,88457,88485,88588,88651,88652,88668,88712,88762,88784,88839,88873,88912,89012,89110,89118,89202,89322,89335,89348,89349,89393,89415,89526,89622,89664,89823,89913,89922,90042,90175,90207,90220,90253,90290,90305,90343,90378,90484,90507,90515,90588,90645,90701,90796,90816,90846,90864,90874,90888,90901,90971,90977,91032,91148,91157,91333,91335,91341,91391,91428,91554,91621,91630,91687,91691,91735,91754,91846,91890,91973,92098,92113,92131,92140,92153,92175,92207,92209,92251,92256,92266,92282,92356,92379,92387,92453,92456,92484,92541,92588,92727,92873,92882,92918,92979,92983,93056,93062,93068,93098,93126,93135,93150,93203,93219,93281,93317,93374,93458,93464,93516,93528,93554,93587,93644,93682,93685,93752,93836,93865,93883,93967,94023,94025,94045,94098,94105,94111,94178,94320,94322,94391,94394,94429,94435,94444,94598,94673,94698,94729,94748,94764,94827,94839,94855,94859,94960,95019,95041,95131,95264,95276,95327,95339,95363,95386,95510,95548,95638,95676,95774,95794,95831,95870,95896,95934,96007,96138,96155,96339,96358,96381,96441,96461,96488,96542,96560,96579,96682,96712,96728,96790,96807,96914,97044,97094,97100,97185,97229,97261,97264,97316,97332,97389,97426,97509,97525,97551,97560,97573,97634,97653,97710,97797,97874,97902,97905,97949,98024,98074,98105,98162,98267,98311,98370,98373,98379,98385,98411,98413,98607,98633,98782,98790,98898,98952,99001,99219,99276,99485,99508,99656,99725,99737,99754,99789,99806,99844,99867,99990,100118,100190,100192,100245,100308,100309,100371,100412,100482,100580,100613,100687,100709,100752,100754,100829,100835,100868,101059,101075,101194,101208,101249,101277,101351,101507,101633,101741,101743,101806,101821,101824,101837,101877,101897,101926,102021,102098,102146,102182,102189,102239,102304,102312,102361,102367,102582,102584,102597,102710,102720,102764,102808,102869,102870,102922,103009,103013,103069,103182,103383,103418,103486,103637,103846,103907,103922,104001,104004,104164,104179,104186,104200,104365,104395,104505,104530,104551,104590,104679,104691,104695,104703,104843,104884,104898,104979,104990,105031,105050,105124,105171,105229,105270,105314,105451,105475,105482,105524,105540,105564,105623,105655,105665,105744,105746,105749,105795,105836,105894,105916,105927,105938,105989,106006,106079,106120,106128,106141,106191,106267,106416,106495,106519,106539,106608,106681,106732,106815,106842,106899,107185,107266,107367,107395,107473,107539,107542,107661,107694,107878,107949,107966,108016,108017,108027,108032,108174,108232,108260,108286,108298,108357,108369,108389,108395,108478,108525,108618,108620,108643,108841,108932,108987,109045,109116,109130,109141,109189,109190,109228,109272,109299,109429,109494,109585,109724,109734,109774,109785,110054,110063,110064,110106,110131,110201,110245,110304,110396,110406,110441,110496,110551,110584,110607,110612,110640,110664,110719,110803,110844,110862,110888,110907,110946,111036,111057,111090,111335,111338,111360,111502,111535,111554,111563,111616,111792,111801,111809,111829,111951,111980,112021,112066,112079,112117,112127,112128,112192,112227,112275,112285,112308,112365,112382,112408,112469,112474,112697,112703,112836,112847,112861,112919,112985,112986,113006,113022,113073,113149,113177,113211,113249,113291,113369,113403,113435,113526,113610,113633,113669,113682,113695,113762,113998,114014,114033,114051,114062,114188,114239,114481,114513,114524,114534,114553,114665,114714,114742,114770,114834,114844,114983,115082,115105,115145,115259,115281,115340,115348,115354,115361,115465,115586,115627,115690,115729,115732,115967,116019,116188,116200,116260,116263,116373,116489,116620,116678,116682,116724,116764,116842,116860,116905,116930,116979,116994,117042,117065,117102,117118,117166,117229,117263,117357,117366,117385,117461,117573,117635,117645,117680,117724,117966,117984,118006,118308,118411,118440,118468,118471,118485,118569,118649,118672,118728,118729,118765,118776,118785,118863,118969,118979,119017,119021,119124,119243,119255,119369,119477,119508,119549,119603,119665,119833,119836,119930,120143,120278,120382,120404,120421,120542,120555,120564,120582,120663,120665,120669,120744,120758,120801,120934,120935,121000,121039,121090,121167,121186,121189,121192,121193,121216,121288,121290,121378,121429,121507,121587,121589,121603,121628,121641,121679,121712,121729,121760,121768,121782,121784,121815,122008,122019,122045,122055,122113,122171,122188,122219,122245,122307,122368,122391,122448,122466,122473,122523,122547,122563,122571,122612,122613,122716,122787,122799,122893,122959,122988,122994,123064,123073,123107,123142,123159,123160,123169,123262,123382,123454,123485,123523,123534,123616,123630,123681,123700,123710,123750,123794,123813,123834,123911,124083,124119,124124,124152,124170,124278,124334,124392,124416,124424,124442,124486,124522,124536,124544,124572,124629,124644,124700,124706,124843,124872,124921,124930,124995,125016,125115,125169,125193,125332,125368,125454,125456,125528,125561,125661,125665,125671,125729,125914,125992,126036,126101,126168,126278,126327,126418,126446,126528,126631,126791,126832,126880,126951,127022,127062,127066,127080,127114,127165,127206,127223,127226,127249,127287,127358,127385,127396,127419,127428,127456,127459,127539,127556,127608,127625,127652,127665,127730,127743,127750,127757,127780,127785,127808,12"
     ]
    },
    {
     "name": "stdout",
     "output_type": "stream",
     "text": [
      "7845,127912,127951,127962,127971,127998,128024,128028,128109,128179,128214,128260,128290,128293,128338,128350,128371,128372,128373,128390,128442,128453,128559,128564,128770,128803,128884,128970,129035,129067,129071,129102,129105,129203,129336,129546,129559,129560,129811,129859,129938,129999,130078,130093,130147,130148,130173,130186,130230,130259,130286,130381,130423,130507,130510,130514,130521,130581,130688,130723,130785,130819,130877,130897,130903,130951,131012,131028,131101,131104,131229,131288,131457,131491,131516,131536,131566,131710,131722,131724,131736,131747,131795,131828,131850,131890,131905,131947,131965,131997,132007,132026,132102,132192,132275,132329,132335,132351,132370,132396,132437,132457,132528,132553,132586,132610,132668,132671,132689,132728,132776,132808,132882,132885,132902,132943,132985,132988,133007,133089,133091,133112,133199,133216,133218,133253,133254,133344,133361,133384,133391,133444,133462,133464,133469,133500,133526,133548,133598,133605,133877,133897,133956,134020,134060,134068,134069,134076,134161,134188,134197,134348,134383,134425,134436,134457,134557,134575,134576,134601,134662,134685,134703,134743,134771,134781,134785,134821,134890,134933,134995,135068,135071,135145,135174,135199,135237,135279,135293,135383,135468,135722,135742,135751,135758,135766,135776,135818,135850,135973,135976,136034,136043,136074,136102,136135,136145,136232,136256,136337,136377,136488,136490,136520,136572,136636,136666,136718,136730,136735,136788,136803,136810,136847,136852,136890,136926,137045,137111,137126,137139,137215,137227,137243,137278,137288,137343,137406,137477,137496,137507,137576,137587,137611,137631,137661,137748,137753,137754,137778,137792,137833,137962,138015,138030,138082,138145,138169,138179,138182,138212,138234,138301,138305,138348,138407,138456,138509,138521,138523,138526,138541,138562,138572,138583,138586,138641,138666,138708,138752,138792,138797,138874,138883,138892,138942,138955,138997,139091,139110,139151,139164,139168,139181,139189,139290,139327,139431,139490,139520,139581,139592,139715,139724,139774,139803,139836,139839,139882,139914,139942,139967,139999,140002,140100,140114,140124,140139,140184,140185,140238,140295,140345,140484,140508,140536,140573,140615,140627,140710,140731,140782,140824,140884,141041,141074,141079,141132,141168,141241,141349,141367,141455,141460,141529,141540,141570,141583,141627,141650,141674,141727,141738,141746,141828,141863,141895,141980,141996,142042,142194,142200,142253,142297,142312,142553,142597,142644,142670,142675,142743,142749,142836,142873,142879,143060,143065,143120,143135,143137,143140,143242,143310,143379,143451,143457,143764,143842,143934,144040,144092,144101,144154,144249,144282,144357,144374,144498,144501,144512,144516,144578,144605,144633,144705,144787,144792,144826,144829,144846,144939,144991,145002,145013,145026,145047,145073,145091,145102,145199,145214,145256,145265,145334,145384,145385,145519,145629,145665,145715,145836,145979,146056,146133,146205,146331,146481,146487,146596,146659,146664,146722,146749,146888,146896,146918,146928,147008,147209,147226,147248,147319,147453,147492,147503,147574,147606,147610,147611,147738,147746,147807,147851,147876,147965,148044,148079,148083,148154,148166,148169,148232,148292,148294,148298,148378,148389,148390,148447,148477,148526,148577,148636,148652,148705,148709,148721,148737,148738,148739,148898,148962,149088,149106,149169,149205,149212,149234,149241,149262,149308,149444,149504,149622,149667,149705,149714,149837,149898,149904,150054,150110,150122,150274,150303,150321,150351,150517,150525,150528,150572,150577,150587,150638,150663,150775,150906,150970,151010,151020,151041,151054,151066,151102,151216,151242,151243,151261,151276,151334,151376,151459,151512,151519,151524,151573,151601,151603,151655,151659,151679,151706,151738,151739,151763,151766,151810,151837,151839,151949,151978,151991,151995,152004,152066,152172,152211,152217,152250,152278,152300,152323,152328,152381,152460,152496,152675,152709,152739,152754,152811,152836,152857,152874,152907,152930,153049,153091,153094,153108,153129,153143,153214,153256,153268,153288,153338,153398,153447,153474,153646,153673,153732,153762,153764,153773,153889,153951,154138,154215,154230,154284,154359,154369,154373,154380,154446,154498,154502,154538,154540,154552,154587,154643,154656,154678,154687,154688,154711,154732,154860,154881,154926,154949,155019,155072,155088,155094,155160,155264,155341,155424,155426,155431,155577,155772,155861,155886,155909,156008,156019,156032,156063,156162,156164,156175,156200,156213,156253,156289,156301,156324,156337,156347,156355,156362,156390,156582,156618,156641,156694,156708,156754,156784,156882,156943,157033,157081,157099,157186,157324,157361,157538,157637,157707,157714,157750,157787,157797,157818,157842,157847,158021,158137,158216,158318,158346,158437,158488,158586,158669,158715,158733,158735,158837,158957,158989,159052,159057,159138,159155,159181,159188,159236,159277,159284,159369,159374,159435,159665,159666,159821,159835,159854,159861,159986,160100,160106,160120,160137,160152,160160,160220,160275,160288,160338,160355,160368,160376,160425,160447,160494,160525,160696,160710,160798,160817,160941,161258,161272,161325,161341,161476,161504,161588,161589,161619,161644,161648,161696,161712,161886,161919,161923,162010,162085,162103,162106,162113,162250,162275,162297,162330,162387,162441,162469,162589,162609,162617,162634,162729,162755,162763,162997,163001,163068,163098,163114,163350,163418,163520,163527,163554,163558,163652,163669,163671,163674,163693,163722,163846,163854,163914,163937,163970,164207,164270,164315,164344,164356,164362,164372,164418,164481,164496,164517,164562,164607,164622,164655,164676,164687,164816,164881,164979,164993,165121,165294,165355,165390,165510,165545,165648,165693,165742,165762,165805,165817,165829,165838,165871,165875,165886,165937,165971,165973,165994,166011,166042,166085,166102,166147,166327,166349,166397,166398,166422,166456,166523,166529,166531,166553,166560,166637,166643,166693,166728,166754,166898,166912,166971,166978,167002,167009,167013,167029,167039,167074,167161,167165,167242,167285,167365,167400,167449,167496,167521,167557,167564,167569,167584,167606,167637,167727,167747,167767,167793,167831,167932,167951,167996,168017,168057,168076,168150,168178,168292,168421,168433,168469,168502,168520,168526,168609,168673,168686,168722,168764,168837,168872,168898,168906,168937,169056,169075,169124,169136,169160,169161,169168,169193,169212,169288,169300,169397,169427,169602,169645,169757,169769,169893,169947,169954,169957,170005,170052,170117,170136,170265,170273,170286,170288,170304,170312,170363,170368,170445,170479,170553,170608,170657,170691,170834,170917,170924,170970,170978,171002,171024,171056,171116,171139,171186,171193,171210,171237,171248,171251,171252,171384,171386,171530,171546,171551,171605,171613,171625,171702,171748,171756,171759,171797,171928,171935,172046,172054,172056,172092,172128,172145,172146,172188,172254,172297,172339,172421,172453,172463,172467,172560,172624,172676,172827,172869,172963,173005,173050,173091,173176,173180,173188,173311,173375,173484,173547,173667,173727,173816,173834,173873,173874,173879,174028,174061,174081,174134,174203,174210,174281,174305,174317,174319,174367,174385,174448,174453,174471,174551,174619,174668,174672,174679,174751,174768,174788,174947,174953,174955,174960,174991,174996,175053,175110,175127,175133,175243,175269,175298,175322,175357,175367,175442,175502,175543,175560,175575,175624,176028,176058,176134,176152,176158,176207,176222,176224,176388,176401,176428,176475,176481,176616,176624,176683,176704,176875,176975,177006,177107,177133,177276,177310,177319,177359,177415,177480,177483,177511,177533,177603,177731,177756,177762,177787,177869,177966,177988,178074,178081,178120,178176,178179,178315,178386,178400,178412,178413,178489,178497,178523,178534,178544,178548,178786,178823,178855,178929,178958,178992,179005,179130,179145,179228,179382,179394,179478,179551,179692,179744,179751,179793,179799,179814,179999,180013,180016,180110,180135,180217,180225,180281,180329,180472,180487,180565,180566,180654,180737,180776,180829,180943,180972,180996,181026,181037,181082,181100,181111,181134,181199,181272,181317,181354,181363,181404,181654,181666,181705,181829,181856,181894,181913,181943,182314,182335,182345,182419,182441,182471,182559,182721,182927,182994,183006,183025,183050,183072,183115,183121,183203,183306,183334,183403,183419,183440,183467,183476,183547,183615,183655,183687,183690,183712,183780,183808,183864,183866,183951,183961,183994,184022,184047,184073,184170,184342,184471,184475,184513,184541,184606,184649,184660,184796,184837,184882,184915,184937,184976,184980,184997,185050,185084,185206,185207,185352,185380,185382,185391,185427,185440,185468,185477,185593,185621,185652,185706,185721,185746,185749,185853,185899,185992,186066,186107,186119,186158,186191,186280,186327,186407,186490,186575,186640,186698,186713,186762,186809,186874,186887,186913,186952,187028,187068,187122,187135,187205,187230,187237,187245,187286,187299,187313,187388,187503,187622,187647,187693,187826,187864,188040,188128,188133,188151,188170,188334,188357,188425,188436,188449,188483,188490,188604,188630,188663,188678,188748,188780,188805,188808,188825,188864,188927,189093,189096,189121,189208,189271,189286,189291,189376,189387,189450,189459,189502,189543,189608,189648,189717,189723,189837,189855,189882,189909,189956,189993,190039,190217,190302,190320,190433,190437,190481,190579,190586,190636,190699,190711,190778,190783,190928,190937,190952,191115,191151,191176,191192,191228,191290,191358,191363,191422,191479,191519,191557,191607,191699,191755,191785,191810,191823,191860,191864,191930,191944,192095,192105,192167,192243,192274,192333,192341,192419,192435,192441,192455,192460,192481,192508,192637,192769,192772,192812,192955,192976,192985,193012,193119,193161,193166,193180,193216,193252,193364,193366,193368,193438,193587,193719,193725,193730,193746,193810,194095,194157,194202,194264,194314,194322,194323,194400,194434,194442,194763,194767,194805,194877,194899,194911,194915,194927,194961,194975,194981,195112,195269,195405,195430,195433,195466,195470,195521,195667,195672,195721,195773,195785,196002,196062,196133,196145,196190,196194,196326,196418,196516,196523,196591,196673,196675,196776,196832,196927,196941,196970,196976,197005,197081,197090,197208,197289,197355,197360,197406,197421,197493,197500,197548,197631,197642,197780,197808,197906,197954,197995,198048,198112,198126,198138,198305,198311,198370,198376,198390,198524,198597,198675,198685,198770,198863,198884,198936,198974,199048,199076,199162,199177,199243,199261,199273,199286,199393,199436,199515,199545,199560,199635,199648,199797,199814,199855,199921,200000,200087,200110,200154,200156,200177,200189,200268,200390,200419,200547,200625,200704,200729,200760,200788,200821,200857,200901,201003,201012,201031,201083,201088,201100,201105,201128,201138,201237,201292,201463,201502,201517,201532,201550,201573,201574,201582,201952,202096,202105,202184,202195,202238,202240,202253,202301,202306,202392,202428,202452,202501,202505,202719,202777,202915,202990,203036,203099,203134,203165,203218,203222,203255,203268,203284,203356,203360,203397,203422,203433,203535,203536,203567,203572,203599,203658,203674,203677,203707,203790,203797,203800,203805,203845,203936,204035,204052,204182,204213,204279,204293,204305,204318,204406,204420,204498,204591,204609,204721,204723,204747,204818,204863,204877,204899,204902,204917,205050,205058,205067,205083,205099,205124,205162,205176,205185,205237,205255,205270,205302,205305,205317,205320,205329,205340,205441,205491,205500,205507,205582,205605,205711,205796,205938,205943,205959,206062,206074,206093,206096,206164,206186,206204,206211,206255,206277,206323,206347,206377,206380,206397,206500,206520,206566,206570,206595,206602,206637,206642,206673,206694,206708,206759,206778,206832,206857,206872,206992,207004,207172,207209,207213,207254,207441,207442,207479,207503,207512,207739,207751,207752,207759,207790,207867,207931,208090,208153,208203,208273,208334,208376,208380,208384,208389,208446,208484,208504,208592,208678,208720,208733,208780,208816,208881,208911,208983,209017,209217,209240,209274,209281,209297,209299,209443,209455,209456,209521,209612,209685,209686,209726,209747,209749,209758,209841,209846,209855,209894,209982,210004,210088,210103,210297,210349,210378,210488,210551,210589,210619,210719,210736,210738,210758,210816,210880,210912,210970,211052,211084,211086,211098,211135,211200,211299,211313,211342,211354,211377,211390,211541,211622,211642,211677,211681,211718,211791,211842,211863,211950,211997,212033,212053,212127,212168,212241,212265,212394,212485,212533,212573,212614,212709,212720,212730,212789,212800,212809,212915,212934,212938,213185,213262,213275,213315,213366,213368,213406,213526,213538,213587,213691,213695,213808,213816,213830,213866,213873,213874,213986,214003,214018,214024,214101,214210,214218,214240,214258,214317,214358,214379,214431,214453,214491,214554,214664,214695,214752,214917,214974,214978,214983,215031,215044,215144,215282,215304,215390,215485,215637,215666,215670,215691,215795,215943,216031,216080,216162,216170,216195,216197,216239,216240,216314,216333,216397,216444,216467,216498,216515,216527,216671,216692,216711,216855,216877,217003,217020,217031,217060,217064,217115,217176,217178,217228,217275,217324,217353,217355,217381,217432,217467,217502,217510,217551,217581,217584,217695,217702,217854,217896,218006,218058,218095,218099,218105,218199,218234,218297,218314,218320,218389,218474,218569,218590,218611,218711,218915,218922,218937,218963,219088,219097,219268,219304,219345,219716,219725,219817,219869,219880,219938,219997,220018,220050,220092,220177,220182,220262,220270,220302,220320,220323,220391,220481,220534,220574,220627,220679,220687,220802,220903,220927,220974,221029,221030,221031,221047,221149,221181,221217,221224,221238,221256,221308,221344,221370,221461,221468,221662,221695,221778,221847,221915,221941,221993,222014,222108,222183,222270,222278,222358,222393,222501,222521,222553,222573,222602,222733,222756,222840,222958,222974,222992,223011,223057,223078,223201,223379,223402,223403,223412,223572,223712,224123,224154,224155,224258,224282,224418,224427,224566,224576,224586,224605,224638,224645,224663,224689,224690,224749,224787,224810,225012,225103,225136,225152,225206,225240,225278,225371,225394,225446,225487,225553,225600,225612,225689,225736,225799,225808,225891,225934,226024,226030,226064,226149,226151,226170,226277,226362,226374,226405,226468,226501,226509,226530,226589,226614,226645,226793,226795,226809,226848,226874,226904,226980,227024,227043,227046,227055,227140,227143,227203,227257,227337,227363,227457,227493,227595,227665,227799,227856,227878,227883,227919,227943,227954,228052,228061,228115,228147,228163,228213,228386,228427,228499,228515,228548,228587,228696,228841,228898,228930,229004,229081,229083,229121,229178,229311,229345,229388,229523,229545,229579,229581,229597,229729,229748,229754,229791,229838,229857,229917,229926,229979,230003,230081,230134,230237,230263,230273,230371,230376,230539,230601,230636,230649,230659,230668,230671,230686,230743,230768,231077,231099,231109,231162,231164,231225,231303,231322,231325,231510,231540,231553,231563,231568,231590,231726,231741,231755,231785,231844,231847,231860,231895,231897,231925,232067,232071,232141,232149,232155,232211,232222,232325,232386,232407,232437,232596,232604,232646,232658,232673,232727,232778,232787,232860,232883,232893,232985,233010,233096,233116,233149,233155,233173,233250,233275,233285,233287,233331,233560,233567,233591,233595,233755,233779,233811,233825,233941,233955,234002,234021,234077,234113,234127,234161,234231,234251,234268,234286,234341,234351,234377,234389,234397,234431,234436,234509,234588,234623,234689,234711,234744,234908,234926,234953,235071,235140,235224,235270,235282,235349,235400,235402,235492,235545,235665,235800,235803,235810,235864,235887,235908,235917,235936,235956,235971,235985,235988,236074,236100,236254,236327,236566,236587,236612,236644,236708,236750,236775,236811,236905,236963,236982,237151,237153,237185,237254,237357,237412,237521,237538,237644,237705,237734,237742,237761,237851,237944,237987,238070,238112,238116,238129,238160,238290,238310,238404,238425,238449,238522,238541,238572,238660,238795,238798,238821,238944,238971,238976,238986,239149,239201,239202,239221,239276,239388,239440"
     ]
    },
    {
     "name": "stdout",
     "output_type": "stream",
     "text": [
      ",239452,239498,239501,239509,239519,239586,239590,239681,239727,239770,239886,239892,239936,240028,240054,240190,240218,240301,240325,240386,240419,240434,240468,240616,240632,240633,240661,240684,240727,240732,240749,240841,240883,240906,240912,240922,241010,241108,241246,241254,241255,241301,241374,241432,241480,241492,241572,241588,241611,241687,241728,241753,241788,241863,241889,241964,241995,242079,242089,242106,242126,242127,242129,242156,242222,242244,242252,242282,242283,242328,242340,242343,242367,242399,242427,242470,242508,242514,242557,242589,242713,242819,242852,243009,243060,243074,243105,243126,243133,243162,243164,243222,243235,243244,243367,243405,243472,243522,243534,243545,243793,243799,243801,243810,243839,243843,243860,243965,243976,243983,243992,244051,244056,244072,244103,244123,244140,244154,244200,244207,244252,244328,244338,244352,244357,244389,244431,244449,244460,244468,244479,244517,244561,244574,244577,244581,244583,244622,244627,244639,244642,244691,244786,244830,244831,244899,244938,244985,245160,245219,245221,245379,245454,245458,245478,245523,245600,245630,245716,245738,245777,245872,245964,245997,246092,246132,246175,246217,246514,246561,246704,246716,246787,246853,246897,246938,247060,247108,247175,247179,247203,247209,247577,247659,247712,247759,247766,247815,247855,247860,247886,247918,248036,248037,248038,248086,248100,248106,248150,248151,248203,248217,248227,248293,248330,248361,248368,248372,248373,248420,248486,248698,248797,248900,248932,248939,248953,248976,249022,249049,249099,249108,249152,249194,249196,249213,249230,249244,249300,249342,249386,249403,249552,249589,249619,249638,249744,249816,249839,249842,249900,249920,249934,250122,250147,250409,250410,250480,250515,250564,250763,250764,250793,250887,250907,250936,250999,251070,251180,251327,251341,251351,251374,251443,251444,251451,251465,251791,251800,251807,251890,251944,251952,251958,251978,251996,252047,252163,252171,252227,252243,252261,252269,252356,252385,252513,252563,252616,252643,252661,252666,252673,252696,252710,252815,252930,253082,253095,253105,253117,253159,253182,253247,253509,253674,253701,253753,253847,253933,253960,253961,254065,254076,254103,254115,254203,254248,254266,254313,254330,254335,254362,254427,254577,254732,254763,254868,254967,254972,255061,255094,255096,255191,255208,255211,255352,255399,255434,255609,255665,255667,255758,255839,255849,255983,256022,256050,256055,256092,256106,256121,256125,256266,256267,256359,256461,256481,256498,256563,256571,256776,256782,256809,256812,256850,256879,256881,256898,256934,256953,256966,257022,257023,257067,257149,257168,257253,257371,257393,257449,257512,257589,257715,257732,257842,257868,257927,257933,258011,258261,258305,258336,258373,258437,258478,258569,258589,258717,258741,258773,258829,258846,258897,258927,259007,259068,259112,259158,259232,259288,259458,259461,259563,259602,259635,259668,259824,259999,260003,260034,260081,260123,260136,260160,260213,260280,260304,260314,260333,260365,260384,260498,260505,260548,260612,260624,260634,260660,260702,260769,260784,260825,260864,260892,260962,260964,260971,260987,260995,261010,261041,261101,261201,261205,261326,261438,261458,261565,261613,261617,261628,261643,261662,261691,261723,261727,261742,261775,261794,261984,262017,262053,262108,262126],[-0.13484641256932303,-0.16158089677168186,0.10550872338435612,-0.04485911229386871,-0.4209996456471817,0.11476875043978788,0.06178897625737116,-0.014832884826871827,-0.2674569779117672,-0.16777844691394223,-0.324633420804628,-0.2697616771609318,-0.25611344024982735,0.14905668639848005,0.21842246427954873,0.3997387225801144,0.16145550788251337,-0.0030932774316056624,0.16808836114287243,0.10548599589814099,-0.33562440034328384,-0.5222694225137873,-0.10944192181111582,-0.5110594488020441,0.2954954164009054,-0.232356384396153,0.22064686154045654,-0.16978642945457065,-0.09927939742005618,-0.3841275884345391,-0.09190313519944579,-0.19245597726333474,-3.5667657601671674E-4,-0.0118604770303199,-0.1490571677529587,-0.315450679739493,-0.11207883469556473,-0.10542561147903928,-0.14059327951146422,0.23484658523005672,-0.1483653288393545,0.30292235323971384,-0.3845843790881463,0.033948169671174463,0.05007070785684423,-0.3977323734730909,0.019876786940068995,0.13915545888201047,-0.20434004954702453,0.02172401412450646,0.06509906054772074,0.3075326437190096,-0.07034100119434039,-0.2581291599640101,-0.019889414673574333,0.9230089538193819,0.5972853825157329,-0.12386829492764885,0.03655109144453086,0.1617069591353985,-0.006874446794536014,-0.05096612689002027,-0.3355985474636232,-0.018560824696626146,0.024286679769108283,0.007406225703499969,-0.18594758270577652,-0.2630541770039254,0.1435072832185318,0.23681343462504417,0.011195622351355412,-0.2828275100840295,-0.0356369635980444,-0.2939387794830754,-0.14213663118377265,-0.05138176469536447,-0.07647560032871951,-0.31989245757060625,-0.008255338945299494,0.04087545998542122,-0.336996451915373,-0.002157525811458664,-0.09372725090696685,0.33056476873517515,0.13148903719162278,-0.044640838939347595,0.4605219506161485,0.032567914504654925,-0.08676336654145426,-0.4807229837436728,-0.08149393034700744,0.03430098821248843,-0.03027589097503871,0.09780580982734886,0.0161136089029752,0.18360397001835915,-0.22926930809263737,0.017132021222833745,0.3152019583529541,0.010638054128103367,0.1579271168145447,-0.16871914626202766,-0.019065964689702966,-0.2881908813017747,-0.17449986235476092,0.42688179702469436,-0.3646529991752812,0.020867364913550946,-0.046130937084435976,0.03290099891424659,-0.4511199141190811,-0.027567761359581455,0.1282795644349708,-0.29776901090057956,-0.06771084096288237,-0.24282898384322643,0.30314939048784184,-0.0018105188835826223,0.014859278251256965,0.08383543833797003,0.22734574500540836,0.0025675446925628198,-0.2710208075523845,-0.004406465188673478,-0.06378014081092251,8.709568456781167E-4,-0.2926152098596523,-0.12126767922438085,-0.13788095269200093,-0.3554620264547045,0.39216702824457067,-0.094527187155687,-0.12658728229330932,-0.1819170328779274,-0.33115167045068417,-0.14547067809237288,-0.01913215736514553,0.3999458055764998,-0.4845334329175511,-0.10041470077958413,0.09955210298790376,-0.3536906198766677,-0.053926803701697584,0.29298469773777486,-0.30134462273419227,-0.15773408728566699,-0.14908317503498414,-0.12883493274523677,-0.0832740043154125,-0.26675979680239137,-0.07720614901576474,-0.14559914386930273,0.019968072680706207,0.07750573911648846,0.13953758377484088,0.02643299632481409,0.07151681924516196,-0.02813660157325217,-0.0036594303399360875,-0.07332226008233075,-0.2346891585498606,-0.03137643211750716,0.33951094345932853,0.010563953759756826,-0.33429014567352316,-0.05232990705696719,-0.2191138003389579,-0.5874979915561791,-0.08961784699524274,0.01863579932556561,-0.0071334121787993785,-0.08829330610860413,-0.19382455895583622,-0.23174447127691133,0.06577467520410572,0.19612116162620907,-0.0073113410752461165,-0.215852723640625,0.028482513371210154,-0.284312517063193,-0.3946731131224704,-0.055799953472734205,-0.2232611025067224,-0.05884690444539306,0.08684011903789716,-0.05346315532348757,-0.2056600463725296,0.05807283436631633,0.01824963677364851,0.01625246821495619,0.040852953632477804,0.08516819090990535,0.18229901853485514,-0.06848270460458133,0.21815962207049833,0.2343991393750544,-0.15204569500623355,-0.06425595278709992,-0.4164908160500663,-0.08809000227865611,0.2362951119058864,-0.048979785496448866,-0.3182550955565082,-0.3456583168462289,0.24628994447830097,-0.10451947699115645,-0.03170571578326389,0.12374978141607673,-0.1023919886263987,0.01313332406885994,0.21458879669371092,-0.14606796856163032,-0.3249694689873892,0.18206686851104403,-0.2223379694837983,0.14193740909022035,-0.0017481918079228964,-0.15971240742439027,-0.02890184600005607,0.03786922676740372,-0.3095595260367729,-0.19267640920858786,-0.2530304878501526,0.1610124351921438,0.23681343462504417,-0.06651834828780057,-0.404384005389139,0.06941099211025827,-0.06187445372757968,-0.03422751629828216,-0.09231040743668688,-0.543692157150024,0.08828439912513227,-0.5615195732174345,-0.2429199761704129,0.08930219123984821,-0.6031756062507302,-0.08200996566631243,-0.1506956641792375,-0.05438474526343435,-0.21964973978428176,-0.3021207511048609,-0.4984713439907583,-0.01422624461364549,0.41994217454316823,0.15272285433743182,0.035840372501401874,-0.19439750501195857,-0.24233548433629135,-0.03816293353880971,-0.1850142003086508,-0.07280464391401399,-0.10597713232369751,0.1651261776275633,-0.0836657924031476,-0.10942117135420781,0.03213792710242821,-0.01831110275226389,0.06987702971710812,0.3082920027667614,-0.04497770812812994,-0.1334425751277522,-0.24977042151734605,-0.10790811531109264,-0.30455551357305277,-0.18447675936309785,-0.3081747919122909,0.14765167408603702,-0.2582033994520938,0.18553536764959114,-0.4599951686465003,0.2958150909921883,-0.05532420939201945,0.0974557640084647,-0.18127136362489973,0.049911843910515744,-0.2150127048556669,-0.11009029168014242,-0.13740140563803754,-0.5869098389129186,0.004081087762245763,0.04637564132160052,-0.06445323289356607,0.29723998101121835,-0.0350597165513188,-0.07059788212396664,0.03033378510805272,-0.3709422586454382,-0.21909171830336668,0.15117180583714823,0.8707202599044847,0.013017052382925056,-0.29761364539929763,0.20966379456084333,0.4398751690034975,0.22323649622501734,-0.12420115053276892,-0.42391998616067406,-0.12879180473744484,0.09545595267631968,0.6149218048646639,-0.09399009948187559,-0.4027509015357399,0.6462452572473726,-0.4597721281316788,0.2150616532235024,-0.6314725801137363,0.49399637696550774,0.04193790223201077,-0.17966064612300534,-0.18325239238848157,-0.23399004783060515,-0.2984578296292226,-0.18715450548126905,-1.1509321910843278,0.18219396467903426,-0.0700528235990976,-0.10924587772132206,0.16306026247654754,-0.08715271775795753,-0.3515125448124215,-0.4927192438523274,0.04600496895911175,0.003996247483056804,0.7359540732376645,-0.1770780076075209,-0.2086262185929493,-0.09954225258068013,0.44307642677723036,-0.20150871712140941,0.08486000119496798,-0.5504812482732648,-0.513511680781636,-0.15627371316015207,-0.22178081912255762,0.05376929308899032,-0.1319375103013143,-0.29988181878628817,-0.18454353760899112,-0.5539838697060461,-0.28244454606698266,0.03297328663691436,-0.42072806558419806,-0.14069615704621669,-0.2872932557378693,0.0011911593201864403,-0.16483805621824082,-0.025343316803105566,0.045747750594889024,-0.1669096892565612,0.07887364691810356,-9.701101381266016E-4,0.04091975407478434,-0.7037420987994537,8.08430513092131E-4,0.11860738728851497,0.03128838856002199,0.11297925542989651,0.031123068902391783,-0.030394027504967034,-0.27222566024734807,-0.34170555665773195,0.14270333942282268,0.06176827447202463,-0.35536440021330046,-0.13319293724090564,0.023315918589163563,0.15697396229724336,-0.2903772631033078,0.07447798061071818,0.02778981170827408,0.20485531907382118,0.11153873202308771,-0.15888722504422909,-0.21259835236595676,-0.23891546892409954,-0.08243417495679253,-0.02578097709756856,0.348447933879104,-0.2397113197343845,0.5656605635766316,0.02104452319057425,0.5186014247578834,0.2293847902404779,0.08456073139938285,-0.014352305388104803,0.17818489754397127,-0.031049152308503154,0.12706931306639907,-0.08560456346960078,0.08461073863268022,-0.055319491029926116,-0.0045058240802655315,-0.02782352376974945,0.19970288665857902,-0.016915426628044676,-0.04117513430503624,0.029432276118031803,0.14196495894337607,-0.23716186193703032,0.4051417691920575,-0.19808137385879973,-0.4816961605322536,0.1887988803015176,0.3070659322756144,-0.148561558538373,-0.109756647306605,-0.024214687946319664,0.22623158890264106,0.0016228829021213084,-0.2423696699497058,-0.038428412389180794,0.4475530546365028,0.577273456320217,0.21735705591333623,-0.18034905613909105,-0.11489765489069376,-0.4127259628581504,-0.30239754332044194,-0.29095328103215967,0.40660756608881254,0.2769014696222683,0.12303220366147477,-0.13750956022398625,0.05759386676996959,0.15710267892270433,-0.07624298242648564,-0.14811950797473883,-0.16119341623384115,-0.15998983727056101,-0.05666457785876515,-0.29619173357306566,0.014947763103104915,-0.20665532967350933,-0.6485967915927523,-0.4526549925504636,0.2596007693260864,0.05273951689622013,-0.38968040688121236,-0.049613175357312064,-0.169988063756305,-0.05506607508176831,0.023354348768649922,-0.03464042881720646,-0.08317857908947943,-0.3201625023406206,-0.03146558304417059,-0.2650245472129277,-0.2740799344051081,0.2618003601687372,0.29691064793064187,-0.4893948305699184,0.010176078286355663,-0.20320349689273423,0.013768602521194613,-0.12571059724814587,-0.16799583104248242,0.05299393547732817,-0.04948629959289554,-0.09563395055083067,-0.5789601995191545,0.015337106959309326,-0.22280825713556357,-0.30368121169817613,-0.23452534325728777,-0.24507558972285184,-0.29609249033856444,0.036270494908492455,0.07948353367801068,0.15969981349426726,0.2598960201211411,0.09879629462449828,-0.08563944750371075,-0.21865395446557104,-0.07491009163635402,-0.8111621597301163,-0.08484190741208973,0.19601633006318225,-0.21165750751777557,0.08203000196768437,0.04196971185198477,-0.027999220058181878,-0.12490985875616793,-0.21502985413364234,0.024256201282599314,-0.12322005506037774,0.15650769293721462,0.3853979225762053,-0.08170394709665088,-0.02401558271176787,-0.16419258715742663,-0.05315374076659802,0.3318615141723609,0.007294062209664585,0.1577081890498149,-0.26193668248442287,0.05672023050906688,-0.15132863995663873,-0.41068188399753597,-0.43170983093132625,0.0882070322467559,0.06361316289776084,-0.054160540437374775,-0.1882325625054188,0.04596467851918172,-0.1292764116382783,-0.05370872988839917,-0.1500169723171139,-0.04793000147549991,-0.5058342738009065,-0.01705928929285307,0.09599395164126104,-0.24077657594293034,-0.2732478090268832,0.2496539845602113,0.16651669731264807,-0.3037007035237109,-0.0056392789043896874,-0.45836828510186706,-0.0859768884236935,0.24995777830078933,-0.07828821973510397,-0.4171294583289085,0.014615699216563853,-0.23150087981211634,-0.2373034141828322,0.07781604434990398,0.28962423002009113,-0.09296862152976751,-0.392243221953217,-0.1906974718156795,-0.2889227929516475,-0.057085877588701484,-0.1495617088033313,0.09277879403191329,0.05690262242909125,-0.2934932806609516,-0.02544446489785725,0.17348466741632443,-0.10458671814952385,0.14388951098407116,0.10268500243855846,-0.4090254824740002,-0.06000266069230925,0.07396969758946359,-0.008814213400263093,0.10429469583763466,0.09894564500709514,0.5051066138968447,0.07858781465306308,-0.23876880809962253,-0.12365437607804527,-0.0468559390236392,0.1312399396819081,-0.24974634981995636,-0.029062520639617267,-0.10312249080016518,-0.019943326779492142,-0.19038328947504327,-0.035079786489751456,-0.34952598394726364,-0.33304626174479274,0.3940985270188728,-0.47563931946655574,0.12672947171449836,0.3042106770440092,0.1864299219302466,-0.2602611675277755,0.08575128161868163,0.043363083125185026,0.044450500486514374,-0.10908240695721905,-1.2420451869419362,-0.2036672609113963,0.028779633653984622,0.01538511889968051,0.06083599180764675,-0.37451983570326863,0.19613482689773928,-0.068532247415563,-0.10595915559954618,0.06466177062091567,0.023043655650990143,-0.1082644348132695,-0.11480718848710643,-0.14770767994138148,-0.18892011314240584,0.12382437270371974,-0.08983104117307206,-0.14303155410330304,-0.12787164474269017,-0.6321112473878558,0.007469635487743999,-0.4545367873114338,0.0755413345928493,0.0032377806445968455,-0.22143479106268235,0.009003198062519643,0.24035953808846444,-0.43343046407755076,0.007550634826149992,-0.1910102475375997,-0.32096901004551237,-0.19560829766532734,-0.09589079167830825,-0.20753235625352873,-0.16844583734002483,-0.1782803476245033,-0.2090595763407112,-0.025213355261284886,0.004031997620887749,-0.05689027844419706,-0.07388069872854516,0.05903591313338782,-0.13527879339566024,-0.2774406881441325,-0.005105908961146536,0.1206830569526732,-0.3325568461512954,-0.09711810769604973,-0.18009838443352733,-0.00724279359642852,0.40837267510846503,-0.5868055953690473,0.1492594283763623,-0.18109830535053326,-0.11684803985566235,0.08515133004951143,-0.23201102893765202,0.3626291220500664,-0.021642504419396694,0.0520685336898077,0.05612546123745357,0.2407711808350617,-0.021941344383473747,0.02318687525094932,0.2373798721985798,-0.06681964627671999,-0.20595504"
     ]
    },
    {
     "name": "stdout",
     "output_type": "stream",
     "text": [
      "843429585,0.2436920042241641,0.08565771248146549,-0.36141817935519516,-0.12936352474152105,-0.37571717462905235,-0.1802780732035565,-0.11515137937799053,0.0059599408085807565,0.020018311106202998,-0.13798126287725634,-0.16049332719724355,-0.09803331274278712,-0.05615736058840277,-0.0183801164097689,-0.04411057204599402,0.47681061847998807,-0.12165205028657693,0.27910629112808066,0.10483517107303063,-0.344800489234554,-0.15179967976635397,0.007325956681178718,-0.08440592587022525,-0.016466398009353,-0.29278779824533346,0.10472053508857544,-0.28937247874472144,-0.11098723448429827,-0.21270377293207382,0.0740862250086087,-0.08463867729042907,-0.04462185919689259,0.4637949792344696,0.1374547824490573,-0.010587586345373975,-0.037089614675094314,-0.09281320620677762,-0.29923013780192503,0.22204018755139965,0.10815925151164991,-0.2576048770833142,-0.10130678602930021,-0.3486322574425362,-0.3558827902437681,-0.060601233118186056,0.09392597896830403,0.19324713838301125,-0.19853931342992318,-0.09587532995136441,0.2352819430807953,-0.018080274403375386,-0.15912596371234386,-0.3764549391337839,0.1714167621238416,0.04262077431101967,0.21059497233997468,-0.09218334462025575,0.05242134909321817,0.025202542145434288,0.01993237676748552,-0.1546385556783678,-0.1433719185932567,0.4815364988089482,-0.11063267168687407,0.1278707742398089,0.29617696037738106,-0.05923072333863217,-0.2609081647054634,-0.035264212019545715,-0.09513205302656934,-0.02821464756325782,-0.014205912977513014,0.03570502467068102,0.0018756444643389725,0.13841020476007315,-0.2210732365999852,-0.6606046948590801,-0.30364855442153976,-0.07161749048700464,-0.025113101124871695,-0.0011753898074078639,0.030191783326633196,0.03897478605391786,-0.18109628050041973,-0.59255781332684,-0.24514183152033386,-0.08280722807599429,-0.21434132120008442,-0.14227948534290297,0.8862823889783931,-0.3264239161275444,0.10894541198476163,-0.18800630385238534,-0.03664213663654009,0.026364025453005178,-0.6584188413251054,-0.04216363319554388,0.18119026148292589,0.05256784855388932,-0.18826969186588785,0.2518030444497944,-0.27249130675798455,0.026172949181994806,-0.09409958928696346,-0.04447997316133871,-0.006352590616628143,-0.11023982929336411,-0.212974416382147,0.011486427733232621,0.14189486232433254,-0.19317188381423195,0.019420751438406568,-0.3775317444227112,0.22049309123738028,0.12430593963780975,-0.3508529914676035,-0.03373230853084985,-0.24198810755242928,-0.20138138918032872,0.14949322996101916,0.1316167719756875,0.654687893460333,-0.035487394795497285,-0.06575633164109988,-0.20133201685988925,-0.3076841237883006,-0.13713240791973816,-0.13342616580339559,0.07854975666117585,0.10977099963686579,0.08003245329024368,0.3219873843980871,0.4283009715203536,0.015653406874232594,-0.04322476359793471,-0.34580627214662,-0.5428460537445524,-0.08984164249283998,0.07070374176177853,0.1467043307054449,0.221301916720422,-0.47376435305841114,0.13788963422976036,-0.4615910481073716,-0.07752947209612102,-0.2275064872490722,-0.4091738270212321,-0.22811498167555652,0.09976668512176275,-0.21547732153586543,-0.06907509884730637,-0.2002127281211279,-0.07916146423817107,-0.3743016599209541,0.25106512437547146,-0.2741340278717253,-0.033167123285589,0.5123366856316852,-0.19495062444155567,-0.00647424575335073,-0.21389048499255106,0.12413076438948453,-0.23872305259639465,-0.029602713566756526,0.4953361685633652,0.08246597307622316,-0.3716434830561641,0.08909751405592714,-0.0233840067249971,-0.19424523425442236,-0.005610258442879326,-0.18631555055071994,0.3411432717369271,-0.0902679703037706,-0.07590269379522435,-0.14765627879248217,0.09406046541026514,-0.34243822329958334,-0.16249800255535243,-0.31197726362311623,-0.0678093180082629,0.012241896314125,0.04749697864475573,-0.24439473231107364,-0.030480431944624364,-0.19286634010177886,0.017768525441452934,-0.47982390579679923,-0.03451642954238379,0.03991160580321405,0.0013535127043656204,0.09478631285347049,0.07290709314984871,-0.5302504264041943,0.3717568243727958,0.28134853115926134,0.2515718226135477,0.0019370149760327012,0.17246123413460446,0.4013054953648143,0.0854208192394129,0.04601453940608178,-0.13313399934069403,-0.31071734039618104,0.1188406978990047,-0.039936178675160895,-0.23334499136783388,-0.14181794421583394,0.40518211764506723,-0.44735304415623817,-0.24354414099822203,-0.3531022321938361,-0.20053421625031434,-0.07999156628858317,-0.22054323044136398,-0.14897414387931593,-0.02571197528599947,-0.3262032798172861,-0.47422336615887406,-0.12967328741728545,-0.14106057273122297,0.02097019373528811,0.0339994395424117,0.15979046779719028,-0.11548240152036697,0.7675001992061165,0.03008918092440898,-0.06248335340415781,-0.09123115424604832,-0.10794428370544389,0.3562636143997163,-0.1959932667426351,-0.013628910252949445,-0.08534794214680509,-0.03877372005572947,-0.2471043019274689,0.04967210966867341,-0.27011541552151624,-0.07461797942071902,-0.08191451493312613,0.1730586913237235,-0.22870167776062772,0.09606278553365873,-0.10763923530201507,0.07226219279620362,0.07072499241707396,-0.12059660179022905,-0.2673985447677085,-0.18361933311674916,0.14021255569711732,-0.1555734633413529,0.12692870047125798,-0.3286156959447447,-0.16570167164670557,-0.047811107038047494,-0.10655924671144754,-0.10230003437293027,0.06393569218043789,-0.14027708781094822,-0.5655106723669315,-0.05689352665056993,-0.13782470056799348,-0.3553140469163129,-0.3555279708862809,-0.47366303610825744,-0.13566666631499272,-0.1242485303269745,-0.06199424500043948,-0.08342193874218147,0.5091122475375035,-0.302521059167866,-0.3904378999602446,0.08999887008617978,-0.14758228307297522,-0.1050373778168493,-0.40521794497032987,-0.1935192912549206,-0.3969505636841896,0.07343273492380624,-0.35350527395449416,-0.08695820207399572,-0.07073752424013531,0.09056010169903793,-0.22357623810683702,-0.15227804532145017,0.00352315269825132,0.48907722004697296,-0.05663104260112785,0.010092395541462944,-0.12173169247403585,0.06663400900969471,-0.5024032602262659,-0.07384021724266732,-0.002206456235755028,-0.1709537727181363,-0.201153632077685,-0.270335839687737,-0.07584134069813603,-0.2068979497679364,0.42270369026396254,-0.3534614800788621,-0.06514275133080182,0.28670688857681637,-0.22196217751039624,-0.16917719996109418,0.2923997216439303,0.1965700767555229,-0.26494334922858537,0.09738416801554159,0.10212236969028492,-0.44886738250854896,-0.3176606348172451,-0.27138793054124544,-0.9105169607719789,-0.0386903676509463,0.06214776842339161,-0.2784133161067072,-0.33393353633557343,-0.71571831901235,0.12474366317553572,0.45173128327093093,-9.015563921889039E-4,0.0666116145342673,-0.18920869944722515,-0.4822397950366324,-0.3852358657036239,-0.024016719714523425,0.024499520750483884,0.1245633115630467,-0.5404397304779528,-0.0855322330031536,-0.09441082322558848,-0.06474264822152584,-0.04333687149940005,-0.2071738753291272,0.008650308491962426,0.10446223298494853,-0.06306603235762404,-0.14362023931134485,-0.02058941872892466,-0.08554367934786193,0.15897770180664667,0.08046594363005266,0.28223932683017855,-0.25775469548472313,-0.05647356832144983,-0.04981284655376435,-0.22319792168468502,-0.2010525134565555,-0.005001100086529899,0.03608670024948131,-0.39069927538490445,0.02017615347170703,0.0071108870388086115,0.17000937908674782,-0.26405607242602963,-0.28673097348717214,-0.08654167670562538,-0.17452441729828783,0.051547414962359074,-0.25651033983927685,0.02339307494646176,0.018559318177130073,-0.09703571300275943,-0.1552999976118392,0.33300188516833257,-0.12713773694179364,-0.7258940228552523,-0.5629543117373593,-0.04936066367408454,-0.282159567455562,-6.148630043233216E-4,0.2294287307701348,-0.4074079527399216,0.012601645390251145,0.032607292180535805,0.22000807474824266,-0.2777543248357515,-0.31960683507608234,-0.19260044478619784,0.31177269593342566,-0.12300624148827116,0.13856885120537923,-0.1627085506922049,-0.34196492747970486,0.12112856421131055,0.03529600193275383,-0.040265065570319745,-0.07454531011787624,0.14092607343066077,0.22080305488469687,0.09832367758038911,-0.054129448723868795,-0.13312595682499984,-0.06883268380356838,-0.34506440592482673,0.46091915796194893,-0.013788583432689759,0.1118235506518666,-0.3143530209642164,0.3585415348711911,0.36609606428529784,0.5617263033849992,0.16571097242077168,-0.12578873691428424,-0.21010562956013487,0.11889479755353254,-0.16540544558656536,0.13193193247089918,-0.2813568773699441,0.09179224043133348,-0.3795718191775079,0.15389762700391596,-0.4092399711247624,-0.1587685872215689,0.001983027501576698,-0.19463300010601212,-0.10766420896688164,-0.007784580376042797,-0.25580251443768454,-0.4734792465425646,-0.4146395770564108,0.18703741058362205,-0.0438511993782899,-0.05540217969812883,-0.23446951040626932,-0.18640726860137574,-0.08056517084871694,-0.5381167342278649,-0.26970633499322133,0.10728635579429953,-0.1064310796498176,-0.06758369991679683,-0.32128861705710243,-0.037582456405227255,-0.32539404115506826,-0.09451764544903533,-0.051600603961071245,-0.3298871068485111,-0.2607430167283477,-0.3400117036166218,0.06452671961973004,-0.25136892696041413,-0.09036357533699904,0.007758625784949631,-0.3255644852540774,-0.14962511668477607,0.11500837449722762,0.02052993282244779,0.24377814137045212,-0.6933999701797364,-0.06484832680824879,0.13492287500733585,0.17034511897619412,0.23033878195711646,-0.28998009955990817,0.11269865484452678,0.496440937506174,-0.10571083186757414,-0.0982578698776154,-0.0454898029467339,-0.3120789557998946,0.05064010441830491,-0.21374112794378522,0.06830702794990823,0.1280304227284199,-0.22497342161501122,0.3386848840480655,-0.1674909145777024,-0.3895345444510562,-0.14803261840540774,-0.2452981932300418,0.011749942062734272,0.055994153640317235,-0.3855527173074771,0.00905261718094353,0.6941394212265948,-0.019331213706068783,-0.06885357215517407,-0.14457815827450488,-0.022068747861544613,-0.4454569667191694,-0.10880117393999884,-0.4393500075652794,-0.017397432197772695,-0.2295418590051564,4.297654842177082E-4,-0.277150684253461,-0.07227358682196078,0.13767255585201527,0.003465836592024263,0.12013370241183667,0.4126761664130393,-0.08420937255823097,0.058557327263312794,-0.10338505443104826,-0.10869234810170925,-0.053430327800892574,-0.22334941618906232,-0.4392371430159889,-0.5273795849399336,-0.15379957089467658,0.3113409967128048,-0.005203168793768378,0.18769650635509308,0.2822821813624208,-0.09825343620939396,0.17326606037491132,0.09156805946976374,-0.11326872600381667,0.5570990852220391,-0.028209088319076498,-0.03199524939755027,0.09640653390872063,-0.1356092147209186,0.11540336615214886,-0.03786120571173886,-0.031598705332481866,0.6793979809990921,0.05474404602006401,-0.11066763316906084,-0.2275433539206476,-0.12265633662521641,-0.2533379566109833,-0.23845029265324788,-0.05398593712508431,0.09086160103258456,0.06951106891112274,0.11251578761337241,-0.3668485613192839,-0.08083262564832679,0.10697284125650704,0.06428296154955962,0.12192166827600989,-0.13246691300286345,-0.056206749124456695,-0.2619940882016716,-0.4247248755766392,0.2535227437562788,0.040655960472051805,-0.07897986738158864,-0.43104046587827305,-0.04230169614437645,0.1971243700003254,-0.12764067629590448,-0.16598822837698005,0.3432302887555268,-0.026591607843976194,-0.08398543910431808,0.040566501158748644,-0.0248794062467546,-0.20151818782758685,0.1814730666782893,0.263438330997817,0.3660985912276201,-0.08012000923753797,0.24757409172664796,0.0354735292682315,-0.09102750668039496,-0.20623412526989768,-0.2624909831176706,0.08014303753930507,-0.07780730772884695,-0.4786953068627285,-0.09743155217692302,-0.22508637644460264,-0.04768487156627097,-0.056373138550498664,-0.09199768971436838,0.3353313092944014,-0.05547600214627261,-0.1943378722343165,0.9332940272528361,-0.035025596032265204,0.41118814074000987,-0.329628661770043,0.023286450964939757,-0.005271041493870697,-0.31167701794313274,-0.13641999396490193,0.04040319576579559,0.3069234460781663,-0.014378564256318716,-0.06286238176723154,-0.12672715640338497,-0.20025790236644503,-0.023356409604522947,-0.5001872987833338,0.0539373930231163,-0.18950557563072912,-0.20642482572500453,-0.4017201000998531,-0.23319926011010708,0.09684951893593811,-0.05392670567202309,0.40148949339915774,-0.05889653014815212,-0.062234321679217115,-0.43296234343871065,-0.1822923106019075,0.011380862874336225,0.15307180162783027,0.33387182397019194,0.013052456189046137,-0.32247218178306186,-0.2204831552569545,-0.1949600656732356,0.09469035899735036,-0.24715481394623587,0.1054660374434702,-0.11554641482230973,-0.02452195724861618,-0.060167483002463586,-0.09048732539727697,-0.48040338697864604,-0.07432889994796173,-0.1928858216497153,0.028977819886115103,-0.38106752948434636,-0.08510576008560497,0.10775155045809631,0.2486130666127509,-0.1814085631160334,0.08884893146428148,-0.2118338592955584,0.030958436916723803,-0.19966429888020878,-0.16539636169227973,-0.45817178550354715,-0.29597497427112573,-0.12981176001907885,0.05103109792121801,-0.16773844041968577,0.28463865064110316,-0.1802722880917833,0.22125809994924336,0.18884656455772844,0.07744503469459649,-0.5590893110408917,0.021159764372519648,0.10671125086521532,-0.4218148834683496,-0.5192928692009714,-0.2342624804084717,-0.0901694404012111,-0.10679630661404936,-0.0981486751626195,-0.5659927745568022,-0.618288327789007,0.14670325081828092,-0.12195565730194274,-0.4919766004089172,-0.05800127266718391,0.02238307688196128,0.08561069397036851,0.0021463208548466177,-0.2539903598373903,0.617869298195668,-0.09673550214662519,-0.08588888258740447,0.03788752410238771,-0.10905776299883975,0.06255716824712193,0.06287988916001515,-0.23004145865309078,-0.2606699656058076,-0.20309044512759628,0.09691865917083838,-0.1560258657115522,0.053276545743946586,-0.1768810208598145,-0.19811127325981584,-0.5623820874618393,0.23568380333408182,0.07104685362629796,-0.12933087042474478,-0.12306567656506129,-0.08884933574238023,-0.46076763164758266,-0.35858852082843573,-0.38897826470552543,-0.2993815714410664,0.406071627748887,0.014134671937326345,-0.4317644275084826,-0.07245446066507785,-0.21756437624869876,-0.10591110366447291,-0.1531935386223749,0.09639139716402326,-0.5075664774688511,0.05451135513606884,-0.1978867362971453,-0.13889944258378922,0.0328260761335741,0.004567362893477081,-0.09023771975893832,-0.2414010162485316,-0.13307485903287603,-2.7834022495956408,0.06982436677877539,-0.3088965466579413,0.11310572199131051,0.1953108875264885,-0.504547612996573,-0.0872991364692907,0.004998293898761342,0.057566694821055496,0.18295903849629214,0.0021597901305773406,0.023774884515970457,-0.157526398645117,-0.3199172079991487,-0.21895227533193093,-0.18573591845910956,0.26264131700782994,-0.049378645804559786,-0.19100409330499468,0.03685512071606144,0.23261294961237947,-0.2981196870351263,0.19360340461236678,-0.2946202417579566,-0.40793420671193736,-0.0445736324394636,-0.16821932003431747,-0.045716556271368884,-0.09365976451321317,-0.18947009157477093,0.462241690164634,-0.06437532439155262,-0.17198072282693389,-0.23992528256640683,0.015605832942791767,-0.2855115090812062,0.006406971633130046,-0.018336554660005035,-0.23733005427825496,-0.2191668556051408,-0.04465930830903106,-0.17789992741132027,-0.031169104335155323,0.0411914735321313,-0.34305960434863086,-0.023358868484268266,0.18193635606174793,0.1039636738579004,-0.23359061482056612,0.3683258700336499,0.02626449397522865,-0.30829761250431753,-0.03987781965880218,-0.7509305742756663,0.4079325268888639,0.039060634486486945,0.5644386484756153,0.0077807911460574895,-0.19331150649070994,0.319913982571074,-0.22863433233875372,-0.13009590795539813,0.014913073730470485,-0.3954658984991258,-0.02935318834439107,-0.04023587515921116,-0.21495353354955002,-0.36196361829386037,0.27646545545819934,-0.31448966742409246,-0.1436872597659613,0.1554399772673069,-0.1227411853311604,-0.009221729419909107,-0.23651552617369945,0.06670728717989287,0.05998657192111673,1.0499551029981073,-0.07785202597601336,0.023503701661115532,0.031957235008263446,0.20359654254096035,0.0867500798719781,-0.09658501361367922,0.04325399876329336,0.06997573413526738,0.015454070747221662,-0.00575052604659717,-0.11674002810297006,-0.06774299457841895,0.28326572287727914,0.4581472967699489,0.13747938771769774,0.11563397389543893,-0.19439262963967238,-0.295405472662789,0.7560221390177528,-0.2634704773571621,-0.031794648797907485,-0.2824801494901324,-0.029151430235619776,-0.088051201255549"
     ]
    },
    {
     "name": "stdout",
     "output_type": "stream",
     "text": [
      "42,0.17429822117798507,-0.07774897981241048,-0.10734248027675401,0.8337640922535077,-0.2949872024949749,-0.02150783308225323,-0.30374306538640955,-0.4853423196865324,-0.28115046992974213,-0.03184240014089166,0.03830624835236747,-0.2937595681950321,-0.29739167930558225,-0.0484768267474254,0.0021410719528353332,-0.07599887602420241,0.32460406024045596,0.06917062089003226,-0.12241098369960025,0.3436651701830124,0.006671904177389754,0.11372570098764016,-0.3391616560913551,-0.26264079752418895,-0.2741411688023121,-0.19370611059359344,0.05653400432255119,0.15159520683375727,0.3309989101615277,0.40345895582838914,0.037795797968361314,-0.1948969249512341,0.11115798704356725,-0.3188307415244724,0.13255348179541168,-0.2581792777398737,-0.1826806706579672,-0.2787927833823602,-0.2644682766330009,-0.11224139867969632,-0.3404318309338942,-0.17321787994913906,-0.10195281065337469,-0.08021564748433811,0.04060714338749518,-0.428221011840904,-0.38837764885115833,-0.3337956061626205,-0.0018554889787272331,0.22323635006353282,-0.1341672576161141,0.10035056982662538,-0.1773511287414571,0.06973216660723963,-0.5666392785982499,-0.19115266482045562,-0.07322019805441919,0.021200774959273184,-0.2280461470607762,-0.12318459998622099,-0.12991484716292565,-0.4397790004668749,0.23425359803290502,0.02080887331675729,0.14505180393880251,-0.07362065094446626,-0.23496455525543414,0.03488024085612113,-0.14261170666723125,0.32526318363745177,0.08759295656556029,0.04692031103623328,-0.21889463299298473,0.10056816258897547,-0.33388667114976495,-0.0877930785501458,-0.339967836484622,-0.21237919821917292,-0.6045974607982416,-0.3176772582629735,-0.1503091663568708,-0.009479866548942159,-0.01564167318131435,-0.1570633002232257,-0.7414613721551568,0.324666629613335,0.13111929657778354,-0.16538948907662618,-0.20283309500647947,-0.08792032833509787,-0.2566633310295547,0.19134838786817865,-0.20228131384468653,-0.06329289124550193,0.17908244064799955,0.03187203823307299,0.07600282283778496,-0.34287980614632635,-0.005013173958994411,0.18605643526642232,0.1905952740623647,-0.3788190972819844,0.024931988563262314,-0.264416420216459,0.37625867435210586,0.1352029630928669,-0.3118253758732412,0.06132931992703017,-0.15389444163404797,0.1278825592778041,-0.06043158709075679,-0.40639515079715766,0.029464521746415902,0.1799947010585353,-0.15248277889804265,0.3972402710828083,-0.1005187826528499,0.019655890763159246,-0.2840610456230491,0.07239271815752793,-0.35134601755414885,0.34935776811878516,-0.2639422502665213,-0.14495939720454157,-0.24661756549670366,0.06264535468247376,0.38947291746396007,-0.09866231983835155,0.12947915122581855,-0.10859581485791261,0.0815719769086147,0.026652043770790192,0.2432066472816903,-0.30555970710336644,0.010916160959381511,-0.1852696781541833,-0.19404005964860685,0.12012264322646468,-0.17054936381260954,0.5443716746419561,-0.2784133161067072,-0.2831505489052669,0.19149018928672457,-0.06428653955673563,0.2207367990716454,0.17136403583192844,-0.15362897507865542,-0.13433883828086207,-0.12518264975330012,-0.1686195918758517,-0.1324460670802866,0.15532356506843828,-1.1810172661994542,-0.05912334108864316,0.23924462221876217,0.017986370056605847,1.967474110621697E-9,-0.26560439841511774,-0.16563580425715116,0.004437056223087463,0.47496452428411573,0.5787803995027895,-0.09256752398098946,-0.09220412069267028,-0.32995892984487735,-0.11051374604652926,-0.27556084240843726,-0.04328803238484583,-0.16556400742754313,0.24478354244219633,-0.1749518381066251,-0.04151244977657714,-0.009219607797122793,-0.22282479111023326,0.07257570905943986,-0.42444706416518424,-0.4891225037223979,0.08365564753644318,-0.7766085381443827,0.1991136435913583,-0.054551746620004504,-0.45741786042334803,0.008270122051973984,-0.5265835355691609,0.12108444641522592,0.31783784311564656,-0.05117435101638187,-0.1723387807678379,0.46724888802848025,-0.1267043892489232,-0.06354982557518679,0.03878787014536435,0.017792797614045612,-0.27061940876506696,0.024365491651367845,-0.19371204823157553,-0.0943373034058166,0.2983859548388815,-0.29392139682099827,0.051941856253745144,-0.09763786586890462,-0.10938428898632654,0.2556409021440959,-0.21398891376169032,0.17823615613282542,-0.23565111561132157,0.3150472477484608,0.1284334611546267,0.34971900556402125,0.039213940507586684,-0.11825569945755103,0.06680084327535937,0.046184860261392346,-0.1314745223992701,-0.04994683161125767,-0.16356262333116212,-0.07523446471768053,-0.2513076981617141,-0.008669902232252799,0.1731878955027316,0.08838946648440006,-0.6394441546508618,-0.15149359065812587,0.07994088268669244,-0.25738540928202314,0.1010658201107531,0.17494265774109946,-0.20235779340891324,-0.024046778086903635,-0.2746244909764794,-0.4435544549675221,-0.11328933259219584,-0.15556932181518182,0.19598050617087356,0.15777698486569602,0.10725458747765672,0.28601788879872897,-0.13175100691166486,-0.01455189447249637,-0.25192980992879793,-0.25378361399190064,-0.174452592776757,-0.024202532434388604,0.08776265329825157,-0.0993425232029744,0.15202910762420302,-0.19098393194168797,-0.2107519721511572,0.2605800379419425,-0.21001124891871628,0.16876316809292805,-0.2293938495613778,-0.1374031053568244,0.014468042339120623,-0.052768547765532386,0.1168075758861268,0.010119930137285026,-0.1578028194283163,-0.14045704420522717,-0.5002993940412226,0.6629027744584666,-0.054546771003797706,-0.10003730328709874,-0.36408969385039425,-0.06928535787080688,0.5517352350604775,0.015471564018726543,-0.4389876892329663,-0.152313386105189,-0.13121225604663325,0.22576888980036763,-0.22271187663891093,0.03768354381638357,-0.16547910753518985,-0.21854195826444361,-0.23170737557945137,0.07794463936134774,-0.06294814629315394,-0.06089354711221522,-0.4594661287747798,0.16461975558630237,-0.06557459136488641,0.07946075151005633,-0.11868422623887284,-0.2784780638232579,0.23189009680813913,-0.009221496171875515,0.07102730734250239,0.020014667943640055,0.16307205633138278,0.03144676355074419,0.04658434924275944,-0.011055445481526894,-0.2637052478875205,-0.22606212612878934,-0.15044142482301068,-0.23595574586662968,-0.028116397588503372,-0.016846580364997768,0.03698257231903011,-0.29669616428323903,-0.2892441784774454,-0.13439702981338686,0.05128079356566475,0.05340818275563459,0.25413664164543515,0.2669075105590287,0.23820498758884306,0.33378951957636804,0.08706537640945276,-0.3242752886641538,-0.0636864043417815,-0.005731988853209528,0.12237827345969132,-0.1877424782321492,0.06447243663427056,-0.05596147379019952,-0.04697681340842336,0.6243398446645535,-0.425322527635262,-0.027282715074240602,-0.0935383126602225,0.06979695311649914,-0.056781240233579666,0.03490686180240057,-0.3914007279088918,-0.20555093683213999,0.05940605021003097,0.03281934992366564,-0.16440557814295342,-0.16626173014886247,-0.015532439433320538,0.21583844483172757,-0.6493553267125277,-0.13869647996648704,-0.026744680010708018,0.5685891531050342,1.0637775791323383,-0.2664086597691826,-0.4638178403919593,0.09766997843059828,-0.07739361076133844,0.1923261745142269,-0.04150586969043694,-0.021538208079669368,-0.015918557011638617,0.10229523644299313,-0.20649661036151787,-0.12970155378048823,0.2219648449268037,0.07862998104015088,-0.023332665959607438,-0.08632912012314906,-0.4089843769905963,-0.20675161423486302,-0.03285887264037242,-0.12923993968235462,-0.3756089262828001,-0.13311843947790886,-0.10498529283051834,-0.1765645221586166,-0.09338171596292133,0.1670189007979189,-0.16910179535009545,0.042704632601428746,-0.08839111713218792,0.07640397557053903,0.19061925665766769,-0.08807926693260405,-0.15019931750599416,0.07680108315685467,-0.32508334985523846,0.011956831225991742,0.10947502169150296,-0.17825024757672583,-0.25424049477706756,-0.5041474471652779,0.015493131251745942,-0.12520449666242842,-0.02776239890531673,0.06825788011653697,-0.22272348777448744,-1.2443074099696305,0.04551137361080868,0.18051948785607835,-0.1527502332905476,-1.312021568001631,-0.06811662330777968,-0.30625250835841605,-0.11363349641090496,0.3214836393473669,-0.0032104439329294515,0.15636981224443028,-0.1218364889481124,-0.1110069335409841,-0.16040072013494883,-0.08242000570042408,0.04652920597606298,0.19357377860555305,0.34719502743406644,0.008022805397422398,0.07454732740012206,0.09885472465923692,-0.09703351630486623,0.33238300934856113,0.17522401738326085,-0.2229543626694112,-0.17390746217656744,-0.11292015412950995,0.10136457369077136,0.2486130666127509,0.04076430106369554,-0.05466904705499458,-0.43040325291778925,-0.04207657407218579,-0.6247815980527365,0.43111388874814194,0.230420462354286,-0.159571795585693,0.11841095868064376,-0.5769606321080569,0.15527962853769395,-0.18378655748684739,0.13565234337208884,-0.3490787158354854,-0.0617076749296602,0.07886843079733662,-0.05479666070208368,-0.008161545053192535,0.785405705031789,-0.3000595561487681,0.1852280210476829,-0.4080006669504304,-0.05550888899955843,0.103058570431012,-0.03551687202766077,0.8182105350016711,-0.07495658765200766,-0.2347504583183807,0.0218107082056749,-0.13245287447309284,-0.04790890575473626,0.06426574726153168,-0.14239423057940812,0.21404700055146475,-0.31579291376719393,-0.5596026957317318,0.06422249077520488,-0.10475040288727579,-0.31984558311389233,0.10476375151438945,-0.07426001276395253,-0.14177750258017163,0.12009895044628233,0.032605624044428266,-0.17794991962124823,-0.43265612085635335,-0.17803062255983385,-0.09615592153194934,0.18167780481699702,-0.20554893495897852,-0.8050375517161265,0.7088067750295703,-0.057978114383817586,-0.8046439291159067,0.006448682175316212,0.11864034719474761,0.0500273531307849,0.0865012921095071,-0.045483305168468935,-0.4327080915970526,0.0359445506445389,0.1094806122174517,-0.3661318915311355,0.030839728977164412,0.23409327210961822,0.3716667332247762,-0.2629000259704143,-0.18310478516779044,0.021316416842293115,-0.02118342952667741,-0.10032783961868509,-0.3790257922678976,-0.2815791711137068,0.08804956634924893,0.06327198933965722,0.11168031980293995,-0.22343384266200167,0.18542671526882556,-0.13206095970543774,-0.10072120360383252,0.24816367024115155,-0.1945339130425867,0.04014608105709638,-0.2884430152698182,0.02790427358908838,-0.23372604578343778,-0.24151020341078225,-0.003002109190002687,-0.12460296444405239,-0.3124286352986168,-0.15642151424201647,0.2764698023103697,0.44577252058277356,-0.01887085250980769,-0.3255092348288986,-0.06730602405434949,0.3213629473741103,-0.011071652810420392,0.2099389883681236,-0.25142219671046256,0.08873715147292036,-0.08098537567016574,0.6084426327911959,-0.3845337004713393,0.14917229690947323,-0.08662042289490823,-0.06198485350678909,0.0682963541206875,0.1340466640523643,0.013653561556288355,0.28610359312090183,0.6035154057369722,0.5663498901346207,0.2188802207399914,-0.014927362290110253,-0.04918695181973157,0.4013832931351362,-0.1304298692646505,0.04012789859496663,0.15064784167725137,-0.2303540763028568,-0.21422459909890723,0.053616679521872004,0.38412875928792023,-0.07053956231413996,-0.10618479702605782,-0.67778660533546,-0.4085050561714722,0.002450029215867195,-0.4020973786156179,-0.20814609845018392,-0.057846243756176204,-0.15869402475485858,0.08325353073139549,-0.25921140831268663,0.059537446025201606,0.08081175870001965,0.11824290920817947,-0.14585871092727815,0.11577326842257904,0.22901934222764,0.05158263066482592,0.02071645394178255,-0.4054506691848115,-0.5017906019468242,-0.011676254590677256,0.25752845245027084,0.16191450163096768,-0.18410589925025764,-0.09740572559146211,0.19192668368554255,-0.08138124243912713,0.04942580405248639,-0.3856104593849081,-0.5313290603316264,0.06309474712664524,0.049202838221917365,-0.0010448051977588195,0.04461423028522084,0.06134543109289247,0.044620920262145224,-0.10608672871435898,0.3617889257248483,-0.0188233021685588,-0.4482315628527624,-0.026370384712616258,0.10274055173733915,0.027842946613377256,-0.23121148784282236,-0.1909382875107081,-0.4310305737712351,0.17266849118571015,-0.09092588014070124,-0.3158851276627703,-0.04153175292008096,-0.016103418274379357,-0.2096691398326366,-0.09771771857704054,0.039353364234398405,0.1818097953559992,0.1065227889047295,0.04030501516249825,0.39093304783911587,-0.027613639973004974,-0.14140291323096577,-0.2212606846266292,0.06159572656864711,0.04449074893419099,0.06478381028640769,-0.29300889630393745,0.04945287265429234,-0.041760932357712915,0.24952533980157282,-0.19638370093853463,-0.05957347892871709,-0.44919059277262413,-0.7332257306257375,-0.40427300858337456,-0.1454914765923281,-0.1299151472347554,-0.07688022217428585,0.655243257718178,-0.051095980604064825,-0.24877139080366437,-0.45662923728645577,-0.012458910915279451,-0.03892874650609087,0.2035239667654797,-0.04330233724140374,-0.41949860411454887,0.13042956799166577,-0.05484876911003392,0.3153189441757462,-0.0034008866712326494,-0.21630630542794838,-0.2882488451907371,-0.10689324522151762,-0.16533350967427707,-0.116422177498682,-0.336956846121139,-0.07797324574669964,-0.5748374707860043,-0.10469448713857468,0.01539540182450394,0.05816325964304071,0.2883645391207858,0.21097962090151154,-0.2239047348943321,0.07042060203410255,0.12683020359190916,-0.083072910324443,0.09549363252142248,-0.4364493982473792,-0.05098110968765588,-0.03279630397692949,-0.13983792706304227,-0.23730949343329813,0.09933279574735636,-0.27775428141773056,-0.25184687622303015,-0.22013652510457854,0.041421886709744574,-0.3529187454169554,-0.0327595463656245,-0.2993490219983035,-0.19132987838326534,0.10227474734592382,0.011719724513835739,0.11335069020656724,-0.2138673364767529,-0.14107053839557102,0.19373117721354433,-0.09943779391199926,-0.20441461018861717,-0.16908687959478236,0.006045304438945617,-0.4691302893129483,-0.3184129114347482,-0.11812563790405693,-0.3174420168219008,0.03795121195286917,-0.3025392064252397,-0.016794143692010707,-0.1926695791373483,-0.0925171707713514,-0.33059555542137675,0.14985318867953432,-0.34210915708924966,-0.04013547435758851,-0.3388879290908269,0.3643582768742678,-0.2184319995174871,0.15308716518645307,-0.17950521359511024,-0.2539903598373903,-0.14893091210799425,-0.22124288451945526,-0.24858763692578364,-0.05897253576480686,-0.0441951227325648,-0.13393912890929993,0.10940407260599781,-0.20105505949438393,-0.1676045297293623,0.025035134851793477,0.05508593750062161,-0.05562135886009087,-0.3825979523469111,0.2682545024558176,0.07232937467690885,-0.19292857920231649,0.14030581754083654,-0.18066653187133896,0.577273456320217,-0.594034895400301,0.019649138244782226,-0.15456041897988035,1.0391493503412002,-0.1790372922188043,0.08272910043108973,0.0810769073314577,-0.05361618328016872,0.032139481219772476,-0.21023665927852472,0.013312193548443933,-0.0745630540882073,0.10462169952736781,-0.19933252481355784,-0.3816174152346012,-0.03191126669354836,0.10484263401471941,-0.1022832052127995,0.14240940979646655,-0.33704015477233035,-0.021801917064663594,-0.36857547144433117,-0.595982538628332,0.06806928614473212,-0.2542116630243005,0.12828179223767386,-0.08692994754342935,-0.14714505364501984,0.020075266777298012,0.49247626655634213,-0.38051979850116635,-0.08629505154453901,0.18386476345239547,-0.1230132997970368,0.030581759080146206,-0.04961458617965013,-0.13674072203998636,-0.38191786023852214,0.5145434321096901,-0.05413028230868661,0.2564571792911731,0.0012338030729043296,0.03797229381551334,-0.1570142314516008,-0.11513128841260394,-0.370467896602157,-0.04095027920511065,-0.42755531554900916,-0.21645586384134216,0.23227139716800882,0.24520083624573832,-0.1573045236524101,0.25908142644367377,-0.05945659793604052,-0.14813103911381156,0.01956813048527735,-0.21242483421446498,-0.035375459829910645,-0.19002381073221247,0.08272014788750853,-0.1370391888373156,0.05983827749313642,-0.19244327712294557,-0.7507623007703819,-0.09310411825786549,0.24837696792551325,4.043762424192472E-4,-0.5096453111531949,0.10116555300002883,-0.7935330817795085,0.25869887324936963,-0.08561765871418721,-0.07978229434183876,0.05162680145278912,0.2487681960887484,0.3379261503004222,-0.49481792251463563,0.16590238203507593,-0.06147786693437083,-0.19589462360995671,-0.013750670007231574,0.10831672316488739,-0.05238171918455679,0.37825635907033184,-0.03829339428864046,-0.3047682361389682,0.0033706358386798394,-0.06832359789032731,-0.04096498088177227,0.06961916661984537,-0.42639326592320415,-0.21933075453300735,0.1357228117293811,-0.16265039299253636,0.01926999864433756,-0.4889908683060629,-0.003940917092303249,-0.3096665278437591,"
     ]
    },
    {
     "name": "stdout",
     "output_type": "stream",
     "text": [
      "0.12617886143088836,-0.3247781441419798,-0.680188687147915,-0.1432690803495534,-0.21689064464316568,-0.07856933975952178,0.14169337673088406,-0.4378596666700333,-0.2547473248364003,-0.14379179174633794,0.030165121068430417,-0.1641885010535236,0.2607235918300468,0.05943291073535614,-0.38709732521138773,-0.09363670948749417,-0.3351976655538726,-0.13218519736047613,-0.3439929936164225,-0.23278782746293852,-0.06863805823711362,-0.14378902971284485,0.22397219182248712,0.09144728793064462,0.14465111559774324,-0.0868600676852144,0.1436157193515762,0.47090442034176777,-0.04993036255609614,-0.04645444739917155,0.17121148606456016,-0.18677777270860554,0.1218208844402937,-0.1333554003165786,0.010918519954274754,0.13618163892128324,-0.01279144512631377,-0.34006224136060753,-0.014665396051167467,0.008837777418111847,0.1406919183300563,0.03165137278032679,0.16555485907752088,0.004750913331482648,0.0781392080449377,0.06445454940993232,-0.35517561300892625,-0.10623306905917816,0.14149964227821593,-0.06649786758918015,0.0384894140995788,-0.09884856889937838,0.0412117249928817,-0.15505359390947526,-0.17089958051906728,0.14957472724349816,-0.2203719618670552,0.20714238247269096,0.16132192341922627,-0.19251713718217392,-0.21394336269686165,-0.461382335963475,-0.3555570119683655,0.053218426446944515,0.02237459164367953,0.15235208054169186,-0.26778950095400844,-0.041808466437225196,-0.21587507764731306,-0.09600017327892342,-0.05177933793217251,-0.07124833845712818,0.0985992394848184,-0.3850950343376243,0.5096198915804588,0.1526048069103148,-0.14400198902445768,-0.3298384408693751,0.326920956616614,-0.16496747170401266,0.08695323427371855,-0.262397527406185,-9.643440927820575E-5,0.07609496380967787,0.33592380816681316,-0.028490132780232106,-0.09013414908929711,0.16832003079941826,-0.2234578792309728,-0.0011387893110310478,0.14077972019058324,-0.3497506758352588,0.09998105912144574,0.08738849368398677,0.21083260946500254,-0.10966972952302242,-0.03706682219695256,-0.15759887648983364,0.16874701095098338,0.08660254161528112,0.1325895313622964,0.12200082229378943,-0.8453817188992858,0.15131626538326265,0.12543255617663787,-0.09088440876662714,-0.11586681977866159,-0.278037631737218,-0.16701569291664034,0.1146617618870995,0.2425368101618663,0.024387848513402473,0.032415699255668444,-0.011356587119487907,-0.16201373549433648,0.15713690192965526,-0.09880520433097631,-0.10637401861060274,-0.02966001482519198,-0.10816743619843713,0.1089920408018517,-0.02379582758877175,0.19178214569279503,-0.20989497917534305,-0.16122529613881303,-0.03194318715865679,-0.13456625822833737,-0.6911141032667008,-0.012222101849583228,0.039213940507586684,-0.22564069315843338,-0.5272480797469338,-0.4751831254454344,-0.5276163658793469,-0.07374095231518012,-0.08802187294509366,-0.30558883361347683,0.18164753725599672,0.3131689907324571,0.18756066093060983,0.03282699483122895,0.6885731310173357,0.5029498836090976,-0.19862093839402212,-0.01611130487807947,0.33669900239111206,-0.0964474155515499,-0.11264306972918917,-0.28741764494176847,-0.3320315346707334,-0.08047670715967618,-0.11664011694030059,-0.14995774141500384,0.12534737205102725,-0.46025668436171374,-0.2742563270510235,0.2147935565874298,0.025847458664518652,0.11277838343944464,-0.05959887297169951,0.2155408254993321,-0.46244874095810895,-0.17240729531068988,-0.19457611051542656,-0.06017859783382537,0.27084487255033957,-0.43464480494353197,-0.34729773832351213,-0.375339782401258,-0.16097313612356207,-0.3250872955680462,-0.5481818422136407,-0.36233512493299774,0.0938293648812272,0.12819996832099972,0.013161491744940837,-0.24788960261986728,-0.13763532696361427,0.08545745560959093,-0.18336249325156354,-0.20177489381369496,-0.05823526422326149,0.05458377885248711,-0.03453054412731345,0.1485177735438558,-0.00962389490505168,0.08129913553583111,-0.41101761492978994,-0.3843395113438522,-0.08258995058268685,-0.1502727204951558,-0.37630381679431973,-0.16356193132238886,0.3178460555896563,-0.26339581030338266,-0.3184572507062285,-0.2642085580345028,-0.3753166761537754,-0.05485496990867484,-0.1008436882846654,0.20976027497834296,-0.2555944278072644,-0.5127864455197279,-0.02099576695110337,0.20047614227173663,0.21194574025641552,0.07498894045796359,-0.01268098693929523,0.0371200055980389,0.10811879794966134,-0.07533623244569211,0.8726437339422787,-0.27217791377381767,-0.26944973994800453,-0.06938052442369787,-1.1377364478801633,0.2301432364735169,0.09500405895353393,-0.02891356010823165,-0.41921502102288394,-0.174195647748274,0.21269530440058732,-0.08961440523981533,-0.14395154800507862,-0.013660456592140074,0.9479490494971992,-0.13391725489214182,-0.3159678454571666,0.5254541497836216,-0.5468719378720555,-0.4713971886343628,-0.08992059671290079,-0.045960912988229,0.07445991185102505,0.22358947173167296,-0.04736001790193645,0.08625528165213178,-0.17116473499605275,-0.13741464047176122,-0.20491238260044553,0.16524239774082214,-0.029390785101461533,-0.15952700569461362,-0.0928204099624529,-0.004339849011422982,0.20323923156442278,-0.02069803452067326,-0.3612277830837716,0.27404675876441736,0.014189627113367449,-0.019297690866791277,0.07634267212288094,-0.02161807962949773,-0.10894832515519359,0.22372169887567553,0.1953667159378918,0.11917725203655566,0.06639662389591881,-0.017978201287565446,-0.05362124664805554,0.05388794756980973,-0.15356644384088172,0.10915934014111665,-0.16076777987652077,0.07993245764936815,0.017105698050150057,-0.03717198816647417,-0.03222786710127796,0.03694068864796022,0.018690261453199374,-0.536022231766248,-0.13626945124896905,-0.26201733452390746,-0.6219932064163781,-0.05778018245049666,-0.8165950482499746,0.15845680731471506,0.04265562223457566,-0.3581021443415198,-0.37304843611054544,0.3630280731016262,-0.24974245563424893,-0.7394195808286093,0.0025375331486299545,0.051203346557256696,-0.33840097434890604,-0.10988590906364237,0.19637671766545567,-0.43935260110123975,-0.35774428679502734,-0.03362676637839993,0.037550886076289064,0.10116806914230282,0.15286253696328822,-0.3204296548251342,0.17017770278460123,-0.009220634457772272,0.10832001768277394,0.2545558309225816,-0.15077101952339822,-0.21537818914095885,-0.5707190413055384,0.14784071088620412,-0.1919814429999397,-0.4074806880681639,0.05242684281096328,-0.18026617388120117,-0.17569090792418002,0.3562648144784628,-0.05382713260833475,0.44071200400099136,-0.12826801962773773,-0.16574410157373654,0.06513001161176302,-0.15698185922454147,-0.13354394394899272,-0.028354005686411464,-0.12295385713305367,-0.12453641125992511,-0.16184205834175988,-0.026732474148837393,-0.07795555726087576,-0.3593774022054709,0.11888064904687336,0.08357716687499907,0.6398788275012379,-0.19304348175241726,-0.5007767063022566,-0.28944425680939173,-0.02594865841492956,-0.06605291484149219,-0.007153422742439992,0.054711499452943235,-0.07900986406375997,-0.05099445366000021,0.7359540732376645,-0.2169117779174748,0.05783793637035889,-0.15398034482896816,-0.24792514542606808,0.04005771836195241,-0.04291883758834841,-0.36270325362566525,-0.6231716843478978,0.06413291590613875,-0.05863135312715328,0.24082564560711622,-0.07792613644717138,0.012991205937461744,-0.10327298081031155,-0.1315502829280236,-0.051946127385536285,-0.02464335370507224,-0.24744780400017563,0.13268620074910145,-0.1336134970977336,-0.03041487018842039,0.0021172889608033225,0.38966271087697696,0.10675716954569169,-0.3564120341236002,0.179960196260093,-0.08718573290013987,-0.4605027675743551,-0.07595121769853663,-0.27184403006192587,-0.7036031754790708,-0.11698400623881292,0.3723553087486731,0.03933494307002247,-0.03602443688777831,0.0910230011844531,0.02098889985526249,-0.34325221769437,0.25868875560853394,0.019018647503820277,-0.1563668858815429,-0.25826514551952867,-0.00726030071192633,0.10988767465128842,-0.3388771464637541,0.3542270509372082,-0.039456756998016054,-0.046041113781682734,0.15754244449620372,-0.05766110320687121,-0.13271365535539462,-0.3259481392115939,-0.13388625525158676,-0.014293214524925327,-0.32388024098213375,-0.31976613907092216,0.22183651186244047,0.22704575963162474,-0.12097874023816026,-0.20104021788569115,0.1053077916405608,0.21782169175644064,0.0052459165177756225,-0.3219747289853461,0.09304444397500132,-0.013506079380766122,-0.05341533599854759,0.2501714018263932,-0.35482695716234514,-0.09346339971403106,-0.3437264807776206,0.01424155409189689,-0.06272550619470853,0.33350989036104184,-0.08900533900123964,4.294599653517333E-5,0.19116572895107314,-0.7970139394272177,0.22850909196556932,0.16167626456636933,-0.03793379626580892,0.016453138514423035,-0.2911448498751679,0.29253424963381974,-0.17770453889175158,-0.24656123787992187,-0.20676188812958093,-0.13954181357741918,0.024964319568559403,-0.4364604924612155,-0.2562812351323105,-0.11326416893554717,-0.01912731478476147,0.043125365187237245,-0.27829037773617665,-0.07588971868343027,-0.06559368978631382,0.17766823099390022,0.017553184307299276,-0.03450276407818109,-0.5443105548216617,0.019101075524157168,-0.19324740403234955,0.38689082315047896,0.46123731522454864,0.5279293510824346,-0.004244338468196081,0.08588207809085317,-0.049812877470134534,0.05628330183137552,0.2825093288648428,-0.15232663850284744,0.0867004836488876,-0.02307800414864264,0.03701349823733338,0.3602028357768241,-0.012719769623498734,0.5100310926555004,-0.4388032314763272,0.23745703728617756,0.03172352850144054,-0.032627705261724184,-0.5110214811657159,0.022322919230705077,-0.25551506736049256,-0.20921495226586675,-0.19159729200885622,0.14512890453907176,-0.03836157327507733,0.06879148585084088,-0.2932554917194095,-0.19730525117634679,-0.3617417149478847,-0.1167831579525015,-0.13394708297700372,-0.311216802710223,-0.007594834087818428,-0.006429214742406266,-0.1100592798296066,0.033381600487000763,-0.13458257809031246,-0.941136505761938,-0.18009838443352733,0.23756837560936675,-0.1681588068132229,-0.23007470794799256,-0.1783251233648917,0.010178160167809508,-0.27710887933933304,-0.1441700541047862,-0.023583869820009262,-0.0343360104480505,-0.2780430094740051,-0.10985183142528208,-0.25969244112260337,-0.1130868981453677,-0.37565410372488306,-0.258080745897994,-0.20341302788775054,-0.014874710561738757,0.015779802354742883,0.09535085735047648,-0.05454129671586533,-0.2855902918213092,-0.07683076743232924,-0.16665012245071456,-0.3181074075771323,0.10406049462584846,-0.1918125388397914,-0.3985107565876836,-0.12086042857406855,0.02733902106940173,-0.15702261191664807,-0.1665918394289666,0.064027270054803,-0.12239071941444192,0.09081668113394674,-0.04433804955038736,-0.18591792104470672,-0.04473800129022633,-0.04009650008384021,0.037178708180078075,0.049226592583058976,-0.14578150284776323,0.19962006063361543,-0.08410539533685941,-0.35994644112777696,0.008875758234198245,0.38861390394133377,0.03900049284024859,-0.006521743957588481,-0.27476329397208255,0.08142680052403423,-0.0432619455022613,-0.17201318012778039,-0.4772040175421875,0.11365164494410786,0.23995860969541716,0.2507789350011334,-0.10932172627732194,0.2433433344089579,-0.3253853200503532,0.009845569627623927,0.004749214829349664,0.4004140903501703,-0.1424243373880448,-0.23634446127323608,-0.2156944515172362,0.0836843435850952,-0.1346346440455148,-0.004043149216301753,-0.3263253896150729,0.36512264173668757,-0.055565539318497024,0.035885615941334235,-0.3411129902653721,-0.11166284932824762,-0.05895536086547727,0.5498006950797524,-0.22869211803239933,-0.34744526210010374,0.05338042625797629,0.2706276423179332,0.15886484396384584,0.11784228956906878,0.14230779365477225,-0.07289975284086367,0.48302195299065726,-0.23614101089670664,-0.20281259515818986,-0.12618761830150968,-0.02586256981054741,0.06991185913324252,-0.08652064629460837,0.3119285389350687,-0.078041902568645,0.06567793540668497,-0.16426692011739463,-0.4575514535815477,-0.2471435027929543,-0.09032674298034109,-0.36415611807607884,0.17002356197638965,0.05418203019076212,-0.5152383949547483,-0.3557219667043226,0.14925127470739663,0.06600432830047602,-0.261806795809473,-0.040540522211256536,-0.18877206343769695,0.06539144362109965,0.017642583532809078,-0.0060510676929758245,0.023263881775534095,0.0011275153253861546,-0.39403904219662744,-0.16282908479680833,-0.19146435643496695,0.07583669093968762,-0.1647288407833017,-0.03787230295471579,-0.03442064493393475,-0.08075673891667531,0.5620314359932468,-0.5780531996547071,-0.2883666527244938,-0.11213503091562277,0.1592679541343835,-0.00417084681964468,0.07340442533523693,-0.24704223869702024,0.09367985668821138,-0.14006387334797693,0.025062603612634918,0.12536739277743233,-0.12553069920981325,-0.2948155481497539,-0.10804989098704633,0.21639610306665805,-0.19690580062565247,-0.13984439743171684,0.010606699487274066,0.19304728333094023,-0.18472761358191556,-0.2141180109792426,0.06610001158120606,-0.3938414085458259,0.8085185892137737,-0.8071923928477744,-0.1883961761415017,-0.08259081363701283,0.2854886245455125,0.07286707880841481,0.6109649239250582,0.117580722082367,-0.19458715345509056,-0.08876259462982641,0.6792033039791147,0.15329544726730523,-0.24802704029420788,-0.40467077494020653,-0.11151769753308798,-0.24731156642723445,0.22866931544578306,-0.03462181758841764,-0.19255732973168724,-0.2077478528445822,0.02051491371111021,-0.10485848525995202,-0.41091736763415654,0.2024465691741968,-0.0649918754304797,0.11899649757191377,-0.13184770409914057,0.1875417357222395,0.09388088553194482,0.6410906538562461,0.03207873854575382,0.2773160749386514,-0.030206945066979653,-0.07828471548238174,-0.27188670441068696,-0.01904869179175412,0.11200739882754057,-0.08998443356229276,-0.48145894111153864,0.06277247527861973,-0.18640119039469252,-0.25375438419996305,-0.21784783668603408,0.07691802107249612,-0.810829477834732,-0.5103771764803666,0.1506955203541429,-0.2520908873170903,0.00753203634169033,-0.35989416733469365,0.11918484152657553,0.03095576495626043,-0.031013769389755017,0.1528510419446924,0.7581265444167617,-0.007594063325160674,0.1668710042778657,-0.6398184570345192,0.29643873458590864,-0.1759416697133944,-0.09347281996985567,-0.03548807390141346,0.08327556411335607,-0.040727545941607525,-0.33439476264482276,0.14846226140409483,-0.06119680196234044,0.1170356458820022,-0.050451494901841726,-0.12050069258383378,-0.05860222711156677,-0.04730925850306691,0.014968504271114966,-0.041252378485105,0.0049747317133825185,-0.04508274959394283,0.17353396679763516,0.13011400015651353,0.14298909140541535,-0.0029513282423347205,0.031291557144197006,-0.1612503718590871,0.08744181060450955,-0.23971788996234977,0.681112486392882,-0.383073772613427,-0.3283932663799672,0.15733127004152175,-0.23576512915324516,-1.4682240749182418,0.03495243961908846,0.036372101112055,-0.25019842838705414,-0.09797208089992782,0.4618674308295399,0.16651613550022193,-0.11616569573296143,0.009860043229159461,0.019365985861048287,-0.2120988873318861,-0.6709131659630388,0.2388667573169338,-0.3006078857984204,0.016826651352335242,0.5185160381643545,0.007369275474721902,0.03327809351316856,-0.06038617140458224,-0.14545200056879545,0.04109479916050968,-0.21789751508161823,0.4617810293174002,0.1017890219671871,0.21451514550195233,-0.17606538140994313,0.1524410906289604,-0.11630228528907478,-0.24249590500508375,-0.06555137783538502,0.02623569779885063,0.03929316364032623,0.05787205774837811,0.05081114215580706,0.21976683788347637,0.01499254918677915,-0.02749938500592573,-0.029861887507613774,0.032790883152146545,-0.030144598068226724,0.3722754793097025,-0.06976054400873563,0.03579702914653877,0.13829648457998098,-0.027230967075681112,-0.30060124343556377,-0.23014441269043714,0.08565818788995198,-0.14074095795135327,-0.33174831808866745,0.2000613178695019,-0.12280413158857241,-0.2071053649218048,-0.12366952946868698,-0.11792525608777739,-0.27146889931905416,-0.09426048984029456,0.05005015214481898,0.17700914672311663,-0.03655002221198431,-0.29491965453324653,0.06681215537499716,-0.1530499725618004,-0.013462102464452211,0.21887025658524625,0.14365165894890947,-0.10708552919186133,-0.16507169902751395,-1.055501197259666,0.03868032999402584,-0.4724661896114683,0.06950690013763626,-0.22634461481866447,-0.07447900861442029,-0.08202974914535603,0.07135519061338166,0.5060383763157007,-0.22891003776585717,-0.2037908875193171,-0.07671177747062871,0.27421011845988014,-0.4867442548115865,-0.5834565751238732,-0.373937760644342,-0.13025120766689444,-0.07340198996897242,-0.1722351160099237,-0.10804944893233875,0.030320339449831722,-0"
     ]
    },
    {
     "name": "stdout",
     "output_type": "stream",
     "text": [
      ".045387021992083464,0.02888983111315709,-0.6607442450907518,-0.12999175147019737,-0.004448195724849106,-0.07640540794940061,0.1513802072656892,-0.009268944316726192,-0.21456232746636317,0.05236078586161083,-0.5358031845359826,-0.1349849812701786,-0.009649117384165278,-0.15670719237061667,-0.07354394758364077,0.18928065374375963,0.11701089280947372,-0.06154001277643178,-0.10113000542914702,-0.24071160970742791,-0.3900759738720335,-0.17719502635941548,-0.08642238989423526,-0.15932729103138582,-0.09401828280052875,-0.3124929287085265,-0.047977176350779145,0.35881886364036564,-0.06557727892194112,0.21485121012595038,-0.005036109245115474,-0.22243781796048145,0.18815160837491066,0.17653046104186443,0.073563486941976,-0.20347686521203412,-0.12460480509242514,0.04903152051008303,-0.14365504405357005,-0.25354427854168265,-0.26368436805996254,-0.1019603226217504,0.09803689925271011,-0.20785424059022292,-0.1827249476390462,-0.1280240588022967,0.3702029194356996,0.1467101467020101,-0.0438294231869077,0.28141449279489256,0.5698799420717289,-0.4467312434110776,-0.17305628315210445,1.1948919598042016,-0.13453189133941953,-0.22683379281011284,-0.0967710860023228,0.1314285278121191,-0.28216327536042457,-0.35261438270182516,-0.10249562380674178,-0.07826007588547013,-0.11733761177592476,0.02308803237471914,0.2729583246339602,-0.3604590074664189,-0.24163416437907373,-0.32186863729927256,0.037302611445751185,-0.20235800962517225,-0.10046440015499414,0.10898800326195278,0.1504243099796205,0.03289127320984496,-0.1741631759216517,-0.3361160353006915,0.061941556921086764,0.21166343381705113,-0.1602492338562283,-0.07077778449710102,-0.30340856476935585,0.09387079963161592,0.01410945537185459,-0.0625683868798714,-0.22012781924517832,-0.1608073626364547,0.5102967396163179,-0.2030730721546582,0.1981915229327856,-0.0047173405488314295,-0.3460188949794424,0.2319413563854502,-0.12807390616131253,0.06060087940978612,-0.33075778545378937,-0.17649553305280213,-0.06939076848622702,-0.16496979774093512,-0.14910519591692661,-0.009703351390038098,-0.2795112013653092,0.366351875095725,-0.058011664525783886,-0.23155958099153182,-0.027081604957507596,0.10753372715959822,-0.3131150557241376,-0.0032974135072095885,0.27601126897469064,-0.07687864323318896,-0.02135495251216752,-0.1380492093057366,0.28824909090595585,0.40910605846247583,-0.31697037644160136,-0.030051982596249298,-0.23973737538772286,0.7074273487177958,-0.03494195229378555,-0.2097390522291975,-0.09883315072634825,-0.21029804476082783,-0.3931544273847044,0.05425560100248359,-0.19765422139775132,-0.02599844250833398,-0.14065683067265894,-0.5562072452042995,-0.1695529690066416,-0.23665218012831607,-0.01639097482879752,-0.37517200698728587,-0.17209862622652328,0.19110231690269922,-0.11979586108182835,-0.2331984917952258,0.3866767214397301,2.6651089841088645E-4,0.15851052967586104,0.24114828297922522,-0.2133875548539981,-0.20835361562643454,0.2604237211136989,0.19060809953972643,0.31118178693994847,-0.11628039962982735,0.05972935134153011,-0.29072769956489053,0.017792424204568235,-0.06630319597412078,-0.05942169552311672,0.1192354891557949,0.07801948478842358,0.6974801891718545,-0.022085178853908885,-2.1249111979271462,-0.07926063519316005,-0.025230718656286222,-0.029112441646466973,0.03548969546791956,0.1420164158298704,-0.08088955216558541,-0.038656392652562,0.22064844166679914,-0.22373423214280463,-0.17938108536650343,-0.5197481779703979,-0.042764830408146055,-0.26990153292265157,-0.5290915153455646,-0.2652783038360083,0.04122549847895206,0.19148103160581795,-0.10583455956294872,-0.2917062344360264,-0.3983768155687944,-0.03691930080306627,0.14875383407807877,-0.08704031621479431,0.05652878036624036,-0.10835880655637008,0.06026939244293591,0.18309744525944444,0.27598539054814786,-0.2681791635891268,0.4407743602111142,-0.05982955051193139,-0.24845890938081244,-0.44181408164530733,-0.22757739795652387,0.174742279507364,-0.11404950212380878,-0.18616923599533217,0.1952717376918405,-0.2167620130169493,-0.06355251341549313,-2.265976946871789,0.17381713622780479,-0.08950026061605337,-0.22248467063248162,-0.2839437640446442,-0.16059605251572948,-0.07400074392943148,0.7793569237137102,-0.04556615820764441,-0.18240490477307958,-0.10953927920240154,-0.09215823886525601,0.1200525066520339,-0.3922088586020545,0.35005501119814203,0.0025534818133870715,-0.6371466946679801,-0.2262502185218807,-0.2626465461781542,0.06451585408824177,-0.09991682570414628,0.3588413857158664,-0.07898045752153898,0.006707047488031493,0.15901392524481162,-0.32672331229722923,-0.2669411031614521,-0.03425717033152356,0.06103750519046735,-0.06509389013584589,-0.19327345737494478,-0.08832945228974853,-0.03158694626700154,0.11169403618645055,-0.2678689179517351,0.16782049223987705,0.24635719842285686,-0.35771895682371757,0.03584124997226842,0.2946971186145222,-0.054631283563392044,0.03693065616263015,0.04498210276379248,-0.18701349186674832,-0.3665653192627483,-0.49639568524366773,-0.09873677158884717,0.11295753651406586,-0.16514264306299375,0.19937523205113958,-0.1786166580775269,0.04214683944496624,0.28091295946778244,-0.3314285873320713,-0.2940291992835219,-0.07475934753525777,-0.2678292406189452,0.008133507621656702,-0.09636304008405476,0.002579793170245303,-0.2256265567658516,0.06395053240501426,-0.09486123868405588,-0.15244512957607237,-0.20231059385698644,0.20621884777034022,-0.039399972821047624,-0.42894970210372735,0.028168483539367482,0.10863525680969931,-0.08422056600753602,-0.4420494685110199,-0.578557502206831,-0.10242615164792937,-0.3957560926671075,0.19651741803397316,-0.1422006023782371,0.3168542834506489,0.2514331876481845,-0.057593924220993985,-0.23443230729827336,-0.17878155421457456,-0.07814408297331665,-0.1675273671636427,0.03254675301943448,0.17583820973607373,0.03693574523755421,0.1406087229680079,-0.03725146355011463,-0.05077522765676003,0.21269373836058547,-0.10690694384718309,-0.022952752752371654,-0.3394013683381671,-0.2411524520300471,-0.3510010731369915,0.7432371013459939,0.1398611288556225,0.30641553405867683,-0.2673033526834142,-0.317606924013353,-0.071529792123013,0.6066338376956344,0.024568369822347516,0.09430122180365061,-0.09488836099106851,0.14185352795530726,-0.174735414649193,0.03232725680598841,-0.20388135911528574,-0.19083922858970295,-0.6648307313326037,0.34542433262840533,0.2265101634104294,0.2660484153804002,-0.2022526292778513,0.5499014904596328,-0.3838177027659946,0.01299877497858152,-0.5460275569330634,0.10659600340473467,-0.15851813227755795,-0.21900707216141155,-0.13854594512002225,-0.23848109265241055,-0.08483450920474415,0.06334273722206069,-0.337071743302915,-0.18465859735369153,0.09178113286298283,0.16646202968351412,-0.2524434147287897,-0.1937434191967598,-0.0803717076446686,-0.14018001872317407,0.04114237792796002,0.009482462637516698,-0.07084575678111192,-0.1907508149144412,0.06544130464046988,0.04878715232592012,-0.4421899619590107,-0.12662008298588273,0.0017469655103719633,-0.3192747764995067,0.37377117611836447,-0.33446977044061443,-0.09764627995777406,-0.048152558045545156,-0.032609846445651895,-0.2965105470037313,-0.04087542099652211,-0.05346519678095891,-0.7537842880094723,-0.21508692799614193,-0.22242728722404595,-0.2757792992284507,-0.1176805322703803,-0.24076139445581127,-0.6806894326255093,-0.3157603712587464,-1.6600040112091676,-0.07293804111505267,-0.00240217303884498,-0.3840929141241836,0.34358625535034054,-0.11201547660108081,0.01573527254635817,-0.19142993184020768,-0.7144552534212808,-0.17288073952170482,-0.19188365423766504,-0.3968201603179674,0.24685185420322753,-0.577311730286056,0.14578402680614733,-0.08743185504690967,-0.5070387336689685,-0.041135741341867885,-0.19788339097780858,0.04561999704048341,-0.5812186038819107,-0.005292382645503316,-0.11734167976223078,0.4407743602111142,-0.041798078932994163,-0.09854580270961086,-0.08303443811582091,-0.3128035129937392,-0.0288513102136513,-0.030575996857996453,-0.020373179434343698,0.1320081267929217,-0.11101124956067934,0.4175259944979398,-0.03879015452359119,-0.13882083423599448,0.29924529189869326,-0.23080736964276383,-0.08727267290455445,-0.16265039299253636,0.0342425883193478,-0.10209869086773739,0.019660245865358767,0.04559431208580636,-0.0894318258686596,0.147458832202465,-0.026032121443779147,-0.009893945168443772,-0.036292384904169514,0.10957166741003355,-0.19768053132068641,-0.28667757923974363,-0.24952070961347797,-0.20623643907541486,0.67014541576215,0.1602383933571112,0.2739939362716862,-0.1262218842071584,0.5746325042227161,-0.27750088787089705,0.13269562383216,-0.12717414991248296,0.07367585074813884,-0.3237505387855091,-0.04363193164815837,-0.2603602470656879,-0.2083403814989683,0.06433065695451734,-0.44716119449459635,-0.24366130808314704,0.22065006745035737,-0.01429099883226571,-0.030144598068226724,0.08976399143985012,0.15314370410067427,-0.2444623211270062,-0.27923733824314556,0.09531676446311242,-0.018761621167027922,-0.0431781168988323,-0.27479846056522844,-0.14144992564803277,0.12301874185211739,-0.13828289078194742,0.03644298245806786,0.052699159754714,0.0011879167203046092,-0.4093798750443206,-0.2653570047617355,-0.38761029206602127,0.18428084239686998,-0.30813437703002033,-0.18896093275193415,-0.0666909506086171,0.18863973606925685,0.07200166261865405,-0.16158676212857334,-0.463638582992552,0.032858685218371916,-0.23934470967264257,-0.041775798198713764,0.2764702138157179,0.08825584338167768,-0.22958308919903384,0.10135246349146528,-0.32725527633604734,-0.154576215855141,-0.24136307593395484,-0.24750135686028393,-0.03814508864934282,-0.33641849053180756,-0.05938582066042079,-0.6066455285802714,0.4866393664965511,-0.16212822731999801,0.37747002612567787,-0.3868788621622364,0.42030851973483335,0.5657870443232823,0.13410805937404474,0.12067029431151322,-0.35450167580859504,0.2001940380334326,-0.11871720906019223,-0.011079576845915018,-0.2727493326564902,-0.6306179907986348,0.6413594342828696,0.30747731947335294,-0.09240835321235502,-0.48108307829147107,-0.16022259553842133,-0.16615973085193247,-0.14729169906190936,0.10082019367685605,-0.7771059408941836,-0.2842657291656985,-0.3387689572218989,-0.028333476223513534,-0.3314793180006002,-0.047464922846016486,-0.0013793320917292076,-0.18345332173475717,-0.28574101803227,-0.055173028752915784,-0.28091330443237844,-0.066912560897934,0.11487590292109569,-0.11150233517791226,0.1283262936148875,-0.1806788430493752,-0.3585531416834822,-0.16797739612315135,0.0995671577890459,-0.01523062142032252,-0.007223524119461269,0.024182960616734243,-0.4935970037271336,-0.024786620791408028,0.20293349381861667,0.08387445263487922,-0.1599101936123464,0.16227179032340802,0.11156513681270529,-0.0387226284800003,-0.009338433795384236,-0.2721926245368066,-0.3839137431833244,-0.03335890809128642,0.09876339088806947,-0.3096630092887686,-0.6168665321902531,-0.13916954699725434,0.04459806942332032,0.3812547268215969,0.023551877509841536,-0.23080587029638286,-0.025466616441921483,-0.23950457070079165,0.15887593017953164,-0.272358069102345,0.2221074672049584,-0.10704745086009095,0.41828658696386745,-0.23408213655600732,-0.265307039058512,0.34373155356026275,-0.09715412297665252,-0.24089461109590848,0.036356236956386276,-0.17225084820686934,-0.0936556340528316,-0.26981921529368724,-0.32230424950128256,0.5404578723102148,0.17589976298024385,0.3911610588596546,-0.09333878486927026,-0.22190776873972434,0.23322575203795878,-0.9460474577717595,-0.13352043265573577,-0.10419685024755568,0.06141451451024482,-0.11803216862092356,0.018899929569129306,-0.18426490416401756,-0.17703173923548796,-0.11546906373960342,-0.27017818773442315,-0.5247234215360157,0.09702391398010092,-0.3483467611057708,0.13164074370337892,0.017748262565235703,0.2604606822239667,0.05400720396871135,-0.6421319554255682,0.060983318388918455,-0.6443306076018716,-0.3087399514599635,0.48517089401359903,0.25011844407236955,-0.15344669279419748,0.4616416545143942,-0.03197036232209013,0.25611638666379116,-0.35764520438657066,0.29916227238797133,0.45457423202660163,-0.14367432543071992,-0.283140445472969,-0.1145689687991632,-0.18102853486654463,-0.23666664601673185,0.16612290268597008,0.5948362057608803,0.001985483609396361,0.15633484609472678,0.5033255419319297,-0.15034514527826173,0.3003844390832086,0.038731614452553687,-0.15790018901288014,-0.15362482752536782,-0.11477738511579477,-0.008394351535266895,-0.02437450369129688,-0.11416161390442842,-0.15036575674762306,0.4620977318973394,-0.09928478712077092,-0.17286319807461922,-0.5517109133625274,-0.09349194964407072,-0.1480049030846066,-0.5170410403397401,0.2152989326075343,0.19623127299951768,-0.036340601806299125,0.005707711206608356,-0.2671065136993278,0.13334823142520505,0.014440925797323433,0.01662531687483219,0.40655328437670574,0.00580719645257438,-0.13514783529179444,0.015868280939427003,-0.037637821470772506,-0.04447755626911161,-0.29969044680004436,-0.4212524484017344,-0.21304250322687157,-0.38668437366248887,0.014680947468751551,-0.30293632186543673,0.1960646557295105,-0.4168751934769755,-0.04415021923957177,-0.26740248527894545,-0.2965069434489969,-0.22607935513760952,0.2343991393750544,-0.21446765480340638,-0.3319563624351024,0.3231758343594126,-0.060075946206644366,-0.09327591020064985,-0.5480279041956798,-0.24154903626025404,-0.42023028705824583,0.14292964754458637,-0.12980206029578267,-0.3839291333717564,-0.003742919110501022,-0.4282632250290386,-0.18004453901621886,-0.017915965428725995,-0.1691650167140541,-0.004016840144471057,-0.3624789359224052,-0.2705631365238923,-0.24355440918113686,-0.07582952531263082,0.053276618838310544,0.05267270060189283,0.09733629035131129,-0.10135268181564139,-0.35916320202444324,-0.12377343636787165,-0.004498873045713059,-0.17181241109907264,0.16516258944413287,-0.2315654795853162,0.19014506198215458,0.21572685574685946,-0.27723073363287143,0.04927268549434627,0.03331639449570474,-0.6511989953663095,0.06520753409949183,-0.13108765502325231,-0.24735873361667196,-0.42051710775982504,0.07679063635284218,0.13488240565741902,-0.34074403357508687,-0.014294459801893105,-0.14979589677301716,0.6999914265441843,-0.047139660832454605,-0.0214755629075513,0.02512433447830582,-0.29644967782424825,0.09618796703728756,-0.06703601037533806,-0.16201170082111058,-0.2636161682138739,-0.039171748888974296,0.0664308891957845,-0.5550624025317041,-0.06746775850049282,0.09780601411993414,-0.05257824101568425,0.5899345080484967,0.15706196648434367,-0.19680748829469621,-0.2275654809426154,-0.037822136810265965,-0.034429497215378094,0.004973895508365993,-0.02733398127742083,-0.23221848339126336,-0.31529729208702606,-0.14726597313443923,-0.15559775695222358,0.32882775443473067,-0.10986710947914514,-0.2186795150788928,-0.3532386066259632,-0.11968735704719022,-0.39860197338242914,-3.7157383046992307E-4,-0.004191555283101226,-0.2706354552731052,0.5158129457067149,-0.2275064872490722,-0.4208105454416212,0.32822272448468054,0.12656554561393493,0.00895329157426917,-0.08771922602525174,0.10142137909832964,-0.32743798016374515,-0.3851003445504335,-0.08157877181148199,0.0363146472526861,-0.1493684953892394,-0.019007002759027225,-0.27958844754298573,-0.01923846323975282,-4.242901070086346E-4,0.06916766320496147,-0.34297138426794926,0.06020731392153105,-0.041694196830110324,-0.31022737400251116,-0.14868052846335544,0.05953909380091002,0.1257899492196284,0.13937868668519554,0.007681234922408448,0.01894613463172739,-0.10338089395683142,-0.45349515139276053,-0.3082156814594411,-0.32110570351808637,-0.0824662018155039,-0.2136734375772019,-0.015447337589686146,-0.2563263138391403,-0.049424630947503004,0.1433548193100932,-0.08726449525437721,-0.07441964416170156,-0.09798497903893025,-0.06816404245753784,-0.09038871716675302,0.1301605716096386,-0.28442523283341936,0.1869887806957366,0.5523126200015106,-0.21356167860321135,0.0214301394720379,-0.01686351298587495,-0.11519525518153269,-0.08613024985786535,-0.2912064773776197,0.255085223721148,0.03038384203682017,-0.3351906655993353,-0.17429460790864892,-0.05163009998039122,-0.04364984484878372,0.15379171070269562,0.21763270295102105,-0.07933489432088475,-0.10841691575422127,0.024685216064938023,-0.16476960468636734,-0.12123990251124102,0.2631846567035944,0.042086998917448146,-0.381952332094489,-0.4031927153490105,-0.497366524134166,0.05926288658938405,0.12075623834799183,0.03226151995661618,-0.4524749221321994,-0.0709605617497354,0.07338002820687825,-0.07942254814523417,0.1552938108227"
     ]
    },
    {
     "name": "stdout",
     "output_type": "stream",
     "text": [
      "6983,-0.17481678558894168,-0.2738015979746647,0.1794492259892374,0.025212428235614,-0.39487213762848095,-0.033688605732268846,-0.12614347342715815,-0.16937621639427047,-0.014281252821355752,-0.3023004240574374,-0.20343032658857368,-0.05633788326333389,0.008962564615446197,-0.08645198188161754,-0.4692099791727071,0.0443877668856402,0.08992485146372198,0.04418685939418966,-0.30640614925452175,0.4603704432702399,0.8294485172268498,-0.4284622391589497,-0.1741985023582529,0.08805259500875931,-0.2982317935873966,0.1262873121458701,-0.47741505718399235,-0.7470738970720104,0.2681042856593802,-0.11516450259132158,-0.04175071471939835,-0.4974945772772317,0.2924215510270909,-0.39100521465926025,-0.19677480809286238,0.15303458442522988,-0.07379996641084242,0.36505764456941975,-0.0012520015441809173,0.1822592807061415,0.2376265467688514,-0.156245014163958,-0.07334868443436224,-0.1539205935758793,-0.19986438507306098,-0.04408251974612408,0.06554372272927453,-0.3602940173977117,0.16038039359742257,0.2732840604880206,0.19841265314055032,0.176588794640207,-0.03763833042010995,0.007273730739804071,-0.02408217411115043,-0.12584377790247847,0.031709276773927125,-0.4102099364311404,-0.2751202955966649,-0.3180623585170462,0.1468712826025874,-0.07868243463447624,-0.008126013428208212,0.1339659475393811,0.023337418643269582,-0.0010902620285004603,-0.35842309501912306,0.2519962553312138,0.38000247749442384,0.0809603696904528,-0.09323997373732383,-0.007697251448367669,-0.1090061562733792,-0.29653035567004465,0.08380150135911249,0.19240774557092402,0.14091514183550471,-0.41782846764328757,-0.030536052633152892,0.1459880689980908,-0.5426604097198409,-0.15300038725465306,-0.19043217554602043,0.1231665262773172,1.162485404011081,0.10560057958897688,-0.11670515947032067,0.06498861671398275,-0.4211135913559484,-0.3589490748220149,-0.11211519179355872,-0.49295758077264035,-0.09449782450252615,0.6771826644917819,-0.21621670727916753,0.027486720879665756,0.22396043168648447,-0.21114595865757568,-0.4166662396943107,0.25434530218935597,-0.005118520171871664,-0.18114729584585743,-0.016676206223579983,0.3652268652833855,-0.3030084027568567,-0.09994045330134606,-0.47402066378765767,-0.2698105791420217,-0.43424824878867035,-0.08267502335660479,-0.7421960149598692,-0.3192351615802232,-0.15928176062837274,-0.12651007684457438,0.15706196648434367,0.16362825219025307,0.08235442369919739,-0.21470041165349596,0.015532620194700702,0.12268947786823152,-0.044077555963514835,-0.39413321346084557,3.3986220081554157E-4,-0.2503086785861889,-0.04219256009520869,-0.21477665324348977,0.2565130580708004,0.1557598215618416,-0.15290119686525414,-0.0915300286463017,0.14237126962147853,-0.12189803696500198,-0.13749732097613682,-0.11768201395890164,-0.5815251837547261,-0.18882316771841812,-0.21276169792627908,1.1912428679792301E-6,0.1391559028764576,0.13520030693034996,-0.04455254300906685,-0.21245913449600407,-0.05923251630385985,-0.013252107107477413,-0.09390664003702694,-0.003868999529122579,0.45392466082755245,-0.03020321004019999,-0.009104215947167729,0.0650853043646557,-0.143014219201418,-0.1338397640955783,0.3140328440036068,0.06758047758888253,-0.2584908697060328,-0.05363137313761473,-0.002226066675675385,-0.5582308021148772,0.0183889899164681,-0.14049800925036796,-0.15781109978005145,0.3099719356115931,-0.3796917754178884,-0.3005272906006294,-0.2071930734648147,-0.07867761731002754,-0.22551781632858656,-0.03349525437327664,-0.5125234291627119,-0.16759949786413061,-0.015820438124817333,0.05443538058469955,-0.13051603032806974,0.34806452827004364,0.13628544186233743,0.11701361979194448,-0.08377029311597782,-0.05919027764557761,-0.12931502288189956,0.44807685529841285,0.13198193656994375,0.10993859217647664,0.1567541997223865,0.24295645069289143,-0.08749551785847523,-0.4805166497814643,-0.2996648792601136,-0.36341648841336305,0.11519775955557096,-0.32548771668891885,0.07270882601090294,-0.4560625391090184,-0.1175344326852419,-0.3834526101847251,-0.1752620517096563,-0.03408005873678316,0.13376225334860273,0.1357949793457998,0.20438847014458678,-0.1411610113553043,0.08554333592412965,0.21080852204730052,-0.02334045287316271,-0.19869032802759146,0.01391528678801269,-0.053085780236211216,-0.17099152503934367,0.05414717121848497,-0.39567200308032907,0.07750478004661622,-0.25521965817877684,0.9973044473421405,-0.09214285892125659,-0.03431580434163317,-0.3348012729828182,-0.18939580832291245,-0.06733412433871433,-0.24274902609711693,0.001840138121159506,-0.028665173385186395,0.015246920575007362,-0.4350819697505643,-0.1421140461676275,0.037833468248153354,0.1549195490259804,0.13526473455086105,-0.03344529424520849,-0.07481212841984924,-0.0697069530420437,-0.715394907474411,0.033576832623677666,-0.21067339731263285,-0.09143814310859687,0.022583782297009306,-0.06830066302129227,-0.09936751927109096,-0.16210740472071844,-0.4539374380365407,0.020837277867424713,0.13851578975698597,0.08647372186621047,-0.4951601651089741,0.00634544562257781,0.09020023362625115,-0.029046599435543816,-0.003704031476190554,-0.49251252027389947,0.6419955385842335,0.010854758961912464,-0.004977685110229074,-0.10989156240628217,-9.557614666099812E-4,-0.284498261058749,-0.017226275751517688,-0.12245081074430797,-0.060873145043024136,1.0850273868876652,0.059644039466898384,-0.05577873470952875,0.2878181138549503,0.1778930046697649,-0.2699482810164741,0.08001666257004669,-0.2762325533046318,0.15326260435417513,0.18503928522610807,-0.13898912355204338,-8.733807975061935E-4,-0.5323203382551953,0.2340739771547338,-0.4023545128402774,-0.6773695412006894,0.5241879946549626,-0.04519434379537848,-0.34222778152321987,0.03051755998447529,0.22777738380325577,-0.7075098682563464,0.542496614169841,-0.07329018583429082,-0.19044734220463944,0.005655810835418284,-0.38857439936097404,0.01566075033670432,0.153998305076162,0.5179890234774658,-0.0783328602489229,-0.038458040132560004,-0.3213292228691743,0.5147989381947059,-0.07903114070296442,-0.17743443462783812,-0.03929925953413173,0.016030615194205133,-0.08486884552132876,-0.10347686722442309,-0.10241817483032954,0.053735009459368724,0.031012512203440038,0.13707149594072626,0.22688671856317666,-0.03764950853834333,-0.12435053840322127,-0.09161706876254225,0.024416259399089292,-0.6051936456703723,-0.0713897220649761,0.060864514098311236,-0.3541504035644086,-0.134209089261395,-0.14574634438291584,0.0980280474314239,-0.041382465414603546,-0.17916107050586424,-0.07663186445134659,-0.021675279995102173,0.12022931982935157,0.05048726095859729,0.20265780662190083,-0.26969478624747156,-0.1314193071650459,0.05231398692140419,-0.1715513055008638,-0.04795102495716458,0.20492574605019012,-0.20635456189899157,-0.246443152254378,0.1952734999218504,-0.07127741365955609,-0.08307970600723225,-9.810674763472626E-4,0.5523082122865519,0.05517119437689595,0.2294721112685277,-0.01325544326442996,-0.07445352891511915,0.5109767028391194,-0.3855580135395645,-0.4304197589487722,0.15974498841373114,-0.151417119081082,0.06877293809598815,0.3351221444047101,0.06852806102865865,-0.07017849069993125,0.03278649889393271,0.0900846854903849,0.8525727335769229,-0.14020340623529978,-0.8061740407569287,-0.20908101230119203,-0.2859617341818168,-0.6188781586066588,-0.15502568232404515,0.024794422763628903,-0.11906281652528855,-0.003702242528859922,-0.20512361077825994,0.0333729760788275,0.4033850103838487,0.0790755661020889,-0.0063086026571448845,-0.26664646220931826,0.2887534734426162,-0.11406496587005983,-0.10233140632361765,-0.23368536011276742,-0.1608849087682529,-0.10535293821348533,-0.01806028743095395,0.10916597115853141,-0.25167982243448844,0.390390028790283,-0.15089831829667963,-0.1773365285299412,-0.03738053183152841,-0.0887837826397831,-0.2912520304750603,-0.43199978121385924,-0.3323216318943653,-0.14027203795087712,0.14168302334091393,-0.17220915757358948,-0.3659752451493494,-0.22660652675728593,-0.027909906124682134,0.06742250642544716,-0.37422928452167814,-0.16049661963277403,0.1874113029278497,-0.5488873222999425,-0.03403316962373962,0.2086569708768854,0.046379436826263484,-0.2788068633001081,-0.12188903239332098,0.18143431163925586,0.11634071875553217,0.10936266766564727,-0.26111770160682346,-0.23765499535234447,0.03650022366515749,0.1699056303546553,0.19205032466099792,-0.2108355737816047,-0.06180968637980435,-0.22686409718352632,-0.13314742320641834,-0.4787559681407118,-0.1431572617270083,-0.7943035591774638,-0.052859532498995394,0.11464677652306361,0.04735983678881929,0.04142704970222486,0.2109878715895814,-0.04224611302436025,0.1648371167052633,-0.1345464680289225,0.09683726955517181,-0.1947887299694793,-0.2739975776036347,0.37539156661138945,-0.17189956540768023,0.09817409932452319,-0.17166484434163465,0.2258053680163872,0.2220008093552243,0.35081861932043945,-0.35599308275146735,-0.36848718559110194,-0.012771485570025911,-0.045848874281621696,-0.9365075354887472,0.42234902237019606,0.1953780984416447,-0.032328046614938794,-0.3647405671990973,-0.2151659394208761,0.042709273469968695,0.2737654570555036,-0.42942561774878496,0.11624887191010788,-0.06675688208271251,-0.21830142450255388,-0.3651396267015416,-0.14368837113840835,0.018589719405970317,-0.3104105698121531,-0.01388485986481302,0.1722525079595725,0.14204974098826811,0.22378172964284554,0.0537944011102043,-0.0906654003536872,-0.2021927913856388,-0.04398925341246571,-0.3042384137130566,-0.1062943459333355,0.4339100947891962,0.27242720999697506,0.10404861012066403,-0.31980881324037624,-0.3953991549927479,-0.08009192164852022,0.0759516957512313,-0.5663655826286554,0.08974796290594633,-0.26602376675579315,0.5517098066921255,-0.07140106191735662,0.08193360894214187,-0.096846007973538,-0.1357648663813329,-0.285537088694627,-0.3950619494624326,0.07027826531689506,0.03128232555740648,0.2099389883681236,0.781086837822571,0.26303254063912856,0.07858930919806975,-0.007022018777519583,-0.16430733113903892,-0.033171419724550386,-0.11829118868699232,0.02521408899259642,0.06459398441515471,0.10168906079783048,-0.30176027883598705,-0.3044065885056836,-0.04194596824303218,-0.15664865425858637,-0.12043675175933877,0.06634291456584593,0.08399714716004698,-0.18580820151644034,0.009936768132558704,-0.1291492626615058,-0.09110290573530269,-0.43738428621778613,0.16765245474607687,-0.14475285865543522,-0.013984140874371255,0.034721185479398814,0.0714640329906913,0.131368317508467,-0.3244444922065086,0.05125549083580179,-0.2906839335081969,-0.5111899858462021,-0.09656927340087829,0.34234345030204316,0.5189286357768162,-0.10167462736050209,0.11338591736810445,-0.18338600519230952,0.3003844390832086,-0.14487118034472915,-0.14878714809046295,-0.3718031463875102,0.15227084989410927,-0.06375334850972524,-0.031018547174471566,-0.4435162931782109,0.19581961109624751,0.05274516980739506,-0.0719589905903643,-0.11526500673204469,0.16575166023002946,-0.07066958475962665,-0.2224498675925032,-0.1789004014641044,0.1709331456085954,-0.12026837130459217,-0.3777009728040219,-0.12704727518495554,0.027381951386779135,-0.015350120112629513,0.3785973883107472,-0.15609847504338162,0.014076556534650569,-0.41478245081958415,-0.056901035745576874,2.7958106217083444E-4,0.46388742761084256,-0.34555121704301245,-0.34232366708692,-0.28726037690904016,-0.08144386037359119,0.05433990929449724,0.14345712704913544,-0.9256618011088432,0.3852021150500327,0.17005282165512436,0.022952462190388632,0.15092203484199718,-0.45008932764134507,0.08284345876285415,0.019012949148251378,-0.07846282541820686,0.07460971688548985,-0.06935057976907102,-0.3246358304404437,-0.013694213036216691,-0.1970735001029296,-0.12573797662870367,-0.057250396371995894,-0.5143256250282016,-0.169746251996634,0.03821842709714166,0.0021361132179333196,-0.007740940430913785,-0.2708375478267153,0.0729821418427524,-0.3156477031811147,0.4669936535780918,-0.29674924100342687,0.3785010716707413,-0.16930034058361887,-0.14018786646532455,-0.5018141095180954,-0.3352110953781546,-0.21427179586249823,0.0041346964810267135,-0.15120738502011927,-0.07555267623671713,0.060905603920313404,0.24437879925231795,-0.15914328997879654,0.02657371990574401,0.48877206275171553,-0.28431141223353534,0.2509998105171995,-0.05697886171000627,0.19020867887284038,0.026088691145733398,0.5174271714895494,0.1748326234719626,-0.14626480759917604,-0.37682365962188785,-0.029330431169047586,-0.6812863567019581,-0.08285552385940627,-0.09481379777262752,-0.23916213712620876,-0.10614696441637864,0.29717726687962276,-0.15617570447512655,-0.05187146547557798,0.008928597227620813,0.32405824764619984,-0.04177022798689983,-0.18995642911994037,-0.39589034935212947,-0.10723931883419927,-0.2625634799568952,0.21442548034184794,0.05823990562616294,-0.11158459760163908,-0.07201021910171425,-0.11914765125459618,-0.011931293788506825,0.37633906131621114,0.07549179140406345,-0.3056583802271752,-0.006364700596378895,-0.5323067026141816,-0.12123477365888251,-0.17878479321321533,-0.013205336025469666,-0.02135546292067591,-0.23753363797667326,0.2845691792126358,-0.10784881561252578,-0.08898469626853721,0.05568004257300772,-0.3056271342144484,0.49550976293870497,-0.3497862129233585,0.5403822512061541,-0.41132147370433836,0.014247860184946183,0.06686502530490941,0.32931892382501154,-0.1489913312495262,0.29041627905399947,0.1261366227507787,0.40149776957109523,-0.06048540423456333,-0.3285884042860972,-0.019241314724787142,0.20139444179147545,0.2668337488110372,-0.2008459302201652,-0.14680181508569456,-0.1954108068304296,-0.03143327680862641,-0.24071792208205234,0.14635299522535908,-0.048101476139386055,0.36679531976699736,-0.04294915617549133,0.036883173239858756,-0.011534420607080893,-0.059702287128924364,0.08602306085237217,0.022931104531231847,0.13937424723554484,0.12710011884114905,-0.42447598704321304,-0.24410315238674565,-0.5116426318832529,0.1391895965988821,0.09576752735255144,0.19015250863111835,-0.008947622288068318,-0.07049205626727094,-0.17746807121256186,-0.18208870273735417,0.03299818306615372,0.005050438672954331,0.45816101574038504,-0.19088357491142977,0.03900867663259125,-0.20084554103413294,-0.13719874236286625,-0.002832240429553992,-0.5405149983269725,-0.2932648689426068,-0.13564885529426488,0.14020420733100925,0.2616025957408924,-0.1155884570518503,-0.1424855533270097,-0.09359493164441722,-0.06131663425694586,-0.45039828534291165,0.13635931337668547,-0.27167073412598314,-0.16954022897485152,-0.10134300136659954,-0.4061560224117106,0.01265919669428301,0.06464517538169556,-0.16533918592390162,-0.32519689096160853,0.5955216236419,-0.1558471323249403,0.21879267715944864,-0.2010768062431656,-0.2710677071405862,0.04006846595187848,-0.40029496939565207,-0.26552757227183127,0.2164063000613554,-0.1510292742467547,0.026389097485354444,-0.33849340900389857,0.07317632634557468,0.37251305523407124,0.029339899682849575,-0.41863558743889806,-0.22647264847856943,-0.13724299761613876,-0.3293630605180024,0.07746654085916262,-0.40323679312361704,-0.22320297379326118,0.17630672731368155,-0.17085518523483964,0.27175986644795136,-0.10003637653686286,-0.0387662615891375,-0.08641781459028894,-0.25330121093387226,0.11331429179593985,-0.07783690405294534,-0.1688541270492901,-0.4805871401399189,0.1808997898357313,0.28914094423505526,-0.2280211374613786,-0.04731398281530164,0.05541001596686469,-0.05710636619812778,0.22267012425937374,-0.21027272818074214,-0.17975172921220975,-0.10583205820306274,-1.3179382550437473,-0.10332521008353164,-0.04464282276530731,-0.002070416361023019,-0.2340932542025008,-0.12174190781375263,-0.1727251098067315,-0.226562732432063,1.009666367103163,-0.041157751091006105,-0.19053645730317073,-0.2833489972982026,-0.3709239786840925,-0.12075414308672844,0.03180812002985133,-0.08073432659928638,-0.04205583395404373,0.08743602641282343,-0.2461147485290214,0.34366201679333375,0.056620839622710015,0.21147729805640175,-0.22403030245255856,0.013322919173349237,-0.13948033716042121,0.23351000670515373,0.3000276888519578,0.5473826362035169,0.4783355584490612,-0.1453847620273586,0.1136009246363425,-0.09173070679349646,0.010140598016351737,0.12620231756546293,-0.6035295914765654,-0.21661333497944862,-0.32742058004065056,-0.06799338587326047,0.22228946908560152,0.10664247335621492,-0.32920581236564317,-0.031755289741132765,-0.01630290173280701,-0.05270110469116062,-0.011763863060652833,0.4475105799826061,0.08912974150336418,0.6123654719337324,-0.4120418118551546,0.029397878873329206,0.08854753335269533,-0.08581609135587508,-0.3951493983778"
     ]
    },
    {
     "name": "stdout",
     "output_type": "stream",
     "text": [
      "336,-0.010378616133178335,0.012832837696711934,-0.3939515992172239,-0.1785102663257592,0.0832801793152071,0.053348828649958026,0.08914169164143454,0.08663334653487709,-0.13245503856424692,-0.021813755768145624,0.37929377087544497,0.04221146496780787,-0.3058893931227382,-0.08279103092854942,-0.1042555496997849,-0.3858526009519956,-0.5319560362134872,0.011600311727788234,0.025396913145675437,-0.06980969950213899,0.0150329456000135,0.0548742893979068,0.1276836192087275,0.07637432967328846,-0.022316941971262674,-0.6958842850553508,-0.06430307741262266,-0.2698353323520038,-0.1226842795336895,-0.1379561149562494,-0.015169642210272623,-0.2088883626707806,-0.15864901447418664,0.29413079003497583,-0.0924271800508458,0.5189286357768162,0.2443928009320659,0.3727511116118977,-0.5721215700278534,-0.24557416967648837,-0.1878535335163398,0.1488825251016236,0.13396917839156064,-0.12991609344134233,0.28333787232352275,-0.2176337191470485,-0.08717869132672627,0.09383355078828372,-0.2147660976598643,-0.1350272117805257,-0.23135847436408022,0.022992807547111003,-0.16437248121131115,0.014664961778501068,-0.07982712330765308,-0.02364209464992276,0.01781334103797932,0.09803689925271011,-0.1907125027972506,-0.1335530260730558,0.14946640639535,-0.12892744790858043,-0.13677869491057534,0.055232301197949085,-0.05890780476327217,0.19288826701467146,-0.6131675589810858,-0.040455429658536525,-0.2508912501475245,-0.05098726692279283,-0.5905020962972819,-0.19908570947995305,-0.19995731027025745,-0.13745507593306294,-0.30033691637649407,-0.3553405403956194,-0.46904972729855815,-0.4206970833400177,0.004954121375714954,-0.05859231420851464,-0.22436719287705406,-0.7766085381443827,0.19622631403314386,-0.34941048666289415,-0.20287960679625175,-0.17287817574748587,-0.04985188940410961,0.1761801525436409,0.39963321687966946,0.30768618913824164,-0.09786745121918305,-0.230156393255786,0.10605354906169827,0.27868232957299094,-0.10782050890549301,0.1380146874272075,-0.43388126344185185,-0.06427471249827127,-0.18397717757282345,-0.30191161386785487,-0.04807585369345719,0.20131271696378306,-0.15765192275153808,-0.2627148655618945,-0.3479085118808006,0.21305033260779235,-0.0994799009140563,-0.17755050644463277,0.014964296825670183,-0.6398142437584899,-0.20083186553576174,-0.3712837926364074,0.02098917576268627,-0.12495900256470102,0.13532903811598995,-0.22812308749342866,-0.0275202865203945,-0.07441182213156065,-0.014217668396710119,0.2213202642595811,-0.6900879470559815,0.4306010991117057,0.24282914122679444,0.03558558768878706,0.020909855689591972,-0.1368882434144225,-0.2221815522733965,-0.07312053944166139,0.18496316036505692,-0.16846988711982608,-0.011540208302861342,-0.3814567421390262,-0.054744780201691094,-0.3067067558085507,-0.10523349813818839,0.44843453712307213,-0.04527179933781536,-0.26802135100553204,0.5098534028057498,0.09225511960015996,-0.02664092594169714,-0.06932596756818935,0.07252026983430782,-0.13174908399984034,-0.036258737853821936,0.2378602991471714,-0.31798743721853356,-0.31084375895239597,-0.3435186386684551,-0.1285250229999985,0.07677728165539462,0.058971800273769685,-0.2148624685665529,0.02640453235785291,0.15708960221894055,0.031133251663383304,-0.03232212623340005,-0.07806909481208797,0.19033285372297293,0.14078783693390567,-0.3405313604898514,-0.29572990467146704,-0.1304090976406676,-0.16162734355013322,-0.0212002374830371,-0.05944518528013512,-0.023404400101433027,-0.12404163311667105,-0.0322592747170045,-0.046252126657924296,-0.26959627154684174,0.09980181629728091,-0.5081969794885467,-0.1072493089851182,0.2728432303938228,0.026155331335656663,0.08401002242456837,-0.19832754921015275,-0.17033650888767637,-0.3919083250673251,-0.33519673197106525,-0.029264716354205127,-0.03048993608814934,-0.3413728657738349,-0.09904640623523102,0.13204196391010978,-0.5661870706167947,-0.1959695678232804,-0.13002843885546295,-0.19271732986039014,0.09127308370221311,-0.2427418309149052,0.05785012324142441,-0.21571107621444188,-0.017669294268463018,-0.2556328128844112,-0.16434824903571965,0.2537980855702468,-0.21799671872870954,-0.11472759184755627,0.029272183147033063,0.5189189444173343,0.08067347337400932,0.3546249894053699,-0.3971671707401227,-0.2847982871049979,-0.06771512870584473,0.03481206734287035,-0.6862894293419388,0.1810504880205642,0.2644070622138869,0.22510649829693172,0.38497597277779133,0.12641248281607415,-0.13607465950841446,-0.3737895143596419,-0.2691305148410171,-0.00819459195673631,-0.050503492351432346,-0.05488795474060768,0.35398896355498116,0.18206042198396588,-0.2125957788639557,0.04261614263439105,0.022205190435599115,-0.27172550500708675,-0.09211810478550324,0.3640105096548666,-0.4041225519832545,-0.13096781555727052,0.19685020195757214,0.17291507287647295,-0.06721598245368102,0.10241885790364863,-0.40036732810897624,-0.20877068856327757,-0.0702179676204645,-0.4130597901095132,-0.22566735727483406,-0.0277547710726915,-0.1789123153691008,-0.06270052071568603,-0.1535199320526743,0.07531953729791734,-0.01549662696898325,-0.013116138361109303,0.10043379836023159,-0.4148161408752673,-0.23752136047291478,0.21046997595936914,-0.24875116284624532,-0.00956841940590125,0.15997570208182219,0.007291649655302263,-0.40175966880688146,0.23626037475099212,0.0980172404593772,-0.10745304179578907,-0.20976332055945848,-0.01291695456274916,0.005784054605165796,-0.1757612198217937,-0.14395893467904552,0.11063294854228775,-0.2037554928371038,0.12895913689674424,-0.12524330757740187,-0.008719440260520519,-0.4935144776611464,0.11377215421829723,0.16442316247950814,-0.2346264759235128,-0.058179235142981345,-0.5289803391683413,-9.866614207973362E-4,0.26733314652609225,-0.03693339183663729,-0.2521891323827426,0.048129135051941246,-0.18980886563719634,0.29374371025515844,-0.16611760216707014,0.08487761457353407,-0.020603173076537473,0.06744348486214065,0.06085986517877512,0.07707067207396119,-0.3169820744059535,-0.06993788025919083,-0.18255964418512222,-0.2787948783882612,-0.5722897305036058,-0.28991077908676266,0.2654601079750976,-0.41087254993805794,-0.1532918726990665,0.1656597820198887,0.4197574769078288,0.02350866450707901,-0.04739541146110882,-0.3316839243027248,-0.3893398447335916,-0.2055965161565751,-0.13665582657737343,-0.04167905290555193,0.15631277723309406,0.06223854459715845,0.057010871229207255,-0.21121358644162458,-0.08429009764492613,-0.130796431423906,-0.08064792326143068,0.37583024103032914,-0.0543337214563946,-0.08466561828406523,-0.2697616771609318,0.0011561234490272952,-0.6240424724491234,0.19081144739768938,-0.19179083760530524,-0.160939181501059,-0.022479321558018784,0.15683374669956818,-0.17939916377060613,-0.4680203175268498,-0.20203357638036054,-0.004579949877675146,0.5108447536905977,0.06704366679165655,0.02177430919071682,0.25831885759739226,0.1530106782023876,-0.062119545474869135,-0.6740011450144818,-0.11257387470735429,-0.25773135596230645,-0.17888631023683926,-0.15344792367467264,0.06422050299152347,0.1415850035937991,-0.1533922393126179,0.09708252070552852,-0.3400324624064709,-0.1786382691479531,-0.48295898178835484,0.0030484163966215095,0.42955721041259765,-0.10668620021658706,-0.7816279971314571,0.5850200267081976,0.10084781016225029,-0.18951736541037448,0.5023044767729317,-0.14170027403804944,-0.3097525300178242,-0.4862694927283976,-0.010327563888304933,-0.11366973395866697,-0.01511707211797192,-0.35753301550530286,0.10545753133341809,0.4666564161098918,0.007519838076811215,-0.265125468716488,-0.041277793075130305,0.11220486104325389,-0.3032995677872325,0.43111388874814194,0.1183240781398511,0.24988273655395912,-0.40455748753728343,0.3014967671076511,0.26224545033479274,-0.03096445100612319,0.001875284688484569,-0.1714967495275029,-0.296635486157843,0.15697806981490176,-0.9174879853574414,-0.31576228130288075,0.004152033536607587,-0.6164229838068075,0.2170014221235799,-0.033783627135329765,0.07874900205716688,-0.13248604450721946,-0.002671062989041606,-0.057851299481225145,0.0923898794063954,-0.07124622486513434,-0.13155472564045165,-0.03388308094554489,0.04838219930431623,-0.16008935056956466,0.40292693379945643,-0.4865636046833019,-0.45600301226364753,-0.1943015969102378,-0.00361107835483136,-0.24206592443265448,-0.11793970954289403,-0.4137975471526127,0.5489688873272269,0.051940394483494724,0.30641683496243405,0.054096975047359455,-0.09676343767329135,-0.18770592631000685,-0.22859019247653486,-0.5134284501776443,-0.13545561324919225,0.4838631418615358,-0.3018832368784611,-0.15096699773114616,0.3955241938883359,0.5524314776647554,0.4189251030389628,0.11409784837205683,0.02111471278710409,-0.2607789763491362,-0.1935507321985155,-0.16301720041163428,0.27801043365881656,0.16875389293963525,-0.11874381857669374,0.08222183047432001,-0.07513193463080803,-0.021598562673921618,-0.05136968875589257,-0.08959510436254481,-0.20225883694569696,-0.20367107816612412,-0.22859598937325076,-0.2349455351356077,-0.049619794162807346,-0.4658544326521249,0.2661180143840586,0.1232877732619732,0.1321812051278349,-0.028541617742815006,-0.17326321792460525,0.014550452897744636,-0.19954508562293669,0.00472696376910144,0.08750516246287356,-0.21389830753562145,-0.07782303481436868,-0.36557881742580717,0.21896201404627785,0.08915173475034595,-0.31157310787384895,-0.05080160797629816,-0.06566372399886712,-0.1088125361563669,0.0873703250189279,-0.28537724130890646,-0.29663147496525205,-0.02261681582803931,-0.18021296889265861,-0.11692744096017434,-0.18325077831532036,0.1288962642329424,-0.6964867350107402,-0.0194378135054145,-0.1321531510910658,-0.004620936181723463,-0.19179052851105358,-0.12832292665805806,0.11689710312241386,-0.27566769770586597,-0.30278684821070806,0.08907641406052816,-0.05992802030495735,0.04432864561964771,-0.43811123550015235,-0.11416390258452702,-0.30500234934160236,0.16222441886995637,0.18962679598266477,-0.4971961913949888,0.07046790821754677,-0.15310075444313542,-0.1636174825914074,-0.006787211892973293,-0.06463018256378268,-0.27892443917966253,-0.18970824266364067,-0.013193082538872788,-0.26492449219102043,0.08030275571498931,0.07016188559698687,-0.26405269017325866,0.06002022154085992,0.16527032141302453,-0.11341166062968502,-0.36729027095121297,-0.07207055051374299,0.205878355144406,-0.22011021910894485,-0.4272170921888173,0.2618190918247617,-0.2694107261449892,-0.14019139516722035,0.15367778946588376,-0.024293666534441375,0.11760626758479935,0.48274338540038403,-0.1305594671440668,0.019521027975118406,-0.12158709229984938,-0.395660470621197,-0.22064299215139926,-0.0384534412929373,-0.28383962303232396,-0.1811824927261346,0.4209810244925306,0.32810052410229074,-0.09505851669305175,-0.008388225506281507,0.10036270115941955,-0.39042805426647414,0.11130145041703608,-0.054421389474408624,-0.05083932947830231,0.05121012562939758,-0.13786091395445993,-0.42520334778335156,0.18722758504398232,-0.6376820640963718,-0.050930230215912684,-0.10933878939601915,-0.05789030640451199,-0.23650380088854153,-0.05614653601068429,0.15367026540734943,-0.4271554832001345,0.13810890767675774,-0.13679407999194895,-0.15106151060131637,-0.34730703193596324,-0.02870269685136001,0.22427623725216392,-0.11395989876989118,-0.15931903760498342,-0.12177438620186237,-0.023731861124430875,0.16145416336812188,-0.02731679087614175,-0.4139514471378733,0.044606363653316806,-0.3702564568822403,0.15633545692631087,0.10772843380377901,0.3702029194356996,-0.18155330715862242,-0.12282232505199236,-0.23780359365738923,-0.19428571718518753,-0.18478234993760795,-0.2724431617457602,0.02874889663148935,-0.005155308277735112,-0.35668251823131075,0.5553753741832026,0.0552822329377757,-0.057571484651286815,-0.28151357406608357,0.41113705886081503,-0.13336058467986184,0.04076963461128246,-0.1346850271169525,-0.20394654077440355,0.06868125386490972,-0.06269952553702048,0.23518126053891117,-0.3638104516493164,0.020274598574761916,-0.14465885999843892,-0.022344813553370653,0.20667037055177867,-0.06092683396633758,0.12939781703373146,0.05608727811347737,-3.532036905560845E-4,0.009818762133636014,-0.10026690700782506,0.014788219450782222,-0.15080406498336146,-0.7464556437474698,0.1773017952761777,-0.38030731832691295,0.09161730478857572,-0.07968131699472436,0.16684722773243166,-0.4622759502356775,0.17304588906281426,0.31210504703299974,0.14023757207379023,-0.04489083399610131,0.10427349491278433,0.3644595257992567,-0.11978382058961584,0.051851215298127216,-0.05414361344592817,-0.18783374822156304,0.18677519792815747,-0.15500591848421796,-0.08530929880959577,-0.11646867763590386,-0.42381758321251595,-0.3439594163436057,-0.021117623336903358,-0.10194556735556855,0.06599534182271397,0.1562558481888242,-0.23166943652279082,0.07080497554825702,0.05091187265483134,-0.005210332901739202,-0.12491523710084279,-0.42504998402792055,0.14766158810373578,0.11818667282192948,-0.38429431927459157,-0.47525946364382166,0.28969240701950916,0.10398740404009833,-0.18349735246150833,-0.3645088453618782,-0.15856273515212344,-0.07726850316339902,-0.15152003433790412,-0.2392354640133063,-0.06870066276047533,-0.02110456047188835,0.02444700671459588,0.07205248907501184,-0.0704999776956984,-0.733104686145349,-0.006914435980797916,0.21686209154741054,-0.27140756656126,0.0633488847659085,-0.14303944724057818,0.13106930786412746,0.07013101706968343,-0.03203020959011438,-0.11079837072712942,-0.2314045132386971,-0.3890787552734673,0.1325308843347843,-0.2367360854436068,0.2744577836125912,0.0628157515372764,0.49283819050766003,-0.08619879424591234,-0.1321406675643328,0.06872894748434089,-0.09639366953943805,0.1438425189352003,-0.49872287037863106,0.04478088039028852,-0.22306947440065905,0.24744816972468253,0.11738596382454553,-0.5767836990354668,0.06274015569637625,-0.7357211390691095,0.08570380676612814,-0.05929769050238725,-0.10870913435754023,-0.640979088717081,0.10019901511073862,0.47338976052200965,-0.366218793209695,0.08126531926295041,0.4762694195046491,-0.11736099499814504,-0.0819492416750273,0.23740415343902238,-0.6159907879372004,-0.0750135060372261,-0.08922625138959016,0.11690128228563033,-0.1648234114113177,0.07100330543592472,-0.06651969405520008,-0.007678694147221153,0.07423301336466563,-0.0059023834956307,-0.11335102607943401,0.006573691472631128,-0.11054652759675658,-0.15082345198481967,-0.25009514449470804,-0.27585374654536776,0.015982396762733466,-0.2470265770661646,0.1523476569134393,0.08046369402019901,-0.10833023019300897,-0.17306953432188013,0.28078614862233126,-0.0033844649286853467,-0.25012502733691927,-0.23874586086455815,0.08582785235430042,-0.531123632053132,-0.12104880341947787,-0.4976396991979519,-0.5766627453735842,-0.22118555012762162,-0.024631372514989317,-0.33313728334607656,-0.11558672084233373,-0.053872714004979026,0.08025882788587002,-0.07238370701594499,-0.2978393398852554,0.004842692486618515,-0.3928145999302699,0.11132726323979543,-0.08462404642963067,-0.21901872408639983,-0.40981851902313876,-0.5168684967938905,-0.26003226730626483,0.17488313108956124,-0.08083516304359238,-0.3393625150863072,-0.14689325576577686,-0.14759370444258593,0.21301365072581155,0.14368348321514018,-0.28666605609185836,0.1274499332197671,0.070593846813313,-0.3279081228297416,0.0949585111323252,0.0711793823316466,-0.10581953756693843,-0.17280681089984212,0.14646928757382469,-0.1650909175847147,-0.03324968073149505,-0.6570943197097234,-0.005671953292401125,-0.011372129991709827,0.2461123320084571,-0.12364941261039837,0.034023648573105615,0.34988570933724517,0.03352545700004892,-0.0112381404690893,-0.2017528357724719,-0.03004080012855397,-0.21046631423137047,-0.19645864705079608,-0.04954270547999499,-0.3510896994328741,0.011215500038032315,-0.14081681554531378,-0.3582067693457383,0.007601695391504672,-0.10033938271738625,-0.15728402262805385,0.1645509402538619,-0.22235389094635627,-0.06335666852649968,0.07425243494714971,0.2693581238429687,-0.0346008827870399,-0.05901648614870542,-0.4080129527807131,0.10048583049458883,-0.16224560861829712,-0.044594289214213795,-0.11131078821353775,0.13497470669358852,0.004778279987877726,-0.14043477962997822,-0.13181920159060195,-0.23415587850336006,-0.29768498632808255,-0.01972682357484953,-0.1807038027057557,-0.18697940020251652,-0.330415382396207,-0.08586549977956573,0.012655743829459524,0.004667560256238142,-0.2743587582724848,-0.12415553177845332,-0.17649460161370192,-0.16526019944769646,0.2074762157356285,-0.289662051168982,-0.1847594974293763,-0.016244493617583948,-0.21187604814231312,-0.0700210747145772,-0.3"
     ]
    },
    {
     "name": "stdout",
     "output_type": "stream",
     "text": [
      "2498266611138493,-0.356618966027567,-0.26451591404211494,0.08603217204216837,-0.2487892122424819,-0.1971957975826874,-0.0676096757156551,0.08846884589768521,0.04319511070335615,0.003367846558089315,-0.022571148355747347,-0.0856006857307671,-0.22249873217610303,0.12104899075693931,-0.3673535222959606,-0.1940179414565829,-0.28673690598305734,0.25534805861023263,0.33483528528983175,0.06073176489142836,0.0376821175633071,-0.1305309826931595,-0.2661049852006236,0.09893237585760023,0.031822258076906744,-0.09385278271033773,0.09817464200955348,0.009841462389934563,0.08196837199653999,0.12213930632275236,-0.1180537097604254,-0.18081473907672369,-0.06853689072007078,0.4946794804782336,-0.2641892180967004,0.3743892983807374,-0.3411148767259209,0.08016285089256774,0.5896474196416258,0.10091695923650733,0.021704303991862878,0.21072148602735266,-0.22552601845025583]) Intercept: 118.05392267053989\n",
      "\n",
      "\n",
      "numIterations: 150\n",
      "objectiveHistory: [0.4999513287258013,0.35212982889237715,0.06944644752939652,0.06139260971165587,0.05335922245773715,0.050964038937147835,0.04917874755912981,0.04755307820340745,0.047143731338653405,0.04660512360223371,0.04630585336392294,0.04617997696497481,0.04607993724534478,0.04598805783860374,0.04594235269546037,0.045878543683540295,0.045845072114635406,0.0458127714574957,0.04578961254202844,0.04577476258840483,0.04576003098443071,0.04574897566055391,0.04573166256326881,0.045726323430604766,0.04571219209751738,0.045706200369826026,0.04569801210723842,0.04568776058616386,0.04568283441720087,0.045674709796065825,0.045670328134815766,0.04566637302882412,0.04566236378110354,0.04565956793554197,0.045656102003206536,0.04565271457249902,0.045648823523115827,0.04564586858596228,0.04564290018018367,0.04564002404791187,0.04563709522417599,0.045632295717916355,0.04562975999809038,0.04562508501736126,0.045622148193126086,0.04561966663423932,0.04561719468603909,0.04561473953924046,0.04561022117363497,0.04560734116125232,0.045602919428363316,0.045599022909350376,0.04559513121451578,0.04559098926790491,0.04558594942705965,0.04557946195043001,0.04557448662998391,0.04556938963611032,0.04556268629107664,0.04555735153209678,0.04555241870943887,0.04554723946685394,0.0455423554714975,0.045534059050271636,0.04552568809984066,0.045521417388676766,0.04551703718084933,0.0455129725094104,0.045508387679964145,0.045503824849365736,0.045500576706970865,0.045498950103276724,0.04549604884140973,0.04549412930112487,0.04549217970018367,0.04549079767830191,0.04549010670526084,0.045488979180487284,0.04548819234724239,0.0454876596013025,0.045487207190659525,0.04548677710935702,0.04548634005952777,0.045486053495266576,0.045485796835383965,0.045485540457333024,0.04548540374093356,0.04548521063558158,0.04548508322825664,0.04548493268638004,0.045484691583428695,0.045484497380581114,0.045484287762975424,0.04548405354000226,0.04548384442381767,0.04548360014178417,0.04548319031500278,0.04548288966660328,0.04548246222549226,0.04548221113661688,0.045481817094166196,0.04548148943205119,0.04548124018779644,0.04548097229775561,0.0454806311537063,0.04548046338078635,0.04548022931603108,0.04548009072108953,0.0454798819735559,0.045479563925826194,0.04547931833007378,0.04547900309826702,0.0454786448405683,0.04547838023427243,0.045477985715765286,0.04547780993280413,0.04547757200841123,0.04547732502767284,0.0454771431400646,0.04547684271750291,0.04547666184746539,0.04547645744479214,0.04547634122042063,0.04547622665956197,0.045475979045459754,0.045475898858875395,0.045475807283238606,0.04547574045501123,0.04547566386945942,0.04547562087694722,0.045475545167023255,0.04547549890432496,0.04547546466830207,0.04547540080344693,0.04547537428643266,0.045475348106878345,0.04547532292068174,0.04547528957072354,0.04547526712482507,0.0454752485618717,0.04547522811826464,0.0454752150070695,0.04547519611380694,0.0454751779801044,0.04547516360368332,0.04547514218842101,0.04547513116696289,0.04547511266194519,0.045475097939867516,0.04547508027809896]\n",
      "\n",
      "\n",
      "+--------------------+\n",
      "|           residuals|\n",
      "+--------------------+\n",
      "| -4.5916616455699E-5|\n",
      "| -1.6305905546872914|\n",
      "|-0.11831988807347571|\n",
      "| -1.2243665873648677|\n",
      "| -0.9183423699376831|\n",
      "| -0.3113721981956452|\n",
      "|-0.21030225017106474|\n",
      "|-0.16032246208920853|\n",
      "|-0.25347465725554486|\n",
      "| -0.1697159954685148|\n",
      "|-0.20915455904383684|\n",
      "|-0.39252057180696553|\n",
      "|-0.11187660625059337|\n",
      "| -0.5997054775856565|\n",
      "|-0.08521033516590926|\n",
      "| -0.6692592357942289|\n",
      "|0.009481424378884995|\n",
      "| -0.6928115094690863|\n",
      "|-0.33198160056036663|\n",
      "|2.018687821703224...|\n",
      "+--------------------+\n",
      "only showing top 20 rows\n",
      "\n",
      "\n",
      "\n",
      "RMSE: 0.14982034293479243\n",
      "r2: 0.9090409852615047\n",
      "\n",
      "\n",
      "Model was executed 20"
     ]
    },
    {
     "data": {
      "text/plain": [
       "startTimeMillis: Long = 1591511550775\n",
       "lr: org.apache.spark.ml.regression.LinearRegression = linReg_b24b23450960\n",
       "featurized: org.apache.spark.sql.DataFrame = [Price: double, MethodOfSale: int ... 13 more fields]\n",
       "lrModel: org.apache.spark.ml.regression.LinearRegressionModel = linReg_b24b23450960\n",
       "trainingSummary: org.apache.spark.ml.regression.LinearRegressionTrainingSummary = org.apache.spark.ml.regression.LinearRegressionTrainingSummary@75c14887\n",
       "endTimeMillis: Long = 1591511571757\n"
      ]
     },
     "execution_count": 27,
     "metadata": {},
     "output_type": "execute_result"
    }
   ],
   "source": [
    "//Assess the above LR\n",
    "val startTimeMillis = System.currentTimeMillis()\n",
    "\n",
    "//just give a LR a go with default settings values\n",
    "val lr = new LinearRegression()\n",
    "    .setLabelCol(\"loggedPrice\")\n",
    "    .setFeaturesCol(\"hashedFeatures\")\n",
    "    .setPredictionCol(\"Predicted loggedPrice\")\n",
    "    .setMaxIter(1500)\n",
    "\n",
    "//make a dataset for testing the model and printing its summarry\n",
    "val featurized = hasher.transform(train)\n",
    "val lrModel = lr.fit(featurized)\n",
    "\n",
    "// Print the coefficients and intercept for linear regression\n",
    "println(s\"Coefficients: ${lrModel.coefficients} Intercept: ${lrModel.intercept}\")\n",
    "\n",
    "// Summarize the model over the training set and print out some metrics\n",
    "val trainingSummary = lrModel.summary\n",
    "\n",
    "println(\"\\n\")\n",
    "\n",
    "println(s\"numIterations: ${trainingSummary.totalIterations}\")\n",
    "println(s\"objectiveHistory: [${trainingSummary.objectiveHistory.mkString(\",\")}]\")\n",
    "println(\"\\n\")\n",
    "\n",
    "trainingSummary.residuals.show()\n",
    "\n",
    "println(\"\\n\")\n",
    "println(s\"RMSE: ${trainingSummary.rootMeanSquaredError}\")\n",
    "println(s\"r2: ${trainingSummary.r2}\")\n",
    "println(\"\\n\")\n",
    "\n",
    "//print runtime\n",
    "val endTimeMillis = System.currentTimeMillis()\n",
    "\n",
    "print(\"Model was executed \"\n",
    "      + getExecutionTime(startTimeMillis,endTimeMillis))\n"
   ]
  },
  {
   "cell_type": "code",
   "execution_count": null,
   "metadata": {},
   "outputs": [],
   "source": []
  },
  {
   "cell_type": "markdown",
   "metadata": {},
   "source": [
    "### Run Crossvalidator on LR model\n",
    "Construct paramgrid of regParam and ElasticNet\n",
    "\n",
    "Estimate the performance using RMSE\n",
    "\n",
    "Get best Params to apply in final pipeline\n",
    "\n",
    "One could add this to the pipepline but this takes the longest to run\n",
    "as its assessing 4*4 combinations - so instead the learnings of this are passed to pipeline\n",
    "Then this wouldn't need to run\n",
    "\n",
    "<span style=\"color:red\"><em style=font-size:40px;>!</em>Runtime of next cell is around 250 seconds or so, on my VM with like 10gig of RAM and 4 CPUs</span>\n",
    "\n"
   ]
  },
  {
   "cell_type": "code",
   "execution_count": 28,
   "metadata": {
    "scrolled": false
   },
   "outputs": [
    {
     "name": "stdout",
     "output_type": "stream",
     "text": [
      "2020-06-07 06:34:45,383 WARN  [block-manager-slave-async-thread-pool-47] storage.BlockManager (Logging.scala:logWarning(66)) - Asked to remove block broadcast_4613, which does not exist\n",
      "2020-06-07 06:35:06,563 WARN  [block-manager-slave-async-thread-pool-61] storage.BlockManager (Logging.scala:logWarning(66)) - Asked to remove block broadcast_5674, which does not exist\n",
      "2020-06-07 06:35:06,563 WARN  [block-manager-slave-async-thread-pool-61] storage.BlockManager (Logging.scala:logWarning(66)) - Asked to remove block broadcast_5674_piece0, which does not exist\n",
      "2020-06-07 06:36:17,850 WARN  [block-manager-slave-async-thread-pool-76] storage.BlockManager (Logging.scala:logWarning(66)) - Asked to remove block broadcast_8587, which does not exist\n",
      "2020-06-07 06:36:18,571 WARN  [block-manager-slave-async-thread-pool-132] storage.BlockManager (Logging.scala:logWarning(66)) - Asked to remove block broadcast_8629, which does not exist\n",
      "+------------------+---------------------+\n",
      "|       loggedPrice|Predicted LoggedPrice|\n",
      "+------------------+---------------------+\n",
      "|12.043553716032399|   12.639894871774516|\n",
      "|12.542544882151386|    12.83751521185188|\n",
      "|12.544329003944888|   13.246655760337134|\n",
      "|12.553202176625375|   12.944488982974534|\n",
      "|12.577636201962656|   13.348873644661822|\n",
      "|12.611537753638338|    12.84087028626979|\n",
      "|12.611537753638338|   13.367661897712281|\n",
      "|12.628067055589549|   13.296635358318383|\n",
      "|12.644327576461329|   13.281320498328512|\n",
      "| 12.66349749256905|   13.090435292769229|\n",
      "|12.676076274775909|   13.304401997780161|\n",
      "|12.676076274775909|   12.996037266034634|\n",
      "|12.676076274775909|   13.138962899679882|\n",
      "|12.676076274775909|   13.180017972309557|\n",
      "|12.691580461311874|   12.950907039134876|\n",
      "| 12.71589776896258|   12.771589360185303|\n",
      "|12.736700896592344|   13.145839691718564|\n",
      "|12.751299696013497|    13.39917084525159|\n",
      "|12.759957758756611|   12.966007723471932|\n",
      "|12.765688433465597|   12.884339065659375|\n",
      "+------------------+---------------------+\n",
      "only showing top 20 rows\n",
      "\n",
      "Model was executed 238"
     ]
    },
    {
     "data": {
      "text/plain": [
       "startTimeMillis: Long = 1591511572229\n",
       "featurized_training: org.apache.spark.sql.DataFrame = [Price: double, MethodOfSale: int ... 13 more fields]\n",
       "featurized_test: org.apache.spark.sql.DataFrame = [Price: double, MethodOfSale: int ... 13 more fields]\n",
       "lr: org.apache.spark.ml.regression.LinearRegression = linReg_863e887570af\n",
       "paramGrid: Array[org.apache.spark.ml.param.ParamMap] =\n",
       "Array({\n",
       "\tlinReg_863e887570af-elasticNetParam: 0.0,\n",
       "\tlinReg_863e887570af-regParam: 0.0\n",
       "}, {\n",
       "\tlinReg_863e887570af-elasticNetParam: 0.1,\n",
       "\tlinReg_863e887570af-regParam: 0.0\n",
       "}, {\n",
       "\tlinReg_863e887570af-elasticNetParam: 0.5,\n",
       "\tlinReg_863e887570af-regParam: 0.0\n",
       "}, {\n",
       "\tlinReg_863e887570af-elasticNetParam: 1.0,\n",
       "\tlinReg_863e887570af-regParam: 0.0\n",
       "}, {\n",
       "\tlinReg_863e887570af-elasticNetParam: 0.0,\n",
       "\tlinReg_863e887570af-regParam: 0.1\n",
       "..."
      ]
     },
     "execution_count": 28,
     "metadata": {},
     "output_type": "execute_result"
    }
   ],
   "source": [
    "//Creates a crossvalidator on only the LR model\n",
    "//Had some issues retreiving the params when using on pipeline\n",
    "//and the pipeline only has one estimator in it so this was easier than traversing the stages of the pipline\n",
    "\n",
    "val startTimeMillis = System.currentTimeMillis()\n",
    "\n",
    "// make some featurised sets for just running the model thru the Crossvalidator\n",
    "val featurized_training = hasher.transform(train)\n",
    "val featurized_test = hasher.transform(test)\n",
    "\n",
    "//set LR with 1500 max iter\n",
    "val lr = new LinearRegression()\n",
    "    .setLabelCol(\"loggedPrice\")\n",
    "    .setFeaturesCol(\"hashedFeatures\")\n",
    "    .setPredictionCol(\"Predicted LoggedPrice\")\n",
    "    .setMaxIter(1500)\n",
    "\n",
    "\n",
    "// We use a ParamGridBuilder to construct a grid of parameters to search over.\n",
    "val paramGrid = new ParamGridBuilder()\n",
    "  .addGrid(lr.regParam, Array(0,0.1,0.5,1))\n",
    "  .addGrid(lr.elasticNetParam, Array(0,0.1,0.5,1))\n",
    "  .build()\n",
    "\n",
    "// We now treat the model as an Estimator, wrapping it in a CrossValidator instance.\n",
    "// This will allow us to choose best params for the model\n",
    "val cv = new CrossValidator()\n",
    "  .setEstimator(lr)\n",
    "  .setEvaluator(new RegressionEvaluator()\n",
    "  .setLabelCol(\"loggedPrice\")\n",
    "  .setPredictionCol(\"Predicted LoggedPrice\")\n",
    "  .setMetricName(\"rmse\"))\n",
    "  .setEstimatorParamMaps(paramGrid)\n",
    "  .setNumFolds(5)  \n",
    "  .setParallelism(2)\n",
    "\n",
    "// Run cross-validation, and choose the best set of parameters.\n",
    "val cvModel = cv.fit(featurized_training)\n",
    "\n",
    "// Make predictions on test documents. \n",
    "//cvModel uses the best model found.\n",
    "cvModel.transform(featurized_test)\n",
    "  .select(\"loggedPrice\", \"Predicted LoggedPrice\")\n",
    "  .show()\n",
    "\n",
    "//print runtime\n",
    "val endTimeMillis = System.currentTimeMillis()\n",
    "\n",
    "print(\"Model was executed \"\n",
    "      + getExecutionTime(startTimeMillis,endTimeMillis))\n"
   ]
  },
  {
   "cell_type": "markdown",
   "metadata": {},
   "source": [
    "### Extract best Parameters from CrossValidation"
   ]
  },
  {
   "cell_type": "code",
   "execution_count": 30,
   "metadata": {},
   "outputs": [
    {
     "name": "stdout",
     "output_type": "stream",
     "text": [
      "{\n",
      "\tlinReg_863e887570af-aggregationDepth: 2,\n",
      "\tlinReg_863e887570af-elasticNetParam: 0.0,\n",
      "\tlinReg_863e887570af-epsilon: 1.35,\n",
      "\tlinReg_863e887570af-featuresCol: hashedFeatures,\n",
      "\tlinReg_863e887570af-fitIntercept: true,\n",
      "\tlinReg_863e887570af-labelCol: loggedPrice,\n",
      "\tlinReg_863e887570af-loss: squaredError,\n",
      "\tlinReg_863e887570af-maxIter: 1500,\n",
      "\tlinReg_863e887570af-predictionCol: Predicted LoggedPrice,\n",
      "\tlinReg_863e887570af-regParam: 0.1,\n",
      "\tlinReg_863e887570af-solver: auto,\n",
      "\tlinReg_863e887570af-standardization: true,\n",
      "\tlinReg_863e887570af-tol: 1.0E-6\n",
      "}\n"
     ]
    },
    {
     "data": {
      "text/plain": [
       "bestModel: org.apache.spark.ml.Model[_] = linReg_863e887570af\n",
       "bestParamMap: org.apache.spark.ml.param.ParamMap =\n",
       "{\n",
       "\tlinReg_863e887570af-aggregationDepth: 2,\n",
       "\tlinReg_863e887570af-elasticNetParam: 0.0,\n",
       "\tlinReg_863e887570af-epsilon: 1.35,\n",
       "\tlinReg_863e887570af-featuresCol: hashedFeatures,\n",
       "\tlinReg_863e887570af-fitIntercept: true,\n",
       "\tlinReg_863e887570af-labelCol: loggedPrice,\n",
       "\tlinReg_863e887570af-loss: squaredError,\n",
       "\tlinReg_863e887570af-maxIter: 1500,\n",
       "\tlinReg_863e887570af-predictionCol: Predicted LoggedPrice,\n",
       "\tlinReg_863e887570af-regParam: 0.1,\n",
       "\tlinReg_863e887570af-solver: auto,\n",
       "\tlinReg_863e887570af-standardization: true,\n",
       "\tlinReg_863e887570af-tol: 1.0E-6\n",
       "}\n"
      ]
     },
     "execution_count": 30,
     "metadata": {},
     "output_type": "execute_result"
    }
   ],
   "source": [
    "//print out the params used for the best model\n",
    "val bestModel = cvModel.bestModel\n",
    "\n",
    "//save as ParamMap to pass into pipeline\n",
    "val bestParamMap = bestModel.extractParamMap\n",
    "\n",
    "//these the bestParams determined from CV\n",
    "println(bestModel.extractParamMap) "
   ]
  },
  {
   "cell_type": "code",
   "execution_count": 31,
   "metadata": {},
   "outputs": [
    {
     "data": {
      "text/plain": [
       "bestlr: org.apache.spark.ml.regression.LinearRegression = linReg_0946d4825601\n"
      ]
     },
     "execution_count": 31,
     "metadata": {},
     "output_type": "execute_result"
    }
   ],
   "source": [
    "//define new LR instance for using the best params in pipeline\n",
    "val bestlr = new LinearRegression()\n",
    "    .setLabelCol(\"loggedPrice\")\n",
    "    .setFeaturesCol(\"hashedFeatures\")\n",
    "    .setPredictionCol(\"Predicted loggedPrice\")"
   ]
  },
  {
   "cell_type": "markdown",
   "metadata": {},
   "source": [
    "### Define Pipeline "
   ]
  },
  {
   "cell_type": "code",
   "execution_count": 32,
   "metadata": {},
   "outputs": [
    {
     "data": {
      "text/plain": [
       "lrStages: Array[org.apache.spark.ml.PipelineStage with org.apache.spark.ml.util.DefaultParamsWritable{def copy(extra: org.apache.spark.ml.param.ParamMap): org.apache.spark.ml.PipelineStage with org.apache.spark.ml.util.DefaultParamsWritable{def copy(extra: org.apache.spark.ml.param.ParamMap): org.apache.spark.ml.PipelineStage with org.apache.spark.ml.util.DefaultParamsWritable}}] = Array(featureHasher_6ae964db2281, linReg_0946d4825601)\n"
      ]
     },
     "execution_count": 32,
     "metadata": {},
     "output_type": "execute_result"
    }
   ],
   "source": [
    "// add linear regression to stages\n",
    "// I removed the scaler as the performance for gain was terrible\n",
    "val lrStages = Array(\n",
    "    hasher,\n",
    "    bestlr\n",
    ")"
   ]
  },
  {
   "cell_type": "code",
   "execution_count": 33,
   "metadata": {},
   "outputs": [
    {
     "name": "stdout",
     "output_type": "stream",
     "text": [
      "Pipeline was executed 6"
     ]
    },
    {
     "data": {
      "text/plain": [
       "startTimeMillis: Long = 1591511844591\n",
       "lrPipe: org.apache.spark.ml.Pipeline = pipeline_2d6dc4534246\n",
       "lrModel: org.apache.spark.ml.PipelineModel = pipeline_2d6dc4534246\n",
       "predictions: org.apache.spark.sql.DataFrame = [Price: double, MethodOfSale: int ... 14 more fields]\n",
       "endTimeMillis: Long = 1591511851038\n"
      ]
     },
     "execution_count": 33,
     "metadata": {},
     "output_type": "execute_result"
    }
   ],
   "source": [
    "val startTimeMillis = System.currentTimeMillis()\n",
    "\n",
    "//define a pipleine\n",
    "val lrPipe = new Pipeline().setStages(lrStages)\n",
    "\n",
    "// We fit our DataFrame into the pipeline to generate a model\n",
    "// pass best ParamMap from cross validation\n",
    "val lrModel = lrPipe.fit(train,bestParamMap)\n",
    "\n",
    "\n",
    "// Make predictions using the model and the test data\n",
    "// pass best ParamMap from cross validation\n",
    "val predictions = lrModel.transform(test,bestParamMap)\n",
    "\n",
    "val endTimeMillis = System.currentTimeMillis()\n",
    "\n",
    "print(\"Pipeline was executed \"\n",
    "      + getExecutionTime(startTimeMillis,endTimeMillis))\n"
   ]
  },
  {
   "cell_type": "code",
   "execution_count": 34,
   "metadata": {
    "scrolled": true
   },
   "outputs": [
    {
     "data": {
      "text/plain": [
       "getExecutionTime: (start: Long, end: Long)Long\n"
      ]
     },
     "execution_count": 34,
     "metadata": {},
     "output_type": "execute_result"
    }
   ],
   "source": [
    "def getExecutionTime(start: Long , end : Long) = {\n",
    "    val duration:Long = (end - start) / 1000\n",
    "    (duration)\n",
    "}"
   ]
  },
  {
   "cell_type": "markdown",
   "metadata": {},
   "source": [
    "### Undo the Log transformation  on the prediciton"
   ]
  },
  {
   "cell_type": "code",
   "execution_count": 35,
   "metadata": {},
   "outputs": [
    {
     "name": "stdout",
     "output_type": "stream",
     "text": [
      "+------------------+\n",
      "|   Predicted Price|\n",
      "+------------------+\n",
      "| 263181.8243934773|\n",
      "| 328613.8383136014|\n",
      "| 570534.5417677251|\n",
      "|334065.07986165537|\n",
      "| 567523.5464109678|\n",
      "|358916.51907410205|\n",
      "| 564747.2064573611|\n",
      "|   635731.89636228|\n",
      "| 547555.5627298004|\n",
      "|397927.73849305813|\n",
      "| 513546.6213028271|\n",
      "|351860.53679235553|\n",
      "| 421850.3942012743|\n",
      "| 507467.7724472131|\n",
      "|346491.18381457595|\n",
      "|307809.27769534563|\n",
      "| 535888.2521617918|\n",
      "|  646813.369725167|\n",
      "| 341684.6959471435|\n",
      "| 319123.2910207064|\n",
      "+------------------+\n",
      "only showing top 20 rows\n",
      "\n"
     ]
    },
    {
     "data": {
      "text/plain": [
       "Antilogpredictions: org.apache.spark.sql.DataFrame = [Price: double, MethodOfSale: int ... 14 more fields]\n"
      ]
     },
     "execution_count": 35,
     "metadata": {},
     "output_type": "execute_result"
    }
   ],
   "source": [
    "var Antilogpredictions = predictions.withColumn(\"Predicted loggedPrice\",col(\"Predicted loggedPrice\").cast(\"Double\"))\n",
    "Antilogpredictions.withColumn(\"Predicted Price\", exp((col(\"Predicted loggedPrice\")))).select(\"Predicted Price\").show()"
   ]
  },
  {
   "cell_type": "code",
   "execution_count": 36,
   "metadata": {
    "scrolled": true
   },
   "outputs": [
    {
     "data": {
      "text/plain": [
       "Antilogpredictions: org.apache.spark.sql.DataFrame = [Price: double, MethodOfSale: int ... 15 more fields]\n"
      ]
     },
     "execution_count": 36,
     "metadata": {},
     "output_type": "execute_result"
    }
   ],
   "source": [
    "Antilogpredictions = Antilogpredictions.withColumn(\"Predicted Price\", exp((col(\"Predicted loggedPrice\"))))"
   ]
  },
  {
   "cell_type": "markdown",
   "metadata": {},
   "source": [
    "### Evaluation of the model and its predictions"
   ]
  },
  {
   "cell_type": "code",
   "execution_count": 37,
   "metadata": {},
   "outputs": [
    {
     "name": "stdout",
     "output_type": "stream",
     "text": [
      "+--------+---------------+\n",
      "|   Price|Predicted Price|\n",
      "+--------+---------------+\n",
      "|170000.0|       263182.0|\n",
      "|280000.0|       328614.0|\n",
      "|280500.0|       570535.0|\n",
      "|283000.0|       334065.0|\n",
      "|290000.0|       567524.0|\n",
      "|300000.0|       358917.0|\n",
      "|300000.0|       564747.0|\n",
      "|305000.0|       635732.0|\n",
      "|310000.0|       547556.0|\n",
      "|316000.0|       397928.0|\n",
      "|320000.0|       513547.0|\n",
      "|320000.0|       351861.0|\n",
      "|320000.0|       421850.0|\n",
      "|320000.0|       507468.0|\n",
      "|325000.0|       346491.0|\n",
      "|333000.0|       307809.0|\n",
      "|340000.0|       535888.0|\n",
      "|345000.0|       646813.0|\n",
      "|348000.0|       341685.0|\n",
      "|350000.0|       319123.0|\n",
      "+--------+---------------+\n",
      "only showing top 20 rows\n",
      "\n"
     ]
    }
   ],
   "source": [
    "//finesse the output of predicted price and price to aid visual compare\n",
    "Antilogpredictions.withColumn(\"Predicted Price\", round($\"Predicted Price\", 0))\n",
    "    .select(\"Price\",\"Predicted Price\").show()"
   ]
  },
  {
   "cell_type": "code",
   "execution_count": 38,
   "metadata": {
    "scrolled": true
   },
   "outputs": [
    {
     "name": "stdout",
     "output_type": "stream",
     "text": [
      "+-------+-----------------+------------------+\n",
      "|summary|            Price|   Predicted Price|\n",
      "+-------+-----------------+------------------+\n",
      "|  count|             3108|              3108|\n",
      "|   mean|1148713.091055341|1144555.5274824973|\n",
      "| stddev|644982.7776402166| 574733.7751450145|\n",
      "|    min|         170000.0|192204.77409173994|\n",
      "|    max|        6250000.0| 7627710.166948065|\n",
      "+-------+-----------------+------------------+\n",
      "\n"
     ]
    }
   ],
   "source": [
    "Antilogpredictions.describe().select(\"summary\",\"Price\",\"Predicted Price\").show()"
   ]
  },
  {
   "cell_type": "code",
   "execution_count": 39,
   "metadata": {},
   "outputs": [
    {
     "data": {
      "text/plain": [
       "evaluate: (predictions: org.apache.spark.sql.DataFrame, metric: String)Unit\n"
      ]
     },
     "execution_count": 39,
     "metadata": {},
     "output_type": "execute_result"
    }
   ],
   "source": [
    "// define an evaluator for the cross validation\n",
    "def evaluate ( predictions: DataFrame, metric: String) = {\n",
    "    val eval =  new RegressionEvaluator()\n",
    "       .setLabelCol(\"loggedPrice\")\n",
    "       .setPredictionCol(\"Predicted loggedPrice\")\n",
    "       .setMetricName(metric)\n",
    "println(\"Root Mean Squared Error \"+  metric.toUpperCase()\n",
    "        +\" on test data = \" + eval.evaluate(predictions))\n",
    "}"
   ]
  },
  {
   "cell_type": "markdown",
   "metadata": {},
   "source": [
    "#### Regression metrics\n",
    "\n",
    "**Mean squared error (MSE)** -- the average of squared differences between the predicted outcome and the true outcome.\n",
    "\n",
    "**R2 coefficient** -- the proportion of variance in the outcome that our model is capable of predicting based on its features."
   ]
  },
  {
   "cell_type": "code",
   "execution_count": 40,
   "metadata": {},
   "outputs": [
    {
     "name": "stdout",
     "output_type": "stream",
     "text": [
      "Root Mean Squared Error RMSE on test data = 0.2566778441301778\n",
      "Root Mean Squared Error R2 on test data = 0.7241766708776317\n"
     ]
    }
   ],
   "source": [
    "//difference between logged price and predicted logged price\n",
    "evaluate(Antilogpredictions,\"rmse\")\n",
    "evaluate(Antilogpredictions,\"r2\")"
   ]
  },
  {
   "cell_type": "markdown",
   "metadata": {},
   "source": [
    "Looks like we go down from our training set:\n",
    "\n",
    "`RMSE: 0.15067909288639053\n",
    "r2: 0.9080852142542626`\n",
    "\n",
    "to our test set with best params:\n",
    "\n",
    "`0.2566778441301778\n",
    "0.7241766708776317`\n"
   ]
  },
  {
   "cell_type": "markdown",
   "metadata": {},
   "source": [
    "### 2. Apply K-means Model  \n",
    "\n",
    "This modelling of this section is based on (Sarkar, 2017)"
   ]
  },
  {
   "cell_type": "markdown",
   "metadata": {},
   "source": [
    "#### Training\n",
    "\n",
    "\n",
    "Pipeline Estimator"
   ]
  },
  {
   "cell_type": "code",
   "execution_count": 45,
   "metadata": {},
   "outputs": [
    {
     "ename": "<console>",
     "evalue": "39: error: not found: value df",
     "output_type": "error",
     "traceback": [
      "<console>:39: error: not found: value df",
      "       val model = kmeans.fit(df)",
      "                              ^",
      ""
     ]
    }
   ],
   "source": [
    "import org.apache.spark.ml.clustering.KMeans\n",
    "\n",
    "val kmeans = new KMeans().setK(2).setSeed(1L)\n",
    "val model = kmeans.fit(df)"
   ]
  },
  {
   "cell_type": "markdown",
   "metadata": {},
   "source": [
    "#### Prediction"
   ]
  },
  {
   "cell_type": "code",
   "execution_count": null,
   "metadata": {},
   "outputs": [],
   "source": []
  },
  {
   "cell_type": "markdown",
   "metadata": {},
   "source": [
    "#### Testing/Evaluation\n",
    "\n",
    "Pipeline Model Transformer\n",
    "\n",
    "Evaluate the quality of clustering by \"elbowing\" the **Within SEt Sum of Squared Errors (WSSSE)** graph."
   ]
  },
  {
   "cell_type": "code",
   "execution_count": null,
   "metadata": {},
   "outputs": [],
   "source": [
    "val WSSSE = model.computeCost(df)\n",
    "\n",
    "println(\"WSSSE error + $WSSSE\")"
   ]
  },
  {
   "cell_type": "code",
   "execution_count": null,
   "metadata": {},
   "outputs": [],
   "source": [
    "model.clusterCenters.foreach(println)"
   ]
  },
  {
   "cell_type": "code",
   "execution_count": null,
   "metadata": {},
   "outputs": [],
   "source": [
    "val transformed = model.transform(df)"
   ]
  },
  {
   "cell_type": "code",
   "execution_count": null,
   "metadata": {},
   "outputs": [],
   "source": [
    "//compute the diff between the labels abd the predicated values on data set\n",
    "\n",
    "transformed.select(\"prediction\").groupBy(\"prediction\")count().orderBy().show(\"prediction\")"
   ]
  },
  {
   "cell_type": "code",
   "execution_count": null,
   "metadata": {},
   "outputs": [],
   "source": [
    "val y1df = transformed.select($\"label\",$\"prediction\").where($\"label!=prediction\")"
   ]
  },
  {
   "cell_type": "code",
   "execution_count": null,
   "metadata": {},
   "outputs": [],
   "source": [
    "y1df.count()"
   ]
  },
  {
   "cell_type": "code",
   "execution_count": null,
   "metadata": {},
   "outputs": [],
   "source": [
    "transformed.filter(\"prediction = 0\").show()"
   ]
  },
  {
   "cell_type": "code",
   "execution_count": null,
   "metadata": {},
   "outputs": [],
   "source": [
    "transformed.filter(\"prediction = 1\").show()"
   ]
  },
  {
   "cell_type": "code",
   "execution_count": null,
   "metadata": {},
   "outputs": [],
   "source": [
    "transformed.filter(\"prediction = 0\").describe.show()"
   ]
  },
  {
   "cell_type": "code",
   "execution_count": null,
   "metadata": {},
   "outputs": [],
   "source": [
    "transformed.filter(\"prediction = 1\").describe.show()"
   ]
  },
  {
   "cell_type": "code",
   "execution_count": null,
   "metadata": {},
   "outputs": [],
   "source": [
    "println(\"No of mis-matche between predictions and labels =\"+y1df.count() +\"\\nTotal no. of records \"+transformed.count()+ \\\n",
    "         \"\\nCorrect predictions = \"+ (1-y1df.count()).toDouble/transformed.count()+\"\\nMismatch \"+\\\n",
    "          (1-y1df.count()).toDouble/transformed.count())"
   ]
  },
  {
   "cell_type": "code",
   "execution_count": null,
   "metadata": {},
   "outputs": [],
   "source": [
    "//Feed test input records for the model to predict their cluster\n",
    "val testData = spark.createDataFrame(Seq().toDF(\"colName\",\"features\"))\n",
    "model.transform(testData).show()"
   ]
  },
  {
   "cell_type": "code",
   "execution_count": null,
   "metadata": {},
   "outputs": [],
   "source": []
  },
  {
   "cell_type": "markdown",
   "metadata": {},
   "source": [
    "### 3. Apply Random Forest Regression\n",
    "\n",
    "**Build Random Forest model**\n",
    "Specify maxDepth, maxBins, auto and seed parameters.\n",
    "\n",
    "**maxDepth** -- Maximum depth of a tree. Increasing the depth makes the model more powerful, but deep trees take longer to train.\n",
    "\n",
    "**maxBins** -- Maximum number of bins used for discretizing continuous features and for choosing how to split on features at each node.\n",
    "\n",
    "**auto** -- Automatically select the number of features to consider for splits at each tree node\n",
    "\n",
    "**seed** -- Use a random seed number , allowing to repeat the results"
   ]
  },
  {
   "cell_type": "markdown",
   "metadata": {},
   "source": [
    "\n",
    "If the number of trees is 1, then no bootstrapping is used at all. However, if the number of trees is > 1, then the bootstrapping is accomplished. Where, the parameter featureSubsetStrategy signifies the number of features to be considered for splits at each node. The supported values of featureSubsetStrategy are \"auto\", \"all\", \"sqrt\", \"log2\" and \"on third\". The supported numerical values, on the other hand, are (0.0-1.0] and [1-n]. However, if featureSubsetStrategy is chosen as \"auto\", the algorithm chooses the best feature subset strategy automatically\n",
    "\n",
    "\n",
    "If the numTrees == 1, the featureSubsetStrategy is set to be \"all\". However, if the numTrees > 1 (i.e., forest), featureSubsetStrategy is set to be \"onethird\" for regression\n",
    "\n",
    "\n",
    "Moreover, if a real value \"n\" is in the range (0, 1.0] is set, n*number_of_features is used consequently. However, if an integer value \"n\" is in the range (1, the number of features) is set, only n features are used alternatively\n",
    "\n",
    "\n",
    "The parameter categoricalFeaturesInfo which is a map is used for storing arbitrary of categorical features. An entry (n -> k) indicates that feature n is categorical with k categories indexed from 0: {0, 1,...,k-1}\n",
    "The impurity criterion used for information gain calculation. The supported values are “gini\" and “variance”. The former is the only supported value for classification. The latter is used for regression\n",
    "\n",
    "\n",
    "The maxDepth is the maximum depth of the tree. (e.g., depth 0 means 1 leaf node, depth 1 means 1 internal node + 2 leaf nodes). However, the suggested value is 4 to get a better result\n",
    "\n",
    "\n",
    "The maxBins signifies the maximum number of bins used for splitting the features; where the suggested value is 100 to get better results\n",
    "\n",
    "\n",
    "Finally, the random seed is used for bootstrapping and choosing feature subsets to avoid the random nature of the results."
   ]
  },
  {
   "cell_type": "code",
   "execution_count": null,
   "metadata": {},
   "outputs": [],
   "source": [
    "import org.apache.spark.ml.regression.RandomForestRegressor\n",
    "import org.apache.spark.ml.tuning.CrossValidator\n",
    "//import org.apache.spark.ml.Pipeline\n",
    "\n",
    "val seed = 5043\n",
    "\n",
    "val rf = new RandomForestRegressor()\n",
    "  .setMaxBins(100)\n",
    "  .setMaxDepth(6)\n",
    "  .setNumTrees(10)\n",
    "  .setFeatureSubsetStrategy(\"onethird\")\n",
    "  .setSeed(seed)\n",
    "  .setLabelCol(\"Price\")"
   ]
  },
  {
   "cell_type": "code",
   "execution_count": null,
   "metadata": {},
   "outputs": [],
   "source": [
    "val rfPredictions = time{predictions(rf, train, test)}\n",
    "rfPredictions.cache()"
   ]
  },
  {
   "cell_type": "code",
   "execution_count": null,
   "metadata": {},
   "outputs": [],
   "source": [
    "rfPredictions.columns"
   ]
  },
  {
   "cell_type": "code",
   "execution_count": null,
   "metadata": {},
   "outputs": [],
   "source": [
    "rfPredictions.withColumn(\"prediction\", round($\"prediction\", 0)).select(\"Price\",\"prediction\").show()"
   ]
  },
  {
   "cell_type": "markdown",
   "metadata": {},
   "source": [
    "#### Regression metrics\n"
   ]
  },
  {
   "cell_type": "code",
   "execution_count": null,
   "metadata": {},
   "outputs": [],
   "source": [
    "evaluate(rfPredictions,\"rmse\")"
   ]
  },
  {
   "cell_type": "code",
   "execution_count": null,
   "metadata": {},
   "outputs": [],
   "source": [
    "evaluate(rfPredictions,\"r2\")"
   ]
  },
  {
   "cell_type": "markdown",
   "metadata": {},
   "source": [
    "#### Testing/Evaluation/ Parameter Tuning\n",
    "\n",
    "Cross-validation\n",
    "<span style=\"color:red\">\n",
    "TO DO: \n",
    "* finish implementation for Cross-validation \n",
    "* check if finish run in reasonable time\n",
    "</span>"
   ]
  },
  {
   "cell_type": "code",
   "execution_count": null,
   "metadata": {},
   "outputs": [],
   "source": [
    "import org.apache.spark.ml.regression.RandomForestRegressor\n",
    "\n",
    "// Models hypoparameters\n",
    "val numTrees = Seq(5,10,30)\n",
    "val maxBins = Seq(50,100)\n",
    "val maxDepth = Seq(2,3,5)\n",
    "val impurity = Seq(\"gini\",\"entropy\",\"variance\")\n",
    "val featureSubsetStrategy = Seq(\"sqrt\",\"onethird\")\n",
    "\n",
    "val rf = new RandomForestRegressor()\n",
    "  .setLabelCol(\"Price\")\n",
    "  .setFeaturesCol(\"features\")\n",
    "  .setPredictionCol(\"prediction\")\n",
    "\n",
    "\n",
    "val rfParamMap = new ParamGridBuilder()\n",
    "  .addGrid(rf.numTrees, numTrees)\n",
    "  .addGrid(rf.maxDepth, maxDepth)\n",
    "  .addGrid(rf.maxBins, maxBins)\n",
    "  .addGrid(rf.featureSubsetStrategy, featureSubsetStrategy)\n",
    "  .build()\n",
    "\n",
    "val t0 = System.nanoTime()\n",
    "val best_model = train_eval(rf, rfParamMap, train, test)\n",
    "val t1 = System.nanoTime()\n",
    "println(\"Elapsed time: \" + (t1 - t0)/(1000000000) + \" s\")\n"
   ]
  },
  {
   "cell_type": "markdown",
   "metadata": {},
   "source": [
    "#### Prediction"
   ]
  },
  {
   "cell_type": "code",
   "execution_count": null,
   "metadata": {},
   "outputs": [],
   "source": [
    "rfPredictions.withColumn(\"prediction\", round($\"prediction\", 0)).select(\"Price\",\"prediction\").show()\n",
    "\n",
    "// this will add new columns rawPrediction, probability and prediction\n",
    "val predictionDf = randomForestModel.transform(testData)\n",
    "predictionDf.show(10)"
   ]
  },
  {
   "cell_type": "markdown",
   "metadata": {},
   "source": [
    "#### Tuning"
   ]
  },
  {
   "cell_type": "markdown",
   "metadata": {},
   "source": [
    "#### Bias vs Variance Graph of Error (validation error and training error) versus training set size. \n",
    "\n",
    "\n",
    "<span style=\"color:red\">\n",
    "TO DO: \n",
    "produce graph -- validation error and training error should converge\n",
    "</span>\n"
   ]
  },
  {
   "cell_type": "markdown",
   "metadata": {},
   "source": [
    "### References\n",
    "\n",
    "Apache Spark (n.d.). Spark ML Programming Guide. Retrieved from https://spark.apache.org/docs/1.2.2/ml-guide.html\n",
    "\n",
    "Gorczynski M. (2017). Introduction to machine learning with spark and mllib (dataframe API). Retrieved from https://scalac.io/scala-spark-ml-machine-learning-introduction/\n",
    "\n",
    "Hydrospheredata (2020). Program creek. Scala Code Examples. Scaler Retrieved from https://www.programcreek.com/scala/org.apache.spark.ml.feature.StandardScaler\n",
    "\n",
    "Jen G. (2020) FeatureHasher. Retrieved from https://george-jen.gitbook.io/data-science-and-apache-spark/featurehasher\n",
    "\n",
    "Johnson S (2019). From sckit-learn to Spark ML. Retrieved from https://towardsdatascience.com/from-scikit-learn-to-spark-ml-f2886fb46852\n",
    "\n",
    "Johnson S (2019). Housing Prices - Spark ML Project Retrieved from https://github.com/scottdjohnson/HousingPricePredictions/blob/master/HousingPrices-SparkML.ipynb\n",
    "\n",
    "Masri A. (2019). FeatureTransformation. Retrieved from\n",
    "https://towardsdatascience.com/apache-spark-mllib-tutorial-7aba8a1dce6e\n",
    "\n",
    "Sarkar A. (2017). Learning Spark SQL. Implementing a Spark ML clustering model. Packt Publishing.\n",
    "\n",
    "Scala Doc (n.d.) Retrieved from https://docs.scala-lang.org\n",
    "\n",
    "\n",
    "(2019) Random Forest Classifier with Apache Spark Retireved from https://medium.com/rahasak/random-forest-classifier-with-apache-spark-c63b4a23a7cc\n",
    "\n",
    "Wagle M.(2020) _Predicting House Prices using Machine Learning_. Retrieved from https://medium.com/@manilwagle/predicting-house-prices-using-machine-learning-cab0b82cd3f"
   ]
  }
 ],
 "metadata": {
  "kernelspec": {
   "display_name": "spylon-kernel",
   "language": "scala",
   "name": "spylon-kernel"
  },
  "language_info": {
   "codemirror_mode": "text/x-scala",
   "file_extension": ".scala",
   "help_links": [
    {
     "text": "MetaKernel Magics",
     "url": "https://metakernel.readthedocs.io/en/latest/source/README.html"
    }
   ],
   "mimetype": "text/x-scala",
   "name": "scala",
   "pygments_lexer": "scala",
   "version": "0.4.1"
  }
 },
 "nbformat": 4,
 "nbformat_minor": 4
}
