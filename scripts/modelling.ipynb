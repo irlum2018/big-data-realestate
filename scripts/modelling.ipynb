{
 "cells": [
  {
   "cell_type": "markdown",
   "metadata": {},
   "source": [
    "### Preparing HDFS\n",
    "Using magic\n",
    "\n",
    "Create input folder on HDFS if not exists\n",
    "\n",
    "Copy from data from local"
   ]
  },
  {
   "cell_type": "markdown",
   "metadata": {},
   "source": [
    "## Assessment Stage 2: Wrangling"
   ]
  },
  {
   "cell_type": "code",
   "execution_count": 1,
   "metadata": {},
   "outputs": [
    {
     "name": "stdout",
     "output_type": "stream",
     "text": [
      "/home/sandpit/big-data-realestate/scripts\n",
      "\n",
      "put: `/tmp/rs_input/raw.csv': File exists\n",
      "\n",
      "\n",
      "Found 1 items\n",
      "\n",
      "\n",
      "-rw-r--r--   1 root root    5018236 2020-05-26 00:56 /tmp/rs_input/raw.csv\n",
      "\n",
      "\n"
     ]
    }
   ],
   "source": [
    "!pwd\n",
    "! hadoop fs -mkdir -p  /tmp/rs_input\n",
    "! hadoop fs -put   -p  ./../data-raw/Melbourne_housing_FULL.csv             /tmp/rs_input/raw.csv\n",
    "! hadoop fs -ls        /tmp/rs_input/"
   ]
  },
  {
   "cell_type": "markdown",
   "metadata": {},
   "source": [
    " #### Check Spark Parameters"
   ]
  },
  {
   "cell_type": "code",
   "execution_count": 2,
   "metadata": {},
   "outputs": [
    {
     "data": {
      "text/plain": [
       "Intitializing Scala interpreter ..."
      ]
     },
     "metadata": {},
     "output_type": "display_data"
    },
    {
     "data": {
      "text/plain": [
       "Spark Web UI available at http://954b276a5616:4040\n",
       "SparkContext available as 'sc' (version = 2.4.5, master = local[*], app id = local-1591620726302)\n",
       "SparkSession available as 'spark'\n"
      ]
     },
     "metadata": {},
     "output_type": "display_data"
    },
    {
     "data": {
      "text/plain": [
       "res0: String =\n",
       "spark.app.id=local-1591620726302\n",
       "spark.app.name=spylon-kernel\n",
       "spark.driver.host=954b276a5616\n",
       "spark.driver.memory=8g\n",
       "spark.driver.port=44881\n",
       "spark.executor.id=driver\n",
       "spark.executor.memory=8g\n",
       "spark.executor.memoryOverhead=8g\n",
       "spark.master=local[*]\n",
       "spark.memory.offHeap.enabled=true\n",
       "spark.memory.offHeap.size=8g\n",
       "spark.network.timeout=10000000\n",
       "spark.rdd.compress=True\n",
       "spark.repl.class.outputDir=/tmp/tmpvq56usti\n",
       "spark.repl.class.uri=spark://954b276a5616:44881/classes\n",
       "spark.serializer.objectStreamReset=100\n",
       "spark.storage.memoryFraction=0.4\n",
       "spark.submit.deployMode=client\n",
       "spark.ui.showConsoleProgress=true\n"
      ]
     },
     "execution_count": 2,
     "metadata": {},
     "output_type": "execute_result"
    }
   ],
   "source": [
    "sc.getConf.toDebugString"
   ]
  },
  {
   "cell_type": "markdown",
   "metadata": {},
   "source": [
    "#### Read  file "
   ]
  },
  {
   "cell_type": "code",
   "execution_count": 3,
   "metadata": {},
   "outputs": [
    {
     "data": {
      "text/plain": [
       "df_raw: org.apache.spark.sql.DataFrame = [Suburb: string, Address: string ... 19 more fields]\n"
      ]
     },
     "execution_count": 3,
     "metadata": {},
     "output_type": "execute_result"
    }
   ],
   "source": [
    "//load raw into df\n",
    "val df_raw = spark\n",
    "    .read\n",
    "    .format(\"csv\")\n",
    "    .option(\"header\", \"true\")\n",
    "    .load(\"hdfs://localhost:9000/tmp/rs_input/raw.csv\")\n"
   ]
  },
  {
   "cell_type": "code",
   "execution_count": 4,
   "metadata": {},
   "outputs": [
    {
     "data": {
      "text/plain": [
       "res1: Long = 34857\n"
      ]
     },
     "execution_count": 4,
     "metadata": {},
     "output_type": "execute_result"
    }
   ],
   "source": [
    "df_raw.count()"
   ]
  },
  {
   "cell_type": "markdown",
   "metadata": {},
   "source": [
    "#### Load data "
   ]
  },
  {
   "cell_type": "code",
   "execution_count": 5,
   "metadata": {},
   "outputs": [
    {
     "data": {
      "text/plain": [
       "df_working: org.apache.spark.sql.DataFrame = [Price: string, MethodOfSale: string ... 11 more fields]\n",
       "df_working: org.apache.spark.sql.DataFrame = [Price: string, MethodOfSale: string ... 11 more fields]\n"
      ]
     },
     "execution_count": 5,
     "metadata": {},
     "output_type": "execute_result"
    }
   ],
   "source": [
    "//only select columns we need now\n",
    "var df_working= df_raw.select(\"Price\",\n",
    "                          \"Method\",\n",
    "                          \"Type\",\n",
    "                          \"Distance\",\n",
    "                          \"Rooms\",\n",
    "                          \"Bathroom\",\n",
    "                          \"Car\",\n",
    "                          \"Landsize\",\n",
    "                          \"Lattitude\",\n",
    "                          \"Longtitude\",    \n",
    "                          \"Suburb\",\n",
    "                          \"Address\",\n",
    "                          \"Date\")\n",
    "\n",
    "\n",
    "//add meaningful to column names\n",
    "df_working = df_working.withColumnRenamed(\"Method\",\"MethodOfSale\")\n",
    "    .withColumnRenamed(\"Distance\",\"DistanceFromCBD\")\n",
    "    .withColumnRenamed(\"Type\",\"PropertyType\")\n",
    "    .withColumnRenamed(\"Lattitude\",\"Latitude\")"
   ]
  },
  {
   "cell_type": "markdown",
   "metadata": {},
   "source": [
    "#### Filter out  \"#N/A\" records"
   ]
  },
  {
   "cell_type": "code",
   "execution_count": 6,
   "metadata": {},
   "outputs": [
    {
     "data": {
      "text/plain": [
       "df_working: org.apache.spark.sql.DataFrame = [Price: string, MethodOfSale: string ... 11 more fields]\n"
      ]
     },
     "execution_count": 6,
     "metadata": {},
     "output_type": "execute_result"
    }
   ],
   "source": [
    "//when profiling there are a number of columns with a \"#N/A\" which need to be removed\n",
    "df_working = df_working.filter($\"DistanceFromCBD\" =!= \"#N/A\")"
   ]
  },
  {
   "cell_type": "markdown",
   "metadata": {},
   "source": [
    "#### Change type of columns \"Price\", \"DistanceFromCBD\" & \"Landsize\" to Double, \"Rooms\", \"Bathroom\", \"Car\" to Int"
   ]
  },
  {
   "cell_type": "code",
   "execution_count": 7,
   "metadata": {},
   "outputs": [
    {
     "data": {
      "text/plain": [
       "df_working: org.apache.spark.sql.DataFrame = [Price: double, MethodOfSale: string ... 11 more fields]\n"
      ]
     },
     "execution_count": 7,
     "metadata": {},
     "output_type": "execute_result"
    }
   ],
   "source": [
    "df_working = df_working.withColumn(\"Price\",col(\"Price\").cast(\"Double\"))\n",
    "    .withColumn(\"Rooms\",col(\"Rooms\").cast(\"Int\"))\n",
    "    .withColumn(\"DistanceFromCBD\",col(\"DistanceFromCBD\").cast(\"Double\"))\n",
    "    .withColumn(\"Bathroom\",col(\"Bathroom\").cast(\"Int\"))\n",
    "    .withColumn(\"Car\",col(\"Car\").cast(\"Int\"))\n",
    "    .withColumn(\"Landsize\",col(\"Landsize\").cast(\"Double\"))\n",
    "    .withColumn(\"Latitude\",col(\"Latitude\").cast(\"Double\"))\n",
    "    .withColumn(\"Longtitude\",col(\"Longtitude\").cast(\"Double\"))"
   ]
  },
  {
   "cell_type": "markdown",
   "metadata": {},
   "source": [
    "#### Make First Letter of Suburb Upper Case"
   ]
  },
  {
   "cell_type": "code",
   "execution_count": 8,
   "metadata": {},
   "outputs": [
    {
     "data": {
      "text/plain": [
       "df_working: org.apache.spark.sql.DataFrame = [Price: double, MethodOfSale: string ... 11 more fields]\n"
      ]
     },
     "execution_count": 8,
     "metadata": {},
     "output_type": "execute_result"
    }
   ],
   "source": [
    "// make first letter of suburb upper case\n",
    "df_working= df_working.withColumn(\"Suburb\", initcap(col(\"Suburb\")))"
   ]
  },
  {
   "cell_type": "markdown",
   "metadata": {},
   "source": [
    "#### Split Address on Street and Suffix"
   ]
  },
  {
   "cell_type": "code",
   "execution_count": 9,
   "metadata": {},
   "outputs": [
    {
     "name": "stdout",
     "output_type": "stream",
     "text": [
      "+------------------+\n",
      "|           Address|\n",
      "+------------------+\n",
      "|     68 Studley St|\n",
      "|      85 Turner St|\n",
      "|   25 Bloomburg St|\n",
      "|18/659 Victoria St|\n",
      "|      5 Charles St|\n",
      "|  40 Federation La|\n",
      "|       55a Park St|\n",
      "|      16 Maugie St|\n",
      "|      53 Turner St|\n",
      "|      99 Turner St|\n",
      "+------------------+\n",
      "only showing top 10 rows\n",
      "\n"
     ]
    }
   ],
   "source": [
    "df_working.select(\"Address\").show(10)"
   ]
  },
  {
   "cell_type": "code",
   "execution_count": 10,
   "metadata": {},
   "outputs": [
    {
     "data": {
      "text/plain": [
       "df_working: org.apache.spark.sql.DataFrame = [Price: double, MethodOfSale: string ... 11 more fields]\n"
      ]
     },
     "execution_count": 10,
     "metadata": {},
     "output_type": "execute_result"
    }
   ],
   "source": [
    "//split address on Street name and Suffix\n",
    "df_working = df_working.withColumn(\"StreetName\",concat(split(col(\"Address\"),\" \").getItem(1)\n",
    "                                   , lit(\" \"),split(col(\"Address\"),\" \").getItem(2))).drop(\"Address\")"
   ]
  },
  {
   "cell_type": "code",
   "execution_count": 11,
   "metadata": {},
   "outputs": [
    {
     "name": "stdout",
     "output_type": "stream",
     "text": [
      "+-------------+\n",
      "|   StreetName|\n",
      "+-------------+\n",
      "|   Studley St|\n",
      "|    Turner St|\n",
      "| Bloomburg St|\n",
      "|  Victoria St|\n",
      "|   Charles St|\n",
      "|Federation La|\n",
      "|      Park St|\n",
      "|    Maugie St|\n",
      "|    Turner St|\n",
      "|    Turner St|\n",
      "+-------------+\n",
      "only showing top 10 rows\n",
      "\n"
     ]
    }
   ],
   "source": [
    "df_working.select(\"StreetName\").show(10)"
   ]
  },
  {
   "cell_type": "markdown",
   "metadata": {},
   "source": [
    "#### Make First Letter of Street upper"
   ]
  },
  {
   "cell_type": "code",
   "execution_count": 12,
   "metadata": {},
   "outputs": [
    {
     "data": {
      "text/plain": [
       "df_working: org.apache.spark.sql.DataFrame = [Price: double, MethodOfSale: string ... 11 more fields]\n"
      ]
     },
     "execution_count": 12,
     "metadata": {},
     "output_type": "execute_result"
    }
   ],
   "source": [
    "// make first letter of Street upper case\n",
    "df_working= df_working.withColumn(\"StreetName\", initcap(col(\"StreetName\")))"
   ]
  },
  {
   "cell_type": "markdown",
   "metadata": {},
   "source": [
    "#### Convert Property Type to upper"
   ]
  },
  {
   "cell_type": "code",
   "execution_count": 13,
   "metadata": {},
   "outputs": [
    {
     "data": {
      "text/plain": [
       "df_working: org.apache.spark.sql.DataFrame = [Price: double, MethodOfSale: string ... 11 more fields]\n"
      ]
     },
     "execution_count": 13,
     "metadata": {},
     "output_type": "execute_result"
    }
   ],
   "source": [
    "df_working = df_working.withColumn(\"PropertyType\", upper(col(\"PropertyType\")))\n"
   ]
  },
  {
   "cell_type": "markdown",
   "metadata": {},
   "source": [
    "#### Remove Bad Landsize Data"
   ]
  },
  {
   "cell_type": "code",
   "execution_count": 14,
   "metadata": {},
   "outputs": [
    {
     "data": {
      "text/plain": [
       "df_working: org.apache.spark.sql.DataFrame = [Price: double, MethodOfSale: string ... 11 more fields]\n"
      ]
     },
     "execution_count": 14,
     "metadata": {},
     "output_type": "execute_result"
    }
   ],
   "source": [
    "//drop all properties with land area less than 12 sqm \n",
    "df_working = df_working.filter(!($\"Landsize\"<12))"
   ]
  },
  {
   "cell_type": "code",
   "execution_count": 15,
   "metadata": {},
   "outputs": [
    {
     "data": {
      "text/plain": [
       "df_working: org.apache.spark.sql.DataFrame = [Price: double, MethodOfSale: string ... 11 more fields]\n"
      ]
     },
     "execution_count": 15,
     "metadata": {},
     "output_type": "execute_result"
    }
   ],
   "source": [
    "//drop rows where type = h and landsize < 50 sqm\n",
    "df_working = df_working.filter(!($\"Landsize\"<50 && $\"PropertyType\"===1))"
   ]
  },
  {
   "cell_type": "markdown",
   "metadata": {},
   "source": [
    "#### Filter Null Values"
   ]
  },
  {
   "cell_type": "code",
   "execution_count": 16,
   "metadata": {},
   "outputs": [
    {
     "data": {
      "text/plain": [
       "df_not_null: org.apache.spark.sql.DataFrame = [Price: double, MethodOfSale: string ... 11 more fields]\n"
      ]
     },
     "execution_count": 16,
     "metadata": {},
     "output_type": "execute_result"
    }
   ],
   "source": [
    "val df_not_null = df_working.na.drop()"
   ]
  },
  {
   "cell_type": "code",
   "execution_count": 17,
   "metadata": {},
   "outputs": [
    {
     "name": "stdout",
     "output_type": "stream",
     "text": [
      "root\n",
      " |-- Price: double (nullable = true)\n",
      " |-- MethodOfSale: string (nullable = true)\n",
      " |-- PropertyType: string (nullable = true)\n",
      " |-- DistanceFromCBD: double (nullable = true)\n",
      " |-- Rooms: integer (nullable = true)\n",
      " |-- Bathroom: integer (nullable = true)\n",
      " |-- Car: integer (nullable = true)\n",
      " |-- Landsize: double (nullable = true)\n",
      " |-- Latitude: double (nullable = true)\n",
      " |-- Longtitude: double (nullable = true)\n",
      " |-- Suburb: string (nullable = true)\n",
      " |-- Date: string (nullable = true)\n",
      " |-- StreetName: string (nullable = true)\n",
      "\n"
     ]
    }
   ],
   "source": [
    "df_not_null.printSchema()"
   ]
  },
  {
   "cell_type": "markdown",
   "metadata": {},
   "source": [
    "#### Write Down Clean Data:"
   ]
  },
  {
   "cell_type": "code",
   "execution_count": 18,
   "metadata": {},
   "outputs": [],
   "source": [
    "! hadoop fs -mkdir -p /tmp/output"
   ]
  },
  {
   "cell_type": "code",
   "execution_count": 19,
   "metadata": {},
   "outputs": [
    {
     "data": {
      "text/plain": [
       "df_output: Unit = ()\n"
      ]
     },
     "execution_count": 19,
     "metadata": {},
     "output_type": "execute_result"
    }
   ],
   "source": [
    "val df_output = df_not_null.coalesce(1)\n",
    "   .write\n",
    "   .format(\"csv\")\n",
    "   .option(\"header\",\"true\")\n",
    "   .mode(\"overwrite\").option(\"sep\",\",\")\n",
    "   .save(\"hdfs://localhost:9000/tmp/output\")"
   ]
  },
  {
   "cell_type": "markdown",
   "metadata": {},
   "source": [
    "#### Save the Clean Data to Disk"
   ]
  },
  {
   "cell_type": "code",
   "execution_count": 20,
   "metadata": {},
   "outputs": [
    {
     "name": "stdout",
     "output_type": "stream",
     "text": [
      "copyToLocal: `./../data-clean/cleanMelbourneData.csv': File exists\n",
      "\n",
      "\n"
     ]
    }
   ],
   "source": [
    "! hadoop fs -mkdir -p /tmp/output\n",
    "! hadoop fs -copyToLocal /tmp/output/\\*.csv ./../data-clean/cleanMelbourneData.csv"
   ]
  },
  {
   "cell_type": "markdown",
   "metadata": {},
   "source": [
    "## Assessment Stage 3: Modelling"
   ]
  },
  {
   "cell_type": "code",
   "execution_count": 21,
   "metadata": {},
   "outputs": [
    {
     "data": {
      "text/plain": [
       "df_clean: org.apache.spark.sql.DataFrame = [Price: double, MethodOfSale: string ... 11 more fields]\n"
      ]
     },
     "execution_count": 21,
     "metadata": {},
     "output_type": "execute_result"
    }
   ],
   "source": [
    "// use the set wrangled from \n",
    "var df_clean = df_not_null"
   ]
  },
  {
   "cell_type": "code",
   "execution_count": 22,
   "metadata": {},
   "outputs": [
    {
     "name": "stdout",
     "output_type": "stream",
     "text": [
      "root\n",
      " |-- Price: double (nullable = true)\n",
      " |-- MethodOfSale: string (nullable = true)\n",
      " |-- PropertyType: string (nullable = true)\n",
      " |-- DistanceFromCBD: double (nullable = true)\n",
      " |-- Rooms: integer (nullable = true)\n",
      " |-- Bathroom: integer (nullable = true)\n",
      " |-- Car: integer (nullable = true)\n",
      " |-- Landsize: double (nullable = true)\n",
      " |-- Latitude: double (nullable = true)\n",
      " |-- Longtitude: double (nullable = true)\n",
      " |-- Suburb: string (nullable = true)\n",
      " |-- Date: string (nullable = true)\n",
      " |-- StreetName: string (nullable = true)\n",
      "\n"
     ]
    },
    {
     "data": {
      "text/plain": [
       "res5: Long = 15710\n"
      ]
     },
     "execution_count": 22,
     "metadata": {},
     "output_type": "execute_result"
    }
   ],
   "source": [
    "df_clean.cache()\n",
    "df_clean.printSchema()\n",
    "df_clean.count()\n"
   ]
  },
  {
   "cell_type": "markdown",
   "metadata": {},
   "source": [
    "### Construct vectors from attributes\n",
    "#### Transform Sale Date into a numeric value"
   ]
  },
  {
   "cell_type": "code",
   "execution_count": 23,
   "metadata": {},
   "outputs": [
    {
     "data": {
      "text/plain": [
       "df_clean: org.apache.spark.sql.DataFrame = [Price: double, MethodOfSale: string ... 11 more fields]\n"
      ]
     },
     "execution_count": 23,
     "metadata": {},
     "output_type": "execute_result"
    }
   ],
   "source": [
    "df_clean = df_clean.withColumn(\"Date\",unix_timestamp($\"Date\", \"dd/mm/yyyy\"))"
   ]
  },
  {
   "cell_type": "markdown",
   "metadata": {},
   "source": []
  },
  {
   "cell_type": "markdown",
   "metadata": {},
   "source": [
    "#### Set StringIndexer for Categorical Variables"
   ]
  },
  {
   "cell_type": "code",
   "execution_count": 24,
   "metadata": {},
   "outputs": [
    {
     "data": {
      "text/plain": [
       "import org.apache.spark.ml.feature.{FeatureHasher, StandardScaler, OneHotEncoder, VectorAssembler}\n",
       "import org.apache.spark.ml.feature.{OneHotEncoderEstimator, StringIndexer, VectorIndexer}\n",
       "import org.apache.spark.ml.linalg.Vectors\n",
       "suburbIndexer: org.apache.spark.ml.feature.StringIndexer = strIdx_c48c7549bf69\n",
       "streetNameIndexer: org.apache.spark.ml.feature.StringIndexer = strIdx_073d7cacf8f1\n",
       "propertyTypeIndexer: org.apache.spark.ml.feature.StringIndexer = strIdx_e51b806c4ff6\n",
       "methodOfSaleIndexer: org.apache.spark.ml.feature.StringIndexer = strIdx_021d16a490f3\n",
       "categoricalFeatureColumnNames: Array[String] = Array(MethodOfSaleIndex, PropertyTypeIndex, SuburbIndex, StreetNameIndex)\n",
       "featureColumnNames: Array[String] = Array(MethodOfSale, PropertyType, Suburb, StreetName, DistanceFromCBD, Rooms,..."
      ]
     },
     "execution_count": 24,
     "metadata": {},
     "output_type": "execute_result"
    }
   ],
   "source": [
    "import org.apache.spark.ml.feature.{FeatureHasher,StandardScaler,OneHotEncoder,VectorAssembler}\n",
    "import org.apache.spark.ml.feature.{OneHotEncoderEstimator,StringIndexer,VectorIndexer}\n",
    "import org.apache.spark.ml.linalg.Vectors\n",
    "\n",
    "//define string indexers on categorical values\n",
    "val suburbIndexer = new StringIndexer()\n",
    "    .setInputCol(\"Suburb\")\n",
    "    .setOutputCol(\"SuburbIndex\")\n",
    "    .setHandleInvalid(\"keep\")\n",
    "\n",
    "val streetNameIndexer = new StringIndexer()\n",
    "    .setInputCol(\"StreetName\")\n",
    "    .setOutputCol(\"StreetNameIndex\")\n",
    "    .setHandleInvalid(\"keep\")\n",
    "\n",
    "//define string indexers\n",
    "val propertyTypeIndexer = new StringIndexer()\n",
    "    .setInputCol(\"PropertyType\")\n",
    "    .setOutputCol(\"PropertyTypeIndex\")\n",
    "    .setHandleInvalid(\"keep\")\n",
    "\n",
    "val methodOfSaleIndexer = new StringIndexer()\n",
    "    .setInputCol(\"MethodOfSale\")\n",
    "    .setOutputCol(\"MethodOfSaleIndex\")\n",
    "    .setHandleInvalid(\"keep\")\n",
    "\n",
    "\n",
    "//set the categorical names\n",
    "val categoricalFeatureColumnNames= Array(\"MethodOfSaleIndex\",\n",
    "            \"PropertyTypeIndex\",\n",
    "            \"SuburbIndex\",\n",
    "            \"StreetNameIndex\")\n",
    "\n",
    "val featureColumnNames= Array(\"MethodOfSale\",\n",
    "            \"PropertyType\",\n",
    "             \"Suburb\",                 \n",
    "            \"StreetName\",\n",
    "            \"DistanceFromCBD\",\n",
    "            \"Rooms\",\n",
    "            \"Bathroom\",\n",
    "            \"Car\",\n",
    "            \"Landsize\",\n",
    "            \"Latitude\",\n",
    "            \"Longtitude\",\n",
    "            \"Date\"\n",
    "            )\n",
    "\n",
    "//define feature hasher for Linear Regressoin\n",
    "val featureHasher = new FeatureHasher()\n",
    "    .setInputCols(featureColumnNames)\n",
    "    .setCategoricalCols(categoricalFeatureColumnNames)\n",
    "    .setOutputCol(\"hashedFeatures\")\n"
   ]
  },
  {
   "cell_type": "markdown",
   "metadata": {},
   "source": [
    "#### Set OneHotEncoder for Categorical Variables"
   ]
  },
  {
   "cell_type": "code",
   "execution_count": 26,
   "metadata": {},
   "outputs": [
    {
     "data": {
      "text/plain": [
       "allEncoder: org.apache.spark.ml.feature.OneHotEncoderEstimator = oneHotEncoder_a9e503fbae54\n"
      ]
     },
     "execution_count": 26,
     "metadata": {},
     "output_type": "execute_result"
    }
   ],
   "source": [
    "// one hot encoder\n",
    "val allEncoder = new OneHotEncoderEstimator()\n",
    "  .setInputCols(categoricalFeatureColumnNames)\n",
    "  .setOutputCols(Array(\"MethodOfSaleCategoryVec1\",\n",
    "                       \"PropertyTypeCategoryVec2\",\n",
    "                       \"SuburbIndexCategoryVec3\",\n",
    "                       \"StreetNameIndexCategoryVec4\"))\n",
    "\n"
   ]
  },
  {
   "cell_type": "markdown",
   "metadata": {},
   "source": [
    "#### Assemble the columns and column vectors into a single column - \"features\""
   ]
  },
  {
   "cell_type": "code",
   "execution_count": 27,
   "metadata": {},
   "outputs": [
    {
     "data": {
      "text/plain": [
       "WithEncodedCategoricalFeatureColumnNames: Array[String] = Array(DistanceFromCBD, Rooms, Bathroom, Car, Landsize, Latitude, Longtitude, Date, MethodOfSaleCategoryVec1, PropertyTypeCategoryVec2, SuburbIndexCategoryVec3, StreetNameIndexCategoryVec4)\n",
       "assembler: org.apache.spark.ml.feature.VectorAssembler = vecAssembler_57bdde14c9fd\n"
      ]
     },
     "execution_count": 27,
     "metadata": {},
     "output_type": "execute_result"
    }
   ],
   "source": [
    "val WithEncodedCategoricalFeatureColumnNames = Array(\n",
    "                    \"DistanceFromCBD\", \n",
    "                    \"Rooms\", \n",
    "                    \"Bathroom\",\n",
    "                    \"Car\", \n",
    "                    \"Landsize\", \n",
    "                    \"Latitude\", \n",
    "                    \"Longtitude\", \n",
    "                    \"Date\", \n",
    "                    \"MethodOfSaleCategoryVec1\",\n",
    "                    \"PropertyTypeCategoryVec2\",\n",
    "                    \"SuburbIndexCategoryVec3\",\n",
    "                    \"StreetNameIndexCategoryVec4\")\n",
    "\n",
    "val assembler = new VectorAssembler()\n",
    "            .setInputCols(WithEncodedCategoricalFeatureColumnNames)\n",
    "            .setOutputCol(\"features\")\n"
   ]
  },
  {
   "cell_type": "markdown",
   "metadata": {},
   "source": [
    "#### Set StandardScaler"
   ]
  },
  {
   "cell_type": "code",
   "execution_count": 28,
   "metadata": {},
   "outputs": [
    {
     "data": {
      "text/plain": [
       "scaler: org.apache.spark.ml.feature.StandardScaler = stdScal_809ad91e0e05\n"
      ]
     },
     "execution_count": 28,
     "metadata": {},
     "output_type": "execute_result"
    }
   ],
   "source": [
    "val scaler = new StandardScaler()\n",
    "      .setInputCol(\"features\")\n",
    "      .setOutputCol(\"scaledFeatures\")\n",
    "      .setWithStd(true).setWithMean(true)\n"
   ]
  },
  {
   "cell_type": "markdown",
   "metadata": {},
   "source": [
    "### Apply Log Transform to Price (right skewed --> 'more normal')"
   ]
  },
  {
   "cell_type": "code",
   "execution_count": 29,
   "metadata": {},
   "outputs": [
    {
     "data": {
      "text/plain": [
       "df_clean: org.apache.spark.sql.DataFrame = [Price: double, MethodOfSale: string ... 12 more fields]\n"
      ]
     },
     "execution_count": 29,
     "metadata": {},
     "output_type": "execute_result"
    }
   ],
   "source": [
    "df_clean = df_clean.withColumn(\"loggedPrice\", log($\"Price\").cast(\"Double\"))"
   ]
  },
  {
   "cell_type": "code",
   "execution_count": 30,
   "metadata": {},
   "outputs": [
    {
     "name": "stdout",
     "output_type": "stream",
     "text": [
      "+------------------+\n",
      "|       loggedPrice|\n",
      "+------------------+\n",
      "|14.207552645740298|\n",
      "|13.849911984681606|\n",
      "|14.197365800433305|\n",
      "|13.652991628466498|\n",
      "+------------------+\n",
      "only showing top 4 rows\n",
      "\n"
     ]
    }
   ],
   "source": [
    "df_clean.select(\"loggedPrice\").show(4)\n"
   ]
  },
  {
   "cell_type": "code",
   "execution_count": 31,
   "metadata": {},
   "outputs": [
    {
     "name": "stdout",
     "output_type": "stream",
     "text": [
      "+---------+------------------+\n",
      "|    Price|      PriceAntilog|\n",
      "+---------+------------------+\n",
      "|1480000.0|1480000.0000000007|\n",
      "|1035000.0|1034999.9999999997|\n",
      "|1465000.0|1465000.0000000005|\n",
      "| 850000.0| 849999.9999999994|\n",
      "|1600000.0| 1600000.000000001|\n",
      "| 941000.0| 940999.9999999994|\n",
      "|1876000.0|1876000.0000000012|\n",
      "|1636000.0| 1635999.999999999|\n",
      "|1097000.0|1096999.9999999995|\n",
      "|1350000.0|1350000.0000000002|\n",
      "+---------+------------------+\n",
      "only showing top 10 rows\n",
      "\n"
     ]
    }
   ],
   "source": [
    "//check the antilog - introduces a slight rounding error\n",
    "//could fix in future\n",
    "df_clean.withColumn(\"PriceAntilog\", exp((col(\"loggedPrice\")))).select(\"Price\",\"PriceAntilog\").show(10)"
   ]
  },
  {
   "cell_type": "markdown",
   "metadata": {},
   "source": [
    "### Split Data into a Training and a Testing Set"
   ]
  },
  {
   "cell_type": "markdown",
   "metadata": {},
   "source": [
    "### Compare raw and clean data by proportion of property type"
   ]
  },
  {
   "cell_type": "code",
   "execution_count": 32,
   "metadata": {},
   "outputs": [],
   "source": [
    "df_raw.toDF.createOrReplaceTempView(\"df_py_raw\")\n",
    "df_clean.toDF.createOrReplaceTempView(\"df_py_clean\")"
   ]
  },
  {
   "cell_type": "code",
   "execution_count": 33,
   "metadata": {},
   "outputs": [
    {
     "name": "stdout",
     "output_type": "stream",
     "text": [
      "+---------+------------+------------+---------------+-----+--------+---+--------+--------+----------+----------+----------+-------------+------------------+\n",
      "|    Price|MethodOfSale|PropertyType|DistanceFromCBD|Rooms|Bathroom|Car|Landsize|Latitude|Longtitude|    Suburb|      Date|   StreetName|       loggedPrice|\n",
      "+---------+------------+------------+---------------+-----+--------+---+--------+--------+----------+----------+----------+-------------+------------------+\n",
      "|1480000.0|           S|           H|            2.5|    2|       1|  1|   202.0|-37.7996|  144.9984|Abbotsford|1451779920|    Turner St|14.207552645740298|\n",
      "|1035000.0|           S|           H|            2.5|    2|       1|  0|   156.0|-37.8079|  144.9934|Abbotsford|1451865720| Bloomburg St|13.849911984681606|\n",
      "|1465000.0|          SP|           H|            2.5|    3|       2|  0|   134.0|-37.8093|  144.9944|Abbotsford|1483488180|   Charles St|14.197365800433305|\n",
      "| 850000.0|          PI|           H|            2.5|    3|       2|  1|    94.0|-37.7969|  144.9969|Abbotsford|1483488180|Federation La|13.652991628466498|\n",
      "|1600000.0|          VB|           H|            2.5|    4|       1|  2|   120.0|-37.8072|  144.9941|Abbotsford|1451865960|      Park St| 14.28551418721001|\n",
      "+---------+------------+------------+---------------+-----+--------+---+--------+--------+----------+----------+----------+-------------+------------------+\n",
      "only showing top 5 rows\n",
      "\n"
     ]
    }
   ],
   "source": [
    "%%python\n",
    "df_raw_p = spark.sql(\"select * from df_py_raw\")\n",
    "df_clean_p = spark.sql(\"select * from df_py_clean\")\n",
    "df_clean_p.show(5)"
   ]
  },
  {
   "cell_type": "code",
   "execution_count": 34,
   "metadata": {},
   "outputs": [
    {
     "name": "stdout",
     "output_type": "stream",
     "text": [
      "Requirement already satisfied: matplotlib in /usr/local/lib/python3.6/dist-packages (3.2.1)\n",
      "\n",
      "\n",
      "Requirement already satisfied: kiwisolver>=1.0.1 in /usr/local/lib/python3.6/dist-packages (from matplotlib) (1.2.0)\n",
      "\n",
      "\n",
      "Requirement already satisfied: cycler>=0.10 in /usr/local/lib/python3.6/dist-packages (from matplotlib) (0.10.0)\n",
      "\n",
      "\n",
      "Requirement already satisfied: pyparsing!=2.0.4,!=2.1.2,!=2.1.6,>=2.0.1 in /usr/local/lib/python3.6/dist-packages (from matplotlib) (2.4.7)\n",
      "\n",
      "\n",
      "Requirement already satisfied: numpy>=1.11 in /usr/local/lib/python3.6/dist-packages (from matplotlib) (1.18.5)\n",
      "\n",
      "\n",
      "Requirement already satisfied: python-dateutil>=2.1 in /usr/local/lib/python3.6/dist-packages (from matplotlib) (2.8.1)\n",
      "\n",
      "\n",
      "Requirement already satisfied: six in /usr/lib/python3/dist-packages (from cycler>=0.10->matplotlib) (1.11.0)\n",
      "\n",
      "\n",
      "Requirement already satisfied: pandas in /usr/local/lib/python3.6/dist-packages (1.0.4)\n",
      "\n",
      "\n",
      "Requirement already satisfied: pytz>=2017.2 in /usr/local/lib/python3.6/dist-packages (from pandas) (2020.1)\n",
      "\n",
      "\n",
      "Requirement already satisfied: python-dateutil>=2.6.1 in /usr/local/lib/python3.6/dist-packages (from pandas) (2.8.1)\n",
      "\n",
      "\n",
      "Requirement already satisfied: numpy>=1.13.3 in /usr/local/lib/python3.6/dist-packages (from pandas) (1.18.5)\n",
      "\n",
      "\n",
      "Requirement already satisfied: six>=1.5 in /usr/lib/python3/dist-packages (from python-dateutil>=2.6.1->pandas) (1.11.0)\n",
      "\n",
      "\n"
     ]
    }
   ],
   "source": [
    "! pip install matplotlib\n",
    "! pip install pandas"
   ]
  },
  {
   "cell_type": "code",
   "execution_count": 35,
   "metadata": {},
   "outputs": [
    {
     "name": "stdout",
     "output_type": "stream",
     "text": [
      "Index(['Suburb', 'Address', 'Rooms', 'Type', 'Price', 'Method', 'SellerG',\n",
      "       'Date', 'Distance', 'Postcode', 'Bedroom2', 'Bathroom', 'Car',\n",
      "       'Landsize', 'BuildingArea', 'YearBuilt', 'CouncilArea', 'Lattitude',\n",
      "       'Longtitude', 'Regionname', 'Propertycount'],\n",
      "      dtype='object')\n"
     ]
    },
    {
     "data": {
      "application/javascript": [
       "/* Put everything inside the global mpl namespace */\n",
       "window.mpl = {};\n",
       "\n",
       "\n",
       "mpl.get_websocket_type = function() {\n",
       "    if (typeof(WebSocket) !== 'undefined') {\n",
       "        return WebSocket;\n",
       "    } else if (typeof(MozWebSocket) !== 'undefined') {\n",
       "        return MozWebSocket;\n",
       "    } else {\n",
       "        alert('Your browser does not have WebSocket support. ' +\n",
       "              'Please try Chrome, Safari or Firefox ≥ 6. ' +\n",
       "              'Firefox 4 and 5 are also supported but you ' +\n",
       "              'have to enable WebSockets in about:config.');\n",
       "    };\n",
       "}\n",
       "\n",
       "mpl.figure = function(figure_id, websocket, ondownload, parent_element) {\n",
       "    this.id = figure_id;\n",
       "\n",
       "    this.ws = websocket;\n",
       "\n",
       "    this.supports_binary = (this.ws.binaryType != undefined);\n",
       "\n",
       "    if (!this.supports_binary) {\n",
       "        var warnings = document.getElementById(\"mpl-warnings\");\n",
       "        if (warnings) {\n",
       "            warnings.style.display = 'block';\n",
       "            warnings.textContent = (\n",
       "                \"This browser does not support binary websocket messages. \" +\n",
       "                    \"Performance may be slow.\");\n",
       "        }\n",
       "    }\n",
       "\n",
       "    this.imageObj = new Image();\n",
       "\n",
       "    this.context = undefined;\n",
       "    this.message = undefined;\n",
       "    this.canvas = undefined;\n",
       "    this.rubberband_canvas = undefined;\n",
       "    this.rubberband_context = undefined;\n",
       "    this.format_dropdown = undefined;\n",
       "\n",
       "    this.image_mode = 'full';\n",
       "\n",
       "    this.root = $('<div/>');\n",
       "    this._root_extra_style(this.root)\n",
       "    this.root.attr('style', 'display: inline-block');\n",
       "\n",
       "    $(parent_element).append(this.root);\n",
       "\n",
       "    this._init_header(this);\n",
       "    this._init_canvas(this);\n",
       "    this._init_toolbar(this);\n",
       "\n",
       "    var fig = this;\n",
       "\n",
       "    this.waiting = false;\n",
       "\n",
       "    this.ws.onopen =  function () {\n",
       "            fig.send_message(\"supports_binary\", {value: fig.supports_binary});\n",
       "            fig.send_message(\"send_image_mode\", {});\n",
       "            if (mpl.ratio != 1) {\n",
       "                fig.send_message(\"set_dpi_ratio\", {'dpi_ratio': mpl.ratio});\n",
       "            }\n",
       "            fig.send_message(\"refresh\", {});\n",
       "        }\n",
       "\n",
       "    this.imageObj.onload = function() {\n",
       "            if (fig.image_mode == 'full') {\n",
       "                // Full images could contain transparency (where diff images\n",
       "                // almost always do), so we need to clear the canvas so that\n",
       "                // there is no ghosting.\n",
       "                fig.context.clearRect(0, 0, fig.canvas.width, fig.canvas.height);\n",
       "            }\n",
       "            fig.context.drawImage(fig.imageObj, 0, 0);\n",
       "        };\n",
       "\n",
       "    this.imageObj.onunload = function() {\n",
       "        fig.ws.close();\n",
       "    }\n",
       "\n",
       "    this.ws.onmessage = this._make_on_message_function(this);\n",
       "\n",
       "    this.ondownload = ondownload;\n",
       "}\n",
       "\n",
       "mpl.figure.prototype._init_header = function() {\n",
       "    var titlebar = $(\n",
       "        '<div class=\"ui-dialog-titlebar ui-widget-header ui-corner-all ' +\n",
       "        'ui-helper-clearfix\"/>');\n",
       "    var titletext = $(\n",
       "        '<div class=\"ui-dialog-title\" style=\"width: 100%; ' +\n",
       "        'text-align: center; padding: 3px;\"/>');\n",
       "    titlebar.append(titletext)\n",
       "    this.root.append(titlebar);\n",
       "    this.header = titletext[0];\n",
       "}\n",
       "\n",
       "\n",
       "\n",
       "mpl.figure.prototype._canvas_extra_style = function(canvas_div) {\n",
       "\n",
       "}\n",
       "\n",
       "\n",
       "mpl.figure.prototype._root_extra_style = function(canvas_div) {\n",
       "\n",
       "}\n",
       "\n",
       "mpl.figure.prototype._init_canvas = function() {\n",
       "    var fig = this;\n",
       "\n",
       "    var canvas_div = $('<div/>');\n",
       "\n",
       "    canvas_div.attr('style', 'position: relative; clear: both; outline: 0');\n",
       "\n",
       "    function canvas_keyboard_event(event) {\n",
       "        return fig.key_event(event, event['data']);\n",
       "    }\n",
       "\n",
       "    canvas_div.keydown('key_press', canvas_keyboard_event);\n",
       "    canvas_div.keyup('key_release', canvas_keyboard_event);\n",
       "    this.canvas_div = canvas_div\n",
       "    this._canvas_extra_style(canvas_div)\n",
       "    this.root.append(canvas_div);\n",
       "\n",
       "    var canvas = $('<canvas/>');\n",
       "    canvas.addClass('mpl-canvas');\n",
       "    canvas.attr('style', \"left: 0; top: 0; z-index: 0; outline: 0\")\n",
       "\n",
       "    this.canvas = canvas[0];\n",
       "    this.context = canvas[0].getContext(\"2d\");\n",
       "\n",
       "    var backingStore = this.context.backingStorePixelRatio ||\n",
       "\tthis.context.webkitBackingStorePixelRatio ||\n",
       "\tthis.context.mozBackingStorePixelRatio ||\n",
       "\tthis.context.msBackingStorePixelRatio ||\n",
       "\tthis.context.oBackingStorePixelRatio ||\n",
       "\tthis.context.backingStorePixelRatio || 1;\n",
       "\n",
       "    mpl.ratio = (window.devicePixelRatio || 1) / backingStore;\n",
       "\n",
       "    var rubberband = $('<canvas/>');\n",
       "    rubberband.attr('style', \"position: absolute; left: 0; top: 0; z-index: 1;\")\n",
       "\n",
       "    var pass_mouse_events = true;\n",
       "\n",
       "    canvas_div.resizable({\n",
       "        start: function(event, ui) {\n",
       "            pass_mouse_events = false;\n",
       "        },\n",
       "        resize: function(event, ui) {\n",
       "            fig.request_resize(ui.size.width, ui.size.height);\n",
       "        },\n",
       "        stop: function(event, ui) {\n",
       "            pass_mouse_events = true;\n",
       "            fig.request_resize(ui.size.width, ui.size.height);\n",
       "        },\n",
       "    });\n",
       "\n",
       "    function mouse_event_fn(event) {\n",
       "        if (pass_mouse_events)\n",
       "            return fig.mouse_event(event, event['data']);\n",
       "    }\n",
       "\n",
       "    rubberband.mousedown('button_press', mouse_event_fn);\n",
       "    rubberband.mouseup('button_release', mouse_event_fn);\n",
       "    // Throttle sequential mouse events to 1 every 20ms.\n",
       "    rubberband.mousemove('motion_notify', mouse_event_fn);\n",
       "\n",
       "    rubberband.mouseenter('figure_enter', mouse_event_fn);\n",
       "    rubberband.mouseleave('figure_leave', mouse_event_fn);\n",
       "\n",
       "    canvas_div.on(\"wheel\", function (event) {\n",
       "        event = event.originalEvent;\n",
       "        event['data'] = 'scroll'\n",
       "        if (event.deltaY < 0) {\n",
       "            event.step = 1;\n",
       "        } else {\n",
       "            event.step = -1;\n",
       "        }\n",
       "        mouse_event_fn(event);\n",
       "    });\n",
       "\n",
       "    canvas_div.append(canvas);\n",
       "    canvas_div.append(rubberband);\n",
       "\n",
       "    this.rubberband = rubberband;\n",
       "    this.rubberband_canvas = rubberband[0];\n",
       "    this.rubberband_context = rubberband[0].getContext(\"2d\");\n",
       "    this.rubberband_context.strokeStyle = \"#000000\";\n",
       "\n",
       "    this._resize_canvas = function(width, height) {\n",
       "        // Keep the size of the canvas, canvas container, and rubber band\n",
       "        // canvas in synch.\n",
       "        canvas_div.css('width', width)\n",
       "        canvas_div.css('height', height)\n",
       "\n",
       "        canvas.attr('width', width * mpl.ratio);\n",
       "        canvas.attr('height', height * mpl.ratio);\n",
       "        canvas.attr('style', 'width: ' + width + 'px; height: ' + height + 'px;');\n",
       "\n",
       "        rubberband.attr('width', width);\n",
       "        rubberband.attr('height', height);\n",
       "    }\n",
       "\n",
       "    // Set the figure to an initial 600x600px, this will subsequently be updated\n",
       "    // upon first draw.\n",
       "    this._resize_canvas(600, 600);\n",
       "\n",
       "    // Disable right mouse context menu.\n",
       "    $(this.rubberband_canvas).bind(\"contextmenu\",function(e){\n",
       "        return false;\n",
       "    });\n",
       "\n",
       "    function set_focus () {\n",
       "        canvas.focus();\n",
       "        canvas_div.focus();\n",
       "    }\n",
       "\n",
       "    window.setTimeout(set_focus, 100);\n",
       "}\n",
       "\n",
       "mpl.figure.prototype._init_toolbar = function() {\n",
       "    var fig = this;\n",
       "\n",
       "    var nav_element = $('<div/>');\n",
       "    nav_element.attr('style', 'width: 100%');\n",
       "    this.root.append(nav_element);\n",
       "\n",
       "    // Define a callback function for later on.\n",
       "    function toolbar_event(event) {\n",
       "        return fig.toolbar_button_onclick(event['data']);\n",
       "    }\n",
       "    function toolbar_mouse_event(event) {\n",
       "        return fig.toolbar_button_onmouseover(event['data']);\n",
       "    }\n",
       "\n",
       "    for(var toolbar_ind in mpl.toolbar_items) {\n",
       "        var name = mpl.toolbar_items[toolbar_ind][0];\n",
       "        var tooltip = mpl.toolbar_items[toolbar_ind][1];\n",
       "        var image = mpl.toolbar_items[toolbar_ind][2];\n",
       "        var method_name = mpl.toolbar_items[toolbar_ind][3];\n",
       "\n",
       "        if (!name) {\n",
       "            // put a spacer in here.\n",
       "            continue;\n",
       "        }\n",
       "        var button = $('<button/>');\n",
       "        button.addClass('ui-button ui-widget ui-state-default ui-corner-all ' +\n",
       "                        'ui-button-icon-only');\n",
       "        button.attr('role', 'button');\n",
       "        button.attr('aria-disabled', 'false');\n",
       "        button.click(method_name, toolbar_event);\n",
       "        button.mouseover(tooltip, toolbar_mouse_event);\n",
       "\n",
       "        var icon_img = $('<span/>');\n",
       "        icon_img.addClass('ui-button-icon-primary ui-icon');\n",
       "        icon_img.addClass(image);\n",
       "        icon_img.addClass('ui-corner-all');\n",
       "\n",
       "        var tooltip_span = $('<span/>');\n",
       "        tooltip_span.addClass('ui-button-text');\n",
       "        tooltip_span.html(tooltip);\n",
       "\n",
       "        button.append(icon_img);\n",
       "        button.append(tooltip_span);\n",
       "\n",
       "        nav_element.append(button);\n",
       "    }\n",
       "\n",
       "    var fmt_picker_span = $('<span/>');\n",
       "\n",
       "    var fmt_picker = $('<select/>');\n",
       "    fmt_picker.addClass('mpl-toolbar-option ui-widget ui-widget-content');\n",
       "    fmt_picker_span.append(fmt_picker);\n",
       "    nav_element.append(fmt_picker_span);\n",
       "    this.format_dropdown = fmt_picker[0];\n",
       "\n",
       "    for (var ind in mpl.extensions) {\n",
       "        var fmt = mpl.extensions[ind];\n",
       "        var option = $(\n",
       "            '<option/>', {selected: fmt === mpl.default_extension}).html(fmt);\n",
       "        fmt_picker.append(option);\n",
       "    }\n",
       "\n",
       "    // Add hover states to the ui-buttons\n",
       "    $( \".ui-button\" ).hover(\n",
       "        function() { $(this).addClass(\"ui-state-hover\");},\n",
       "        function() { $(this).removeClass(\"ui-state-hover\");}\n",
       "    );\n",
       "\n",
       "    var status_bar = $('<span class=\"mpl-message\"/>');\n",
       "    nav_element.append(status_bar);\n",
       "    this.message = status_bar[0];\n",
       "}\n",
       "\n",
       "mpl.figure.prototype.request_resize = function(x_pixels, y_pixels) {\n",
       "    // Request matplotlib to resize the figure. Matplotlib will then trigger a resize in the client,\n",
       "    // which will in turn request a refresh of the image.\n",
       "    this.send_message('resize', {'width': x_pixels, 'height': y_pixels});\n",
       "}\n",
       "\n",
       "mpl.figure.prototype.send_message = function(type, properties) {\n",
       "    properties['type'] = type;\n",
       "    properties['figure_id'] = this.id;\n",
       "    this.ws.send(JSON.stringify(properties));\n",
       "}\n",
       "\n",
       "mpl.figure.prototype.send_draw_message = function() {\n",
       "    if (!this.waiting) {\n",
       "        this.waiting = true;\n",
       "        this.ws.send(JSON.stringify({type: \"draw\", figure_id: this.id}));\n",
       "    }\n",
       "}\n",
       "\n",
       "\n",
       "mpl.figure.prototype.handle_save = function(fig, msg) {\n",
       "    var format_dropdown = fig.format_dropdown;\n",
       "    var format = format_dropdown.options[format_dropdown.selectedIndex].value;\n",
       "    fig.ondownload(fig, format);\n",
       "}\n",
       "\n",
       "\n",
       "mpl.figure.prototype.handle_resize = function(fig, msg) {\n",
       "    var size = msg['size'];\n",
       "    if (size[0] != fig.canvas.width || size[1] != fig.canvas.height) {\n",
       "        fig._resize_canvas(size[0], size[1]);\n",
       "        fig.send_message(\"refresh\", {});\n",
       "    };\n",
       "}\n",
       "\n",
       "mpl.figure.prototype.handle_rubberband = function(fig, msg) {\n",
       "    var x0 = msg['x0'] / mpl.ratio;\n",
       "    var y0 = (fig.canvas.height - msg['y0']) / mpl.ratio;\n",
       "    var x1 = msg['x1'] / mpl.ratio;\n",
       "    var y1 = (fig.canvas.height - msg['y1']) / mpl.ratio;\n",
       "    x0 = Math.floor(x0) + 0.5;\n",
       "    y0 = Math.floor(y0) + 0.5;\n",
       "    x1 = Math.floor(x1) + 0.5;\n",
       "    y1 = Math.floor(y1) + 0.5;\n",
       "    var min_x = Math.min(x0, x1);\n",
       "    var min_y = Math.min(y0, y1);\n",
       "    var width = Math.abs(x1 - x0);\n",
       "    var height = Math.abs(y1 - y0);\n",
       "\n",
       "    fig.rubberband_context.clearRect(\n",
       "        0, 0, fig.canvas.width / mpl.ratio, fig.canvas.height / mpl.ratio);\n",
       "\n",
       "    fig.rubberband_context.strokeRect(min_x, min_y, width, height);\n",
       "}\n",
       "\n",
       "mpl.figure.prototype.handle_figure_label = function(fig, msg) {\n",
       "    // Updates the figure title.\n",
       "    fig.header.textContent = msg['label'];\n",
       "}\n",
       "\n",
       "mpl.figure.prototype.handle_cursor = function(fig, msg) {\n",
       "    var cursor = msg['cursor'];\n",
       "    switch(cursor)\n",
       "    {\n",
       "    case 0:\n",
       "        cursor = 'pointer';\n",
       "        break;\n",
       "    case 1:\n",
       "        cursor = 'default';\n",
       "        break;\n",
       "    case 2:\n",
       "        cursor = 'crosshair';\n",
       "        break;\n",
       "    case 3:\n",
       "        cursor = 'move';\n",
       "        break;\n",
       "    }\n",
       "    fig.rubberband_canvas.style.cursor = cursor;\n",
       "}\n",
       "\n",
       "mpl.figure.prototype.handle_message = function(fig, msg) {\n",
       "    fig.message.textContent = msg['message'];\n",
       "}\n",
       "\n",
       "mpl.figure.prototype.handle_draw = function(fig, msg) {\n",
       "    // Request the server to send over a new figure.\n",
       "    fig.send_draw_message();\n",
       "}\n",
       "\n",
       "mpl.figure.prototype.handle_image_mode = function(fig, msg) {\n",
       "    fig.image_mode = msg['mode'];\n",
       "}\n",
       "\n",
       "mpl.figure.prototype.updated_canvas_event = function() {\n",
       "    // Called whenever the canvas gets updated.\n",
       "    this.send_message(\"ack\", {});\n",
       "}\n",
       "\n",
       "// A function to construct a web socket function for onmessage handling.\n",
       "// Called in the figure constructor.\n",
       "mpl.figure.prototype._make_on_message_function = function(fig) {\n",
       "    return function socket_on_message(evt) {\n",
       "        if (evt.data instanceof Blob) {\n",
       "            /* FIXME: We get \"Resource interpreted as Image but\n",
       "             * transferred with MIME type text/plain:\" errors on\n",
       "             * Chrome.  But how to set the MIME type?  It doesn't seem\n",
       "             * to be part of the websocket stream */\n",
       "            evt.data.type = \"image/png\";\n",
       "\n",
       "            /* Free the memory for the previous frames */\n",
       "            if (fig.imageObj.src) {\n",
       "                (window.URL || window.webkitURL).revokeObjectURL(\n",
       "                    fig.imageObj.src);\n",
       "            }\n",
       "\n",
       "            fig.imageObj.src = (window.URL || window.webkitURL).createObjectURL(\n",
       "                evt.data);\n",
       "            fig.updated_canvas_event();\n",
       "            fig.waiting = false;\n",
       "            return;\n",
       "        }\n",
       "        else if (typeof evt.data === 'string' && evt.data.slice(0, 21) == \"data:image/png;base64\") {\n",
       "            fig.imageObj.src = evt.data;\n",
       "            fig.updated_canvas_event();\n",
       "            fig.waiting = false;\n",
       "            return;\n",
       "        }\n",
       "\n",
       "        var msg = JSON.parse(evt.data);\n",
       "        var msg_type = msg['type'];\n",
       "\n",
       "        // Call the  \"handle_{type}\" callback, which takes\n",
       "        // the figure and JSON message as its only arguments.\n",
       "        try {\n",
       "            var callback = fig[\"handle_\" + msg_type];\n",
       "        } catch (e) {\n",
       "            console.log(\"No handler for the '\" + msg_type + \"' message type: \", msg);\n",
       "            return;\n",
       "        }\n",
       "\n",
       "        if (callback) {\n",
       "            try {\n",
       "                // console.log(\"Handling '\" + msg_type + \"' message: \", msg);\n",
       "                callback(fig, msg);\n",
       "            } catch (e) {\n",
       "                console.log(\"Exception inside the 'handler_\" + msg_type + \"' callback:\", e, e.stack, msg);\n",
       "            }\n",
       "        }\n",
       "    };\n",
       "}\n",
       "\n",
       "// from http://stackoverflow.com/questions/1114465/getting-mouse-location-in-canvas\n",
       "mpl.findpos = function(e) {\n",
       "    //this section is from http://www.quirksmode.org/js/events_properties.html\n",
       "    var targ;\n",
       "    if (!e)\n",
       "        e = window.event;\n",
       "    if (e.target)\n",
       "        targ = e.target;\n",
       "    else if (e.srcElement)\n",
       "        targ = e.srcElement;\n",
       "    if (targ.nodeType == 3) // defeat Safari bug\n",
       "        targ = targ.parentNode;\n",
       "\n",
       "    // jQuery normalizes the pageX and pageY\n",
       "    // pageX,Y are the mouse positions relative to the document\n",
       "    // offset() returns the position of the element relative to the document\n",
       "    var x = e.pageX - $(targ).offset().left;\n",
       "    var y = e.pageY - $(targ).offset().top;\n",
       "\n",
       "    return {\"x\": x, \"y\": y};\n",
       "};\n",
       "\n",
       "/*\n",
       " * return a copy of an object with only non-object keys\n",
       " * we need this to avoid circular references\n",
       " * http://stackoverflow.com/a/24161582/3208463\n",
       " */\n",
       "function simpleKeys (original) {\n",
       "  return Object.keys(original).reduce(function (obj, key) {\n",
       "    if (typeof original[key] !== 'object')\n",
       "        obj[key] = original[key]\n",
       "    return obj;\n",
       "  }, {});\n",
       "}\n",
       "\n",
       "mpl.figure.prototype.mouse_event = function(event, name) {\n",
       "    var canvas_pos = mpl.findpos(event)\n",
       "\n",
       "    if (name === 'button_press')\n",
       "    {\n",
       "        this.canvas.focus();\n",
       "        this.canvas_div.focus();\n",
       "    }\n",
       "\n",
       "    var x = canvas_pos.x * mpl.ratio;\n",
       "    var y = canvas_pos.y * mpl.ratio;\n",
       "\n",
       "    this.send_message(name, {x: x, y: y, button: event.button,\n",
       "                             step: event.step,\n",
       "                             guiEvent: simpleKeys(event)});\n",
       "\n",
       "    /* This prevents the web browser from automatically changing to\n",
       "     * the text insertion cursor when the button is pressed.  We want\n",
       "     * to control all of the cursor setting manually through the\n",
       "     * 'cursor' event from matplotlib */\n",
       "    event.preventDefault();\n",
       "    return false;\n",
       "}\n",
       "\n",
       "mpl.figure.prototype._key_event_extra = function(event, name) {\n",
       "    // Handle any extra behaviour associated with a key event\n",
       "}\n",
       "\n",
       "mpl.figure.prototype.key_event = function(event, name) {\n",
       "\n",
       "    // Prevent repeat events\n",
       "    if (name == 'key_press')\n",
       "    {\n",
       "        if (event.which === this._key)\n",
       "            return;\n",
       "        else\n",
       "            this._key = event.which;\n",
       "    }\n",
       "    if (name == 'key_release')\n",
       "        this._key = null;\n",
       "\n",
       "    var value = '';\n",
       "    if (event.ctrlKey && event.which != 17)\n",
       "        value += \"ctrl+\";\n",
       "    if (event.altKey && event.which != 18)\n",
       "        value += \"alt+\";\n",
       "    if (event.shiftKey && event.which != 16)\n",
       "        value += \"shift+\";\n",
       "\n",
       "    value += 'k';\n",
       "    value += event.which.toString();\n",
       "\n",
       "    this._key_event_extra(event, name);\n",
       "\n",
       "    this.send_message(name, {key: value,\n",
       "                             guiEvent: simpleKeys(event)});\n",
       "    return false;\n",
       "}\n",
       "\n",
       "mpl.figure.prototype.toolbar_button_onclick = function(name) {\n",
       "    if (name == 'download') {\n",
       "        this.handle_save(this, null);\n",
       "    } else {\n",
       "        this.send_message(\"toolbar_button\", {name: name});\n",
       "    }\n",
       "};\n",
       "\n",
       "mpl.figure.prototype.toolbar_button_onmouseover = function(tooltip) {\n",
       "    this.message.textContent = tooltip;\n",
       "};\n",
       "mpl.toolbar_items = [[\"Home\", \"Reset original view\", \"fa fa-home icon-home\", \"home\"], [\"Back\", \"Back to previous view\", \"fa fa-arrow-left icon-arrow-left\", \"back\"], [\"Forward\", \"Forward to next view\", \"fa fa-arrow-right icon-arrow-right\", \"forward\"], [\"\", \"\", \"\", \"\"], [\"Pan\", \"Pan axes with left mouse, zoom with right\", \"fa fa-arrows icon-move\", \"pan\"], [\"Zoom\", \"Zoom to rectangle\", \"fa fa-square-o icon-check-empty\", \"zoom\"], [\"\", \"\", \"\", \"\"], [\"Download\", \"Download plot\", \"fa fa-floppy-o icon-save\", \"download\"]];\n",
       "\n",
       "mpl.extensions = [\"eps\", \"pdf\", \"png\", \"ps\", \"raw\", \"svg\"];\n",
       "\n",
       "mpl.default_extension = \"png\";var comm_websocket_adapter = function(comm) {\n",
       "    // Create a \"websocket\"-like object which calls the given IPython comm\n",
       "    // object with the appropriate methods. Currently this is a non binary\n",
       "    // socket, so there is still some room for performance tuning.\n",
       "    var ws = {};\n",
       "\n",
       "    ws.close = function() {\n",
       "        comm.close()\n",
       "    };\n",
       "    ws.send = function(m) {\n",
       "        //console.log('sending', m);\n",
       "        comm.send(m);\n",
       "    };\n",
       "    // Register the callback with on_msg.\n",
       "    comm.on_msg(function(msg) {\n",
       "        //console.log('receiving', msg['content']['data'], msg);\n",
       "        // Pass the mpl event to the overridden (by mpl) onmessage function.\n",
       "        ws.onmessage(msg['content']['data'])\n",
       "    });\n",
       "    return ws;\n",
       "}\n",
       "\n",
       "mpl.mpl_figure_comm = function(comm, msg) {\n",
       "    // This is the function which gets called when the mpl process\n",
       "    // starts-up an IPython Comm through the \"matplotlib\" channel.\n",
       "\n",
       "    var id = msg.content.data.id;\n",
       "    // Get hold of the div created by the display call when the Comm\n",
       "    // socket was opened in Python.\n",
       "    var element = $(\"#\" + id);\n",
       "    var ws_proxy = comm_websocket_adapter(comm)\n",
       "\n",
       "    function ondownload(figure, format) {\n",
       "        window.open(figure.imageObj.src);\n",
       "    }\n",
       "\n",
       "    var fig = new mpl.figure(id, ws_proxy,\n",
       "                           ondownload,\n",
       "                           element.get(0));\n",
       "\n",
       "    // Call onopen now - mpl needs it, as it is assuming we've passed it a real\n",
       "    // web socket which is closed, not our websocket->open comm proxy.\n",
       "    ws_proxy.onopen();\n",
       "\n",
       "    fig.parent_element = element.get(0);\n",
       "    fig.cell_info = mpl.find_output_cell(\"<div id='\" + id + \"'></div>\");\n",
       "    if (!fig.cell_info) {\n",
       "        console.error(\"Failed to find cell for figure\", id, fig);\n",
       "        return;\n",
       "    }\n",
       "\n",
       "    var output_index = fig.cell_info[2]\n",
       "    var cell = fig.cell_info[0];\n",
       "\n",
       "};\n",
       "\n",
       "mpl.figure.prototype.handle_close = function(fig, msg) {\n",
       "    var width = fig.canvas.width/mpl.ratio\n",
       "    fig.root.unbind('remove')\n",
       "\n",
       "    // Update the output cell to use the data from the current canvas.\n",
       "    fig.push_to_output();\n",
       "    var dataURL = fig.canvas.toDataURL();\n",
       "    // Re-enable the keyboard manager in IPython - without this line, in FF,\n",
       "    // the notebook keyboard shortcuts fail.\n",
       "    IPython.keyboard_manager.enable()\n",
       "    $(fig.parent_element).html('<img src=\"' + dataURL + '\" width=\"' + width + '\">');\n",
       "    fig.close_ws(fig, msg);\n",
       "}\n",
       "\n",
       "mpl.figure.prototype.close_ws = function(fig, msg){\n",
       "    fig.send_message('closing', msg);\n",
       "    // fig.ws.close()\n",
       "}\n",
       "\n",
       "mpl.figure.prototype.push_to_output = function(remove_interactive) {\n",
       "    // Turn the data on the canvas into data in the output cell.\n",
       "    var width = this.canvas.width/mpl.ratio\n",
       "    var dataURL = this.canvas.toDataURL();\n",
       "    this.cell_info[1]['text/html'] = '<img src=\"' + dataURL + '\" width=\"' + width + '\">';\n",
       "}\n",
       "\n",
       "mpl.figure.prototype.updated_canvas_event = function() {\n",
       "    // Tell IPython that the notebook contents must change.\n",
       "    IPython.notebook.set_dirty(true);\n",
       "    this.send_message(\"ack\", {});\n",
       "    var fig = this;\n",
       "    // Wait a second, then push the new image to the DOM so\n",
       "    // that it is saved nicely (might be nice to debounce this).\n",
       "    setTimeout(function () { fig.push_to_output() }, 1000);\n",
       "}\n",
       "\n",
       "mpl.figure.prototype._init_toolbar = function() {\n",
       "    var fig = this;\n",
       "\n",
       "    var nav_element = $('<div/>');\n",
       "    nav_element.attr('style', 'width: 100%');\n",
       "    this.root.append(nav_element);\n",
       "\n",
       "    // Define a callback function for later on.\n",
       "    function toolbar_event(event) {\n",
       "        return fig.toolbar_button_onclick(event['data']);\n",
       "    }\n",
       "    function toolbar_mouse_event(event) {\n",
       "        return fig.toolbar_button_onmouseover(event['data']);\n",
       "    }\n",
       "\n",
       "    for(var toolbar_ind in mpl.toolbar_items){\n",
       "        var name = mpl.toolbar_items[toolbar_ind][0];\n",
       "        var tooltip = mpl.toolbar_items[toolbar_ind][1];\n",
       "        var image = mpl.toolbar_items[toolbar_ind][2];\n",
       "        var method_name = mpl.toolbar_items[toolbar_ind][3];\n",
       "\n",
       "        if (!name) { continue; };\n",
       "\n",
       "        var button = $('<button class=\"btn btn-default\" href=\"#\" title=\"' + name + '\"><i class=\"fa ' + image + ' fa-lg\"></i></button>');\n",
       "        button.click(method_name, toolbar_event);\n",
       "        button.mouseover(tooltip, toolbar_mouse_event);\n",
       "        nav_element.append(button);\n",
       "    }\n",
       "\n",
       "    // Add the status bar.\n",
       "    var status_bar = $('<span class=\"mpl-message\" style=\"text-align:right; float: right;\"/>');\n",
       "    nav_element.append(status_bar);\n",
       "    this.message = status_bar[0];\n",
       "\n",
       "    // Add the close button to the window.\n",
       "    var buttongrp = $('<div class=\"btn-group inline pull-right\"></div>');\n",
       "    var button = $('<button class=\"btn btn-mini btn-primary\" href=\"#\" title=\"Stop Interaction\"><i class=\"fa fa-power-off icon-remove icon-large\"></i></button>');\n",
       "    button.click(function (evt) { fig.handle_close(fig, {}); } );\n",
       "    button.mouseover('Stop Interaction', toolbar_mouse_event);\n",
       "    buttongrp.append(button);\n",
       "    var titlebar = this.root.find($('.ui-dialog-titlebar'));\n",
       "    titlebar.prepend(buttongrp);\n",
       "}\n",
       "\n",
       "mpl.figure.prototype._root_extra_style = function(el){\n",
       "    var fig = this\n",
       "    el.on(\"remove\", function(){\n",
       "\tfig.close_ws(fig, {});\n",
       "    });\n",
       "}\n",
       "\n",
       "mpl.figure.prototype._canvas_extra_style = function(el){\n",
       "    // this is important to make the div 'focusable\n",
       "    el.attr('tabindex', 0)\n",
       "    // reach out to IPython and tell the keyboard manager to turn it's self\n",
       "    // off when our div gets focus\n",
       "\n",
       "    // location in version 3\n",
       "    if (IPython.notebook.keyboard_manager) {\n",
       "        IPython.notebook.keyboard_manager.register_events(el);\n",
       "    }\n",
       "    else {\n",
       "        // location in version 2\n",
       "        IPython.keyboard_manager.register_events(el);\n",
       "    }\n",
       "\n",
       "}\n",
       "\n",
       "mpl.figure.prototype._key_event_extra = function(event, name) {\n",
       "    var manager = IPython.notebook.keyboard_manager;\n",
       "    if (!manager)\n",
       "        manager = IPython.keyboard_manager;\n",
       "\n",
       "    // Check for shift+enter\n",
       "    if (event.shiftKey && event.which == 13) {\n",
       "        this.canvas_div.blur();\n",
       "        // select the cell after this one\n",
       "        var index = IPython.notebook.find_cell_index(this.cell_info[0]);\n",
       "        IPython.notebook.select(index + 1);\n",
       "    }\n",
       "}\n",
       "\n",
       "mpl.figure.prototype.handle_save = function(fig, msg) {\n",
       "    fig.ondownload(fig, null);\n",
       "}\n",
       "\n",
       "\n",
       "mpl.find_output_cell = function(html_output) {\n",
       "    // Return the cell and output element which can be found *uniquely* in the notebook.\n",
       "    // Note - this is a bit hacky, but it is done because the \"notebook_saving.Notebook\"\n",
       "    // IPython event is triggered only after the cells have been serialised, which for\n",
       "    // our purposes (turning an active figure into a static one), is too late.\n",
       "    var cells = IPython.notebook.get_cells();\n",
       "    var ncells = cells.length;\n",
       "    for (var i=0; i<ncells; i++) {\n",
       "        var cell = cells[i];\n",
       "        if (cell.cell_type === 'code'){\n",
       "            for (var j=0; j<cell.output_area.outputs.length; j++) {\n",
       "                var data = cell.output_area.outputs[j];\n",
       "                if (data.data) {\n",
       "                    // IPython >= 3 moved mimebundle to data attribute of output\n",
       "                    data = data.data;\n",
       "                }\n",
       "                if (data['text/html'] == html_output) {\n",
       "                    return [cell, data, j];\n",
       "                }\n",
       "            }\n",
       "        }\n",
       "    }\n",
       "}\n",
       "\n",
       "// Register the function which deals with the matplotlib target/channel.\n",
       "// The kernel may be null if the page has been refreshed.\n",
       "if (IPython.notebook.kernel != null) {\n",
       "    IPython.notebook.kernel.comm_manager.register_target('matplotlib', mpl.mpl_figure_comm);\n",
       "}\n"
      ],
      "text/plain": [
       "<IPython.core.display.Javascript object>"
      ]
     },
     "metadata": {},
     "output_type": "display_data"
    },
    {
     "data": {
      "text/html": [
       "<img src=\"data:image/png;base64,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\" width=\"640\">"
      ],
      "text/plain": [
       "<IPython.core.display.HTML object>"
      ]
     },
     "metadata": {},
     "output_type": "display_data"
    }
   ],
   "source": [
    "%matplotlib notebook \n",
    "%%python\n",
    "\n",
    "import pandas as pd\n",
    "import matplotlib.pyplot as plt\n",
    "\n",
    "df_raw_pd = df_raw_p.toPandas() \n",
    "print(df_raw_pd.columns)\n",
    "\n",
    "ax = df_raw_pd.groupby(\"Type\")[\"Price\"].nunique().plot(kind=\"bar\")\n",
    "ax.set_ylabel(\"Price in (mln)\")\n",
    "ax.set_xlabel(\"Type\")\n",
    "plt.grid()\n",
    "plt.title(\"Price Distribution by Property Type\")\n",
    "plt.show()"
   ]
  },
  {
   "cell_type": "code",
   "execution_count": 36,
   "metadata": {},
   "outputs": [
    {
     "data": {
      "application/javascript": [
       "/* Put everything inside the global mpl namespace */\n",
       "window.mpl = {};\n",
       "\n",
       "\n",
       "mpl.get_websocket_type = function() {\n",
       "    if (typeof(WebSocket) !== 'undefined') {\n",
       "        return WebSocket;\n",
       "    } else if (typeof(MozWebSocket) !== 'undefined') {\n",
       "        return MozWebSocket;\n",
       "    } else {\n",
       "        alert('Your browser does not have WebSocket support. ' +\n",
       "              'Please try Chrome, Safari or Firefox ≥ 6. ' +\n",
       "              'Firefox 4 and 5 are also supported but you ' +\n",
       "              'have to enable WebSockets in about:config.');\n",
       "    };\n",
       "}\n",
       "\n",
       "mpl.figure = function(figure_id, websocket, ondownload, parent_element) {\n",
       "    this.id = figure_id;\n",
       "\n",
       "    this.ws = websocket;\n",
       "\n",
       "    this.supports_binary = (this.ws.binaryType != undefined);\n",
       "\n",
       "    if (!this.supports_binary) {\n",
       "        var warnings = document.getElementById(\"mpl-warnings\");\n",
       "        if (warnings) {\n",
       "            warnings.style.display = 'block';\n",
       "            warnings.textContent = (\n",
       "                \"This browser does not support binary websocket messages. \" +\n",
       "                    \"Performance may be slow.\");\n",
       "        }\n",
       "    }\n",
       "\n",
       "    this.imageObj = new Image();\n",
       "\n",
       "    this.context = undefined;\n",
       "    this.message = undefined;\n",
       "    this.canvas = undefined;\n",
       "    this.rubberband_canvas = undefined;\n",
       "    this.rubberband_context = undefined;\n",
       "    this.format_dropdown = undefined;\n",
       "\n",
       "    this.image_mode = 'full';\n",
       "\n",
       "    this.root = $('<div/>');\n",
       "    this._root_extra_style(this.root)\n",
       "    this.root.attr('style', 'display: inline-block');\n",
       "\n",
       "    $(parent_element).append(this.root);\n",
       "\n",
       "    this._init_header(this);\n",
       "    this._init_canvas(this);\n",
       "    this._init_toolbar(this);\n",
       "\n",
       "    var fig = this;\n",
       "\n",
       "    this.waiting = false;\n",
       "\n",
       "    this.ws.onopen =  function () {\n",
       "            fig.send_message(\"supports_binary\", {value: fig.supports_binary});\n",
       "            fig.send_message(\"send_image_mode\", {});\n",
       "            if (mpl.ratio != 1) {\n",
       "                fig.send_message(\"set_dpi_ratio\", {'dpi_ratio': mpl.ratio});\n",
       "            }\n",
       "            fig.send_message(\"refresh\", {});\n",
       "        }\n",
       "\n",
       "    this.imageObj.onload = function() {\n",
       "            if (fig.image_mode == 'full') {\n",
       "                // Full images could contain transparency (where diff images\n",
       "                // almost always do), so we need to clear the canvas so that\n",
       "                // there is no ghosting.\n",
       "                fig.context.clearRect(0, 0, fig.canvas.width, fig.canvas.height);\n",
       "            }\n",
       "            fig.context.drawImage(fig.imageObj, 0, 0);\n",
       "        };\n",
       "\n",
       "    this.imageObj.onunload = function() {\n",
       "        fig.ws.close();\n",
       "    }\n",
       "\n",
       "    this.ws.onmessage = this._make_on_message_function(this);\n",
       "\n",
       "    this.ondownload = ondownload;\n",
       "}\n",
       "\n",
       "mpl.figure.prototype._init_header = function() {\n",
       "    var titlebar = $(\n",
       "        '<div class=\"ui-dialog-titlebar ui-widget-header ui-corner-all ' +\n",
       "        'ui-helper-clearfix\"/>');\n",
       "    var titletext = $(\n",
       "        '<div class=\"ui-dialog-title\" style=\"width: 100%; ' +\n",
       "        'text-align: center; padding: 3px;\"/>');\n",
       "    titlebar.append(titletext)\n",
       "    this.root.append(titlebar);\n",
       "    this.header = titletext[0];\n",
       "}\n",
       "\n",
       "\n",
       "\n",
       "mpl.figure.prototype._canvas_extra_style = function(canvas_div) {\n",
       "\n",
       "}\n",
       "\n",
       "\n",
       "mpl.figure.prototype._root_extra_style = function(canvas_div) {\n",
       "\n",
       "}\n",
       "\n",
       "mpl.figure.prototype._init_canvas = function() {\n",
       "    var fig = this;\n",
       "\n",
       "    var canvas_div = $('<div/>');\n",
       "\n",
       "    canvas_div.attr('style', 'position: relative; clear: both; outline: 0');\n",
       "\n",
       "    function canvas_keyboard_event(event) {\n",
       "        return fig.key_event(event, event['data']);\n",
       "    }\n",
       "\n",
       "    canvas_div.keydown('key_press', canvas_keyboard_event);\n",
       "    canvas_div.keyup('key_release', canvas_keyboard_event);\n",
       "    this.canvas_div = canvas_div\n",
       "    this._canvas_extra_style(canvas_div)\n",
       "    this.root.append(canvas_div);\n",
       "\n",
       "    var canvas = $('<canvas/>');\n",
       "    canvas.addClass('mpl-canvas');\n",
       "    canvas.attr('style', \"left: 0; top: 0; z-index: 0; outline: 0\")\n",
       "\n",
       "    this.canvas = canvas[0];\n",
       "    this.context = canvas[0].getContext(\"2d\");\n",
       "\n",
       "    var backingStore = this.context.backingStorePixelRatio ||\n",
       "\tthis.context.webkitBackingStorePixelRatio ||\n",
       "\tthis.context.mozBackingStorePixelRatio ||\n",
       "\tthis.context.msBackingStorePixelRatio ||\n",
       "\tthis.context.oBackingStorePixelRatio ||\n",
       "\tthis.context.backingStorePixelRatio || 1;\n",
       "\n",
       "    mpl.ratio = (window.devicePixelRatio || 1) / backingStore;\n",
       "\n",
       "    var rubberband = $('<canvas/>');\n",
       "    rubberband.attr('style', \"position: absolute; left: 0; top: 0; z-index: 1;\")\n",
       "\n",
       "    var pass_mouse_events = true;\n",
       "\n",
       "    canvas_div.resizable({\n",
       "        start: function(event, ui) {\n",
       "            pass_mouse_events = false;\n",
       "        },\n",
       "        resize: function(event, ui) {\n",
       "            fig.request_resize(ui.size.width, ui.size.height);\n",
       "        },\n",
       "        stop: function(event, ui) {\n",
       "            pass_mouse_events = true;\n",
       "            fig.request_resize(ui.size.width, ui.size.height);\n",
       "        },\n",
       "    });\n",
       "\n",
       "    function mouse_event_fn(event) {\n",
       "        if (pass_mouse_events)\n",
       "            return fig.mouse_event(event, event['data']);\n",
       "    }\n",
       "\n",
       "    rubberband.mousedown('button_press', mouse_event_fn);\n",
       "    rubberband.mouseup('button_release', mouse_event_fn);\n",
       "    // Throttle sequential mouse events to 1 every 20ms.\n",
       "    rubberband.mousemove('motion_notify', mouse_event_fn);\n",
       "\n",
       "    rubberband.mouseenter('figure_enter', mouse_event_fn);\n",
       "    rubberband.mouseleave('figure_leave', mouse_event_fn);\n",
       "\n",
       "    canvas_div.on(\"wheel\", function (event) {\n",
       "        event = event.originalEvent;\n",
       "        event['data'] = 'scroll'\n",
       "        if (event.deltaY < 0) {\n",
       "            event.step = 1;\n",
       "        } else {\n",
       "            event.step = -1;\n",
       "        }\n",
       "        mouse_event_fn(event);\n",
       "    });\n",
       "\n",
       "    canvas_div.append(canvas);\n",
       "    canvas_div.append(rubberband);\n",
       "\n",
       "    this.rubberband = rubberband;\n",
       "    this.rubberband_canvas = rubberband[0];\n",
       "    this.rubberband_context = rubberband[0].getContext(\"2d\");\n",
       "    this.rubberband_context.strokeStyle = \"#000000\";\n",
       "\n",
       "    this._resize_canvas = function(width, height) {\n",
       "        // Keep the size of the canvas, canvas container, and rubber band\n",
       "        // canvas in synch.\n",
       "        canvas_div.css('width', width)\n",
       "        canvas_div.css('height', height)\n",
       "\n",
       "        canvas.attr('width', width * mpl.ratio);\n",
       "        canvas.attr('height', height * mpl.ratio);\n",
       "        canvas.attr('style', 'width: ' + width + 'px; height: ' + height + 'px;');\n",
       "\n",
       "        rubberband.attr('width', width);\n",
       "        rubberband.attr('height', height);\n",
       "    }\n",
       "\n",
       "    // Set the figure to an initial 600x600px, this will subsequently be updated\n",
       "    // upon first draw.\n",
       "    this._resize_canvas(600, 600);\n",
       "\n",
       "    // Disable right mouse context menu.\n",
       "    $(this.rubberband_canvas).bind(\"contextmenu\",function(e){\n",
       "        return false;\n",
       "    });\n",
       "\n",
       "    function set_focus () {\n",
       "        canvas.focus();\n",
       "        canvas_div.focus();\n",
       "    }\n",
       "\n",
       "    window.setTimeout(set_focus, 100);\n",
       "}\n",
       "\n",
       "mpl.figure.prototype._init_toolbar = function() {\n",
       "    var fig = this;\n",
       "\n",
       "    var nav_element = $('<div/>');\n",
       "    nav_element.attr('style', 'width: 100%');\n",
       "    this.root.append(nav_element);\n",
       "\n",
       "    // Define a callback function for later on.\n",
       "    function toolbar_event(event) {\n",
       "        return fig.toolbar_button_onclick(event['data']);\n",
       "    }\n",
       "    function toolbar_mouse_event(event) {\n",
       "        return fig.toolbar_button_onmouseover(event['data']);\n",
       "    }\n",
       "\n",
       "    for(var toolbar_ind in mpl.toolbar_items) {\n",
       "        var name = mpl.toolbar_items[toolbar_ind][0];\n",
       "        var tooltip = mpl.toolbar_items[toolbar_ind][1];\n",
       "        var image = mpl.toolbar_items[toolbar_ind][2];\n",
       "        var method_name = mpl.toolbar_items[toolbar_ind][3];\n",
       "\n",
       "        if (!name) {\n",
       "            // put a spacer in here.\n",
       "            continue;\n",
       "        }\n",
       "        var button = $('<button/>');\n",
       "        button.addClass('ui-button ui-widget ui-state-default ui-corner-all ' +\n",
       "                        'ui-button-icon-only');\n",
       "        button.attr('role', 'button');\n",
       "        button.attr('aria-disabled', 'false');\n",
       "        button.click(method_name, toolbar_event);\n",
       "        button.mouseover(tooltip, toolbar_mouse_event);\n",
       "\n",
       "        var icon_img = $('<span/>');\n",
       "        icon_img.addClass('ui-button-icon-primary ui-icon');\n",
       "        icon_img.addClass(image);\n",
       "        icon_img.addClass('ui-corner-all');\n",
       "\n",
       "        var tooltip_span = $('<span/>');\n",
       "        tooltip_span.addClass('ui-button-text');\n",
       "        tooltip_span.html(tooltip);\n",
       "\n",
       "        button.append(icon_img);\n",
       "        button.append(tooltip_span);\n",
       "\n",
       "        nav_element.append(button);\n",
       "    }\n",
       "\n",
       "    var fmt_picker_span = $('<span/>');\n",
       "\n",
       "    var fmt_picker = $('<select/>');\n",
       "    fmt_picker.addClass('mpl-toolbar-option ui-widget ui-widget-content');\n",
       "    fmt_picker_span.append(fmt_picker);\n",
       "    nav_element.append(fmt_picker_span);\n",
       "    this.format_dropdown = fmt_picker[0];\n",
       "\n",
       "    for (var ind in mpl.extensions) {\n",
       "        var fmt = mpl.extensions[ind];\n",
       "        var option = $(\n",
       "            '<option/>', {selected: fmt === mpl.default_extension}).html(fmt);\n",
       "        fmt_picker.append(option);\n",
       "    }\n",
       "\n",
       "    // Add hover states to the ui-buttons\n",
       "    $( \".ui-button\" ).hover(\n",
       "        function() { $(this).addClass(\"ui-state-hover\");},\n",
       "        function() { $(this).removeClass(\"ui-state-hover\");}\n",
       "    );\n",
       "\n",
       "    var status_bar = $('<span class=\"mpl-message\"/>');\n",
       "    nav_element.append(status_bar);\n",
       "    this.message = status_bar[0];\n",
       "}\n",
       "\n",
       "mpl.figure.prototype.request_resize = function(x_pixels, y_pixels) {\n",
       "    // Request matplotlib to resize the figure. Matplotlib will then trigger a resize in the client,\n",
       "    // which will in turn request a refresh of the image.\n",
       "    this.send_message('resize', {'width': x_pixels, 'height': y_pixels});\n",
       "}\n",
       "\n",
       "mpl.figure.prototype.send_message = function(type, properties) {\n",
       "    properties['type'] = type;\n",
       "    properties['figure_id'] = this.id;\n",
       "    this.ws.send(JSON.stringify(properties));\n",
       "}\n",
       "\n",
       "mpl.figure.prototype.send_draw_message = function() {\n",
       "    if (!this.waiting) {\n",
       "        this.waiting = true;\n",
       "        this.ws.send(JSON.stringify({type: \"draw\", figure_id: this.id}));\n",
       "    }\n",
       "}\n",
       "\n",
       "\n",
       "mpl.figure.prototype.handle_save = function(fig, msg) {\n",
       "    var format_dropdown = fig.format_dropdown;\n",
       "    var format = format_dropdown.options[format_dropdown.selectedIndex].value;\n",
       "    fig.ondownload(fig, format);\n",
       "}\n",
       "\n",
       "\n",
       "mpl.figure.prototype.handle_resize = function(fig, msg) {\n",
       "    var size = msg['size'];\n",
       "    if (size[0] != fig.canvas.width || size[1] != fig.canvas.height) {\n",
       "        fig._resize_canvas(size[0], size[1]);\n",
       "        fig.send_message(\"refresh\", {});\n",
       "    };\n",
       "}\n",
       "\n",
       "mpl.figure.prototype.handle_rubberband = function(fig, msg) {\n",
       "    var x0 = msg['x0'] / mpl.ratio;\n",
       "    var y0 = (fig.canvas.height - msg['y0']) / mpl.ratio;\n",
       "    var x1 = msg['x1'] / mpl.ratio;\n",
       "    var y1 = (fig.canvas.height - msg['y1']) / mpl.ratio;\n",
       "    x0 = Math.floor(x0) + 0.5;\n",
       "    y0 = Math.floor(y0) + 0.5;\n",
       "    x1 = Math.floor(x1) + 0.5;\n",
       "    y1 = Math.floor(y1) + 0.5;\n",
       "    var min_x = Math.min(x0, x1);\n",
       "    var min_y = Math.min(y0, y1);\n",
       "    var width = Math.abs(x1 - x0);\n",
       "    var height = Math.abs(y1 - y0);\n",
       "\n",
       "    fig.rubberband_context.clearRect(\n",
       "        0, 0, fig.canvas.width / mpl.ratio, fig.canvas.height / mpl.ratio);\n",
       "\n",
       "    fig.rubberband_context.strokeRect(min_x, min_y, width, height);\n",
       "}\n",
       "\n",
       "mpl.figure.prototype.handle_figure_label = function(fig, msg) {\n",
       "    // Updates the figure title.\n",
       "    fig.header.textContent = msg['label'];\n",
       "}\n",
       "\n",
       "mpl.figure.prototype.handle_cursor = function(fig, msg) {\n",
       "    var cursor = msg['cursor'];\n",
       "    switch(cursor)\n",
       "    {\n",
       "    case 0:\n",
       "        cursor = 'pointer';\n",
       "        break;\n",
       "    case 1:\n",
       "        cursor = 'default';\n",
       "        break;\n",
       "    case 2:\n",
       "        cursor = 'crosshair';\n",
       "        break;\n",
       "    case 3:\n",
       "        cursor = 'move';\n",
       "        break;\n",
       "    }\n",
       "    fig.rubberband_canvas.style.cursor = cursor;\n",
       "}\n",
       "\n",
       "mpl.figure.prototype.handle_message = function(fig, msg) {\n",
       "    fig.message.textContent = msg['message'];\n",
       "}\n",
       "\n",
       "mpl.figure.prototype.handle_draw = function(fig, msg) {\n",
       "    // Request the server to send over a new figure.\n",
       "    fig.send_draw_message();\n",
       "}\n",
       "\n",
       "mpl.figure.prototype.handle_image_mode = function(fig, msg) {\n",
       "    fig.image_mode = msg['mode'];\n",
       "}\n",
       "\n",
       "mpl.figure.prototype.updated_canvas_event = function() {\n",
       "    // Called whenever the canvas gets updated.\n",
       "    this.send_message(\"ack\", {});\n",
       "}\n",
       "\n",
       "// A function to construct a web socket function for onmessage handling.\n",
       "// Called in the figure constructor.\n",
       "mpl.figure.prototype._make_on_message_function = function(fig) {\n",
       "    return function socket_on_message(evt) {\n",
       "        if (evt.data instanceof Blob) {\n",
       "            /* FIXME: We get \"Resource interpreted as Image but\n",
       "             * transferred with MIME type text/plain:\" errors on\n",
       "             * Chrome.  But how to set the MIME type?  It doesn't seem\n",
       "             * to be part of the websocket stream */\n",
       "            evt.data.type = \"image/png\";\n",
       "\n",
       "            /* Free the memory for the previous frames */\n",
       "            if (fig.imageObj.src) {\n",
       "                (window.URL || window.webkitURL).revokeObjectURL(\n",
       "                    fig.imageObj.src);\n",
       "            }\n",
       "\n",
       "            fig.imageObj.src = (window.URL || window.webkitURL).createObjectURL(\n",
       "                evt.data);\n",
       "            fig.updated_canvas_event();\n",
       "            fig.waiting = false;\n",
       "            return;\n",
       "        }\n",
       "        else if (typeof evt.data === 'string' && evt.data.slice(0, 21) == \"data:image/png;base64\") {\n",
       "            fig.imageObj.src = evt.data;\n",
       "            fig.updated_canvas_event();\n",
       "            fig.waiting = false;\n",
       "            return;\n",
       "        }\n",
       "\n",
       "        var msg = JSON.parse(evt.data);\n",
       "        var msg_type = msg['type'];\n",
       "\n",
       "        // Call the  \"handle_{type}\" callback, which takes\n",
       "        // the figure and JSON message as its only arguments.\n",
       "        try {\n",
       "            var callback = fig[\"handle_\" + msg_type];\n",
       "        } catch (e) {\n",
       "            console.log(\"No handler for the '\" + msg_type + \"' message type: \", msg);\n",
       "            return;\n",
       "        }\n",
       "\n",
       "        if (callback) {\n",
       "            try {\n",
       "                // console.log(\"Handling '\" + msg_type + \"' message: \", msg);\n",
       "                callback(fig, msg);\n",
       "            } catch (e) {\n",
       "                console.log(\"Exception inside the 'handler_\" + msg_type + \"' callback:\", e, e.stack, msg);\n",
       "            }\n",
       "        }\n",
       "    };\n",
       "}\n",
       "\n",
       "// from http://stackoverflow.com/questions/1114465/getting-mouse-location-in-canvas\n",
       "mpl.findpos = function(e) {\n",
       "    //this section is from http://www.quirksmode.org/js/events_properties.html\n",
       "    var targ;\n",
       "    if (!e)\n",
       "        e = window.event;\n",
       "    if (e.target)\n",
       "        targ = e.target;\n",
       "    else if (e.srcElement)\n",
       "        targ = e.srcElement;\n",
       "    if (targ.nodeType == 3) // defeat Safari bug\n",
       "        targ = targ.parentNode;\n",
       "\n",
       "    // jQuery normalizes the pageX and pageY\n",
       "    // pageX,Y are the mouse positions relative to the document\n",
       "    // offset() returns the position of the element relative to the document\n",
       "    var x = e.pageX - $(targ).offset().left;\n",
       "    var y = e.pageY - $(targ).offset().top;\n",
       "\n",
       "    return {\"x\": x, \"y\": y};\n",
       "};\n",
       "\n",
       "/*\n",
       " * return a copy of an object with only non-object keys\n",
       " * we need this to avoid circular references\n",
       " * http://stackoverflow.com/a/24161582/3208463\n",
       " */\n",
       "function simpleKeys (original) {\n",
       "  return Object.keys(original).reduce(function (obj, key) {\n",
       "    if (typeof original[key] !== 'object')\n",
       "        obj[key] = original[key]\n",
       "    return obj;\n",
       "  }, {});\n",
       "}\n",
       "\n",
       "mpl.figure.prototype.mouse_event = function(event, name) {\n",
       "    var canvas_pos = mpl.findpos(event)\n",
       "\n",
       "    if (name === 'button_press')\n",
       "    {\n",
       "        this.canvas.focus();\n",
       "        this.canvas_div.focus();\n",
       "    }\n",
       "\n",
       "    var x = canvas_pos.x * mpl.ratio;\n",
       "    var y = canvas_pos.y * mpl.ratio;\n",
       "\n",
       "    this.send_message(name, {x: x, y: y, button: event.button,\n",
       "                             step: event.step,\n",
       "                             guiEvent: simpleKeys(event)});\n",
       "\n",
       "    /* This prevents the web browser from automatically changing to\n",
       "     * the text insertion cursor when the button is pressed.  We want\n",
       "     * to control all of the cursor setting manually through the\n",
       "     * 'cursor' event from matplotlib */\n",
       "    event.preventDefault();\n",
       "    return false;\n",
       "}\n",
       "\n",
       "mpl.figure.prototype._key_event_extra = function(event, name) {\n",
       "    // Handle any extra behaviour associated with a key event\n",
       "}\n",
       "\n",
       "mpl.figure.prototype.key_event = function(event, name) {\n",
       "\n",
       "    // Prevent repeat events\n",
       "    if (name == 'key_press')\n",
       "    {\n",
       "        if (event.which === this._key)\n",
       "            return;\n",
       "        else\n",
       "            this._key = event.which;\n",
       "    }\n",
       "    if (name == 'key_release')\n",
       "        this._key = null;\n",
       "\n",
       "    var value = '';\n",
       "    if (event.ctrlKey && event.which != 17)\n",
       "        value += \"ctrl+\";\n",
       "    if (event.altKey && event.which != 18)\n",
       "        value += \"alt+\";\n",
       "    if (event.shiftKey && event.which != 16)\n",
       "        value += \"shift+\";\n",
       "\n",
       "    value += 'k';\n",
       "    value += event.which.toString();\n",
       "\n",
       "    this._key_event_extra(event, name);\n",
       "\n",
       "    this.send_message(name, {key: value,\n",
       "                             guiEvent: simpleKeys(event)});\n",
       "    return false;\n",
       "}\n",
       "\n",
       "mpl.figure.prototype.toolbar_button_onclick = function(name) {\n",
       "    if (name == 'download') {\n",
       "        this.handle_save(this, null);\n",
       "    } else {\n",
       "        this.send_message(\"toolbar_button\", {name: name});\n",
       "    }\n",
       "};\n",
       "\n",
       "mpl.figure.prototype.toolbar_button_onmouseover = function(tooltip) {\n",
       "    this.message.textContent = tooltip;\n",
       "};\n",
       "mpl.toolbar_items = [[\"Home\", \"Reset original view\", \"fa fa-home icon-home\", \"home\"], [\"Back\", \"Back to previous view\", \"fa fa-arrow-left icon-arrow-left\", \"back\"], [\"Forward\", \"Forward to next view\", \"fa fa-arrow-right icon-arrow-right\", \"forward\"], [\"\", \"\", \"\", \"\"], [\"Pan\", \"Pan axes with left mouse, zoom with right\", \"fa fa-arrows icon-move\", \"pan\"], [\"Zoom\", \"Zoom to rectangle\", \"fa fa-square-o icon-check-empty\", \"zoom\"], [\"\", \"\", \"\", \"\"], [\"Download\", \"Download plot\", \"fa fa-floppy-o icon-save\", \"download\"]];\n",
       "\n",
       "mpl.extensions = [\"eps\", \"pdf\", \"png\", \"ps\", \"raw\", \"svg\"];\n",
       "\n",
       "mpl.default_extension = \"png\";var comm_websocket_adapter = function(comm) {\n",
       "    // Create a \"websocket\"-like object which calls the given IPython comm\n",
       "    // object with the appropriate methods. Currently this is a non binary\n",
       "    // socket, so there is still some room for performance tuning.\n",
       "    var ws = {};\n",
       "\n",
       "    ws.close = function() {\n",
       "        comm.close()\n",
       "    };\n",
       "    ws.send = function(m) {\n",
       "        //console.log('sending', m);\n",
       "        comm.send(m);\n",
       "    };\n",
       "    // Register the callback with on_msg.\n",
       "    comm.on_msg(function(msg) {\n",
       "        //console.log('receiving', msg['content']['data'], msg);\n",
       "        // Pass the mpl event to the overridden (by mpl) onmessage function.\n",
       "        ws.onmessage(msg['content']['data'])\n",
       "    });\n",
       "    return ws;\n",
       "}\n",
       "\n",
       "mpl.mpl_figure_comm = function(comm, msg) {\n",
       "    // This is the function which gets called when the mpl process\n",
       "    // starts-up an IPython Comm through the \"matplotlib\" channel.\n",
       "\n",
       "    var id = msg.content.data.id;\n",
       "    // Get hold of the div created by the display call when the Comm\n",
       "    // socket was opened in Python.\n",
       "    var element = $(\"#\" + id);\n",
       "    var ws_proxy = comm_websocket_adapter(comm)\n",
       "\n",
       "    function ondownload(figure, format) {\n",
       "        window.open(figure.imageObj.src);\n",
       "    }\n",
       "\n",
       "    var fig = new mpl.figure(id, ws_proxy,\n",
       "                           ondownload,\n",
       "                           element.get(0));\n",
       "\n",
       "    // Call onopen now - mpl needs it, as it is assuming we've passed it a real\n",
       "    // web socket which is closed, not our websocket->open comm proxy.\n",
       "    ws_proxy.onopen();\n",
       "\n",
       "    fig.parent_element = element.get(0);\n",
       "    fig.cell_info = mpl.find_output_cell(\"<div id='\" + id + \"'></div>\");\n",
       "    if (!fig.cell_info) {\n",
       "        console.error(\"Failed to find cell for figure\", id, fig);\n",
       "        return;\n",
       "    }\n",
       "\n",
       "    var output_index = fig.cell_info[2]\n",
       "    var cell = fig.cell_info[0];\n",
       "\n",
       "};\n",
       "\n",
       "mpl.figure.prototype.handle_close = function(fig, msg) {\n",
       "    var width = fig.canvas.width/mpl.ratio\n",
       "    fig.root.unbind('remove')\n",
       "\n",
       "    // Update the output cell to use the data from the current canvas.\n",
       "    fig.push_to_output();\n",
       "    var dataURL = fig.canvas.toDataURL();\n",
       "    // Re-enable the keyboard manager in IPython - without this line, in FF,\n",
       "    // the notebook keyboard shortcuts fail.\n",
       "    IPython.keyboard_manager.enable()\n",
       "    $(fig.parent_element).html('<img src=\"' + dataURL + '\" width=\"' + width + '\">');\n",
       "    fig.close_ws(fig, msg);\n",
       "}\n",
       "\n",
       "mpl.figure.prototype.close_ws = function(fig, msg){\n",
       "    fig.send_message('closing', msg);\n",
       "    // fig.ws.close()\n",
       "}\n",
       "\n",
       "mpl.figure.prototype.push_to_output = function(remove_interactive) {\n",
       "    // Turn the data on the canvas into data in the output cell.\n",
       "    var width = this.canvas.width/mpl.ratio\n",
       "    var dataURL = this.canvas.toDataURL();\n",
       "    this.cell_info[1]['text/html'] = '<img src=\"' + dataURL + '\" width=\"' + width + '\">';\n",
       "}\n",
       "\n",
       "mpl.figure.prototype.updated_canvas_event = function() {\n",
       "    // Tell IPython that the notebook contents must change.\n",
       "    IPython.notebook.set_dirty(true);\n",
       "    this.send_message(\"ack\", {});\n",
       "    var fig = this;\n",
       "    // Wait a second, then push the new image to the DOM so\n",
       "    // that it is saved nicely (might be nice to debounce this).\n",
       "    setTimeout(function () { fig.push_to_output() }, 1000);\n",
       "}\n",
       "\n",
       "mpl.figure.prototype._init_toolbar = function() {\n",
       "    var fig = this;\n",
       "\n",
       "    var nav_element = $('<div/>');\n",
       "    nav_element.attr('style', 'width: 100%');\n",
       "    this.root.append(nav_element);\n",
       "\n",
       "    // Define a callback function for later on.\n",
       "    function toolbar_event(event) {\n",
       "        return fig.toolbar_button_onclick(event['data']);\n",
       "    }\n",
       "    function toolbar_mouse_event(event) {\n",
       "        return fig.toolbar_button_onmouseover(event['data']);\n",
       "    }\n",
       "\n",
       "    for(var toolbar_ind in mpl.toolbar_items){\n",
       "        var name = mpl.toolbar_items[toolbar_ind][0];\n",
       "        var tooltip = mpl.toolbar_items[toolbar_ind][1];\n",
       "        var image = mpl.toolbar_items[toolbar_ind][2];\n",
       "        var method_name = mpl.toolbar_items[toolbar_ind][3];\n",
       "\n",
       "        if (!name) { continue; };\n",
       "\n",
       "        var button = $('<button class=\"btn btn-default\" href=\"#\" title=\"' + name + '\"><i class=\"fa ' + image + ' fa-lg\"></i></button>');\n",
       "        button.click(method_name, toolbar_event);\n",
       "        button.mouseover(tooltip, toolbar_mouse_event);\n",
       "        nav_element.append(button);\n",
       "    }\n",
       "\n",
       "    // Add the status bar.\n",
       "    var status_bar = $('<span class=\"mpl-message\" style=\"text-align:right; float: right;\"/>');\n",
       "    nav_element.append(status_bar);\n",
       "    this.message = status_bar[0];\n",
       "\n",
       "    // Add the close button to the window.\n",
       "    var buttongrp = $('<div class=\"btn-group inline pull-right\"></div>');\n",
       "    var button = $('<button class=\"btn btn-mini btn-primary\" href=\"#\" title=\"Stop Interaction\"><i class=\"fa fa-power-off icon-remove icon-large\"></i></button>');\n",
       "    button.click(function (evt) { fig.handle_close(fig, {}); } );\n",
       "    button.mouseover('Stop Interaction', toolbar_mouse_event);\n",
       "    buttongrp.append(button);\n",
       "    var titlebar = this.root.find($('.ui-dialog-titlebar'));\n",
       "    titlebar.prepend(buttongrp);\n",
       "}\n",
       "\n",
       "mpl.figure.prototype._root_extra_style = function(el){\n",
       "    var fig = this\n",
       "    el.on(\"remove\", function(){\n",
       "\tfig.close_ws(fig, {});\n",
       "    });\n",
       "}\n",
       "\n",
       "mpl.figure.prototype._canvas_extra_style = function(el){\n",
       "    // this is important to make the div 'focusable\n",
       "    el.attr('tabindex', 0)\n",
       "    // reach out to IPython and tell the keyboard manager to turn it's self\n",
       "    // off when our div gets focus\n",
       "\n",
       "    // location in version 3\n",
       "    if (IPython.notebook.keyboard_manager) {\n",
       "        IPython.notebook.keyboard_manager.register_events(el);\n",
       "    }\n",
       "    else {\n",
       "        // location in version 2\n",
       "        IPython.keyboard_manager.register_events(el);\n",
       "    }\n",
       "\n",
       "}\n",
       "\n",
       "mpl.figure.prototype._key_event_extra = function(event, name) {\n",
       "    var manager = IPython.notebook.keyboard_manager;\n",
       "    if (!manager)\n",
       "        manager = IPython.keyboard_manager;\n",
       "\n",
       "    // Check for shift+enter\n",
       "    if (event.shiftKey && event.which == 13) {\n",
       "        this.canvas_div.blur();\n",
       "        // select the cell after this one\n",
       "        var index = IPython.notebook.find_cell_index(this.cell_info[0]);\n",
       "        IPython.notebook.select(index + 1);\n",
       "    }\n",
       "}\n",
       "\n",
       "mpl.figure.prototype.handle_save = function(fig, msg) {\n",
       "    fig.ondownload(fig, null);\n",
       "}\n",
       "\n",
       "\n",
       "mpl.find_output_cell = function(html_output) {\n",
       "    // Return the cell and output element which can be found *uniquely* in the notebook.\n",
       "    // Note - this is a bit hacky, but it is done because the \"notebook_saving.Notebook\"\n",
       "    // IPython event is triggered only after the cells have been serialised, which for\n",
       "    // our purposes (turning an active figure into a static one), is too late.\n",
       "    var cells = IPython.notebook.get_cells();\n",
       "    var ncells = cells.length;\n",
       "    for (var i=0; i<ncells; i++) {\n",
       "        var cell = cells[i];\n",
       "        if (cell.cell_type === 'code'){\n",
       "            for (var j=0; j<cell.output_area.outputs.length; j++) {\n",
       "                var data = cell.output_area.outputs[j];\n",
       "                if (data.data) {\n",
       "                    // IPython >= 3 moved mimebundle to data attribute of output\n",
       "                    data = data.data;\n",
       "                }\n",
       "                if (data['text/html'] == html_output) {\n",
       "                    return [cell, data, j];\n",
       "                }\n",
       "            }\n",
       "        }\n",
       "    }\n",
       "}\n",
       "\n",
       "// Register the function which deals with the matplotlib target/channel.\n",
       "// The kernel may be null if the page has been refreshed.\n",
       "if (IPython.notebook.kernel != null) {\n",
       "    IPython.notebook.kernel.comm_manager.register_target('matplotlib', mpl.mpl_figure_comm);\n",
       "}\n"
      ],
      "text/plain": [
       "<IPython.core.display.Javascript object>"
      ]
     },
     "metadata": {},
     "output_type": "display_data"
    },
    {
     "data": {
      "text/html": [
       "<img src=\"data:image/png;base64,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\" width=\"640\">"
      ],
      "text/plain": [
       "<IPython.core.display.HTML object>"
      ]
     },
     "metadata": {},
     "output_type": "display_data"
    }
   ],
   "source": [
    "%matplotlib notebook \n",
    "%%python\n",
    "\n",
    "import pandas as pd\n",
    "import matplotlib.pyplot as plt\n",
    "\n",
    "df_clean_pd = df_clean_p.toPandas() \n",
    "\n",
    "# H -House, T -Townhouse, U- Unit, \n",
    "ax = df_clean_pd.groupby(\"PropertyType\")[\"Price\"].nunique().plot(kind=\"bar\")\n",
    "ax.set_ylabel(\"Price in (mln)\")\n",
    "ax.set_xlabel(\"Propetry Type\")\n",
    "plt.grid()\n",
    "plt.title(\"Price Distribution by Property Type\")\n",
    "plt.show()"
   ]
  },
  {
   "cell_type": "markdown",
   "metadata": {},
   "source": [
    "### Split Data into Train/Test Balanced on Property Type in Raw Data"
   ]
  },
  {
   "cell_type": "code",
   "execution_count": 37,
   "metadata": {},
   "outputs": [
    {
     "data": {
      "text/plain": [
       "import org.apache.spark.ml.feature.VectorAssembler\n",
       "import org.apache.spark.sql.DataFrame\n",
       "import org.apache.spark.sql.functions._\n",
       "train_test_split: (data: org.apache.spark.sql.DataFrame, fraction: Double)(org.apache.spark.sql.Dataset[org.apache.spark.sql.Row], org.apache.spark.sql.Dataset[org.apache.spark.sql.Row])\n"
      ]
     },
     "execution_count": 37,
     "metadata": {},
     "output_type": "execute_result"
    }
   ],
   "source": [
    "import org.apache.spark.ml.feature.VectorAssembler\n",
    "import org.apache.spark.sql.DataFrame\n",
    "import org.apache.spark.sql.functions._\n",
    "\n",
    "//stratafied sample on propertype type\n",
    "//original random sample may have been skewing the model\n",
    "//used proper type as the prices vary wildly based on the type \n",
    "\n",
    "//idea is split into training and testing - then stratify the training set so its balanced.\n",
    "def train_test_split(data: DataFrame, fraction: Double) = {\n",
    "    \n",
    "    //split into 80% 20%\n",
    "    var Array (train, test) = data.randomSplit(Array(0.8, 0.2), seed = 30)\n",
    "    \n",
    "    //val sample_data = data.stat.sampleBy(\"PropertyType\",data,36L)\n",
    "    val train_fractions = Map(\"H\" -> 0.8*fraction,\"T\" ->0.9*fraction, \"U\" -> 0.9*fraction)\n",
    "    val test_fractions = Map(\"H\" -> 0.8*fraction,\"T\" ->0.9*fraction, \"U\" -> 0.9*fraction)\n",
    "    \n",
    "         \n",
    "    train = train.stat.sampleBy(\"PropertyType\",train_fractions,36L)\n",
    "    test = test.stat.sampleBy(\"PropertyType\",test_fractions,36L)\n",
    "    \n",
    "     //sample from the data without train set \n",
    "     (train, test)\n",
    "}"
   ]
  },
  {
   "cell_type": "code",
   "execution_count": 38,
   "metadata": {
    "scrolled": true
   },
   "outputs": [
    {
     "data": {
      "text/plain": [
       "train: org.apache.spark.sql.Dataset[org.apache.spark.sql.Row] = [Price: double, MethodOfSale: string ... 12 more fields]\n",
       "test: org.apache.spark.sql.Dataset[org.apache.spark.sql.Row] = [Price: double, MethodOfSale: string ... 12 more fields]\n",
       "train_sample: org.apache.spark.sql.Dataset[org.apache.spark.sql.Row] = [Price: double, MethodOfSale: string ... 12 more fields]\n",
       "test_sample: org.apache.spark.sql.Dataset[org.apache.spark.sql.Row] = [Price: double, MethodOfSale: string ... 12 more fields]\n",
       "res10: test_sample.type = [Price: double, MethodOfSale: string ... 12 more fields]\n"
      ]
     },
     "execution_count": 38,
     "metadata": {},
     "output_type": "execute_result"
    }
   ],
   "source": [
    "//full data set\n",
    "val (train, test) = train_test_split(df_clean,1)//train_test_split(test_pt,1)\n",
    "//fraction of data set for finding best model\n",
    "val (train_sample, test_sample) = train_test_split(df_clean,0.1)//train_test_split(test_pt,0.1)\n",
    "train.cache()\n",
    "test.cache()\n",
    "train_sample.cache()\n",
    "test_sample.cache()"
   ]
  },
  {
   "cell_type": "code",
   "execution_count": 39,
   "metadata": {},
   "outputs": [
    {
     "data": {
      "text/plain": [
       "res11: Long = 10195\n"
      ]
     },
     "execution_count": 39,
     "metadata": {},
     "output_type": "execute_result"
    }
   ],
   "source": [
    "train.count()"
   ]
  },
  {
   "cell_type": "code",
   "execution_count": 40,
   "metadata": {},
   "outputs": [
    {
     "data": {
      "text/plain": [
       "res12: Long = 2548\n"
      ]
     },
     "execution_count": 40,
     "metadata": {},
     "output_type": "execute_result"
    }
   ],
   "source": [
    "test.count()"
   ]
  },
  {
   "cell_type": "code",
   "execution_count": 41,
   "metadata": {},
   "outputs": [
    {
     "data": {
      "text/plain": [
       "res13: Long = 1043\n"
      ]
     },
     "execution_count": 41,
     "metadata": {},
     "output_type": "execute_result"
    }
   ],
   "source": [
    "train_sample.count()"
   ]
  },
  {
   "cell_type": "code",
   "execution_count": 42,
   "metadata": {},
   "outputs": [
    {
     "data": {
      "text/plain": [
       "res14: Long = 230\n"
      ]
     },
     "execution_count": 42,
     "metadata": {},
     "output_type": "execute_result"
    }
   ],
   "source": [
    "test_sample.count()"
   ]
  },
  {
   "cell_type": "markdown",
   "metadata": {},
   "source": [
    "### 1. Apply Linear Regression\n"
   ]
  },
  {
   "cell_type": "markdown",
   "metadata": {},
   "source": [
    "#### Define Execution Time for LR"
   ]
  },
  {
   "cell_type": "code",
   "execution_count": 43,
   "metadata": {},
   "outputs": [
    {
     "data": {
      "text/plain": [
       "getExecutionTime: (start: Long, end: Long)Long\n"
      ]
     },
     "execution_count": 43,
     "metadata": {},
     "output_type": "execute_result"
    }
   ],
   "source": [
    "//function for getting execution time from start and end times\n",
    "def getExecutionTime(start: Long , end : Long) = {\n",
    "    val duration:Long = (end - start)/1000\n",
    "    duration\n",
    "}"
   ]
  },
  {
   "cell_type": "markdown",
   "metadata": {},
   "source": [
    "#### Run LR Model with Default Params"
   ]
  },
  {
   "cell_type": "markdown",
   "metadata": {},
   "source": [
    "Assess the training set"
   ]
  },
  {
   "cell_type": "code",
   "execution_count": 44,
   "metadata": {},
   "outputs": [
    {
     "data": {
      "text/plain": [
       "res15: Array[String] = Array(Price, MethodOfSale, PropertyType, DistanceFromCBD, Rooms, Bathroom, Car, Landsize, Latitude, Longtitude, Suburb, Date, StreetName, loggedPrice)\n"
      ]
     },
     "execution_count": 44,
     "metadata": {},
     "output_type": "execute_result"
    }
   ],
   "source": [
    "train.columns"
   ]
  },
  {
   "cell_type": "code",
   "execution_count": null,
   "metadata": {},
   "outputs": [
    {
     "name": "stdout",
     "output_type": "stream",
     "text": [
      "2020-06-08 12:54:32,644 WARN  [Executor task launch worker for task 64] memory.MemoryStore (Logging.scala:logWarning(66)) - Not enough space to cache rdd_229_0 in memory! (computed 1901.9 MB so far)\n",
      "2020-06-08 12:54:32,651 WARN  [Executor task launch worker for task 64] storage.BlockManager (Logging.scala:logWarning(66)) - Persisting block rdd_229_0 to disk instead.\n",
      "2020-06-08 12:54:32,658 WARN  [Executor task launch worker for task 65] memory.MemoryStore (Logging.scala:logWarning(66)) - Not enough space to cache rdd_229_1 in memory! (computed 1901.9 MB so far)\n",
      "2020-06-08 12:54:32,659 WARN  [Executor task launch worker for task 65] storage.BlockManager (Logging.scala:logWarning(66)) - Persisting block rdd_229_1 to disk instead.\n",
      "2020-06-08 12:54:43,061 WARN  [Executor task launch worker for task 65] memory.MemoryStore (Logging.scala:logWarning(66)) - Not enough space to cache rdd_229_1 in memory! (computed 2.8 GB so far)\n",
      "2020-06-08 12:55:09,931 WARN  [Executor task launch worker for task 64] memory.MemoryStore (Logging.scala:logWarning(66)) - Not enough space to cache rdd_229_0 in memory! (computed 2.8 GB so far)\n",
      "2020-06-08 12:55:38,093 WARN  [Executor task launch worker for task 67] memory.MemoryStore (Logging.scala:logWarning(66)) - Not enough space to cache rdd_229_1 in memory! (computed 1901.9 MB so far)\n",
      "2020-06-08 12:55:38,101 WARN  [Executor task launch worker for task 66] memory.MemoryStore (Logging.scala:logWarning(66)) - Not enough space to cache rdd_229_0 in memory! (computed 1901.9 MB so far)\n",
      "2020-06-08 12:55:38,123 WARN  [Executor task launch worker for task 67] netlib.BLAS (BLAS.java:<clinit>(61)) - Failed to load implementation from: com.github.fommil.netlib.NativeSystemBLAS\n",
      "2020-06-08 12:55:38,125 WARN  [Executor task launch worker for task 67] netlib.BLAS (BLAS.java:<clinit>(61)) - Failed to load implementation from: com.github.fommil.netlib.NativeRefBLAS\n",
      "2020-06-08 12:56:06,124 WARN  [Executor task launch worker for task 69] memory.MemoryStore (Logging.scala:logWarning(66)) - Not enough space to cache rdd_229_1 in memory! (computed 1901.9 MB so far)\n",
      "2020-06-08 12:56:06,146 WARN  [Executor task launch worker for task 68] memory.MemoryStore (Logging.scala:logWarning(66)) - Not enough space to cache rdd_229_0 in memory! (computed 1901.9 MB so far)\n",
      "2020-06-08 12:56:34,162 WARN  [Executor task launch worker for task 70] memory.MemoryStore (Logging.scala:logWarning(66)) - Not enough space to cache rdd_229_0 in memory! (computed 1901.9 MB so far)\n",
      "2020-06-08 12:56:34,190 WARN  [Executor task launch worker for task 71] memory.MemoryStore (Logging.scala:logWarning(66)) - Not enough space to cache rdd_229_1 in memory! (computed 1901.9 MB so far)\n",
      "2020-06-08 12:57:01,658 WARN  [Executor task launch worker for task 72] memory.MemoryStore (Logging.scala:logWarning(66)) - Not enough space to cache rdd_229_0 in memory! (computed 1901.9 MB so far)\n",
      "2020-06-08 12:57:01,683 WARN  [Executor task launch worker for task 73] memory.MemoryStore (Logging.scala:logWarning(66)) - Not enough space to cache rdd_229_1 in memory! (computed 1901.9 MB so far)\n",
      "2020-06-08 12:57:29,499 WARN  [Executor task launch worker for task 75] memory.MemoryStore (Logging.scala:logWarning(66)) - Not enough space to cache rdd_229_1 in memory! (computed 1901.9 MB so far)\n",
      "2020-06-08 12:57:29,500 WARN  [Executor task launch worker for task 74] memory.MemoryStore (Logging.scala:logWarning(66)) - Not enough space to cache rdd_229_0 in memory! (computed 1901.9 MB so far)\n",
      "2020-06-08 12:57:57,309 WARN  [Executor task launch worker for task 77] memory.MemoryStore (Logging.scala:logWarning(66)) - Not enough space to cache rdd_229_1 in memory! (computed 1901.9 MB so far)\n",
      "2020-06-08 12:57:57,312 WARN  [Executor task launch worker for task 76] memory.MemoryStore (Logging.scala:logWarning(66)) - Not enough space to cache rdd_229_0 in memory! (computed 1901.9 MB so far)\n",
      "2020-06-08 12:58:25,285 WARN  [Executor task launch worker for task 78] memory.MemoryStore (Logging.scala:logWarning(66)) - Not enough space to cache rdd_229_0 in memory! (computed 1901.9 MB so far)\n",
      "2020-06-08 12:58:25,324 WARN  [Executor task launch worker for task 79] memory.MemoryStore (Logging.scala:logWarning(66)) - Not enough space to cache rdd_229_1 in memory! (computed 1901.9 MB so far)\n",
      "2020-06-08 12:58:52,159 WARN  [Executor task launch worker for task 80] memory.MemoryStore (Logging.scala:logWarning(66)) - Not enough space to cache rdd_229_0 in memory! (computed 1901.9 MB so far)\n",
      "2020-06-08 12:58:52,178 WARN  [Executor task launch worker for task 81] memory.MemoryStore (Logging.scala:logWarning(66)) - Not enough space to cache rdd_229_1 in memory! (computed 1901.9 MB so far)\n",
      "2020-06-08 12:59:19,733 WARN  [Executor task launch worker for task 82] memory.MemoryStore (Logging.scala:logWarning(66)) - Not enough space to cache rdd_229_0 in memory! (computed 1901.9 MB so far)\n",
      "2020-06-08 12:59:19,743 WARN  [Executor task launch worker for task 83] memory.MemoryStore (Logging.scala:logWarning(66)) - Not enough space to cache rdd_229_1 in memory! (computed 1901.9 MB so far)\n",
      "2020-06-08 12:59:47,347 WARN  [Executor task launch worker for task 85] memory.MemoryStore (Logging.scala:logWarning(66)) - Not enough space to cache rdd_229_1 in memory! (computed 1901.9 MB so far)\n",
      "2020-06-08 12:59:47,361 WARN  [Executor task launch worker for task 84] memory.MemoryStore (Logging.scala:logWarning(66)) - Not enough space to cache rdd_229_0 in memory! (computed 1901.9 MB so far)\n",
      "2020-06-08 13:00:14,331 WARN  [Executor task launch worker for task 87] memory.MemoryStore (Logging.scala:logWarning(66)) - Not enough space to cache rdd_229_1 in memory! (computed 1901.9 MB so far)\n",
      "2020-06-08 13:00:14,347 WARN  [Executor task launch worker for task 86] memory.MemoryStore (Logging.scala:logWarning(66)) - Not enough space to cache rdd_229_0 in memory! (computed 1901.9 MB so far)\n",
      "2020-06-08 13:00:41,197 WARN  [Executor task launch worker for task 88] memory.MemoryStore (Logging.scala:logWarning(66)) - Not enough space to cache rdd_229_0 in memory! (computed 1901.9 MB so far)\n",
      "2020-06-08 13:00:41,243 WARN  [Executor task launch worker for task 89] memory.MemoryStore (Logging.scala:logWarning(66)) - Not enough space to cache rdd_229_1 in memory! (computed 1901.9 MB so far)\n",
      "2020-06-08 13:01:08,531 WARN  [Executor task launch worker for task 90] memory.MemoryStore (Logging.scala:logWarning(66)) - Not enough space to cache rdd_229_0 in memory! (computed 1901.9 MB so far)\n",
      "2020-06-08 13:01:08,542 WARN  [Executor task launch worker for task 91] memory.MemoryStore (Logging.scala:logWarning(66)) - Not enough space to cache rdd_229_1 in memory! (computed 1901.9 MB so far)\n",
      "2020-06-08 13:01:35,932 WARN  [Executor task launch worker for task 93] memory.MemoryStore (Logging.scala:logWarning(66)) - Not enough space to cache rdd_229_1 in memory! (computed 1901.9 MB so far)\n",
      "2020-06-08 13:01:35,953 WARN  [Executor task launch worker for task 92] memory.MemoryStore (Logging.scala:logWarning(66)) - Not enough space to cache rdd_229_0 in memory! (computed 1901.9 MB so far)\n",
      "2020-06-08 13:02:03,257 WARN  [Executor task launch worker for task 94] memory.MemoryStore (Logging.scala:logWarning(66)) - Not enough space to cache rdd_229_0 in memory! (computed 1901.9 MB so far)\n",
      "2020-06-08 13:02:03,281 WARN  [Executor task launch worker for task 95] memory.MemoryStore (Logging.scala:logWarning(66)) - Not enough space to cache rdd_229_1 in memory! (computed 1901.9 MB so far)\n",
      "2020-06-08 13:02:29,975 WARN  [Executor task launch worker for task 97] memory.MemoryStore (Logging.scala:logWarning(66)) - Not enough space to cache rdd_229_1 in memory! (computed 1901.9 MB so far)\n",
      "2020-06-08 13:02:29,984 WARN  [Executor task launch worker for task 96] memory.MemoryStore (Logging.scala:logWarning(66)) - Not enough space to cache rdd_229_0 in memory! (computed 1901.9 MB so far)\n",
      "2020-06-08 13:02:56,807 WARN  [Executor task launch worker for task 98] memory.MemoryStore (Logging.scala:logWarning(66)) - Not enough space to cache rdd_229_0 in memory! (computed 1901.9 MB so far)\n",
      "2020-06-08 13:02:56,811 WARN  [Executor task launch worker for task 99] memory.MemoryStore (Logging.scala:logWarning(66)) - Not enough space to cache rdd_229_1 in memory! (computed 1901.9 MB so far)\n"
     ]
    },
    {
     "name": "stdout",
     "output_type": "stream",
     "text": [
      "2020-06-08 13:03:23,418 WARN  [Executor task launch worker for task 100] memory.MemoryStore (Logging.scala:logWarning(66)) - Not enough space to cache rdd_229_0 in memory! (computed 1901.9 MB so far)\n",
      "2020-06-08 13:03:23,426 WARN  [Executor task launch worker for task 101] memory.MemoryStore (Logging.scala:logWarning(66)) - Not enough space to cache rdd_229_1 in memory! (computed 1901.9 MB so far)\n",
      "2020-06-08 13:03:49,676 WARN  [Executor task launch worker for task 103] memory.MemoryStore (Logging.scala:logWarning(66)) - Not enough space to cache rdd_229_1 in memory! (computed 1901.9 MB so far)\n",
      "2020-06-08 13:03:49,693 WARN  [Executor task launch worker for task 102] memory.MemoryStore (Logging.scala:logWarning(66)) - Not enough space to cache rdd_229_0 in memory! (computed 1901.9 MB so far)\n",
      "2020-06-08 13:04:19,563 WARN  [Executor task launch worker for task 105] memory.MemoryStore (Logging.scala:logWarning(66)) - Not enough space to cache rdd_229_1 in memory! (computed 1901.9 MB so far)\n",
      "2020-06-08 13:04:19,607 WARN  [Executor task launch worker for task 104] memory.MemoryStore (Logging.scala:logWarning(66)) - Not enough space to cache rdd_229_0 in memory! (computed 1901.9 MB so far)\n"
     ]
    }
   ],
   "source": [
    "import org.apache.spark.ml.regression.LinearRegression\n",
    "import org.apache.spark.ml.Pipeline\n",
    "val startTimeMillis = System.currentTimeMillis()\n",
    "\n",
    "val lr = new LinearRegression()\n",
    "    .setLabelCol(\"loggedPrice\")\n",
    "    .setFeaturesCol(\"scaledFeatures\")\n",
    "    .setPredictionCol(\"Predicted loggedPrice\")\n",
    "    .setMaxIter(100)\n",
    "\n",
    "   val pipeline = new Pipeline()\n",
    "      .setStages(Array(suburbIndexer,\n",
    "                       streetNameIndexer,\n",
    "                       propertyTypeIndexer,\n",
    "                       methodOfSaleIndexer,\n",
    "                       featureHasher,\n",
    "                       new StandardScaler()\n",
    "                      .setInputCol(\"hashedFeatures\")\n",
    "                      .setOutputCol(\"scaledFeatures\")\n",
    "                      .setWithStd(true).setWithMean(true),\n",
    "                      lr))\n",
    "     \n",
    "  val result =pipeline.fit(train.drop(\"Price\")).transform(test.drop(\"Price\"))\n",
    "\n",
    "val endTimeMillis = System.currentTimeMillis()\n",
    "\n",
    "print(\"Model was executed \"\n",
    "      + getExecutionTime(startTimeMillis,endTimeMillis)+\" s\")\n"
   ]
  },
  {
   "cell_type": "code",
   "execution_count": null,
   "metadata": {},
   "outputs": [],
   "source": [
    "result.columns"
   ]
  },
  {
   "cell_type": "markdown",
   "metadata": {},
   "source": [
    "#### Define LR Evaluator"
   ]
  },
  {
   "cell_type": "code",
   "execution_count": null,
   "metadata": {},
   "outputs": [],
   "source": [
    "import org.apache.spark.ml.evaluation.RegressionEvaluator\n",
    "\n",
    "// define an evaluator \n",
    "def evaluate_lr ( predictions: DataFrame, metric: String) = {\n",
    "    val eval =  new RegressionEvaluator()\n",
    "       .setLabelCol(\"loggedPrice\")\n",
    "       .setPredictionCol(\"Predicted loggedPrice\")\n",
    "       .setMetricName(metric)\n",
    "println(\"Root Mean Squared Error \"+  metric.toUpperCase()\n",
    "        +\" on test data = \" + eval.evaluate(predictions))\n",
    "}\n"
   ]
  },
  {
   "cell_type": "markdown",
   "metadata": {},
   "source": [
    "#### Regression Metrics\n",
    "\n",
    "**Mean squared error (MSE)** -- the average of squared differences between the predicted outcome and the true outcome.\n",
    "\n",
    "**R2 coefficient** -- the proportion of variance in the outcome that our model is capable of predicting based on its features.\n"
   ]
  },
  {
   "cell_type": "code",
   "execution_count": null,
   "metadata": {},
   "outputs": [],
   "source": [
    "evaluate_lr(result,\"rmse\")"
   ]
  },
  {
   "cell_type": "code",
   "execution_count": null,
   "metadata": {},
   "outputs": [],
   "source": [
    "evaluate_lr(result,\"r2\")"
   ]
  },
  {
   "cell_type": "markdown",
   "metadata": {},
   "source": [
    "####  Finding the Best Model (Parameter Tuning) by Cross-Validation\n"
   ]
  },
  {
   "cell_type": "code",
   "execution_count": null,
   "metadata": {},
   "outputs": [],
   "source": [
    "train_sample.columns"
   ]
  },
  {
   "cell_type": "code",
   "execution_count": null,
   "metadata": {},
   "outputs": [],
   "source": [
    "import org.apache.spark.ml.param.ParamMap\n",
    "import org.apache.spark.ml.tuning.{CrossValidator, ParamGridBuilder}\n",
    "\n",
    "\n",
    "//Creates a crossvalidator on only the LR model\n",
    "//Had some issues retreiving the params when using on pipeline\n",
    "//and the pipeline only has one estimator in it so this was easier than traversing the stages of the pipline\n",
    "\n",
    "val startTimeMillis = System.currentTimeMillis()\n",
    "\n",
    "//set LR with 100 max iter\n",
    "val lr = new LinearRegression()\n",
    "    .setLabelCol(\"loggedPrice\")\n",
    "    .setFeaturesCol(\"scaledFeatures\")\n",
    "    .setPredictionCol(\"Predicted LoggedPrice\")\n",
    "\n",
    "\n",
    "val pipeline = new Pipeline()\n",
    "    .setStages(Array(suburbIndexer,\n",
    "                    streetNameIndexer,\n",
    "                    propertyTypeIndexer,\n",
    "                    methodOfSaleIndexer,\n",
    "                    featureHasher,\n",
    "                    new StandardScaler()\n",
    "                    .setInputCol(\"hashedFeatures\")\n",
    "                    .setOutputCol(\"scaledFeatures\")\n",
    "                    .setWithStd(true).setWithMean(true),\n",
    "                    lr))\n",
    "     \n",
    "// We use a ParamGridBuilder to construct a grid of parameters to search over.\n",
    "val paramGrid = new ParamGridBuilder()\n",
    "  .addGrid(lr.regParam, Array(0,0.1,0.5,1))\n",
    "  .addGrid(lr.elasticNetParam, Array(0,0.1,0.5,1))\n",
    "  .build()\n",
    "\n",
    "// We now treat the model as an Estimator, wrapping it in a CrossValidator instance.\n",
    "// This will allow us to choose best params for the model\n",
    "val cv = new CrossValidator()\n",
    "  .setEstimator(pipeline)\n",
    "  .setEvaluator(new RegressionEvaluator()\n",
    "  .setLabelCol(\"loggedPrice\")\n",
    "  .setPredictionCol(\"Predicted LoggedPrice\")\n",
    "  .setMetricName(\"rmse\"))\n",
    "  .setEstimatorParamMaps(paramGrid)\n",
    "  .setNumFolds(5)  \n",
    "  .setParallelism(2)\n",
    "\n",
    "\n",
    "// Run cross-validation, and choose the best set of parameters.\n",
    "val cvModel = cv.fit(train_sample.drop(\"Price\"))\n",
    "\n",
    "// Make predictions on test documents. \n",
    "//cvModel uses the best model found.\n",
    "cvModel.transform(test_sample.drop(\"Price\"))\n",
    "  .select(\"loggedPrice\", \"Predicted LoggedPrice\")\n",
    "  .show()\n",
    "\n",
    "//print runtime\n",
    "val endTimeMillis = System.currentTimeMillis()\n",
    "\n",
    "print(\"Model was executed \"\n",
    "      + getExecutionTime(startTimeMillis,endTimeMillis)+\" s\")"
   ]
  },
  {
   "cell_type": "code",
   "execution_count": null,
   "metadata": {},
   "outputs": [],
   "source": [
    "cvModel.bestModel"
   ]
  },
  {
   "cell_type": "markdown",
   "metadata": {},
   "source": [
    "#### Extracting the Best Model"
   ]
  },
  {
   "cell_type": "code",
   "execution_count": null,
   "metadata": {},
   "outputs": [],
   "source": [
    "import org.apache.spark.ml.PipelineModel\n",
    "import org.apache.spark.ml.regression.LinearRegressionModel\n",
    "\n",
    "//print out the params used for the best model\n",
    "val bestModel = cvModel.bestModel\n",
    "val bestLRModel = bestModel.asInstanceOf[PipelineModel].stages.last.asInstanceOf[LinearRegressionModel]\n",
    "println(\"params = \" + bestLRModel.extractParamMap())"
   ]
  },
  {
   "cell_type": "markdown",
   "metadata": {},
   "source": [
    "#### Define LR Pipeline for the Best Model"
   ]
  },
  {
   "cell_type": "code",
   "execution_count": null,
   "metadata": {},
   "outputs": [],
   "source": [
    "val lr_best = new LinearRegression()\n",
    "  .setLabelCol(\"loggedPrice\")\n",
    "  .setPredictionCol(\"Predicted LoggedPrice\")\n",
    "  .setFeaturesCol(\"scaledFeatures\")\n",
    "  .setRegParam(bestLRModel.getRegParam)\n",
    "  .setMaxIter(bestLRModel.getMaxIter)\n",
    "\n",
    "\n",
    "\n",
    "val lrStages = Array(suburbIndexer,\n",
    "                    streetNameIndexer,\n",
    "                    propertyTypeIndexer,\n",
    "                    methodOfSaleIndexer,\n",
    "                    featureHasher,\n",
    "                    new StandardScaler()\n",
    "                    .setInputCol(\"hashedFeatures\")\n",
    "                    .setOutputCol(\"scaledFeatures\")\n",
    "                    .setWithStd(true).setWithMean(true),\n",
    "                    lr_best\n",
    ")"
   ]
  },
  {
   "cell_type": "code",
   "execution_count": null,
   "metadata": {},
   "outputs": [],
   "source": [
    "val startTimeMillis = System.currentTimeMillis()\n",
    "\n",
    "//define a pipleine\n",
    "val lrPipe = new Pipeline().setStages(lrStages)\n",
    "\n",
    "// We fit our DataFrame into the pipeline to generate a model\n",
    "// pass best ParamMap from cross validation\n",
    "val lrModel = lrPipe.fit(train)\n",
    "\n",
    "\n",
    "// Make predictions using the model and the test data\n",
    "// pass best ParamMap from cross validation\n",
    "val predictions = lrModel.transform(test)\n",
    "\n",
    "val endTimeMillis = System.currentTimeMillis()\n",
    "\n",
    "print(\"Pipeline was executed \"\n",
    "      + getExecutionTime(startTimeMillis,endTimeMillis))\n"
   ]
  },
  {
   "cell_type": "code",
   "execution_count": null,
   "metadata": {},
   "outputs": [],
   "source": [
    "predictions.columns"
   ]
  },
  {
   "cell_type": "markdown",
   "metadata": {},
   "source": [
    "#### Undo the Log Transformn on the Prediciton\n"
   ]
  },
  {
   "cell_type": "code",
   "execution_count": null,
   "metadata": {},
   "outputs": [],
   "source": [
    "var logtransformPredict = predictions.withColumn(\"Predicted loggedPrice\",col(\"Predicted loggedPrice\").cast(\"Double\"))\n",
    "\n",
    "logtransformPredict.withColumn(\"Predicted Price\", exp((col(\"Predicted loggedPrice\")))).select(\"Predicted Price\").show(5)\n"
   ]
  },
  {
   "cell_type": "code",
   "execution_count": null,
   "metadata": {},
   "outputs": [],
   "source": [
    "//inverse the log transform\n",
    "val bestlr_predict = logtransformPredict.withColumn(\"Predicted Price\", exp((col(\"Predicted loggedPrice\"))))"
   ]
  },
  {
   "cell_type": "markdown",
   "metadata": {},
   "source": [
    "#### Predictions on the Best Model"
   ]
  },
  {
   "cell_type": "code",
   "execution_count": null,
   "metadata": {},
   "outputs": [],
   "source": [
    "//finesse the output of predicted price and price to aid visual compare\n",
    "bestlr_predict.withColumn(\"Predicted Price\", round($\"Predicted Price\", 0))\n",
    "    .select(\"Price\",\"Predicted Price\").show()"
   ]
  },
  {
   "cell_type": "markdown",
   "metadata": {},
   "source": [
    "#### Regression Metrics\n"
   ]
  },
  {
   "cell_type": "code",
   "execution_count": null,
   "metadata": {},
   "outputs": [],
   "source": [
    "evaluate_lr(bestlr_predict,\"rmse\")"
   ]
  },
  {
   "cell_type": "code",
   "execution_count": null,
   "metadata": {},
   "outputs": [],
   "source": [
    "evaluate_lr(bestlr_predict,\"r2\")"
   ]
  },
  {
   "cell_type": "markdown",
   "metadata": {},
   "source": [
    "### 2. Apply Random Forest Regression\n",
    "\n",
    "**Build Random Forest model**\n",
    "\n",
    "Specify _numTrees, maxDepth, maxBins, featureSubsetStrategy_ and _seed_ parameters.\n",
    "\n",
    "* **numTrees** -- Number of trees in the forest\n",
    "\n",
    "* **maxDepth** -- Maximum depth of a tree. Increasing the depth makes the model more powerful, but deep trees take longer to train.\n",
    "\n",
    "* **maxBins** -- Maximum number of bins used for discretizing continuous features and for choosing how to split on features at each node.\n",
    "\n",
    "* **featureSubsetStrategy** -- Automatically select the number of features to consider for splits at each tree node\n",
    "\n",
    "* **seed** -- Use a random seed number , allowing to repeat the results\n",
    "* **MaxMemoryInMB** - Maximum memory in MB allocated to histogram aggregation.\n",
    "* **CacheNodeIds** - If FALSE, the algorithm will pass trees to executors to match instances with nodes. If TRUE, the algorithm will cache node IDs for each instance. Caching can speed up training of deeper trees. Users can set how often should the cache be checkpointed or disable it by setting checkpointInterval."
   ]
  },
  {
   "cell_type": "markdown",
   "metadata": {},
   "source": [
    "\n",
    "If the number of trees is 1, then no bootstrapping is used at all. However, if the number of trees is > 1, then the bootstrapping is accomplished. Where, the parameter _featureSubsetStrategy_ signifies the number of features to be considered for splits at each node. The supported values of _featureSubsetStrategy_ are \"auto\", \"all\", \"sqrt\", \"log2\" and \"on third\". The supported numerical values, on the other hand, are $(0.0-1.0]$ and $[1-n]$. However, if _featureSubsetStrategy_ is chosen as $\"auto\"$, the algorithm chooses the best feature subset strategy automatically\n",
    "\n",
    "\n",
    "If the $numTrees == 1$, the featureSubsetStrategy is set to be \"all\". However, if the $numTrees > 1$ (i.e., forest), featureSubsetStrategy is set to be \"onethird\" for regression\n",
    "\n",
    "\n",
    "Moreover, if a real value \"n\" is in the range $(0, 1.0]$ is set, n*number_of_features is used consequently. However, if an integer value \"n\" is in the range (1, the number of features) is set, only n features are used alternatively\n",
    "\n",
    "\n",
    "The parameter _categoricalFeaturesInfo_ which is a map is used for storing arbitrary of categorical features. An entry $(n -> k)$ indicates that feature n is categorical with k categories indexed from $0: {0, 1,...,k-1}$\n",
    "The impurity criterion used for regression is “variance”. \n",
    "\n",
    "The _maxDepth_ is the maximum depth of the tree. (e.g., depth 0 means 1 leaf node, depth 1 means 1 internal node + 2 leaf nodes). However, the suggested value is 4 to get a better result\n",
    "\n",
    "\n",
    "The _maxBins_ signifies the maximum number of bins used for splitting the features; where the suggested value is 100 to get better results\n",
    "\n",
    "\n",
    "Finally, the random seed is used for bootstrapping and choosing feature subsets to avoid the random nature of the results."
   ]
  },
  {
   "cell_type": "markdown",
   "metadata": {},
   "source": [
    "#### Define time Function"
   ]
  },
  {
   "cell_type": "code",
   "execution_count": null,
   "metadata": {},
   "outputs": [],
   "source": [
    "def time[R](block: => R): R = {\n",
    "  val t0 = System.nanoTime()\n",
    "  val result = block    // call-by-name\n",
    "  val t1 = System.nanoTime()\n",
    "  println(\"Elapsed time: \" + (t1 - t0)/1000000000 + \" s\")\n",
    "  result\n",
    " }"
   ]
  },
  {
   "cell_type": "code",
   "execution_count": null,
   "metadata": {},
   "outputs": [],
   "source": [
    "import org.apache.spark.ml.regression.RandomForestRegressor\n",
    "\n",
    "val rf = new RandomForestRegressor()\n",
    "  .setSeed(36L)\n",
    "  .setLabelCol(\"Price\")\n",
    "  .setFeaturesCol(\"scaledFeatures\")\n",
    "  .setPredictionCol(\"prediction\")\n",
    "  .setMaxMemoryInMB(512)\n",
    "  .setCacheNodeIds(true)\n",
    "\n",
    "rf.extractParamMap()"
   ]
  },
  {
   "cell_type": "code",
   "execution_count": null,
   "metadata": {},
   "outputs": [],
   "source": [
    "test.columns"
   ]
  },
  {
   "cell_type": "code",
   "execution_count": null,
   "metadata": {},
   "outputs": [],
   "source": [
    "train.columns"
   ]
  },
  {
   "cell_type": "markdown",
   "metadata": {},
   "source": [
    "#### Define get_predictions Function"
   ]
  },
  {
   "cell_type": "code",
   "execution_count": null,
   "metadata": {},
   "outputs": [],
   "source": [
    "import org.apache.spark.ml.Predictor\n",
    "import org.apache.spark.ml.linalg.Vector\n",
    "import org.apache.spark.ml.PredictionModel\n",
    "import org.apache.spark.ml.Pipeline\n",
    "\n",
    "def get_predictions[R <: Predictor[Vector, R, M],\n",
    "                M <: PredictionModel[Vector, M]](\n",
    "    predictor: Predictor[Vector, R, M],\n",
    "    train: DataFrame, \n",
    "    test: DataFrame) = {\n",
    "    \n",
    "    val pipeline = new Pipeline()\n",
    "      .setStages(Array(suburbIndexer,\n",
    "                       streetNameIndexer,\n",
    "                       propertyTypeIndexer,\n",
    "                       methodOfSaleIndexer,\n",
    "                       allEncoder,\n",
    "                       assembler, \n",
    "                       scaler,\n",
    "                       predictor))\n",
    "     \n",
    "    val result =pipeline.fit(train).transform(test)\n",
    "    result\n",
    "\n",
    "}"
   ]
  },
  {
   "cell_type": "code",
   "execution_count": null,
   "metadata": {},
   "outputs": [],
   "source": [
    "val rfPredictions = time{get_predictions(rf, train, test)}\n",
    "rfPredictions.cache()"
   ]
  },
  {
   "cell_type": "code",
   "execution_count": null,
   "metadata": {
    "scrolled": true
   },
   "outputs": [],
   "source": [
    "rfPredictions.withColumn(\"prediction\", round($\"prediction\", 0)).select(\"Price\",\"prediction\").show(5)"
   ]
  },
  {
   "cell_type": "code",
   "execution_count": null,
   "metadata": {},
   "outputs": [],
   "source": [
    "rfPredictions.describe().select(\"summary\",\"Price\",\"prediction\").show()"
   ]
  },
  {
   "cell_type": "markdown",
   "metadata": {},
   "source": [
    "#### Regression Metrics\n"
   ]
  },
  {
   "cell_type": "code",
   "execution_count": null,
   "metadata": {},
   "outputs": [],
   "source": [
    "\n",
    "def assess_rf ( predictions: DataFrame, metric: String) = {\n",
    "    val eval =  new RegressionEvaluator()\n",
    "       .setLabelCol(\"Price\")\n",
    "       .setPredictionCol(\"prediction\")\n",
    "       .setMetricName(metric)\n",
    "println(metric.toUpperCase()+\" on test data = \" + eval.evaluate(predictions))\n",
    "    \n",
    "}"
   ]
  },
  {
   "cell_type": "code",
   "execution_count": null,
   "metadata": {},
   "outputs": [],
   "source": [
    "assess_rf(rfPredictions,\"rmse\")"
   ]
  },
  {
   "cell_type": "code",
   "execution_count": null,
   "metadata": {},
   "outputs": [],
   "source": [
    "assess_rf(rfPredictions,\"r2\")"
   ]
  },
  {
   "cell_type": "markdown",
   "metadata": {},
   "source": [
    "####  Finding the Best Model (Parameter Tuning) by Cross-Validation\n"
   ]
  },
  {
   "cell_type": "code",
   "execution_count": null,
   "metadata": {},
   "outputs": [],
   "source": [
    "import org.apache.spark.ml.Predictor\n",
    "import org.apache.spark.ml.linalg.Vector\n",
    "import org.apache.spark.ml.PredictionModel\n",
    "\n",
    "\n",
    "\n",
    "def train_eval[R <: Predictor[Vector, R, M],\n",
    "               M <: PredictionModel[Vector, M]](\n",
    "    predictor: Predictor[Vector, R, M],\n",
    "    paramMap: Array[ParamMap],\n",
    "    train: DataFrame, \n",
    "    test: DataFrame) = {\n",
    "\n",
    "    val pipeline = new Pipeline()\n",
    "      .setStages(Array(\n",
    "          suburbIndexer,\n",
    "          streetNameIndexer,\n",
    "          propertyTypeIndexer,\n",
    "          methodOfSaleIndexer,\n",
    "          allEncoder,\n",
    "          assembler, \n",
    "          scaler,\n",
    "          predictor))\n",
    "    \n",
    "    val cv = new CrossValidator()\n",
    "        .setEstimator(pipeline)\n",
    "        .setEvaluator(new RegressionEvaluator()\n",
    "        .setLabelCol(\"Price\")\n",
    "        .setPredictionCol(\"prediction\")\n",
    "        .setMetricName(\"rmse\"))\n",
    "        .setEstimatorParamMaps(paramMap)\n",
    "        .setNumFolds(5)\n",
    "        .setParallelism(2)\n",
    "\n",
    "    val cvModel = cv.fit(train)\n",
    "    val predictions = cvModel.transform(test)\n",
    "    \n",
    "    predictions.cache()\n",
    "   \n",
    "    val bestModel = cvModel.bestModel\n",
    "    \n",
    "    println(bestModel.extractParamMap)\n",
    "    \n",
    "    bestModel\n",
    "}\n"
   ]
  },
  {
   "cell_type": "code",
   "execution_count": null,
   "metadata": {
    "scrolled": true
   },
   "outputs": [],
   "source": [
    "import org.apache.spark.ml.regression.RandomForestRegressor\n",
    "\n",
    "// Models hyperparameters\n",
    "val numTrees = Seq(5,10,20,30,50,100)\n",
    "val maxBins = Seq(32,50,100)\n",
    "val maxDepth = Seq(2,3,5)\n",
    "//val featureSubsetStrategy = Seq(\"sqrt\",\"onethird\")\n",
    "\n",
    "val rf = new RandomForestRegressor()\n",
    "  .setSeed(36L)\n",
    "  .setLabelCol(\"Price\")\n",
    "  .setFeaturesCol(\"scaledFeatures\")\n",
    "  .setPredictionCol(\"prediction\")\n",
    "  .setImpurity(\"variance\")\n",
    "  .setMaxMemoryInMB(512)\n",
    "  .setCacheNodeIds(true)\n",
    "\n",
    "\n",
    "val rfParamMap = new ParamGridBuilder()\n",
    "  .addGrid(rf.numTrees, numTrees)\n",
    "  .addGrid(rf.maxDepth, maxDepth)\n",
    "  .addGrid(rf.maxBins, maxBins)\n",
    "  .build()\n",
    "\n",
    "val tStart = System.nanoTime()\n",
    "val best_model = train_eval(rf, rfParamMap, train, test)\n",
    "val tEnd = System.nanoTime()\n",
    "\n",
    "print(\"Model was executed \"\n",
    "      + getExecutionTime(tStart/1000000,tEnd/1000000)+\" s\")"
   ]
  },
  {
   "cell_type": "markdown",
   "metadata": {},
   "source": [
    "### Extracting the Best Model"
   ]
  },
  {
   "cell_type": "code",
   "execution_count": null,
   "metadata": {},
   "outputs": [],
   "source": [
    "\n",
    "import org.apache.spark.ml.regression.RandomForestRegressionModel\n",
    "\n",
    "val bestPipelineModel = best_model.asInstanceOf[PipelineModel]\n",
    "\n",
    "val stages = bestPipelineModel.stages\n",
    "for (i <- stages) println\n",
    "\n",
    "val bestRFModel = stages.last.asInstanceOf[RandomForestRegressionModel]\n",
    "\n",
    "println(\"RF params = \" + bestRFModel.extractParamMap())\n"
   ]
  },
  {
   "cell_type": "markdown",
   "metadata": {},
   "source": [
    "#### Prediction on the Best Model"
   ]
  },
  {
   "cell_type": "code",
   "execution_count": null,
   "metadata": {},
   "outputs": [],
   "source": [
    "val seed = 5043\n",
    "val rf_best = new RandomForestRegressor()\n",
    "  .setSeed(seed)\n",
    "  .setLabelCol(\"Price\")\n",
    "  .setNumTrees(bestRFModel.getNumTrees)\n",
    "  .setMaxDepth(bestRFModel.getMaxDepth)\n",
    "  .setMaxBins(bestRFModel.getMaxBins)\n",
    "  .setMaxMemoryInMB(512)\n",
    "  .setCacheNodeIds(true)\n",
    "\n",
    "val rf_best_Predictions = time{get_predictions(rf_best, train, test)}\n",
    "rfPredictions.cache()"
   ]
  },
  {
   "cell_type": "markdown",
   "metadata": {},
   "source": [
    "#### Regression Metrics on the Best Model\n"
   ]
  },
  {
   "cell_type": "code",
   "execution_count": null,
   "metadata": {},
   "outputs": [],
   "source": [
    "assess_rf(rf_best_Predictions,\"rmse\")"
   ]
  },
  {
   "cell_type": "code",
   "execution_count": null,
   "metadata": {},
   "outputs": [],
   "source": [
    "assess_rf(rf_best_Predictions,\"r2\")"
   ]
  },
  {
   "cell_type": "markdown",
   "metadata": {},
   "source": [
    "### 3. Apply K-means Model  \n",
    "\n",
    "Unsupervised learning problem. To find opimal number of clusters run many models with differnet numer of clusters. When the number of clusters increses the differences between clusters gets smaller while the differences between points inside clusters increase as well. Optimally, WCSSE -  Within Set Sum of Squared Errors, should be as small as possible, while Slhouette coefficient [-1,1] cohesion and separation should get as close to 1 as possible.\n",
    "\n",
    "* WSSSE -  Within Set Sum of Squared Errors\n",
    "* Slhouette coefficient  for a data point is  $(b-a)/max(a,b)$, where $a$ - measure of cohesion (mean intra-cluster distance), b - measure of separarion (the distance between a sample and the nearest cluster that the sample is not a part of)\n"
   ]
  },
  {
   "cell_type": "markdown",
   "metadata": {},
   "source": [
    "#### Training and Predicting\n"
   ]
  },
  {
   "cell_type": "code",
   "execution_count": null,
   "metadata": {},
   "outputs": [],
   "source": [
    "import org.apache.spark.ml.clustering.{KMeans,KMeansModel}\n",
    "\n",
    "val kmeans = new KMeans().setSeed(5043L)\n",
    "                         .setPredictionCol(\"cluster\")\n",
    "                         .setFeaturesCol(\"scaledFeatures\")\n"
   ]
  },
  {
   "cell_type": "code",
   "execution_count": null,
   "metadata": {},
   "outputs": [],
   "source": [
    "import org.apache.spark.ml.Predictor\n",
    "import org.apache.spark.ml.linalg.Vector\n",
    "import org.apache.spark.ml.PredictionModel\n",
    "import org.apache.spark.ml.Pipeline\n",
    "import org.apache.spark.ml.clustering.KMeansModel\n",
    "\n",
    "\n",
    "val pipeline = new Pipeline()\n",
    "      .setStages(Array(suburbIndexer,\n",
    "                       streetNameIndexer,\n",
    "                       propertyTypeIndexer,\n",
    "                       methodOfSaleIndexer,\n",
    "                       featureHasher,\n",
    "                       new StandardScaler()\n",
    "                      .setInputCol(\"hashedFeatures\")\n",
    "                      .setOutputCol(\"scaledFeatures\")\n",
    "                      .setWithStd(true).setWithMean(true),\n",
    "                       kmeans))\n",
    "     \n",
    "val tStart = System.currentTimeMillis()\n",
    " \n",
    "val kmeansPipeModel =pipeline.fit(train)\n",
    "\n",
    "val kmeansPredictions =kmeansPipeModel.transform(test)\n",
    "\n",
    "val tEnd = System.currentTimeMillis()\n",
    "\n",
    "kmeansPredictions.cache()\n",
    "print(\"Model was executed \"\n",
    "      + getExecutionTime(tStart/1000,tEnd/1000)+\" s\")\n",
    "\n"
   ]
  },
  {
   "cell_type": "code",
   "execution_count": null,
   "metadata": {},
   "outputs": [],
   "source": [
    "kmeansPredictions.columns"
   ]
  },
  {
   "cell_type": "code",
   "execution_count": null,
   "metadata": {},
   "outputs": [],
   "source": [
    "val kmeansModel =kmeansPipeModel.stages.last.asInstanceOf[KMeansModel]"
   ]
  },
  {
   "cell_type": "code",
   "execution_count": null,
   "metadata": {},
   "outputs": [],
   "source": [
    "for (i <- Array.range(0, kmeansModel.getK.toInt)){\n",
    "  println(\"Cluster \"+i+\":\")\n",
    "  kmeansPredictions.where($\"cluster\" === i).describe().select(\"Summary\", \"Price\").show()\n",
    "}   "
   ]
  },
  {
   "cell_type": "markdown",
   "metadata": {},
   "source": [
    "#### Evaluation.\n",
    "\n",
    "The silhouette metrics ranges between -1 and 1, where a value close to 1 means that the points in a cluster are close to the other points in the same cluster and far from the points of the other clusters."
   ]
  },
  {
   "cell_type": "code",
   "execution_count": null,
   "metadata": {},
   "outputs": [],
   "source": [
    "import org.apache.spark.ml.evaluation.ClusteringEvaluator\n",
    "\n",
    "def assess_kmeans( predictions: DataFrame, metric: String) = {\n",
    "    val eval =  new ClusteringEvaluator()\n",
    "       .setPredictionCol(\"cluster\")\n",
    "       .setMetricName(metric)\n",
    "println(metric.toUpperCase()+\" on test data = \" + eval.evaluate(predictions))\n",
    "    \n",
    "}"
   ]
  },
  {
   "cell_type": "code",
   "execution_count": null,
   "metadata": {},
   "outputs": [],
   "source": [
    "assess_kmeans(kmeansPredictions,\"silhouette\")"
   ]
  },
  {
   "cell_type": "code",
   "execution_count": null,
   "metadata": {},
   "outputs": [],
   "source": [
    "val WSSSE = kmeansModel.computeCost(kmeansPredictions)\n",
    "println(s\"WSSSE error = $WSSSE\")"
   ]
  },
  {
   "cell_type": "code",
   "execution_count": null,
   "metadata": {},
   "outputs": [],
   "source": [
    "val scaled_WSSSE = WSSSE/test.count()\n",
    "\n",
    "print(s\"Normalised WCSSE error = \")\n",
    "println(\"%06.2f\".format(scaled_WSSSE))"
   ]
  },
  {
   "cell_type": "markdown",
   "metadata": {},
   "source": [
    "#### Prediction on the Best Model"
   ]
  },
  {
   "cell_type": "code",
   "execution_count": null,
   "metadata": {},
   "outputs": [],
   "source": [
    "import org.apache.spark.ml.evaluation.ClusteringEvaluator\n",
    "import org.apache.spark.ml.Predictor\n",
    "import org.apache.spark.ml.linalg.Vector\n",
    "import org.apache.spark.ml.PredictionModel\n",
    "\n",
    "def eval_points(maxK: Int): Map[Int, Double] = {\n",
    "  val evaluator = new ClusteringEvaluator()\n",
    "       .setFeaturesCol(\"scaledFeatures\")\n",
    "       .setPredictionCol(\"Predicted LoggedPrice\")\n",
    "       .setMetricName(\"silhouette\")\n",
    "    val kmeans = new KMeans().setSeed(5043L).setK(maxK)\n",
    "    val pipeline = new Pipeline()\n",
    "      .setStages(Array(suburbIndexer,\n",
    "                       streetNameIndexer,\n",
    "                       propertyTypeIndexer,\n",
    "                       methodOfSaleIndexer,\n",
    "                       allEncoder,\n",
    "                       assembler, \n",
    "                       scaler,\n",
    "                       kmeans))\n",
    "    \n",
    "  var points = Map(2 -> WSSSE)\n",
    "  for (i <- Array.range(3, maxK)){\n",
    "\n",
    "    \n",
    "    val kmeansPipeModel = pipeline.fit(train_sample)\n",
    "    val kmeansPredictions = kmeansPipeModel.transform(test_sample)\n",
    "    val silhouette = evaluator.evaluate(predictions)\n",
    "    points += (i -> silhouette)\n",
    "  }\n",
    "  points\n",
    "}"
   ]
  },
  {
   "cell_type": "code",
   "execution_count": null,
   "metadata": {},
   "outputs": [],
   "source": [
    "val points = time{eval_points(20)}"
   ]
  },
  {
   "cell_type": "code",
   "execution_count": null,
   "metadata": {},
   "outputs": [],
   "source": [
    "val (best_num_centroids, silhouette) = points.toArray.sortWith(_._2 < _._2)(0)\n",
    "best_num_centroids\n",
    "best_wssse/num_sample"
   ]
  },
  {
   "cell_type": "code",
   "execution_count": null,
   "metadata": {},
   "outputs": [],
   "source": [
    "#### Clustering around predicted centroids"
   ]
  },
  {
   "cell_type": "code",
   "execution_count": null,
   "metadata": {},
   "outputs": [],
   "source": [
    "import org.apache.spark.ml.clustering.{KMeans,KMeansModel}\n",
    "\n",
    "val best_kmeans = new KMeans().setSeed(5043L)\n",
    "                         .setPredictionCol(\"cluster\")\n",
    "                         .setFeaturesCol(\"scaledFeatures\")\n",
    "                         .setK(best_num_centroids)\n",
    "\n"
   ]
  },
  {
   "cell_type": "code",
   "execution_count": null,
   "metadata": {},
   "outputs": [],
   "source": [
    "val bestKMPipeline = new Pipeline()\n",
    "      .setStages(Array(suburbIndexer,\n",
    "                       streetNameIndexer,\n",
    "                       propertyTypeIndexer,\n",
    "                       methodOfSaleIndexer,\n",
    "                       featureHasher,\n",
    "                       new StandardScaler()\n",
    "                      .setInputCol(\"hashedFeatures\")\n",
    "                      .setOutputCol(\"scaledFeatures\")\n",
    "                      .setWithStd(true).setWithMean(true),\n",
    "                       kmeans))\n",
    "     \n",
    "val tStart = System.currentTimeMillis()\n",
    " \n",
    "val bestMeansPipeModel =bestKMPipeline.fit(train)\n",
    "\n",
    "val bestKmeansPredictions =bestMeansPipeModel.transform(test)\n",
    "\n",
    "val tEnd = System.currentTimeMillis()\n",
    "\n",
    "bestKmeansPredictions.cache()\n",
    "print(\"Model was executed \"\n",
    "      + getExecutionTime(tStart/1000,tEnd/1000)+\" s\")\n",
    "\n",
    "\n"
   ]
  },
  {
   "cell_type": "code",
   "execution_count": null,
   "metadata": {},
   "outputs": [],
   "source": [
    "for (i <- Array.range(0, kmeansModel.getK.toIntbest_num_centroids)){\n",
    "  println(\"Cluster \"+i+\":\")\n",
    "  bestKmeansPredictions.where($\"cluster\" === i).describe().select(\"Summary\", \"Price\").show()\n",
    "}   "
   ]
  },
  {
   "cell_type": "markdown",
   "metadata": {},
   "source": [
    "### References\n",
    "\n",
    "Apache Spark (n.d.). _Spark ML Programming Guide._ Retrieved from https://spark.apache.org/docs/1.2.2/ml-guide.html\n",
    "\n",
    "Bahadoor N., (2020). _Spark tutorials_ Retrieved from https://allaboutscala.com/big-data/spark/\n",
    "Gorczynski M. (2017). _Introduction to machine learning with spark and mllib (dataframe API)._ Retrieved from https://scalac.io/scala-spark-ml-machine-learning-introduction/\n",
    "\n",
    "Hydrospheredata (2020). Program creek. Scala Code Examples. Scaler Retrieved from https://www.programcreek.com/scala/org.apache.spark.ml.feature.StandardScaler\n",
    "\n",
    "Jen G. (2020) _FeatureHasher_. Retrieved from https://george-jen.gitbook.io/data-science-and-apache-spark/featurehasher\n",
    "\n",
    "Johnson S (2019). _From sckit-learn to Spark ML._ Retrieved from https://towardsdatascience.com/from-scikit-learn-to-spark-ml-f2886fb46852\n",
    "\n",
    "Johnson S (2019). _Housing Prices - Spark ML Project_ Retrieved from https://github.com/scottdjohnson/HousingPricePredictions/blob/master/HousingPrices-SparkML.ipynb\n",
    "\n",
    "Masri A. (2019). _FeatureTransformation. Retrieved from\n",
    "https://towardsdatascience.com/apache-spark-mllib-tutorial-7aba8a1dce6e\n",
    "\n",
    "Poddutur S. (). _Distribution of Executors, Cores and Memory for a Spark Application running in Yarn:_ Retrieved from https://spoddutur.github.io/spark-notes/distribution_of_executors_cores_and_memory_for_spark_application.html \n",
    "\n",
    "Rai D.,(2018) _Feature Engineering in pyspark — Part I._ Retrieved from https://medium.com/@dhiraj.p.rai/essentials-of-feature-engineering-in-pyspark-part-i-76a57680a85\n",
    "\n",
    "Sarkar A. (2017). _Learning Spark SQL. Implementing a Spark ML clustering model._ Packt Publishing.\n",
    "\n",
    "Scala Doc (n.d.) Retrieved from https://docs.scala-lang.org\n",
    "\n",
    "\n",
    "(2019) _Random Forest Classifier with Apache Spark_ Retireved from https://medium.com/rahasak/random-forest-classifier-with-apache-spark-c63b4a23a7cc\n",
    "\n",
    "Wagle M.(2020) _Predicting House Prices using Machine Learning_. Retrieved from https://medium.com/@manilwagle/predicting-house-prices-using-machine-learning-cab0b82cd3f\n",
    "\n",
    "\n",
    "Zecevic P., Bonaci M. (2020) _Spark in Action_ Retireved from https://livebook.manning.com/book/spark-in-action/about-this-book/"
   ]
  }
 ],
 "metadata": {
  "kernelspec": {
   "display_name": "spylon-kernel",
   "language": "scala",
   "name": "spylon-kernel"
  },
  "language_info": {
   "codemirror_mode": "text/x-scala",
   "file_extension": ".scala",
   "help_links": [
    {
     "text": "MetaKernel Magics",
     "url": "https://metakernel.readthedocs.io/en/latest/source/README.html"
    }
   ],
   "mimetype": "text/x-scala",
   "name": "scala",
   "pygments_lexer": "scala",
   "version": "0.4.1"
  }
 },
 "nbformat": 4,
 "nbformat_minor": 4
}
