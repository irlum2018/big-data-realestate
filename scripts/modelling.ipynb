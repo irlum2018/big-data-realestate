{
 "cells": [
  {
   "cell_type": "markdown",
   "metadata": {},
   "source": [
    "### Preparing HDFS\n",
    "Using magic\n",
    "\n",
    "Create input folder on HDFS if not exists\n",
    "\n",
    "Copy from data from local\n",
    "\n",
    "<span style=\"color:red\"><em style=font-size:40px;>!</em>The following cells are basically a copy and paste of our assessment 1 submission"
   ]
  },
  {
   "cell_type": "code",
   "execution_count": 46,
   "metadata": {},
   "outputs": [
    {
     "name": "stdout",
     "output_type": "stream",
     "text": [
      "/home/big-data-realestate-master/scripts\n",
      "\n",
      "20/06/07 03:33:08 INFO fs.TrashPolicyDefault: Namenode trash configuration: Deletion interval = 0 minutes, Emptier interval = 0 minutes.\n",
      "\n",
      "\n",
      "Deleted /tmp/rs_input\n",
      "\n",
      "\n",
      "Found 1 items\n",
      "\n",
      "\n",
      "-rwxrwxrwx   1 1000 staff    5018236 2020-06-04 09:20 /tmp/rs_input/raw.csv\n",
      "\n",
      "\n"
     ]
    }
   ],
   "source": [
    "!pwd\n",
    "! hadoop fs -rm -R /tmp/rs_input\n",
    "! hadoop fs -mkdir -p  /tmp/rs_input\n",
    "! hadoop fs -put   -p  ./../data-raw/Melbourne_housing_FULL.csv             /tmp/rs_input/raw.csv\n",
    "! hadoop fs -ls        /tmp/rs_input/"
   ]
  },
  {
   "cell_type": "code",
   "execution_count": 47,
   "metadata": {},
   "outputs": [
    {
     "data": {
      "text/plain": [
       "df_raw: org.apache.spark.sql.DataFrame = [Suburb: string, Address: string ... 19 more fields]\n"
      ]
     },
     "execution_count": 47,
     "metadata": {},
     "output_type": "execute_result"
    }
   ],
   "source": [
    "//load raw into df\n",
    "val df_raw = spark\n",
    "    .read\n",
    "    .format(\"csv\")\n",
    "    .option(\"header\", \"true\")\n",
    "    .load(\"hdfs://localhost:9000/tmp/rs_input/raw.csv\")"
   ]
  },
  {
   "cell_type": "code",
   "execution_count": 48,
   "metadata": {},
   "outputs": [
    {
     "data": {
      "text/plain": [
       "df_working: org.apache.spark.sql.DataFrame = [Price: string, MethodOfSale: string ... 11 more fields]\n",
       "df_working: org.apache.spark.sql.DataFrame = [Price: string, MethodOfSale: string ... 11 more fields]\n"
      ]
     },
     "execution_count": 48,
     "metadata": {},
     "output_type": "execute_result"
    }
   ],
   "source": [
    "//only select columns we need now\n",
    "var df_working= df_raw.select(\"Price\",\n",
    "                          \"Method\",\n",
    "                          \"Type\",\n",
    "                          \"Distance\",\n",
    "                          \"Rooms\",\n",
    "                          \"Bathroom\",\n",
    "                          \"Car\",\n",
    "                          \"Landsize\",\n",
    "                          \"Lattitude\",\n",
    "                          \"Longtitude\",    \n",
    "                          \"Suburb\",\n",
    "                          \"Address\",\n",
    "                          \"Date\")\n",
    "\n",
    "\n",
    "//add meaningful to column names\n",
    "df_working = df_working.withColumnRenamed(\"Method\",\"MethodOfSale\")\n",
    "    .withColumnRenamed(\"Distance\",\"DistanceFromCBD\")\n",
    "    .withColumnRenamed(\"Type\",\"PropertyType\")\n",
    "    .withColumnRenamed(\"Lattitude\",\"Latitude\")"
   ]
  },
  {
   "cell_type": "code",
   "execution_count": 49,
   "metadata": {},
   "outputs": [
    {
     "data": {
      "text/plain": [
       "df_working: org.apache.spark.sql.DataFrame = [Price: string, MethodOfSale: string ... 11 more fields]\n"
      ]
     },
     "execution_count": 49,
     "metadata": {},
     "output_type": "execute_result"
    }
   ],
   "source": [
    "//when profiling there are a number of columns with a \"#N/A\" which need to be removed\n",
    "df_working = df_working.filter($\"DistanceFromCBD\" =!= \"#N/A\")"
   ]
  },
  {
   "cell_type": "code",
   "execution_count": 50,
   "metadata": {},
   "outputs": [
    {
     "data": {
      "text/plain": [
       "df_working: org.apache.spark.sql.DataFrame = [Price: double, MethodOfSale: string ... 11 more fields]\n"
      ]
     },
     "execution_count": 50,
     "metadata": {},
     "output_type": "execute_result"
    }
   ],
   "source": [
    "//refactored to remove the for column loop\n",
    "df_working = df_working.withColumn(\"Price\",col(\"Price\").cast(\"Double\"))\n",
    "    .withColumn(\"Rooms\",col(\"Rooms\").cast(\"Int\"))\n",
    "    .withColumn(\"DistanceFromCBD\",col(\"DistanceFromCBD\").cast(\"Double\"))\n",
    "    .withColumn(\"Bathroom\",col(\"Bathroom\").cast(\"Int\"))\n",
    "    .withColumn(\"Car\",col(\"Car\").cast(\"Int\"))\n",
    "    .withColumn(\"Landsize\",col(\"Landsize\").cast(\"Double\"))\n",
    "    .withColumn(\"Latitude\",col(\"Latitude\").cast(\"Double\"))\n",
    "    .withColumn(\"Longtitude\",col(\"Longtitude\").cast(\"Double\"))\n",
    "    "
   ]
  },
  {
   "cell_type": "code",
   "execution_count": 51,
   "metadata": {},
   "outputs": [
    {
     "data": {
      "text/plain": [
       "df_working: org.apache.spark.sql.DataFrame = [Price: double, MethodOfSale: string ... 11 more fields]\n",
       "df_working: org.apache.spark.sql.DataFrame = [Price: double, MethodOfSale: string ... 11 more fields]\n"
      ]
     },
     "execution_count": 51,
     "metadata": {},
     "output_type": "execute_result"
    }
   ],
   "source": [
    "//convert categorically values to ints\n",
    "//make sure the categorical type is upper\n",
    "df_working = df_working.withColumn(\"PropertyType\", upper(col(\"PropertyType\")))\n",
    "\n",
    "df_working = df_working.withColumn(\"PropertyType\",\n",
    "when(col(\"PropertyType\") === \"H\", \"1\")\n",
    ".when(col(\"PropertyType\") === \"U\", \"2\")\n",
    ".when(col(\"PropertyType\") ===\"T\", \"3\")\n",
    ".otherwise(\"0\"))"
   ]
  },
  {
   "cell_type": "code",
   "execution_count": 52,
   "metadata": {},
   "outputs": [
    {
     "data": {
      "text/plain": [
       "df_working: org.apache.spark.sql.DataFrame = [Price: double, MethodOfSale: string ... 11 more fields]\n"
      ]
     },
     "execution_count": 52,
     "metadata": {},
     "output_type": "execute_result"
    }
   ],
   "source": [
    "//convert categorically values to ints\n",
    "//make sure the categorical type is upper\n",
    "df_working = df_working.withColumn(\"MethodOfSale\", upper(col(\"MethodOfSale\")))"
   ]
  },
  {
   "cell_type": "code",
   "execution_count": 53,
   "metadata": {},
   "outputs": [
    {
     "data": {
      "text/plain": [
       "df_working: org.apache.spark.sql.DataFrame = [Price: double, MethodOfSale: string ... 11 more fields]\n"
      ]
     },
     "execution_count": 53,
     "metadata": {},
     "output_type": "execute_result"
    }
   ],
   "source": [
    "df_working = df_working.withColumn(\"MethodOfSale\",\n",
    "when(col(\"MethodOfSale\") === \"S\", \"1\")\n",
    ".when(col(\"MethodOfSale\") === \"SP\", \"2\")\n",
    ".when(col(\"MethodOfSale\") === \"PI\", \"3\")\n",
    ".when(col(\"MethodOfSale\") === \"PN\", \"4\")\n",
    ".when(col(\"MethodOfSale\") === \"SN\", \"5\")\n",
    ".when(col(\"MethodOfSale\") === \"VB\", \"6\")\n",
    ".when(col(\"MethodOfSale\") === \"W\", \"7\")\n",
    ".when(col(\"MethodOfSale\") === \"SA\", \"8\")\n",
    ".when(col(\"MethodOfSale\") === \"SS\", \"9\")                                \n",
    ".otherwise(\"0\"))"
   ]
  },
  {
   "cell_type": "code",
   "execution_count": 54,
   "metadata": {},
   "outputs": [
    {
     "data": {
      "text/plain": [
       "df_working: org.apache.spark.sql.DataFrame = [Price: double, MethodOfSale: int ... 11 more fields]\n"
      ]
     },
     "execution_count": 54,
     "metadata": {},
     "output_type": "execute_result"
    }
   ],
   "source": [
    "//cast categorical values to Ints\n",
    "//Not strictly needed with the one hot encoding later\n",
    "df_working = df_working.withColumn(\"PropertyType\",col(\"PropertyType\").cast(\"Int\"))\n",
    "    .withColumn(\"MethodOfSale\",col(\"MethodOfSale\").cast(\"Int\"))"
   ]
  },
  {
   "cell_type": "code",
   "execution_count": 55,
   "metadata": {},
   "outputs": [
    {
     "data": {
      "text/plain": [
       "df_working: org.apache.spark.sql.DataFrame = [Price: double, MethodOfSale: int ... 11 more fields]\n"
      ]
     },
     "execution_count": 55,
     "metadata": {},
     "output_type": "execute_result"
    }
   ],
   "source": [
    "// make first letter of suburb upper case\n",
    "df_working= df_working.withColumn(\"Suburb\", initcap(col(\"Suburb\")))"
   ]
  },
  {
   "cell_type": "code",
   "execution_count": 56,
   "metadata": {},
   "outputs": [
    {
     "data": {
      "text/plain": [
       "df_working: org.apache.spark.sql.DataFrame = [Price: double, MethodOfSale: int ... 12 more fields]\n"
      ]
     },
     "execution_count": 56,
     "metadata": {},
     "output_type": "execute_result"
    }
   ],
   "source": [
    "//split address on Street name and Suffix\n",
    "df_working = df_working.withColumn(\"StreetName\",split(col(\"Address\"),\" \").getItem(1)).\n",
    "    withColumn(\"StreetSuffix\",split(col(\"Address\"),\" \").getItem(2)).drop(\"Address\")"
   ]
  },
  {
   "cell_type": "code",
   "execution_count": 57,
   "metadata": {},
   "outputs": [
    {
     "data": {
      "text/plain": [
       "df_working: org.apache.spark.sql.DataFrame = [Price: double, MethodOfSale: int ... 12 more fields]\n",
       "df_working: org.apache.spark.sql.DataFrame = [Price: double, MethodOfSale: int ... 12 more fields]\n"
      ]
     },
     "execution_count": 57,
     "metadata": {},
     "output_type": "execute_result"
    }
   ],
   "source": [
    "//fix \"The Parade, The *** adddresses\"\n",
    "df_working = df_working.withColumn(\"StreetName\",\n",
    "when(col(\"StreetName\").like(\"The\"), concat(lit(\"The \"),col(\"StreetSuffix\")))\n",
    ".otherwise(col(\"StreetName\")))\n",
    "\n",
    "//remove the street suffix\n",
    "df_working = df_working.withColumn(\"StreetSuffix\",\n",
    "when(col(\"StreetName\").contains(\"The\"), lit(\"\"))\n",
    ".otherwise(col(\"StreetSuffix\")))"
   ]
  },
  {
   "cell_type": "code",
   "execution_count": 58,
   "metadata": {},
   "outputs": [
    {
     "data": {
      "text/plain": [
       "df_working: org.apache.spark.sql.DataFrame = [Price: double, MethodOfSale: int ... 11 more fields]\n"
      ]
     },
     "execution_count": 58,
     "metadata": {},
     "output_type": "execute_result"
    }
   ],
   "source": [
    "//Rebuild street name from cleaned tokens\n",
    "//this is approach was due to the legacy code we already had tokenizing the address so i just rejoined them\n",
    "//one could write a regex replace to remove the street numbers unit numbers etc. bu i know these columns are clean\n",
    "df_working = df_working.withColumn(\"StreetName\", concat(col(\"StreetName\"), lit(\" \"),col(\"StreetSuffix\"))).drop(\"StreetSuffix\")"
   ]
  },
  {
   "cell_type": "code",
   "execution_count": 59,
   "metadata": {},
   "outputs": [
    {
     "data": {
      "text/plain": [
       "df_working: org.apache.spark.sql.DataFrame = [Price: double, MethodOfSale: int ... 11 more fields]\n"
      ]
     },
     "execution_count": 59,
     "metadata": {},
     "output_type": "execute_result"
    }
   ],
   "source": [
    "// make first letter of Street upper case\n",
    "df_working= df_working.withColumn(\"StreetName\", initcap(col(\"StreetName\")))"
   ]
  },
  {
   "cell_type": "code",
   "execution_count": 60,
   "metadata": {},
   "outputs": [
    {
     "data": {
      "text/plain": [
       "df_working: org.apache.spark.sql.DataFrame = [Price: double, MethodOfSale: int ... 11 more fields]\n"
      ]
     },
     "execution_count": 60,
     "metadata": {},
     "output_type": "execute_result"
    }
   ],
   "source": [
    "//drop all properties with land area less than 12 sqm \n",
    "df_working = df_working.filter(!($\"Landsize\"<12))"
   ]
  },
  {
   "cell_type": "code",
   "execution_count": 61,
   "metadata": {},
   "outputs": [
    {
     "data": {
      "text/plain": [
       "df_working: org.apache.spark.sql.DataFrame = [Price: double, MethodOfSale: int ... 11 more fields]\n"
      ]
     },
     "execution_count": 61,
     "metadata": {},
     "output_type": "execute_result"
    }
   ],
   "source": [
    "//drop rows where type = h and landsize < 50 sqm\n",
    "df_working = df_working.filter(!($\"Landsize\"<50 && $\"PropertyType\"===1))"
   ]
  },
  {
   "cell_type": "code",
   "execution_count": 62,
   "metadata": {},
   "outputs": [
    {
     "data": {
      "text/plain": [
       "df_not_null: org.apache.spark.sql.DataFrame = [Price: double, MethodOfSale: int ... 11 more fields]\n"
      ]
     },
     "execution_count": 62,
     "metadata": {},
     "output_type": "execute_result"
    }
   ],
   "source": [
    "val df_not_null = df_working.na.drop()"
   ]
  },
  {
   "cell_type": "code",
   "execution_count": 63,
   "metadata": {},
   "outputs": [
    {
     "name": "stdout",
     "output_type": "stream",
     "text": [
      "root\n",
      " |-- Price: double (nullable = true)\n",
      " |-- MethodOfSale: integer (nullable = true)\n",
      " |-- PropertyType: integer (nullable = true)\n",
      " |-- DistanceFromCBD: double (nullable = true)\n",
      " |-- Rooms: integer (nullable = true)\n",
      " |-- Bathroom: integer (nullable = true)\n",
      " |-- Car: integer (nullable = true)\n",
      " |-- Landsize: double (nullable = true)\n",
      " |-- Latitude: double (nullable = true)\n",
      " |-- Longtitude: double (nullable = true)\n",
      " |-- Suburb: string (nullable = true)\n",
      " |-- Date: string (nullable = true)\n",
      " |-- StreetName: string (nullable = true)\n",
      "\n"
     ]
    }
   ],
   "source": [
    "df_not_null.printSchema()"
   ]
  },
  {
   "cell_type": "code",
   "execution_count": 64,
   "metadata": {},
   "outputs": [
    {
     "name": "stdout",
     "output_type": "stream",
     "text": [
      "20/06/07 03:33:20 INFO fs.TrashPolicyDefault: Namenode trash configuration: Deletion interval = 0 minutes, Emptier interval = 0 minutes.\n",
      "\n",
      "\n",
      "Deleted /tmp/output\n",
      "\n",
      "\n"
     ]
    }
   ],
   "source": [
    "! hadoop fs -rm -R /tmp/output\n",
    "! hadoop fs -mkdir -p /tmp/output"
   ]
  },
  {
   "cell_type": "code",
   "execution_count": 65,
   "metadata": {},
   "outputs": [
    {
     "data": {
      "text/plain": [
       "df_output: Unit = ()\n"
      ]
     },
     "execution_count": 65,
     "metadata": {},
     "output_type": "execute_result"
    }
   ],
   "source": [
    "//this coalesce and write out isn't necessary if doing e2e\n",
    "val df_output = df_not_null.coalesce(1)\n",
    "   .write\n",
    "   .format(\"csv\")\n",
    "   .option(\"header\",\"true\")\n",
    "   .mode(\"overwrite\").option(\"sep\",\",\")\n",
    "   .save(\"hdfs://localhost:9000/tmp/output\")"
   ]
  },
  {
   "cell_type": "code",
   "execution_count": 66,
   "metadata": {
    "scrolled": true
   },
   "outputs": [],
   "source": [
    "! hadoop fs -mkdir -p /tmp/output\n",
    "! rm ./../data-clean/cleanMelbourneData.csv\n",
    "! hadoop fs -copyToLocal /tmp/output/\\*.csv ./../data-clean/cleanMelbourneData.csv"
   ]
  },
  {
   "cell_type": "markdown",
   "metadata": {},
   "source": [
    "##  <span style=\"color:red\"><em style=font-size:40px;>!</em>Assessment 2 Modelling etc. Starts from here\n"
   ]
  },
  {
   "cell_type": "markdown",
   "metadata": {},
   "source": [
    "## Import Data\n",
    "Here you have the option to just start from the outputed file from the wrangling if that has been ran before. \n",
    "Or can go e2e\n",
    "\n",
    "I think ideally we would want to move from output to a new input folder somewhere on HDFS"
   ]
  },
  {
   "cell_type": "code",
   "execution_count": 67,
   "metadata": {},
   "outputs": [
    {
     "data": {
      "text/plain": [
       "df_clean: org.apache.spark.sql.DataFrame = [Price: double, MethodOfSale: int ... 11 more fields]\n"
      ]
     },
     "execution_count": 67,
     "metadata": {},
     "output_type": "execute_result"
    }
   ],
   "source": [
    "//use the set wrangled from above\n",
    "var df_clean = df_not_null"
   ]
  },
  {
   "cell_type": "markdown",
   "metadata": {},
   "source": [
    "### Load from saved local file\n",
    "\n",
    "ctrl + / or cmd + / should can comment / uncomment selections"
   ]
  },
  {
   "cell_type": "code",
   "execution_count": 68,
   "metadata": {},
   "outputs": [],
   "source": [
    "// ! hadoop fs -mkdir -p  /tmp/output\n",
    "// ! hadoop fs -put   -p  ./../data-clean/cleanMelbourneData.csv  /tmp/output  "
   ]
  },
  {
   "cell_type": "code",
   "execution_count": 69,
   "metadata": {},
   "outputs": [],
   "source": [
    "// // Load Clean Dataset into a DataFrame from HDFS after wrangling is completed\n",
    "// var df_clean = spark\n",
    "//     .read\n",
    "//     .format(\"csv\")\n",
    "//     .option(\"header\", \"true\")\n",
    "//     .load(\"hdfs://localhost:9000/tmp/input/*.csv\")\n",
    "// df_clean.cache()\n",
    "\n",
    "// //when we use the output from the wrangle \n",
    "// //this can be removed as types should be fine\n",
    "// df_clean = df_clean.withColumn(\"Price\",col(\"Price\").cast(\"Double\"))\n",
    "//     .withColumn(\"Rooms\",col(\"Rooms\").cast(\"Int\"))\n",
    "//     .withColumn(\"DistanceFromCBD\",col(\"DistanceFromCBD\").cast(\"Double\"))\n",
    "//     .withColumn(\"MethodOfSale\",col(\"MethodOfSale\").cast(\"Int\"))\n",
    "//     .withColumn(\"PropertyType\",col(\"PropertyType\").cast(\"Int\"))\n",
    "//     .withColumn(\"Bathroom\",col(\"Bathroom\").cast(\"Int\"))\n",
    "//     .withColumn(\"Car\",col(\"Car\").cast(\"Int\"))\n",
    "//     .withColumn(\"Landsize\",col(\"Landsize\").cast(\"Double\"))\n",
    "//     .withColumn(\"Latitude\",col(\"Latitude\").cast(\"Double\"))\n",
    "//     .withColumn(\"Longtitude\",col(\"Longtitude\").cast(\"Double\"))\n"
   ]
  },
  {
   "cell_type": "code",
   "execution_count": 77,
   "metadata": {},
   "outputs": [
    {
     "name": "stdout",
     "output_type": "stream",
     "text": [
      "root\n",
      " |-- Price: double (nullable = true)\n",
      " |-- MethodOfSale: integer (nullable = true)\n",
      " |-- PropertyType: integer (nullable = true)\n",
      " |-- DistanceFromCBD: double (nullable = true)\n",
      " |-- Rooms: integer (nullable = true)\n",
      " |-- Bathroom: integer (nullable = true)\n",
      " |-- Car: integer (nullable = true)\n",
      " |-- Landsize: double (nullable = true)\n",
      " |-- Latitude: double (nullable = true)\n",
      " |-- Longtitude: double (nullable = true)\n",
      " |-- Suburb: string (nullable = true)\n",
      " |-- Date: long (nullable = true)\n",
      " |-- StreetName: string (nullable = true)\n",
      " |-- loggedPrice: double (nullable = true)\n",
      "\n"
     ]
    },
    {
     "data": {
      "text/plain": [
       "res21: Long = 15728\n"
      ]
     },
     "execution_count": 77,
     "metadata": {},
     "output_type": "execute_result"
    }
   ],
   "source": [
    "//debug check file load\n",
    "df_clean.cache()\n",
    "df_clean.printSchema()\n",
    "df_clean.count()"
   ]
  },
  {
   "cell_type": "markdown",
   "metadata": {},
   "source": [
    " ### Check Spark Parameters"
   ]
  },
  {
   "cell_type": "code",
   "execution_count": 71,
   "metadata": {
    "scrolled": false
   },
   "outputs": [
    {
     "name": "stdout",
     "output_type": "stream",
     "text": [
      "(spark.driver.port,46549)\n",
      "(spark.driver.host,a56a95a92af2)\n",
      "(spark.rdd.compress,True)\n",
      "(spark.repl.class.outputDir,/tmp/tmpmtmmykdx)\n",
      "(spark.serializer.objectStreamReset,100)\n",
      "(spark.master,local[*])\n",
      "(spark.executor.id,driver)\n",
      "(spark.submit.deployMode,client)\n",
      "(spark.repl.class.uri,spark://a56a95a92af2:46549/classes)\n",
      "(spark.app.name,spylon-kernel)\n",
      "(spark.ui.showConsoleProgress,true)\n",
      "(spark.app.id,local-1591268382740)\n"
     ]
    },
    {
     "data": {
      "text/plain": [
       "import org.apache.spark.sql.SparkSession\n",
       "import org.apache.spark.{SparkConf, SparkContext}\n",
       "cs: org.apache.spark.SparkConf = org.apache.spark.SparkConf@2bc18d0c\n"
      ]
     },
     "execution_count": 71,
     "metadata": {},
     "output_type": "execute_result"
    }
   ],
   "source": [
    "import org.apache.spark.sql.SparkSession\n",
    "import org.apache.spark.{SparkConf,SparkContext}\n",
    "\n",
    "val cs = spark.sparkContext.getConf\n",
    "sc.getConf.getAll.foreach { println }"
   ]
  },
  {
   "cell_type": "markdown",
   "metadata": {},
   "source": [
    "### Construct vectors from attributes\n",
    "#### Transform Sale Date into a numeric value"
   ]
  },
  {
   "cell_type": "code",
   "execution_count": 72,
   "metadata": {
    "scrolled": true
   },
   "outputs": [
    {
     "data": {
      "text/plain": [
       "df_clean: org.apache.spark.sql.DataFrame = [Price: double, MethodOfSale: int ... 11 more fields]\n"
      ]
     },
     "execution_count": 72,
     "metadata": {},
     "output_type": "execute_result"
    }
   ],
   "source": [
    "//does this don't do much for Pat's LR model\n",
    "//so i removed it, but i have left it here incase others used it\n",
    "df_clean = df_clean.withColumn(\"Date\",unix_timestamp($\"Date\", \"dd/mm/yyyy\"))"
   ]
  },
  {
   "cell_type": "code",
   "execution_count": 73,
   "metadata": {
    "scrolled": true
   },
   "outputs": [
    {
     "data": {
      "text/plain": [
       "import org.apache.spark.ml.feature.{FeatureHasher, OneHotEncoder, VectorAssembler}\n",
       "featureColumnNames: Array[String] = Array(MethodOfSale, PropertyType, DistanceFromCBD, Rooms, Bathroom, Car, Landsize, Latitude, Longtitude, Suburb, Date, StreetName)\n",
       "categoricalFeatureColumnNames: Array[String] = Array(MethodOfSale, PropertyType, Suburb, StreetName)\n",
       "hasher: org.apache.spark.ml.feature.FeatureHasher = featureHasher_ad6b5228e374\n"
      ]
     },
     "execution_count": 73,
     "metadata": {},
     "output_type": "execute_result"
    }
   ],
   "source": [
    "import org.apache.spark.ml.feature.{FeatureHasher,OneHotEncoder,VectorAssembler}\n",
    "\n",
    "//PK i have refactored the separte instances of hashers, encoders and assemblers to just using the feature hasher\n",
    "//this will handle all the categorical items and and one hot encoding in single call\n",
    "\n",
    "//set the feature names\n",
    "val featureColumnNames= Array(\"MethodOfSale\",\n",
    "            \"PropertyType\",\n",
    "            \"DistanceFromCBD\",\n",
    "            \"Rooms\",\n",
    "            \"Bathroom\",\n",
    "            \"Car\",\n",
    "            \"Landsize\",\n",
    "            \"Latitude\",\n",
    "            \"Longtitude\",\n",
    "            \"Suburb\",\n",
    "            \"Date\",\n",
    "            \"StreetName\")\n",
    "\n",
    "\n",
    "//set the categorical names\n",
    "val categoricalFeatureColumnNames= Array(\"MethodOfSale\",\n",
    "            \"PropertyType\",\n",
    "            \"Suburb\",\n",
    "            \"StreetName\")\n",
    "\n",
    "//define hasher\n",
    "val hasher = new FeatureHasher()\n",
    "  .setInputCols(featureColumnNames)\n",
    "  .setCategoricalCols(categoricalFeatureColumnNames)\n",
    "  .setOutputCol(\"hashedFeatures\")\n"
   ]
  },
  {
   "cell_type": "markdown",
   "metadata": {},
   "source": [
    "### Apply Log transformation to price"
   ]
  },
  {
   "cell_type": "code",
   "execution_count": 75,
   "metadata": {
    "scrolled": true
   },
   "outputs": [
    {
     "data": {
      "text/plain": [
       "df_clean: org.apache.spark.sql.DataFrame = [Price: double, MethodOfSale: int ... 12 more fields]\n"
      ]
     },
     "execution_count": 75,
     "metadata": {},
     "output_type": "execute_result"
    }
   ],
   "source": [
    "df_clean = df_clean.withColumn(\"loggedPrice\", log($\"Price\"))"
   ]
  },
  {
   "cell_type": "code",
   "execution_count": 110,
   "metadata": {
    "scrolled": true
   },
   "outputs": [
    {
     "name": "stdout",
     "output_type": "stream",
     "text": [
      "+------------------+\n",
      "|       loggedPrice|\n",
      "+------------------+\n",
      "|14.207552645740298|\n",
      "|13.849911984681606|\n",
      "|14.197365800433305|\n",
      "|13.652991628466498|\n",
      "+------------------+\n",
      "only showing top 4 rows\n",
      "\n"
     ]
    }
   ],
   "source": [
    "df_clean.select(\"loggedPrice\").show(4)"
   ]
  },
  {
   "cell_type": "code",
   "execution_count": 114,
   "metadata": {},
   "outputs": [
    {
     "name": "stdout",
     "output_type": "stream",
     "text": [
      "+---------+------------------+\n",
      "|    Price|      PriceAntilog|\n",
      "+---------+------------------+\n",
      "|1480000.0|1480000.0000000007|\n",
      "|1035000.0|1034999.9999999997|\n",
      "|1465000.0|1465000.0000000005|\n",
      "| 850000.0| 849999.9999999994|\n",
      "|1600000.0| 1600000.000000001|\n",
      "| 941000.0| 940999.9999999994|\n",
      "|1876000.0|1876000.0000000012|\n",
      "|1636000.0| 1635999.999999999|\n",
      "|1097000.0|1096999.9999999995|\n",
      "|1350000.0|1350000.0000000002|\n",
      "+---------+------------------+\n",
      "only showing top 10 rows\n",
      "\n"
     ]
    }
   ],
   "source": [
    "//check the antilog - introduces a slight rounding error\n",
    "//could fix in future\n",
    "df_clean.withColumn(\"PriceAntilog\", exp((col(\"loggedPrice\")))).select(\"Price\",\"PriceAntilog\").show(10)"
   ]
  },
  {
   "cell_type": "markdown",
   "metadata": {},
   "source": [
    "### Split Data into a Training and a Testing Set"
   ]
  },
  {
   "cell_type": "code",
   "execution_count": 78,
   "metadata": {},
   "outputs": [
    {
     "name": "stdout",
     "output_type": "stream",
     "text": [
      "10206\n",
      "3154\n"
     ]
    },
    {
     "data": {
      "text/plain": [
       "import org.apache.spark.sql.DataFrame\n",
       "import org.apache.spark.sql.functions._\n",
       "train_test_split: (data: org.apache.spark.sql.DataFrame)(org.apache.spark.sql.Dataset[org.apache.spark.sql.Row], org.apache.spark.sql.Dataset[org.apache.spark.sql.Row])\n",
       "train: org.apache.spark.sql.Dataset[org.apache.spark.sql.Row] = [Price: double, MethodOfSale: int ... 12 more fields]\n",
       "test: org.apache.spark.sql.Dataset[org.apache.spark.sql.Row] = [Price: double, MethodOfSale: int ... 12 more fields]\n"
      ]
     },
     "execution_count": 78,
     "metadata": {},
     "output_type": "execute_result"
    }
   ],
   "source": [
    "//define function to take a data frame and set training and test samples\n",
    "//stratafied sample on propertype type\n",
    "//original random sample may have been skewing the model\n",
    "//used propertype as the prices vary wildly based on the type \n",
    "\n",
    "//idea is split into training and testing - then stratify the training set so its balanced.\n",
    "\n",
    "//https://maet3608.github.io/nuts-ml/tutorial/split_stratify.html#id1\n",
    "\n",
    "import org.apache.spark.sql.DataFrame\n",
    "import org.apache.spark.sql.functions._\n",
    "\n",
    "\n",
    "def train_test_split(data: DataFrame) = {\n",
    "    \n",
    "    //split into 80% 20%\n",
    "    var Array(train, test) = data.randomSplit(Array(0.8, 0.2), seed = 30)\n",
    "    \n",
    "    //Stratified sampler\n",
    "    //want to over sample the other propertyTypes\n",
    "    val fractions = Map(1 -> 0.8,2 ->0.9, 3 -> 0.9)\n",
    "\n",
    "     train = train.stat.sampleBy(\"PropertyType\",fractions,36L)\n",
    "    \n",
    "    (train, test)\n",
    "}\n",
    "\n",
    "val (train, test) = train_test_split(df_clean)\n",
    "\n",
    "train.cache()\n",
    "test.cache()\n",
    "\n",
    "//debug sample counts\n",
    "//println(train.count())\n",
    "//println(test.count())"
   ]
  },
  {
   "cell_type": "markdown",
   "metadata": {},
   "source": [
    "### 1. Apply Linear Regression\n"
   ]
  },
  {
   "cell_type": "markdown",
   "metadata": {},
   "source": [
    "###  Useful Specs for this section \n",
    "\n",
    "Feel free to move to references i guess\n",
    "\n",
    "https://spark.apache.org/docs/latest/api/scala/index.html#org.apache.spark.ml.regression.LinearRegression\n",
    "\n",
    "https://spark.apache.org/docs/latest/api/scala/index.html#org.apache.spark.ml.tuning.ParamGridBuilder\n",
    "\n",
    "https://spark.apache.org/docs/latest/api/scala/index.html#org.apache.spark.ml.feature.FeatureHasher\n",
    "\n",
    "https://spark.apache.org/docs/latest/ml-classification-regression.html#linear-regression\n",
    "\n",
    "https://spark.apache.org/docs/latest/mllib-evaluation-metrics.html#regression-model-evaluation\n",
    "\n",
    "https://spark.apache.org/docs/1.6.2/api/java/org/apache/spark/sql/DataFrameStatFunctions.html#sampleBy(java.lang.String,%20java.util.Map,%20long)\n",
    "\n",
    "\n",
    "\n",
    "\n",
    "\n",
    "\n"
   ]
  },
  {
   "cell_type": "code",
   "execution_count": 81,
   "metadata": {
    "scrolled": true
   },
   "outputs": [
    {
     "data": {
      "text/plain": [
       "import org.apache.spark.ml.regression.LinearRegression\n",
       "import org.apache.spark.ml.evaluation.RegressionEvaluator\n",
       "import org.apache.spark.ml.tuning.{CrossValidator, ParamGridBuilder}\n",
       "import org.apache.spark.ml.param.ParamMap\n",
       "import org.apache.spark.ml.Pipeline\n"
      ]
     },
     "execution_count": 81,
     "metadata": {},
     "output_type": "execute_result"
    }
   ],
   "source": [
    "//imports for linear regression code in one spot\n",
    "//to be moved with other imports to start\n",
    "\n",
    "import org.apache.spark.ml.regression.LinearRegression\n",
    "import org.apache.spark.ml.evaluation.RegressionEvaluator\n",
    "import org.apache.spark.ml.tuning.{CrossValidator, ParamGridBuilder}\n",
    "import org.apache.spark.ml.param.ParamMap\n",
    "import org.apache.spark.ml.Pipeline"
   ]
  },
  {
   "cell_type": "code",
   "execution_count": 82,
   "metadata": {},
   "outputs": [
    {
     "data": {
      "text/plain": [
       "getExecutionTime: (start: Long, end: Long)Long\n"
      ]
     },
     "execution_count": 82,
     "metadata": {},
     "output_type": "execute_result"
    }
   ],
   "source": [
    "//function for getting execution time from start and end times\n",
    "def getExecutionTime(start: Long , end : Long) = {\n",
    "    val duration:Long = (end - start) / 1000\n",
    "    (duration)\n",
    "}"
   ]
  },
  {
   "cell_type": "markdown",
   "metadata": {},
   "source": [
    "### Run first LR model with default Params\n",
    "Assess the training set"
   ]
  },
  {
   "cell_type": "code",
   "execution_count": 83,
   "metadata": {
    "scrolled": true
   },
   "outputs": [
    {
     "name": "stdout",
     "output_type": "stream",
     "text": [
      "Coefficients: (262144,[23,38,85,200,209,238,240,246,345,403,441,457,508,510,562,589,603,614,619,651,706,709,743,764,845,936,943,950,1004,1025,1031,1059,1179,1249,1272,1340,1364,1382,1408,1438,1476,1512,1603,1750,1764,1815,1874,1876,1940,2065,2079,2090,2158,2242,2284,2307,2354,2389,2398,2476,2536,2620,2630,2669,2695,2702,2760,2764,2807,2835,2933,2940,3036,3101,3161,3179,3187,3208,3276,3290,3298,3351,3403,3447,3490,3556,3640,3667,3677,3735,3846,3849,3894,3996,4080,4091,4092,4093,4127,4160,4223,4266,4278,4381,4396,4411,4447,4462,4496,4549,4566,4614,4652,4656,4688,4694,4768,4780,4788,4804,4838,4843,4878,4890,4914,4960,4970,5009,5030,5125,5147,5154,5160,5166,5196,5261,5409,5417,5442,5504,5510,5516,5540,5569,5580,5632,5646,5700,5753,5777,6144,6186,6204,6239,6349,6366,6371,6463,6484,6503,6509,6512,6637,6645,6701,6732,6756,6904,6917,6943,6947,6951,6983,6998,7068,7101,7145,7202,7210,7248,7265,7326,7329,7333,7369,7385,7393,7408,7458,7560,7564,7591,7612,7617,7634,7645,7665,7783,7785,7826,7903,7916,7968,7995,8039,8058,8154,8159,8218,8234,8369,8431,8551,8577,8614,8635,8656,8716,8768,8811,8837,8865,8911,8964,9114,9254,9442,9460,9465,9476,9477,9643,9708,9760,9853,9905,9920,9928,10000,10025,10033,10085,10191,10353,10362,10409,10448,10545,10548,10769,10770,10772,10817,10912,10951,11016,11051,11101,11108,11134,11147,11160,11186,11220,11278,11282,11307,11373,11393,11404,11459,11663,11681,11770,11840,11850,11882,11979,12009,12011,12021,12032,12034,12035,12045,12053,12064,12102,12147,12159,12163,12197,12280,12298,12338,12343,12455,12481,12525,12534,12564,12628,12707,12734,12749,12773,12886,12904,12909,12935,13034,13037,13059,13076,13079,13122,13222,13266,13357,13362,13373,13392,13491,13504,13525,13554,13566,13738,13742,13775,13941,13952,13984,14002,14003,14029,14044,14100,14207,14266,14275,14287,14315,14450,14495,14505,14549,14589,14601,14661,14782,14808,14938,14968,15021,15023,15051,15138,15151,15231,15370,15436,15456,15548,15656,15691,15741,15756,15780,15802,15809,15822,15847,15935,15955,15997,16012,16021,16069,16115,16134,16137,16166,16198,16281,16301,16374,16438,16442,16484,16501,16611,16619,16626,16652,16657,16723,16747,16800,16816,16818,16823,16880,16881,16890,16930,16973,16978,17134,17239,17411,17415,17430,17431,17450,17451,17565,17570,17574,17659,17859,17861,17864,17887,17994,18014,18064,18100,18188,18217,18263,18294,18553,18576,18606,18607,18751,18807,18850,18861,18961,18996,18998,19015,19090,19138,19252,19282,19339,19450,19513,19524,19535,19623,19643,19648,19679,19709,19719,19829,19841,19996,20022,20193,20375,20635,20655,20667,20680,20694,20711,20803,20915,20989,21033,21047,21092,21151,21160,21218,21238,21302,21475,21501,21527,21598,21622,21660,21723,21813,21833,21883,21956,21978,21990,22056,22076,22124,22142,22146,22182,22265,22379,22387,22398,22418,22445,22461,22567,22583,22606,22695,22765,22766,22783,22865,22942,22981,23001,23002,23005,23009,23045,23094,23119,23164,23174,23193,23269,23315,23333,23499,23659,23665,23714,23720,23762,23846,23855,23859,24007,24023,24048,24054,24092,24096,24103,24228,24274,24312,24344,24423,24431,24438,24485,24536,24607,24760,24785,24881,24910,24916,24930,24934,24935,24973,25002,25059,25087,25138,25405,25456,25539,25565,25666,25696,25706,25870,25876,25897,25918,25990,26044,26066,26105,26133,26162,26191,26214,26216,26241,26305,26306,26359,26396,26445,26475,26568,26675,26694,26697,26727,26733,26738,26760,26766,26842,26847,26872,26902,27072,27092,27099,27127,27131,27207,27307,27356,27384,27385,27388,27439,27454,27465,27731,27779,27897,27903,27974,27990,27992,27994,28104,28147,28164,28223,28234,28235,28267,28328,28363,28445,28458,28505,28578,28629,28642,28761,28780,28803,28804,28863,28895,28914,28916,28960,29033,29087,29090,29212,29223,29253,29290,29331,29336,29380,29385,29542,29606,29660,29728,29773,29817,29869,29882,30015,30124,30311,30353,30411,30437,30498,30501,30565,30603,30678,30720,30728,30876,30899,30922,31025,31063,31108,31111,31116,31177,31237,31255,31256,31374,31394,31431,31470,31581,31670,31733,31762,31771,31938,31974,32025,32070,32142,32157,32158,32177,32311,32343,32440,32454,32458,32467,32494,32503,32575,32624,32699,32725,32739,32764,32794,32818,32828,32974,32995,33110,33126,33184,33217,33232,33238,33258,33274,33278,33281,33305,33341,33434,33544,33551,33659,33772,33800,33960,33997,34044,34059,34066,34071,34092,34098,34153,34245,34288,34367,34400,34411,34419,34457,34499,34580,34602,34615,34715,34749,34834,34897,34922,35062,35150,35199,35225,35303,35359,35376,35413,35423,35583,35615,35702,35730,35761,35782,35811,35880,35891,36025,36031,36048,36091,36157,36160,36258,36327,36443,36465,36485,36584,36653,36771,36823,36844,36860,36879,36938,37048,37096,37152,37224,37227,37279,37320,37385,37402,37444,37462,37626,37638,37754,37755,37817,37848,37879,38012,38035,38057,38112,38146,38148,38157,38191,38218,38223,38226,38256,38311,38351,38389,38460,38534,38620,38624,38628,38718,38762,38781,38810,38830,38846,39006,39007,39023,39034,39437,39441,39522,39527,39539,39545,39612,39636,39676,39680,39699,39703,39707,39830,39855,39991,40030,40126,40151,40188,40242,40293,40393,40403,40445,40518,40632,40718,40864,40879,40909,40949,40954,40982,41055,41138,41171,41261,41262,41332,41353,41371,41481,41548,41658,41777,41855,41888,41897,42024,42052,42061,42066,42122,42129,42142,42176,42213,42215,42235,42342,42349,42437,42445,42464,42506,42590,42638,42660,42733,42785,42931,42998,43018,43075,43079,43183,43322,43373,43381,43608,43721,43744,43796,43842,43863,43898,43925,43935,44161,44162,44193,44213,44239,44264,44379,44425,44504,44537,44641,44663,44675,44684,44716,44758,44810,45054,45060,45142,45214,45230,45283,45306,45309,45425,45448,45497,45499,45586,45615,45690,45702,45718,45721,45733,45735,45767,45862,45875,45962,45981,46097,46146,46164,46178,46218,46221,46282,46395,46407,46417,46467,46562,46569,46616,46681,46720,46735,46786,46884,46904,46972,46995,47019,47071,47082,47134,47142,47172,47187,47224,47231,47252,47463,47548,47758,47777,47845,47851,47970,48019,48065,48075,48078,48126,48230,48242,48475,48508,48511,48571,48681,48730,48772,48818,48843,48883,48915,48931,48952,48970,49069,49080,49137,49307,49319,49416,49450,49469,49519,49599,49716,49815,49823,49872,49901,49957,49978,49993,50116,50187,50260,50336,50379,50382,50490,50498,50550,50574,50658,50677,50769,50807,50874,50985,50999,51023,51047,51063,51114,51147,51250,51304,51327,51410,51414,51429,51446,51460,51475,51500,51517,51583,51659,51690,51698,51717,51890,52073,52154,52258,52328,52473,52519,52680,52805,52851,52858,52912,52917,52931,52937,53018,53025,53026,53035,53046,53127,53172,53188,53211,53307,53435,53449,53462,53466,53591,53601,53644,53732,53747,53762,53763,53835,53936,53960,53976,53998,54009,54031,54071,54209,54316,54452,54662,54691,54726,54762,54831,54869,54943,54999,55033,55101,55107,55117,55161,55173,55218,55247,55278,55338,55350,55377,55416,55463,55575,55626,55730,55806,55910,55971,55983,56116,56241,56274,56320,56359,56458,56571,56613,56641,56685,56734,56808,56823,56901,56905,56912,56944,57000,57026,57119,57182,57188,57247,57264,57443,57505,57591,57665,57713,57842,57888,57898,57964,57970,57990,58145,58243,58290,58326,58401,58514,58630,58668,58759,58985,59086,59157,59217,59291,59309,59330,59376,59389,59494,59560,59589,59653,59674,59687,59694,59699,59706,59754,59822,59856,59869,59894,59906,59936,59945,59991,60017,60064,60093,60108,60168,60356,60377,60385,60442,60555,60556,60585,60604,60617,60708,60735,60840,60908,60989,61024,61050,61092,61234,61244,61272,61319,61348,61354,61408,61454,61578,61594,61707,61724,61728,61777,61838,61873,61929,61997,62058,62094,62179,62220,62253,62256,62259,62302,62314,62356,62389,62409,62478,62501,62552,62574,62579,62588,62601,62627,62674,62742,62786,62794,62803,62806,62808,62910,62951,63007,63010,63043,63253,63313,63356,63364,63487,63515,63602,63613,63756,63757,63792,63812,63846,63851,63855,63913,63942,63977,64094,64095,64138,64148,64243,64254,64303,64605,64624,64645,64646,64655,64669,64695,64743,64783,64835,64881,64938,64946,65000,65031,65102,65196,65204,65206,65253,65257,65275,65292,65295,65343,65354,65500,65519,65542,65577,65596,65620,65631,65678,65682,65722,65745,65787,65799,65814,65894,65913,65914,65924,65933,66024,66042,66070,66162,66203,66360,66488,66552,66639,66655,66667,66722,66766,66791,66840,66880,66919,66976,67196,67233,67251,67269,67279,67395,67398,67399,67443,67452,67460,67700,67718,67828,67863,67874,67924,67939,67960,67969,68176,68193,68205,68221,68307,68340,68407,68464,68492,68531,68590,68654,68667,68692,68743,68802,68868,68927,68948,69057,69149,69172,69265,69268,69293,69312,69354,69372,69484,69560,69565,69654,69736,69739,69751,69831,69845,70024,70064,70117,70217,70221,70230,70233,70234,70275,70311,70326,70358,70359,70390,70467,70589,70851,70882,70928,71002,71050,71148,71167,71186,71219,71348,71372,71449,71483,71494,71496,71546,71576,71661,71755,71914,71928,71940,72032,72066,72067,72099,72133,72158,72218,72245,72473,72505,72602,72624,72631,72645,72704,72728,72733,72755,72794,72891,72910,72919,72973,72980,73010,73062,73100,73175,73338,73408,73460,73501,73511,73515,73572,73575,73577,73638,73649,73708,73726,73809,73863,73906,73943,73977,74026,74052,74111,74114,74121,74183,74226,74232,74235,74236,74263,74269,74281,74298,74337,74369,74375,74432,74470,74553,74625,74696,74775,74783,74786,74844,74934,75012,75082,75090,75097,75140,75167,75257,75258,75275,75292,75313,75375,75405,75470,75477,75485,75714,75767,75830,75880,75910,75982,76027,76039,76079,76243,76283,76299,76303,76312,76334,76350,76402,76422,76435,76492,76716,76719,76763,76816,76836,76841,76966,76970,76991,77127,77132,77163,77208,77244,77295,77372,77470,77478,77482,77515,77574,77605,77606,77616,77703,77707,77722,77726,77783,77789,77790,77829,77853,77953,77962,77985,78025,78027,78100,78178,78230,78285,78399,78421,78444,78716,78777,78847,78891,78899,78931,78942,79026,79048,79056,79066,79152,79228,79269,79294,79326,79331,79338,79440,79484,79526,79528,79600,79832,79857,79883,79888,80028,80091,80234,80279,80292,80353,80468,80489,80527,80593,80600,80723,80866,80898,80941,80980,81009,81025,81084,81150,81229,81279,81317,81370,81403,81453,81488,81506,81561,81655,81668,81676,81741,81749,81796,81824,81874,81912,82064,82102,82117,82167,82266,82316,82361,82379,82467,82525,82527,82598,82649,82701,82708,82748,82794,82829,82854,82895,82978,83012,83090,83194,83364,83407,83421,83480,83504,83575,83599,83604,83663,83679,83837,83868,83906,83917,83955,83978,83991,84013,84068,84218,84292,84324,84409,84455,84502,84566,84648,84688,84701,84739,84882,84909,84913,84959,85003,85018,85075,85141,85147,85167,85251,85259,85300,85374,85376,85425,85476,85543,85561,85563,85606,85636,85684,85689,85714,85734,85754,85780,85881,85961,86022,86106,86131,86147,86255,86276,86412,86424,86518,86611,86668,86687,86720,86747,86755,86765,86807,86957,86961,86981,87003,87016,87044,87047,87077,87079,87170,87197,87249,87292,87367,87373,87418,87456,87576,87598,87630,87634,87671,87701,87724,87780,87790,87895,87995,88009,88139,88141,88161,88211,88324,88434,88451,88453,88457,88485,88576,88588,88652,88668,88712,88784,88839,88873,88892,89000,89012,89086,89118,89202,89322,89335,89349,89393,89415,89423,89526,89664,89673,89913,89922,89950,90042,90116,90175,90207,90220,90290,90305,90343,90378,90397,90446,90484,90507,90515,90588,90645,90701,90796,90816,90846,90864,90874,90888,90901,90971,90975,90977,91032,91148,91157,91210,91333,91335,91341,91621,91630,91687,91735,91754,91846,91890,91973,92098,92113,92131,92140,92145,92153,92175,92207,92209,92251,92256,92266,92282,92356,92379,92387,92456,92484,92541,92727,92873,92882,92976,92979,92983,93056,93062,93098,93151,93203,93219,93281,93317,93374,93454,93458,93554,93578,93587,93644,93645,93682,93685,93752,93836,93865,93883,93907,94017,94023,94025,94031,94045,94098,94105,94111,94167,94320,94322,94391,94392,94394,94429,94435,94444,94598,94673,94729,94748,94778,94827,94839,94855,94859,94960,94979,95131,95157,95191,95262,95264,95276,95327,95339,95363,95548,95550,95638,95676,95783,95831,95860,95866,95870,95896,95934,96138,96155,96339,96358,96420,96441,96461,96535,96542,96560,96579,96640,96669,96682,96697,96712,96728,96790,96807,96820,96914,97094,97185,97261,97264,97316,97332,97389,97426,97483,97548,97551,97560,97573,97634,97653,97663,97710,97797,97902,97905,97949,97993,98074,98105,98153,98162,98243,98267,98311,98370,98373,98379,98385,98411,98413,98589,98607,98633,98790,98898,99001,99031,99219,99262,99276,99325,99485,99508,99603,99656,99724,99725,99737,99789,99796,99806,99844,99990,100118,100190,100192,100245,100309,100354,100371,100402,100412,100418,100482,100580,100603,100613,100687,100693,100709,100752,100754,100829,100868,101059,101194,101249,101277,101281,101351,101633,101743,101806,101821,101830,101837,101877,101926,102021,102098,102182,102189,102239,102304,102312,102361,102447,102582,102597,102599,102619,102674,102710,102720,102764,102808,102869,102922,102923,103009,103013,103069,103182,103383,103418,103736,103846,103873,103907,103922,104001,104004,104179,104186,104200,104321,104365,104395,104505,104530,104551,104590,104639,104679,104703,104723,104843,104884,104896,104898,104935,104979,104990,105041,105050,105171,105270,105314,105451,105482,105524,105564,105623,105655,105665,105744,105746,105749,105836,105894,105916,105938,106006,106035,106074,106079,106120,106128,106141,106191,106267,106495,106519,106539,106732,106815,106842,106899,107185,107266,107367,107395,107398,107473,107484,107539,107542,107560,107661,107876,107878,107966,108017,108027,108174,108222,108232,108260,108286,108298,108357,108389,108454,108478,108491,108522,108525,108561,108618,108620,108643,108819,108841,108932,108987,109045,109116,109130,109141,109189,109190,109228,109272,109299,109432,109494,109566,109585,109594,109724,109734,109774,109785,109788,109840,110054,110064,110088,110106,110131,110201,110245,110255,110359,110406,110441,110496,110512,110536,110551,110584,110591,110607,110612,110640,110664,110803,110862,110888,110907,110935,110946,111036,111055,111057,111090,111180,111335,111360,111535,111554,111563,111801,111809,111829,111839,111980,112021,112026,112066,112079,112117,112127,112128,112192,112227,112275,112295,112308,112365,112382,112408,112469,112474,112697,112731,112836,112847,112861,112863,112919,112985,112986,113006,113022,113073,113123,113149,113177,113211,113249,113274,113291,113403,113443,113526,113610,113633,113669,113682,113695,113762,113998,114033,114051,114062,114090,114188,114239,114310,114481,114513,114524,114553,114714,114742,114770,114834,114844,114857,114932,114983,115082,115105,115145,115259,115300,115340,115348,115354,115361,115374,115465,115586,115627,115690,115697,115729,115732,115769,115967,116124,116188,116200,116260,116263,116373,116530,116620,116682,116728,116764,116875,116905,116930,116979,117042,117065,117102,117166,117229,117263,117357,117366,117385,117573,117606,117635,117724,117828,117966,117984,118006,118119,118174,118208,118220,118350,118411,118468,118471,118485,118571,118649,118672,118728,118729,118765,118776,118785,118863,118969,118979,119065,119210,119243,119255,119369,119508,119509,119549,119603,119665,119705,119833,119836,119839,119875,119930,119966,119998,120000,120081,120143,120278,120324,120382,120404,120421,120467,120542,120555,120582,120665,120744,120758,120768,120801,120934,120935,121000,121039,121090,121167,121169,121193,121216,121288,121290,121429,121500,121507,121589,121603,121628,121638,121679,121712,121729,121768,121782,121784,121812,121815,121939,122008,122019,122045,122055,122113,122169,122171,122219,122245,122265,122307,122391,122409,122448,122466,122473,122523,122526,122547,122563,122612,122613,122716,122733,122785,122787,122799,122893,122988,122994,123064,123073,123142,123160,123167,123171,123216,123262,123294,123356,123382,123454,123485,123523,123534,123616,123630,123681,123700,123750,123767,123794,123834,124003,124049,124073,124083,124119,124124,124152,124170,124334,124392,124416,124424,124442,124486,124522,124536,124572,124629,124635,124644,124706,124843,124872,124930,124995,125016,125115,125169,125193,125327,125332,125368,125454,125456,125528,125561,125622,125661,125671,125729,125914,125990,125992,126036,126101,126168,126327,126418,126446,126569,126631,126832,126854,126880,126894,126951,127062,127066,127080,127165,127206,127223,127232,127249,127287,127322,127385,127396,127456,127459,127539,127556,127608,127624,127625,127637,127652,127665,127750,127757,127780,127785,127808,127845,127912,127951,127962,127971"
     ]
    },
    {
     "name": "stdout",
     "output_type": "stream",
     "text": [
      ",128028,128109,128179,128221,128260,128290,128293,128328,128337,128338,128350,128372,128373,128410,128438,128442,128453,128559,128564,128663,128705,128770,128884,128936,128970,129035,129067,129071,129102,129105,129203,129323,129336,129546,129559,129560,129656,129811,129938,129999,130078,130093,130173,130186,130286,130296,130381,130423,130438,130510,130514,130521,130568,130581,130596,130723,130785,130819,130877,130897,130951,131012,131028,131101,131104,131229,131288,131457,131491,131536,131566,131710,131722,131724,131795,131828,131850,131947,131993,131997,132007,132026,132041,132102,132185,132192,132275,132329,132335,132351,132370,132396,132437,132456,132457,132553,132586,132610,132671,132676,132776,132808,132853,132878,132882,132885,132943,132985,132988,133007,133089,133091,133112,133183,133216,133254,133358,133361,133384,133391,133444,133462,133526,133548,133605,133707,133766,133877,133897,133911,133956,134069,134076,134161,134188,134197,134348,134425,134457,134557,134575,134576,134601,134662,134685,134703,134743,134771,134781,134785,134821,134890,134933,134995,135068,135071,135145,135174,135199,135237,135251,135279,135293,135324,135325,135383,135710,135722,135742,135758,135776,135783,135794,135818,135850,135973,135976,136043,136074,136118,136135,136145,136201,136232,136337,136377,136488,136520,136572,136636,136666,136718,136735,136788,136803,136810,136847,136852,136890,137037,137045,137126,137139,137215,137227,137243,137278,137288,137477,137496,137511,137530,137576,137587,137611,137748,137753,137754,137792,137962,138015,138030,138082,138169,138179,138182,138212,138301,138305,138348,138407,138431,138456,138509,138521,138523,138526,138541,138562,138572,138586,138641,138752,138792,138797,138803,138892,138942,138955,138997,139110,139150,139164,139168,139181,139189,139290,139327,139431,139520,139528,139581,139592,139715,139774,139803,139836,139839,139882,139914,139942,139957,139967,139999,140002,140100,140114,140124,140139,140151,140168,140185,140295,140345,140484,140508,140536,140573,140615,140627,140782,140875,140884,141009,141079,141168,141244,141349,141367,141455,141460,141520,141529,141540,141570,141583,141627,141650,141674,141723,141727,141738,141746,141863,141895,141980,142093,142194,142200,142253,142312,142597,142644,142743,142749,142836,142843,142873,142887,143037,143060,143065,143120,143135,143137,143242,143310,143332,143451,143724,143764,143798,143809,143823,143842,143934,144040,144154,144237,144282,144357,144374,144498,144516,144578,144605,144633,144791,144792,144826,144829,144846,144939,144991,145013,145026,145047,145053,145073,145192,145256,145265,145325,145334,145384,145385,145519,145665,145715,145718,145826,145836,145842,145979,146056,146133,146205,146331,146481,146487,146621,146659,146664,146722,146749,146849,146888,146896,146918,146928,147021,147179,147209,147226,147245,147248,147319,147334,147453,147467,147492,147503,147574,147606,147610,147611,147746,147851,147965,148018,148044,148079,148083,148169,148191,148232,148292,148298,148378,148390,148447,148477,148513,148526,148577,148636,148652,148705,148709,148721,148737,148738,148962,149033,149088,149106,149169,149205,149212,149241,149262,149308,149444,149504,149667,149705,149775,149784,149816,149837,149898,149904,150018,150082,150110,150122,150133,150274,150321,150351,150517,150525,150572,150577,150587,150638,150664,150724,150775,150906,150949,150970,151010,151020,151041,151054,151066,151102,151216,151242,151243,151261,151302,151334,151376,151459,151512,151519,151524,151573,151601,151603,151655,151659,151679,151706,151716,151738,151739,151754,151763,151766,151810,151839,151872,151949,151991,151995,152004,152014,152025,152066,152171,152172,152211,152278,152300,152323,152328,152381,152460,152496,152588,152642,152709,152739,152754,152811,152836,152857,152874,152930,152999,153049,153091,153094,153108,153109,153129,153143,153214,153256,153288,153306,153338,153398,153474,153581,153582,153646,153673,153732,153753,153756,153764,153773,153889,153951,153992,154138,154215,154284,154359,154369,154373,154498,154502,154538,154552,154587,154643,154656,154678,154687,154711,154723,154732,154860,154881,154926,154949,155019,155072,155094,155160,155171,155264,155424,155426,155431,155459,155473,155577,155579,155666,155861,155886,155909,156008,156032,156063,156164,156200,156213,156253,156289,156301,156324,156337,156347,156355,156362,156565,156618,156641,156694,156708,156754,156784,156882,156943,157033,157081,157099,157186,157324,157361,157387,157414,157538,157637,157708,157714,157750,157764,157787,157842,157848,158021,158137,158216,158318,158346,158437,158450,158532,158563,158586,158669,158715,158728,158733,158735,158863,158957,159015,159052,159057,159138,159155,159188,159197,159236,159277,159369,159374,159435,159542,159571,159665,159666,159821,159835,159854,159932,159957,160120,160137,160160,160220,160275,160288,160338,160355,160376,160408,160423,160425,160447,160494,160525,160696,160710,160732,160798,160822,160941,160978,160993,161194,161258,161272,161325,161341,161420,161476,161588,161696,161712,161776,161886,161919,161923,161962,162103,162106,162113,162195,162250,162330,162387,162441,162469,162475,162589,162609,162617,162729,162755,162856,162997,163068,163098,163114,163291,163350,163377,163418,163520,163524,163527,163554,163558,163609,163652,163669,163671,163693,163722,163846,163886,163914,163957,163970,164099,164203,164207,164270,164315,164344,164356,164362,164372,164418,164481,164496,164517,164562,164607,164622,164655,164676,164687,164732,164979,164993,165031,165121,165294,165355,165390,165510,165545,165648,165742,165762,165805,165817,165838,165871,165886,165937,165971,165973,165994,166011,166042,166085,166102,166147,166196,166279,166295,166327,166398,166422,166456,166529,166531,166553,166560,166637,166693,166754,166898,166912,166971,166978,167002,167009,167029,167039,167074,167161,167165,167242,167285,167365,167400,167449,167496,167521,167557,167564,167569,167606,167637,167727,167767,167793,167819,167831,167951,167996,168017,168076,168104,168154,168171,168178,168292,168421,168433,168440,168469,168502,168517,168520,168526,168609,168668,168673,168686,168722,168837,168872,168906,168937,169075,169090,169160,169161,169168,169184,169193,169212,169288,169300,169374,169427,169602,169645,169670,169757,169769,169947,169954,170005,170031,170065,170117,170136,170254,170265,170273,170286,170288,170304,170312,170363,170368,170432,170434,170445,170479,170553,170561,170608,170657,170798,170834,170917,170924,170970,170978,171002,171024,171056,171116,171139,171193,171209,171210,171248,171251,171273,171384,171386,171530,171546,171551,171613,171625,171728,171748,171756,171809,171935,171973,172046,172092,172128,172188,172254,172276,172297,172339,172365,172421,172453,172463,172467,172560,172624,172676,172827,173005,173050,173091,173176,173180,173188,173229,173311,173375,173407,173484,173547,173667,173727,173816,173834,173873,173874,173879,173958,174059,174081,174134,174156,174203,174210,174281,174317,174319,174348,174385,174448,174453,174471,174551,174619,174672,174701,174751,174768,174788,174947,174953,174960,174996,175053,175110,175133,175243,175269,175322,175335,175442,175448,175575,175849,176028,176058,176067,176134,176152,176158,176207,176222,176224,176244,176388,176401,176428,176475,176481,176616,176624,176683,176697,176875,176975,177006,177069,177107,177133,177310,177319,177359,177415,177480,177483,177511,177731,177756,177762,177787,177869,177966,177988,178074,178081,178099,178120,178176,178179,178236,178315,178386,178412,178489,178497,178523,178534,178544,178548,178746,178786,178823,178855,178929,178958,178992,179005,179128,179130,179145,179228,179311,179382,179394,179414,179736,179744,179793,179799,179814,179999,180013,180016,180091,180110,180135,180143,180198,180217,180225,180281,180329,180472,180522,180565,180566,180575,180654,180737,180776,180829,180943,180972,180996,181037,181082,181089,181100,181111,181134,181199,181272,181354,181543,181654,181666,181705,181856,181894,181917,181943,182159,182314,182335,182345,182419,182441,182471,182559,182574,182721,182963,183006,183018,183025,183050,183103,183115,183178,183182,183203,183306,183312,183334,183364,183403,183419,183440,183467,183476,183547,183655,183690,183712,183780,183808,183821,183864,183951,183961,183988,184047,184073,184084,184170,184342,184372,184513,184541,184606,184649,184660,184796,184815,184882,184913,184915,184937,184976,184980,184997,185050,185198,185206,185207,185262,185347,185352,185380,185382,185391,185427,185468,185477,185593,185621,185706,185721,185749,185848,185853,185858,185899,185992,186119,186146,186162,186191,186251,186280,186407,186490,186506,186575,186698,186713,186809,186874,186887,186904,186913,186952,187028,187034,187068,187122,187135,187205,187230,187237,187245,187286,187481,187503,187622,187647,187650,187655,187693,187700,187826,187864,187984,187987,188013,188040,188107,188128,188133,188151,188170,188334,188357,188395,188425,188483,188490,188535,188604,188630,188663,188678,188690,188748,188780,188805,188808,188825,188864,188927,189093,189096,189208,189283,189291,189376,189387,189450,189459,189502,189543,189717,189723,189837,189882,189901,189909,189956,189993,190039,190217,190302,190320,190437,190481,190579,190586,190693,190711,190937,190952,191176,191192,191228,191358,191363,191422,191479,191519,191557,191607,191636,191755,191785,191810,191823,191860,191930,191944,192076,192095,192104,192105,192167,192223,192243,192274,192289,192419,192435,192441,192455,192481,192508,192519,192588,192637,192769,192772,192812,192955,192985,193012,193119,193140,193161,193166,193216,193252,193366,193368,193402,193497,193538,193587,193719,193725,193730,193746,193803,193805,193810,194010,194039,194095,194157,194172,194202,194314,194322,194323,194434,194442,194615,194634,194763,194767,194899,194911,194915,194927,194958,194975,194981,195070,195229,195232,195269,195284,195348,195405,195430,195466,195470,195521,195667,195672,195721,195749,195773,195785,195942,195946,196002,196062,196121,196133,196145,196194,196281,196326,196359,196418,196470,196516,196523,196673,196675,196770,196832,196927,196941,196960,196970,196976,197005,197037,197081,197108,197134,197208,197289,197355,197374,197421,197493,197500,197548,197631,197780,197808,197906,197954,197995,198032,198048,198126,198138,198305,198317,198376,198524,198597,198675,198685,198770,198829,198863,198884,198936,198974,199048,199076,199243,199273,199286,199365,199393,199483,199515,199560,199635,199648,199797,199814,199855,199861,199907,199921,200000,200087,200110,200139,200154,200177,200191,200268,200511,200547,200625,200704,200760,200821,200839,200857,200901,200923,201003,201012,201024,201031,201083,201100,201105,201128,201292,201463,201502,201517,201532,201550,201573,201574,201582,201719,201952,202041,202079,202096,202105,202136,202184,202216,202240,202241,202275,202301,202306,202348,202392,202428,202452,202501,202505,202719,202777,202782,202941,203036,203099,203134,203165,203203,203218,203222,203284,203292,203360,203397,203422,203433,203572,203599,203658,203674,203677,203707,203790,203797,203845,204035,204052,204109,204213,204293,204305,204318,204406,204420,204498,204591,204609,204721,204723,204818,204863,204877,204899,204917,205050,205058,205067,205083,205124,205162,205176,205185,205255,205270,205302,205305,205317,205320,205340,205391,205441,205491,205500,205507,205605,205711,205777,205796,205803,205938,205943,206062,206074,206093,206164,206186,206202,206211,206277,206323,206347,206370,206377,206380,206422,206500,206520,206570,206595,206602,206637,206642,206652,206694,206708,206759,206778,206832,206857,206872,206889,206973,206992,207004,207078,207172,207209,207254,207266,207441,207442,207479,207503,207512,207624,207739,207751,207759,207790,207867,207871,208090,208203,208273,208334,208376,208380,208384,208389,208446,208484,208504,208592,208678,208720,208780,208816,208911,208983,208995,209017,209116,209168,209217,209240,209274,209281,209297,209299,209443,209456,209521,209538,209604,209612,209635,209686,209726,209747,209749,209758,209841,209846,209855,209892,209894,209982,210004,210034,210088,210103,210198,210297,210349,210551,210619,210719,210736,210758,210764,210780,210816,210880,210912,210970,211052,211084,211098,211128,211135,211313,211354,211377,211390,211541,211548,211622,211642,211667,211754,211791,211842,211863,211950,211982,211997,212033,212053,212058,212127,212168,212241,212265,212348,212394,212472,212485,212533,212573,212614,212645,212709,212730,212789,212800,212861,212888,212915,212938,213020,213033,213185,213262,213275,213315,213331,213341,213366,213368,213406,213526,213538,213587,213691,213695,213808,213816,213866,213873,213874,213946,213986,214018,214024,214071,214101,214210,214218,214240,214258,214317,214358,214431,214453,214491,214664,214695,214725,214752,214917,214978,215031,215044,215144,215304,215428,215485,215491,215637,215666,215670,215781,215795,215913,215943,215980,216080,216162,216170,216195,216197,216239,216240,216241,216269,216314,216333,216397,216444,216467,216498,216500,216515,216543,216544,216651,216692,216855,216877,217003,217020,217064,217115,217176,217178,217228,217248,217275,217324,217353,217355,217381,217432,217467,217502,217510,217551,217552,217581,217584,217599,217619,217695,217702,217778,217854,217896,218058,218099,218234,218297,218314,218320,218474,218514,218567,218569,218590,218611,218711,218848,218861,218915,218922,218963,218972,219000,219088,219097,219268,219304,219345,219408,219552,219716,219725,219817,219867,219869,219880,219938,220018,220070,220092,220177,220182,220270,220320,220323,220379,220391,220481,220574,220687,220903,220927,220974,221029,221030,221031,221047,221061,221149,221217,221224,221238,221285,221308,221344,221370,221461,221662,221695,221766,221778,221847,221903,221915,221941,221993,222094,222108,222183,222195,222199,222270,222278,222358,222393,222501,222521,222553,222602,222733,222756,222840,222897,222974,223011,223057,223078,223201,223379,223392,223412,223479,223511,223520,223556,223572,223712,224155,224258,224282,224418,224451,224482,224566,224576,224605,224645,224655,224663,224689,224690,224749,224810,224878,225103,225115,225136,225240,225251,225371,225390,225394,225446,225487,225553,225600,225689,225765,225799,225808,225862,225891,225934,226024,226030,226064,226149,226151,226277,226362,226364,226374,226405,226468,226589,226614,226793,226795,226809,226832,226848,226874,226904,226987,227024,227036,227043,227143,227203,227257,227337,227363,227395,227457,227493,227576,227595,227665,227674,227799,227878,227919,227929,227954,227991,228034,228052,228061,228115,228147,228163,228213,228259,228309,228386,228427,228499,228515,228548,228587,228696,228830,228841,228930,229004,229081,229083,229121,229203,229311,229579,229581,229597,229671,229729,229748,229754,229791,229838,229857,229917,229926,229979,230003,230081,230134,230232,230263,230273,230371,230539,230599,230601,230649,230659,230671,230686,230743,230755,230768,230866,231077,231109,231135,231162,231164,231225,231303,231322,231325,231429,231510,231540,231553,231557,231563,231590,231629,231726,231741,231755,231785,231844,231847,231860,231897,232067,232071,232149,232155,232157,232211,232222,232325,232345,232386,232407,232437,232438,232444,232528,232596,232604,232646,232673,232675,232727,232774,232778,232801,232853,232860,232883,232985,233010,233059,233096,233116,233149,233155,233173,233250,233275,233285,233287,233331,233560,233567,233591,233755,233779,233811,233825,233941,233955,234002,234021,234028,234033,234077,234113,234127,234161,234251,234268,234341,234356,234377,234397,234436,234509,234620,234623,234689,234711,234744,234908,234926,234953,235001,235071,235140,235224,235282,235295,235349,235400,235402,235492,235545,235665,235695,235800,235810,235864,235887,235908,235936,235956,235971,235985,235988,236074,236100,236211,236277,236327,236551,236566,236612,236644,236755,236775,236905,236939,236982,237008,237049,237060,237151,237153,237185,237254,237321,237357,237538,237644,237705,237734,237742,237851,237944,237987,238070,238112,238116,238129,238160,238290,238425,238449,238466,238522,238541,238572,238619,238660,238795,238798,238821,238971,238976,238997,239149,239201,239276,239440,239452,239498,239501,239509,239519,239572,239586,239590,239681,239727,240001,240028,240054,240190,240218,240240,240301,240325,240361,240386,240434,240468,240616,240632,240684,240732,240749,240841,240883,240912,240917,240922,241108,241246,241255,241265,241"
     ]
    },
    {
     "name": "stdout",
     "output_type": "stream",
     "text": [
      "301,241310,241374,241432,241480,241492,241572,241588,241611,241687,241753,241863,241889,241964,241995,242079,242089,242097,242106,242126,242127,242129,242156,242277,242282,242283,242328,242343,242367,242399,242427,242470,242508,242514,242557,242713,242819,242826,242852,242908,242946,243009,243060,243074,243105,243133,243162,243164,243169,243222,243244,243282,243380,243405,243522,243534,243644,243793,243795,243799,243810,243839,243860,243965,243976,243983,243992,244051,244056,244123,244140,244143,244154,244200,244207,244252,244328,244338,244352,244357,244389,244431,244449,244460,244468,244479,244517,244533,244561,244574,244577,244581,244583,244622,244627,244639,244642,244691,244786,244830,244831,244899,244938,244985,245160,245219,245221,245379,245454,245458,245478,245523,245600,245630,245673,245738,245777,245872,245893,245964,245997,246132,246217,246552,246561,246617,246704,246716,246730,246774,246787,246853,246897,246938,246943,247060,247108,247175,247203,247209,247577,247596,247659,247712,247759,247766,247855,247860,247886,247918,247989,248036,248037,248100,248106,248150,248151,248203,248217,248227,248268,248293,248330,248354,248372,248373,248486,248553,248698,248797,248900,248912,248932,248939,248976,249022,249049,249099,249108,249152,249165,249194,249196,249213,249230,249244,249386,249403,249510,249552,249583,249589,249619,249638,249732,249744,249823,249839,249920,249934,250016,250122,250147,250409,250410,250427,250471,250480,250515,250564,250669,250763,250764,250887,250999,251327,251341,251351,251374,251443,251451,251465,251502,251791,251800,251890,251901,251944,251958,251978,251996,252047,252161,252163,252171,252243,252261,252269,252290,252356,252385,252496,252513,252618,252643,252661,252666,252673,252710,252815,252930,253018,253082,253095,253096,253117,253159,253182,253247,253509,253641,253658,253674,253701,253847,253933,253960,253961,254007,254065,254076,254103,254115,254203,254248,254266,254313,254330,254335,254362,254363,254427,254645,254684,254814,254928,254967,254972,255061,255094,255096,255208,255211,255399,255434,255665,255758,255839,255849,255983,256014,256022,256023,256092,256121,256266,256267,256359,256481,256498,256563,256571,256687,256721,256782,256809,256812,256850,256879,256881,256898,256934,256937,256953,256966,257022,257023,257067,257149,257168,257300,257371,257393,257449,257507,257512,257589,257842,257868,257933,258011,258059,258146,258261,258297,258305,258336,258373,258420,258428,258437,258478,258589,258741,258773,258829,258846,258897,258927,259007,259037,259068,259112,259158,259164,259243,259288,259418,259461,259602,259668,259824,259825,259999,260003,260034,260136,260160,260213,260280,260314,260333,260365,260384,260461,260505,260548,260612,260624,260634,260660,260702,260769,260784,260892,260964,260971,260987,260995,261008,261041,261101,261140,261201,261205,261326,261438,261458,261482,261565,261613,261617,261628,261637,261712,261723,261727,261742,261775,261794,261895,261984,262108,262126],[-0.16886254766048148,-0.1600462872763778,0.10952659650188079,-0.5170236635154833,-0.05945663309443761,0.10335321448837544,-0.011158619551135692,-0.19559778795648142,0.05816219366175731,-0.21179304085611161,-0.2971165330560178,-0.36899556554861357,1.0731093307871435,0.2795740997066145,0.3579736177415155,0.05018522037867184,-0.04067185352774622,-0.49949817526360557,-0.07908972664658395,-0.13273334019177552,-0.14025017618880478,-0.5898926403370939,-0.16809413304992085,0.013655619345969908,-0.09644736726637748,0.44670352883977843,0.20019585972476464,-0.2647769630312274,0.1094180648477454,-0.23491709628939939,-0.12569762040448537,-0.45324699057631035,0.04767390027040437,-0.24343370296095912,-0.02044230278145163,-0.026600120382702024,-0.016005875592241002,-0.023952748876148247,0.42519638459306813,-0.25963126597894853,0.1706411376147128,-0.175715453510006,-0.01039347994262749,0.23188236318758704,-0.0747012642764176,0.2933455600490333,0.04767981936214412,-0.06584444910386562,-0.17855059913616822,0.027579796477571392,0.08849638587664954,-0.15453185989205745,-0.2727325223331711,0.3759635255236751,0.2508599878707557,-0.25197589069557186,-0.1521795468055544,-0.06426892765662462,0.9010000599239361,-0.23176069264211768,-0.8776371859481926,0.02428452472809576,0.10728210916897081,-0.030583006612537173,-0.17653731499667377,-0.33565012754205414,0.11435670672757926,-0.03738137829913891,-0.0012248825264409425,-0.21647747656480076,-0.2900553967693553,-0.025128967501398564,0.25226416050233325,-0.11665395381746614,-0.0328708635880262,-0.14421539342746267,-0.3299915364382242,-0.14553799350002858,0.21488290179875896,0.16355271496726703,-0.104076404492437,-0.03602662704367055,-0.005330706522505682,-0.10550662982394776,0.12846638994188675,0.01699043949832729,-0.4024365631934212,-0.032718328946706274,-0.07716605657953883,0.36393303327815496,0.5000015536533704,0.05671766310476405,0.024998008299041943,0.030548830248733734,0.10743993490702848,-0.15633576262743287,0.11761704654375041,0.1353771989531691,0.07899831384887032,-0.5327619852084832,-0.005236122165766212,0.26909528472329797,0.22412671032379014,-0.038959304285442684,0.02381272389524747,-0.10166574295742374,0.5788762013994109,-0.12416157890836849,-0.012098807015638036,-0.11717668332673167,0.047157180527074634,-0.47175044996248844,-0.13474182214038433,-0.10658194733310786,-0.11516883433579149,0.05912057071803989,0.4160797952896636,-0.26305872081894816,-0.34052132311837563,-0.0463483792006123,0.4296375976398575,-0.23972773951463575,0.00253028268246377,0.03331837860880422,0.14750547157656918,0.020602036417651313,-0.07232784983312623,0.09280061172247411,-0.2662279802407593,-0.06254499662526818,-0.051759341971917734,0.2052406639279342,-0.25869978832274276,-0.37880449863369575,-0.41657058589292895,-0.045332649557539975,0.4588521816988973,-0.14908252654782658,-0.1915327083273852,0.10788294074523844,0.0685165520042099,-0.5199968937884197,-0.18493082582710796,-0.06945607220236825,-0.12523735371409406,0.4269135926405725,-0.3417385270093432,-0.07026449616307714,-0.03251670987399652,-0.250406017790859,0.20808391468347073,-0.3086921973506695,0.0035630978327818507,-0.15558887191750403,-0.2141940810624053,-0.10923596712963507,-0.19332068475812428,-0.11239338392189854,-0.48481321133958266,-0.060561587461617085,0.1389322417611505,0.3173597959894166,0.04202036477142578,-0.16486353045692254,-0.01415452555183551,0.11499668084926763,-0.009494644055630014,-0.1523907742430271,0.0583763450769683,-0.08399581659275392,0.11309430637209601,-0.19515789478602402,-0.20778096698398926,0.06482114708400205,1.032632292400014,-0.054633589942180066,-0.19526532190813536,0.2807989988641219,-0.024375489700812953,0.027129505727035527,-0.08320396406598368,-0.18469871948187305,-0.3720929101821456,0.05770153979766246,0.09180915031740405,0.0017880655124376894,-0.1588732180748347,0.07436939709496987,-0.28174917221980617,-0.38809726146645235,-0.13694091241914239,-0.2789521871345632,-0.00520707624195245,0.11127372203538752,-0.06923917723236772,-0.20224494229506157,0.04657151790461312,-0.009495530298465366,-0.04570229366407539,-0.2848620106903095,0.03229568587973642,-0.09535378531762947,0.1604994300285475,0.07754293554375934,0.2512838790572675,-0.1806095918151769,0.076039812767324,-0.2207116712888368,0.25022068481287163,0.019793332997036523,-0.3644738332629892,0.044414171628061105,0.05130127121754469,0.09003398768228081,0.2147020278846772,-0.0900135894197385,0.02773160706785368,-0.09086411932706162,-0.3174116273118835,0.1873901125385577,-0.15868522498317536,-0.21830618466034005,-0.10628937004105281,0.11537906726907712,-0.20279514798045914,-0.028164822352611155,0.5987318857251225,-0.2666749561401227,-0.3123364864857906,-0.22542687852796972,-0.0747163106819779,0.25226416050233325,0.08089310675878025,-0.15333895910690357,-0.5474968974208836,0.13841548457077602,-0.09014122499347725,-0.11760233858097595,-0.08773629064601175,-0.5856598084694622,-0.006759931262450246,0.2011266480417756,-0.640682590478661,-0.07359621644254713,0.0050526731902259875,-0.0744885131298003,-0.1413168933068752,-0.11462083765362076,0.3938064798786287,0.15154069974222195,-0.0077772188011732656,-0.20058687473560866,-0.09975881223786007,-0.1230572363847987,0.14956401137837563,0.008189136088500677,-0.33780289838943345,-0.20241945554111507,-0.15942821651356565,-0.06579456397019369,-0.061174041848603755,0.04679145124995833,0.002547197208578323,-0.05877763820304043,0.028075362363011565,0.3665036827821294,-0.05561046325978004,-0.18177220125115487,-0.04134481224091684,-0.06290240325765163,-0.009336178439472924,-0.2930277821894603,0.16040045072386688,-0.042540048135481075,0.39065693430442183,-0.09573992028041853,-0.0380099543025679,-0.40095067265790646,0.01102176755870651,0.06967184939937975,-0.006578848319639206,-0.38801173422763796,0.17271077141480154,-0.2148838281722488,-0.18712589237525548,-0.2501360552642628,0.2995801573056838,-0.45168364026265656,0.004648429796603902,-0.24460742476394598,0.1105627630984634,0.10370526366912876,-0.07452879324501152,-0.35796219780500643,0.394445970573651,-0.14400633041565855,-0.11370949542732003,0.037754670987352565,-0.09895602863117191,-0.3782361190683294,-0.13056421859078451,0.12473220197801332,-0.02541955044788069,-0.42853389947761295,0.28532793162659303,0.28021788705426276,0.034310804493801125,-0.3858272202497369,-0.19173689740656352,0.05478564097499783,0.06102441947352608,0.5749636256432327,-0.10990740134073602,-0.2404961524953851,0.5369711517503478,-0.5207931841772218,-0.5457012214184294,0.41439949419463945,-0.0786791516221572,-0.23017863828195154,-0.4119365746465355,-0.1953394995612523,-1.2641206684184512,-0.05341396194216006,0.07141581624534135,-0.1467939652948606,0.15519891991002452,-0.17845111917860124,-0.09683874260816415,-0.379148781096835,-0.45253936753747676,0.045558686183999414,0.05034179601108462,0.740914003263455,-0.17440331087734284,-0.3092262951265201,-0.07826745582786979,-0.764088394503098,-0.005209713446991593,0.3154546636727431,-0.12931689853625256,0.15225259708012703,-0.20253952029464936,-0.718193749926777,-0.44790893039489843,-0.19900882752409985,-0.21114424319028252,0.4281115524365806,-0.3812780619189718,-0.2546958218365496,-0.025582291365982085,-0.1352274357511475,-0.6246720320693597,-0.26782106046173554,0.04539861454241623,-0.38339987590016705,-0.04251247960095958,-0.380090965209107,-0.393714227206143,-0.042279286569786495,0.025572079340327413,-0.1899556716962115,0.010997094980811205,-0.2974398261727627,0.016670842700512774,-0.8264329614815908,0.1535163538516495,-9.869054547339072E-4,0.03416828900823125,-0.04119439781517355,-0.2539892545915247,-0.32268734972490826,-0.1421972621757784,-0.1371696205647212,0.06478536119643068,-0.2941401393698765,-0.34215077443712333,-0.28551419547501766,0.1742670184578662,0.08529964617450575,0.03717001945411527,-0.14310547855696065,0.05679296605824443,-0.2502933030713983,0.048468548711523944,-0.0702867103077214,0.14033649499973655,0.5403660565272648,-0.11003434315757554,-0.2099119166038221,-0.5836454568929055,0.23369349266188053,0.06996656699136448,-0.31305296847622954,-0.19980731591804257,-0.0069030922396183325,-0.25832194881329296,-0.012045615232773978,-0.01381769435107991,0.08897356253254447,0.2687157414893317,-0.06545270862799812,0.17797446336852046,-0.07970705482693852,0.018249337319808785,0.09473759483154792,-0.24474215982264877,-0.20603403157161485,0.03818592562978009,-0.0071759883456212785,0.4408063340846115,-0.31796617716077624,-0.32996234721791,-0.24382090214145882,0.196345598251608,0.3039210440004789,-0.1785749892093087,-0.11250180251525436,-0.19984667063292408,-0.15785824727086334,0.09508641220993304,-0.050349998162985285,-0.05124012452187013,-0.27756781686558335,-0.4688974249135233,0.14139490664046084,-0.06273778077449939,0.3494612213613211,0.558240116006281,0.08326864096702197,-0.18097827988536577,-0.015440261559885095,-0.1709362802845515,-0.38650655080893026,-0.14069891234329113,0.3190036107059632,0.2149377416990263,0.13053645021502333,-0.07978522716653165,0.06010352087309738,-0.3866100651457898,-0.03667520251686466,-0.169077199681539,-0.10564907638093235,-0.1489376227524269,0.15062827459232808,-0.11783031331233594,-0.14187569795819222,-0.6204030330794292,-0.40396275464856995,0.20251867544768712,0.1739515868440902,-0.2964953823766271,-0.047481317802110665,-0.16275229860363358,-0.010203019712776418,-0.3027703567904286,-0.06504100554647727,-0.06298876682517285,-0.5095519162731751,-0.07983974858725768,0.04385263614779668,0.21148452992988503,-0.3393919689435924,0.17604938920003763,-0.44247346646147123,0.13023085370447054,-0.0933844914927883,-0.2666701584897254,-0.1184314751987391,-0.02356665664893016,-0.6915537907456034,0.03370731787239259,-0.19825252386311223,-0.06798008550200764,-0.27462411560248434,-0.3010499966177198,-0.09323695880852925,0.34943252801972524,0.4646435259945713,-0.295020119546251,-0.21268298461183385,-0.13603830016820279,0.07706800436291651,-0.0922172598887845,0.011397699219068443,0.049858889404043163,0.03533359856347779,-0.26273655169529275,-0.22545056556476423,0.15490564237753038,0.3625094703208719,-0.03297448384630427,0.18661209295356396,-0.04573891848173764,0.04600030908245537,0.1654953535984326,-0.0071207412711995766,0.25079819287290767,-0.1921806244838423,-0.15837606247527078,-0.22531520503912858,-0.2899062669126647,-0.5035308591661598,0.14792533918256834,-0.07283130881866393,-0.28530992465467675,-0.09676212756712156,0.0928093551880381,-0.13727968998887383,-0.033313646136255655,-0.13124117103072178,-0.042830751390090606,-0.21618066144230264,-0.053757389243675215,0.11699013606218442,0.24370184224257954,0.10800452595966255,-0.3130644185266637,-0.1320700017807349,-0.4227954074458114,-0.11911159742766578,0.33223957062903337,-0.15842184570912338,0.202583097685667,-0.4833520863788169,-0.21686124998488973,-0.012672394705105148,-0.1155499932133042,0.1401232220752399,-0.37121478794529034,-0.13539812095330347,-0.081754736398704,-0.4635723340071747,-0.42570975925888405,0.038146082811041745,-0.32061744497492045,-0.0109566147924487,0.03307255795770771,-0.3285446523216286,-0.21750012915996048,0.037512567521637265,-0.2296274968897308,-0.057687985384825696,0.0043893709609403855,-0.425372650451058,0.03750463656750231,-0.2079777893821337,-0.028416295736479944,0.06322160970459119,0.15738161146269034,-0.025157872573610154,-0.3115728045271896,-0.12589858556045805,0.18756355280185738,0.21086441481663606,-0.2872197862457651,-0.10827070313217,-0.017363307942451757,-0.24109161462184542,-0.31540187642685236,-0.10763098024641413,0.3902200010816412,-0.1394749276854477,0.008030797762524397,-0.5625919164868265,0.3130023803161855,-0.2674177897157661,-0.16303590643211954,0.10977404708979743,-0.0813754043901407,-0.43761660774360395,-0.04484347949748643,-0.06645729240670475,0.02679083129013025,-0.13786297928455807,0.03598164038619986,-0.3307731108822608,0.056951099042166206,-0.23761131406420416,0.03045315244760437,-0.06616665891276173,-0.10100141003508548,-0.20314347717542325,0.061240516038080575,0.09075522674523492,-0.006587491247957483,0.06674958510007885,-0.2718928121760337,0.18005721514869952,-0.4614807962634403,-0.06702741208554099,-0.07096218740801309,0.10909451261136649,-0.18356339620693682,0.09269257248713395,0.22904870568548205,0.0069127490557473244,-0.05800411843938553,-0.03328500976045565,0.06729976838506387,-0.10229901736468623,-0.18491325089903202,-0.1004304264138759,-0.7488163332114928,-0.6597721347224882,-0.08037370758904391,-0.06341596139330458,-0.1260476090618282,-0.22328772232419083,-0.017880622736661106,0.19160429610178742,-0.2908281999896238,-0.17317841127408418,-0.2303720963532347,-0.011856769382302812,0.02848727128315133,-0.0022199508956372623,-0.06929158989774788,0.17457497093140714,-0.2544682014299948,-0.19539811518845968,0.029715366027476733,-0.022898828584383607,0.19617722355810532,-0.0101015986759011,-0.339245701390259,-0.10510364435502134,-0.1533594941135744,-0.011639595367714356,0.13941915904487118,0.07595718973287822,-0.3790716022625977,-0.02406251752507813,-0.08508839947490068,-0.3571898891763108,-0.1260929014045743,-0.10430709323724305,-0.09760628021128219,-0.146156508771487,-0.18125500957575383,-0.16594118801666902,-0.008434565555069561,0.027635911539704593,0.2859610900213158,-0.43775169365480954,-0.18078348395574736,-0.1618451040942288,-0.37905931225748546,0.14223362445779733,0.1063650167135102,-0.3259912349644155,-0.21146608368385095,-0.4454539514176979,-0.29935363644852964,0.014837373278192479"
     ]
    },
    {
     "name": "stdout",
     "output_type": "stream",
     "text": [
      ",-0.08700853258403259,-0.09058980164025285,-0.3783305590248801,0.1753046730884125,-0.2090816201818763,-0.21181459357878052,0.0412693618013245,-0.24114480854128525,0.19761179792442285,-0.08454184654745489,0.1624472728023489,0.44864046057429446,-0.028355683049418427,-0.039220844833167394,0.1307995910612545,-0.06848689536771756,0.10627344633763962,-0.1426877065259487,-0.3583340789640323,-0.226043969085105,-0.08954569854916467,-0.2591523674855625,-0.47270330162707674,-0.11566733558353942,0.08419463224242553,-0.2121063312951603,-0.07617536032460706,-0.030300127157446115,-0.30534814839902485,-0.38148161761039484,0.1529311326310691,0.04193829450574782,-0.13579954795474078,-0.04510386656635857,0.06549303928775822,-0.03269626029869563,-0.24762832172784505,-0.1499107693943253,0.5382533526117794,-0.1259924250530228,0.24385194356251075,-0.03670747734452303,-0.3924034761254892,0.03438130101629066,-0.15181194105055432,-0.11843801606090269,-0.04320274020062721,-0.0013872713114794239,-0.3337194269253195,-0.43318752061830185,-0.18272330937845913,-0.06579385442910421,0.0844606542645669,-0.06187920313777993,0.009808606466806572,-0.06946855092454655,-0.3658193299407167,-0.17311164190204054,-0.1277349377928628,-0.16739268964563195,-0.1555963969003334,-0.20220526318599644,-0.3316784853422867,-0.22740281940248833,-0.09473243782589175,0.039177208811396684,-0.6867312716646201,0.17024844066548622,0.04912147553282415,-0.1266213115046103,0.10767286534172264,-0.30982253351467737,0.00257466571155217,-0.12466312530041145,-0.20739550728575032,-0.1714797211492279,0.22183269444308895,-0.3198009284388627,-0.1937216780641809,9.944680297499441E-4,-0.26994768754836906,-0.4172785108618863,0.11170524986189358,0.029963044357294376,-0.3420916790529396,-0.1127443136179439,-0.14212097143246058,0.15844400490546157,0.09644006772721887,0.5555476994753112,-0.09621779755946153,-0.44441401893313354,-0.08265799886380597,0.06585341236047698,-0.27876642278091196,-0.10058902910331352,0.17459543205351885,-0.012560485161709099,0.3350894865444302,0.03145647697346848,-0.18928750341424305,-0.40047990712669007,-0.66339295664753,-0.022946308556492535,-0.1215328227221525,0.14945023092476256,0.16796911320147778,0.07075198953636457,0.374647982684376,-0.45529687860321194,0.13151907571248442,-0.1310103649610876,-0.47525576557404414,-0.0529615177512353,-0.3158009601936912,-0.48959839841149294,-0.23341746214582737,0.301273420437853,-0.15663752925623423,-0.2035961975090236,-0.003878777702559581,-0.16919035110275032,0.12151945599159637,0.1209551502702179,0.41703508576178766,-0.407746885612448,-0.3440273436719107,-0.15791688506539572,0.06112348825124302,0.06290164021239697,0.041723642849511314,-0.0209125523254092,0.3827416708007113,0.1464396368992185,-0.36579164116478746,0.08137419161347718,0.020616420671747893,-0.3286502207294234,-0.14558398954585947,0.06906005427620243,0.06021543055549218,-0.22668029057514008,-0.03824841337665215,-0.15214342419268828,-0.09333484007814775,-0.09193212514286513,-0.06675669606919661,0.005030364662096265,-0.49380705183496415,-0.34952941238813656,-0.4043616689455638,-0.22963448485219068,-0.1459197458388883,0.04870465283808794,-0.2885467573982311,-0.18001801234642006,0.10476137183372516,-0.538360714142163,-0.04452348411937976,-0.02800184432876503,-0.0416343511259192,0.040722757409253546,0.07444746205859715,0.028541653316047737,-0.5317428505055605,0.28789806794459555,0.2876628191703068,0.11638467403436463,-0.029000246853228277,0.4488545866736422,0.2950162607117575,0.001577894467533236,-0.19618448368806962,0.20433765839709075,0.098766630889431,-0.14668494754960634,-0.0013199814349222846,0.44373460131179604,-0.25612625563575736,-0.24994555887949346,-0.5202014126648636,-0.3416851982533577,-0.22973482520064856,-0.24620275707956285,-0.03827002587594066,-0.2527491515244368,0.0847669263783131,0.3145546748913696,-0.020870686290692664,-0.39668725942945393,-0.09386892258939636,-0.1313350127062883,-0.288611963256389,-0.0558819772209633,-0.05519391770615494,0.139389370244346,-0.2180731688637647,0.6766966537397782,0.024815793665071823,-0.10849958533161472,-0.07642885737844057,-0.1440948869159993,-0.07546600097545496,-0.16768633414241596,-0.046925603900367735,-0.12841593507137772,-0.034762979814515205,-0.21589578486565345,-0.6051458539382828,0.11802766380813504,-0.12144923850857572,-7.631006086233568E-6,0.12359448482224057,0.13314271136577197,0.045976838423289486,0.0067255510892731945,-0.05063383111280014,-0.06345354886632712,-0.14884721187874442,-0.18377524848652976,-0.2894133467771029,-0.10601468204826354,-0.18903732105325755,0.09639450606883646,0.09749701997547222,-0.08631464958719398,-0.1493326466425419,0.0741244398367895,-0.1694079772878828,-0.23540709505133828,0.0905766249379015,0.02614581270666151,-0.67849036490175,-0.07393660904740654,-0.04857850547909929,-0.0967585942099728,-0.31474385988743864,-0.067542201328618,-0.04388002532535157,-0.05733109861599419,0.4873963976850831,-0.07444428187330203,-0.2653009180915591,-0.15839557683380504,-0.16673366060114894,0.16611090617898205,-0.43420968475478877,-0.11167197867157677,-0.39618066599021673,0.0850235287664092,-0.2531194356893435,-0.07856674539277601,0.37642348346113996,-0.07222933828932872,-0.2074246468463046,0.052852773721754814,-0.3694636086181062,0.07127180314434527,-0.6985665240097532,-0.27489996491440205,-0.20868284117662542,-0.168124283228287,-0.2320894726553048,-8.554687910645172E-4,0.25350408006194913,-0.12048065695364825,-0.2923446040679468,0.23010766795193266,-0.3755325737275967,0.06214810899473969,0.22879419667554848,-0.17873371573803085,-0.12231713995252003,-0.18796586856313985,-0.7240717303640493,0.27459225683740535,0.3840205696673784,-0.28951163738730434,-0.2018001991487226,-0.3594540605696692,-0.5621393749144062,-7.497912892124955E-4,-0.35565674106501205,-0.7545097529290491,0.06419810564022485,-0.13257250010434174,-0.37255948397880717,0.006214408936009165,-0.1726337956093279,-0.1280006175896565,0.09738965681441324,-0.2960714028182605,-0.05335318048764591,0.0051604981194654604,0.08978644771087785,-0.025600443126120618,-0.052969978001500856,-0.015620646017863967,-0.41175817895897754,0.08178852861235175,-0.132317158057763,-0.16151861175328494,0.050368329349068805,-0.06753484969090472,0.14335740341407238,0.0692934551355236,0.33364944404920943,-0.22119611932718414,-0.054845818654060186,-0.06925610458699717,0.017493441371507913,0.021988682639579853,-0.08842042817375562,-0.029578842465853364,-0.3102404743410595,-0.2934667834901172,-0.13842627234625182,-0.01607482744464895,-0.14776008999663165,-0.27210866467928535,-0.5474187162250712,0.055846164948263756,0.2206525010985756,-0.17543599204449978,0.09431989598234305,0.008323310899525229,-0.4551141090433129,-0.06754514675796751,0.20991225208951364,-0.1290749054020219,-0.6896806114125422,-0.23938857581625975,-0.5898926403370939,-0.06951871862653129,-0.30226993846304206,1.1582236509849513,0.1082281965184683,-0.26358400440810137,0.004756633275096312,-0.05054804808800318,0.16773233768605775,-0.2813004998967425,-0.08592231529355304,-0.16075489470987597,0.31637888438892386,-0.10762158336846524,-0.15831556396701535,-0.34376988292046906,-0.030888075127010767,0.138389531471961,-0.7008589645036092,-0.023403479960672095,-0.16157068080232068,0.16144154231147273,0.27531045095204176,0.19284654583669386,-0.12715092079112586,-0.16416594392119552,-0.18231908371728262,-0.09412285059664134,-0.2802585917258802,0.4923566148773804,-0.11099112783395593,0.07905794418345315,0.2025549286434107,-0.31355890583661833,0.42370940421716147,-0.2039133926068616,0.48976354432619895,0.3635019477474157,-0.17429017764825952,0.0753668310557203,-0.14173311735802013,0.22804273543250844,-0.15502646543625592,-0.30211733703748883,-0.02165189789694553,-0.41238442996281155,0.1919002334783692,0.07034074570032087,0.023028847661463292,-0.26850736856856633,-0.17963620805020025,-0.21896102735822495,-0.09770746230364652,-0.09944980283928585,0.2636372467491074,0.05883881312740532,0.10780721101879599,0.31734957262328717,-0.32627629734670144,-0.1069985002968355,-0.25145709122747234,-0.2815822140892349,-0.10006822591779585,-0.11554350918981939,-0.591481268449354,0.08839243657032761,-0.25961272973295574,-0.3041469794059538,0.06201954468589726,0.1762721127942597,0.25684075063920947,-0.18615124388276577,-0.07184156082662864,-0.247361349612625,-0.33068011471047865,0.14849370527966066,-0.015077528036926855,-0.3294911380472439,-0.6506124280914855,-0.030370188795751367,-0.3723620140729478,-0.14208421748901698,-0.32532694924297345,0.13447350945649997,-0.03674779772186171,-0.00972203805644496,-0.05800160522376599,0.14859129674703186,0.10718690109101908,-0.29743487471962005,0.12173319184807598,-0.02630618772636723,0.44970197594287536,0.27863871197827755,0.4148603055120641,-0.07970404397023526,-0.049834100345679415,-0.24161050625162664,-0.08291670151675402,0.15727927018199447,-0.04514100558412121,-0.37939123806519287,0.22601156666862757,0.03044094896892798,0.06677466459919698,-0.04362071254945301,-0.17100509296156652,-0.3750137658120061,-0.28906014487877985,-0.15977206421416587,-0.03428622227301818,-0.15655649479994443,0.10119056281064095,1.4905071196574247,-0.031226966908300926,-0.11779020070778683,-0.09995866989478448,-0.033926823929253704,-0.20234936623245692,-0.5087032919478771,-0.20777994017592147,-0.13348372860675012,0.3733240526412638,-0.23261668908549815,-0.40518931269688896,0.03940298688420774,0.03929898795514945,0.09377954874860432,0.4138596377178716,-0.014816526216105299,-0.07224161140155408,-0.011991992606424943,-0.1951094760190834,-0.21711727040854456,0.02852487474079411,-0.0703749642897874,-0.15569218653453495,0.2718097506166881,0.17162366647021066,0.0911543043407365,0.3629450295960737,-0.220466492977636,0.20151708913836341,0.04258063009964793,0.025750004014881388,0.8025468229543481,0.16459559345294603,0.06014656501338629,0.00924009978000143,-0.14772972229808373,0.13161498835671767,-0.042471687319192,-0.03740060571546908,0.02804319198614155,0.6480447484312676,-0.3077670482875856,0.053209700200306576,-0.0981917703601391,0.2596175411738312,-0.2544357867436151,-0.31226943196978113,-0.1264640597542709,0.2752203944343941,-0.22709686688527903,0.12307992704881772,0.18795443524536035,-0.4125859106582324,-0.11460428580813672,0.037820740231597885,0.5917182388050108,-0.006803610519891426,0.15429342633355425,-0.02618870951963343,-0.18153291865701537,-0.41060565083788764,0.16296466641461244,0.030181387245218773,-0.10917312597829537,-0.040453259392298706,0.28222229618270556,0.08782454889247447,-0.19964601511142838,0.22328305188919928,-0.10892315197028604,-0.15311286221019618,0.4972050555587611,-0.2880348462661207,-0.11367567306459096,-0.12951008742183556,-0.0011596987699464812,-0.07599611736364023,0.01457499872036475,-0.3931323711808335,-0.19897816890864212,-0.581502002578408,0.0296745170951823,0.20644597978036286,0.29347802794840433,-0.13353086472250392,-0.04205924549985135,-0.08145011639143855,-0.17406068128878083,-0.1830181844315719,-0.01494084328030661,-0.045780812512958166,-0.06358788646818128,-0.16034831600017954,-0.4014247637766098,0.33910005647634633,0.12883651755694106,-0.07105157040879417,0.04104164045441302,0.9232087643614197,-0.03664729137760037,0.3304155329124533,0.1009921879714847,-0.28361983287623227,0.04330040057096018,0.04481696430686141,-0.0955695878642757,-0.021512135239005085,-0.0047183491753493186,0.05850361758523812,-0.12347175890146339,-0.10586885793788511,-0.17851710186359016,0.024301406495962373,-0.16205338193990934,-0.3756363318574265,-0.4498781997429241,-0.08116203388681921,0.09426885696679412,0.02889003849246116,0.1353301031713296,-0.4732997935158629,0.16033822246093254,0.3429661637789762,-0.10182574558422874,-0.6665592269044277,-0.24942848694857447,-0.18507437762889975,-0.21192135395730768,0.060195284500059336,-0.11174884200302256,-0.37993989664221495,0.0773331972279192,-0.5403300460501858,-0.09726784265733818,-0.012654434759170047,-0.10786777024264305,0.29490065460875814,-0.31556629925728713,-0.3718053260595905,-0.051751559581466905,0.02740574976471849,-0.04907915819948675,0.11791647651535195,-0.2816999214587892,-0.22896231367184766,0.22121970069611102,-0.1167137492430227,-0.22699091378157202,-0.222812628699994,-0.34813083039346404,-0.34955669575624204,-0.02574323249175882,0.34603212477823236,-0.45156094334395647,-0.07185418084447773,0.2406338797593532,-0.09904987006986517,-0.008216756330975997,0.10503795957154874,-0.2967024486967607,-0.6028525599728768,-0.4426240791909412,-0.15859705834240326,-0.2584741648112476,-0.12743497337290635,-0.49719887633292126,-0.014971911076706214,-0.6833557792590426,0.0757442835283822,0.1772885789791075,-0.15983834866320254,-0.4857563674781611,-0.1723663575813809,-0.34072736269057846,0.0822491508295793,-0.05619487114980465,-0.4017523582474333,0.5735754132160683,-0.12157610875836179,0.24298490589304744,0.16852685277313748,0.2758416600650158,-0.2617218587897299,-0.003358361805507154,0.06528015294542121,-0.23586178583961526,-0.08630875253511064,-0.08303121323608599,0.028650616952560125,-0.29161213416425735,0.07111570915490026,-0.04209858178216328,-0.32951719907765353,0.016693127768258525,0.20333387618817955,-0.11444148265929681,-0.4583441247579544,-0.3689783979120274,-0.33954250665964864,-2.3271113170686046E-6,-0.09106388352396802,-0.08741585964510534,-0.13841912603197798,-0.07166895341587932,0.1306260761052859,-0.5419670689888687,0.08514918434734202,-0.22185415234230868,-0.34298956449599644,-0.024594575458265988,-0.005493253621470534,-0.21186326137001954,-0.3607319722418733,-0.12175214975548741,-3.1724930887860436,0.07451841915763706,-0.19566389762580053,0.06476130455134847,-0.1183179544665662,-0.5050125216846602,-0.22461367602964008,0.1571823014565625,0.01674229556937961,0.07661766846864504,-0.01736135600776483,0.047707236755656045,-0.1412385734754709,-0.06631229799538485,0.019705076184363048,0.23090577333946932,-0.32075881079002677,-0.17273327792127444,-0.40274196024106956,-0.38244508719195164,-0.0514928774520925,-0.08413378804769339,0.02307993610941301,-0.35370922320679743,0.07465185861692397,-0.07905916747015936,-0.20343084750258933,-0.059520004092601095,-0.23818553377412377,-0.1193944589093834,-0.03975375181079445,-0.05639161934647422,-0.07912611255797632,-0.17522386525746492,-0.7760787718683267,0.14505336066607838,0.055656203660144336,-0.10840796282680044,-0.17707053463409697,-0.1132957415068732,0.004205867080345092,-0.11533538914531777,0.32707371313019734,-0.14613358572830742,-0.01715015158168137,-0.7736529804192359,-0.31979841972077255,0.4138913709054347,-0.0678131957837672,0.5340124066987436,-0.06825877029400246,-0.37582145058083927,0.03401719599817502,-0.17184429768454854,-0.08648791084142672,-0.05906479401171587,-0.06541254938913474,-0.14426218503235472,-0.14112310919451493,-0.3289014971272485,-0.26748127733977617,0.33993189454261635,-0.40704282523628366,0.09136438125237797,0.27825620381744126,-0.037111672445059515,-0.2042224666735392,-0.19261900644804308,0.006527609336224018,0.23922004905288663,1.0154198726537313,-0.14113444655366253,0.14766916754799234,-0.6498078559506366,0.1436185775374928,0.08870202651324374,0.03660166191320478,0.16572088310921432,-0.03529702478662724,0.16204961945996826,0.07241111017279839,-0.009249461872422699,-0.08599504895356289,-0.08878083832113144,-0.04713434973176799,0.18044874066255961,0.43542695278355525,0.2434570120434405,-0.02290503128976332,-0.20634938227947916,0.9656005421893296,-0.33667988550495714,0.08929345863874985,-0.1144945856245036,0.058590998191880184,-0.10780310361725426,0.03559179129193398,-0.1875183613647836,0.8231556640702454,-0.6339406277415337,-0.13311720252484752,-0.0643085322442095,0.022834160932343295,-0.14176957962797726,0.03542415932421871,-0.32326303934390144,-0.2690745301515912,-0.054134734414892444,0.09696351665256128,-0.29388440847830427,0.1994723233633332,0.04550567134559028,0.23241607367788672,0.03873677537949553,-0.3037578992675627,-0.2708942057179165,-0.3611320056481625,-0.12951976827441486,-0.11708667684523417,0.1429044435358957,0.377963255227861,0.12326613077156796,0.24330368948158218,-0.2118437795387079,0.10635093493581485,-0.14408710219752577,-0.03681046077814803,-0.19172347519722263,0.4337908243263191,-0.07066198818436595,-0.4890058310007698,-0.015423036209592718,-0.335759219599705,-8.651550940046253E-4,0.08592410117735184,-0.2801829569753489,-0.11693165162686227,-0.05098874006819896,-0.24410205755684597,-0.39413812994086256,0.06597002309269782,-0.12"
     ]
    },
    {
     "name": "stdout",
     "output_type": "stream",
     "text": [
      "127283659121672,-0.07302663386124106,-0.46174725330472105,0.20968721587901107,0.30869689912413734,0.07174344379644827,0.22106665581922647,-0.11263189569677025,0.08809598927100276,0.0030128792920306553,-0.059424037655974614,0.2988235643984729,0.01793461939443366,0.12299712812219141,0.02895330132158631,-0.06630603345754658,-0.11152366347612888,-0.11040532261701116,0.25072931019232625,-0.32785620999503207,-0.09237860154613231,-0.3403776601334912,0.10158786711424801,0.48265234444567817,0.035407945710077375,0.15612871549944543,-0.21029762256848472,-0.15865068045135866,-0.11483292285691067,0.04506303963796128,-0.11289228016646229,0.370875360904187,0.33215495436094095,0.1275841635283812,-0.08495080166480215,-0.2751948348549414,0.1983221052862698,-0.12008396411951694,0.15598089282070338,0.1447822117375782,0.11867725614110934,-0.24333575041492558,-0.4060123280150677,-0.007830952663622671,0.3537350235570854,-0.5653594757239558,0.33409437581419743,-0.4122803802852823,-0.05554121568003973,-0.01701477014519625,0.10439549906678022,0.4912720159215412,-0.009711319698939016,-0.36812329451835696,0.1191383905137184,-0.2436849180173337,0.23240356982277893,-0.5592697764055607,-0.1759217010712632,-0.2923469532271495,-0.12869830230349305,-0.024596998784940108,-0.043733260857727954,-0.1715616068646134,-0.7196823578737829,-0.25685448015287127,-0.0010528005550110415,-0.9464533123854417,0.07387825622760895,-0.37194579563845664,0.47117722649526544,-0.17364520620247925,-0.08399320407227982,-0.20212100240981032,0.027372932446575363,0.2912279092226946,-0.09156941912777752,-0.23402854906184983,0.03888950043238991,0.05501945048573692,0.009642808737719362,0.26889830226176203,-0.48702165562651006,0.08328074285046472,-0.07578226846685233,-0.09057987289106094,-0.2119971235892015,0.027123147110341285,-0.19481545954471519,0.5677228223194413,-0.26236510277290387,0.17617356150997907,-0.12188345216559256,-0.18152578726902618,0.11802311820788072,-0.13574993626770718,-0.05748823171617441,0.3773944451793721,-0.0517452578094851,-0.8299310462360234,-0.13281116464332768,-0.10791525813847454,-1.3855398357838764,0.0024918166227589945,0.26013423143591863,-0.03944181760687475,2.1062874558311946E-9,-0.1850759870214355,-0.011057602301008442,0.44830486843323203,-0.5284321125082675,-0.11574647769306493,-0.13711284129085197,-0.3271992689605436,-0.19533547321103623,-0.2730938402114864,-0.025557710429071023,-0.13587050809009446,0.10848279379677814,-0.11160513657306133,-0.19459306415622654,-0.05919872022547119,0.105968830351904,-0.1872878715319648,-0.25713488092529013,0.17388196181465143,-0.3758932349258247,0.3344053208175432,-0.25426813687704675,-1.279908841568844,0.08856891824658708,-0.8433201645038286,-0.5052087043735775,-0.16743899157843062,-0.033285744067673116,-0.02554966178597536,-0.3457644002996846,-0.022588920478378512,-0.4701745002761395,-0.12871573014798987,0.10850063295662124,0.2852140574848529,-0.24930294584879087,0.5283712982490285,-0.2808434439025216,-0.1911500574223511,-0.09501450516857826,-0.08881314409782956,0.022864369358182746,-0.011958902597805205,-0.18432706367640053,-0.07756202548535233,-0.36445371527093723,0.3210729772975351,-0.13439317035382264,0.048957079795197096,-0.069992911201603,0.16972187749512818,-0.2593904237985685,0.1524065108790688,0.07638537903894552,-0.807694723000962,0.3724262083612313,0.004158208609091732,0.005471093187447161,-0.12797646961969944,0.5675397253219276,0.1488719452001507,0.13463111937165234,-0.2343533899555644,-0.2056559092156829,-0.36537180731568514,0.11640881519208518,-0.04684805367460433,-0.6568197842175753,0.05123835778772928,0.17301125516131158,-0.7440380495270924,0.05661123417831763,0.07697965978319721,-0.19388208075212982,0.11675915750853028,0.15337085455388377,0.07745448786847572,-0.058760771624964236,-0.2939212979373822,-0.11347334810873712,-0.15641568885074397,-0.00235623145898046,-0.35404691025504675,0.07313137318862518,-0.05309780676326761,0.28604362652631793,-0.12642843134867776,0.12211977766711991,-0.25858832648805646,-0.055787861034246745,-0.16648996825728496,-0.14731455533579443,-0.028543173861071164,0.28824875193632415,-0.13691177830572304,-0.20268527972592432,-0.41726258563715174,-0.14551032302899877,-0.19494202821479126,0.2621066494673997,0.15384289497814238,-0.936138904994354,-0.29941509374348313,0.09220055622961587,-0.7734696651336735,-0.17874836909957634,-0.1432115357211776,0.005194406567557192,-0.01106301273503321,-0.07190377146077749,-0.03624047060315726,-0.1135707075522409,-0.7571118206952778,0.7572155411884265,-0.22749930436692264,-0.05416380697175759,0.1532778392705211,-0.10826227685964522,0.49838553036750627,-0.02780324681225179,0.5558652005492352,-0.2391326552903186,-0.5845997914095841,-0.5275835298286281,-0.17775560027328247,-0.1127402372419437,0.0016662362102871449,0.32571552563156986,0.01687765446559914,-0.21851544014235902,0.028953112550089723,0.024583760920344075,-0.015746454683721007,-0.06539318381014711,-1.2483559672163431,-0.069278204811448,0.18651914758569169,-0.34014845626303675,-0.09754519209477573,-0.3240765554274554,0.1963669514513399,0.04789246484229246,0.09553882368326241,0.09710949205294844,-0.025986375254832147,-0.5850511048971898,-0.1753070922910583,-0.11030147221273288,0.06328790072680512,-0.053502123844454866,-0.011052640635473421,-0.2849681551414265,-0.19989144978695111,-0.3809032962988539,0.08049126638339325,-1.0824474645295132,0.12443133343007295,0.2364212410530517,0.13925308096069203,0.13266121421057311,0.18777268035228414,-0.10464046767285476,-0.027113656813422354,0.16794353948558643,-0.0488407616251603,-0.07242417518018152,-0.1690308779702756,-0.3033440341321952,-0.07255085374311059,-0.13026034564548397,0.09983589442158478,-0.19845124687340798,-0.09945340547227416,0.03272902745529087,-0.1847193658603843,0.035680353583171794,0.11023062523915883,-0.20882390587646416,0.06075640317869692,-0.13207712989348963,-0.15062930262540683,0.16215495303294694,-0.41074846737362947,0.10224468098828578,-0.14420380532061228,-0.3586707227991542,-0.5248420037844164,0.14477685688789224,-0.27882881087582256,0.4212177825220289,-0.2434577089187973,-0.524125397769511,0.26439814826855634,-0.07971141551802198,-0.3867059818339779,-0.07009459198830668,0.3385792080630281,-0.04145625186166344,0.15359307389377594,-0.03973936362931474,-0.8302280531145512,-0.17624168457992637,-0.38913989453977554,-0.13682310537769612,0.2236204784160773,-0.0580696076117352,0.04320139811821544,-0.20505004999902107,-0.12170941468058634,-0.23375940399925157,0.07363888602311428,0.021440651283993317,-0.11410549312979736,-0.0014527860490960334,-0.14986866914974606,-0.2925523833421961,-0.1349073939630271,-0.1399263483901118,-0.004461225225988966,-0.1762195262079903,-0.08876844243667317,0.09349822668182675,-0.31968667848229004,0.016642933273734378,-0.11557721464958363,0.08433333517265308,0.21104190221099026,-0.07156647570958342,-0.39080227711801774,-0.06245649033251185,-0.18328897414531162,0.11706988382292854,-0.3645676277539467,-0.04367279789674636,-0.4214308223876124,-0.3581419749138683,-0.27599718784377636,-0.021308180308685445,-0.23386933064313645,0.13192155794231766,0.048609414057557775,-0.2615156068611281,0.1528759550553216,-0.19749198155341594,-1.3504918143326783,-0.15704828191943646,-0.31695281082174215,-0.1393724855216051,0.0741305719531155,0.2373196305771626,0.1907609708820658,-0.12559506576996346,-0.16238128948828037,0.0447940164355753,-0.23907528468238404,0.019726650835405122,0.36112517904603697,0.17093877847646152,0.29423335667817485,-0.12433183370637722,-0.12238869106264949,0.30468944067977366,-0.17617738132979546,-0.220774753901466,-0.4619690607640008,0.18935897294097168,-0.6333712901991411,-0.23868100392238406,0.30271996837070525,0.44901728284889086,0.2142357065961726,-0.27517289802096356,0.088865172687678,-0.5753056966717184,0.24504111753666288,-0.15872983201146576,-0.12102858838645562,0.2181989891876053,-0.3107647792041253,0.1903213383300172,0.17718959302574436,0.13001622244259725,-0.06903389011333232,9.011870896980531E-4,0.7980609085550484,0.040150529975921855,-0.04465054153201126,-0.17033245253538434,0.07402678836910524,-0.04792611094901465,0.5911113131728538,-0.0938269265497643,-0.20252586134273853,0.27198686577880954,0.08274728431027847,-0.11201762883744451,-0.08140849367900048,0.05080807913192879,0.02532671947583282,-0.7182110862656297,-0.5157280818623591,-0.3251212221527537,-0.20344956918679405,-0.25903140632531163,0.013387634232951558,-0.10630708749776555,-0.08811786407736968,0.07425371842132039,0.06062962724894057,0.01381467555885911,-0.5678018319023403,-0.18900519530059132,-0.11056675338533002,-0.25254943703299976,-0.6999655030604054,0.6858665375642264,0.06674558604072944,0.16710751889427497,-0.7544502404913613,-0.2627669833343414,0.1690809777324626,0.11646149803955702,-0.03911350642576742,-0.03976832155162739,-0.1092320276777118,0.2426454113005814,-0.22472699257117926,-0.1291636598544157,0.02938606150951037,0.35349169910133116,-0.013986995641613823,-0.03713220700007412,0.04803612231676037,-0.2721928298021835,-0.07497377536259307,0.05158244324113013,-0.1818654240574918,-0.3479557701491283,-0.28729415836551975,0.20235492362735888,0.11976361815271144,-0.045684445228508286,-0.05044420645458922,0.1939348591636841,0.08841232079726181,0.038718878971466274,-0.046017733390420194,0.035674460637337264,-0.14704647439818835,0.040592557173324405,-0.26900712390876586,-0.045797004098950836,-0.24914518926124968,0.03712351086034268,0.038016625009573195,0.07788055888731013,-0.3278886490163514,-0.12430652959516085,0.28094374833469526,-0.11697072679605516,0.036780059708052426,-0.06631312244372432,-0.33704425718095504,-0.11977659378842076,0.06323278682223175,0.12120800505082402,-0.0030857378943260085,0.223055766277853,0.629951726202027,-0.8061491110780517,0.1471568354010202,-0.07125271840447761,-0.010847618201289865,-0.3064215077735287,-0.06668849261238366,0.37072872022869197,0.6128063614704201,0.43981645310805445,0.2960709873404426,-0.024317313646481778,-0.07615984967497827,-0.026192940172116444,0.228416056225202,-0.11376788907980685,0.07027467672429949,-0.1611446621500526,-0.19504548352364753,-0.21711299561742667,-0.012858429726392366,0.17778820450114366,0.023348833600502716,-0.05799575094292139,-0.1785886300090467,-0.0627657072933324,-0.013975276368862396,-0.0657413287137705,-0.12616525195523623,0.09126789846383114,-0.3375430086496615,0.14903715492888395,0.007815789839933817,0.15762147147090805,-0.11940898164738818,0.006914423519181381,-0.2323937097486859,-0.47730310475472126,-0.07581286098735616,0.2640890983802736,0.1131365484464313,-0.1727991236439318,-0.1173232779678511,-0.17457036180144647,-0.5238448333471345,0.005629483688475751,-0.37214134196922666,-0.04018958907179948,-0.1565973359971141,0.14837403801797402,-0.032133166263072374,0.04831022062047701,0.08795019797955972,-0.08504629622825569,-0.129362879164388,0.28885164536315,-0.27366330366066893,-0.0690719528683925,-0.6250261240265264,0.03982543512613744,0.06173940193010486,0.2258188725523748,0.02774618007411707,-0.23411324813405784,-0.15250481223241288,-0.38219132602407024,0.12637291778403797,-0.11718643980902954,0.14160484548841692,0.012804856263585846,-0.0548437843609509,-0.03727245817560571,-0.2646874440794843,-0.10553218490238285,0.0022938454720239877,-0.3190674224133577,0.024216644864122807,-0.2449279845738522,-0.024221433827992165,-0.09066082460918005,-0.3228970324286658,0.112248501347781,-0.1230721068806956,-0.8763313924773597,0.08802581939606435,0.4831030590695414,0.12086083663315961,-0.694510565704107,-0.10237356829309105,0.22317621369070129,-0.15877777294649267,0.014474943768225267,-0.12128158505336718,-0.1439684984146238,-0.6529588763704293,-0.08804347851166353,0.04849615700927058,-0.25319238904218494,-0.27504864846893723,0.10810637619143383,0.2873198995523285,-0.2877573622608054,-0.06331992202671288,-0.2759705926312914,-0.0966403888892122,-0.38530411053022356,-0.1464755635789832,0.012003793610475471,0.03110438810924139,-0.035077653203158095,0.17203745433633524,-0.3623867619092655,-0.27574357288199475,-0.18582783412882942,-0.10532555002515548,-0.2109360598485138,-0.30038096558812527,-0.2752049129287851,-0.3939833953804402,-0.10223644677524846,-0.5953077491727968,-0.09790278195021639,-0.13130629605990796,0.2872749660184149,0.47017155670833904,0.2510817184434674,-0.13425672983363793,-0.14904061241384586,-0.07442599136450194,-0.5549769575383154,0.020086571322397908,-0.008161063317424068,-0.1032924934425125,-0.22016556753286676,-0.13669876227326494,-0.3030622311102453,-0.3354047748072911,-0.20379909027796353,0.019915674103112898,-0.3918853681783366,0.024163883486846966,-0.3752692003392,-0.28974973074105376,0.0800255944135584,-0.057228249380080615,0.12689735018856999,-0.37796555267334925,-0.09868861441870266,0.3145300495410394,-0.06542237943139696,-0.14943883980314965,-0.3519537917946223,-0.23149271270791888,-0.08428772563806564,0.013256540881914526,-0.4225497036656587,0.003161073499712043,-0.1057758563192929,-0.17371813224367844,-0.07294215522386205,-0.5291661340620822,-0.12053180642136543,-9.838852201942245E-5,-0.11374960137544228,-0.2630443369553306,-0.1514109386304229,0.2703069731333654,-0.06944393185206196,-0.02324964917489895,-0.32292542799106777,-0.14674362726979054,0.7262823324362381,-0.2008207407868998,-0.48756976026083043,0.10796380297648321,-0.2081282552590313,-0.03946643706841761,-0.2860704377713987,-0.22486070490485255,0.0032800398452113807,-0.26986584935413505,-0.08227353279589719,-0.11902385908419047,0.11691922666688763,-0.15442487206782488,0.02899722903113812,0.016423334672197563,0.04934496372198758,0.3107553881120337,-0.29224549452458176,0.02338782573095172,0.24898691662085595,-0.49581091767060137,-0.007551541722322983,-0.16629169642757152,-0.2363848008207642,-0.07233690543034685,-0.1608277559903491,-0.19539103531657295,0.558240116006281,-0.758428167052599,0.08487947750956236,-0.2621038854549427,-0.723787253507028,-0.06323636755369832,0.03544057860365179,-0.21616483438202613,-0.19677220274945384,0.16340711784042516,0.0766888360310996,0.07573325543904257,0.16551321930445342,-0.0029047801083829645,0.005532219728823016,-0.3593528451361178,-0.32968410516112423,-0.04006612194993537,-0.6356308303143272,0.032802556911870104,-0.15221264975297,0.0021916705598059483,-0.20005924119227353,0.02847740218495872,0.5012118654668151,-0.36280697847477156,-0.038938219063109306,-0.5129960017839468,-0.11667865538866527,-0.45859545800993823,-0.4225884275170811,-0.012730294703148883,-0.3773946653454442,-0.019402325128902068,-0.3049430563997563,0.6133255797928348,0.018891801183532522,0.11675872386892196,-0.03294388480493604,-0.5116721834939716,-0.5583717165000844,-0.1098743202431697,-0.3660332261069071,0.1094638065089807,-0.3845059194480741,-0.7463934512557348,0.27371415391645265,-0.20779572528363266,-0.09168031591301261,0.17310621015504893,-0.06472659907827856,-0.1960117018971743,0.054266494190973305,-0.12050066699958988,-0.23677198777467076,-0.0585389117846537,-0.37676809644697534,-0.03051949603035668,0.13961504600493982,-0.19662926219266272,-0.11353665584024197,-0.14161187097609165,0.060302707724665505,0.03900493453515145,0.32836729946909515,-0.6714769023073798,0.19298519473877263,0.36589926801938005,-0.06281767438172206,0.1224905705860845,-0.06380643061435881,0.0621572567192102,0.026495495587776186,0.19874385806316988,0.1138884158837948,-0.7064512430523251,-0.03653822471177108,-0.06851651286415217,0.10458775192548946,0.04905262548323962,0.030410678756504442,-0.23589176396318173,0.02507936541463909,-0.04506377844141734,-0.04190354013509917,-0.16182991043870965,-0.2039420016446436,0.15192179528488978,-0.21659230104757013,-0.6518079714566811,0.05181899355405498,-0.332893938490594,-0.3145872546729794,-0.1771741202246703,0.06720083709483265,-0.14934965255230295,-0.19587388946828563,-0.06846490838627868,0.16869419914136155,-0.45059828785328787,-0.3047346494572386,-0.17437966072442404,-0.13051303810647835,-0.01899200875818563,-0.021699121629381292,-0.36335449479826076,-0.022333818277758252,-0.12163615176901225,-0.2484594120339211,-0.038825320946642664,-0.09222509647272896,0.20037387077485314,-0.11020816929829773,-0.10415408228686458,0.09778906155823612,-0.10809611936946348,-0.14431500143620613,0.010386668069203119,-0.07905906816677981,0.3289724443282158,0.0518388322313425,0.16996333699321253,-0.19051393285715604,0.06001218317175479,-0.0687409198955338,0.11174519950413613,-0.34316478946038703,-0.23035112813711364,0.044050"
     ]
    },
    {
     "name": "stdout",
     "output_type": "stream",
     "text": [
      "584419477276,-0.13516351956234088,0.15935940914789834,-0.20121396262460048,0.05337732271756261,-0.17410933852009727,0.05389154751001536,-0.6070465283194804,-0.18465050706114797,-0.4484354091347193,0.0761185206851695,0.016037594931496747,0.09283313196881485,-0.0555600392723389,-0.6897386774324074,-0.041981483457031794,-0.42562532805848763,-0.010040996473762616,-0.36664953310296594,-0.21254968659232687,0.030475672791353922,-0.42509197766736506,0.30635429410064025,-0.12844584260127825,-0.15488742126276445,-0.14330446353269546,-0.47747894447599815,0.07503344539241157,0.09003564938157807,-0.24139076062082407,0.021131096409229697,0.09497338520105282,0.1457805162363418,-0.27254363033293405,-0.07427020170142132,-0.1293700357464516,-0.3123595600445862,0.13038346152155528,-0.07900778838815209,0.05795449526545302,0.07028546897349151,0.1198032241962405,-0.3812181353650083,0.7155548770114737,0.1569673777593243,-0.47453436937810134,0.03045203656685425,-0.060125324647591676,-0.13316071142279495,0.11901465170995351,-0.15281854217039745,-0.05479542312604165,-0.2987376064336208,-0.055594882675935306,0.3241580297514854,0.03413538700727732,0.27909484587463435,-0.11131747462693445,-0.1260540851241152,-0.26889979525376806,0.05043872233359454,-0.3090030201772327,0.26018374343571077,-0.19578028440542097,0.09089446632497471,0.08217240992379797,-0.594720177281625,-0.17294435650710585,0.005644880052780953,-0.431006206377122,-0.06254858993344849,0.04020010970560381,0.0037625768193602803,-0.9878818086615079,0.15401090105101456,-0.19004759819500996,-0.19003266427659093,-0.23445310417856643,-0.02628912520565963,0.16348713487915814,0.09098098068654535,-0.09366773571319066,0.09096383987379639,0.04845391024462302,-0.14473678803699772,0.21259974053679143,-0.03111507297982471,0.10187224380031391,-0.0018364684963150055,-0.07434456839182774,0.03758060147543469,0.07334000404280092,0.2037909545959064,-0.10347854797510196,-0.19443067505437542,0.03268597366695204,-0.13776124445908147,-0.13426948597354332,-0.43318299703698565,0.005471093187447161,0.1468581299040151,-0.4047578162752119,0.006562088247707503,-0.3790069837706017,-0.30845492001867486,-0.16441827033821987,-0.12378069762363766,-0.27175885471293704,-0.15038631663014237,0.11371479706295462,0.17602950746544344,0.2166922091752082,0.14013779315548397,0.728927742103311,-0.20949216871917034,0.4351259478785239,0.06609231985634431,0.004747080346091842,-0.11832233097686314,-0.32897126495484663,-0.22518963850895296,-0.3555354108812517,-0.02726765793233641,-0.020998035125323597,-0.3894647738130725,0.07393367110881845,-0.1325944048348488,0.3063423861142948,-0.020048329391568014,-0.3770331384161251,0.1421679577947721,-0.11258504198395694,0.09587318779042621,0.7101070097067542,-0.45460309416389133,-0.2504094537204463,-0.038271304159688324,-0.4812581087562063,-0.380075332515847,-0.5129886281771893,-0.15421290753446812,-0.33862924563356545,-0.24584172033400273,-0.2915283142812999,-0.7023833376297338,-0.3171906975900154,0.12662175369421347,0.24186652303162076,-0.07570803628119158,-0.07165089440470314,-0.14054755441635453,0.00161221996931017,-0.1848607856342553,-0.2867268107475948,-0.2561516516836786,-0.1556563839012687,0.20355893732124059,-0.048230671797111144,0.13754126101573125,0.05134006926038459,0.008584309812913596,0.0545622686583415,0.08932258318154546,-0.13183077590277364,0.2377316719952067,-0.022022777242102283,-0.3166348460790622,-0.4260665340092497,-0.09855971689902458,0.2200491539258903,0.10501876410125624,-0.22407184179005638,-0.2648210571511068,0.14694559359174741,-0.07849413188129443,-0.05176409170195256,-0.46336502179082323,-0.043738173183837034,0.1655985046510168,0.030378695566116973,-0.055426737686961915,-0.01645251297075023,-0.04123108845342404,0.9122723094777567,-0.3316171840436968,-0.2633888679368911,-0.10084008213118548,-1.0907604416153078,0.18883788620908357,-0.21107770676921872,-0.13446922880933465,0.21427237085352027,0.06637723845898108,-0.14801931177212385,-0.08086226269521934,-0.14712256707795232,0.17174383959632095,-0.032862226135265335,-0.0508087256566473,-0.1378387614335537,-0.6024437857381376,-0.12303673680852485,0.43355024598537356,-0.6621387917892417,-0.27938037908062435,0.2714411305104552,-0.04664193686143023,0.056548896064954585,0.08458380529453609,-0.08134643086095662,0.009235499993466022,-0.154665303386092,-0.14702772113056964,-0.07869195024699926,-0.0826121174921534,0.08073057271421691,0.3080938409560947,0.0658004663802841,0.30356287161803275,-0.0247809205203132,-0.2839250494788279,0.04970695140188839,-0.06675715042419653,0.03610420972865006,0.063897584256555,-0.07430370860888369,-0.17229444253330747,-0.08237485878848977,0.0017940626230636381,0.018007692086109497,-0.25723933281614025,0.2266648015474665,-0.7343782934781392,-0.1885123019334108,-0.21865320685691278,-0.09584770778957051,0.1729148992299943,0.33708204188011576,-0.17425943621254555,-0.9551065129711277,-0.0020816992629124225,0.03835652837355552,-0.15504422971782492,-0.14793295686877903,0.012954651694311505,0.0799549914624487,-0.10128053449880164,0.012575999762269469,0.036912946425742964,-0.15844129270713814,-0.6574085670846436,-0.18652667462999648,-0.32074799904887324,-1.4642251667268087,-0.007156900740787932,-1.1664421244418282,0.2090769704295825,0.06591903458027593,0.43366128197650533,-0.11489211238839211,-0.008486966298055086,-0.02448378524939345,-0.34117718778909417,0.012817923875477658,-0.006042217929132473,-0.17990626836225834,-0.3193378249150704,-0.040632713221608496,-0.1557338009597367,0.031273405186547226,0.14560331184630307,-0.2141859641026284,-0.0523697714632358,-0.008022231876338179,0.20373106646016903,-0.24400412315270006,-0.11359385382687254,-0.5029814875129199,-0.17897191945697422,-0.3027436714112012,0.19091230532175996,-0.15029565090044714,-0.3447314668696687,-0.10560160389295778,0.0657709742404153,-0.14310135330557314,0.27302819782731863,0.04273138227889665,-0.08881865051146136,-0.08753175767395292,0.11533314713648604,-0.09125287303071292,0.1346948312182596,-0.09033597490148947,-0.12484213725177652,-0.11151220861145665,-0.10414109034503749,-0.22990331641698317,-0.09857460016632445,-0.16315335343379672,-0.0430633506040684,0.04880775523563244,-0.20775800666393968,-0.0386848205229458,0.16547228214669316,0.04053635839496497,-0.32343311379626055,-0.04550526589296364,-0.2674888828846767,-0.03034964812146806,-0.04240563827566748,-0.16289761602578318,-0.1867561055727685,-0.1732381956924241,-0.002559635392008149,0.740914003263455,-0.3072968805780465,0.023454641329685267,-0.20710798575540737,0.06355081905608452,-0.20960176949266335,-0.5044599185985563,0.07910214559693511,-0.04276380409140008,-0.3568250224769382,-0.3274256103241342,0.08189178286468489,0.1997212239200448,0.07735137245730704,-0.1415301479151634,-0.1993863611427432,-0.29135437069235215,0.08497956213448313,0.1575987431941946,-0.06580342685109149,-0.10256957989620825,-0.45537737424564395,-0.02081283224807772,-0.18366357534461206,-0.06039937075424179,0.024041526786983902,0.0018321648853681946,-0.22491578751666305,0.15305896448737305,-0.20023474601834276,-0.18046064397826894,-0.05904323127839642,-0.7632846525667815,-0.2099053005587742,-0.07452650522019966,0.26220282983800236,-0.09501996643344202,0.0011093532000414873,0.008234930180552056,0.18802539074865346,-0.0664749352636876,0.05585533674060056,-0.3522996611125822,-0.025250184784849507,0.2467291059683146,0.11427063627775069,-0.47166943037312253,0.3151965816767881,0.09084291910689982,-0.01256717048913684,0.16368737680964093,-0.12011357659724652,-0.4200714531595888,0.17031567966960232,-0.21874381692135472,0.060125329368419286,-0.3717873326314134,-0.14432692767942026,0.08420239335188254,0.1956296383051989,0.010555784432729285,-0.16698872673867968,0.08291725195618363,0.24258099139864178,0.08866570556693637,0.158952487588265,-0.036143745471063984,0.21138270455218897,0.10221206694063628,0.33326145113471695,-0.17515866148362944,-0.3660489284492313,-0.2613313067301653,0.08262660077495261,-0.1247569479871172,-0.03852741669643465,-0.10251146332571857,0.100669782619141,-0.0863301734086447,0.021007278490573576,0.04017907720695587,-0.03734274516259466,-0.19885478871770187,-0.3142623199956624,-0.119261318716754,-0.24841900857495328,-0.1344360799180912,0.040258505445606586,-0.49360714873769096,0.05931281999711617,-0.2560788472926157,-0.46874353706918237,-0.14178483458591198,0.056083250768778514,0.04180494049072208,-0.0634897690687712,0.2642050462292678,0.03586581930225542,0.2554503554978316,-0.5724530812447208,-0.07132818200866801,-0.14562532343577747,0.20528718328564008,0.4525573077379175,0.016090346447163784,-0.03567440635046905,0.032484941988956635,-0.17232333636101865,-0.16697050082127904,0.10032540120535628,0.018420023176230923,-0.7360814913898474,-0.3359880716826759,0.03090032388791966,0.33364817281341347,0.5533941240713374,-0.47171697882020025,-0.018711611819516548,0.17450700659837398,-0.15918843534895272,0.027079639002733257,-0.5345783525595857,0.2236925243027516,0.3694860845881996,0.0845938287490714,-0.2924008856135148,-0.5600335130801336,0.0375779018317557,0.16849879697079326,0.062213022334824224,0.04758232709794888,-0.2969947805113564,-0.23462086450984304,-0.19602367506686486,-0.06612052929417585,0.21078531902642444,-0.13667357511536637,-0.2803469799988268,-0.04125428176999686,-0.03799774703064652,-0.011562929871121317,-0.05353791341075995,-0.1633262957792162,-0.8862202731784814,-0.2303720963532347,0.24039072761512986,-0.11033270379842512,0.03347776227198392,-0.012063187015059403,-0.16746097279930464,-0.17314231210619363,-0.33867379875138554,0.059245636908035366,-0.29521096725745316,-0.021893684282846902,-0.3215363294220818,-0.22510297094459455,-0.2567270833303964,-0.23385101670982933,0.06643976045692837,-0.011543996506984615,0.12643473462676316,0.07058566533308697,-0.19163074851573755,-0.10792769327517249,-0.3217708714916323,0.06405355179318355,-0.24967708445431866,-0.33761437243110387,-0.1401666530665934,-0.33865178582651934,-0.10169274369735617,-0.2607670367315724,-0.1015575639480345,0.009397794745460954,-0.10858455680458175,-0.19258741087835157,-0.14330211785925814,0.06722326548106493,-0.020189766587539147,-0.15800122398816144,0.03323251395753468,0.05352587193579195,0.022306310456321764,-0.10660048695953916,-0.27602715308616976,0.09235041377548363,0.0058925268603407755,0.2863686126107309,-0.0899604694655782,-0.15219201834697407,-0.5731563118157373,0.08137273190017917,0.2822291584601854,0.46694507602394764,-0.05920430294848351,0.22661624527685448,0.06734468533010513,-0.011743248333516353,-0.03023461166418985,0.41700660665924827,-0.09661790335713999,-0.2901423103751162,-0.1021227782228005,-0.023757617233845205,-0.3508703750852736,0.23328377151107021,-0.2143202457727422,0.4699028178188279,-0.01873673107911551,-0.3708605198887176,-0.12385163738201128,0.07431539955870388,-0.5494177980347299,-0.37542788215339706,-0.287732355229825,0.02999134408565097,-0.14524045153897922,0.061750695362955625,-0.16050730277469016,-0.22203857869468588,-0.12715192889006377,-0.24224399759745782,-0.04312189024766992,-0.007819490589246785,0.0683714325088533,0.002692799093397048,-0.11078699280897755,-0.277561717301542,-0.32995950492646897,-1.1163693350172401,-0.3346912401158247,-0.4242364673197912,0.14387161038511448,-0.015087086849018017,0.1549154626173336,0.03991823993137039,-0.4973313299347649,-0.009104016966297056,-0.15857619288910835,0.15326736628120266,-0.08309704011880518,0.13162018440833242,-0.24406226931611522,-0.2705284553246543,-0.2996622664167049,0.08141358958464265,-0.2514905192936638,-0.07364729638628115,0.09987828166504711,-0.02131970619059031,0.5682536281635164,-0.5662906005552889,-0.17847115533850116,-0.13230213787969197,0.017154673596810166,-0.03963252090934372,-0.05626835956730481,-0.12014274857811971,0.18142130056742928,-0.03897855246357739,0.07547102342295,0.08513719422855483,-0.14246633368468503,-0.034565789043404266,-0.26598588344102975,-0.13404361326222675,-0.17887967998893198,-0.03931344544112678,0.20151642330478342,0.14241777479103732,-0.15512715292658585,0.008330256479771037,-0.09246284824117149,-0.026605109818943106,-0.30100456621926147,0.0067906108771578115,-0.3558855736604001,0.9462673093379642,-0.2867010626925438,-0.1938375141013789,0.29826096114751843,-0.24750065076903302,-0.10468922476624452,0.09288836842147447,-0.4011122763240024,-0.22483498308176034,0.06811603167523714,0.1373868254194091,-0.20309787971149953,-0.24496084649013555,-0.16352222225260798,0.23095371195689143,-0.3269876898294138,-0.17554550826434637,-0.06451749749301164,-0.016263968599827185,-0.43590468442130104,0.2660715566771794,-0.13295535784802734,0.03448513127395294,-0.13325255208135628,0.28813987548019565,-0.1115517107481857,-0.46002208921181675,0.15922222751452064,-0.15111804624057343,-0.08447703727635636,-0.2579666973834944,0.06389438798151814,-0.054105028829908704,-0.04349637707899797,0.013895397949986291,-0.3087372733166561,-0.3579735959906226,0.14281265728856932,0.012430251146739667,-0.7872819878030999,-0.7320756376468094,0.13841653774761886,-0.46238476631371084,0.15264657106400317,-0.24532003353740908,0.8574216416452569,0.07640125199805266,0.2178059444937245,-0.6197481354210294,-0.10423670098987932,-0.15428594402771448,0.11544784303161305,0.027949333203548556,-0.5452139771736448,0.30370773132209244,-0.2544363978899674,0.12678359296014402,0.010359003902397761,-0.272175008867396,-0.2429552426569864,-0.08644932540227966,-0.059909335591571994,-0.02720948659183486,-0.09046310029842577,0.031711875457568275,-0.14584132051363044,0.12000110906238759,0.13635552197730152,-0.021597031573468352,0.1864189956838025,-0.27316583752891893,0.23282350188970125,-0.29418460004990454,0.16537366396241301,-0.1104010804258012,-1.6723869688160975,-0.047994739504788886,-0.2745449179436248,0.030658052599104483,-0.6467924201023242,0.2017882191375854,-0.3071578422812249,-0.10052507085647927,-0.012564478594590398,-0.33696142463727896,0.2299778809854048,-0.15016157300604155,-0.456049845162326,-0.006400419269411754,0.5435337154062561,-0.07603967084551667,0.09423992706045445,-0.14180666053435978,-0.0022429512994608515,-0.07965406885731359,0.40073951013725717,0.12372518368187206,-0.023743976128670376,0.21938173772469496,-0.21866472591932093,0.12617904737113242,-0.06848774692716075,-0.3851341221306127,-0.14186955997998468,0.17561444599792717,-0.3315516685448397,0.10639471585315415,0.04244679732324019,0.14234528101548416,0.0034807253064115017,-0.1362630424969361,-0.571458176862079,9.568899935236629E-4,-0.07423985132115432,0.20273337776137143,-0.10924531181350741,-0.01574460433793756,-0.045698246345503776,-0.2502938110571604,0.14627597560738445,-0.3419336161420398,-0.22466469120722668,-0.4951809412846365,-0.24964114934149384,-0.11995353957257684,-0.2671275670198473,0.0525473643813481,-0.17057562840411752,0.03334417518525477,0.08256741874693749,-0.02152490831965098,-0.28645107849117196,0.08318451096589775,-0.2227554247206157,-0.050517169687740004,-0.01577951699933086,0.31295373259500725,-0.08977323449688117,0.12116994962222499,-0.5978601208886491,0.04733682580113118,0.25131419136173067,-0.031794301861227364,-0.07362589674503661,-0.07858249354072389,0.04506929496803924,-0.2194645437768846,-0.1353134389466716,0.28926288141668416,-0.20973835386699316,-0.07481687901706068,-0.266010291754082,0.043071448950487805,-0.048620675694568946,-0.5125499822841615,0.14667728010543288,-0.049248801141505774,-0.032622817964182406,0.10736017499271486,-0.764724048396577,-0.18388433918297456,-0.02843357092623091,0.20742380081631873,-0.2704988038336988,-0.3149175582074149,-0.01329019210088295,-1.094455254596617,0.34412878418419074,-0.14513546148502146,0.015455505611546325,-0.11719536542596545,0.033811099343931915,-0.4492642870789145,0.1616194311649233,-0.08917708285470125,0.08515114620346177,0.0439600972880948,-0.2748651791122086,0.3732388259530418,-0.10794564810788335,-0.33622997563187146,0.01988954916024189,0.3501093810251406,-0.241290987926092,0.014382446977135012,-0.14662655221169715,0.024438471217611352,0.1862347605270842,0.12894710098183437,-0.18698999720474307,0.10199658245791036,0.187814460713403,-0.22019612786180917,0.25485410663336383,-0.10237031078621153,-0.7242943194545844,-0.023782578598642152,0.29830341877084343,0.08504790260612148,0.021871123294247695,-0.05023280071621401,0.2805088064436016,-0.5401122727913665,-0.17469924910522272,-0.46846738885797834,-0.08574125187648936,-0.10497519153451443,-0.1207560681012105,-0.0133575550"
     ]
    },
    {
     "name": "stdout",
     "output_type": "stream",
     "text": [
      "67691549,-0.2511359768201764,-0.13175351788690035,0.11120808355535296,-0.05966903078424248,-0.18286425045767868,-0.11326719230413221,-0.003279785497843557,-0.19040662646286727,0.06727271772244883,-0.08771227866340152,-0.26265875792124144,-0.28859415391723897,-0.022699258958524093,-0.15182094070159344,0.04377339313311515,-0.10806344932511572,-0.20597496114426966,0.20456116394936757,-0.266347457332053,0.13672766904610958,-0.14554091541029188,-0.019923282185445968,-0.16768744871842722,-0.4180169177916557,-0.04517595211610984,-0.023787564049734693,0.2311186153549356,-0.28801897637109874,-0.23369664884005284,-0.004787613005481575,-0.17530116328831977,-0.23344105945330065,0.016231769676826203,-0.17059777656814562,0.3495863170277475,0.14420409015408994,0.27674938810789057,-0.13324144510063096,-0.31378628722549823,0.08961958888414669,-0.28076345763953553,0.24051606388347488,-0.2262284007751376,-0.16854176077387414,-0.13390211537243923,0.05143051927667991,0.37687789230088725,-0.10400228057925831,-0.21029744003483308,-0.4115114758990778,-0.012807882408776913,0.06643815501576392,-0.36423224440866314,0.10154069862138437,0.16209376035090728,-0.2271611627000594,-0.06653587860191197,-0.13938719686377427,0.25011459997432534,-0.024267835469432116,-0.2664949850517288,-0.2456840056439057,0.42256023278358035,0.0014047520005157179,-0.29130403244388564,-0.13189908653109728,-0.404477896782528,-0.26236480736686224,-0.18817543696178562,-0.03489320724288075,-0.13567076328003466,-0.12097152806285422,-0.18675019090664216,-0.27291473453351095,-0.9519887566124725,-0.006305600090236141,-0.3691200939360047,-0.1943821401841699,0.30006766162892173,-0.13988509708770927,0.0010369874945491007,0.03716557563605502,-0.4790713399330274,-0.3437419656441735,0.03596166951506862,0.2234487730015683,-0.09486798908501541,0.0018814617066848353,0.2080015281777729,0.4019945947399704,-0.08660971562874697,0.05721381100553124,-0.01543622164834549,0.14688347155046386,-0.1435371547494398,-0.03216384393045043,-0.10066921189849733,-0.0600341006295563,0.2031930049765531,0.13849312888076556,0.7336205470778903,0.1519477064415411,-0.5720064919978324,-0.04725523905205089,0.08683478102450905,-0.1266762959309225,0.015502881103809523,0.15084160660068568,-0.1522266735365355,-0.37618773256678845,0.3265788873663231,-0.16275795791557085,-0.22846173560427144,-0.5360250278588895,-0.09127953942561842,-0.18946583289704916,-0.8890709008096195,-0.3047795898518332,0.081120876529576,0.23030918828310584,-0.1133385830598758,-0.407053568887463,-0.38515194132386715,-0.06201688011147874,0.2011881863125961,0.12403137767266262,0.012526886811256929,2.208434984579066E-4,-0.10075570127889323,-0.12279891001648799,-0.3002586816882548,-0.49679014164983193,0.49165306825671196,0.2995801573056838,-0.16767246728513058,-0.20778770245108413,-0.049210559978790286,-0.003089978117861593,-0.38579908849611877,0.16474274393551158,-0.5671112589312003,-0.19084363919125744,0.003014230298055742,-0.21219981901512655,0.096229893136453,-2.3267147112291178,0.022510586113033502,0.15552534113619884,-0.11527549046176445,-0.4662478759354309,0.10564673343097264,-0.17177341114429312,-0.12987151997629454,0.8857687073092353,-0.007524134751986331,0.10596304188212749,-0.10388363524847234,-0.0445476592905598,-0.42797226313494774,-0.7148595842475682,-0.13545122810535914,0.022369540753594038,-0.40766957240966856,-0.2666629838744404,-0.45011985111258296,-0.22068855359103454,0.012096412424208685,0.07521814112004709,-0.10922386221127843,-0.04101670966714074,-0.04625269828735073,0.18173836277327,-0.30807685698179044,-0.05398414189226344,0.1388444581346477,0.10909318346750448,0.020868497466991504,0.07411198607391736,-0.010965353631251515,-0.06752456717260928,-0.14807393045325434,-0.03114488629735355,0.31020727932003145,-0.2780402445282662,0.21436753647606108,-0.5373673344926722,-0.8622524180276101,-0.3909304543871023,0.7246054830101748,-0.09671663446144957,0.08556920221781389,-0.08168346880881322,-0.38680672640657215,0.05443549633966959,0.2977889086613258,0.19012460370646794,-0.07145766175486087,0.13408619444470612,-0.20565607174025033,-0.14278931164932138,-0.35079435209289433,-0.25090663267383523,-0.30648878894325016,-0.0283025507139776,-0.208903780994743,-0.005751266545097848,-0.05367334483899711,0.10631335630107601,-0.1565687124585941,-0.19132670370886834,0.07261251770469436,0.12700303497662235,-0.2757534461515134,-0.42748206167567365,0.030921224830476508,-0.004785767528348723,-0.3891469586272294,-0.2245399214151926,0.01726185286563853,-0.6173503877244768,0.0863249338371048,-0.2094546109935728,-0.49166934501391996,0.6715896778571546,-0.11054052313008356,-0.7900029779822734,-0.03765682704654094,-0.2191125132665171,-0.1233100718701903,0.07454198741670179,0.06926834223020534,0.09860053280724057,0.2782875791905719,-0.07912768491962993,-0.2401171086723204,0.24629235717769576,0.020858846514676954,0.04892030700200071,-0.15770070474335993,0.06248567940395223,0.6817260302138675,0.11845682952076242,0.4451373613131427,-0.24517700044485738,-0.4402202203435657,-0.05545301568156556,-0.49338947908560166,-2.778906963779386E-4,0.002405751698437558,0.04668761829869887,0.2722543116061909,-0.07583347033637776,-0.027358122181107628,-0.2779210721124356,0.010332266348915415,0.22224408941499366,-0.2308621602365094,-0.6455308727387443,-0.2495492664545315,0.16940121831301,0.1989113590019853,0.21722612565490548,-0.19273247029839233,0.09248801400333018,-0.08593724643233504,0.09183418027895172,-0.17541447289819087,-0.19269477745981073,-0.15423032705177253,-0.26769220698158847,-0.14513408763596433,-0.023015867724345107,0.11079862404951508,-0.2544752969346292,-0.26689225998840044,0.020257343798222752,-0.13227483298947512,0.09979155857019026,0.17878207231908735,-0.2424784651668351,-0.4388437666044789,-0.08211676839957567,-0.048969018243668866,-0.16786705904374397,-0.21959379765366738,-0.17829195230903822,-0.31786806355507397,0.06722289405556599,0.14927066000536796,-0.49483934825583026,-0.3126898843561137,-0.5008948483804512,0.007555898377266459,-0.12329031033009231,-0.026964266559116722,0.1858657233406754,-0.1227590604691985,-0.14785952764628849,0.018158952532077676,-0.26221902659502916,-0.05831516247464251,0.16481162050486853,0.42096246567196777,-0.21457552432058588,-0.047550049334427795,-0.6711556501438877,-0.42631928932443114,-0.6625965026206445,-0.09348561914775859,-0.14654644747447523,0.1559987819952642,-0.425351349507734,0.2881036468014961,0.20441013436048736,-0.03052520250155804,-0.23323092998947775,-0.4860404174543237,-0.2052008339170691,-0.2358071798135343,-0.4709686262722829,-0.03627193357841797,0.30652872396639563,0.08747456894254388,0.36820962449670586,-0.1622980259132056,-0.07914107786755097,-0.11777769655988989,-0.06599106742811661,-0.8464001189515226,-0.07688789576513315,-0.15977198379777557,-0.03942570363309496,-0.08224992308281337,-0.17138487741088415,0.07446381627073821,-0.38658726848596986,0.018621623270005685,0.07501619664705324,-0.014274852362342232,-0.11630514745408574,-0.1068133644191775,0.06964512071894667,9.872929056768144E-4,-0.15426292898700875,-0.29463796334900927,0.34016114855771135,-0.21659230104757013,-0.06637131034757997,0.022583270253503117,0.020836107680117136,-0.23440920834473858,0.037797720246513136,-0.085167811026291,0.1517477595657888,-0.046537271809635794,-0.0024728432986942644,-0.20824917906611193,-0.08422584021475654,-0.2736118895709882,-0.2180877714431834,-0.11353665584024197,0.14192012683112945,-0.018710983036740944,-0.21908536992092276,0.28676054711079324,-0.10403365816656991,0.15311492798241316,0.6040246676475679,-0.6178953068019167,0.0387061821087665,-0.3379181104821058,-0.1484715354769028,0.09345875612212128,-0.05984668182447921,-0.2630914969313811,-0.3883698130457489,0.02511630906610924,-0.02879181346261279,-0.31430716483654425,0.15369718237005064,0.22152523592045825,0.021325716451851478,-0.05107003797525501,-0.11744482988408861,-0.1190759390709185,0.15708584091671016,-0.005236506131706817,-0.23697451775099004,0.057856139123394684,-0.06726760157371522,-0.016134204926400737,-0.3119443708117095,-0.10560019686339663,0.22676779671059055,-0.1533127866670821,-0.045483720386150055,-0.020268953668947095,-0.5246147692229322,-1.1881820947587045,-0.5945084734206513,0.30552258572180013,-0.24231133508618785,-0.25496307743487007,-0.4474517128948315,-0.06822274475614794,0.21885980755378942,-0.08161487013833353,-0.10289285060562929,-0.25426126995927656,-0.11645716940446019,-0.26285246843733656,0.36576347186270913,0.08810017849082603,-0.23096622651217436,0.1893341824109557,-0.13299326763998182,-0.1952235697172893,-0.15754516011667072,-0.11806579248027646,-0.0492836335333361,-0.2965844539369718,0.3745481417005652,-0.08156005331130392,0.24752729428949538,-0.20377420095923332,0.37351109269303234,0.6168589930735549,-0.2102137963182569,-0.11851676747695408,-0.036741493237347156,0.15523482796201055,0.09858537495869094,0.10530148704689829,0.01842731399441277,-0.11142708562405851,0.7136171617411116,0.16054139444355578,-0.23710840192694482,-0.48296148923160037,0.06109359992839204,0.0782549338518458,-0.7417477743482997,-0.3383373343797268,-0.30186237542360195,-0.023686663436104063,-0.08199116163174627,0.00151336230234342,-0.2227720268941586,-0.21247387479767185,-0.27367028945575494,-0.0324985756557281,-0.05705794611521448,0.10417854841755575,-0.0785957009625545,0.11260103511104952,-0.16587069247937286,-0.12322250615815478,-0.3891111443320036,0.05536038202804114,-0.031455587990332226,0.06496765596155513,0.1314628936670932,-0.04334465623170858,0.26467079214968436,0.06641562524621931,0.057659193653053394,0.014757975421837996,0.11530493559789719,-0.008827416793669761,-0.25315542528701407,-0.37170420132702453,-0.004600437833384041,-0.2589670308175344,-0.005938562407320156,0.37460547567739305,-0.13651123952093971,-0.21170156546587002,0.043052262834278904,0.2817013071253658,0.02634806597549009,-0.021470818838671784,-0.3880926224518528,-0.019483072622733164,-0.3048272501803967,-0.1506797956054677,0.06439867833914337,-0.2899973977164335,0.015818154684028307,0.44229919801550477,-0.15196604137442962,0.4456429092972913,-0.3221422914654846,0.574671578388578,-0.23567039052935385,0.04439139914222463,-0.057706179122933916,-0.16613246973815413,0.5727262752785136,0.1984587578958182,0.4182433808992902,0.149796878722131,-0.09283336945342624,-0.2128194138731507,-0.4147906506967275,-0.43067314060858153,-0.2765280606399515,-0.14073022841541472,0.05852107208585602,-0.11493322010371515,0.03384527539061819,-0.02694561868999421,-0.2857605500764151,-0.4535340392466403,-0.30067336275737955,0.05482871396339761,0.1888768190145279,9.886271115182438E-4,0.1280462792071194,-0.04391799668196306,-0.20862095878744746,0.08627892844359923,-0.025407320248642222,-0.694259981551537,-0.16575441703461893,-0.3799647983971252,-0.23957438046415738,-0.6228477772021915,-0.8255894513259588,0.04400775605463744,-0.1668156093775656,-0.11091204951384111,0.606841219427674,-0.14405130551342052,0.07890206117760128,0.26070818611883606,-0.3882465312168071,-0.22774407924366977,0.4738580566160222,-0.176112603456802,-0.252655018119101,-0.16405591366796157,-0.2559200861922785,0.10172698250573067,0.11576904941466057,0.22169583931657733,0.009866007160669509,0.0637155364276798,-0.3536430821803357,-0.4078911040170954,0.2991910343159134,-0.09237223778964693,0.02802220350283011,-0.17022836790135717,-0.023966066615554886,-0.07280673779131387,-0.11880509185703257,-0.20238160154171692,0.5003778091894081,-0.23501823140991587,-0.3234941156420514,-0.1927501204145627,-0.1414344400740891,-0.5446064880394972,0.08529758529740579,0.1771903837195755,0.005629483688475751,-0.19103457302699556,-0.06779136628943325,0.310139521746814,-0.03490703476350306,0.04524327808556953,-0.42331904800279696,0.0014381812786763654,-0.330762412314906,0.05904054939657503,-0.18645873681782163,-0.21117522578015901,0.08439631063818279,0.07484324959988707,-0.09708073051841346,0.04642105259772287,-0.44859150474623977,-0.05280468446929556,-0.36532600336810134,0.2512838790572675,-0.08489319448837615,-0.3054619236975248,0.2849137004317972,-0.009704052255020641,-0.13438370475224265,-0.14340466178310687,0.1776614203343739,0.022468810125539695,-0.2469462975271947,-0.4604278203693088,0.01099738177045441,-0.187582295708275,-0.3386538191425826,-0.1091551741682423,-0.4648464768556779,-0.04435055350421297,-0.14662421766469766,-0.13144887591343438,-0.012356738240527855,-0.3344992569338565,0.025436638014250924,0.1494821614218303,-0.22793257508860326,-0.14529343877776366,0.08752721065374293,0.07405692844198267,-0.14158763675337796,0.07171692548373451,-0.035805936828318466,-0.10433447411264786,-0.2636278604459582,0.08736522498517135,-0.13825951598426078,0.21184856045211833,-0.1405216182197679,0.16866368741103516,0.16621741082796176,-0.14283121740184052,-0.09320468493176587,-0.11484410954412207,-0.29125550897805336,0.08138273777562254,0.01398686243279187,-0.23684892327751902,-0.20491159522922003,-0.02845663030219025,0.005572051031217387,0.005173771421734895,0.04158089376533933,0.4118812538425367,-0.22667628422998198,-0.37750935360156157,0.0032166299803294794,-0.142478400953034,-0.11595332354246332,0.6755825090803228,0.19191209968296485,0.1750971169891605,-0.18414688267347987,-0.25257071343737547,-0.08547385431803114,-0.05438807705538145,0.24536539153623813,-0.2233401916032598,-0.11358281868091152,-0.10014378307469594,-0.2607921356922879,-0.16105357339017148,-0.03648151706425426,0.16523110995047402,0.11582509884502792,-0.26961547912320755,-0.5022461808677748,-0.06715394112100082,-0.36569006420975586,-0.022697371099212375,0.06090014582138494,-0.025430766504997277,-0.26082203233210327,-0.3158009601936912,-0.41393566996347053,0.3378868899352286,0.09673134901748096,-0.5807206646038967,0.007038211739531872,-0.12821516313516795,-0.14142471092802922,-0.09478460011879081,-0.26321545236207033,-0.023922371028531658,-0.37510096528099035,-0.022902700640424257,0.13368773779907797,0.04124127511516379,-0.09788381326376407,-0.6302774352656813,-0.16764300936283824,-0.11742820518721764,-0.16866150353005777,-0.16046911230363925,-0.20353316058515641,0.07888501072173543,0.14879984144449135,-0.023616922603065818,-0.02093352533028283,-0.33413854928147324,-0.3724120733747301,-0.29850698317236346,-0.04721093545679752,0.20127668793739398,-0.614524772699931,0.3405636326325566,-0.21112751962897874,-0.040747735241419995,0.09232540126398583,-0.09183972806810933,-0.2495062281440668,0.25360925068104306,-0.09208402864971026,-0.07284436865082053,0.014590889518585008,-0.7345020054436452,0.016458831729349196,-0.32902425413604736,0.09120916611016198,0.027223199691069386,0.14209704519016694,-0.07480388601633449,-0.31177213122189634,-0.3882179270186363,0.3587382240345564,-0.29433644356927813,-0.36762601909908355,-0.28870578520143386,-0.28649379905406464,-0.05622241497168342,-0.03279298429943188,-0.10740032419374898,-0.0942864322809027,-0.009156890046160555,0.21256460079565506,-0.010987976432126513,0.13253078653728137,-0.28678466680369963,-0.19091930410172264,-0.20107799065493695,-0.12976406363775286,0.2521137104985997,0.14776676825301363,-0.35287923504288676,-0.31711054370866343,-0.5231171117952984,0.07449211849009713,0.11576113318224625,-0.1643530557221965,0.14314858074711223,-0.40011310778906806,0.18123330113566236,0.1255738745743032,0.1534170277486126,0.08869246949024312,-0.05965205238519695,-0.01917985512410561,0.09195457781738543,-0.17972711272560732,-0.30384849795163166,-0.09258528197754404,-0.3621078250248284,-0.04798853537783077,0.17171174899110167,-0.48975871981458946,-0.08236756236332347,-0.23638659809081927,0.2970925686679905,0.04388233684273174,-8.75907145460542E-5,-0.4156700018275825,0.46584252367957296,-0.8298997480447683,-0.3939480488170721,-0.3161561636251552,-0.1844829500908608,-0.37685419069484455,-0.07609390912043476,0.06839590404387809,-0.6337883021034936,0.035970838590842207,0.21666776720266556,-0.4586561660400466,0.03897162247105029,-0.10365169393344438,-0.6046801704945011,-0.024582719548187068,0.16915622803302532,0.17742110299995048,-0.4194886399086149,-0.09970488522275305,0.0982595064278943,0.13189518908243308,0.30517750251319375,-0.004691333740835572,0.09588259265357567,-0.13094005375046885,-0.24249787629747233,-0.31617081549297693,-0.2501647543734238,-0.16524437528989505,0.07914042470670155,0.08208670127561693,0.11926480506793,-0.007967554732166834,-0.11349283485097107,0.04181664780919939,-0.18191766317175964,-0.025216669955268462,-0.1357"
     ]
    },
    {
     "name": "stdout",
     "output_type": "stream",
     "text": [
      "437576098628,0.12413804697569354,-0.0818929855920644,-0.1892797896912907,0.1625556353301941,-0.20267365608660848,-0.058469545915934014,0.10875694159146758,0.030270696301124073,-0.0941732178007872,-0.28768330151605026,-0.2388926072833638,0.21907771342317586,0.3863237994475457,-0.16336277836010957,0.11334193549424412,-0.9418148901415846,-0.03228850542310294,-0.2991892474015056,-0.16383680776174916,-0.013942938770124877,0.0831719587780706,0.0922517911576503,0.1454559271886308,-0.5920734100316535,-0.06319515138773317,0.1267046809742366,-0.18663781452231598,-0.03528643139723609,0.14564623985318853,0.9384765085784218,-0.16084044213981932,0.025928411487684842,-0.37767127807451367,-0.2288078805358361,-0.1984965637479552,-0.24324552385610962,-0.67841637455033,-0.004151116349234155,-0.2021540982030151,0.08122649115747085,-0.028594308033258672,-0.3097503451400249,-0.0730948284850626,-0.0396778670075271,-0.08444762614227729,-0.7230039878288517,-0.020577021780263473,-0.030624062678139722,-0.2485726011343948,-0.16505815157749484,-0.3275889254705964,-0.2065707339188164,-0.13899827628531,-0.264894659325312,-0.5062250771161667,-0.4197602618672958,-0.16543131867954,-0.09576688449979842,-0.12026209023086958,0.1750971169891605,0.23050747892105616,0.09201445606003272,-0.32624125617266914,0.01812838975409798,-0.01888014758869811,-0.043276298211480345,0.2711719490744042,0.05145266538476237,-0.21282512948592494,0.12586032268223604,-0.3117635380186516,0.14209943011632326,0.05117749094305378,-0.006050950558588023,0.07002993248727162,0.019953865360305818,0.017212312971024758,-0.3026528382665264,-0.43093993953082566,-0.02153890163306109,0.12073695132757549,-0.07094735148025941,-0.3220255088249505,-0.17294533266245035,-0.6331411674902341,-0.07849476151524433,-0.12186232163302968,-0.40127161836936465,1.433069201835148E-6,0.02279962006045295,-0.07453743171109944,-0.017163898524085827,-0.007157769725176939,-0.11499389666426962,-0.1446969316693266,0.034503737956886535,-0.05475926795812334,0.28284875492249983,0.02979077776549403,-0.06599738282027454,-0.004156766130981386,-0.22167364929910477,0.05182112596540717,-0.25061871289962695,0.08646131097674395,-0.277498734002742,-0.03141780467423132,-0.12617989245879022,-0.09711399519229917,-0.12367168070166505,0.02052741297438176,-0.48037146480883447,-0.4065270486756394,-0.1576245164733314,-9.514348152327423E-4,0.21223144072552105,-0.06192591129874136,-0.15708502218157905,-0.16750869335724153,-0.47589275879153625,0.2757951426369501,-0.10573097587515426,0.09014371439082729,0.040206314220675096,-0.0795484084283019,-0.17327310157302492,0.01886200974828922,0.028165627758988416,0.024557201342042836,0.1722290538840172,-0.13094945028025132,-0.04882935762311109,-0.4651543108731569,-0.4633289601967671,-0.055057100468424644,0.02331620632270394,0.03920698922883871,0.03804723642456103,-0.19115189805548588,0.06623217918107226,0.21883612637906366,-0.043273958714515726,0.019531854400099368,-0.29048631727785845,-0.15454235057928972,0.2576869942476753,0.07455124226565862,-0.21945666079229312,-0.025411941203177857,-0.18477003045062496,-0.6635849398008066,0.037833910470909136,-0.3128298663108072,-0.007440682650662667,-0.06430171756065031,-0.20596107740225156,0.17658707504240162,-0.2831994802458105,-0.3622352171772242,-0.04372151728815991,-0.11707600077966043,-0.4810310986228269,0.0458919991340603,0.11146536861701835,-0.14547692785433294,0.14194027063039433,-0.04176446379869308,-0.10076317698070755,-0.025410631767180846,-0.5620817142145385,-0.5027740295988347,0.008208790369510598,-0.16211103888744163,-0.24073009490842012,-0.005122009300452026,-0.030031866872581126,-0.2517953484364657,-0.19924920705594804,-0.2785419447610315,0.1538922759543425,0.13895037544254776,-0.5762821287752609,0.003780881232621012,-0.07431270625406089,-0.047194489456640246,-0.5351598224329908,-0.1779401623593675,-0.15989439646161693,0.5663344921845898,0.027269104126918218,-0.09058438589788646,-0.12869269488354318,0.08973374752539892,-0.3624182097872306,-0.2897299950098479,-0.18672565694154386,0.26227271420445997,0.17742110299995048,-0.0765938822457982,-0.026465570997047185,-0.5434291986024758,0.02803651424462758,0.060164761405035225,-0.2321503878227607,0.24878337207852,-0.2976424031678068,0.12941321112418014,0.0741793905688605,0.10858541400755288,-0.21041597390718955,0.41753274119102635,-0.22320419727573107,-0.3655721389938622,0.2562693342226146,-0.18534855364834496,-0.3698877328913511,-0.7146890320176256,-0.1173629160734425,0.02428603675938453,-0.191030578682477,-0.3148182318630671,0.10612603379177024,-0.5900905762958918,-0.06774339886147702,0.23513100380550617,-0.6399844653652633,-0.03797603171711329,-0.030031975981364124,-0.037779530830191914,-0.4548210886281926,-0.00868383487521646,0.1756897500448205,-0.276039250226825,0.28931347882386427,0.03882279086920993,-0.19913156143078498,-0.14165745407217922,-0.14155168929942258,-0.09435735202027973,-0.7534926303976404,-0.5979208826523533,-0.18545460017853202,-0.14370271024814585,-0.04915894624261954,0.1472401016337914,0.2489666105921634,-0.028406690463245142,-0.404103894983474,-0.08781555029791506,-0.3265268172540491,0.012965459548061286,0.13109412722936803,0.6107621503594454,-0.04257921957015683,-0.053989754499642016,0.24419652107126363,0.13947053222502348,-0.24506208549827788,-0.7270446267327635,-0.3073299091351222,0.014589672771093225,0.033825112893095664,-0.0269082900002645,-0.45867786956496515,-0.2312562849164713,-0.13572968208388564,0.10405405493109973,0.3278209735163343,-0.15809166191382834,-0.05257160477726128,0.09592795062724253,-0.04639433619854667,-0.1156453826776341,-0.12777839468633048,-0.12234001641007383,-0.13581837786239104,-0.15487355326833604,0.2005675325301531,0.11108298261278347,-0.21451014788865377,0.1808503807142563,-0.06914159787193794,-0.06361363353060244,-0.2871211930501425,-0.08223898399536538,-0.18724123662026115,-0.0205597582883771,0.39201007107350705,0.27824478346736997,-0.3397899514550852,-0.060551287945513836,0.15536623614428566,-0.28965255165489556,0.130787220814108,0.003961860396473759,-0.04984057864334981,-0.021959365351440996,0.8828018025529061,-0.6117074903006438,-0.7575514399947958,-0.13096269513324013,-0.14097811357345794,-0.21152443042837335,-0.25998024987055,-0.13022905984449196,0.039367912912054354,-0.15505493317721214,-0.06021144076385122,0.26370583491412064,0.04260211960948144,-0.23125968286627896,0.08210374331264572,-0.024571521323688093,-0.17549152141763003,-0.8202676526025672,-0.08250936252424333,0.14341137912011814,-0.11231170255737312,-0.11787458801526043,-0.20031515130517172,-0.09471156935170517,0.007108512575844349,0.35845737081651025,-0.25979241199174175,-0.21201672413733635,-0.07787267008183799,-0.45940864962613814,-0.17538184420584396,-0.7338929757745407,-0.22042386539527686,-0.559064141349643,0.2684756233518072,-0.170366823779745,-0.5523480943396987,-0.06624995999948108,-0.13352077167562834,-0.01208031876285939,0.04971012695647378,-0.17121006229726352,0.11705165446885193,0.18734089798365233,0.1330262495224634,-0.26024912447023335,-0.125968530206597,0.16756174668200935,0.11964040145675599,-0.020719847269090697,-0.22114229907891633,0.042324606750245894,-0.21737160586579438,0.6867924001757614,-0.6116459941076928,-0.04985303049864659,0.2831651705395549,0.031076548913911504,0.1423764632879797,0.4083052123925429,-0.2322619552147814,-0.1680436106106748,-0.1820920037976015,-0.3388570426611748,-0.16169091862339233,0.2684026693697555,-1.0433338074807152,0.001631502272425319,0.10467198944647202,0.1451323282686926,-0.17652472943781242,-0.0019956331711569546,0.15732895481711173,-0.1696685074293111,-0.058001331509291126,0.08852019772771089,-0.3376788653458269,-0.2856787925117782,-0.03927856483358116,0.5524091496431593,-0.1385761355157957,-0.062386179533289406,0.22763794990737343,-0.133666465100213,-0.2976014127742886,-0.26950614757354935,-0.1339643495227679,-0.044870710664340195,0.0914278545578294,-0.3307878907446929,-0.20603866521709133,0.05262799883594849,0.2747650798229404,-0.19522314478828662,0.11686907131899783,-0.040934844796448266,-0.2683822362556435,-0.3899949767075567,-0.09694292248840884,0.26459050635363857,-0.13919436939043967,0.06422159809550275,-0.07247834098488949,-0.1908290604576466,-0.06778469784023117,-0.2408191128067009,-0.06920079896906198,0.39695911146998175,0.2925814789303729,-0.035835670327966654,0.0882736164469008,-0.11788985149828643,0.05297401493920362,-0.11518257652792516,0.06491222754196793,0.6068376911619774,0.16062357882329845,0.09540688091084046,-0.06558630890864825,0.06866730381445504,-0.30226228750748424,0.12195586145554291,0.1668656746056408,0.223055766277853,0.2742810422020594,-0.06805733885763923,0.11109023969226901,-0.23022399646811062,-0.1211381473940975,0.10413924369061807,-0.25581312020031377,0.2844494602749622,-0.2620379791087695,-0.3124249929425286,-0.32800599038227424,-0.2515517394378257,-0.2094973387610613,0.19812263494286297,-0.438788754771556,0.06422156773708011,0.04075661826392722,-0.37987080353693775,0.06332561299414229,0.10298805206277913,-0.572642725424672,0.2728604206300568,-0.1482594866186498,-0.1324772592254779,0.004895566947816336,0.003364608587483604,0.10414896525086485,-0.3688186071393481,-0.46572175684700196,-0.4507866558319664,-0.11921851190591583,0.29360844698047933,-0.060788017338326186,-0.14800992303091484,0.02529985511559827,0.2991910343159134,-0.2853538151205132,-0.17984312212564593,-0.38412849988761183,-0.05024326923894051,-0.13781022997319708,-0.11812406275798311,0.8201036950855077,-0.05886301264512557,0.040023959612728,-0.18322954302144365,-0.14836742163027994,-0.1446311030156109,0.06265207666685964,-0.12360513024466731,-0.06145272870172319,0.031182427042253935,0.08250692006372265,-0.20103815662979513,-0.7672918209353695,-0.15833813116179365,0.0690336888777014,-0.12276159953379967,0.07077237028070898,-0.0262559236583098,0.2881214695495058,-0.1061275175763016,-0.13577629938699293,-0.258461924098156,-0.3585167597885976,-0.20477818944027368,0.36233783994262025,-0.11881234440567451,-0.043343958097251375,-0.30522516302970787,0.2123657189651562,0.10479389194098339,-0.23035870619561297,0.5269707864777627,0.17540912248249935,0.009910697470736944,0.1289986784669339,-0.4114100755085339,0.06769580294257808,0.02371945913362198,-0.14645870560565838,0.050114123547904794,0.2310827189129254,0.07521731689023214,-0.20067165714860735,0.09981642134239625,-0.39307646192159534,-0.13158957496350546,-0.1668148225929595,-0.3586046671125114,-0.15056731505648197,0.03313490743270416,0.04858861167007259,-0.1644851803062708,-0.0454234987625685,0.10426772423347952,-0.24955726037841758,0.4329622774468511,0.23962244605973837,-0.236224156710562,-0.06367649121684774,-8.900274158631887E-4,-0.16023459495259387,-0.4830950149874433,-0.5159104371210975,-0.13312974791099147,-0.10036144680004498,-0.15687150595065472,-0.08493692496909677,0.007363274966550724,0.32778698296748465,-0.182931692417378,0.058715690724548436,-0.07442297125062143,0.5160803411450159,-0.2998570878121816,-0.14194371877740397,0.20337606748955303,-0.0668577598547567,-0.16833558966520631,0.15270385755250745,-0.006343846971963629,-0.13996341006246346,-0.06516247491088308,-0.7836687324342712,-0.051119640653680944,-0.3174310058179942,0.2534350679503555,-0.2750103126389847,-0.09029102929053916,0.4959543898373384,-0.19232064805961505,-0.035819645903874854,0.007362332957832582,0.3163830746398485,-0.166489736046232,-0.028282407779318692,-0.3925539400571866,0.12665836834631783,-0.13196965614013098,-0.12807364686050013,-0.08818381625227545,-0.024845975798481912,-0.14439320787257395,0.23310675479001305,0.13296884731689,-0.3171588976775928,-0.17163062059937917,-0.32711447669390453,-0.30640274219801594,0.028184070428538283,-0.23583255540076287,-0.4324044789450048,-0.18101887460113908,-0.016838479933126833,-0.15165716109725005,-0.22358095298762024,-0.13063259544153913,0.17921503871266076,-0.292246625454566,0.658965030309342,-0.028281469124108123,-0.35682701356727153,-0.006204285817668288,0.5142478313515221,0.12629479786681205,0.03092206437242041,0.05861179169550386,-0.21757950132870324,0.2249524298020492,0.36457263293231595,0.14536902283675174,0.488454334664645,-0.08288809745075476,-9.686795052999167E-4,-0.3294791115708389,0.1760178780840744,-0.06423586819495034,-0.24158321834167829,0.2734379718146722,-0.14020346688981897,-0.09508057921734281,-0.15843700405430156,0.3832841468909555,-0.19725733104306606,-0.17832485571327067,-0.21239803173849256,0.12999991078618042,-0.03502957477677344,0.29555091169461184,-0.10246348559936165,-0.3377040947445926,-0.05235849262209801,-0.042013241155208846,0.05416371381993523,-0.796023288960732,0.03438428731158178,-0.47289496063729225,-0.16108086973938915,-0.13327889533605422,0.06119750916337921,0.0013669291801223296,0.1722284652310016,0.3444395640662582,-0.06007717871234091,-0.08323182231864994,-0.19845395243667016,-0.25190455247376187,0.045285924545734046,0.03636313358173496,-0.12426922391147589,0.07553692541954021,-0.19140336831843616,0.1486813597317664,-0.5164945085574593,-0.18300416930422642,-0.23689181171493312,-0.1480646454250598,0.1191360886561918,-0.15678396569607547,-0.019422212750641977,-0.06413840394141886,-0.027049074105378546,0.09074215053632348,-0.061807748791495136,0.003136829745513497,-0.0970642637605947,0.020899877664307877,0.373066017259227,-0.20958691705154436,-0.06731680725394626,-0.30901640630541344,-0.36290406777483747,-0.08892669975425989,-0.31007703317819524,0.23330394811638203,-0.17318023930775298,-0.2253587019064807,0.2909398110960593,-0.4819364868362647,-0.2855724946136,-0.010706936016481431,0.14981950102816813,0.22492023124071536,-0.6931215602918506,0.03750002751149775,-0.3285224594514875,0.12861568813347743,0.2378625015408596,-0.36544148398592224,0.20522572730500777,0.2049263175304248,-0.08134439213099467,-0.31740985306556957,-0.25698289257923795,0.062655393368455,-0.02688533707780993,-0.23001490151955986,0.16775867466603117,-0.06793343023137804,-0.08282222500393398,-0.14029148914109774,-0.2520850432331492,0.14630788711781384,0.013680164592525688,-0.09122390547113453,-0.38188705809629026,-0.5028572782761275,0.33471386513172885,-0.08593914775751756,-0.4490463339712342,-0.07074731000238026,-0.16319801822828672,-0.06123049295059146,-0.17299624127602886,-0.14047623071003115,-0.3065571427461328,-0.21826060591107418,0.010498385361661049,0.05442252716817464,-0.05181469019723234,-1.3375976961889242,0.07937305184225964,-0.11186614285209664,-0.06721650544138294,-0.07005770849358309,-0.1714497500417632,-0.05711301267376658,0.02300039672297808,-0.3392623672650943,-0.2344741404986019,-0.005225396560112273,-0.2482253105960024,-0.2384643178696637,-0.20932069063383085,-0.0372731500703788,0.01074279443139851,-0.2705903718058786,-0.14064717591932457,-0.30814836616176816,-0.7545795880270715,0.25319634072404695,-0.20009880202501554,-0.18202499712121345,-0.6370297712146211,0.15185161615523934,-0.34846989006585555,0.2842338266342204,0.48227601743504495,0.6756908244207521,-0.48289575360795756,0.027852674924467594,0.55222701441129,-0.1955320976156225,0.10248416208094875,-0.14851466954914885,0.037493635191918694,-0.03707448750361063,0.18866382440214197,-0.18424220345062844,-0.15606958204457974,-0.15733380021071858,-0.06287720433822788,0.1442464550664265,0.4424663471860917,-0.00992099746693312,-0.031032517428693458,0.0123913188545764,0.44955954701090783,0.09592385045543783,-0.3396991389518504,-0.3777606603350921,-0.09482635161011549,-0.21094953060753138,-0.38197348485930643,-0.5890445027356885,-6.774742594609052E-4,0.07581728827231043,-0.07931287733845528,-0.0994493876885061,0.08875527574538,-0.23280172911795666,0.48996479141480465,0.06422898217746097,-0.06611316806787162,-0.1048333099036238,-0.11647611420162599,-0.3986200086750561,-0.5236927907339435,0.12026999669059488,-0.19587148324543477,-0.11094555594466289,-0.07508101363577666,0.023689946938779863,-0.32253798575979264,-0.05225006509888797,0.04265189960512837,-0.0023836272910009795,-0.14603798433919615,-0.08826069306540253,-0.0561997398967696,-0.2964149504373664,-0.355868508931632,-0.19689381993059693,-0.188701226122525,-0.10259432681880111,-0.20096153196242228,-0.1527824773323145,0.3390999940340616,-0.11735345727880692,0.24393879884776873,0.46773915296006,-0.4822460024505099,-0.2544449120177071,-0.30331638031744773,0.35577215965024184,-0.029918391881664445,0.22662901826325021,-0.27703051207233925,0.017566781791659606,-0.11345068767681027,-0.67263676448854"
     ]
    },
    {
     "name": "stdout",
     "output_type": "stream",
     "text": [
      "55,-0.21069281413754645,0.2497639618574217,0.1509502562939048,0.42173356051295563,-0.029038717397709475,0.05306527141534149,-0.1974666580618361,0.01346950114694009,0.02464905462291933,0.17893301199306552,-0.06380167459046071,0.17431587177671456,-0.448268504738851,0.06261802388654689,-0.15673597623262528,0.03934619098961648,0.20177682283394002,-0.6856583144336094,-0.5749119779760954,-0.06079576068459661,-0.13469476416831944,-0.035485939742797304,0.0018461844256801399,-0.06680399045514855,0.11426332104070276,-0.2964048129914824,-0.40528770066135006,-0.43731559836182987,-0.017492969622669823,-0.04985164503980885,0.07969222484509447,-0.12505204197598666,-0.8433201645038286,0.08796730546543419,-0.17974824348938806,-0.13022197398270938,-0.029808997771602334,-0.5321077356261757,0.3129562013176414,0.37819549551082066,0.00784067955380486,-0.08106300834569181,-0.2353545015642212,0.08124400613425324,0.25358914632588153,-0.2082096278167391,-0.14215155056345383,-0.4113035909779816,-0.3149666496608648,-0.22406740771535177,-0.12426511188296244,0.017426314530309937,0.009036486291599135,0.11184190229882814,-0.08663247716784704,-0.30932317117513813,-0.10746414394216712,-0.9890090193917036,-0.3391108044224027,-0.2251879677290481,-0.1062661113527719,-0.11269813849323143,-0.0025082918488595327,0.1665698721949251,-0.039271132965867366,-0.010195352384005919,0.06015327987951072,0.41728369106337904,0.21991846554590413,-0.054725254774142446,0.006180755247306362,-0.3247928735771714,0.11825268473977903,-0.25207144559320577,-0.16309448900327572,-0.2930522021093562,0.11761621416198832,-0.3458544963552993,-0.2061283369069605,-0.0892760161334451,0.0168948573671083,-0.2695147045603386,0.2909606555662654,-0.044996736520081695,0.0844110684046632,0.005676436214894921,-0.21918387975386855,0.40999217419372824,0.09177199555073427,-0.029598138459540388,-0.0793377395290248,-0.027466115520064616,-0.007167311790342853,-0.21616326431522415,-0.1555963927339206,0.02819057147719009,0.20850096699762374,-0.256824698493244,-0.20581677795026931,-0.32965710404569654,-0.1400507375539177,0.051609580816985204,-0.009719740278583076,-0.42680207621503413,-4.8142291511291845E-5,0.8900964518768817,0.12772113604689014,0.081640856603999,-0.10701128209615664,0.3268349998267053,-0.11486734264044267,-0.10807266749936405,-0.028982590988395607,-0.06952848807085404,-0.36174636781644065,-0.16960196781348716,-0.07502544140196767,0.04353766483210661,-0.03977469494143367,0.0401216851520789,-0.5623508698874881,-0.08991316255726185,0.37804642518292886,-0.13235236582983873,-0.059271838444883436,-0.9780900918554345,-0.06756736191061367,-0.3984534054849759,-0.36919852392004915,-0.019386627886084595,-0.5057293293940903,0.5063376153041197,-0.04128627943822642,-0.33949490966770074,-0.0913673239659767,-0.6243603829502105,0.06331007520214707,0.017462069537914602,-0.09135370513840384,0.10198541674831589,0.08360467170000578,-0.17489913819341577,-0.2782151901348608,-0.28963277863166226,-0.19953185999838405,0.16922353505245072,-0.08154648448659503,-0.057250456373293464,0.1440358661774833,0.4267053675636767,-0.11067807378812225,0.11483444522730646,0.240291365100813,-0.06619168286224254,0.1298655732485907,-0.27550407729772913,-0.23680002819518134,-0.1003495676467767,-0.5011172668478409,0.17996407849319523,0.42633398228529534,0.2933987883820906,-0.4823980422040932,0.12599103207842197,0.04618189384437001,-0.29492787443150187,-0.08100463280216151,0.1013408485743832,0.19247912877324982,-0.14464820236109607,-0.24401770899797348,0.012715720291099167,0.06535127156215799,-0.24926339407473058,-0.03977790135010608,-0.023229530310869256,0.3442644855724447,-0.38619405257470973,-0.009246410839373716,-0.025453800729871193,-0.3397398648505331,-0.10342614157607462,0.19963022404953595,0.12805230598188067,0.05945424493788149,-0.15447377872146473,-0.38609164047429456,0.154515129877817,-0.07781868202432617,-0.0088870452959981,0.0463852537520166,-0.33835658422386994,-0.2103922412462298,-0.04064428242914726,-0.05011961648894213,0.0023493208899134123,-0.48464408757057975,-0.05793469950995839,-0.04807313674254936,-0.23870765901844995,0.14834680913409423,-0.4219685469317628,-0.23957045417619405,0.2845746223913371,-0.22234963692345683,0.027490474942613842,0.15796832588242196,-0.01699149846149038,-0.3675119476469756,0.052479517579384044,-0.16648501320891004,-0.24772278924105814,0.12267965307930043,-0.011955320102109713,-0.12878299505312193,-0.3062395232641849,0.3709603934849024,0.011580147586247381,-0.33736675778858943,-0.13387641614350798,0.04112884129092079,-0.07720576980524903,-0.036339565251394985,0.11765168291814715,0.09569064399713878,0.036676454343019256,-0.46576340028891716,0.05312386286899031,-0.07719566559570008,0.06491353030390189,-0.4968962475524039,-0.6570689846489816,-0.19788900669635437,0.04244435468048974,-0.07251342599330454,0.035030227262542644,0.09736018907400303,0.08527968393583618,-0.3363558475984061,0.22559762016674562,-0.05797670952681919,-0.034652267796475206,-0.16443060499848391,-0.2573254644433592,0.3019030756225217,-0.07372879606553828,-0.016007452277145305,-0.03880108615805696,0.02988006573964966,0.2670453313843674,0.24487425517150402,-0.39183498658482147,-0.0800497284097879,-0.3983983825988003,-0.19417743654408842,-0.1344241646506616,0.05364278180310181,-0.06156877529861939,0.019715576054339937,-0.460991726437124,-0.08554101467824951,-0.06697076918934317,-0.012421660631578995,0.27763943665394786,-0.18193988362640798,-0.3967074663121952,-0.055685350787907616,-0.26771549294944946,-0.36899556554861357,-0.38965774645982054,0.06271882188203465,0.645654449127178,-0.0247167908813132,0.06321646017329473,-0.26309906666305105,0.0037048731006379468,-0.045486263388453574,-0.277086808959787,0.07735137245730704,-0.0888928348316796,0.5052455423526073,-0.07050751977555991,-7.564389115980557E-4,-0.47659366407050935,-0.19661405585079833,-0.6566031553593237,-0.10063870300715697,-0.26837307748401323,-0.1511549299664728,-0.2512461110703636,0.08667992436818314,-0.2498224452790378,-0.06831178345371076,-0.28075755233887467,0.013656518592395134,-0.47557026337918723,0.11444480708317285,0.6158978215718992,-0.07366062602408739,0.1041588953982026,-0.14908684853648155,-0.5357269327582118,0.6075920441422247,-0.14838994842544528,-0.33049421926974687,-0.3286198220133106,-0.6051543659391204,0.04657973287539705,-0.14262376932668347,0.056742700073894196,0.08232634742413,0.599516178042489,0.17224340691969744,-0.24381093554413166,-0.2261214213977975,0.44901728284889086,0.2525082780952216,-0.1785428037400607,0.2639652889291779,-0.8326833767857841,-0.05297574737840904,-0.01662683587641208,-0.37069190362101934,-0.18342936712573588,-0.3051146401930569,0.02585380539336685,-0.20805499195663654,-0.1561400716353877,0.035805726203637415,-0.1192208605483869,0.03708417177865826,-0.03205244486591313,-0.2910269032408011,-0.05109470095413567,0.14725122039633273,-0.4806480201441636,0.043413108575261206,-0.05823118847800492,0.006383881060187137,-0.12994212867305532,0.4468762147354796,-0.08495522735308489,-0.24743784025679408,-0.11570852506274795,0.14121547458553213,-0.5441991514664329,0.2042774540326623,-0.2066348733821156,0.04716747977519339,-0.1282056399870797,-0.252781224897981,-0.17275855872993656,-0.0857472082871898,0.5389987223795571,-0.2570624695561614,-0.28738713645863884,-0.10167456069479189,-0.17746194398005571,0.5718396467170893,0.37822257064755166,0.29904333632276486,-0.08904496698042857,-0.27583270644842117,-0.14003850444798768,0.07413174525973815,-0.18822811270342493,0.0051239415328994875,-0.06923978050926485,-0.009753675077730195,-0.0055934857441321175,-0.23042066409425546,-0.11991001514131833,-0.12215733886206165,-0.19836273331101592,-0.2098559944182197,-0.1472012958853635,0.14572445230742648,-0.04707396132119039,0.08291017923616928,-9.132781173515866E-4,0.14993982856016003,-0.13721805680643276,-0.24520836806488538,-0.0857589516513397,-0.11471996238916775,-0.2057595727363551,-0.38094963122443126,0.07553922692124435,-0.39315109067179854,-0.01552427169498636,0.009362371622743105,0.04885234983312799,-0.26076927660584515,-0.005465983020090678,-0.214565119473001,0.05126698645947877,-0.07305414038372862,-0.37510096528099035,-0.23691672711044828,-0.07793575567022425,-0.0769405528621608,-0.26049305355322094,0.005816237949005979,-0.01091869891500252,-0.4417816374402832,-0.1159190371683664,0.06087951426232311,-0.09131438164412622,-0.010430405961607596,-0.3376838026991789,-0.18653816409111446,0.15197977449007558,0.07258658752231394,0.10557481963906519,-0.5239339446360401,-0.32464065290005745,-0.20213016291036245,0.1574295671540022,-0.5518215758357529,0.11365586831492805,-0.21056740941719015,-0.06850891421074931,-0.29874236080984634,-0.2642695532861505,-0.5369110172995987,0.005824843302992253,-0.35449652850642877,-0.011391045416081068,0.10407405482756997,-0.2519869055842335,0.1092358582159566,-0.05028163305638857,-0.08762139517886695,-0.29261388808283395,-0.15053266939734106,0.19075941141764408,-0.022107263950881847,-0.3945228136900089,0.32389945988955593,-0.15684151373094354,-0.17321851339470354,-0.04850174680966065,0.10850186214278369,-0.14145502272459662,0.10580761349230436,0.5242580931776225,0.03486224228642044,0.05944224470296516,-0.03542395072584307,-0.25945451462965907,-0.07741089305436347,0.015976125839099697,-0.18834365319787552,-0.22446817683647255,0.515073690933462,0.2773412706962379,-0.03804028236364146,0.013236535593022743,0.3110484918427775,-0.10435282974984224,0.17482167538016877,-0.46852591968818774,-0.015225346345788926,0.0926182588433491,-0.22280989025409575,-0.2995511345603298,0.18537602295848293,-0.09088831089998621,0.001272928375222914,-0.18505518068683074,-0.06623963852726687,0.01112115287944185,-0.22563799030685658,-0.13921200302800643,-0.4408350568736073,-0.045646325559140104,0.06766330114321888,-0.35316709401947305,-0.21362865298491035,-0.1016163869550848,0.13435659390907198,0.9243884531725421,-0.42718184218755567,-0.13942964900655,-0.1996680484954726,-0.19978985120346,-0.0639500776107606,-0.3387605095059046,0.38362202556560765,-0.5043031972303561,-0.2091629658517763,-0.42072391053549113,0.030142037506444157,0.06056166968096738,-0.20682341771304638,0.2833808128907826,-0.25689596729890807,-0.16571586035980787,-0.09164965659316555,-0.06060454782098057,-0.2850405032556504,-0.17103927413925715,0.2124511464814923,-0.10856038502378107,-0.09537061775486944,-0.5425411536703972,-0.12418517664518786,0.38136053769635564,-0.08545603100013204,0.108443497289815,-0.3959148659781887,-0.2224506418798233,0.028229554601107647,0.2622158177631274,-0.08506599616423904,0.19069543366435476,-0.25380747127145464,-0.2046283865514622,0.053927174031911225,-0.1465365784666659,-0.2265438617597725,-0.02804365303654226,-0.08018717869674305,0.04563199825203573,0.21635593230740868,-0.08770425639459234,-0.06241234733879925,-0.01874929296419343,-0.8583030232856398,0.14851147975268858,-0.3991943970228162,0.05935487667237914,-0.08460649399449711,-0.001786007099104719,0.20204644751751366,-0.34510333116594455,0.03585489077784395,0.4345197559239952,0.3161204173135242,0.331143591313676,0.016907436444836235,0.4040333701531169,0.047087027654753214,-0.24413718474246912,-0.04818228626594927,-0.2317638158530658,0.1309952120883992,-0.02199053811115087,-0.21340496316565802,-0.34932733275539435,0.027292454059288162,-0.03849408876150809,0.27778038448763154,0.44343822717096626,-0.04473440279409944,0.16771121733152908,-0.2208482986965258,0.05484390618920269,0.09564109469663389,-0.6107898847145002,-0.1408730363165668,0.026383589917759496,-0.1260307973237329,0.08751479873419545,-0.5891861382884376,0.11418968900114172,-0.2993849506897642,0.19501606427296211,0.04668379572180431,-0.13873730739920445,0.01468121335830667,-0.251825808446012,-0.17348754945436629,0.02653408582356224,0.06615207676313695,0.16471193772397427,0.16503838919615005,-0.7226665037022658,0.1431079397151073,-0.01753485617418119,-0.2528246561593278,-0.04006680854183428,0.09646064697214529,0.06396895429154763,-0.19887940008901714,-0.020436302793520492,0.15326255946302828,-0.11646331030988352,0.16191165413354267,0.04325363697040964,0.23887088903654488,0.36832708292362887,0.37484427624159916,0.5673507657793306,0.12417059945096731,-0.19362372177303122,-0.31962637202080907,-0.2086642199677303,0.08591317505661768,-0.47080863546410956,0.024524867594538837,0.18985532031223645,0.09531143121691953,-0.7724054365827911,-0.3581492547725534,0.04869481587773467,-0.7352104341803244,-0.23028646825653135,-0.0639149861961729,-0.22245827687675057,-0.7147387878821424,-0.02436994601236576,0.4239280751379799,-0.24695536951835004,-0.23314802166848592,-0.4034480344805266,0.04493098199027364,0.04177861579695428,-0.21200358159726837,0.08956534427196998,-0.7342563063242649,-0.44549109966066597,-0.20863597157532193,-0.12010306377793588,-0.1739453060109713,-0.17589778867709166,0.014559338329943102,0.09223452945410028,-0.0011575248910479885,0.013817073301129412,0.02889795754860087,-0.1248102505777043,-0.054537282000293556,-0.8585476213047657,-0.10484308713192568,0.00607727316381161,0.007263953499529938,0.10118141972752677,-0.03986008865842162,-0.23230780036089144,0.15428332099184672,0.07626814131376548,-0.14228654165418533,-0.1776287715476815,-0.01259729076201228,-0.014356473977035737,-0.14939672595759115,-0.4770020238594413,-0.5777776990782654,-0.22937237835544236,-0.07772695171077156,-0.3596099000742448,-0.043892836456143086,-0.09963260219845642,-0.23018693252529673,-0.5064449982628512,-0.25784748538685054,-0.15405880318295953,-0.13903026694632128,-0.2888662091170491,-0.22429334599308864,-0.24451863459858186,0.1413275618196714,-0.05503983601653889,-0.7521810374409305,-0.11847204557586855,-0.1674479506398441,-0.11474217823829878,0.11951111896325158,0.07102765438449543,-0.4465958543126151,0.09139707548121807,-0.011867093725661125,-0.3530499742975726,0.026010517085209305,-0.18823314113868145,-0.019076847370691024,-0.25539933101187545,-0.19041688259996248,0.14813976867956702,-0.1401383951686876,-0.1313068918283186,-0.7019427475175161,-0.18485627731388396,-0.07793564002684722,0.10634963960516437,-0.3118776150547338,-0.5764261922907261,-0.10926720156453112,0.21328465039743447,0.014128615282382783,0.13422459020697772,-0.19313046345912513,0.15928921073386765,0.054513578553898996,0.10347414457760448,-0.2873193145899321,0.35715994326688677,0.07023282021696801,-0.06580824134070086,-0.3927468386104356,0.09278609183186957,-0.22150033039788083,-0.3971277709073589,-0.13249123147344605,0.15983893560127826,-0.049856391229263095,0.03921931462219865,-0.8438009508571138,-0.03656831157005353,-0.19910592906187763,-0.4169671647272255,0.19194195262142874,-0.37564626442007615,-0.1534029531962981,-0.0801076549695896,-0.18217796062242364,0.08603948903860295,0.16969153555535066,-0.059146027346710615,-0.16545783860360117,-0.15125936517906075,-0.2553893814638177,-0.27946759048091446,-0.28925992241278004,-9.664575834676359E-4,-0.31171664995835907,-0.09248886062255399,0.025416572570068817,-0.12710564933568932,-0.22479351250143284,-0.155748310545427,0.1760649939920318,0.08515836677020168,-0.09531487623226423,0.046085577659273444,-0.2904970141772434,-0.31460772316208757,-0.33054651796222373,-0.30616188686404,0.1407068326104181,-0.3451773392430147,-0.2725721836765895,-0.15053554106034886,0.15430001086421202,0.08702458257321113,0.1185052636123881,-0.2653654916129729,-0.38432722241219414,-0.27957505872079874,-0.3016651529096134,0.1863429333713934,-0.040107028875395974,-0.007100225900270564,0.03469582872791326,-0.09184206321857372,-0.010283925916333722,-0.1419514450718294,0.020133197462511295,0.006395320186153024,-0.09233981682921712,-0.15259402116387882,0.241258897089516,0.024476046358594537,-0.014947168566153036,-0.007897258848845316,0.24482279825296288,0.508760040754213,0.6021749431170118,-0.3527091880936868,0.4412841131735372,-0.28700809608419686,0.026972805612580704,-0.21874157978253217,0.7166877594961365,0.18208496936213395,-0.16277533863612006]) Intercept: 132.69340684955807"
     ]
    },
    {
     "name": "stdout",
     "output_type": "stream",
     "text": [
      "\n",
      "\n",
      "\n",
      "numIterations: 167\n",
      "objectiveHistory: [0.49995100921023916,0.353878136958036,0.06984884831789119,0.06177358936747949,0.05355589432280971,0.05111131980254491,0.04937906349969907,0.04800970815985179,0.04764301974529058,0.04711475480938131,0.046825971895059715,0.04669194598692878,0.0466043638441551,0.04652030733497084,0.04647039235672933,0.046409839860361984,0.04637421615612535,0.04633446584012735,0.04630197975133111,0.04627906715426361,0.04626390553521839,0.04625253766892319,0.04623337213427334,0.046229804791198155,0.04621952223810104,0.04621594249761768,0.046208242364461895,0.04620158152936883,0.046196027229689525,0.04619235926873857,0.04618947942669538,0.04618668355838203,0.046182804031115514,0.04617786244739808,0.04617480257626565,0.046172054204695244,0.04616700162604432,0.04616352642786222,0.04615934555765052,0.04615391356016616,0.046149172953667335,0.04614452293724984,0.04613786156953567,0.046131616539649554,0.046127039197551935,0.046119359066186597,0.04611731924252514,0.046109225527683984,0.04610391035901879,0.04609949630750751,0.046092460426538896,0.04608650866543557,0.046077905013712124,0.046072642349949955,0.046067532901692146,0.0460632819026837,0.046059345005914826,0.04605284099953814,0.046049039346195676,0.046044996740776854,0.04604114450653879,0.04603812443982444,0.046028783260125876,0.0460253898826855,0.046018378840148165,0.04601165286576677,0.04600517309480302,0.04599978222919348,0.04599569609398098,0.04599219575856903,0.045989438277212726,0.04598576324691929,0.04598213555556539,0.045979017186432145,0.04597703944344272,0.045974446783719744,0.04597251296596171,0.04597069134645493,0.04596899959645005,0.045968046574465384,0.04596734553816324,0.045965841926145425,0.0459652140944392,0.04596450813342713,0.04596400982226907,0.04596360275859159,0.04596321232082192,0.04596274345281038,0.04596247996228131,0.04596229126882444,0.04596194417112477,0.0459617916006554,0.04596165706350329,0.04596148222654239,0.045961380463217835,0.045961275977848944,0.045961169103429116,0.04596110361462386,0.0459610579868057,0.04596092520243982,0.04596089491094553,0.04596080304688443,0.045960731899557426,0.045960662174590806,0.0459605655062287,0.04596047743656948,0.0459603374272916,0.04596024908128102,0.045960143378085676,0.045960017821596484,0.04595985439680503,0.04595959974357063,0.04595935405664484,0.04595925110490106,0.04595901634012988,0.04595877746272179,0.0459584538114553,0.045958168739051196,0.045957903416738125,0.045957701498243256,0.045957470570324156,0.045957241233730656,0.045957016177789564,0.045956885699143406,0.04595673106181485,0.045956543572480205,0.0459563126248129,0.04595615552852697,0.04595600858979986,0.04595582346859176,0.045955628177397956,0.04595545505078128,0.04595524998010315,0.045955093747645795,0.04595487744466661,0.045954739304527134,0.045954593710758634,0.045954486671048025,0.04595429902048329,0.045954187841115816,0.04595401495795727,0.04595391904232065,0.04595382151105808,0.045953661665707184,0.04595358744649996,0.04595348602380558,0.04595342015092782,0.04595335469019397,0.045953292363690126,0.04595323768709049,0.045953184056798185,0.045953152935054815,0.045953122838409355,0.04595307698547175,0.045953058617748954,0.045953035661027965,0.045953024657223,0.0459530034328912,0.045952981951721684,0.04595297155783098,0.04595295136713877,0.04595293832330443,0.04595292865319173,0.045952914770721345,0.045952909428093686,0.04595290035312473,0.045952889894927]\n",
      "\n",
      "\n",
      "+--------------------+\n",
      "|           residuals|\n",
      "+--------------------+\n",
      "|2.771492549591414...|\n",
      "| -1.7186679736953216|\n",
      "|-0.11239784243828765|\n",
      "| -1.2407211472399222|\n",
      "|  -0.970348188806959|\n",
      "| -0.3246044332789815|\n",
      "| -0.2198624016373394|\n",
      "|-0.18895438444414125|\n",
      "| -0.1951215867575442|\n",
      "|-0.16261051436162433|\n",
      "|-0.20926080534215252|\n",
      "|  -0.334784995781785|\n",
      "|  -0.154946851471653|\n",
      "|-0.49269160688193203|\n",
      "|-0.09605437210210077|\n",
      "| -0.5023233832021106|\n",
      "|0.009627701608048156|\n",
      "|  -0.723505702938672|\n",
      "| -0.3328912134339088|\n",
      "| -0.6500921125519739|\n",
      "+--------------------+\n",
      "only showing top 20 rows\n",
      "\n",
      "\n",
      "\n",
      "RMSE: 0.15067909288639053\n",
      "r2: 0.9080852142542626\n",
      "\n",
      "\n",
      "Model was executed 10"
     ]
    },
    {
     "data": {
      "text/plain": [
       "startTimeMillis: Long = 1591500911936\n",
       "lr: org.apache.spark.ml.regression.LinearRegression = linReg_ff7331cac34e\n",
       "featurized: org.apache.spark.sql.DataFrame = [Price: double, MethodOfSale: int ... 13 more fields]\n",
       "lrModel: org.apache.spark.ml.regression.LinearRegressionModel = linReg_ff7331cac34e\n",
       "trainingSummary: org.apache.spark.ml.regression.LinearRegressionTrainingSummary = org.apache.spark.ml.regression.LinearRegressionTrainingSummary@1e749c2a\n",
       "endTimeMillis: Long = 1591500922760\n"
      ]
     },
     "execution_count": 83,
     "metadata": {},
     "output_type": "execute_result"
    }
   ],
   "source": [
    "//Assess the above LR\n",
    "val startTimeMillis = System.currentTimeMillis()\n",
    "\n",
    "//just give a LR a go with default settings values\n",
    "val lr = new LinearRegression()\n",
    "    .setLabelCol(\"loggedPrice\")\n",
    "    .setFeaturesCol(\"hashedFeatures\")\n",
    "    .setPredictionCol(\"Predicted loggedPrice\")\n",
    "    .setMaxIter(1500)\n",
    "\n",
    "//make a dataset for testing the model and printing its summarry\n",
    "val featurized = hasher.transform(train)\n",
    "val lrModel = lr.fit(featurized)\n",
    "\n",
    "// Print the coefficients and intercept for linear regression\n",
    "println(s\"Coefficients: ${lrModel.coefficients} Intercept: ${lrModel.intercept}\")\n",
    "\n",
    "// Summarize the model over the training set and print out some metrics\n",
    "val trainingSummary = lrModel.summary\n",
    "\n",
    "println(\"\\n\")\n",
    "\n",
    "println(s\"numIterations: ${trainingSummary.totalIterations}\")\n",
    "println(s\"objectiveHistory: [${trainingSummary.objectiveHistory.mkString(\",\")}]\")\n",
    "println(\"\\n\")\n",
    "\n",
    "trainingSummary.residuals.show()\n",
    "\n",
    "println(\"\\n\")\n",
    "println(s\"RMSE: ${trainingSummary.rootMeanSquaredError}\")\n",
    "println(s\"r2: ${trainingSummary.r2}\")\n",
    "println(\"\\n\")\n",
    "\n",
    "//print runtime\n",
    "val endTimeMillis = System.currentTimeMillis()\n",
    "\n",
    "print(\"Model was executed \"\n",
    "      + getExecutionTime(startTimeMillis,endTimeMillis))\n"
   ]
  },
  {
   "cell_type": "code",
   "execution_count": 106,
   "metadata": {},
   "outputs": [
    {
     "data": {
      "text/plain": [
       "evaluate: (predictions: org.apache.spark.sql.DataFrame, metric: String)Unit\n"
      ]
     },
     "execution_count": 106,
     "metadata": {},
     "output_type": "execute_result"
    }
   ],
   "source": []
  },
  {
   "cell_type": "markdown",
   "metadata": {},
   "source": [
    "### Run Crossvalidator on LR model\n",
    "Construct paramgrid of regParam and ElasticNet\n",
    "\n",
    "Estimate the performance using RMSE\n",
    "\n",
    "Get best Params to apply in final pipeline\n",
    "\n",
    "One could add this to the pipepline but this takes the longest to run\n",
    "as its assessing 4*4 combinations - so instead the learnings of this are passed to pipeline\n",
    "Then this wouldn't need to run\n",
    "\n",
    "<span style=\"color:red\"><em style=font-size:40px;>!</em>Runtime of next cell is around 200 seconds or so, on my VM with like 10gig of RAM and 4 CPUs</span>\n",
    "\n"
   ]
  },
  {
   "cell_type": "code",
   "execution_count": 87,
   "metadata": {
    "scrolled": false
   },
   "outputs": [
    {
     "name": "stdout",
     "output_type": "stream",
     "text": [
      "2020-06-07 03:42:22,169 WARN  [Executor task launch worker for task 90239] storage.BlockManager (Logging.scala:logWarning(66)) - Block rdd_50396_1 already exists on this machine; not re-adding it\n",
      "2020-06-07 03:42:48,872 WARN  [block-manager-slave-async-thread-pool-373] storage.BlockManager (Logging.scala:logWarning(66)) - Asked to remove block broadcast_89705_piece0, which does not exist\n",
      "2020-06-07 03:43:12,526 WARN  [block-manager-slave-async-thread-pool-396] storage.BlockManager (Logging.scala:logWarning(66)) - Asked to remove block broadcast_90624, which does not exist\n",
      "2020-06-07 03:43:51,733 WARN  [block-manager-slave-async-thread-pool-382] storage.BlockManager (Logging.scala:logWarning(66)) - Asked to remove block broadcast_92132_piece0, which does not exist\n",
      "2020-06-07 03:43:51,736 WARN  [block-manager-slave-async-thread-pool-350] storage.BlockManager (Logging.scala:logWarning(66)) - Asked to remove block broadcast_92132, which does not exist\n",
      "+------------------+---------------------+\n",
      "|       loggedPrice|Predicted LoggedPrice|\n",
      "+------------------+---------------------+\n",
      "|12.043553716032399|   12.650646173418934|\n",
      "|12.542544882151386|   12.832211909201064|\n",
      "|12.544329003944888|    12.89759303154905|\n",
      "|12.553202176625375|    12.87643426381922|\n",
      "|12.577636201962656|    13.16781923978607|\n",
      "|12.611537753638338|   12.828619354331593|\n",
      "|12.611537753638338|   13.413406636763796|\n",
      "|12.628067055589549|   13.352604355343047|\n",
      "|12.644327576461329|    13.27152429871063|\n",
      "| 12.66349749256905|   13.115470204799621|\n",
      "|12.676076274775909|   13.222947502236309|\n",
      "|12.676076274775909|    13.06952978697548|\n",
      "|12.676076274775909|   13.060268836010138|\n",
      "|12.676076274775909|    13.16935557294049|\n",
      "|12.691580461311874|   13.076878072528473|\n",
      "|12.721885810807203|   13.648868921796819|\n",
      "|12.736700896592344|   13.366969148523467|\n",
      "| 12.75419405403986|   13.307068817099761|\n",
      "|12.765688433465597|     12.8741323929533|\n",
      "|12.765688433465597|   12.761935784674378|\n",
      "+------------------+---------------------+\n",
      "only showing top 20 rows\n",
      "\n",
      "Model was executed 173"
     ]
    },
    {
     "data": {
      "text/plain": [
       "startTimeMillis: Long = 1591501291224\n",
       "featurized_training: org.apache.spark.sql.DataFrame = [Price: double, MethodOfSale: int ... 13 more fields]\n",
       "featurized_test: org.apache.spark.sql.DataFrame = [Price: double, MethodOfSale: int ... 13 more fields]\n",
       "lr: org.apache.spark.ml.regression.LinearRegression = linReg_be25ac5db2c9\n",
       "paramGrid: Array[org.apache.spark.ml.param.ParamMap] =\n",
       "Array({\n",
       "\tlinReg_be25ac5db2c9-elasticNetParam: 0.0,\n",
       "\tlinReg_be25ac5db2c9-regParam: 0.0\n",
       "}, {\n",
       "\tlinReg_be25ac5db2c9-elasticNetParam: 0.0,\n",
       "\tlinReg_be25ac5db2c9-regParam: 0.1\n",
       "}, {\n",
       "\tlinReg_be25ac5db2c9-elasticNetParam: 0.0,\n",
       "\tlinReg_be25ac5db2c9-regParam: 0.5\n",
       "}, {\n",
       "\tlinReg_be25ac5db2c9-elasticNetParam: 0.0,\n",
       "\tlinReg_be25ac5db2c9-regParam: 1.0\n",
       "}, {\n",
       "\tlinReg_be25ac5db2c9-elasticNetParam: 0.1,\n",
       "\tlinReg_be25ac5db2c9-regParam: 0.0\n",
       "..."
      ]
     },
     "execution_count": 87,
     "metadata": {},
     "output_type": "execute_result"
    }
   ],
   "source": [
    "//Creates a crossvalidator on only the LR model\n",
    "//Had some issues retreiving the params when using on pipeline\n",
    "//and the pipeline only has one estimator in it so this was easier than traversing the stages of the pipline\n",
    "\n",
    "val startTimeMillis = System.currentTimeMillis()\n",
    "\n",
    "// make some featurised sets for just running the model thru the Crossvalidator\n",
    "val featurized_training = hasher.transform(train)\n",
    "val featurized_test = hasher.transform(test)\n",
    "\n",
    "//set LR with 100 max iter\n",
    "val lr = new LinearRegression()\n",
    "    .setLabelCol(\"loggedPrice\")\n",
    "    .setFeaturesCol(\"hashedFeatures\")\n",
    "    .setPredictionCol(\"Predicted LoggedPrice\")\n",
    "    .setMaxIter(1500)\n",
    "\n",
    "\n",
    "// We use a ParamGridBuilder to construct a grid of parameters to search over.\n",
    "val paramGrid = new ParamGridBuilder()\n",
    "  .addGrid(lr.regParam, Array(0,0.1,0.5,1))\n",
    "  .addGrid(lr.elasticNetParam, Array(0,0.1,0.5,1))\n",
    "  .build()\n",
    "\n",
    "// We now treat the model as an Estimator, wrapping it in a CrossValidator instance.\n",
    "// This will allow us to choose best params for the model\n",
    "val cv = new CrossValidator()\n",
    "  .setEstimator(lr)\n",
    "  .setEvaluator(new RegressionEvaluator()\n",
    "  .setLabelCol(\"loggedPrice\")\n",
    "  .setPredictionCol(\"Predicted LoggedPrice\")\n",
    "  .setMetricName(\"rmse\"))\n",
    "  .setEstimatorParamMaps(paramGrid)\n",
    "  .setNumFolds(3)  \n",
    "  .setParallelism(2)\n",
    "\n",
    "// Run cross-validation, and choose the best set of parameters.\n",
    "val cvModel = cv.fit(featurized_training)\n",
    "\n",
    "// Make predictions on test documents. \n",
    "//cvModel uses the best model found.\n",
    "cvModel.transform(featurized_test)\n",
    "  .select(\"loggedPrice\", \"Predicted LoggedPrice\")\n",
    "  .show()\n",
    "\n",
    "//print runtime\n",
    "val endTimeMillis = System.currentTimeMillis()\n",
    "\n",
    "print(\"Model was executed \"\n",
    "      + getExecutionTime(startTimeMillis,endTimeMillis))\n"
   ]
  },
  {
   "cell_type": "markdown",
   "metadata": {},
   "source": [
    "### Extract best Parameters from CrossValidation"
   ]
  },
  {
   "cell_type": "code",
   "execution_count": 89,
   "metadata": {},
   "outputs": [
    {
     "name": "stdout",
     "output_type": "stream",
     "text": [
      "{\n",
      "\tlinReg_be25ac5db2c9-aggregationDepth: 2,\n",
      "\tlinReg_be25ac5db2c9-elasticNetParam: 0.0,\n",
      "\tlinReg_be25ac5db2c9-epsilon: 1.35,\n",
      "\tlinReg_be25ac5db2c9-featuresCol: hashedFeatures,\n",
      "\tlinReg_be25ac5db2c9-fitIntercept: true,\n",
      "\tlinReg_be25ac5db2c9-labelCol: loggedPrice,\n",
      "\tlinReg_be25ac5db2c9-loss: squaredError,\n",
      "\tlinReg_be25ac5db2c9-maxIter: 1500,\n",
      "\tlinReg_be25ac5db2c9-predictionCol: Predicted LoggedPrice,\n",
      "\tlinReg_be25ac5db2c9-regParam: 0.1,\n",
      "\tlinReg_be25ac5db2c9-solver: auto,\n",
      "\tlinReg_be25ac5db2c9-standardization: true,\n",
      "\tlinReg_be25ac5db2c9-tol: 1.0E-6\n",
      "}\n"
     ]
    },
    {
     "data": {
      "text/plain": [
       "bestModel: org.apache.spark.ml.Model[_] = linReg_be25ac5db2c9\n",
       "bestParamMap: org.apache.spark.ml.param.ParamMap =\n",
       "{\n",
       "\tlinReg_be25ac5db2c9-aggregationDepth: 2,\n",
       "\tlinReg_be25ac5db2c9-elasticNetParam: 0.0,\n",
       "\tlinReg_be25ac5db2c9-epsilon: 1.35,\n",
       "\tlinReg_be25ac5db2c9-featuresCol: hashedFeatures,\n",
       "\tlinReg_be25ac5db2c9-fitIntercept: true,\n",
       "\tlinReg_be25ac5db2c9-labelCol: loggedPrice,\n",
       "\tlinReg_be25ac5db2c9-loss: squaredError,\n",
       "\tlinReg_be25ac5db2c9-maxIter: 1500,\n",
       "\tlinReg_be25ac5db2c9-predictionCol: Predicted LoggedPrice,\n",
       "\tlinReg_be25ac5db2c9-regParam: 0.1,\n",
       "\tlinReg_be25ac5db2c9-solver: auto,\n",
       "\tlinReg_be25ac5db2c9-standardization: true,\n",
       "\tlinReg_be25ac5db2c9-tol: 1.0E-6\n",
       "}\n"
      ]
     },
     "execution_count": 89,
     "metadata": {},
     "output_type": "execute_result"
    }
   ],
   "source": [
    "//print out the params used for the best model\n",
    "val bestModel = cvModel.bestModel\n",
    "\n",
    "//save as ParamMap to pass into pipeline\n",
    "val bestParamMap = bestModel.extractParamMap\n",
    "\n",
    "//these the bestParams determined from CV\n",
    "println(bestModel.extractParamMap) "
   ]
  },
  {
   "cell_type": "code",
   "execution_count": 91,
   "metadata": {},
   "outputs": [
    {
     "data": {
      "text/plain": [
       "bestlr: org.apache.spark.ml.regression.LinearRegression = linReg_2b06961bfa69\n"
      ]
     },
     "execution_count": 91,
     "metadata": {},
     "output_type": "execute_result"
    }
   ],
   "source": [
    "//define new LR instance for using the best params in pipeline\n",
    "val bestlr = new LinearRegression()\n",
    "    .setLabelCol(\"loggedPrice\")\n",
    "    .setFeaturesCol(\"hashedFeatures\")\n",
    "    .setPredictionCol(\"Predicted loggedPrice\")"
   ]
  },
  {
   "cell_type": "markdown",
   "metadata": {},
   "source": [
    "### Define Pipeline "
   ]
  },
  {
   "cell_type": "code",
   "execution_count": 92,
   "metadata": {},
   "outputs": [
    {
     "data": {
      "text/plain": [
       "lrStages: Array[org.apache.spark.ml.PipelineStage with org.apache.spark.ml.util.DefaultParamsWritable{def copy(extra: org.apache.spark.ml.param.ParamMap): org.apache.spark.ml.PipelineStage with org.apache.spark.ml.util.DefaultParamsWritable{def copy(extra: org.apache.spark.ml.param.ParamMap): org.apache.spark.ml.PipelineStage with org.apache.spark.ml.util.DefaultParamsWritable}}] = Array(featureHasher_ad6b5228e374, linReg_2b06961bfa69)\n"
      ]
     },
     "execution_count": 92,
     "metadata": {},
     "output_type": "execute_result"
    }
   ],
   "source": [
    "// add linear regression to stages\n",
    "// I removed the scaler as the performance for gain was terrible\n",
    "val lrStages = Array(\n",
    "    hasher,\n",
    "    bestlr\n",
    ")"
   ]
  },
  {
   "cell_type": "code",
   "execution_count": 93,
   "metadata": {},
   "outputs": [
    {
     "name": "stdout",
     "output_type": "stream",
     "text": [
      "Pipeline was executed 6"
     ]
    },
    {
     "data": {
      "text/plain": [
       "startTimeMillis: Long = 1591501595889\n",
       "lrPipe: org.apache.spark.ml.Pipeline = pipeline_d4ffabb905b8\n",
       "lrModel: org.apache.spark.ml.PipelineModel = pipeline_d4ffabb905b8\n",
       "predictions: org.apache.spark.sql.DataFrame = [Price: double, MethodOfSale: int ... 14 more fields]\n",
       "endTimeMillis: Long = 1591501602534\n"
      ]
     },
     "execution_count": 93,
     "metadata": {},
     "output_type": "execute_result"
    }
   ],
   "source": [
    "val startTimeMillis = System.currentTimeMillis()\n",
    "\n",
    "//define a pipleine\n",
    "val lrPipe = new Pipeline().setStages(lrStages)\n",
    "\n",
    "// We fit our DataFrame into the pipeline to generate a model\n",
    "// pass best ParamMap from cross validation\n",
    "val lrModel = lrPipe.fit(train,bestParamMap)\n",
    "\n",
    "\n",
    "// Make predictions using the model and the test data\n",
    "// pass best ParamMap from cross validation\n",
    "val predictions = lrModel.transform(test,bestParamMap)\n",
    "\n",
    "val endTimeMillis = System.currentTimeMillis()\n",
    "\n",
    "print(\"Pipeline was executed \"\n",
    "      + getExecutionTime(startTimeMillis,endTimeMillis))\n"
   ]
  },
  {
   "cell_type": "code",
   "execution_count": 94,
   "metadata": {
    "scrolled": true
   },
   "outputs": [
    {
     "data": {
      "text/plain": [
       "getExecutionTime: (start: Long, end: Long)Long\n"
      ]
     },
     "execution_count": 94,
     "metadata": {},
     "output_type": "execute_result"
    }
   ],
   "source": [
    "def getExecutionTime(start: Long , end : Long) = {\n",
    "    val duration:Long = (end - start) / 1000\n",
    "    (duration)\n",
    "}"
   ]
  },
  {
   "cell_type": "markdown",
   "metadata": {},
   "source": [
    "### Undo the Log transformation  on the prediciton"
   ]
  },
  {
   "cell_type": "code",
   "execution_count": 113,
   "metadata": {},
   "outputs": [
    {
     "name": "stdout",
     "output_type": "stream",
     "text": [
      "+------------------+\n",
      "|   Predicted Price|\n",
      "+------------------+\n",
      "| 268463.7666907244|\n",
      "|320000.71693956025|\n",
      "| 308627.3274379664|\n",
      "| 265183.5027409324|\n",
      "| 465493.0205295025|\n",
      "| 349470.4824271826|\n",
      "| 608025.0925479425|\n",
      "| 635982.2169280623|\n",
      "|  526205.683120743|\n",
      "| 378792.4026021724|\n",
      "|  483081.433702172|\n",
      "|383285.88383713306|\n",
      "|329591.07451323996|\n",
      "| 525048.2521342823|\n",
      "|  414362.529620406|\n",
      "| 602393.9704089357|\n",
      "| 622135.3798117155|\n",
      "| 558097.3574494704|\n",
      "|305046.99368025234|\n",
      "| 266446.8060679387|\n",
      "+------------------+\n",
      "only showing top 20 rows\n",
      "\n"
     ]
    },
    {
     "data": {
      "text/plain": [
       "Antilogpredictions: org.apache.spark.sql.DataFrame = [Price: double, MethodOfSale: int ... 14 more fields]\n"
      ]
     },
     "execution_count": 113,
     "metadata": {},
     "output_type": "execute_result"
    }
   ],
   "source": [
    "var Antilogpredictions = predictions.withColumn(\"Predicted loggedPrice\",col(\"Predicted loggedPrice\").cast(\"Double\"))\n",
    "Antilogpredictions.withColumn(\"Predicted Price\", exp((col(\"Predicted loggedPrice\")))).select(\"Predicted Price\").show()"
   ]
  },
  {
   "cell_type": "code",
   "execution_count": 102,
   "metadata": {
    "scrolled": true
   },
   "outputs": [
    {
     "data": {
      "text/plain": [
       "Antilogpredictions: org.apache.spark.sql.DataFrame = [Price: double, MethodOfSale: int ... 15 more fields]\n"
      ]
     },
     "execution_count": 102,
     "metadata": {},
     "output_type": "execute_result"
    }
   ],
   "source": [
    "Antilogpredictions = Antilogpredictions.withColumn(\"Predicted Price\", exp((col(\"Predicted loggedPrice\"))))"
   ]
  },
  {
   "cell_type": "markdown",
   "metadata": {},
   "source": [
    "### Evaluation of the model and its predictions"
   ]
  },
  {
   "cell_type": "code",
   "execution_count": 103,
   "metadata": {},
   "outputs": [
    {
     "name": "stdout",
     "output_type": "stream",
     "text": [
      "+--------+---------------+\n",
      "|   Price|Predicted Price|\n",
      "+--------+---------------+\n",
      "|170000.0|       268464.0|\n",
      "|280000.0|       320001.0|\n",
      "|280500.0|       308627.0|\n",
      "|283000.0|       265184.0|\n",
      "|290000.0|       465493.0|\n",
      "|300000.0|       349470.0|\n",
      "|300000.0|       608025.0|\n",
      "|305000.0|       635982.0|\n",
      "|310000.0|       526206.0|\n",
      "|316000.0|       378792.0|\n",
      "|320000.0|       483081.0|\n",
      "|320000.0|       383286.0|\n",
      "|320000.0|       329591.0|\n",
      "|320000.0|       525048.0|\n",
      "|325000.0|       414363.0|\n",
      "|335000.0|       602394.0|\n",
      "|340000.0|       622135.0|\n",
      "|346000.0|       558097.0|\n",
      "|350000.0|       305047.0|\n",
      "|350000.0|       266447.0|\n",
      "+--------+---------------+\n",
      "only showing top 20 rows\n",
      "\n"
     ]
    }
   ],
   "source": [
    "//finesse the output of predicted price and price to aid visual compare\n",
    "Antilogpredictions.withColumn(\"Predicted Price\", round($\"Predicted Price\", 0))\n",
    "    .select(\"Price\",\"Predicted Price\").show()"
   ]
  },
  {
   "cell_type": "code",
   "execution_count": 104,
   "metadata": {
    "scrolled": true
   },
   "outputs": [
    {
     "name": "stdout",
     "output_type": "stream",
     "text": [
      "+-------+------------------+------------------+\n",
      "|summary|             Price|   Predicted Price|\n",
      "+-------+------------------+------------------+\n",
      "|  count|              3154|              3154|\n",
      "|   mean|1159751.4419784402|1165939.0849067552|\n",
      "| stddev| 654280.4305455782| 589644.6926599448|\n",
      "|    min|          170000.0| 255921.2454490169|\n",
      "|    max|         6300000.0|  6814540.12837558|\n",
      "+-------+------------------+------------------+\n",
      "\n"
     ]
    }
   ],
   "source": [
    "Antilogpredictions.describe().select(\"summary\",\"Price\",\"Predicted Price\").show()"
   ]
  },
  {
   "cell_type": "code",
   "execution_count": 117,
   "metadata": {},
   "outputs": [
    {
     "data": {
      "text/plain": [
       "evaluate: (predictions: org.apache.spark.sql.DataFrame, metric: String)Unit\n"
      ]
     },
     "execution_count": 117,
     "metadata": {},
     "output_type": "execute_result"
    }
   ],
   "source": [
    "// define an evaluator for the cross validation\n",
    "def evaluate ( predictions: DataFrame, metric: String) = {\n",
    "    val eval =  new RegressionEvaluator()\n",
    "       .setLabelCol(\"loggedPrice\")\n",
    "       .setPredictionCol(\"Predicted loggedPrice\")\n",
    "       .setMetricName(metric)\n",
    "println(\"Root Mean Squared Error \"+  metric.toUpperCase()\n",
    "        +\" on test data = \" + eval.evaluate(predictions))\n",
    "}"
   ]
  },
  {
   "cell_type": "markdown",
   "metadata": {},
   "source": [
    "#### Regression metrics\n",
    "\n",
    "**Mean squared error (MSE)** -- the average of squared differences between the predicted outcome and the true outcome.\n",
    "\n",
    "**R2 coefficient** -- the proportion of variance in the outcome that our model is capable of predicting based on its features."
   ]
  },
  {
   "cell_type": "code",
   "execution_count": 119,
   "metadata": {},
   "outputs": [
    {
     "name": "stdout",
     "output_type": "stream",
     "text": [
      "Root Mean Squared Error RMSE on test data = 0.25787988729724454\n",
      "Root Mean Squared Error R2 on test data = 0.7274712899694629\n"
     ]
    }
   ],
   "source": [
    "//difference between logged price and predicted logged price\n",
    "evaluate(Antilogpredictions,\"rmse\")\n",
    "evaluate(Antilogpredictions,\"r2\")"
   ]
  },
  {
   "cell_type": "markdown",
   "metadata": {},
   "source": [
    "Looks like we go down from our training set:\n",
    "\n",
    "`RMSE: 0.15067909288639053\n",
    "r2: 0.9080852142542626`\n",
    "\n",
    "to our test set with best params:\n",
    "\n",
    "`0.25787988729724454\n",
    "0.7274712899694629`\n"
   ]
  },
  {
   "cell_type": "markdown",
   "metadata": {},
   "source": [
    "### 2. Apply K-means Model  \n",
    "\n",
    "This modelling of this section is based on (Sarkar, 2017)"
   ]
  },
  {
   "cell_type": "markdown",
   "metadata": {},
   "source": [
    "#### Training\n",
    "\n",
    "\n",
    "Pipeline Estimator"
   ]
  },
  {
   "cell_type": "code",
   "execution_count": 45,
   "metadata": {},
   "outputs": [
    {
     "ename": "<console>",
     "evalue": "39: error: not found: value df",
     "output_type": "error",
     "traceback": [
      "<console>:39: error: not found: value df",
      "       val model = kmeans.fit(df)",
      "                              ^",
      ""
     ]
    }
   ],
   "source": [
    "import org.apache.spark.ml.clustering.KMeans\n",
    "\n",
    "val kmeans = new KMeans().setK(2).setSeed(1L)\n",
    "val model = kmeans.fit(df)"
   ]
  },
  {
   "cell_type": "markdown",
   "metadata": {},
   "source": [
    "#### Prediction"
   ]
  },
  {
   "cell_type": "code",
   "execution_count": null,
   "metadata": {},
   "outputs": [],
   "source": []
  },
  {
   "cell_type": "markdown",
   "metadata": {},
   "source": [
    "#### Testing/Evaluation\n",
    "\n",
    "Pipeline Model Transformer\n",
    "\n",
    "Evaluate the quality of clustering by \"elbowing\" the **Within SEt Sum of Squared Errors (WSSSE)** graph."
   ]
  },
  {
   "cell_type": "code",
   "execution_count": null,
   "metadata": {},
   "outputs": [],
   "source": [
    "val WSSSE = model.computeCost(df)\n",
    "\n",
    "println(\"WSSSE error + $WSSSE\")"
   ]
  },
  {
   "cell_type": "code",
   "execution_count": null,
   "metadata": {},
   "outputs": [],
   "source": [
    "model.clusterCenters.foreach(println)"
   ]
  },
  {
   "cell_type": "code",
   "execution_count": null,
   "metadata": {},
   "outputs": [],
   "source": [
    "val transformed = model.transform(df)"
   ]
  },
  {
   "cell_type": "code",
   "execution_count": null,
   "metadata": {},
   "outputs": [],
   "source": [
    "//compute the diff between the labels abd the predicated values on data set\n",
    "\n",
    "transformed.select(\"prediction\").groupBy(\"prediction\")count().orderBy().show(\"prediction\")"
   ]
  },
  {
   "cell_type": "code",
   "execution_count": null,
   "metadata": {},
   "outputs": [],
   "source": [
    "val y1df = transformed.select($\"label\",$\"prediction\").where($\"label!=prediction\")"
   ]
  },
  {
   "cell_type": "code",
   "execution_count": null,
   "metadata": {},
   "outputs": [],
   "source": [
    "y1df.count()"
   ]
  },
  {
   "cell_type": "code",
   "execution_count": null,
   "metadata": {},
   "outputs": [],
   "source": [
    "transformed.filter(\"prediction = 0\").show()"
   ]
  },
  {
   "cell_type": "code",
   "execution_count": null,
   "metadata": {},
   "outputs": [],
   "source": [
    "transformed.filter(\"prediction = 1\").show()"
   ]
  },
  {
   "cell_type": "code",
   "execution_count": null,
   "metadata": {},
   "outputs": [],
   "source": [
    "transformed.filter(\"prediction = 0\").describe.show()"
   ]
  },
  {
   "cell_type": "code",
   "execution_count": null,
   "metadata": {},
   "outputs": [],
   "source": [
    "transformed.filter(\"prediction = 1\").describe.show()"
   ]
  },
  {
   "cell_type": "code",
   "execution_count": null,
   "metadata": {},
   "outputs": [],
   "source": [
    "println(\"No of mis-matche between predictions and labels =\"+y1df.count() +\"\\nTotal no. of records \"+transformed.count()+ \\\n",
    "         \"\\nCorrect predictions = \"+ (1-y1df.count()).toDouble/transformed.count()+\"\\nMismatch \"+\\\n",
    "          (1-y1df.count()).toDouble/transformed.count())"
   ]
  },
  {
   "cell_type": "code",
   "execution_count": null,
   "metadata": {},
   "outputs": [],
   "source": [
    "//Feed test input records for the model to predict their cluster\n",
    "val testData = spark.createDataFrame(Seq().toDF(\"colName\",\"features\"))\n",
    "model.transform(testData).show()"
   ]
  },
  {
   "cell_type": "code",
   "execution_count": null,
   "metadata": {},
   "outputs": [],
   "source": []
  },
  {
   "cell_type": "markdown",
   "metadata": {},
   "source": [
    "### 3. Apply Random Forest Regression\n",
    "\n",
    "**Build Random Forest model**\n",
    "Specify maxDepth, maxBins, auto and seed parameters.\n",
    "\n",
    "**maxDepth** -- Maximum depth of a tree. Increasing the depth makes the model more powerful, but deep trees take longer to train.\n",
    "\n",
    "**maxBins** -- Maximum number of bins used for discretizing continuous features and for choosing how to split on features at each node.\n",
    "\n",
    "**auto** -- Automatically select the number of features to consider for splits at each tree node\n",
    "\n",
    "**seed** -- Use a random seed number , allowing to repeat the results"
   ]
  },
  {
   "cell_type": "markdown",
   "metadata": {},
   "source": [
    "\n",
    "If the number of trees is 1, then no bootstrapping is used at all. However, if the number of trees is > 1, then the bootstrapping is accomplished. Where, the parameter featureSubsetStrategy signifies the number of features to be considered for splits at each node. The supported values of featureSubsetStrategy are \"auto\", \"all\", \"sqrt\", \"log2\" and \"on third\". The supported numerical values, on the other hand, are (0.0-1.0] and [1-n]. However, if featureSubsetStrategy is chosen as \"auto\", the algorithm chooses the best feature subset strategy automatically\n",
    "\n",
    "\n",
    "If the numTrees == 1, the featureSubsetStrategy is set to be \"all\". However, if the numTrees > 1 (i.e., forest), featureSubsetStrategy is set to be \"onethird\" for regression\n",
    "\n",
    "\n",
    "Moreover, if a real value \"n\" is in the range (0, 1.0] is set, n*number_of_features is used consequently. However, if an integer value \"n\" is in the range (1, the number of features) is set, only n features are used alternatively\n",
    "\n",
    "\n",
    "The parameter categoricalFeaturesInfo which is a map is used for storing arbitrary of categorical features. An entry (n -> k) indicates that feature n is categorical with k categories indexed from 0: {0, 1,...,k-1}\n",
    "The impurity criterion used for information gain calculation. The supported values are “gini\" and “variance”. The former is the only supported value for classification. The latter is used for regression\n",
    "\n",
    "\n",
    "The maxDepth is the maximum depth of the tree. (e.g., depth 0 means 1 leaf node, depth 1 means 1 internal node + 2 leaf nodes). However, the suggested value is 4 to get a better result\n",
    "\n",
    "\n",
    "The maxBins signifies the maximum number of bins used for splitting the features; where the suggested value is 100 to get better results\n",
    "\n",
    "\n",
    "Finally, the random seed is used for bootstrapping and choosing feature subsets to avoid the random nature of the results."
   ]
  },
  {
   "cell_type": "code",
   "execution_count": null,
   "metadata": {},
   "outputs": [],
   "source": [
    "import org.apache.spark.ml.regression.RandomForestRegressor\n",
    "import org.apache.spark.ml.tuning.CrossValidator\n",
    "//import org.apache.spark.ml.Pipeline\n",
    "\n",
    "val seed = 5043\n",
    "\n",
    "val rf = new RandomForestRegressor()\n",
    "  .setMaxBins(100)\n",
    "  .setMaxDepth(6)\n",
    "  .setNumTrees(10)\n",
    "  .setFeatureSubsetStrategy(\"onethird\")\n",
    "  .setSeed(seed)\n",
    "  .setLabelCol(\"Price\")"
   ]
  },
  {
   "cell_type": "code",
   "execution_count": null,
   "metadata": {},
   "outputs": [],
   "source": [
    "val rfPredictions = time{predictions(rf, train, test)}\n",
    "rfPredictions.cache()"
   ]
  },
  {
   "cell_type": "code",
   "execution_count": null,
   "metadata": {},
   "outputs": [],
   "source": [
    "rfPredictions.columns"
   ]
  },
  {
   "cell_type": "code",
   "execution_count": null,
   "metadata": {},
   "outputs": [],
   "source": [
    "rfPredictions.withColumn(\"prediction\", round($\"prediction\", 0)).select(\"Price\",\"prediction\").show()"
   ]
  },
  {
   "cell_type": "markdown",
   "metadata": {},
   "source": [
    "#### Regression metrics\n"
   ]
  },
  {
   "cell_type": "code",
   "execution_count": null,
   "metadata": {},
   "outputs": [],
   "source": [
    "evaluate(rfPredictions,\"rmse\")"
   ]
  },
  {
   "cell_type": "code",
   "execution_count": null,
   "metadata": {},
   "outputs": [],
   "source": [
    "evaluate(rfPredictions,\"r2\")"
   ]
  },
  {
   "cell_type": "markdown",
   "metadata": {},
   "source": [
    "#### Testing/Evaluation/ Parameter Tuning\n",
    "\n",
    "Cross-validation\n",
    "<span style=\"color:red\">\n",
    "TO DO: \n",
    "* finish implementation for Cross-validation \n",
    "* check if finish run in reasonable time\n",
    "</span>"
   ]
  },
  {
   "cell_type": "code",
   "execution_count": null,
   "metadata": {},
   "outputs": [],
   "source": [
    "import org.apache.spark.ml.regression.RandomForestRegressor\n",
    "\n",
    "// Models hypoparameters\n",
    "val numTrees = Seq(5,10,30)\n",
    "val maxBins = Seq(50,100)\n",
    "val maxDepth = Seq(2,3,5)\n",
    "val impurity = Seq(\"gini\",\"entropy\",\"variance\")\n",
    "val featureSubsetStrategy = Seq(\"sqrt\",\"onethird\")\n",
    "\n",
    "val rf = new RandomForestRegressor()\n",
    "  .setLabelCol(\"Price\")\n",
    "  .setFeaturesCol(\"features\")\n",
    "  .setPredictionCol(\"prediction\")\n",
    "\n",
    "\n",
    "val rfParamMap = new ParamGridBuilder()\n",
    "  .addGrid(rf.numTrees, numTrees)\n",
    "  .addGrid(rf.maxDepth, maxDepth)\n",
    "  .addGrid(rf.maxBins, maxBins)\n",
    "  .addGrid(rf.featureSubsetStrategy, featureSubsetStrategy)\n",
    "  .build()\n",
    "\n",
    "val t0 = System.nanoTime()\n",
    "val best_model = train_eval(rf, rfParamMap, train, test)\n",
    "val t1 = System.nanoTime()\n",
    "println(\"Elapsed time: \" + (t1 - t0)/(1000000000) + \" s\")\n"
   ]
  },
  {
   "cell_type": "markdown",
   "metadata": {},
   "source": [
    "#### Prediction"
   ]
  },
  {
   "cell_type": "code",
   "execution_count": null,
   "metadata": {},
   "outputs": [],
   "source": [
    "rfPredictions.withColumn(\"prediction\", round($\"prediction\", 0)).select(\"Price\",\"prediction\").show()\n",
    "\n",
    "// this will add new columns rawPrediction, probability and prediction\n",
    "val predictionDf = randomForestModel.transform(testData)\n",
    "predictionDf.show(10)"
   ]
  },
  {
   "cell_type": "markdown",
   "metadata": {},
   "source": [
    "#### Tuning"
   ]
  },
  {
   "cell_type": "markdown",
   "metadata": {},
   "source": [
    "#### Bias vs Variance Graph of Error (validation error and training error) versus training set size. \n",
    "\n",
    "\n",
    "<span style=\"color:red\">\n",
    "TO DO: \n",
    "produce graph -- validation error and training error should converge\n",
    "</span>\n"
   ]
  },
  {
   "cell_type": "markdown",
   "metadata": {},
   "source": [
    "### References\n",
    "\n",
    "Apache Spark (n.d.). Spark ML Programming Guide. Retrieved from https://spark.apache.org/docs/1.2.2/ml-guide.html\n",
    "\n",
    "Gorczynski M. (2017). Introduction to machine learning with spark and mllib (dataframe API). Retrieved from https://scalac.io/scala-spark-ml-machine-learning-introduction/\n",
    "\n",
    "Hydrospheredata (2020). Program creek. Scala Code Examples. Scaler Retrieved from https://www.programcreek.com/scala/org.apache.spark.ml.feature.StandardScaler\n",
    "\n",
    "Jen G. (2020) FeatureHasher. Retrieved from https://george-jen.gitbook.io/data-science-and-apache-spark/featurehasher\n",
    "\n",
    "Johnson S (2019). From sckit-learn to Spark ML. Retrieved from https://towardsdatascience.com/from-scikit-learn-to-spark-ml-f2886fb46852\n",
    "\n",
    "Johnson S (2019). Housing Prices - Spark ML Project Retrieved from https://github.com/scottdjohnson/HousingPricePredictions/blob/master/HousingPrices-SparkML.ipynb\n",
    "\n",
    "Masri A. (2019). FeatureTransformation. Retrieved from\n",
    "https://towardsdatascience.com/apache-spark-mllib-tutorial-7aba8a1dce6e\n",
    "\n",
    "Sarkar A. (2017). Learning Spark SQL. Implementing a Spark ML clustering model. Packt Publishing.\n",
    "\n",
    "Scala Doc (n.d.) Retrieved from https://docs.scala-lang.org\n",
    "\n",
    "\n",
    "(2019) Random Forest Classifier with Apache Spark Retireved from https://medium.com/rahasak/random-forest-classifier-with-apache-spark-c63b4a23a7cc\n",
    "\n",
    "Wagle M.(2020) _Predicting House Prices using Machine Learning_. Retrieved from https://medium.com/@manilwagle/predicting-house-prices-using-machine-learning-cab0b82cd3f"
   ]
  }
 ],
 "metadata": {
  "kernelspec": {
   "display_name": "spylon-kernel",
   "language": "scala",
   "name": "spylon-kernel"
  },
  "language_info": {
   "codemirror_mode": "text/x-scala",
   "file_extension": ".scala",
   "help_links": [
    {
     "text": "MetaKernel Magics",
     "url": "https://metakernel.readthedocs.io/en/latest/source/README.html"
    }
   ],
   "mimetype": "text/x-scala",
   "name": "scala",
   "pygments_lexer": "scala",
   "version": "0.4.1"
  }
 },
 "nbformat": 4,
 "nbformat_minor": 4
}
