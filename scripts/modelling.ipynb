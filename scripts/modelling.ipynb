{
 "cells": [
  {
   "cell_type": "markdown",
   "metadata": {},
   "source": [
    "### Preparing HDFS\n",
    "Using magic\n",
    "\n",
    "Create input folder on HDFS if not exists\n",
    "\n",
    "Copy from data from local\n",
    "\n",
    "<span style=\"color:red\"><em style=font-size:40px;>!</em>The following cells are basically a copy and paste of our assessment 1 submission"
   ]
  },
  {
   "cell_type": "code",
   "execution_count": 1,
   "metadata": {},
   "outputs": [
    {
     "name": "stdout",
     "output_type": "stream",
     "text": [
      "/home/big-data-realestate-master/scripts\n",
      "\n",
      "20/06/02 14:05:14 INFO fs.TrashPolicyDefault: Namenode trash configuration: Deletion interval = 0 minutes, Emptier interval = 0 minutes.\n",
      "\n",
      "\n",
      "Deleted /tmp/rs_input\n",
      "\n",
      "\n",
      "Found 1 items\n",
      "\n",
      "\n",
      "-rwxrwxrwx   1 1000 staff    5018236 2020-06-02 10:54 /tmp/rs_input/raw.csv\n",
      "\n",
      "\n"
     ]
    }
   ],
   "source": [
    "!pwd\n",
    "! hadoop fs -rm -R /tmp/rs_input\n",
    "! hadoop fs -mkdir -p  /tmp/rs_input\n",
    "! hadoop fs -put   -p  ./../data-raw/Melbourne_housing_FULL.csv             /tmp/rs_input/raw.csv\n",
    "! hadoop fs -ls        /tmp/rs_input/"
   ]
  },
  {
   "cell_type": "code",
   "execution_count": 2,
   "metadata": {},
   "outputs": [
    {
     "data": {
      "text/plain": [
       "Intitializing Scala interpreter ..."
      ]
     },
     "metadata": {},
     "output_type": "display_data"
    },
    {
     "data": {
      "text/plain": [
       "Spark Web UI available at http://a56a95a92af2:4041\n",
       "SparkContext available as 'sc' (version = 2.4.5, master = local[*], app id = local-1591106723251)\n",
       "SparkSession available as 'spark'\n"
      ]
     },
     "metadata": {},
     "output_type": "display_data"
    },
    {
     "data": {
      "text/plain": [
       "df_raw: org.apache.spark.sql.DataFrame = [Suburb: string, Address: string ... 19 more fields]\n"
      ]
     },
     "execution_count": 2,
     "metadata": {},
     "output_type": "execute_result"
    }
   ],
   "source": [
    "//load raw into df\n",
    "val df_raw = spark\n",
    "    .read\n",
    "    .format(\"csv\")\n",
    "    .option(\"header\", \"true\")\n",
    "    .load(\"hdfs://localhost:9000/tmp/rs_input/raw.csv\")"
   ]
  },
  {
   "cell_type": "code",
   "execution_count": 3,
   "metadata": {},
   "outputs": [
    {
     "data": {
      "text/plain": [
       "df_working: org.apache.spark.sql.DataFrame = [Price: string, MethodOfSale: string ... 11 more fields]\n",
       "df_working: org.apache.spark.sql.DataFrame = [Price: string, MethodOfSale: string ... 11 more fields]\n"
      ]
     },
     "execution_count": 3,
     "metadata": {},
     "output_type": "execute_result"
    }
   ],
   "source": [
    "//only select columns we need now\n",
    "var df_working= df_raw.select(\"Price\",\n",
    "                          \"Method\",\n",
    "                          \"Type\",\n",
    "                          \"Distance\",\n",
    "                          \"Rooms\",\n",
    "                          \"Bathroom\",\n",
    "                          \"Car\",\n",
    "                          \"Landsize\",\n",
    "                          \"Lattitude\",\n",
    "                          \"Longtitude\",    \n",
    "                          \"Suburb\",\n",
    "                          \"Address\",\n",
    "                          \"Date\")\n",
    "\n",
    "\n",
    "//add meaningful to column names\n",
    "df_working = df_working.withColumnRenamed(\"Method\",\"MethodOfSale\")\n",
    "    .withColumnRenamed(\"Distance\",\"DistanceFromCBD\")\n",
    "    .withColumnRenamed(\"Type\",\"PropertyType\")\n",
    "    .withColumnRenamed(\"Lattitude\",\"Latitude\")"
   ]
  },
  {
   "cell_type": "code",
   "execution_count": 4,
   "metadata": {},
   "outputs": [
    {
     "data": {
      "text/plain": [
       "df_working: org.apache.spark.sql.DataFrame = [Price: string, MethodOfSale: string ... 11 more fields]\n"
      ]
     },
     "execution_count": 4,
     "metadata": {},
     "output_type": "execute_result"
    }
   ],
   "source": [
    "//when profiling there are a number of columns with a \"#N/A\" which need to be removed\n",
    "df_working = df_working.filter($\"DistanceFromCBD\" =!= \"#N/A\")"
   ]
  },
  {
   "cell_type": "code",
   "execution_count": 5,
   "metadata": {},
   "outputs": [
    {
     "data": {
      "text/plain": [
       "df_working: org.apache.spark.sql.DataFrame = [Price: double, MethodOfSale: string ... 11 more fields]\n"
      ]
     },
     "execution_count": 5,
     "metadata": {},
     "output_type": "execute_result"
    }
   ],
   "source": [
    "//refactored to remove the for column loop\n",
    "df_working = df_working.withColumn(\"Price\",col(\"Price\").cast(\"Double\"))\n",
    "    .withColumn(\"Rooms\",col(\"Rooms\").cast(\"Int\"))\n",
    "    .withColumn(\"DistanceFromCBD\",col(\"DistanceFromCBD\").cast(\"Double\"))\n",
    "    .withColumn(\"Bathroom\",col(\"Bathroom\").cast(\"Int\"))\n",
    "    .withColumn(\"Car\",col(\"Car\").cast(\"Int\"))\n",
    "    .withColumn(\"Landsize\",col(\"Landsize\").cast(\"Double\"))\n",
    "    .withColumn(\"Latitude\",col(\"Latitude\").cast(\"Double\"))\n",
    "    .withColumn(\"Longtitude\",col(\"Longtitude\").cast(\"Double\"))\n",
    "    "
   ]
  },
  {
   "cell_type": "code",
   "execution_count": 6,
   "metadata": {},
   "outputs": [
    {
     "data": {
      "text/plain": [
       "df_working: org.apache.spark.sql.DataFrame = [Price: double, MethodOfSale: string ... 11 more fields]\n",
       "df_working: org.apache.spark.sql.DataFrame = [Price: double, MethodOfSale: string ... 11 more fields]\n"
      ]
     },
     "execution_count": 6,
     "metadata": {},
     "output_type": "execute_result"
    }
   ],
   "source": [
    "//convert categorically values to ints\n",
    "//make sure the categorical type is upper\n",
    "df_working = df_working.withColumn(\"PropertyType\", upper(col(\"PropertyType\")))\n",
    "\n",
    "df_working = df_working.withColumn(\"PropertyType\",\n",
    "when(col(\"PropertyType\") === \"H\", \"1\")\n",
    ".when(col(\"PropertyType\") === \"U\", \"2\")\n",
    ".when(col(\"PropertyType\") ===\"T\", \"3\")\n",
    ".otherwise(\"0\"))"
   ]
  },
  {
   "cell_type": "code",
   "execution_count": 7,
   "metadata": {},
   "outputs": [
    {
     "data": {
      "text/plain": [
       "df_working: org.apache.spark.sql.DataFrame = [Price: double, MethodOfSale: string ... 11 more fields]\n"
      ]
     },
     "execution_count": 7,
     "metadata": {},
     "output_type": "execute_result"
    }
   ],
   "source": [
    "//convert categorically values to ints\n",
    "//make sure the categorical type is upper\n",
    "df_working = df_working.withColumn(\"MethodOfSale\", upper(col(\"MethodOfSale\")))"
   ]
  },
  {
   "cell_type": "code",
   "execution_count": 8,
   "metadata": {},
   "outputs": [
    {
     "data": {
      "text/plain": [
       "df_working: org.apache.spark.sql.DataFrame = [Price: double, MethodOfSale: string ... 11 more fields]\n"
      ]
     },
     "execution_count": 8,
     "metadata": {},
     "output_type": "execute_result"
    }
   ],
   "source": [
    "df_working = df_working.withColumn(\"MethodOfSale\",\n",
    "when(col(\"MethodOfSale\") === \"S\", \"1\")\n",
    ".when(col(\"MethodOfSale\") === \"SP\", \"2\")\n",
    ".when(col(\"MethodOfSale\") === \"PI\", \"3\")\n",
    ".when(col(\"MethodOfSale\") === \"PN\", \"4\")\n",
    ".when(col(\"MethodOfSale\") === \"SN\", \"5\")\n",
    ".when(col(\"MethodOfSale\") === \"VB\", \"6\")\n",
    ".when(col(\"MethodOfSale\") === \"W\", \"7\")\n",
    ".when(col(\"MethodOfSale\") === \"SA\", \"8\")\n",
    ".when(col(\"MethodOfSale\") === \"SS\", \"9\")                                \n",
    ".otherwise(\"0\"))"
   ]
  },
  {
   "cell_type": "code",
   "execution_count": 9,
   "metadata": {},
   "outputs": [
    {
     "data": {
      "text/plain": [
       "df_working: org.apache.spark.sql.DataFrame = [Price: double, MethodOfSale: int ... 11 more fields]\n"
      ]
     },
     "execution_count": 9,
     "metadata": {},
     "output_type": "execute_result"
    }
   ],
   "source": [
    "//cast categorical values to Ints\n",
    "//Not strictly needed with the one hot encoding later\n",
    "df_working = df_working.withColumn(\"PropertyType\",col(\"PropertyType\").cast(\"Int\"))\n",
    "    .withColumn(\"MethodOfSale\",col(\"MethodOfSale\").cast(\"Int\"))"
   ]
  },
  {
   "cell_type": "code",
   "execution_count": 10,
   "metadata": {},
   "outputs": [
    {
     "data": {
      "text/plain": [
       "df_working: org.apache.spark.sql.DataFrame = [Price: double, MethodOfSale: int ... 11 more fields]\n"
      ]
     },
     "execution_count": 10,
     "metadata": {},
     "output_type": "execute_result"
    }
   ],
   "source": [
    "// make first letter of suburb upper case\n",
    "df_working= df_working.withColumn(\"Suburb\", initcap(col(\"Suburb\")))"
   ]
  },
  {
   "cell_type": "code",
   "execution_count": 11,
   "metadata": {},
   "outputs": [
    {
     "data": {
      "text/plain": [
       "df_working: org.apache.spark.sql.DataFrame = [Price: double, MethodOfSale: int ... 12 more fields]\n"
      ]
     },
     "execution_count": 11,
     "metadata": {},
     "output_type": "execute_result"
    }
   ],
   "source": [
    "//split address on Street name and Suffix\n",
    "df_working = df_working.withColumn(\"StreetName\",split(col(\"Address\"),\" \").getItem(1)).\n",
    "    withColumn(\"StreetSuffix\",split(col(\"Address\"),\" \").getItem(2)).drop(\"Address\")"
   ]
  },
  {
   "cell_type": "code",
   "execution_count": 12,
   "metadata": {},
   "outputs": [
    {
     "data": {
      "text/plain": [
       "df_working: org.apache.spark.sql.DataFrame = [Price: double, MethodOfSale: int ... 12 more fields]\n",
       "df_working: org.apache.spark.sql.DataFrame = [Price: double, MethodOfSale: int ... 12 more fields]\n"
      ]
     },
     "execution_count": 12,
     "metadata": {},
     "output_type": "execute_result"
    }
   ],
   "source": [
    "//fix \"The Parade, The *** adddresses\"\n",
    "df_working = df_working.withColumn(\"StreetName\",\n",
    "when(col(\"StreetName\").like(\"The\"), concat(lit(\"The \"),col(\"StreetSuffix\")))\n",
    ".otherwise(col(\"StreetName\")))\n",
    "\n",
    "//remove the street suffix\n",
    "df_working = df_working.withColumn(\"StreetSuffix\",\n",
    "when(col(\"StreetName\").contains(\"The\"), lit(\"\"))\n",
    ".otherwise(col(\"StreetSuffix\")))"
   ]
  },
  {
   "cell_type": "code",
   "execution_count": 13,
   "metadata": {},
   "outputs": [
    {
     "data": {
      "text/plain": [
       "df_working: org.apache.spark.sql.DataFrame = [Price: double, MethodOfSale: int ... 11 more fields]\n"
      ]
     },
     "execution_count": 13,
     "metadata": {},
     "output_type": "execute_result"
    }
   ],
   "source": [
    "//Rebuild street name from cleaned tokens\n",
    "//this is approach was due to the legacy code we already had tokenizing the address so i just rejoined them\n",
    "//one could write a regex replace to remove the street numbers unit numbers etc. bu i know these columns are clean\n",
    "df_working = df_working.withColumn(\"StreetName\", concat(col(\"StreetName\"), lit(\" \"),col(\"StreetSuffix\"))).drop(\"StreetSuffix\")"
   ]
  },
  {
   "cell_type": "code",
   "execution_count": 14,
   "metadata": {},
   "outputs": [
    {
     "data": {
      "text/plain": [
       "df_working: org.apache.spark.sql.DataFrame = [Price: double, MethodOfSale: int ... 11 more fields]\n"
      ]
     },
     "execution_count": 14,
     "metadata": {},
     "output_type": "execute_result"
    }
   ],
   "source": [
    "// make first letter of Street upper case\n",
    "df_working= df_working.withColumn(\"StreetName\", initcap(col(\"StreetName\")))"
   ]
  },
  {
   "cell_type": "code",
   "execution_count": 15,
   "metadata": {},
   "outputs": [
    {
     "data": {
      "text/plain": [
       "df_working: org.apache.spark.sql.DataFrame = [Price: double, MethodOfSale: int ... 11 more fields]\n"
      ]
     },
     "execution_count": 15,
     "metadata": {},
     "output_type": "execute_result"
    }
   ],
   "source": [
    "//drop all properties with land area less than 12 sqm \n",
    "df_working = df_working.filter(!($\"Landsize\"<12))"
   ]
  },
  {
   "cell_type": "code",
   "execution_count": 16,
   "metadata": {},
   "outputs": [
    {
     "data": {
      "text/plain": [
       "df_working: org.apache.spark.sql.DataFrame = [Price: double, MethodOfSale: int ... 11 more fields]\n"
      ]
     },
     "execution_count": 16,
     "metadata": {},
     "output_type": "execute_result"
    }
   ],
   "source": [
    "//drop rows where type = h and landsize < 50 sqm\n",
    "df_working = df_working.filter(!($\"Landsize\"<50 && $\"PropertyType\"===1))"
   ]
  },
  {
   "cell_type": "code",
   "execution_count": 17,
   "metadata": {},
   "outputs": [
    {
     "data": {
      "text/plain": [
       "df_not_null: org.apache.spark.sql.DataFrame = [Price: double, MethodOfSale: int ... 11 more fields]\n"
      ]
     },
     "execution_count": 17,
     "metadata": {},
     "output_type": "execute_result"
    }
   ],
   "source": [
    "val df_not_null = df_working.na.drop()"
   ]
  },
  {
   "cell_type": "code",
   "execution_count": 18,
   "metadata": {},
   "outputs": [
    {
     "name": "stdout",
     "output_type": "stream",
     "text": [
      "root\n",
      " |-- Price: double (nullable = true)\n",
      " |-- MethodOfSale: integer (nullable = true)\n",
      " |-- PropertyType: integer (nullable = true)\n",
      " |-- DistanceFromCBD: double (nullable = true)\n",
      " |-- Rooms: integer (nullable = true)\n",
      " |-- Bathroom: integer (nullable = true)\n",
      " |-- Car: integer (nullable = true)\n",
      " |-- Landsize: double (nullable = true)\n",
      " |-- Latitude: double (nullable = true)\n",
      " |-- Longtitude: double (nullable = true)\n",
      " |-- Suburb: string (nullable = true)\n",
      " |-- Date: string (nullable = true)\n",
      " |-- StreetName: string (nullable = true)\n",
      "\n"
     ]
    }
   ],
   "source": [
    "df_not_null.printSchema()"
   ]
  },
  {
   "cell_type": "code",
   "execution_count": 19,
   "metadata": {},
   "outputs": [
    {
     "name": "stdout",
     "output_type": "stream",
     "text": [
      "20/06/02 14:05:37 INFO fs.TrashPolicyDefault: Namenode trash configuration: Deletion interval = 0 minutes, Emptier interval = 0 minutes.\n",
      "\n",
      "\n",
      "Deleted /tmp/output\n",
      "\n",
      "\n"
     ]
    }
   ],
   "source": [
    "! hadoop fs -rm -R /tmp/output\n",
    "! hadoop fs -mkdir -p /tmp/output"
   ]
  },
  {
   "cell_type": "code",
   "execution_count": 20,
   "metadata": {},
   "outputs": [
    {
     "data": {
      "text/plain": [
       "df_output: Unit = ()\n"
      ]
     },
     "execution_count": 20,
     "metadata": {},
     "output_type": "execute_result"
    }
   ],
   "source": [
    "//this coalesce and write out isn't necessary if doing e2e\n",
    "val df_output = df_not_null.coalesce(1)\n",
    "   .write\n",
    "   .format(\"csv\")\n",
    "   .option(\"header\",\"true\")\n",
    "   .mode(\"overwrite\").option(\"sep\",\",\")\n",
    "   .save(\"hdfs://localhost:9000/tmp/output\")"
   ]
  },
  {
   "cell_type": "code",
   "execution_count": 21,
   "metadata": {
    "scrolled": true
   },
   "outputs": [],
   "source": [
    "! hadoop fs -mkdir -p /tmp/output\n",
    "! rm ./../data-clean/cleanMelbourneData.csv\n",
    "! hadoop fs -copyToLocal /tmp/output/\\*.csv ./../data-clean/cleanMelbourneData.csv"
   ]
  },
  {
   "cell_type": "markdown",
   "metadata": {},
   "source": [
    "##  <span style=\"color:red\"><em style=font-size:40px;>!</em>Assessment 2 Modelling etc. Starts from here\n"
   ]
  },
  {
   "cell_type": "markdown",
   "metadata": {},
   "source": [
    "## Import Data\n",
    "Here you have the option to just start from the outputed file from the wrangling if that has been ran before. \n",
    "Or can go e2e\n",
    "\n",
    "I think ideally we would want to move from output to a new input folder somewhere on HDFS"
   ]
  },
  {
   "cell_type": "code",
   "execution_count": 22,
   "metadata": {},
   "outputs": [
    {
     "data": {
      "text/plain": [
       "df_clean: org.apache.spark.sql.DataFrame = [Price: double, MethodOfSale: int ... 11 more fields]\n"
      ]
     },
     "execution_count": 22,
     "metadata": {},
     "output_type": "execute_result"
    }
   ],
   "source": [
    "//use the set wrangled from above\n",
    "var df_clean = df_not_null"
   ]
  },
  {
   "cell_type": "markdown",
   "metadata": {},
   "source": [
    "### Load from saved local file\n",
    "\n",
    "ctrl + / or cmd + / should can comment / uncomment selections"
   ]
  },
  {
   "cell_type": "code",
   "execution_count": 23,
   "metadata": {},
   "outputs": [],
   "source": [
    "// ! hadoop fs -mkdir -p  /tmp/output\n",
    "// ! hadoop fs -put   -p  ./../data-clean/cleanMelbourneData.csv  /tmp/output  "
   ]
  },
  {
   "cell_type": "code",
   "execution_count": 24,
   "metadata": {},
   "outputs": [
    {
     "data": {
      "text/plain": [
       "df_clean: org.apache.spark.sql.DataFrame = [Price: double, MethodOfSale: int ... 11 more fields]\n",
       "df_clean: org.apache.spark.sql.DataFrame = [Price: double, MethodOfSale: int ... 11 more fields]\n"
      ]
     },
     "execution_count": 24,
     "metadata": {},
     "output_type": "execute_result"
    }
   ],
   "source": [
    "// // Load Clean Dataset into a DataFrame from HDFS after wrangling is completed\n",
    "// var df_clean = spark\n",
    "//     .read\n",
    "//     .format(\"csv\")\n",
    "//     .option(\"header\", \"true\")\n",
    "//     .load(\"hdfs://localhost:9000/tmp/input/*.csv\")\n",
    "// df_clean.cache()\n",
    "\n",
    "// //when we use the output from the wrangle \n",
    "// //this can be removed as types should be fine\n",
    "// df_clean = df_clean.withColumn(\"Price\",col(\"Price\").cast(\"Double\"))\n",
    "//     .withColumn(\"Rooms\",col(\"Rooms\").cast(\"Int\"))\n",
    "//     .withColumn(\"DistanceFromCBD\",col(\"DistanceFromCBD\").cast(\"Double\"))\n",
    "//     .withColumn(\"MethodOfSale\",col(\"MethodOfSale\").cast(\"Int\"))\n",
    "//     .withColumn(\"PropertyType\",col(\"PropertyType\").cast(\"Int\"))\n",
    "//     .withColumn(\"Bathroom\",col(\"Bathroom\").cast(\"Int\"))\n",
    "//     .withColumn(\"Car\",col(\"Car\").cast(\"Int\"))\n",
    "//     .withColumn(\"Landsize\",col(\"Landsize\").cast(\"Double\"))\n",
    "//     .withColumn(\"Latitude\",col(\"Latitude\").cast(\"Double\"))\n",
    "//     .withColumn(\"Longtitude\",col(\"Longtitude\").cast(\"Double\"))\n"
   ]
  },
  {
   "cell_type": "code",
   "execution_count": 25,
   "metadata": {},
   "outputs": [
    {
     "name": "stdout",
     "output_type": "stream",
     "text": [
      "root\n",
      " |-- Price: double (nullable = true)\n",
      " |-- MethodOfSale: integer (nullable = true)\n",
      " |-- PropertyType: integer (nullable = true)\n",
      " |-- DistanceFromCBD: double (nullable = true)\n",
      " |-- Rooms: integer (nullable = true)\n",
      " |-- Bathroom: integer (nullable = true)\n",
      " |-- Car: integer (nullable = true)\n",
      " |-- Landsize: double (nullable = true)\n",
      " |-- Latitude: double (nullable = true)\n",
      " |-- Longtitude: double (nullable = true)\n",
      " |-- Suburb: string (nullable = true)\n",
      " |-- Date: string (nullable = true)\n",
      " |-- StreetName: string (nullable = true)\n",
      "\n"
     ]
    },
    {
     "data": {
      "text/plain": [
       "res1: Long = 15728\n"
      ]
     },
     "execution_count": 25,
     "metadata": {},
     "output_type": "execute_result"
    }
   ],
   "source": [
    "//debug check file load\n",
    "df_clean.cache()\n",
    "df_clean.printSchema()\n",
    "df_clean.count()"
   ]
  },
  {
   "cell_type": "markdown",
   "metadata": {},
   "source": [
    " ### Check Spark Parameters"
   ]
  },
  {
   "cell_type": "code",
   "execution_count": 26,
   "metadata": {
    "scrolled": false
   },
   "outputs": [
    {
     "name": "stdout",
     "output_type": "stream",
     "text": [
      "(spark.driver.host,a56a95a92af2)\n",
      "(spark.repl.class.uri,spark://a56a95a92af2:38611/classes)\n",
      "(spark.rdd.compress,True)\n",
      "(spark.repl.class.outputDir,/tmp/tmpgpucxy3c)\n",
      "(spark.serializer.objectStreamReset,100)\n",
      "(spark.master,local[*])\n",
      "(spark.executor.id,driver)\n",
      "(spark.driver.port,38611)\n",
      "(spark.submit.deployMode,client)\n",
      "(spark.app.id,local-1591106723251)\n",
      "(spark.app.name,spylon-kernel)\n",
      "(spark.ui.showConsoleProgress,true)\n"
     ]
    },
    {
     "data": {
      "text/plain": [
       "import org.apache.spark.sql.SparkSession\n",
       "import org.apache.spark.{SparkConf, SparkContext}\n",
       "cs: org.apache.spark.SparkConf = org.apache.spark.SparkConf@1fa4ca92\n"
      ]
     },
     "execution_count": 26,
     "metadata": {},
     "output_type": "execute_result"
    }
   ],
   "source": [
    "import org.apache.spark.sql.SparkSession\n",
    "import org.apache.spark.{SparkConf,SparkContext}\n",
    "\n",
    "val cs = spark.sparkContext.getConf\n",
    "sc.getConf.getAll.foreach { println }"
   ]
  },
  {
   "cell_type": "markdown",
   "metadata": {},
   "source": [
    "### Construct vectors from attributes\n",
    "#### Transform Sale Date into a numeric value"
   ]
  },
  {
   "cell_type": "code",
   "execution_count": 27,
   "metadata": {
    "scrolled": true
   },
   "outputs": [
    {
     "data": {
      "text/plain": [
       "df_clean: org.apache.spark.sql.DataFrame = [Price: double, MethodOfSale: int ... 11 more fields]\n"
      ]
     },
     "execution_count": 27,
     "metadata": {},
     "output_type": "execute_result"
    }
   ],
   "source": [
    "//does this don't do much for Pat's LR model\n",
    "//so i removed it, but i have left it here incase others used it\n",
    "df_clean = df_clean.withColumn(\"Date\",unix_timestamp($\"Date\", \"dd/mm/yyyy\"))"
   ]
  },
  {
   "cell_type": "code",
   "execution_count": 28,
   "metadata": {},
   "outputs": [
    {
     "data": {
      "text/plain": [
       "import org.apache.spark.ml.feature.{FeatureHasher, OneHotEncoder, StandardScaler, VectorAssembler}\n",
       "featureColumnNames: Array[String] = Array(MethodOfSale, PropertyType, DistanceFromCBD, Rooms, Bathroom, Car, Landsize, Latitude, Longtitude, Suburb, Date, StreetName)\n",
       "categoricalFeatureColumnNames: Array[String] = Array(MethodOfSale, PropertyType, Suburb, StreetName)\n",
       "hasher: org.apache.spark.ml.feature.FeatureHasher = featureHasher_45faf028dfeb\n"
      ]
     },
     "execution_count": 28,
     "metadata": {},
     "output_type": "execute_result"
    }
   ],
   "source": [
    "import org.apache.spark.ml.feature.{FeatureHasher,OneHotEncoder,StandardScaler,VectorAssembler}\n",
    "\n",
    "//PK i have refactored the separte instances of hashers, encoders and assemblers to just using the feature hasher\n",
    "//this will handle all the categorical items and and one hot encoding in single call\n",
    "\n",
    "//set the feature names\n",
    "val featureColumnNames= Array(\"MethodOfSale\",\n",
    "            \"PropertyType\",\n",
    "            \"DistanceFromCBD\",\n",
    "            \"Rooms\",\n",
    "            \"Bathroom\",\n",
    "            \"Car\",\n",
    "            \"Landsize\",\n",
    "            \"Latitude\",\n",
    "            \"Longtitude\",\n",
    "            \"Suburb\",\n",
    "            \"Date\",\n",
    "            \"StreetName\")\n",
    "\n",
    "//set the categorical names\n",
    "val categoricalFeatureColumnNames= Array(\"MethodOfSale\",\n",
    "            \"PropertyType\",\n",
    "            \"Suburb\",\n",
    "            \"StreetName\")\n",
    "\n",
    "//define hasher\n",
    "val hasher = new FeatureHasher()\n",
    "  .setInputCols(featureColumnNames)\n",
    "  .setCategoricalCols(categoricalFeatureColumnNames)\n",
    "  .setOutputCol(\"hashedFeatures\")\n"
   ]
  },
  {
   "cell_type": "markdown",
   "metadata": {},
   "source": [
    "### Split Data into a Training and a Testing Set"
   ]
  },
  {
   "cell_type": "code",
   "execution_count": 114,
   "metadata": {},
   "outputs": [
    {
     "name": "stdout",
     "output_type": "stream",
     "text": [
      "10273\n",
      "3108\n"
     ]
    },
    {
     "data": {
      "text/plain": [
       "import org.apache.spark.sql.DataFrame\n",
       "import org.apache.spark.sql.functions._\n",
       "train_test_split: (data: org.apache.spark.sql.DataFrame)(org.apache.spark.sql.Dataset[org.apache.spark.sql.Row], org.apache.spark.sql.Dataset[org.apache.spark.sql.Row])\n",
       "train: org.apache.spark.sql.Dataset[org.apache.spark.sql.Row] = [Price: double, MethodOfSale: int ... 11 more fields]\n",
       "test: org.apache.spark.sql.Dataset[org.apache.spark.sql.Row] = [Price: double, MethodOfSale: int ... 11 more fields]\n"
      ]
     },
     "execution_count": 114,
     "metadata": {},
     "output_type": "execute_result"
    }
   ],
   "source": [
    "//define function to take a data frame and set training and test samples\n",
    "//stratafied sample on propertype type\n",
    "//original random sample may have been skewing the model\n",
    "//used propertype as the prices vary wildly based on the type \n",
    "\n",
    "//idea is split into training and testing - then stratify the training set so its balanced.\n",
    "\n",
    "//https://maet3608.github.io/nuts-ml/tutorial/split_stratify.html#id1\n",
    "\n",
    "import org.apache.spark.sql.DataFrame\n",
    "import org.apache.spark.sql.functions._\n",
    "\n",
    "\n",
    "def train_test_split(data: DataFrame) = {\n",
    "    \n",
    "    //split into 80% 20%\n",
    "    var Array(train, test) = data.randomSplit(Array(0.8, 0.2), seed = 30)\n",
    "    \n",
    "    //Stratified sampler\n",
    "    //want to over sample the other propertyTypes\n",
    "    val fractions = Map(1 -> 0.8,2 ->0.9, 3 -> 0.9)\n",
    "\n",
    "     train = train.stat.sampleBy(\"PropertyType\",fractions,36L)\n",
    "    \n",
    "    (train, test)\n",
    "}\n",
    "\n",
    "val (train, test) = train_test_split(df_clean)\n",
    "\n",
    "train.cache()\n",
    "test.cache()\n",
    "\n",
    "//debug sample counts\n",
    "println(train.count())\n",
    "println(test.count())"
   ]
  },
  {
   "cell_type": "code",
   "execution_count": 115,
   "metadata": {},
   "outputs": [
    {
     "name": "stdout",
     "output_type": "stream",
     "text": [
      "+------------+-----+\n",
      "|PropertyType|count|\n",
      "+------------+-----+\n",
      "|           1| 8430|\n",
      "|           3|  834|\n",
      "|           2| 1009|\n",
      "+------------+-----+\n",
      "\n",
      "+------------+-----+\n",
      "|PropertyType|count|\n",
      "+------------+-----+\n",
      "|           1| 2602|\n",
      "|           3|  223|\n",
      "|           2|  283|\n",
      "+------------+-----+\n",
      "\n"
     ]
    }
   ],
   "source": [
    "train.groupBy(\"PropertyType\").count().show()\n",
    "test.groupBy(\"PropertyType\").count().show()"
   ]
  },
  {
   "cell_type": "code",
   "execution_count": 116,
   "metadata": {},
   "outputs": [
    {
     "name": "stdout",
     "output_type": "stream",
     "text": [
      "+------------+-----+\n",
      "|PropertyType|count|\n",
      "+------------+-----+\n",
      "|           1|13160|\n",
      "|           3| 1155|\n",
      "|           2| 1413|\n",
      "+------------+-----+\n",
      "\n"
     ]
    }
   ],
   "source": [
    "df_clean.groupBy(\"PropertyType\").count().show()"
   ]
  },
  {
   "cell_type": "markdown",
   "metadata": {},
   "source": [
    "### 1. Apply Linear Regression\n"
   ]
  },
  {
   "cell_type": "markdown",
   "metadata": {},
   "source": [
    "###  Useful Specs for this section \n",
    "\n",
    "Feel free to move to references i guess\n",
    "\n",
    "https://spark.apache.org/docs/latest/api/scala/index.html#org.apache.spark.ml.regression.LinearRegression\n",
    "\n",
    "https://spark.apache.org/docs/latest/api/scala/index.html#org.apache.spark.ml.tuning.ParamGridBuilder\n",
    "\n",
    "https://spark.apache.org/docs/latest/api/scala/index.html#org.apache.spark.ml.feature.FeatureHasher\n",
    "\n",
    "https://spark.apache.org/docs/latest/ml-classification-regression.html#linear-regression\n",
    "\n",
    "https://spark.apache.org/docs/latest/mllib-evaluation-metrics.html#regression-model-evaluation\n",
    "\n",
    "https://spark.apache.org/docs/1.6.2/api/java/org/apache/spark/sql/DataFrameStatFunctions.html#sampleBy(java.lang.String,%20java.util.Map,%20long)\n",
    "\n",
    "\n",
    "\n",
    "\n",
    "\n",
    "\n"
   ]
  },
  {
   "cell_type": "code",
   "execution_count": 117,
   "metadata": {
    "scrolled": true
   },
   "outputs": [
    {
     "data": {
      "text/plain": [
       "import org.apache.spark.ml.regression.LinearRegression\n",
       "import org.apache.spark.ml.evaluation.RegressionEvaluator\n",
       "import org.apache.spark.ml.tuning.{CrossValidator, ParamGridBuilder}\n",
       "import org.apache.spark.ml.param.ParamMap\n",
       "import org.apache.spark.ml.Pipeline\n"
      ]
     },
     "execution_count": 117,
     "metadata": {},
     "output_type": "execute_result"
    }
   ],
   "source": [
    "//imports for linear regression code in one spot\n",
    "//to be moved with other imports to start\n",
    "\n",
    "import org.apache.spark.ml.regression.LinearRegression\n",
    "import org.apache.spark.ml.evaluation.RegressionEvaluator\n",
    "import org.apache.spark.ml.tuning.{CrossValidator, ParamGridBuilder}\n",
    "import org.apache.spark.ml.param.ParamMap\n",
    "import org.apache.spark.ml.Pipeline"
   ]
  },
  {
   "cell_type": "code",
   "execution_count": 118,
   "metadata": {},
   "outputs": [
    {
     "data": {
      "text/plain": [
       "getExecutionTime: (start: Long, end: Long)Long\n"
      ]
     },
     "execution_count": 118,
     "metadata": {},
     "output_type": "execute_result"
    }
   ],
   "source": [
    "//function for getting execution time from start and end times\n",
    "def getExecutionTime(start: Long , end : Long) = {\n",
    "    val duration:Long = (end - start) / 1000\n",
    "    (duration)\n",
    "}"
   ]
  },
  {
   "cell_type": "markdown",
   "metadata": {},
   "source": [
    "### Run first LR model with default Params\n",
    "Assess the training set"
   ]
  },
  {
   "cell_type": "code",
   "execution_count": 119,
   "metadata": {
    "scrolled": true
   },
   "outputs": [
    {
     "name": "stdout",
     "output_type": "stream",
     "text": [
      "Coefficients: (262144,[23,38,54,85,200,209,238,240,246,403,441,457,507,508,510,562,589,603,629,651,706,709,845,894,943,950,1004,1025,1031,1059,1179,1249,1272,1340,1364,1372,1438,1512,1603,1750,1764,1815,1819,1867,1874,1972,2065,2079,2090,2158,2242,2284,2307,2354,2389,2398,2467,2476,2620,2630,2669,2695,2702,2760,2764,2807,2835,2933,2940,3036,3093,3101,3161,3187,3208,3298,3351,3380,3447,3556,3640,3667,3677,3735,3748,3817,3846,3849,3894,3963,3972,3987,4080,4093,4127,4157,4160,4223,4266,4278,4345,4381,4396,4397,4411,4447,4462,4496,4549,4566,4614,4652,4694,4780,4804,4843,4853,4878,4890,4914,4917,4960,5030,5125,5147,5154,5160,5166,5177,5196,5409,5417,5442,5510,5516,5540,5569,5632,5646,5700,5753,5777,5852,6144,6186,6204,6239,6349,6366,6453,6463,6484,6503,6509,6512,6637,6645,6701,6732,6756,6904,6943,6947,6951,6983,6998,7013,7116,7145,7210,7248,7265,7326,7329,7333,7369,7385,7393,7408,7458,7560,7564,7591,7612,7617,7634,7645,7665,7783,7785,7903,7916,7918,7968,7995,8039,8135,8154,8159,8177,8189,8234,8369,8419,8431,8497,8551,8614,8635,8656,8710,8716,8768,8811,8837,8911,8964,9114,9254,9358,9393,9460,9465,9476,9643,9760,9853,9905,9920,9928,9941,9981,10000,10025,10033,10085,10191,10353,10362,10409,10448,10473,10496,10545,10548,10769,10770,10772,10817,10912,11016,11051,11101,11108,11134,11147,11160,11186,11278,11282,11307,11373,11376,11404,11426,11459,11663,11681,11741,11770,11796,11840,11882,12009,12011,12021,12035,12045,12053,12102,12147,12197,12298,12338,12343,12455,12481,12534,12565,12628,12674,12707,12734,12749,12769,12773,12886,12904,12909,13034,13037,13059,13076,13079,13122,13138,13222,13266,13313,13328,13353,13362,13373,13392,13491,13504,13525,13554,13566,13742,13775,13941,13952,13984,14002,14003,14029,14207,14208,14275,14287,14450,14495,14505,14549,14739,14782,14808,14885,14938,14968,15021,15023,15051,15138,15140,15151,15231,15370,15436,15451,15456,15656,15691,15704,15741,15755,15756,15780,15802,15809,15822,15844,15888,15890,15935,15955,16017,16021,16069,16083,16115,16134,16137,16166,16198,16281,16301,16374,16378,16438,16484,16501,16611,16619,16657,16747,16800,16816,16853,16880,16881,16890,16930,16947,16978,17077,17134,17239,17271,17411,17415,17431,17450,17451,17565,17570,17859,17861,17864,17887,18064,18100,18188,18217,18263,18294,18297,18376,18553,18607,18751,18807,18850,18861,18870,18996,18998,19015,19090,19138,19207,19252,19282,19339,19450,19513,19524,19535,19623,19643,19648,19679,19709,19719,19829,19841,19866,19880,19996,20022,20172,20390,20523,20655,20667,20680,20694,20711,20779,20803,20915,20989,21033,21047,21070,21092,21128,21151,21160,21218,21238,21287,21302,21328,21375,21475,21501,21525,21527,21598,21599,21660,21702,21796,21813,21833,21883,21956,21978,21990,22056,22076,22124,22142,22146,22182,22230,22309,22327,22379,22398,22418,22445,22461,22583,22606,22695,22765,22766,22783,22865,22917,22923,22942,22981,23001,23002,23005,23009,23045,23094,23164,23174,23193,23315,23333,23560,23659,23665,23704,23714,23720,23762,23846,23855,23859,24007,24023,24048,24054,24092,24096,24228,24234,24274,24312,24344,24418,24423,24431,24438,24466,24485,24515,24541,24760,24785,24881,24890,24910,24916,24930,24973,24975,25002,25028,25087,25138,25243,25311,25405,25456,25539,25696,25706,25759,25870,25876,25896,25897,25918,25975,25990,25995,26044,26066,26105,26133,26162,26165,26214,26216,26241,26305,26306,26396,26445,26475,26541,26568,26608,26630,26675,26694,26697,26727,26733,26760,26766,26796,26842,26847,26872,26879,26902,27072,27092,27099,27127,27131,27207,27278,27292,27307,27327,27384,27385,27388,27454,27465,27560,27597,27731,27779,27903,27932,27974,27989,27992,27994,28056,28067,28104,28147,28234,28235,28267,28328,28363,28445,28458,28505,28540,28578,28761,28803,28804,28863,28916,28960,29033,29087,29090,29212,29253,29290,29331,29336,29380,29385,29542,29660,29728,29773,29869,29882,29884,29938,30015,30124,30165,30353,30411,30437,30479,30498,30501,30558,30565,30603,30678,30720,30728,30845,30876,30899,30922,31025,31063,31108,31111,31116,31154,31177,31237,31255,31256,31374,31394,31422,31431,31470,31472,31581,31602,31670,31733,31762,31771,31938,31974,32025,32070,32142,32157,32158,32177,32311,32343,32369,32440,32454,32458,32467,32494,32503,32509,32575,32624,32699,32725,32739,32764,32794,32897,32974,32995,33024,33085,33110,33126,33189,33217,33232,33238,33246,33258,33274,33278,33281,33305,33445,33544,33551,33659,33711,33768,33772,33800,33876,33960,33997,34044,34059,34066,34092,34098,34153,34288,34367,34400,34419,34457,34499,34580,34602,34615,34654,34715,34897,34922,34930,35005,35062,35143,35150,35199,35303,35308,35359,35413,35570,35583,35615,35702,35730,35761,35811,35891,36025,36031,36035,36048,36091,36157,36197,36258,36443,36465,36467,36653,36719,36771,36823,36844,36860,36938,37048,37096,37152,37224,37227,37279,37320,37385,37402,37444,37462,37482,37626,37638,37655,37754,37755,37773,37848,37879,37941,38035,38112,38148,38154,38157,38191,38226,38231,38256,38311,38351,38460,38591,38620,38624,38628,38718,38762,38781,38810,38830,38846,39006,39007,39023,39135,39347,39437,39441,39522,39539,39545,39612,39676,39680,39686,39699,39707,39855,39991,40011,40030,40126,40151,40188,40242,40293,40393,40403,40445,40518,40632,40671,40716,40742,40864,40879,40909,40949,40954,40982,41019,41028,41138,41171,41191,41241,41262,41264,41311,41332,41371,41478,41481,41548,41610,41658,41756,41777,41855,41888,41897,41981,42024,42061,42066,42124,42129,42142,42176,42342,42349,42437,42445,42506,42531,42638,42639,42660,42680,42712,42931,42942,42998,43018,43028,43060,43075,43079,43183,43217,43301,43315,43322,43334,43373,43381,43721,43744,43796,43842,43863,43898,43929,44076,44161,44193,44213,44239,44264,44379,44425,44504,44537,44641,44663,44675,44681,44684,44716,44738,44758,44810,44838,44864,44900,45054,45142,45230,45309,45425,45497,45499,45615,45625,45690,45702,45718,45733,45735,45761,45784,45803,45962,45981,46097,46146,46154,46178,46218,46221,46282,46303,46309,46407,46417,46467,46569,46616,46681,46720,46735,46786,46884,46904,46995,47019,47082,47134,47142,47172,47224,47231,47240,47252,47427,47463,47548,47758,47845,47851,47970,48019,48126,48197,48210,48230,48242,48475,48489,48508,48518,48571,48772,48818,48843,48883,48915,48931,49069,49137,49223,49307,49398,49416,49469,49519,49599,49716,49777,49787,49798,49815,49822,49823,49872,49901,49978,49993,50116,50121,50187,50260,50336,50365,50379,50490,50574,50644,50658,50722,50769,50807,50985,51063,51074,51114,51143,51250,51304,51327,51349,51401,51410,51414,51429,51446,51460,51475,51500,51517,51549,51611,51659,51880,51890,52031,52073,52154,52258,52328,52450,52473,52519,52680,52805,52851,52855,52858,52912,52917,52931,52937,53018,53025,53026,53035,53046,53127,53172,53188,53211,53307,53435,53449,53462,53466,53591,53644,53747,53762,53835,53846,53877,53936,53960,53998,54009,54031,54071,54209,54265,54316,54615,54662,54726,54762,54831,54869,54943,54999,55025,55107,55161,55173,55218,55247,55278,55338,55350,55377,55626,55806,55910,55971,55983,56116,56163,56241,56274,56314,56320,56380,56411,56424,56530,56571,56589,56613,56685,56734,56808,56901,56905,56912,57000,57026,57119,57182,57188,57233,57238,57247,57264,57443,57505,57591,57632,57665,57713,57842,57888,57959,57964,57970,57986,57990,58143,58145,58152,58163,58243,58290,58326,58514,58563,58630,58661,58668,58759,58985,59046,59086,59157,59217,59291,59309,59376,59494,59560,59589,59621,59653,59674,59694,59699,59754,59822,59856,59869,59894,59936,59945,59991,60017,60064,60093,60108,60168,60218,60223,60356,60362,60377,60385,60442,60556,60561,60585,60617,60708,60735,60840,60875,60989,61024,61050,61092,61095,61234,61319,61348,61354,61408,61472,61476,61561,61707,61724,61728,61777,61838,61843,61873,61929,61997,62002,62011,62058,62094,62179,62196,62213,62220,62225,62253,62256,62259,62302,62314,62356,62389,62409,62478,62501,62552,62574,62579,62588,62601,62627,62674,62742,62786,62794,62803,62808,62910,62916,62951,63007,63010,63016,63043,63069,63120,63134,63172,63253,63313,63356,63364,63487,63515,63602,63613,63662,63753,63756,63792,63812,63846,63855,63913,63933,63942,63977,64055,64080,64094,64095,64166,64243,64254,64274,64381,64503,64544,64605,64624,64645,64669,64695,64783,64835,64881,64938,64946,64986,65000,65031,65102,65160,65196,65253,65257,65275,65292,65295,65343,65354,65450,65500,65519,65577,65596,65620,65631,65678,65722,65745,65787,65814,65894,65913,65920,65924,65933,66024,66042,66070,66162,66203,66297,66360,66488,66552,66639,66655,66667,66722,66766,66791,66795,66840,66880,66919,66976,67102,67106,67196,67251,67269,67279,67395,67398,67399,67443,67452,67458,67460,67475,67700,67718,67828,67863,67874,67924,67939,67960,67969,68033,68107,68176,68193,68205,68209,68221,68229,68293,68307,68339,68340,68464,68492,68531,68579,68590,68639,68654,68667,68692,68743,68793,68802,68868,68927,68928,68948,69034,69149,69171,69172,69265,69293,69372,69511,69560,69565,69654,69661,69736,69739,69751,69810,69831,69832,69845,70064,70117,70217,70230,70233,70358,70359,70375,70390,70589,70744,70848,70851,70882,70928,71002,71029,71050,71148,71167,71219,71348,71372,71483,71494,71546,71591,71661,71755,71914,71928,71940,72032,72099,72152,72158,72218,72235,72473,72505,72602,72624,72631,72645,72704,72728,72733,72755,72794,72891,72910,72919,72973,72980,73010,73062,73175,73227,73408,73460,73501,73511,73515,73535,73572,73575,73577,73618,73628,73638,73708,73726,73932,73943,73977,74026,74085,74111,74114,74121,74142,74183,74226,74232,74235,74236,74263,74269,74281,74298,74337,74369,74375,74432,74553,74625,74775,74783,74786,75012,75082,75090,75140,75167,75258,75275,75292,75313,75443,75449,75470,75477,75714,75767,75830,75880,75890,75910,75982,76027,76079,76177,76243,76283,76299,76303,76312,76334,76350,76391,76402,76422,76492,76716,76719,76763,76841,76970,76987,76991,77127,77132,77163,77183,77208,77244,77295,77372,77470,77478,77482,77515,77574,77602,77605,77606,77616,77654,77722,77726,77783,77789,77790,77853,77953,77962,77985,78025,78107,78178,78230,78285,78399,78716,78777,78847,78899,78931,78972,79026,79048,79051,79056,79066,79228,79294,79326,79331,79338,79440,79526,79528,79600,79857,79874,79883,79888,80013,80078,80091,80234,80279,80292,80306,80353,80468,80527,80545,80600,80611,80723,80733,80837,80866,80898,80941,80980,81009,81025,81084,81092,81150,81229,81279,81317,81322,81403,81488,81506,81518,81561,81640,81655,81668,81676,81741,81749,81796,81824,81829,81855,81912,81969,82064,82102,82117,82266,82316,82356,82379,82467,82525,82552,82649,82651,82701,82708,82794,82829,82854,83012,83090,83194,83364,83480,83504,83538,83599,83604,83663,83679,83868,83906,83955,83978,83991,84013,84292,84324,84409,84455,84502,84618,84688,84701,84739,84882,84909,84913,84959,85003,85042,85075,85167,85251,85259,85262,85277,85374,85376,85425,85476,85487,85561,85563,85572,85574,85606,85636,85684,85689,85714,85734,85780,85821,85881,85961,86022,86131,86147,86168,86230,86255,86276,86295,86337,86341,86364,86412,86424,86446,86518,86611,86617,86651,86668,86720,86747,86755,86957,86961,86981,87003,87016,87044,87047,87079,87170,87249,87292,87367,87373,87418,87455,87456,87565,87576,87630,87634,87671,87701,87724,87790,87895,87995,88005,88009,88139,88141,88161,88195,88324,88410,88451,88453,88457,88485,88588,88651,88652,88668,88712,88762,88784,88839,88873,88912,89012,89110,89118,89202,89322,89335,89348,89349,89393,89415,89526,89622,89664,89823,89913,89922,90042,90175,90207,90220,90253,90290,90305,90343,90378,90484,90507,90515,90588,90645,90701,90796,90816,90846,90864,90874,90888,90901,90971,90977,91032,91148,91157,91333,91335,91341,91391,91428,91554,91621,91630,91687,91691,91735,91754,91846,91890,91973,92098,92113,92131,92140,92153,92175,92207,92209,92251,92256,92266,92282,92356,92379,92387,92453,92456,92484,92541,92588,92727,92873,92882,92918,92979,92983,93056,93062,93068,93098,93126,93135,93150,93203,93219,93281,93317,93374,93458,93464,93516,93528,93554,93587,93644,93682,93685,93752,93836,93865,93883,93967,94023,94025,94045,94098,94105,94111,94178,94320,94322,94391,94394,94429,94435,94444,94598,94673,94698,94729,94748,94764,94827,94839,94855,94859,94960,95019,95041,95131,95264,95276,95327,95339,95363,95386,95510,95548,95638,95676,95774,95794,95831,95870,95896,95934,96007,96138,96155,96339,96358,96381,96441,96461,96488,96542,96560,96579,96682,96712,96728,96790,96807,96914,97044,97094,97100,97185,97229,97261,97264,97316,97332,97389,97426,97509,97525,97551,97560,97573,97634,97653,97710,97797,97874,97902,97905,97949,98024,98074,98105,98162,98267,98311,98370,98373,98379,98385,98411,98413,98607,98633,98782,98790,98898,98952,99001,99219,99276,99485,99508,99656,99725,99737,99754,99789,99806,99844,99867,99990,100118,100190,100192,100245,100308,100309,100371,100412,100482,100580,100613,100687,100709,100752,100754,100829,100835,100868,101059,101075,101194,101208,101249,101277,101351,101507,101633,101741,101743,101806,101821,101824,101837,101877,101897,101926,102021,102098,102146,102182,102189,102239,102304,102312,102361,102367,102582,102584,102597,102710,102720,102764,102808,102869,102870,102922,103009,103013,103069,103182,103383,103418,103486,103637,103846,103907,103922,104001,104004,104164,104179,104186,104200,104365,104395,104505,104530,104551,104590,104679,104691,104695,104703,104843,104884,104898,104979,104990,105031,105050,105124,105171,105229,105270,105314,105451,105475,105482,105524,105540,105564,105623,105655,105665,105744,105746,105749,105795,105836,105894,105916,105927,105938,105989,106006,106079,106120,106128,106141,106191,106267,106416,106495,106519,106539,106608,106681,106732,106815,106842,106899,107185,107266,107367,107395,107473,107539,107542,107661,107694,107878,107949,107966,108016,108017,108027,108032,108174,108232,108260,108286,108298,108357,108369,108389,108395,108478,108525,108618,108620,108643,108841,108932,108987,109045,109116,109130,109141,109189,109190,109228,109272,109299,109429,109494,109585,109724,109734,109774,109785,110054,110063,110064,110106,110131,110201,110245,110304,110396,110406,110441,110496,110551,110584,110607,110612,110640,110664,110719,110803,110844,110862,110888,110907,110946,111036,111057,111090,111335,111338,111360,111502,111535,111554,111563,111616,111792,111801,111809,111829,111951,111980,112021,112066,112079,112117,112127,112128,112192,112227,112275,112285,112308,112365,112382,112408,112469,112474,112697,112703,112836,112847,112861,112919,112985,112986,113006,113022,113073,113149,113177,113211,113249,113291,113369,113403,113435,113526,113610,113633,113669,113682,113695,113762,113998,114014,114033,114051,114062,114188,114239,114481,114513,114524,114534,114553,114665,114714,114742,114770,114834,114844,114983,115082,115105,115145,115259,115281,115340,115348,115354,115361,115465,115586,115627,115690,115729,115732,115967,116019,116188,116200,116260,116263,116373,116489,116620,116678,116682,116724,116764,116842,116860,116905,116930,116979,116994,117042,117065,117102,117118,117166,117229,117263,117357,117366,117385,117461,117573,117635,117645,117680,117724,117966,117984,118006,118308,118411,118440,118468,118471,118485,118569,118649,118672,118728,118729,118765,118776,118785,118863,118969,118979,119017,119021,119124,119243,119255,119369,119477,119508,119549,119603,119665,119833,119836,119930,120143,120278,120382,120404,120421,120542,120555,120564,120582,120663,120665,120669,120744,120758,120801,120934,120935,121000,121039,121090,121167,121186,121189,121192,121193,121216,121288,121290,121378,121429,121507,121587,121589,121603,121628,121641,121679,121712,121729,121760,121768,121782,121784,121815,122008,122019,122045,122055,122113,122171,122188,122219,122245,122307,122368,122391,122448,122466,122473,122523,122547,122563,122571,122612,122613,122716,122787,122799,122893,122959,122988,122994,123064,123073,123107,123142,123159,123160,123169,123262,123382,123454,123485,123523,123534,123616,123630,123681,123700,123710,123750,123794,123813,123834,123911,124083,124119,124124,124152,124170,124278,124334,124392,124416,124424,124442,124486,124522,124536,124544,124572,124629,124644,124700,124706,124843,124872,124921,124930,124995,125016,125115,125169,125193,125332,125368,125454,125456,125528,125561,125661,125665,125671,125729,125914,125992,126036,126101,126168,126278,126327,126418,126446,126528,126631,126791,126832,126880,126951,127022,127062,127066,127080,127114,127165,127206,127223,127226,127249,127287,127358,127385,127396,127419,127428,127456,127459,127539,127556,127608,127625,127652,127665,127730,127743,127750,127757,127780,127785,127808,12"
     ]
    },
    {
     "name": "stdout",
     "output_type": "stream",
     "text": [
      "7845,127912,127951,127962,127971,127998,128024,128028,128109,128179,128214,128260,128290,128293,128338,128350,128371,128372,128373,128390,128442,128453,128559,128564,128770,128803,128884,128970,129035,129067,129071,129102,129105,129203,129336,129546,129559,129560,129811,129859,129938,129999,130078,130093,130147,130148,130173,130186,130230,130259,130286,130381,130423,130507,130510,130514,130521,130581,130688,130723,130785,130819,130877,130897,130903,130951,131012,131028,131101,131104,131229,131288,131457,131491,131516,131536,131566,131710,131722,131724,131736,131747,131795,131828,131850,131890,131905,131947,131965,131997,132007,132026,132102,132192,132275,132329,132335,132351,132370,132396,132437,132457,132528,132553,132586,132610,132668,132671,132689,132728,132776,132808,132882,132885,132902,132943,132985,132988,133007,133089,133091,133112,133199,133216,133218,133253,133254,133344,133361,133384,133391,133444,133462,133464,133469,133500,133526,133548,133598,133605,133877,133897,133956,134020,134060,134068,134069,134076,134161,134188,134197,134348,134383,134425,134436,134457,134557,134575,134576,134601,134662,134685,134703,134743,134771,134781,134785,134821,134890,134933,134995,135068,135071,135145,135174,135199,135237,135279,135293,135383,135468,135722,135742,135751,135758,135766,135776,135818,135850,135973,135976,136034,136043,136074,136102,136135,136145,136232,136256,136337,136377,136488,136490,136520,136572,136636,136666,136718,136730,136735,136788,136803,136810,136847,136852,136890,136926,137045,137111,137126,137139,137215,137227,137243,137278,137288,137343,137406,137477,137496,137507,137576,137587,137611,137631,137661,137748,137753,137754,137778,137792,137833,137962,138015,138030,138082,138145,138169,138179,138182,138212,138234,138301,138305,138348,138407,138456,138509,138521,138523,138526,138541,138562,138572,138583,138586,138641,138666,138708,138752,138792,138797,138874,138883,138892,138942,138955,138997,139091,139110,139151,139164,139168,139181,139189,139290,139327,139431,139490,139520,139581,139592,139715,139724,139774,139803,139836,139839,139882,139914,139942,139967,139999,140002,140100,140114,140124,140139,140184,140185,140238,140295,140345,140484,140508,140536,140573,140615,140627,140710,140731,140782,140824,140884,141041,141074,141079,141132,141168,141241,141349,141367,141455,141460,141529,141540,141570,141583,141627,141650,141674,141727,141738,141746,141828,141863,141895,141980,141996,142042,142194,142200,142253,142297,142312,142553,142597,142644,142670,142675,142743,142749,142836,142873,142879,143060,143065,143120,143135,143137,143140,143242,143310,143379,143451,143457,143764,143842,143934,144040,144092,144101,144154,144249,144282,144357,144374,144498,144501,144512,144516,144578,144605,144633,144705,144787,144792,144826,144829,144846,144939,144991,145002,145013,145026,145047,145073,145091,145102,145199,145214,145256,145265,145334,145384,145385,145519,145629,145665,145715,145836,145979,146056,146133,146205,146331,146481,146487,146596,146659,146664,146722,146749,146888,146896,146918,146928,147008,147209,147226,147248,147319,147453,147492,147503,147574,147606,147610,147611,147738,147746,147807,147851,147876,147965,148044,148079,148083,148154,148166,148169,148232,148292,148294,148298,148378,148389,148390,148447,148477,148526,148577,148636,148652,148705,148709,148721,148737,148738,148739,148898,148962,149088,149106,149169,149205,149212,149234,149241,149262,149308,149444,149504,149622,149667,149705,149714,149837,149898,149904,150054,150110,150122,150274,150303,150321,150351,150517,150525,150528,150572,150577,150587,150638,150663,150775,150906,150970,151010,151020,151041,151054,151066,151102,151216,151242,151243,151261,151276,151334,151376,151459,151512,151519,151524,151573,151601,151603,151655,151659,151679,151706,151738,151739,151763,151766,151810,151837,151839,151949,151978,151991,151995,152004,152066,152172,152211,152217,152250,152278,152300,152323,152328,152381,152460,152496,152675,152709,152739,152754,152811,152836,152857,152874,152907,152930,153049,153091,153094,153108,153129,153143,153214,153256,153268,153288,153338,153398,153447,153474,153646,153673,153732,153762,153764,153773,153889,153951,154138,154215,154230,154284,154359,154369,154373,154380,154446,154498,154502,154538,154540,154552,154587,154643,154656,154678,154687,154688,154711,154732,154860,154881,154926,154949,155019,155072,155088,155094,155160,155264,155341,155424,155426,155431,155577,155772,155861,155886,155909,156008,156019,156032,156063,156162,156164,156175,156200,156213,156253,156289,156301,156324,156337,156347,156355,156362,156390,156582,156618,156641,156694,156708,156754,156784,156882,156943,157033,157081,157099,157186,157324,157361,157538,157637,157707,157714,157750,157787,157797,157818,157842,157847,158021,158137,158216,158318,158346,158437,158488,158586,158669,158715,158733,158735,158837,158957,158989,159052,159057,159138,159155,159181,159188,159236,159277,159284,159369,159374,159435,159665,159666,159821,159835,159854,159861,159986,160100,160106,160120,160137,160152,160160,160220,160275,160288,160338,160355,160368,160376,160425,160447,160494,160525,160696,160710,160798,160817,160941,161258,161272,161325,161341,161476,161504,161588,161589,161619,161644,161648,161696,161712,161886,161919,161923,162010,162085,162103,162106,162113,162250,162275,162297,162330,162387,162441,162469,162589,162609,162617,162634,162729,162755,162763,162997,163001,163068,163098,163114,163350,163418,163520,163527,163554,163558,163652,163669,163671,163674,163693,163722,163846,163854,163914,163937,163970,164207,164270,164315,164344,164356,164362,164372,164418,164481,164496,164517,164562,164607,164622,164655,164676,164687,164816,164881,164979,164993,165121,165294,165355,165390,165510,165545,165648,165693,165742,165762,165805,165817,165829,165838,165871,165875,165886,165937,165971,165973,165994,166011,166042,166085,166102,166147,166327,166349,166397,166398,166422,166456,166523,166529,166531,166553,166560,166637,166643,166693,166728,166754,166898,166912,166971,166978,167002,167009,167013,167029,167039,167074,167161,167165,167242,167285,167365,167400,167449,167496,167521,167557,167564,167569,167584,167606,167637,167727,167747,167767,167793,167831,167932,167951,167996,168017,168057,168076,168150,168178,168292,168421,168433,168469,168502,168520,168526,168609,168673,168686,168722,168764,168837,168872,168898,168906,168937,169056,169075,169124,169136,169160,169161,169168,169193,169212,169288,169300,169397,169427,169602,169645,169757,169769,169893,169947,169954,169957,170005,170052,170117,170136,170265,170273,170286,170288,170304,170312,170363,170368,170445,170479,170553,170608,170657,170691,170834,170917,170924,170970,170978,171002,171024,171056,171116,171139,171186,171193,171210,171237,171248,171251,171252,171384,171386,171530,171546,171551,171605,171613,171625,171702,171748,171756,171759,171797,171928,171935,172046,172054,172056,172092,172128,172145,172146,172188,172254,172297,172339,172421,172453,172463,172467,172560,172624,172676,172827,172869,172963,173005,173050,173091,173176,173180,173188,173311,173375,173484,173547,173667,173727,173816,173834,173873,173874,173879,174028,174061,174081,174134,174203,174210,174281,174305,174317,174319,174367,174385,174448,174453,174471,174551,174619,174668,174672,174679,174751,174768,174788,174947,174953,174955,174960,174991,174996,175053,175110,175127,175133,175243,175269,175298,175322,175357,175367,175442,175502,175543,175560,175575,175624,176028,176058,176134,176152,176158,176207,176222,176224,176388,176401,176428,176475,176481,176616,176624,176683,176704,176875,176975,177006,177107,177133,177276,177310,177319,177359,177415,177480,177483,177511,177533,177603,177731,177756,177762,177787,177869,177966,177988,178074,178081,178120,178176,178179,178315,178386,178400,178412,178413,178489,178497,178523,178534,178544,178548,178786,178823,178855,178929,178958,178992,179005,179130,179145,179228,179382,179394,179478,179551,179692,179744,179751,179793,179799,179814,179999,180013,180016,180110,180135,180217,180225,180281,180329,180472,180487,180565,180566,180654,180737,180776,180829,180943,180972,180996,181026,181037,181082,181100,181111,181134,181199,181272,181317,181354,181363,181404,181654,181666,181705,181829,181856,181894,181913,181943,182314,182335,182345,182419,182441,182471,182559,182721,182927,182994,183006,183025,183050,183072,183115,183121,183203,183306,183334,183403,183419,183440,183467,183476,183547,183615,183655,183687,183690,183712,183780,183808,183864,183866,183951,183961,183994,184022,184047,184073,184170,184342,184471,184475,184513,184541,184606,184649,184660,184796,184837,184882,184915,184937,184976,184980,184997,185050,185084,185206,185207,185352,185380,185382,185391,185427,185440,185468,185477,185593,185621,185652,185706,185721,185746,185749,185853,185899,185992,186066,186107,186119,186158,186191,186280,186327,186407,186490,186575,186640,186698,186713,186762,186809,186874,186887,186913,186952,187028,187068,187122,187135,187205,187230,187237,187245,187286,187299,187313,187388,187503,187622,187647,187693,187826,187864,188040,188128,188133,188151,188170,188334,188357,188425,188436,188449,188483,188490,188604,188630,188663,188678,188748,188780,188805,188808,188825,188864,188927,189093,189096,189121,189208,189271,189286,189291,189376,189387,189450,189459,189502,189543,189608,189648,189717,189723,189837,189855,189882,189909,189956,189993,190039,190217,190302,190320,190433,190437,190481,190579,190586,190636,190699,190711,190778,190783,190928,190937,190952,191115,191151,191176,191192,191228,191290,191358,191363,191422,191479,191519,191557,191607,191699,191755,191785,191810,191823,191860,191864,191930,191944,192095,192105,192167,192243,192274,192333,192341,192419,192435,192441,192455,192460,192481,192508,192637,192769,192772,192812,192955,192976,192985,193012,193119,193161,193166,193180,193216,193252,193364,193366,193368,193438,193587,193719,193725,193730,193746,193810,194095,194157,194202,194264,194314,194322,194323,194400,194434,194442,194763,194767,194805,194877,194899,194911,194915,194927,194961,194975,194981,195112,195269,195405,195430,195433,195466,195470,195521,195667,195672,195721,195773,195785,196002,196062,196133,196145,196190,196194,196326,196418,196516,196523,196591,196673,196675,196776,196832,196927,196941,196970,196976,197005,197081,197090,197208,197289,197355,197360,197406,197421,197493,197500,197548,197631,197642,197780,197808,197906,197954,197995,198048,198112,198126,198138,198305,198311,198370,198376,198390,198524,198597,198675,198685,198770,198863,198884,198936,198974,199048,199076,199162,199177,199243,199261,199273,199286,199393,199436,199515,199545,199560,199635,199648,199797,199814,199855,199921,200000,200087,200110,200154,200156,200177,200189,200268,200390,200419,200547,200625,200704,200729,200760,200788,200821,200857,200901,201003,201012,201031,201083,201088,201100,201105,201128,201138,201237,201292,201463,201502,201517,201532,201550,201573,201574,201582,201952,202096,202105,202184,202195,202238,202240,202253,202301,202306,202392,202428,202452,202501,202505,202719,202777,202915,202990,203036,203099,203134,203165,203218,203222,203255,203268,203284,203356,203360,203397,203422,203433,203535,203536,203567,203572,203599,203658,203674,203677,203707,203790,203797,203800,203805,203845,203936,204035,204052,204182,204213,204279,204293,204305,204318,204406,204420,204498,204591,204609,204721,204723,204747,204818,204863,204877,204899,204902,204917,205050,205058,205067,205083,205099,205124,205162,205176,205185,205237,205255,205270,205302,205305,205317,205320,205329,205340,205441,205491,205500,205507,205582,205605,205711,205796,205938,205943,205959,206062,206074,206093,206096,206164,206186,206204,206211,206255,206277,206323,206347,206377,206380,206397,206500,206520,206566,206570,206595,206602,206637,206642,206673,206694,206708,206759,206778,206832,206857,206872,206992,207004,207172,207209,207213,207254,207441,207442,207479,207503,207512,207739,207751,207752,207759,207790,207867,207931,208090,208153,208203,208273,208334,208376,208380,208384,208389,208446,208484,208504,208592,208678,208720,208733,208780,208816,208881,208911,208983,209017,209217,209240,209274,209281,209297,209299,209443,209455,209456,209521,209612,209685,209686,209726,209747,209749,209758,209841,209846,209855,209894,209982,210004,210088,210103,210297,210349,210378,210488,210551,210589,210619,210719,210736,210738,210758,210816,210880,210912,210970,211052,211084,211086,211098,211135,211200,211299,211313,211342,211354,211377,211390,211541,211622,211642,211677,211681,211718,211791,211842,211863,211950,211997,212033,212053,212127,212168,212241,212265,212394,212485,212533,212573,212614,212709,212720,212730,212789,212800,212809,212915,212934,212938,213185,213262,213275,213315,213366,213368,213406,213526,213538,213587,213691,213695,213808,213816,213830,213866,213873,213874,213986,214003,214018,214024,214101,214210,214218,214240,214258,214317,214358,214379,214431,214453,214491,214554,214664,214695,214752,214917,214974,214978,214983,215031,215044,215144,215282,215304,215390,215485,215637,215666,215670,215691,215795,215943,216031,216080,216162,216170,216195,216197,216239,216240,216314,216333,216397,216444,216467,216498,216515,216527,216671,216692,216711,216855,216877,217003,217020,217031,217060,217064,217115,217176,217178,217228,217275,217324,217353,217355,217381,217432,217467,217502,217510,217551,217581,217584,217695,217702,217854,217896,218006,218058,218095,218099,218105,218199,218234,218297,218314,218320,218389,218474,218569,218590,218611,218711,218915,218922,218937,218963,219088,219097,219268,219304,219345,219716,219725,219817,219869,219880,219938,219997,220018,220050,220092,220177,220182,220262,220270,220302,220320,220323,220391,220481,220534,220574,220627,220679,220687,220802,220903,220927,220974,221029,221030,221031,221047,221149,221181,221217,221224,221238,221256,221308,221344,221370,221461,221468,221662,221695,221778,221847,221915,221941,221993,222014,222108,222183,222270,222278,222358,222393,222501,222521,222553,222573,222602,222733,222756,222840,222958,222974,222992,223011,223057,223078,223201,223379,223402,223403,223412,223572,223712,224123,224154,224155,224258,224282,224418,224427,224566,224576,224586,224605,224638,224645,224663,224689,224690,224749,224787,224810,225012,225103,225136,225152,225206,225240,225278,225371,225394,225446,225487,225553,225600,225612,225689,225736,225799,225808,225891,225934,226024,226030,226064,226149,226151,226170,226277,226362,226374,226405,226468,226501,226509,226530,226589,226614,226645,226793,226795,226809,226848,226874,226904,226980,227024,227043,227046,227055,227140,227143,227203,227257,227337,227363,227457,227493,227595,227665,227799,227856,227878,227883,227919,227943,227954,228052,228061,228115,228147,228163,228213,228386,228427,228499,228515,228548,228587,228696,228841,228898,228930,229004,229081,229083,229121,229178,229311,229345,229388,229523,229545,229579,229581,229597,229729,229748,229754,229791,229838,229857,229917,229926,229979,230003,230081,230134,230237,230263,230273,230371,230376,230539,230601,230636,230649,230659,230668,230671,230686,230743,230768,231077,231099,231109,231162,231164,231225,231303,231322,231325,231510,231540,231553,231563,231568,231590,231726,231741,231755,231785,231844,231847,231860,231895,231897,231925,232067,232071,232141,232149,232155,232211,232222,232325,232386,232407,232437,232596,232604,232646,232658,232673,232727,232778,232787,232860,232883,232893,232985,233010,233096,233116,233149,233155,233173,233250,233275,233285,233287,233331,233560,233567,233591,233595,233755,233779,233811,233825,233941,233955,234002,234021,234077,234113,234127,234161,234231,234251,234268,234286,234341,234351,234377,234389,234397,234431,234436,234509,234588,234623,234689,234711,234744,234908,234926,234953,235071,235140,235224,235270,235282,235349,235400,235402,235492,235545,235665,235800,235803,235810,235864,235887,235908,235917,235936,235956,235971,235985,235988,236074,236100,236254,236327,236566,236587,236612,236644,236708,236750,236775,236811,236905,236963,236982,237151,237153,237185,237254,237357,237412,237521,237538,237644,237705,237734,237742,237761,237851,237944,237987,238070,238112,238116,238129,238160,238290,238310,238404,238425,238449,238522,238541,238572,238660,238795,238798,238821,238944,238971,238976,238986,239149,239201,239202,239221,239276,239388,239440"
     ]
    },
    {
     "name": "stdout",
     "output_type": "stream",
     "text": [
      ",239452,239498,239501,239509,239519,239586,239590,239681,239727,239770,239886,239892,239936,240028,240054,240190,240218,240301,240325,240386,240419,240434,240468,240616,240632,240633,240661,240684,240727,240732,240749,240841,240883,240906,240912,240922,241010,241108,241246,241254,241255,241301,241374,241432,241480,241492,241572,241588,241611,241687,241728,241753,241788,241863,241889,241964,241995,242079,242089,242106,242126,242127,242129,242156,242222,242244,242252,242282,242283,242328,242340,242343,242367,242399,242427,242470,242508,242514,242557,242589,242713,242819,242852,243009,243060,243074,243105,243126,243133,243162,243164,243222,243235,243244,243367,243405,243472,243522,243534,243545,243793,243799,243801,243810,243839,243843,243860,243965,243976,243983,243992,244051,244056,244072,244103,244123,244140,244154,244200,244207,244252,244328,244338,244352,244357,244389,244431,244449,244460,244468,244479,244517,244561,244574,244577,244581,244583,244622,244627,244639,244642,244691,244786,244830,244831,244899,244938,244985,245160,245219,245221,245379,245454,245458,245478,245523,245600,245630,245716,245738,245777,245872,245964,245997,246092,246132,246175,246217,246514,246561,246704,246716,246787,246853,246897,246938,247060,247108,247175,247179,247203,247209,247577,247659,247712,247759,247766,247815,247855,247860,247886,247918,248036,248037,248038,248086,248100,248106,248150,248151,248203,248217,248227,248293,248330,248361,248368,248372,248373,248420,248486,248698,248797,248900,248932,248939,248953,248976,249022,249049,249099,249108,249152,249194,249196,249213,249230,249244,249300,249342,249386,249403,249552,249589,249619,249638,249744,249816,249839,249842,249900,249920,249934,250122,250147,250409,250410,250480,250515,250564,250763,250764,250793,250887,250907,250936,250999,251070,251180,251327,251341,251351,251374,251443,251444,251451,251465,251791,251800,251807,251890,251944,251952,251958,251978,251996,252047,252163,252171,252227,252243,252261,252269,252356,252385,252513,252563,252616,252643,252661,252666,252673,252696,252710,252815,252930,253082,253095,253105,253117,253159,253182,253247,253509,253674,253701,253753,253847,253933,253960,253961,254065,254076,254103,254115,254203,254248,254266,254313,254330,254335,254362,254427,254577,254732,254763,254868,254967,254972,255061,255094,255096,255191,255208,255211,255352,255399,255434,255609,255665,255667,255758,255839,255849,255983,256022,256050,256055,256092,256106,256121,256125,256266,256267,256359,256461,256481,256498,256563,256571,256776,256782,256809,256812,256850,256879,256881,256898,256934,256953,256966,257022,257023,257067,257149,257168,257253,257371,257393,257449,257512,257589,257715,257732,257842,257868,257927,257933,258011,258261,258305,258336,258373,258437,258478,258569,258589,258717,258741,258773,258829,258846,258897,258927,259007,259068,259112,259158,259232,259288,259458,259461,259563,259602,259635,259668,259824,259999,260003,260034,260081,260123,260136,260160,260213,260280,260304,260314,260333,260365,260384,260498,260505,260548,260612,260624,260634,260660,260702,260769,260784,260825,260864,260892,260962,260964,260971,260987,260995,261010,261041,261101,261201,261205,261326,261438,261458,261565,261613,261617,261628,261643,261662,261691,261723,261727,261742,261775,261794,261984,262017,262053,262108,262126],[-89252.33141526103,-267617.4087972819,344796.94611625106,73591.54523446113,-75875.12537668023,147959.31017886274,206350.79451550762,118284.748995631,-225335.44927074527,-87455.96458312853,-360430.22526025685,-310202.5088081234,-461803.2885925913,-103825.23408420241,4853.233987078404,442308.5628741394,145655.9931993493,-7186.771904575149,200113.53451579215,190575.1813930431,-411632.3275726481,-338036.176458387,53390.1768739395,-458682.47036801727,394694.83187490207,-202532.1761792073,656913.9028662326,-246870.92931279453,-110383.70240820586,-466222.1998315914,-87114.9352301566,82361.30265483279,54769.58279617139,-58483.958904854175,-75244.0350614666,-322853.2604819937,94194.72649168609,65466.506347052346,-224602.93727388026,542706.3327139431,-65772.46618588876,13866.692594641472,-379961.07130484085,29861.244971675034,165504.28242745812,-440065.9617901601,-14463.24366426478,254803.45036717827,-242055.0319276592,55441.914952053376,239317.18422602382,373828.4164507729,9817.514087440812,-274908.56254316174,40769.023738719836,369225.4722013855,1858113.6606039624,68746.12432721425,61229.007525883506,374796.57611101423,-56711.80336428521,21512.16125380257,-128943.66682112214,47012.464684198734,283310.03659006883,42611.79652573711,-377531.8720886373,-449406.4855570652,359574.7248192699,-138630.32863063327,34545.31004217103,-237110.34976319477,4326.766794386788,-602357.6194332036,-151680.83268317344,5752.428519600579,-86421.36515153537,-239130.4323264586,85423.20408629996,173716.54069721518,-285275.58990589535,-83590.40704040878,-236102.7373745173,368067.74908807676,192979.12695928148,185747.74101362156,1654834.0491816797,191306.38127103538,-146952.8243188572,-528133.2507688799,-771045.9766331271,175477.33109406286,-138951.91329995365,149934.68709372912,159161.78928311905,258128.31396549597,-488574.8014601921,184656.87581527326,489240.6889687257,94266.51937719616,184058.94792179263,-226575.74327900005,-73804.21105590028,-265340.4570307168,-204318.03148894856,73303.52952147792,-604861.1328197722,96705.9794139763,9666.810557320116,-72677.02936596774,-336074.4926035734,147825.33768998063,249022.22748094198,-187688.82227214074,273362.5211134421,-309551.59018573,485515.69685161684,-10541.622122277473,41288.77863197898,120706.42010716569,624986.2216574167,10608.956944120197,-559545.0461768544,-166947.2251868603,3364.716730213029,-94969.79310350107,-417462.3742219339,89741.98732628227,-52100.036193283035,-396223.354503758,519043.7901727765,124179.7275842924,-66303.34286440174,67777.68771314296,-147724.1190070574,26689.816624844156,-111632.50399736334,158876.646771895,-434604.11745457794,-149027.61294918845,19634.373159609477,-336242.0422943703,22374.57474915919,600688.3195631688,-315867.2827028002,-210644.04245931827,83170.8500807872,-148265.09496735357,-317654.56657027634,-329582.91151739715,-74892.64400290263,-34973.54045915474,191188.46212109146,162913.30178670376,-447948.270338869,-16432.18877096648,136952.98522373193,95964.05826629055,-278406.9513632094,-5579.646712558237,-280347.25757580233,-160513.93151129576,81642.03806986503,282017.0965446699,-159659.18330893808,-121091.00865668552,-256921.5697341062,-857527.923558413,-91051.07571882168,-103037.74306804388,127910.32343066926,-323299.63410687505,-327012.6281938599,-165088.64403089846,264331.7704613213,216614.48947695963,79648.26614645346,-333106.904941959,125813.73105444912,-428168.69437070924,-656855.8501655599,12222.454230522868,-93634.71914044098,4272.84763357403,170449.21504191527,132437.2339427093,62803.55769295555,61776.25074791153,103010.32962066174,-874.9214337053216,152438.31764245982,158438.03390257302,406126.84881985746,85837.98536237146,201270.40625884678,-101812.34115817651,3707.0272790218273,-39203.35889840562,-910747.5496886786,-13588.608490545073,912485.8819752503,177995.1863087477,-427323.2185516261,-29389.27652862183,96485.29423963648,-189652.14950663268,39885.108836020685,470316.48505713005,-198757.24860976406,79187.49827230118,247215.25288134403,68829.16551543608,-234007.80522846783,-75633.60504512026,-276612.3843456948,283296.65045988205,101482.9182095442,-18643.740654495443,73328.34940248815,-7606.143568174032,-239483.12791079463,-233770.09013825277,-279717.47695085255,314411.1921935221,-138630.32863063327,-64290.198556835014,-436388.1127993739,216701.92179121982,-225103.04167944335,31009.344672896674,-68515.18011663598,-296620.0567434584,166757.48234897823,-368896.0396777016,-215164.59645070584,172184.63352797605,-964717.6495797158,10198.455664812225,-135608.80530802158,-53834.402525629484,-109645.41601971081,-313631.0607043056,-638292.337178684,67565.61224376841,384176.89026814594,188872.61366669842,150282.51659662905,-361991.41411796364,-305675.10514387395,148536.4488160383,-229676.06966471524,86322.92327326816,-202894.91011572414,242774.25802603463,-131525.86140666564,-55962.960188536556,114512.90819208007,13333.321091103971,453858.491849702,217520.59681246753,-139049.46399632498,-143175.2286012391,-172657.76861777637,-29880.075710665762,-596256.1744677849,-199187.15903265323,-308261.47117689694,185767.70091146958,-108213.3988491483,153606.00006386705,-461923.55834264995,983944.971883316,-72646.76959051001,118957.76252991139,-263779.0058949189,165790.1840104892,-200547.87539911584,25346.173949896947,50795.20281754191,-558722.3931549625,106775.64078455807,-59303.844721199144,74956.94150614238,565588.9501929282,-40918.43927581737,-166201.51086170643,60565.88071453896,-356717.13610654935,-128813.8431286056,96022.5371661429,1122193.869978252,165458.0608747137,-209188.3986661154,541256.4121843178,611291.2896714214,51264.09096895396,-226887.72512037185,-233554.3977471045,-107932.79457050811,176458.048753967,1233580.2126090722,-232358.50994096606,-437883.56189173396,932345.2450202293,-390999.8965553122,536022.6052762403,-327630.36943494575,988887.4634824047,143668.53937779396,-220055.64585078912,-128766.6381844586,-287854.3394129713,-123785.87156283425,-164136.7086671776,-859656.7254609957,530121.6100253608,90613.36748195332,-251356.9979284716,420889.59570602817,-423129.6355673891,-364149.2775043714,-274994.05694708746,288325.43006523995,-14385.409651923203,173724.94232493266,-320529.4766297992,-246664.79392542638,-280950.61861607403,618733.7235232743,-133272.69823769387,30781.176224073355,-372298.09336634725,-507858.35234192724,-98777.35085634419,-311237.5536328503,168958.00670718256,-226791.24812385166,-676766.0914421191,-160794.47248176,-571503.6888291975,-320332.179504385,7926.26507468201,-313781.16317980015,-146458.4681085934,-31948.466440177835,-93493.4372134418,-198631.9293278391,24229.228982065073,119247.75850011453,-319284.45228566206,165567.8080789998,-340324.37134693156,9013.208777500648,-363173.56923823815,63931.852774218525,203410.48790621484,335052.2393639557,205608.49219612568,23844.94613800002,-41934.84654597885,-288721.2045143399,-348041.84493953676,131061.40779422932,155003.88771904475,-548097.2254181096,-218602.4424592078,110100.54059778662,197857.412031264,-105635.23533393882,230972.30672984125,-132162.47560953913,452599.55215471995,205655.636637377,123561.21144296534,-413136.81209486036,-204543.12370967818,194300.29656367065,-69893.21967823435,56174.02136344225,-221953.9227026052,223075.66099245497,-58533.09246239605,1284041.149443242,592553.2557827737,23805.068609953283,24676.886141650375,207476.66413364856,-125770.83460226042,15299.746624431265,-168127.8991691384,17740.614866538734,-9619.279973340444,49376.88238074677,138046.9995983588,81043.3581964815,-197810.90557294158,60243.732439058746,-41535.59922602232,77860.85856200325,-358934.9805327101,292729.9087435514,-142189.5952592317,-922580.9060571985,251479.05406594093,180625.63303259236,-22482.44062251413,-181316.318945126,19674.454277470042,1223317.1609696248,77948.4639106706,105012.85538346648,-29404.51134193412,465931.78036543383,111987.42744064819,-92309.14244594269,-421570.20471364964,-78987.50212088307,-435280.0475836461,-368155.29312896763,-66772.48136075599,800589.759390816,469439.1390144168,132109.2638940505,-43804.01918154178,169565.4189923493,190796.89309480807,-281825.1512218744,-61536.89298660591,-115330.73045319633,-277444.1124478643,-139367.60788986913,-402382.3407583799,403828.0921323907,-214905.58284471094,-525114.5760702053,-656084.7912111855,362408.45448084513,78124.33772868801,-292400.06629601435,-14929.148040825066,-141549.4139532057,-24883.675329791746,-18164.695072285685,3842.353785952026,-36399.947370320646,-122258.65316503985,9557.884539704391,-215208.0350738402,-207233.5429195345,223530.4965453999,267311.7389745668,-574604.8025273535,57489.730701709435,-232948.94800870158,9530.29771820722,-96976.90044834555,-254579.20162033712,15261.981491969424,130656.87742924142,-76148.05258455245,-704464.9964492571,320634.8738300976,-75920.77289415999,-438442.4174217273,-266162.96580694156,-251428.63497756806,-257850.07571676918,38710.708663337035,198060.9019862312,78657.41530686387,403721.24664555537,55836.4190521759,-117782.920249546,-299835.9592274617,-51402.47477806458,-590443.9393344574,-128420.54103057737,446702.294592917,-56930.84422414576,145144.0688781813,138028.91810974627,-266747.9962220618,-202973.43607453347,-97466.31356532188,-255203.18745327403,52065.238937236885,100902.00961216641,-33049.802221208185,-290803.1219840162,-96001.98333714185,-11677.677615311257,-208525.5850406899,583417.7065884483,2990.6172167985446,298816.9352900239,-296022.70310655364,428735.0654682767,-129541.2782704787,-396435.7593991364,-441755.89473684534,-111583.20168496257,4525.266244820504,41728.180783025666,-361710.08691339835,148576.12333926215,-184683.02548706252,-1717.5952224610987,-129218.72590198225,-413458.2238237371,-744720.7616215323,102991.24481959413,207296.3264601248,-332870.6389599112,-13129.736196367237,344957.9923076184,197505.57752538545,-247158.66614055925,-40542.39240705195,-505914.0206202742,-49712.09978508718,456727.0044006056,-192645.83442865527,-131117.16919412813,-135408.2215745294,-325841.88013038074,-128656.65432381077,-83704.89930364813,178174.50761064736,-78099.7705064966,-151582.3325872828,-204904.83933569113,-237199.32883866754,-75645.1085328093,-197202.2669215116,163125.20390266593,269748.9181052453,-278613.67951434053,49892.67354809627,106691.39418936516,-230668.69184695272,596416.6256306665,179628.16819254417,-144517.03814528824,-76377.59920346334,215463.70233440364,-58654.14430392018,131251.01654730318,-97002.12990327674,1200392.6579247047,58396.6469820639,-417952.21967377583,-7663.847907892109,-96750.8705193053,914896.4554854019,-621223.3231465984,-276093.30772394524,-100417.45295076782,217312.06354833295,-315144.45248085906,14751.929642119647,-289898.51278936345,-404791.9604483692,697685.3107119311,-215908.93683927256,591208.2597610919,1042111.6921519629,49396.02732196489,-432629.9723420258,642.1317021739922,536821.6468634482,102281.56317471503,-154265.5067284818,-1214782.3484865993,-173360.52874304072,69869.65269934286,6491.452416676987,95202.21309324844,-515543.7010600199,42539.407638883175,-152994.71826051964,-89806.57189898132,173626.34352283098,-91224.59072031661,-107663.23163253494,7230.303715678442,-156983.6294877347,-209140.17061318315,235843.59550291375,166768.6823577658,-169142.73304276005,-295833.64894483355,-585260.1964919993,114712.00103248711,-305451.4044939146,63746.46408027803,128758.01899911699,-134338.22138121704,-122209.97983627616,532677.5650083212,-485207.23139491637,133648.921236383,-253734.2393625409,-363504.212317225,-112662.45129914422,-313564.7895784764,-342988.59301055764,-149180.14897647165,-238439.32850535552,-160892.6205626726,-481451.3179920374,-205019.744701143,86592.03777836726,44520.55614735841,274747.49006392097,-94536.84319482707,-195168.42628008607,22208.196890162388,146365.12734494102,-467339.7885605711,-156256.22801546284,-161875.76223267306,15400.459233212132,499769.6704102783,-738446.1070524185,28411.970697918336,-64802.50859881408,-233061.92589203353,-65094.08340283511,-98439.3057337308,834747.8956167629,-20435.858188608167,416573.9794949653,-155935.91895306436,396206.8179494398,83250.72953203412,124563.69832061276,1251.8205973384177,69635.41639956112,-324150.918510432,240198.1365550721,231752.31215932537,-500351.2786862025,-315920.725922393,-32198.129388397647,-100315.06112775778,-207505.37239321094,-20881.171686984802,66488.76894170437,-145587.98438923957,10757.669730648144,-59445.82640413499,201347.42847245815,-38388.87057143083,-19139.769391545284,710188.6935170683,-85300.52846882497,143519.15681891542,136168.7948992724,-151817.8794238525,-157741.49511166944,-36647.76729028594,8580.438184732724,20748.896397775807,-182312.22527857238,191519.56751488254,-177094.8733803265,-415995.5371675797,-272782.06990197144,139479.8678535043,-38706.15375184694,-227587.0735992196,467908.3070229259,349081.95038009295,146860.72709414762,-19328.76639207658,-82.61623019062355,-406573.00097920065,359259.3687076785,77264.30234168578,-281678.6061018376,-59245.638806701994,-289178.63264756213,-216843.95028043553,4793.879971679224,40267.87792761213,139537.0989822968,-138020.52962609896,31375.86914206476,-144133.1959005129,-26"
     ]
    },
    {
     "name": "stdout",
     "output_type": "stream",
     "text": [
      "94.631957229685,-105351.38652019898,-686416.2949883492,251364.77327814145,143034.0016193169,283947.55699549767,-232107.34278846483,55687.28583920882,319375.5118417378,202454.3769670063,311714.77901291155,-171431.34875643297,406980.2053221618,-129566.78572940026,35006.879887464565,200398.86132644812,28592.587289834904,-313832.9557386239,-174025.58943905425,-191586.77784542457,-28214.1436482989,-44995.83497144939,76674.18442963524,-81771.52975361675,64325.87164293021,-402835.88867088064,-304270.00102415064,-325443.60552530934,109887.94012634692,8645.277571525357,-64498.70032566854,168977.88278928204,-394578.1518944938,-251894.480254779,-529110.8667880578,-427107.7072808105,-138800.79064961968,-244611.5938948206,-258091.34217253534,1456955.794694138,-323140.3181197952,197338.38553131226,-340081.4401682048,143224.73153809045,241010.16002579205,-753857.1432747939,123036.66296245053,252373.40736847473,-39973.8638351435,-269599.31121432927,251318.80243646476,-304585.02412978397,20407.400085177153,3278.256121479398,-4011.9238094040393,43373.78628059625,-140200.43296530284,-379523.2677544654,-15686.393707643621,93892.28316048939,-251898.42976433254,53518.01318338447,-327720.1970613484,808674.1379722854,184581.36644574945,-505994.0427835344,23431.715542259448,-424750.1570068865,53548.839042976055,403406.7094706378,486880.5904843879,77608.0245412535,-67029.51944216822,-20162.244169078414,-106506.52837853252,-434668.09159780206,-267020.3866747213,-35520.65042280899,137961.3031674337,151357.26044024422,232271.66243968942,504584.0535650413,416775.5122540514,32943.25023190076,188479.89820714697,-311600.23739960697,-143352.4569219541,-348764.13849478605,67492.28796814677,226352.03400510404,-35276.02322206231,-697732.9953538886,188260.40005008507,-559707.2081174443,-55283.08529638167,-396133.17941994517,-616703.2578762162,-688708.1439392675,163839.0791283691,-421874.8745833752,460876.1669211139,-349763.8775983227,-42278.23162126173,-322608.27724337374,804198.1839058283,-359893.5622311543,-220227.3279364047,193406.46751175384,-398545.9652752983,344152.2867913081,-311969.3699767095,123243.7442779237,-162051.1708076183,-210588.00686352723,-37964.27916499181,8071.910450076324,-85846.11687338559,158575.91712022724,335956.15001499676,-155066.54786263546,-8164.064172389926,-98631.4262549754,282964.06865778985,1331.4463165645368,27734.21030676472,-227921.90491789806,504525.6766292001,-334278.97352834407,-417192.15238793177,-255598.35054634212,101422.10201522871,12449.938154565174,128683.5140237534,-308530.0425863478,-101292.35139012661,-155254.64281545865,-1360.031998678627,-761234.385645678,21777.955092714223,223230.01415955924,180676.86211982605,224336.0027472096,108969.28250245388,-313843.4423481415,716161.8041006558,-42720.24985586302,265840.7148613425,91413.50653965541,183807.1334541671,1103169.7911932215,125166.00879019227,66461.71786763697,-169252.93816868388,-19523.593731601246,-126067.8329946447,-70313.01609443534,-587268.15365875,-165835.61567269525,393697.92297084385,-719826.6862067138,-299120.18695625575,-571368.4229043719,-171133.48067065145,25876.104870378873,-317530.11292107834,-157945.3124405619,-22724.432878707863,-798087.0083204745,-622211.7566451355,145903.36550819105,-147653.76242304617,124137.94186598297,19520.423744105297,740349.5399771681,-111541.2596112241,1312816.5901795037,6837.2881218880975,-128495.30274869621,-12609.459048992143,-60773.991979515085,934080.4040416669,41989.006660779145,-50740.48453828902,-78684.48675331302,15437.030805481487,-714982.2693392826,-135023.97079234006,-385621.06651525357,-101016.04577704848,-264288.8744305202,53640.40971081875,38900.15169683465,206577.0164015428,-249015.56203799983,67655.09205857228,-216827.2238424467,-63567.46297410839,-43277.54353630135,-130900.81532225713,253642.25857635177,-24034.21785645759,191964.05431950872,-323777.38685467426,-171537.15428342164,-114488.71106838602,-81103.58652180569,-91729.64648651624,118715.41889178971,138264.3059164123,9643.118484527016,48940.79706503964,-74038.11807075584,-601299.0753098488,-466464.4371726918,-465394.03471842955,112069.27516631219,-217689.7373086954,154109.55862473024,-38171.32948527688,427922.1314002132,-509002.87191580667,-236827.20849115704,-372521.640285604,-142416.53840435526,19811.083214017173,-439815.124541444,-411013.24870319344,-540258.7786517894,353704.76616119,-241188.54130095575,-56388.01867108257,-66883.00191884811,377407.88164802984,-157390.2033316433,101345.90712421533,-187086.8441804055,847327.1379505033,-53237.664645626304,259046.17574875947,-80918.9661448999,124652.77648847186,-528078.7618173233,-41422.34656063356,-4654.169298578504,-44432.50978307713,-198398.63573056346,-243282.70489185455,-26308.15008485496,-217668.8527083441,423323.6646046562,-285383.97291681485,-112625.31904784033,407354.24173429003,-64590.53236750856,-283739.0604365757,42665.75416044993,79213.19552445847,-285677.90862972575,151574.65711659176,389880.6120733636,-93961.16698658482,-228815.51718472625,-300549.6286648252,-696892.8985330005,-28061.914346073285,60691.72551962992,-242265.98032224557,-257644.58094100966,-363057.7509063247,434902.4046872513,1198323.7763405908,-17660.857144852762,67471.54196046953,-359676.64431863936,-570113.7406408137,-273044.0715371556,45119.667439851,138133.89049631613,53829.57191127285,-572119.0799440368,86333.29568963342,-485433.8083584811,101794.53348016902,35263.537484789886,-215047.79090423236,-114823.20888481535,-15777.544528387709,46835.74580903229,-280297.8875903537,30941.564195863764,24664.816372473706,246126.38446293172,187560.35992499258,-147905.6558935918,-327803.79012726777,-209668.9882529703,271038.9264890161,-361501.9371554284,-344892.78397489816,-24735.833758347828,92263.28554273209,-46392.897291841524,108602.48871908935,110604.25982147995,222568.90487967292,-285577.21193283796,-274133.59347955865,-78423.8669609853,-129872.52076953906,110452.35329351816,-316131.67355690396,141543.2793539737,-20061.815187947246,-57462.28731600032,-278256.0356757698,-25328.461658272725,-196271.9312814216,-697107.199597061,-345024.91995846154,-8934.531387944422,-343117.61579964164,-37046.41722478256,246932.72459652388,-552847.9585498531,13379.966009445621,89938.92824188339,-24336.61353224055,-49475.44285881837,-523234.11715900636,-136910.36087423153,-24878.610417844524,-262804.2935778081,-52497.72244927697,122921.02062867119,-262469.60511102225,825891.1708546486,126528.77966701124,-9422.365248497328,-39121.990201868924,-73578.5149300844,555663.1948503458,291177.23946159455,-104155.14178963742,-168829.87589299455,-47374.54189754555,-367723.7527190975,1288274.6096915442,-167673.93246527182,233906.30823127186,-378328.67406374,1046187.0445191966,-177980.70031875186,1255677.4747043487,472695.2676541863,-300360.04768507264,-223592.24397452018,275041.58751248417,-142696.27531720893,-100623.63022323343,-255599.7267562738,133548.49873735593,-89951.25653006986,171941.31088389564,-443957.1116652588,-273907.89699514385,-93804.40459139254,-136388.14686874006,-246692.44923509643,-56143.8748883198,-150880.75227355637,-288429.62378285156,-393638.16545017494,201394.32151933238,-28938.2901442289,-69433.34108955135,-28600.79923292698,-272012.477742531,50347.73284613901,-375854.1220853537,-354479.97168987995,712776.7163421194,-70208.91093086427,-4744.786988748975,-475982.72604466166,-276075.80299443,-312309.04755379783,-272788.2720961938,-58470.03473668636,-237471.31185201425,-495703.5214809091,-426918.3060923962,79299.6053292912,-58595.736831001646,-164510.82920912144,-68698.83775809196,-254251.76594692265,-206500.72072948678,308389.9153497868,68763.4513795137,432106.5962513316,-242820.10774738604,-72557.67795650208,111718.73875295262,376003.8629124946,264711.5782589981,-331656.5445344135,202635.7165271877,386102.83254055266,-103247.67193877802,-283124.5337040672,92558.19862952242,-288313.4802722047,45111.841238106055,-152463.9616432383,151081.2977782049,183389.89561337174,-188454.85384865562,37455.87794413974,-414716.8892674681,-448081.97612868267,-182372.76195640437,-243811.7551089378,154552.669276519,124087.34155823394,-592595.7682416358,52152.32963913706,388752.88705317676,16760.787429170443,-32874.49180284962,-222530.12176682713,32122.54554690001,-338501.68575902615,-206658.6659672142,-250259.57559656588,157890.7938565068,-273182.4089239115,-117935.21751320547,-542570.4675587025,35559.36523663965,240576.2574269839,15005.566157661875,182263.8537954382,151198.95655953593,-53926.854703657504,79050.26343229866,-208832.8598623641,12102.261203804896,-84188.25355816571,-215473.51553997016,-185694.26240290087,-356934.4784927383,-264597.81773073773,971497.3526490602,24896.895044241814,289750.8002182498,-274160.5347476388,92498.8733493476,153275.046791004,-71043.1643709123,-173838.94042834995,1102336.1359993177,53723.3767803229,-24500.840471436943,144238.0338864222,-116881.55928474182,161414.2713948818,-23713.553623565207,31871.491263054013,1515038.507109653,7340.733687549051,-146350.36760480647,-385821.9763312493,-510362.9608992775,-363109.66288988147,-228413.5610866938,39263.92077971243,72428.12611125641,335963.0015181162,183268.26886694995,-531577.3237095801,-120044.3694653396,241077.1721968724,-33659.77215200007,135723.61502679143,-170191.2423131535,-72983.26386736383,-239901.7719962014,-403740.92773124453,285084.754343421,302434.6391144274,-138062.71575288466,-378262.8709801926,152899.10013154396,423603.1204962703,-866.337357476436,-189563.6393292808,358924.96153867885,-241228.21991788512,-27199.17928765028,70841.35405680079,-59809.219346632126,-361057.5166101153,398094.1620292101,475408.25463140523,449212.4273880714,32804.40097458763,62664.72256767012,-203062.9223964518,-171346.14960114518,-310323.5891545856,-348534.71918162605,188236.55949035403,-278824.0190121752,-803250.5260467414,-267809.8668322303,-732723.7154008057,90071.92303736098,171712.49293068654,-78807.03112673161,57725.70317783639,-205026.50895049228,-528007.6964388458,-12077.879541220093,40166.658932703605,979877.8187373335,-401224.87915174983,40811.89713181966,63417.47065832963,-357316.2154157766,-100506.2716413013,340600.59325169236,-31702.38498636082,78210.02851736634,51905.32698066612,26505.605290860127,-288874.462474872,143356.46075952487,-582479.9856249779,230656.82156336986,-263019.5024405834,-155892.54011516928,-405063.01492914255,-357010.2273841647,4422.903454557307,-118709.33794334128,320053.0862364136,6480.6544977071935,-41447.83683367074,-582456.3854980198,-78914.08291143301,492258.8367028433,138899.58106307744,287989.2556992593,-341538.4968814841,-752555.6555618097,-73835.63724103077,-178654.48030979637,-84848.21937932525,-294281.41431585443,254772.75322848596,-98452.80565185573,-150640.20674450972,25773.1379564806,-114654.97740242831,-161628.7671206089,230583.7599935824,-271405.92785095214,138740.46137608984,-361147.52721175225,4429.668058359332,-106114.95651755473,2041.9155963398853,-131141.64687571515,64700.698091354134,-155108.9953285823,42161.437944454316,-196546.2729595022,-250524.3477710892,11947.486425836529,-509697.0231763255,-108950.87347038639,1697.9584523872907,-209512.31220092557,475174.75328321714,-337348.5165681942,-43668.002974421026,313607.6069612607,-26103.483458911156,-383536.94152366056,-170555.28750021395,121418.75080743559,-412898.0278867838,-730236.7587517721,-222341.38375466535,81158.58809368656,13425.266329181584,-262256.82772273675,-441427.3685480728,-855394.4394072016,-159757.36218531342,-83803.3735934978,-406597.9054356853,-391947.89190381457,76033.73511082334,388757.3917365663,-3574.3163225066487,-189998.43393913732,1012847.3571709525,35551.76155463527,31959.673855509063,-61364.611831079914,-37884.785623304575,102028.77072448534,104799.41719808742,-320469.5231095601,-433808.05711568,-192898.64235716357,184964.65343055053,-112685.33771079995,75257.20083069088,-55939.34222834926,36080.355690034194,-340096.51683025854,296220.27425704343,63801.8974363054,17904.085435313867,-243315.83600616478,-190631.22930872315,-695753.5375999146,-185770.85385420884,-551663.0656633308,-430306.6877579924,550529.9401111217,252172.8171945816,-613231.800830683,-56433.51465842388,-125362.8194930072,-45384.9810052367,-174904.99552978744,1254.7538110243615,-491652.3009544495,42270.59234334309,-274625.72196648095,-455965.9170165451,-205265.6754932997,109967.05504539813,1470.7162540515094,-126936.14491653725,144936.42556255663,-1374007.7495457118,262983.21215281554,-335814.61690516263,147270.39973873895,434771.4822261905,-497837.58155086765,-57879.663370100665,127566.69415838967,138758.3053408224,294644.61726538587,120175.71258180037,117245.33465548624,-209894.98342583346,-405822.7522569914,-338910.025567044,-408579.9210322749,1169919.6525359116,34528.56642259572,-354451.0125475019,-167224.1915907874,-67947.8265471058,-65729.50679573833,269067.6402636912,-175825.09899053955,-337406.1768390462,-55916.02215639144,41589.17007112685,-52199.66852510474,-32363.389744717944,-243894.04197632955,1031461.632468585,-8057.777649389381,-189267.82633496475,78468.36570721776,11783.975865905739,-336175.08092548733,38639.6829118675,42652.91705757929,-289956.5029646528,-134622.90684272355,-110392.48764094544,-247184.10986184378,-44738.98885970144,52947.2145673676,-632106.9662528842,180707.81713686817,416180.4186470478,330103.1957266137,-282998.2997347516,1783497.5917712853,160208.1069129352,-286857.36124102253,-24068.833795418603,-897389.9607519729,431215.21640883427,279572.7521694435,111382.94227993902,93184.46137617882,-169888.43249853162,342712.3672956629,-152109.47657217865,-136877.46628048195,154529.54866315203,-481523.54162389546,-186632.57868106157,56380.37923439846,-99385.91582352575,-826829.0943585844,134715.08727714952,-185631.66323522446,-367142.7852327946,105587.34666756267,-102171.09668128533,90356.84595924515,-210121.73795684378,84402.34105883936,185403.33288423292,3789377.80629757,-430351.5914466704,-231132.45140303054,256286.99697924423,772881.4398797131,91524.7814310481,-98059.87327021772,98220.99195708938,39354.418281682985,18554.34022406514,55487.63804174161,-142288.1896574651,29423.268527256998,424124.51473404875,354959.91863997356,87383.60267291695,46672.53535614772,-149580.64683328223,-136916.82565048794,11465.684312522586,-346926.03106619336,-351400.9604453675,-288965.4394203216,9936.90556772657,-89095.0155581178,192057.92678610806,-223185.63687779635,-300145.8356849949,1111202.8260380225,-279130.50409328257,228500.0068578892,-468870.3988243792,-603022.5551209057,-439702.46542840067,-20093.9235042998,95612.41388622463,-523714.1974226894,-228002.95028596357,49595.094501089174,-73532.9577826842,-162395.76102678585,578434.5956741701,11588.33593081456,111614.26073328083,606569.3160656755,153743.47552145502,-64238.83832185308,-384755.1040094091,-37085.13099637611,-125510.41403418948,-93722.07889540606,173836.33350914688,255936.90078947612,396759.3571875639,-33582.01064783962,-15452.648923420316,-465718.6978152388,114829.24410189848,-282653.90429608524,115656.60908748525,-436101.5546371442,-154320.1581420873,-303482.24080797896,-364579.8380124032,-2061.912469134157,-219017.2186922993,-181156.79818870628,-93350.99532068704,-622976.2802242473,185270.5046211719,-433615.758353597,-491697.80841470184,-314068.1234852411,77092.63098521065,138091.4748634147,-191874.50576595846,100731.97462594286,40375.64134479385,93368.84635244311,-584480.8373469384,-211654.64557796944,-139696.45160013053,65759.07151390832,-429823.171233862,199817.26371053394,-104926.1218777226,-494319.4195173267,697352.2054063978,13051.519452744462,206998.34463801412,85997.60227852498,-582898.0497740321,41174.70147242837,-148656.5369126268,191030.04665524515,222422.33072797937,-70375.65510740147,-326325.1331874675,-227021.07501530807,-307418.65117601777,-69696.45626685575,-104105.2988591258,-296418.8843679764,-779190.0014762408,-150628.82209595904,880386.6094206065,-53336.20651226847,57799.91895670151,-156682.14179087177,-1102439.2118375786,470780.32383283915,135764.09421257357,-134663.5855912166,-218298.45908445938,-45780.7941578098,55523.50966268448,270727.417134477,-143450.87373162806,-107676.43463806863,66077.83389885208,199494.38685562997,-557.1878725650859,-696083.6160628201,-1236.0976478699583,332379.4392170738,259220.0901237552,-309244.45129041997,192276.64450396723,-341992.26322087116,678155.6271834098,67479.78122169858,-204940.40775643126,140561.8121117549,-25521.893701749086,53321.558589353874,-185348.99847955356,-497476.32330623356,-2"
     ]
    },
    {
     "name": "stdout",
     "output_type": "stream",
     "text": [
      "36975.41600266882,116803.4508351746,-216752.94727066305,1155448.9230948559,-45731.49765563104,-32151.0536468973,-434708.01690383663,204070.13767110242,-315132.1628665098,220668.1848442239,-245923.89011808022,-151350.6189895174,-350333.78552637354,140058.10376376627,653752.1005965851,-137021.98287302515,-60367.63824824973,82449.50396837243,205527.67887176975,50684.786631512434,326881.3653379352,-368484.9102474471,-51737.19907510888,-15712.670289040543,-132222.4404167573,179600.7410543008,-184123.91854294625,202320.19208903436,-242265.98032224557,-245627.4061583595,600841.311114372,-27101.623027731388,138638.0239709315,110510.4006682328,-67072.27374382319,-167698.50158377827,-278032.6851056337,-380436.3400691596,-223176.26591279675,594716.9909126469,-677892.2007836606,-83727.985822288,220260.66237950945,64303.08178567357,0.0022466891121900004,-424748.87892724056,-255963.18232314836,213178.2225946541,39170.383345501185,1517396.305581802,-266398.7351718261,-129905.87843232616,-224403.117887145,-49924.17145347285,-312524.1517692723,-74173.11192739909,-352872.87353060284,145136.53648355493,-117911.27194924514,8173.771265449145,132457.8970017155,-258125.60332627496,7657.720307756345,-163058.01386362943,-641180.6898044811,181334.05659938316,-611082.6482840687,35548.30586152257,-51646.81331688329,-130002.52727695025,-2010.7984289852152,-575994.9232561709,187375.21413109574,8283.62362087298,-24511.538906590704,-175575.55048636798,767505.5938126247,-141522.22879453376,-42866.11388770965,320220.7943020036,13413.297297064773,-375696.3019985952,143489.89807712636,-241601.9062623425,-89062.90844233152,-22936.13583011244,-218121.5253820658,207627.88926192722,-93301.02186416349,-71859.52301405738,754430.3018997911,-237778.2671063654,152194.68273071075,-96044.0589346375,504766.7974045102,-134833.06747438555,430037.01242421364,-109341.92020475466,-12647.590574799553,-32.585419372326875,99199.42443530179,-468012.18589317286,-192050.3895589279,-92767.79638843688,-79067.50394323294,-776820.0877492015,66574.5985389084,155793.3332638122,186648.6939940623,-416049.3988315594,69136.97610800028,106658.14849832619,-272863.0804996924,124922.83567553647,138731.54727085348,-273990.40427895816,-20285.12023399633,-187208.08387459657,-255167.28253689644,-107684.24993260573,-110222.1698727978,273778.8841379238,197871.2923418,-201499.44314338322,644992.2116615116,-251835.6516460479,-42958.26364494213,-276325.86923101865,-440917.4117445921,-54675.39253086297,115462.03568680357,28284.19475105331,-13467.653293550537,222597.71288493884,-291919.4159196643,-511704.2507868478,450891.73189712694,-249342.91378166608,233485.32601051463,-219285.32383392574,-96322.76468370641,-541581.120037453,136492.86883434988,202005.84609339706,-218089.25136549422,-215550.6407507854,-193827.81729413575,-415460.0788367905,177865.54869159052,-86215.20393516739,27309.373372819202,-469272.53628757695,-244511.62538709978,550836.1883114399,173943.23614124782,-351992.5590372383,-71118.92166860639,-64216.85277635735,380861.84571929567,-223441.2875584275,-108724.80508686556,-172372.49013038457,-278607.3484561724,-361952.2665577833,200969.98798299066,-69941.81351448996,22808.980351792463,-483742.12774365384,5267.924374238084,-66364.71507416302,144713.29167559667,-216007.80262278518,-104276.62223449298,568711.0936275612,-30614.86950014012,111632.04405721165,63519.00211547607,87374.58952676925,309170.9492660689,237744.7157512095,-73138.64753317485,-169667.37006122826,-94011.89122206002,-191470.36762521171,-368886.9625489232,-79164.92192724363,2616.9018653490343,75066.47976315129,-232522.51147461426,-334071.1309248533,-260124.506128791,20855.777348893705,75041.96360347913,459145.2107650639,362016.80599629413,171767.85155926508,592095.884930105,126755.56975286704,-200364.66678055516,-83911.2551432543,74888.79316761126,157389.52954645676,-202406.2124380046,157501.50116224078,63018.38216511597,311938.8771313496,353600.14174960385,-159936.89443661165,4960.163434776198,-104256.49928824643,114248.05043888144,159500.55371928113,96885.91755020776,-535161.644281851,-518325.5117267965,126886.52029821051,-53421.43867890537,80585.8108647905,-190723.47442749917,92587.93663677789,382913.2246264428,-688815.4480025006,-148206.64801735748,7602.135789279039,1191125.6969743744,740438.5311309935,-255247.00113370328,-313294.50098033727,419813.6835597148,-32932.36347441746,297312.9542530664,97482.96534424767,173311.20822879623,80677.84571824785,-166154.27233781683,-256199.02287399716,-207589.2307665558,-50817.6304365246,70794.38657937865,9658.100210176834,-111340.94120093752,-376624.5896538583,-186840.2893651494,-21609.260957939954,-168558.0154510861,-330178.3763330926,-119940.84707231728,-151618.07978271457,189339.201537023,-76858.87027957702,165698.80841436822,64197.19796801663,141097.27691334684,-21073.844136807067,138548.4257908692,236931.17964055916,-10815.259999282625,-108585.84491402628,183448.4661596442,-224689.11793240416,17351.576777234994,72121.6855381807,-155933.068833749,-87964.20597800259,-526120.6187774194,-127076.79451769535,-164353.24241607558,-4850.437641057044,-13753.16735387553,-427847.2398480332,-1853390.4888057874,16389.335528070602,418736.0747880405,-58814.12435805428,-1505048.1208596863,70039.76259519524,-109519.0892498469,-87928.77202540812,679466.9887667341,56210.88808722156,262027.60360991146,-174960.162895353,-160215.87561808852,-38466.64624090608,-79260.53813070628,-194076.51310900136,678390.6380918471,493777.5517873882,-188217.97792694077,162757.04978227444,229296.01760744653,-22556.856217505963,1071736.716106189,118247.30500954251,-347133.52001817076,-174904.1475268093,-143746.44387882398,595117.9934757329,2041.9155963398853,44953.11101996303,-7160.873935904346,-559115.21576684,152027.5893870617,-1135561.2338818426,160589.5653599724,288592.31006416446,-162568.07400128045,194955.99655653487,-83110.7148975268,739726.7250289443,-85336.12724212237,71267.77584843246,-287940.033487534,-55481.827848645335,30059.80849318675,-62582.75529808297,151377.89326965399,704595.8190116157,-249371.4875464569,283646.1022500481,-472798.97670897027,-22376.63422603585,219934.89265819945,139497.31750387963,2424305.804305209,152342.23445501857,-229149.1814037856,51081.92987925296,-234133.16113268057,-88025.5045606317,-93567.93202886646,-75293.0157842014,245341.29396493174,-874057.1994038932,-696248.1081206113,61817.77805065666,-80039.59483865525,-412296.9638195734,316604.0810916022,36355.00839628932,-125752.00307981197,75514.30334743205,231127.19333505663,-223409.00331164728,-436116.0357274393,-401039.2962649439,23032.03857887711,-52046.5492579672,-162741.7374694539,-339454.4650566553,2545860.7871225886,25610.886304048778,-1040724.9461088341,102976.0277153388,224255.3302753391,39689.897926333484,-188330.8807616766,-39272.59991913203,-633480.3052403092,147134.2681444233,278667.42712515214,-418628.419499601,37209.961814084,622949.230259847,323520.67757541605,-142025.7093911,-529819.8665807898,-10290.650501638609,-296137.8347241011,-93255.04725222215,-110159.27971197171,-162374.36091195024,117227.69479010686,171881.30014306173,194583.85118082407,-238801.6730572198,525837.6798127264,-17542.605268978372,-263050.03522259893,-177900.46224986372,-51947.19908020684,52413.70252831736,-351243.30373372434,116322.65873764976,-313807.7335252463,-182770.35692866708,-156645.4156352881,-161920.08534687004,-344256.3831498774,-39643.88300578282,1121219.015243032,581192.3350825795,-15283.923685540052,-34252.31926404475,57986.53805794278,135675.81663004533,84189.68427814331,-102052.28177444865,-284991.4108855609,124840.14491405693,52607.973886694475,521377.7806753187,-284391.71014045,432101.76377507433,71980.59398814563,-216529.43144814257,557877.4572610153,375313.6210666777,100736.48788875816,1029240.9989770004,1362310.0487400703,656994.029595732,307746.66715138004,-90498.38853502185,-127436.39287208382,685969.9753109367,-205831.06602950947,163468.34956672645,411087.0589463065,-328695.54336710926,-296613.8894730015,99303.5952177366,201848.29247680248,-290801.0272480394,-39116.21274693511,-465346.5720490031,-325857.93205464835,123864.49553008807,-304881.0607268862,-240925.7516712832,-60802.39262781752,-288462.677873848,-166436.4908525549,-345866.8656369846,-267148.0376971901,167375.2739240493,-122736.23821621218,-291398.2973175958,27592.64316143402,140085.9045817726,17944.95137796372,51337.25354375724,-439113.4878079927,-720046.0027340539,48021.16816730669,681915.2971795194,353161.42254476494,-272264.852514867,-97359.0712618286,-16309.237598459827,-85927.37269935207,87762.70856844561,-234248.85283045235,-660633.5393390603,170180.81970342674,112812.47017144057,296089.03548364225,142294.52408598803,48939.430393119525,-247812.61293173465,-148449.74860059383,2975989.953626532,-7610.383405307003,-279692.2983098873,24657.055756792728,191821.6319115872,-6701.057547972391,-242382.06009966374,-324451.6500121108,-298177.43081975763,187166.02122396798,354026.0356681937,70605.28733227293,-205183.22162635345,193673.98947501212,-78004.96941683852,-21028.182063426324,216295.6776761221,182586.584015924,127297.621755334,87625.14205523196,517311.6634879256,88165.32655551143,-105530.76860726035,-99855.27218620719,26478.38663899918,92581.83946193971,260065.50215827354,-233597.38766883183,157668.19824486217,15415.611429343617,232942.56906889862,-308327.8441489085,15485.60376837523,-742339.159705078,-488644.0484246759,-633547.9879663205,-123112.52554610741,-132113.18882982014,-120512.18685089708,3052268.873376698,-81814.40867693604,-291290.7211332426,-282760.14712364034,-436801.69451145624,-94536.07565417183,371092.5212366262,-60447.908505282016,-511356.6702602071,247685.1509622708,-1731.2241757310221,195253.78823190686,211526.9884877163,-405802.3729889077,-84576.79003455753,-218443.76169164645,-393933.80900110694,-297237.0804355781,-231255.7975938485,-148361.4793315825,9065.915770598793,-30904.955452103248,73069.68053699762,204456.78577140457,383006.0033127222,271512.1743081039,-232354.51727453392,163136.1377279101,327769.6443859532,-118849.89172975504,215692.55106455242,-438792.2994189641,-25740.375700088054,-40409.86033393891,-193219.45307962594,-308378.4767236988,452170.3667792309,-61150.976374583406,-165495.8165880534,-280949.86196236504,133949.67669771423,-231460.49823059034,-495067.0481825375,-195663.24451433017,-60653.69366475859,178017.56568124436,119045.44851608097,339597.77829220105,-328986.26130162796,-109936.88748345706,309619.97532907955,-166179.56146824863,-430563.99631729786,-181862.89432687024,108430.19559597663,-533316.3384858066,-549890.1267099092,-141398.8596389532,-386355.620173322,43809.26143739055,-203406.58742438076,35579.846008970846,-16666.058500504983,204154.18882759695,-86615.36278914301,292950.4143620856,-377762.8595128007,-16775.246504398598,-335922.28330854507,1087076.4624189967,-187000.20791013102,252039.97140744288,-129054.25264548349,-189998.43393913732,-245560.1510997116,-323510.7203064362,-187864.75182096832,14665.862471952989,131096.21008135818,14319.96835216504,194461.7719136768,-196512.5518740421,257251.6028938301,90236.69842682425,24852.82936793639,4862.4856763240205,-390694.203512093,407675.0288946553,175874.86810824418,-257593.6262898497,383812.8802865972,-250836.68412314414,111987.42744064819,-638111.3530097596,-359580.61885102774,-72749.32325989661,1281797.468925691,-130119.44692141804,121420.63280996798,69277.37626856283,48544.8357212443,130201.99716860332,-172274.2483421635,65101.789811680945,-167092.88724691863,311728.5488414428,-369722.7059475168,-490221.05896945426,-123335.90592500422,240946.72257284657,-92295.16146599817,-119600.65839513387,-523313.41455955413,482.7028918949455,-151234.62552772637,-515499.20665786887,753081.8448757147,-308965.8735173342,122711.49854367803,264981.09936315764,-203711.65070642444,27272.184221344418,1137160.3123279235,-439168.5937241147,-6990.455361321524,243899.567174422,-151573.63794058585,84941.66652025295,-569229.363328819,-10116.521312719813,-508769.9550151735,1750639.4157385996,33197.30589864655,782870.7153344523,-27347.042891100315,43311.91672363493,-715995.9488801424,-110065.28680609462,-268559.59141646785,143625.1103904281,-623143.5325271897,-160025.1159268234,-75000.14685291369,326771.22653032246,-228943.86736581946,656289.5950274421,116042.9294590026,-308564.38888356404,47613.1340058444,-240492.50336126363,-72524.37500535435,-196845.99389842027,212574.32531418078,-58619.22154967983,92996.32760150798,-118501.10704193705,-913401.5062695579,193997.78446782476,371581.8652945076,210253.5856173975,-581568.0755265137,44435.69866262182,-602868.8864377574,1656609.643152036,-111646.10219674448,-73419.13651671712,6081.224552215326,684738.1504912036,409578.7408134096,-624029.0164483348,91116.807530785,-116882.19867593619,-113347.87018763146,36865.00915127364,-114435.29360748426,-297802.5152143447,1551497.3541303866,105541.14530226734,-329445.43206036394,-48691.01659549107,-80952.62548576268,30662.576933138345,83065.44240255137,-467214.49622943497,-343826.6451968155,145721.94284248535,-170081.02051054675,49303.86914851314,-588516.0891731648,54627.72467452571,-75772.97449427182,153474.33262545575,-432368.76618607657,-368889.4296784827,65954.61052048119,-377331.0601685343,24596.273913779598,149658.63997542483,-424363.8501547321,-16312.618961060349,-116111.69490906064,146108.71806216578,-30746.484425083105,1329122.321937662,312458.13911072485,-680845.5666861702,-72162.36078371537,-289958.0095801941,-201928.73509787163,-319533.9633050058,-288253.2961073026,40628.06117439046,54581.355050130616,263526.40063673526,328769.8461318321,211823.87094007625,-118015.28741211316,41486.22597220582,1021890.3997048502,-25298.27408043389,-305471.73481101985,189898.32347407925,-104590.85843702458,312566.5641294312,-61647.40158743061,526683.28384841,532761.4278071031,11640.700538320387,-247582.0790627223,99733.19480710442,166889.98754768068,238058.4827134536,-29226.870762246803,344846.243057466,329470.5185402338,112040.98842513342,119109.92434016558,-354414.13968607556,-40019.04819384829,232496.1747071646,-46839.46861084348,140325.16358132704,-137904.72272939584,123032.84644854805,-278252.0686016023,-349668.20438193594,226988.4992755432,-332285.2317927917,593229.8014223783,16919.666651741212,-221149.33597068075,-261666.61653977647,-495972.11944389343,-584133.7115218699,55250.05042145924,60187.63987129702,196232.75992017964,-25551.722754634015,22774.5026928371,-130193.0620286654,-29614.079515871836,-186283.89193453363,45142.16866017309,447888.7264815756,-417461.62085093086,442295.4802609428,189113.1412605697,-141219.1362790493,-714052.3799331404,1387060.4069199862,-298468.0287280763,124071.76168371798,-330643.2502050556,-252479.4317726354,150036.89764931257,514499.521508306,51129.160417675426,-59513.40762418361,349133.7404947412,-267764.5631492301,192879.76964777106,442509.1958209736,-144617.09866145553,151669.74983691028,331465.4590856749,232283.2803977905,21376.630558772355,-69756.9173642415,-49218.749209629634,222238.09995848694,122230.27142460486,118106.40350132047,215662.06572512255,-289158.0996366172,106046.22441190566,179379.5783843877,-102529.92919423601,-86660.46246276786,-364901.98958508926,-134281.11805536327,264091.86305798043,426698.99591738574,408858.27540165454,332160.2165870469,73912.10944833845,-292406.1058555753,252791.09987606757,-130637.23814295976,-31895.173129181363,129662.97541369428,-61633.27969538594,72786.72915746104,56228.79529990572,449331.0926952233,-227510.93973407263,-316373.72707385814,1238.5461001924293,-99834.83222771283,-756566.6543505258,186014.66575498928,-109341.92020475466,-484061.2756187853,-459628.52114928805,-511028.78283462906,-540579.9637779444,-72590.34105761335,-14537.478100430533,-427547.622559194,56952.25291342765,391886.709008894,252082.13744818067,505001.84255852224,909758.4286713464,716267.1106284645,-438588.81583502184,-64868.55613936436,839596.7397375742,-84789.94301559533,-185934.08998868804,-350236.16177745827,-214309.47870140584,9653.069424358062,-360043.71273843927,-96500.69049098073,256148.2498265412,-399754.6549327626,-238764.16429739236,339753.08304159855,340699.772519174,270973.84811928525,6935.040449989179,87130.12511998008,-553393.9845275407,-37409.30930180055,-476061.76798866136,-126770.28100264317,496448.3273438809,-433237.2159526023,-414488.1695822953,-416002.6899545527,-120331.76281727833,-501698.88425523357,-597832.0643687361,-422909.7563346958,84418.68647399581,148959.7183188964"
     ]
    },
    {
     "name": "stdout",
     "output_type": "stream",
     "text": [
      "6,103580.620958171,-368453.9188414116,-129972.97916727733,38189.96326890995,-149354.0396849474,-11705.945015140527,-126.97727345923806,-75141.32031439105,55608.96430321707,232677.2761535849,344331.36876532534,333079.5433298157,-475241.09809094726,-520301.4311058087,23532.168410880335,-408767.8165957876,-450244.74464209744,-195689.7906543386,756371.0980096933,-184923.9595139436,-203627.12585252165,57711.610899987245,-357401.8647242227,-24856.235902508695,-54263.442929728044,224212.071652204,-258277.12405929578,-594629.8102889367,79908.3881883879,235517.56605148411,1410993.047039548,91678.4351875785,278517.9560351472,-27007.429169908984,-76608.85034308856,-124278.33813169823,581510.9693727903,-7074.196807199812,-94652.11571962539,-54768.199600177635,-1434730.115044083,228869.85578995518,205809.6023548966,-61700.58976024948,-351748.7008368668,20493.22788896349,217465.7624198998,123898.56465280677,57530.27881181271,76104.5138251775,1771260.1942720674,-52340.776956114045,-222297.51635620807,69355.18003064912,-263381.4498164305,-552401.828512863,28275.370227760177,-6055.726293517957,128476.88647179342,198430.71348807274,36540.06272925977,66857.83002658354,-220219.33861803857,-222146.3343130492,-204763.6442980597,164468.4750258998,-4258.921003227887,-19920.193111595236,-51873.601384403686,173885.22139428047,-109423.3127237294,112036.05232419052,-137627.3026488886,1065670.2485146748,798.00870141547,277676.37621367245,63870.39423492403,86520.86489091646,-121361.39983268587,268065.36751286493,290049.98846244614,113859.14790253574,159532.97506472943,-171825.15839839494,-141208.82644239123,194452.80289879502,-78286.77831297921,201128.12362728876,-86223.27574104498,96624.09436875566,-57759.24924483494,-33543.93415017566,43936.97616734768,135282.17514463165,250583.19939349825,-177474.98040175744,-179883.9688042633,-276403.6434410728,-401945.3223372055,-25117.599625919876,-717976.3725184343,500526.2946878258,-242644.7844898903,-596931.4970190868,-707805.9920608377,496519.68085522146,-380135.7364976902,-657274.9500332355,146647.60938160686,98379.29506143308,-656818.6111537518,-73787.31802562643,384437.734390234,-590337.6557765073,-448982.30296346656,81654.9278242671,175677.59879146254,307790.7093437919,156205.63101640416,-339754.3466480849,279088.3143798945,-17988.234320938976,-36419.85019083825,274773.06551207404,213439.73451283312,215278.24918021561,-633178.5063760111,115570.83144268671,-176428.57098939273,-652070.285622831,71472.2534383832,-153767.5044395731,-208247.4157950745,356724.82860186044,-104389.72394781515,1174359.0351894535,29537.46255983001,-153978.45903926564,113266.57375357179,-125517.99751318984,-154369.91512939558,6842.1015459550445,-101460.68886145178,-185964.60356660892,-45903.83461538801,-126293.9614816753,-143686.95006015184,-376282.5457898646,242292.20841906348,322548.0176974349,749764.3850248188,-197128.05744206847,-443765.1281899066,-511524.87318312435,17909.336452668533,-41044.12721361069,123732.10740424102,-12361.79178506026,73224.94724841914,-157841.1476866279,173724.94232493266,-211286.07939929087,146206.64639793962,-204289.01418693207,-70676.294046654,-75205.11324518395,-142489.95567241946,-129360.3661105436,-374716.7339518752,-146164.3546881699,-33050.8116272453,599525.4007946674,24156.23328313442,54822.49578708407,-145038.5861166005,-133075.5367783638,-250231.55548888934,293675.1633345053,-189041.99635031458,30256.19537935353,-197364.13417513002,-29051.261445240474,38115.59864039997,89673.53981370089,132652.56898488745,-19686.75782249401,219265.77829392158,-126705.04896442525,-203253.88771586763,-97110.92845571553,-293994.37726830767,-556751.84831396,-23371.902827559097,191194.33618882156,373631.8523566977,-47158.16406898349,218838.82369043847,42420.04897858199,-441431.9576922224,239843.4583168719,-14430.898120053138,-265753.2352923366,-314421.01273196744,-26343.93598900913,-82004.57832158491,-395291.2290142863,443825.0341990115,-101410.30053945747,-5157.800650869027,371601.8254578516,177220.1220478607,-108182.3659453202,-326675.35466796975,-193281.4269918675,-905.3787331538994,-309028.96062687447,-345172.10731635155,353778.00839038735,-20867.13205375842,-134402.6352622604,-141870.61342405662,81485.50351450045,233637.82191156526,-276590.0064975841,-541739.1157602516,271192.719276499,8318.805281322615,-118590.20383130343,829093.7546609214,-443970.7820013149,-57509.33119076337,34383.100216823805,-103489.1522846003,-197698.8277755611,157011.63460860428,-182008.59724569373,-53665.017192776344,543449.6267440602,-975311.2503418543,798695.1653520628,275061.485188213,-196696.65694487627,-47008.872585164216,-176183.78760355647,239916.05862467672,-85454.22402325568,-106650.58653264015,-135712.9570339177,-193737.66433666617,57476.027182973135,-23091.582145252196,-412798.2499672639,-100830.3437835657,-28639.378796482284,115946.65143557664,-114505.25644399544,13231.17708904915,-5242.901265318634,217190.404963029,-75140.97695263302,66879.88248411355,-419695.5480732655,61843.91812695117,-132492.22019026088,89975.66920524539,916620.0479347744,1207473.80739312,-129083.6588793072,55135.5878050194,-119320.7846242532,24856.46653958013,-5630.588314280238,-259744.43723201283,-23066.47612056194,45125.42371507904,23853.651028833956,864104.8307698069,79801.19063552444,801292.8245855959,-340323.8087997006,-108801.06631172105,74164.99840336882,-53797.363689143735,14958.263349132394,114783.21725496446,-195421.1620337048,-634923.9432017573,-737982.611059031,-134627.54727802327,-3942.6053530262043,164752.90169687232,-655378.4508723889,-180136.55407806337,-548181.0236457285,-39396.658502133585,-86631.23859631007,-373977.3894089509,344273.43298432475,56688.7474053523,-365441.9133062473,174721.41091231973,-109255.25657746599,-1103065.8987265804,-161875.76223267306,414145.0040671999,-256687.17394162287,-174989.75026370838,-193696.91467833688,-25380.123276881634,-205422.0779885783,-326834.92690541566,-69504.433863443,7025.669602894619,-262242.41672143363,-420256.1837410263,-299297.1619837404,-323551.69566566835,-327716.700357014,-269865.7099070667,-198050.7501300642,23582.679906310605,156125.64574249348,102849.168992927,-336513.1821241291,-322261.1572115609,37564.70619735218,49772.625754228946,-268857.3598482093,-24971.456387794464,-286449.29362578597,-518951.4921921112,-55408.569469805734,-386725.9572368714,-55381.30352030735,-20076.410443716977,-98636.62283235264,-295835.2903155773,96960.93929402105,-32164.937298050827,-503265.2350453856,-22584.46649360393,-7835.603143266818,239998.674757649,95781.01794605529,-139454.0114090035,268765.1185578566,-112352.27647573558,9609.799340053134,146642.3238546863,631887.8595306397,133100.7479164527,77057.10071045524,-124245.50839472144,341164.9637592351,-106414.1395771147,-27965.285732489156,-208060.5435243276,96108.77267214238,501491.4337380773,-21746.73744731834,-363166.35069744935,344192.33875281585,-493992.4647299691,267402.0707181421,95193.95974736851,1431006.5797880858,-159768.4182893181,-302805.51577392477,-227503.25758339095,-175087.1651519421,-117563.24995686265,36063.43961514349,-287816.97230290034,423056.32596187,79507.92142948043,159751.67261222715,-444197.2263135376,-36969.4821999565,-273544.5557128534,1489614.0294899703,-57145.528760854795,-421477.64343736856,63199.25643834122,311881.07518517453,217731.81130102972,-19290.435085849538,587074.9339382608,-105060.58964612464,1249833.5433851178,-347084.71337802167,-356081.5276156431,-79377.57403468604,-59337.18460237135,88914.33536082799,214748.9557745007,464594.23840404634,-117833.81821249421,227515.3356671345,-143754.6363984464,-475762.36563521327,-32439.02173963791,88123.56318946637,-200332.36223961986,189185.8787615198,-168322.50849084748,-880349.9455642097,-267897.17630356573,-80369.58997169041,154169.997875235,-362658.1375591348,530.8486789354436,-190949.9734618764,75369.03155764841,-173620.29037438982,-31357.79917990657,-116050.86371259039,148046.70025768538,-652539.7719707234,-269937.18199912686,-399594.0961663439,164847.05535526914,25596.89861030485,-26697.082282999614,-39292.4046397352,-17506.522879910546,1000990.6734839209,-604534.0043190998,-275422.80205663864,-42478.761018076024,538602.9865430872,492691.2343634082,149682.63541285778,16131.824067473697,25726.256155685696,-521551.67062813544,223642.96264545972,354420.63526340557,-207915.89468113743,-320074.9917407979,-263926.24415018974,563567.3946326248,-415133.6164792706,-117169.66412137508,58870.261853296135,405431.69890519703,-208275.2266387819,-260130.71120821108,77232.08108816911,-247105.11439884113,4846073.8672228735,-543129.7071304595,-484085.84977455577,-124780.84915544657,667915.6383820622,13526.793428743402,2181852.356641452,165203.73042468485,-101108.13200899726,28041.543983355943,762069.0173345855,212939.90326964605,-218320.55300898518,-696852.5875626013,-196844.33579067525,-191506.14796695646,220499.4226330476,-7124.11983322005,-208158.57199562434,-245220.59011018707,48752.885024896845,-60534.184065186564,-426036.12814431946,363666.8582336782,-38553.42559529668,359353.2141514062,-129700.22104012931,531862.6816883668,143040.0458753646,1413941.1850570242,92821.30320262664,668696.5365394196,65564.66211181655,-32754.12508770214,-279177.75498064543,17655.58862034686,351193.78387296724,-51578.82038635285,-523331.1231361802,174039.56122336639,-251097.11345091544,-360166.0373950964,-370959.8215066116,-16742.566073880404,-1103653.1884897293,-370297.5973660931,150735.60756625197,-269632.07922651677,65612.80865102325,-157554.7883859564,316855.7143826473,176270.04174056154,24258.64427943231,381995.4292265149,3090422.3142810804,248918.84957218677,482829.5558051791,-713848.6631659509,360496.1162721326,-246245.51734293977,-211962.1078534184,-234814.656965321,-129472.149704499,-71896.78997469242,-598430.1381471523,250429.0299778279,-142181.23912706142,76462.49130115242,5812.220354159915,-188345.96412729524,84292.09359972159,-60595.145743034285,3618.0704498482596,110354.18819021106,82632.53653123237,-15775.724785127717,-72892.83243361383,2237.462816905995,196499.99900964962,74151.46343819503,42184.361271909904,-142644.56705103643,155770.33090584027,-359923.69347780343,766099.7593851523,-358270.86195155885,-37747.16216194397,171993.9293142763,-264388.25696834683,-173446.32499872573,27090.042006613916,65136.2698293215,-270306.10747073084,-33901.23263191,1229790.9093939173,375418.5195994944,-388549.73565953766,79774.76449115975,175520.1493780492,-295275.71012700716,-243387.3166768072,517046.3368650353,-237979.34903857647,122938.81178985134,450477.4454995527,-18334.989369494797,142496.63649240427,-36989.35879101393,35145.52881230053,48910.9146419405,-271362.32773464156,6586.625092878795,150616.34201373154,364176.74363198713,-592798.7024238257,573681.4223240797,-157665.13322957163,-208872.41401628192,-34014.521651120784,49519.06507390147,49824.44163134145,-104738.11390305749,257553.74450239542,244488.47929986336,-150099.75478505253,8555.391015818832,-12164.425851139704,237735.06052218322,-103407.05255903811,800693.715290443,-166062.36168025227,-49825.82179957994,245489.3181710744,-175327.22806231628,-182539.61803913309,-269270.29461846134,106397.96165197744,-39439.06470861124,-245989.66924960964,397940.912879404,-84122.1739231137,-117147.07907207638,-89252.97717124871,-190316.3517164582,-380098.0465239052,-167829.82357540258,67259.46471301203,269163.93476371345,-76663.08374487597,-126292.05255190957,18083.971342738994,-394322.9472237159,10755.388674432337,-276894.5229397497,-105012.23247152397,-26247.491676205504,-6847.171029574971,-726617.7236090598,179006.86593664953,-362034.47808589827,286457.4693945432,-259270.5042352697,-10705.380277974084,37116.482770486895,45892.31559828474,1744914.5304057323,-140699.49471170112,-86389.00842564537,403246.9483984577,388886.0867790908,-227377.7897471167,-548101.2632879829,-140250.08471020655,-42879.1532337329,-1417.2013149908225,2944.109107367203,-106450.40444081549,206589.25341532164,62046.10287151115,143137.24909694205,-778655.2697908279,-182446.1877218801,13807.30044395264,189756.71564220305,-86474.20305920998,19077.0122167196,-296454.39738481375,-9901.583434091744,-387861.590193517,-218182.5115782245,118993.11364813893,-78028.23509990338,-226396.4952533962,271465.1014348568,143746.5012500726,26923.57440428854,-88729.07711305065,-127394.04164417963,-676656.5307692902,-183957.50170831653,-179886.22890946319,-63073.45564556962,-204388.66564043032,-407244.0984876135,-133180.9835477597,550016.0435288304,-36017.3982347906,142564.9405922392,-8171.348112067117,-196551.57528486502,194593.42559811226,387219.08362073405,57127.44392644969,-203746.76653495536,-232682.33419878953,-146865.1226719765,-473332.14183025114,-33343.40628117635,-215611.89476924768,282992.61482400645,-149409.2334152731,-243270.25354208876,-235811.69000773638,-93143.44679055005,253022.31032147596,439016.4917171458,-66251.63882254291,244617.500663365,1256046.0277367039,-428178.72223460104,-200664.04854462418,995724.5475048943,-193695.77094788966,-359348.4665822802,-49886.55480750493,275353.75852530217,-554561.9889163143,-453817.5089359614,-360753.9316020736,-57788.038733834546,-126183.29031253034,85592.588921216,229742.5839348007,-431245.5460035101,26550.458895482538,-322331.4694285298,47731.22447575076,-280078.6169966189,35696.02990605522,454407.25662768906,385861.2494726634,65963.04810267908,-260531.56115269693,-225298.31476334058,67155.17447811361,400624.22658351343,-211958.97244388034,301366.0209180088,-173370.672074595,107527.22549872326,98023.71795979529,-25285.288395083615,-427502.3819675466,-226443.81985524486,889212.0880209715,-366738.2856063672,415807.77146771026,110259.70862047643,-448330.3631760733,304534.24829349836,-286343.66352722974,119334.63098336801,-300279.72557975777,-137815.96339735502,-13889.015635886031,-195929.9416000391,-33297.639111235665,-163319.7136587084,-222753.43626721328,27890.774294638428,-52015.31046832521,-328814.4048743641,-61741.443722051685,24832.945157229577,-442564.230743275,-85636.92377471634,307046.9492781886,-151841.77318282533,30279.419532797536,-178222.30348056095,352849.4401712138,227241.0630471044,-222994.22223683563,-3991.1165122135076,-223797.678378773,2232542.205992435,68101.99523644203,-194470.53515167098,-190655.12326252076,-485870.04025214014,-753272.1441582656,176021.00180256533,-323452.44811977196,-174473.50918031012,-45444.880586312676,-821823.2744887605,103704.13883727501,-176722.98119669477,19292.152506056405,-168124.75748215077,-180942.9913623694,189743.23104025293,-286512.14974287397,-204148.314141358,235402.3732512253,-65858.44038415264,202325.75795057486,278784.7617172036,-269133.04166384164,-213409.9886214528,524476.7525068388,282186.2520729155,410009.8526950762,-69759.22917791891,168348.2290329905,-551862.2714617616,274781.27113876794,-78542.49004923171,-402652.23242666456,180471.20826247655,31093.521342216918,1347478.707258373,-37313.57208074221,-1732573.1052858245,-113743.72925448498,-58262.09398647505,-105801.86001651577,118426.94183276422,150533.30002873545,-297495.9812441276,44344.03404361432,-402534.1044969564,-127696.70716887382,-174585.52762205544,-617851.4103287242,149476.99215409797,-263984.1617335758,-1202189.6352818953,-383778.29829458724,138346.8972096397,333325.22469773225,36478.33945999742,-379306.3799821941,-288616.88064209424,133914.8176866873,188135.15080160348,-152418.24338306935,16648.68490931142,41137.133319218075,125805.70193539321,470566.70509664866,796768.5163017759,-263043.1494401885,237997.16835915943,54102.08128774937,-320924.82843249396,-570667.1939522882,-66047.60704086359,236838.2561241887,-159226.2388431784,-200787.7310018373,229507.00503130408,-205292.27383201016,-57712.386321339254,-1511786.9492959748,264204.62305065885,-180404.08877172464,-37871.264934799714,-405467.7697271657,-170809.57477045595,-95455.19062540134,821089.0791453652,-88123.3964289849,-181780.85524366726,-39725.00939593168,-32095.40651586935,190372.7210855345,-720432.2992730726,416677.3166654779,-259969.83046806103,-629075.0376171143,-133815.19499080416,-114385.91569425327,212719.61367029345,37724.779544949655,850648.7866844675,41900.59055253046,-63339.78197254824,432952.12500590464,-535596.440060677,-166761.29805647748,-36383.27426462802,103489.96190539232,89197.93922011496,-244327.4245919765,114984.09878635463,-35746.21550939741,99568.79258880773,-462232.7683632098,297959.9679366809,1000537.5969773195,-471350.6688568592,-15455.59904045375,306111.3388364927,-156369.135595"
     ]
    },
    {
     "name": "stdout",
     "output_type": "stream",
     "text": [
      "96773,-83704.73560739405,-131507.74445649734,1026331.7632881631,-302852.89313290507,-647212.9524949691,36662.77328128072,-4966.355199062868,-332488.07015400316,236470.6183460766,-364910.9500249778,-81568.00255343867,931083.3082866682,-398818.1034492645,-482382.7250322303,59284.55140680122,-349119.81685110135,-663877.7503095716,-79268.36113229186,1901.9787556065019,-450501.89690821036,224717.58840072952,-16459.96974612706,-164060.36322190764,-171447.6838047353,15404.25417113253,48577.13277818021,-554670.8832577026,85251.44568319233,71230.61401615324,-4444.58569405301,-507314.58430647897,-670294.2971474967,34413.97036408891,-350763.4777778561,504218.3526177744,-79942.4945490173,1127907.8246040116,504713.3837500387,-533362.4018712844,-246446.36311085845,-183245.39113788857,-1936.3470778586193,-179823.715454834,107061.98627230724,-147533.45761828634,49716.553710961125,85734.17295429013,77095.31039920269,-77098.76783654459,354814.45420454687,-87476.89576392616,759.2176321579847,-342121.7958632799,-91837.335092865,-321043.6491682525,513226.3382175611,219658.48134876403,466983.85892029956,-498654.5786026486,-267817.2954292983,-29568.290905931586,1289917.1822976652,99740.01036860417,163784.4774527051,254577.28890272192,109614.60020758874,-188993.32333529045,41242.92402110451,-272761.2402548498,-214258.24998301634,-748167.981650143,17746.965510856724,464450.0486856344,267782.80243345536,-338362.29181731516,1337498.3813746918,-446155.6586876597,-184197.44547294895,36867.09488957935,71285.6417858961,-329383.2565288257,-198662.58504247744,-135511.58558934502,-305287.48576406285,15282.760770435165,361927.0059602024,-433768.95041658066,-391187.51639798115,-87520.96571361627,142509.4285721453,102597.19679491688,-412086.38383576035,-111255.58083877391,-274905.7979188546,-123824.45784876881,163725.47257259116,-115617.50284633297,-207914.60584567726,176297.27347492287,125781.07831505619,-145499.39322243648,-322795.8776613742,180219.11051632086,-359286.3940852226,261800.27126763403,-471969.80224102334,-61563.79118970302,-109344.06774481104,47278.980653183105,-292449.7454836103,1461.2827350635869,-16329.658637833178,-530827.7302288401,-669662.8657849649,-299087.3174477227,-468835.93415510736,-131706.38371207783,-480137.02204285207,-654895.8127175287,-411565.7499258216,-2097733.6018791636,-337364.8929099044,104588.81465307486,-452836.2476127062,1609996.5419070113,-71284.37117228609,28496.208205307154,-174918.7471871448,-743741.3368807945,-17524.808801538333,-98258.49114106674,-361862.3368886261,381252.03498190583,-611317.4141746354,397472.62121699215,-154328.17303848462,-460419.57879371016,109893.6714881252,-201069.90874567442,-210980.94173486254,-445116.1559105877,189534.3501643468,78355.9640289843,237997.16835915943,-151572.6136467682,-313238.93264878454,100057.0597136155,-446740.0964215899,17510.900421819926,-32091.406663605987,-157333.45921134806,112715.51301476461,-230304.64180289907,455101.80288817664,-47696.09868817006,-67161.93201415583,362341.1125611443,-166554.71900832915,-345228.51932579844,-170081.02051054675,232434.86966205676,-326312.1265060216,57268.98706637438,71686.72049316925,-125694.09661727038,-161918.42659181383,-101703.11592051169,137024.79320912273,-89141.34547424679,-77317.8638778813,111974.43055321753,-315888.67876240565,-264814.04159882455,-146987.3439007553,467198.82044299884,104150.48445000219,693535.5926381183,-154704.67162471157,208294.29036426428,150766.19485441892,115370.40070355679,-170382.6918184906,173347.711729034,-262410.06007291435,471367.08058231085,-320125.6563880712,-6337.2538025777285,205953.08337179167,-453382.6862306959,-241462.75053146694,929071.4025046197,36019.62816523337,-103407.05255903811,79468.30677043732,137151.20924728518,-299294.1927464501,-313226.5423791691,381299.8514540836,-36988.50395426327,11866.29379394433,-369422.33526027336,-201297.89314451057,79794.50523677652,-26696.38171229548,-75195.63043577244,104798.17406884542,98352.46109361002,-515808.3635666265,-219491.15426008392,-524975.3862361547,355991.67591154075,-561319.153362651,-261275.74687151235,-1673.5825860295638,-7693.620052440215,42113.675464114945,-113289.81352531728,-485049.5528370908,29019.717853504633,-178899.52405509536,78593.67934578285,269361.20308660343,165157.72106360723,-148399.45958861682,194360.2755360686,-440419.48738006235,-224019.65555294778,-206346.8193295087,-350753.0872224247,-39902.80501649699,-174241.35298220435,-113743.66492915961,-852453.9235447963,776443.5261003624,-280615.0668428704,234371.37573547507,-285770.1561905664,152305.99973394783,186562.3471993264,212559.40862855484,141183.6463157891,-659787.5462143348,288024.1586866747,69534.85053457627,-224565.35627072476,-487597.6924983148,-305520.00266443845,543208.8794198101,-11067.873359403142,-176400.38012775316,-379698.4713487453,-139499.42666761193,-108971.41816510851,-87951.8905926494,153294.65302263355,-262030.23970554976,-308005.9638904281,-377379.406545141,-40017.178944900195,-328566.2692130318,-85663.27925143206,136914.6425601846,-220432.54138148672,-476334.2459642772,-139745.55225241027,-547744.1480949379,-260153.8736052921,225382.22910498644,-88640.7310252532,281421.0977790207,-441984.50316757674,-536172.708426335,-508383.9689176106,34846.2679545345,-30220.92006674791,-225304.92232616476,-810.403245403632,-147593.1584756729,135408.2452530781,314910.1055121935,107549.84812667944,-184225.05157069268,235063.45821771646,-8067.962204522467,-20374.61968255473,103581.93467494079,-360831.972014185,-335863.7311978656,50975.8209820649,64751.06090010874,-69960.56061723738,-627993.7481484367,46735.9286491917,122797.78135000933,605821.0826205307,34195.40111384695,-72375.8480462791,200143.82742011925,-408461.66957954306,346872.4173999686,-515275.0855768268,460325.5344104173,-229342.88080032295,687390.706060031,-427680.45594387205,-268375.3056523735,506042.31908289297,-206559.1249759737,-280652.5031361568,-172122.10017779996,-322496.0776438324,-142781.39617478655,-187367.9207583857,-113653.11096671401,99705.77804942682,247087.94857004628,78192.62426474738,-88583.80249634018,-345905.12509361084,427700.6047977945,-813631.2346369184,-265571.1584180216,-4537.42596432782,57160.20507999881,21051.66020099872,78572.73044364048,-312509.4821321718,-162591.37728487235,-33180.503342377924,-223612.17433083523,-846217.0271995334,174821.7644988471,-441542.62265581544,123957.601836885,-262793.75350524794,285607.027806276,152961.04146573544,-812977.8816762799,35426.23164931988,-221609.641920055,-241610.53867936746,1208260.6200261773,965033.0871448145,-383524.2567635644,443773.54296676524,232315.56373415407,408596.87892927433,-515652.4017678473,872173.1955808899,1343339.0031889942,-132170.11321396794,-211422.16536756384,-182827.30238773816,-249535.755205433,-248098.81701962993,-134253.77006141297,1158778.2887836616,100667.67292844765,194037.30760408705,663432.1216886388,-204295.06232712753,-99364.18598106422,136188.01051770203,-106256.80485367269,-140881.49982000122,-334163.9552815764,13281.381660726847,-53152.924999013136,-299877.06058747333,62399.35218518316,1709545.8363455543,44935.64864201943,-190899.1056971463,-507151.40221404063,-91996.3685293322,-187554.19241220763,-899243.5549142277,-72084.40665832363,127274.4511190912,-31635.138938475164,55539.15390088715,-291208.2479310561,84421.56865871864,14447.87059506876,71649.02131737028,405973.26136649423,188251.27743745252,-172408.7255498952,143528.49040258184,-138866.56207483442,-36352.19345730021,-204066.14457271926,-661823.5888006053,-94531.29061038817,-809601.170053272,-19260.083464561598,-356132.16076675314,201307.13256988433,-637288.2934262473,60563.695959517216,-266998.39778695774,-258793.56468983804,-258546.2571578896,-101812.34115817651,-193404.07091989196,-436259.6492564479,805969.637040962,186615.1423475469,-34364.17744825375,-170512.6714623632,-252711.18795741326,-467949.933617066,75441.94913200187,-392601.4117915888,-335118.9237832679,151723.99142803162,-675841.5587012375,-115176.7500786129,23540.186560795297,-142796.36560475125,168926.04877469927,-149790.0990465081,-434390.4467378494,-320010.75213858753,-36946.867797031504,132142.7461542592,66409.58866219189,179542.99817377434,2265.1308964132622,-146507.2485725115,-168704.57814968287,123632.48138958558,-7125.074302035094,189635.77299637123,-187687.9366203835,407896.16574444505,155020.02747160447,-373689.02361064067,121901.18992701593,113450.59782866253,-389881.4258125655,-25357.622369106608,-87155.94388834266,-184179.91146634985,-422012.2201306121,194605.52414876735,223282.51463517206,-426800.3610143854,-7925.7714803839,-122704.11481738566,2170196.851735187,-113785.47231854755,97430.46997962706,171835.30987497562,-382779.0992071057,126324.73431892828,130245.95946371472,-120642.77777784113,-519752.62280504993,13615.143867107412,-206649.9871927073,-423403.5819962156,-76600.43016099384,-135588.96618152602,-8618.34464422552,2531089.6394582023,-147816.54576416235,-99131.57890170596,-77628.32396486004,-2675.9044934465314,129777.22389037981,181523.60254542503,-36968.29773827635,-76046.12636382272,-370757.637592708,-186279.6359698159,-114895.00616937924,573459.3380124297,43632.4720802272,-246199.66754574332,-444402.2240239265,-91157.47738420902,-445698.5702871865,94839.33021418801,265980.71352163627,-244954.8949085739,574190.4803882088,-396133.17941994517,-523509.90004296537,809875.3516975015,326060.66807817697,-64873.44764198387,-116465.6578819811,227924.8297148285,-543421.8451190213,-243049.13164920674,-55237.16231117266,-30777.537023549008,-37421.097950876836,-3322.4116887034047,-329308.40018128883,-53227.5961328282,-50058.63686091761,155870.22045267504,-612975.6123207986,43587.06823388266,120280.2983110835,-302366.91138966114,-540092.7714607448,-136445.31655681264,371265.84528303955,220424.70411721966,-51285.199476713016,187422.74030030082,-88856.55063259261,-262754.1213917452,-255438.9716980775,-306871.4463966349,6204.695242059414,-75300.31040327603,282786.5070985099,9788.928133286614,-34994.55452892532,144950.6038210708,1981.9913682616502,-137726.42105874282,-127862.57202722416,122029.56142865993,-64220.833574811644,46379.39736716056,-381374.9172086352,283317.70869935246,304092.75594112504,-17999.088331501825,-275696.5708909518,79158.171431522,-270194.69077278243,-44177.52637256372,-253234.67941180553,-135686.32625500494,-23578.83764374915,-301516.11019880266,-115127.67671670449,-41914.31371002102,5399.261337270262,396094.04235619545,382465.83782911475,-72397.1216979263,-97528.87665760335,-44735.68398677922,-176740.09530291116,-157153.66315388944,-114513.87244862856,138754.97485927385,-486652.14616080734,-642179.9968049685,-470558.17683651875,113910.24788534781,202288.66104107664,371726.99404261634,-710915.7350002896,-10260.666259386508,330343.68862876506,-128461.15621878399,174052.98198291022,-103640.22270380323,-250352.0969251712,303530.09181182453,-28966.565303736552,-525117.3389166862,-86833.22531028844,-161840.57265666424,-145383.5740721666,59094.87149153181,-446187.05647460907,-66572.0081772914,-28674.91617535631,121992.93492412815,-692145.7361948956,-317652.416448357,439857.9992417507,13744.47350502309,-454605.3492621644,-212248.63668973316,926101.1130626511,812769.6715615105,-391333.43281806976,-286424.89762878686,22292.872817312917,-440070.2491723643,624845.5580734271,-667357.2006559158,-511953.9495415883,-130727.71768291316,-34922.219973476516,-97405.71361246268,-392497.76090512867,299213.51715173066,-346030.3440989957,-208170.28826378807,226049.44729210978,32308.598455827174,670487.8933165955,-11127.48400243614,279878.2725883298,739556.5964239311,-178839.9710336511,-14321.562536058806,-185473.34714356432,-29357.956421848234,-343034.6600357517,265961.4840425418,-461443.24168390175,286005.25891193404,254512.4657357859,246285.62273146567,313378.2964042283,-6700.770271939689,-23621.05231953502,-184584.59892486877,-305442.02210602316,-4457.155323534867,-183706.47546098175,-616311.2649139321,-403164.43909891736,145495.07629558918,-79765.91456434444,-249831.82762724638,69576.23843765205,145650.45643154372,63495.36087743384,-508068.2419706056,488733.9083409202,532506.0152400683,90923.02284952713,205445.55266342938,-167545.26991493587,-93789.24231666817,-581100.6275941748,197356.97437309896,58.834818834502904,-227092.54140691232,-188224.1040275659,17856.708722164618,-20247.89967156936,-578470.9225594699,97279.85270682025,-464400.7999891382,196330.94018340218,3854765.1689379523,301514.5451736626,7171.898917999074,20369.767663952607,-485905.56283125223,-272387.7513026806,148801.5348651934,-197690.3804903163,106789.88716490041,2983082.7414827393,-259517.38885916548,-542.8174960854041,361139.23765046365,-221733.89169447712,-435889.9976206423,399774.59135104273,125185.42485106508,-162333.65728535256,-130521.74565872042,616992.9153520282,-488885.41400623263,-197150.81564332853,-416852.8919545206,-136048.84338181163,-572025.6939315615,-13961.742000240398,-887464.6181959949,-267495.5372598201,-201498.1171462362,-91928.61223978623,-147816.54576416235,250057.68546777894,264487.5501590233,-263703.1191801741,68811.46464994518,68731.10061296192,174494.51837258445,-39649.4030745733,-14429.64695206261,-365993.3838718851,153126.70295472958,-342978.5573128343,154603.2717756026,295952.1210814727,-136793.93096944445,-124004.04919887608,251448.53194187747,-99018.34247336755,110320.19116431595,-100025.50438605795,-382151.83462865144,-137865.54882681574,-560826.5541678478,2.51058376529796,42187.65164588911,262695.07300488494,-31000.260632413097,-431567.89426080784,259446.43094403853,44731.42790197501,-75784.10718230772,43591.42888996666,582177.4446294486,129992.50191383093,-12698.120668661966,205772.84337091315,-133932.96231268378,-90463.641375703,503763.3946095817,138825.55959513856,-75379.39544843344,-69457.72892979257,206138.91810877368,-622401.9072609707,217213.21857123845,-84871.61955796796,-219372.23117831635,545504.8535094181,-117665.25983220577,-454926.5973488568,-194654.46028131543,-86498.72728133145,-374040.31778327323,70391.58339262193,-293401.1208341315,-72735.31313359117,69555.86486373456,22358.150052732726,-69152.34231137329,339989.49384132767,439958.63813840365,155237.59066458434,-96055.80769210642,223388.07180147208,-269064.05473222653,648788.2261291692,-110812.07048842749,284823.1712662991,203948.43709889235,955591.0588493659,39779.770318889845,-854898.9933913506,-135831.6709259148,-591072.2601526813,336137.30178108724,-318144.0061796469,-101121.87455882366,-414617.3273373084,-187900.20981874995,-619649.9751632127,-6837.974509101196,-1508.2135263497362,119011.3049234594,579845.4217273551,318797.5098442377,9881.817025074954,146581.79429759338,-200951.33342902092,65467.70360090572,-21428.005458444455,302356.7673570605,-77685.403596142,-339916.2000652085,71529.73348937432,-321482.01507174765,80254.65711815361,-180521.59078260555,892735.3343364683,-168832.67975993437,-129984.45617947995,-289253.4206071493,-215216.6138704374,-416175.6711251593,129877.55349923007,26261.575618969684,4645.717894845954,-95246.10732940093,-601169.6127235679,-75463.56789643803,65735.17557495166,58966.32925243597,164882.6478610369,-338292.7581739978,6899.709864404415,-53724.507530873045,-648713.0741637165,-18545.252061902585,-178448.52739800248,-144734.19253807244,62950.05476341567,-123205.41262592662,29021.41889109127,-138652.37357863248,-364777.80113502726,125409.38666351873,490456.2186024842,-133009.1204541302,-622054.7223199864,-49873.537875870126,42776.88234673924,328664.38050210435,108256.2131253576,-458788.5805904678,735806.9409462452,314383.0189318141,7337.486018568543,-107655.43527691647,-15224.513135916062,-319157.02173145313,67281.59046547046,-101082.45890794383,-42878.102803268725,1200665.393723669,51375.56349553426,135840.45701549528,439398.9670717197,257336.44940858288,-128721.864280247,49413.51794730048,-252654.0543442157,1067481.7349523788,211654.21079597174,-196208.4166864862,-11224.939359964772,-325676.7793864049,277860.73736929893,-450102.1275529804,-242285.29072108495,1245310.6484421908,32194.961531213958,-256063.3895228192,117891.23748200614,202843.32753885418,-142978.25621902026,1130108.8304467474,-13885.957023367637,-106628.69512679883,58195.13844082254,-481499.0897538108,46993.12771518901,370835.6501239981,-219573.94368063525,-80069.79990177117,42102.63658577376,-274467.1888561281,1210890.5926900764,-32796.60082299132,-194950.89864715294,8897.09207287822,-352537.2192030965,-95061.33747988688,-107961.82757769227,-121287"
     ]
    },
    {
     "name": "stdout",
     "output_type": "stream",
     "text": [
      ".61857439156,283211.51692666416,337196.4708180904,493044.05175082776,255851.17309573584,63893.933837726836,-171711.6636562693,-72171.80921838929,-37989.20465383729,-291637.73193408066,-14886.29899040423,-481536.33049194573,-555141.8911461651,-345438.5350749559,-135869.1412630539,-9131.350161404333,-136904.6253481785,-3482.201624380965,-18498.12672987224,-144637.36929051194,284316.06326022465,35526.436561962524,269269.22466616024,-575513.3031103954,-164014.54839280547,78909.3626003322,-115434.22483054985,-74002.54632279222,118498.7502314577,-224583.93237890405,-487423.7733369999,-12507.423597691373,12453.974070287688,-28753.104236098945,-82885.52533481181,1268746.8900277887,-176150.4864178791,331379.35795844713,-147827.23842212465,-60842.330875779044,565552.8688807827,-431120.0216986986,-595882.627792843,362762.09156592574,-142782.67095753274,167451.52650722364,597141.7053819329,-20871.855466946476,22983.468075605633,-88479.87418984676,64172.45320556843,287993.04402332846,-450883.7008401677,-763847.9447875441,-111168.75678747025,-298418.54642445827,-394289.543905681,87338.83074220757,-74827.23913231357,-135786.85478616867,405705.00044095167,25859.194025037985,146390.97416269596,-73528.53001376377,191892.3706736491,-102739.99540540611,-330189.7464200874,1200548.1285452018,-165364.96185532556,-444046.6988477325,-5896.288401316029,-127112.86188348883,-119099.6694226875,59517.48949363363,-7425.255155575353,-269200.70531869936,237617.30469055925,-338994.0887633907,-161467.82615163442,177811.63956429798,-25498.63967182075,-276249.6671264823,-551901.5746426631,-397398.3996903478,-105923.66892444606,65747.05763800132,-238942.37244222077,-661698.773074617,-485689.067817625,-190945.11946175818,192334.7824953861,-490993.8970948569,-77329.18096954608,230661.3634795123,-465476.19916624547,7131.823667496478,344719.7482098411,125854.44851140343,-506535.7683053898,-383345.4859024171,161584.4224902184,549286.8649904147,-82408.28960094613,-122681.25718775978,-190269.04392720218,67278.51368668153,287959.5993036036,290448.2219823461,14317.934990913722,236296.71809338807,-287376.8880681125,-92740.14735708856,-301234.5841006954,-251580.6054005269,-809315.8018282531,-176473.33166413126,143040.9126015223,251016.56349578736,106451.5258911189,548172.3697114623,43026.4234447171,339967.4458100907,-368718.28709815943,169536.93276284708,-27671.981145205038,-148332.1324449601,414777.9224295578,-205624.27142267165,159318.63107578608,-190300.67784940067,740579.7539389714,273652.9863192632,612344.6819234621,-712450.9025914236,-478665.6487616828,27423.400176637206,89076.18002141033,-1330358.810245179,827088.7346018573,248164.314892589,-91797.28988404336,-402591.31637765525,-88986.00578738815,3280.939479321194,420657.40226112417,-219097.1529205297,85801.15857540537,-239179.38953698252,-364737.03283770656,-494848.9112749479,-157520.8909729317,54116.23939637786,-315128.007790047,-108779.7165868525,839065.7149483302,481902.82144236495,303605.0215281521,65918.48322631168,-85793.21918452626,-338625.9816173017,-2238.1010615904834,-235971.7520947753,18693.531856221998,1034478.8244845442,221083.61771056335,46232.0557103157,-249006.01511676554,-276845.25736146414,-67883.29810875402,47888.373499796435,-624219.8225363292,105620.16195972302,-191983.69418180073,488532.89816331025,-362378.070194051,107936.6133729449,31799.577851826292,-114088.14916613424,-158565.25723744975,-252199.2184424908,201561.1384735104,136045.47788002738,-102052.28177444865,1844275.5067976553,919415.9171405432,4493.608572315249,26682.095158632532,-292343.9058815215,586509.1117750345,-188536.98795780377,-131830.0442636837,10939.225019490681,136348.39604143935,-303514.36325915525,-359707.57678082836,-119126.98749831563,-184582.48634895505,-220586.56261161983,92715.91186369439,33127.662144532136,-37576.43010493643,130911.11723691387,-174196.80394620702,-106066.87753460824,-452773.78246746573,-27927.344149960107,-166963.30693428052,78201.18192229529,105230.9770192054,64227.27014978678,105760.05644103765,-297489.1283628408,95428.75226486784,-432885.8594116758,-587634.0109691288,-115333.50827602047,335852.98784229707,168298.11605285216,-32764.141528824053,331181.14199316787,83841.84265008003,-99364.18598106422,3560.1196703567575,-168157.56492979766,-363151.4172144702,294741.59912167914,-67263.25079326516,-27730.62726513348,-682933.170110577,182300.34078002206,62558.19309694543,-66824.6729634009,8337.979732941594,119401.39918049541,-250203.35402689915,-250696.76156403546,-134921.04032151887,-81926.13325659659,-173826.1205055994,-375284.6801338099,-204751.36615873157,97889.81001669411,425671.3550277048,1024099.6428845045,-175236.3780038404,433350.7564534827,-628650.1413154403,33088.12878665466,-205002.20937413012,695288.2862452987,-439760.39081214083,-581951.8503299133,3687.1242248599465,-27240.565247734452,27893.398079121485,134013.29363152417,-532800.4985361794,664745.5505769724,76410.98043242795,82551.3003565452,394907.2297999916,-324093.38203400373,83730.77540012478,-7590.9223222601395,-24083.954843699576,100455.37721057498,-1552.769631983453,-401386.0200082199,35415.49337500492,-203171.94081698125,148185.65150977846,-27092.44503995529,-507484.8623380656,-63896.05501268012,70900.50290477854,-157250.85690439364,149845.54014107073,-235835.98588914212,340498.40492507356,-291905.8175527818,1166751.181669054,-275937.28629924456,-29817.904844628716,-154900.28767157847,-61489.54503917441,-623861.1846524284,-391423.4177879481,-141432.13899704276,-98983.69867371494,-198365.29783184195,47389.69352555745,119837.8263734208,410265.91926241905,-273494.40835115674,-34950.24317184081,128217.66158308747,6108.3294817075375,228501.57736319228,23229.603118741266,268187.3846803716,102223.4418569718,1923478.4707171079,424222.713041937,-102324.1779245286,-390135.8911718029,90630.95222584205,-98209.85170011401,-43659.47643323439,39587.764744151136,-445175.42195441143,-134992.68954915076,434919.39183943765,-163526.32313593128,-53800.78514687647,3057.013242209614,468630.8880811024,11128.84763494754,-316234.2184011467,-607870.1953553829,-165016.59396481852,-275219.393824349,223856.4848239067,191153.71085073537,-40775.01356991002,-128247.29434689396,-55516.67730882792,32235.0274603644,327255.33028172416,290676.818841897,-323107.0770272369,27696.518409460343,-576405.5236043411,-8264.311829117276,-230468.78484532735,116511.51762919175,-96740.18340497039,-301392.00172063004,372274.4566594477,-42851.6889479011,-38299.69474728836,89537.09811630879,-175911.16655324458,1072485.0124523395,-364776.974785064,567480.6775828479,-102878.49511911225,21871.46886409317,222920.19620211775,402076.225694484,-453745.8382475548,269352.31520806067,102715.91541948238,1664891.459380324,-34639.07984849543,-355306.37526723015,178219.07374097404,186986.3819275606,99865.15474819302,-320278.1237046262,191381.64976073778,-305367.7189748829,126031.33250212553,-210345.0994518673,3680.6693248851516,37289.5354010631,671602.2120195811,-10450.528801067767,-62678.59625244924,-16235.435742189955,-69331.5618720049,229677.80113373033,299360.73385718616,-184560.2457499334,366988.34545720427,-613614.106121761,-587196.7449725699,-684589.6459745169,274242.0496918711,139997.72820250687,348189.88917508355,-2847.091312871809,43619.18585950434,-118874.37003273437,-357020.70521407906,49928.98488828968,-87432.34793805414,614667.9878854412,-175080.8900904679,56515.115773670834,-156120.77513880847,-151708.44938942365,75355.90652289217,-682134.0376863017,2765.5346005387078,-254626.7461457286,685372.4923234462,174816.19382074248,-556742.6039266897,-281592.87987441465,-41078.92094681152,45627.498672775284,-344839.9808508392,307092.64363720024,-272702.0719926233,-222704.9282529479,-166349.51986135013,74177.74798791696,179253.8866123031,57984.28571895208,42612.34256120014,-294016.7335228313,1083052.7455241734,-509738.2400169341,221553.199924392,-213642.64548833633,-291049.5065570552,156311.62156974326,-456650.78244807443,-382678.1390202828,-117060.25725050287,-195177.1902840093,43489.09044982851,-428701.5130999819,120970.70801136496,545804.3846332879,-37180.261278453065,-263624.7365195061,-313687.0272975747,-245133.35177594796,-204039.10106682978,10194.886970623109,-515401.32895414595,-190014.2118268224,-15118.33534462567,-296052.9910462758,-133751.77802067003,-201757.38157664682,36783.88934590146,-41462.93622410309,-287360.89227989083,164388.30039014734,-2958.492599818967,-356153.9172853145,-223883.38500850162,208333.51412763938,554066.1419221037,-315853.5429341776,53613.224352073965,160150.5084901503,-38306.430516508546,34233.013652080175,-154943.3853619949,-209811.41282620904,-215185.40169071907,-825309.9928345297,-60102.60456094085,-27034.979003859713,103755.53065603737,-279366.61518399045,122890.1881843223,-155826.1337283769,-481081.6026930358,3177028.9598631267,98879.90004877749,-202893.50336390414,-460644.62465516775,-514925.48768304393,-181273.4425101748,36755.87665818813,-62622.26357421066,-109950.45285552465,241333.16628461034,-302860.1274783464,1250720.1770111672,147244.45199896645,1388685.696110064,-319168.18150998774,-63816.66722933211,-78235.96025598333,462536.5215335601,1609948.8655826913,2111846.1636734027,262033.22326805902,-70873.29983590465,324190.2370647216,-82008.02091062466,61318.55278455085,-3978.8889616531137,-351946.4857093245,-187441.87703765,-459641.5794326787,-24629.703415865275,622821.1472995682,270867.0424942551,-64670.90299107519,-5509.617133364884,136052.01558470697,71030.27161795321,33896.31808387957,427583.4183311546,50348.786620875784,1313233.8441266844,-354907.46389800636,154490.23253501492,44522.878688634715,62641.75466202372,-419608.8102365683,62967.66907531844,178748.51482474813,-128442.44984692291,-790130.0273191998,155150.6425186717,-307296.74804521404,155365.50210243306,587989.8989778884,16336.704464951223,5731.528949542501,387089.73896401457,48886.5025619169,-143932.64726707272,-55302.93414757671,-11978.91168957221,-367561.46724064153,-347331.5927419541,11835.040236488949,19237.993261469168,-27685.047908260003,163089.39721825198,-290587.6949056496,339547.3176222816,92221.9007861595,14387.09067615551,-249801.65886227155,-80929.96961631955,-387828.2373517136,-178010.4217808035,-71458.84846691968,-21003.24717283871,-473280.34809976624,-398687.37313453073,-165359.11108739168,-13355.803425272305,168298.11605285216,366484.97887371574,240606.03015941544,-817135.1040550068,-76929.57697393086,-146632.42770689196,-37812.18433661678,320245.6264901058,-28075.90016882636,354748.683869692,-226799.73586990774,-66216.29105117751,-85122.24376267073,-268707.49981069326,-47375.92906681612,-350493.86619728996,45180.1239884954,-246714.782836656,118817.04862241862,-106574.01824250114,-51651.39402075488,-75637.51452268717,-149409.2334152731,-123188.62684116865,28145.546556486974,152815.13827234288,-8709.986524586371,-62267.67985088809,19684.077240432573,67248.67268312548,-10926.803843944024,-798981.3186960499,-72452.4704851343,-496550.5531373191,-83130.52528968749,-274827.05450790277,-185081.22475364374,-188772.37252439084,12152.111622849863,-195105.8841101978,-316979.9668720551,-429969.39722962864,-402722.44511326135,149665.12239084495,-28930.96951243452,-326473.4945857312,-611082.6482840687,370747.0916557234,-412841.40415478905,-83826.11973198019,-163008.35528433617,-120789.05576717934,320380.2756262874,607962.499501251,613994.8262088773,-62793.24503389376,-214461.90437002108,197599.58640254778,370250.20266584505,-156752.8772818206,578937.0202933112,-525594.3253903765,-60342.32083807726,-188089.45587872475,-227836.89418274665,-81004.68640168384,526414.1553163069,-46947.01658108297,-232561.60164673394,-297901.81899382285,279649.2429558479,-67916.02030598815,-174276.5040517703,85330.83073230193,-326019.76827981573,-271868.4779776038,-316273.0698980636,5124.703995820857,-198452.962957381,-22381.843063139742,-296820.81627194374,17451.832797460796,-125972.10836810095,-296036.92160230834,434493.5676818518,-566376.3667152628,577428.4214643162,125379.45290285998,74283.36733219383,150763.00217211276,-443190.7052939666,-402613.11220288055,-108889.22717730049,361810.87368798396,-169284.7068025373,22899.76194468501,-171853.9923649029,-94231.45598478863,-436153.23697344575,-56672.09195781359,421060.52469480946,139483.4626110573,-167198.7712901131,677492.2649094143,152925.49101983602,-159260.52664557946,-56182.464759071096,113429.24989201997,-136878.5448822475,-85918.70423590203,343744.6592775655,-406746.43147832784,-149506.3935225451,-474335.0064943096,-60440.94496042641,577888.7695740616,9324.783672442727,-321020.3475640994,136332.4837379658,350622.8811979016,-65556.21536517794,13428.448350318991,122780.53985729803,180852.07821923177,141979.9351886908,-429372.4207764723,-379175.4537135567,-104274.65581889643,-54980.21774900987,145627.76516994022,-75741.21972513737,134696.09726236245,-94428.45388508994,-374913.407004937,-64758.25544977386,-438404.6911450186,186813.3750374023,-605251.117889746,-8006.13270731407,454779.894135259,3575.5646919917463,195065.30833238136,-260668.5494380507,-204725.8563395628,-459202.39230504434,-377746.61615658225,-63284.68222446856,188105.04516110988,-366636.3729184493,36685.747519423516,184793.73420964638,-566872.7061520868,-203461.09187076974,-261665.53506227798,-695350.8518116543,164255.59157705546,-217144.0043563969,185923.30751565238,-368179.36690738203,220276.2570998535,-392542.88560096803,-270777.2085194398,228829.22718977707,-199334.16947366903,-122647.66418356133,121443.77384563626,816248.0628298982,86067.15996988027,505376.5966617017,-640859.1770311138,-402533.07407356834,-294926.9518734037,35776.96982663383,-247593.33360914697,215129.32123840874,-280152.4834067948,710446.8393409248,485663.644081091,273916.3540197165,-193232.14218925152,-287256.2110559688,-205515.4224667125,51833.33352975086,41143.14028078368,26842.817508738088,1025652.0032643245,349231.26319706364,-218469.59479317744,9713.984315870099,170668.43695156852,-388746.20752377785,-19364.47611743439,506073.8205224509,-285825.85666507744,-117937.72511671776,278870.71322048566,205465.1036902689,38559.744929533495,197949.2215625215,-566944.1148639119,-100412.7920595868,-242194.45647822536,-342397.90750703186,-119738.5002048785,149320.612435601,-171102.59107715063,68062.38578853066,-110997.54406323907,158865.7170097757,-331.73378705105836,224445.20550496454,380661.80711452087,-302699.9572150587,-222085.80625840227,347342.7133260888,-210114.3343543571,51800.49008381331,269116.7081254229,-36533.76527324304,-549284.5964744729,421927.14558698994,206417.46954851254,-189242.74354832098,-125301.39656646832,27549.555704265782,32189.16354968187,-87940.3378770823,-166121.84616573167,501077.37721689907,-249517.10905147973,275029.7109783329,-156047.76694665977,-69008.78468172177,-924584.0024388025,145937.94713994494,211621.73769932098,-114779.1532144498,-76828.1959554517,-409938.2449390628,23847.028187497177,-25577.52797070809,3682.8127046808395,-522159.0811640688,118009.5938726959,-180858.64240728747,711401.4716219804,-183016.00915189277,140413.64242238886,38456.47446260624,115862.49339695167,19297.755426771488,-268976.0380771463,143295.63731243645,-61468.262080760935,-170650.74606044454,-271839.7618360165,-724867.6706027836,-287885.5838687209,361196.43834612664,-1745745.0525420993,-185734.31382878282,296065.4037027792,535087.79159819,156052.97875336697,17669.90442463654,-405573.6396683025,-484175.1805846254,-1166.8132641237933,91622.07044752625,9219.150692272151,299299.3943026974,174954.4354290173,84995.36542231696,-145785.41598415255,-142151.95591367717,-136881.33920543647,63969.82563200197,89681.42182001052,-526007.8939724945,-127528.0754127504,-310202.5088081234,152570.09452361727,-649675.6929323489,188359.5325851811,-338059.3570551146,-91055.47137952957,-27247.012278907587,273176.75442595157,-201734.97547589306,-499095.4401065759,-119422.99163598125,-77653.8279972682,1076099.9302690846,-53352.6388626429,-22746.21088111634,295095.10375949345,413786.2041703224,-231889.38106773107,-597474.9013153624,-140580.67768513286,-112968.40172102525,-176726.80462157622,-22864.89831546484,229371.7098714499,118883.6708057294,-211845.98410545458,724250.9134630352,-398894.7178991982,-190752.20438305358,-175919.08226335846,52997.18088257558,638961.5881797196,-70648.878460955,-753682.9053692686,693508.082488651,61949.14868496349,-341077.4867594633,1257095.2397184665,34949.41322137036,-382523.4155906533,-332708.9534176824,200199.34574998033,-4312.72915442"
     ]
    },
    {
     "name": "stdout",
     "output_type": "stream",
     "text": [
      "7888,80217.24418818258,-280586.7937164755,-144112.5654966034,-85063.07120974947,71728.71408624755,160860.4577079213,63699.42248883291,196747.27699949496,-289351.63036593684,160589.5653599724,150873.33726343824,1225581.3306056058,-421939.401422438,726858.2864975749,1078823.682940675,-121240.25025710114,175960.5306311771,-306906.2234471558,-198922.54278224707,128459.65187682227,-597920.283987507,-146236.11031890803,-66241.2517440943,-747717.6105784192,504638.59692590515,61722.42579197432,115671.89936858452,-150324.09836016115,139000.18012082184,-323860.8526392616,-65570.5426112456,-44681.15690257717,-569869.7348277194,28855.56219295129,147199.3424553658,-153983.527165325,545191.815760448,-295198.23254054587,-443527.5815945553,-266037.3811889529,253998.7921796395,-128008.20728495096,-183509.31077877266,-376885.95378444664,1253937.1645436992,-276791.8418716923,484698.27581162547,274597.77057150844,-163520.0630841403,-223178.00321190304,-248156.68859348743,-684663.6687301904,-264760.06897319225,892482.9866055159,-397653.84784158884,-76611.19635208033,592952.0150062139,241249.89434047267,542871.4441599201,96659.10289315176,-129325.90218921383,58350.24811575113,-145575.12762398348,-312521.96592049004,144458.1593053877,156302.8673691438,-160051.4793628799,102756.31175689763,3255.6667310604116,7918.248838815516,23997.89804175272,-304530.0830019963,-234754.6800754077,-189877.62166995188,-289836.7861805965,-442958.2693391454,-11163.272343292652,-389833.2615965857,511814.85033519904,116500.90594531929,11612.718849580764,-123704.15662995537,-251141.82909782356,139713.65150758481,-158770.62051411893,246117.46371097746,185543.91382805834,-290154.7306652025,-279056.8917024633,-574614.6033806883,147232.64854635895,-41838.631601475114,-208191.35281606912,131660.71895461992,-76819.78746414039,-183135.2467694351,87588.14352424769,-541845.283465116,-310017.96350179176,-100508.575460485,-161234.5612284949,-155811.19542314994,-168401.2125252472,212292.9445897277,-1015259.0834754386,128497.15833327842,-76308.74792756762,21387.867002895742,-69896.50038074849,-199737.79653657292,203238.1057596383,-223798.2538942781,-246207.40617361746,166341.60378315588,-10659.932314021826,-294502.12998758716,-574009.5271838325,-205899.04478801708,-366611.5448471979,1170.6481139004384,261961.8065477851,158696.19797464702,156951.33290713947,-64641.52285749294,-190644.01169023398,-45276.918137399975,64230.190565631354,-118013.33742480096,-434928.1102292066,505.2974158032699,-333172.8313849008,194434.10535977245,206724.7821050357,-205432.51418525173,234805.57151855298,-255130.17731156925,-276241.2700037532,-472855.0796542334,21452.745144493725,400593.4210207467,-262112.56034226314,-176264.84401812305,318931.64728311426,-361278.12918388954,-78682.8392118518,321816.6701268781,35584.338436416576,21019.51754367397,146396.4954966832,-410543.64218914026,173831.36435326474,34664.788469968036,-453847.49947469047,-292490.6525070617,182544.22582983694,-196848.71195779004,15938.60581649677,954228.34853586,448345.61465625535,412028.92509825516,88886.63173710633,131796.64378784574,-376467.11605951114,389603.0604294724,-221232.68882231214,-18615.413391401875,248299.35466294305,-213991.01439304257,-444836.82500681106,216937.1746942122,-810695.3726580121,14394.112615640717,-141647.44838673878,-13741.081043773704,-259545.9924519272,68937.0628111265,272035.5974115076,-454781.80546048377,287440.62448957044,-34681.17903383298,-134024.13487174132,-318251.99751070165,-48731.17406874568,661079.1069161483,-152217.13357392125,-184465.4611602618,5725.107809774808,18367.29438737858,-83106.77822467232,90004.75173165342,-529796.4946760215,102482.77042162359,-435168.532361092,286653.22483398946,103353.72984177107,253022.31032147596,-237009.03585990466,-189440.30439246894,-263430.08783760143,-267145.0884158153,-253630.1897785868,-779462.5439586425,59521.1367731567,120772.2320511057,-287266.1256376903,1272822.514286276,-315790.67685907864,78715.67823137723,12471.914418138613,456366.44068387226,301802.1337781438,-29056.763402617566,-194237.22300247836,-237268.6627141535,171449.79108813463,10540.201420038826,411692.11457658693,-509213.9289912439,50475.30356313166,-137874.05811123658,-48018.9077575552,196699.71955502412,-43252.2199767734,236755.73314266873,149424.65635389855,23132.227384174093,139391.98373667905,-119795.01549573518,-112057.87032763846,-141233.4584755292,-514026.32951302105,423113.9836368348,-313204.4025675991,142874.0900294615,-51899.28096051675,296547.70653523115,-554189.076615254,259563.0339420674,222195.28418458987,584567.315551861,-54870.078246536345,160747.6570154158,2213111.0764664523,-250546.18684865662,90266.96662806942,110259.89562495248,-70890.50615219919,377215.56248616887,-220173.56904161,-112058.96422569976,54679.10464430321,-646877.0345107152,-335683.36604241916,-27468.65401959298,-77480.62873234792,71848.5852320817,-106735.94435424078,-431463.58503101673,-37573.22643839514,100514.17885745595,34943.51166119044,-210574.66753909778,-10027.504763802306,199624.6499160866,41268.28311131534,-431306.2489408178,-301069.0934452491,1084724.2105664806,123862.16773585626,-292290.74284778524,-648092.7907174742,-204493.838420919,-54894.12534449912,-74954.15823011083,-276274.6167442157,-88398.20723740896,-44567.07207056607,100446.50874270138,263805.26389749045,289934.2676851307,-1076994.7420744163,215756.07259533563,496635.49078649236,-263988.2657547152,-301365.99193919875,61568.68672826707,3960.805191335037,150964.74196603606,-164693.21406617344,-208435.11435263618,-436376.3870661662,-371106.9057962744,18386.412805611773,-355535.2688081855,410726.3871023013,140080.9181544609,974137.9089800462,-22854.869056322448,105669.54371998238,81085.0147533656,160328.84322401253,-151927.67441852915,-410117.3222836705,-49498.259323854094,33497.22196746618,355472.52386322943,246596.9540733438,-614202.5886811555,97860.20330243211,-273194.23175900517,86057.51879300163,-106388.66723526278,-318979.21278496267,-308290.3033001662,22934.579314681305,692080.6941983632,-240689.26592194565,150405.16268151134,1291835.1780827336,-244722.71544758507,57774.59223699635,181120.65491903722,-742762.5918256585,13305.608271197605,-152966.94894422175,329254.1726627309,-86380.67389671427,312774.8093619715,-135482.21857298666,124356.08822444166,-145525.24331932224,252666.90526729156,-37718.00858792513,96624.6711277478,-140653.15050382479,12948.841619657303,-257968.61087262744,-246613.62849555764,7090.470784853777,-543391.98278413,767285.546270959,165205.8439830006,43372.11349807585,-187966.42155158802,263872.0832591037,15954.954703052072,-319105.5278586666,-97463.43247787424,11260.260107833834,-481095.7578503052,-131212.76022100647,-769997.3165826211,-381064.64530299086,-357417.82858712936,-20385.433861830632,-290289.83924203896,-236326.01249180842,18511.213823470196,148568.00843381856,-62946.96625029153,-632890.0874836154,-6241.7832251688515,-235224.50870010647,174388.18061383904,-87126.23703221367,-124362.83330117256,-382843.15885232773,-330099.5042049464,-293802.927080393,293667.2795752172,-97380.39758769143,-846533.9461649944,-62897.04842673076,44490.54905207589,401169.5821013134,256201.44850611014,-442869.7761286295,-19784.329166801777,184816.94528537986,-280431.9240843278,-11137.237887020046,53360.85406818951,-180029.01596769405,-178836.7990812917,-96919.64048973809,-209921.58678188245,-287226.4444479235,-495260.8495552935,97281.94361905611,164934.83074747684,227546.42376658376,-53237.064869353315,294541.2110200212,331182.83716271084,86779.44908473185,-17705.950524587224,-206583.11363523384,49853.08636672803,171080.65243058905,-117881.09454350875,-125304.4212534339,-405571.2182619791,-44110.55114609919,-276846.3879595194,-294850.7302595102,24382.891324741682,-23913.524542105984,-9086.942474509438,117506.32887508113,-213765.08305907066,-58062.75754920553,124896.66558598135,1170084.2375299188,44262.06071127161,209718.048678471,-242466.95595121486,179984.13668143362,-144410.53297596195,-189162.40469604245,-152667.81731810467,-28529.615676949037,112005.08378489921,-184278.16857536518,-124222.22592222733,-388232.427501685,-326553.50080250314,-624051.5213572392,-217786.96625198016,-209812.69502998446,-354157.5884823983,-212620.45289379027,20246.28466452512,133230.83223097926,-287189.8570353826,-263533.5827675857,-132453.41790143773,-105240.31084389979,300185.0865843046,-162068.96191906254,-265334.4196115232,1834.1412919902398,-69362.53703795595,-74389.96925408783,-497576.20208833297,-264359.13242920407,-243249.68946197207,163891.76671054278,-29706.06425982273,-175039.4690107697,-4143.646789023715,118826.81201444559,28418.62917779343,-298359.78417928546,-49136.286925100365,-18619.244169799567,-227286.24989861064,45014.11279473307,-290727.02824698744,-393460.3411889148,-173364.11919149404,173656.94190601344,585077.3895296346,94937.86988957363,-129553.44057462324,-214035.45988684095,-665236.7157147649,85605.82696900715,25101.697418937012,73998.05028382131,78159.76484386189,62042.15833821815,151783.15892735135,140252.80729274644,-223925.7062405586,-122494.86924746362,-85989.12521087547,99321.26365016997,-290107.3451976177,-6672.150636018299,-334651.6904413121,-183411.07557764108,2133658.7077936996,163113.86736280177,22898.89362357878,426864.2846484989,-469112.851110533]) Intercept: -2.9798968263168238E7\n",
      "\n",
      "\n",
      "numIterations: 51\n",
      "objectiveHistory: [0.4999513287257806,0.3933766646402361,0.10059954285504576,0.0909540421957288,0.08261294619084332,0.08033428694516428,0.07868202297515518,0.07691436936128754,0.07656694789384538,0.07612681223269528,0.0758678937449035,0.07574380615594674,0.07567255355316234,0.07559464588255425,0.07556405081705012,0.07552598183485355,0.07549963239902843,0.07547528636527805,0.07546039889031543,0.07544878128719117,0.07544082429352389,0.07543175092990302,0.07541367492404306,0.07540615510771617,0.07539692586022444,0.07538863804898956,0.07538065451775587,0.07537257149918997,0.07536541642353485,0.07535943263772545,0.07535473570196728,0.0753512286946358,0.07534569838115272,0.07534356997857336,0.07534017453953845,0.07533705503510187,0.07533534319449346,0.07533116233706084,0.07532945493450571,0.07532666494708883,0.07532470520868918,0.07532162595439545,0.07531849033834499,0.07531516597315818,0.07531245690086577,0.07531015506460863,0.07530777790332462,0.07530533800943912,0.075302002039604,0.07529921035922707,0.07529597516674118]\n",
      "\n",
      "\n"
     ]
    },
    {
     "name": "stdout",
     "output_type": "stream",
     "text": [
      "+-------------------+\n",
      "|          residuals|\n",
      "+-------------------+\n",
      "| 412.15276976674795|\n",
      "| -767895.0032207184|\n",
      "|  131277.2134665437|\n",
      "| -634876.1045000292|\n",
      "|-102938.24788755924|\n",
      "| 193757.02808455005|\n",
      "| 207213.82493167743|\n",
      "| 118055.83231917024|\n",
      "| 308584.27891164646|\n",
      "|  306426.0624011792|\n",
      "| 360900.56870378554|\n",
      "|   52488.2821607776|\n",
      "| 141071.52487400174|\n",
      "|-193584.34176416695|\n",
      "|   308282.288923122|\n",
      "|-172392.29499951378|\n",
      "| 130767.25863386318|\n",
      "|-222046.03844140843|\n",
      "|-53801.391875989735|\n",
      "| -4.722123693674803|\n",
      "+-------------------+\n",
      "only showing top 20 rows\n",
      "\n",
      "\n",
      "\n",
      "RMSE: 256722.38750802382\n",
      "r2: 0.8493933892352158\n",
      "\n",
      "\n",
      "Model was executed 3"
     ]
    },
    {
     "data": {
      "text/plain": [
       "startTimeMillis: Long = 1591108657739\n",
       "lr: org.apache.spark.ml.regression.LinearRegression = linReg_17fa852a9b35\n",
       "featurized: org.apache.spark.sql.DataFrame = [Price: double, MethodOfSale: int ... 12 more fields]\n",
       "lrModel: org.apache.spark.ml.regression.LinearRegressionModel = linReg_17fa852a9b35\n",
       "trainingSummary: org.apache.spark.ml.regression.LinearRegressionTrainingSummary = org.apache.spark.ml.regression.LinearRegressionTrainingSummary@7eae722c\n",
       "endTimeMillis: Long = 1591108661605\n"
      ]
     },
     "execution_count": 119,
     "metadata": {},
     "output_type": "execute_result"
    }
   ],
   "source": [
    "//Assess the above LR\n",
    "val startTimeMillis = System.currentTimeMillis()\n",
    "\n",
    "//just give a LR a go with default settings values\n",
    "val lr = new LinearRegression()\n",
    "    .setLabelCol(\"Price\")\n",
    "    .setFeaturesCol(\"hashedFeatures\")\n",
    "    .setPredictionCol(\"Predicted Price\")\n",
    "    .setMaxIter(50)\n",
    "\n",
    "//make a dataset for testing the model and printing its summarry\n",
    "val featurized = hasher.transform(train)\n",
    "val lrModel = lr.fit(featurized)\n",
    "\n",
    "// Print the coefficients and intercept for linear regression\n",
    "println(s\"Coefficients: ${lrModel.coefficients} Intercept: ${lrModel.intercept}\")\n",
    "\n",
    "// Summarize the model over the training set and print out some metrics\n",
    "val trainingSummary = lrModel.summary\n",
    "\n",
    "println(\"\\n\")\n",
    "\n",
    "println(s\"numIterations: ${trainingSummary.totalIterations}\")\n",
    "println(s\"objectiveHistory: [${trainingSummary.objectiveHistory.mkString(\",\")}]\")\n",
    "println(\"\\n\")\n",
    "\n",
    "trainingSummary.residuals.show()\n",
    "\n",
    "println(\"\\n\")\n",
    "println(s\"RMSE: ${trainingSummary.rootMeanSquaredError}\")\n",
    "println(s\"r2: ${trainingSummary.r2}\")\n",
    "println(\"\\n\")\n",
    "\n",
    "//print runtime\n",
    "val endTimeMillis = System.currentTimeMillis()\n",
    "\n",
    "print(\"Model was executed \"\n",
    "      + getExecutionTime(startTimeMillis,endTimeMillis))\n"
   ]
  },
  {
   "cell_type": "code",
   "execution_count": 120,
   "metadata": {},
   "outputs": [
    {
     "data": {
      "text/plain": [
       "evaluate: (predictions: org.apache.spark.sql.DataFrame, metric: String)Unit\n"
      ]
     },
     "execution_count": 120,
     "metadata": {},
     "output_type": "execute_result"
    }
   ],
   "source": [
    "// define an evaluator for the cross validation\n",
    "def evaluate ( predictions: DataFrame, metric: String) = {\n",
    "    val eval =  new RegressionEvaluator()\n",
    "       .setLabelCol(\"Price\")\n",
    "       .setPredictionCol(\"Predicted Price\")\n",
    "       .setMetricName(metric)\n",
    "println(\"Root Mean Squared Error \"+  metric.toUpperCase()\n",
    "        +\" on test data = \" + eval.evaluate(predictions))\n",
    "}"
   ]
  },
  {
   "cell_type": "markdown",
   "metadata": {},
   "source": [
    "### Run Crossvalidator on LR model\n",
    "Construct paramgrid of regParam and ElasticNet\n",
    "\n",
    "Estimate the performance using RMSE\n",
    "\n",
    "Get best Params to apply in final pipeline\n",
    "\n",
    "One could add this to the pipepline but this takes the longest to run\n",
    "as its assessing 4*4 combinations - so instead the learnings of this are passed to pipeline\n",
    "Then this wouldn't need to run\n",
    "\n",
    "<span style=\"color:red\"><em style=font-size:40px;>!</em>Runtime of next cell is around 330 seconds or so, on my VM with like 10gig of RAM and 4 CPUs</span>\n",
    "\n"
   ]
  },
  {
   "cell_type": "code",
   "execution_count": 121,
   "metadata": {
    "scrolled": false
   },
   "outputs": [
    {
     "name": "stdout",
     "output_type": "stream",
     "text": [
      "2020-06-02 14:38:10,997 WARN  [block-manager-slave-async-thread-pool-343] storage.BlockManager (Logging.scala:logWarning(66)) - Asked to remove block broadcast_48164, which does not exist\n",
      "2020-06-02 14:41:09,780 WARN  [block-manager-slave-async-thread-pool-409] storage.BlockManager (Logging.scala:logWarning(66)) - Asked to remove block broadcast_55149, which does not exist\n",
      "2020-06-02 14:42:00,452 WARN  [block-manager-slave-async-thread-pool-351] storage.BlockManager (Logging.scala:logWarning(66)) - Asked to remove block broadcast_56939, which does not exist\n",
      "+--------+-------------------+\n",
      "|   Price|    Predicted Price|\n",
      "+--------+-------------------+\n",
      "|170000.0|-165805.71619416028|\n",
      "|280000.0| -52954.83617828041|\n",
      "|280500.0|  421654.2463353276|\n",
      "|283000.0| -250676.2730807215|\n",
      "|290000.0|  737490.8979906812|\n",
      "|300000.0|  229874.6147556901|\n",
      "|300000.0|  417832.1629817188|\n",
      "|305000.0|  650712.7257229611|\n",
      "|310000.0|  417717.0282851383|\n",
      "|316000.0|  55748.07751482725|\n",
      "|320000.0|  317543.3528402597|\n",
      "|320000.0|  261896.0108422488|\n",
      "|320000.0| 132878.09726958722|\n",
      "|320000.0|  626981.9097635373|\n",
      "|325000.0|  -48903.9248617962|\n",
      "|333000.0|-121796.17546715587|\n",
      "|340000.0| 153495.73643434793|\n",
      "|345000.0|  746647.0338011608|\n",
      "|348000.0| -53608.77498348057|\n",
      "|350000.0| -82522.69145133346|\n",
      "+--------+-------------------+\n",
      "only showing top 20 rows\n",
      "\n",
      "Model was executed 285"
     ]
    },
    {
     "data": {
      "text/plain": [
       "startTimeMillis: Long = 1591108662397\n",
       "featurized_training: org.apache.spark.sql.DataFrame = [Price: double, MethodOfSale: int ... 12 more fields]\n",
       "featurized_test: org.apache.spark.sql.DataFrame = [Price: double, MethodOfSale: int ... 12 more fields]\n",
       "lr: org.apache.spark.ml.regression.LinearRegression = linReg_f0fa089a12f2\n",
       "paramGrid: Array[org.apache.spark.ml.param.ParamMap] =\n",
       "Array({\n",
       "\tlinReg_f0fa089a12f2-elasticNetParam: 0.0,\n",
       "\tlinReg_f0fa089a12f2-regParam: 0.0\n",
       "}, {\n",
       "\tlinReg_f0fa089a12f2-elasticNetParam: 0.1,\n",
       "\tlinReg_f0fa089a12f2-regParam: 0.0\n",
       "}, {\n",
       "\tlinReg_f0fa089a12f2-elasticNetParam: 0.5,\n",
       "\tlinReg_f0fa089a12f2-regParam: 0.0\n",
       "}, {\n",
       "\tlinReg_f0fa089a12f2-elasticNetParam: 1.0,\n",
       "\tlinReg_f0fa089a12f2-regParam: 0.0\n",
       "}, {\n",
       "\tlinReg_f0fa089a12f2-elasticNetParam: 0.0,\n",
       "\tlinReg_f0fa089a12f2-regParam: 0.1\n",
       "..."
      ]
     },
     "execution_count": 121,
     "metadata": {},
     "output_type": "execute_result"
    }
   ],
   "source": [
    "//Creates a crossvalidator on only the LR model\n",
    "//Had some issues retreiving the params when using on pipeline\n",
    "//and the pipeline only has one estimator in it so this was easier than traversing the stages of the pipline\n",
    "\n",
    "val startTimeMillis = System.currentTimeMillis()\n",
    "\n",
    "// make some featurised sets for just running the model thru the Crossvalidator\n",
    "val featurized_training = hasher.transform(train)\n",
    "val featurized_test = hasher.transform(test)\n",
    "\n",
    "//set LR with 100 max iter\n",
    "val lr = new LinearRegression()\n",
    "    .setLabelCol(\"Price\")\n",
    "    .setFeaturesCol(\"hashedFeatures\")\n",
    "    .setPredictionCol(\"Predicted Price\")\n",
    "    .setMaxIter(100)\n",
    "\n",
    "\n",
    "// We use a ParamGridBuilder to construct a grid of parameters to search over.\n",
    "val paramGrid = new ParamGridBuilder()\n",
    "  .addGrid(lr.regParam, Array(0,0.1,0.5,1))\n",
    "  .addGrid(lr.elasticNetParam, Array(0,0.1,0.5,1))\n",
    "  .build()\n",
    "\n",
    "// We now treat the model as an Estimator, wrapping it in a CrossValidator instance.\n",
    "// This will allow us to choose best params for the model\n",
    "val cv = new CrossValidator()\n",
    "  .setEstimator(lr)\n",
    "  .setEvaluator(new RegressionEvaluator()\n",
    "  .setLabelCol(\"Price\")\n",
    "  .setPredictionCol(\"Predicted Price\")\n",
    "  .setMetricName(\"rmse\"))\n",
    "  .setEstimatorParamMaps(paramGrid)\n",
    "  .setNumFolds(3)  \n",
    "  .setParallelism(2)\n",
    "\n",
    "// Run cross-validation, and choose the best set of parameters.\n",
    "val cvModel = cv.fit(featurized_training)\n",
    "\n",
    "// Make predictions on test documents. \n",
    "//cvModel uses the best model found.\n",
    "cvModel.transform(featurized_test)\n",
    "  .select(\"Price\", \"Predicted Price\")\n",
    "  .show()\n",
    "\n",
    "//print runtime\n",
    "val endTimeMillis = System.currentTimeMillis()\n",
    "\n",
    "print(\"Model was executed \"\n",
    "      + getExecutionTime(startTimeMillis,endTimeMillis))\n"
   ]
  },
  {
   "cell_type": "markdown",
   "metadata": {},
   "source": [
    "### Extract best Parameters from CrossValidation"
   ]
  },
  {
   "cell_type": "code",
   "execution_count": 122,
   "metadata": {},
   "outputs": [
    {
     "name": "stdout",
     "output_type": "stream",
     "text": [
      "{\n",
      "\tlinReg_f0fa089a12f2-aggregationDepth: 2,\n",
      "\tlinReg_f0fa089a12f2-elasticNetParam: 1.0,\n",
      "\tlinReg_f0fa089a12f2-epsilon: 1.35,\n",
      "\tlinReg_f0fa089a12f2-featuresCol: hashedFeatures,\n",
      "\tlinReg_f0fa089a12f2-fitIntercept: true,\n",
      "\tlinReg_f0fa089a12f2-labelCol: Price,\n",
      "\tlinReg_f0fa089a12f2-loss: squaredError,\n",
      "\tlinReg_f0fa089a12f2-maxIter: 100,\n",
      "\tlinReg_f0fa089a12f2-predictionCol: Predicted Price,\n",
      "\tlinReg_f0fa089a12f2-regParam: 1.0,\n",
      "\tlinReg_f0fa089a12f2-solver: auto,\n",
      "\tlinReg_f0fa089a12f2-standardization: true,\n",
      "\tlinReg_f0fa089a12f2-tol: 1.0E-6\n",
      "}\n"
     ]
    },
    {
     "data": {
      "text/plain": [
       "bestModel: org.apache.spark.ml.Model[_] = linReg_f0fa089a12f2\n",
       "bestParamMap: org.apache.spark.ml.param.ParamMap =\n",
       "{\n",
       "\tlinReg_f0fa089a12f2-aggregationDepth: 2,\n",
       "\tlinReg_f0fa089a12f2-elasticNetParam: 1.0,\n",
       "\tlinReg_f0fa089a12f2-epsilon: 1.35,\n",
       "\tlinReg_f0fa089a12f2-featuresCol: hashedFeatures,\n",
       "\tlinReg_f0fa089a12f2-fitIntercept: true,\n",
       "\tlinReg_f0fa089a12f2-labelCol: Price,\n",
       "\tlinReg_f0fa089a12f2-loss: squaredError,\n",
       "\tlinReg_f0fa089a12f2-maxIter: 100,\n",
       "\tlinReg_f0fa089a12f2-predictionCol: Predicted Price,\n",
       "\tlinReg_f0fa089a12f2-regParam: 1.0,\n",
       "\tlinReg_f0fa089a12f2-solver: auto,\n",
       "\tlinReg_f0fa089a12f2-standardization: true,\n",
       "\tlinReg_f0fa089a12f2-tol: 1.0E-6\n",
       "}\n"
      ]
     },
     "execution_count": 122,
     "metadata": {},
     "output_type": "execute_result"
    }
   ],
   "source": [
    "//print out the params used for the best model\n",
    "val bestModel = cvModel.bestModel\n",
    "\n",
    "//save as ParamMap to pass into pipeline\n",
    "val bestParamMap = bestModel.extractParamMap\n",
    "\n",
    "//these the bestParams determined from CV\n",
    "println(bestModel.extractParamMap) "
   ]
  },
  {
   "cell_type": "code",
   "execution_count": 123,
   "metadata": {},
   "outputs": [
    {
     "data": {
      "text/plain": [
       "bestlr: org.apache.spark.ml.regression.LinearRegression = linReg_6ad1528346e1\n"
      ]
     },
     "execution_count": 123,
     "metadata": {},
     "output_type": "execute_result"
    }
   ],
   "source": [
    "//define new LR instance for using the best params in pipeline\n",
    "val bestlr = new LinearRegression()\n",
    "    .setLabelCol(\"Price\")\n",
    "    .setFeaturesCol(\"hashedFeatures\")\n",
    "    .setPredictionCol(\"Predicted Price\")"
   ]
  },
  {
   "cell_type": "markdown",
   "metadata": {},
   "source": [
    "### Define Pipeline "
   ]
  },
  {
   "cell_type": "code",
   "execution_count": 124,
   "metadata": {},
   "outputs": [
    {
     "data": {
      "text/plain": [
       "lrStages: Array[org.apache.spark.ml.PipelineStage with org.apache.spark.ml.util.DefaultParamsWritable{def copy(extra: org.apache.spark.ml.param.ParamMap): org.apache.spark.ml.PipelineStage with org.apache.spark.ml.util.DefaultParamsWritable{def copy(extra: org.apache.spark.ml.param.ParamMap): org.apache.spark.ml.PipelineStage with org.apache.spark.ml.util.DefaultParamsWritable}}] = Array(featureHasher_45faf028dfeb, linReg_6ad1528346e1)\n"
      ]
     },
     "execution_count": 124,
     "metadata": {},
     "output_type": "execute_result"
    }
   ],
   "source": [
    "// add linear regression to stages\n",
    "// I removed the scaler as the performance for gain was terrible\n",
    "val lrStages = Array(\n",
    "    hasher,\n",
    "    bestlr\n",
    ")"
   ]
  },
  {
   "cell_type": "code",
   "execution_count": 125,
   "metadata": {},
   "outputs": [
    {
     "name": "stdout",
     "output_type": "stream",
     "text": [
      "Pipeline was executed 6"
     ]
    },
    {
     "data": {
      "text/plain": [
       "startTimeMillis: Long = 1591108949801\n",
       "lrPipe: org.apache.spark.ml.Pipeline = pipeline_b26e2ad9a747\n",
       "lrModel: org.apache.spark.ml.PipelineModel = pipeline_b26e2ad9a747\n",
       "predictions: org.apache.spark.sql.DataFrame = [Price: double, MethodOfSale: int ... 13 more fields]\n",
       "endTimeMillis: Long = 1591108956299\n"
      ]
     },
     "execution_count": 125,
     "metadata": {},
     "output_type": "execute_result"
    }
   ],
   "source": [
    "val startTimeMillis = System.currentTimeMillis()\n",
    "\n",
    "//define a pipleine\n",
    "val lrPipe = new Pipeline().setStages(lrStages)\n",
    "\n",
    "// We fit our DataFrame into the pipeline to generate a model\n",
    "// pass best ParamMap from cross validation\n",
    "val lrModel = lrPipe.fit(train,bestParamMap)\n",
    "\n",
    "\n",
    "// Make predictions using the model and the test data\n",
    "// pass best ParamMap from cross validation\n",
    "val predictions = lrModel.transform(test,bestParamMap)\n",
    "\n",
    "val endTimeMillis = System.currentTimeMillis()\n",
    "\n",
    "print(\"Pipeline was executed \"\n",
    "      + getExecutionTime(startTimeMillis,endTimeMillis))\n"
   ]
  },
  {
   "cell_type": "code",
   "execution_count": 126,
   "metadata": {},
   "outputs": [
    {
     "data": {
      "text/plain": [
       "getExecutionTime: (start: Long, end: Long)Long\n"
      ]
     },
     "execution_count": 126,
     "metadata": {},
     "output_type": "execute_result"
    }
   ],
   "source": [
    "def getExecutionTime(start: Long , end : Long) = {\n",
    "    val duration:Long = (end - start) / 1000\n",
    "    (duration)\n",
    "}"
   ]
  },
  {
   "cell_type": "code",
   "execution_count": 127,
   "metadata": {},
   "outputs": [
    {
     "name": "stdout",
     "output_type": "stream",
     "text": [
      "+--------+---------------+\n",
      "|   Price|Predicted Price|\n",
      "+--------+---------------+\n",
      "|170000.0|      -135846.0|\n",
      "|280000.0|       -35190.0|\n",
      "|280500.0|       426359.0|\n",
      "|283000.0|      -181652.0|\n",
      "|290000.0|       746044.0|\n",
      "|300000.0|       223785.0|\n",
      "|300000.0|       444185.0|\n",
      "|305000.0|       697371.0|\n",
      "|310000.0|       462258.0|\n",
      "|316000.0|        24641.0|\n",
      "|320000.0|       318811.0|\n",
      "|320000.0|       247288.0|\n",
      "|320000.0|       183254.0|\n",
      "|320000.0|       604481.0|\n",
      "|325000.0|       -68539.0|\n",
      "|333000.0|      -121701.0|\n",
      "|340000.0|       701511.0|\n",
      "|345000.0|       770691.0|\n",
      "|348000.0|       -56040.0|\n",
      "|350000.0|       -46910.0|\n",
      "+--------+---------------+\n",
      "only showing top 20 rows\n",
      "\n"
     ]
    }
   ],
   "source": [
    "//finesse the output of predicted price and price to aid visual compare\n",
    "predictions.withColumn(\"Predicted Price\", round($\"Predicted Price\", 0))\n",
    "    .select(\"Price\",\"Predicted Price\").show()"
   ]
  },
  {
   "cell_type": "markdown",
   "metadata": {},
   "source": [
    "#### Regression metrics\n",
    "\n",
    "**Mean squared error (MSE)** -- the average of squared differences between the predicted outcome and the true outcome.\n",
    "\n",
    "**R2 coefficient** -- the proportion of variance in the outcome that our model is capable of predicting based on its features."
   ]
  },
  {
   "cell_type": "code",
   "execution_count": 128,
   "metadata": {},
   "outputs": [
    {
     "name": "stdout",
     "output_type": "stream",
     "text": [
      "Root Mean Squared Error RMSE on test data = 420273.740044464\n",
      "Root Mean Squared Error R2 on test data = 0.5752747994605538\n"
     ]
    }
   ],
   "source": [
    "evaluate(predictions,\"rmse\")\n",
    "evaluate(predictions,\"r2\")"
   ]
  },
  {
   "cell_type": "markdown",
   "metadata": {},
   "source": [
    "Looks like we go down from our training set:\n",
    "\n",
    "`RMSE: 256722.38750802382\n",
    "r2: 0.8493933892352158`\n",
    "\n",
    "\n",
    "to our test set with best params:\n",
    "\n",
    "`420273.740044464\n",
    "0.5752747994605538`\n"
   ]
  },
  {
   "cell_type": "markdown",
   "metadata": {},
   "source": [
    "### 2. Apply K-means Model  \n",
    "\n",
    "This modelling of this section is based on (Sarkar, 2017)"
   ]
  },
  {
   "cell_type": "markdown",
   "metadata": {},
   "source": [
    "#### Training\n",
    "\n",
    "\n",
    "Pipeline Estimator"
   ]
  },
  {
   "cell_type": "code",
   "execution_count": 44,
   "metadata": {},
   "outputs": [
    {
     "ename": "<console>",
     "evalue": "39: error: not found: value df",
     "output_type": "error",
     "traceback": [
      "<console>:39: error: not found: value df",
      "       val model = kmeans.fit(df)",
      "                              ^",
      ""
     ]
    }
   ],
   "source": [
    "import org.apache.spark.ml.clustering.KMeans\n",
    "\n",
    "val kmeans = new KMeans().setK(2).setSeed(1L)\n",
    "val model = kmeans.fit(df)"
   ]
  },
  {
   "cell_type": "markdown",
   "metadata": {},
   "source": [
    "#### Prediction"
   ]
  },
  {
   "cell_type": "code",
   "execution_count": null,
   "metadata": {},
   "outputs": [],
   "source": []
  },
  {
   "cell_type": "markdown",
   "metadata": {},
   "source": [
    "#### Testing/Evaluation\n",
    "\n",
    "Pipeline Model Transformer\n",
    "\n",
    "Evaluate the quality of clustering by \"elbowing\" the **Within SEt Sum of Squared Errors (WSSSE)** graph."
   ]
  },
  {
   "cell_type": "code",
   "execution_count": null,
   "metadata": {},
   "outputs": [],
   "source": [
    "val WSSSE = model.computeCost(df)\n",
    "\n",
    "println(\"WSSSE error + $WSSSE\")"
   ]
  },
  {
   "cell_type": "code",
   "execution_count": null,
   "metadata": {},
   "outputs": [],
   "source": [
    "model.clusterCenters.foreach(println)"
   ]
  },
  {
   "cell_type": "code",
   "execution_count": null,
   "metadata": {},
   "outputs": [],
   "source": [
    "val transformed = model.transform(df)"
   ]
  },
  {
   "cell_type": "code",
   "execution_count": null,
   "metadata": {},
   "outputs": [],
   "source": [
    "//compute the diff between the labels abd the predicated values on data set\n",
    "\n",
    "transformed.select(\"prediction\").groupBy(\"prediction\")count().orderBy().show(\"prediction\")"
   ]
  },
  {
   "cell_type": "code",
   "execution_count": null,
   "metadata": {},
   "outputs": [],
   "source": [
    "val y1df = transformed.select($\"label\",$\"prediction\").where($\"label!=prediction\")"
   ]
  },
  {
   "cell_type": "code",
   "execution_count": null,
   "metadata": {},
   "outputs": [],
   "source": [
    "y1df.count()"
   ]
  },
  {
   "cell_type": "code",
   "execution_count": null,
   "metadata": {},
   "outputs": [],
   "source": [
    "transformed.filter(\"prediction = 0\").show()"
   ]
  },
  {
   "cell_type": "code",
   "execution_count": null,
   "metadata": {},
   "outputs": [],
   "source": [
    "transformed.filter(\"prediction = 1\").show()"
   ]
  },
  {
   "cell_type": "code",
   "execution_count": null,
   "metadata": {},
   "outputs": [],
   "source": [
    "transformed.filter(\"prediction = 0\").describe.show()"
   ]
  },
  {
   "cell_type": "code",
   "execution_count": null,
   "metadata": {},
   "outputs": [],
   "source": [
    "transformed.filter(\"prediction = 1\").describe.show()"
   ]
  },
  {
   "cell_type": "code",
   "execution_count": null,
   "metadata": {},
   "outputs": [],
   "source": [
    "println(\"No of mis-matche between predictions and labels =\"+y1df.count() +\"\\nTotal no. of records \"+transformed.count()+ \\\n",
    "         \"\\nCorrect predictions = \"+ (1-y1df.count()).toDouble/transformed.count()+\"\\nMismatch \"+\\\n",
    "          (1-y1df.count()).toDouble/transformed.count())"
   ]
  },
  {
   "cell_type": "code",
   "execution_count": null,
   "metadata": {},
   "outputs": [],
   "source": [
    "//Feed test input records for the model to predict their cluster\n",
    "val testData = spark.createDataFrame(Seq().toDF(\"colName\",\"features\"))\n",
    "model.transform(testData).show()"
   ]
  },
  {
   "cell_type": "code",
   "execution_count": null,
   "metadata": {},
   "outputs": [],
   "source": []
  },
  {
   "cell_type": "markdown",
   "metadata": {},
   "source": [
    "### 3. Apply Random Forest Regression\n",
    "\n",
    "**Build Random Forest model**\n",
    "Specify maxDepth, maxBins, auto and seed parameters.\n",
    "\n",
    "**maxDepth** -- Maximum depth of a tree. Increasing the depth makes the model more powerful, but deep trees take longer to train.\n",
    "\n",
    "**maxBins** -- Maximum number of bins used for discretizing continuous features and for choosing how to split on features at each node.\n",
    "\n",
    "**auto** -- Automatically select the number of features to consider for splits at each tree node\n",
    "\n",
    "**seed** -- Use a random seed number , allowing to repeat the results"
   ]
  },
  {
   "cell_type": "markdown",
   "metadata": {},
   "source": [
    "\n",
    "If the number of trees is 1, then no bootstrapping is used at all. However, if the number of trees is > 1, then the bootstrapping is accomplished. Where, the parameter featureSubsetStrategy signifies the number of features to be considered for splits at each node. The supported values of featureSubsetStrategy are \"auto\", \"all\", \"sqrt\", \"log2\" and \"on third\". The supported numerical values, on the other hand, are (0.0-1.0] and [1-n]. However, if featureSubsetStrategy is chosen as \"auto\", the algorithm chooses the best feature subset strategy automatically\n",
    "\n",
    "\n",
    "If the numTrees == 1, the featureSubsetStrategy is set to be \"all\". However, if the numTrees > 1 (i.e., forest), featureSubsetStrategy is set to be \"onethird\" for regression\n",
    "\n",
    "\n",
    "Moreover, if a real value \"n\" is in the range (0, 1.0] is set, n*number_of_features is used consequently. However, if an integer value \"n\" is in the range (1, the number of features) is set, only n features are used alternatively\n",
    "\n",
    "\n",
    "The parameter categoricalFeaturesInfo which is a map is used for storing arbitrary of categorical features. An entry (n -> k) indicates that feature n is categorical with k categories indexed from 0: {0, 1,...,k-1}\n",
    "The impurity criterion used for information gain calculation. The supported values are “gini\" and “variance”. The former is the only supported value for classification. The latter is used for regression\n",
    "\n",
    "\n",
    "The maxDepth is the maximum depth of the tree. (e.g., depth 0 means 1 leaf node, depth 1 means 1 internal node + 2 leaf nodes). However, the suggested value is 4 to get a better result\n",
    "\n",
    "\n",
    "The maxBins signifies the maximum number of bins used for splitting the features; where the suggested value is 100 to get better results\n",
    "\n",
    "\n",
    "Finally, the random seed is used for bootstrapping and choosing feature subsets to avoid the random nature of the results."
   ]
  },
  {
   "cell_type": "code",
   "execution_count": null,
   "metadata": {},
   "outputs": [],
   "source": [
    "import org.apache.spark.ml.regression.RandomForestRegressor\n",
    "import org.apache.spark.ml.tuning.CrossValidator\n",
    "//import org.apache.spark.ml.Pipeline\n",
    "\n",
    "val seed = 5043\n",
    "\n",
    "val rf = new RandomForestRegressor()\n",
    "  .setMaxBins(100)\n",
    "  .setMaxDepth(6)\n",
    "  .setNumTrees(10)\n",
    "  .setFeatureSubsetStrategy(\"onethird\")\n",
    "  .setSeed(seed)\n",
    "  .setLabelCol(\"Price\")"
   ]
  },
  {
   "cell_type": "code",
   "execution_count": null,
   "metadata": {},
   "outputs": [],
   "source": [
    "val rfPredictions = time{predictions(rf, train, test)}\n",
    "rfPredictions.cache()"
   ]
  },
  {
   "cell_type": "code",
   "execution_count": null,
   "metadata": {},
   "outputs": [],
   "source": [
    "rfPredictions.columns"
   ]
  },
  {
   "cell_type": "code",
   "execution_count": null,
   "metadata": {},
   "outputs": [],
   "source": [
    "rfPredictions.withColumn(\"prediction\", round($\"prediction\", 0)).select(\"Price\",\"prediction\").show()"
   ]
  },
  {
   "cell_type": "markdown",
   "metadata": {},
   "source": [
    "#### Regression metrics\n"
   ]
  },
  {
   "cell_type": "code",
   "execution_count": null,
   "metadata": {},
   "outputs": [],
   "source": [
    "evaluate(rfPredictions,\"rmse\")"
   ]
  },
  {
   "cell_type": "code",
   "execution_count": null,
   "metadata": {},
   "outputs": [],
   "source": [
    "evaluate(rfPredictions,\"r2\")"
   ]
  },
  {
   "cell_type": "markdown",
   "metadata": {},
   "source": [
    "#### Testing/Evaluation/ Parameter Tuning\n",
    "\n",
    "Cross-validation\n",
    "<span style=\"color:red\">\n",
    "TO DO: \n",
    "* finish implementation for Cross-validation \n",
    "* check if finish run in reasonable time\n",
    "</span>"
   ]
  },
  {
   "cell_type": "code",
   "execution_count": null,
   "metadata": {},
   "outputs": [],
   "source": [
    "import org.apache.spark.ml.regression.RandomForestRegressor\n",
    "\n",
    "// Models hypoparameters\n",
    "val numTrees = Seq(5,10,30)\n",
    "val maxBins = Seq(50,100)\n",
    "val maxDepth = Seq(2,3,5)\n",
    "val impurity = Seq(\"gini\",\"entropy\",\"variance\")\n",
    "val featureSubsetStrategy = Seq(\"sqrt\",\"onethird\")\n",
    "\n",
    "val rf = new RandomForestRegressor()\n",
    "  .setLabelCol(\"Price\")\n",
    "  .setFeaturesCol(\"features\")\n",
    "  .setPredictionCol(\"prediction\")\n",
    "\n",
    "\n",
    "val rfParamMap = new ParamGridBuilder()\n",
    "  .addGrid(rf.numTrees, numTrees)\n",
    "  .addGrid(rf.maxDepth, maxDepth)\n",
    "  .addGrid(rf.maxBins, maxBins)\n",
    "  .addGrid(rf.featureSubsetStrategy, featureSubsetStrategy)\n",
    "  .build()\n",
    "\n",
    "val t0 = System.nanoTime()\n",
    "val best_model = train_eval(rf, rfParamMap, train, test)\n",
    "val t1 = System.nanoTime()\n",
    "println(\"Elapsed time: \" + (t1 - t0)/(1000000000) + \" s\")\n"
   ]
  },
  {
   "cell_type": "markdown",
   "metadata": {},
   "source": [
    "#### Prediction"
   ]
  },
  {
   "cell_type": "code",
   "execution_count": null,
   "metadata": {},
   "outputs": [],
   "source": [
    "rfPredictions.withColumn(\"prediction\", round($\"prediction\", 0)).select(\"Price\",\"prediction\").show()\n",
    "\n",
    "// this will add new columns rawPrediction, probability and prediction\n",
    "val predictionDf = randomForestModel.transform(testData)\n",
    "predictionDf.show(10)"
   ]
  },
  {
   "cell_type": "markdown",
   "metadata": {},
   "source": [
    "#### Tuning"
   ]
  },
  {
   "cell_type": "markdown",
   "metadata": {},
   "source": [
    "#### Bias vs Variance Graph of Error (validation error and training error) versus training set size. \n",
    "\n",
    "\n",
    "<span style=\"color:red\">\n",
    "TO DO: \n",
    "produce graph -- validation error and training error should converge\n",
    "</span>\n"
   ]
  },
  {
   "cell_type": "markdown",
   "metadata": {},
   "source": [
    "### References\n",
    "\n",
    "Apache Spark (n.d.). Spark ML Programming Guide. Retrieved from https://spark.apache.org/docs/1.2.2/ml-guide.html\n",
    "\n",
    "Gorczynski M. (2017). Introduction to machine learning with spark and mllib (dataframe API). Retrieved from https://scalac.io/scala-spark-ml-machine-learning-introduction/\n",
    "\n",
    "Hydrospheredata (2020). Program creek. Scala Code Examples. Scaler Retrieved from https://www.programcreek.com/scala/org.apache.spark.ml.feature.StandardScaler\n",
    "\n",
    "Jen G. (2020) FeatureHasher. Retrieved from https://george-jen.gitbook.io/data-science-and-apache-spark/featurehasher\n",
    "\n",
    "Johnson S (2019). From sckit-learn to Spark ML. Retrieved from https://towardsdatascience.com/from-scikit-learn-to-spark-ml-f2886fb46852\n",
    "\n",
    "Johnson S (2019). Housing Prices - Spark ML Project Retrieved from https://github.com/scottdjohnson/HousingPricePredictions/blob/master/HousingPrices-SparkML.ipynb\n",
    "\n",
    "Masri A. (2019). FeatureTransformation. Retrieved from\n",
    "https://towardsdatascience.com/apache-spark-mllib-tutorial-7aba8a1dce6e\n",
    "\n",
    "Sarkar A. (2017). Learning Spark SQL. Implementing a Spark ML clustering model. Packt Publishing.\n",
    "\n",
    "Scala Doc (n.d.) Retrieved from https://docs.scala-lang.org\n",
    "\n",
    "\n",
    "(2019) Random Forest Classifier with Apache Spark Retireved from https://medium.com/rahasak/random-forest-classifier-with-apache-spark-c63b4a23a7cc\n",
    "\n",
    "Wagle M.(2020) _Predicting House Prices using Machine Learning_. Retrieved from https://medium.com/@manilwagle/predicting-house-prices-using-machine-learning-cab0b82cd3f"
   ]
  }
 ],
 "metadata": {
  "kernelspec": {
   "display_name": "spylon-kernel",
   "language": "scala",
   "name": "spylon-kernel"
  },
  "language_info": {
   "codemirror_mode": "text/x-scala",
   "file_extension": ".scala",
   "help_links": [
    {
     "text": "MetaKernel Magics",
     "url": "https://metakernel.readthedocs.io/en/latest/source/README.html"
    }
   ],
   "mimetype": "text/x-scala",
   "name": "scala",
   "pygments_lexer": "scala",
   "version": "0.4.1"
  }
 },
 "nbformat": 4,
 "nbformat_minor": 4
}
