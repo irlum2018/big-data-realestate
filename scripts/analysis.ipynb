{
 "cells": [
  {
   "cell_type": "markdown",
   "metadata": {},
   "source": [
    "## Preparing HDFS\n",
    "\n",
    "Using magic\n",
    "\n",
    "Create input folder on HDFS if not exists\n",
    "\n",
    "Copy from data from local"
   ]
  },
  {
   "cell_type": "code",
   "execution_count": 6,
   "metadata": {},
   "outputs": [
    {
     "name": "stdout",
     "output_type": "stream",
     "text": [
      "2020-05-26 00:59:58,502 WARN  [Thread-4] sql.SparkSession$Builder (Logging.scala:logWarning(66)) - Using an existing SparkSession; some configuration may not take effect.\n"
     ]
    },
    {
     "data": {
      "text/plain": [
       "spark: org.apache.spark.sql.SparkSession = org.apache.spark.sql.SparkSession@6e3170a4\n"
      ]
     },
     "execution_count": 6,
     "metadata": {},
     "output_type": "execute_result"
    }
   ],
   "source": [
    "val spark = org.apache.spark.sql.SparkSession.builder\n",
    "        .master(\"local\") \n",
    "        .appName(\"Spark CSV Reader\")\n",
    "        .getOrCreate;"
   ]
  },
  {
   "cell_type": "code",
   "execution_count": 7,
   "metadata": {},
   "outputs": [
    {
     "name": "stdout",
     "output_type": "stream",
     "text": [
      "/home/sandpit/big-data-realestate/big-data-realestate/scripts\n",
      "\n",
      "put: `/tmp/rs_input/raw.csv': File exists\n",
      "\n",
      "\n",
      "Found 1 items\n",
      "\n",
      "\n",
      "-rw-r--r--   1 root root    5018236 2020-05-15 05:20 /tmp/rs_input/raw.csv\n",
      "\n",
      "\n",
      "34858\n",
      "\n"
     ]
    }
   ],
   "source": [
    "! pwd\n",
    "! hadoop fs -mkdir -p  /tmp/rs_input\n",
    "! hadoop fs -put   -p  ./../data-raw/Melbourne_housing_FULL.csv             /tmp/rs_input/raw.csv\n",
    "! hadoop fs -ls        /tmp/rs_input/\n",
    "!hadoop fs -cat /tmp/rs_input/raw.csv | wc -l"
   ]
  },
  {
   "cell_type": "code",
   "execution_count": 8,
   "metadata": {},
   "outputs": [
    {
     "data": {
      "text/plain": [
       "df_raw: org.apache.spark.sql.DataFrame = [Suburb: string, Address: string ... 19 more fields]\n"
      ]
     },
     "execution_count": 8,
     "metadata": {},
     "output_type": "execute_result"
    }
   ],
   "source": [
    "//load raw into df\n",
    "val df_raw = spark\n",
    "    .read\n",
    "    .format(\"csv\")\n",
    "    .option(\"header\", \"true\")\n",
    "    .load(\"hdfs://localhost:9000/tmp/rs_input/raw.csv\")"
   ]
  },
  {
   "cell_type": "markdown",
   "metadata": {},
   "source": [
    "### Data Exploration"
   ]
  },
  {
   "cell_type": "code",
   "execution_count": 9,
   "metadata": {},
   "outputs": [
    {
     "data": {
      "text/plain": [
       "df_raw: org.apache.spark.sql.DataFrame = [Suburb: string, Address: string ... 19 more fields]\n"
      ]
     },
     "execution_count": 9,
     "metadata": {},
     "output_type": "execute_result"
    }
   ],
   "source": [
    "val df_raw = spark.read.format(\"csv\").option(\"header\", \"true\").load(\"hdfs://localhost:9000/tmp/rs_input/raw.csv\")"
   ]
  },
  {
   "cell_type": "markdown",
   "metadata": {},
   "source": [
    "## Analysis"
   ]
  },
  {
   "cell_type": "markdown",
   "metadata": {},
   "source": [
    "### Print schema:"
   ]
  },
  {
   "cell_type": "code",
   "execution_count": 10,
   "metadata": {
    "scrolled": false
   },
   "outputs": [
    {
     "name": "stdout",
     "output_type": "stream",
     "text": [
      "root\n",
      " |-- Suburb: string (nullable = true)\n",
      " |-- Address: string (nullable = true)\n",
      " |-- Rooms: string (nullable = true)\n",
      " |-- Type: string (nullable = true)\n",
      " |-- Price: string (nullable = true)\n",
      " |-- Method: string (nullable = true)\n",
      " |-- SellerG: string (nullable = true)\n",
      " |-- Date: string (nullable = true)\n",
      " |-- Distance: string (nullable = true)\n",
      " |-- Postcode: string (nullable = true)\n",
      " |-- Bedroom2: string (nullable = true)\n",
      " |-- Bathroom: string (nullable = true)\n",
      " |-- Car: string (nullable = true)\n",
      " |-- Landsize: string (nullable = true)\n",
      " |-- BuildingArea: string (nullable = true)\n",
      " |-- YearBuilt: string (nullable = true)\n",
      " |-- CouncilArea: string (nullable = true)\n",
      " |-- Lattitude: string (nullable = true)\n",
      " |-- Longtitude: string (nullable = true)\n",
      " |-- Regionname: string (nullable = true)\n",
      " |-- Propertycount: string (nullable = true)\n",
      "\n"
     ]
    }
   ],
   "source": [
    "df_raw.printSchema()"
   ]
  },
  {
   "cell_type": "code",
   "execution_count": 11,
   "metadata": {},
   "outputs": [
    {
     "data": {
      "text/plain": [
       "res2: Array[String] = Array(Suburb, Address, Rooms, Type, Price, Method, SellerG, Date, Distance, Postcode, Bedroom2, Bathroom, Car, Landsize, BuildingArea, YearBuilt, CouncilArea, Lattitude, Longtitude, Regionname, Propertycount)\n"
      ]
     },
     "execution_count": 11,
     "metadata": {},
     "output_type": "execute_result"
    }
   ],
   "source": [
    "df_raw.columns"
   ]
  },
  {
   "cell_type": "markdown",
   "metadata": {},
   "source": [
    "### Show column types:"
   ]
  },
  {
   "cell_type": "code",
   "execution_count": 12,
   "metadata": {},
   "outputs": [
    {
     "data": {
      "text/plain": [
       "res3: Array[(String, String)] = Array((Suburb,StringType), (Address,StringType), (Rooms,StringType), (Type,StringType), (Price,StringType), (Method,StringType), (SellerG,StringType), (Date,StringType), (Distance,StringType), (Postcode,StringType), (Bedroom2,StringType), (Bathroom,StringType), (Car,StringType), (Landsize,StringType), (BuildingArea,StringType), (YearBuilt,StringType), (CouncilArea,StringType), (Lattitude,StringType), (Longtitude,StringType), (Regionname,StringType), (Propertycount,StringType))\n"
      ]
     },
     "execution_count": 12,
     "metadata": {},
     "output_type": "execute_result"
    }
   ],
   "source": [
    "df_raw.dtypes"
   ]
  },
  {
   "cell_type": "markdown",
   "metadata": {},
   "source": [
    "All features seem to be stored as text therefore numerical values will need to be converted to Integer and Float accordingly.\n",
    "In addition, the categorical variables of Type and Method will need to be converted to integers as factors."
   ]
  },
  {
   "cell_type": "markdown",
   "metadata": {},
   "source": [
    "## Display the rows:"
   ]
  },
  {
   "cell_type": "code",
   "execution_count": 13,
   "metadata": {
    "scrolled": true
   },
   "outputs": [
    {
     "name": "stdout",
     "output_type": "stream",
     "text": [
      "+----------+-------------------+--------+----------+----+------+-------+---------+------------------+--------------------+---------+\n",
      "|    Suburb|            Address|POSTCODE|    SUBURB|TYPE|METHOD|SELLERG|     DATE|       COUNCILAREA|          REGIONNAME|YEARBUILT|\n",
      "+----------+-------------------+--------+----------+----+------+-------+---------+------------------+--------------------+---------+\n",
      "|Abbotsford|      68 Studley St|    3067|Abbotsford|   h|    SS| Jellis|3/09/2016|Yarra City Council|Northern Metropol...|     null|\n",
      "|Abbotsford|       85 Turner St|    3067|Abbotsford|   h|     S| Biggin|3/12/2016|Yarra City Council|Northern Metropol...|     null|\n",
      "|Abbotsford|    25 Bloomburg St|    3067|Abbotsford|   h|     S| Biggin|4/02/2016|Yarra City Council|Northern Metropol...|     1900|\n",
      "|Abbotsford| 18/659 Victoria St|    3067|Abbotsford|   u|    VB| Rounds|4/02/2016|Yarra City Council|Northern Metropol...|     null|\n",
      "|Abbotsford|       5 Charles St|    3067|Abbotsford|   h|    SP| Biggin|4/03/2017|Yarra City Council|Northern Metropol...|     1900|\n",
      "|Abbotsford|   40 Federation La|    3067|Abbotsford|   h|    PI| Biggin|4/03/2017|Yarra City Council|Northern Metropol...|     null|\n",
      "|Abbotsford|        55a Park St|    3067|Abbotsford|   h|    VB| Nelson|4/06/2016|Yarra City Council|Northern Metropol...|     2014|\n",
      "|Abbotsford|       16 Maugie St|    3067|Abbotsford|   h|    SN| Nelson|6/08/2016|Yarra City Council|Northern Metropol...|     2006|\n",
      "|Abbotsford|       53 Turner St|    3067|Abbotsford|   h|     S| Biggin|6/08/2016|Yarra City Council|Northern Metropol...|     1900|\n",
      "|Abbotsford|       99 Turner St|    3067|Abbotsford|   h|     S|Collins|6/08/2016|Yarra City Council|Northern Metropol...|     1900|\n",
      "|Abbotsford|     129 Charles St|    3067|Abbotsford|   h|     S| Jellis|7/05/2016|Yarra City Council|Northern Metropol...|     null|\n",
      "|Abbotsford|       124 Yarra St|    3067|Abbotsford|   h|     S| Nelson|7/05/2016|Yarra City Council|Northern Metropol...|     1910|\n",
      "|Abbotsford|121/56 Nicholson St|    3067|Abbotsford|   u|    PI| Biggin|7/11/2016|Yarra City Council|Northern Metropol...|     2009|\n",
      "|Abbotsford|      17 Raphael St|    3067|Abbotsford|   h|     W| Biggin|7/11/2016|Yarra City Council|Northern Metropol...|     1860|\n",
      "|Abbotsford|      98 Charles St|    3067|Abbotsford|   h|     S| Nelson|8/10/2016|Yarra City Council|Northern Metropol...|     1890|\n",
      "|Abbotsford|   217 Langridge St|    3067|Abbotsford|   h|     S| Jellis|8/10/2016|Yarra City Council|Northern Metropol...|     null|\n",
      "|Abbotsford|    18a Mollison St|    3067|Abbotsford|   t|     S| Jellis|8/10/2016|Yarra City Council|Northern Metropol...|     null|\n",
      "|Abbotsford| 6/241 Nicholson St|    3067|Abbotsford|   u|     S| Biggin|8/10/2016|Yarra City Council|Northern Metropol...|     null|\n",
      "|Abbotsford|      10 Valiant St|    3067|Abbotsford|   h|     S| Biggin|8/10/2016|Yarra City Council|Northern Metropol...|     1900|\n",
      "|Abbotsford|403/609 Victoria St|    3067|Abbotsford|   u|     S| Dingle|8/10/2016|Yarra City Council|Northern Metropol...|     null|\n",
      "+----------+-------------------+--------+----------+----+------+-------+---------+------------------+--------------------+---------+\n",
      "only showing top 20 rows\n",
      "\n"
     ]
    }
   ],
   "source": [
    "df_raw.select(\"Suburb\",\"Address\",\"POSTCODE\",\"SUBURB\",\"TYPE\",\"METHOD\",\"SELLERG\",\"DATE\",\"COUNCILAREA\",\"REGIONNAME\",\"YEARBUILT\").show()"
   ]
  },
  {
   "cell_type": "code",
   "execution_count": 14,
   "metadata": {},
   "outputs": [
    {
     "name": "stdout",
     "output_type": "stream",
     "text": [
      "+--------+------------+---------+------------------+---------+----------+--------------------+-------------+\n",
      "|Landsize|BuildingArea|YearBuilt|       CouncilArea|Lattitude|Longtitude|          Regionname|Propertycount|\n",
      "+--------+------------+---------+------------------+---------+----------+--------------------+-------------+\n",
      "|     126|        null|     null|Yarra City Council| -37.8014|  144.9958|Northern Metropol...|         4019|\n",
      "|     202|        null|     null|Yarra City Council| -37.7996|  144.9984|Northern Metropol...|         4019|\n",
      "|     156|          79|     1900|Yarra City Council| -37.8079|  144.9934|Northern Metropol...|         4019|\n",
      "|       0|        null|     null|Yarra City Council| -37.8114|  145.0116|Northern Metropol...|         4019|\n",
      "|     134|         150|     1900|Yarra City Council| -37.8093|  144.9944|Northern Metropol...|         4019|\n",
      "|      94|        null|     null|Yarra City Council| -37.7969|  144.9969|Northern Metropol...|         4019|\n",
      "|     120|         142|     2014|Yarra City Council| -37.8072|  144.9941|Northern Metropol...|         4019|\n",
      "|     400|         220|     2006|Yarra City Council| -37.7965|  144.9965|Northern Metropol...|         4019|\n",
      "|     201|        null|     1900|Yarra City Council| -37.7995|  144.9974|Northern Metropol...|         4019|\n",
      "|     202|        null|     1900|Yarra City Council| -37.7996|  144.9989|Northern Metropol...|         4019|\n",
      "+--------+------------+---------+------------------+---------+----------+--------------------+-------------+\n",
      "only showing top 10 rows\n",
      "\n"
     ]
    }
   ],
   "source": [
    "df_raw.select(\"Landsize\",\"BuildingArea\",\"YearBuilt\",\"CouncilArea\",\"Lattitude\",\"Longtitude\",\"Regionname\",\"Propertycount\").show(10)"
   ]
  },
  {
   "cell_type": "markdown",
   "metadata": {},
   "source": [
    "The data seems to be relatively clean however further exploration is required."
   ]
  },
  {
   "cell_type": "markdown",
   "metadata": {},
   "source": [
    "## Descriptive Statistics:\n",
    "\n",
    "### Summary"
   ]
  },
  {
   "cell_type": "code",
   "execution_count": 67,
   "metadata": {},
   "outputs": [
    {
     "name": "stdout",
     "output_type": "stream",
     "text": [
      "+-------+----------+----------------+------------------+-----+-----------------+------+-----------+---------+\n",
      "|summary|    Suburb|         Address|             Rooms| Type|            Price|Method|    SellerG|     Date|\n",
      "+-------+----------+----------------+------------------+-----+-----------------+------+-----------+---------+\n",
      "|  count|     34857|           34857|             34857|34857|            27247| 34857|      34857|    34857|\n",
      "|   mean|      null|            null|3.0310124221820582| null|1050173.344955408|  null|       null|     null|\n",
      "| stddev|      null|            null|0.9699329348975204| null|641467.1301045999|  null|       null|     null|\n",
      "|    min|Abbotsford|1 Abercrombie St|                 1|    h|          1000000|    PI|    @Realty|1/07/2017|\n",
      "|    max|  viewbank|   9b Stewart St|                 9|    u|           999999|     W|voglwalpole|9/12/2017|\n",
      "+-------+----------+----------------+------------------+-----+-----------------+------+-----------+---------+\n",
      "\n"
     ]
    }
   ],
   "source": [
    "df_raw.describe().select(\"summary\",\n",
    "                        \"Suburb\",\n",
    "                        \"Address\",\n",
    "                        \"Rooms\",\n",
    "                        \"Type\",\n",
    "                        \"Price\",\n",
    "                        \"Method\",\n",
    "                        \"SellerG\",\n",
    "                        \"Date\").show()"
   ]
  },
  {
   "cell_type": "code",
   "execution_count": 68,
   "metadata": {},
   "outputs": [
    {
     "name": "stdout",
     "output_type": "stream",
     "text": [
      "+-------+------------------+------------------+------------------+------------------+------------------+------------------+\n",
      "|summary|          Distance|          Postcode|          Bedroom2|          Bathroom|               Car|          Landsize|\n",
      "+-------+------------------+------------------+------------------+------------------+------------------+------------------+\n",
      "|  count|             34857|             34857|             26640|             26631|             26129|             23047|\n",
      "|   mean|11.184929423916007| 3116.062858618315|3.0846471471471473| 1.624798167549097|1.7288453442535114|  593.598993361392|\n",
      "| stddev| 6.788892455935938|109.02390274290613|0.9806897285461588|0.7242120114699068|1.0107707853554244|3398.8419464599056|\n",
      "|    min|              #N/A|              #N/A|                 0|                 0|                 0|                 0|\n",
      "|    max|               9.9|              3978|                 9|                 9|                 9|               999|\n",
      "+-------+------------------+------------------+------------------+------------------+------------------+------------------+\n",
      "\n"
     ]
    }
   ],
   "source": [
    "df_raw.describe().select(\"summary\",\n",
    "                        \"Distance\",\n",
    "                        \"Postcode\",\n",
    "                        \"Bedroom2\",\n",
    "                        \"Bathroom\",\n",
    "                        \"Car\",\n",
    "                        \"Landsize\").show()"
   ]
  },
  {
   "cell_type": "code",
   "execution_count": 69,
   "metadata": {},
   "outputs": [
    {
     "name": "stdout",
     "output_type": "stream",
     "text": [
      "+-------+------------------+------------------+--------------------+-------------------+-------------------+----------------+\n",
      "|summary|      BuildingArea|         YearBuilt|         CouncilArea|          Lattitude|         Longtitude|      Regionname|\n",
      "+-------+------------------+------------------+--------------------+-------------------+-------------------+----------------+\n",
      "|  count|             13742|             15551|               34857|              26881|              26881|           34857|\n",
      "|   mean| 160.2564003565711| 1965.289884894862|                null|-37.810634295599094| 145.00185113165438|            null|\n",
      "| stddev|401.26706008485496|37.328178023136616|                null| 0.0902789045092229|0.12016876915353476|            null|\n",
      "|    min|                 0|              1196|                #N/A|           -37.3902|          144.42379|            #N/A|\n",
      "|    max|               999|              2106|Yarra Ranges Shir...|          -38.19043|          145.52635|Western Victoria|\n",
      "+-------+------------------+------------------+--------------------+-------------------+-------------------+----------------+\n",
      "\n"
     ]
    }
   ],
   "source": [
    "df_raw.describe().select(\"summary\",\n",
    "                        \"BuildingArea\",\n",
    "                        \"YearBuilt\",\n",
    "                        \"CouncilArea\",\n",
    "                        \"Lattitude\",\n",
    "                        \"Longtitude\",\n",
    "                        \"Regionname\").show()"
   ]
  },
  {
   "cell_type": "code",
   "execution_count": 70,
   "metadata": {},
   "outputs": [
    {
     "name": "stdout",
     "output_type": "stream",
     "text": [
      "+-------+------------------+\n",
      "|summary|     Propertycount|\n",
      "+-------+------------------+\n",
      "|  count|             34857|\n",
      "|   mean|7572.8883055029555|\n",
      "| stddev|4428.0903132746425|\n",
      "|    min|              #N/A|\n",
      "|    max|               984|\n",
      "+-------+------------------+\n",
      "\n"
     ]
    }
   ],
   "source": [
    "df_raw.describe().select(\"summary\",\n",
    "                         \"Propertycount\").show()"
   ]
  },
  {
   "cell_type": "markdown",
   "metadata": {},
   "source": [
    "Based on the above summary statistics we can see the following:\n",
    "* The count of a column less the rows in the dataset, display the null values.\n",
    "* The Address will need to be stripped down to its Street Name and Street Type. This is to  "
   ]
  },
  {
   "cell_type": "markdown",
   "metadata": {},
   "source": [
    "### Correlation:\n",
    "\n",
    "Assess the correlation between the Price and the other features to better understand their relationship and importance."
   ]
  },
  {
   "cell_type": "code",
   "execution_count": 71,
   "metadata": {},
   "outputs": [
    {
     "data": {
      "text/plain": [
       "import org.apache.spark.sql.functions.corr\n"
      ]
     },
     "execution_count": 71,
     "metadata": {},
     "output_type": "execute_result"
    }
   ],
   "source": [
    "// Import Correlation Library\n",
    "import org.apache.spark.sql.functions.corr"
   ]
  },
  {
   "cell_type": "code",
   "execution_count": 20,
   "metadata": {},
   "outputs": [
    {
     "name": "stdout",
     "output_type": "stream",
     "text": [
      "+-------------------+\n",
      "| corr(Rooms, Price)|\n",
      "+-------------------+\n",
      "|0.46523834510759615|\n",
      "+-------------------+\n",
      "\n",
      "+---------------------+\n",
      "|corr(Distance, Price)|\n",
      "+---------------------+\n",
      "| -0.21138434279157942|\n",
      "+---------------------+\n",
      "\n",
      "+---------------------+\n",
      "|corr(Postcode, Price)|\n",
      "+---------------------+\n",
      "|  0.04494983007693704|\n",
      "+---------------------+\n",
      "\n",
      "+---------------------+\n",
      "|corr(Bedroom2, Price)|\n",
      "+---------------------+\n",
      "|   0.4302753383233543|\n",
      "+---------------------+\n",
      "\n",
      "+---------------------+\n",
      "|corr(Bathroom, Price)|\n",
      "+---------------------+\n",
      "|   0.4298780777015672|\n",
      "+---------------------+\n",
      "\n",
      "+-------------------+\n",
      "|   corr(Car, Price)|\n",
      "+-------------------+\n",
      "|0.20180256061576263|\n",
      "+-------------------+\n",
      "\n",
      "+---------------------+\n",
      "|corr(Landsize, Price)|\n",
      "+---------------------+\n",
      "| 0.032748365249470925|\n",
      "+---------------------+\n",
      "\n",
      "+-------------------------+\n",
      "|corr(BuildingArea, Price)|\n",
      "+-------------------------+\n",
      "|       0.1007536394731018|\n",
      "+-------------------------+\n",
      "\n",
      "+----------------------+\n",
      "|corr(YearBuilt, Price)|\n",
      "+----------------------+\n",
      "|   -0.3333055641267079|\n",
      "+----------------------+\n",
      "\n",
      "+----------------------+\n",
      "|corr(Lattitude, Price)|\n",
      "+----------------------+\n",
      "|   -0.2156071144822447|\n",
      "+----------------------+\n",
      "\n",
      "+-----------------------+\n",
      "|corr(Longtitude, Price)|\n",
      "+-----------------------+\n",
      "|    0.19787369804692334|\n",
      "+-----------------------+\n",
      "\n",
      "+--------------------------+\n",
      "|corr(Propertycount, Price)|\n",
      "+--------------------------+\n",
      "|      -0.05901668608374418|\n",
      "+--------------------------+\n",
      "\n"
     ]
    }
   ],
   "source": [
    "df_raw.select(corr(\"Rooms\",\"Price\")).show()\n",
    "df_raw.select(corr(\"Distance\",\"Price\")).show()\n",
    "df_raw.select(corr(\"Postcode\",\"Price\")).show()\n",
    "df_raw.select(corr(\"Bedroom2\",\"Price\")).show()\n",
    "df_raw.select(corr(\"Bathroom\",\"Price\")).show()\n",
    "df_raw.select(corr(\"Car\",\"Price\")).show()\n",
    "df_raw.select(corr(\"Landsize\",\"Price\")).show()\n",
    "df_raw.select(corr(\"BuildingArea\",\"Price\")).show()\n",
    "df_raw.select(corr(\"YearBuilt\",\"Price\")).show()\n",
    "df_raw.select(corr(\"Lattitude\",\"Price\")).show()\n",
    "df_raw.select(corr(\"Longtitude\",\"Price\")).show()\n",
    "df_raw.select(corr(\"Propertycount\",\"Price\")).show()"
   ]
  },
  {
   "cell_type": "markdown",
   "metadata": {},
   "source": [
    "Landsize having very minimal correlation with price does not align with expectations therefore further analysis is required.\n",
    "\n",
    "We will compare the corration of Price with Landsize based on the Property type.\n",
    "\n",
    "- h  - house,cottage,villa, semi,terrace;\n",
    "- u  - unit, duplex;\n",
    "- t  - townhouse;\n"
   ]
  },
  {
   "cell_type": "code",
   "execution_count": 25,
   "metadata": {},
   "outputs": [
    {
     "name": "stdout",
     "output_type": "stream",
     "text": [
      "+---------------------+\n",
      "|corr(Landsize, Price)|\n",
      "+---------------------+\n",
      "| 0.025980927743436796|\n",
      "+---------------------+\n",
      "\n"
     ]
    }
   ],
   "source": [
    "// Corralation of Landsize and Price for Houses\n",
    "df_raw.where($\"Type\" === \"h\").select(corr(\"Landsize\",\"Price\")).show()"
   ]
  },
  {
   "cell_type": "code",
   "execution_count": 26,
   "metadata": {},
   "outputs": [
    {
     "name": "stdout",
     "output_type": "stream",
     "text": [
      "+---------------------+\n",
      "|corr(Landsize, Price)|\n",
      "+---------------------+\n",
      "|  0.05064203615229057|\n",
      "+---------------------+\n",
      "\n"
     ]
    }
   ],
   "source": [
    "// Corralation of Landsize and Price for Units\n",
    "df_raw.where($\"Type\" === \"u\").select(corr(\"Landsize\",\"Price\")).show()"
   ]
  },
  {
   "cell_type": "code",
   "execution_count": 27,
   "metadata": {},
   "outputs": [
    {
     "name": "stdout",
     "output_type": "stream",
     "text": [
      "+---------------------+\n",
      "|corr(Landsize, Price)|\n",
      "+---------------------+\n",
      "|  0.09629920710291465|\n",
      "+---------------------+\n",
      "\n"
     ]
    }
   ],
   "source": [
    "// Corralation of Landsize and Price for Townhouses\n",
    "df_raw.where($\"Type\" === \"t\").select(corr(\"Landsize\",\"Price\")).show()"
   ]
  },
  {
   "cell_type": "code",
   "execution_count": 28,
   "metadata": {},
   "outputs": [
    {
     "name": "stdout",
     "output_type": "stream",
     "text": [
      "+------------------------+\n",
      "|corr(Price, PriceperSQM)|\n",
      "+------------------------+\n",
      "|     0.11049815760669206|\n",
      "+------------------------+\n",
      "\n"
     ]
    },
    {
     "data": {
      "text/plain": [
       "df_landprice: org.apache.spark.sql.DataFrame = [Suburb: string, Address: string ... 20 more fields]\n"
      ]
     },
     "execution_count": 28,
     "metadata": {},
     "output_type": "execute_result"
    }
   ],
   "source": [
    "// Create a new DataFrame with Price per SQM\n",
    "val df_landprice = df_raw.withColumn(\"PriceperSQM\", col(\"Price\") / col(\"Landsize\"))\n",
    "\n",
    "// Assess Correlation of Price with Price per SQM\n",
    "df_landprice.select(corr(\"Price\",\"PriceperSQM\")).show()"
   ]
  },
  {
   "cell_type": "markdown",
   "metadata": {},
   "source": [
    "As expected, the Price vs PriceperSQM correlation is higher at ~11%, however this is due to price being included and compared against itself.\n",
    "\n",
    "Therefore, it seems that Landsize on its own doesn't seem to have a significant correlation. However, correlation changes depending on the type of property this is. With a townhouse having the highest positive correlation of 0.096 or 9.6%.\n",
    "\n",
    "As a result we conclude on keeping the LandSize."
   ]
  },
  {
   "cell_type": "code",
   "execution_count": 29,
   "metadata": {},
   "outputs": [
    {
     "data": {
      "text/plain": [
       "res19: Long = 13403\n"
      ]
     },
     "execution_count": 29,
     "metadata": {},
     "output_type": "execute_result"
    }
   ],
   "source": [
    "df_raw.select(\"Lattitude\").distinct.count()"
   ]
  },
  {
   "cell_type": "code",
   "execution_count": 30,
   "metadata": {},
   "outputs": [
    {
     "data": {
      "text/plain": [
       "res20: Long = 14525\n"
      ]
     },
     "execution_count": 30,
     "metadata": {},
     "output_type": "execute_result"
    }
   ],
   "source": [
    "df_raw.select(\"Longtitude\").distinct.count()"
   ]
  },
  {
   "cell_type": "markdown",
   "metadata": {},
   "source": [
    "#### Based on the preliminary analysis above, the features we have identified as important for the future model are:\n",
    "\n",
    "* Address\n",
    "* Suburb\n",
    "* Date\n",
    "* Price\n",
    "* Method\n",
    "* Type\n",
    "* Distance\n",
    "* Rooms\n",
    "* Bathroom\n",
    "* Car\n",
    "* Landsize\n",
    "* Lattitude\n",
    "* Longtitude\n",
    "\n",
    "The excluded features are:\n",
    "\n",
    "* SellerG\n",
    "* Postcode\n",
    "* Bedroom2\n",
    "* BuildingArea\n",
    "* YearBuilt\n",
    "* CouncilArea\n",
    "* Regionname\n",
    "* Propertycount\n",
    "\n",
    "\n",
    "Therefore we will continue our analysis on the following."
   ]
  },
  {
   "cell_type": "markdown",
   "metadata": {},
   "source": [
    "### Categorical Attributes\n",
    "\n",
    "#### Address"
   ]
  },
  {
   "cell_type": "code",
   "execution_count": 31,
   "metadata": {},
   "outputs": [
    {
     "data": {
      "text/plain": [
       "res21: Long = 0\n"
      ]
     },
     "execution_count": 31,
     "metadata": {},
     "output_type": "execute_result"
    }
   ],
   "source": [
    "df_raw.filter(\"Address IS NULL\").count()"
   ]
  },
  {
   "cell_type": "code",
   "execution_count": 32,
   "metadata": {},
   "outputs": [
    {
     "name": "stdout",
     "output_type": "stream",
     "text": [
      "+-------------------+\n",
      "|            Address|\n",
      "+-------------------+\n",
      "|      557 Orrong Rd|\n",
      "|      19 Poulter St|\n",
      "|    43 Riverside Av|\n",
      "|       11 South Tce|\n",
      "|  41 Marlborough St|\n",
      "|          4 Park Cr|\n",
      "|        3/3 Dega Av|\n",
      "|        93 Tudor St|\n",
      "|         10 Kent Rd|\n",
      "|       18 Thomas St|\n",
      "|   1/1 Glen Iris Rd|\n",
      "|      7 Allambee Av|\n",
      "|    83 Truganini Rd|\n",
      "|       130 Keele St|\n",
      "|       8 Winters Wy|\n",
      "|     36a Mitford St|\n",
      "|   7/223 Station St|\n",
      "|1/146 Ascot Vale Rd|\n",
      "|    5/60 Farnham St|\n",
      "|      22 Renwick St|\n",
      "+-------------------+\n",
      "only showing top 20 rows\n",
      "\n"
     ]
    }
   ],
   "source": [
    "df_raw.select(\"Address\").distinct.show()"
   ]
  },
  {
   "cell_type": "markdown",
   "metadata": {},
   "source": [
    "As seen above based on the complexity of Addresses, it would be useful to reduce them to a Street Name and Type in order to create categories within suburbs based on a street."
   ]
  },
  {
   "cell_type": "markdown",
   "metadata": {},
   "source": [
    "#### Suburb"
   ]
  },
  {
   "cell_type": "code",
   "execution_count": 33,
   "metadata": {},
   "outputs": [
    {
     "name": "stdout",
     "output_type": "stream",
     "text": [
      "+----------------+\n",
      "|          Suburb|\n",
      "+----------------+\n",
      "|  Brunswick West|\n",
      "| South Melbourne|\n",
      "|    Ivanhoe East|\n",
      "|    Princes Hill|\n",
      "|      Cranbourne|\n",
      "|         Ashwood|\n",
      "|       Brunswick|\n",
      "|South Kingsville|\n",
      "|        Brighton|\n",
      "|        Oak Park|\n",
      "|         Doveton|\n",
      "|       Albanvale|\n",
      "|      Brookfield|\n",
      "|        Lynbrook|\n",
      "|     Ferny Creek|\n",
      "|     Pascoe Vale|\n",
      "| Blackburn North|\n",
      "|         croydon|\n",
      "|     Sandringham|\n",
      "|   Botanic Ridge|\n",
      "+----------------+\n",
      "only showing top 20 rows\n",
      "\n"
     ]
    }
   ],
   "source": [
    "df_raw.select(\"Suburb\").distinct.show()"
   ]
  },
  {
   "cell_type": "code",
   "execution_count": 34,
   "metadata": {},
   "outputs": [
    {
     "data": {
      "text/plain": [
       "res24: Long = 351\n"
      ]
     },
     "execution_count": 34,
     "metadata": {},
     "output_type": "execute_result"
    }
   ],
   "source": [
    "df_raw.select(\"Suburb\").distinct.count()"
   ]
  },
  {
   "cell_type": "markdown",
   "metadata": {},
   "source": [
    "The Suburbs generally seem to correct what will need to done is:\n",
    "* Capitalise the first letter of the suburb names\n",
    "* Also the North/West/South/East suffixes to suburbs will be left, as they provide a more accurate location within a suburb."
   ]
  },
  {
   "cell_type": "markdown",
   "metadata": {},
   "source": [
    "#### Date"
   ]
  },
  {
   "cell_type": "code",
   "execution_count": 35,
   "metadata": {},
   "outputs": [
    {
     "data": {
      "text/plain": [
       "dates: org.apache.spark.sql.Dataset[org.apache.spark.sql.Row] = [Date: string]\n"
      ]
     },
     "execution_count": 35,
     "metadata": {},
     "output_type": "execute_result"
    }
   ],
   "source": [
    "val dates = df_raw.select(\"Date\").distinct()"
   ]
  },
  {
   "cell_type": "code",
   "execution_count": 36,
   "metadata": {},
   "outputs": [
    {
     "data": {
      "text/plain": [
       "res25: Long = 78\n"
      ]
     },
     "execution_count": 36,
     "metadata": {},
     "output_type": "execute_result"
    }
   ],
   "source": [
    "dates.count()"
   ]
  },
  {
   "cell_type": "code",
   "execution_count": 37,
   "metadata": {},
   "outputs": [
    {
     "data": {
      "text/plain": [
       "res26: Long = 0\n"
      ]
     },
     "execution_count": 37,
     "metadata": {},
     "output_type": "execute_result"
    }
   ],
   "source": [
    "df_raw.filter(\"Date IS NULL\").count()"
   ]
  },
  {
   "cell_type": "code",
   "execution_count": 38,
   "metadata": {
    "scrolled": true
   },
   "outputs": [
    {
     "name": "stdout",
     "output_type": "stream",
     "text": [
      "+----------+\n",
      "|      Date|\n",
      "+----------+\n",
      "|16/04/2016|\n",
      "|29/04/2017|\n",
      "|10/12/2016|\n",
      "|19/08/2017|\n",
      "| 7/05/2016|\n",
      "| 8/07/2017|\n",
      "| 4/03/2017|\n",
      "|29/07/2017|\n",
      "|27/05/2017|\n",
      "|28/10/2017|\n",
      "| 9/09/2017|\n",
      "|26/07/2016|\n",
      "|12/11/2016|\n",
      "|25/02/2017|\n",
      "| 6/05/2017|\n",
      "|18/11/2017|\n",
      "| 3/09/2016|\n",
      "| 3/12/2016|\n",
      "|25/11/2017|\n",
      "| 3/06/2017|\n",
      "|23/04/2016|\n",
      "|30/09/2017|\n",
      "|21/10/2017|\n",
      "| 7/11/2016|\n",
      "|17/03/2018|\n",
      "|18/03/2017|\n",
      "| 4/06/2016|\n",
      "|28/08/2016|\n",
      "|24/06/2017|\n",
      "|13/08/2016|\n",
      "| 6/01/2018|\n",
      "|12/08/2017|\n",
      "| 3/02/2018|\n",
      "| 8/04/2017|\n",
      "|22/04/2017|\n",
      "|20/05/2017|\n",
      "|17/09/2016|\n",
      "|12/06/2016|\n",
      "|14/05/2016|\n",
      "| 4/11/2017|\n",
      "|24/02/2018|\n",
      "|14/10/2017|\n",
      "| 8/10/2016|\n",
      "|10/09/2016|\n",
      "|20/01/2018|\n",
      "|16/07/2016|\n",
      "|11/03/2017|\n",
      "| 9/12/2017|\n",
      "| 7/10/2017|\n",
      "|13/05/2017|\n",
      "|23/09/2017|\n",
      "|17/06/2017|\n",
      "|15/10/2016|\n",
      "|10/02/2018|\n",
      "|27/06/2016|\n",
      "|27/11/2016|\n",
      "|30/07/2016|\n",
      "|28/01/2016|\n",
      "| 3/03/2018|\n",
      "|16/09/2017|\n",
      "|26/08/2017|\n",
      "|22/05/2016|\n",
      "|28/05/2016|\n",
      "|22/07/2017|\n",
      "| 3/09/2017|\n",
      "|15/07/2017|\n",
      "|24/09/2016|\n",
      "|17/02/2018|\n",
      "| 6/08/2016|\n",
      "|22/08/2016|\n",
      "| 1/07/2017|\n",
      "|18/06/2016|\n",
      "|19/11/2016|\n",
      "|11/02/2017|\n",
      "|11/11/2017|\n",
      "|27/01/2018|\n",
      "|10/03/2018|\n",
      "| 4/02/2016|\n",
      "+----------+\n",
      "\n"
     ]
    }
   ],
   "source": [
    "dates.show(80)"
   ]
  },
  {
   "cell_type": "markdown",
   "metadata": {},
   "source": [
    "#### Method"
   ]
  },
  {
   "cell_type": "code",
   "execution_count": 39,
   "metadata": {},
   "outputs": [
    {
     "name": "stdout",
     "output_type": "stream",
     "text": [
      "+------+\n",
      "|Method|\n",
      "+------+\n",
      "|    PI|\n",
      "|    SA|\n",
      "|    SP|\n",
      "|    VB|\n",
      "|    PN|\n",
      "|     W|\n",
      "|     S|\n",
      "|    SN|\n",
      "|    SS|\n",
      "+------+\n",
      "\n"
     ]
    }
   ],
   "source": [
    "df_raw.select(\"Method\").distinct.show()"
   ]
  },
  {
   "cell_type": "markdown",
   "metadata": {},
   "source": [
    "#### Null values  "
   ]
  },
  {
   "cell_type": "code",
   "execution_count": 40,
   "metadata": {},
   "outputs": [
    {
     "data": {
      "text/plain": [
       "res29: Long = 0\n"
      ]
     },
     "execution_count": 40,
     "metadata": {},
     "output_type": "execute_result"
    }
   ],
   "source": [
    "df_raw.filter(\"Method IS NULL\").count()"
   ]
  },
  {
   "cell_type": "markdown",
   "metadata": {},
   "source": [
    "#### Type \n",
    "#### Distinct values "
   ]
  },
  {
   "cell_type": "code",
   "execution_count": 41,
   "metadata": {
    "scrolled": true
   },
   "outputs": [
    {
     "name": "stdout",
     "output_type": "stream",
     "text": [
      "+----+\n",
      "|Type|\n",
      "+----+\n",
      "|   h|\n",
      "|   u|\n",
      "|   t|\n",
      "+----+\n",
      "\n"
     ]
    }
   ],
   "source": [
    "df_raw.select(\"Type\").distinct.show()"
   ]
  },
  {
   "cell_type": "markdown",
   "metadata": {},
   "source": [
    "#### 9. Regionname"
   ]
  },
  {
   "cell_type": "code",
   "execution_count": 46,
   "metadata": {
    "scrolled": false
   },
   "outputs": [
    {
     "name": "stdout",
     "output_type": "stream",
     "text": [
      "+--------------------+\n",
      "|          Regionname|\n",
      "+--------------------+\n",
      "|South-Eastern Met...|\n",
      "|Western Metropolitan|\n",
      "|Eastern Metropolitan|\n",
      "|    Eastern Victoria|\n",
      "|                #N/A|\n",
      "|   Northern Victoria|\n",
      "|Northern Metropol...|\n",
      "|Southern Metropol...|\n",
      "|    Western Victoria|\n",
      "+--------------------+\n",
      "\n"
     ]
    }
   ],
   "source": [
    "df_raw.select(\"Regionname\").distinct.show()"
   ]
  },
  {
   "cell_type": "code",
   "execution_count": 47,
   "metadata": {},
   "outputs": [
    {
     "data": {
      "text/plain": [
       "res36: Long = 0\n"
      ]
     },
     "execution_count": 47,
     "metadata": {},
     "output_type": "execute_result"
    }
   ],
   "source": [
    "df_raw.filter(\"Regionname IS NULL\").count()"
   ]
  },
  {
   "cell_type": "markdown",
   "metadata": {},
   "source": [
    "# Wrangling\n",
    "\n",
    "### The cleansing process based on the above findings has been completed in a separate notebook"
   ]
  },
  {
   "cell_type": "markdown",
   "metadata": {},
   "source": [
    "# Secondary Analysis\n",
    "\n",
    "Perform a secondary analysis on the clean dataset to compare it with the original."
   ]
  },
  {
   "cell_type": "code",
   "execution_count": 52,
   "metadata": {},
   "outputs": [
    {
     "name": "stdout",
     "output_type": "stream",
     "text": [
      "put: `/tmp/output/cleanMelbourneData.csv': File exists\n",
      "\n",
      "\n"
     ]
    }
   ],
   "source": [
    "! hadoop fs -mkdir -p  /tmp/output\n",
    "! hadoop fs -put   -p  ./../data-clean/*.csv             /tmp/output"
   ]
  },
  {
   "cell_type": "code",
   "execution_count": 53,
   "metadata": {},
   "outputs": [
    {
     "data": {
      "text/plain": [
       "df_clean: org.apache.spark.sql.DataFrame = [Price: string, MethodOfSale: string ... 11 more fields]\n"
      ]
     },
     "execution_count": 53,
     "metadata": {},
     "output_type": "execute_result"
    }
   ],
   "source": [
    "// Load Clean Dataset into a DataFrame from HDFS after wrangling is completed\n",
    "val df_clean = spark\n",
    "    .read\n",
    "    .format(\"csv\")\n",
    "    .option(\"header\", \"true\")\n",
    "    .load(\"hdfs://localhost:9000/tmp/output/*.csv\")"
   ]
  },
  {
   "cell_type": "code",
   "execution_count": 54,
   "metadata": {},
   "outputs": [
    {
     "data": {
      "text/plain": [
       "res40: Long = 15728\n"
      ]
     },
     "execution_count": 54,
     "metadata": {},
     "output_type": "execute_result"
    }
   ],
   "source": [
    "// Count the rows within the imported file\n",
    "df_clean.count()"
   ]
  },
  {
   "cell_type": "code",
   "execution_count": 55,
   "metadata": {},
   "outputs": [
    {
     "name": "stdout",
     "output_type": "stream",
     "text": [
      "root\n",
      " |-- Price: string (nullable = true)\n",
      " |-- MethodOfSale: string (nullable = true)\n",
      " |-- PropertyType: string (nullable = true)\n",
      " |-- DistanceFromCBD: string (nullable = true)\n",
      " |-- Rooms: string (nullable = true)\n",
      " |-- Bathroom: string (nullable = true)\n",
      " |-- Car: string (nullable = true)\n",
      " |-- Landsize: string (nullable = true)\n",
      " |-- Latitude: string (nullable = true)\n",
      " |-- Longtitude: string (nullable = true)\n",
      " |-- Suburb: string (nullable = true)\n",
      " |-- Date: string (nullable = true)\n",
      " |-- StreetName: string (nullable = true)\n",
      "\n"
     ]
    }
   ],
   "source": [
    "df_clean.printSchema()"
   ]
  },
  {
   "cell_type": "code",
   "execution_count": 56,
   "metadata": {
    "scrolled": true
   },
   "outputs": [
    {
     "name": "stdout",
     "output_type": "stream",
     "text": [
      "+---------+------------+------------+---------------+-----+--------+---+--------+--------+----------+----------+----------+-------------+\n",
      "|    Price|MethodOfSale|PropertyType|DistanceFromCBD|Rooms|Bathroom|Car|Landsize|Latitude|Longtitude|    Suburb|      Date|   StreetName|\n",
      "+---------+------------+------------+---------------+-----+--------+---+--------+--------+----------+----------+----------+-------------+\n",
      "|1480000.0|           1|           1|            2.5|    2|       1|  1|   202.0|-37.7996|  144.9984|Abbotsford| 3/12/2016|    Turner St|\n",
      "|1035000.0|           1|           1|            2.5|    2|       1|  0|   156.0|-37.8079|  144.9934|Abbotsford| 4/02/2016| Bloomburg St|\n",
      "|1465000.0|           2|           1|            2.5|    3|       2|  0|   134.0|-37.8093|  144.9944|Abbotsford| 4/03/2017|   Charles St|\n",
      "| 850000.0|           3|           1|            2.5|    3|       2|  1|    94.0|-37.7969|  144.9969|Abbotsford| 4/03/2017|Federation La|\n",
      "|1600000.0|           6|           1|            2.5|    4|       1|  2|   120.0|-37.8072|  144.9941|Abbotsford| 4/06/2016|      Park St|\n",
      "| 941000.0|           1|           1|            2.5|    2|       1|  0|   181.0|-37.8041|  144.9953|Abbotsford| 7/05/2016|   Charles St|\n",
      "|1876000.0|           1|           1|            2.5|    3|       2|  0|   245.0|-37.8024|  144.9993|Abbotsford| 7/05/2016|     Yarra St|\n",
      "|1636000.0|           1|           1|            2.5|    2|       1|  2|   256.0| -37.806|  144.9954|Abbotsford| 8/10/2016|   Charles St|\n",
      "|1097000.0|           1|           1|            2.5|    2|       1|  2|   220.0| -37.801|  144.9989|Abbotsford| 8/10/2016|   Valiant St|\n",
      "|1350000.0|           6|           1|            2.5|    3|       2|  2|   214.0|-37.8085|  144.9964|Abbotsford|12/11/2016| Nicholson St|\n",
      "|1172500.0|           1|           1|            2.5|    2|       1|  1|   195.0|-37.8084|  144.9973|Abbotsford|13/08/2016|   William St|\n",
      "|1310000.0|           1|           1|            2.5|    2|       1|  2|   238.0| -37.809|  144.9976|Abbotsford|15/10/2016|   William St|\n",
      "|1200000.0|           1|           1|            2.5|    3|       2|  1|   113.0|-37.8056|   144.993|Abbotsford|16/07/2016|     Henry St|\n",
      "|1176500.0|           1|           1|            2.5|    3|       1|  1|   138.0|-37.8021|  144.9965|Abbotsford|16/07/2016|     Yarra St|\n",
      "| 955000.0|           1|           1|            2.5|    3|       1|  0|   183.0|-37.8022|  144.9975|Abbotsford|17/09/2016| Nicholson St|\n",
      "| 890000.0|           1|           1|            2.5|    2|       1|  1|   150.0|-37.8011|  145.0004|Abbotsford|17/09/2016|   Valiant St|\n",
      "|1330000.0|           3|           1|            2.5|    4|       2|  2|   780.0|-37.8073|  144.9952|Abbotsford|18/03/2017|   Charles St|\n",
      "|1090000.0|           1|           2|            2.5|    3|       2|  2|  4290.0|-37.8078|  144.9965|Abbotsford|18/03/2017| Nicholson St|\n",
      "|1100000.0|           3|           1|            2.5|    2|       2|  1|   124.0|-37.8079|  144.9977|Abbotsford|18/06/2016|   William St|\n",
      "|1315000.0|           1|           1|            2.5|    2|       1|  0|   147.0| -37.808|   144.994|Abbotsford|19/11/2016|      Park St|\n",
      "+---------+------------+------------+---------------+-----+--------+---+--------+--------+----------+----------+----------+-------------+\n",
      "only showing top 20 rows\n",
      "\n"
     ]
    }
   ],
   "source": [
    "df_clean.select(\"Price\", \n",
    "                \"MethodOfSale\", \n",
    "                \"PropertyType\", \n",
    "                \"DistanceFromCBD\", \n",
    "                \"Rooms\", \n",
    "                \"Bathroom\", \n",
    "                \"Car\", \n",
    "                \"Landsize\", \n",
    "                \"Latitude\", \n",
    "                \"Longtitude\", \n",
    "                \"Suburb\", \n",
    "                \"Date\", \n",
    "                \"StreetName\").show()"
   ]
  },
  {
   "cell_type": "markdown",
   "metadata": {},
   "source": [
    "### Descriptive Statistics:"
   ]
  },
  {
   "cell_type": "code",
   "execution_count": 57,
   "metadata": {},
   "outputs": [
    {
     "name": "stdout",
     "output_type": "stream",
     "text": [
      "+-------+-----------------+------------------+------------------+------------------+------------------+------------------+\n",
      "|Summary|            Price|      MethodOfSale|      PropertyType|   DistancefromCBD|             Rooms|          Bathroom|\n",
      "+-------+-----------------+------------------+------------------+------------------+------------------+------------------+\n",
      "|  count|            15728|             15728|             15728|             15728|             15728|             15728|\n",
      "|   mean|1150668.961851475|1.8519201424211598|1.2367115971515767|11.743203204475906| 3.187817904374364|1.6276068158697863|\n",
      "| stddev|663018.9561677927|1.5641294862942188|0.5723389425747235| 6.700598921434572|0.8816674199865697|0.7148157821249159|\n",
      "|    min|           1.12E7|                 1|                 1|               0.0|                 1|                 0|\n",
      "|    max|         999999.0|                 8|                 3|               9.9|                 8|                 9|\n",
      "+-------+-----------------+------------------+------------------+------------------+------------------+------------------+\n",
      "\n"
     ]
    }
   ],
   "source": [
    "df_clean.describe().select(\"Summary\", \n",
    "                           \"Price\", \n",
    "                           \"MethodOfSale\", \n",
    "                           \"PropertyType\", \n",
    "                           \"DistancefromCBD\", \n",
    "                           \"Rooms\", \n",
    "                           \"Bathroom\").show()"
   ]
  },
  {
   "cell_type": "code",
   "execution_count": 58,
   "metadata": {},
   "outputs": [
    {
     "name": "stdout",
     "output_type": "stream",
     "text": [
      "+-------+------------------+------------------+-------------------+-------------------+----------+---------+-----------+\n",
      "|summary|               Car|          Landsize|           Latitude|         Longtitude|    Suburb|     Date| StreetName|\n",
      "+-------+------------------+------------------+-------------------+-------------------+----------+---------+-----------+\n",
      "|  count|             15728|             15728|              15728|              15728|     15728|    15728|      15728|\n",
      "|   mean|1.7699008138351984| 668.6406408952187| -37.80422331192775|  144.9974195784588|      null|     null|       null|\n",
      "| stddev|1.0185620996735723|4008.2209550592024|0.09275044706405701|0.12243663700518545|      null|     null|       null|\n",
      "|    min|                 0|             100.0|          -37.39946|          144.42379|Abbotsford|1/07/2017|Aanensen Ct|\n",
      "|    max|                 9|             999.0|          -38.19043|          145.52635|Yarraville|9/12/2017|Zurzolo Tce|\n",
      "+-------+------------------+------------------+-------------------+-------------------+----------+---------+-----------+\n",
      "\n"
     ]
    }
   ],
   "source": [
    "df_clean.describe().select(\"summary\", \n",
    "                           \"Car\",\n",
    "                           \"Landsize\", \n",
    "                           \"Latitude\", \n",
    "                           \"Longtitude\", \n",
    "                           \"Suburb\", \n",
    "                           \"Date\", \n",
    "                           \"StreetName\").show()"
   ]
  },
  {
   "cell_type": "markdown",
   "metadata": {},
   "source": [
    "### Crosstabulation of categorical attributes\n",
    "\n",
    "**PropertyType:**\n",
    "\n",
    "house => \"H\" => 1, \n",
    "unit => \"U\" => 2, \n",
    "townhouse  => \"T\" => 3\n",
    "\n",
    "**MethodOfSale:**\n",
    "\n",
    "property sold => \"S\" => 1\n",
    "\n",
    "property sold prior  => \"SP\" => 2\n",
    "\n",
    "property passed in  => \"PI\" => 3\n",
    "\n",
    "sold prior not disclosed  => \"PN\" => 4\n",
    "\n",
    "sold not disclosed  => \"SN\" => 5\n",
    "\n",
    "vendor bid  => \"VB\" => 6\n",
    "\n",
    "withdrawn prior to auction  => \"W\" => 7\n",
    "\n",
    "sold after auction  => \"SA\" => 8\n",
    "\n",
    "sold after auction price not disclosed  => \"SS\" => 9  "
   ]
  },
  {
   "cell_type": "code",
   "execution_count": 62,
   "metadata": {},
   "outputs": [
    {
     "name": "stdout",
     "output_type": "stream",
     "text": [
      "+-------------------------+----+---+---+\n",
      "|MethodOfSale_PropertyType|   1|  2|  3|\n",
      "+-------------------------+----+---+---+\n",
      "|                        8|  97| 10|  9|\n",
      "|                        6|1142|130|126|\n",
      "|                        1|8804|916|727|\n",
      "|                        2|1589|208|140|\n",
      "|                        3|1528|149|153|\n",
      "+-------------------------+----+---+---+\n",
      "\n"
     ]
    }
   ],
   "source": [
    "df_clean.stat.crosstab(\"MethodOfSale\",\"PropertyType\").show()"
   ]
  },
  {
   "cell_type": "code",
   "execution_count": 81,
   "metadata": {},
   "outputs": [
    {
     "name": "stdout",
     "output_type": "stream",
     "text": [
      "+-------------------+---+---+---+\n",
      "|Suburb_PropertyType|  1|  2|  3|\n",
      "+-------------------+---+---+---+\n",
      "|          Reservoir|317| 68| 24|\n",
      "|            Preston|247| 21| 10|\n",
      "|     Bentleigh East|203| 29| 56|\n",
      "|       Balwyn North|192| 10| 14|\n",
      "|             Coburg|190|  7| 22|\n",
      "|          Brunswick|189| 15| 16|\n",
      "|          Northcote|186|  9|  7|\n",
      "|           Richmond|167| 35| 16|\n",
      "|            Glenroy|164| 15| 26|\n",
      "|         Yarraville|163|  3|  7|\n",
      "|           Essendon|158| 33| 16|\n",
      "|          Glen Iris|157| 17| 16|\n",
      "|            Newport|143|  3| 10|\n",
      "|                Kew|142| 14| 12|\n",
      "|        Pascoe Vale|142| 23| 30|\n",
      "|      Brighton East|140| 15| 21|\n",
      "|           Brighton|136| 27| 25|\n",
      "|       Moonee Ponds|136|  7| 11|\n",
      "|        Keilor East|134|  5| 18|\n",
      "|         Camberwell|126| 23| 13|\n",
      "+-------------------+---+---+---+\n",
      "only showing top 20 rows\n",
      "\n"
     ]
    }
   ],
   "source": [
    "// show suburbs with most sold houses\n",
    "df_clean.stat.crosstab(\"Suburb\",\"PropertyType\").orderBy(desc(\"1\")).show()"
   ]
  },
  {
   "cell_type": "code",
   "execution_count": 82,
   "metadata": {},
   "outputs": [
    {
     "name": "stdout",
     "output_type": "stream",
     "text": [
      "+-------------------+---+---+---+\n",
      "|Suburb_PropertyType|  1|  2|  3|\n",
      "+-------------------+---+---+---+\n",
      "|          Reservoir|317| 68| 24|\n",
      "|           St Kilda| 44| 42|  2|\n",
      "|           Hawthorn| 95| 38|  5|\n",
      "|           Richmond|167| 35| 16|\n",
      "|           Essendon|158| 33| 16|\n",
      "|        South Yarra| 58| 31|  7|\n",
      "|             Elwood| 36| 31|  5|\n",
      "|     Bentleigh East|203| 29| 56|\n",
      "|           Carnegie| 63| 29| 15|\n",
      "|           Brighton|136| 27| 25|\n",
      "|       Surrey Hills|109| 25|  7|\n",
      "|        Pascoe Vale|142| 23| 30|\n",
      "|         Camberwell|126| 23| 13|\n",
      "|             Altona| 51| 21| 10|\n",
      "|            Preston|247| 21| 10|\n",
      "|      Hawthorn East| 79| 20|  7|\n",
      "|        Murrumbeena| 44| 19| 12|\n",
      "|     Port Melbourne| 93| 17|  3|\n",
      "|            Hampton|108| 17| 15|\n",
      "|          Glen Iris|157| 17| 16|\n",
      "+-------------------+---+---+---+\n",
      "only showing top 20 rows\n",
      "\n"
     ]
    }
   ],
   "source": [
    "// show suburbs with most sold units\n",
    "df_clean.stat.crosstab(\"Suburb\",\"PropertyType\").orderBy(desc(\"2\")).show()"
   ]
  },
  {
   "cell_type": "code",
   "execution_count": 83,
   "metadata": {},
   "outputs": [
    {
     "name": "stdout",
     "output_type": "stream",
     "text": [
      "+-------------------+---+---+---+\n",
      "|Suburb_PropertyType|  1|  2|  3|\n",
      "+-------------------+---+---+---+\n",
      "|          Reservoir|317| 68| 24|\n",
      "|           St Kilda| 44| 42|  2|\n",
      "|           Hawthorn| 95| 38|  5|\n",
      "|           Richmond|167| 35| 16|\n",
      "|           Essendon|158| 33| 16|\n",
      "|             Elwood| 36| 31|  5|\n",
      "|        South Yarra| 58| 31|  7|\n",
      "|     Bentleigh East|203| 29| 56|\n",
      "|           Carnegie| 63| 29| 15|\n",
      "|           Brighton|136| 27| 25|\n",
      "|       Surrey Hills|109| 25|  7|\n",
      "|         Camberwell|126| 23| 13|\n",
      "|        Pascoe Vale|142| 23| 30|\n",
      "|            Preston|247| 21| 10|\n",
      "|             Altona| 51| 21| 10|\n",
      "|      Hawthorn East| 79| 20|  7|\n",
      "|        Murrumbeena| 44| 19| 12|\n",
      "|          Glen Iris|157| 17| 16|\n",
      "|     Port Melbourne| 93| 17|  3|\n",
      "|            Hampton|108| 17| 15|\n",
      "+-------------------+---+---+---+\n",
      "only showing top 20 rows\n",
      "\n"
     ]
    }
   ],
   "source": [
    "// show suburbs with most sold townhouses\n",
    "df_clean.stat.crosstab(\"Suburb\",\"PropertyType\").orderBy(desc(\"2\")).show()"
   ]
  },
  {
   "cell_type": "code",
   "execution_count": 64,
   "metadata": {},
   "outputs": [
    {
     "name": "stdout",
     "output_type": "stream",
     "text": [
      "+--------------+---+----+----+---+---+---+---+---+---+---+\n",
      "|Rooms_Bathroom|  0|   1|   2|  3|  4|  5|  6|  7|  8|  9|\n",
      "+--------------+---+----+----+---+---+---+---+---+---+---+\n",
      "|            12|  0|   0|   0|  0|  0|  1|  0|  0|  0|  0|\n",
      "|             8|  0|   0|   2|  2|  3|  0|  1|  1|  1|  0|\n",
      "|             4|  3| 606|2734|658| 55|  5|  1|  0|  1|  0|\n",
      "|             5|  0|  21| 380|362| 71| 36|  2|  0|  0|  0|\n",
      "|            10|  0|   0|   0|  1|  0|  0|  0|  0|  0|  1|\n",
      "|             6|  0|   3|  21| 51| 16|  0|  2|  0|  0|  0|\n",
      "|             1|  1| 232|   6|  0|  0|  0|  0|  0|  0|  0|\n",
      "|             2|  4|2439| 333|  7|  0|  0|  0|  0|  0|  0|\n",
      "|             7|  0|   0|   4|  7|  3|  0|  0|  0|  0|  0|\n",
      "|             3|  8|4291|3159|184|  5|  1|  3|  0|  0|  0|\n",
      "+--------------+---+----+----+---+---+---+---+---+---+---+\n",
      "\n"
     ]
    }
   ],
   "source": [
    "df_clean.stat.crosstab(\"Rooms\",\"Bathroom\").show()"
   ]
  },
  {
   "cell_type": "code",
   "execution_count": 65,
   "metadata": {},
   "outputs": [
    {
     "name": "stdout",
     "output_type": "stream",
     "text": [
      "+---------+---+----+---+---+---+----+---+---+---+---+---+---+---+\n",
      "|Rooms_Car|  0|   1| 10| 11| 18|   2|  3|  4|  5|  6|  7|  8|  9|\n",
      "+---------+---+----+---+---+---+----+---+---+---+---+---+---+---+\n",
      "|       12|  0|   0|  0|  0|  0|   0|  1|  0|  0|  0|  0|  0|  0|\n",
      "|        8|  0|   1|  0|  0|  0|   0|  2|  7|  0|  0|  0|  0|  0|\n",
      "|        4|112| 625|  2|  1|  0|2599|358|286| 43| 22|  7|  7|  1|\n",
      "|        5| 14|  62|  1|  0|  0| 568|105| 92| 15| 14|  1|  0|  0|\n",
      "|       10|  0|   0|  0|  0|  0|   2|  0|  0|  0|  0|  0|  0|  0|\n",
      "|        6|  1|   5|  0|  0|  0|  55| 12| 13|  3|  3|  1|  0|  0|\n",
      "|        1| 48| 183|  0|  0|  0|   5|  0|  3|  0|  0|  0|  0|  0|\n",
      "|        2|403|1661|  0|  0|  1| 600| 75| 35|  3|  4|  1|  0|  0|\n",
      "|        7|  1|   1|  0|  0|  0|   5|  2|  5|  0|  0|  0|  0|  0|\n",
      "|        3|464|2462|  1|  0|  0|3810|489|331| 35| 48|  5|  5|  1|\n",
      "+---------+---+----+---+---+---+----+---+---+---+---+---+---+---+\n",
      "\n"
     ]
    }
   ],
   "source": [
    "df_clean.stat.crosstab(\"Rooms\",\"Car\").show()"
   ]
  },
  {
   "cell_type": "code",
   "execution_count": 66,
   "metadata": {},
   "outputs": [
    {
     "name": "stdout",
     "output_type": "stream",
     "text": [
      "+----------------+---+----+---+---+---+----+----+---+---+---+---+---+---+\n",
      "|PropertyType_Car|  0|   1| 10| 11| 18|   2|   3|  4|  5|  6|  7|  8|  9|\n",
      "+----------------+---+----+---+---+---+----+----+---+---+---+---+---+---+\n",
      "|               2| 49|1043|  0|  0|  0| 299|  16|  4|  0|  1|  1|  0|  0|\n",
      "|               1|980|3488|  4|  1|  1|6702|1004|763| 99| 90| 14| 12|  2|\n",
      "|               3| 14| 469|  0|  0|  0| 643|  24|  5|  0|  0|  0|  0|  0|\n",
      "+----------------+---+----+---+---+---+----+----+---+---+---+---+---+---+\n",
      "\n"
     ]
    }
   ],
   "source": [
    "df_clean.stat.crosstab(\"PropertyType\",\"Car\").show()"
   ]
  },
  {
   "cell_type": "markdown",
   "metadata": {},
   "source": [
    "### Correlation with Price"
   ]
  },
  {
   "cell_type": "code",
   "execution_count": 72,
   "metadata": {},
   "outputs": [
    {
     "name": "stdout",
     "output_type": "stream",
     "text": [
      "+-------------------------+\n",
      "|corr(MethodOfSale, Price)|\n",
      "+-------------------------+\n",
      "|      0.09999735389602706|\n",
      "+-------------------------+\n",
      "\n",
      "+-------------------------+\n",
      "|corr(PropertyType, Price)|\n",
      "+-------------------------+\n",
      "|     -0.19834317580327496|\n",
      "+-------------------------+\n",
      "\n",
      "+----------------------------+\n",
      "|corr(DistancefromCBD, Price)|\n",
      "+----------------------------+\n",
      "|         -0.3067923420146305|\n",
      "+----------------------------+\n",
      "\n",
      "+-------------------+\n",
      "|corr(Suburb, Price)|\n",
      "+-------------------+\n",
      "|               null|\n",
      "+-------------------+\n",
      "\n",
      "+------------------+\n",
      "|corr(Rooms, Price)|\n",
      "+------------------+\n",
      "|0.3891959982715667|\n",
      "+------------------+\n",
      "\n",
      "+---------------------+\n",
      "|corr(Bathroom, Price)|\n",
      "+---------------------+\n",
      "|   0.4070422568142487|\n",
      "+---------------------+\n",
      "\n",
      "+------------------+\n",
      "|  corr(Car, Price)|\n",
      "+------------------+\n",
      "|0.1508691880664582|\n",
      "+------------------+\n",
      "\n",
      "+---------------------+\n",
      "|corr(Landsize, Price)|\n",
      "+---------------------+\n",
      "| 0.020547866303955897|\n",
      "+---------------------+\n",
      "\n",
      "+---------------------+\n",
      "|corr(Latitude, Price)|\n",
      "+---------------------+\n",
      "|  -0.2523660525744002|\n",
      "+---------------------+\n",
      "\n",
      "+-----------------------+\n",
      "|corr(Longtitude, Price)|\n",
      "+-----------------------+\n",
      "|    0.20616294979089247|\n",
      "+-----------------------+\n",
      "\n"
     ]
    }
   ],
   "source": [
    "// Correlation now will include the categorical variables which where converted to factor.\n",
    "df_clean.select(corr(\"MethodOfSale\",\"Price\")).show()\n",
    "df_clean.select(corr(\"PropertyType\",\"Price\")).show()\n",
    "df_clean.select(corr(\"DistancefromCBD\",\"Price\")).show()\n",
    "df_clean.select(corr(\"Rooms\",\"Price\")).show()\n",
    "df_clean.select(corr(\"Bathroom\",\"Price\")).show()\n",
    "df_clean.select(corr(\"Car\",\"Price\")).show()\n",
    "df_clean.select(corr(\"Landsize\",\"Price\")).show()\n",
    "df_clean.select(corr(\"Latitude\",\"Price\")).show()\n",
    "df_clean.select(corr(\"Longtitude\",\"Price\")).show()"
   ]
  },
  {
   "cell_type": "markdown",
   "metadata": {},
   "source": [
    "## References\n",
    "\n",
    "Apache Spark (n.d.). _Spark Scala API (Scaladoc). Overview._ https://spark.apache.org/docs/latest/api/java/overview-summary.html\n",
    "\n",
    "Apache Spark (n.d.). _Basic Statistic._ https://spark.apache.org/docs/latest/ml-statistics.html\n",
    "\n",
    "Bahadoor N. (2020). _Spark Tutorials_ https://allaboutscala.com/big-data/spark/#dataframe-statistics-correlation\n",
    "\n",
    "Databricks. (2020). _Introduction to DataFrames - Scala._  https://docs.databricks.com/spark/latest/dataframes-datasets/introduction-to-dataframes-scala.html \n",
    "\n",
    "Grimaldi E. (2018). _Pandas vs. Spark: how to handle dataframes (Part II.)_  https://towardsdatascience.com/python-pandas-vs-scala-how-to-handle-dataframes-part-ii-d3e5efe8287d \n",
    "\n"
   ]
  }
 ],
 "metadata": {
  "kernelspec": {
   "display_name": "spylon-kernel",
   "language": "scala",
   "name": "spylon-kernel"
  },
  "language_info": {
   "codemirror_mode": "text/x-scala",
   "file_extension": ".scala",
   "help_links": [
    {
     "text": "MetaKernel Magics",
     "url": "https://metakernel.readthedocs.io/en/latest/source/README.html"
    }
   ],
   "mimetype": "text/x-scala",
   "name": "scala",
   "pygments_lexer": "scala",
   "version": "0.4.1"
  }
 },
 "nbformat": 4,
 "nbformat_minor": 4
}
