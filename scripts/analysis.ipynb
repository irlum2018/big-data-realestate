{
 "cells": [
  {
   "cell_type": "markdown",
   "metadata": {},
   "source": [
    "## Preparing HDFS\n",
    "\n",
    "Using magic\n",
    "\n",
    "Create input folder on HDFS if not exists\n",
    "\n",
    "Copy from data from local"
   ]
  },
  {
   "cell_type": "code",
   "execution_count": 2,
   "metadata": {},
   "outputs": [
    {
     "name": "stdout",
     "output_type": "stream",
     "text": [
      "2020-05-26 05:28:21,296 WARN  [Thread-4] sql.SparkSession$Builder (Logging.scala:logWarning(66)) - Using an existing SparkSession; some configuration may not take effect.\n"
     ]
    },
    {
     "data": {
      "text/plain": [
       "spark: org.apache.spark.sql.SparkSession = org.apache.spark.sql.SparkSession@7e6b2afc\n"
      ]
     },
     "execution_count": 2,
     "metadata": {},
     "output_type": "execute_result"
    }
   ],
   "source": [
    "val spark = org.apache.spark.sql.SparkSession.builder\n",
    "        .master(\"local\") \n",
    "        .appName(\"Spark CSV Reader\")\n",
    "        .getOrCreate;"
   ]
  },
  {
   "cell_type": "code",
   "execution_count": 3,
   "metadata": {
    "scrolled": true
   },
   "outputs": [
    {
     "data": {
      "text/plain": [
       "import org.apache.spark.sql.functions._\n"
      ]
     },
     "execution_count": 3,
     "metadata": {},
     "output_type": "execute_result"
    }
   ],
   "source": [
    "import org.apache.spark.sql.functions._"
   ]
  },
  {
   "cell_type": "code",
   "execution_count": 4,
   "metadata": {},
   "outputs": [
    {
     "name": "stdout",
     "output_type": "stream",
     "text": [
      "/home/sandpit/big-data-realestate/scripts\n",
      "\n",
      "put: `/tmp/rs_input/raw.csv': File exists\n",
      "\n",
      "\n",
      "Found 1 items\n",
      "\n",
      "\n",
      "-rw-r--r--   1 root root    5018236 2020-05-15 05:20 /tmp/rs_input/raw.csv\n",
      "\n",
      "\n",
      "34858\n",
      "\n"
     ]
    }
   ],
   "source": [
    "! pwd\n",
    "! hadoop fs -mkdir -p  /tmp/rs_input\n",
    "! hadoop fs -put   -p  ./../data-raw/Melbourne_housing_FULL.csv             /tmp/rs_input/raw.csv\n",
    "! hadoop fs -ls        /tmp/rs_input/\n",
    "!hadoop fs -cat /tmp/rs_input/raw.csv | wc -l"
   ]
  },
  {
   "cell_type": "code",
   "execution_count": 5,
   "metadata": {},
   "outputs": [
    {
     "data": {
      "text/plain": [
       "df_raw: org.apache.spark.sql.DataFrame = [Suburb: string, Address: string ... 19 more fields]\n"
      ]
     },
     "execution_count": 5,
     "metadata": {},
     "output_type": "execute_result"
    }
   ],
   "source": [
    "//load raw into df\n",
    "val df_raw = spark\n",
    "    .read\n",
    "    .format(\"csv\")\n",
    "    .option(\"header\", \"true\")\n",
    "    .load(\"hdfs://localhost:9000/tmp/rs_input/raw.csv\")"
   ]
  },
  {
   "cell_type": "markdown",
   "metadata": {},
   "source": [
    "### Data Exploration"
   ]
  },
  {
   "cell_type": "code",
   "execution_count": 6,
   "metadata": {},
   "outputs": [
    {
     "data": {
      "text/plain": [
       "df_raw: org.apache.spark.sql.DataFrame = [Suburb: string, Address: string ... 19 more fields]\n"
      ]
     },
     "execution_count": 6,
     "metadata": {},
     "output_type": "execute_result"
    }
   ],
   "source": [
    "val df_raw = spark.read.format(\"csv\").option(\"header\", \"true\").load(\"hdfs://localhost:9000/tmp/rs_input/raw.csv\")"
   ]
  },
  {
   "cell_type": "markdown",
   "metadata": {},
   "source": [
    "## Analysis"
   ]
  },
  {
   "cell_type": "markdown",
   "metadata": {},
   "source": [
    "### Print schema:"
   ]
  },
  {
   "cell_type": "code",
   "execution_count": 7,
   "metadata": {
    "scrolled": false
   },
   "outputs": [
    {
     "name": "stdout",
     "output_type": "stream",
     "text": [
      "root\n",
      " |-- Suburb: string (nullable = true)\n",
      " |-- Address: string (nullable = true)\n",
      " |-- Rooms: string (nullable = true)\n",
      " |-- Type: string (nullable = true)\n",
      " |-- Price: string (nullable = true)\n",
      " |-- Method: string (nullable = true)\n",
      " |-- SellerG: string (nullable = true)\n",
      " |-- Date: string (nullable = true)\n",
      " |-- Distance: string (nullable = true)\n",
      " |-- Postcode: string (nullable = true)\n",
      " |-- Bedroom2: string (nullable = true)\n",
      " |-- Bathroom: string (nullable = true)\n",
      " |-- Car: string (nullable = true)\n",
      " |-- Landsize: string (nullable = true)\n",
      " |-- BuildingArea: string (nullable = true)\n",
      " |-- YearBuilt: string (nullable = true)\n",
      " |-- CouncilArea: string (nullable = true)\n",
      " |-- Lattitude: string (nullable = true)\n",
      " |-- Longtitude: string (nullable = true)\n",
      " |-- Regionname: string (nullable = true)\n",
      " |-- Propertycount: string (nullable = true)\n",
      "\n"
     ]
    }
   ],
   "source": [
    "df_raw.printSchema()"
   ]
  },
  {
   "cell_type": "code",
   "execution_count": 8,
   "metadata": {},
   "outputs": [
    {
     "data": {
      "text/plain": [
       "res1: Array[String] = Array(Suburb, Address, Rooms, Type, Price, Method, SellerG, Date, Distance, Postcode, Bedroom2, Bathroom, Car, Landsize, BuildingArea, YearBuilt, CouncilArea, Lattitude, Longtitude, Regionname, Propertycount)\n"
      ]
     },
     "execution_count": 8,
     "metadata": {},
     "output_type": "execute_result"
    }
   ],
   "source": [
    "df_raw.columns"
   ]
  },
  {
   "cell_type": "markdown",
   "metadata": {},
   "source": [
    "### Show column types:"
   ]
  },
  {
   "cell_type": "code",
   "execution_count": 9,
   "metadata": {},
   "outputs": [
    {
     "data": {
      "text/plain": [
       "res2: Array[(String, String)] = Array((Suburb,StringType), (Address,StringType), (Rooms,StringType), (Type,StringType), (Price,StringType), (Method,StringType), (SellerG,StringType), (Date,StringType), (Distance,StringType), (Postcode,StringType), (Bedroom2,StringType), (Bathroom,StringType), (Car,StringType), (Landsize,StringType), (BuildingArea,StringType), (YearBuilt,StringType), (CouncilArea,StringType), (Lattitude,StringType), (Longtitude,StringType), (Regionname,StringType), (Propertycount,StringType))\n"
      ]
     },
     "execution_count": 9,
     "metadata": {},
     "output_type": "execute_result"
    }
   ],
   "source": [
    "df_raw.dtypes"
   ]
  },
  {
   "cell_type": "markdown",
   "metadata": {},
   "source": [
    "All features seem to be stored as string therefore numerical values will need to be converted to Integer and Float accordingly.\n",
    "In addition, the categorical variables of Type and Method will need to be converted to integers as factors."
   ]
  },
  {
   "cell_type": "markdown",
   "metadata": {},
   "source": [
    "## Display the rows:"
   ]
  },
  {
   "cell_type": "code",
   "execution_count": 10,
   "metadata": {
    "scrolled": true
   },
   "outputs": [
    {
     "name": "stdout",
     "output_type": "stream",
     "text": [
      "+----------+-------------------+--------+----------+----+------+-------+---------+------------------+--------------------+---------+\n",
      "|    Suburb|            Address|POSTCODE|    SUBURB|TYPE|METHOD|SELLERG|     DATE|       COUNCILAREA|          REGIONNAME|YEARBUILT|\n",
      "+----------+-------------------+--------+----------+----+------+-------+---------+------------------+--------------------+---------+\n",
      "|Abbotsford|      68 Studley St|    3067|Abbotsford|   h|    SS| Jellis|3/09/2016|Yarra City Council|Northern Metropol...|     null|\n",
      "|Abbotsford|       85 Turner St|    3067|Abbotsford|   h|     S| Biggin|3/12/2016|Yarra City Council|Northern Metropol...|     null|\n",
      "|Abbotsford|    25 Bloomburg St|    3067|Abbotsford|   h|     S| Biggin|4/02/2016|Yarra City Council|Northern Metropol...|     1900|\n",
      "|Abbotsford| 18/659 Victoria St|    3067|Abbotsford|   u|    VB| Rounds|4/02/2016|Yarra City Council|Northern Metropol...|     null|\n",
      "|Abbotsford|       5 Charles St|    3067|Abbotsford|   h|    SP| Biggin|4/03/2017|Yarra City Council|Northern Metropol...|     1900|\n",
      "|Abbotsford|   40 Federation La|    3067|Abbotsford|   h|    PI| Biggin|4/03/2017|Yarra City Council|Northern Metropol...|     null|\n",
      "|Abbotsford|        55a Park St|    3067|Abbotsford|   h|    VB| Nelson|4/06/2016|Yarra City Council|Northern Metropol...|     2014|\n",
      "|Abbotsford|       16 Maugie St|    3067|Abbotsford|   h|    SN| Nelson|6/08/2016|Yarra City Council|Northern Metropol...|     2006|\n",
      "|Abbotsford|       53 Turner St|    3067|Abbotsford|   h|     S| Biggin|6/08/2016|Yarra City Council|Northern Metropol...|     1900|\n",
      "|Abbotsford|       99 Turner St|    3067|Abbotsford|   h|     S|Collins|6/08/2016|Yarra City Council|Northern Metropol...|     1900|\n",
      "|Abbotsford|     129 Charles St|    3067|Abbotsford|   h|     S| Jellis|7/05/2016|Yarra City Council|Northern Metropol...|     null|\n",
      "|Abbotsford|       124 Yarra St|    3067|Abbotsford|   h|     S| Nelson|7/05/2016|Yarra City Council|Northern Metropol...|     1910|\n",
      "|Abbotsford|121/56 Nicholson St|    3067|Abbotsford|   u|    PI| Biggin|7/11/2016|Yarra City Council|Northern Metropol...|     2009|\n",
      "|Abbotsford|      17 Raphael St|    3067|Abbotsford|   h|     W| Biggin|7/11/2016|Yarra City Council|Northern Metropol...|     1860|\n",
      "|Abbotsford|      98 Charles St|    3067|Abbotsford|   h|     S| Nelson|8/10/2016|Yarra City Council|Northern Metropol...|     1890|\n",
      "|Abbotsford|   217 Langridge St|    3067|Abbotsford|   h|     S| Jellis|8/10/2016|Yarra City Council|Northern Metropol...|     null|\n",
      "|Abbotsford|    18a Mollison St|    3067|Abbotsford|   t|     S| Jellis|8/10/2016|Yarra City Council|Northern Metropol...|     null|\n",
      "|Abbotsford| 6/241 Nicholson St|    3067|Abbotsford|   u|     S| Biggin|8/10/2016|Yarra City Council|Northern Metropol...|     null|\n",
      "|Abbotsford|      10 Valiant St|    3067|Abbotsford|   h|     S| Biggin|8/10/2016|Yarra City Council|Northern Metropol...|     1900|\n",
      "|Abbotsford|403/609 Victoria St|    3067|Abbotsford|   u|     S| Dingle|8/10/2016|Yarra City Council|Northern Metropol...|     null|\n",
      "+----------+-------------------+--------+----------+----+------+-------+---------+------------------+--------------------+---------+\n",
      "only showing top 20 rows\n",
      "\n"
     ]
    }
   ],
   "source": [
    "df_raw.select(\"Suburb\",\"Address\",\"POSTCODE\",\"SUBURB\",\"TYPE\",\"METHOD\",\"SELLERG\",\"DATE\",\"COUNCILAREA\",\"REGIONNAME\",\"YEARBUILT\").show()"
   ]
  },
  {
   "cell_type": "code",
   "execution_count": 11,
   "metadata": {},
   "outputs": [
    {
     "name": "stdout",
     "output_type": "stream",
     "text": [
      "+--------+------------+---------+------------------+---------+----------+--------------------+-------------+\n",
      "|Landsize|BuildingArea|YearBuilt|       CouncilArea|Lattitude|Longtitude|          Regionname|Propertycount|\n",
      "+--------+------------+---------+------------------+---------+----------+--------------------+-------------+\n",
      "|     126|        null|     null|Yarra City Council| -37.8014|  144.9958|Northern Metropol...|         4019|\n",
      "|     202|        null|     null|Yarra City Council| -37.7996|  144.9984|Northern Metropol...|         4019|\n",
      "|     156|          79|     1900|Yarra City Council| -37.8079|  144.9934|Northern Metropol...|         4019|\n",
      "|       0|        null|     null|Yarra City Council| -37.8114|  145.0116|Northern Metropol...|         4019|\n",
      "|     134|         150|     1900|Yarra City Council| -37.8093|  144.9944|Northern Metropol...|         4019|\n",
      "|      94|        null|     null|Yarra City Council| -37.7969|  144.9969|Northern Metropol...|         4019|\n",
      "|     120|         142|     2014|Yarra City Council| -37.8072|  144.9941|Northern Metropol...|         4019|\n",
      "|     400|         220|     2006|Yarra City Council| -37.7965|  144.9965|Northern Metropol...|         4019|\n",
      "|     201|        null|     1900|Yarra City Council| -37.7995|  144.9974|Northern Metropol...|         4019|\n",
      "|     202|        null|     1900|Yarra City Council| -37.7996|  144.9989|Northern Metropol...|         4019|\n",
      "+--------+------------+---------+------------------+---------+----------+--------------------+-------------+\n",
      "only showing top 10 rows\n",
      "\n"
     ]
    }
   ],
   "source": [
    "df_raw.select(\"Landsize\",\"BuildingArea\",\"YearBuilt\",\"CouncilArea\",\"Lattitude\",\"Longtitude\",\"Regionname\",\"Propertycount\").show(10)"
   ]
  },
  {
   "cell_type": "markdown",
   "metadata": {},
   "source": [
    "The data seems to be relatively clean however further exploration is required."
   ]
  },
  {
   "cell_type": "markdown",
   "metadata": {},
   "source": [
    "## EDA using python\n",
    "\n"
   ]
  },
  {
   "cell_type": "markdown",
   "metadata": {},
   "source": [
    "#### Change type of columns \"Price\", \"DistanceFromCBD\" & \"Landsize\" to Double, \"Rooms\", \"Bathroom\", \"Car\" to Int"
   ]
  },
  {
   "cell_type": "code",
   "execution_count": 12,
   "metadata": {},
   "outputs": [
    {
     "data": {
      "text/plain": [
       "df_anl: org.apache.spark.sql.DataFrame = [Suburb: string, Address: string ... 19 more fields]\n"
      ]
     },
     "execution_count": 12,
     "metadata": {},
     "output_type": "execute_result"
    }
   ],
   "source": [
    "var df_anl = df_raw.withColumnRenamed(\"Method\",\"MethodOfSale\")\n",
    "    .withColumnRenamed(\"Distance\",\"DistanceFromCBD\")\n",
    "    .withColumnRenamed(\"Type\",\"PropertyType\")\n",
    "    .withColumnRenamed(\"Lattitude\",\"Latitude\")\n",
    "    "
   ]
  },
  {
   "cell_type": "code",
   "execution_count": 13,
   "metadata": {},
   "outputs": [
    {
     "data": {
      "text/plain": [
       "df_anl: org.apache.spark.sql.DataFrame = [Suburb: string, Address: string ... 19 more fields]\n"
      ]
     },
     "execution_count": 13,
     "metadata": {},
     "output_type": "execute_result"
    }
   ],
   "source": [
    "df_anl = df_anl.withColumn(\"Price\",col(\"Price\").cast(\"Double\"))\n",
    "    .withColumn(\"Rooms\",col(\"Rooms\").cast(\"Int\"))\n",
    "    .withColumn(\"DistanceFromCBD\",col(\"DistanceFromCBD\").cast(\"Double\"))\n",
    "    .withColumn(\"Bathroom\",col(\"Bathroom\").cast(\"Int\"))\n",
    "    .withColumn(\"Car\",col(\"Car\").cast(\"Int\"))\n",
    "    .withColumn(\"Landsize\",col(\"Landsize\").cast(\"Double\"))\n",
    "    .withColumn(\"Latitude\",col(\"Latitude\").cast(\"String\"))\n",
    "    .withColumn(\"Longtitude\",col(\"Longtitude\").cast(\"String\"))\n"
   ]
  },
  {
   "cell_type": "markdown",
   "metadata": {},
   "source": [
    "Share a dataset by registering it as a view. "
   ]
  },
  {
   "cell_type": "code",
   "execution_count": 14,
   "metadata": {},
   "outputs": [],
   "source": [
    "df_anl.toDF.createOrReplaceTempView(\"df_py_raw\")"
   ]
  },
  {
   "cell_type": "code",
   "execution_count": 15,
   "metadata": {},
   "outputs": [],
   "source": [
    "%%python\n",
    "df_raw_p = spark.sql(\"select * from df_py_raw\")\n"
   ]
  },
  {
   "cell_type": "code",
   "execution_count": 16,
   "metadata": {},
   "outputs": [
    {
     "data": {
      "text/plain": [
       "DataFrame[Suburb: string, Address: string, Rooms: int, PropertyType: string, Price: double, MethodOfSale: string, SellerG: string, Date: string, DistanceFromCBD: double, Postcode: string, Bedroom2: string, Bathroom: int, Car: int, Landsize: double, BuildingArea: string, YearBuilt: string, CouncilArea: string, Latitude: string, Longtitude: string, Regionname: string, Propertycount: string]"
      ]
     },
     "execution_count": 16,
     "metadata": {},
     "output_type": "execute_result"
    }
   ],
   "source": [
    "%%python\n",
    "df_raw_p"
   ]
  },
  {
   "cell_type": "code",
   "execution_count": 17,
   "metadata": {},
   "outputs": [
    {
     "name": "stdout",
     "output_type": "stream",
     "text": [
      "Requirement already satisfied: matplotlib in /usr/local/lib/python3.6/dist-packages (3.2.1)\n",
      "\n",
      "\n",
      "Requirement already satisfied: numpy>=1.11 in /usr/local/lib/python3.6/dist-packages (from matplotlib) (1.18.4)\n",
      "\n",
      "\n",
      "Requirement already satisfied: pyparsing!=2.0.4,!=2.1.2,!=2.1.6,>=2.0.1 in /usr/local/lib/python3.6/dist-packages (from matplotlib) (2.4.7)\n",
      "\n",
      "\n",
      "Requirement already satisfied: python-dateutil>=2.1 in /usr/local/lib/python3.6/dist-packages (from matplotlib) (2.8.1)\n",
      "\n",
      "\n",
      "Requirement already satisfied: cycler>=0.10 in /usr/local/lib/python3.6/dist-packages (from matplotlib) (0.10.0)\n",
      "\n",
      "\n",
      "Requirement already satisfied: kiwisolver>=1.0.1 in /usr/local/lib/python3.6/dist-packages (from matplotlib) (1.2.0)\n",
      "\n",
      "\n",
      "Requirement already satisfied: six>=1.5 in /usr/lib/python3/dist-packages (from python-dateutil>=2.1->matplotlib) (1.11.0)\n",
      "\n",
      "\n",
      "Requirement already satisfied: pandas in /usr/local/lib/python3.6/dist-packages (1.0.3)\n",
      "\n",
      "\n",
      "Requirement already satisfied: python-dateutil>=2.6.1 in /usr/local/lib/python3.6/dist-packages (from pandas) (2.8.1)\n",
      "\n",
      "\n",
      "Requirement already satisfied: numpy>=1.13.3 in /usr/local/lib/python3.6/dist-packages (from pandas) (1.18.4)\n",
      "\n",
      "\n",
      "Requirement already satisfied: pytz>=2017.2 in /usr/local/lib/python3.6/dist-packages (from pandas) (2020.1)\n",
      "\n",
      "\n",
      "Requirement already satisfied: six>=1.5 in /usr/lib/python3/dist-packages (from python-dateutil>=2.6.1->pandas) (1.11.0)\n",
      "\n",
      "\n"
     ]
    }
   ],
   "source": [
    "! pip install matplotlib\n",
    "! pip install pandas"
   ]
  },
  {
   "cell_type": "code",
   "execution_count": 18,
   "metadata": {},
   "outputs": [],
   "source": [
    "%%python\n",
    "from matplotlib import pyplot as plt\n",
    "import pandas as pd\n",
    "import numpy as np\n",
    "\n",
    "categories=(\"A\",\"B\",\"C\")\n",
    "data = {\n",
    "    \n",
    "    'days': np.random.randint(120,size=100),\n",
    "    'category': np.random.choice(categories,100),\n",
    "    'value': 100.0*np.random.random_sample(100)\n",
    "}\n",
    "df=pd.DataFrame(data)\n",
    "number_of_days=42\n",
    "df_filtered = df.loc[df['days']<number_of_days]\n",
    "df_filtered[[\"category\",\"value\"]].boxplot(by=\"category\",return_type='axes')\n",
    "plt.show()"
   ]
  },
  {
   "cell_type": "code",
   "execution_count": 27,
   "metadata": {},
   "outputs": [
    {
     "ename": "SyntaxError",
     "evalue": "('invalid syntax', ('python cell', 3, 1, '%matplotlib inline\\n'))",
     "output_type": "error",
     "traceback": [
      "SyntaxError: invalid syntax (python cell, line 3)"
     ]
    }
   ],
   "source": [
    "%%python\n",
    "from matplotlib import pyplot as plt\n",
    "import pandas as pd\n",
    "%matplotlib inline\n",
    "\n",
    "\n",
    "plt.clf()\n",
    "plt.plot(range(10), label=\"a\")\n",
    "plt.plot(range(4, 14), label=\"b\")\n",
    "plt.plot(range(12, 0, -1), label=\"c\")\n",
    "plt.legend()\n",
    "plt.show()"
   ]
  },
  {
   "cell_type": "code",
   "execution_count": 28,
   "metadata": {},
   "outputs": [
    {
     "name": "stdout",
     "output_type": "stream",
     "text": [
      "Index(['Suburb', 'Address', 'Rooms', 'PropertyType', 'Price', 'MethodOfSale',\n",
      "       'SellerG', 'Date', 'DistanceFromCBD', 'Postcode', 'Bedroom2',\n",
      "       'Bathroom', 'Car', 'Landsize', 'BuildingArea', 'YearBuilt',\n",
      "       'CouncilArea', 'Latitude', 'Longtitude', 'Regionname', 'Propertycount'],\n",
      "      dtype='object')\n"
     ]
    }
   ],
   "source": [
    "%%python\n",
    "from matplotlib import pyplot as plt\n",
    "import pandas as pd\n",
    "from IPython.display import display\n",
    "\n",
    "df_raw_pd = df_raw_p.toPandas() \n",
    "print(df_raw_pd.columns)"
   ]
  },
  {
   "cell_type": "code",
   "execution_count": 82,
   "metadata": {},
   "outputs": [
    {
     "name": "stdout",
     "output_type": "stream",
     "text": [
      "       Suburb             Address  ...             Regionname Propertycount\n",
      "0  Abbotsford       68 Studley St  ...  Northern Metropolitan          4019\n",
      "1  Abbotsford        85 Turner St  ...  Northern Metropolitan          4019\n",
      "2  Abbotsford     25 Bloomburg St  ...  Northern Metropolitan          4019\n",
      "3  Abbotsford  18/659 Victoria St  ...  Northern Metropolitan          4019\n",
      "4  Abbotsford        5 Charles St  ...  Northern Metropolitan          4019\n",
      "\n",
      "[5 rows x 21 columns]\n"
     ]
    }
   ],
   "source": [
    "%%python\n",
    "from matplotlib import pyplot as plt\n",
    "import pandas as pd\n",
    "from IPython.display import display\n",
    "\n",
    "df_raw_pd = df_raw_p.toPandas() \n",
    "print(df_raw_pd.head())"
   ]
  },
  {
   "cell_type": "code",
   "execution_count": null,
   "metadata": {},
   "outputs": [],
   "source": [
    "%%python\n",
    "df_raw_pd.boxplot(column ='Price', by = 'PropertyType')"
   ]
  },
  {
   "cell_type": "code",
   "execution_count": 85,
   "metadata": {},
   "outputs": [
    {
     "name": "stdout",
     "output_type": "stream",
     "text": [
      "       Suburb             Address  ...             Regionname Propertycount\n",
      "0  Abbotsford       68 Studley St  ...  Northern Metropolitan          4019\n",
      "1  Abbotsford        85 Turner St  ...  Northern Metropolitan          4019\n",
      "2  Abbotsford     25 Bloomburg St  ...  Northern Metropolitan          4019\n",
      "3  Abbotsford  18/659 Victoria St  ...  Northern Metropolitan          4019\n",
      "4  Abbotsford        5 Charles St  ...  Northern Metropolitan          4019\n",
      "\n",
      "[5 rows x 21 columns]\n"
     ]
    }
   ],
   "source": [
    "%%python\n",
    "from matplotlib import pyplot as plt\n",
    "import pandas as pd\n",
    "from IPython.display import display\n",
    "\n",
    "df_raw_pd = df_raw_p.toPandas() \n",
    "print(df_raw_pd.head())\n"
   ]
  },
  {
   "cell_type": "markdown",
   "metadata": {},
   "source": [
    "### Identify and remove outliers"
   ]
  },
  {
   "cell_type": "code",
   "execution_count": 31,
   "metadata": {},
   "outputs": [
    {
     "name": "stdout",
     "output_type": "stream",
     "text": [
      "<class 'pandas.core.frame.DataFrame'>\n"
     ]
    }
   ],
   "source": [
    "%%python\n",
    "print(type(df_raw_pd) )"
   ]
  },
  {
   "cell_type": "code",
   "execution_count": 41,
   "metadata": {},
   "outputs": [
    {
     "name": "stdout",
     "output_type": "stream",
     "text": [
      "<class 'pandas.core.frame.DataFrame'>\n",
      "34857\n",
      "0              NaN\n",
      "1        1480000.0\n",
      "2        1035000.0\n",
      "3              NaN\n",
      "4        1465000.0\n",
      "           ...    \n",
      "34852    1480000.0\n",
      "34853     888000.0\n",
      "34854     705000.0\n",
      "34855    1140000.0\n",
      "34856    1020000.0\n",
      "Name: Price, Length: 34857, dtype: float64\n"
     ]
    }
   ],
   "source": [
    "%%python\n",
    "print(type(df_raw_pd) )\n",
    "print(df_raw_pd.shape[0])\n",
    "print(df_raw_pd.Price)"
   ]
  },
  {
   "cell_type": "code",
   "execution_count": 47,
   "metadata": {},
   "outputs": [
    {
     "name": "stdout",
     "output_type": "stream",
     "text": [
      "660000.0\n",
      "25969\n",
      "           Suburb           Address  ...             Regionname Propertycount\n",
      "1      Abbotsford      85 Turner St  ...  Northern Metropolitan          4019\n",
      "2      Abbotsford   25 Bloomburg St  ...  Northern Metropolitan          4019\n",
      "4      Abbotsford      5 Charles St  ...  Northern Metropolitan          4019\n",
      "5      Abbotsford  40 Federation La  ...  Northern Metropolitan          4019\n",
      "6      Abbotsford       55a Park St  ...  Northern Metropolitan          4019\n",
      "...           ...               ...  ...                    ...           ...\n",
      "34852  Yarraville       13 Burns St  ...   Western Metropolitan          6543\n",
      "34853  Yarraville     29A Murray St  ...   Western Metropolitan          6543\n",
      "34854  Yarraville    147A Severn St  ...   Western Metropolitan          6543\n",
      "34855  Yarraville  12/37 Stephen St  ...   Western Metropolitan          6543\n",
      "34856  Yarraville  3 Tarrengower St  ...   Western Metropolitan          6543\n",
      "\n",
      "[25969 rows x 21 columns]\n"
     ]
    }
   ],
   "source": [
    "%%python\n",
    "\n",
    "# filter price outliers\n",
    "price_Q1 = df_raw_pd['Price'].quantile(0.25)\n",
    "price_Q3 = df_raw_pd['Price'].quantile(0.75)\n",
    "price_IQR = price_Q3 - price_Q1  \n",
    "print(price_IQR)\n",
    "price_filter = (df_raw_pd.Price >= price_Q1 - 1.5 * price_IQR) & (df_raw_pd.Price <= price_Q3 + 1.5 *price_IQR)\n",
    "\n",
    "print(df_raw_pd.loc[price_filter].shape[0])\n",
    "print(df_raw_pd.loc[price_filter])"
   ]
  },
  {
   "cell_type": "code",
   "execution_count": 89,
   "metadata": {},
   "outputs": [],
   "source": [
    "%%python\n",
    "from matplotlib import pyplot as plt\n",
    "import pandas as pd\n",
    "from IPython.display import display\n",
    "\n",
    "df_raw_pd.plot(kind='line',x='DistanceFromCBD',y='Price',color='red')\n",
    "plt.show()\n"
   ]
  },
  {
   "cell_type": "code",
   "execution_count": 91,
   "metadata": {},
   "outputs": [],
   "source": [
    "%%python\n",
    "from matplotlib import pyplot as plt\n",
    "import pandas as pd\n",
    "\n",
    "df_raw_pd[[\"Price\",\"PropertyType\"]].boxplot( by=\"PropertyType\", return_type='axes')\n",
    "plt.show()"
   ]
  },
  {
   "cell_type": "code",
   "execution_count": 92,
   "metadata": {},
   "outputs": [],
   "source": [
    "%%python\n",
    "from matplotlib import pyplot as plt\n",
    "\n",
    "plt.plot([1, 2, 3, 4])\n",
    "plt.ylabel('some numbers')\n",
    "plt.show()\n"
   ]
  },
  {
   "cell_type": "code",
   "execution_count": 91,
   "metadata": {},
   "outputs": [
    {
     "name": "stdout",
     "output_type": "stream",
     "text": [
      "+----------+-------------------+-----+----+-------+------+-------+---------+--------+--------+--------+--------+----+--------+------------+---------+------------------+---------+----------+--------------------+-------------+\n",
      "|    Suburb|            Address|Rooms|Type|  Price|Method|SellerG|     Date|Distance|Postcode|Bedroom2|Bathroom| Car|Landsize|BuildingArea|YearBuilt|       CouncilArea|Lattitude|Longtitude|          Regionname|Propertycount|\n",
      "+----------+-------------------+-----+----+-------+------+-------+---------+--------+--------+--------+--------+----+--------+------------+---------+------------------+---------+----------+--------------------+-------------+\n",
      "|Abbotsford|      68 Studley St|    2|   h|   null|    SS| Jellis|3/09/2016|     2.5|    3067|       2|       1|   1|     126|        null|     null|Yarra City Council| -37.8014|  144.9958|Northern Metropol...|         4019|\n",
      "|Abbotsford|       85 Turner St|    2|   h|1480000|     S| Biggin|3/12/2016|     2.5|    3067|       2|       1|   1|     202|        null|     null|Yarra City Council| -37.7996|  144.9984|Northern Metropol...|         4019|\n",
      "|Abbotsford|    25 Bloomburg St|    2|   h|1035000|     S| Biggin|4/02/2016|     2.5|    3067|       2|       1|   0|     156|          79|     1900|Yarra City Council| -37.8079|  144.9934|Northern Metropol...|         4019|\n",
      "|Abbotsford| 18/659 Victoria St|    3|   u|   null|    VB| Rounds|4/02/2016|     2.5|    3067|       3|       2|   1|       0|        null|     null|Yarra City Council| -37.8114|  145.0116|Northern Metropol...|         4019|\n",
      "|Abbotsford|       5 Charles St|    3|   h|1465000|    SP| Biggin|4/03/2017|     2.5|    3067|       3|       2|   0|     134|         150|     1900|Yarra City Council| -37.8093|  144.9944|Northern Metropol...|         4019|\n",
      "|Abbotsford|   40 Federation La|    3|   h| 850000|    PI| Biggin|4/03/2017|     2.5|    3067|       3|       2|   1|      94|        null|     null|Yarra City Council| -37.7969|  144.9969|Northern Metropol...|         4019|\n",
      "|Abbotsford|        55a Park St|    4|   h|1600000|    VB| Nelson|4/06/2016|     2.5|    3067|       3|       1|   2|     120|         142|     2014|Yarra City Council| -37.8072|  144.9941|Northern Metropol...|         4019|\n",
      "|Abbotsford|       16 Maugie St|    4|   h|   null|    SN| Nelson|6/08/2016|     2.5|    3067|       3|       2|   2|     400|         220|     2006|Yarra City Council| -37.7965|  144.9965|Northern Metropol...|         4019|\n",
      "|Abbotsford|       53 Turner St|    2|   h|   null|     S| Biggin|6/08/2016|     2.5|    3067|       4|       1|   2|     201|        null|     1900|Yarra City Council| -37.7995|  144.9974|Northern Metropol...|         4019|\n",
      "|Abbotsford|       99 Turner St|    2|   h|   null|     S|Collins|6/08/2016|     2.5|    3067|       3|       2|   1|     202|        null|     1900|Yarra City Council| -37.7996|  144.9989|Northern Metropol...|         4019|\n",
      "|Abbotsford|     129 Charles St|    2|   h| 941000|     S| Jellis|7/05/2016|     2.5|    3067|       2|       1|   0|     181|        null|     null|Yarra City Council| -37.8041|  144.9953|Northern Metropol...|         4019|\n",
      "|Abbotsford|       124 Yarra St|    3|   h|1876000|     S| Nelson|7/05/2016|     2.5|    3067|       4|       2|   0|     245|         210|     1910|Yarra City Council| -37.8024|  144.9993|Northern Metropol...|         4019|\n",
      "|Abbotsford|121/56 Nicholson St|    2|   u|   null|    PI| Biggin|7/11/2016|     2.5|    3067|       2|       2|   1|    4292|          82|     2009|Yarra City Council| -37.8078|  144.9965|Northern Metropol...|         4019|\n",
      "|Abbotsford|      17 Raphael St|    4|   h|   null|     W| Biggin|7/11/2016|     2.5|    3067|       6|       2|   0|     230|         147|     1860|Yarra City Council| -37.8066|  144.9936|Northern Metropol...|         4019|\n",
      "|Abbotsford|      98 Charles St|    2|   h|1636000|     S| Nelson|8/10/2016|     2.5|    3067|       2|       1|   2|     256|         107|     1890|Yarra City Council|  -37.806|  144.9954|Northern Metropol...|         4019|\n",
      "|Abbotsford|   217 Langridge St|    3|   h|1000000|     S| Jellis|8/10/2016|     2.5|    3067|    null|    null|null|    null|        null|     null|Yarra City Council|     null|      null|Northern Metropol...|         4019|\n",
      "|Abbotsford|    18a Mollison St|    2|   t| 745000|     S| Jellis|8/10/2016|     2.5|    3067|    null|    null|null|    null|        null|     null|Yarra City Council|     null|      null|Northern Metropol...|         4019|\n",
      "|Abbotsford| 6/241 Nicholson St|    1|   u| 300000|     S| Biggin|8/10/2016|     2.5|    3067|       1|       1|   1|       0|        null|     null|Yarra City Council| -37.8008|  144.9973|Northern Metropol...|         4019|\n",
      "|Abbotsford|      10 Valiant St|    2|   h|1097000|     S| Biggin|8/10/2016|     2.5|    3067|       3|       1|   2|     220|          75|     1900|Yarra City Council|  -37.801|  144.9989|Northern Metropol...|         4019|\n",
      "|Abbotsford|403/609 Victoria St|    2|   u| 542000|     S| Dingle|8/10/2016|     2.5|    3067|    null|    null|null|    null|        null|     null|Yarra City Council|     null|      null|Northern Metropol...|         4019|\n",
      "+----------+-------------------+-----+----+-------+------+-------+---------+--------+--------+--------+--------+----+--------+------------+---------+------------------+---------+----------+--------------------+-------------+\n",
      "only showing top 20 rows\n",
      "\n"
     ]
    },
    {
     "ename": "AttributeError",
     "evalue": "(\"'NoneType' object has no attribute 'toPandas'\",)",
     "output_type": "error",
     "traceback": [
      "Traceback (most recent call last):",
      "  File \"python cell\", line 6, in <module>",
      "AttributeError: 'NoneType' object has no attribute 'toPandas'"
     ]
    }
   ],
   "source": [
    "%%python\n",
    "'exec(%matplotlib inline)'\n",
    "from matplotlib import pyplot as plt\n",
    "import pandas as pd\n",
    "# df.hist(column='session_duration_seconds')\n",
    "#df_raw_p.select(\"Price\").show()\n",
    "df_raw_pd = df_raw_p.show().toPandas() # pandas.core.frame.DataFrame'>\n",
    "df_raw_pd[:2].plot()\n",
    "plt.show()\n",
    "#df_raw_pd.plot(kind='scatter',x='Distance',y='Price',color='red')\n",
    "#plt.show()\n",
    "#df_raw_p.select(\"Price\").show()\n",
    "#df_raw_pd[\"Price\"]\n",
    "#df_raw_pd.show()\n",
    "#plt.plot([1, 2, 3, 4])\n",
    "#plt.ylabel('some numbers')\n",
    "#plt.show()"
   ]
  },
  {
   "cell_type": "markdown",
   "metadata": {},
   "source": [
    "## Descriptive Statistics:"
   ]
  },
  {
   "cell_type": "code",
   "execution_count": null,
   "metadata": {},
   "outputs": [],
   "source": [
    "df_raw.describe().select(\"summary\",\n",
    "                        \"Suburb\",\n",
    "                        \"Address\",\n",
    "                        \"Rooms\",\n",
    "                        \"Type\",\n",
    "                        \"Price\",\n",
    "                        \"Method\",\n",
    "                        \"SellerG\",\n",
    "                        \"Date\").show()"
   ]
  },
  {
   "cell_type": "code",
   "execution_count": null,
   "metadata": {},
   "outputs": [],
   "source": [
    "df_raw.describe().select(\"summary\",\n",
    "                        \"Distance\",\n",
    "                        \"Postcode\",\n",
    "                        \"Bedroom2\",\n",
    "                        \"Bathroom\",\n",
    "                        \"Car\",\n",
    "                        \"Landsize\").show()"
   ]
  },
  {
   "cell_type": "code",
   "execution_count": null,
   "metadata": {},
   "outputs": [],
   "source": [
    "df_raw.describe().select(\"summary\",\n",
    "                        \"BuildingArea\",\n",
    "                        \"YearBuilt\",\n",
    "                        \"CouncilArea\",\n",
    "                        \"Lattitude\",\n",
    "                        \"Longtitude\",\n",
    "                        \"Regionname\").show()"
   ]
  },
  {
   "cell_type": "code",
   "execution_count": null,
   "metadata": {},
   "outputs": [],
   "source": [
    "df_raw.describe().select(\"summary\",\n",
    "                         \"Propertycount\").show()"
   ]
  },
  {
   "cell_type": "markdown",
   "metadata": {},
   "source": [
    "Based on the above summary statistics we can see the following:\n",
    "* The count of a column less the rows in the dataset, display the null values.\n",
    "* The Address will need to be stripped down to its Street Name and Street Type. This is to  "
   ]
  },
  {
   "cell_type": "markdown",
   "metadata": {},
   "source": [
    "### Correlation:\n",
    "\n",
    "Assess the correlation between the Price and the other features to better understand their relationship and importance."
   ]
  },
  {
   "cell_type": "code",
   "execution_count": null,
   "metadata": {},
   "outputs": [],
   "source": [
    "// Import Correlation Library\n",
    "import org.apache.spark.sql.functions.corr"
   ]
  },
  {
   "cell_type": "code",
   "execution_count": null,
   "metadata": {},
   "outputs": [],
   "source": [
    "df_raw.select(corr(\"Rooms\",\"Price\")).show()\n",
    "df_raw.select(corr(\"Distance\",\"Price\")).show()\n",
    "df_raw.select(corr(\"Postcode\",\"Price\")).show()\n",
    "df_raw.select(corr(\"Bedroom2\",\"Price\")).show()\n",
    "df_raw.select(corr(\"Bathroom\",\"Price\")).show()\n",
    "df_raw.select(corr(\"Car\",\"Price\")).show()\n",
    "df_raw.select(corr(\"Landsize\",\"Price\")).show()\n",
    "df_raw.select(corr(\"BuildingArea\",\"Price\")).show()\n",
    "df_raw.select(corr(\"YearBuilt\",\"Price\")).show()\n",
    "df_raw.select(corr(\"Lattitude\",\"Price\")).show()\n",
    "df_raw.select(corr(\"Longtitude\",\"Price\")).show()\n",
    "df_raw.select(corr(\"Propertycount\",\"Price\")).show()"
   ]
  },
  {
   "cell_type": "markdown",
   "metadata": {},
   "source": [
    "Landsize having very minimal correlation with price does not align with expectations therefore further analysis is required.\n",
    "\n",
    "We will compare the correlation of Price with Landsize based on the Property type.\n",
    "\n",
    "- br - bedroom(s);\n",
    "- h  - house,cottage,villa, semi,terrace;\n",
    "- u  - unit, duplex;\n",
    "- t  - townhouse;\n",
    "- dev site - development site;\n",
    "- o res - other residential"
   ]
  },
  {
   "cell_type": "code",
   "execution_count": null,
   "metadata": {},
   "outputs": [],
   "source": [
    "// Correlation of Landsize and Price for Houses\n",
    "df_raw.where($\"Type\" === \"h\").select(corr(\"Landsize\",\"Price\")).show()"
   ]
  },
  {
   "cell_type": "code",
   "execution_count": null,
   "metadata": {},
   "outputs": [],
   "source": [
    "// Correlation of Landsize and Price for Units\n",
    "df_raw.where($\"Type\" === \"u\").select(corr(\"Landsize\",\"Price\")).show()"
   ]
  },
  {
   "cell_type": "code",
   "execution_count": null,
   "metadata": {},
   "outputs": [],
   "source": [
    "// Correlation of Landsize and Price for Townhouses\n",
    "df_raw.where($\"Type\" === \"t\").select(corr(\"Landsize\",\"Price\")).show()"
   ]
  },
  {
   "cell_type": "code",
   "execution_count": null,
   "metadata": {},
   "outputs": [],
   "source": [
    "// Create a new DataFrame with Price per SQM\n",
    "val df_landprice = df_raw.withColumn(\"PriceperSQM\", col(\"Price\") / col(\"Landsize\"))\n",
    "\n",
    "// Assess Correlation of Price with Price per SQM\n",
    "df_landprice.select(corr(\"Price\",\"PriceperSQM\")).show()"
   ]
  },
  {
   "cell_type": "markdown",
   "metadata": {},
   "source": [
    "As expected, the Price vs PriceperSQM correlation is higher at ~11%, however this is due to price being included and compared against itself.\n",
    "\n",
    "Therefore, it seems that Landsize on its own doesn't seem to have a significant correlation. However, correlation changes depending on the type of property this is. With a townhouse having the highest positive correlation of 0.096 or 9.6%.\n",
    "\n",
    "As a result we conclude on keeping the LandSize."
   ]
  },
  {
   "cell_type": "code",
   "execution_count": null,
   "metadata": {},
   "outputs": [],
   "source": [
    "df_raw.select(\"Lattitude\").distinct.count()"
   ]
  },
  {
   "cell_type": "code",
   "execution_count": null,
   "metadata": {},
   "outputs": [],
   "source": [
    "df_raw.select(\"Longtitude\").distinct.count()"
   ]
  },
  {
   "cell_type": "markdown",
   "metadata": {},
   "source": [
    "#### Based on the preliminary analysis above, the features we have identified as important for the future model are:\n",
    "\n",
    "* Address\n",
    "* Suburb\n",
    "* Date\n",
    "* Price\n",
    "* Method\n",
    "* Type\n",
    "* Distance\n",
    "* Rooms\n",
    "* Bathroom\n",
    "* Car\n",
    "* Landsize\n",
    "* Lattitude\n",
    "* Longtitude\n",
    "\n",
    "The excluded features are:\n",
    "\n",
    "* SellerG\n",
    "* Postcode\n",
    "* Bedroom2\n",
    "* BuildingArea\n",
    "* YearBuilt\n",
    "* CouncilArea\n",
    "* Regionname\n",
    "* Propertycount\n",
    "\n",
    "\n",
    "Therefore we will continue our analysis on the following."
   ]
  },
  {
   "cell_type": "markdown",
   "metadata": {},
   "source": [
    "### Categorical Attributes\n",
    "\n",
    "#### Address"
   ]
  },
  {
   "cell_type": "code",
   "execution_count": null,
   "metadata": {},
   "outputs": [],
   "source": [
    "df_raw.filter(\"Address IS NULL\").count()"
   ]
  },
  {
   "cell_type": "code",
   "execution_count": null,
   "metadata": {},
   "outputs": [],
   "source": [
    "df_raw.select(\"Address\").distinct.show()"
   ]
  },
  {
   "cell_type": "markdown",
   "metadata": {},
   "source": [
    "As seen above based on the complexity of Addresses, it would be useful to reduce them to a Street Name and Type in order to create categories within suburbs based on a street."
   ]
  },
  {
   "cell_type": "markdown",
   "metadata": {},
   "source": [
    "#### Suburb"
   ]
  },
  {
   "cell_type": "code",
   "execution_count": null,
   "metadata": {},
   "outputs": [],
   "source": [
    "df_raw.select(\"Suburb\").distinct.show()"
   ]
  },
  {
   "cell_type": "code",
   "execution_count": null,
   "metadata": {},
   "outputs": [],
   "source": [
    "df_raw.select(\"Suburb\").distinct.count()"
   ]
  },
  {
   "cell_type": "markdown",
   "metadata": {},
   "source": [
    "The Suburbs generally seem to correct what will need to done is:\n",
    "* Capitalise the first letter of the suburb names\n",
    "* Also the North/West/South/East suffixes to suburbs will be left, as they provide a more accurate location within a suburb."
   ]
  },
  {
   "cell_type": "markdown",
   "metadata": {},
   "source": [
    "#### Date"
   ]
  },
  {
   "cell_type": "code",
   "execution_count": null,
   "metadata": {},
   "outputs": [],
   "source": [
    "val dates = df_raw.select(\"Date\").distinct()"
   ]
  },
  {
   "cell_type": "code",
   "execution_count": null,
   "metadata": {},
   "outputs": [],
   "source": [
    "dates.count()"
   ]
  },
  {
   "cell_type": "code",
   "execution_count": null,
   "metadata": {},
   "outputs": [],
   "source": [
    "df_raw.filter(\"Date IS NULL\").count()"
   ]
  },
  {
   "cell_type": "code",
   "execution_count": null,
   "metadata": {
    "scrolled": true
   },
   "outputs": [],
   "source": [
    "dates.show(80)"
   ]
  },
  {
   "cell_type": "markdown",
   "metadata": {},
   "source": [
    "#### Method"
   ]
  },
  {
   "cell_type": "code",
   "execution_count": null,
   "metadata": {},
   "outputs": [],
   "source": [
    "df_raw.select(\"Method\").distinct.show()"
   ]
  },
  {
   "cell_type": "markdown",
   "metadata": {},
   "source": [
    "#### Null values  "
   ]
  },
  {
   "cell_type": "code",
   "execution_count": null,
   "metadata": {},
   "outputs": [],
   "source": [
    "df_raw.filter(\"Method IS NULL\").count()"
   ]
  },
  {
   "cell_type": "markdown",
   "metadata": {},
   "source": [
    "#### Type \n",
    "#### Distinct values "
   ]
  },
  {
   "cell_type": "code",
   "execution_count": null,
   "metadata": {
    "scrolled": true
   },
   "outputs": [],
   "source": [
    "df_raw.select(\"Type\").distinct.show()"
   ]
  },
  {
   "cell_type": "code",
   "execution_count": null,
   "metadata": {
    "scrolled": true
   },
   "outputs": [],
   "source": [
    "df_raw = df_result.withColumn(\"Type\", initcap(col(\"Type\")))\n",
    "df_raw.select(\"Type\").distinct.show()"
   ]
  },
  {
   "cell_type": "markdown",
   "metadata": {},
   "source": [
    "#### 9. Regionname"
   ]
  },
  {
   "cell_type": "code",
   "execution_count": 38,
   "metadata": {
    "scrolled": false
   },
   "outputs": [
    {
     "name": "stdout",
     "output_type": "stream",
     "text": [
      "+--------------------+\n",
      "|          Regionname|\n",
      "+--------------------+\n",
      "|South-Eastern Met...|\n",
      "|Western Metropolitan|\n",
      "|Eastern Metropolitan|\n",
      "|    Eastern Victoria|\n",
      "|                #N/A|\n",
      "|   Northern Victoria|\n",
      "|Northern Metropol...|\n",
      "|Southern Metropol...|\n",
      "|    Western Victoria|\n",
      "+--------------------+\n",
      "\n"
     ]
    }
   ],
   "source": [
    "df_raw.select(\"Regionname\").distinct.show()"
   ]
  },
  {
   "cell_type": "code",
   "execution_count": 39,
   "metadata": {},
   "outputs": [
    {
     "data": {
      "text/plain": [
       "res7: Long = 0\n"
      ]
     },
     "execution_count": 39,
     "metadata": {},
     "output_type": "execute_result"
    }
   ],
   "source": [
    "df_raw.filter(\"Regionname IS NULL\").count()"
   ]
  },
  {
   "cell_type": "markdown",
   "metadata": {},
   "source": [
    "# Wrangling\n",
    "\n",
    "### The cleansing process based on the above findings has been completed in a separate notebook."
   ]
  },
  {
   "cell_type": "markdown",
   "metadata": {},
   "source": [
    "# Secondary Analysis\n",
    "\n",
    "Perform a secondary analysis on the clean dataset to compare it with the original."
   ]
  },
  {
   "cell_type": "code",
   "execution_count": 41,
   "metadata": {},
   "outputs": [],
   "source": [
    "! hadoop fs -mkdir -p  /tmp/output\n",
    "! hadoop fs -put   -p  ./../data-clean/*.csv             /tmp/output"
   ]
  },
  {
   "cell_type": "code",
   "execution_count": 50,
   "metadata": {},
   "outputs": [
    {
     "data": {
      "text/plain": [
       "df_clean: org.apache.spark.sql.DataFrame = [Price: string, MethodOfSale: string ... 11 more fields]\n"
      ]
     },
     "execution_count": 50,
     "metadata": {},
     "output_type": "execute_result"
    }
   ],
   "source": [
    "// Load Clean Dataset into a DataFrame from HDFS after wrangling is completed\n",
    "val df_clean = spark\n",
    "    .read\n",
    "    .format(\"csv\")\n",
    "    .option(\"header\", \"true\")\n",
    "    .load(\"hdfs://localhost:9000/tmp/output/*.csv\")"
   ]
  },
  {
   "cell_type": "code",
   "execution_count": 51,
   "metadata": {},
   "outputs": [
    {
     "data": {
      "text/plain": [
       "res8: Long = 15728\n"
      ]
     },
     "execution_count": 51,
     "metadata": {},
     "output_type": "execute_result"
    }
   ],
   "source": [
    "// Count the rows within the imported file\n",
    "df_clean.count()"
   ]
  },
  {
   "cell_type": "code",
   "execution_count": 52,
   "metadata": {},
   "outputs": [
    {
     "name": "stdout",
     "output_type": "stream",
     "text": [
      "root\n",
      " |-- Price: string (nullable = true)\n",
      " |-- MethodOfSale: string (nullable = true)\n",
      " |-- PropertyType: string (nullable = true)\n",
      " |-- DistanceFromCBD: string (nullable = true)\n",
      " |-- Rooms: string (nullable = true)\n",
      " |-- Bathroom: string (nullable = true)\n",
      " |-- Car: string (nullable = true)\n",
      " |-- Landsize: string (nullable = true)\n",
      " |-- Latitude: string (nullable = true)\n",
      " |-- Longtitude: string (nullable = true)\n",
      " |-- Suburb: string (nullable = true)\n",
      " |-- Date: string (nullable = true)\n",
      " |-- StreetName: string (nullable = true)\n",
      "\n"
     ]
    }
   ],
   "source": [
    "df_clean.printSchema()"
   ]
  },
  {
   "cell_type": "code",
   "execution_count": 53,
   "metadata": {
    "scrolled": true
   },
   "outputs": [
    {
     "name": "stdout",
     "output_type": "stream",
     "text": [
      "+---------+------------+------------+---------------+-----+--------+---+--------+--------+----------+----------+----------+-------------+\n",
      "|    Price|MethodOfSale|PropertyType|DistanceFromCBD|Rooms|Bathroom|Car|Landsize|Latitude|Longtitude|    Suburb|      Date|   StreetName|\n",
      "+---------+------------+------------+---------------+-----+--------+---+--------+--------+----------+----------+----------+-------------+\n",
      "|1480000.0|           1|           1|            2.5|    2|       1|  1|   202.0|-37.7996|  144.9984|Abbotsford| 3/12/2016|    Turner St|\n",
      "|1035000.0|           1|           1|            2.5|    2|       1|  0|   156.0|-37.8079|  144.9934|Abbotsford| 4/02/2016| Bloomburg St|\n",
      "|1465000.0|           2|           1|            2.5|    3|       2|  0|   134.0|-37.8093|  144.9944|Abbotsford| 4/03/2017|   Charles St|\n",
      "| 850000.0|           3|           1|            2.5|    3|       2|  1|    94.0|-37.7969|  144.9969|Abbotsford| 4/03/2017|Federation La|\n",
      "|1600000.0|           6|           1|            2.5|    4|       1|  2|   120.0|-37.8072|  144.9941|Abbotsford| 4/06/2016|      Park St|\n",
      "| 941000.0|           1|           1|            2.5|    2|       1|  0|   181.0|-37.8041|  144.9953|Abbotsford| 7/05/2016|   Charles St|\n",
      "|1876000.0|           1|           1|            2.5|    3|       2|  0|   245.0|-37.8024|  144.9993|Abbotsford| 7/05/2016|     Yarra St|\n",
      "|1636000.0|           1|           1|            2.5|    2|       1|  2|   256.0| -37.806|  144.9954|Abbotsford| 8/10/2016|   Charles St|\n",
      "|1097000.0|           1|           1|            2.5|    2|       1|  2|   220.0| -37.801|  144.9989|Abbotsford| 8/10/2016|   Valiant St|\n",
      "|1350000.0|           6|           1|            2.5|    3|       2|  2|   214.0|-37.8085|  144.9964|Abbotsford|12/11/2016| Nicholson St|\n",
      "|1172500.0|           1|           1|            2.5|    2|       1|  1|   195.0|-37.8084|  144.9973|Abbotsford|13/08/2016|   William St|\n",
      "|1310000.0|           1|           1|            2.5|    2|       1|  2|   238.0| -37.809|  144.9976|Abbotsford|15/10/2016|   William St|\n",
      "|1200000.0|           1|           1|            2.5|    3|       2|  1|   113.0|-37.8056|   144.993|Abbotsford|16/07/2016|     Henry St|\n",
      "|1176500.0|           1|           1|            2.5|    3|       1|  1|   138.0|-37.8021|  144.9965|Abbotsford|16/07/2016|     Yarra St|\n",
      "| 955000.0|           1|           1|            2.5|    3|       1|  0|   183.0|-37.8022|  144.9975|Abbotsford|17/09/2016| Nicholson St|\n",
      "| 890000.0|           1|           1|            2.5|    2|       1|  1|   150.0|-37.8011|  145.0004|Abbotsford|17/09/2016|   Valiant St|\n",
      "|1330000.0|           3|           1|            2.5|    4|       2|  2|   780.0|-37.8073|  144.9952|Abbotsford|18/03/2017|   Charles St|\n",
      "|1090000.0|           1|           2|            2.5|    3|       2|  2|  4290.0|-37.8078|  144.9965|Abbotsford|18/03/2017| Nicholson St|\n",
      "|1100000.0|           3|           1|            2.5|    2|       2|  1|   124.0|-37.8079|  144.9977|Abbotsford|18/06/2016|   William St|\n",
      "|1315000.0|           1|           1|            2.5|    2|       1|  0|   147.0| -37.808|   144.994|Abbotsford|19/11/2016|      Park St|\n",
      "+---------+------------+------------+---------------+-----+--------+---+--------+--------+----------+----------+----------+-------------+\n",
      "only showing top 20 rows\n",
      "\n"
     ]
    }
   ],
   "source": [
    "df_clean.select(\"Price\", \n",
    "                \"MethodOfSale\", \n",
    "                \"PropertyType\", \n",
    "                \"DistanceFromCBD\", \n",
    "                \"Rooms\", \n",
    "                \"Bathroom\", \n",
    "                \"Car\", \n",
    "                \"Landsize\", \n",
    "                \"Latitude\", \n",
    "                \"Longtitude\", \n",
    "                \"Suburb\", \n",
    "                \"Date\", \n",
    "                \"StreetName\").show()"
   ]
  },
  {
   "cell_type": "markdown",
   "metadata": {},
   "source": [
    "### Descriptive Statistics:"
   ]
  },
  {
   "cell_type": "code",
   "execution_count": 54,
   "metadata": {},
   "outputs": [
    {
     "name": "stdout",
     "output_type": "stream",
     "text": [
      "+-------+-----------------+------------------+------------------+------------------+------------------+------------------+\n",
      "|Summary|            Price|      MethodOfSale|      PropertyType|   DistanceFromCBD|             Rooms|          Bathroom|\n",
      "+-------+-----------------+------------------+------------------+------------------+------------------+------------------+\n",
      "|  count|            15728|             15728|             15728|             15728|             15728|             15728|\n",
      "|   mean|1150668.961851475|1.8519201424211598|1.2367115971515767|11.743203204475906| 3.187817904374364|1.6276068158697863|\n",
      "| stddev|663018.9561677927|1.5641294862942188|0.5723389425747235| 6.700598921434572|0.8816674199865697|0.7148157821249159|\n",
      "|    min|           1.12E7|                 1|                 1|               0.0|                 1|                 0|\n",
      "|    max|         999999.0|                 8|                 3|               9.9|                 8|                 9|\n",
      "+-------+-----------------+------------------+------------------+------------------+------------------+------------------+\n",
      "\n"
     ]
    }
   ],
   "source": [
    "df_clean.describe().select(\"Summary\", \n",
    "                           \"Price\", \n",
    "                           \"MethodOfSale\", \n",
    "                           \"PropertyType\", \n",
    "                           \"DistanceFromCBD\", \n",
    "                           \"Rooms\", \n",
    "                           \"Bathroom\").show()"
   ]
  },
  {
   "cell_type": "code",
   "execution_count": 55,
   "metadata": {},
   "outputs": [
    {
     "name": "stdout",
     "output_type": "stream",
     "text": [
      "+-------+------------------+------------------+-------------------+-------------------+----------+---------+-----------+\n",
      "|summary|               Car|          Landsize|           Latitude|         Longtitude|    Suburb|     Date| StreetName|\n",
      "+-------+------------------+------------------+-------------------+-------------------+----------+---------+-----------+\n",
      "|  count|             15728|             15728|              15728|              15728|     15728|    15728|      15728|\n",
      "|   mean|1.7699008138351984| 668.6406408952187| -37.80422331192775|  144.9974195784588|      null|     null|       null|\n",
      "| stddev|1.0185620996735723|4008.2209550592024|0.09275044706405701|0.12243663700518545|      null|     null|       null|\n",
      "|    min|                 0|             100.0|          -37.39946|          144.42379|Abbotsford|1/07/2017|Aanensen Ct|\n",
      "|    max|                 9|             999.0|          -38.19043|          145.52635|Yarraville|9/12/2017|Zurzolo Tce|\n",
      "+-------+------------------+------------------+-------------------+-------------------+----------+---------+-----------+\n",
      "\n"
     ]
    }
   ],
   "source": [
    "df_clean.describe().select(\"summary\", \n",
    "                           \"Car\",\n",
    "                           \"Landsize\", \n",
    "                           \"Latitude\", \n",
    "                           \"Longtitude\", \n",
    "                           \"Suburb\", \n",
    "                           \"Date\", \n",
    "                           \"StreetName\").show()"
   ]
  },
  {
   "cell_type": "markdown",
   "metadata": {},
   "source": [
    "#### Correlation of the remainder varibles with Price"
   ]
  },
  {
   "cell_type": "code",
   "execution_count": 56,
   "metadata": {},
   "outputs": [
    {
     "name": "stdout",
     "output_type": "stream",
     "text": [
      "+-------------------------+\n",
      "|corr(MethodOfSale, Price)|\n",
      "+-------------------------+\n",
      "|      0.09999735389602706|\n",
      "+-------------------------+\n",
      "\n",
      "+-------------------------+\n",
      "|corr(PropertyType, Price)|\n",
      "+-------------------------+\n",
      "|     -0.19834317580327496|\n",
      "+-------------------------+\n",
      "\n",
      "+----------------------------+\n",
      "|corr(DistanceFromCBD, Price)|\n",
      "+----------------------------+\n",
      "|         -0.3067923420146305|\n",
      "+----------------------------+\n",
      "\n",
      "+------------------+\n",
      "|corr(Rooms, Price)|\n",
      "+------------------+\n",
      "|0.3891959982715667|\n",
      "+------------------+\n",
      "\n",
      "+---------------------+\n",
      "|corr(Bathroom, Price)|\n",
      "+---------------------+\n",
      "|   0.4070422568142487|\n",
      "+---------------------+\n",
      "\n",
      "+------------------+\n",
      "|  corr(Car, Price)|\n",
      "+------------------+\n",
      "|0.1508691880664582|\n",
      "+------------------+\n",
      "\n",
      "+---------------------+\n",
      "|corr(Landsize, Price)|\n",
      "+---------------------+\n",
      "| 0.020547866303955897|\n",
      "+---------------------+\n",
      "\n",
      "+---------------------+\n",
      "|corr(Latitude, Price)|\n",
      "+---------------------+\n",
      "|  -0.2523660525744002|\n",
      "+---------------------+\n",
      "\n",
      "+-----------------------+\n",
      "|corr(Longtitude, Price)|\n",
      "+-----------------------+\n",
      "|    0.20616294979089247|\n",
      "+-----------------------+\n",
      "\n"
     ]
    }
   ],
   "source": [
    "// Correlation now will include the categorical variables which where converted to factor.\n",
    "df_clean.select(corr(\"MethodOfSale\",\"Price\")).show()\n",
    "df_clean.select(corr(\"PropertyType\",\"Price\")).show()\n",
    "df_clean.select(corr(\"DistanceFromCBD\",\"Price\")).show()\n",
    "df_clean.select(corr(\"Rooms\",\"Price\")).show()\n",
    "df_clean.select(corr(\"Bathroom\",\"Price\")).show()\n",
    "df_clean.select(corr(\"Car\",\"Price\")).show()\n",
    "df_clean.select(corr(\"Landsize\",\"Price\")).show()\n",
    "df_clean.select(corr(\"Latitude\",\"Price\")).show()\n",
    "df_clean.select(corr(\"Longtitude\",\"Price\")).show()"
   ]
  },
  {
   "cell_type": "code",
   "execution_count": 68,
   "metadata": {},
   "outputs": [
    {
     "data": {
      "text/plain": [
       "res15: org.apache.spark.sql.DataFrame = [Price: string, MethodOfSale: string ... 11 more fields]\n"
      ]
     },
     "execution_count": 68,
     "metadata": {},
     "output_type": "execute_result"
    }
   ],
   "source": [
    "df_clean"
   ]
  },
  {
   "cell_type": "code",
   "execution_count": 59,
   "metadata": {},
   "outputs": [],
   "source": [
    "df_clean.toDF.createOrReplaceTempView(\"df_py_clean\")"
   ]
  },
  {
   "cell_type": "code",
   "execution_count": 74,
   "metadata": {},
   "outputs": [
    {
     "ename": "TypeError",
     "evalue": "(\"can't multiply sequence by non-int of type 'float'\",)",
     "output_type": "error",
     "traceback": [
      "Traceback (most recent call last):",
      "  File \"python cell\", line 7, in <module>",
      "  File \"/usr/local/lib/python3.6/dist-packages/pandas/core/series.py\", line 2199, in quantile\n    result = df.quantile(q=q, interpolation=interpolation, numeric_only=False)",
      "  File \"/usr/local/lib/python3.6/dist-packages/pandas/core/frame.py\", line 8265, in quantile\n    qs=q, axis=1, interpolation=interpolation, transposed=is_transposed",
      "  File \"/usr/local/lib/python3.6/dist-packages/pandas/core/internals/managers.py\", line 500, in quantile\n    block = b.quantile(axis=axis, qs=qs, interpolation=interpolation)",
      "  File \"/usr/local/lib/python3.6/dist-packages/pandas/core/internals/blocks.py\", line 1532, in quantile\n    interpolation=interpolation,",
      "  File \"/usr/local/lib/python3.6/dist-packages/pandas/core/nanops.py\", line 1424, in nanpercentile\n    return np.percentile(values, q, axis=axis, interpolation=interpolation)",
      "  File \"<__array_function__ internals>\", line 6, in percentile",
      "  File \"/usr/local/lib/python3.6/dist-packages/numpy/lib/function_base.py\", line 3706, in percentile\n    a, q, axis, out, overwrite_input, interpolation, keepdims)",
      "  File \"/usr/local/lib/python3.6/dist-packages/numpy/lib/function_base.py\", line 3826, in _quantile_unchecked\n    interpolation=interpolation)",
      "  File \"/usr/local/lib/python3.6/dist-packages/numpy/lib/function_base.py\", line 3403, in _ureduce\n    r = func(a, **kwargs)",
      "  File \"/usr/local/lib/python3.6/dist-packages/numpy/lib/function_base.py\", line 3941, in _quantile_ureduce_func\n    x1 = take(ap, indices_below, axis=axis) * weights_below",
      "TypeError: can't multiply sequence by non-int of type 'float'"
     ]
    },
    {
     "name": "stdout",
     "output_type": "stream",
     "text": [
      "2020-05-26 11:38:18,847 WARN  [dispatcher-event-loop-2] spark.HeartbeatReceiver (Logging.scala:logWarning(66)) - Removing executor driver with no recent heartbeats: 3013031 ms exceeds timeout 120000 ms\n",
      "2020-05-26 11:38:19,778 ERROR [dispatcher-event-loop-2] scheduler.TaskSchedulerImpl (Logging.scala:logError(70)) - Lost executor driver on localhost: Executor heartbeat timed out after 3013031 ms\n",
      "2020-05-26 11:38:25,242 WARN  [kill-executor-thread] spark.SparkContext (Logging.scala:logWarning(66)) - Killing executors is not supported by current scheduler.\n",
      "2020-05-26 11:38:25,307 WARN  [dispatcher-event-loop-0] storage.BlockManagerMasterEndpoint (Logging.scala:logWarning(66)) - No more replicas available for broadcast_10_piece0 !\n",
      "2020-05-26 11:38:25,308 WARN  [dispatcher-event-loop-0] storage.BlockManagerMasterEndpoint (Logging.scala:logWarning(66)) - No more replicas available for broadcast_57_piece0 !\n"
     ]
    }
   ],
   "source": [
    "%%python\n",
    "from matplotlib import pyplot as plt\n",
    "import pandas as pd\n",
    "from IPython.display import display\n",
    "\n",
    "df_clean_p = spark.sql(\"select * from df_py_clean\")\n",
    "df_clean_pd = df_clean_p.toPandas()\n",
    "print(df_clean_pd.Price.quantile(0.25)) "
   ]
  },
  {
   "cell_type": "code",
   "execution_count": 72,
   "metadata": {},
   "outputs": [
    {
     "name": "stdout",
     "output_type": "stream",
     "text": [
      "0        1480000.0\n",
      "1        1035000.0\n",
      "2        1465000.0\n",
      "3         850000.0\n",
      "4        1600000.0\n",
      "           ...    \n",
      "15723     570000.0\n",
      "15724    1480000.0\n",
      "15725     888000.0\n",
      "15726     705000.0\n",
      "15727    1020000.0\n",
      "Name: Price, Length: 15728, dtype: object\n"
     ]
    },
    {
     "ename": "TypeError",
     "evalue": "(\"can't multiply sequence by non-int of type 'float'\",)",
     "output_type": "error",
     "traceback": [
      "Traceback (most recent call last):",
      "  File \"python cell\", line 8, in <module>",
      "  File \"/usr/local/lib/python3.6/dist-packages/pandas/core/series.py\", line 2199, in quantile\n    result = df.quantile(q=q, interpolation=interpolation, numeric_only=False)",
      "  File \"/usr/local/lib/python3.6/dist-packages/pandas/core/frame.py\", line 8265, in quantile\n    qs=q, axis=1, interpolation=interpolation, transposed=is_transposed",
      "  File \"/usr/local/lib/python3.6/dist-packages/pandas/core/internals/managers.py\", line 500, in quantile\n    block = b.quantile(axis=axis, qs=qs, interpolation=interpolation)",
      "  File \"/usr/local/lib/python3.6/dist-packages/pandas/core/internals/blocks.py\", line 1532, in quantile\n    interpolation=interpolation,",
      "  File \"/usr/local/lib/python3.6/dist-packages/pandas/core/nanops.py\", line 1424, in nanpercentile\n    return np.percentile(values, q, axis=axis, interpolation=interpolation)",
      "  File \"<__array_function__ internals>\", line 6, in percentile",
      "  File \"/usr/local/lib/python3.6/dist-packages/numpy/lib/function_base.py\", line 3706, in percentile\n    a, q, axis, out, overwrite_input, interpolation, keepdims)",
      "  File \"/usr/local/lib/python3.6/dist-packages/numpy/lib/function_base.py\", line 3826, in _quantile_unchecked\n    interpolation=interpolation)",
      "  File \"/usr/local/lib/python3.6/dist-packages/numpy/lib/function_base.py\", line 3403, in _ureduce\n    r = func(a, **kwargs)",
      "  File \"/usr/local/lib/python3.6/dist-packages/numpy/lib/function_base.py\", line 3941, in _quantile_ureduce_func\n    x1 = take(ap, indices_below, axis=axis) * weights_below",
      "TypeError: can't multiply sequence by non-int of type 'float'"
     ]
    }
   ],
   "source": [
    "%%python\n",
    "from matplotlib import pyplot as plt\n",
    "import pandas as pd\n",
    "from IPython.display import display\n",
    "\n",
    "print(df_clean_pd.Price)\n",
    "\n",
    "# filter price outliers\n",
    "price_Q1 = df_clean_pd['Price'].quantile(0.25)\n",
    "price_Q3 = df_clean_pd['Price'].quantile(0.75)\n",
    "price_IQR = price_Q3 - price_Q1  \n",
    "print(price_IQR)\n"
   ]
  },
  {
   "cell_type": "code",
   "execution_count": 70,
   "metadata": {},
   "outputs": [
    {
     "ename": "TypeError",
     "evalue": "(\"can't multiply sequence by non-int of type 'float'\",)",
     "output_type": "error",
     "traceback": [
      "Traceback (most recent call last):",
      "  File \"python cell\", line 6, in <module>",
      "  File \"/usr/local/lib/python3.6/dist-packages/pandas/core/series.py\", line 2199, in quantile\n    result = df.quantile(q=q, interpolation=interpolation, numeric_only=False)",
      "  File \"/usr/local/lib/python3.6/dist-packages/pandas/core/frame.py\", line 8265, in quantile\n    qs=q, axis=1, interpolation=interpolation, transposed=is_transposed",
      "  File \"/usr/local/lib/python3.6/dist-packages/pandas/core/internals/managers.py\", line 500, in quantile\n    block = b.quantile(axis=axis, qs=qs, interpolation=interpolation)",
      "  File \"/usr/local/lib/python3.6/dist-packages/pandas/core/internals/blocks.py\", line 1532, in quantile\n    interpolation=interpolation,",
      "  File \"/usr/local/lib/python3.6/dist-packages/pandas/core/nanops.py\", line 1424, in nanpercentile\n    return np.percentile(values, q, axis=axis, interpolation=interpolation)",
      "  File \"<__array_function__ internals>\", line 6, in percentile",
      "  File \"/usr/local/lib/python3.6/dist-packages/numpy/lib/function_base.py\", line 3706, in percentile\n    a, q, axis, out, overwrite_input, interpolation, keepdims)",
      "  File \"/usr/local/lib/python3.6/dist-packages/numpy/lib/function_base.py\", line 3826, in _quantile_unchecked\n    interpolation=interpolation)",
      "  File \"/usr/local/lib/python3.6/dist-packages/numpy/lib/function_base.py\", line 3403, in _ureduce\n    r = func(a, **kwargs)",
      "  File \"/usr/local/lib/python3.6/dist-packages/numpy/lib/function_base.py\", line 3941, in _quantile_ureduce_func\n    x1 = take(ap, indices_below, axis=axis) * weights_below",
      "TypeError: can't multiply sequence by non-int of type 'float'"
     ]
    }
   ],
   "source": [
    "%%python\n",
    "from matplotlib import pyplot as plt\n",
    "import pandas as pd\n",
    "from IPython.display import display\n",
    "\n",
    "# filter price outliers\n",
    "price_Q1 = df_clean_pd.Price.quantile(0.25)\n",
    "price_Q3 = df_clean_pd.Price.quantile(0.75)\n",
    "price_IQR = price_Q3 - price_Q1  \n",
    "print(price_IQR)\n",
    "price_filter = (df_clean_pd.Price >= price_Q1 - 1.5 * price_IQR) & (df_clean_pd.Price <= price_Q3 + 1.5 *price_IQR)\n",
    "\n",
    "print(df_clean_pd.loc[price_filter].shape[0])\n",
    "print(df_clean_pd.loc[price_filter])"
   ]
  },
  {
   "cell_type": "markdown",
   "metadata": {},
   "source": [
    "## References\n",
    "\n",
    "Apache Spark (n.d.). _Spark Scala API (Scaladoc). Overview._ https://spark.apache.org/docs/latest/api/java/overview-summary.html\n",
    "\n",
    "Apache Spark (n.d.). _Basic Statistic._ https://spark.apache.org/docs/latest/ml-statistics.html\n",
    "\n",
    "Bahadoor N. (2020). _Spark Tutorials_ https://allaboutscala.com/big-data/spark/#dataframe-statistics-correlation\n",
    "\n",
    "Databricks. (2020). _Introduction to DataFrames - Scala._  https://docs.databricks.com/spark/latest/dataframes-datasets/introduction-to-dataframes-scala.html \n",
    "\n",
    "Grimaldi E. (2018). _Pandas vs. Spark: how to handle dataframes (Part II.)_  https://towardsdatascience.com/python-pandas-vs-scala-how-to-handle-dataframes-part-ii-d3e5efe8287d \n",
    "\n"
   ]
  },
  {
   "cell_type": "code",
   "execution_count": null,
   "metadata": {},
   "outputs": [],
   "source": []
  },
  {
   "cell_type": "code",
   "execution_count": null,
   "metadata": {},
   "outputs": [],
   "source": []
  }
 ],
 "metadata": {
  "kernelspec": {
   "display_name": "spylon-kernel",
   "language": "scala",
   "name": "spylon-kernel"
  },
  "language_info": {
   "codemirror_mode": "text/x-scala",
   "file_extension": ".scala",
   "help_links": [
    {
     "text": "MetaKernel Magics",
     "url": "https://metakernel.readthedocs.io/en/latest/source/README.html"
    }
   ],
   "mimetype": "text/x-scala",
   "name": "scala",
   "pygments_lexer": "scala",
   "version": "0.4.1"
  }
 },
 "nbformat": 4,
 "nbformat_minor": 4
}
