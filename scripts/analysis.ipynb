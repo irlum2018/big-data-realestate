{
 "cells": [
  {
   "cell_type": "markdown",
   "metadata": {},
   "source": [
    "## Preparing HDFS\n",
    "\n",
    "Using magic\n",
    "\n",
    "Create input folder on HDFS if not exists\n",
    "\n",
    "Copy from data from local"
   ]
  },
  {
   "cell_type": "code",
   "execution_count": 1,
   "metadata": {},
   "outputs": [
    {
     "data": {
      "text/plain": [
       "Intitializing Scala interpreter ..."
      ]
     },
     "metadata": {},
     "output_type": "display_data"
    },
    {
     "data": {
      "text/plain": [
       "Spark Web UI available at http://c81c8959e4d5:4040\n",
       "SparkContext available as 'sc' (version = 2.4.5, master = local[*], app id = local-1590290604632)\n",
       "SparkSession available as 'spark'\n"
      ]
     },
     "metadata": {},
     "output_type": "display_data"
    },
    {
     "name": "stdout",
     "output_type": "stream",
     "text": [
      "2020-05-24 03:23:31,045 WARN  [Thread-4] sql.SparkSession$Builder (Logging.scala:logWarning(66)) - Using an existing SparkSession; some configuration may not take effect.\n"
     ]
    },
    {
     "data": {
      "text/plain": [
       "spark: org.apache.spark.sql.SparkSession = org.apache.spark.sql.SparkSession@26f77584\n"
      ]
     },
     "execution_count": 1,
     "metadata": {},
     "output_type": "execute_result"
    }
   ],
   "source": [
    "val spark = org.apache.spark.sql.SparkSession.builder\n",
    "        .master(\"local\") \n",
    "        .appName(\"Spark CSV Reader\")\n",
    "        .getOrCreate;"
   ]
  },
  {
   "cell_type": "code",
   "execution_count": 2,
   "metadata": {
    "scrolled": true
   },
   "outputs": [
    {
     "data": {
      "text/plain": [
       "import org.apache.spark.sql.functions._\n"
      ]
     },
     "execution_count": 2,
     "metadata": {},
     "output_type": "execute_result"
    }
   ],
   "source": [
    "import org.apache.spark.sql.functions._"
   ]
  },
  {
   "cell_type": "code",
   "execution_count": 3,
   "metadata": {},
   "outputs": [
    {
     "name": "stdout",
     "output_type": "stream",
     "text": [
      "/home/Assessments/big-data-realestate/scripts\n",
      "\n",
      "Found 1 items\n",
      "\n",
      "\n",
      "-rwxr-xr-x   1 root root    5018236 2020-05-19 12:49 /tmp/rs_input/raw.csv\n",
      "\n",
      "\n"
     ]
    }
   ],
   "source": [
    "! pwd\n",
    "! hadoop fs -mkdir -p  /tmp/rs_input\n",
    "! hadoop fs -put   -p  ./../data-raw/Melbourne_housing_FULL.csv             /tmp/rs_input/raw.csv\n",
    "! hadoop fs -ls        /tmp/rs_input/"
   ]
  },
  {
   "cell_type": "code",
   "execution_count": 4,
   "metadata": {},
   "outputs": [
    {
     "data": {
      "text/plain": [
       "df_raw: org.apache.spark.sql.DataFrame = [Suburb: string, Address: string ... 19 more fields]\n"
      ]
     },
     "execution_count": 4,
     "metadata": {},
     "output_type": "execute_result"
    }
   ],
   "source": [
    "//load raw into df\n",
    "val df_raw = spark\n",
    "    .read\n",
    "    .format(\"csv\")\n",
    "    .option(\"header\", \"true\")\n",
    "    .load(\"hdfs://localhost:9000/tmp/rs_input/raw.csv\")"
   ]
  },
  {
   "cell_type": "markdown",
   "metadata": {},
   "source": [
    "### Data Exploration"
   ]
  },
  {
   "cell_type": "code",
   "execution_count": 73,
   "metadata": {},
   "outputs": [
    {
     "ename": "<console>",
     "evalue": "30: error: not found: value hadoop",
     "output_type": "error",
     "traceback": [
      "<console>:30: error: not found: value hadoop",
      "       !hadoop fs -cat /tmp/rs_input/raw.csv | wc -l",
      "        ^",
      "<console>:30: error: not found: value cat",
      "       !hadoop fs -cat /tmp/rs_input/raw.csv | wc -l",
      "                   ^",
      "<console>:30: error: not found: value tmp",
      "       !hadoop fs -cat /tmp/rs_input/raw.csv | wc -l",
      "                        ^",
      "<console>:30: error: not found: value rs_input",
      "       !hadoop fs -cat /tmp/rs_input/raw.csv | wc -l",
      "                            ^",
      "<console>:30: error: not found: value raw",
      "       !hadoop fs -cat /tmp/rs_input/raw.csv | wc -l",
      "                                     ^",
      "<console>:30: error: not found: value wc",
      "       !hadoop fs -cat /tmp/rs_input/raw.csv | wc -l",
      "                                               ^",
      "<console>:30: error: not found: value l",
      "       !hadoop fs -cat /tmp/rs_input/raw.csv | wc -l",
      "                                                   ^",
      ""
     ]
    }
   ],
   "source": [
    "// Count the rows within the imported file\n",
    "!hadoop fs -cat /tmp/rs_input/raw.csv | wc -l"
   ]
  },
  {
   "cell_type": "code",
   "execution_count": 7,
   "metadata": {},
   "outputs": [
    {
     "data": {
      "text/plain": [
       "df_raw: org.apache.spark.sql.DataFrame = [Suburb: string, Address: string ... 19 more fields]\n"
      ]
     },
     "execution_count": 7,
     "metadata": {},
     "output_type": "execute_result"
    }
   ],
   "source": [
    "val df_raw = spark.read.format(\"csv\").option(\"header\", \"true\").load(\"hdfs://localhost:9000/tmp/rs_input/raw.csv\")"
   ]
  },
  {
   "cell_type": "markdown",
   "metadata": {},
   "source": [
    "## Analysis"
   ]
  },
  {
   "cell_type": "markdown",
   "metadata": {},
   "source": [
    "### Print schema:"
   ]
  },
  {
   "cell_type": "code",
   "execution_count": 9,
   "metadata": {
    "scrolled": false
   },
   "outputs": [
    {
     "name": "stdout",
     "output_type": "stream",
     "text": [
      "root\n",
      " |-- Suburb: string (nullable = true)\n",
      " |-- Address: string (nullable = true)\n",
      " |-- Rooms: string (nullable = true)\n",
      " |-- Type: string (nullable = true)\n",
      " |-- Price: string (nullable = true)\n",
      " |-- Method: string (nullable = true)\n",
      " |-- SellerG: string (nullable = true)\n",
      " |-- Date: string (nullable = true)\n",
      " |-- Distance: string (nullable = true)\n",
      " |-- Postcode: string (nullable = true)\n",
      " |-- Bedroom2: string (nullable = true)\n",
      " |-- Bathroom: string (nullable = true)\n",
      " |-- Car: string (nullable = true)\n",
      " |-- Landsize: string (nullable = true)\n",
      " |-- BuildingArea: string (nullable = true)\n",
      " |-- YearBuilt: string (nullable = true)\n",
      " |-- CouncilArea: string (nullable = true)\n",
      " |-- Lattitude: string (nullable = true)\n",
      " |-- Longtitude: string (nullable = true)\n",
      " |-- Regionname: string (nullable = true)\n",
      " |-- Propertycount: string (nullable = true)\n",
      "\n"
     ]
    }
   ],
   "source": [
    "df_raw.printSchema()"
   ]
  },
  {
   "cell_type": "code",
   "execution_count": 10,
   "metadata": {},
   "outputs": [
    {
     "data": {
      "text/plain": [
       "res4: Array[String] = Array(Suburb, Address, Rooms, Type, Price, Method, SellerG, Date, Distance, Postcode, Bedroom2, Bathroom, Car, Landsize, BuildingArea, YearBuilt, CouncilArea, Lattitude, Longtitude, Regionname, Propertycount)\n"
      ]
     },
     "execution_count": 10,
     "metadata": {},
     "output_type": "execute_result"
    }
   ],
   "source": [
    "df_raw.columns"
   ]
  },
  {
   "cell_type": "markdown",
   "metadata": {},
   "source": [
    "### Show column types:"
   ]
  },
  {
   "cell_type": "code",
   "execution_count": 11,
   "metadata": {},
   "outputs": [
    {
     "data": {
      "text/plain": [
       "res5: Array[(String, String)] = Array((Suburb,StringType), (Address,StringType), (Rooms,StringType), (Type,StringType), (Price,StringType), (Method,StringType), (SellerG,StringType), (Date,StringType), (Distance,StringType), (Postcode,StringType), (Bedroom2,StringType), (Bathroom,StringType), (Car,StringType), (Landsize,StringType), (BuildingArea,StringType), (YearBuilt,StringType), (CouncilArea,StringType), (Lattitude,StringType), (Longtitude,StringType), (Regionname,StringType), (Propertycount,StringType))\n"
      ]
     },
     "execution_count": 11,
     "metadata": {},
     "output_type": "execute_result"
    }
   ],
   "source": [
    "df_raw.dtypes"
   ]
  },
  {
   "cell_type": "markdown",
   "metadata": {},
   "source": [
    "All features seem to be stored as text therefore numerical values will need to be converted to Integer and Float accordingly.\n",
    "In addition, the categorical variables of Type and Method will need to be converted to integers as factors."
   ]
  },
  {
   "cell_type": "markdown",
   "metadata": {},
   "source": [
    "## Display the rows:"
   ]
  },
  {
   "cell_type": "code",
   "execution_count": 63,
   "metadata": {
    "scrolled": true
   },
   "outputs": [
    {
     "name": "stdout",
     "output_type": "stream",
     "text": [
      "+----------+-------------------+--------+----------+----+------+-------+---------+------------------+--------------------+---------+\n",
      "|    Suburb|            Address|POSTCODE|    SUBURB|TYPE|METHOD|SELLERG|     DATE|       COUNCILAREA|          REGIONNAME|YEARBUILT|\n",
      "+----------+-------------------+--------+----------+----+------+-------+---------+------------------+--------------------+---------+\n",
      "|Abbotsford|      68 Studley St|    3067|Abbotsford|   h|    SS| Jellis|3/09/2016|Yarra City Council|Northern Metropol...|     null|\n",
      "|Abbotsford|       85 Turner St|    3067|Abbotsford|   h|     S| Biggin|3/12/2016|Yarra City Council|Northern Metropol...|     null|\n",
      "|Abbotsford|    25 Bloomburg St|    3067|Abbotsford|   h|     S| Biggin|4/02/2016|Yarra City Council|Northern Metropol...|     1900|\n",
      "|Abbotsford| 18/659 Victoria St|    3067|Abbotsford|   u|    VB| Rounds|4/02/2016|Yarra City Council|Northern Metropol...|     null|\n",
      "|Abbotsford|       5 Charles St|    3067|Abbotsford|   h|    SP| Biggin|4/03/2017|Yarra City Council|Northern Metropol...|     1900|\n",
      "|Abbotsford|   40 Federation La|    3067|Abbotsford|   h|    PI| Biggin|4/03/2017|Yarra City Council|Northern Metropol...|     null|\n",
      "|Abbotsford|        55a Park St|    3067|Abbotsford|   h|    VB| Nelson|4/06/2016|Yarra City Council|Northern Metropol...|     2014|\n",
      "|Abbotsford|       16 Maugie St|    3067|Abbotsford|   h|    SN| Nelson|6/08/2016|Yarra City Council|Northern Metropol...|     2006|\n",
      "|Abbotsford|       53 Turner St|    3067|Abbotsford|   h|     S| Biggin|6/08/2016|Yarra City Council|Northern Metropol...|     1900|\n",
      "|Abbotsford|       99 Turner St|    3067|Abbotsford|   h|     S|Collins|6/08/2016|Yarra City Council|Northern Metropol...|     1900|\n",
      "|Abbotsford|     129 Charles St|    3067|Abbotsford|   h|     S| Jellis|7/05/2016|Yarra City Council|Northern Metropol...|     null|\n",
      "|Abbotsford|       124 Yarra St|    3067|Abbotsford|   h|     S| Nelson|7/05/2016|Yarra City Council|Northern Metropol...|     1910|\n",
      "|Abbotsford|121/56 Nicholson St|    3067|Abbotsford|   u|    PI| Biggin|7/11/2016|Yarra City Council|Northern Metropol...|     2009|\n",
      "|Abbotsford|      17 Raphael St|    3067|Abbotsford|   h|     W| Biggin|7/11/2016|Yarra City Council|Northern Metropol...|     1860|\n",
      "|Abbotsford|      98 Charles St|    3067|Abbotsford|   h|     S| Nelson|8/10/2016|Yarra City Council|Northern Metropol...|     1890|\n",
      "|Abbotsford|   217 Langridge St|    3067|Abbotsford|   h|     S| Jellis|8/10/2016|Yarra City Council|Northern Metropol...|     null|\n",
      "|Abbotsford|    18a Mollison St|    3067|Abbotsford|   t|     S| Jellis|8/10/2016|Yarra City Council|Northern Metropol...|     null|\n",
      "|Abbotsford| 6/241 Nicholson St|    3067|Abbotsford|   u|     S| Biggin|8/10/2016|Yarra City Council|Northern Metropol...|     null|\n",
      "|Abbotsford|      10 Valiant St|    3067|Abbotsford|   h|     S| Biggin|8/10/2016|Yarra City Council|Northern Metropol...|     1900|\n",
      "|Abbotsford|403/609 Victoria St|    3067|Abbotsford|   u|     S| Dingle|8/10/2016|Yarra City Council|Northern Metropol...|     null|\n",
      "+----------+-------------------+--------+----------+----+------+-------+---------+------------------+--------------------+---------+\n",
      "only showing top 20 rows\n",
      "\n"
     ]
    }
   ],
   "source": [
    "df_raw.select(\"Suburb\",\"Address\",\"POSTCODE\",\"SUBURB\",\"TYPE\",\"METHOD\",\"SELLERG\",\"DATE\",\"COUNCILAREA\",\"REGIONNAME\",\"YEARBUILT\").show()"
   ]
  },
  {
   "cell_type": "code",
   "execution_count": 17,
   "metadata": {},
   "outputs": [
    {
     "name": "stdout",
     "output_type": "stream",
     "text": [
      "+--------+------------+---------+------------------+---------+----------+--------------------+-------------+\n",
      "|Landsize|BuildingArea|YearBuilt|       CouncilArea|Lattitude|Longtitude|          Regionname|Propertycount|\n",
      "+--------+------------+---------+------------------+---------+----------+--------------------+-------------+\n",
      "|     126|        null|     null|Yarra City Council| -37.8014|  144.9958|Northern Metropol...|         4019|\n",
      "|     202|        null|     null|Yarra City Council| -37.7996|  144.9984|Northern Metropol...|         4019|\n",
      "|     156|          79|     1900|Yarra City Council| -37.8079|  144.9934|Northern Metropol...|         4019|\n",
      "|       0|        null|     null|Yarra City Council| -37.8114|  145.0116|Northern Metropol...|         4019|\n",
      "|     134|         150|     1900|Yarra City Council| -37.8093|  144.9944|Northern Metropol...|         4019|\n",
      "|      94|        null|     null|Yarra City Council| -37.7969|  144.9969|Northern Metropol...|         4019|\n",
      "|     120|         142|     2014|Yarra City Council| -37.8072|  144.9941|Northern Metropol...|         4019|\n",
      "|     400|         220|     2006|Yarra City Council| -37.7965|  144.9965|Northern Metropol...|         4019|\n",
      "|     201|        null|     1900|Yarra City Council| -37.7995|  144.9974|Northern Metropol...|         4019|\n",
      "|     202|        null|     1900|Yarra City Council| -37.7996|  144.9989|Northern Metropol...|         4019|\n",
      "+--------+------------+---------+------------------+---------+----------+--------------------+-------------+\n",
      "only showing top 10 rows\n",
      "\n"
     ]
    }
   ],
   "source": [
    "df_raw.select(\"Landsize\",\"BuildingArea\",\"YearBuilt\",\"CouncilArea\",\"Lattitude\",\"Longtitude\",\"Regionname\",\"Propertycount\").show(10)"
   ]
  },
  {
   "cell_type": "markdown",
   "metadata": {},
   "source": [
    "The data seems to be relatively clean however further exploration is required."
   ]
  },
  {
   "cell_type": "markdown",
   "metadata": {},
   "source": [
    "## Descriptive Statistics:"
   ]
  },
  {
   "cell_type": "code",
   "execution_count": 95,
   "metadata": {},
   "outputs": [
    {
     "name": "stdout",
     "output_type": "stream",
     "text": [
      "+-------+----------+----------------+------------------+-----+-----------------+------+-----------+---------+\n",
      "|summary|    Suburb|         Address|             Rooms| Type|            Price|Method|    SellerG|     Date|\n",
      "+-------+----------+----------------+------------------+-----+-----------------+------+-----------+---------+\n",
      "|  count|     34857|           34857|             34857|34857|            27247| 34857|      34857|    34857|\n",
      "|   mean|      null|            null|3.0310124221820582| null|1050173.344955408|  null|       null|     null|\n",
      "| stddev|      null|            null|0.9699329348975204| null|641467.1301045999|  null|       null|     null|\n",
      "|    min|Abbotsford|1 Abercrombie St|                 1|    h|          1000000|    PI|    @Realty|1/07/2017|\n",
      "|    max|  viewbank|   9b Stewart St|                 9|    u|           999999|     W|voglwalpole|9/12/2017|\n",
      "+-------+----------+----------------+------------------+-----+-----------------+------+-----------+---------+\n",
      "\n"
     ]
    }
   ],
   "source": [
    "df_raw.describe().select(\"summary\",\n",
    "                        \"Suburb\",\n",
    "                        \"Address\",\n",
    "                        \"Rooms\",\n",
    "                        \"Type\",\n",
    "                        \"Price\",\n",
    "                        \"Method\",\n",
    "                        \"SellerG\",\n",
    "                        \"Date\").show()"
   ]
  },
  {
   "cell_type": "code",
   "execution_count": 49,
   "metadata": {},
   "outputs": [
    {
     "name": "stdout",
     "output_type": "stream",
     "text": [
      "+-------+------------------+------------------+------------------+------------------+------------------+------------------+\n",
      "|summary|          Distance|          Postcode|          Bedroom2|          Bathroom|               Car|          Landsize|\n",
      "+-------+------------------+------------------+------------------+------------------+------------------+------------------+\n",
      "|  count|             34857|             34857|             26640|             26631|             26129|             23047|\n",
      "|   mean|11.184929423916007| 3116.062858618315|3.0846471471471473| 1.624798167549097|1.7288453442535114|  593.598993361392|\n",
      "| stddev| 6.788892455935938|109.02390274290613|0.9806897285461588|0.7242120114699068|1.0107707853554244|3398.8419464599056|\n",
      "|    min|              #N/A|              #N/A|                 0|                 0|                 0|                 0|\n",
      "|    max|               9.9|              3978|                 9|                 9|                 9|               999|\n",
      "+-------+------------------+------------------+------------------+------------------+------------------+------------------+\n",
      "\n"
     ]
    }
   ],
   "source": [
    "df_raw.describe().select(\"summary\",\n",
    "                        \"Distance\",\n",
    "                        \"Postcode\",\n",
    "                        \"Bedroom2\",\n",
    "                        \"Bathroom\",\n",
    "                        \"Car\",\n",
    "                        \"Landsize\").show()"
   ]
  },
  {
   "cell_type": "code",
   "execution_count": 96,
   "metadata": {},
   "outputs": [
    {
     "name": "stdout",
     "output_type": "stream",
     "text": [
      "+-------+------------------+------------------+--------------------+-------------------+-------------------+----------------+\n",
      "|summary|      BuildingArea|         YearBuilt|         CouncilArea|          Lattitude|         Longtitude|      Regionname|\n",
      "+-------+------------------+------------------+--------------------+-------------------+-------------------+----------------+\n",
      "|  count|             13742|             15551|               34857|              26881|              26881|           34857|\n",
      "|   mean| 160.2564003565711| 1965.289884894862|                null|-37.810634295599094| 145.00185113165438|            null|\n",
      "| stddev|401.26706008485496|37.328178023136616|                null| 0.0902789045092229|0.12016876915353476|            null|\n",
      "|    min|                 0|              1196|                #N/A|           -37.3902|          144.42379|            #N/A|\n",
      "|    max|               999|              2106|Yarra Ranges Shir...|          -38.19043|          145.52635|Western Victoria|\n",
      "+-------+------------------+------------------+--------------------+-------------------+-------------------+----------------+\n",
      "\n"
     ]
    }
   ],
   "source": [
    "df_raw.describe().select(\"summary\",\n",
    "                        \"BuildingArea\",\n",
    "                        \"YearBuilt\",\n",
    "                        \"CouncilArea\",\n",
    "                        \"Lattitude\",\n",
    "                        \"Longtitude\",\n",
    "                        \"Regionname\").show()"
   ]
  },
  {
   "cell_type": "code",
   "execution_count": 97,
   "metadata": {},
   "outputs": [
    {
     "name": "stdout",
     "output_type": "stream",
     "text": [
      "+-------+------------------+\n",
      "|summary|     Propertycount|\n",
      "+-------+------------------+\n",
      "|  count|             34857|\n",
      "|   mean|7572.8883055029555|\n",
      "| stddev|4428.0903132746425|\n",
      "|    min|              #N/A|\n",
      "|    max|               984|\n",
      "+-------+------------------+\n",
      "\n"
     ]
    }
   ],
   "source": [
    "df_raw.describe().select(\"summary\",\n",
    "                         \"Propertycount\").show()"
   ]
  },
  {
   "cell_type": "markdown",
   "metadata": {},
   "source": [
    "Based on the above summary statistics we can see the following:\n",
    "* The count of a column less the rows in the dataset, display the null values.\n",
    "* The Address will need to be stripped down to its Street Name and Street Type. This is to  "
   ]
  },
  {
   "cell_type": "markdown",
   "metadata": {},
   "source": [
    "### Correlation:\n",
    "\n",
    "Assess the correlation between the Price and the other features to better understand their relationship and importance."
   ]
  },
  {
   "cell_type": "code",
   "execution_count": null,
   "metadata": {},
   "outputs": [],
   "source": [
    "// Import Correlation Library\n",
    "import org.apache.spark.sql.functions.corr"
   ]
  },
  {
   "cell_type": "code",
   "execution_count": 62,
   "metadata": {},
   "outputs": [
    {
     "name": "stdout",
     "output_type": "stream",
     "text": [
      "+-------------------+\n",
      "| corr(Rooms, Price)|\n",
      "+-------------------+\n",
      "|0.46523834510759615|\n",
      "+-------------------+\n",
      "\n",
      "+---------------------+\n",
      "|corr(Distance, Price)|\n",
      "+---------------------+\n",
      "| -0.21138434279157942|\n",
      "+---------------------+\n",
      "\n",
      "+---------------------+\n",
      "|corr(Postcode, Price)|\n",
      "+---------------------+\n",
      "|  0.04494983007693704|\n",
      "+---------------------+\n",
      "\n",
      "+---------------------+\n",
      "|corr(Bedroom2, Price)|\n",
      "+---------------------+\n",
      "|   0.4302753383233543|\n",
      "+---------------------+\n",
      "\n",
      "+---------------------+\n",
      "|corr(Bathroom, Price)|\n",
      "+---------------------+\n",
      "|   0.4298780777015672|\n",
      "+---------------------+\n",
      "\n",
      "+-------------------+\n",
      "|   corr(Car, Price)|\n",
      "+-------------------+\n",
      "|0.20180256061576263|\n",
      "+-------------------+\n",
      "\n",
      "+---------------------+\n",
      "|corr(Landsize, Price)|\n",
      "+---------------------+\n",
      "| 0.032748365249470925|\n",
      "+---------------------+\n",
      "\n",
      "+-------------------------+\n",
      "|corr(BuildingArea, Price)|\n",
      "+-------------------------+\n",
      "|       0.1007536394731018|\n",
      "+-------------------------+\n",
      "\n",
      "+----------------------+\n",
      "|corr(YearBuilt, Price)|\n",
      "+----------------------+\n",
      "|   -0.3333055641267079|\n",
      "+----------------------+\n",
      "\n",
      "+----------------------+\n",
      "|corr(Lattitude, Price)|\n",
      "+----------------------+\n",
      "|   -0.2156071144822447|\n",
      "+----------------------+\n",
      "\n",
      "+-----------------------+\n",
      "|corr(Longtitude, Price)|\n",
      "+-----------------------+\n",
      "|    0.19787369804692334|\n",
      "+-----------------------+\n",
      "\n",
      "+--------------------------+\n",
      "|corr(Propertycount, Price)|\n",
      "+--------------------------+\n",
      "|      -0.05901668608374418|\n",
      "+--------------------------+\n",
      "\n"
     ]
    }
   ],
   "source": [
    "df_raw.select(corr(\"Rooms\",\"Price\")).show()\n",
    "df_raw.select(corr(\"Distance\",\"Price\")).show()\n",
    "df_raw.select(corr(\"Postcode\",\"Price\")).show()\n",
    "df_raw.select(corr(\"Bedroom2\",\"Price\")).show()\n",
    "df_raw.select(corr(\"Bathroom\",\"Price\")).show()\n",
    "df_raw.select(corr(\"Car\",\"Price\")).show()\n",
    "df_raw.select(corr(\"Landsize\",\"Price\")).show()\n",
    "df_raw.select(corr(\"BuildingArea\",\"Price\")).show()\n",
    "df_raw.select(corr(\"YearBuilt\",\"Price\")).show()\n",
    "df_raw.select(corr(\"Lattitude\",\"Price\")).show()\n",
    "df_raw.select(corr(\"Longtitude\",\"Price\")).show()\n",
    "df_raw.select(corr(\"Propertycount\",\"Price\")).show()"
   ]
  },
  {
   "cell_type": "markdown",
   "metadata": {},
   "source": [
    "Landsize having very minimal correlation with price does not align with expectations therefore further analysis is required.\n",
    "\n",
    "We will compare the corration of Price with Landsize based on the Property type.\n",
    "\n",
    "- br - bedroom(s);\n",
    "- h  - house,cottage,villa, semi,terrace;\n",
    "- u  - unit, duplex;\n",
    "- t  - townhouse;\n",
    "- dev site - development site;\n",
    "- o res - other residential"
   ]
  },
  {
   "cell_type": "code",
   "execution_count": 21,
   "metadata": {},
   "outputs": [
    {
     "name": "stdout",
     "output_type": "stream",
     "text": [
      "+---------------------+\n",
      "|corr(Landsize, Price)|\n",
      "+---------------------+\n",
      "| 0.025980927743436796|\n",
      "+---------------------+\n",
      "\n"
     ]
    }
   ],
   "source": [
    "// Corralation of Landsize and Price for Houses\n",
    "df_raw.where($\"Type\" === \"h\").select(corr(\"Landsize\",\"Price\")).show()"
   ]
  },
  {
   "cell_type": "code",
   "execution_count": 22,
   "metadata": {},
   "outputs": [
    {
     "name": "stdout",
     "output_type": "stream",
     "text": [
      "+---------------------+\n",
      "|corr(Landsize, Price)|\n",
      "+---------------------+\n",
      "|  0.05064203615229057|\n",
      "+---------------------+\n",
      "\n"
     ]
    }
   ],
   "source": [
    "// Corralation of Landsize and Price for Units\n",
    "df_raw.where($\"Type\" === \"u\").select(corr(\"Landsize\",\"Price\")).show()"
   ]
  },
  {
   "cell_type": "code",
   "execution_count": 23,
   "metadata": {},
   "outputs": [
    {
     "name": "stdout",
     "output_type": "stream",
     "text": [
      "+---------------------+\n",
      "|corr(Landsize, Price)|\n",
      "+---------------------+\n",
      "|  0.09629920710291465|\n",
      "+---------------------+\n",
      "\n"
     ]
    }
   ],
   "source": [
    "// Corralation of Landsize and Price for Townhouses\n",
    "df_raw.where($\"Type\" === \"t\").select(corr(\"Landsize\",\"Price\")).show()"
   ]
  },
  {
   "cell_type": "code",
   "execution_count": 74,
   "metadata": {},
   "outputs": [
    {
     "name": "stdout",
     "output_type": "stream",
     "text": [
      "+------------------------+\n",
      "|corr(Price, PriceperSQM)|\n",
      "+------------------------+\n",
      "|     0.11049815760669206|\n",
      "+------------------------+\n",
      "\n"
     ]
    },
    {
     "data": {
      "text/plain": [
       "df_landprice: org.apache.spark.sql.DataFrame = [Suburb: string, Address: string ... 20 more fields]\n"
      ]
     },
     "execution_count": 74,
     "metadata": {},
     "output_type": "execute_result"
    }
   ],
   "source": [
    "// Create a new DataFrame with Price per SQM\n",
    "val df_landprice = df_raw.withColumn(\"PriceperSQM\", col(\"Price\") / col(\"Landsize\"))\n",
    "\n",
    "// Assess Correlation of Price with Price per SQM\n",
    "df_landprice.select(corr(\"Price\",\"PriceperSQM\")).show()"
   ]
  },
  {
   "cell_type": "markdown",
   "metadata": {},
   "source": [
    "As expected, the Price vs PriceperSQM correlation is higher at ~11%, however this is due to price being included and compared against itself.\n",
    "\n",
    "Therefore, it seems that Landsize on its own doesn't seem to have a significant correlation. However, correlation changes depending on the type of property this is. With a townhouse having the highest positive correlation of 0.096 or 9.6%.\n",
    "\n",
    "As a result we conclude on keeping the LandSize."
   ]
  },
  {
   "cell_type": "code",
   "execution_count": 40,
   "metadata": {},
   "outputs": [
    {
     "data": {
      "text/plain": [
       "res30: Long = 13403\n"
      ]
     },
     "execution_count": 40,
     "metadata": {},
     "output_type": "execute_result"
    }
   ],
   "source": [
    "df_raw.select(\"Lattitude\").distinct.count()"
   ]
  },
  {
   "cell_type": "code",
   "execution_count": 41,
   "metadata": {},
   "outputs": [
    {
     "data": {
      "text/plain": [
       "res31: Long = 14525\n"
      ]
     },
     "execution_count": 41,
     "metadata": {},
     "output_type": "execute_result"
    }
   ],
   "source": [
    "df_raw.select(\"Longtitude\").distinct.count()"
   ]
  },
  {
   "cell_type": "markdown",
   "metadata": {},
   "source": [
    "#### Based on the preliminary analysis above, the features we have identified as important for the future model are:\n",
    "\n",
    "* Address\n",
    "* Suburb\n",
    "* Date\n",
    "* Price\n",
    "* Method\n",
    "* Type\n",
    "* Distance\n",
    "* Rooms\n",
    "* Bathroom\n",
    "* Car\n",
    "* Landsize\n",
    "* Lattitude\n",
    "* Longtitude\n",
    "\n",
    "The excluded features are:\n",
    "\n",
    "* SellerG\n",
    "* Postcode\n",
    "* Bedroom2\n",
    "* BuildingArea\n",
    "* YearBuilt\n",
    "* CouncilArea\n",
    "* Regionname\n",
    "* Propertycount\n",
    "\n",
    "\n",
    "Therefore we will continue our analysis on the following."
   ]
  },
  {
   "cell_type": "markdown",
   "metadata": {},
   "source": [
    "### Categorical Attributes\n",
    "\n",
    "#### Address"
   ]
  },
  {
   "cell_type": "code",
   "execution_count": 75,
   "metadata": {},
   "outputs": [
    {
     "data": {
      "text/plain": [
       "res64: Long = 0\n"
      ]
     },
     "execution_count": 75,
     "metadata": {},
     "output_type": "execute_result"
    }
   ],
   "source": [
    "df_raw.filter(\"Address IS NULL\").count()"
   ]
  },
  {
   "cell_type": "code",
   "execution_count": 84,
   "metadata": {},
   "outputs": [
    {
     "name": "stdout",
     "output_type": "stream",
     "text": [
      "+-------------------+\n",
      "|            Address|\n",
      "+-------------------+\n",
      "|      557 Orrong Rd|\n",
      "|      19 Poulter St|\n",
      "|    43 Riverside Av|\n",
      "|       11 South Tce|\n",
      "|  41 Marlborough St|\n",
      "|          4 Park Cr|\n",
      "|        3/3 Dega Av|\n",
      "|        93 Tudor St|\n",
      "|         10 Kent Rd|\n",
      "|       18 Thomas St|\n",
      "|   1/1 Glen Iris Rd|\n",
      "|      7 Allambee Av|\n",
      "|    83 Truganini Rd|\n",
      "|       130 Keele St|\n",
      "|       8 Winters Wy|\n",
      "|     36a Mitford St|\n",
      "|   7/223 Station St|\n",
      "|1/146 Ascot Vale Rd|\n",
      "|    5/60 Farnham St|\n",
      "|      22 Renwick St|\n",
      "+-------------------+\n",
      "only showing top 20 rows\n",
      "\n"
     ]
    }
   ],
   "source": [
    "df_raw.select(\"Address\").distinct.show()"
   ]
  },
  {
   "cell_type": "markdown",
   "metadata": {},
   "source": [
    "As seen above based on the complexity of Addresses, it would be useful to reduce them to a Street Name and Type in order to create categories within suburbs based on a street."
   ]
  },
  {
   "cell_type": "markdown",
   "metadata": {},
   "source": [
    "#### Suburb"
   ]
  },
  {
   "cell_type": "code",
   "execution_count": 80,
   "metadata": {},
   "outputs": [
    {
     "name": "stdout",
     "output_type": "stream",
     "text": [
      "+----------------+\n",
      "|          Suburb|\n",
      "+----------------+\n",
      "|  Brunswick West|\n",
      "| South Melbourne|\n",
      "|    Ivanhoe East|\n",
      "|    Princes Hill|\n",
      "|      Cranbourne|\n",
      "|         Ashwood|\n",
      "|       Brunswick|\n",
      "|South Kingsville|\n",
      "|        Brighton|\n",
      "|        Oak Park|\n",
      "|         Doveton|\n",
      "|       Albanvale|\n",
      "|      Brookfield|\n",
      "|        Lynbrook|\n",
      "|     Ferny Creek|\n",
      "|     Pascoe Vale|\n",
      "| Blackburn North|\n",
      "|         croydon|\n",
      "|     Sandringham|\n",
      "|   Botanic Ridge|\n",
      "+----------------+\n",
      "only showing top 20 rows\n",
      "\n"
     ]
    }
   ],
   "source": [
    "df_raw.select(\"Suburb\").distinct.show()"
   ]
  },
  {
   "cell_type": "code",
   "execution_count": 86,
   "metadata": {},
   "outputs": [
    {
     "data": {
      "text/plain": [
       "res73: Long = 351\n"
      ]
     },
     "execution_count": 86,
     "metadata": {},
     "output_type": "execute_result"
    }
   ],
   "source": [
    "df_raw.select(\"Suburb\").distinct.count()"
   ]
  },
  {
   "cell_type": "markdown",
   "metadata": {},
   "source": [
    "The Suburbs generally seem to correct what will need to done is:\n",
    "* Capitalise the first letter of the suburb names\n",
    "* Also the North/West/South/East suffixes to suburbs will be left, as they provide a more accurate location within a suburb."
   ]
  },
  {
   "cell_type": "markdown",
   "metadata": {},
   "source": [
    "#### Date"
   ]
  },
  {
   "cell_type": "code",
   "execution_count": 48,
   "metadata": {},
   "outputs": [
    {
     "data": {
      "text/plain": [
       "dates: org.apache.spark.sql.Dataset[org.apache.spark.sql.Row] = [Date: string]\n"
      ]
     },
     "execution_count": 48,
     "metadata": {},
     "output_type": "execute_result"
    }
   ],
   "source": [
    "val dates = df_raw.select(\"Date\").distinct()"
   ]
  },
  {
   "cell_type": "code",
   "execution_count": 49,
   "metadata": {},
   "outputs": [
    {
     "data": {
      "text/plain": [
       "res36: Long = 78\n"
      ]
     },
     "execution_count": 49,
     "metadata": {},
     "output_type": "execute_result"
    }
   ],
   "source": [
    "dates.count()"
   ]
  },
  {
   "cell_type": "code",
   "execution_count": 50,
   "metadata": {},
   "outputs": [
    {
     "data": {
      "text/plain": [
       "res37: Long = 0\n"
      ]
     },
     "execution_count": 50,
     "metadata": {},
     "output_type": "execute_result"
    }
   ],
   "source": [
    "df_raw.filter(\"Date IS NULL\").count()"
   ]
  },
  {
   "cell_type": "code",
   "execution_count": 51,
   "metadata": {
    "scrolled": true
   },
   "outputs": [
    {
     "name": "stdout",
     "output_type": "stream",
     "text": [
      "+----------+\n",
      "|      Date|\n",
      "+----------+\n",
      "|16/04/2016|\n",
      "|29/04/2017|\n",
      "|10/12/2016|\n",
      "|19/08/2017|\n",
      "| 7/05/2016|\n",
      "| 8/07/2017|\n",
      "| 4/03/2017|\n",
      "|29/07/2017|\n",
      "|27/05/2017|\n",
      "|28/10/2017|\n",
      "| 9/09/2017|\n",
      "|26/07/2016|\n",
      "|12/11/2016|\n",
      "|25/02/2017|\n",
      "| 6/05/2017|\n",
      "|18/11/2017|\n",
      "| 3/09/2016|\n",
      "| 3/12/2016|\n",
      "|25/11/2017|\n",
      "| 3/06/2017|\n",
      "|23/04/2016|\n",
      "|30/09/2017|\n",
      "|21/10/2017|\n",
      "| 7/11/2016|\n",
      "|17/03/2018|\n",
      "|18/03/2017|\n",
      "| 4/06/2016|\n",
      "|28/08/2016|\n",
      "|24/06/2017|\n",
      "|13/08/2016|\n",
      "| 6/01/2018|\n",
      "|12/08/2017|\n",
      "| 3/02/2018|\n",
      "| 8/04/2017|\n",
      "|22/04/2017|\n",
      "|20/05/2017|\n",
      "|17/09/2016|\n",
      "|12/06/2016|\n",
      "|14/05/2016|\n",
      "| 4/11/2017|\n",
      "|24/02/2018|\n",
      "|14/10/2017|\n",
      "| 8/10/2016|\n",
      "|10/09/2016|\n",
      "|20/01/2018|\n",
      "|16/07/2016|\n",
      "|11/03/2017|\n",
      "| 9/12/2017|\n",
      "| 7/10/2017|\n",
      "|13/05/2017|\n",
      "|23/09/2017|\n",
      "|17/06/2017|\n",
      "|15/10/2016|\n",
      "|10/02/2018|\n",
      "|27/06/2016|\n",
      "|27/11/2016|\n",
      "|30/07/2016|\n",
      "|28/01/2016|\n",
      "| 3/03/2018|\n",
      "|16/09/2017|\n",
      "|26/08/2017|\n",
      "|22/05/2016|\n",
      "|28/05/2016|\n",
      "|22/07/2017|\n",
      "| 3/09/2017|\n",
      "|15/07/2017|\n",
      "|24/09/2016|\n",
      "|17/02/2018|\n",
      "| 6/08/2016|\n",
      "|22/08/2016|\n",
      "| 1/07/2017|\n",
      "|18/06/2016|\n",
      "|19/11/2016|\n",
      "|11/02/2017|\n",
      "|11/11/2017|\n",
      "|27/01/2018|\n",
      "|10/03/2018|\n",
      "| 4/02/2016|\n",
      "+----------+\n",
      "\n"
     ]
    }
   ],
   "source": [
    "dates.show(80)"
   ]
  },
  {
   "cell_type": "markdown",
   "metadata": {},
   "source": [
    "#### Method"
   ]
  },
  {
   "cell_type": "code",
   "execution_count": 42,
   "metadata": {},
   "outputs": [
    {
     "name": "stdout",
     "output_type": "stream",
     "text": [
      "+------+\n",
      "|Method|\n",
      "+------+\n",
      "|    PI|\n",
      "|    SA|\n",
      "|    SP|\n",
      "|    VB|\n",
      "|    PN|\n",
      "|     W|\n",
      "|     S|\n",
      "|    SN|\n",
      "|    SS|\n",
      "+------+\n",
      "\n"
     ]
    }
   ],
   "source": [
    "df_raw.select(\"Method\").distinct.show()"
   ]
  },
  {
   "cell_type": "markdown",
   "metadata": {},
   "source": [
    "#### Null values  "
   ]
  },
  {
   "cell_type": "code",
   "execution_count": 43,
   "metadata": {},
   "outputs": [
    {
     "data": {
      "text/plain": [
       "res32: Long = 0\n"
      ]
     },
     "execution_count": 43,
     "metadata": {},
     "output_type": "execute_result"
    }
   ],
   "source": [
    "df_raw.filter(\"Method IS NULL\").count()"
   ]
  },
  {
   "cell_type": "markdown",
   "metadata": {},
   "source": [
    "#### Type \n",
    "#### Distinct values "
   ]
  },
  {
   "cell_type": "code",
   "execution_count": 87,
   "metadata": {
    "scrolled": true
   },
   "outputs": [
    {
     "name": "stdout",
     "output_type": "stream",
     "text": [
      "+----+\n",
      "|Type|\n",
      "+----+\n",
      "|   h|\n",
      "|   u|\n",
      "|   t|\n",
      "+----+\n",
      "\n"
     ]
    }
   ],
   "source": [
    "df_raw.select(\"Type\").distinct.show()"
   ]
  },
  {
   "cell_type": "code",
   "execution_count": 89,
   "metadata": {
    "scrolled": true
   },
   "outputs": [
    {
     "ename": "<console>",
     "evalue": "29: error: reassignment to val",
     "output_type": "error",
     "traceback": [
      "<console>:29: error: reassignment to val",
      "       df_raw = df_result.withColumn(\"Type\", initcap(col(\"Type\")))",
      "              ^",
      ""
     ]
    }
   ],
   "source": [
    "df_raw = df_result.withColumn(\"Type\", initcap(col(\"Type\")))\n",
    "df_raw.select(\"Type\").distinct.show()"
   ]
  },
  {
   "cell_type": "markdown",
   "metadata": {},
   "source": [
    "#### 9. Regionname"
   ]
  },
  {
   "cell_type": "code",
   "execution_count": 60,
   "metadata": {
    "scrolled": false
   },
   "outputs": [
    {
     "name": "stdout",
     "output_type": "stream",
     "text": [
      "+--------------------+\n",
      "|          Regionname|\n",
      "+--------------------+\n",
      "|South-Eastern Met...|\n",
      "|Western Metropolitan|\n",
      "|Eastern Metropolitan|\n",
      "|    Eastern Victoria|\n",
      "|   Northern Victoria|\n",
      "|Northern Metropol...|\n",
      "|Southern Metropol...|\n",
      "|    Western Victoria|\n",
      "+--------------------+\n",
      "\n"
     ]
    }
   ],
   "source": [
    "df_raw.select(\"Regionname\").distinct.show()"
   ]
  },
  {
   "cell_type": "code",
   "execution_count": 61,
   "metadata": {},
   "outputs": [
    {
     "data": {
      "text/plain": [
       "res46: Long = 0\n"
      ]
     },
     "execution_count": 61,
     "metadata": {},
     "output_type": "execute_result"
    }
   ],
   "source": [
    "df_raw.filter(\"Regionname IS NULL\").count()"
   ]
  },
  {
   "cell_type": "markdown",
   "metadata": {},
   "source": [
    "# Wrangling\n",
    "\n",
    "### The cleansing process based on the above findings has been completed on a seperate NoteBook."
   ]
  },
  {
   "cell_type": "markdown",
   "metadata": {},
   "source": [
    "# Secondary Analysis\n",
    "\n",
    "Perform a secondary analysis on the clean dataset to compare it with the original."
   ]
  },
  {
   "cell_type": "code",
   "execution_count": 132,
   "metadata": {},
   "outputs": [
    {
     "data": {
      "text/plain": [
       "df_clean: org.apache.spark.sql.DataFrame = [Price: string, MethodOfSale: string ... 11 more fields]\n"
      ]
     },
     "execution_count": 132,
     "metadata": {},
     "output_type": "execute_result"
    }
   ],
   "source": [
    "// Load Clean Dataset into a DataFrame from HDFS after wrangling is completed\n",
    "val df_clean = spark\n",
    "    .read\n",
    "    .format(\"csv\")\n",
    "    .option(\"header\", \"true\")\n",
    "    .load(\"hdfs://localhost:9000/tmp/output/*.csv\")"
   ]
  },
  {
   "cell_type": "code",
   "execution_count": 133,
   "metadata": {},
   "outputs": [
    {
     "data": {
      "text/plain": [
       "res108: Long = 15728\n"
      ]
     },
     "execution_count": 133,
     "metadata": {},
     "output_type": "execute_result"
    }
   ],
   "source": [
    "// Count the rows within the imported file\n",
    "df_clean.count()"
   ]
  },
  {
   "cell_type": "code",
   "execution_count": 134,
   "metadata": {},
   "outputs": [
    {
     "name": "stdout",
     "output_type": "stream",
     "text": [
      "root\n",
      " |-- Price: string (nullable = true)\n",
      " |-- MethodOfSale: string (nullable = true)\n",
      " |-- PropertyType: string (nullable = true)\n",
      " |-- DistanceFromCBD: string (nullable = true)\n",
      " |-- Rooms: string (nullable = true)\n",
      " |-- Bathroom: string (nullable = true)\n",
      " |-- Car: string (nullable = true)\n",
      " |-- Landsize: string (nullable = true)\n",
      " |-- Latitude: string (nullable = true)\n",
      " |-- Longtitude: string (nullable = true)\n",
      " |-- Suburb: string (nullable = true)\n",
      " |-- Date: string (nullable = true)\n",
      " |-- StreetName: string (nullable = true)\n",
      "\n"
     ]
    }
   ],
   "source": [
    "df_clean.printSchema()"
   ]
  },
  {
   "cell_type": "code",
   "execution_count": 135,
   "metadata": {
    "scrolled": true
   },
   "outputs": [
    {
     "name": "stdout",
     "output_type": "stream",
     "text": [
      "+---------+------------+------------+---------------+-----+--------+---+--------+--------+----------+----------+----------+-------------+\n",
      "|    Price|MethodOfSale|PropertyType|DistanceFromCBD|Rooms|Bathroom|Car|Landsize|Latitude|Longtitude|    Suburb|      Date|   StreetName|\n",
      "+---------+------------+------------+---------------+-----+--------+---+--------+--------+----------+----------+----------+-------------+\n",
      "|1480000.0|           1|           1|            2.5|    2|       1|  1|   202.0|-37.7996|  144.9984|Abbotsford| 3/12/2016|    Turner St|\n",
      "|1035000.0|           1|           1|            2.5|    2|       1|  0|   156.0|-37.8079|  144.9934|Abbotsford| 4/02/2016| Bloomburg St|\n",
      "|1465000.0|           2|           1|            2.5|    3|       2|  0|   134.0|-37.8093|  144.9944|Abbotsford| 4/03/2017|   Charles St|\n",
      "| 850000.0|           3|           1|            2.5|    3|       2|  1|    94.0|-37.7969|  144.9969|Abbotsford| 4/03/2017|Federation La|\n",
      "|1600000.0|           6|           1|            2.5|    4|       1|  2|   120.0|-37.8072|  144.9941|Abbotsford| 4/06/2016|      Park St|\n",
      "| 941000.0|           1|           1|            2.5|    2|       1|  0|   181.0|-37.8041|  144.9953|Abbotsford| 7/05/2016|   Charles St|\n",
      "|1876000.0|           1|           1|            2.5|    3|       2|  0|   245.0|-37.8024|  144.9993|Abbotsford| 7/05/2016|     Yarra St|\n",
      "|1636000.0|           1|           1|            2.5|    2|       1|  2|   256.0| -37.806|  144.9954|Abbotsford| 8/10/2016|   Charles St|\n",
      "|1097000.0|           1|           1|            2.5|    2|       1|  2|   220.0| -37.801|  144.9989|Abbotsford| 8/10/2016|   Valiant St|\n",
      "|1350000.0|           6|           1|            2.5|    3|       2|  2|   214.0|-37.8085|  144.9964|Abbotsford|12/11/2016| Nicholson St|\n",
      "|1172500.0|           1|           1|            2.5|    2|       1|  1|   195.0|-37.8084|  144.9973|Abbotsford|13/08/2016|   William St|\n",
      "|1310000.0|           1|           1|            2.5|    2|       1|  2|   238.0| -37.809|  144.9976|Abbotsford|15/10/2016|   William St|\n",
      "|1200000.0|           1|           1|            2.5|    3|       2|  1|   113.0|-37.8056|   144.993|Abbotsford|16/07/2016|     Henry St|\n",
      "|1176500.0|           1|           1|            2.5|    3|       1|  1|   138.0|-37.8021|  144.9965|Abbotsford|16/07/2016|     Yarra St|\n",
      "| 955000.0|           1|           1|            2.5|    3|       1|  0|   183.0|-37.8022|  144.9975|Abbotsford|17/09/2016| Nicholson St|\n",
      "| 890000.0|           1|           1|            2.5|    2|       1|  1|   150.0|-37.8011|  145.0004|Abbotsford|17/09/2016|   Valiant St|\n",
      "|1330000.0|           3|           1|            2.5|    4|       2|  2|   780.0|-37.8073|  144.9952|Abbotsford|18/03/2017|   Charles St|\n",
      "|1090000.0|           1|           2|            2.5|    3|       2|  2|  4290.0|-37.8078|  144.9965|Abbotsford|18/03/2017| Nicholson St|\n",
      "|1100000.0|           3|           1|            2.5|    2|       2|  1|   124.0|-37.8079|  144.9977|Abbotsford|18/06/2016|   William St|\n",
      "|1315000.0|           1|           1|            2.5|    2|       1|  0|   147.0| -37.808|   144.994|Abbotsford|19/11/2016|      Park St|\n",
      "+---------+------------+------------+---------------+-----+--------+---+--------+--------+----------+----------+----------+-------------+\n",
      "only showing top 20 rows\n",
      "\n"
     ]
    }
   ],
   "source": [
    "df_clean.select(\"Price\", \n",
    "                \"MethodOfSale\", \n",
    "                \"PropertyType\", \n",
    "                \"DistanceFromCBD\", \n",
    "                \"Rooms\", \n",
    "                \"Bathroom\", \n",
    "                \"Car\", \n",
    "                \"Landsize\", \n",
    "                \"Latitude\", \n",
    "                \"Longtitude\", \n",
    "                \"Suburb\", \n",
    "                \"Date\", \n",
    "                \"StreetName\").show()"
   ]
  },
  {
   "cell_type": "markdown",
   "metadata": {},
   "source": [
    "### Descriptive Statistics:"
   ]
  },
  {
   "cell_type": "code",
   "execution_count": 136,
   "metadata": {},
   "outputs": [
    {
     "name": "stdout",
     "output_type": "stream",
     "text": [
      "+-------+-----------------+------------------+------------------+------------------+------------------+------------------+\n",
      "|Summary|            Price|      MethodOfSale|      PropertyType|   DistancefromCBD|             Rooms|          Bathroom|\n",
      "+-------+-----------------+------------------+------------------+------------------+------------------+------------------+\n",
      "|  count|            15728|             15728|             15728|             15728|             15728|             15728|\n",
      "|   mean|1150668.961851475|1.8519201424211598|1.2367115971515767|11.743203204475906| 3.187817904374364|1.6276068158697863|\n",
      "| stddev|663018.9561677927|1.5641294862942188|0.5723389425747235| 6.700598921434572|0.8816674199865697|0.7148157821249159|\n",
      "|    min|           1.12E7|                 1|                 1|               0.0|                 1|                 0|\n",
      "|    max|         999999.0|                 8|                 3|               9.9|                 8|                 9|\n",
      "+-------+-----------------+------------------+------------------+------------------+------------------+------------------+\n",
      "\n"
     ]
    }
   ],
   "source": [
    "df_clean.describe().select(\"Summary\", \n",
    "                           \"Price\", \n",
    "                           \"MethodOfSale\", \n",
    "                           \"PropertyType\", \n",
    "                           \"DistancefromCBD\", \n",
    "                           \"Rooms\", \n",
    "                           \"Bathroom\").show()"
   ]
  },
  {
   "cell_type": "code",
   "execution_count": 137,
   "metadata": {},
   "outputs": [
    {
     "name": "stdout",
     "output_type": "stream",
     "text": [
      "+-------+------------------+------------------+-------------------+-------------------+----------+---------+-----------+\n",
      "|summary|               Car|          Landsize|           Latitude|         Longtitude|    Suburb|     Date| StreetName|\n",
      "+-------+------------------+------------------+-------------------+-------------------+----------+---------+-----------+\n",
      "|  count|             15728|             15728|              15728|              15728|     15728|    15728|      15728|\n",
      "|   mean|1.7699008138351984| 668.6406408952187| -37.80422331192775|  144.9974195784588|      null|     null|       null|\n",
      "| stddev|1.0185620996735723|4008.2209550592024|0.09275044706405701|0.12243663700518545|      null|     null|       null|\n",
      "|    min|                 0|             100.0|          -37.39946|          144.42379|Abbotsford|1/07/2017|Aanensen Ct|\n",
      "|    max|                 9|             999.0|          -38.19043|          145.52635|Yarraville|9/12/2017|Zurzolo Tce|\n",
      "+-------+------------------+------------------+-------------------+-------------------+----------+---------+-----------+\n",
      "\n"
     ]
    }
   ],
   "source": [
    "df_clean.describe().select(\"summary\", \n",
    "                           \"Car\",\n",
    "                           \"Landsize\", \n",
    "                           \"Latitude\", \n",
    "                           \"Longtitude\", \n",
    "                           \"Suburb\", \n",
    "                           \"Date\", \n",
    "                           \"StreetName\").show()"
   ]
  },
  {
   "cell_type": "markdown",
   "metadata": {},
   "source": [
    "#### Correlation of the remainder varibles with Price"
   ]
  },
  {
   "cell_type": "code",
   "execution_count": 138,
   "metadata": {},
   "outputs": [
    {
     "name": "stdout",
     "output_type": "stream",
     "text": [
      "+-------------------------+\n",
      "|corr(MethodOfSale, Price)|\n",
      "+-------------------------+\n",
      "|      0.09999735389602706|\n",
      "+-------------------------+\n",
      "\n",
      "+-------------------------+\n",
      "|corr(PropertyType, Price)|\n",
      "+-------------------------+\n",
      "|     -0.19834317580327496|\n",
      "+-------------------------+\n",
      "\n",
      "+----------------------------+\n",
      "|corr(DistancefromCBD, Price)|\n",
      "+----------------------------+\n",
      "|         -0.3067923420146305|\n",
      "+----------------------------+\n",
      "\n",
      "+------------------+\n",
      "|corr(Rooms, Price)|\n",
      "+------------------+\n",
      "|0.3891959982715667|\n",
      "+------------------+\n",
      "\n",
      "+---------------------+\n",
      "|corr(Bathroom, Price)|\n",
      "+---------------------+\n",
      "|   0.4070422568142487|\n",
      "+---------------------+\n",
      "\n",
      "+------------------+\n",
      "|  corr(Car, Price)|\n",
      "+------------------+\n",
      "|0.1508691880664582|\n",
      "+------------------+\n",
      "\n",
      "+---------------------+\n",
      "|corr(Landsize, Price)|\n",
      "+---------------------+\n",
      "| 0.020547866303955897|\n",
      "+---------------------+\n",
      "\n",
      "+---------------------+\n",
      "|corr(Latitude, Price)|\n",
      "+---------------------+\n",
      "|  -0.2523660525744002|\n",
      "+---------------------+\n",
      "\n",
      "+-----------------------+\n",
      "|corr(Longtitude, Price)|\n",
      "+-----------------------+\n",
      "|    0.20616294979089247|\n",
      "+-----------------------+\n",
      "\n"
     ]
    }
   ],
   "source": [
    "// Correlation now will include the categorical variables which where converted to factor.\n",
    "df_clean.select(corr(\"MethodOfSale\",\"Price\")).show()\n",
    "df_clean.select(corr(\"PropertyType\",\"Price\")).show()\n",
    "df_clean.select(corr(\"DistancefromCBD\",\"Price\")).show()\n",
    "df_clean.select(corr(\"Rooms\",\"Price\")).show()\n",
    "df_clean.select(corr(\"Bathroom\",\"Price\")).show()\n",
    "df_clean.select(corr(\"Car\",\"Price\")).show()\n",
    "df_clean.select(corr(\"Landsize\",\"Price\")).show()\n",
    "df_clean.select(corr(\"Latitude\",\"Price\")).show()\n",
    "df_clean.select(corr(\"Longtitude\",\"Price\")).show()"
   ]
  },
  {
   "cell_type": "markdown",
   "metadata": {},
   "source": [
    "## References\n",
    "\n",
    "Apache Spark (n.d.). _Spark Scala API (Scaladoc). Overview._ https://spark.apache.org/docs/latest/api/java/overview-summary.html\n",
    "\n",
    "Apache Spark (n.d.). _Basic Statistic._ https://spark.apache.org/docs/latest/ml-statistics.html\n",
    "\n",
    "Bahadoor N. (2020). _Spark Tutorials_ https://allaboutscala.com/big-data/spark/#dataframe-statistics-correlation\n",
    "\n",
    "Databricks. (2020). _Introduction to DataFrames - Scala._  https://docs.databricks.com/spark/latest/dataframes-datasets/introduction-to-dataframes-scala.html \n",
    "\n",
    "Grimaldi E. (2018). _Pandas vs. Spark: how to handle dataframes (Part II.)_  https://towardsdatascience.com/python-pandas-vs-scala-how-to-handle-dataframes-part-ii-d3e5efe8287d \n",
    "\n"
   ]
  }
 ],
 "metadata": {
  "kernelspec": {
   "display_name": "spylon-kernel",
   "language": "scala",
   "name": "spylon-kernel"
  },
  "language_info": {
   "codemirror_mode": "text/x-scala",
   "file_extension": ".scala",
   "help_links": [
    {
     "text": "MetaKernel Magics",
     "url": "https://metakernel.readthedocs.io/en/latest/source/README.html"
    }
   ],
   "mimetype": "text/x-scala",
   "name": "scala",
   "pygments_lexer": "scala",
   "version": "0.4.1"
  }
 },
 "nbformat": 4,
 "nbformat_minor": 4
}
