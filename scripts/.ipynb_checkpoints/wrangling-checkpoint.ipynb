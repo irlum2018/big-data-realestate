{
 "cells": [
  {
   "cell_type": "code",
   "execution_count": null,
   "metadata": {},
   "outputs": [],
   "source": []
  },
  {
   "cell_type": "markdown",
   "metadata": {},
   "source": [
    "## Initialise Spark Session:"
   ]
  },
  {
   "cell_type": "code",
   "execution_count": 1,
   "metadata": {},
   "outputs": [
    {
     "data": {
      "text/plain": [
       "Intitializing Scala interpreter ..."
      ]
     },
     "metadata": {},
     "output_type": "display_data"
    },
    {
     "data": {
      "text/plain": [
       "Spark Web UI available at http://356e2a7fd1b6:4040\n",
       "SparkContext available as 'sc' (version = 2.4.5, master = local[*], app id = local-1590037167430)\n",
       "SparkSession available as 'spark'\n"
      ]
     },
     "metadata": {},
     "output_type": "display_data"
    },
    {
     "name": "stdout",
     "output_type": "stream",
     "text": [
      "2020-05-21 04:59:33,492 WARN  [Thread-4] sql.SparkSession$Builder (Logging.scala:logWarning(66)) - Using an existing SparkSession; some configuration may not take effect.\n"
     ]
    },
    {
     "data": {
      "text/plain": [
       "spark: org.apache.spark.sql.SparkSession = org.apache.spark.sql.SparkSession@1fc84f07\n"
      ]
     },
     "execution_count": 1,
     "metadata": {},
     "output_type": "execute_result"
    }
   ],
   "source": [
    "val spark = org.apache.spark.sql.SparkSession.builder\n",
    "        .master(\"local\") \n",
    "        .appName(\"Spark CSV Reader\")\n",
    "        .getOrCreate;"
   ]
  },
  {
   "cell_type": "markdown",
   "metadata": {},
   "source": [
    "### Preparing HDFS"
   ]
  },
  {
   "cell_type": "code",
   "execution_count": 2,
   "metadata": {},
   "outputs": [
    {
     "name": "stdout",
     "output_type": "stream",
     "text": [
      "/home/sandpit/big-data-realestate/scripts\r\n",
      "\n"
     ]
    }
   ],
   "source": [
    "!pwd\n"
   ]
  },
  {
   "cell_type": "code",
   "execution_count": 3,
   "metadata": {},
   "outputs": [
    {
     "name": "stdout",
     "output_type": "stream",
     "text": [
      "34858\r\n",
      "\n"
     ]
    }
   ],
   "source": [
    "!cat ./../data-raw/Melbourne_housing_FULL.csv| wc -l"
   ]
  },
  {
   "cell_type": "code",
   "execution_count": 4,
   "metadata": {},
   "outputs": [
    {
     "name": "stdout",
     "output_type": "stream",
     "text": [
      "put: `/tmp/rs_in/mh.csv': File exists\n",
      "\n",
      "\n",
      "Found 1 items\n",
      "\n",
      "\n",
      "-rw-r--r--   1 root root    5018236 2020-05-15 05:20 /tmp/rs_in/mh.csv\n",
      "\n",
      "\n"
     ]
    }
   ],
   "source": [
    "! hadoop fs -mkdir -p  /tmp/rs_in\n",
    "! hadoop fs -put   -p  ./../data-raw/Melbourne_housing_FULL.csv             /tmp/rs_in/mh.csv\n",
    "! hadoop fs -ls        /tmp/rs_in/"
   ]
  },
  {
   "cell_type": "code",
   "execution_count": 5,
   "metadata": {},
   "outputs": [
    {
     "name": "stdout",
     "output_type": "stream",
     "text": [
      "34858\r\n",
      "\n"
     ]
    }
   ],
   "source": [
    "!hadoop fs -cat /tmp/rs_in/mh.csv | wc -l"
   ]
  },
  {
   "cell_type": "markdown",
   "metadata": {},
   "source": [
    "### Get config info about hdfs:"
   ]
  },
  {
   "cell_type": "code",
   "execution_count": 6,
   "metadata": {},
   "outputs": [
    {
     "name": "stdout",
     "output_type": "stream",
     "text": [
      "hdfs://localhost:9000\r\n",
      "\n"
     ]
    }
   ],
   "source": [
    "!hdfs getconf -confKey fs.defaultFS"
   ]
  },
  {
   "cell_type": "code",
   "execution_count": 7,
   "metadata": {},
   "outputs": [
    {
     "data": {
      "text/plain": [
       "df: org.apache.spark.sql.DataFrame = [Suburb: string, Address: string ... 19 more fields]\n"
      ]
     },
     "execution_count": 7,
     "metadata": {},
     "output_type": "execute_result"
    }
   ],
   "source": [
    "val df = spark.read.format(\"csv\").option(\"header\", \"true\").load(\"hdfs://localhost:9000/tmp/rs_in/mh.csv\")"
   ]
  },
  {
   "cell_type": "markdown",
   "metadata": {},
   "source": [
    "### Print schema:"
   ]
  },
  {
   "cell_type": "code",
   "execution_count": 8,
   "metadata": {},
   "outputs": [
    {
     "name": "stdout",
     "output_type": "stream",
     "text": [
      "root\n",
      " |-- Suburb: string (nullable = true)\n",
      " |-- Address: string (nullable = true)\n",
      " |-- Rooms: string (nullable = true)\n",
      " |-- Type: string (nullable = true)\n",
      " |-- Price: string (nullable = true)\n",
      " |-- Method: string (nullable = true)\n",
      " |-- SellerG: string (nullable = true)\n",
      " |-- Date: string (nullable = true)\n",
      " |-- Distance: string (nullable = true)\n",
      " |-- Postcode: string (nullable = true)\n",
      " |-- Bedroom2: string (nullable = true)\n",
      " |-- Bathroom: string (nullable = true)\n",
      " |-- Car: string (nullable = true)\n",
      " |-- Landsize: string (nullable = true)\n",
      " |-- BuildingArea: string (nullable = true)\n",
      " |-- YearBuilt: string (nullable = true)\n",
      " |-- CouncilArea: string (nullable = true)\n",
      " |-- Lattitude: string (nullable = true)\n",
      " |-- Longtitude: string (nullable = true)\n",
      " |-- Regionname: string (nullable = true)\n",
      " |-- Propertycount: string (nullable = true)\n",
      "\n"
     ]
    }
   ],
   "source": [
    "df.printSchema()"
   ]
  },
  {
   "cell_type": "code",
   "execution_count": 9,
   "metadata": {},
   "outputs": [
    {
     "data": {
      "text/plain": [
       "res1: Array[String] = Array(Suburb, Address, Rooms, Type, Price, Method, SellerG, Date, Distance, Postcode, Bedroom2, Bathroom, Car, Landsize, BuildingArea, YearBuilt, CouncilArea, Lattitude, Longtitude, Regionname, Propertycount)\n"
      ]
     },
     "execution_count": 9,
     "metadata": {},
     "output_type": "execute_result"
    }
   ],
   "source": [
    "df.columns"
   ]
  },
  {
   "cell_type": "markdown",
   "metadata": {},
   "source": [
    "### Show column types:"
   ]
  },
  {
   "cell_type": "code",
   "execution_count": 10,
   "metadata": {},
   "outputs": [
    {
     "data": {
      "text/plain": [
       "res2: Array[(String, String)] = Array((Suburb,StringType), (Address,StringType), (Rooms,StringType), (Type,StringType), (Price,StringType), (Method,StringType), (SellerG,StringType), (Date,StringType), (Distance,StringType), (Postcode,StringType), (Bedroom2,StringType), (Bathroom,StringType), (Car,StringType), (Landsize,StringType), (BuildingArea,StringType), (YearBuilt,StringType), (CouncilArea,StringType), (Lattitude,StringType), (Longtitude,StringType), (Regionname,StringType), (Propertycount,StringType))\n"
      ]
     },
     "execution_count": 10,
     "metadata": {},
     "output_type": "execute_result"
    }
   ],
   "source": [
    "df.dtypes"
   ]
  },
  {
   "cell_type": "code",
   "execution_count": 11,
   "metadata": {},
   "outputs": [
    {
     "data": {
      "text/plain": [
       "res3: Array[(String, String)] = Array((Suburb,StringType))\n"
      ]
     },
     "execution_count": 11,
     "metadata": {},
     "output_type": "execute_result"
    }
   ],
   "source": [
    "df.dtypes.filter(colTup => colTup._1 == \"Suburb\")"
   ]
  },
  {
   "cell_type": "markdown",
   "metadata": {},
   "source": [
    "### Display first 12 columns:"
   ]
  },
  {
   "cell_type": "code",
   "execution_count": 12,
   "metadata": {},
   "outputs": [
    {
     "name": "stdout",
     "output_type": "stream",
     "text": [
      "+----------+-------------------+-----+----+-------+------+-------+---------+--------+--------+--------+----+\n",
      "|    Suburb|            Address|Rooms|Type|  Price|Method|SellerG|     Date|Distance|Postcode|Bathroom| Car|\n",
      "+----------+-------------------+-----+----+-------+------+-------+---------+--------+--------+--------+----+\n",
      "|Abbotsford|      68 Studley St|    2|   h|   null|    SS| Jellis|3/09/2016|     2.5|    3067|       1|   1|\n",
      "|Abbotsford|       85 Turner St|    2|   h|1480000|     S| Biggin|3/12/2016|     2.5|    3067|       1|   1|\n",
      "|Abbotsford|    25 Bloomburg St|    2|   h|1035000|     S| Biggin|4/02/2016|     2.5|    3067|       1|   0|\n",
      "|Abbotsford| 18/659 Victoria St|    3|   u|   null|    VB| Rounds|4/02/2016|     2.5|    3067|       2|   1|\n",
      "|Abbotsford|       5 Charles St|    3|   h|1465000|    SP| Biggin|4/03/2017|     2.5|    3067|       2|   0|\n",
      "|Abbotsford|   40 Federation La|    3|   h| 850000|    PI| Biggin|4/03/2017|     2.5|    3067|       2|   1|\n",
      "|Abbotsford|        55a Park St|    4|   h|1600000|    VB| Nelson|4/06/2016|     2.5|    3067|       1|   2|\n",
      "|Abbotsford|       16 Maugie St|    4|   h|   null|    SN| Nelson|6/08/2016|     2.5|    3067|       2|   2|\n",
      "|Abbotsford|       53 Turner St|    2|   h|   null|     S| Biggin|6/08/2016|     2.5|    3067|       1|   2|\n",
      "|Abbotsford|       99 Turner St|    2|   h|   null|     S|Collins|6/08/2016|     2.5|    3067|       2|   1|\n",
      "|Abbotsford|     129 Charles St|    2|   h| 941000|     S| Jellis|7/05/2016|     2.5|    3067|       1|   0|\n",
      "|Abbotsford|       124 Yarra St|    3|   h|1876000|     S| Nelson|7/05/2016|     2.5|    3067|       2|   0|\n",
      "|Abbotsford|121/56 Nicholson St|    2|   u|   null|    PI| Biggin|7/11/2016|     2.5|    3067|       2|   1|\n",
      "|Abbotsford|      17 Raphael St|    4|   h|   null|     W| Biggin|7/11/2016|     2.5|    3067|       2|   0|\n",
      "|Abbotsford|      98 Charles St|    2|   h|1636000|     S| Nelson|8/10/2016|     2.5|    3067|       1|   2|\n",
      "|Abbotsford|   217 Langridge St|    3|   h|1000000|     S| Jellis|8/10/2016|     2.5|    3067|    null|null|\n",
      "|Abbotsford|    18a Mollison St|    2|   t| 745000|     S| Jellis|8/10/2016|     2.5|    3067|    null|null|\n",
      "|Abbotsford| 6/241 Nicholson St|    1|   u| 300000|     S| Biggin|8/10/2016|     2.5|    3067|       1|   1|\n",
      "|Abbotsford|      10 Valiant St|    2|   h|1097000|     S| Biggin|8/10/2016|     2.5|    3067|       1|   2|\n",
      "|Abbotsford|403/609 Victoria St|    2|   u| 542000|     S| Dingle|8/10/2016|     2.5|    3067|    null|null|\n",
      "+----------+-------------------+-----+----+-------+------+-------+---------+--------+--------+--------+----+\n",
      "only showing top 20 rows\n",
      "\n"
     ]
    }
   ],
   "source": [
    "df.select(\"Suburb\",\"Address\",\"Rooms\",\"Type\",\"Price\",\"Method\",\"SellerG\",\"Date\",\"Distance\",\"Postcode\",\"Bathroom\",\"Car\").show()"
   ]
  },
  {
   "cell_type": "markdown",
   "metadata": {},
   "source": [
    "### Display last 8 columns:"
   ]
  },
  {
   "cell_type": "code",
   "execution_count": 13,
   "metadata": {},
   "outputs": [
    {
     "name": "stdout",
     "output_type": "stream",
     "text": [
      "+--------+------------+---------+------------------+---------+----------+--------------------+-------------+\n",
      "|Landsize|BuildingArea|YearBuilt|       CouncilArea|Lattitude|Longtitude|          Regionname|Propertycount|\n",
      "+--------+------------+---------+------------------+---------+----------+--------------------+-------------+\n",
      "|     126|        null|     null|Yarra City Council| -37.8014|  144.9958|Northern Metropol...|         4019|\n",
      "|     202|        null|     null|Yarra City Council| -37.7996|  144.9984|Northern Metropol...|         4019|\n",
      "|     156|          79|     1900|Yarra City Council| -37.8079|  144.9934|Northern Metropol...|         4019|\n",
      "|       0|        null|     null|Yarra City Council| -37.8114|  145.0116|Northern Metropol...|         4019|\n",
      "|     134|         150|     1900|Yarra City Council| -37.8093|  144.9944|Northern Metropol...|         4019|\n",
      "|      94|        null|     null|Yarra City Council| -37.7969|  144.9969|Northern Metropol...|         4019|\n",
      "|     120|         142|     2014|Yarra City Council| -37.8072|  144.9941|Northern Metropol...|         4019|\n",
      "|     400|         220|     2006|Yarra City Council| -37.7965|  144.9965|Northern Metropol...|         4019|\n",
      "|     201|        null|     1900|Yarra City Council| -37.7995|  144.9974|Northern Metropol...|         4019|\n",
      "|     202|        null|     1900|Yarra City Council| -37.7996|  144.9989|Northern Metropol...|         4019|\n",
      "+--------+------------+---------+------------------+---------+----------+--------------------+-------------+\n",
      "only showing top 10 rows\n",
      "\n"
     ]
    }
   ],
   "source": [
    "df.select(\"Landsize\",\"BuildingArea\",\"YearBuilt\",\"CouncilArea\",\"Lattitude\",\"Longtitude\",\"Regionname\",\"Propertycount\").show(10)"
   ]
  },
  {
   "cell_type": "code",
   "execution_count": 100,
   "metadata": {},
   "outputs": [
    {
     "name": "stdout",
     "output_type": "stream",
     "text": [
      "+-------+-----------------+------------------+------------------+------------------+------------------+\n",
      "|summary|            Price|             Rooms|          Distance|          Bathroom|               Car|\n",
      "+-------+-----------------+------------------+------------------+------------------+------------------+\n",
      "|  count|            27247|             34857|             34857|             26631|             26129|\n",
      "|   mean|1050173.344955408|3.0310124221820582|11.184929423916007| 1.624798167549097|1.7288453442535114|\n",
      "| stddev|641467.1301045999|0.9699329348975204| 6.788892455935938|0.7242120114699068|1.0107707853554244|\n",
      "|    min|          1000000|                 1|              #N/A|                 0|                 0|\n",
      "|    max|           999999|                 9|               9.9|                 9|                 9|\n",
      "+-------+-----------------+------------------+------------------+------------------+------------------+\n",
      "\n"
     ]
    }
   ],
   "source": [
    "df.describe().select(\"summary\",\"Price\", \"Rooms\",\"Distance\",\"Bathroom\",\"Car\").show()"
   ]
  },
  {
   "cell_type": "code",
   "execution_count": 15,
   "metadata": {},
   "outputs": [
    {
     "name": "stdout",
     "output_type": "stream",
     "text": [
      "+-------+-----------------+------------------+------------------+\n",
      "|summary|            Price|          Landsize|      BuildingArea|\n",
      "+-------+-----------------+------------------+------------------+\n",
      "|  count|            27247|             23047|             13742|\n",
      "|   mean|1050173.344955408|  593.598993361392| 160.2564003565711|\n",
      "| stddev|641467.1301045999|3398.8419464599056|401.26706008485496|\n",
      "|    min|          1000000|                 0|                 0|\n",
      "|    max|           999999|               999|               999|\n",
      "+-------+-----------------+------------------+------------------+\n",
      "\n"
     ]
    }
   ],
   "source": [
    "df.describe().select(\"summary\",\"Price\",\"Landsize\", \"BuildingArea\").show()"
   ]
  },
  {
   "cell_type": "code",
   "execution_count": null,
   "metadata": {},
   "outputs": [],
   "source": []
  },
  {
   "cell_type": "markdown",
   "metadata": {},
   "source": [
    "#### Change \"#N/A\" to null"
   ]
  },
  {
   "cell_type": "code",
   "execution_count": 110,
   "metadata": {},
   "outputs": [
    {
     "data": {
      "text/plain": [
       "df_result: org.apache.spark.sql.DataFrame = [Suburb: string, Address: string ... 19 more fields]\n"
      ]
     },
     "execution_count": 110,
     "metadata": {},
     "output_type": "execute_result"
    }
   ],
   "source": [
    "var df_result =df\n",
    "for (colName<-df.columns){ \n",
    "  df_result = df.withColumn(colName, when(trim(df(colName))===\"#N/A\",null).otherwise(df(colName)))\n",
    "  }"
   ]
  },
  {
   "cell_type": "code",
   "execution_count": 113,
   "metadata": {},
   "outputs": [
    {
     "name": "stdout",
     "output_type": "stream",
     "text": [
      "+-------+-----------------+------------------+------------------+------------------+------------------+\n",
      "|summary|            Price|             Rooms|          Distance|          Bathroom|               Car|\n",
      "+-------+-----------------+------------------+------------------+------------------+------------------+\n",
      "|  count|            27247|             34857|             34856|             26631|             26129|\n",
      "|   mean|1050173.344955408|3.0310124221820582|11.184929423916007| 1.624798167549097|1.7288453442535114|\n",
      "| stddev|641467.1301045999|0.9699329348975204| 6.788892455935938|0.7242120114699068|1.0107707853554244|\n",
      "|    min|          1000000|                 1|                 0|                 0|                 0|\n",
      "|    max|           999999|                 9|               9.9|                 9|                 9|\n",
      "+-------+-----------------+------------------+------------------+------------------+------------------+\n",
      "\n"
     ]
    }
   ],
   "source": [
    "df_result.describe().select(\"summary\",\"Price\", \"Rooms\",\"Distance\",\"Bathroom\",\"Car\").show()"
   ]
  },
  {
   "cell_type": "markdown",
   "metadata": {},
   "source": [
    "#### Convert numeric data represented as string into double "
   ]
  },
  {
   "cell_type": "code",
   "execution_count": 152,
   "metadata": {},
   "outputs": [
    {
     "data": {
      "text/plain": [
       "doubleColNames: Array[String] = Array(Price, Rooms, Bedroom2, Distance, Bathroom, Car, Landsize, BuildingArea, Propertycount, YearBuilt, Lattitude, Longtitude)\n"
      ]
     },
     "execution_count": 152,
     "metadata": {},
     "output_type": "execute_result"
    }
   ],
   "source": [
    "val doubleColNames = df_result.select(\"Price\", \"Rooms\",\"Bedroom2\",\"Distance\",\"Bathroom\",\"Car\", \"Landsize\", \"BuildingArea\",\"Propertycount\",\n",
    "               \"YearBuilt\",\"Lattitude\", \"Longtitude\").columns\n",
    "//val colNames =df.columns\n",
    "for (colName<-doubleColNames){ \n",
    "    df_result=df_result.withColumn(colName,col(colName).cast(\"Double\"))\n",
    "}"
   ]
  },
  {
   "cell_type": "code",
   "execution_count": 115,
   "metadata": {},
   "outputs": [
    {
     "name": "stdout",
     "output_type": "stream",
     "text": [
      "root\n",
      " |-- Suburb: string (nullable = true)\n",
      " |-- Address: string (nullable = true)\n",
      " |-- Rooms: double (nullable = true)\n",
      " |-- Type: string (nullable = true)\n",
      " |-- Price: double (nullable = true)\n",
      " |-- Method: string (nullable = true)\n",
      " |-- SellerG: string (nullable = true)\n",
      " |-- Date: string (nullable = true)\n",
      " |-- Distance: double (nullable = true)\n",
      " |-- Postcode: string (nullable = true)\n",
      " |-- Bedroom2: double (nullable = true)\n",
      " |-- Bathroom: double (nullable = true)\n",
      " |-- Car: double (nullable = true)\n",
      " |-- Landsize: double (nullable = true)\n",
      " |-- BuildingArea: double (nullable = true)\n",
      " |-- YearBuilt: double (nullable = true)\n",
      " |-- CouncilArea: string (nullable = true)\n",
      " |-- Lattitude: double (nullable = true)\n",
      " |-- Longtitude: double (nullable = true)\n",
      " |-- Regionname: string (nullable = true)\n",
      " |-- Propertycount: double (nullable = true)\n",
      "\n"
     ]
    }
   ],
   "source": [
    "df_result.printSchema()"
   ]
  },
  {
   "cell_type": "markdown",
   "metadata": {},
   "source": [
    "### Filtering"
   ]
  },
  {
   "cell_type": "code",
   "execution_count": 116,
   "metadata": {},
   "outputs": [
    {
     "name": "stdout",
     "output_type": "stream",
     "text": [
      "+-----------------+-----+----+---------+------+---------+----------+--------+--------+--------+----+\n",
      "|          Address|Rooms|Type|    Price|Method|  SellerG|      Date|Distance|Postcode|Bathroom| Car|\n",
      "+-----------------+-----+----+---------+------+---------+----------+--------+--------+--------+----+\n",
      "|     7 Marbray Dr|  4.0|   h|     null|    SN|Harcourts| 1/07/2017|    16.7|    3150|     1.0| 2.0|\n",
      "|      24 Owens Av|  4.0|   h|1250000.0|     S|      Ray| 1/07/2017|    16.7|    3150|    null|null|\n",
      "|515 Springvale Rd|  3.0|   h|     null|    PI|      Ray| 1/07/2017|    16.7|    3150|     1.0| 2.0|\n",
      "| 22 Stableford Av|  3.0|   h|     null|     S|      Ray| 1/07/2017|    16.7|    3150|    null|null|\n",
      "|  28 Brentwood Dr|  5.0|   h|     null|    PI|      Ray| 3/06/2017|    16.7|    3150|     5.0| 2.0|\n",
      "|2/70 Leicester Av|  3.0|   t|     null|    SP|      LLC| 3/06/2017|    16.7|    3150|    null|null|\n",
      "|    38 Margate Cr|  3.0|   h|     null|    SN| Woodards| 3/06/2017|    16.7|    3150|    null|null|\n",
      "|    91 Orchard St|  4.0|   h|1750000.0|     S|Harcourts| 3/06/2017|    16.7|    3150|     1.0| 2.0|\n",
      "|     1/8 Short St|  2.0|   u|1100000.0|     S|      Ray| 3/06/2017|    16.7|    3150|     1.0| 1.0|\n",
      "|      20 The Rise|  4.0|   h|     null|     S|   Jellis| 3/06/2017|    16.7|    3150|     2.0| 2.0|\n",
      "|  6/22 Tulloch Gr|  3.0|   t|     null|    PN|Harcourts| 3/06/2017|    16.7|    3150|     2.0| 2.0|\n",
      "|   53 Campbell St|  3.0|   h|3056000.0|    PI|  VICProp|17/06/2017|    16.7|    3150|     2.0| 2.0|\n",
      "|      19 Crown St|  3.0|   h|     null|    PI|Harcourts|17/06/2017|    16.7|    3150|     2.0| 4.0|\n",
      "|   24 Florence St|  3.0|   h|1900000.0|    PI|Harcourts|17/06/2017|    16.7|    3150|     1.0| 0.0|\n",
      "|   2 Grevillia Ct|  4.0|   h|     null|    SN|   Biggin|17/06/2017|    16.7|    3150|     2.0| 2.0|\n",
      "|    57 Hinkler Rd|  3.0|   h|     null|    PI|   Biggin|17/06/2017|    16.7|    3150|     2.0| 0.0|\n",
      "|    7 Kinnoull Gr|  5.0|   h|2650000.0|    PI|   Jellis|17/06/2017|    16.7|    3150|     3.0| 2.0|\n",
      "|1/28 Leicester Av|  3.0|   u| 895000.0|     S|      Ray|17/06/2017|    16.7|    3150|    null|null|\n",
      "|     10 Lennox Av|  6.0|   h|1290000.0|     S|Harcourts|17/06/2017|    16.7|    3150|    null|null|\n",
      "|    39b Summit Cr|  5.0|   h|1125000.0|    PI| Woodards|17/06/2017|    16.7|    3150|    null|null|\n",
      "+-----------------+-----+----+---------+------+---------+----------+--------+--------+--------+----+\n",
      "only showing top 20 rows\n",
      "\n"
     ]
    }
   ],
   "source": [
    "df_result.filter($\"Suburb\"===\"Glen Waverley\").select(\"Address\",\"Rooms\",\"Type\",\"Price\",\"Method\",\"SellerG\",\"Date\",\"Distance\",\"Postcode\",\"Bathroom\",\"Car\").show()"
   ]
  },
  {
   "cell_type": "code",
   "execution_count": 117,
   "metadata": {},
   "outputs": [
    {
     "name": "stdout",
     "output_type": "stream",
     "text": [
      "+-------------------+-----+----+---------+------+-------+---------+--------+--------+--------+----+-------------+\n",
      "|            Address|Rooms|Type|    Price|Method|SellerG|     Date|Distance|Postcode|Bathroom| Car|Propertycount|\n",
      "+-------------------+-----+----+---------+------+-------+---------+--------+--------+--------+----+-------------+\n",
      "|      68 Studley St|  2.0|   h|     null|    SS| Jellis|3/09/2016|     2.5|    3067|     1.0| 1.0|       4019.0|\n",
      "|       85 Turner St|  2.0|   h|1480000.0|     S| Biggin|3/12/2016|     2.5|    3067|     1.0| 1.0|       4019.0|\n",
      "|    25 Bloomburg St|  2.0|   h|1035000.0|     S| Biggin|4/02/2016|     2.5|    3067|     1.0| 0.0|       4019.0|\n",
      "| 18/659 Victoria St|  3.0|   u|     null|    VB| Rounds|4/02/2016|     2.5|    3067|     2.0| 1.0|       4019.0|\n",
      "|       5 Charles St|  3.0|   h|1465000.0|    SP| Biggin|4/03/2017|     2.5|    3067|     2.0| 0.0|       4019.0|\n",
      "|   40 Federation La|  3.0|   h| 850000.0|    PI| Biggin|4/03/2017|     2.5|    3067|     2.0| 1.0|       4019.0|\n",
      "|        55a Park St|  4.0|   h|1600000.0|    VB| Nelson|4/06/2016|     2.5|    3067|     1.0| 2.0|       4019.0|\n",
      "|       16 Maugie St|  4.0|   h|     null|    SN| Nelson|6/08/2016|     2.5|    3067|     2.0| 2.0|       4019.0|\n",
      "|       53 Turner St|  2.0|   h|     null|     S| Biggin|6/08/2016|     2.5|    3067|     1.0| 2.0|       4019.0|\n",
      "|       99 Turner St|  2.0|   h|     null|     S|Collins|6/08/2016|     2.5|    3067|     2.0| 1.0|       4019.0|\n",
      "|     129 Charles St|  2.0|   h| 941000.0|     S| Jellis|7/05/2016|     2.5|    3067|     1.0| 0.0|       4019.0|\n",
      "|       124 Yarra St|  3.0|   h|1876000.0|     S| Nelson|7/05/2016|     2.5|    3067|     2.0| 0.0|       4019.0|\n",
      "|121/56 Nicholson St|  2.0|   u|     null|    PI| Biggin|7/11/2016|     2.5|    3067|     2.0| 1.0|       4019.0|\n",
      "|      17 Raphael St|  4.0|   h|     null|     W| Biggin|7/11/2016|     2.5|    3067|     2.0| 0.0|       4019.0|\n",
      "|      98 Charles St|  2.0|   h|1636000.0|     S| Nelson|8/10/2016|     2.5|    3067|     1.0| 2.0|       4019.0|\n",
      "|   217 Langridge St|  3.0|   h|1000000.0|     S| Jellis|8/10/2016|     2.5|    3067|    null|null|       4019.0|\n",
      "|    18a Mollison St|  2.0|   t| 745000.0|     S| Jellis|8/10/2016|     2.5|    3067|    null|null|       4019.0|\n",
      "| 6/241 Nicholson St|  1.0|   u| 300000.0|     S| Biggin|8/10/2016|     2.5|    3067|     1.0| 1.0|       4019.0|\n",
      "|      10 Valiant St|  2.0|   h|1097000.0|     S| Biggin|8/10/2016|     2.5|    3067|     1.0| 2.0|       4019.0|\n",
      "|403/609 Victoria St|  2.0|   u| 542000.0|     S| Dingle|8/10/2016|     2.5|    3067|    null|null|       4019.0|\n",
      "+-------------------+-----+----+---------+------+-------+---------+--------+--------+--------+----+-------------+\n",
      "only showing top 20 rows\n",
      "\n"
     ]
    }
   ],
   "source": [
    "df_result.where(\"Suburb = 'Abbotsford'\").select(\"Address\",\"Rooms\",\"Type\",\"Price\",\"Method\",\"SellerG\",\"Date\",\"Distance\",\"Postcode\",\"Bathroom\",\"Car\", \"Propertycount\").show()"
   ]
  },
  {
   "cell_type": "code",
   "execution_count": 118,
   "metadata": {},
   "outputs": [
    {
     "data": {
      "text/plain": [
       "res97: Long = 53\n"
      ]
     },
     "execution_count": 118,
     "metadata": {},
     "output_type": "execute_result"
    }
   ],
   "source": [
    "df_result.where(\"Price >1000000\").filter(\"Suburb = 'Abbotsford'\").select(\"Address\",\"Rooms\",\"Type\",\"Price\",\"Method\",\"SellerG\",\"Date\",\"Distance\",\"Postcode\",\"Bathroom\",\"Car\", \"Propertycount\").count()"
   ]
  },
  {
   "cell_type": "code",
   "execution_count": 119,
   "metadata": {},
   "outputs": [
    {
     "name": "stdout",
     "output_type": "stream",
     "text": [
      "+-------------------+-----+----+---------+------+--------+----------+--------+--------+--------+----+-------------+\n",
      "|            Address|Rooms|Type|    Price|Method| SellerG|      Date|Distance|Postcode|Bathroom| Car|Propertycount|\n",
      "+-------------------+-----+----+---------+------+--------+----------+--------+--------+--------+----+-------------+\n",
      "|       85 Turner St|  2.0|   h|1480000.0|     S|  Biggin| 3/12/2016|     2.5|    3067|     1.0| 1.0|       4019.0|\n",
      "|    25 Bloomburg St|  2.0|   h|1035000.0|     S|  Biggin| 4/02/2016|     2.5|    3067|     1.0| 0.0|       4019.0|\n",
      "|       5 Charles St|  3.0|   h|1465000.0|    SP|  Biggin| 4/03/2017|     2.5|    3067|     2.0| 0.0|       4019.0|\n",
      "|        55a Park St|  4.0|   h|1600000.0|    VB|  Nelson| 4/06/2016|     2.5|    3067|     1.0| 2.0|       4019.0|\n",
      "|       124 Yarra St|  3.0|   h|1876000.0|     S|  Nelson| 7/05/2016|     2.5|    3067|     2.0| 0.0|       4019.0|\n",
      "|      98 Charles St|  2.0|   h|1636000.0|     S|  Nelson| 8/10/2016|     2.5|    3067|     1.0| 2.0|       4019.0|\n",
      "|      10 Valiant St|  2.0|   h|1097000.0|     S|  Biggin| 8/10/2016|     2.5|    3067|     1.0| 2.0|       4019.0|\n",
      "|    40 Nicholson St|  3.0|   h|1350000.0|    VB|  Nelson|12/11/2016|     2.5|    3067|     2.0| 2.0|       4019.0|\n",
      "|         22 Park St|  4.0|   h|1985000.0|     S|  Biggin|12/11/2016|     2.5|    3067|    null|null|       4019.0|\n",
      "|      45 William St|  2.0|   h|1172500.0|     S|  Biggin|13/08/2016|     2.5|    3067|     1.0| 1.0|       4019.0|\n",
      "|      16 William St|  2.0|   h|1310000.0|     S|  Jellis|15/10/2016|     2.5|    3067|     1.0| 2.0|       4019.0|\n",
      "|        42 Henry St|  3.0|   h|1200000.0|     S|  Jellis|16/07/2016|     2.5|    3067|     2.0| 1.0|       4019.0|\n",
      "|        78 Yarra St|  3.0|   h|1176500.0|     S|  LITTLE|16/07/2016|     2.5|    3067|     1.0| 1.0|       4019.0|\n",
      "|    3/72 Charles St|  4.0|   h|1330000.0|    PI|     Kay|18/03/2017|     2.5|    3067|     2.0| 2.0|       4019.0|\n",
      "|138/56 Nicholson St|  3.0|   u|1090000.0|     S|  Jellis|18/03/2017|     2.5|    3067|     2.0| 2.0|       4019.0|\n",
      "|     52a William St|  2.0|   h|1100000.0|    PI|  Biggin|18/06/2016|     2.5|    3067|     2.0| 1.0|       4019.0|\n",
      "|         49 Park St|  2.0|   h|1315000.0|     S|Marshall|19/11/2016|     2.5|    3067|     1.0| 0.0|       4019.0|\n",
      "|   48 Abbotsford St|  3.0|   h|1447500.0|    PI|  Nelson|22/08/2016|     2.5|    3067|     3.0| 1.0|       4019.0|\n",
      "|        159 Park St|  2.0|   h|1135000.0|     S|  Nelson|22/08/2016|     2.5|    3067|     2.0| 2.0|       4019.0|\n",
      "|       31 Turner St|  4.0|   h|1542000.0|     S| Collins|24/09/2016|     2.5|    3067|     3.0| 1.0|       4019.0|\n",
      "+-------------------+-----+----+---------+------+--------+----------+--------+--------+--------+----+-------------+\n",
      "only showing top 20 rows\n",
      "\n"
     ]
    }
   ],
   "source": [
    "df_result.where(\"Price >1000000\").filter(\"Suburb = 'Abbotsford'\").select(\"Address\",\"Rooms\",\"Type\",\"Price\",\"Method\",\"SellerG\",\"Date\",\"Distance\",\"Postcode\",\"Bathroom\",\"Car\", \"Propertycount\").show()"
   ]
  },
  {
   "cell_type": "code",
   "execution_count": 120,
   "metadata": {},
   "outputs": [
    {
     "data": {
      "text/plain": [
       "res99: Array[org.apache.spark.sql.Row] = Array([Abbotsford,85 Turner St,2.0,h,1480000.0,S,Biggin,3/12/2016,2.5,3067,2.0,1.0,1.0,202.0,null,null,Yarra City Council,-37.7996,144.9984,Northern Metropolitan,4019.0], [Abbotsford,25 Bloomburg St,2.0,h,1035000.0,S,Biggin,4/02/2016,2.5,3067,2.0,1.0,0.0,156.0,79.0,1900.0,Yarra City Council,-37.8079,144.9934,Northern Metropolitan,4019.0], [Abbotsford,5 Charles St,3.0,h,1465000.0,SP,Biggin,4/03/2017,2.5,3067,3.0,2.0,0.0,134.0,150.0,1900.0,Yarra City Council,-37.8093,144.9944,Northern Metropolitan,4019.0], [Abbotsford,55a Park St,4.0,h,1600000.0,VB,Nelson,4/06/2016,2.5,3067,3.0,1.0,2.0,120.0,142.0,2014.0,Yarra City Council,-37.8072,144.9941,Northern Metropolitan,4019.0], [Abbotsford,124 Yarra St,3.0,h,1876000.0,S,Nelson,7/05/2016,2.5,3067,4.0,2.0,0..."
      ]
     },
     "execution_count": 120,
     "metadata": {},
     "output_type": "execute_result"
    }
   ],
   "source": [
    "df_result.where(\"Price >1000000\").filter(\"Suburb = 'Abbotsford'\").collect()"
   ]
  },
  {
   "cell_type": "code",
   "execution_count": 121,
   "metadata": {},
   "outputs": [
    {
     "data": {
      "text/plain": [
       "res100: Long = 34857\n"
      ]
     },
     "execution_count": 121,
     "metadata": {},
     "output_type": "execute_result"
    }
   ],
   "source": [
    "df_result.select(\"Address\",\"Type\",\"Method\",\"SellerG\",\"Postcode\",\"CouncilArea\",\"Regionname\").count()"
   ]
  },
  {
   "cell_type": "markdown",
   "metadata": {},
   "source": [
    "### Categorical Attributes\n",
    "\n",
    "#### 1. Address"
   ]
  },
  {
   "cell_type": "code",
   "execution_count": 122,
   "metadata": {},
   "outputs": [
    {
     "name": "stdout",
     "output_type": "stream",
     "text": [
      "+-------------------+\n",
      "|            Address|\n",
      "+-------------------+\n",
      "|      557 Orrong Rd|\n",
      "|      19 Poulter St|\n",
      "|    43 Riverside Av|\n",
      "|       11 South Tce|\n",
      "|  41 Marlborough St|\n",
      "|          4 Park Cr|\n",
      "|        3/3 Dega Av|\n",
      "|        93 Tudor St|\n",
      "|         10 Kent Rd|\n",
      "|       18 Thomas St|\n",
      "|   1/1 Glen Iris Rd|\n",
      "|      7 Allambee Av|\n",
      "|    83 Truganini Rd|\n",
      "|       130 Keele St|\n",
      "|       8 Winters Wy|\n",
      "|     36a Mitford St|\n",
      "|   7/223 Station St|\n",
      "|1/146 Ascot Vale Rd|\n",
      "|    5/60 Farnham St|\n",
      "|      22 Renwick St|\n",
      "+-------------------+\n",
      "only showing top 20 rows\n",
      "\n"
     ]
    },
    {
     "data": {
      "text/plain": [
       "import org.apache.spark.sql.functions.countDistinct\n"
      ]
     },
     "execution_count": 122,
     "metadata": {},
     "output_type": "execute_result"
    }
   ],
   "source": [
    "// rename into street keep only street name\n",
    "import org.apache.spark.sql.functions.countDistinct\n",
    "df_result.select(\"Address\").distinct.show()"
   ]
  },
  {
   "cell_type": "code",
   "execution_count": 123,
   "metadata": {},
   "outputs": [
    {
     "data": {
      "text/plain": [
       "res102: Long = 0\n"
      ]
     },
     "execution_count": 123,
     "metadata": {},
     "output_type": "execute_result"
    }
   ],
   "source": [
    "df_result.filter(\"Address IS NULL\").count()"
   ]
  },
  {
   "cell_type": "code",
   "execution_count": 124,
   "metadata": {},
   "outputs": [
    {
     "data": {
      "text/plain": [
       "res103: Long = 34009\n"
      ]
     },
     "execution_count": 124,
     "metadata": {},
     "output_type": "execute_result"
    }
   ],
   "source": [
    "df_result.select(\"Address\").distinct.count()"
   ]
  },
  {
   "cell_type": "code",
   "execution_count": 125,
   "metadata": {},
   "outputs": [
    {
     "name": "stdout",
     "output_type": "stream",
     "text": [
      "root\n",
      " |-- Suburb: string (nullable = true)\n",
      " |-- Address: string (nullable = true)\n",
      " |-- Rooms: double (nullable = true)\n",
      " |-- Type: string (nullable = true)\n",
      " |-- Price: double (nullable = true)\n",
      " |-- Method: string (nullable = true)\n",
      " |-- SellerG: string (nullable = true)\n",
      " |-- Date: string (nullable = true)\n",
      " |-- Distance: double (nullable = true)\n",
      " |-- Postcode: string (nullable = true)\n",
      " |-- Bedroom2: double (nullable = true)\n",
      " |-- Bathroom: double (nullable = true)\n",
      " |-- Car: double (nullable = true)\n",
      " |-- Landsize: double (nullable = true)\n",
      " |-- BuildingArea: double (nullable = true)\n",
      " |-- YearBuilt: double (nullable = true)\n",
      " |-- CouncilArea: string (nullable = true)\n",
      " |-- Lattitude: double (nullable = true)\n",
      " |-- Longtitude: double (nullable = true)\n",
      " |-- Regionname: string (nullable = true)\n",
      " |-- Propertycount: double (nullable = true)\n",
      "\n"
     ]
    }
   ],
   "source": [
    "df_result.printSchema()"
   ]
  },
  {
   "cell_type": "markdown",
   "metadata": {},
   "source": [
    "#### Split Address on Street and Suffix"
   ]
  },
  {
   "cell_type": "code",
   "execution_count": 126,
   "metadata": {},
   "outputs": [
    {
     "name": "stdout",
     "output_type": "stream",
     "text": [
      "+----------+-----+----+-------+------+-------+---------+--------+--------+--------+--------+----+--------+------------+---------+------------------+---------+----------+--------------------+-------------+----------+------+\n",
      "|    Suburb|Rooms|Type|  Price|Method|SellerG|     Date|Distance|Postcode|Bedroom2|Bathroom| Car|Landsize|BuildingArea|YearBuilt|       CouncilArea|Lattitude|Longtitude|          Regionname|Propertycount|    Street|Suffix|\n",
      "+----------+-----+----+-------+------+-------+---------+--------+--------+--------+--------+----+--------+------------+---------+------------------+---------+----------+--------------------+-------------+----------+------+\n",
      "|Abbotsford|    2|   h|   null|    SS| Jellis|3/09/2016|     2.5|    3067|       2|       1|   1|     126|        null|     null|Yarra City Council| -37.8014|  144.9958|Northern Metropol...|         4019|   Studley|    St|\n",
      "|Abbotsford|    2|   h|1480000|     S| Biggin|3/12/2016|     2.5|    3067|       2|       1|   1|     202|        null|     null|Yarra City Council| -37.7996|  144.9984|Northern Metropol...|         4019|    Turner|    St|\n",
      "|Abbotsford|    2|   h|1035000|     S| Biggin|4/02/2016|     2.5|    3067|       2|       1|   0|     156|          79|     1900|Yarra City Council| -37.8079|  144.9934|Northern Metropol...|         4019| Bloomburg|    St|\n",
      "|Abbotsford|    3|   u|   null|    VB| Rounds|4/02/2016|     2.5|    3067|       3|       2|   1|       0|        null|     null|Yarra City Council| -37.8114|  145.0116|Northern Metropol...|         4019|  Victoria|    St|\n",
      "|Abbotsford|    3|   h|1465000|    SP| Biggin|4/03/2017|     2.5|    3067|       3|       2|   0|     134|         150|     1900|Yarra City Council| -37.8093|  144.9944|Northern Metropol...|         4019|   Charles|    St|\n",
      "|Abbotsford|    3|   h| 850000|    PI| Biggin|4/03/2017|     2.5|    3067|       3|       2|   1|      94|        null|     null|Yarra City Council| -37.7969|  144.9969|Northern Metropol...|         4019|Federation|    La|\n",
      "|Abbotsford|    4|   h|1600000|    VB| Nelson|4/06/2016|     2.5|    3067|       3|       1|   2|     120|         142|     2014|Yarra City Council| -37.8072|  144.9941|Northern Metropol...|         4019|      Park|    St|\n",
      "|Abbotsford|    4|   h|   null|    SN| Nelson|6/08/2016|     2.5|    3067|       3|       2|   2|     400|         220|     2006|Yarra City Council| -37.7965|  144.9965|Northern Metropol...|         4019|    Maugie|    St|\n",
      "|Abbotsford|    2|   h|   null|     S| Biggin|6/08/2016|     2.5|    3067|       4|       1|   2|     201|        null|     1900|Yarra City Council| -37.7995|  144.9974|Northern Metropol...|         4019|    Turner|    St|\n",
      "|Abbotsford|    2|   h|   null|     S|Collins|6/08/2016|     2.5|    3067|       3|       2|   1|     202|        null|     1900|Yarra City Council| -37.7996|  144.9989|Northern Metropol...|         4019|    Turner|    St|\n",
      "|Abbotsford|    2|   h| 941000|     S| Jellis|7/05/2016|     2.5|    3067|       2|       1|   0|     181|        null|     null|Yarra City Council| -37.8041|  144.9953|Northern Metropol...|         4019|   Charles|    St|\n",
      "|Abbotsford|    3|   h|1876000|     S| Nelson|7/05/2016|     2.5|    3067|       4|       2|   0|     245|         210|     1910|Yarra City Council| -37.8024|  144.9993|Northern Metropol...|         4019|     Yarra|    St|\n",
      "|Abbotsford|    2|   u|   null|    PI| Biggin|7/11/2016|     2.5|    3067|       2|       2|   1|    4292|          82|     2009|Yarra City Council| -37.8078|  144.9965|Northern Metropol...|         4019| Nicholson|    St|\n",
      "|Abbotsford|    4|   h|   null|     W| Biggin|7/11/2016|     2.5|    3067|       6|       2|   0|     230|         147|     1860|Yarra City Council| -37.8066|  144.9936|Northern Metropol...|         4019|   Raphael|    St|\n",
      "|Abbotsford|    2|   h|1636000|     S| Nelson|8/10/2016|     2.5|    3067|       2|       1|   2|     256|         107|     1890|Yarra City Council|  -37.806|  144.9954|Northern Metropol...|         4019|   Charles|    St|\n",
      "|Abbotsford|    3|   h|1000000|     S| Jellis|8/10/2016|     2.5|    3067|    null|    null|null|    null|        null|     null|Yarra City Council|     null|      null|Northern Metropol...|         4019| Langridge|    St|\n",
      "|Abbotsford|    2|   t| 745000|     S| Jellis|8/10/2016|     2.5|    3067|    null|    null|null|    null|        null|     null|Yarra City Council|     null|      null|Northern Metropol...|         4019|  Mollison|    St|\n",
      "|Abbotsford|    1|   u| 300000|     S| Biggin|8/10/2016|     2.5|    3067|       1|       1|   1|       0|        null|     null|Yarra City Council| -37.8008|  144.9973|Northern Metropol...|         4019| Nicholson|    St|\n",
      "|Abbotsford|    2|   h|1097000|     S| Biggin|8/10/2016|     2.5|    3067|       3|       1|   2|     220|          75|     1900|Yarra City Council|  -37.801|  144.9989|Northern Metropol...|         4019|   Valiant|    St|\n",
      "|Abbotsford|    2|   u| 542000|     S| Dingle|8/10/2016|     2.5|    3067|    null|    null|null|    null|        null|     null|Yarra City Council|     null|      null|Northern Metropol...|         4019|  Victoria|    St|\n",
      "+----------+-----+----+-------+------+-------+---------+--------+--------+--------+--------+----+--------+------------+---------+------------------+---------+----------+--------------------+-------------+----------+------+\n",
      "only showing top 20 rows\n",
      "\n"
     ]
    },
    {
     "data": {
      "text/plain": [
       "df_result: org.apache.spark.sql.DataFrame = [Suburb: string, Rooms: string ... 20 more fields]\n"
      ]
     },
     "execution_count": 126,
     "metadata": {},
     "output_type": "execute_result"
    }
   ],
   "source": [
    "//split address on Street and Suffix\n",
    "df_result = df_result.withColumn(\"Street\",split(col(\"Address\"),\" \").getItem(1)).\n",
    "                   withColumn(\"Suffix\",split(col(\"Address\"),\" \").getItem(2)).drop(\"Address\")\n",
    "df_result.show()"
   ]
  },
  {
   "cell_type": "code",
   "execution_count": 127,
   "metadata": {},
   "outputs": [
    {
     "name": "stdout",
     "output_type": "stream",
     "text": [
      "root\n",
      " |-- Suburb: string (nullable = true)\n",
      " |-- Rooms: string (nullable = true)\n",
      " |-- Type: string (nullable = true)\n",
      " |-- Price: string (nullable = true)\n",
      " |-- Method: string (nullable = true)\n",
      " |-- SellerG: string (nullable = true)\n",
      " |-- Date: string (nullable = true)\n",
      " |-- Distance: string (nullable = true)\n",
      " |-- Postcode: string (nullable = true)\n",
      " |-- Bedroom2: string (nullable = true)\n",
      " |-- Bathroom: string (nullable = true)\n",
      " |-- Car: string (nullable = true)\n",
      " |-- Landsize: string (nullable = true)\n",
      " |-- BuildingArea: string (nullable = true)\n",
      " |-- YearBuilt: string (nullable = true)\n",
      " |-- CouncilArea: string (nullable = true)\n",
      " |-- Lattitude: string (nullable = true)\n",
      " |-- Longtitude: string (nullable = true)\n",
      " |-- Regionname: string (nullable = true)\n",
      " |-- Propertycount: string (nullable = true)\n",
      " |-- Street: string (nullable = true)\n",
      " |-- Suffix: string (nullable = true)\n",
      "\n"
     ]
    }
   ],
   "source": [
    "df_result.printSchema()"
   ]
  },
  {
   "cell_type": "code",
   "execution_count": 128,
   "metadata": {},
   "outputs": [
    {
     "data": {
      "text/plain": [
       "res107: Long = 0\n"
      ]
     },
     "execution_count": 128,
     "metadata": {},
     "output_type": "execute_result"
    }
   ],
   "source": [
    "df_result.filter(\"Street IS NULL\").count()"
   ]
  },
  {
   "cell_type": "markdown",
   "metadata": {},
   "source": [
    "#### 2. Postcode"
   ]
  },
  {
   "cell_type": "code",
   "execution_count": 129,
   "metadata": {},
   "outputs": [
    {
     "data": {
      "text/plain": [
       "postcodes: org.apache.spark.sql.Dataset[org.apache.spark.sql.Row] = [Postcode: string]\n"
      ]
     },
     "execution_count": 129,
     "metadata": {},
     "output_type": "execute_result"
    }
   ],
   "source": [
    "var postcodes = df_result.select(\"Postcode\").distinct()"
   ]
  },
  {
   "cell_type": "code",
   "execution_count": 130,
   "metadata": {},
   "outputs": [
    {
     "data": {
      "text/plain": [
       "res108: Long = 0\n"
      ]
     },
     "execution_count": 130,
     "metadata": {},
     "output_type": "execute_result"
    }
   ],
   "source": [
    "df_result.filter(\"Postcode IS NULL\").count()"
   ]
  },
  {
   "cell_type": "code",
   "execution_count": 131,
   "metadata": {},
   "outputs": [
    {
     "data": {
      "text/plain": [
       "res109: Long = 212\n"
      ]
     },
     "execution_count": 131,
     "metadata": {},
     "output_type": "execute_result"
    }
   ],
   "source": [
    "postcodes.count()"
   ]
  },
  {
   "cell_type": "markdown",
   "metadata": {},
   "source": [
    "#### 3. Suburb"
   ]
  },
  {
   "cell_type": "code",
   "execution_count": 132,
   "metadata": {},
   "outputs": [
    {
     "data": {
      "text/plain": [
       "suburbs: org.apache.spark.sql.Dataset[org.apache.spark.sql.Row] = [Suburb: string]\n"
      ]
     },
     "execution_count": 132,
     "metadata": {},
     "output_type": "execute_result"
    }
   ],
   "source": [
    "val suburbs = df_result.select(\"Suburb\").distinct"
   ]
  },
  {
   "cell_type": "code",
   "execution_count": 133,
   "metadata": {},
   "outputs": [
    {
     "data": {
      "text/plain": [
       "res110: Long = 351\n"
      ]
     },
     "execution_count": 133,
     "metadata": {},
     "output_type": "execute_result"
    }
   ],
   "source": [
    "suburbs.count()"
   ]
  },
  {
   "cell_type": "code",
   "execution_count": 134,
   "metadata": {},
   "outputs": [
    {
     "data": {
      "text/plain": [
       "res111: Long = 0\n"
      ]
     },
     "execution_count": 134,
     "metadata": {},
     "output_type": "execute_result"
    }
   ],
   "source": [
    "\n",
    "df.filter(\"Suburb IS NULL\").count()"
   ]
  },
  {
   "cell_type": "code",
   "execution_count": 135,
   "metadata": {},
   "outputs": [
    {
     "name": "stdout",
     "output_type": "stream",
     "text": [
      "+----------------+\n",
      "|          Suburb|\n",
      "+----------------+\n",
      "|  Brunswick West|\n",
      "| South Melbourne|\n",
      "|    Ivanhoe East|\n",
      "|    Princes Hill|\n",
      "|      Cranbourne|\n",
      "|         Ashwood|\n",
      "|       Brunswick|\n",
      "|South Kingsville|\n",
      "|        Brighton|\n",
      "|        Oak Park|\n",
      "|         Doveton|\n",
      "|       Albanvale|\n",
      "|      Brookfield|\n",
      "|        Lynbrook|\n",
      "|     Ferny Creek|\n",
      "|     Pascoe Vale|\n",
      "| Blackburn North|\n",
      "|     Sandringham|\n",
      "|   Botanic Ridge|\n",
      "|          Carrum|\n",
      "+----------------+\n",
      "only showing top 20 rows\n",
      "\n"
     ]
    },
    {
     "data": {
      "text/plain": [
       "import org.apache.spark.sql.functions._\n",
       "df_result: org.apache.spark.sql.DataFrame = [Suburb: string, Rooms: string ... 20 more fields]\n"
      ]
     },
     "execution_count": 135,
     "metadata": {},
     "output_type": "execute_result"
    }
   ],
   "source": [
    "// make first letter of suburb upper case\n",
    "import org.apache.spark.sql.functions._\n",
    "df_result = df_result.withColumn(\"Suburb\", initcap(col(\"Suburb\")))\n",
    "df_result.select(\"Suburb\").distinct.show()\n"
   ]
  },
  {
   "cell_type": "markdown",
   "metadata": {},
   "source": [
    "#### 4. Type \n",
    "#### Distinct values "
   ]
  },
  {
   "cell_type": "code",
   "execution_count": 136,
   "metadata": {},
   "outputs": [
    {
     "name": "stdout",
     "output_type": "stream",
     "text": [
      "+----+\n",
      "|Type|\n",
      "+----+\n",
      "|   h|\n",
      "|   u|\n",
      "|   t|\n",
      "+----+\n",
      "\n"
     ]
    },
    {
     "data": {
      "text/plain": [
       "import org.apache.spark.sql.functions.countDistinct\n"
      ]
     },
     "execution_count": 136,
     "metadata": {},
     "output_type": "execute_result"
    }
   ],
   "source": [
    "import org.apache.spark.sql.functions.countDistinct\n",
    "df_result.select(\"Type\").distinct.show()"
   ]
  },
  {
   "cell_type": "code",
   "execution_count": 137,
   "metadata": {},
   "outputs": [
    {
     "name": "stdout",
     "output_type": "stream",
     "text": [
      "+----+\n",
      "|Type|\n",
      "+----+\n",
      "|   T|\n",
      "|   U|\n",
      "|   H|\n",
      "+----+\n",
      "\n"
     ]
    },
    {
     "data": {
      "text/plain": [
       "df_result: org.apache.spark.sql.DataFrame = [Suburb: string, Rooms: string ... 20 more fields]\n"
      ]
     },
     "execution_count": 137,
     "metadata": {},
     "output_type": "execute_result"
    }
   ],
   "source": [
    "df_result = df_result.withColumn(\"Type\", initcap(col(\"Type\")))\n",
    "df_result.select(\"Type\").distinct.show()"
   ]
  },
  {
   "cell_type": "markdown",
   "metadata": {},
   "source": [
    "#### Null values  "
   ]
  },
  {
   "cell_type": "code",
   "execution_count": 138,
   "metadata": {},
   "outputs": [
    {
     "data": {
      "text/plain": [
       "res115: Long = 0\n"
      ]
     },
     "execution_count": 138,
     "metadata": {},
     "output_type": "execute_result"
    }
   ],
   "source": [
    "df_result.filter(\"Type IS NULL\").count()"
   ]
  },
  {
   "cell_type": "markdown",
   "metadata": {},
   "source": [
    "#### 5. Method"
   ]
  },
  {
   "cell_type": "code",
   "execution_count": 139,
   "metadata": {},
   "outputs": [
    {
     "name": "stdout",
     "output_type": "stream",
     "text": [
      "+------+\n",
      "|Method|\n",
      "+------+\n",
      "|    PI|\n",
      "|    SA|\n",
      "|    SP|\n",
      "|    VB|\n",
      "|    PN|\n",
      "|     W|\n",
      "|     S|\n",
      "|    SN|\n",
      "|    SS|\n",
      "+------+\n",
      "\n"
     ]
    }
   ],
   "source": [
    "df_result.select(\"Method\").distinct.show()"
   ]
  },
  {
   "cell_type": "markdown",
   "metadata": {},
   "source": [
    "#### Null values  "
   ]
  },
  {
   "cell_type": "code",
   "execution_count": 140,
   "metadata": {},
   "outputs": [
    {
     "data": {
      "text/plain": [
       "res117: Long = 0\n"
      ]
     },
     "execution_count": 140,
     "metadata": {},
     "output_type": "execute_result"
    }
   ],
   "source": [
    "df_result.filter(\"Method IS NULL\").count()"
   ]
  },
  {
   "cell_type": "markdown",
   "metadata": {},
   "source": [
    "#### 6. SellerG"
   ]
  },
  {
   "cell_type": "code",
   "execution_count": 141,
   "metadata": {},
   "outputs": [
    {
     "data": {
      "text/plain": [
       "sellers: org.apache.spark.sql.Dataset[org.apache.spark.sql.Row] = [SellerG: string]\n"
      ]
     },
     "execution_count": 141,
     "metadata": {},
     "output_type": "execute_result"
    }
   ],
   "source": [
    "val sellers = df_result.select(\"SellerG\").distinct"
   ]
  },
  {
   "cell_type": "code",
   "execution_count": 142,
   "metadata": {},
   "outputs": [
    {
     "name": "stdout",
     "output_type": "stream",
     "text": [
      "+--------------------+\n",
      "|             SellerG|\n",
      "+--------------------+\n",
      "|              LITTLE|\n",
      "|                 S&L|\n",
      "|              Ristic|\n",
      "|            Langwell|\n",
      "|             Ruralco|\n",
      "|             Xynergy|\n",
      "|               Ryder|\n",
      "|               iSell|\n",
      "|               Scott|\n",
      "|              Wilson|\n",
      "|          McNaughton|\n",
      "|           Blackbird|\n",
      "|hockingstuart/Biggin|\n",
      "|               Lucas|\n",
      "|                 One|\n",
      "|         Buxton/Find|\n",
      "|                Real|\n",
      "|            Sterling|\n",
      "|             Compton|\n",
      "|           Tiernan's|\n",
      "+--------------------+\n",
      "only showing top 20 rows\n",
      "\n"
     ]
    }
   ],
   "source": [
    "sellers.show()"
   ]
  },
  {
   "cell_type": "code",
   "execution_count": 143,
   "metadata": {},
   "outputs": [
    {
     "data": {
      "text/plain": [
       "res119: Long = 388\n"
      ]
     },
     "execution_count": 143,
     "metadata": {},
     "output_type": "execute_result"
    }
   ],
   "source": [
    "sellers.count()"
   ]
  },
  {
   "cell_type": "code",
   "execution_count": 144,
   "metadata": {},
   "outputs": [
    {
     "data": {
      "text/plain": [
       "res120: Long = 0\n"
      ]
     },
     "execution_count": 144,
     "metadata": {},
     "output_type": "execute_result"
    }
   ],
   "source": [
    "\n",
    "df_result.filter(\"SellerG IS NULL\").count()"
   ]
  },
  {
   "cell_type": "markdown",
   "metadata": {},
   "source": [
    "#### 7. Date"
   ]
  },
  {
   "cell_type": "code",
   "execution_count": 145,
   "metadata": {},
   "outputs": [
    {
     "data": {
      "text/plain": [
       "dates: org.apache.spark.sql.Dataset[org.apache.spark.sql.Row] = [Date: string]\n"
      ]
     },
     "execution_count": 145,
     "metadata": {},
     "output_type": "execute_result"
    }
   ],
   "source": [
    "val dates = df_result.select(\"Date\").distinct()"
   ]
  },
  {
   "cell_type": "code",
   "execution_count": 146,
   "metadata": {},
   "outputs": [
    {
     "data": {
      "text/plain": [
       "res121: Long = 78\n"
      ]
     },
     "execution_count": 146,
     "metadata": {},
     "output_type": "execute_result"
    }
   ],
   "source": [
    "dates.count()"
   ]
  },
  {
   "cell_type": "code",
   "execution_count": 147,
   "metadata": {},
   "outputs": [
    {
     "data": {
      "text/plain": [
       "res122: Long = 0\n"
      ]
     },
     "execution_count": 147,
     "metadata": {},
     "output_type": "execute_result"
    }
   ],
   "source": [
    "df_result.filter(\"Date IS NULL\").count()"
   ]
  },
  {
   "cell_type": "code",
   "execution_count": 148,
   "metadata": {},
   "outputs": [
    {
     "name": "stdout",
     "output_type": "stream",
     "text": [
      "+----------+\n",
      "|      Date|\n",
      "+----------+\n",
      "|16/04/2016|\n",
      "|29/04/2017|\n",
      "|10/12/2016|\n",
      "|19/08/2017|\n",
      "| 7/05/2016|\n",
      "| 8/07/2017|\n",
      "| 4/03/2017|\n",
      "|29/07/2017|\n",
      "|27/05/2017|\n",
      "|28/10/2017|\n",
      "| 9/09/2017|\n",
      "|26/07/2016|\n",
      "|12/11/2016|\n",
      "|25/02/2017|\n",
      "| 6/05/2017|\n",
      "|18/11/2017|\n",
      "| 3/09/2016|\n",
      "| 3/12/2016|\n",
      "|25/11/2017|\n",
      "| 3/06/2017|\n",
      "+----------+\n",
      "only showing top 20 rows\n",
      "\n"
     ]
    }
   ],
   "source": [
    "dates.show()"
   ]
  },
  {
   "cell_type": "markdown",
   "metadata": {},
   "source": [
    "#### 8. CouncilArea"
   ]
  },
  {
   "cell_type": "code",
   "execution_count": 149,
   "metadata": {},
   "outputs": [
    {
     "data": {
      "text/plain": [
       "sareas: org.apache.spark.sql.Dataset[org.apache.spark.sql.Row] = [CouncilArea: string]\n"
      ]
     },
     "execution_count": 149,
     "metadata": {},
     "output_type": "execute_result"
    }
   ],
   "source": [
    "val sareas = df_result.select(\"CouncilArea\").distinct()"
   ]
  },
  {
   "cell_type": "code",
   "execution_count": 150,
   "metadata": {},
   "outputs": [
    {
     "data": {
      "text/plain": [
       "res124: Long = 34\n"
      ]
     },
     "execution_count": 150,
     "metadata": {},
     "output_type": "execute_result"
    }
   ],
   "source": [
    "sareas.count()"
   ]
  },
  {
   "cell_type": "code",
   "execution_count": 151,
   "metadata": {},
   "outputs": [
    {
     "name": "stdout",
     "output_type": "stream",
     "text": [
      "+--------------------+\n",
      "|         CouncilArea|\n",
      "+--------------------+\n",
      "|Bayside City Council|\n",
      "|Greater Dandenong...|\n",
      "|   Hume City Council|\n",
      "|Glen Eira City Co...|\n",
      "|Kingston City Cou...|\n",
      "|Nillumbik Shire C...|\n",
      "| Monash City Council|\n",
      "|Macedon Ranges Sh...|\n",
      "|   Knox City Council|\n",
      "|Wyndham City Council|\n",
      "|Mitchell Shire Co...|\n",
      "|Maribyrnong City ...|\n",
      "|Whittlesea City C...|\n",
      "|Whitehorse City C...|\n",
      "|Frankston City Co...|\n",
      "|Manningham City C...|\n",
      "|Darebin City Council|\n",
      "|Moreland City Cou...|\n",
      "|Cardinia Shire Co...|\n",
      "|Moonee Valley Cit...|\n",
      "|Boroondara City C...|\n",
      "|Yarra Ranges Shir...|\n",
      "|  Casey City Council|\n",
      "|Port Phillip City...|\n",
      "|Brimbank City Cou...|\n",
      "|                #N/A|\n",
      "|Hobsons Bay City ...|\n",
      "|Banyule City Council|\n",
      "|Stonnington City ...|\n",
      "| Melton City Council|\n",
      "|  Yarra City Council|\n",
      "|Melbourne City Co...|\n",
      "|Moorabool Shire C...|\n",
      "|Maroondah City Co...|\n",
      "+--------------------+\n",
      "\n"
     ]
    }
   ],
   "source": [
    "sareas.show(34)"
   ]
  },
  {
   "cell_type": "code",
   "execution_count": 98,
   "metadata": {},
   "outputs": [
    {
     "data": {
      "text/plain": [
       "res80: Long = 0\n"
      ]
     },
     "execution_count": 98,
     "metadata": {},
     "output_type": "execute_result"
    }
   ],
   "source": [
    "\n",
    "df_result.filter(\"CouncilArea IS NULL\").count()"
   ]
  },
  {
   "cell_type": "markdown",
   "metadata": {},
   "source": [
    "#### 9. Regionname"
   ]
  },
  {
   "cell_type": "code",
   "execution_count": 56,
   "metadata": {},
   "outputs": [
    {
     "name": "stdout",
     "output_type": "stream",
     "text": [
      "+--------------------+\n",
      "|          Regionname|\n",
      "+--------------------+\n",
      "|South-Eastern Met...|\n",
      "|Western Metropolitan|\n",
      "|Eastern Metropolitan|\n",
      "|    Eastern Victoria|\n",
      "|                #N/A|\n",
      "|   Northern Victoria|\n",
      "|Northern Metropol...|\n",
      "|Southern Metropol...|\n",
      "|    Western Victoria|\n",
      "+--------------------+\n",
      "\n"
     ]
    }
   ],
   "source": [
    "df_result.select(\"Regionname\").distinct.show()"
   ]
  },
  {
   "cell_type": "code",
   "execution_count": 57,
   "metadata": {},
   "outputs": [
    {
     "data": {
      "text/plain": [
       "res44: Long = 0\n"
      ]
     },
     "execution_count": 57,
     "metadata": {},
     "output_type": "execute_result"
    }
   ],
   "source": [
    "\n",
    "df_result.filter(\"Regionname IS NULL\").count()"
   ]
  },
  {
   "cell_type": "markdown",
   "metadata": {},
   "source": [
    "#### 10. YearBuilt"
   ]
  },
  {
   "cell_type": "code",
   "execution_count": null,
   "metadata": {},
   "outputs": [],
   "source": [
    "df_result.filter(\"YearBuilt IS NULL\").count()"
   ]
  },
  {
   "cell_type": "code",
   "execution_count": null,
   "metadata": {},
   "outputs": [],
   "source": [
    "df_result.select(\"YearBuilt\").distinct.show()"
   ]
  },
  {
   "cell_type": "markdown",
   "metadata": {},
   "source": [
    "#### 1. Price"
   ]
  },
  {
   "cell_type": "code",
   "execution_count": null,
   "metadata": {},
   "outputs": [],
   "source": [
    "df_result.filter(\"Price IS NULL\").count()"
   ]
  },
  {
   "cell_type": "code",
   "execution_count": null,
   "metadata": {},
   "outputs": [],
   "source": [
    "//get rid of null in price\n",
    "df_result=df_result.filter(!df_result(\"Price\").isNull)"
   ]
  },
  {
   "cell_type": "code",
   "execution_count": null,
   "metadata": {
    "scrolled": true
   },
   "outputs": [],
   "source": [
    "df_result.select(\"Price\").distinct().show()"
   ]
  },
  {
   "cell_type": "code",
   "execution_count": null,
   "metadata": {},
   "outputs": [],
   "source": [
    "// histogram\n",
    "val (startValues,counts) = df_result.select($\"Price\")\n",
    "    .rdd.map(r => r.getDouble(0))\n",
    "    .histogram()"
   ]
  },
  {
   "cell_type": "code",
   "execution_count": null,
   "metadata": {},
   "outputs": [],
   "source": [
    "val zippedValues = startValues.zip(counts)\n",
    "case class HistRow(startPoint:Double,count:Long)\n",
    "val rowRDD = zippedValues.map( value => HistRow(value._1,value._2))\n",
    "val histDf = org.apache.spark.sql.SparkSession.createDataFrame(rowRDD)\n",
    "histDf.createOrReplaceTempView(\"histogramTable\")"
   ]
  },
  {
   "cell_type": "code",
   "execution_count": null,
   "metadata": {},
   "outputs": [],
   "source": [
    "val _tmpHist = df_result\n",
    "    .select($\"Price\" cast \"double\")\n",
    "    .rdd.map(r => r.getDouble(0))\n",
    "    .histogram(thresholds)\n",
    "\n",
    "// Result DataFrame contains `from`, `to` range and the `value`.\n",
    "val histogram = sc.parallelize((thresholds, thresholds.tail, _tmpHist).zipped.toList).toDF(\"from\", \"to\", \"value\")"
   ]
  },
  {
   "cell_type": "code",
   "execution_count": null,
   "metadata": {},
   "outputs": [],
   "source": [
    "df_result.describe().select(\"summary\",\"Price\",\"Suburb\").show()"
   ]
  },
  {
   "cell_type": "code",
   "execution_count": null,
   "metadata": {},
   "outputs": [],
   "source": [
    "df.where(\"Price >10000000\").select(\"Address\",\"Rooms\",\"Type\",\"Price\",\"Method\",\"SellerG\",\"Date\",\"Distance\",\"Postcode\",\"Bathroom\",\"Car\", \"Propertycount\").count()"
   ]
  },
  {
   "cell_type": "markdown",
   "metadata": {},
   "source": [
    "#### 1. Rooms"
   ]
  },
  {
   "cell_type": "code",
   "execution_count": null,
   "metadata": {},
   "outputs": [],
   "source": [
    "df_result.filter(\"Rooms IS NULL\").count()"
   ]
  },
  {
   "cell_type": "code",
   "execution_count": null,
   "metadata": {},
   "outputs": [],
   "source": [
    "df_result.select(\"Rooms\").distinct().show()"
   ]
  },
  {
   "cell_type": "markdown",
   "metadata": {},
   "source": [
    "<span style=\"font-size:16pt;color: red\">TO DO: HISTOGRAMS IS IT POSSIBLE? </span> .\n",
    "\n"
   ]
  },
  {
   "cell_type": "code",
   "execution_count": null,
   "metadata": {},
   "outputs": [],
   "source": [
    "df_result.groupBy(\"Rooms\").count().rdd.histogram()"
   ]
  },
  {
   "cell_type": "code",
   "execution_count": null,
   "metadata": {},
   "outputs": [],
   "source": [
    "histogram(df_result, df_result(\"Rooms\"), nbins = 10)"
   ]
  },
  {
   "cell_type": "code",
   "execution_count": null,
   "metadata": {},
   "outputs": [],
   "source": [
    "df_result.select(\"Rooms\").createOrReplaceTempView(\"histogramTable\").show()"
   ]
  },
  {
   "cell_type": "markdown",
   "metadata": {},
   "source": [
    "#### 2. Distance"
   ]
  },
  {
   "cell_type": "code",
   "execution_count": null,
   "metadata": {},
   "outputs": [],
   "source": [
    "df_result.filter(\"Distance IS NULL\").count()"
   ]
  },
  {
   "cell_type": "code",
   "execution_count": null,
   "metadata": {},
   "outputs": [],
   "source": [
    "df_result.select(\"Distance\").distinct.count()"
   ]
  },
  {
   "cell_type": "code",
   "execution_count": null,
   "metadata": {},
   "outputs": [],
   "source": [
    "df_result.select(\"Distance\")"
   ]
  },
  {
   "cell_type": "code",
   "execution_count": null,
   "metadata": {},
   "outputs": [],
   "source": [
    "df_result.select(\"Distance\").distinct.show(213)"
   ]
  },
  {
   "cell_type": "markdown",
   "metadata": {},
   "source": [
    "#### 3. Bathroom"
   ]
  },
  {
   "cell_type": "code",
   "execution_count": null,
   "metadata": {},
   "outputs": [],
   "source": [
    "df_result.filter(\"Bathroom IS NULL\").count()"
   ]
  },
  {
   "cell_type": "code",
   "execution_count": null,
   "metadata": {},
   "outputs": [],
   "source": [
    "df_result= df_result.filter(!df_result(\"Bathroom\").isNull)\n",
    "df_result.select(\"Bathroom\").distinct.show()"
   ]
  },
  {
   "cell_type": "markdown",
   "metadata": {},
   "source": [
    "#### 4. Car"
   ]
  },
  {
   "cell_type": "code",
   "execution_count": null,
   "metadata": {},
   "outputs": [],
   "source": [
    "df.filter(\"Car IS NULL\").count()"
   ]
  },
  {
   "cell_type": "code",
   "execution_count": null,
   "metadata": {},
   "outputs": [],
   "source": [
    "df_result.select(\"Car\").distinct.show()"
   ]
  },
  {
   "cell_type": "code",
   "execution_count": null,
   "metadata": {},
   "outputs": [],
   "source": [
    "df_result= df_result.filter(!df_result(\"Car\").isNull)\n",
    "df_result.select(\"Car\").distinct.show()"
   ]
  },
  {
   "cell_type": "markdown",
   "metadata": {},
   "source": [
    "#### 5. Landsize"
   ]
  },
  {
   "cell_type": "code",
   "execution_count": null,
   "metadata": {},
   "outputs": [],
   "source": [
    "df_result.filter(\"Landsize IS NULL\").count()"
   ]
  },
  {
   "cell_type": "code",
   "execution_count": null,
   "metadata": {},
   "outputs": [],
   "source": [
    "df_result.select(\"Landsize\").distinct.count()"
   ]
  },
  {
   "cell_type": "code",
   "execution_count": null,
   "metadata": {},
   "outputs": [],
   "source": [
    "df_result= df_result.filter(!df_result(\"Landsize\").isNull)\n",
    "df_result.select(\"Landsize\").distinct.count()"
   ]
  },
  {
   "cell_type": "markdown",
   "metadata": {},
   "source": [
    "#### 6. BuildingArea"
   ]
  },
  {
   "cell_type": "code",
   "execution_count": null,
   "metadata": {},
   "outputs": [],
   "source": [
    "df_result.filter(\"BuildingArea IS NULL\").count()"
   ]
  },
  {
   "cell_type": "code",
   "execution_count": null,
   "metadata": {},
   "outputs": [],
   "source": [
    "df_result.select(\"BuildingArea\").distinct.count()"
   ]
  },
  {
   "cell_type": "code",
   "execution_count": null,
   "metadata": {},
   "outputs": [],
   "source": [
    "df_result= df_result.filter(!df_result(\"BuildingArea\").isNull)\n",
    "df_result.select(\"BuildingArea\").distinct.show(640)"
   ]
  },
  {
   "cell_type": "code",
   "execution_count": null,
   "metadata": {},
   "outputs": [],
   "source": [
    "df_result.count"
   ]
  },
  {
   "cell_type": "markdown",
   "metadata": {},
   "source": [
    "#### 7. Propertycount"
   ]
  },
  {
   "cell_type": "code",
   "execution_count": null,
   "metadata": {},
   "outputs": [],
   "source": [
    "df_result.filter(\"Propertycount IS NULL\").count()"
   ]
  },
  {
   "cell_type": "code",
   "execution_count": null,
   "metadata": {},
   "outputs": [],
   "source": [
    "df_result.select(\"BuildingArea\").distinct.count()"
   ]
  },
  {
   "cell_type": "code",
   "execution_count": null,
   "metadata": {},
   "outputs": [],
   "source": [
    "df_result.select(\"Propertycount\").distinct.show(639)"
   ]
  },
  {
   "cell_type": "code",
   "execution_count": null,
   "metadata": {},
   "outputs": [],
   "source": [
    "df_result.describe().select(\"summary\",\"Price\", \"Rooms\",\"Distance\",\"Bathroom\",\"Car\").show()"
   ]
  },
  {
   "cell_type": "code",
   "execution_count": null,
   "metadata": {},
   "outputs": [],
   "source": [
    "df_result.describe().select(\"summary\",\"Landsize\",\"Propertycount\").show()"
   ]
  },
  {
   "cell_type": "code",
   "execution_count": null,
   "metadata": {},
   "outputs": [],
   "source": [
    "df_result.count()"
   ]
  },
  {
   "cell_type": "code",
   "execution_count": null,
   "metadata": {},
   "outputs": [],
   "source": [
    "df_result.filter(df_result.isNull)"
   ]
  },
  {
   "cell_type": "markdown",
   "metadata": {},
   "source": [
    "#### Filtering null values"
   ]
  },
  {
   "cell_type": "code",
   "execution_count": null,
   "metadata": {},
   "outputs": [],
   "source": [
    "val df_not_null = df_result.na.drop\n",
    "df_not_null.count()"
   ]
  },
  {
   "cell_type": "code",
   "execution_count": null,
   "metadata": {},
   "outputs": [],
   "source": [
    "df_not_null.printSchema()\n"
   ]
  },
  {
   "cell_type": "markdown",
   "metadata": {},
   "source": [
    "#### Imputing null values"
   ]
  },
  {
   "cell_type": "markdown",
   "metadata": {},
   "source": [
    "### Group By and  Aggregation"
   ]
  },
  {
   "cell_type": "code",
   "execution_count": null,
   "metadata": {},
   "outputs": [],
   "source": [
    "df_result.groupBy(\"Suburb\").agg(max(\"Price\")).show()"
   ]
  },
  {
   "cell_type": "code",
   "execution_count": null,
   "metadata": {},
   "outputs": [],
   "source": [
    "df_result.groupBy(\"Suburb\").agg(min(\"Price\")).show()"
   ]
  },
  {
   "cell_type": "code",
   "execution_count": null,
   "metadata": {},
   "outputs": [],
   "source": [
    "df_result.groupBy(\"Distance\").agg(round(mean(\"Price\"),0)).show()"
   ]
  },
  {
   "cell_type": "markdown",
   "metadata": {},
   "source": [
    "### Correlation\n",
    " <span style=\"font-size:16pt;color: red\">TO DO: FIND OUT CORRELATIONS between theses attributes </span> .\n",
    "\n",
    "Rooms:\n",
    "|-- Price:\n",
    "|-- Distance:\n",
    "|-- Rooms:\n",
    "|-- Bathroom:\n",
    "|-- Car:\n",
    "|-- Landsize:\n",
    "|-- BuildingArea:\n",
    "|-- YearBuilt:"
   ]
  },
  {
   "cell_type": "code",
   "execution_count": null,
   "metadata": {},
   "outputs": [],
   "source": [
    "import org.apache.spark.sql.functions.corr\n",
    "df_result.select(corr(\"Distance\",\"Price\")).show()"
   ]
  },
  {
   "cell_type": "code",
   "execution_count": null,
   "metadata": {},
   "outputs": [],
   "source": [
    "df_result.select(corr(\"Rooms\",\"Price\")).show()"
   ]
  },
  {
   "cell_type": "code",
   "execution_count": null,
   "metadata": {},
   "outputs": [],
   "source": [
    "df_result.select(corr(\"Bathroom\",\"Price\")).show()"
   ]
  },
  {
   "cell_type": "code",
   "execution_count": null,
   "metadata": {},
   "outputs": [],
   "source": [
    "df_result.select(corr(\"Car\",\"Price\")).show()"
   ]
  },
  {
   "cell_type": "code",
   "execution_count": null,
   "metadata": {},
   "outputs": [],
   "source": [
    "df_result.select(corr(\"BuildingArea\",\"Price\")).show()"
   ]
  },
  {
   "cell_type": "code",
   "execution_count": null,
   "metadata": {},
   "outputs": [],
   "source": [
    "df_result.select(corr(\"Landsize\",\"Price\")).show()"
   ]
  },
  {
   "cell_type": "code",
   "execution_count": null,
   "metadata": {},
   "outputs": [],
   "source": [
    "df_result.select(corr(\"Date\",\"Price\")).show()"
   ]
  },
  {
   "cell_type": "code",
   "execution_count": null,
   "metadata": {},
   "outputs": [],
   "source": [
    "df_result.select(corr(\"YearBuilt\",\"Price\")).show()"
   ]
  },
  {
   "cell_type": "code",
   "execution_count": null,
   "metadata": {},
   "outputs": [],
   "source": [
    "df_result.select(corr(\"Propertycount\",\"Price\")).show()"
   ]
  },
  {
   "cell_type": "markdown",
   "metadata": {},
   "source": [
    "### Select relevant features:"
   ]
  },
  {
   "cell_type": "code",
   "execution_count": null,
   "metadata": {},
   "outputs": [],
   "source": [
    "\n",
    "df_result = df_result.select(\"Price\",\"Method\",\"Type\",\"Distance\",\"Rooms\",\"Bathroom\",\"Car\",\"Landsize\",\"Propertycount\", \"Suburb\",\"Street\",\"Date\")"
   ]
  },
  {
   "cell_type": "markdown",
   "metadata": {},
   "source": [
    "#### Write down clean data:"
   ]
  },
  {
   "cell_type": "code",
   "execution_count": null,
   "metadata": {},
   "outputs": [],
   "source": [
    "! hadoop fs -mkdir -p /tmp/output"
   ]
  },
  {
   "cell_type": "code",
   "execution_count": null,
   "metadata": {},
   "outputs": [],
   "source": [
    "! hadoop fs -ls -R /tmp"
   ]
  },
  {
   "cell_type": "code",
   "execution_count": null,
   "metadata": {},
   "outputs": [],
   "source": [
    "df_result.coalesce(1).write.format(\"csv\").option(\"header\",\"true\").mode(\"overwrite\").option(\"sep\",\",\").save(\"hdfs://localhost:9000/tmp/output\")\n"
   ]
  },
  {
   "cell_type": "code",
   "execution_count": null,
   "metadata": {},
   "outputs": [],
   "source": [
    "df_result.coalesce(1).write.format(\"csv\").option(\"header\",\"true\").mode(\"overwrite\").csv(\"hdfs://localhost:9000/tmp/output\") "
   ]
  },
  {
   "cell_type": "code",
   "execution_count": null,
   "metadata": {},
   "outputs": [],
   "source": [
    "! hadoop fs -ls /tmp/output"
   ]
  },
  {
   "cell_type": "code",
   "execution_count": null,
   "metadata": {},
   "outputs": [],
   "source": [
    "!rm ./output.csv "
   ]
  },
  {
   "cell_type": "markdown",
   "metadata": {},
   "source": [
    "Save the clean data to disk"
   ]
  },
  {
   "cell_type": "code",
   "execution_count": null,
   "metadata": {},
   "outputs": [],
   "source": [
    "! hadoop fs -copyToLocal /tmp/output/\\*.csv./../data-clean/mh.csv"
   ]
  },
  {
   "cell_type": "markdown",
   "metadata": {},
   "source": [
    "## References\n",
    "\n",
    "Apache Spark (n.d.). _Spark Scala API (Scaladoc). Overview._ https://spark.apache.org/docs/latest/api/java/overview-summary.html\n",
    "\n",
    "Apache Spark (n.d.). _Basic Statistic._ https://spark.apache.org/docs/latest/ml-statistics.html\n",
    "\n",
    "Bahadoor N. (2020). _Spark Tutorials_ https://allaboutscala.com/big-data/spark/#dataframe-statistics-correlation\n",
    "\n",
    "Databricks. (2020). _Introduction to DataFrames - Scala._  https://docs.databricks.com/spark/latest/dataframes-datasets/introduction-to-dataframes-scala.html \n",
    "\n",
    "Grimaldi E. (2018). _Pandas vs. Spark: how to handle dataframes (Part II.)_  https://towardsdatascience.com/python-pandas-vs-scala-how-to-handle-dataframes-part-ii-d3e5efe8287d \n",
    "\n"
   ]
  },
  {
   "cell_type": "code",
   "execution_count": null,
   "metadata": {},
   "outputs": [],
   "source": []
  }
 ],
 "metadata": {
  "kernelspec": {
   "display_name": "spylon-kernel",
   "language": "scala",
   "name": "spylon-kernel"
  },
  "language_info": {
   "codemirror_mode": "text/x-scala",
   "file_extension": ".scala",
   "help_links": [
    {
     "text": "MetaKernel Magics",
     "url": "https://metakernel.readthedocs.io/en/latest/source/README.html"
    }
   ],
   "mimetype": "text/x-scala",
   "name": "scala",
   "pygments_lexer": "scala",
   "version": "0.4.1"
  }
 },
 "nbformat": 4,
 "nbformat_minor": 4
}
