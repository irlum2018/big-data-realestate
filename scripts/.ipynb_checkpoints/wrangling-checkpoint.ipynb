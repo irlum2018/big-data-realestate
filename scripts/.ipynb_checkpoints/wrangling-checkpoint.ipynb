{
 "cells": [
  {
   "cell_type": "code",
   "execution_count": null,
   "metadata": {},
   "outputs": [],
   "source": []
  },
  {
   "cell_type": "markdown",
   "metadata": {},
   "source": [
    "## Initialise Spark Session:"
   ]
  },
  {
   "cell_type": "code",
   "execution_count": 1,
   "metadata": {},
   "outputs": [
    {
     "data": {
      "text/plain": [
       "Intitializing Scala interpreter ..."
      ]
     },
     "metadata": {},
     "output_type": "display_data"
    },
    {
     "data": {
      "text/plain": [
       "Spark Web UI available at http://c8ed6e6c5b9e:4040\n",
       "SparkContext available as 'sc' (version = 2.4.5, master = local[*], app id = local-1589854407215)\n",
       "SparkSession available as 'spark'\n"
      ]
     },
     "metadata": {},
     "output_type": "display_data"
    },
    {
     "name": "stdout",
     "output_type": "stream",
     "text": [
      "2020-05-19 02:13:36,409 WARN  [Thread-4] sql.SparkSession$Builder (Logging.scala:logWarning(66)) - Using an existing SparkSession; some configuration may not take effect.\n"
     ]
    },
    {
     "data": {
      "text/plain": [
       "spark: org.apache.spark.sql.SparkSession = org.apache.spark.sql.SparkSession@2d9f5d49\n"
      ]
     },
     "execution_count": 1,
     "metadata": {},
     "output_type": "execute_result"
    }
   ],
   "source": [
    "val spark = org.apache.spark.sql.SparkSession.builder\n",
    "        .master(\"local\") \n",
    "        .appName(\"Spark CSV Reader\")\n",
    "        .getOrCreate;"
   ]
  },
  {
   "cell_type": "markdown",
   "metadata": {},
   "source": [
    "### Preparing HDFS"
   ]
  },
  {
   "cell_type": "code",
   "execution_count": 2,
   "metadata": {},
   "outputs": [
    {
     "name": "stdout",
     "output_type": "stream",
     "text": [
      "/home/sandpit/big-data-realestate/scripts\r\n",
      "\n"
     ]
    }
   ],
   "source": [
    "!pwd\n"
   ]
  },
  {
   "cell_type": "code",
   "execution_count": 3,
   "metadata": {},
   "outputs": [
    {
     "name": "stdout",
     "output_type": "stream",
     "text": [
      "34858\r\n",
      "\n"
     ]
    }
   ],
   "source": [
    "!cat ./../data-raw/Melbourne_housing_FULL.csv| wc -l"
   ]
  },
  {
   "cell_type": "code",
   "execution_count": 5,
   "metadata": {},
   "outputs": [
    {
     "name": "stdout",
     "output_type": "stream",
     "text": [
      "put: `/tmp/rs_in/mh.csv': File exists\n",
      "\n",
      "\n",
      "Found 3 items\n",
      "\n",
      "\n",
      "-rw-r--r--   1 root root    5018236 2020-05-15 05:20 /tmp/rs_in/mh.csv\n",
      "\n",
      "\n",
      "-rw-r--r--   1 root root     123637 2020-05-16 02:33 /tmp/rs_in/sales.csv\n",
      "\n",
      "\n",
      "-rw-r--r--   1 root root       5860 2020-05-19 00:12 /tmp/rs_in/test.csv\n",
      "\n",
      "\n"
     ]
    }
   ],
   "source": [
    "! hadoop fs -mkdir -p  /tmp/rs_in\n",
    "! hadoop fs -put   -p  ./../data-raw/Melbourne_housing_FULL.csv             /tmp/rs_in/mh.csv\n",
    "! hadoop fs -ls        /tmp/rs_in/"
   ]
  },
  {
   "cell_type": "code",
   "execution_count": 6,
   "metadata": {},
   "outputs": [
    {
     "name": "stdout",
     "output_type": "stream",
     "text": [
      "34858\r\n",
      "\n"
     ]
    }
   ],
   "source": [
    "!hadoop fs -cat /tmp/rs_in/mh.csv | wc -l"
   ]
  },
  {
   "cell_type": "markdown",
   "metadata": {},
   "source": [
    "### Get config info about hdfs:"
   ]
  },
  {
   "cell_type": "code",
   "execution_count": 7,
   "metadata": {},
   "outputs": [
    {
     "name": "stdout",
     "output_type": "stream",
     "text": [
      "hdfs://localhost:9000\r\n",
      "\n"
     ]
    }
   ],
   "source": [
    "!hdfs getconf -confKey fs.defaultFS"
   ]
  },
  {
   "cell_type": "code",
   "execution_count": 8,
   "metadata": {},
   "outputs": [
    {
     "data": {
      "text/plain": [
       "df: org.apache.spark.sql.DataFrame = [Suburb: string, Address: string ... 19 more fields]\n"
      ]
     },
     "execution_count": 8,
     "metadata": {},
     "output_type": "execute_result"
    }
   ],
   "source": [
    "val df = spark.read.format(\"csv\").option(\"header\", \"true\").load(\"hdfs://localhost:9000/tmp/rs_in/mh.csv\")"
   ]
  },
  {
   "cell_type": "markdown",
   "metadata": {},
   "source": [
    "### Print schema:"
   ]
  },
  {
   "cell_type": "code",
   "execution_count": 9,
   "metadata": {},
   "outputs": [
    {
     "name": "stdout",
     "output_type": "stream",
     "text": [
      "root\n",
      " |-- Suburb: string (nullable = true)\n",
      " |-- Address: string (nullable = true)\n",
      " |-- Rooms: string (nullable = true)\n",
      " |-- Type: string (nullable = true)\n",
      " |-- Price: string (nullable = true)\n",
      " |-- Method: string (nullable = true)\n",
      " |-- SellerG: string (nullable = true)\n",
      " |-- Date: string (nullable = true)\n",
      " |-- Distance: string (nullable = true)\n",
      " |-- Postcode: string (nullable = true)\n",
      " |-- Bedroom2: string (nullable = true)\n",
      " |-- Bathroom: string (nullable = true)\n",
      " |-- Car: string (nullable = true)\n",
      " |-- Landsize: string (nullable = true)\n",
      " |-- BuildingArea: string (nullable = true)\n",
      " |-- YearBuilt: string (nullable = true)\n",
      " |-- CouncilArea: string (nullable = true)\n",
      " |-- Lattitude: string (nullable = true)\n",
      " |-- Longtitude: string (nullable = true)\n",
      " |-- Regionname: string (nullable = true)\n",
      " |-- Propertycount: string (nullable = true)\n",
      "\n"
     ]
    }
   ],
   "source": [
    "df.printSchema()"
   ]
  },
  {
   "cell_type": "code",
   "execution_count": 10,
   "metadata": {},
   "outputs": [
    {
     "data": {
      "text/plain": [
       "res1: Array[String] = Array(Suburb, Address, Rooms, Type, Price, Method, SellerG, Date, Distance, Postcode, Bedroom2, Bathroom, Car, Landsize, BuildingArea, YearBuilt, CouncilArea, Lattitude, Longtitude, Regionname, Propertycount)\n"
      ]
     },
     "execution_count": 10,
     "metadata": {},
     "output_type": "execute_result"
    }
   ],
   "source": [
    "df.columns"
   ]
  },
  {
   "cell_type": "markdown",
   "metadata": {},
   "source": [
    "### Show column types:"
   ]
  },
  {
   "cell_type": "code",
   "execution_count": 11,
   "metadata": {},
   "outputs": [
    {
     "data": {
      "text/plain": [
       "res2: Array[(String, String)] = Array((Suburb,StringType), (Address,StringType), (Rooms,StringType), (Type,StringType), (Price,StringType), (Method,StringType), (SellerG,StringType), (Date,StringType), (Distance,StringType), (Postcode,StringType), (Bedroom2,StringType), (Bathroom,StringType), (Car,StringType), (Landsize,StringType), (BuildingArea,StringType), (YearBuilt,StringType), (CouncilArea,StringType), (Lattitude,StringType), (Longtitude,StringType), (Regionname,StringType), (Propertycount,StringType))\n"
      ]
     },
     "execution_count": 11,
     "metadata": {},
     "output_type": "execute_result"
    }
   ],
   "source": [
    "df.dtypes"
   ]
  },
  {
   "cell_type": "code",
   "execution_count": 12,
   "metadata": {},
   "outputs": [
    {
     "data": {
      "text/plain": [
       "res3: Array[(String, String)] = Array((Suburb,StringType))\n"
      ]
     },
     "execution_count": 12,
     "metadata": {},
     "output_type": "execute_result"
    }
   ],
   "source": [
    "df.dtypes.filter(colTup => colTup._1 == \"Suburb\")"
   ]
  },
  {
   "cell_type": "markdown",
   "metadata": {},
   "source": [
    "### Display first 12 columns:"
   ]
  },
  {
   "cell_type": "code",
   "execution_count": 13,
   "metadata": {},
   "outputs": [
    {
     "name": "stdout",
     "output_type": "stream",
     "text": [
      "+----------+-------------------+-----+----+-------+------+-------+---------+--------+--------+--------+----+\n",
      "|    Suburb|            Address|Rooms|Type|  Price|Method|SellerG|     Date|Distance|Postcode|Bathroom| Car|\n",
      "+----------+-------------------+-----+----+-------+------+-------+---------+--------+--------+--------+----+\n",
      "|Abbotsford|      68 Studley St|    2|   h|   null|    SS| Jellis|3/09/2016|     2.5|    3067|       1|   1|\n",
      "|Abbotsford|       85 Turner St|    2|   h|1480000|     S| Biggin|3/12/2016|     2.5|    3067|       1|   1|\n",
      "|Abbotsford|    25 Bloomburg St|    2|   h|1035000|     S| Biggin|4/02/2016|     2.5|    3067|       1|   0|\n",
      "|Abbotsford| 18/659 Victoria St|    3|   u|   null|    VB| Rounds|4/02/2016|     2.5|    3067|       2|   1|\n",
      "|Abbotsford|       5 Charles St|    3|   h|1465000|    SP| Biggin|4/03/2017|     2.5|    3067|       2|   0|\n",
      "|Abbotsford|   40 Federation La|    3|   h| 850000|    PI| Biggin|4/03/2017|     2.5|    3067|       2|   1|\n",
      "|Abbotsford|        55a Park St|    4|   h|1600000|    VB| Nelson|4/06/2016|     2.5|    3067|       1|   2|\n",
      "|Abbotsford|       16 Maugie St|    4|   h|   null|    SN| Nelson|6/08/2016|     2.5|    3067|       2|   2|\n",
      "|Abbotsford|       53 Turner St|    2|   h|   null|     S| Biggin|6/08/2016|     2.5|    3067|       1|   2|\n",
      "|Abbotsford|       99 Turner St|    2|   h|   null|     S|Collins|6/08/2016|     2.5|    3067|       2|   1|\n",
      "|Abbotsford|     129 Charles St|    2|   h| 941000|     S| Jellis|7/05/2016|     2.5|    3067|       1|   0|\n",
      "|Abbotsford|       124 Yarra St|    3|   h|1876000|     S| Nelson|7/05/2016|     2.5|    3067|       2|   0|\n",
      "|Abbotsford|121/56 Nicholson St|    2|   u|   null|    PI| Biggin|7/11/2016|     2.5|    3067|       2|   1|\n",
      "|Abbotsford|      17 Raphael St|    4|   h|   null|     W| Biggin|7/11/2016|     2.5|    3067|       2|   0|\n",
      "|Abbotsford|      98 Charles St|    2|   h|1636000|     S| Nelson|8/10/2016|     2.5|    3067|       1|   2|\n",
      "|Abbotsford|   217 Langridge St|    3|   h|1000000|     S| Jellis|8/10/2016|     2.5|    3067|    null|null|\n",
      "|Abbotsford|    18a Mollison St|    2|   t| 745000|     S| Jellis|8/10/2016|     2.5|    3067|    null|null|\n",
      "|Abbotsford| 6/241 Nicholson St|    1|   u| 300000|     S| Biggin|8/10/2016|     2.5|    3067|       1|   1|\n",
      "|Abbotsford|      10 Valiant St|    2|   h|1097000|     S| Biggin|8/10/2016|     2.5|    3067|       1|   2|\n",
      "|Abbotsford|403/609 Victoria St|    2|   u| 542000|     S| Dingle|8/10/2016|     2.5|    3067|    null|null|\n",
      "+----------+-------------------+-----+----+-------+------+-------+---------+--------+--------+--------+----+\n",
      "only showing top 20 rows\n",
      "\n"
     ]
    }
   ],
   "source": [
    "df.select(\"Suburb\",\"Address\",\"Rooms\",\"Type\",\"Price\",\"Method\",\"SellerG\",\"Date\",\"Distance\",\"Postcode\",\"Bathroom\",\"Car\").show()"
   ]
  },
  {
   "cell_type": "markdown",
   "metadata": {},
   "source": [
    "### Display last 8 columns:"
   ]
  },
  {
   "cell_type": "code",
   "execution_count": 14,
   "metadata": {},
   "outputs": [
    {
     "name": "stdout",
     "output_type": "stream",
     "text": [
      "+--------+------------+---------+------------------+---------+----------+--------------------+-------------+\n",
      "|Landsize|BuildingArea|YearBuilt|       CouncilArea|Lattitude|Longtitude|          Regionname|Propertycount|\n",
      "+--------+------------+---------+------------------+---------+----------+--------------------+-------------+\n",
      "|     126|        null|     null|Yarra City Council| -37.8014|  144.9958|Northern Metropol...|         4019|\n",
      "|     202|        null|     null|Yarra City Council| -37.7996|  144.9984|Northern Metropol...|         4019|\n",
      "|     156|          79|     1900|Yarra City Council| -37.8079|  144.9934|Northern Metropol...|         4019|\n",
      "|       0|        null|     null|Yarra City Council| -37.8114|  145.0116|Northern Metropol...|         4019|\n",
      "|     134|         150|     1900|Yarra City Council| -37.8093|  144.9944|Northern Metropol...|         4019|\n",
      "|      94|        null|     null|Yarra City Council| -37.7969|  144.9969|Northern Metropol...|         4019|\n",
      "|     120|         142|     2014|Yarra City Council| -37.8072|  144.9941|Northern Metropol...|         4019|\n",
      "|     400|         220|     2006|Yarra City Council| -37.7965|  144.9965|Northern Metropol...|         4019|\n",
      "|     201|        null|     1900|Yarra City Council| -37.7995|  144.9974|Northern Metropol...|         4019|\n",
      "|     202|        null|     1900|Yarra City Council| -37.7996|  144.9989|Northern Metropol...|         4019|\n",
      "+--------+------------+---------+------------------+---------+----------+--------------------+-------------+\n",
      "only showing top 10 rows\n",
      "\n"
     ]
    }
   ],
   "source": [
    "df.select(\"Landsize\",\"BuildingArea\",\"YearBuilt\",\"CouncilArea\",\"Lattitude\",\"Longtitude\",\"Regionname\",\"Propertycount\").show(10)"
   ]
  },
  {
   "cell_type": "markdown",
   "metadata": {},
   "source": [
    " <span style=\"font-size:16pt;color: red\">TO DO: write down null/not null; range of values; distinct for categorical and range and statistics for  for numerical             </span> .\n",
    "\n",
    "### Attributes\n",
    "#### Categorical:\n",
    "\n",
    " |-- Suburb:\n",
    " \n",
    " |-- Address: \n",
    " \n",
    " |-- Type: \n",
    " \n",
    " |-- Method:\n",
    " \n",
    " |-- SellerG: \n",
    " \n",
    " |-- Date: \n",
    " \n",
    " |-- CouncilArea:\n",
    " \n",
    " |-- Regionname:\n",
    " \n",
    "\n",
    "\n",
    "#### Numerical:\n",
    "\n",
    "|-- Rooms: \n",
    "\n",
    "|-- Price: \n",
    "\n",
    "|-- Distance: \n",
    "\n",
    "|-- Rooms:\n",
    "\n",
    "|-- Postcode: \n",
    "\n",
    "|-- Bedroom2:  <span style=\"font-size:16pt;color: red\">TO DO Shoud justify why were are dropping it</span> .\n",
    "\n",
    "|-- Bathroom: \n",
    "\n",
    "|-- Car: \n",
    "\n",
    "|-- Landsize: \n",
    "\n",
    "|-- BuildingArea: \n",
    "\n",
    "|-- YearBuilt: \n",
    "\n",
    "|-- Lattitude: \n",
    "\n",
    "|-- Longtitude: \n",
    "\n",
    "|-- Propertycount: <span style=\"font-size:16pt;color: red\">TO DO: what is property count?</span> .\n",
    "\n",
    " <span style=\"font-size:16pt;color: red\">TO DO: What are out attributes?</span> .\n"
   ]
  },
  {
   "cell_type": "markdown",
   "metadata": {},
   "source": [
    "### Filtering"
   ]
  },
  {
   "cell_type": "code",
   "execution_count": 15,
   "metadata": {},
   "outputs": [
    {
     "name": "stdout",
     "output_type": "stream",
     "text": [
      "+-----------------+-----+----+-------+------+---------+----------+--------+--------+--------+----+\n",
      "|          Address|Rooms|Type|  Price|Method|  SellerG|      Date|Distance|Postcode|Bathroom| Car|\n",
      "+-----------------+-----+----+-------+------+---------+----------+--------+--------+--------+----+\n",
      "|     7 Marbray Dr|    4|   h|   null|    SN|Harcourts| 1/07/2017|    16.7|    3150|       1|   2|\n",
      "|      24 Owens Av|    4|   h|1250000|     S|      Ray| 1/07/2017|    16.7|    3150|    null|null|\n",
      "|515 Springvale Rd|    3|   h|   null|    PI|      Ray| 1/07/2017|    16.7|    3150|       1|   2|\n",
      "| 22 Stableford Av|    3|   h|   null|     S|      Ray| 1/07/2017|    16.7|    3150|    null|null|\n",
      "|  28 Brentwood Dr|    5|   h|   null|    PI|      Ray| 3/06/2017|    16.7|    3150|       5|   2|\n",
      "|2/70 Leicester Av|    3|   t|   null|    SP|      LLC| 3/06/2017|    16.7|    3150|    null|null|\n",
      "|    38 Margate Cr|    3|   h|   null|    SN| Woodards| 3/06/2017|    16.7|    3150|    null|null|\n",
      "|    91 Orchard St|    4|   h|1750000|     S|Harcourts| 3/06/2017|    16.7|    3150|       1|   2|\n",
      "|     1/8 Short St|    2|   u|1100000|     S|      Ray| 3/06/2017|    16.7|    3150|       1|   1|\n",
      "|      20 The Rise|    4|   h|   null|     S|   Jellis| 3/06/2017|    16.7|    3150|       2|   2|\n",
      "|  6/22 Tulloch Gr|    3|   t|   null|    PN|Harcourts| 3/06/2017|    16.7|    3150|       2|   2|\n",
      "|   53 Campbell St|    3|   h|3056000|    PI|  VICProp|17/06/2017|    16.7|    3150|       2|   2|\n",
      "|      19 Crown St|    3|   h|   null|    PI|Harcourts|17/06/2017|    16.7|    3150|       2|   4|\n",
      "|   24 Florence St|    3|   h|1900000|    PI|Harcourts|17/06/2017|    16.7|    3150|       1|   0|\n",
      "|   2 Grevillia Ct|    4|   h|   null|    SN|   Biggin|17/06/2017|    16.7|    3150|       2|   2|\n",
      "|    57 Hinkler Rd|    3|   h|   null|    PI|   Biggin|17/06/2017|    16.7|    3150|       2|   0|\n",
      "|    7 Kinnoull Gr|    5|   h|2650000|    PI|   Jellis|17/06/2017|    16.7|    3150|       3|   2|\n",
      "|1/28 Leicester Av|    3|   u| 895000|     S|      Ray|17/06/2017|    16.7|    3150|    null|null|\n",
      "|     10 Lennox Av|    6|   h|1290000|     S|Harcourts|17/06/2017|    16.7|    3150|    null|null|\n",
      "|    39b Summit Cr|    5|   h|1125000|    PI| Woodards|17/06/2017|    16.7|    3150|    null|null|\n",
      "+-----------------+-----+----+-------+------+---------+----------+--------+--------+--------+----+\n",
      "only showing top 20 rows\n",
      "\n"
     ]
    }
   ],
   "source": [
    "df.filter($\"Suburb\"===\"Glen Waverley\").select(\"Address\",\"Rooms\",\"Type\",\"Price\",\"Method\",\"SellerG\",\"Date\",\"Distance\",\"Postcode\",\"Bathroom\",\"Car\").show()"
   ]
  },
  {
   "cell_type": "code",
   "execution_count": 16,
   "metadata": {},
   "outputs": [
    {
     "name": "stdout",
     "output_type": "stream",
     "text": [
      "+-------------------+-----+----+-------+------+-------+---------+--------+--------+--------+----+-------------+\n",
      "|            Address|Rooms|Type|  Price|Method|SellerG|     Date|Distance|Postcode|Bathroom| Car|Propertycount|\n",
      "+-------------------+-----+----+-------+------+-------+---------+--------+--------+--------+----+-------------+\n",
      "|      68 Studley St|    2|   h|   null|    SS| Jellis|3/09/2016|     2.5|    3067|       1|   1|         4019|\n",
      "|       85 Turner St|    2|   h|1480000|     S| Biggin|3/12/2016|     2.5|    3067|       1|   1|         4019|\n",
      "|    25 Bloomburg St|    2|   h|1035000|     S| Biggin|4/02/2016|     2.5|    3067|       1|   0|         4019|\n",
      "| 18/659 Victoria St|    3|   u|   null|    VB| Rounds|4/02/2016|     2.5|    3067|       2|   1|         4019|\n",
      "|       5 Charles St|    3|   h|1465000|    SP| Biggin|4/03/2017|     2.5|    3067|       2|   0|         4019|\n",
      "|   40 Federation La|    3|   h| 850000|    PI| Biggin|4/03/2017|     2.5|    3067|       2|   1|         4019|\n",
      "|        55a Park St|    4|   h|1600000|    VB| Nelson|4/06/2016|     2.5|    3067|       1|   2|         4019|\n",
      "|       16 Maugie St|    4|   h|   null|    SN| Nelson|6/08/2016|     2.5|    3067|       2|   2|         4019|\n",
      "|       53 Turner St|    2|   h|   null|     S| Biggin|6/08/2016|     2.5|    3067|       1|   2|         4019|\n",
      "|       99 Turner St|    2|   h|   null|     S|Collins|6/08/2016|     2.5|    3067|       2|   1|         4019|\n",
      "|     129 Charles St|    2|   h| 941000|     S| Jellis|7/05/2016|     2.5|    3067|       1|   0|         4019|\n",
      "|       124 Yarra St|    3|   h|1876000|     S| Nelson|7/05/2016|     2.5|    3067|       2|   0|         4019|\n",
      "|121/56 Nicholson St|    2|   u|   null|    PI| Biggin|7/11/2016|     2.5|    3067|       2|   1|         4019|\n",
      "|      17 Raphael St|    4|   h|   null|     W| Biggin|7/11/2016|     2.5|    3067|       2|   0|         4019|\n",
      "|      98 Charles St|    2|   h|1636000|     S| Nelson|8/10/2016|     2.5|    3067|       1|   2|         4019|\n",
      "|   217 Langridge St|    3|   h|1000000|     S| Jellis|8/10/2016|     2.5|    3067|    null|null|         4019|\n",
      "|    18a Mollison St|    2|   t| 745000|     S| Jellis|8/10/2016|     2.5|    3067|    null|null|         4019|\n",
      "| 6/241 Nicholson St|    1|   u| 300000|     S| Biggin|8/10/2016|     2.5|    3067|       1|   1|         4019|\n",
      "|      10 Valiant St|    2|   h|1097000|     S| Biggin|8/10/2016|     2.5|    3067|       1|   2|         4019|\n",
      "|403/609 Victoria St|    2|   u| 542000|     S| Dingle|8/10/2016|     2.5|    3067|    null|null|         4019|\n",
      "+-------------------+-----+----+-------+------+-------+---------+--------+--------+--------+----+-------------+\n",
      "only showing top 20 rows\n",
      "\n"
     ]
    }
   ],
   "source": [
    "df.where(\"Suburb = 'Abbotsford'\").select(\"Address\",\"Rooms\",\"Type\",\"Price\",\"Method\",\"SellerG\",\"Date\",\"Distance\",\"Postcode\",\"Bathroom\",\"Car\", \"Propertycount\").show()"
   ]
  },
  {
   "cell_type": "code",
   "execution_count": 17,
   "metadata": {},
   "outputs": [
    {
     "data": {
      "text/plain": [
       "res8: Long = 53\n"
      ]
     },
     "execution_count": 17,
     "metadata": {},
     "output_type": "execute_result"
    }
   ],
   "source": [
    "df.where(\"Price >1000000\").filter(\"Suburb = 'Abbotsford'\").select(\"Address\",\"Rooms\",\"Type\",\"Price\",\"Method\",\"SellerG\",\"Date\",\"Distance\",\"Postcode\",\"Bathroom\",\"Car\", \"Propertycount\").count()"
   ]
  },
  {
   "cell_type": "code",
   "execution_count": 18,
   "metadata": {},
   "outputs": [
    {
     "name": "stdout",
     "output_type": "stream",
     "text": [
      "+-------------------+-----+----+-------+------+--------+----------+--------+--------+--------+----+-------------+\n",
      "|            Address|Rooms|Type|  Price|Method| SellerG|      Date|Distance|Postcode|Bathroom| Car|Propertycount|\n",
      "+-------------------+-----+----+-------+------+--------+----------+--------+--------+--------+----+-------------+\n",
      "|       85 Turner St|    2|   h|1480000|     S|  Biggin| 3/12/2016|     2.5|    3067|       1|   1|         4019|\n",
      "|    25 Bloomburg St|    2|   h|1035000|     S|  Biggin| 4/02/2016|     2.5|    3067|       1|   0|         4019|\n",
      "|       5 Charles St|    3|   h|1465000|    SP|  Biggin| 4/03/2017|     2.5|    3067|       2|   0|         4019|\n",
      "|        55a Park St|    4|   h|1600000|    VB|  Nelson| 4/06/2016|     2.5|    3067|       1|   2|         4019|\n",
      "|       124 Yarra St|    3|   h|1876000|     S|  Nelson| 7/05/2016|     2.5|    3067|       2|   0|         4019|\n",
      "|      98 Charles St|    2|   h|1636000|     S|  Nelson| 8/10/2016|     2.5|    3067|       1|   2|         4019|\n",
      "|      10 Valiant St|    2|   h|1097000|     S|  Biggin| 8/10/2016|     2.5|    3067|       1|   2|         4019|\n",
      "|    40 Nicholson St|    3|   h|1350000|    VB|  Nelson|12/11/2016|     2.5|    3067|       2|   2|         4019|\n",
      "|         22 Park St|    4|   h|1985000|     S|  Biggin|12/11/2016|     2.5|    3067|    null|null|         4019|\n",
      "|      45 William St|    2|   h|1172500|     S|  Biggin|13/08/2016|     2.5|    3067|       1|   1|         4019|\n",
      "|      16 William St|    2|   h|1310000|     S|  Jellis|15/10/2016|     2.5|    3067|       1|   2|         4019|\n",
      "|        42 Henry St|    3|   h|1200000|     S|  Jellis|16/07/2016|     2.5|    3067|       2|   1|         4019|\n",
      "|        78 Yarra St|    3|   h|1176500|     S|  LITTLE|16/07/2016|     2.5|    3067|       1|   1|         4019|\n",
      "|    3/72 Charles St|    4|   h|1330000|    PI|     Kay|18/03/2017|     2.5|    3067|       2|   2|         4019|\n",
      "|138/56 Nicholson St|    3|   u|1090000|     S|  Jellis|18/03/2017|     2.5|    3067|       2|   2|         4019|\n",
      "|     52a William St|    2|   h|1100000|    PI|  Biggin|18/06/2016|     2.5|    3067|       2|   1|         4019|\n",
      "|         49 Park St|    2|   h|1315000|     S|Marshall|19/11/2016|     2.5|    3067|       1|   0|         4019|\n",
      "|   48 Abbotsford St|    3|   h|1447500|    PI|  Nelson|22/08/2016|     2.5|    3067|       3|   1|         4019|\n",
      "|        159 Park St|    2|   h|1135000|     S|  Nelson|22/08/2016|     2.5|    3067|       2|   2|         4019|\n",
      "|       31 Turner St|    4|   h|1542000|     S| Collins|24/09/2016|     2.5|    3067|       3|   1|         4019|\n",
      "+-------------------+-----+----+-------+------+--------+----------+--------+--------+--------+----+-------------+\n",
      "only showing top 20 rows\n",
      "\n"
     ]
    }
   ],
   "source": [
    "df.where(\"Price >1000000\").filter(\"Suburb = 'Abbotsford'\").select(\"Address\",\"Rooms\",\"Type\",\"Price\",\"Method\",\"SellerG\",\"Date\",\"Distance\",\"Postcode\",\"Bathroom\",\"Car\", \"Propertycount\").show()"
   ]
  },
  {
   "cell_type": "code",
   "execution_count": 19,
   "metadata": {},
   "outputs": [
    {
     "data": {
      "text/plain": [
       "res10: Array[org.apache.spark.sql.Row] = Array([Abbotsford,85 Turner St,2,h,1480000,S,Biggin,3/12/2016,2.5,3067,2,1,1,202,null,null,Yarra City Council,-37.7996,144.9984,Northern Metropolitan,4019], [Abbotsford,25 Bloomburg St,2,h,1035000,S,Biggin,4/02/2016,2.5,3067,2,1,0,156,79,1900,Yarra City Council,-37.8079,144.9934,Northern Metropolitan,4019], [Abbotsford,5 Charles St,3,h,1465000,SP,Biggin,4/03/2017,2.5,3067,3,2,0,134,150,1900,Yarra City Council,-37.8093,144.9944,Northern Metropolitan,4019], [Abbotsford,55a Park St,4,h,1600000,VB,Nelson,4/06/2016,2.5,3067,3,1,2,120,142,2014,Yarra City Council,-37.8072,144.9941,Northern Metropolitan,4019], [Abbotsford,124 Yarra St,3,h,1876000,S,Nelson,7/05/2016,2.5,3067,4,2,0,245,210,1910,Yarra City Council,-37.8024,144.9993,Northern Metropolitan,401..."
      ]
     },
     "execution_count": 19,
     "metadata": {},
     "output_type": "execute_result"
    }
   ],
   "source": [
    "df.where(\"Price >1000000\").filter(\"Suburb = 'Abbotsford'\").collect()"
   ]
  },
  {
   "cell_type": "markdown",
   "metadata": {},
   "source": [
    "#### Filtering null values"
   ]
  },
  {
   "cell_type": "code",
   "execution_count": 23,
   "metadata": {},
   "outputs": [
    {
     "data": {
      "text/plain": [
       "res14: Long = 7610\n"
      ]
     },
     "execution_count": 23,
     "metadata": {},
     "output_type": "execute_result"
    }
   ],
   "source": [
    "df.filter(df(\"Price\").isNull || df(\"Price\") === \"\" || df(\"Price\").isNaN).count()"
   ]
  },
  {
   "cell_type": "code",
   "execution_count": 39,
   "metadata": {},
   "outputs": [
    {
     "data": {
      "text/plain": [
       "res29: Long = 7610\n"
      ]
     },
     "execution_count": 39,
     "metadata": {},
     "output_type": "execute_result"
    }
   ],
   "source": [
    "df.filter(\"Price IS NULL\").count()"
   ]
  },
  {
   "cell_type": "code",
   "execution_count": 33,
   "metadata": {},
   "outputs": [
    {
     "name": "stdout",
     "output_type": "stream",
     "text": [
      "+----------------+-----+----+-------+------+--------+----------+--------+--------+--------+---+-------------+\n",
      "|         Address|Rooms|Type|  Price|Method| SellerG|      Date|Distance|Postcode|Bathroom|Car|Propertycount|\n",
      "+----------------+-----+----+-------+------+--------+----------+--------+--------+--------+---+-------------+\n",
      "| 25 Bloomburg St|    2|   h|1035000|     S|  Biggin| 4/02/2016|     2.5|    3067|       1|  0|         4019|\n",
      "|    5 Charles St|    3|   h|1465000|    SP|  Biggin| 4/03/2017|     2.5|    3067|       2|  0|         4019|\n",
      "|     55a Park St|    4|   h|1600000|    VB|  Nelson| 4/06/2016|     2.5|    3067|       1|  2|         4019|\n",
      "|    124 Yarra St|    3|   h|1876000|     S|  Nelson| 7/05/2016|     2.5|    3067|       2|  0|         4019|\n",
      "|   98 Charles St|    2|   h|1636000|     S|  Nelson| 8/10/2016|     2.5|    3067|       1|  2|         4019|\n",
      "|   10 Valiant St|    2|   h|1097000|     S|  Biggin| 8/10/2016|     2.5|    3067|       1|  2|         4019|\n",
      "| 40 Nicholson St|    3|   h|1350000|    VB|  Nelson|12/11/2016|     2.5|    3067|       2|  2|         4019|\n",
      "|   16 William St|    2|   h|1310000|     S|  Jellis|15/10/2016|     2.5|    3067|       1|  2|         4019|\n",
      "|     42 Henry St|    3|   h|1200000|     S|  Jellis|16/07/2016|     2.5|    3067|       2|  1|         4019|\n",
      "|     78 Yarra St|    3|   h|1176500|     S|  LITTLE|16/07/2016|     2.5|    3067|       1|  1|         4019|\n",
      "| 3/72 Charles St|    4|   h|1330000|    PI|     Kay|18/03/2017|     2.5|    3067|       2|  2|         4019|\n",
      "|  52a William St|    2|   h|1100000|    PI|  Biggin|18/06/2016|     2.5|    3067|       2|  1|         4019|\n",
      "|      49 Park St|    2|   h|1315000|     S|Marshall|19/11/2016|     2.5|    3067|       1|  0|         4019|\n",
      "|48 Abbotsford St|    3|   h|1447500|    PI|  Nelson|22/08/2016|     2.5|    3067|       3|  1|         4019|\n",
      "|     159 Park St|    2|   h|1135000|     S|  Nelson|22/08/2016|     2.5|    3067|       2|  2|         4019|\n",
      "|  60 Stafford St|    3|   h|1290000|     S|  Biggin|25/02/2017|     2.5|    3067|       1|  1|         4019|\n",
      "|   47 Studley St|    2|   h|1180000|     S|  Jellis|27/11/2016|     2.5|    3067|       1|  0|         4019|\n",
      "|     45 Yarra St|    3|   h|1195000|    SP|  Jellis|27/11/2016|     2.5|    3067|       2|  1|         4019|\n",
      "|200 Nicholson St|    2|   h|1012500|     S|  Nelson|28/05/2016|     2.5|    3067|       1|  0|         4019|\n",
      "|   27 Charles St|    2|   h|1030000|     S|  Biggin|30/07/2016|     2.5|    3067|       1|  1|         4019|\n",
      "+----------------+-----+----+-------+------+--------+----------+--------+--------+--------+---+-------------+\n",
      "only showing top 20 rows\n",
      "\n"
     ]
    }
   ],
   "source": [
    "df_filtered.where(\"Price >1000000\").filter(\"Suburb = 'Abbotsford'\").select(\"Address\",\"Rooms\",\"Type\",\"Price\",\"Method\",\"SellerG\",\"Date\",\"Distance\",\"Postcode\",\"Bathroom\",\"Car\", \"Propertycount\").show()"
   ]
  },
  {
   "cell_type": "code",
   "execution_count": 31,
   "metadata": {},
   "outputs": [
    {
     "name": "stdout",
     "output_type": "stream",
     "text": [
      "2020-05-19 02:28:50,936 WARN  [Thread-4] util.Utils (Logging.scala:logWarning(66)) - Truncated the string representation of a plan since it was too large. This behavior can be adjusted by setting 'spark.debug.maxToStringFields' in SparkEnv.conf.\n"
     ]
    },
    {
     "data": {
      "text/plain": [
       "res21: Long = 0\n"
      ]
     },
     "execution_count": 31,
     "metadata": {},
     "output_type": "execute_result"
    }
   ],
   "source": [
    "df_filtered.filter(df(\"Price\").isNull || df(\"Price\") === \"\" || df(\"Price\").isNaN).count()"
   ]
  },
  {
   "cell_type": "code",
   "execution_count": 36,
   "metadata": {},
   "outputs": [
    {
     "name": "stdout",
     "output_type": "stream",
     "text": [
      "+-------------------+-----+----+-----+------+-------+----------+--------+--------+--------+----+-------------+\n",
      "|            Address|Rooms|Type|Price|Method|SellerG|      Date|Distance|Postcode|Bathroom| Car|Propertycount|\n",
      "+-------------------+-----+----+-----+------+-------+----------+--------+--------+--------+----+-------------+\n",
      "|      68 Studley St|    2|   h| null|    SS| Jellis| 3/09/2016|     2.5|    3067|       1|   1|         4019|\n",
      "| 18/659 Victoria St|    3|   u| null|    VB| Rounds| 4/02/2016|     2.5|    3067|       2|   1|         4019|\n",
      "|       16 Maugie St|    4|   h| null|    SN| Nelson| 6/08/2016|     2.5|    3067|       2|   2|         4019|\n",
      "|       53 Turner St|    2|   h| null|     S| Biggin| 6/08/2016|     2.5|    3067|       1|   2|         4019|\n",
      "|       99 Turner St|    2|   h| null|     S|Collins| 6/08/2016|     2.5|    3067|       2|   1|         4019|\n",
      "|121/56 Nicholson St|    2|   u| null|    PI| Biggin| 7/11/2016|     2.5|    3067|       2|   1|         4019|\n",
      "|      17 Raphael St|    4|   h| null|     W| Biggin| 7/11/2016|     2.5|    3067|       2|   0|         4019|\n",
      "|          2 Rich St|    2|   h| null|    SP| Biggin|10/12/2016|     2.5|    3067|       1|   1|         4019|\n",
      "| 16/11 Nicholson St|    3|   u| null|    PI| Philip|16/04/2016|     2.5|    3067|       2|   2|         4019|\n",
      "|    16b Mollison St|    2|   h| null|    PI| Biggin|16/07/2016|     2.5|    3067|    null|null|         4019|\n",
      "+-------------------+-----+----+-----+------+-------+----------+--------+--------+--------+----+-------------+\n",
      "only showing top 10 rows\n",
      "\n"
     ]
    }
   ],
   "source": [
    "df.filter(\"Price IS NULL\").select(\"Address\",\"Rooms\",\"Type\",\"Price\",\"Method\",\"SellerG\",\"Date\",\"Distance\",\"Postcode\",\"Bathroom\",\"Car\", \"Propertycount\").show(10)"
   ]
  },
  {
   "cell_type": "code",
   "execution_count": null,
   "metadata": {},
   "outputs": [],
   "source": [
    "df.filter(\"Distance IS NULL\").count()"
   ]
  },
  {
   "cell_type": "code",
   "execution_count": 34,
   "metadata": {},
   "outputs": [
    {
     "data": {
      "text/plain": [
       "res24: Long = 8226\n"
      ]
     },
     "execution_count": 34,
     "metadata": {},
     "output_type": "execute_result"
    }
   ],
   "source": [
    "df.filter(df(\"Bathroom\").isNull || df(\"Bathroom\") === \"\" || df(\"Bathroom\").isNaN).count()"
   ]
  },
  {
   "cell_type": "code",
   "execution_count": 40,
   "metadata": {},
   "outputs": [
    {
     "data": {
      "text/plain": [
       "res30: Long = 8226\n"
      ]
     },
     "execution_count": 40,
     "metadata": {},
     "output_type": "execute_result"
    }
   ],
   "source": [
    "df.filter(\"Bathroom IS NULL\").count()"
   ]
  },
  {
   "cell_type": "code",
   "execution_count": 38,
   "metadata": {},
   "outputs": [
    {
     "data": {
      "text/plain": [
       "res28: Long = 0\n"
      ]
     },
     "execution_count": 38,
     "metadata": {},
     "output_type": "execute_result"
    }
   ],
   "source": [
    "df.filter(\"Rooms IS NULL\").count()"
   ]
  },
  {
   "cell_type": "code",
   "execution_count": 41,
   "metadata": {},
   "outputs": [
    {
     "data": {
      "text/plain": [
       "res31: Long = 8728\n"
      ]
     },
     "execution_count": 41,
     "metadata": {},
     "output_type": "execute_result"
    }
   ],
   "source": [
    "df.filter(\"Car IS NULL\").count()"
   ]
  },
  {
   "cell_type": "code",
   "execution_count": null,
   "metadata": {},
   "outputs": [],
   "source": [
    "df.filter(\"Landsize IS NULL\").count()"
   ]
  },
  {
   "cell_type": "code",
   "execution_count": null,
   "metadata": {},
   "outputs": [],
   "source": [
    "df.filter(\"BuildingArea IS NULL\").count()"
   ]
  },
  {
   "cell_type": "code",
   "execution_count": null,
   "metadata": {},
   "outputs": [],
   "source": [
    "df.filter(\"YearBuilt IS NULL\").count()"
   ]
  },
  {
   "cell_type": "code",
   "execution_count": 27,
   "metadata": {},
   "outputs": [
    {
     "data": {
      "text/plain": [
       "df_not_null: org.apache.spark.sql.DataFrame = [Suburb: string, Address: string ... 19 more fields]\n",
       "res17: Long = 8887\n"
      ]
     },
     "execution_count": 27,
     "metadata": {},
     "output_type": "execute_result"
    }
   ],
   "source": [
    "val df_not_null = df.na.drop\n",
    "df_not_null.count()"
   ]
  },
  {
   "cell_type": "code",
   "execution_count": 30,
   "metadata": {},
   "outputs": [
    {
     "name": "stdout",
     "output_type": "stream",
     "text": [
      "root\n",
      " |-- Suburb: string (nullable = true)\n",
      " |-- Address: string (nullable = true)\n",
      " |-- Rooms: string (nullable = true)\n",
      " |-- Type: string (nullable = true)\n",
      " |-- Price: string (nullable = true)\n",
      " |-- Method: string (nullable = true)\n",
      " |-- SellerG: string (nullable = true)\n",
      " |-- Date: string (nullable = true)\n",
      " |-- Distance: string (nullable = true)\n",
      " |-- Postcode: string (nullable = true)\n",
      " |-- Bedroom2: string (nullable = true)\n",
      " |-- Bathroom: string (nullable = true)\n",
      " |-- Car: string (nullable = true)\n",
      " |-- Landsize: string (nullable = true)\n",
      " |-- BuildingArea: string (nullable = true)\n",
      " |-- YearBuilt: string (nullable = true)\n",
      " |-- CouncilArea: string (nullable = true)\n",
      " |-- Lattitude: string (nullable = true)\n",
      " |-- Longtitude: string (nullable = true)\n",
      " |-- Regionname: string (nullable = true)\n",
      " |-- Propertycount: string (nullable = true)\n",
      "\n"
     ]
    },
    {
     "data": {
      "text/plain": [
       "df_filtered: org.apache.spark.sql.Dataset[org.apache.spark.sql.Row] = [Suburb: string, Address: string ... 19 more fields]\n"
      ]
     },
     "execution_count": 30,
     "metadata": {},
     "output_type": "execute_result"
    }
   ],
   "source": [
    "val df_filtered = df.filter(row => !row.anyNull);\n",
    "df_filtered.printSchema()\n"
   ]
  },
  {
   "cell_type": "code",
   "execution_count": 32,
   "metadata": {},
   "outputs": [
    {
     "data": {
      "text/plain": [
       "res22: Long = 8887\n"
      ]
     },
     "execution_count": 32,
     "metadata": {},
     "output_type": "execute_result"
    }
   ],
   "source": [
    "df_filtered.count()"
   ]
  },
  {
   "cell_type": "markdown",
   "metadata": {},
   "source": [
    "#### Imputing null values"
   ]
  },
  {
   "cell_type": "code",
   "execution_count": null,
   "metadata": {},
   "outputs": [],
   "source": [
    "var df_imp = df.na.fill(\"N/A\")"
   ]
  },
  {
   "cell_type": "markdown",
   "metadata": {},
   "source": [
    "### Renaming Columns"
   ]
  },
  {
   "cell_type": "markdown",
   "metadata": {},
   "source": [
    "### Group By and  Aggregation"
   ]
  },
  {
   "cell_type": "code",
   "execution_count": null,
   "metadata": {},
   "outputs": [],
   "source": [
    "import org.apache.spark.sql.functions.*\n",
    "df.groupBy(\"Suburb\").agg(max(\"Price\")).show()"
   ]
  },
  {
   "cell_type": "code",
   "execution_count": null,
   "metadata": {},
   "outputs": [],
   "source": [
    "df.groupBy(\"Suburb\").agg(min(\"Price\")).show()"
   ]
  },
  {
   "cell_type": "code",
   "execution_count": null,
   "metadata": {},
   "outputs": [],
   "source": [
    "df.groupBy(\"Distance\").agg(median(\"Price\")).show()"
   ]
  },
  {
   "cell_type": "markdown",
   "metadata": {},
   "source": [
    "### Correlation\n",
    " <span style=\"font-size:16pt;color: red\">TO DO: FIND OUT CORRELATIONS between theses attributes </span> .\n",
    "\n",
    "Rooms:\n",
    "|-- Price:\n",
    "|-- Distance:\n",
    "|-- Rooms:\n",
    "|-- Bathroom:\n",
    "|-- Car:\n",
    "|-- Landsize:\n",
    "|-- BuildingArea:\n",
    "|-- YearBuilt:"
   ]
  },
  {
   "cell_type": "code",
   "execution_count": null,
   "metadata": {},
   "outputs": [],
   "source": [
    "import org.apache.spark.sql.functions.corr\n",
    "df.select(corr(\"Distance\",\"Price\")).show()"
   ]
  },
  {
   "cell_type": "code",
   "execution_count": null,
   "metadata": {},
   "outputs": [],
   "source": [
    "df.select(corr(\"Rooms\",\"Price\")).show()"
   ]
  },
  {
   "cell_type": "code",
   "execution_count": null,
   "metadata": {},
   "outputs": [],
   "source": [
    "df.select(corr(\"Landsize\",\"Price\")).show()"
   ]
  },
  {
   "cell_type": "code",
   "execution_count": null,
   "metadata": {},
   "outputs": [],
   "source": [
    "df.select(corr(\"Bathroom\",\"Price\")).show()"
   ]
  },
  {
   "cell_type": "code",
   "execution_count": null,
   "metadata": {},
   "outputs": [],
   "source": [
    "df.select(corr(\"Car\",\"Price\")).show()"
   ]
  },
  {
   "cell_type": "code",
   "execution_count": null,
   "metadata": {},
   "outputs": [],
   "source": [
    "df.select(corr(\"YearBuilt\",\"Price\")).show()"
   ]
  },
  {
   "cell_type": "code",
   "execution_count": null,
   "metadata": {},
   "outputs": [],
   "source": [
    "df.select(corr(\"BuildingArea\",\"Price\")).show()"
   ]
  },
  {
   "cell_type": "code",
   "execution_count": null,
   "metadata": {},
   "outputs": [],
   "source": [
    "import org.apache.spark.ml.stat.Summarizer\n",
    "val (meanVal, varianceVal) = df.select(metrics(\"mean\", \"variance\")\n",
    "  .summary($\"Price\").as(\"summary\"))\n",
    "  .select(\"summary.mean\", \"summary.variance\")\n",
    "  .as[(Vector, Vector)].first()\n",
    "\n",
    "println(s\"with weight: mean = ${meanVal}, variance = ${varianceVal}\")\n"
   ]
  },
  {
   "cell_type": "markdown",
   "metadata": {},
   "source": [
    "## References\n",
    "\n",
    "Apache Spark (n.d.). _Spark Scala API (Scaladoc). Overview._ https://spark.apache.org/docs/latest/api/java/overview-summary.html\n",
    "\n",
    "Apache Spark (n.d.). _Basic Statistic._ https://spark.apache.org/docs/latest/ml-statistics.html\n",
    "\n",
    "Bahadoor N. (2020). _Spark Tutorials_ https://allaboutscala.com/big-data/spark/#dataframe-statistics-correlation\n",
    "\n",
    "Databricks. (2020). _Introduction to DataFrames - Scala._  https://docs.databricks.com/spark/latest/dataframes-datasets/introduction-to-dataframes-scala.html \n",
    "\n",
    "Grimaldi E. (2018). _Pandas vs. Spark: how to handle dataframes (Part II.)_  https://towardsdatascience.com/python-pandas-vs-scala-how-to-handle-dataframes-part-ii-d3e5efe8287d \n",
    "\n"
   ]
  },
  {
   "cell_type": "code",
   "execution_count": null,
   "metadata": {},
   "outputs": [],
   "source": []
  }
 ],
 "metadata": {
  "kernelspec": {
   "display_name": "spylon-kernel",
   "language": "scala",
   "name": "spylon-kernel"
  },
  "language_info": {
   "codemirror_mode": "text/x-scala",
   "file_extension": ".scala",
   "help_links": [
    {
     "text": "MetaKernel Magics",
     "url": "https://metakernel.readthedocs.io/en/latest/source/README.html"
    }
   ],
   "mimetype": "text/x-scala",
   "name": "scala",
   "pygments_lexer": "scala",
   "version": "0.4.1"
  }
 },
 "nbformat": 4,
 "nbformat_minor": 4
}
