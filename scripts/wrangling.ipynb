{
 "cells": [
  {
   "cell_type": "code",
   "execution_count": null,
   "metadata": {},
   "outputs": [],
   "source": []
  },
  {
   "cell_type": "markdown",
   "metadata": {},
   "source": [
    "## Initialise Spark Session:"
   ]
  },
  {
   "cell_type": "code",
   "execution_count": 1,
   "metadata": {},
   "outputs": [
    {
     "data": {
      "text/plain": [
       "Intitializing Scala interpreter ..."
      ]
     },
     "metadata": {},
     "output_type": "display_data"
    },
    {
     "data": {
      "text/plain": [
       "Spark Web UI available at http://356e2a7fd1b6:4040\n",
       "SparkContext available as 'sc' (version = 2.4.5, master = local[*], app id = local-1590037845952)\n",
       "SparkSession available as 'spark'\n"
      ]
     },
     "metadata": {},
     "output_type": "display_data"
    },
    {
     "name": "stdout",
     "output_type": "stream",
     "text": [
      "2020-05-21 05:10:52,757 WARN  [Thread-4] sql.SparkSession$Builder (Logging.scala:logWarning(66)) - Using an existing SparkSession; some configuration may not take effect.\n"
     ]
    },
    {
     "data": {
      "text/plain": [
       "spark: org.apache.spark.sql.SparkSession = org.apache.spark.sql.SparkSession@274abeea\n"
      ]
     },
     "execution_count": 1,
     "metadata": {},
     "output_type": "execute_result"
    }
   ],
   "source": [
    "val spark = org.apache.spark.sql.SparkSession.builder\n",
    "        .master(\"local\") \n",
    "        .appName(\"Spark CSV Reader\")\n",
    "        .getOrCreate;"
   ]
  },
  {
   "cell_type": "markdown",
   "metadata": {},
   "source": [
    "### Preparing HDFS"
   ]
  },
  {
   "cell_type": "code",
   "execution_count": 2,
   "metadata": {},
   "outputs": [
    {
     "name": "stdout",
     "output_type": "stream",
     "text": [
      "/home/sandpit/big-data-realestate/scripts\r\n",
      "\n"
     ]
    }
   ],
   "source": [
    "!pwd\n"
   ]
  },
  {
   "cell_type": "code",
   "execution_count": 3,
   "metadata": {},
   "outputs": [
    {
     "name": "stdout",
     "output_type": "stream",
     "text": [
      "34858\r\n",
      "\n"
     ]
    }
   ],
   "source": [
    "!cat ./../data-raw/Melbourne_housing_FULL.csv| wc -l"
   ]
  },
  {
   "cell_type": "code",
   "execution_count": 4,
   "metadata": {},
   "outputs": [
    {
     "name": "stdout",
     "output_type": "stream",
     "text": [
      "put: `/tmp/rs_in/mh.csv': File exists\n",
      "\n",
      "\n",
      "Found 1 items\n",
      "\n",
      "\n",
      "-rw-r--r--   1 root root    5018236 2020-05-15 05:20 /tmp/rs_in/mh.csv\n",
      "\n",
      "\n"
     ]
    }
   ],
   "source": [
    "! hadoop fs -mkdir -p  /tmp/rs_in\n",
    "! hadoop fs -put   -p  ./../data-raw/Melbourne_housing_FULL.csv             /tmp/rs_in/mh.csv\n",
    "! hadoop fs -ls        /tmp/rs_in/"
   ]
  },
  {
   "cell_type": "code",
   "execution_count": 5,
   "metadata": {},
   "outputs": [
    {
     "name": "stdout",
     "output_type": "stream",
     "text": [
      "34858\r\n",
      "\n"
     ]
    }
   ],
   "source": [
    "!hadoop fs -cat /tmp/rs_in/mh.csv | wc -l"
   ]
  },
  {
   "cell_type": "markdown",
   "metadata": {},
   "source": [
    "### Get config info about hdfs:"
   ]
  },
  {
   "cell_type": "code",
   "execution_count": 6,
   "metadata": {},
   "outputs": [
    {
     "name": "stdout",
     "output_type": "stream",
     "text": [
      "hdfs://localhost:9000\r\n",
      "\n"
     ]
    }
   ],
   "source": [
    "!hdfs getconf -confKey fs.defaultFS"
   ]
  },
  {
   "cell_type": "code",
   "execution_count": 7,
   "metadata": {},
   "outputs": [
    {
     "data": {
      "text/plain": [
       "df: org.apache.spark.sql.DataFrame = [Suburb: string, Address: string ... 19 more fields]\n"
      ]
     },
     "execution_count": 7,
     "metadata": {},
     "output_type": "execute_result"
    }
   ],
   "source": [
    "val df = spark.read.format(\"csv\").option(\"header\", \"true\").load(\"hdfs://localhost:9000/tmp/rs_in/mh.csv\")"
   ]
  },
  {
   "cell_type": "markdown",
   "metadata": {},
   "source": [
    "### Print schema:"
   ]
  },
  {
   "cell_type": "code",
   "execution_count": 8,
   "metadata": {},
   "outputs": [
    {
     "name": "stdout",
     "output_type": "stream",
     "text": [
      "root\n",
      " |-- Suburb: string (nullable = true)\n",
      " |-- Address: string (nullable = true)\n",
      " |-- Rooms: string (nullable = true)\n",
      " |-- Type: string (nullable = true)\n",
      " |-- Price: string (nullable = true)\n",
      " |-- Method: string (nullable = true)\n",
      " |-- SellerG: string (nullable = true)\n",
      " |-- Date: string (nullable = true)\n",
      " |-- Distance: string (nullable = true)\n",
      " |-- Postcode: string (nullable = true)\n",
      " |-- Bedroom2: string (nullable = true)\n",
      " |-- Bathroom: string (nullable = true)\n",
      " |-- Car: string (nullable = true)\n",
      " |-- Landsize: string (nullable = true)\n",
      " |-- BuildingArea: string (nullable = true)\n",
      " |-- YearBuilt: string (nullable = true)\n",
      " |-- CouncilArea: string (nullable = true)\n",
      " |-- Lattitude: string (nullable = true)\n",
      " |-- Longtitude: string (nullable = true)\n",
      " |-- Regionname: string (nullable = true)\n",
      " |-- Propertycount: string (nullable = true)\n",
      "\n"
     ]
    }
   ],
   "source": [
    "df.printSchema()"
   ]
  },
  {
   "cell_type": "code",
   "execution_count": 9,
   "metadata": {},
   "outputs": [
    {
     "data": {
      "text/plain": [
       "res1: Array[String] = Array(Suburb, Address, Rooms, Type, Price, Method, SellerG, Date, Distance, Postcode, Bedroom2, Bathroom, Car, Landsize, BuildingArea, YearBuilt, CouncilArea, Lattitude, Longtitude, Regionname, Propertycount)\n"
      ]
     },
     "execution_count": 9,
     "metadata": {},
     "output_type": "execute_result"
    }
   ],
   "source": [
    "df.columns"
   ]
  },
  {
   "cell_type": "markdown",
   "metadata": {},
   "source": [
    "### Show column types:"
   ]
  },
  {
   "cell_type": "code",
   "execution_count": 10,
   "metadata": {},
   "outputs": [
    {
     "data": {
      "text/plain": [
       "res2: Array[(String, String)] = Array((Suburb,StringType), (Address,StringType), (Rooms,StringType), (Type,StringType), (Price,StringType), (Method,StringType), (SellerG,StringType), (Date,StringType), (Distance,StringType), (Postcode,StringType), (Bedroom2,StringType), (Bathroom,StringType), (Car,StringType), (Landsize,StringType), (BuildingArea,StringType), (YearBuilt,StringType), (CouncilArea,StringType), (Lattitude,StringType), (Longtitude,StringType), (Regionname,StringType), (Propertycount,StringType))\n"
      ]
     },
     "execution_count": 10,
     "metadata": {},
     "output_type": "execute_result"
    }
   ],
   "source": [
    "df.dtypes"
   ]
  },
  {
   "cell_type": "code",
   "execution_count": 11,
   "metadata": {},
   "outputs": [
    {
     "data": {
      "text/plain": [
       "res3: Array[(String, String)] = Array((Suburb,StringType))\n"
      ]
     },
     "execution_count": 11,
     "metadata": {},
     "output_type": "execute_result"
    }
   ],
   "source": [
    "df.dtypes.filter(colTup => colTup._1 == \"Suburb\")"
   ]
  },
  {
   "cell_type": "markdown",
   "metadata": {},
   "source": [
    "### Display first 12 columns:"
   ]
  },
  {
   "cell_type": "code",
   "execution_count": 12,
   "metadata": {},
   "outputs": [
    {
     "name": "stdout",
     "output_type": "stream",
     "text": [
      "+----------+-------------------+-----+----+-------+------+-------+---------+--------+--------+--------+----+\n",
      "|    Suburb|            Address|Rooms|Type|  Price|Method|SellerG|     Date|Distance|Postcode|Bathroom| Car|\n",
      "+----------+-------------------+-----+----+-------+------+-------+---------+--------+--------+--------+----+\n",
      "|Abbotsford|      68 Studley St|    2|   h|   null|    SS| Jellis|3/09/2016|     2.5|    3067|       1|   1|\n",
      "|Abbotsford|       85 Turner St|    2|   h|1480000|     S| Biggin|3/12/2016|     2.5|    3067|       1|   1|\n",
      "|Abbotsford|    25 Bloomburg St|    2|   h|1035000|     S| Biggin|4/02/2016|     2.5|    3067|       1|   0|\n",
      "|Abbotsford| 18/659 Victoria St|    3|   u|   null|    VB| Rounds|4/02/2016|     2.5|    3067|       2|   1|\n",
      "|Abbotsford|       5 Charles St|    3|   h|1465000|    SP| Biggin|4/03/2017|     2.5|    3067|       2|   0|\n",
      "|Abbotsford|   40 Federation La|    3|   h| 850000|    PI| Biggin|4/03/2017|     2.5|    3067|       2|   1|\n",
      "|Abbotsford|        55a Park St|    4|   h|1600000|    VB| Nelson|4/06/2016|     2.5|    3067|       1|   2|\n",
      "|Abbotsford|       16 Maugie St|    4|   h|   null|    SN| Nelson|6/08/2016|     2.5|    3067|       2|   2|\n",
      "|Abbotsford|       53 Turner St|    2|   h|   null|     S| Biggin|6/08/2016|     2.5|    3067|       1|   2|\n",
      "|Abbotsford|       99 Turner St|    2|   h|   null|     S|Collins|6/08/2016|     2.5|    3067|       2|   1|\n",
      "|Abbotsford|     129 Charles St|    2|   h| 941000|     S| Jellis|7/05/2016|     2.5|    3067|       1|   0|\n",
      "|Abbotsford|       124 Yarra St|    3|   h|1876000|     S| Nelson|7/05/2016|     2.5|    3067|       2|   0|\n",
      "|Abbotsford|121/56 Nicholson St|    2|   u|   null|    PI| Biggin|7/11/2016|     2.5|    3067|       2|   1|\n",
      "|Abbotsford|      17 Raphael St|    4|   h|   null|     W| Biggin|7/11/2016|     2.5|    3067|       2|   0|\n",
      "|Abbotsford|      98 Charles St|    2|   h|1636000|     S| Nelson|8/10/2016|     2.5|    3067|       1|   2|\n",
      "|Abbotsford|   217 Langridge St|    3|   h|1000000|     S| Jellis|8/10/2016|     2.5|    3067|    null|null|\n",
      "|Abbotsford|    18a Mollison St|    2|   t| 745000|     S| Jellis|8/10/2016|     2.5|    3067|    null|null|\n",
      "|Abbotsford| 6/241 Nicholson St|    1|   u| 300000|     S| Biggin|8/10/2016|     2.5|    3067|       1|   1|\n",
      "|Abbotsford|      10 Valiant St|    2|   h|1097000|     S| Biggin|8/10/2016|     2.5|    3067|       1|   2|\n",
      "|Abbotsford|403/609 Victoria St|    2|   u| 542000|     S| Dingle|8/10/2016|     2.5|    3067|    null|null|\n",
      "+----------+-------------------+-----+----+-------+------+-------+---------+--------+--------+--------+----+\n",
      "only showing top 20 rows\n",
      "\n"
     ]
    }
   ],
   "source": [
    "df.select(\"Suburb\",\"Address\",\"Rooms\",\"Type\",\"Price\",\"Method\",\"SellerG\",\"Date\",\"Distance\",\"Postcode\",\"Bathroom\",\"Car\").show()"
   ]
  },
  {
   "cell_type": "markdown",
   "metadata": {},
   "source": [
    "### Display last 8 columns:"
   ]
  },
  {
   "cell_type": "code",
   "execution_count": 13,
   "metadata": {},
   "outputs": [
    {
     "name": "stdout",
     "output_type": "stream",
     "text": [
      "+--------+------------+---------+------------------+---------+----------+--------------------+-------------+\n",
      "|Landsize|BuildingArea|YearBuilt|       CouncilArea|Lattitude|Longtitude|          Regionname|Propertycount|\n",
      "+--------+------------+---------+------------------+---------+----------+--------------------+-------------+\n",
      "|     126|        null|     null|Yarra City Council| -37.8014|  144.9958|Northern Metropol...|         4019|\n",
      "|     202|        null|     null|Yarra City Council| -37.7996|  144.9984|Northern Metropol...|         4019|\n",
      "|     156|          79|     1900|Yarra City Council| -37.8079|  144.9934|Northern Metropol...|         4019|\n",
      "|       0|        null|     null|Yarra City Council| -37.8114|  145.0116|Northern Metropol...|         4019|\n",
      "|     134|         150|     1900|Yarra City Council| -37.8093|  144.9944|Northern Metropol...|         4019|\n",
      "|      94|        null|     null|Yarra City Council| -37.7969|  144.9969|Northern Metropol...|         4019|\n",
      "|     120|         142|     2014|Yarra City Council| -37.8072|  144.9941|Northern Metropol...|         4019|\n",
      "|     400|         220|     2006|Yarra City Council| -37.7965|  144.9965|Northern Metropol...|         4019|\n",
      "|     201|        null|     1900|Yarra City Council| -37.7995|  144.9974|Northern Metropol...|         4019|\n",
      "|     202|        null|     1900|Yarra City Council| -37.7996|  144.9989|Northern Metropol...|         4019|\n",
      "+--------+------------+---------+------------------+---------+----------+--------------------+-------------+\n",
      "only showing top 10 rows\n",
      "\n"
     ]
    }
   ],
   "source": [
    "df.select(\"Landsize\",\"BuildingArea\",\"YearBuilt\",\"CouncilArea\",\"Lattitude\",\"Longtitude\",\"Regionname\",\"Propertycount\").show(10)"
   ]
  },
  {
   "cell_type": "code",
   "execution_count": 14,
   "metadata": {},
   "outputs": [
    {
     "name": "stdout",
     "output_type": "stream",
     "text": [
      "+-------+-----------------+------------------+------------------+------------------+------------------+\n",
      "|summary|            Price|             Rooms|          Distance|          Bathroom|               Car|\n",
      "+-------+-----------------+------------------+------------------+------------------+------------------+\n",
      "|  count|            27247|             34857|             34857|             26631|             26129|\n",
      "|   mean|1050173.344955408|3.0310124221820582|11.184929423916007| 1.624798167549097|1.7288453442535114|\n",
      "| stddev|641467.1301045999|0.9699329348975204| 6.788892455935938|0.7242120114699068|1.0107707853554244|\n",
      "|    min|          1000000|                 1|              #N/A|                 0|                 0|\n",
      "|    max|           999999|                 9|               9.9|                 9|                 9|\n",
      "+-------+-----------------+------------------+------------------+------------------+------------------+\n",
      "\n"
     ]
    }
   ],
   "source": [
    "df.describe().select(\"summary\",\"Price\", \"Rooms\",\"Distance\",\"Bathroom\",\"Car\").show()"
   ]
  },
  {
   "cell_type": "code",
   "execution_count": 15,
   "metadata": {},
   "outputs": [
    {
     "name": "stdout",
     "output_type": "stream",
     "text": [
      "+-------+-----------------+------------------+------------------+\n",
      "|summary|            Price|          Landsize|      BuildingArea|\n",
      "+-------+-----------------+------------------+------------------+\n",
      "|  count|            27247|             23047|             13742|\n",
      "|   mean|1050173.344955408|  593.598993361392| 160.2564003565711|\n",
      "| stddev|641467.1301045999|3398.8419464599056|401.26706008485496|\n",
      "|    min|          1000000|                 0|                 0|\n",
      "|    max|           999999|               999|               999|\n",
      "+-------+-----------------+------------------+------------------+\n",
      "\n"
     ]
    }
   ],
   "source": [
    "df.describe().select(\"summary\",\"Price\",\"Landsize\", \"BuildingArea\").show()"
   ]
  },
  {
   "cell_type": "code",
   "execution_count": null,
   "metadata": {},
   "outputs": [],
   "source": []
  },
  {
   "cell_type": "markdown",
   "metadata": {},
   "source": [
    "#### Change \"#N/A\" to null"
   ]
  },
  {
   "cell_type": "code",
   "execution_count": 16,
   "metadata": {},
   "outputs": [
    {
     "data": {
      "text/plain": [
       "df_result: org.apache.spark.sql.DataFrame = [Suburb: string, Address: string ... 19 more fields]\n"
      ]
     },
     "execution_count": 16,
     "metadata": {},
     "output_type": "execute_result"
    }
   ],
   "source": [
    "var df_result =df\n",
    "for (colName<-df.columns){ \n",
    "  df_result = df.withColumn(colName, when(trim(df(colName))===\"#N/A\",null).otherwise(df(colName)))\n",
    "  }"
   ]
  },
  {
   "cell_type": "code",
   "execution_count": 17,
   "metadata": {},
   "outputs": [
    {
     "name": "stdout",
     "output_type": "stream",
     "text": [
      "+-------+-----------------+------------------+------------------+------------------+------------------+\n",
      "|summary|            Price|             Rooms|          Distance|          Bathroom|               Car|\n",
      "+-------+-----------------+------------------+------------------+------------------+------------------+\n",
      "|  count|            27247|             34857|             34857|             26631|             26129|\n",
      "|   mean|1050173.344955408|3.0310124221820582|11.184929423916007| 1.624798167549097|1.7288453442535114|\n",
      "| stddev|641467.1301045999|0.9699329348975204| 6.788892455935938|0.7242120114699068|1.0107707853554244|\n",
      "|    min|          1000000|                 1|              #N/A|                 0|                 0|\n",
      "|    max|           999999|                 9|               9.9|                 9|                 9|\n",
      "+-------+-----------------+------------------+------------------+------------------+------------------+\n",
      "\n"
     ]
    }
   ],
   "source": [
    "df_result.describe().select(\"summary\",\"Price\", \"Rooms\",\"Distance\",\"Bathroom\",\"Car\").show()"
   ]
  },
  {
   "cell_type": "markdown",
   "metadata": {},
   "source": [
    "#### Convert numeric data represented as string into double "
   ]
  },
  {
   "cell_type": "code",
   "execution_count": 18,
   "metadata": {},
   "outputs": [
    {
     "data": {
      "text/plain": [
       "doubleColNames: Array[String] = Array(Price, Rooms, Bedroom2, Distance, Bathroom, Car, Landsize, BuildingArea, Propertycount, YearBuilt, Lattitude, Longtitude)\n"
      ]
     },
     "execution_count": 18,
     "metadata": {},
     "output_type": "execute_result"
    }
   ],
   "source": [
    "val doubleColNames = df_result.select(\"Price\", \"Rooms\",\"Bedroom2\",\"Distance\",\"Bathroom\",\"Car\", \"Landsize\", \"BuildingArea\",\"Propertycount\",\n",
    "               \"YearBuilt\",\"Lattitude\", \"Longtitude\").columns\n",
    "//val colNames =df.columns\n",
    "for (colName<-doubleColNames){ \n",
    "    df_result=df_result.withColumn(colName,col(colName).cast(\"Double\"))\n",
    "}"
   ]
  },
  {
   "cell_type": "code",
   "execution_count": 19,
   "metadata": {},
   "outputs": [
    {
     "name": "stdout",
     "output_type": "stream",
     "text": [
      "root\n",
      " |-- Suburb: string (nullable = true)\n",
      " |-- Address: string (nullable = true)\n",
      " |-- Rooms: double (nullable = true)\n",
      " |-- Type: string (nullable = true)\n",
      " |-- Price: double (nullable = true)\n",
      " |-- Method: string (nullable = true)\n",
      " |-- SellerG: string (nullable = true)\n",
      " |-- Date: string (nullable = true)\n",
      " |-- Distance: double (nullable = true)\n",
      " |-- Postcode: string (nullable = true)\n",
      " |-- Bedroom2: double (nullable = true)\n",
      " |-- Bathroom: double (nullable = true)\n",
      " |-- Car: double (nullable = true)\n",
      " |-- Landsize: double (nullable = true)\n",
      " |-- BuildingArea: double (nullable = true)\n",
      " |-- YearBuilt: double (nullable = true)\n",
      " |-- CouncilArea: string (nullable = true)\n",
      " |-- Lattitude: double (nullable = true)\n",
      " |-- Longtitude: double (nullable = true)\n",
      " |-- Regionname: string (nullable = true)\n",
      " |-- Propertycount: double (nullable = true)\n",
      "\n"
     ]
    }
   ],
   "source": [
    "df_result.printSchema()"
   ]
  },
  {
   "cell_type": "markdown",
   "metadata": {},
   "source": [
    "### Filtering"
   ]
  },
  {
   "cell_type": "code",
   "execution_count": 20,
   "metadata": {},
   "outputs": [
    {
     "name": "stdout",
     "output_type": "stream",
     "text": [
      "+-----------------+-----+----+---------+------+---------+----------+--------+--------+--------+----+\n",
      "|          Address|Rooms|Type|    Price|Method|  SellerG|      Date|Distance|Postcode|Bathroom| Car|\n",
      "+-----------------+-----+----+---------+------+---------+----------+--------+--------+--------+----+\n",
      "|     7 Marbray Dr|  4.0|   h|     null|    SN|Harcourts| 1/07/2017|    16.7|    3150|     1.0| 2.0|\n",
      "|      24 Owens Av|  4.0|   h|1250000.0|     S|      Ray| 1/07/2017|    16.7|    3150|    null|null|\n",
      "|515 Springvale Rd|  3.0|   h|     null|    PI|      Ray| 1/07/2017|    16.7|    3150|     1.0| 2.0|\n",
      "| 22 Stableford Av|  3.0|   h|     null|     S|      Ray| 1/07/2017|    16.7|    3150|    null|null|\n",
      "|  28 Brentwood Dr|  5.0|   h|     null|    PI|      Ray| 3/06/2017|    16.7|    3150|     5.0| 2.0|\n",
      "|2/70 Leicester Av|  3.0|   t|     null|    SP|      LLC| 3/06/2017|    16.7|    3150|    null|null|\n",
      "|    38 Margate Cr|  3.0|   h|     null|    SN| Woodards| 3/06/2017|    16.7|    3150|    null|null|\n",
      "|    91 Orchard St|  4.0|   h|1750000.0|     S|Harcourts| 3/06/2017|    16.7|    3150|     1.0| 2.0|\n",
      "|     1/8 Short St|  2.0|   u|1100000.0|     S|      Ray| 3/06/2017|    16.7|    3150|     1.0| 1.0|\n",
      "|      20 The Rise|  4.0|   h|     null|     S|   Jellis| 3/06/2017|    16.7|    3150|     2.0| 2.0|\n",
      "|  6/22 Tulloch Gr|  3.0|   t|     null|    PN|Harcourts| 3/06/2017|    16.7|    3150|     2.0| 2.0|\n",
      "|   53 Campbell St|  3.0|   h|3056000.0|    PI|  VICProp|17/06/2017|    16.7|    3150|     2.0| 2.0|\n",
      "|      19 Crown St|  3.0|   h|     null|    PI|Harcourts|17/06/2017|    16.7|    3150|     2.0| 4.0|\n",
      "|   24 Florence St|  3.0|   h|1900000.0|    PI|Harcourts|17/06/2017|    16.7|    3150|     1.0| 0.0|\n",
      "|   2 Grevillia Ct|  4.0|   h|     null|    SN|   Biggin|17/06/2017|    16.7|    3150|     2.0| 2.0|\n",
      "|    57 Hinkler Rd|  3.0|   h|     null|    PI|   Biggin|17/06/2017|    16.7|    3150|     2.0| 0.0|\n",
      "|    7 Kinnoull Gr|  5.0|   h|2650000.0|    PI|   Jellis|17/06/2017|    16.7|    3150|     3.0| 2.0|\n",
      "|1/28 Leicester Av|  3.0|   u| 895000.0|     S|      Ray|17/06/2017|    16.7|    3150|    null|null|\n",
      "|     10 Lennox Av|  6.0|   h|1290000.0|     S|Harcourts|17/06/2017|    16.7|    3150|    null|null|\n",
      "|    39b Summit Cr|  5.0|   h|1125000.0|    PI| Woodards|17/06/2017|    16.7|    3150|    null|null|\n",
      "+-----------------+-----+----+---------+------+---------+----------+--------+--------+--------+----+\n",
      "only showing top 20 rows\n",
      "\n"
     ]
    }
   ],
   "source": [
    "df_result.filter($\"Suburb\"===\"Glen Waverley\").select(\"Address\",\"Rooms\",\"Type\",\"Price\",\"Method\",\"SellerG\",\"Date\",\"Distance\",\"Postcode\",\"Bathroom\",\"Car\").show()"
   ]
  },
  {
   "cell_type": "code",
   "execution_count": 21,
   "metadata": {},
   "outputs": [
    {
     "name": "stdout",
     "output_type": "stream",
     "text": [
      "+-------------------+-----+----+---------+------+-------+---------+--------+--------+--------+----+-------------+\n",
      "|            Address|Rooms|Type|    Price|Method|SellerG|     Date|Distance|Postcode|Bathroom| Car|Propertycount|\n",
      "+-------------------+-----+----+---------+------+-------+---------+--------+--------+--------+----+-------------+\n",
      "|      68 Studley St|  2.0|   h|     null|    SS| Jellis|3/09/2016|     2.5|    3067|     1.0| 1.0|       4019.0|\n",
      "|       85 Turner St|  2.0|   h|1480000.0|     S| Biggin|3/12/2016|     2.5|    3067|     1.0| 1.0|       4019.0|\n",
      "|    25 Bloomburg St|  2.0|   h|1035000.0|     S| Biggin|4/02/2016|     2.5|    3067|     1.0| 0.0|       4019.0|\n",
      "| 18/659 Victoria St|  3.0|   u|     null|    VB| Rounds|4/02/2016|     2.5|    3067|     2.0| 1.0|       4019.0|\n",
      "|       5 Charles St|  3.0|   h|1465000.0|    SP| Biggin|4/03/2017|     2.5|    3067|     2.0| 0.0|       4019.0|\n",
      "|   40 Federation La|  3.0|   h| 850000.0|    PI| Biggin|4/03/2017|     2.5|    3067|     2.0| 1.0|       4019.0|\n",
      "|        55a Park St|  4.0|   h|1600000.0|    VB| Nelson|4/06/2016|     2.5|    3067|     1.0| 2.0|       4019.0|\n",
      "|       16 Maugie St|  4.0|   h|     null|    SN| Nelson|6/08/2016|     2.5|    3067|     2.0| 2.0|       4019.0|\n",
      "|       53 Turner St|  2.0|   h|     null|     S| Biggin|6/08/2016|     2.5|    3067|     1.0| 2.0|       4019.0|\n",
      "|       99 Turner St|  2.0|   h|     null|     S|Collins|6/08/2016|     2.5|    3067|     2.0| 1.0|       4019.0|\n",
      "|     129 Charles St|  2.0|   h| 941000.0|     S| Jellis|7/05/2016|     2.5|    3067|     1.0| 0.0|       4019.0|\n",
      "|       124 Yarra St|  3.0|   h|1876000.0|     S| Nelson|7/05/2016|     2.5|    3067|     2.0| 0.0|       4019.0|\n",
      "|121/56 Nicholson St|  2.0|   u|     null|    PI| Biggin|7/11/2016|     2.5|    3067|     2.0| 1.0|       4019.0|\n",
      "|      17 Raphael St|  4.0|   h|     null|     W| Biggin|7/11/2016|     2.5|    3067|     2.0| 0.0|       4019.0|\n",
      "|      98 Charles St|  2.0|   h|1636000.0|     S| Nelson|8/10/2016|     2.5|    3067|     1.0| 2.0|       4019.0|\n",
      "|   217 Langridge St|  3.0|   h|1000000.0|     S| Jellis|8/10/2016|     2.5|    3067|    null|null|       4019.0|\n",
      "|    18a Mollison St|  2.0|   t| 745000.0|     S| Jellis|8/10/2016|     2.5|    3067|    null|null|       4019.0|\n",
      "| 6/241 Nicholson St|  1.0|   u| 300000.0|     S| Biggin|8/10/2016|     2.5|    3067|     1.0| 1.0|       4019.0|\n",
      "|      10 Valiant St|  2.0|   h|1097000.0|     S| Biggin|8/10/2016|     2.5|    3067|     1.0| 2.0|       4019.0|\n",
      "|403/609 Victoria St|  2.0|   u| 542000.0|     S| Dingle|8/10/2016|     2.5|    3067|    null|null|       4019.0|\n",
      "+-------------------+-----+----+---------+------+-------+---------+--------+--------+--------+----+-------------+\n",
      "only showing top 20 rows\n",
      "\n"
     ]
    }
   ],
   "source": [
    "df_result.where(\"Suburb = 'Abbotsford'\").select(\"Address\",\"Rooms\",\"Type\",\"Price\",\"Method\",\"SellerG\",\"Date\",\"Distance\",\"Postcode\",\"Bathroom\",\"Car\", \"Propertycount\").show()"
   ]
  },
  {
   "cell_type": "code",
   "execution_count": 22,
   "metadata": {},
   "outputs": [
    {
     "data": {
      "text/plain": [
       "res14: Long = 53\n"
      ]
     },
     "execution_count": 22,
     "metadata": {},
     "output_type": "execute_result"
    }
   ],
   "source": [
    "df_result.where(\"Price >1000000\").filter(\"Suburb = 'Abbotsford'\").select(\"Address\",\"Rooms\",\"Type\",\"Price\",\"Method\",\"SellerG\",\"Date\",\"Distance\",\"Postcode\",\"Bathroom\",\"Car\", \"Propertycount\").count()"
   ]
  },
  {
   "cell_type": "code",
   "execution_count": 23,
   "metadata": {},
   "outputs": [
    {
     "name": "stdout",
     "output_type": "stream",
     "text": [
      "+-------------------+-----+----+---------+------+--------+----------+--------+--------+--------+----+-------------+\n",
      "|            Address|Rooms|Type|    Price|Method| SellerG|      Date|Distance|Postcode|Bathroom| Car|Propertycount|\n",
      "+-------------------+-----+----+---------+------+--------+----------+--------+--------+--------+----+-------------+\n",
      "|       85 Turner St|  2.0|   h|1480000.0|     S|  Biggin| 3/12/2016|     2.5|    3067|     1.0| 1.0|       4019.0|\n",
      "|    25 Bloomburg St|  2.0|   h|1035000.0|     S|  Biggin| 4/02/2016|     2.5|    3067|     1.0| 0.0|       4019.0|\n",
      "|       5 Charles St|  3.0|   h|1465000.0|    SP|  Biggin| 4/03/2017|     2.5|    3067|     2.0| 0.0|       4019.0|\n",
      "|        55a Park St|  4.0|   h|1600000.0|    VB|  Nelson| 4/06/2016|     2.5|    3067|     1.0| 2.0|       4019.0|\n",
      "|       124 Yarra St|  3.0|   h|1876000.0|     S|  Nelson| 7/05/2016|     2.5|    3067|     2.0| 0.0|       4019.0|\n",
      "|      98 Charles St|  2.0|   h|1636000.0|     S|  Nelson| 8/10/2016|     2.5|    3067|     1.0| 2.0|       4019.0|\n",
      "|      10 Valiant St|  2.0|   h|1097000.0|     S|  Biggin| 8/10/2016|     2.5|    3067|     1.0| 2.0|       4019.0|\n",
      "|    40 Nicholson St|  3.0|   h|1350000.0|    VB|  Nelson|12/11/2016|     2.5|    3067|     2.0| 2.0|       4019.0|\n",
      "|         22 Park St|  4.0|   h|1985000.0|     S|  Biggin|12/11/2016|     2.5|    3067|    null|null|       4019.0|\n",
      "|      45 William St|  2.0|   h|1172500.0|     S|  Biggin|13/08/2016|     2.5|    3067|     1.0| 1.0|       4019.0|\n",
      "|      16 William St|  2.0|   h|1310000.0|     S|  Jellis|15/10/2016|     2.5|    3067|     1.0| 2.0|       4019.0|\n",
      "|        42 Henry St|  3.0|   h|1200000.0|     S|  Jellis|16/07/2016|     2.5|    3067|     2.0| 1.0|       4019.0|\n",
      "|        78 Yarra St|  3.0|   h|1176500.0|     S|  LITTLE|16/07/2016|     2.5|    3067|     1.0| 1.0|       4019.0|\n",
      "|    3/72 Charles St|  4.0|   h|1330000.0|    PI|     Kay|18/03/2017|     2.5|    3067|     2.0| 2.0|       4019.0|\n",
      "|138/56 Nicholson St|  3.0|   u|1090000.0|     S|  Jellis|18/03/2017|     2.5|    3067|     2.0| 2.0|       4019.0|\n",
      "|     52a William St|  2.0|   h|1100000.0|    PI|  Biggin|18/06/2016|     2.5|    3067|     2.0| 1.0|       4019.0|\n",
      "|         49 Park St|  2.0|   h|1315000.0|     S|Marshall|19/11/2016|     2.5|    3067|     1.0| 0.0|       4019.0|\n",
      "|   48 Abbotsford St|  3.0|   h|1447500.0|    PI|  Nelson|22/08/2016|     2.5|    3067|     3.0| 1.0|       4019.0|\n",
      "|        159 Park St|  2.0|   h|1135000.0|     S|  Nelson|22/08/2016|     2.5|    3067|     2.0| 2.0|       4019.0|\n",
      "|       31 Turner St|  4.0|   h|1542000.0|     S| Collins|24/09/2016|     2.5|    3067|     3.0| 1.0|       4019.0|\n",
      "+-------------------+-----+----+---------+------+--------+----------+--------+--------+--------+----+-------------+\n",
      "only showing top 20 rows\n",
      "\n"
     ]
    }
   ],
   "source": [
    "df_result.where(\"Price >1000000\").filter(\"Suburb = 'Abbotsford'\").select(\"Address\",\"Rooms\",\"Type\",\"Price\",\"Method\",\"SellerG\",\"Date\",\"Distance\",\"Postcode\",\"Bathroom\",\"Car\", \"Propertycount\").show()"
   ]
  },
  {
   "cell_type": "code",
   "execution_count": 24,
   "metadata": {},
   "outputs": [
    {
     "data": {
      "text/plain": [
       "res16: Array[org.apache.spark.sql.Row] = Array([Abbotsford,85 Turner St,2.0,h,1480000.0,S,Biggin,3/12/2016,2.5,3067,2.0,1.0,1.0,202.0,null,null,Yarra City Council,-37.7996,144.9984,Northern Metropolitan,4019.0], [Abbotsford,25 Bloomburg St,2.0,h,1035000.0,S,Biggin,4/02/2016,2.5,3067,2.0,1.0,0.0,156.0,79.0,1900.0,Yarra City Council,-37.8079,144.9934,Northern Metropolitan,4019.0], [Abbotsford,5 Charles St,3.0,h,1465000.0,SP,Biggin,4/03/2017,2.5,3067,3.0,2.0,0.0,134.0,150.0,1900.0,Yarra City Council,-37.8093,144.9944,Northern Metropolitan,4019.0], [Abbotsford,55a Park St,4.0,h,1600000.0,VB,Nelson,4/06/2016,2.5,3067,3.0,1.0,2.0,120.0,142.0,2014.0,Yarra City Council,-37.8072,144.9941,Northern Metropolitan,4019.0], [Abbotsford,124 Yarra St,3.0,h,1876000.0,S,Nelson,7/05/2016,2.5,3067,4.0,2.0,0..."
      ]
     },
     "execution_count": 24,
     "metadata": {},
     "output_type": "execute_result"
    }
   ],
   "source": [
    "df_result.where(\"Price >1000000\").filter(\"Suburb = 'Abbotsford'\").collect()"
   ]
  },
  {
   "cell_type": "code",
   "execution_count": 25,
   "metadata": {},
   "outputs": [
    {
     "data": {
      "text/plain": [
       "res17: Long = 34857\n"
      ]
     },
     "execution_count": 25,
     "metadata": {},
     "output_type": "execute_result"
    }
   ],
   "source": [
    "df_result.select(\"Address\",\"Type\",\"Method\",\"SellerG\",\"Postcode\",\"CouncilArea\",\"Regionname\").count()"
   ]
  },
  {
   "cell_type": "markdown",
   "metadata": {},
   "source": [
    "### Categorical Attributes\n",
    "\n",
    "#### 1. Address"
   ]
  },
  {
   "cell_type": "code",
   "execution_count": 26,
   "metadata": {},
   "outputs": [
    {
     "name": "stdout",
     "output_type": "stream",
     "text": [
      "+-------------------+\n",
      "|            Address|\n",
      "+-------------------+\n",
      "|      557 Orrong Rd|\n",
      "|      19 Poulter St|\n",
      "|    43 Riverside Av|\n",
      "|       11 South Tce|\n",
      "|  41 Marlborough St|\n",
      "|          4 Park Cr|\n",
      "|        3/3 Dega Av|\n",
      "|        93 Tudor St|\n",
      "|         10 Kent Rd|\n",
      "|       18 Thomas St|\n",
      "|   1/1 Glen Iris Rd|\n",
      "|      7 Allambee Av|\n",
      "|    83 Truganini Rd|\n",
      "|       130 Keele St|\n",
      "|       8 Winters Wy|\n",
      "|     36a Mitford St|\n",
      "|   7/223 Station St|\n",
      "|1/146 Ascot Vale Rd|\n",
      "|    5/60 Farnham St|\n",
      "|      22 Renwick St|\n",
      "+-------------------+\n",
      "only showing top 20 rows\n",
      "\n"
     ]
    },
    {
     "data": {
      "text/plain": [
       "import org.apache.spark.sql.functions.countDistinct\n"
      ]
     },
     "execution_count": 26,
     "metadata": {},
     "output_type": "execute_result"
    }
   ],
   "source": [
    "// rename into street keep only street name\n",
    "import org.apache.spark.sql.functions.countDistinct\n",
    "df_result.select(\"Address\").distinct.show()"
   ]
  },
  {
   "cell_type": "code",
   "execution_count": 27,
   "metadata": {},
   "outputs": [
    {
     "data": {
      "text/plain": [
       "res19: Long = 0\n"
      ]
     },
     "execution_count": 27,
     "metadata": {},
     "output_type": "execute_result"
    }
   ],
   "source": [
    "df_result.filter(\"Address IS NULL\").count()"
   ]
  },
  {
   "cell_type": "code",
   "execution_count": 28,
   "metadata": {},
   "outputs": [
    {
     "data": {
      "text/plain": [
       "res20: Long = 34009\n"
      ]
     },
     "execution_count": 28,
     "metadata": {},
     "output_type": "execute_result"
    }
   ],
   "source": [
    "df_result.select(\"Address\").distinct.count()"
   ]
  },
  {
   "cell_type": "code",
   "execution_count": 29,
   "metadata": {},
   "outputs": [
    {
     "name": "stdout",
     "output_type": "stream",
     "text": [
      "root\n",
      " |-- Suburb: string (nullable = true)\n",
      " |-- Address: string (nullable = true)\n",
      " |-- Rooms: double (nullable = true)\n",
      " |-- Type: string (nullable = true)\n",
      " |-- Price: double (nullable = true)\n",
      " |-- Method: string (nullable = true)\n",
      " |-- SellerG: string (nullable = true)\n",
      " |-- Date: string (nullable = true)\n",
      " |-- Distance: double (nullable = true)\n",
      " |-- Postcode: string (nullable = true)\n",
      " |-- Bedroom2: double (nullable = true)\n",
      " |-- Bathroom: double (nullable = true)\n",
      " |-- Car: double (nullable = true)\n",
      " |-- Landsize: double (nullable = true)\n",
      " |-- BuildingArea: double (nullable = true)\n",
      " |-- YearBuilt: double (nullable = true)\n",
      " |-- CouncilArea: string (nullable = true)\n",
      " |-- Lattitude: double (nullable = true)\n",
      " |-- Longtitude: double (nullable = true)\n",
      " |-- Regionname: string (nullable = true)\n",
      " |-- Propertycount: double (nullable = true)\n",
      "\n"
     ]
    }
   ],
   "source": [
    "df_result.printSchema()"
   ]
  },
  {
   "cell_type": "markdown",
   "metadata": {},
   "source": [
    "#### Split Address on Street and Suffix"
   ]
  },
  {
   "cell_type": "code",
   "execution_count": 30,
   "metadata": {},
   "outputs": [
    {
     "name": "stdout",
     "output_type": "stream",
     "text": [
      "+----------+-----+----+---------+------+-------+---------+--------+--------+--------+--------+----+--------+------------+---------+------------------+---------+----------+--------------------+-------------+----------+------+\n",
      "|    Suburb|Rooms|Type|    Price|Method|SellerG|     Date|Distance|Postcode|Bedroom2|Bathroom| Car|Landsize|BuildingArea|YearBuilt|       CouncilArea|Lattitude|Longtitude|          Regionname|Propertycount|    Street|Suffix|\n",
      "+----------+-----+----+---------+------+-------+---------+--------+--------+--------+--------+----+--------+------------+---------+------------------+---------+----------+--------------------+-------------+----------+------+\n",
      "|Abbotsford|  2.0|   h|     null|    SS| Jellis|3/09/2016|     2.5|    3067|     2.0|     1.0| 1.0|   126.0|        null|     null|Yarra City Council| -37.8014|  144.9958|Northern Metropol...|       4019.0|   Studley|    St|\n",
      "|Abbotsford|  2.0|   h|1480000.0|     S| Biggin|3/12/2016|     2.5|    3067|     2.0|     1.0| 1.0|   202.0|        null|     null|Yarra City Council| -37.7996|  144.9984|Northern Metropol...|       4019.0|    Turner|    St|\n",
      "|Abbotsford|  2.0|   h|1035000.0|     S| Biggin|4/02/2016|     2.5|    3067|     2.0|     1.0| 0.0|   156.0|        79.0|   1900.0|Yarra City Council| -37.8079|  144.9934|Northern Metropol...|       4019.0| Bloomburg|    St|\n",
      "|Abbotsford|  3.0|   u|     null|    VB| Rounds|4/02/2016|     2.5|    3067|     3.0|     2.0| 1.0|     0.0|        null|     null|Yarra City Council| -37.8114|  145.0116|Northern Metropol...|       4019.0|  Victoria|    St|\n",
      "|Abbotsford|  3.0|   h|1465000.0|    SP| Biggin|4/03/2017|     2.5|    3067|     3.0|     2.0| 0.0|   134.0|       150.0|   1900.0|Yarra City Council| -37.8093|  144.9944|Northern Metropol...|       4019.0|   Charles|    St|\n",
      "|Abbotsford|  3.0|   h| 850000.0|    PI| Biggin|4/03/2017|     2.5|    3067|     3.0|     2.0| 1.0|    94.0|        null|     null|Yarra City Council| -37.7969|  144.9969|Northern Metropol...|       4019.0|Federation|    La|\n",
      "|Abbotsford|  4.0|   h|1600000.0|    VB| Nelson|4/06/2016|     2.5|    3067|     3.0|     1.0| 2.0|   120.0|       142.0|   2014.0|Yarra City Council| -37.8072|  144.9941|Northern Metropol...|       4019.0|      Park|    St|\n",
      "|Abbotsford|  4.0|   h|     null|    SN| Nelson|6/08/2016|     2.5|    3067|     3.0|     2.0| 2.0|   400.0|       220.0|   2006.0|Yarra City Council| -37.7965|  144.9965|Northern Metropol...|       4019.0|    Maugie|    St|\n",
      "|Abbotsford|  2.0|   h|     null|     S| Biggin|6/08/2016|     2.5|    3067|     4.0|     1.0| 2.0|   201.0|        null|   1900.0|Yarra City Council| -37.7995|  144.9974|Northern Metropol...|       4019.0|    Turner|    St|\n",
      "|Abbotsford|  2.0|   h|     null|     S|Collins|6/08/2016|     2.5|    3067|     3.0|     2.0| 1.0|   202.0|        null|   1900.0|Yarra City Council| -37.7996|  144.9989|Northern Metropol...|       4019.0|    Turner|    St|\n",
      "|Abbotsford|  2.0|   h| 941000.0|     S| Jellis|7/05/2016|     2.5|    3067|     2.0|     1.0| 0.0|   181.0|        null|     null|Yarra City Council| -37.8041|  144.9953|Northern Metropol...|       4019.0|   Charles|    St|\n",
      "|Abbotsford|  3.0|   h|1876000.0|     S| Nelson|7/05/2016|     2.5|    3067|     4.0|     2.0| 0.0|   245.0|       210.0|   1910.0|Yarra City Council| -37.8024|  144.9993|Northern Metropol...|       4019.0|     Yarra|    St|\n",
      "|Abbotsford|  2.0|   u|     null|    PI| Biggin|7/11/2016|     2.5|    3067|     2.0|     2.0| 1.0|  4292.0|        82.0|   2009.0|Yarra City Council| -37.8078|  144.9965|Northern Metropol...|       4019.0| Nicholson|    St|\n",
      "|Abbotsford|  4.0|   h|     null|     W| Biggin|7/11/2016|     2.5|    3067|     6.0|     2.0| 0.0|   230.0|       147.0|   1860.0|Yarra City Council| -37.8066|  144.9936|Northern Metropol...|       4019.0|   Raphael|    St|\n",
      "|Abbotsford|  2.0|   h|1636000.0|     S| Nelson|8/10/2016|     2.5|    3067|     2.0|     1.0| 2.0|   256.0|       107.0|   1890.0|Yarra City Council|  -37.806|  144.9954|Northern Metropol...|       4019.0|   Charles|    St|\n",
      "|Abbotsford|  3.0|   h|1000000.0|     S| Jellis|8/10/2016|     2.5|    3067|    null|    null|null|    null|        null|     null|Yarra City Council|     null|      null|Northern Metropol...|       4019.0| Langridge|    St|\n",
      "|Abbotsford|  2.0|   t| 745000.0|     S| Jellis|8/10/2016|     2.5|    3067|    null|    null|null|    null|        null|     null|Yarra City Council|     null|      null|Northern Metropol...|       4019.0|  Mollison|    St|\n",
      "|Abbotsford|  1.0|   u| 300000.0|     S| Biggin|8/10/2016|     2.5|    3067|     1.0|     1.0| 1.0|     0.0|        null|     null|Yarra City Council| -37.8008|  144.9973|Northern Metropol...|       4019.0| Nicholson|    St|\n",
      "|Abbotsford|  2.0|   h|1097000.0|     S| Biggin|8/10/2016|     2.5|    3067|     3.0|     1.0| 2.0|   220.0|        75.0|   1900.0|Yarra City Council|  -37.801|  144.9989|Northern Metropol...|       4019.0|   Valiant|    St|\n",
      "|Abbotsford|  2.0|   u| 542000.0|     S| Dingle|8/10/2016|     2.5|    3067|    null|    null|null|    null|        null|     null|Yarra City Council|     null|      null|Northern Metropol...|       4019.0|  Victoria|    St|\n",
      "+----------+-----+----+---------+------+-------+---------+--------+--------+--------+--------+----+--------+------------+---------+------------------+---------+----------+--------------------+-------------+----------+------+\n",
      "only showing top 20 rows\n",
      "\n"
     ]
    },
    {
     "data": {
      "text/plain": [
       "df_result: org.apache.spark.sql.DataFrame = [Suburb: string, Rooms: double ... 20 more fields]\n"
      ]
     },
     "execution_count": 30,
     "metadata": {},
     "output_type": "execute_result"
    }
   ],
   "source": [
    "//split address on Street and Suffix\n",
    "df_result = df_result.withColumn(\"Street\",split(col(\"Address\"),\" \").getItem(1)).\n",
    "                   withColumn(\"Suffix\",split(col(\"Address\"),\" \").getItem(2)).drop(\"Address\")\n",
    "df_result.show()"
   ]
  },
  {
   "cell_type": "code",
   "execution_count": 31,
   "metadata": {},
   "outputs": [
    {
     "name": "stdout",
     "output_type": "stream",
     "text": [
      "root\n",
      " |-- Suburb: string (nullable = true)\n",
      " |-- Rooms: double (nullable = true)\n",
      " |-- Type: string (nullable = true)\n",
      " |-- Price: double (nullable = true)\n",
      " |-- Method: string (nullable = true)\n",
      " |-- SellerG: string (nullable = true)\n",
      " |-- Date: string (nullable = true)\n",
      " |-- Distance: double (nullable = true)\n",
      " |-- Postcode: string (nullable = true)\n",
      " |-- Bedroom2: double (nullable = true)\n",
      " |-- Bathroom: double (nullable = true)\n",
      " |-- Car: double (nullable = true)\n",
      " |-- Landsize: double (nullable = true)\n",
      " |-- BuildingArea: double (nullable = true)\n",
      " |-- YearBuilt: double (nullable = true)\n",
      " |-- CouncilArea: string (nullable = true)\n",
      " |-- Lattitude: double (nullable = true)\n",
      " |-- Longtitude: double (nullable = true)\n",
      " |-- Regionname: string (nullable = true)\n",
      " |-- Propertycount: double (nullable = true)\n",
      " |-- Street: string (nullable = true)\n",
      " |-- Suffix: string (nullable = true)\n",
      "\n"
     ]
    }
   ],
   "source": [
    "df_result.printSchema()"
   ]
  },
  {
   "cell_type": "code",
   "execution_count": 32,
   "metadata": {},
   "outputs": [
    {
     "data": {
      "text/plain": [
       "res24: Long = 0\n"
      ]
     },
     "execution_count": 32,
     "metadata": {},
     "output_type": "execute_result"
    }
   ],
   "source": [
    "df_result.filter(\"Street IS NULL\").count()"
   ]
  },
  {
   "cell_type": "markdown",
   "metadata": {},
   "source": [
    "#### 2. Postcode"
   ]
  },
  {
   "cell_type": "code",
   "execution_count": 33,
   "metadata": {},
   "outputs": [
    {
     "data": {
      "text/plain": [
       "postcodes: org.apache.spark.sql.Dataset[org.apache.spark.sql.Row] = [Postcode: string]\n"
      ]
     },
     "execution_count": 33,
     "metadata": {},
     "output_type": "execute_result"
    }
   ],
   "source": [
    "var postcodes = df_result.select(\"Postcode\").distinct()"
   ]
  },
  {
   "cell_type": "code",
   "execution_count": 34,
   "metadata": {},
   "outputs": [
    {
     "data": {
      "text/plain": [
       "res25: Long = 0\n"
      ]
     },
     "execution_count": 34,
     "metadata": {},
     "output_type": "execute_result"
    }
   ],
   "source": [
    "df_result.filter(\"Postcode IS NULL\").count()"
   ]
  },
  {
   "cell_type": "code",
   "execution_count": 35,
   "metadata": {},
   "outputs": [
    {
     "data": {
      "text/plain": [
       "res26: Long = 212\n"
      ]
     },
     "execution_count": 35,
     "metadata": {},
     "output_type": "execute_result"
    }
   ],
   "source": [
    "postcodes.count()"
   ]
  },
  {
   "cell_type": "markdown",
   "metadata": {},
   "source": [
    "#### 3. Suburb"
   ]
  },
  {
   "cell_type": "code",
   "execution_count": 36,
   "metadata": {},
   "outputs": [
    {
     "data": {
      "text/plain": [
       "suburbs: org.apache.spark.sql.Dataset[org.apache.spark.sql.Row] = [Suburb: string]\n"
      ]
     },
     "execution_count": 36,
     "metadata": {},
     "output_type": "execute_result"
    }
   ],
   "source": [
    "val suburbs = df_result.select(\"Suburb\").distinct"
   ]
  },
  {
   "cell_type": "code",
   "execution_count": 37,
   "metadata": {},
   "outputs": [
    {
     "data": {
      "text/plain": [
       "res27: Long = 351\n"
      ]
     },
     "execution_count": 37,
     "metadata": {},
     "output_type": "execute_result"
    }
   ],
   "source": [
    "suburbs.count()"
   ]
  },
  {
   "cell_type": "code",
   "execution_count": 38,
   "metadata": {},
   "outputs": [
    {
     "data": {
      "text/plain": [
       "res28: Long = 0\n"
      ]
     },
     "execution_count": 38,
     "metadata": {},
     "output_type": "execute_result"
    }
   ],
   "source": [
    "\n",
    "df.filter(\"Suburb IS NULL\").count()"
   ]
  },
  {
   "cell_type": "code",
   "execution_count": 39,
   "metadata": {},
   "outputs": [
    {
     "name": "stdout",
     "output_type": "stream",
     "text": [
      "+----------------+\n",
      "|          Suburb|\n",
      "+----------------+\n",
      "|  Brunswick West|\n",
      "| South Melbourne|\n",
      "|    Ivanhoe East|\n",
      "|    Princes Hill|\n",
      "|      Cranbourne|\n",
      "|         Ashwood|\n",
      "|       Brunswick|\n",
      "|South Kingsville|\n",
      "|        Brighton|\n",
      "|        Oak Park|\n",
      "|         Doveton|\n",
      "|       Albanvale|\n",
      "|      Brookfield|\n",
      "|        Lynbrook|\n",
      "|     Ferny Creek|\n",
      "|     Pascoe Vale|\n",
      "| Blackburn North|\n",
      "|     Sandringham|\n",
      "|   Botanic Ridge|\n",
      "|          Carrum|\n",
      "+----------------+\n",
      "only showing top 20 rows\n",
      "\n"
     ]
    },
    {
     "data": {
      "text/plain": [
       "import org.apache.spark.sql.functions._\n",
       "df_result: org.apache.spark.sql.DataFrame = [Suburb: string, Rooms: double ... 20 more fields]\n"
      ]
     },
     "execution_count": 39,
     "metadata": {},
     "output_type": "execute_result"
    }
   ],
   "source": [
    "// make first letter of suburb upper case\n",
    "import org.apache.spark.sql.functions._\n",
    "df_result = df_result.withColumn(\"Suburb\", initcap(col(\"Suburb\")))\n",
    "df_result.select(\"Suburb\").distinct.show()\n"
   ]
  },
  {
   "cell_type": "markdown",
   "metadata": {},
   "source": [
    "#### 4. Type \n",
    "#### Distinct values "
   ]
  },
  {
   "cell_type": "code",
   "execution_count": 40,
   "metadata": {},
   "outputs": [
    {
     "name": "stdout",
     "output_type": "stream",
     "text": [
      "+----+\n",
      "|Type|\n",
      "+----+\n",
      "|   h|\n",
      "|   u|\n",
      "|   t|\n",
      "+----+\n",
      "\n"
     ]
    },
    {
     "data": {
      "text/plain": [
       "import org.apache.spark.sql.functions.countDistinct\n"
      ]
     },
     "execution_count": 40,
     "metadata": {},
     "output_type": "execute_result"
    }
   ],
   "source": [
    "import org.apache.spark.sql.functions.countDistinct\n",
    "df_result.select(\"Type\").distinct.show()"
   ]
  },
  {
   "cell_type": "code",
   "execution_count": 41,
   "metadata": {},
   "outputs": [
    {
     "name": "stdout",
     "output_type": "stream",
     "text": [
      "+----+\n",
      "|Type|\n",
      "+----+\n",
      "|   T|\n",
      "|   U|\n",
      "|   H|\n",
      "+----+\n",
      "\n"
     ]
    },
    {
     "data": {
      "text/plain": [
       "df_result: org.apache.spark.sql.DataFrame = [Suburb: string, Rooms: double ... 20 more fields]\n"
      ]
     },
     "execution_count": 41,
     "metadata": {},
     "output_type": "execute_result"
    }
   ],
   "source": [
    "df_result = df_result.withColumn(\"Type\", initcap(col(\"Type\")))\n",
    "df_result.select(\"Type\").distinct.show()"
   ]
  },
  {
   "cell_type": "markdown",
   "metadata": {},
   "source": [
    "#### Null values  "
   ]
  },
  {
   "cell_type": "code",
   "execution_count": 42,
   "metadata": {},
   "outputs": [
    {
     "data": {
      "text/plain": [
       "res32: Long = 0\n"
      ]
     },
     "execution_count": 42,
     "metadata": {},
     "output_type": "execute_result"
    }
   ],
   "source": [
    "df_result.filter(\"Type IS NULL\").count()"
   ]
  },
  {
   "cell_type": "markdown",
   "metadata": {},
   "source": [
    "#### 5. Method"
   ]
  },
  {
   "cell_type": "code",
   "execution_count": 43,
   "metadata": {},
   "outputs": [
    {
     "name": "stdout",
     "output_type": "stream",
     "text": [
      "+------+\n",
      "|Method|\n",
      "+------+\n",
      "|    PI|\n",
      "|    SA|\n",
      "|    SP|\n",
      "|    VB|\n",
      "|    PN|\n",
      "|     W|\n",
      "|     S|\n",
      "|    SN|\n",
      "|    SS|\n",
      "+------+\n",
      "\n"
     ]
    }
   ],
   "source": [
    "df_result.select(\"Method\").distinct.show()"
   ]
  },
  {
   "cell_type": "markdown",
   "metadata": {},
   "source": [
    "#### Null values  "
   ]
  },
  {
   "cell_type": "code",
   "execution_count": 44,
   "metadata": {},
   "outputs": [
    {
     "data": {
      "text/plain": [
       "res34: Long = 0\n"
      ]
     },
     "execution_count": 44,
     "metadata": {},
     "output_type": "execute_result"
    }
   ],
   "source": [
    "df_result.filter(\"Method IS NULL\").count()"
   ]
  },
  {
   "cell_type": "markdown",
   "metadata": {},
   "source": [
    "#### 6. SellerG"
   ]
  },
  {
   "cell_type": "code",
   "execution_count": 45,
   "metadata": {},
   "outputs": [
    {
     "data": {
      "text/plain": [
       "sellers: org.apache.spark.sql.Dataset[org.apache.spark.sql.Row] = [SellerG: string]\n"
      ]
     },
     "execution_count": 45,
     "metadata": {},
     "output_type": "execute_result"
    }
   ],
   "source": [
    "val sellers = df_result.select(\"SellerG\").distinct"
   ]
  },
  {
   "cell_type": "code",
   "execution_count": 46,
   "metadata": {},
   "outputs": [
    {
     "name": "stdout",
     "output_type": "stream",
     "text": [
      "+--------------------+\n",
      "|             SellerG|\n",
      "+--------------------+\n",
      "|              LITTLE|\n",
      "|                 S&L|\n",
      "|              Ristic|\n",
      "|            Langwell|\n",
      "|             Ruralco|\n",
      "|             Xynergy|\n",
      "|               Ryder|\n",
      "|               iSell|\n",
      "|               Scott|\n",
      "|              Wilson|\n",
      "|          McNaughton|\n",
      "|           Blackbird|\n",
      "|hockingstuart/Biggin|\n",
      "|               Lucas|\n",
      "|                 One|\n",
      "|         Buxton/Find|\n",
      "|                Real|\n",
      "|            Sterling|\n",
      "|             Compton|\n",
      "|           Tiernan's|\n",
      "+--------------------+\n",
      "only showing top 20 rows\n",
      "\n"
     ]
    }
   ],
   "source": [
    "sellers.show()"
   ]
  },
  {
   "cell_type": "code",
   "execution_count": 47,
   "metadata": {},
   "outputs": [
    {
     "data": {
      "text/plain": [
       "res36: Long = 388\n"
      ]
     },
     "execution_count": 47,
     "metadata": {},
     "output_type": "execute_result"
    }
   ],
   "source": [
    "sellers.count()"
   ]
  },
  {
   "cell_type": "code",
   "execution_count": 48,
   "metadata": {},
   "outputs": [
    {
     "data": {
      "text/plain": [
       "res37: Long = 0\n"
      ]
     },
     "execution_count": 48,
     "metadata": {},
     "output_type": "execute_result"
    }
   ],
   "source": [
    "\n",
    "df_result.filter(\"SellerG IS NULL\").count()"
   ]
  },
  {
   "cell_type": "markdown",
   "metadata": {},
   "source": [
    "#### 7. Date"
   ]
  },
  {
   "cell_type": "code",
   "execution_count": 49,
   "metadata": {},
   "outputs": [
    {
     "data": {
      "text/plain": [
       "dates: org.apache.spark.sql.Dataset[org.apache.spark.sql.Row] = [Date: string]\n"
      ]
     },
     "execution_count": 49,
     "metadata": {},
     "output_type": "execute_result"
    }
   ],
   "source": [
    "val dates = df_result.select(\"Date\").distinct()"
   ]
  },
  {
   "cell_type": "code",
   "execution_count": 50,
   "metadata": {},
   "outputs": [
    {
     "data": {
      "text/plain": [
       "res38: Long = 78\n"
      ]
     },
     "execution_count": 50,
     "metadata": {},
     "output_type": "execute_result"
    }
   ],
   "source": [
    "dates.count()"
   ]
  },
  {
   "cell_type": "code",
   "execution_count": 51,
   "metadata": {},
   "outputs": [
    {
     "data": {
      "text/plain": [
       "res39: Long = 0\n"
      ]
     },
     "execution_count": 51,
     "metadata": {},
     "output_type": "execute_result"
    }
   ],
   "source": [
    "df_result.filter(\"Date IS NULL\").count()"
   ]
  },
  {
   "cell_type": "code",
   "execution_count": 52,
   "metadata": {},
   "outputs": [
    {
     "name": "stdout",
     "output_type": "stream",
     "text": [
      "+----------+\n",
      "|      Date|\n",
      "+----------+\n",
      "|16/04/2016|\n",
      "|29/04/2017|\n",
      "|10/12/2016|\n",
      "|19/08/2017|\n",
      "| 7/05/2016|\n",
      "| 8/07/2017|\n",
      "| 4/03/2017|\n",
      "|29/07/2017|\n",
      "|27/05/2017|\n",
      "|28/10/2017|\n",
      "| 9/09/2017|\n",
      "|26/07/2016|\n",
      "|12/11/2016|\n",
      "|25/02/2017|\n",
      "| 6/05/2017|\n",
      "|18/11/2017|\n",
      "| 3/09/2016|\n",
      "| 3/12/2016|\n",
      "|25/11/2017|\n",
      "| 3/06/2017|\n",
      "+----------+\n",
      "only showing top 20 rows\n",
      "\n"
     ]
    }
   ],
   "source": [
    "dates.show()"
   ]
  },
  {
   "cell_type": "markdown",
   "metadata": {},
   "source": [
    "#### 8. CouncilArea"
   ]
  },
  {
   "cell_type": "code",
   "execution_count": 53,
   "metadata": {},
   "outputs": [
    {
     "data": {
      "text/plain": [
       "sareas: org.apache.spark.sql.Dataset[org.apache.spark.sql.Row] = [CouncilArea: string]\n"
      ]
     },
     "execution_count": 53,
     "metadata": {},
     "output_type": "execute_result"
    }
   ],
   "source": [
    "val sareas = df_result.select(\"CouncilArea\").distinct()"
   ]
  },
  {
   "cell_type": "code",
   "execution_count": 54,
   "metadata": {},
   "outputs": [
    {
     "data": {
      "text/plain": [
       "res41: Long = 34\n"
      ]
     },
     "execution_count": 54,
     "metadata": {},
     "output_type": "execute_result"
    }
   ],
   "source": [
    "sareas.count()"
   ]
  },
  {
   "cell_type": "code",
   "execution_count": 55,
   "metadata": {},
   "outputs": [
    {
     "name": "stdout",
     "output_type": "stream",
     "text": [
      "+--------------------+\n",
      "|         CouncilArea|\n",
      "+--------------------+\n",
      "|Bayside City Council|\n",
      "|Greater Dandenong...|\n",
      "|   Hume City Council|\n",
      "|Glen Eira City Co...|\n",
      "|Kingston City Cou...|\n",
      "|Nillumbik Shire C...|\n",
      "| Monash City Council|\n",
      "|Macedon Ranges Sh...|\n",
      "|   Knox City Council|\n",
      "|Wyndham City Council|\n",
      "|Mitchell Shire Co...|\n",
      "|Maribyrnong City ...|\n",
      "|Whittlesea City C...|\n",
      "|Whitehorse City C...|\n",
      "|Frankston City Co...|\n",
      "|Manningham City C...|\n",
      "|Darebin City Council|\n",
      "|Moreland City Cou...|\n",
      "|Cardinia Shire Co...|\n",
      "|Moonee Valley Cit...|\n",
      "|Boroondara City C...|\n",
      "|Yarra Ranges Shir...|\n",
      "|  Casey City Council|\n",
      "|Port Phillip City...|\n",
      "|Brimbank City Cou...|\n",
      "|                #N/A|\n",
      "|Hobsons Bay City ...|\n",
      "|Banyule City Council|\n",
      "|Stonnington City ...|\n",
      "| Melton City Council|\n",
      "|  Yarra City Council|\n",
      "|Melbourne City Co...|\n",
      "|Moorabool Shire C...|\n",
      "|Maroondah City Co...|\n",
      "+--------------------+\n",
      "\n"
     ]
    }
   ],
   "source": [
    "sareas.show(34)"
   ]
  },
  {
   "cell_type": "code",
   "execution_count": 56,
   "metadata": {},
   "outputs": [
    {
     "data": {
      "text/plain": [
       "res43: Long = 0\n"
      ]
     },
     "execution_count": 56,
     "metadata": {},
     "output_type": "execute_result"
    }
   ],
   "source": [
    "\n",
    "df_result.filter(\"CouncilArea IS NULL\").count()"
   ]
  },
  {
   "cell_type": "markdown",
   "metadata": {},
   "source": [
    "#### 9. Regionname"
   ]
  },
  {
   "cell_type": "code",
   "execution_count": 57,
   "metadata": {},
   "outputs": [
    {
     "name": "stdout",
     "output_type": "stream",
     "text": [
      "+--------------------+\n",
      "|          Regionname|\n",
      "+--------------------+\n",
      "|South-Eastern Met...|\n",
      "|Western Metropolitan|\n",
      "|Eastern Metropolitan|\n",
      "|    Eastern Victoria|\n",
      "|                #N/A|\n",
      "|   Northern Victoria|\n",
      "|Northern Metropol...|\n",
      "|Southern Metropol...|\n",
      "|    Western Victoria|\n",
      "+--------------------+\n",
      "\n"
     ]
    }
   ],
   "source": [
    "df_result.select(\"Regionname\").distinct.show()"
   ]
  },
  {
   "cell_type": "code",
   "execution_count": 58,
   "metadata": {},
   "outputs": [
    {
     "data": {
      "text/plain": [
       "res45: Long = 0\n"
      ]
     },
     "execution_count": 58,
     "metadata": {},
     "output_type": "execute_result"
    }
   ],
   "source": [
    "\n",
    "df_result.filter(\"Regionname IS NULL\").count()"
   ]
  },
  {
   "cell_type": "markdown",
   "metadata": {},
   "source": [
    "#### 10. YearBuilt"
   ]
  },
  {
   "cell_type": "code",
   "execution_count": 59,
   "metadata": {},
   "outputs": [
    {
     "data": {
      "text/plain": [
       "res46: Long = 19306\n"
      ]
     },
     "execution_count": 59,
     "metadata": {},
     "output_type": "execute_result"
    }
   ],
   "source": [
    "df_result.filter(\"YearBuilt IS NULL\").count()"
   ]
  },
  {
   "cell_type": "code",
   "execution_count": 60,
   "metadata": {},
   "outputs": [
    {
     "name": "stdout",
     "output_type": "stream",
     "text": [
      "+---------+\n",
      "|YearBuilt|\n",
      "+---------+\n",
      "|   1988.0|\n",
      "|   1976.0|\n",
      "|   1951.0|\n",
      "|   1940.0|\n",
      "|   1928.0|\n",
      "|   1900.0|\n",
      "|   1979.0|\n",
      "|   1856.0|\n",
      "|   1953.0|\n",
      "|   1830.0|\n",
      "|   1913.0|\n",
      "|   1987.0|\n",
      "|   1909.0|\n",
      "|   1959.0|\n",
      "|   1934.0|\n",
      "|   1904.0|\n",
      "|   1978.0|\n",
      "|   1968.0|\n",
      "|   2010.0|\n",
      "|   1881.0|\n",
      "+---------+\n",
      "only showing top 20 rows\n",
      "\n"
     ]
    }
   ],
   "source": [
    "df_result.select(\"YearBuilt\").distinct.show()"
   ]
  },
  {
   "cell_type": "markdown",
   "metadata": {},
   "source": [
    "#### 1. Price"
   ]
  },
  {
   "cell_type": "code",
   "execution_count": 61,
   "metadata": {},
   "outputs": [
    {
     "data": {
      "text/plain": [
       "res48: Long = 7610\n"
      ]
     },
     "execution_count": 61,
     "metadata": {},
     "output_type": "execute_result"
    }
   ],
   "source": [
    "df_result.filter(\"Price IS NULL\").count()"
   ]
  },
  {
   "cell_type": "code",
   "execution_count": 62,
   "metadata": {},
   "outputs": [
    {
     "data": {
      "text/plain": [
       "df_result: org.apache.spark.sql.DataFrame = [Suburb: string, Rooms: double ... 20 more fields]\n"
      ]
     },
     "execution_count": 62,
     "metadata": {},
     "output_type": "execute_result"
    }
   ],
   "source": [
    "//get rid of null in price\n",
    "df_result=df_result.filter(!df_result(\"Price\").isNull)"
   ]
  },
  {
   "cell_type": "code",
   "execution_count": 63,
   "metadata": {
    "scrolled": true
   },
   "outputs": [
    {
     "name": "stdout",
     "output_type": "stream",
     "text": [
      "+---------+\n",
      "|    Price|\n",
      "+---------+\n",
      "| 300000.0|\n",
      "| 495000.0|\n",
      "|1185000.0|\n",
      "| 330000.0|\n",
      "| 532000.0|\n",
      "| 940500.0|\n",
      "| 452500.0|\n",
      "| 640500.0|\n",
      "| 431500.0|\n",
      "|1155500.0|\n",
      "| 474000.0|\n",
      "| 546000.0|\n",
      "|1483000.0|\n",
      "| 671000.0|\n",
      "|1055000.0|\n",
      "| 677776.0|\n",
      "|2053000.0|\n",
      "|1259000.0|\n",
      "| 975500.0|\n",
      "|4690000.0|\n",
      "+---------+\n",
      "only showing top 20 rows\n",
      "\n"
     ]
    }
   ],
   "source": [
    "df_result.select(\"Price\").distinct().show()"
   ]
  },
  {
   "cell_type": "code",
   "execution_count": null,
   "metadata": {},
   "outputs": [],
   "source": [
    "// histogram\n",
    "val (startValues,counts) = df_result.select($\"Price\")\n",
    "    .rdd.map(r => r.getDouble(0))\n",
    "    .histogram()"
   ]
  },
  {
   "cell_type": "code",
   "execution_count": null,
   "metadata": {},
   "outputs": [],
   "source": [
    "val zippedValues = startValues.zip(counts)\n",
    "case class HistRow(startPoint:Double,count:Long)\n",
    "val rowRDD = zippedValues.map( value => HistRow(value._1,value._2))\n",
    "val histDf = org.apache.spark.sql.SparkSession.createDataFrame(rowRDD)\n",
    "histDf.createOrReplaceTempView(\"histogramTable\")"
   ]
  },
  {
   "cell_type": "code",
   "execution_count": null,
   "metadata": {},
   "outputs": [],
   "source": [
    "val _tmpHist = df_result\n",
    "    .select($\"Price\" cast \"double\")\n",
    "    .rdd.map(r => r.getDouble(0))\n",
    "    .histogram(thresholds)\n",
    "\n",
    "// Result DataFrame contains `from`, `to` range and the `value`.\n",
    "val histogram = sc.parallelize((thresholds, thresholds.tail, _tmpHist).zipped.toList).toDF(\"from\", \"to\", \"value\")"
   ]
  },
  {
   "cell_type": "code",
   "execution_count": 64,
   "metadata": {},
   "outputs": [
    {
     "name": "stdout",
     "output_type": "stream",
     "text": [
      "+-------+-----------------+----------+\n",
      "|summary|            Price|    Suburb|\n",
      "+-------+-----------------+----------+\n",
      "|  count|            27247|     27247|\n",
      "|   mean|1050173.344955408|      null|\n",
      "| stddev|641467.1301045999|      null|\n",
      "|    min|          85000.0|Abbotsford|\n",
      "|    max|           1.12E7|Yarraville|\n",
      "+-------+-----------------+----------+\n",
      "\n"
     ]
    }
   ],
   "source": [
    "df_result.describe().select(\"summary\",\"Price\",\"Suburb\").show()"
   ]
  },
  {
   "cell_type": "code",
   "execution_count": 65,
   "metadata": {},
   "outputs": [
    {
     "data": {
      "text/plain": [
       "res51: Long = 1\n"
      ]
     },
     "execution_count": 65,
     "metadata": {},
     "output_type": "execute_result"
    }
   ],
   "source": [
    "df.where(\"Price >10000000\").select(\"Address\",\"Rooms\",\"Type\",\"Price\",\"Method\",\"SellerG\",\"Date\",\"Distance\",\"Postcode\",\"Bathroom\",\"Car\", \"Propertycount\").count()"
   ]
  },
  {
   "cell_type": "markdown",
   "metadata": {},
   "source": [
    "#### 1. Rooms"
   ]
  },
  {
   "cell_type": "code",
   "execution_count": 66,
   "metadata": {},
   "outputs": [
    {
     "data": {
      "text/plain": [
       "res52: Long = 0\n"
      ]
     },
     "execution_count": 66,
     "metadata": {},
     "output_type": "execute_result"
    }
   ],
   "source": [
    "df_result.filter(\"Rooms IS NULL\").count()"
   ]
  },
  {
   "cell_type": "code",
   "execution_count": 67,
   "metadata": {},
   "outputs": [
    {
     "name": "stdout",
     "output_type": "stream",
     "text": [
      "+-----+\n",
      "|Rooms|\n",
      "+-----+\n",
      "|  8.0|\n",
      "|  7.0|\n",
      "|  1.0|\n",
      "|  4.0|\n",
      "|  3.0|\n",
      "|  2.0|\n",
      "| 10.0|\n",
      "|  6.0|\n",
      "|  5.0|\n",
      "|  9.0|\n",
      "| 16.0|\n",
      "| 12.0|\n",
      "+-----+\n",
      "\n"
     ]
    }
   ],
   "source": [
    "df_result.select(\"Rooms\").distinct().show()"
   ]
  },
  {
   "cell_type": "markdown",
   "metadata": {},
   "source": [
    "<span style=\"font-size:16pt;color: red\">TO DO: HISTOGRAMS IS IT POSSIBLE? </span> .\n",
    "\n"
   ]
  },
  {
   "cell_type": "code",
   "execution_count": null,
   "metadata": {},
   "outputs": [],
   "source": [
    "df_result.groupBy(\"Rooms\").count().rdd.histogram()"
   ]
  },
  {
   "cell_type": "code",
   "execution_count": null,
   "metadata": {},
   "outputs": [],
   "source": [
    "histogram(df_result, df_result(\"Rooms\"), nbins = 10)"
   ]
  },
  {
   "cell_type": "code",
   "execution_count": null,
   "metadata": {},
   "outputs": [],
   "source": [
    "df_result.select(\"Rooms\").createOrReplaceTempView(\"histogramTable\").show()"
   ]
  },
  {
   "cell_type": "markdown",
   "metadata": {},
   "source": [
    "#### 2. Distance"
   ]
  },
  {
   "cell_type": "code",
   "execution_count": 68,
   "metadata": {},
   "outputs": [
    {
     "data": {
      "text/plain": [
       "res54: Long = 1\n"
      ]
     },
     "execution_count": 68,
     "metadata": {},
     "output_type": "execute_result"
    }
   ],
   "source": [
    "df_result.filter(\"Distance IS NULL\").count()"
   ]
  },
  {
   "cell_type": "code",
   "execution_count": 69,
   "metadata": {},
   "outputs": [
    {
     "data": {
      "text/plain": [
       "res55: Long = 214\n"
      ]
     },
     "execution_count": 69,
     "metadata": {},
     "output_type": "execute_result"
    }
   ],
   "source": [
    "df_result.select(\"Distance\").distinct.count()"
   ]
  },
  {
   "cell_type": "code",
   "execution_count": 70,
   "metadata": {},
   "outputs": [
    {
     "data": {
      "text/plain": [
       "res56: org.apache.spark.sql.DataFrame = [Distance: double]\n"
      ]
     },
     "execution_count": 70,
     "metadata": {},
     "output_type": "execute_result"
    }
   ],
   "source": [
    "df_result.select(\"Distance\")"
   ]
  },
  {
   "cell_type": "code",
   "execution_count": 71,
   "metadata": {},
   "outputs": [
    {
     "name": "stdout",
     "output_type": "stream",
     "text": [
      "+--------+\n",
      "|Distance|\n",
      "+--------+\n",
      "|    14.9|\n",
      "|    13.4|\n",
      "|    15.5|\n",
      "|    15.4|\n",
      "|     2.4|\n",
      "|     8.0|\n",
      "|    10.2|\n",
      "|    24.7|\n",
      "|    32.3|\n",
      "|     0.0|\n",
      "|    17.9|\n",
      "|    43.3|\n",
      "|    11.4|\n",
      "|     5.4|\n",
      "|    23.8|\n",
      "|    16.6|\n",
      "|     7.0|\n",
      "|    11.5|\n",
      "|     3.5|\n",
      "|    31.7|\n",
      "|     6.1|\n",
      "|     9.5|\n",
      "|     7.7|\n",
      "|    17.3|\n",
      "|    25.2|\n",
      "|    31.6|\n",
      "|     6.6|\n",
      "|    34.7|\n",
      "|    20.5|\n",
      "|     8.7|\n",
      "|    13.3|\n",
      "|    28.8|\n",
      "|    12.5|\n",
      "|     3.7|\n",
      "|    10.3|\n",
      "|     4.5|\n",
      "|    19.9|\n",
      "|     5.7|\n",
      "|     1.4|\n",
      "|    26.1|\n",
      "|     6.7|\n",
      "|     0.7|\n",
      "|     7.4|\n",
      "|     2.3|\n",
      "|    13.8|\n",
      "|     6.5|\n",
      "|    45.2|\n",
      "|    null|\n",
      "|    19.6|\n",
      "|     3.4|\n",
      "|    21.1|\n",
      "|    16.1|\n",
      "|    18.0|\n",
      "|    35.4|\n",
      "|    20.8|\n",
      "|    16.7|\n",
      "|    16.5|\n",
      "|    23.6|\n",
      "|    12.8|\n",
      "|     8.4|\n",
      "|     2.5|\n",
      "|    23.2|\n",
      "|    39.0|\n",
      "|     9.8|\n",
      "|    17.5|\n",
      "|    18.4|\n",
      "|    12.3|\n",
      "|    34.6|\n",
      "|    44.2|\n",
      "|    22.9|\n",
      "|    12.1|\n",
      "|     3.1|\n",
      "|    21.3|\n",
      "|    20.1|\n",
      "|    13.9|\n",
      "|    12.9|\n",
      "|     2.7|\n",
      "|    25.0|\n",
      "|    14.2|\n",
      "|    22.7|\n",
      "|     4.1|\n",
      "|    39.8|\n",
      "|    12.4|\n",
      "|     2.8|\n",
      "|    34.9|\n",
      "|    41.0|\n",
      "|     9.3|\n",
      "|     8.8|\n",
      "|     8.6|\n",
      "|    15.2|\n",
      "|    11.2|\n",
      "|    35.5|\n",
      "|    21.8|\n",
      "|    11.1|\n",
      "|     7.5|\n",
      "|     4.0|\n",
      "|     1.9|\n",
      "|    10.1|\n",
      "|    43.4|\n",
      "|    29.8|\n",
      "|    10.8|\n",
      "|     8.9|\n",
      "|    23.0|\n",
      "|    24.8|\n",
      "|    33.3|\n",
      "|     6.2|\n",
      "|     9.4|\n",
      "|    14.5|\n",
      "|    34.1|\n",
      "|    10.6|\n",
      "|    25.9|\n",
      "|    33.8|\n",
      "|     3.8|\n",
      "|    14.6|\n",
      "|     5.1|\n",
      "|    22.2|\n",
      "|    37.5|\n",
      "|    13.7|\n",
      "|     4.2|\n",
      "|     9.9|\n",
      "|    14.7|\n",
      "|    35.2|\n",
      "|     1.3|\n",
      "|    15.3|\n",
      "|    48.1|\n",
      "|     7.3|\n",
      "|     4.3|\n",
      "|    11.0|\n",
      "|     7.9|\n",
      "|    23.5|\n",
      "|    10.7|\n",
      "|     5.3|\n",
      "|    13.5|\n",
      "|     8.5|\n",
      "|    14.0|\n",
      "|    17.2|\n",
      "|    27.1|\n",
      "|    36.9|\n",
      "|     3.2|\n",
      "|    12.2|\n",
      "|     7.2|\n",
      "|    13.1|\n",
      "|    14.3|\n",
      "|    27.2|\n",
      "|     1.6|\n",
      "|    12.6|\n",
      "|     3.0|\n",
      "|    29.3|\n",
      "|    13.6|\n",
      "|    29.5|\n",
      "|    28.5|\n",
      "|    20.4|\n",
      "|     2.0|\n",
      "|    10.9|\n",
      "|     1.2|\n",
      "|     6.9|\n",
      "|     1.8|\n",
      "|     1.5|\n",
      "|    47.3|\n",
      "|     9.1|\n",
      "|     8.2|\n",
      "|    27.7|\n",
      "|     6.8|\n",
      "|    18.7|\n",
      "|     7.8|\n",
      "|    21.5|\n",
      "|     6.3|\n",
      "|     2.6|\n",
      "|    12.7|\n",
      "|    38.0|\n",
      "|    27.0|\n",
      "|    26.5|\n",
      "|     5.9|\n",
      "|    13.0|\n",
      "|     4.4|\n",
      "|    45.9|\n",
      "|    10.4|\n",
      "|     5.2|\n",
      "|    14.8|\n",
      "|    33.0|\n",
      "|     4.6|\n",
      "|     6.4|\n",
      "|    16.2|\n",
      "|    20.0|\n",
      "|    11.8|\n",
      "|     3.6|\n",
      "|    25.5|\n",
      "|    31.4|\n",
      "|    17.4|\n",
      "|     9.2|\n",
      "|    15.0|\n",
      "|     5.0|\n",
      "|     9.7|\n",
      "|    30.4|\n",
      "|     2.1|\n",
      "|    16.3|\n",
      "|    11.7|\n",
      "|    10.5|\n",
      "|    31.2|\n",
      "|     5.8|\n",
      "|    20.6|\n",
      "|     9.0|\n",
      "|    26.0|\n",
      "|    47.4|\n",
      "|     5.5|\n",
      "|    16.0|\n",
      "|     3.3|\n",
      "|    12.0|\n",
      "|    23.3|\n",
      "|     8.1|\n",
      "|     5.6|\n",
      "|    17.6|\n",
      "|    18.8|\n",
      "+--------+\n",
      "only showing top 213 rows\n",
      "\n"
     ]
    }
   ],
   "source": [
    "df_result.select(\"Distance\").distinct.show(213)"
   ]
  },
  {
   "cell_type": "markdown",
   "metadata": {},
   "source": [
    "#### 3. Bathroom"
   ]
  },
  {
   "cell_type": "code",
   "execution_count": 72,
   "metadata": {},
   "outputs": [
    {
     "data": {
      "text/plain": [
       "res58: Long = 6447\n"
      ]
     },
     "execution_count": 72,
     "metadata": {},
     "output_type": "execute_result"
    }
   ],
   "source": [
    "df_result.filter(\"Bathroom IS NULL\").count()"
   ]
  },
  {
   "cell_type": "code",
   "execution_count": 73,
   "metadata": {},
   "outputs": [
    {
     "name": "stdout",
     "output_type": "stream",
     "text": [
      "+--------+\n",
      "|Bathroom|\n",
      "+--------+\n",
      "|     8.0|\n",
      "|     0.0|\n",
      "|     7.0|\n",
      "|     1.0|\n",
      "|     4.0|\n",
      "|     3.0|\n",
      "|     2.0|\n",
      "|     6.0|\n",
      "|     5.0|\n",
      "|     9.0|\n",
      "+--------+\n",
      "\n"
     ]
    },
    {
     "data": {
      "text/plain": [
       "df_result: org.apache.spark.sql.DataFrame = [Suburb: string, Rooms: double ... 20 more fields]\n"
      ]
     },
     "execution_count": 73,
     "metadata": {},
     "output_type": "execute_result"
    }
   ],
   "source": [
    "df_result= df_result.filter(!df_result(\"Bathroom\").isNull)\n",
    "df_result.select(\"Bathroom\").distinct.show()"
   ]
  },
  {
   "cell_type": "markdown",
   "metadata": {},
   "source": [
    "#### 4. Car"
   ]
  },
  {
   "cell_type": "code",
   "execution_count": 74,
   "metadata": {},
   "outputs": [
    {
     "data": {
      "text/plain": [
       "res60: Long = 8728\n"
      ]
     },
     "execution_count": 74,
     "metadata": {},
     "output_type": "execute_result"
    }
   ],
   "source": [
    "df.filter(\"Car IS NULL\").count()"
   ]
  },
  {
   "cell_type": "code",
   "execution_count": 75,
   "metadata": {},
   "outputs": [
    {
     "name": "stdout",
     "output_type": "stream",
     "text": [
      "+----+\n",
      "| Car|\n",
      "+----+\n",
      "| 8.0|\n",
      "| 0.0|\n",
      "| 7.0|\n",
      "|null|\n",
      "|18.0|\n",
      "| 1.0|\n",
      "| 4.0|\n",
      "|11.0|\n",
      "| 3.0|\n",
      "| 2.0|\n",
      "|10.0|\n",
      "| 6.0|\n",
      "| 5.0|\n",
      "| 9.0|\n",
      "+----+\n",
      "\n"
     ]
    }
   ],
   "source": [
    "df_result.select(\"Car\").distinct.show()"
   ]
  },
  {
   "cell_type": "code",
   "execution_count": 76,
   "metadata": {},
   "outputs": [
    {
     "name": "stdout",
     "output_type": "stream",
     "text": [
      "+----+\n",
      "| Car|\n",
      "+----+\n",
      "| 8.0|\n",
      "| 0.0|\n",
      "| 7.0|\n",
      "|18.0|\n",
      "| 1.0|\n",
      "| 4.0|\n",
      "|11.0|\n",
      "| 3.0|\n",
      "| 2.0|\n",
      "|10.0|\n",
      "| 6.0|\n",
      "| 5.0|\n",
      "| 9.0|\n",
      "+----+\n",
      "\n"
     ]
    },
    {
     "data": {
      "text/plain": [
       "df_result: org.apache.spark.sql.DataFrame = [Suburb: string, Rooms: double ... 20 more fields]\n"
      ]
     },
     "execution_count": 76,
     "metadata": {},
     "output_type": "execute_result"
    }
   ],
   "source": [
    "df_result= df_result.filter(!df_result(\"Car\").isNull)\n",
    "df_result.select(\"Car\").distinct.show()"
   ]
  },
  {
   "cell_type": "markdown",
   "metadata": {},
   "source": [
    "#### 5. Landsize"
   ]
  },
  {
   "cell_type": "code",
   "execution_count": 77,
   "metadata": {},
   "outputs": [
    {
     "data": {
      "text/plain": [
       "res63: Long = 2722\n"
      ]
     },
     "execution_count": 77,
     "metadata": {},
     "output_type": "execute_result"
    }
   ],
   "source": [
    "df_result.filter(\"Landsize IS NULL\").count()"
   ]
  },
  {
   "cell_type": "code",
   "execution_count": 78,
   "metadata": {},
   "outputs": [
    {
     "data": {
      "text/plain": [
       "res64: Long = 1546\n"
      ]
     },
     "execution_count": 78,
     "metadata": {},
     "output_type": "execute_result"
    }
   ],
   "source": [
    "df_result.select(\"Landsize\").distinct.count()"
   ]
  },
  {
   "cell_type": "code",
   "execution_count": 79,
   "metadata": {},
   "outputs": [
    {
     "data": {
      "text/plain": [
       "df_result: org.apache.spark.sql.DataFrame = [Suburb: string, Rooms: double ... 20 more fields]\n",
       "res65: Long = 1545\n"
      ]
     },
     "execution_count": 79,
     "metadata": {},
     "output_type": "execute_result"
    }
   ],
   "source": [
    "df_result= df_result.filter(!df_result(\"Landsize\").isNull)\n",
    "df_result.select(\"Landsize\").distinct.count()"
   ]
  },
  {
   "cell_type": "markdown",
   "metadata": {},
   "source": [
    "#### 6. BuildingArea"
   ]
  },
  {
   "cell_type": "code",
   "execution_count": 80,
   "metadata": {},
   "outputs": [
    {
     "data": {
      "text/plain": [
       "res66: Long = 8457\n"
      ]
     },
     "execution_count": 80,
     "metadata": {},
     "output_type": "execute_result"
    }
   ],
   "source": [
    "df_result.filter(\"BuildingArea IS NULL\").count()"
   ]
  },
  {
   "cell_type": "code",
   "execution_count": 81,
   "metadata": {},
   "outputs": [
    {
     "data": {
      "text/plain": [
       "res67: Long = 640\n"
      ]
     },
     "execution_count": 81,
     "metadata": {},
     "output_type": "execute_result"
    }
   ],
   "source": [
    "df_result.select(\"BuildingArea\").distinct.count()"
   ]
  },
  {
   "cell_type": "code",
   "execution_count": 82,
   "metadata": {},
   "outputs": [
    {
     "name": "stdout",
     "output_type": "stream",
     "text": [
      "+------------+\n",
      "|BuildingArea|\n",
      "+------------+\n",
      "|       305.0|\n",
      "|       558.0|\n",
      "|       934.0|\n",
      "|       496.0|\n",
      "|       147.0|\n",
      "|       170.0|\n",
      "|       720.0|\n",
      "|       184.0|\n",
      "|    140.7481|\n",
      "|       169.0|\n",
      "|       160.0|\n",
      "|        72.3|\n",
      "|        53.3|\n",
      "|        70.0|\n",
      "|       311.0|\n",
      "|        67.0|\n",
      "|       168.0|\n",
      "|        69.0|\n",
      "|       206.0|\n",
      "|         0.0|\n",
      "|       650.0|\n",
      "|      298.21|\n",
      "|       389.0|\n",
      "|       390.0|\n",
      "|       594.0|\n",
      "|      129.92|\n",
      "|       365.0|\n",
      "|       249.0|\n",
      "|         7.0|\n",
      "|       112.9|\n",
      "|      115.96|\n",
      "|       677.0|\n",
      "|       401.0|\n",
      "|       142.0|\n",
      "|       191.0|\n",
      "|       329.0|\n",
      "|       112.0|\n",
      "|       154.0|\n",
      "|       35.64|\n",
      "|      200.71|\n",
      "|       113.6|\n",
      "|       232.0|\n",
      "|       521.0|\n",
      "|       124.0|\n",
      "|       438.0|\n",
      "|       348.0|\n",
      "|       303.0|\n",
      "|       410.0|\n",
      "|       625.0|\n",
      "|       317.0|\n",
      "|       253.0|\n",
      "|       331.0|\n",
      "|       153.1|\n",
      "|       128.0|\n",
      "|       201.0|\n",
      "|       353.0|\n",
      "|       235.0|\n",
      "|       93.84|\n",
      "|      409.54|\n",
      "|      118.54|\n",
      "|      121.84|\n",
      "|       180.0|\n",
      "|       108.0|\n",
      "|       271.0|\n",
      "|       255.0|\n",
      "|       439.0|\n",
      "|       430.0|\n",
      "|       355.0|\n",
      "|       234.0|\n",
      "|      111.04|\n",
      "|      122.86|\n",
      "|      182.85|\n",
      "|       133.0|\n",
      "|       672.0|\n",
      "|       181.0|\n",
      "|       449.0|\n",
      "|       358.0|\n",
      "|       673.0|\n",
      "|       148.5|\n",
      "|        88.0|\n",
      "|       280.0|\n",
      "|      136.49|\n",
      "|       660.0|\n",
      "|       286.0|\n",
      "|        49.0|\n",
      "|       156.6|\n",
      "|       100.6|\n",
      "|       155.0|\n",
      "|       214.0|\n",
      "|       443.0|\n",
      "|        63.4|\n",
      "|       116.4|\n",
      "|       301.0|\n",
      "|       584.0|\n",
      "|       478.0|\n",
      "|       350.0|\n",
      "|       101.0|\n",
      "|       321.0|\n",
      "|       217.0|\n",
      "|       116.0|\n",
      "|        98.0|\n",
      "|       167.0|\n",
      "|       238.0|\n",
      "|       342.0|\n",
      "|        45.4|\n",
      "|       107.0|\n",
      "|       268.0|\n",
      "|       182.0|\n",
      "|       427.0|\n",
      "|       413.0|\n",
      "|       225.5|\n",
      "|       221.3|\n",
      "|        29.0|\n",
      "|        75.0|\n",
      "|        64.0|\n",
      "|        47.0|\n",
      "|       279.0|\n",
      "|       508.0|\n",
      "|        42.0|\n",
      "|       380.0|\n",
      "|       103.6|\n",
      "|        94.3|\n",
      "|        92.5|\n",
      "|       89.25|\n",
      "|       737.0|\n",
      "|       144.0|\n",
      "|       215.0|\n",
      "|       538.0|\n",
      "|       490.0|\n",
      "|       465.0|\n",
      "|        44.0|\n",
      "|       236.0|\n",
      "|       93.82|\n",
      "|       437.0|\n",
      "|        96.0|\n",
      "|        62.0|\n",
      "|        35.0|\n",
      "|       126.7|\n",
      "|       219.0|\n",
      "|       378.0|\n",
      "|       151.0|\n",
      "|       419.0|\n",
      "|       405.0|\n",
      "|        30.6|\n",
      "|        18.0|\n",
      "|       395.0|\n",
      "|       275.0|\n",
      "|       529.0|\n",
      "|       346.0|\n",
      "|       258.0|\n",
      "|       665.0|\n",
      "|      123.21|\n",
      "|      151.54|\n",
      "|        86.0|\n",
      "|        80.0|\n",
      "|       178.0|\n",
      "|       218.0|\n",
      "|       171.0|\n",
      "|       324.0|\n",
      "|       120.0|\n",
      "|       161.0|\n",
      "|       147.2|\n",
      "|       237.0|\n",
      "|      131.27|\n",
      "|       139.0|\n",
      "|       287.0|\n",
      "|       393.0|\n",
      "|       513.0|\n",
      "|       251.0|\n",
      "|       177.0|\n",
      "|       308.0|\n",
      "|       229.0|\n",
      "|       426.0|\n",
      "|        85.2|\n",
      "|      183.84|\n",
      "|       159.0|\n",
      "|       356.0|\n",
      "|       373.0|\n",
      "|       518.0|\n",
      "|       231.0|\n",
      "|       339.0|\n",
      "|       272.0|\n",
      "|       274.0|\n",
      "|      110.87|\n",
      "|       207.0|\n",
      "|       267.0|\n",
      "|       377.0|\n",
      "|       328.0|\n",
      "|       634.0|\n",
      "|       104.0|\n",
      "|         1.0|\n",
      "|        39.0|\n",
      "|       294.0|\n",
      "|       408.0|\n",
      "|       603.0|\n",
      "|       312.0|\n",
      "|        63.7|\n",
      "|       105.7|\n",
      "|      183.97|\n",
      "|       154.3|\n",
      "|       179.0|\n",
      "|       104.4|\n",
      "|       266.0|\n",
      "|       250.0|\n",
      "|       547.0|\n",
      "|       126.8|\n",
      "|       448.0|\n",
      "|        94.0|\n",
      "|       270.0|\n",
      "|       300.0|\n",
      "|       165.5|\n",
      "|       135.5|\n",
      "|       210.0|\n",
      "|       179.3|\n",
      "|       466.0|\n",
      "|       121.0|\n",
      "|       114.0|\n",
      "|       205.0|\n",
      "|       239.0|\n",
      "|       166.0|\n",
      "|      210.68|\n",
      "|        34.0|\n",
      "|        37.0|\n",
      "|       292.0|\n",
      "|        25.0|\n",
      "|       196.1|\n",
      "|       225.0|\n",
      "|        36.0|\n",
      "|        68.5|\n",
      "|       700.0|\n",
      "|       345.0|\n",
      "|       309.0|\n",
      "|       364.0|\n",
      "|        41.0|\n",
      "|       288.0|\n",
      "|       344.0|\n",
      "|        86.5|\n",
      "|       78.54|\n",
      "|       334.0|\n",
      "|       220.0|\n",
      "|       314.0|\n",
      "|       414.0|\n",
      "|       149.0|\n",
      "|       216.0|\n",
      "|       293.0|\n",
      "|       134.6|\n",
      "|       66.32|\n",
      "|       193.0|\n",
      "|       423.0|\n",
      "|       180.9|\n",
      "|       792.0|\n",
      "|       284.0|\n",
      "|       337.0|\n",
      "|       544.0|\n",
      "|       808.0|\n",
      "|       453.0|\n",
      "|       295.0|\n",
      "|        39.5|\n",
      "|       204.0|\n",
      "|       340.0|\n",
      "|         4.0|\n",
      "|      1041.0|\n",
      "|       349.0|\n",
      "|       137.0|\n",
      "|       245.0|\n",
      "|       246.0|\n",
      "|      113.81|\n",
      "|       227.6|\n",
      "|       649.0|\n",
      "|       212.0|\n",
      "|       296.0|\n",
      "|       318.0|\n",
      "|       424.0|\n",
      "|        98.5|\n",
      "|       495.0|\n",
      "|       326.0|\n",
      "|        85.0|\n",
      "|       145.0|\n",
      "|       122.0|\n",
      "|       435.0|\n",
      "|       330.0|\n",
      "|      105.23|\n",
      "|       85.35|\n",
      "|       165.0|\n",
      "|       197.0|\n",
      "|       370.0|\n",
      "|       789.0|\n",
      "|       585.0|\n",
      "|        61.6|\n",
      "|       516.0|\n",
      "|       252.0|\n",
      "|       140.0|\n",
      "|        77.0|\n",
      "|       199.0|\n",
      "|       282.0|\n",
      "|        77.5|\n",
      "|       199.5|\n",
      "|       368.0|\n",
      "|        50.0|\n",
      "|        56.0|\n",
      "|      266.53|\n",
      "|       123.0|\n",
      "|       242.0|\n",
      "|       285.0|\n",
      "|        78.0|\n",
      "|       248.0|\n",
      "|       367.0|\n",
      "|       66.23|\n",
      "|       397.0|\n",
      "|        79.0|\n",
      "|       113.0|\n",
      "|       213.0|\n",
      "|       530.0|\n",
      "|       272.4|\n",
      "|      180.56|\n",
      "|       259.0|\n",
      "|       302.0|\n",
      "|       351.0|\n",
      "|    826.8367|\n",
      "|        83.0|\n",
      "|       618.0|\n",
      "|        45.0|\n",
      "|       134.0|\n",
      "|       129.0|\n",
      "|       525.0|\n",
      "|       101.7|\n",
      "|       118.0|\n",
      "|       323.0|\n",
      "|       95.88|\n",
      "|       186.0|\n",
      "|        71.0|\n",
      "|       719.0|\n",
      "|       416.0|\n",
      "|       143.0|\n",
      "|       361.0|\n",
      "|       156.0|\n",
      "|       173.0|\n",
      "|       528.0|\n",
      "|      225.98|\n",
      "|        93.0|\n",
      "|       241.0|\n",
      "|       320.0|\n",
      "|    371.6122|\n",
      "|       464.3|\n",
      "|       132.6|\n",
      "|        43.7|\n",
      "|       310.0|\n",
      "|       467.0|\n",
      "|    195.0964|\n",
      "|       132.0|\n",
      "|       281.0|\n",
      "|       162.0|\n",
      "|      173.45|\n",
      "|       736.0|\n",
      "|        94.5|\n",
      "|       146.0|\n",
      "|       164.0|\n",
      "|      130.52|\n",
      "|       230.0|\n",
      "|       103.0|\n",
      "|       400.0|\n",
      "|        11.0|\n",
      "|       534.0|\n",
      "|       106.0|\n",
      "|        58.0|\n",
      "|       298.0|\n",
      "|       264.0|\n",
      "|       332.0|\n",
      "|        80.7|\n",
      "|       130.0|\n",
      "|        51.0|\n",
      "|        72.0|\n",
      "|        21.0|\n",
      "|        14.0|\n",
      "|      6791.0|\n",
      "|      1561.0|\n",
      "|       109.0|\n",
      "|      1143.0|\n",
      "|      101.51|\n",
      "|       391.0|\n",
      "|       129.7|\n",
      "|       105.9|\n",
      "|       336.0|\n",
      "|       697.0|\n",
      "|       111.0|\n",
      "|       411.0|\n",
      "|        63.0|\n",
      "|       157.0|\n",
      "|       273.0|\n",
      "|        48.0|\n",
      "|      116.65|\n",
      "|       109.5|\n",
      "|        22.0|\n",
      "|       613.0|\n",
      "|       836.0|\n",
      "|        82.0|\n",
      "|       262.0|\n",
      "|        60.0|\n",
      "|        74.0|\n",
      "|       247.0|\n",
      "|       575.0|\n",
      "|        66.0|\n",
      "|       175.0|\n",
      "|       297.0|\n",
      "|      178.74|\n",
      "|       654.0|\n",
      "|       307.0|\n",
      "|       169.5|\n",
      "|      148.47|\n",
      "|       291.0|\n",
      "|      3558.0|\n",
      "|       142.6|\n",
      "|      186.75|\n",
      "|       392.0|\n",
      "|       263.5|\n",
      "|       553.0|\n",
      "|       325.0|\n",
      "|       243.0|\n",
      "|        68.0|\n",
      "|       461.0|\n",
      "|       139.4|\n",
      "|       114.2|\n",
      "|       81.79|\n",
      "|         3.0|\n",
      "|        53.0|\n",
      "|        19.0|\n",
      "|        61.0|\n",
      "|       195.0|\n",
      "|       189.0|\n",
      "|       362.0|\n",
      "|       106.2|\n",
      "|       75.45|\n",
      "|       341.0|\n",
      "|        81.0|\n",
      "|        59.0|\n",
      "|       202.0|\n",
      "|       221.0|\n",
      "|       182.9|\n",
      "|        46.0|\n",
      "|       338.0|\n",
      "|      266.76|\n",
      "|       352.0|\n",
      "|       333.0|\n",
      "|      199.73|\n",
      "|        88.3|\n",
      "|        28.0|\n",
      "|       68.11|\n",
      "|       366.0|\n",
      "|       254.0|\n",
      "|        57.0|\n",
      "|       399.0|\n",
      "|       502.0|\n",
      "|         2.0|\n",
      "|       557.0|\n",
      "|       289.0|\n",
      "|        87.0|\n",
      "|       183.0|\n",
      "|       198.0|\n",
      "|       176.0|\n",
      "|       106.9|\n",
      "|       200.0|\n",
      "|       372.0|\n",
      "|       347.0|\n",
      "|       653.0|\n",
      "|       257.0|\n",
      "|        99.5|\n",
      "|      101.76|\n",
      "|       454.0|\n",
      "|       431.0|\n",
      "|       503.0|\n",
      "|       463.0|\n",
      "|       152.0|\n",
      "|       153.0|\n",
      "|       187.0|\n",
      "|       290.0|\n",
      "|      515.78|\n",
      "|       135.0|\n",
      "|       475.0|\n",
      "|       119.0|\n",
      "|      255.79|\n",
      "|      184.75|\n",
      "|       388.5|\n",
      "|       315.0|\n",
      "|       444.0|\n",
      "|       196.0|\n",
      "|      122.25|\n",
      "|        38.0|\n",
      "|      109.98|\n",
      "|       420.0|\n",
      "|       277.0|\n",
      "|      306.19|\n",
      "|        27.0|\n",
      "|       141.0|\n",
      "|       138.0|\n",
      "|       115.0|\n",
      "|       261.0|\n",
      "|       208.0|\n",
      "|        10.0|\n",
      "|      124.45|\n",
      "|      104.63|\n",
      "|        73.0|\n",
      "|       263.0|\n",
      "|       357.0|\n",
      "|       686.0|\n",
      "|       125.0|\n",
      "|        40.0|\n",
      "|        30.0|\n",
      "|       607.0|\n",
      "|       316.0|\n",
      "|       107.4|\n",
      "|    157.9352|\n",
      "|       727.0|\n",
      "|       260.0|\n",
      "|       194.0|\n",
      "|       766.0|\n",
      "|        99.0|\n",
      "|        13.0|\n",
      "|       211.0|\n",
      "|       560.0|\n",
      "|       127.0|\n",
      "|       188.0|\n",
      "|       256.0|\n",
      "|       335.0|\n",
      "|      101.37|\n",
      "|      193.74|\n",
      "|        95.0|\n",
      "|       407.0|\n",
      "|       276.0|\n",
      "|        82.3|\n",
      "|       177.8|\n",
      "|       185.0|\n",
      "|       224.0|\n",
      "|       123.5|\n",
      "|       100.0|\n",
      "|       102.0|\n",
      "|       131.0|\n",
      "|      3112.0|\n",
      "|       354.0|\n",
      "|       501.0|\n",
      "|        84.0|\n",
      "|        33.0|\n",
      "|       283.0|\n",
      "|    157.9351|\n",
      "|      167.87|\n",
      "|        92.0|\n",
      "|       172.0|\n",
      "|       327.0|\n",
      "|       374.0|\n",
      "|       181.6|\n",
      "|      167.13|\n",
      "|       233.0|\n",
      "|       106.4|\n",
      "|       269.0|\n",
      "|       425.0|\n",
      "|      6178.0|\n",
      "|       227.0|\n",
      "|        20.0|\n",
      "|       76.77|\n",
      "|       477.0|\n",
      "|      113.76|\n",
      "|       113.2|\n",
      "|     44515.0|\n",
      "|        52.0|\n",
      "|      186.36|\n",
      "|       222.0|\n",
      "|       228.0|\n",
      "|        32.0|\n",
      "|        97.0|\n",
      "|         5.0|\n",
      "|       265.0|\n",
      "|        15.0|\n",
      "|       127.8|\n",
      "|       105.0|\n",
      "|       319.0|\n",
      "|        89.0|\n",
      "|       363.0|\n",
      "|      270.18|\n",
      "|       192.0|\n",
      "|       360.0|\n",
      "|       190.0|\n",
      "|       680.0|\n",
      "|       117.0|\n",
      "|       240.0|\n",
      "|       126.0|\n",
      "|       121.8|\n",
      "|        44.4|\n",
      "|       447.0|\n",
      "|       163.0|\n",
      "|       136.0|\n",
      "|       209.0|\n",
      "|       306.0|\n",
      "|        55.0|\n",
      "|        82.6|\n",
      "|       226.0|\n",
      "|       520.0|\n",
      "|       418.0|\n",
      "|       223.0|\n",
      "|        26.0|\n",
      "|         9.0|\n",
      "|      106.76|\n",
      "|       540.0|\n",
      "|        65.0|\n",
      "|       470.0|\n",
      "|       304.0|\n",
      "|       506.0|\n",
      "|       196.8|\n",
      "|      168.01|\n",
      "|       150.0|\n",
      "|       244.0|\n",
      "|        16.0|\n",
      "|       375.0|\n",
      "|       429.0|\n",
      "|        12.0|\n",
      "|       278.0|\n",
      "|       313.0|\n",
      "|        72.9|\n",
      "|       531.0|\n",
      "|       406.0|\n",
      "|       174.0|\n",
      "|        54.0|\n",
      "|        76.0|\n",
      "|       158.0|\n",
      "|       148.0|\n",
      "|        43.0|\n",
      "|       134.3|\n",
      "|       398.0|\n",
      "|        90.0|\n",
      "|       512.0|\n",
      "|       322.0|\n",
      "|       450.0|\n",
      "|        42.2|\n",
      "|       417.0|\n",
      "|       110.0|\n",
      "|        91.0|\n",
      "|       203.0|\n",
      "|      1022.0|\n",
      "|       446.0|\n",
      "|       500.0|\n",
      "|       487.0|\n",
      "+------------+\n",
      "\n"
     ]
    },
    {
     "data": {
      "text/plain": [
       "df_result: org.apache.spark.sql.DataFrame = [Suburb: string, Rooms: double ... 20 more fields]\n"
      ]
     },
     "execution_count": 82,
     "metadata": {},
     "output_type": "execute_result"
    }
   ],
   "source": [
    "df_result= df_result.filter(!df_result(\"BuildingArea\").isNull)\n",
    "df_result.select(\"BuildingArea\").distinct.show(640)"
   ]
  },
  {
   "cell_type": "code",
   "execution_count": 83,
   "metadata": {},
   "outputs": [
    {
     "data": {
      "text/plain": [
       "res69: Long = 9244\n"
      ]
     },
     "execution_count": 83,
     "metadata": {},
     "output_type": "execute_result"
    }
   ],
   "source": [
    "df_result.count"
   ]
  },
  {
   "cell_type": "markdown",
   "metadata": {},
   "source": [
    "#### 7. Propertycount"
   ]
  },
  {
   "cell_type": "code",
   "execution_count": 84,
   "metadata": {},
   "outputs": [
    {
     "data": {
      "text/plain": [
       "res70: Long = 0\n"
      ]
     },
     "execution_count": 84,
     "metadata": {},
     "output_type": "execute_result"
    }
   ],
   "source": [
    "df_result.filter(\"Propertycount IS NULL\").count()"
   ]
  },
  {
   "cell_type": "code",
   "execution_count": 85,
   "metadata": {},
   "outputs": [
    {
     "data": {
      "text/plain": [
       "res71: Long = 639\n"
      ]
     },
     "execution_count": 85,
     "metadata": {},
     "output_type": "execute_result"
    }
   ],
   "source": [
    "df_result.select(\"BuildingArea\").distinct.count()"
   ]
  },
  {
   "cell_type": "code",
   "execution_count": 86,
   "metadata": {},
   "outputs": [
    {
     "name": "stdout",
     "output_type": "stream",
     "text": [
      "+-------------+\n",
      "|Propertycount|\n",
      "+-------------+\n",
      "|       1369.0|\n",
      "|       4385.0|\n",
      "|        608.0|\n",
      "|       3640.0|\n",
      "|      11925.0|\n",
      "|       4718.0|\n",
      "|        973.0|\n",
      "|       1554.0|\n",
      "|        389.0|\n",
      "|       2954.0|\n",
      "|        249.0|\n",
      "|        984.0|\n",
      "|        902.0|\n",
      "|       1130.0|\n",
      "|       3755.0|\n",
      "|        802.0|\n",
      "|       2417.0|\n",
      "|       5051.0|\n",
      "|        438.0|\n",
      "|       6065.0|\n",
      "|      11308.0|\n",
      "|       3284.0|\n",
      "|        588.0|\n",
      "|       8524.0|\n",
      "|       4497.0|\n",
      "|      10160.0|\n",
      "|       3600.0|\n",
      "|       4654.0|\n",
      "|       6938.0|\n",
      "|       4973.0|\n",
      "|       2949.0|\n",
      "|       1123.0|\n",
      "|       2291.0|\n",
      "|       1345.0|\n",
      "|       1475.0|\n",
      "|       6380.0|\n",
      "|       3224.0|\n",
      "|       8743.0|\n",
      "|       6464.0|\n",
      "|       1607.0|\n",
      "|       6795.0|\n",
      "|       9028.0|\n",
      "|      11364.0|\n",
      "|      17384.0|\n",
      "|       7082.0|\n",
      "|       4707.0|\n",
      "|       6388.0|\n",
      "|       7822.0|\n",
      "|       6990.0|\n",
      "|      10788.0|\n",
      "|       1624.0|\n",
      "|       5556.0|\n",
      "|       4704.0|\n",
      "|       2555.0|\n",
      "|       8989.0|\n",
      "|       5837.0|\n",
      "|       5811.0|\n",
      "|        642.0|\n",
      "|       5262.0|\n",
      "|       2547.0|\n",
      "|       6923.0|\n",
      "|       2674.0|\n",
      "|       1442.0|\n",
      "|       2356.0|\n",
      "|       1889.0|\n",
      "|       3106.0|\n",
      "|       4605.0|\n",
      "|      10331.0|\n",
      "|       1008.0|\n",
      "|       1721.0|\n",
      "|       4898.0|\n",
      "|      14949.0|\n",
      "|      17496.0|\n",
      "|       4380.0|\n",
      "|       2768.0|\n",
      "|       7570.0|\n",
      "|       6482.0|\n",
      "|      11204.0|\n",
      "|       2890.0|\n",
      "|      10412.0|\n",
      "|       6763.0|\n",
      "|       2309.0|\n",
      "|       2671.0|\n",
      "|       2887.0|\n",
      "|       3052.0|\n",
      "|       1490.0|\n",
      "|       3376.0|\n",
      "|       8870.0|\n",
      "|       2339.0|\n",
      "|        709.0|\n",
      "|       5420.0|\n",
      "|       5498.0|\n",
      "|       2276.0|\n",
      "|      11806.0|\n",
      "|       2474.0|\n",
      "|       1240.0|\n",
      "|       4502.0|\n",
      "|       1058.0|\n",
      "|       2170.0|\n",
      "|       7809.0|\n",
      "|       3650.0|\n",
      "|       2230.0|\n",
      "|       5366.0|\n",
      "|       3906.0|\n",
      "|       2878.0|\n",
      "|       1705.0|\n",
      "|       1071.0|\n",
      "|       4242.0|\n",
      "|       1124.0|\n",
      "|       3789.0|\n",
      "|      10969.0|\n",
      "|       1281.0|\n",
      "|       4019.0|\n",
      "|       3988.0|\n",
      "|       4918.0|\n",
      "|       4675.0|\n",
      "|      10175.0|\n",
      "|       2379.0|\n",
      "|       5336.0|\n",
      "|       1543.0|\n",
      "|       1899.0|\n",
      "|       4790.0|\n",
      "|       4794.0|\n",
      "|       7719.0|\n",
      "|       4294.0|\n",
      "|       3598.0|\n",
      "|       2985.0|\n",
      "|       3589.0|\n",
      "|       5058.0|\n",
      "|       5833.0|\n",
      "|       2397.0|\n",
      "|       5825.0|\n",
      "|      10529.0|\n",
      "|       4217.0|\n",
      "|       3351.0|\n",
      "|       5454.0|\n",
      "|      14887.0|\n",
      "|       4864.0|\n",
      "|       5629.0|\n",
      "|       2546.0|\n",
      "|       5678.0|\n",
      "|      14042.0|\n",
      "|       2211.0|\n",
      "|       1223.0|\n",
      "|       6567.0|\n",
      "|       6244.0|\n",
      "|       1160.0|\n",
      "|       3265.0|\n",
      "|       1414.0|\n",
      "|       2206.0|\n",
      "|       2970.0|\n",
      "|       5682.0|\n",
      "|       3873.0|\n",
      "|       6202.0|\n",
      "|       2076.0|\n",
      "|       3593.0|\n",
      "|       4442.0|\n",
      "|       7412.0|\n",
      "|      21650.0|\n",
      "|      11667.0|\n",
      "|       3553.0|\n",
      "|       2246.0|\n",
      "|       1308.0|\n",
      "|       2606.0|\n",
      "|        534.0|\n",
      "|       3040.0|\n",
      "|       2185.0|\n",
      "|       4048.0|\n",
      "|        821.0|\n",
      "|       7254.0|\n",
      "|       1690.0|\n",
      "|       2952.0|\n",
      "|      10926.0|\n",
      "|       4054.0|\n",
      "|       2493.0|\n",
      "|       5087.0|\n",
      "|       2243.0|\n",
      "|       2894.0|\n",
      "|       3285.0|\n",
      "|       4734.0|\n",
      "|       5943.0|\n",
      "|       3891.0|\n",
      "|       4181.0|\n",
      "|       4387.0|\n",
      "|       2898.0|\n",
      "|       1863.0|\n",
      "|       2651.0|\n",
      "|        790.0|\n",
      "|      15542.0|\n",
      "|       1158.0|\n",
      "|       2698.0|\n",
      "|       2591.0|\n",
      "|       3464.0|\n",
      "|       5533.0|\n",
      "|       4407.0|\n",
      "|       2727.0|\n",
      "|        849.0|\n",
      "|       2871.0|\n",
      "|       5549.0|\n",
      "|       2019.0|\n",
      "|       1686.0|\n",
      "|        851.0|\n",
      "|       8443.0|\n",
      "|        962.0|\n",
      "|       3296.0|\n",
      "|       3540.0|\n",
      "|       3619.0|\n",
      "|       8077.0|\n",
      "|       2346.0|\n",
      "|       4258.0|\n",
      "|      13366.0|\n",
      "|       5263.0|\n",
      "|       1390.0|\n",
      "|       3794.0|\n",
      "|       4836.0|\n",
      "|       1651.0|\n",
      "|       2866.0|\n",
      "|       8060.0|\n",
      "|       3582.0|\n",
      "|       4553.0|\n",
      "|       9376.0|\n",
      "|       1119.0|\n",
      "|       5713.0|\n",
      "|      11918.0|\n",
      "|       6232.0|\n",
      "|       3940.0|\n",
      "|       4280.0|\n",
      "|       1999.0|\n",
      "|        290.0|\n",
      "|       8322.0|\n",
      "|        915.0|\n",
      "|       7969.0|\n",
      "|       7785.0|\n",
      "|       8459.0|\n",
      "|      14092.0|\n",
      "|       4480.0|\n",
      "|       2403.0|\n",
      "|       2867.0|\n",
      "|       6871.0|\n",
      "|      13830.0|\n",
      "|       7955.0|\n",
      "|      10579.0|\n",
      "|       1793.0|\n",
      "|       2079.0|\n",
      "|       1989.0|\n",
      "|        938.0|\n",
      "|      10999.0|\n",
      "|       2500.0|\n",
      "|       8279.0|\n",
      "|       5030.0|\n",
      "|       5812.0|\n",
      "|       3122.0|\n",
      "|       8648.0|\n",
      "|       1808.0|\n",
      "|       3533.0|\n",
      "|       3692.0|\n",
      "|       7485.0|\n",
      "|      14577.0|\n",
      "|       7566.0|\n",
      "|       9704.0|\n",
      "|       2259.0|\n",
      "|       8400.0|\n",
      "|       7392.0|\n",
      "|       5132.0|\n",
      "|       1052.0|\n",
      "|      13240.0|\n",
      "|       3578.0|\n",
      "|       2947.0|\n",
      "|      16166.0|\n",
      "|       2329.0|\n",
      "|      17093.0|\n",
      "|        892.0|\n",
      "|      17055.0|\n",
      "|      10894.0|\n",
      "|       6821.0|\n",
      "|       9264.0|\n",
      "|       3656.0|\n",
      "|       7113.0|\n",
      "|       8256.0|\n",
      "|       5424.0|\n",
      "|       3532.0|\n",
      "|        394.0|\n",
      "|       2332.0|\n",
      "|       7217.0|\n",
      "|       1328.0|\n",
      "|        570.0|\n",
      "|       6543.0|\n",
      "|       1202.0|\n",
      "|       9758.0|\n",
      "|      15321.0|\n",
      "|       3145.0|\n",
      "|        768.0|\n",
      "|       7717.0|\n",
      "|       2940.0|\n",
      "|       2824.0|\n",
      "|       8920.0|\n",
      "|       5070.0|\n",
      "|       8280.0|\n",
      "|       3728.0|\n",
      "|       7630.0|\n",
      "|       3307.0|\n",
      "|       3445.0|\n",
      "|       8801.0|\n",
      "|       1184.0|\n",
      "|       2126.0|\n",
      "|       3280.0|\n",
      "|       2003.0|\n",
      "|       7680.0|\n",
      "|       5301.0|\n",
      "|       6786.0|\n",
      "|       6162.0|\n",
      "|       5457.0|\n",
      "|        852.0|\n",
      "|      15510.0|\n",
      "|       2756.0|\n",
      "+-------------+\n",
      "\n"
     ]
    }
   ],
   "source": [
    "df_result.select(\"Propertycount\").distinct.show(639)"
   ]
  },
  {
   "cell_type": "code",
   "execution_count": 87,
   "metadata": {},
   "outputs": [
    {
     "name": "stdout",
     "output_type": "stream",
     "text": [
      "+-------+------------------+------------------+-----------------+------------------+------------------+\n",
      "|summary|             Price|             Rooms|         Distance|          Bathroom|               Car|\n",
      "+-------+------------------+------------------+-----------------+------------------+------------------+\n",
      "|  count|              9244|              9244|             9244|              9244|              9244|\n",
      "|   mean|1092328.5888143661|3.0981176979662486|11.24115101687565|1.6524231934227607|1.6953699697100821|\n",
      "| stddev| 679621.2070858623| 0.964029421835851|6.882570344620598|0.7249913332194025| 0.975528875592598|\n",
      "|    min|          131000.0|               1.0|              0.0|               1.0|               0.0|\n",
      "|    max|         9000000.0|              12.0|             48.1|               9.0|              10.0|\n",
      "+-------+------------------+------------------+-----------------+------------------+------------------+\n",
      "\n"
     ]
    }
   ],
   "source": [
    "df_result.describe().select(\"summary\",\"Price\", \"Rooms\",\"Distance\",\"Bathroom\",\"Car\").show()"
   ]
  },
  {
   "cell_type": "code",
   "execution_count": 88,
   "metadata": {},
   "outputs": [
    {
     "name": "stdout",
     "output_type": "stream",
     "text": [
      "+-------+------------------+-----------------+\n",
      "|summary|          Landsize|    Propertycount|\n",
      "+-------+------------------+-----------------+\n",
      "|  count|              9244|             9244|\n",
      "|   mean| 528.8338381652964|7463.866724361748|\n",
      "| stddev|1212.9650900679794|4369.422309704771|\n",
      "|    min|               0.0|            249.0|\n",
      "|    max|           44500.0|          21650.0|\n",
      "+-------+------------------+-----------------+\n",
      "\n"
     ]
    }
   ],
   "source": [
    "df_result.describe().select(\"summary\",\"Landsize\",\"Propertycount\").show()"
   ]
  },
  {
   "cell_type": "code",
   "execution_count": 89,
   "metadata": {},
   "outputs": [
    {
     "data": {
      "text/plain": [
       "res75: Long = 9244\n"
      ]
     },
     "execution_count": 89,
     "metadata": {},
     "output_type": "execute_result"
    }
   ],
   "source": [
    "df_result.count()"
   ]
  },
  {
   "cell_type": "markdown",
   "metadata": {},
   "source": [
    "#### Filtering null values"
   ]
  },
  {
   "cell_type": "code",
   "execution_count": null,
   "metadata": {},
   "outputs": [],
   "source": [
    "val df_not_null = df_result.na.drop\n",
    "df_not_null.count()"
   ]
  },
  {
   "cell_type": "code",
   "execution_count": null,
   "metadata": {},
   "outputs": [],
   "source": [
    "df_not_null.printSchema()\n"
   ]
  },
  {
   "cell_type": "markdown",
   "metadata": {},
   "source": [
    "#### Imputing null values"
   ]
  },
  {
   "cell_type": "markdown",
   "metadata": {},
   "source": [
    "### Group By and  Aggregation"
   ]
  },
  {
   "cell_type": "code",
   "execution_count": 91,
   "metadata": {},
   "outputs": [
    {
     "name": "stdout",
     "output_type": "stream",
     "text": [
      "+----------------+----------+\n",
      "|          Suburb|max(Price)|\n",
      "+----------------+----------+\n",
      "|  Brunswick West| 2350000.0|\n",
      "| South Melbourne| 3050000.0|\n",
      "|    Ivanhoe East| 3850000.0|\n",
      "|    Princes Hill| 1908000.0|\n",
      "|      Cranbourne|  910500.0|\n",
      "|         Ashwood| 1850000.0|\n",
      "|       Brunswick| 2545000.0|\n",
      "|South Kingsville| 1030000.0|\n",
      "|        Brighton| 5150000.0|\n",
      "|        Oak Park| 1390000.0|\n",
      "|         Doveton|  707000.0|\n",
      "|       Albanvale|  560000.0|\n",
      "|      Brookfield|  538000.0|\n",
      "|     Pascoe Vale| 1570000.0|\n",
      "| Blackburn North| 1570000.0|\n",
      "|     Sandringham| 2700000.0|\n",
      "|   Botanic Ridge|  750000.0|\n",
      "|          Carrum|  980000.0|\n",
      "|      Ascot Vale| 2425000.0|\n",
      "|  Sunshine North| 1190000.0|\n",
      "+----------------+----------+\n",
      "only showing top 20 rows\n",
      "\n"
     ]
    }
   ],
   "source": [
    "df_result.groupBy(\"Suburb\").agg(max(\"Price\")).show()"
   ]
  },
  {
   "cell_type": "code",
   "execution_count": 92,
   "metadata": {},
   "outputs": [
    {
     "name": "stdout",
     "output_type": "stream",
     "text": [
      "+----------------+----------+\n",
      "|          Suburb|min(Price)|\n",
      "+----------------+----------+\n",
      "|  Brunswick West|  252000.0|\n",
      "| South Melbourne|  407500.0|\n",
      "|    Ivanhoe East|  470000.0|\n",
      "|    Princes Hill| 1600000.0|\n",
      "|      Cranbourne|  720008.0|\n",
      "|         Ashwood|  600000.0|\n",
      "|       Brunswick|  272500.0|\n",
      "|South Kingsville|  380000.0|\n",
      "|        Brighton|  290000.0|\n",
      "|        Oak Park|  470000.0|\n",
      "|         Doveton|  450000.0|\n",
      "|       Albanvale|  506000.0|\n",
      "|      Brookfield|  456000.0|\n",
      "|     Pascoe Vale|  248500.0|\n",
      "| Blackburn North|  706000.0|\n",
      "|     Sandringham|  643500.0|\n",
      "|   Botanic Ridge|  750000.0|\n",
      "|          Carrum|  495000.0|\n",
      "|      Ascot Vale|  390000.0|\n",
      "|  Sunshine North|  435000.0|\n",
      "+----------------+----------+\n",
      "only showing top 20 rows\n",
      "\n"
     ]
    }
   ],
   "source": [
    "df_result.groupBy(\"Suburb\").agg(min(\"Price\")).show()"
   ]
  },
  {
   "cell_type": "code",
   "execution_count": 93,
   "metadata": {},
   "outputs": [
    {
     "name": "stdout",
     "output_type": "stream",
     "text": [
      "+--------+--------------------+\n",
      "|Distance|round(avg(Price), 0)|\n",
      "+--------+--------------------+\n",
      "|    14.9|            739543.0|\n",
      "|    15.5|           1038966.0|\n",
      "|    13.4|           1244368.0|\n",
      "|    15.4|           1018147.0|\n",
      "|     2.4|           1192184.0|\n",
      "|     8.0|           1159445.0|\n",
      "|    10.2|           1958140.0|\n",
      "|    24.7|            698971.0|\n",
      "|    32.3|            623000.0|\n",
      "|     0.0|            603000.0|\n",
      "|    17.9|            841709.0|\n",
      "|    43.3|            563000.0|\n",
      "|    11.4|           1040141.0|\n",
      "|     5.4|           2048658.0|\n",
      "|    16.6|            658000.0|\n",
      "|    23.8|            625500.0|\n",
      "|     7.0|           1062146.0|\n",
      "|    11.5|            746754.0|\n",
      "|     3.5|           1397590.0|\n",
      "|    31.7|            494725.0|\n",
      "+--------+--------------------+\n",
      "only showing top 20 rows\n",
      "\n"
     ]
    }
   ],
   "source": [
    "df_result.groupBy(\"Distance\").agg(round(mean(\"Price\"),0)).show()"
   ]
  },
  {
   "cell_type": "markdown",
   "metadata": {},
   "source": [
    "### Correlation\n",
    " <span style=\"font-size:16pt;color: red\">TO DO: FIND OUT CORRELATIONS between theses attributes </span> .\n",
    "\n",
    "Rooms:\n",
    "|-- Price:\n",
    "|-- Distance:\n",
    "|-- Rooms:\n",
    "|-- Bathroom:\n",
    "|-- Car:\n",
    "|-- Landsize:\n",
    "|-- BuildingArea:\n",
    "|-- YearBuilt:"
   ]
  },
  {
   "cell_type": "code",
   "execution_count": 94,
   "metadata": {},
   "outputs": [
    {
     "name": "stdout",
     "output_type": "stream",
     "text": [
      "+---------------------+\n",
      "|corr(Distance, Price)|\n",
      "+---------------------+\n",
      "| -0.23109535854491728|\n",
      "+---------------------+\n",
      "\n"
     ]
    },
    {
     "data": {
      "text/plain": [
       "import org.apache.spark.sql.functions.corr\n"
      ]
     },
     "execution_count": 94,
     "metadata": {},
     "output_type": "execute_result"
    }
   ],
   "source": [
    "import org.apache.spark.sql.functions.corr\n",
    "df_result.select(corr(\"Distance\",\"Price\")).show()"
   ]
  },
  {
   "cell_type": "code",
   "execution_count": 95,
   "metadata": {},
   "outputs": [
    {
     "name": "stdout",
     "output_type": "stream",
     "text": [
      "+------------------+\n",
      "|corr(Rooms, Price)|\n",
      "+------------------+\n",
      "|0.4725354566255438|\n",
      "+------------------+\n",
      "\n"
     ]
    }
   ],
   "source": [
    "df_result.select(corr(\"Rooms\",\"Price\")).show()"
   ]
  },
  {
   "cell_type": "code",
   "execution_count": 96,
   "metadata": {},
   "outputs": [
    {
     "name": "stdout",
     "output_type": "stream",
     "text": [
      "+---------------------+\n",
      "|corr(Bathroom, Price)|\n",
      "+---------------------+\n",
      "|  0.46131865546350354|\n",
      "+---------------------+\n",
      "\n"
     ]
    }
   ],
   "source": [
    "df_result.select(corr(\"Bathroom\",\"Price\")).show()"
   ]
  },
  {
   "cell_type": "code",
   "execution_count": 97,
   "metadata": {},
   "outputs": [
    {
     "name": "stdout",
     "output_type": "stream",
     "text": [
      "+------------------+\n",
      "|  corr(Car, Price)|\n",
      "+------------------+\n",
      "|0.2084128379555887|\n",
      "+------------------+\n",
      "\n"
     ]
    }
   ],
   "source": [
    "df_result.select(corr(\"Car\",\"Price\")).show()"
   ]
  },
  {
   "cell_type": "code",
   "execution_count": 98,
   "metadata": {},
   "outputs": [
    {
     "name": "stdout",
     "output_type": "stream",
     "text": [
      "+-------------------------+\n",
      "|corr(BuildingArea, Price)|\n",
      "+-------------------------+\n",
      "|      0.09644609706275929|\n",
      "+-------------------------+\n",
      "\n"
     ]
    }
   ],
   "source": [
    "df_result.select(corr(\"BuildingArea\",\"Price\")).show()"
   ]
  },
  {
   "cell_type": "code",
   "execution_count": 99,
   "metadata": {},
   "outputs": [
    {
     "name": "stdout",
     "output_type": "stream",
     "text": [
      "+---------------------+\n",
      "|corr(Landsize, Price)|\n",
      "+---------------------+\n",
      "|  0.05230373296484904|\n",
      "+---------------------+\n",
      "\n"
     ]
    }
   ],
   "source": [
    "df_result.select(corr(\"Landsize\",\"Price\")).show()"
   ]
  },
  {
   "cell_type": "code",
   "execution_count": 100,
   "metadata": {},
   "outputs": [
    {
     "name": "stdout",
     "output_type": "stream",
     "text": [
      "+-----------------+\n",
      "|corr(Date, Price)|\n",
      "+-----------------+\n",
      "|             null|\n",
      "+-----------------+\n",
      "\n"
     ]
    }
   ],
   "source": [
    "df_result.select(corr(\"Date\",\"Price\")).show()"
   ]
  },
  {
   "cell_type": "code",
   "execution_count": 101,
   "metadata": {},
   "outputs": [
    {
     "name": "stdout",
     "output_type": "stream",
     "text": [
      "+----------------------+\n",
      "|corr(YearBuilt, Price)|\n",
      "+----------------------+\n",
      "|  -0.31382021680954214|\n",
      "+----------------------+\n",
      "\n"
     ]
    }
   ],
   "source": [
    "df_result.select(corr(\"YearBuilt\",\"Price\")).show()"
   ]
  },
  {
   "cell_type": "code",
   "execution_count": 102,
   "metadata": {},
   "outputs": [
    {
     "name": "stdout",
     "output_type": "stream",
     "text": [
      "+--------------------------+\n",
      "|corr(Propertycount, Price)|\n",
      "+--------------------------+\n",
      "|      -0.05930593500382...|\n",
      "+--------------------------+\n",
      "\n"
     ]
    }
   ],
   "source": [
    "df_result.select(corr(\"Propertycount\",\"Price\")).show()"
   ]
  },
  {
   "cell_type": "markdown",
   "metadata": {},
   "source": [
    "### Select relevant features:"
   ]
  },
  {
   "cell_type": "code",
   "execution_count": 103,
   "metadata": {},
   "outputs": [
    {
     "data": {
      "text/plain": [
       "df_result: org.apache.spark.sql.DataFrame = [Price: double, Method: string ... 10 more fields]\n"
      ]
     },
     "execution_count": 103,
     "metadata": {},
     "output_type": "execute_result"
    }
   ],
   "source": [
    "\n",
    "df_result = df_result.select(\"Price\",\"Method\",\"Type\",\"Distance\",\"Rooms\",\"Bathroom\",\"Car\",\"Landsize\",\"Propertycount\", \"Suburb\",\"Street\",\"Date\")"
   ]
  },
  {
   "cell_type": "markdown",
   "metadata": {},
   "source": [
    "#### Write down clean data:"
   ]
  },
  {
   "cell_type": "code",
   "execution_count": 104,
   "metadata": {},
   "outputs": [],
   "source": [
    "! hadoop fs -mkdir -p /tmp/output"
   ]
  },
  {
   "cell_type": "code",
   "execution_count": 109,
   "metadata": {},
   "outputs": [
    {
     "name": "stdout",
     "output_type": "stream",
     "text": [
      "drwxrwx---   - root supergroup          0 2020-05-20 13:17 /tmp/hadoop-yarn\n",
      "\n",
      "\n",
      "drwxrwx---   - root supergroup          0 2020-05-20 13:17 /tmp/hadoop-yarn/staging\n",
      "\n",
      "\n",
      "drwxrwx---   - root supergroup          0 2020-05-20 13:17 /tmp/hadoop-yarn/staging/history\n",
      "\n",
      "\n",
      "drwxrwx---   - root supergroup          0 2020-05-20 13:17 /tmp/hadoop-yarn/staging/history/done\n",
      "\n",
      "\n",
      "drwxrwxrwt   - root supergroup          0 2020-05-20 13:17 /tmp/hadoop-yarn/staging/history/done_intermediate\n",
      "\n",
      "\n",
      "drwxr-xr-x   - root supergroup          0 2020-05-21 04:16 /tmp/output\n",
      "\n",
      "\n",
      "drwxr-xr-x   - root supergroup          0 2020-05-20 13:21 /tmp/rs_in\n",
      "\n",
      "\n",
      "-rw-r--r--   1 root root          5018236 2020-05-15 05:20 /tmp/rs_in/mh.csv\n",
      "\n",
      "\n"
     ]
    }
   ],
   "source": [
    "! hadoop fs -ls -R /tmp"
   ]
  },
  {
   "cell_type": "code",
   "execution_count": null,
   "metadata": {},
   "outputs": [],
   "source": [
    "df_result.coalesce(1).write.format(\"csv\").option(\"header\",\"true\").mode(\"overwrite\").option(\"sep\",\",\").save(\"hdfs://localhost:9000/tmp/output\")\n"
   ]
  },
  {
   "cell_type": "code",
   "execution_count": null,
   "metadata": {},
   "outputs": [],
   "source": [
    "df_result.coalesce(1).write.format(\"csv\").option(\"header\",\"true\").mode(\"overwrite\").csv(\"hdfs://localhost:9000/tmp/output\") "
   ]
  },
  {
   "cell_type": "code",
   "execution_count": 108,
   "metadata": {},
   "outputs": [],
   "source": [
    "! hadoop fs -ls /tmp/output"
   ]
  },
  {
   "cell_type": "code",
   "execution_count": null,
   "metadata": {},
   "outputs": [],
   "source": [
    "!rm ./output.csv "
   ]
  },
  {
   "cell_type": "markdown",
   "metadata": {},
   "source": [
    "Save the clean data to disk"
   ]
  },
  {
   "cell_type": "code",
   "execution_count": null,
   "metadata": {},
   "outputs": [],
   "source": [
    "! hadoop fs -copyToLocal /tmp/output/\\*.csv./../data-clean/mh.csv"
   ]
  },
  {
   "cell_type": "markdown",
   "metadata": {},
   "source": [
    "## References\n",
    "\n",
    "Apache Spark (n.d.). _Spark Scala API (Scaladoc). Overview._ https://spark.apache.org/docs/latest/api/java/overview-summary.html\n",
    "\n",
    "Apache Spark (n.d.). _Basic Statistic._ https://spark.apache.org/docs/latest/ml-statistics.html\n",
    "\n",
    "Bahadoor N. (2020). _Spark Tutorials_ https://allaboutscala.com/big-data/spark/#dataframe-statistics-correlation\n",
    "\n",
    "Databricks. (2020). _Introduction to DataFrames - Scala._  https://docs.databricks.com/spark/latest/dataframes-datasets/introduction-to-dataframes-scala.html \n",
    "\n",
    "Grimaldi E. (2018). _Pandas vs. Spark: how to handle dataframes (Part II.)_  https://towardsdatascience.com/python-pandas-vs-scala-how-to-handle-dataframes-part-ii-d3e5efe8287d \n",
    "\n"
   ]
  },
  {
   "cell_type": "code",
   "execution_count": null,
   "metadata": {},
   "outputs": [],
   "source": []
  }
 ],
 "metadata": {
  "kernelspec": {
   "display_name": "spylon-kernel",
   "language": "scala",
   "name": "spylon-kernel"
  },
  "language_info": {
   "codemirror_mode": "text/x-scala",
   "file_extension": ".scala",
   "help_links": [
    {
     "text": "MetaKernel Magics",
     "url": "https://metakernel.readthedocs.io/en/latest/source/README.html"
    }
   ],
   "mimetype": "text/x-scala",
   "name": "scala",
   "pygments_lexer": "scala",
   "version": "0.4.1"
  }
 },
 "nbformat": 4,
 "nbformat_minor": 4
}
