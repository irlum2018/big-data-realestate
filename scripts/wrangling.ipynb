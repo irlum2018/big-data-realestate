{
 "cells": [
  {
   "cell_type": "markdown",
   "metadata": {},
   "source": [
    "## Initialise Spark Session:"
   ]
  },
  {
   "cell_type": "code",
   "execution_count": 1,
   "metadata": {},
   "outputs": [
    {
     "data": {
      "text/plain": [
       "Intitializing Scala interpreter ..."
      ]
     },
     "metadata": {},
     "output_type": "display_data"
    },
    {
     "data": {
      "text/plain": [
       "Spark Web UI available at http://66a241763ee5:4040\n",
       "SparkContext available as 'sc' (version = 2.4.5, master = local[*], app id = local-1590132004514)\n",
       "SparkSession available as 'spark'\n"
      ]
     },
     "metadata": {},
     "output_type": "display_data"
    },
    {
     "name": "stdout",
     "output_type": "stream",
     "text": [
      "2020-05-22 07:20:11,139 WARN  [Thread-4] sql.SparkSession$Builder (Logging.scala:logWarning(66)) - Using an existing SparkSession; some configuration may not take effect.\n"
     ]
    },
    {
     "data": {
      "text/plain": [
       "spark: org.apache.spark.sql.SparkSession = org.apache.spark.sql.SparkSession@59d963ab\n"
      ]
     },
     "execution_count": 1,
     "metadata": {},
     "output_type": "execute_result"
    }
   ],
   "source": [
    "val spark = org.apache.spark.sql.SparkSession.builder\n",
    "        .master(\"local\") \n",
    "        .appName(\"Spark CSV Reader\")\n",
    "        .getOrCreate;"
   ]
  },
  {
   "cell_type": "markdown",
   "metadata": {},
   "source": [
    "### Preparing HDFS"
   ]
  },
  {
   "cell_type": "code",
   "execution_count": 2,
   "metadata": {},
   "outputs": [
    {
     "name": "stdout",
     "output_type": "stream",
     "text": [
      "/home/sandpit/big-data-realestate/scripts\r\n",
      "\n"
     ]
    }
   ],
   "source": [
    "!pwd"
   ]
  },
  {
   "cell_type": "code",
   "execution_count": 3,
   "metadata": {},
   "outputs": [
    {
     "name": "stdout",
     "output_type": "stream",
     "text": [
      "34858\r\n",
      "\n"
     ]
    }
   ],
   "source": [
    "!cat ./../data-raw/Melbourne_housing_FULL.csv| wc -l"
   ]
  },
  {
   "cell_type": "code",
   "execution_count": 4,
   "metadata": {},
   "outputs": [
    {
     "name": "stdout",
     "output_type": "stream",
     "text": [
      "Found 1 items\n",
      "\n",
      "\n",
      "-rw-r--r--   1 root root    5018236 2020-05-15 05:20 /tmp/rs_in/mh.csv\n",
      "\n",
      "\n"
     ]
    }
   ],
   "source": [
    "! hadoop fs -mkdir -p  /tmp/rs_in\n",
    "! hadoop fs -put   -p  ./../data-raw/Melbourne_housing_FULL.csv             /tmp/rs_in/mh.csv\n",
    "! hadoop fs -ls        /tmp/rs_in/"
   ]
  },
  {
   "cell_type": "code",
   "execution_count": 5,
   "metadata": {},
   "outputs": [
    {
     "name": "stdout",
     "output_type": "stream",
     "text": [
      "34858\r\n",
      "\n"
     ]
    }
   ],
   "source": [
    "!hadoop fs -cat /tmp/rs_in/mh.csv | wc -l"
   ]
  },
  {
   "cell_type": "markdown",
   "metadata": {},
   "source": [
    "### Get config info about hdfs:"
   ]
  },
  {
   "cell_type": "code",
   "execution_count": 6,
   "metadata": {},
   "outputs": [
    {
     "name": "stdout",
     "output_type": "stream",
     "text": [
      "hdfs://localhost:9000\r\n",
      "\n"
     ]
    }
   ],
   "source": [
    "!hdfs getconf -confKey fs.defaultFS"
   ]
  },
  {
   "cell_type": "code",
   "execution_count": 7,
   "metadata": {},
   "outputs": [
    {
     "data": {
      "text/plain": [
       "df: org.apache.spark.sql.DataFrame = [Suburb: string, Address: string ... 19 more fields]\n"
      ]
     },
     "execution_count": 7,
     "metadata": {},
     "output_type": "execute_result"
    }
   ],
   "source": [
    "val df = spark.read.format(\"csv\").option(\"header\", \"true\").load(\"hdfs://localhost:9000/tmp/rs_in/mh.csv\")"
   ]
  },
  {
   "cell_type": "markdown",
   "metadata": {},
   "source": [
    "### Print schema:"
   ]
  },
  {
   "cell_type": "code",
   "execution_count": 8,
   "metadata": {},
   "outputs": [
    {
     "name": "stdout",
     "output_type": "stream",
     "text": [
      "root\n",
      " |-- Suburb: string (nullable = true)\n",
      " |-- Address: string (nullable = true)\n",
      " |-- Rooms: string (nullable = true)\n",
      " |-- Type: string (nullable = true)\n",
      " |-- Price: string (nullable = true)\n",
      " |-- Method: string (nullable = true)\n",
      " |-- SellerG: string (nullable = true)\n",
      " |-- Date: string (nullable = true)\n",
      " |-- Distance: string (nullable = true)\n",
      " |-- Postcode: string (nullable = true)\n",
      " |-- Bedroom2: string (nullable = true)\n",
      " |-- Bathroom: string (nullable = true)\n",
      " |-- Car: string (nullable = true)\n",
      " |-- Landsize: string (nullable = true)\n",
      " |-- BuildingArea: string (nullable = true)\n",
      " |-- YearBuilt: string (nullable = true)\n",
      " |-- CouncilArea: string (nullable = true)\n",
      " |-- Lattitude: string (nullable = true)\n",
      " |-- Longtitude: string (nullable = true)\n",
      " |-- Regionname: string (nullable = true)\n",
      " |-- Propertycount: string (nullable = true)\n",
      "\n"
     ]
    }
   ],
   "source": [
    "df.printSchema()"
   ]
  },
  {
   "cell_type": "code",
   "execution_count": 9,
   "metadata": {},
   "outputs": [
    {
     "data": {
      "text/plain": [
       "res1: Array[String] = Array(Suburb, Address, Rooms, Type, Price, Method, SellerG, Date, Distance, Postcode, Bedroom2, Bathroom, Car, Landsize, BuildingArea, YearBuilt, CouncilArea, Lattitude, Longtitude, Regionname, Propertycount)\n"
      ]
     },
     "execution_count": 9,
     "metadata": {},
     "output_type": "execute_result"
    }
   ],
   "source": [
    "df.columns"
   ]
  },
  {
   "cell_type": "markdown",
   "metadata": {},
   "source": [
    "### Show column types:"
   ]
  },
  {
   "cell_type": "code",
   "execution_count": 10,
   "metadata": {},
   "outputs": [
    {
     "data": {
      "text/plain": [
       "res2: Array[(String, String)] = Array((Suburb,StringType), (Address,StringType), (Rooms,StringType), (Type,StringType), (Price,StringType), (Method,StringType), (SellerG,StringType), (Date,StringType), (Distance,StringType), (Postcode,StringType), (Bedroom2,StringType), (Bathroom,StringType), (Car,StringType), (Landsize,StringType), (BuildingArea,StringType), (YearBuilt,StringType), (CouncilArea,StringType), (Lattitude,StringType), (Longtitude,StringType), (Regionname,StringType), (Propertycount,StringType))\n"
      ]
     },
     "execution_count": 10,
     "metadata": {},
     "output_type": "execute_result"
    }
   ],
   "source": [
    "df.dtypes"
   ]
  },
  {
   "cell_type": "markdown",
   "metadata": {},
   "source": [
    "### Display first 12 columns:"
   ]
  },
  {
   "cell_type": "code",
   "execution_count": 11,
   "metadata": {},
   "outputs": [
    {
     "name": "stdout",
     "output_type": "stream",
     "text": [
      "+----------+-------------------+-----+----+-------+------+-------+---------+--------+--------+--------+----+\n",
      "|    Suburb|            Address|Rooms|Type|  Price|Method|SellerG|     Date|Distance|Postcode|Bathroom| Car|\n",
      "+----------+-------------------+-----+----+-------+------+-------+---------+--------+--------+--------+----+\n",
      "|Abbotsford|      68 Studley St|    2|   h|   null|    SS| Jellis|3/09/2016|     2.5|    3067|       1|   1|\n",
      "|Abbotsford|       85 Turner St|    2|   h|1480000|     S| Biggin|3/12/2016|     2.5|    3067|       1|   1|\n",
      "|Abbotsford|    25 Bloomburg St|    2|   h|1035000|     S| Biggin|4/02/2016|     2.5|    3067|       1|   0|\n",
      "|Abbotsford| 18/659 Victoria St|    3|   u|   null|    VB| Rounds|4/02/2016|     2.5|    3067|       2|   1|\n",
      "|Abbotsford|       5 Charles St|    3|   h|1465000|    SP| Biggin|4/03/2017|     2.5|    3067|       2|   0|\n",
      "|Abbotsford|   40 Federation La|    3|   h| 850000|    PI| Biggin|4/03/2017|     2.5|    3067|       2|   1|\n",
      "|Abbotsford|        55a Park St|    4|   h|1600000|    VB| Nelson|4/06/2016|     2.5|    3067|       1|   2|\n",
      "|Abbotsford|       16 Maugie St|    4|   h|   null|    SN| Nelson|6/08/2016|     2.5|    3067|       2|   2|\n",
      "|Abbotsford|       53 Turner St|    2|   h|   null|     S| Biggin|6/08/2016|     2.5|    3067|       1|   2|\n",
      "|Abbotsford|       99 Turner St|    2|   h|   null|     S|Collins|6/08/2016|     2.5|    3067|       2|   1|\n",
      "|Abbotsford|     129 Charles St|    2|   h| 941000|     S| Jellis|7/05/2016|     2.5|    3067|       1|   0|\n",
      "|Abbotsford|       124 Yarra St|    3|   h|1876000|     S| Nelson|7/05/2016|     2.5|    3067|       2|   0|\n",
      "|Abbotsford|121/56 Nicholson St|    2|   u|   null|    PI| Biggin|7/11/2016|     2.5|    3067|       2|   1|\n",
      "|Abbotsford|      17 Raphael St|    4|   h|   null|     W| Biggin|7/11/2016|     2.5|    3067|       2|   0|\n",
      "|Abbotsford|      98 Charles St|    2|   h|1636000|     S| Nelson|8/10/2016|     2.5|    3067|       1|   2|\n",
      "|Abbotsford|   217 Langridge St|    3|   h|1000000|     S| Jellis|8/10/2016|     2.5|    3067|    null|null|\n",
      "|Abbotsford|    18a Mollison St|    2|   t| 745000|     S| Jellis|8/10/2016|     2.5|    3067|    null|null|\n",
      "|Abbotsford| 6/241 Nicholson St|    1|   u| 300000|     S| Biggin|8/10/2016|     2.5|    3067|       1|   1|\n",
      "|Abbotsford|      10 Valiant St|    2|   h|1097000|     S| Biggin|8/10/2016|     2.5|    3067|       1|   2|\n",
      "|Abbotsford|403/609 Victoria St|    2|   u| 542000|     S| Dingle|8/10/2016|     2.5|    3067|    null|null|\n",
      "+----------+-------------------+-----+----+-------+------+-------+---------+--------+--------+--------+----+\n",
      "only showing top 20 rows\n",
      "\n"
     ]
    }
   ],
   "source": [
    "df.select(\"Suburb\",\"Address\",\"Rooms\",\"Type\",\"Price\",\"Method\",\"SellerG\",\"Date\",\"Distance\",\"Postcode\",\"Bathroom\",\"Car\").show()"
   ]
  },
  {
   "cell_type": "markdown",
   "metadata": {},
   "source": [
    "### Display last 8 columns:"
   ]
  },
  {
   "cell_type": "code",
   "execution_count": 12,
   "metadata": {},
   "outputs": [
    {
     "name": "stdout",
     "output_type": "stream",
     "text": [
      "+--------+------------+---------+------------------+---------+----------+--------------------+-------------+\n",
      "|Landsize|BuildingArea|YearBuilt|       CouncilArea|Lattitude|Longtitude|          Regionname|Propertycount|\n",
      "+--------+------------+---------+------------------+---------+----------+--------------------+-------------+\n",
      "|     126|        null|     null|Yarra City Council| -37.8014|  144.9958|Northern Metropol...|         4019|\n",
      "|     202|        null|     null|Yarra City Council| -37.7996|  144.9984|Northern Metropol...|         4019|\n",
      "|     156|          79|     1900|Yarra City Council| -37.8079|  144.9934|Northern Metropol...|         4019|\n",
      "|       0|        null|     null|Yarra City Council| -37.8114|  145.0116|Northern Metropol...|         4019|\n",
      "|     134|         150|     1900|Yarra City Council| -37.8093|  144.9944|Northern Metropol...|         4019|\n",
      "|      94|        null|     null|Yarra City Council| -37.7969|  144.9969|Northern Metropol...|         4019|\n",
      "|     120|         142|     2014|Yarra City Council| -37.8072|  144.9941|Northern Metropol...|         4019|\n",
      "|     400|         220|     2006|Yarra City Council| -37.7965|  144.9965|Northern Metropol...|         4019|\n",
      "|     201|        null|     1900|Yarra City Council| -37.7995|  144.9974|Northern Metropol...|         4019|\n",
      "|     202|        null|     1900|Yarra City Council| -37.7996|  144.9989|Northern Metropol...|         4019|\n",
      "+--------+------------+---------+------------------+---------+----------+--------------------+-------------+\n",
      "only showing top 10 rows\n",
      "\n"
     ]
    }
   ],
   "source": [
    "df.select(\"Landsize\",\"BuildingArea\",\"YearBuilt\",\"CouncilArea\",\"Lattitude\",\"Longtitude\",\"Regionname\",\"Propertycount\").show(10)"
   ]
  },
  {
   "cell_type": "code",
   "execution_count": 13,
   "metadata": {},
   "outputs": [
    {
     "name": "stdout",
     "output_type": "stream",
     "text": [
      "+-------+-----------------+------------------+------------------+------------------+------------------+\n",
      "|summary|            Price|             Rooms|          Distance|          Bathroom|               Car|\n",
      "+-------+-----------------+------------------+------------------+------------------+------------------+\n",
      "|  count|            27247|             34857|             34857|             26631|             26129|\n",
      "|   mean|1050173.344955408|3.0310124221820582|11.184929423916007| 1.624798167549097|1.7288453442535114|\n",
      "| stddev|641467.1301045999|0.9699329348975204| 6.788892455935938|0.7242120114699068|1.0107707853554244|\n",
      "|    min|          1000000|                 1|              #N/A|                 0|                 0|\n",
      "|    max|           999999|                 9|               9.9|                 9|                 9|\n",
      "+-------+-----------------+------------------+------------------+------------------+------------------+\n",
      "\n"
     ]
    }
   ],
   "source": [
    "df.describe().select(\"summary\",\"Price\", \"Rooms\",\"Distance\",\"Bathroom\",\"Car\").show()"
   ]
  },
  {
   "cell_type": "code",
   "execution_count": 14,
   "metadata": {},
   "outputs": [
    {
     "name": "stdout",
     "output_type": "stream",
     "text": [
      "+-------+-----------------+------------------+------------------+\n",
      "|summary|            Price|          Landsize|      BuildingArea|\n",
      "+-------+-----------------+------------------+------------------+\n",
      "|  count|            27247|             23047|             13742|\n",
      "|   mean|1050173.344955408|  593.598993361392| 160.2564003565711|\n",
      "| stddev|641467.1301045999|3398.8419464599056|401.26706008485496|\n",
      "|    min|          1000000|                 0|                 0|\n",
      "|    max|           999999|               999|               999|\n",
      "+-------+-----------------+------------------+------------------+\n",
      "\n"
     ]
    }
   ],
   "source": [
    "df.describe().select(\"summary\",\"Price\",\"Landsize\", \"BuildingArea\").show()"
   ]
  },
  {
   "cell_type": "markdown",
   "metadata": {},
   "source": [
    "#### Change \"#N/A\" to null"
   ]
  },
  {
   "cell_type": "code",
   "execution_count": 15,
   "metadata": {},
   "outputs": [
    {
     "data": {
      "text/plain": [
       "res7: Array[String] = Array(Suburb, Address, Rooms, Type, Price, Method, SellerG, Date, Distance, Postcode, Bedroom2, Bathroom, Car, Landsize, BuildingArea, YearBuilt, CouncilArea, Lattitude, Longtitude, Regionname, Propertycount)\n"
      ]
     },
     "execution_count": 15,
     "metadata": {},
     "output_type": "execute_result"
    }
   ],
   "source": [
    "df.columns"
   ]
  },
  {
   "cell_type": "code",
   "execution_count": 16,
   "metadata": {},
   "outputs": [
    {
     "data": {
      "text/plain": [
       "df_result: org.apache.spark.sql.DataFrame = [Suburb: string, Address: string ... 19 more fields]\n"
      ]
     },
     "execution_count": 16,
     "metadata": {},
     "output_type": "execute_result"
    }
   ],
   "source": [
    "var df_result = df\n",
    "for (colName <- df_result.columns){ \n",
    "  df_result = df_result.withColumn(colName, when(trim(df_result(colName)).equalTo(\"#N/A\"),null).otherwise(df_result(colName)))\n",
    "  }"
   ]
  },
  {
   "cell_type": "code",
   "execution_count": 17,
   "metadata": {},
   "outputs": [
    {
     "name": "stdout",
     "output_type": "stream",
     "text": [
      "+-------+-----------------+------------------+------------------+------------------+------------------+\n",
      "|summary|            Price|             Rooms|          Distance|          Bathroom|               Car|\n",
      "+-------+-----------------+------------------+------------------+------------------+------------------+\n",
      "|  count|            27247|             34857|             34856|             26631|             26129|\n",
      "|   mean|1050173.344955408|3.0310124221820582|11.184929423916007| 1.624798167549097|1.7288453442535114|\n",
      "| stddev|641467.1301045999|0.9699329348975204| 6.788892455935938|0.7242120114699068|1.0107707853554244|\n",
      "|    min|          1000000|                 1|                 0|                 0|                 0|\n",
      "|    max|           999999|                 9|               9.9|                 9|                 9|\n",
      "+-------+-----------------+------------------+------------------+------------------+------------------+\n",
      "\n"
     ]
    }
   ],
   "source": [
    "df_result.describe().select(\"summary\",\"Price\", \"Rooms\",\"Distance\",\"Bathroom\",\"Car\").show()"
   ]
  },
  {
   "cell_type": "markdown",
   "metadata": {},
   "source": [
    "#### Convert numeric data represented as string into double "
   ]
  },
  {
   "cell_type": "code",
   "execution_count": 18,
   "metadata": {},
   "outputs": [
    {
     "data": {
      "text/plain": [
       "doubleColNames: Array[String] = Array(Price, Rooms, Bedroom2, Distance, Bathroom, Car, Landsize, BuildingArea, Propertycount, YearBuilt, Lattitude, Longtitude)\n"
      ]
     },
     "execution_count": 18,
     "metadata": {},
     "output_type": "execute_result"
    }
   ],
   "source": [
    "val doubleColNames = df_result.select(\"Price\", \"Rooms\",\"Bedroom2\",\"Distance\",\"Bathroom\",\"Car\", \"Landsize\", \"BuildingArea\",\"Propertycount\",\n",
    "               \"YearBuilt\",\"Lattitude\", \"Longtitude\").columns\n",
    "//val colNames =df.columns\n",
    "for (colName<-doubleColNames){ \n",
    "    df_result=df_result.withColumn(colName,col(colName).cast(\"Double\"))\n",
    "}"
   ]
  },
  {
   "cell_type": "code",
   "execution_count": 19,
   "metadata": {},
   "outputs": [
    {
     "name": "stdout",
     "output_type": "stream",
     "text": [
      "root\n",
      " |-- Suburb: string (nullable = true)\n",
      " |-- Address: string (nullable = true)\n",
      " |-- Rooms: double (nullable = true)\n",
      " |-- Type: string (nullable = true)\n",
      " |-- Price: double (nullable = true)\n",
      " |-- Method: string (nullable = true)\n",
      " |-- SellerG: string (nullable = true)\n",
      " |-- Date: string (nullable = true)\n",
      " |-- Distance: double (nullable = true)\n",
      " |-- Postcode: string (nullable = true)\n",
      " |-- Bedroom2: double (nullable = true)\n",
      " |-- Bathroom: double (nullable = true)\n",
      " |-- Car: double (nullable = true)\n",
      " |-- Landsize: double (nullable = true)\n",
      " |-- BuildingArea: double (nullable = true)\n",
      " |-- YearBuilt: double (nullable = true)\n",
      " |-- CouncilArea: string (nullable = true)\n",
      " |-- Lattitude: double (nullable = true)\n",
      " |-- Longtitude: double (nullable = true)\n",
      " |-- Regionname: string (nullable = true)\n",
      " |-- Propertycount: double (nullable = true)\n",
      "\n"
     ]
    }
   ],
   "source": [
    "df_result.printSchema()"
   ]
  },
  {
   "cell_type": "markdown",
   "metadata": {},
   "source": [
    "### Filtering"
   ]
  },
  {
   "cell_type": "code",
   "execution_count": 20,
   "metadata": {},
   "outputs": [
    {
     "name": "stdout",
     "output_type": "stream",
     "text": [
      "+-----------------+-----+----+---------+------+---------+----------+--------+--------+--------+----+\n",
      "|          Address|Rooms|Type|    Price|Method|  SellerG|      Date|Distance|Postcode|Bathroom| Car|\n",
      "+-----------------+-----+----+---------+------+---------+----------+--------+--------+--------+----+\n",
      "|     7 Marbray Dr|  4.0|   h|     null|    SN|Harcourts| 1/07/2017|    16.7|    3150|     1.0| 2.0|\n",
      "|      24 Owens Av|  4.0|   h|1250000.0|     S|      Ray| 1/07/2017|    16.7|    3150|    null|null|\n",
      "|515 Springvale Rd|  3.0|   h|     null|    PI|      Ray| 1/07/2017|    16.7|    3150|     1.0| 2.0|\n",
      "| 22 Stableford Av|  3.0|   h|     null|     S|      Ray| 1/07/2017|    16.7|    3150|    null|null|\n",
      "|  28 Brentwood Dr|  5.0|   h|     null|    PI|      Ray| 3/06/2017|    16.7|    3150|     5.0| 2.0|\n",
      "|2/70 Leicester Av|  3.0|   t|     null|    SP|      LLC| 3/06/2017|    16.7|    3150|    null|null|\n",
      "|    38 Margate Cr|  3.0|   h|     null|    SN| Woodards| 3/06/2017|    16.7|    3150|    null|null|\n",
      "|    91 Orchard St|  4.0|   h|1750000.0|     S|Harcourts| 3/06/2017|    16.7|    3150|     1.0| 2.0|\n",
      "|     1/8 Short St|  2.0|   u|1100000.0|     S|      Ray| 3/06/2017|    16.7|    3150|     1.0| 1.0|\n",
      "|      20 The Rise|  4.0|   h|     null|     S|   Jellis| 3/06/2017|    16.7|    3150|     2.0| 2.0|\n",
      "|  6/22 Tulloch Gr|  3.0|   t|     null|    PN|Harcourts| 3/06/2017|    16.7|    3150|     2.0| 2.0|\n",
      "|   53 Campbell St|  3.0|   h|3056000.0|    PI|  VICProp|17/06/2017|    16.7|    3150|     2.0| 2.0|\n",
      "|      19 Crown St|  3.0|   h|     null|    PI|Harcourts|17/06/2017|    16.7|    3150|     2.0| 4.0|\n",
      "|   24 Florence St|  3.0|   h|1900000.0|    PI|Harcourts|17/06/2017|    16.7|    3150|     1.0| 0.0|\n",
      "|   2 Grevillia Ct|  4.0|   h|     null|    SN|   Biggin|17/06/2017|    16.7|    3150|     2.0| 2.0|\n",
      "|    57 Hinkler Rd|  3.0|   h|     null|    PI|   Biggin|17/06/2017|    16.7|    3150|     2.0| 0.0|\n",
      "|    7 Kinnoull Gr|  5.0|   h|2650000.0|    PI|   Jellis|17/06/2017|    16.7|    3150|     3.0| 2.0|\n",
      "|1/28 Leicester Av|  3.0|   u| 895000.0|     S|      Ray|17/06/2017|    16.7|    3150|    null|null|\n",
      "|     10 Lennox Av|  6.0|   h|1290000.0|     S|Harcourts|17/06/2017|    16.7|    3150|    null|null|\n",
      "|    39b Summit Cr|  5.0|   h|1125000.0|    PI| Woodards|17/06/2017|    16.7|    3150|    null|null|\n",
      "+-----------------+-----+----+---------+------+---------+----------+--------+--------+--------+----+\n",
      "only showing top 20 rows\n",
      "\n"
     ]
    }
   ],
   "source": [
    "df_result.filter($\"Suburb\"===\"Glen Waverley\").select(\"Address\",\"Rooms\",\"Type\",\"Price\",\"Method\",\"SellerG\",\"Date\",\"Distance\",\"Postcode\",\"Bathroom\",\"Car\").show()"
   ]
  },
  {
   "cell_type": "code",
   "execution_count": 21,
   "metadata": {},
   "outputs": [
    {
     "data": {
      "text/plain": [
       "res13: Long = 53\n"
      ]
     },
     "execution_count": 21,
     "metadata": {},
     "output_type": "execute_result"
    }
   ],
   "source": [
    "df_result.where(\"Price >1000000\").filter(\"Suburb = 'Abbotsford'\").select(\"Address\",\"Rooms\",\"Type\",\"Price\",\"Method\",\"SellerG\",\"Date\",\"Distance\",\"Postcode\",\"Bathroom\",\"Car\", \"Propertycount\").count()"
   ]
  },
  {
   "cell_type": "code",
   "execution_count": 22,
   "metadata": {},
   "outputs": [
    {
     "name": "stdout",
     "output_type": "stream",
     "text": [
      "+-------------------+-----+----+---------+------+--------+----------+--------+--------+--------+----+-------------+\n",
      "|            Address|Rooms|Type|    Price|Method| SellerG|      Date|Distance|Postcode|Bathroom| Car|Propertycount|\n",
      "+-------------------+-----+----+---------+------+--------+----------+--------+--------+--------+----+-------------+\n",
      "|       85 Turner St|  2.0|   h|1480000.0|     S|  Biggin| 3/12/2016|     2.5|    3067|     1.0| 1.0|       4019.0|\n",
      "|    25 Bloomburg St|  2.0|   h|1035000.0|     S|  Biggin| 4/02/2016|     2.5|    3067|     1.0| 0.0|       4019.0|\n",
      "|       5 Charles St|  3.0|   h|1465000.0|    SP|  Biggin| 4/03/2017|     2.5|    3067|     2.0| 0.0|       4019.0|\n",
      "|        55a Park St|  4.0|   h|1600000.0|    VB|  Nelson| 4/06/2016|     2.5|    3067|     1.0| 2.0|       4019.0|\n",
      "|       124 Yarra St|  3.0|   h|1876000.0|     S|  Nelson| 7/05/2016|     2.5|    3067|     2.0| 0.0|       4019.0|\n",
      "|      98 Charles St|  2.0|   h|1636000.0|     S|  Nelson| 8/10/2016|     2.5|    3067|     1.0| 2.0|       4019.0|\n",
      "|      10 Valiant St|  2.0|   h|1097000.0|     S|  Biggin| 8/10/2016|     2.5|    3067|     1.0| 2.0|       4019.0|\n",
      "|    40 Nicholson St|  3.0|   h|1350000.0|    VB|  Nelson|12/11/2016|     2.5|    3067|     2.0| 2.0|       4019.0|\n",
      "|         22 Park St|  4.0|   h|1985000.0|     S|  Biggin|12/11/2016|     2.5|    3067|    null|null|       4019.0|\n",
      "|      45 William St|  2.0|   h|1172500.0|     S|  Biggin|13/08/2016|     2.5|    3067|     1.0| 1.0|       4019.0|\n",
      "|      16 William St|  2.0|   h|1310000.0|     S|  Jellis|15/10/2016|     2.5|    3067|     1.0| 2.0|       4019.0|\n",
      "|        42 Henry St|  3.0|   h|1200000.0|     S|  Jellis|16/07/2016|     2.5|    3067|     2.0| 1.0|       4019.0|\n",
      "|        78 Yarra St|  3.0|   h|1176500.0|     S|  LITTLE|16/07/2016|     2.5|    3067|     1.0| 1.0|       4019.0|\n",
      "|    3/72 Charles St|  4.0|   h|1330000.0|    PI|     Kay|18/03/2017|     2.5|    3067|     2.0| 2.0|       4019.0|\n",
      "|138/56 Nicholson St|  3.0|   u|1090000.0|     S|  Jellis|18/03/2017|     2.5|    3067|     2.0| 2.0|       4019.0|\n",
      "|     52a William St|  2.0|   h|1100000.0|    PI|  Biggin|18/06/2016|     2.5|    3067|     2.0| 1.0|       4019.0|\n",
      "|         49 Park St|  2.0|   h|1315000.0|     S|Marshall|19/11/2016|     2.5|    3067|     1.0| 0.0|       4019.0|\n",
      "|   48 Abbotsford St|  3.0|   h|1447500.0|    PI|  Nelson|22/08/2016|     2.5|    3067|     3.0| 1.0|       4019.0|\n",
      "|        159 Park St|  2.0|   h|1135000.0|     S|  Nelson|22/08/2016|     2.5|    3067|     2.0| 2.0|       4019.0|\n",
      "|       31 Turner St|  4.0|   h|1542000.0|     S| Collins|24/09/2016|     2.5|    3067|     3.0| 1.0|       4019.0|\n",
      "+-------------------+-----+----+---------+------+--------+----------+--------+--------+--------+----+-------------+\n",
      "only showing top 20 rows\n",
      "\n"
     ]
    }
   ],
   "source": [
    "df_result.where(\"Price >1000000\").filter(\"Suburb = 'Abbotsford'\").select(\"Address\",\"Rooms\",\"Type\",\"Price\",\"Method\",\"SellerG\",\"Date\",\"Distance\",\"Postcode\",\"Bathroom\",\"Car\", \"Propertycount\").show()"
   ]
  },
  {
   "cell_type": "code",
   "execution_count": 23,
   "metadata": {},
   "outputs": [
    {
     "data": {
      "text/plain": [
       "res15: Array[(String, String)] = Array((Suburb,StringType))\n"
      ]
     },
     "execution_count": 23,
     "metadata": {},
     "output_type": "execute_result"
    }
   ],
   "source": [
    "df.dtypes.filter(colTup => colTup._1 == \"Suburb\")"
   ]
  },
  {
   "cell_type": "code",
   "execution_count": 24,
   "metadata": {},
   "outputs": [
    {
     "data": {
      "text/plain": [
       "res16: Long = 34857\n"
      ]
     },
     "execution_count": 24,
     "metadata": {},
     "output_type": "execute_result"
    }
   ],
   "source": [
    "df_result.select(\"Address\",\"Type\",\"Method\",\"SellerG\",\"Postcode\",\"CouncilArea\",\"Regionname\").count()"
   ]
  },
  {
   "cell_type": "markdown",
   "metadata": {},
   "source": [
    "### Categorical Attributes\n",
    "\n",
    "#### 1. Address"
   ]
  },
  {
   "cell_type": "code",
   "execution_count": 25,
   "metadata": {},
   "outputs": [
    {
     "name": "stdout",
     "output_type": "stream",
     "text": [
      "+-------------------+\n",
      "|            Address|\n",
      "+-------------------+\n",
      "|      557 Orrong Rd|\n",
      "|      19 Poulter St|\n",
      "|    43 Riverside Av|\n",
      "|       11 South Tce|\n",
      "|  41 Marlborough St|\n",
      "|          4 Park Cr|\n",
      "|        3/3 Dega Av|\n",
      "|        93 Tudor St|\n",
      "|         10 Kent Rd|\n",
      "|       18 Thomas St|\n",
      "|   1/1 Glen Iris Rd|\n",
      "|      7 Allambee Av|\n",
      "|    83 Truganini Rd|\n",
      "|       130 Keele St|\n",
      "|       8 Winters Wy|\n",
      "|     36a Mitford St|\n",
      "|   7/223 Station St|\n",
      "|1/146 Ascot Vale Rd|\n",
      "|    5/60 Farnham St|\n",
      "|      22 Renwick St|\n",
      "+-------------------+\n",
      "only showing top 20 rows\n",
      "\n"
     ]
    },
    {
     "data": {
      "text/plain": [
       "import org.apache.spark.sql.functions.countDistinct\n"
      ]
     },
     "execution_count": 25,
     "metadata": {},
     "output_type": "execute_result"
    }
   ],
   "source": [
    "// rename into street keep only street name\n",
    "import org.apache.spark.sql.functions.countDistinct\n",
    "df_result.select(\"Address\").distinct.show()"
   ]
  },
  {
   "cell_type": "code",
   "execution_count": 26,
   "metadata": {},
   "outputs": [
    {
     "data": {
      "text/plain": [
       "res18: Long = 0\n"
      ]
     },
     "execution_count": 26,
     "metadata": {},
     "output_type": "execute_result"
    }
   ],
   "source": [
    "df_result.filter(\"Address IS NULL\").count()"
   ]
  },
  {
   "cell_type": "code",
   "execution_count": 27,
   "metadata": {},
   "outputs": [
    {
     "data": {
      "text/plain": [
       "res19: Long = 34009\n"
      ]
     },
     "execution_count": 27,
     "metadata": {},
     "output_type": "execute_result"
    }
   ],
   "source": [
    "df_result.select(\"Address\").distinct.count()"
   ]
  },
  {
   "cell_type": "code",
   "execution_count": 28,
   "metadata": {},
   "outputs": [
    {
     "name": "stdout",
     "output_type": "stream",
     "text": [
      "root\n",
      " |-- Suburb: string (nullable = true)\n",
      " |-- Address: string (nullable = true)\n",
      " |-- Rooms: double (nullable = true)\n",
      " |-- Type: string (nullable = true)\n",
      " |-- Price: double (nullable = true)\n",
      " |-- Method: string (nullable = true)\n",
      " |-- SellerG: string (nullable = true)\n",
      " |-- Date: string (nullable = true)\n",
      " |-- Distance: double (nullable = true)\n",
      " |-- Postcode: string (nullable = true)\n",
      " |-- Bedroom2: double (nullable = true)\n",
      " |-- Bathroom: double (nullable = true)\n",
      " |-- Car: double (nullable = true)\n",
      " |-- Landsize: double (nullable = true)\n",
      " |-- BuildingArea: double (nullable = true)\n",
      " |-- YearBuilt: double (nullable = true)\n",
      " |-- CouncilArea: string (nullable = true)\n",
      " |-- Lattitude: double (nullable = true)\n",
      " |-- Longtitude: double (nullable = true)\n",
      " |-- Regionname: string (nullable = true)\n",
      " |-- Propertycount: double (nullable = true)\n",
      "\n"
     ]
    }
   ],
   "source": [
    "df_result.printSchema()"
   ]
  },
  {
   "cell_type": "markdown",
   "metadata": {},
   "source": [
    "#### Split Address on Street and Suffix"
   ]
  },
  {
   "cell_type": "code",
   "execution_count": 29,
   "metadata": {},
   "outputs": [
    {
     "name": "stdout",
     "output_type": "stream",
     "text": [
      "+----------+-----+----+---------+------+-------+---------+--------+--------+--------+--------+----+--------+------------+---------+------------------+---------+----------+--------------------+-------------+----------+------+\n",
      "|    Suburb|Rooms|Type|    Price|Method|SellerG|     Date|Distance|Postcode|Bedroom2|Bathroom| Car|Landsize|BuildingArea|YearBuilt|       CouncilArea|Lattitude|Longtitude|          Regionname|Propertycount|    Street|Suffix|\n",
      "+----------+-----+----+---------+------+-------+---------+--------+--------+--------+--------+----+--------+------------+---------+------------------+---------+----------+--------------------+-------------+----------+------+\n",
      "|Abbotsford|  2.0|   h|     null|    SS| Jellis|3/09/2016|     2.5|    3067|     2.0|     1.0| 1.0|   126.0|        null|     null|Yarra City Council| -37.8014|  144.9958|Northern Metropol...|       4019.0|   Studley|    St|\n",
      "|Abbotsford|  2.0|   h|1480000.0|     S| Biggin|3/12/2016|     2.5|    3067|     2.0|     1.0| 1.0|   202.0|        null|     null|Yarra City Council| -37.7996|  144.9984|Northern Metropol...|       4019.0|    Turner|    St|\n",
      "|Abbotsford|  2.0|   h|1035000.0|     S| Biggin|4/02/2016|     2.5|    3067|     2.0|     1.0| 0.0|   156.0|        79.0|   1900.0|Yarra City Council| -37.8079|  144.9934|Northern Metropol...|       4019.0| Bloomburg|    St|\n",
      "|Abbotsford|  3.0|   u|     null|    VB| Rounds|4/02/2016|     2.5|    3067|     3.0|     2.0| 1.0|     0.0|        null|     null|Yarra City Council| -37.8114|  145.0116|Northern Metropol...|       4019.0|  Victoria|    St|\n",
      "|Abbotsford|  3.0|   h|1465000.0|    SP| Biggin|4/03/2017|     2.5|    3067|     3.0|     2.0| 0.0|   134.0|       150.0|   1900.0|Yarra City Council| -37.8093|  144.9944|Northern Metropol...|       4019.0|   Charles|    St|\n",
      "|Abbotsford|  3.0|   h| 850000.0|    PI| Biggin|4/03/2017|     2.5|    3067|     3.0|     2.0| 1.0|    94.0|        null|     null|Yarra City Council| -37.7969|  144.9969|Northern Metropol...|       4019.0|Federation|    La|\n",
      "|Abbotsford|  4.0|   h|1600000.0|    VB| Nelson|4/06/2016|     2.5|    3067|     3.0|     1.0| 2.0|   120.0|       142.0|   2014.0|Yarra City Council| -37.8072|  144.9941|Northern Metropol...|       4019.0|      Park|    St|\n",
      "|Abbotsford|  4.0|   h|     null|    SN| Nelson|6/08/2016|     2.5|    3067|     3.0|     2.0| 2.0|   400.0|       220.0|   2006.0|Yarra City Council| -37.7965|  144.9965|Northern Metropol...|       4019.0|    Maugie|    St|\n",
      "|Abbotsford|  2.0|   h|     null|     S| Biggin|6/08/2016|     2.5|    3067|     4.0|     1.0| 2.0|   201.0|        null|   1900.0|Yarra City Council| -37.7995|  144.9974|Northern Metropol...|       4019.0|    Turner|    St|\n",
      "|Abbotsford|  2.0|   h|     null|     S|Collins|6/08/2016|     2.5|    3067|     3.0|     2.0| 1.0|   202.0|        null|   1900.0|Yarra City Council| -37.7996|  144.9989|Northern Metropol...|       4019.0|    Turner|    St|\n",
      "|Abbotsford|  2.0|   h| 941000.0|     S| Jellis|7/05/2016|     2.5|    3067|     2.0|     1.0| 0.0|   181.0|        null|     null|Yarra City Council| -37.8041|  144.9953|Northern Metropol...|       4019.0|   Charles|    St|\n",
      "|Abbotsford|  3.0|   h|1876000.0|     S| Nelson|7/05/2016|     2.5|    3067|     4.0|     2.0| 0.0|   245.0|       210.0|   1910.0|Yarra City Council| -37.8024|  144.9993|Northern Metropol...|       4019.0|     Yarra|    St|\n",
      "|Abbotsford|  2.0|   u|     null|    PI| Biggin|7/11/2016|     2.5|    3067|     2.0|     2.0| 1.0|  4292.0|        82.0|   2009.0|Yarra City Council| -37.8078|  144.9965|Northern Metropol...|       4019.0| Nicholson|    St|\n",
      "|Abbotsford|  4.0|   h|     null|     W| Biggin|7/11/2016|     2.5|    3067|     6.0|     2.0| 0.0|   230.0|       147.0|   1860.0|Yarra City Council| -37.8066|  144.9936|Northern Metropol...|       4019.0|   Raphael|    St|\n",
      "|Abbotsford|  2.0|   h|1636000.0|     S| Nelson|8/10/2016|     2.5|    3067|     2.0|     1.0| 2.0|   256.0|       107.0|   1890.0|Yarra City Council|  -37.806|  144.9954|Northern Metropol...|       4019.0|   Charles|    St|\n",
      "|Abbotsford|  3.0|   h|1000000.0|     S| Jellis|8/10/2016|     2.5|    3067|    null|    null|null|    null|        null|     null|Yarra City Council|     null|      null|Northern Metropol...|       4019.0| Langridge|    St|\n",
      "|Abbotsford|  2.0|   t| 745000.0|     S| Jellis|8/10/2016|     2.5|    3067|    null|    null|null|    null|        null|     null|Yarra City Council|     null|      null|Northern Metropol...|       4019.0|  Mollison|    St|\n",
      "|Abbotsford|  1.0|   u| 300000.0|     S| Biggin|8/10/2016|     2.5|    3067|     1.0|     1.0| 1.0|     0.0|        null|     null|Yarra City Council| -37.8008|  144.9973|Northern Metropol...|       4019.0| Nicholson|    St|\n",
      "|Abbotsford|  2.0|   h|1097000.0|     S| Biggin|8/10/2016|     2.5|    3067|     3.0|     1.0| 2.0|   220.0|        75.0|   1900.0|Yarra City Council|  -37.801|  144.9989|Northern Metropol...|       4019.0|   Valiant|    St|\n",
      "|Abbotsford|  2.0|   u| 542000.0|     S| Dingle|8/10/2016|     2.5|    3067|    null|    null|null|    null|        null|     null|Yarra City Council|     null|      null|Northern Metropol...|       4019.0|  Victoria|    St|\n",
      "+----------+-----+----+---------+------+-------+---------+--------+--------+--------+--------+----+--------+------------+---------+------------------+---------+----------+--------------------+-------------+----------+------+\n",
      "only showing top 20 rows\n",
      "\n"
     ]
    },
    {
     "data": {
      "text/plain": [
       "df_result: org.apache.spark.sql.DataFrame = [Suburb: string, Rooms: double ... 20 more fields]\n"
      ]
     },
     "execution_count": 29,
     "metadata": {},
     "output_type": "execute_result"
    }
   ],
   "source": [
    "//split address on Street and Suffix\n",
    "df_result = df_result.withColumn(\"Street\",split(col(\"Address\"),\" \").getItem(1)).\n",
    "                   withColumn(\"Suffix\",split(col(\"Address\"),\" \").getItem(2)).drop(\"Address\")\n",
    "df_result.show()"
   ]
  },
  {
   "cell_type": "code",
   "execution_count": 30,
   "metadata": {},
   "outputs": [
    {
     "name": "stdout",
     "output_type": "stream",
     "text": [
      "root\n",
      " |-- Suburb: string (nullable = true)\n",
      " |-- Rooms: double (nullable = true)\n",
      " |-- Type: string (nullable = true)\n",
      " |-- Price: double (nullable = true)\n",
      " |-- Method: string (nullable = true)\n",
      " |-- SellerG: string (nullable = true)\n",
      " |-- Date: string (nullable = true)\n",
      " |-- Distance: double (nullable = true)\n",
      " |-- Postcode: string (nullable = true)\n",
      " |-- Bedroom2: double (nullable = true)\n",
      " |-- Bathroom: double (nullable = true)\n",
      " |-- Car: double (nullable = true)\n",
      " |-- Landsize: double (nullable = true)\n",
      " |-- BuildingArea: double (nullable = true)\n",
      " |-- YearBuilt: double (nullable = true)\n",
      " |-- CouncilArea: string (nullable = true)\n",
      " |-- Lattitude: double (nullable = true)\n",
      " |-- Longtitude: double (nullable = true)\n",
      " |-- Regionname: string (nullable = true)\n",
      " |-- Propertycount: double (nullable = true)\n",
      " |-- Street: string (nullable = true)\n",
      " |-- Suffix: string (nullable = true)\n",
      "\n"
     ]
    }
   ],
   "source": [
    "df_result.printSchema()"
   ]
  },
  {
   "cell_type": "code",
   "execution_count": 31,
   "metadata": {},
   "outputs": [
    {
     "data": {
      "text/plain": [
       "res23: org.apache.spark.sql.Dataset[org.apache.spark.sql.Row] = [Suburb: string, Rooms: double ... 20 more fields]\n"
      ]
     },
     "execution_count": 31,
     "metadata": {},
     "output_type": "execute_result"
    }
   ],
   "source": [
    "df_result.filter(\"Street IS NULL\")"
   ]
  },
  {
   "cell_type": "code",
   "execution_count": 32,
   "metadata": {},
   "outputs": [
    {
     "data": {
      "text/plain": [
       "streets: org.apache.spark.sql.Dataset[org.apache.spark.sql.Row] = [Street: string]\n",
       "res24: Long = 7494\n"
      ]
     },
     "execution_count": 32,
     "metadata": {},
     "output_type": "execute_result"
    }
   ],
   "source": [
    "val streets = df_result.select(\"Street\").distinct()\n",
    "streets.count()"
   ]
  },
  {
   "cell_type": "code",
   "execution_count": 33,
   "metadata": {},
   "outputs": [
    {
     "name": "stdout",
     "output_type": "stream",
     "text": [
      "+----------+\n",
      "|    Street|\n",
      "+----------+\n",
      "|  Laurence|\n",
      "|  Farncomb|\n",
      "|     Abbin|\n",
      "|  Moreland|\n",
      "|   Hanover|\n",
      "|  Doonkuna|\n",
      "|Pilkington|\n",
      "| Bangalore|\n",
      "|  Disraeli|\n",
      "|     Ewart|\n",
      "|   Clynden|\n",
      "|     Lorne|\n",
      "|      Faye|\n",
      "|    Maddox|\n",
      "|   Pickles|\n",
      "|     Tyler|\n",
      "|  Crevelli|\n",
      "|      Silk|\n",
      "|   Palermo|\n",
      "|   Boreham|\n",
      "+----------+\n",
      "only showing top 20 rows\n",
      "\n"
     ]
    }
   ],
   "source": [
    "streets.show()"
   ]
  },
  {
   "cell_type": "markdown",
   "metadata": {},
   "source": [
    "#### 2. Postcode"
   ]
  },
  {
   "cell_type": "code",
   "execution_count": 34,
   "metadata": {},
   "outputs": [
    {
     "data": {
      "text/plain": [
       "postcodes: org.apache.spark.sql.Dataset[org.apache.spark.sql.Row] = [Postcode: string]\n"
      ]
     },
     "execution_count": 34,
     "metadata": {},
     "output_type": "execute_result"
    }
   ],
   "source": [
    "var postcodes = df_result.select(\"Postcode\").distinct()"
   ]
  },
  {
   "cell_type": "code",
   "execution_count": 35,
   "metadata": {},
   "outputs": [
    {
     "data": {
      "text/plain": [
       "res26: Long = 1\n"
      ]
     },
     "execution_count": 35,
     "metadata": {},
     "output_type": "execute_result"
    }
   ],
   "source": [
    "df_result.filter(\"Postcode IS NULL\").count()"
   ]
  },
  {
   "cell_type": "code",
   "execution_count": 36,
   "metadata": {},
   "outputs": [
    {
     "data": {
      "text/plain": [
       "res27: Long = 212\n"
      ]
     },
     "execution_count": 36,
     "metadata": {},
     "output_type": "execute_result"
    }
   ],
   "source": [
    "postcodes.count()"
   ]
  },
  {
   "cell_type": "markdown",
   "metadata": {},
   "source": [
    "#### 3. Suburb"
   ]
  },
  {
   "cell_type": "code",
   "execution_count": 37,
   "metadata": {},
   "outputs": [
    {
     "data": {
      "text/plain": [
       "suburbs: org.apache.spark.sql.Dataset[org.apache.spark.sql.Row] = [Suburb: string]\n"
      ]
     },
     "execution_count": 37,
     "metadata": {},
     "output_type": "execute_result"
    }
   ],
   "source": [
    "val suburbs = df_result.select(\"Suburb\").distinct"
   ]
  },
  {
   "cell_type": "code",
   "execution_count": 38,
   "metadata": {},
   "outputs": [
    {
     "data": {
      "text/plain": [
       "res28: Long = 351\n"
      ]
     },
     "execution_count": 38,
     "metadata": {},
     "output_type": "execute_result"
    }
   ],
   "source": [
    "suburbs.count()"
   ]
  },
  {
   "cell_type": "code",
   "execution_count": 39,
   "metadata": {},
   "outputs": [
    {
     "data": {
      "text/plain": [
       "res29: Long = 0\n"
      ]
     },
     "execution_count": 39,
     "metadata": {},
     "output_type": "execute_result"
    }
   ],
   "source": [
    "\n",
    "df.filter(\"Suburb IS NULL\").count()"
   ]
  },
  {
   "cell_type": "code",
   "execution_count": 40,
   "metadata": {},
   "outputs": [
    {
     "data": {
      "text/plain": [
       "import org.apache.spark.sql.functions._\n",
       "df_result: org.apache.spark.sql.DataFrame = [Suburb: string, Rooms: double ... 20 more fields]\n",
       "suburbs: org.apache.spark.sql.Dataset[org.apache.spark.sql.Row] = [Suburb: string]\n",
       "res30: Long = 349\n"
      ]
     },
     "execution_count": 40,
     "metadata": {},
     "output_type": "execute_result"
    }
   ],
   "source": [
    "// make first letter of suburb upper case\n",
    "import org.apache.spark.sql.functions._\n",
    "df_result = df_result.withColumn(\"Suburb\", initcap(col(\"Suburb\")))\n",
    "val suburbs = df_result.select(\"Suburb\").distinct\n",
    "suburbs.count()"
   ]
  },
  {
   "cell_type": "code",
   "execution_count": 41,
   "metadata": {},
   "outputs": [
    {
     "name": "stdout",
     "output_type": "stream",
     "text": [
      "+----------------+\n",
      "|          Suburb|\n",
      "+----------------+\n",
      "|  Brunswick West|\n",
      "| South Melbourne|\n",
      "|    Ivanhoe East|\n",
      "|    Princes Hill|\n",
      "|      Cranbourne|\n",
      "|         Ashwood|\n",
      "|       Brunswick|\n",
      "|South Kingsville|\n",
      "|        Brighton|\n",
      "|        Oak Park|\n",
      "|         Doveton|\n",
      "|       Albanvale|\n",
      "|      Brookfield|\n",
      "|        Lynbrook|\n",
      "|     Ferny Creek|\n",
      "|     Pascoe Vale|\n",
      "| Blackburn North|\n",
      "|     Sandringham|\n",
      "|   Botanic Ridge|\n",
      "|          Carrum|\n",
      "+----------------+\n",
      "only showing top 20 rows\n",
      "\n"
     ]
    }
   ],
   "source": [
    "suburbs.show()"
   ]
  },
  {
   "cell_type": "markdown",
   "metadata": {},
   "source": [
    "#### 4. Type \n",
    "#### Distinct values "
   ]
  },
  {
   "cell_type": "code",
   "execution_count": 42,
   "metadata": {},
   "outputs": [
    {
     "name": "stdout",
     "output_type": "stream",
     "text": [
      "+----+\n",
      "|Type|\n",
      "+----+\n",
      "|   h|\n",
      "|   u|\n",
      "|   t|\n",
      "+----+\n",
      "\n"
     ]
    },
    {
     "data": {
      "text/plain": [
       "import org.apache.spark.sql.functions.countDistinct\n"
      ]
     },
     "execution_count": 42,
     "metadata": {},
     "output_type": "execute_result"
    }
   ],
   "source": [
    "import org.apache.spark.sql.functions.countDistinct\n",
    "df_result.select(\"Type\").distinct.show()"
   ]
  },
  {
   "cell_type": "code",
   "execution_count": 43,
   "metadata": {},
   "outputs": [
    {
     "data": {
      "text/plain": [
       "df_result: org.apache.spark.sql.DataFrame = [Suburb: string, Rooms: double ... 20 more fields]\n",
       "types: org.apache.spark.sql.Dataset[org.apache.spark.sql.Row] = [Type: string]\n"
      ]
     },
     "execution_count": 43,
     "metadata": {},
     "output_type": "execute_result"
    }
   ],
   "source": [
    "df_result = df_result.withColumn(\"Type\", initcap(col(\"Type\")))\n",
    "val types = df_result.select(\"Type\").distinct"
   ]
  },
  {
   "cell_type": "code",
   "execution_count": 44,
   "metadata": {},
   "outputs": [
    {
     "data": {
      "text/plain": [
       "res33: Long = 3\n"
      ]
     },
     "execution_count": 44,
     "metadata": {},
     "output_type": "execute_result"
    }
   ],
   "source": [
    "types.count()"
   ]
  },
  {
   "cell_type": "code",
   "execution_count": 45,
   "metadata": {},
   "outputs": [
    {
     "name": "stdout",
     "output_type": "stream",
     "text": [
      "+----+\n",
      "|Type|\n",
      "+----+\n",
      "|   T|\n",
      "|   U|\n",
      "|   H|\n",
      "+----+\n",
      "\n"
     ]
    }
   ],
   "source": [
    "types.show()"
   ]
  },
  {
   "cell_type": "markdown",
   "metadata": {},
   "source": [
    "#### Null values  "
   ]
  },
  {
   "cell_type": "code",
   "execution_count": 46,
   "metadata": {},
   "outputs": [
    {
     "data": {
      "text/plain": [
       "res35: Long = 0\n"
      ]
     },
     "execution_count": 46,
     "metadata": {},
     "output_type": "execute_result"
    }
   ],
   "source": [
    "df_result.filter(\"Type IS NULL\").count()"
   ]
  },
  {
   "cell_type": "markdown",
   "metadata": {},
   "source": [
    "#### 5. Method"
   ]
  },
  {
   "cell_type": "code",
   "execution_count": 47,
   "metadata": {},
   "outputs": [
    {
     "data": {
      "text/plain": [
       "res36: Long = 0\n"
      ]
     },
     "execution_count": 47,
     "metadata": {},
     "output_type": "execute_result"
    }
   ],
   "source": [
    "df_result.filter(\"Method IS NULL\").count()"
   ]
  },
  {
   "cell_type": "code",
   "execution_count": 48,
   "metadata": {},
   "outputs": [
    {
     "data": {
      "text/plain": [
       "methods: org.apache.spark.sql.Dataset[org.apache.spark.sql.Row] = [Method: string]\n"
      ]
     },
     "execution_count": 48,
     "metadata": {},
     "output_type": "execute_result"
    }
   ],
   "source": [
    "val methods = df_result.select(\"Method\").distinct"
   ]
  },
  {
   "cell_type": "code",
   "execution_count": 49,
   "metadata": {},
   "outputs": [
    {
     "data": {
      "text/plain": [
       "res37: Long = 9\n"
      ]
     },
     "execution_count": 49,
     "metadata": {},
     "output_type": "execute_result"
    }
   ],
   "source": [
    "methods.count()"
   ]
  },
  {
   "cell_type": "code",
   "execution_count": 50,
   "metadata": {},
   "outputs": [
    {
     "name": "stdout",
     "output_type": "stream",
     "text": [
      "+------+\n",
      "|Method|\n",
      "+------+\n",
      "|    PI|\n",
      "|    SA|\n",
      "|    SP|\n",
      "|    VB|\n",
      "|    PN|\n",
      "|     W|\n",
      "|     S|\n",
      "|    SN|\n",
      "|    SS|\n",
      "+------+\n",
      "\n"
     ]
    }
   ],
   "source": [
    "methods.show()"
   ]
  },
  {
   "cell_type": "markdown",
   "metadata": {},
   "source": [
    "#### 6. SellerG"
   ]
  },
  {
   "cell_type": "code",
   "execution_count": 51,
   "metadata": {},
   "outputs": [
    {
     "data": {
      "text/plain": [
       "res39: Long = 0\n"
      ]
     },
     "execution_count": 51,
     "metadata": {},
     "output_type": "execute_result"
    }
   ],
   "source": [
    "\n",
    "df_result.filter(\"SellerG IS NULL\").count()"
   ]
  },
  {
   "cell_type": "code",
   "execution_count": 52,
   "metadata": {},
   "outputs": [
    {
     "data": {
      "text/plain": [
       "sellers: org.apache.spark.sql.Dataset[org.apache.spark.sql.Row] = [SellerG: string]\n"
      ]
     },
     "execution_count": 52,
     "metadata": {},
     "output_type": "execute_result"
    }
   ],
   "source": [
    "val sellers = df_result.select(\"SellerG\").distinct"
   ]
  },
  {
   "cell_type": "code",
   "execution_count": 53,
   "metadata": {},
   "outputs": [
    {
     "data": {
      "text/plain": [
       "res40: Long = 388\n"
      ]
     },
     "execution_count": 53,
     "metadata": {},
     "output_type": "execute_result"
    }
   ],
   "source": [
    "sellers.count()"
   ]
  },
  {
   "cell_type": "code",
   "execution_count": 54,
   "metadata": {},
   "outputs": [
    {
     "name": "stdout",
     "output_type": "stream",
     "text": [
      "+--------------------+\n",
      "|             SellerG|\n",
      "+--------------------+\n",
      "|              LITTLE|\n",
      "|                 S&L|\n",
      "|              Ristic|\n",
      "|            Langwell|\n",
      "|             Ruralco|\n",
      "|             Xynergy|\n",
      "|               Ryder|\n",
      "|               iSell|\n",
      "|               Scott|\n",
      "|              Wilson|\n",
      "|          McNaughton|\n",
      "|           Blackbird|\n",
      "|hockingstuart/Biggin|\n",
      "|               Lucas|\n",
      "|                 One|\n",
      "|         Buxton/Find|\n",
      "|                Real|\n",
      "|            Sterling|\n",
      "|             Compton|\n",
      "|           Tiernan's|\n",
      "+--------------------+\n",
      "only showing top 20 rows\n",
      "\n"
     ]
    }
   ],
   "source": [
    "sellers.show()"
   ]
  },
  {
   "cell_type": "markdown",
   "metadata": {},
   "source": [
    "#### 7. Date"
   ]
  },
  {
   "cell_type": "code",
   "execution_count": 55,
   "metadata": {},
   "outputs": [
    {
     "data": {
      "text/plain": [
       "res42: Long = 0\n"
      ]
     },
     "execution_count": 55,
     "metadata": {},
     "output_type": "execute_result"
    }
   ],
   "source": [
    "df_result.filter(\"Date IS NULL\").count()"
   ]
  },
  {
   "cell_type": "code",
   "execution_count": 56,
   "metadata": {},
   "outputs": [
    {
     "data": {
      "text/plain": [
       "dates: org.apache.spark.sql.Dataset[org.apache.spark.sql.Row] = [Date: string]\n"
      ]
     },
     "execution_count": 56,
     "metadata": {},
     "output_type": "execute_result"
    }
   ],
   "source": [
    "val dates = df_result.select(\"Date\").distinct()"
   ]
  },
  {
   "cell_type": "code",
   "execution_count": 57,
   "metadata": {},
   "outputs": [
    {
     "data": {
      "text/plain": [
       "res43: Long = 78\n"
      ]
     },
     "execution_count": 57,
     "metadata": {},
     "output_type": "execute_result"
    }
   ],
   "source": [
    "dates.count()"
   ]
  },
  {
   "cell_type": "code",
   "execution_count": 58,
   "metadata": {},
   "outputs": [
    {
     "name": "stdout",
     "output_type": "stream",
     "text": [
      "+----------+\n",
      "|      Date|\n",
      "+----------+\n",
      "|16/04/2016|\n",
      "|29/04/2017|\n",
      "|10/12/2016|\n",
      "|19/08/2017|\n",
      "| 7/05/2016|\n",
      "| 8/07/2017|\n",
      "| 4/03/2017|\n",
      "|29/07/2017|\n",
      "|27/05/2017|\n",
      "|28/10/2017|\n",
      "| 9/09/2017|\n",
      "|26/07/2016|\n",
      "|12/11/2016|\n",
      "|25/02/2017|\n",
      "| 6/05/2017|\n",
      "|18/11/2017|\n",
      "| 3/09/2016|\n",
      "| 3/12/2016|\n",
      "|25/11/2017|\n",
      "| 3/06/2017|\n",
      "+----------+\n",
      "only showing top 20 rows\n",
      "\n"
     ]
    }
   ],
   "source": [
    "dates.show()"
   ]
  },
  {
   "cell_type": "markdown",
   "metadata": {},
   "source": [
    "#### 8. CouncilArea"
   ]
  },
  {
   "cell_type": "code",
   "execution_count": 59,
   "metadata": {},
   "outputs": [
    {
     "data": {
      "text/plain": [
       "res45: Long = 3\n"
      ]
     },
     "execution_count": 59,
     "metadata": {},
     "output_type": "execute_result"
    }
   ],
   "source": [
    "\n",
    "df_result.filter(\"CouncilArea IS NULL\").count()"
   ]
  },
  {
   "cell_type": "code",
   "execution_count": 60,
   "metadata": {},
   "outputs": [
    {
     "data": {
      "text/plain": [
       "sareas: org.apache.spark.sql.Dataset[org.apache.spark.sql.Row] = [CouncilArea: string]\n"
      ]
     },
     "execution_count": 60,
     "metadata": {},
     "output_type": "execute_result"
    }
   ],
   "source": [
    "val sareas = df_result.select(\"CouncilArea\").distinct()"
   ]
  },
  {
   "cell_type": "code",
   "execution_count": 61,
   "metadata": {},
   "outputs": [
    {
     "data": {
      "text/plain": [
       "res46: Long = 34\n"
      ]
     },
     "execution_count": 61,
     "metadata": {},
     "output_type": "execute_result"
    }
   ],
   "source": [
    "sareas.count()"
   ]
  },
  {
   "cell_type": "code",
   "execution_count": 62,
   "metadata": {},
   "outputs": [
    {
     "name": "stdout",
     "output_type": "stream",
     "text": [
      "+--------------------+\n",
      "|         CouncilArea|\n",
      "+--------------------+\n",
      "|Bayside City Council|\n",
      "|Greater Dandenong...|\n",
      "|   Hume City Council|\n",
      "|Glen Eira City Co...|\n",
      "|Kingston City Cou...|\n",
      "|Nillumbik Shire C...|\n",
      "| Monash City Council|\n",
      "|Macedon Ranges Sh...|\n",
      "|   Knox City Council|\n",
      "|Wyndham City Council|\n",
      "|                null|\n",
      "|Mitchell Shire Co...|\n",
      "|Maribyrnong City ...|\n",
      "|Whittlesea City C...|\n",
      "|Whitehorse City C...|\n",
      "|Frankston City Co...|\n",
      "|Manningham City C...|\n",
      "|Darebin City Council|\n",
      "|Moreland City Cou...|\n",
      "|Cardinia Shire Co...|\n",
      "|Moonee Valley Cit...|\n",
      "|Boroondara City C...|\n",
      "|Yarra Ranges Shir...|\n",
      "|  Casey City Council|\n",
      "|Port Phillip City...|\n",
      "|Brimbank City Cou...|\n",
      "|Hobsons Bay City ...|\n",
      "|Banyule City Council|\n",
      "|Stonnington City ...|\n",
      "| Melton City Council|\n",
      "|  Yarra City Council|\n",
      "|Melbourne City Co...|\n",
      "|Moorabool Shire C...|\n",
      "|Maroondah City Co...|\n",
      "+--------------------+\n",
      "\n"
     ]
    }
   ],
   "source": [
    "sareas.show(34)"
   ]
  },
  {
   "cell_type": "markdown",
   "metadata": {},
   "source": [
    "#### 9. Regionname"
   ]
  },
  {
   "cell_type": "code",
   "execution_count": 63,
   "metadata": {},
   "outputs": [
    {
     "data": {
      "text/plain": [
       "res48: Long = 3\n"
      ]
     },
     "execution_count": 63,
     "metadata": {},
     "output_type": "execute_result"
    }
   ],
   "source": [
    "df_result.filter(\"Regionname IS NULL\").count()"
   ]
  },
  {
   "cell_type": "code",
   "execution_count": 64,
   "metadata": {},
   "outputs": [
    {
     "data": {
      "text/plain": [
       "regions: org.apache.spark.sql.Dataset[org.apache.spark.sql.Row] = [Regionname: string]\n",
       "res49: Long = 9\n"
      ]
     },
     "execution_count": 64,
     "metadata": {},
     "output_type": "execute_result"
    }
   ],
   "source": [
    "val regions = df_result.select(\"Regionname\").distinct\n",
    "regions.count()"
   ]
  },
  {
   "cell_type": "code",
   "execution_count": 65,
   "metadata": {},
   "outputs": [
    {
     "name": "stdout",
     "output_type": "stream",
     "text": [
      "+--------------------+\n",
      "|          Regionname|\n",
      "+--------------------+\n",
      "|South-Eastern Met...|\n",
      "|Western Metropolitan|\n",
      "|                null|\n",
      "|Eastern Metropolitan|\n",
      "|    Eastern Victoria|\n",
      "|   Northern Victoria|\n",
      "|Northern Metropol...|\n",
      "|Southern Metropol...|\n",
      "|    Western Victoria|\n",
      "+--------------------+\n",
      "\n"
     ]
    }
   ],
   "source": [
    "regions.show()"
   ]
  },
  {
   "cell_type": "markdown",
   "metadata": {},
   "source": [
    "#### 10. YearBuilt"
   ]
  },
  {
   "cell_type": "code",
   "execution_count": 66,
   "metadata": {},
   "outputs": [
    {
     "data": {
      "text/plain": [
       "res51: Long = 19306\n"
      ]
     },
     "execution_count": 66,
     "metadata": {},
     "output_type": "execute_result"
    }
   ],
   "source": [
    "df_result.filter(\"YearBuilt IS NULL\").count()"
   ]
  },
  {
   "cell_type": "code",
   "execution_count": 67,
   "metadata": {},
   "outputs": [
    {
     "data": {
      "text/plain": [
       "years: org.apache.spark.sql.Dataset[org.apache.spark.sql.Row] = [Suburb: string, Rooms: double ... 20 more fields]\n"
      ]
     },
     "execution_count": 67,
     "metadata": {},
     "output_type": "execute_result"
    }
   ],
   "source": [
    "val years = df_result.filter(\"YearBuilt IS NULL\").distinct"
   ]
  },
  {
   "cell_type": "code",
   "execution_count": 68,
   "metadata": {},
   "outputs": [
    {
     "data": {
      "text/plain": [
       "res52: Long = 19296\n"
      ]
     },
     "execution_count": 68,
     "metadata": {},
     "output_type": "execute_result"
    }
   ],
   "source": [
    "years.count()"
   ]
  },
  {
   "cell_type": "code",
   "execution_count": 69,
   "metadata": {},
   "outputs": [
    {
     "name": "stdout",
     "output_type": "stream",
     "text": [
      "+--------------+-----+----+---------+------+-------------+----------+--------+--------+--------+--------+----+--------+------------+---------+--------------------+---------+----------+--------------------+-------------+----------+------+\n",
      "|        Suburb|Rooms|Type|    Price|Method|      SellerG|      Date|Distance|Postcode|Bedroom2|Bathroom| Car|Landsize|BuildingArea|YearBuilt|         CouncilArea|Lattitude|Longtitude|          Regionname|Propertycount|    Street|Suffix|\n",
      "+--------------+-----+----+---------+------+-------------+----------+--------+--------+--------+--------+----+--------+------------+---------+--------------------+---------+----------+--------------------+-------------+----------+------+\n",
      "|  Airport West|  2.0|   T| 460000.0|    VB|       Nelson|18/06/2016|    13.5|    3042|    null|    null|null|    null|        null|     null|Moonee Valley Cit...|     null|      null|Western Metropolitan|       3464.0|  Hillside|    Gr|\n",
      "|  Altona North|  3.0|   H| 700000.0|    VB|          Jas|10/12/2016|    11.1|    3025|     3.0|     1.0| 3.0|   554.0|        null|     null|Hobsons Bay City ...| -37.8449|    144.85|Western Metropolitan|       5132.0| Hatherley|    Gr|\n",
      "|      Armadale|  4.0|   H|3660000.0|     S|       Jellis|25/02/2017|     6.3|    3143|     4.0|     3.0| 2.0|   421.0|        null|     null|Stonnington City ...| -37.8593|  145.0275|Southern Metropol...|       4836.0|     Union|    St|\n",
      "|    Ascot Vale|  3.0|   H|1350000.0|     S|         Brad|18/03/2017|     5.9|    3032|     3.0|     1.0| 3.0|   575.0|        null|     null|Moonee Valley Cit...| -37.7828|  144.9049|Western Metropolitan|       6567.0|    Monash|    St|\n",
      "|        Balwyn|  1.0|   U| 450000.0|    VB|         MICM| 4/02/2016|     9.7|    3103|    null|    null|null|    null|        null|     null|Boroondara City C...|     null|      null|Southern Metropol...|       5682.0|Whitehorse|    Rd|\n",
      "|  Balwyn North|  5.0|   H|1500000.0|    VB|hockingstuart|23/04/2016|     9.2|    3104|     5.0|     2.0| 2.0|   605.0|        null|     null|Boroondara City C...| -37.7832|  145.0796|Southern Metropol...|       7809.0|  Highview|    Rd|\n",
      "|Bentleigh East|  3.0|   H|1560000.0|     S|     Woodards|16/04/2016|    13.9|    3165|     3.0|     1.0| 2.0|   841.0|        null|     null|Glen Eira City Co...| -37.9217|   145.056|Southern Metropol...|      10969.0|    Browns|    Rd|\n",
      "|      Brighton|  3.0|   T|     null|    SP|       Buxton| 4/06/2016|    11.2|    3186|    null|    null|null|    null|        null|     null|Bayside City Council|     null|      null|Southern Metropol...|      10579.0|  Waterloo|    St|\n",
      "|      Brighton|  3.0|   T|1425000.0|     S|       Hodges|28/05/2016|    11.2|    3186|     3.0|     2.0| 2.0|   495.0|        null|     null|Bayside City Council| -37.9049|  145.0069|Southern Metropol...|      10579.0|     Cowra|    St|\n",
      "|Brunswick West|  2.0|   U| 656000.0|     S|      Collins|18/03/2017|     5.9|    3055|     2.0|     1.0| 1.0|     0.0|        null|     null|Moreland City Cou...| -37.7609|  144.9425|Northern Metropol...|       7082.0|   Cumming|    St|\n",
      "|       Burwood|  3.0|   H|     null|    SP|     Marshall| 4/03/2017|    11.7|    3125|     3.0|     2.0| 2.0|   741.0|        null|     null| Monash City Council| -37.8578|  145.0993|Southern Metropol...|       5678.0|    Morton|    Rd|\n",
      "|       Burwood|  4.0|   H|     null|    PI|       Philip| 7/05/2016|    11.7|    3125|     4.0|     2.0| 1.0|   811.0|        null|     null| Monash City Council| -37.8489|  145.0985|Southern Metropol...|       5678.0|     Alder|    St|\n",
      "|        Elwood|  3.0|   H|1600000.0|     S|      Whiting|12/11/2016|     7.7|    3184|    null|    null|null|    null|        null|     null|Port Phillip City...|     null|      null|Southern Metropol...|       8989.0|    Lawson|    St|\n",
      "|        Elwood|  2.0|   H|     null|    SP|     Chisholm|27/06/2016|     7.7|    3184|     2.0|     1.0| 1.0|   366.0|        null|     null|Port Phillip City...| -37.8763|  144.9797|Southern Metropol...|       8989.0|    Barkly|    St|\n",
      "|     Glen Iris|  3.0|   U|     null|    SP|       Nelson|16/04/2016|     9.2|    3146|     3.0|     2.0| 2.0|     0.0|        null|     null|Boroondara City C...| -37.8536|  145.0465|Southern Metropol...|      10412.0|   Malvern|    Rd|\n",
      "|     Glen Iris|  1.0|   U| 328000.0|     S|       Jellis|18/03/2017|     9.2|    3146|     1.0|     1.0| 0.0|     0.0|        null|     null|Boroondara City C...| -37.8588|  145.0512|Southern Metropol...|      10412.0|     Burke|    Rd|\n",
      "|       Glenroy|  3.0|   H| 502500.0|     S|    Stockdale|22/05/2016|    13.0|    3046|    null|    null|null|    null|        null|     null|Moreland City Cou...|     null|      null|Northern Metropol...|       8870.0|    Valley|    Cr|\n",
      "|      Hadfield|  3.0|   H| 660000.0|     S|          YPA|15/10/2016|    12.1|    3046|    null|    null|null|    null|        null|     null|Moreland City Cou...|     null|      null|Northern Metropol...|       2606.0|  Lawrence|    St|\n",
      "|       Hampton|  2.0|   H|1871000.0|     S|       Buxton| 3/12/2016|    13.7|    3188|    null|    null|null|    null|        null|     null|Bayside City Council|     null|      null|Southern Metropol...|       5454.0|     David|    St|\n",
      "|       Hampton|  4.0|   H|1450000.0|     S|       Buxton|12/11/2016|    13.7|    3188|     4.0|     2.0| 3.0|   450.0|        null|     null|Bayside City Council| -37.9341|    145.02|Southern Metropol...|       5454.0|     Olive|    St|\n",
      "+--------------+-----+----+---------+------+-------------+----------+--------+--------+--------+--------+----+--------+------------+---------+--------------------+---------+----------+--------------------+-------------+----------+------+\n",
      "only showing top 20 rows\n",
      "\n"
     ]
    }
   ],
   "source": [
    "years.show()"
   ]
  },
  {
   "cell_type": "markdown",
   "metadata": {},
   "source": [
    "#### 1. Price"
   ]
  },
  {
   "cell_type": "code",
   "execution_count": 70,
   "metadata": {},
   "outputs": [
    {
     "data": {
      "text/plain": [
       "res54: Long = 7610\n"
      ]
     },
     "execution_count": 70,
     "metadata": {},
     "output_type": "execute_result"
    }
   ],
   "source": [
    "df_result.filter(\"Price IS NULL\").count()"
   ]
  },
  {
   "cell_type": "code",
   "execution_count": 71,
   "metadata": {},
   "outputs": [
    {
     "data": {
      "text/plain": [
       "df_result: org.apache.spark.sql.DataFrame = [Suburb: string, Rooms: double ... 20 more fields]\n"
      ]
     },
     "execution_count": 71,
     "metadata": {},
     "output_type": "execute_result"
    }
   ],
   "source": [
    "//get rid of null in price\n",
    "df_result=df_result.filter(!df_result(\"Price\").isNull)"
   ]
  },
  {
   "cell_type": "code",
   "execution_count": 72,
   "metadata": {
    "scrolled": true
   },
   "outputs": [
    {
     "data": {
      "text/plain": [
       "prices: org.apache.spark.sql.Dataset[org.apache.spark.sql.Row] = [Price: double]\n"
      ]
     },
     "execution_count": 72,
     "metadata": {},
     "output_type": "execute_result"
    }
   ],
   "source": [
    "val prices = df_result.select(\"Price\").distinct()"
   ]
  },
  {
   "cell_type": "code",
   "execution_count": 73,
   "metadata": {},
   "outputs": [
    {
     "data": {
      "text/plain": [
       "res55: Long = 2871\n"
      ]
     },
     "execution_count": 73,
     "metadata": {},
     "output_type": "execute_result"
    }
   ],
   "source": [
    "prices.count()"
   ]
  },
  {
   "cell_type": "code",
   "execution_count": 74,
   "metadata": {},
   "outputs": [
    {
     "name": "stdout",
     "output_type": "stream",
     "text": [
      "+---------+\n",
      "|    Price|\n",
      "+---------+\n",
      "| 300000.0|\n",
      "| 495000.0|\n",
      "|1185000.0|\n",
      "| 330000.0|\n",
      "| 532000.0|\n",
      "| 940500.0|\n",
      "| 452500.0|\n",
      "| 640500.0|\n",
      "| 431500.0|\n",
      "|1155500.0|\n",
      "| 474000.0|\n",
      "| 546000.0|\n",
      "|1483000.0|\n",
      "| 671000.0|\n",
      "|1055000.0|\n",
      "| 677776.0|\n",
      "|2053000.0|\n",
      "|1259000.0|\n",
      "| 975500.0|\n",
      "|4690000.0|\n",
      "+---------+\n",
      "only showing top 20 rows\n",
      "\n"
     ]
    }
   ],
   "source": [
    "prices.show()"
   ]
  },
  {
   "cell_type": "code",
   "execution_count": 75,
   "metadata": {},
   "outputs": [
    {
     "name": "stdout",
     "output_type": "stream",
     "text": [
      "+-------+-----------------+----------+\n",
      "|summary|            Price|    Suburb|\n",
      "+-------+-----------------+----------+\n",
      "|  count|            27247|     27247|\n",
      "|   mean|1050173.344955408|      null|\n",
      "| stddev|641467.1301045999|      null|\n",
      "|    min|          85000.0|Abbotsford|\n",
      "|    max|           1.12E7|Yarraville|\n",
      "+-------+-----------------+----------+\n",
      "\n"
     ]
    }
   ],
   "source": [
    "df_result.describe().select(\"summary\",\"Price\",\"Suburb\").show()"
   ]
  },
  {
   "cell_type": "markdown",
   "metadata": {},
   "source": [
    "#### Histogram Utility Function"
   ]
  },
  {
   "cell_type": "code",
   "execution_count": 76,
   "metadata": {},
   "outputs": [
    {
     "data": {
      "text/plain": [
       "hist: (df: org.apache.spark.sql.DataFrame, points: Int)org.apache.spark.sql.DataFrame\n"
      ]
     },
     "execution_count": 76,
     "metadata": {},
     "output_type": "execute_result"
    }
   ],
   "source": [
    "// utility function for numerical attributes:\n",
    "// returns  dataframe with values,frequencies\n",
    "// param DataFrame Column, number of points\n",
    "def hist(df:org.apache.spark.sql.DataFrame, points:Int):org.apache.spark.sql.DataFrame ={\n",
    "    val (startValues,counts) = \n",
    "      df.map(value => value.getDouble(0)).rdd.histogram(points)\n",
    "   val zippedValues = startValues.zip(counts)\n",
    "   val rowRDD = zippedValues.map( value => Tuple2(value._1,value._2))\n",
    "   var histDf = spark.createDataFrame(rowRDD)\n",
    "   histDf = histDf.withColumnRenamed(\"_1\",\"value\")\n",
    "     .withColumnRenamed(\"_2\",\"frequency\")\n",
    "   histDf \n",
    "}"
   ]
  },
  {
   "cell_type": "code",
   "execution_count": 77,
   "metadata": {},
   "outputs": [
    {
     "name": "stdout",
     "output_type": "stream",
     "text": [
      "+---------+---------+\n",
      "|    value|frequency|\n",
      "+---------+---------+\n",
      "|  85000.0|    19047|\n",
      "|1196500.0|     6984|\n",
      "|2308000.0|      944|\n",
      "|3419500.0|      186|\n",
      "|4531000.0|       60|\n",
      "|5642500.0|       20|\n",
      "|6754000.0|        3|\n",
      "|7865500.0|        1|\n",
      "|8977000.0|        1|\n",
      "|1.00885E7|        1|\n",
      "+---------+---------+\n",
      "\n"
     ]
    }
   ],
   "source": [
    "hist(df_result.select(\"Price\"),10).show()"
   ]
  },
  {
   "cell_type": "markdown",
   "metadata": {},
   "source": [
    "#### 1. Rooms"
   ]
  },
  {
   "cell_type": "code",
   "execution_count": 78,
   "metadata": {},
   "outputs": [
    {
     "data": {
      "text/plain": [
       "res59: Long = 0\n"
      ]
     },
     "execution_count": 78,
     "metadata": {},
     "output_type": "execute_result"
    }
   ],
   "source": [
    "df_result.filter(\"Rooms IS NULL\").count()"
   ]
  },
  {
   "cell_type": "code",
   "execution_count": 79,
   "metadata": {},
   "outputs": [
    {
     "data": {
      "text/plain": [
       "rooms: org.apache.spark.sql.Dataset[org.apache.spark.sql.Row] = [Rooms: double]\n"
      ]
     },
     "execution_count": 79,
     "metadata": {},
     "output_type": "execute_result"
    }
   ],
   "source": [
    "val rooms = df_result.select(\"Rooms\").distinct()"
   ]
  },
  {
   "cell_type": "code",
   "execution_count": 80,
   "metadata": {},
   "outputs": [
    {
     "data": {
      "text/plain": [
       "res60: Long = 12\n"
      ]
     },
     "execution_count": 80,
     "metadata": {},
     "output_type": "execute_result"
    }
   ],
   "source": [
    "rooms.count()"
   ]
  },
  {
   "cell_type": "code",
   "execution_count": 81,
   "metadata": {},
   "outputs": [
    {
     "name": "stdout",
     "output_type": "stream",
     "text": [
      "+-----+\n",
      "|Rooms|\n",
      "+-----+\n",
      "|  8.0|\n",
      "|  7.0|\n",
      "|  1.0|\n",
      "|  4.0|\n",
      "|  3.0|\n",
      "|  2.0|\n",
      "| 10.0|\n",
      "|  6.0|\n",
      "|  5.0|\n",
      "|  9.0|\n",
      "| 16.0|\n",
      "| 12.0|\n",
      "+-----+\n",
      "\n"
     ]
    }
   ],
   "source": [
    "rooms.show()"
   ]
  },
  {
   "cell_type": "code",
   "execution_count": 82,
   "metadata": {},
   "outputs": [
    {
     "name": "stdout",
     "output_type": "stream",
     "text": [
      "+-----+---------+\n",
      "|value|frequency|\n",
      "+-----+---------+\n",
      "|  1.0|     7983|\n",
      "|  2.5|    11957|\n",
      "|  4.0|     7127|\n",
      "|  5.5|      137|\n",
      "|  7.0|       34|\n",
      "|  8.5|        1|\n",
      "| 10.0|        5|\n",
      "| 11.5|        2|\n",
      "| 13.0|        0|\n",
      "| 14.5|        1|\n",
      "+-----+---------+\n",
      "\n"
     ]
    }
   ],
   "source": [
    "hist(df_result.select(\"Rooms\"),10).show()"
   ]
  },
  {
   "cell_type": "markdown",
   "metadata": {},
   "source": [
    "#### 2. Distance"
   ]
  },
  {
   "cell_type": "code",
   "execution_count": 83,
   "metadata": {},
   "outputs": [
    {
     "data": {
      "text/plain": [
       "res63: Long = 1\n"
      ]
     },
     "execution_count": 83,
     "metadata": {},
     "output_type": "execute_result"
    }
   ],
   "source": [
    "df_result.filter(\"Distance IS NULL\").count()"
   ]
  },
  {
   "cell_type": "code",
   "execution_count": 84,
   "metadata": {},
   "outputs": [
    {
     "data": {
      "text/plain": [
       "dists: org.apache.spark.sql.Dataset[org.apache.spark.sql.Row] = [Distance: double]\n"
      ]
     },
     "execution_count": 84,
     "metadata": {},
     "output_type": "execute_result"
    }
   ],
   "source": [
    "val dists = df_result.select(\"Distance\").distinct"
   ]
  },
  {
   "cell_type": "code",
   "execution_count": 85,
   "metadata": {},
   "outputs": [
    {
     "data": {
      "text/plain": [
       "res64: Long = 214\n"
      ]
     },
     "execution_count": 85,
     "metadata": {},
     "output_type": "execute_result"
    }
   ],
   "source": [
    "dists.count()"
   ]
  },
  {
   "cell_type": "code",
   "execution_count": 86,
   "metadata": {},
   "outputs": [
    {
     "name": "stdout",
     "output_type": "stream",
     "text": [
      "+--------+\n",
      "|Distance|\n",
      "+--------+\n",
      "|    14.9|\n",
      "|    13.4|\n",
      "|    15.5|\n",
      "|    15.4|\n",
      "|     2.4|\n",
      "|     8.0|\n",
      "|    10.2|\n",
      "|    24.7|\n",
      "|    32.3|\n",
      "|     0.0|\n",
      "|    17.9|\n",
      "|    43.3|\n",
      "|    11.4|\n",
      "|     5.4|\n",
      "|    23.8|\n",
      "|    16.6|\n",
      "|     7.0|\n",
      "|    11.5|\n",
      "|     3.5|\n",
      "|    31.7|\n",
      "|     6.1|\n",
      "|     9.5|\n",
      "|     7.7|\n",
      "|    17.3|\n",
      "|    25.2|\n",
      "|    31.6|\n",
      "|     6.6|\n",
      "|    34.7|\n",
      "|    20.5|\n",
      "|     8.7|\n",
      "|    13.3|\n",
      "|    28.8|\n",
      "|    12.5|\n",
      "|     3.7|\n",
      "|    10.3|\n",
      "|     4.5|\n",
      "|    19.9|\n",
      "|     5.7|\n",
      "|     1.4|\n",
      "|    26.1|\n",
      "|     6.7|\n",
      "|     0.7|\n",
      "|     7.4|\n",
      "|     2.3|\n",
      "|    13.8|\n",
      "|     6.5|\n",
      "|    45.2|\n",
      "|    null|\n",
      "|    19.6|\n",
      "|     3.4|\n",
      "|    21.1|\n",
      "|    16.1|\n",
      "|    18.0|\n",
      "|    35.4|\n",
      "|    20.8|\n",
      "|    16.7|\n",
      "|    16.5|\n",
      "|    23.6|\n",
      "|    12.8|\n",
      "|     8.4|\n",
      "|     2.5|\n",
      "|    23.2|\n",
      "|    39.0|\n",
      "|     9.8|\n",
      "|    17.5|\n",
      "|    18.4|\n",
      "|    12.3|\n",
      "|    34.6|\n",
      "|    44.2|\n",
      "|    22.9|\n",
      "|    12.1|\n",
      "|     3.1|\n",
      "|    21.3|\n",
      "|    20.1|\n",
      "|    13.9|\n",
      "|    12.9|\n",
      "|     2.7|\n",
      "|    25.0|\n",
      "|    14.2|\n",
      "|    22.7|\n",
      "|     4.1|\n",
      "|    39.8|\n",
      "|    12.4|\n",
      "|     2.8|\n",
      "|    34.9|\n",
      "|    41.0|\n",
      "|     9.3|\n",
      "|     8.8|\n",
      "|     8.6|\n",
      "|    15.2|\n",
      "|    11.2|\n",
      "|    35.5|\n",
      "|    21.8|\n",
      "|    11.1|\n",
      "|     7.5|\n",
      "|     4.0|\n",
      "|     1.9|\n",
      "|    10.1|\n",
      "|    43.4|\n",
      "|    29.8|\n",
      "|    10.8|\n",
      "|     8.9|\n",
      "|    23.0|\n",
      "|    24.8|\n",
      "|    33.3|\n",
      "|     6.2|\n",
      "|     9.4|\n",
      "|    14.5|\n",
      "|    34.1|\n",
      "|    10.6|\n",
      "|    25.9|\n",
      "|    33.8|\n",
      "|     3.8|\n",
      "|    14.6|\n",
      "|     5.1|\n",
      "|    22.2|\n",
      "|    37.5|\n",
      "|    13.7|\n",
      "|     4.2|\n",
      "|     9.9|\n",
      "|    14.7|\n",
      "|    35.2|\n",
      "|     1.3|\n",
      "|    15.3|\n",
      "|    48.1|\n",
      "|     7.3|\n",
      "|     4.3|\n",
      "|    11.0|\n",
      "|     7.9|\n",
      "|    23.5|\n",
      "|    10.7|\n",
      "|     5.3|\n",
      "|    13.5|\n",
      "|     8.5|\n",
      "|    14.0|\n",
      "|    17.2|\n",
      "|    27.1|\n",
      "|    36.9|\n",
      "|     3.2|\n",
      "|    12.2|\n",
      "|     7.2|\n",
      "|    13.1|\n",
      "|    14.3|\n",
      "|    27.2|\n",
      "|     1.6|\n",
      "|    12.6|\n",
      "|     3.0|\n",
      "|    29.3|\n",
      "|    13.6|\n",
      "|    29.5|\n",
      "|    28.5|\n",
      "|    20.4|\n",
      "|     2.0|\n",
      "|    10.9|\n",
      "|     1.2|\n",
      "|     6.9|\n",
      "|     1.8|\n",
      "|     1.5|\n",
      "|    47.3|\n",
      "|     9.1|\n",
      "|     8.2|\n",
      "|    27.7|\n",
      "|     6.8|\n",
      "|    18.7|\n",
      "|     7.8|\n",
      "|    21.5|\n",
      "|     6.3|\n",
      "|     2.6|\n",
      "|    12.7|\n",
      "|    38.0|\n",
      "|    27.0|\n",
      "|    26.5|\n",
      "|     5.9|\n",
      "|    13.0|\n",
      "|     4.4|\n",
      "|    45.9|\n",
      "|    10.4|\n",
      "|     5.2|\n",
      "|    14.8|\n",
      "|    33.0|\n",
      "|     4.6|\n",
      "|     6.4|\n",
      "|    16.2|\n",
      "|    20.0|\n",
      "|    11.8|\n",
      "|     3.6|\n",
      "|    25.5|\n",
      "|    31.4|\n",
      "|    17.4|\n",
      "|     9.2|\n",
      "|    15.0|\n",
      "|     5.0|\n",
      "|     9.7|\n",
      "|    30.4|\n",
      "|     2.1|\n",
      "|    16.3|\n",
      "|    11.7|\n",
      "|    10.5|\n",
      "|    31.2|\n",
      "|     5.8|\n",
      "|    20.6|\n",
      "|     9.0|\n",
      "|    26.0|\n",
      "|    47.4|\n",
      "|     5.5|\n",
      "|    16.0|\n",
      "|     3.3|\n",
      "|    12.0|\n",
      "|    23.3|\n",
      "|     8.1|\n",
      "|     5.6|\n",
      "|    17.6|\n",
      "|    18.8|\n",
      "+--------+\n",
      "only showing top 213 rows\n",
      "\n"
     ]
    }
   ],
   "source": [
    "dists.show(213)"
   ]
  },
  {
   "cell_type": "code",
   "execution_count": 87,
   "metadata": {},
   "outputs": [
    {
     "name": "stdout",
     "output_type": "stream",
     "text": [
      "+-----+---------+\n",
      "|value|frequency|\n",
      "+-----+---------+\n",
      "|  1.0|     7983|\n",
      "|  2.5|    11957|\n",
      "|  4.0|     7127|\n",
      "|  5.5|      137|\n",
      "|  7.0|       34|\n",
      "|  8.5|        1|\n",
      "| 10.0|        5|\n",
      "| 11.5|        2|\n",
      "| 13.0|        0|\n",
      "| 14.5|        1|\n",
      "+-----+---------+\n",
      "\n"
     ]
    }
   ],
   "source": [
    "hist(df_result.select(\"Rooms\"),10).show()"
   ]
  },
  {
   "cell_type": "markdown",
   "metadata": {},
   "source": [
    "#### 3. Bathroom"
   ]
  },
  {
   "cell_type": "code",
   "execution_count": 88,
   "metadata": {},
   "outputs": [
    {
     "data": {
      "text/plain": [
       "res67: Long = 6447\n"
      ]
     },
     "execution_count": 88,
     "metadata": {},
     "output_type": "execute_result"
    }
   ],
   "source": [
    "df_result.filter(\"Bathroom IS NULL\").count()\n"
   ]
  },
  {
   "cell_type": "code",
   "execution_count": 89,
   "metadata": {},
   "outputs": [
    {
     "data": {
      "text/plain": [
       "brooms: org.apache.spark.sql.Dataset[org.apache.spark.sql.Row] = [Bathroom: double]\n"
      ]
     },
     "execution_count": 89,
     "metadata": {},
     "output_type": "execute_result"
    }
   ],
   "source": [
    "val brooms = df_result.select(\"Bathroom\").distinct"
   ]
  },
  {
   "cell_type": "code",
   "execution_count": 90,
   "metadata": {},
   "outputs": [
    {
     "data": {
      "text/plain": [
       "res68: Long = 11\n"
      ]
     },
     "execution_count": 90,
     "metadata": {},
     "output_type": "execute_result"
    }
   ],
   "source": [
    "brooms.count()"
   ]
  },
  {
   "cell_type": "code",
   "execution_count": 91,
   "metadata": {},
   "outputs": [
    {
     "name": "stdout",
     "output_type": "stream",
     "text": [
      "+--------+\n",
      "|Bathroom|\n",
      "+--------+\n",
      "|     8.0|\n",
      "|     0.0|\n",
      "|     7.0|\n",
      "|    null|\n",
      "|     1.0|\n",
      "|     4.0|\n",
      "|     3.0|\n",
      "|     2.0|\n",
      "|     6.0|\n",
      "|     5.0|\n",
      "|     9.0|\n",
      "+--------+\n",
      "\n"
     ]
    }
   ],
   "source": [
    "brooms.show()"
   ]
  },
  {
   "cell_type": "code",
   "execution_count": 92,
   "metadata": {},
   "outputs": [
    {
     "name": "stdout",
     "output_type": "stream",
     "text": [
      "+-----+---------+\n",
      "|value|frequency|\n",
      "+-----+---------+\n",
      "|  1.0|     7983|\n",
      "|  2.5|    11957|\n",
      "|  4.0|     7127|\n",
      "|  5.5|      137|\n",
      "|  7.0|       34|\n",
      "|  8.5|        1|\n",
      "| 10.0|        5|\n",
      "| 11.5|        2|\n",
      "| 13.0|        0|\n",
      "| 14.5|        1|\n",
      "+-----+---------+\n",
      "\n"
     ]
    }
   ],
   "source": [
    "hist(df_result.select(\"Rooms\"),10).show()"
   ]
  },
  {
   "cell_type": "markdown",
   "metadata": {},
   "source": [
    "#### 4. Car"
   ]
  },
  {
   "cell_type": "code",
   "execution_count": 93,
   "metadata": {},
   "outputs": [
    {
     "data": {
      "text/plain": [
       "res71: Long = 8728\n"
      ]
     },
     "execution_count": 93,
     "metadata": {},
     "output_type": "execute_result"
    }
   ],
   "source": [
    "df.filter(\"Car IS NULL\").count()"
   ]
  },
  {
   "cell_type": "code",
   "execution_count": 94,
   "metadata": {},
   "outputs": [
    {
     "data": {
      "text/plain": [
       "cars: org.apache.spark.sql.Dataset[org.apache.spark.sql.Row] = [Car: double]\n"
      ]
     },
     "execution_count": 94,
     "metadata": {},
     "output_type": "execute_result"
    }
   ],
   "source": [
    "val cars = df_result.select(\"Car\").distinct"
   ]
  },
  {
   "cell_type": "code",
   "execution_count": 95,
   "metadata": {},
   "outputs": [
    {
     "data": {
      "text/plain": [
       "res72: Long = 14\n"
      ]
     },
     "execution_count": 95,
     "metadata": {},
     "output_type": "execute_result"
    }
   ],
   "source": [
    "cars.count()"
   ]
  },
  {
   "cell_type": "code",
   "execution_count": 96,
   "metadata": {},
   "outputs": [
    {
     "name": "stdout",
     "output_type": "stream",
     "text": [
      "+----+\n",
      "| Car|\n",
      "+----+\n",
      "| 8.0|\n",
      "| 0.0|\n",
      "| 7.0|\n",
      "|null|\n",
      "|18.0|\n",
      "| 1.0|\n",
      "| 4.0|\n",
      "|11.0|\n",
      "| 3.0|\n",
      "| 2.0|\n",
      "|10.0|\n",
      "| 6.0|\n",
      "| 5.0|\n",
      "| 9.0|\n",
      "+----+\n",
      "\n"
     ]
    }
   ],
   "source": [
    "cars.show()"
   ]
  },
  {
   "cell_type": "code",
   "execution_count": 97,
   "metadata": {},
   "outputs": [
    {
     "name": "stdout",
     "output_type": "stream",
     "text": [
      "+-----+---------+\n",
      "|value|frequency|\n",
      "+-----+---------+\n",
      "|  1.0|     7983|\n",
      "|  2.5|    11957|\n",
      "|  4.0|     7127|\n",
      "|  5.5|      137|\n",
      "|  7.0|       34|\n",
      "|  8.5|        1|\n",
      "| 10.0|        5|\n",
      "| 11.5|        2|\n",
      "| 13.0|        0|\n",
      "| 14.5|        1|\n",
      "+-----+---------+\n",
      "\n"
     ]
    }
   ],
   "source": [
    "hist(df_result.select(\"Rooms\"),10).show()"
   ]
  },
  {
   "cell_type": "markdown",
   "metadata": {},
   "source": [
    "#### 5. Landsize"
   ]
  },
  {
   "cell_type": "code",
   "execution_count": 98,
   "metadata": {},
   "outputs": [
    {
     "data": {
      "text/plain": [
       "res75: Long = 9265\n"
      ]
     },
     "execution_count": 98,
     "metadata": {},
     "output_type": "execute_result"
    }
   ],
   "source": [
    "df_result.filter(\"Landsize IS NULL\").count()"
   ]
  },
  {
   "cell_type": "code",
   "execution_count": 99,
   "metadata": {},
   "outputs": [
    {
     "data": {
      "text/plain": [
       "lands: org.apache.spark.sql.Dataset[org.apache.spark.sql.Row] = [Landsize: double]\n"
      ]
     },
     "execution_count": 99,
     "metadata": {},
     "output_type": "execute_result"
    }
   ],
   "source": [
    "val lands = df_result.select(\"Landsize\").distinct"
   ]
  },
  {
   "cell_type": "code",
   "execution_count": 100,
   "metadata": {},
   "outputs": [
    {
     "data": {
      "text/plain": [
       "res76: Long = 1558\n"
      ]
     },
     "execution_count": 100,
     "metadata": {},
     "output_type": "execute_result"
    }
   ],
   "source": [
    "lands.count()"
   ]
  },
  {
   "cell_type": "code",
   "execution_count": 101,
   "metadata": {},
   "outputs": [
    {
     "name": "stdout",
     "output_type": "stream",
     "text": [
      "+--------+\n",
      "|Landsize|\n",
      "+--------+\n",
      "|   596.0|\n",
      "|   558.0|\n",
      "|   299.0|\n",
      "|   692.0|\n",
      "|   305.0|\n",
      "|   496.0|\n",
      "|   934.0|\n",
      "|   769.0|\n",
      "|  3901.0|\n",
      "|  1051.0|\n",
      "|   147.0|\n",
      "|   170.0|\n",
      "|   576.0|\n",
      "|   782.0|\n",
      "|   720.0|\n",
      "|   184.0|\n",
      "|   810.0|\n",
      "|  1369.0|\n",
      "|  3826.0|\n",
      "|  1587.0|\n",
      "+--------+\n",
      "only showing top 20 rows\n",
      "\n"
     ]
    }
   ],
   "source": [
    "lands.show()"
   ]
  },
  {
   "cell_type": "code",
   "execution_count": 102,
   "metadata": {},
   "outputs": [
    {
     "name": "stdout",
     "output_type": "stream",
     "text": [
      "+-----+---------+\n",
      "|value|frequency|\n",
      "+-----+---------+\n",
      "|  1.0|     7983|\n",
      "|  2.5|    11957|\n",
      "|  4.0|     7127|\n",
      "|  5.5|      137|\n",
      "|  7.0|       34|\n",
      "|  8.5|        1|\n",
      "| 10.0|        5|\n",
      "| 11.5|        2|\n",
      "| 13.0|        0|\n",
      "| 14.5|        1|\n",
      "+-----+---------+\n",
      "\n"
     ]
    }
   ],
   "source": [
    "hist(df_result.select(\"Rooms\"),10).show()"
   ]
  },
  {
   "cell_type": "markdown",
   "metadata": {},
   "source": [
    "#### 6. BuildingArea"
   ]
  },
  {
   "cell_type": "code",
   "execution_count": 103,
   "metadata": {},
   "outputs": [
    {
     "data": {
      "text/plain": [
       "res79: Long = 16591\n"
      ]
     },
     "execution_count": 103,
     "metadata": {},
     "output_type": "execute_result"
    }
   ],
   "source": [
    "df_result.filter(\"BuildingArea IS NULL\").count()"
   ]
  },
  {
   "cell_type": "code",
   "execution_count": 104,
   "metadata": {},
   "outputs": [
    {
     "data": {
      "text/plain": [
       "bareas: org.apache.spark.sql.Dataset[org.apache.spark.sql.Row] = [BuildingArea: double]\n"
      ]
     },
     "execution_count": 104,
     "metadata": {},
     "output_type": "execute_result"
    }
   ],
   "source": [
    "val bareas = df_result.select(\"BuildingArea\").distinct"
   ]
  },
  {
   "cell_type": "code",
   "execution_count": 105,
   "metadata": {},
   "outputs": [
    {
     "data": {
      "text/plain": [
       "res80: Long = 663\n"
      ]
     },
     "execution_count": 105,
     "metadata": {},
     "output_type": "execute_result"
    }
   ],
   "source": [
    "bareas.count()"
   ]
  },
  {
   "cell_type": "code",
   "execution_count": 106,
   "metadata": {},
   "outputs": [
    {
     "name": "stdout",
     "output_type": "stream",
     "text": [
      "+------------+\n",
      "|BuildingArea|\n",
      "+------------+\n",
      "|       305.0|\n",
      "|       558.0|\n",
      "|       934.0|\n",
      "|       496.0|\n",
      "|       147.0|\n",
      "|       170.0|\n",
      "|       720.0|\n",
      "|       184.0|\n",
      "|    140.7481|\n",
      "|       169.0|\n",
      "|       160.0|\n",
      "|        72.3|\n",
      "|        53.3|\n",
      "|        70.0|\n",
      "|       311.0|\n",
      "|        67.0|\n",
      "|       168.0|\n",
      "|        69.0|\n",
      "|       206.0|\n",
      "|         0.0|\n",
      "+------------+\n",
      "only showing top 20 rows\n",
      "\n"
     ]
    }
   ],
   "source": [
    "bareas.show()"
   ]
  },
  {
   "cell_type": "code",
   "execution_count": 107,
   "metadata": {},
   "outputs": [
    {
     "name": "stdout",
     "output_type": "stream",
     "text": [
      "+-----+---------+\n",
      "|value|frequency|\n",
      "+-----+---------+\n",
      "|  1.0|     7983|\n",
      "|  2.5|    11957|\n",
      "|  4.0|     7127|\n",
      "|  5.5|      137|\n",
      "|  7.0|       34|\n",
      "|  8.5|        1|\n",
      "| 10.0|        5|\n",
      "| 11.5|        2|\n",
      "| 13.0|        0|\n",
      "| 14.5|        1|\n",
      "+-----+---------+\n",
      "\n"
     ]
    }
   ],
   "source": [
    "hist(df_result.select(\"Rooms\"),10).show()"
   ]
  },
  {
   "cell_type": "markdown",
   "metadata": {},
   "source": [
    "#### 7. Propertycount"
   ]
  },
  {
   "cell_type": "code",
   "execution_count": 108,
   "metadata": {},
   "outputs": [
    {
     "data": {
      "text/plain": [
       "res83: Long = 3\n"
      ]
     },
     "execution_count": 108,
     "metadata": {},
     "output_type": "execute_result"
    }
   ],
   "source": [
    "df_result.filter(\"Propertycount IS NULL\").count()"
   ]
  },
  {
   "cell_type": "code",
   "execution_count": 109,
   "metadata": {},
   "outputs": [
    {
     "data": {
      "text/plain": [
       "pcounts: org.apache.spark.sql.Dataset[org.apache.spark.sql.Row] = [Propertycount: double]\n"
      ]
     },
     "execution_count": 109,
     "metadata": {},
     "output_type": "execute_result"
    }
   ],
   "source": [
    "val pcounts = df_result.select(\"Propertycount\").distinct"
   ]
  },
  {
   "cell_type": "code",
   "execution_count": 110,
   "metadata": {},
   "outputs": [
    {
     "data": {
      "text/plain": [
       "res84: Long = 337\n"
      ]
     },
     "execution_count": 110,
     "metadata": {},
     "output_type": "execute_result"
    }
   ],
   "source": [
    "pcounts.count()"
   ]
  },
  {
   "cell_type": "code",
   "execution_count": 111,
   "metadata": {},
   "outputs": [
    {
     "name": "stdout",
     "output_type": "stream",
     "text": [
      "+-------------+\n",
      "|Propertycount|\n",
      "+-------------+\n",
      "|       1369.0|\n",
      "|       4385.0|\n",
      "|        810.0|\n",
      "|        608.0|\n",
      "|       3640.0|\n",
      "|      11925.0|\n",
      "|       4718.0|\n",
      "|        973.0|\n",
      "|       1554.0|\n",
      "|        389.0|\n",
      "|       2954.0|\n",
      "|        249.0|\n",
      "|        984.0|\n",
      "|       1130.0|\n",
      "|        902.0|\n",
      "|       3755.0|\n",
      "|        802.0|\n",
      "|       2417.0|\n",
      "|       5051.0|\n",
      "|        438.0|\n",
      "|       6065.0|\n",
      "|      11308.0|\n",
      "|       3284.0|\n",
      "|        588.0|\n",
      "|       8524.0|\n",
      "|       4497.0|\n",
      "|      10160.0|\n",
      "|        271.0|\n",
      "|       3600.0|\n",
      "|       4654.0|\n",
      "|       6938.0|\n",
      "|       4973.0|\n",
      "|       2949.0|\n",
      "|       1123.0|\n",
      "|       2291.0|\n",
      "|       1345.0|\n",
      "|       1475.0|\n",
      "|       6380.0|\n",
      "|       3224.0|\n",
      "|       8743.0|\n",
      "|       6464.0|\n",
      "|       1607.0|\n",
      "|       6795.0|\n",
      "|       9028.0|\n",
      "|      11364.0|\n",
      "|      17384.0|\n",
      "|       7082.0|\n",
      "|       4707.0|\n",
      "|       4168.0|\n",
      "|       6388.0|\n",
      "|       7822.0|\n",
      "|       6990.0|\n",
      "|      10788.0|\n",
      "|       1624.0|\n",
      "|       5556.0|\n",
      "|        538.0|\n",
      "|       4704.0|\n",
      "|       2555.0|\n",
      "|       8989.0|\n",
      "|       5811.0|\n",
      "|       5837.0|\n",
      "|        642.0|\n",
      "|         null|\n",
      "|       2547.0|\n",
      "|       5262.0|\n",
      "|       6923.0|\n",
      "|       2674.0|\n",
      "|       1442.0|\n",
      "|       2356.0|\n",
      "|       1889.0|\n",
      "|       3106.0|\n",
      "|       4605.0|\n",
      "|      10331.0|\n",
      "|       1008.0|\n",
      "|       1721.0|\n",
      "|       4898.0|\n",
      "|      14949.0|\n",
      "|      17496.0|\n",
      "|       4380.0|\n",
      "|       2768.0|\n",
      "|       7570.0|\n",
      "|       6482.0|\n",
      "|      11204.0|\n",
      "|       2890.0|\n",
      "|      10412.0|\n",
      "|       6763.0|\n",
      "|       2309.0|\n",
      "|       2671.0|\n",
      "|       2887.0|\n",
      "|        777.0|\n",
      "|       3052.0|\n",
      "|       1490.0|\n",
      "|        121.0|\n",
      "|       3376.0|\n",
      "|       8870.0|\n",
      "|       2339.0|\n",
      "|        709.0|\n",
      "|       6732.0|\n",
      "|       5420.0|\n",
      "|       5498.0|\n",
      "|       2276.0|\n",
      "|      11806.0|\n",
      "|       2474.0|\n",
      "|       1240.0|\n",
      "|       4502.0|\n",
      "|       1058.0|\n",
      "|       2170.0|\n",
      "|       7809.0|\n",
      "|       3650.0|\n",
      "|       2230.0|\n",
      "|       1424.0|\n",
      "|       5366.0|\n",
      "|       3906.0|\n",
      "|       1595.0|\n",
      "|       2878.0|\n",
      "|       1705.0|\n",
      "|       1071.0|\n",
      "|       4242.0|\n",
      "|       1124.0|\n",
      "|       3789.0|\n",
      "|      10969.0|\n",
      "|       1281.0|\n",
      "|       4019.0|\n",
      "|       3988.0|\n",
      "|       4918.0|\n",
      "|       1048.0|\n",
      "|       4675.0|\n",
      "|      10175.0|\n",
      "|        845.0|\n",
      "|       2379.0|\n",
      "|       5336.0|\n",
      "|       1543.0|\n",
      "|       1899.0|\n",
      "|       7719.0|\n",
      "|       4790.0|\n",
      "|       4794.0|\n",
      "|       3598.0|\n",
      "|       4294.0|\n",
      "|       2987.0|\n",
      "|       2985.0|\n",
      "|       3589.0|\n",
      "|       5058.0|\n",
      "|       5833.0|\n",
      "|       2397.0|\n",
      "|       5825.0|\n",
      "|      10529.0|\n",
      "|       4217.0|\n",
      "|       3351.0|\n",
      "|       5454.0|\n",
      "|      14887.0|\n",
      "|       4864.0|\n",
      "|         83.0|\n",
      "|       5629.0|\n",
      "|       2546.0|\n",
      "|       5678.0|\n",
      "|      14042.0|\n",
      "|       2211.0|\n",
      "|       1223.0|\n",
      "|       6567.0|\n",
      "|       6244.0|\n",
      "|       1160.0|\n",
      "|       3265.0|\n",
      "|       1414.0|\n",
      "|       2322.0|\n",
      "|       2206.0|\n",
      "|       2970.0|\n",
      "|       5682.0|\n",
      "|       3873.0|\n",
      "|       6202.0|\n",
      "|       2076.0|\n",
      "|       3593.0|\n",
      "|       4442.0|\n",
      "|       7412.0|\n",
      "|      21650.0|\n",
      "|      11667.0|\n",
      "|       2246.0|\n",
      "|       3553.0|\n",
      "|       1308.0|\n",
      "|       2606.0|\n",
      "|        534.0|\n",
      "|       5462.0|\n",
      "|       3040.0|\n",
      "|       2185.0|\n",
      "|       4048.0|\n",
      "|        821.0|\n",
      "|       7254.0|\n",
      "|       1690.0|\n",
      "|       2952.0|\n",
      "|      10926.0|\n",
      "|       4054.0|\n",
      "|       4939.0|\n",
      "|       2493.0|\n",
      "|       5087.0|\n",
      "|       2243.0|\n",
      "|       2894.0|\n",
      "|       3285.0|\n",
      "|        869.0|\n",
      "|       4734.0|\n",
      "|       5943.0|\n",
      "|       4387.0|\n",
      "|       3891.0|\n",
      "|       4181.0|\n",
      "|       2898.0|\n",
      "|       1863.0|\n",
      "|       2651.0|\n",
      "|        790.0|\n",
      "|      15542.0|\n",
      "|        457.0|\n",
      "|       1158.0|\n",
      "|       2698.0|\n",
      "|       2591.0|\n",
      "|       3464.0|\n",
      "|       5533.0|\n",
      "|       4407.0|\n",
      "|       2727.0|\n",
      "|       2871.0|\n",
      "|        849.0|\n",
      "|       5549.0|\n",
      "|       2019.0|\n",
      "|       1686.0|\n",
      "|        851.0|\n",
      "|       8443.0|\n",
      "|        962.0|\n",
      "|       3296.0|\n",
      "|       3540.0|\n",
      "|       3619.0|\n",
      "|       2346.0|\n",
      "|       8077.0|\n",
      "|       4258.0|\n",
      "|      13366.0|\n",
      "|       5263.0|\n",
      "|       1390.0|\n",
      "|       3794.0|\n",
      "|       4836.0|\n",
      "|       1651.0|\n",
      "|       2866.0|\n",
      "|       8060.0|\n",
      "|       3582.0|\n",
      "|       4553.0|\n",
      "|       9376.0|\n",
      "|       1119.0|\n",
      "|       5713.0|\n",
      "|      11918.0|\n",
      "|       6232.0|\n",
      "|       3940.0|\n",
      "|       4280.0|\n",
      "|       1999.0|\n",
      "|        290.0|\n",
      "|       2992.0|\n",
      "|       8322.0|\n",
      "|        915.0|\n",
      "|       7785.0|\n",
      "|       7969.0|\n",
      "|       8459.0|\n",
      "|      14092.0|\n",
      "|       4480.0|\n",
      "|       2403.0|\n",
      "|       2867.0|\n",
      "|      13830.0|\n",
      "|       6871.0|\n",
      "|       7955.0|\n",
      "|      10579.0|\n",
      "|       1793.0|\n",
      "|       2079.0|\n",
      "|       1989.0|\n",
      "|        938.0|\n",
      "|      10999.0|\n",
      "|       2500.0|\n",
      "|       8279.0|\n",
      "|       5030.0|\n",
      "|       5812.0|\n",
      "|       3122.0|\n",
      "|       8648.0|\n",
      "|       1808.0|\n",
      "|       3533.0|\n",
      "|       3692.0|\n",
      "|       7485.0|\n",
      "|      14577.0|\n",
      "|       7566.0|\n",
      "|       9704.0|\n",
      "|       2259.0|\n",
      "|       8400.0|\n",
      "|       7392.0|\n",
      "|       5132.0|\n",
      "|       1052.0|\n",
      "|      13240.0|\n",
      "|       3578.0|\n",
      "|       2947.0|\n",
      "|       2004.0|\n",
      "|      16166.0|\n",
      "|       2329.0|\n",
      "|      17093.0|\n",
      "|        892.0|\n",
      "|      17055.0|\n",
      "|      10894.0|\n",
      "|       6821.0|\n",
      "|       9264.0|\n",
      "|       3656.0|\n",
      "|        604.0|\n",
      "|       5424.0|\n",
      "|       7113.0|\n",
      "|       8256.0|\n",
      "|        394.0|\n",
      "|       3532.0|\n",
      "|       2332.0|\n",
      "|       7217.0|\n",
      "|        570.0|\n",
      "|       1328.0|\n",
      "|       6543.0|\n",
      "|       1202.0|\n",
      "|       9758.0|\n",
      "|      15321.0|\n",
      "|       3145.0|\n",
      "|        768.0|\n",
      "|       7717.0|\n",
      "|       2940.0|\n",
      "|       2824.0|\n",
      "|       8920.0|\n",
      "|       5070.0|\n",
      "|       3728.0|\n",
      "|       7630.0|\n",
      "|       8280.0|\n",
      "|       3307.0|\n",
      "|       3445.0|\n",
      "|       8801.0|\n",
      "|       1184.0|\n",
      "|       2126.0|\n",
      "|       3280.0|\n",
      "|       7680.0|\n",
      "|       2003.0|\n",
      "|       5301.0|\n",
      "|       6786.0|\n",
      "|       6162.0|\n",
      "|       5457.0|\n",
      "|        852.0|\n",
      "|      15510.0|\n",
      "|       2756.0|\n",
      "+-------------+\n",
      "\n"
     ]
    }
   ],
   "source": [
    "pcounts.show(639)"
   ]
  },
  {
   "cell_type": "code",
   "execution_count": 112,
   "metadata": {},
   "outputs": [
    {
     "name": "stdout",
     "output_type": "stream",
     "text": [
      "+-----+---------+\n",
      "|value|frequency|\n",
      "+-----+---------+\n",
      "|  1.0|     7983|\n",
      "|  2.5|    11957|\n",
      "|  4.0|     7127|\n",
      "|  5.5|      137|\n",
      "|  7.0|       34|\n",
      "|  8.5|        1|\n",
      "| 10.0|        5|\n",
      "| 11.5|        2|\n",
      "| 13.0|        0|\n",
      "| 14.5|        1|\n",
      "+-----+---------+\n",
      "\n"
     ]
    }
   ],
   "source": [
    "hist(df_result.select(\"Rooms\"),10).show()"
   ]
  },
  {
   "cell_type": "code",
   "execution_count": 113,
   "metadata": {},
   "outputs": [
    {
     "name": "stdout",
     "output_type": "stream",
     "text": [
      "+-------+-----------------+------------------+------------------+------------------+------------------+\n",
      "|summary|            Price|             Rooms|          Distance|          Bathroom|               Car|\n",
      "+-------+-----------------+------------------+------------------+------------------+------------------+\n",
      "|  count|            27247|             27247|             27246|             20800|             20423|\n",
      "|   mean|1050173.344955408|2.9922927294748045|11.280276003817034|1.5916826923076923|1.7153699260637516|\n",
      "| stddev|641467.1301045999|0.9547952950194317| 6.787468996334042|0.7008803646354179| 0.994216095184362|\n",
      "|    min|          85000.0|               1.0|               0.0|               0.0|               0.0|\n",
      "|    max|           1.12E7|              16.0|              48.1|               9.0|              18.0|\n",
      "+-------+-----------------+------------------+------------------+------------------+------------------+\n",
      "\n"
     ]
    }
   ],
   "source": [
    "df_result.describe().select(\"summary\",\"Price\", \"Rooms\",\"Distance\",\"Bathroom\",\"Car\").show()"
   ]
  },
  {
   "cell_type": "code",
   "execution_count": 114,
   "metadata": {},
   "outputs": [
    {
     "name": "stdout",
     "output_type": "stream",
     "text": [
      "+-------+------------------+-----------------+\n",
      "|summary|          Landsize|    Propertycount|\n",
      "+-------+------------------+-----------------+\n",
      "|  count|             17982|            27244|\n",
      "|   mean| 593.4889333778223|7566.781089414183|\n",
      "| stddev|3757.2664286434324|4492.382417842941|\n",
      "|    min|               0.0|             83.0|\n",
      "|    max|          433014.0|          21650.0|\n",
      "+-------+------------------+-----------------+\n",
      "\n"
     ]
    }
   ],
   "source": [
    "df_result.describe().select(\"summary\",\"Landsize\",\"Propertycount\").show()"
   ]
  },
  {
   "cell_type": "code",
   "execution_count": 115,
   "metadata": {},
   "outputs": [
    {
     "data": {
      "text/plain": [
       "res89: Long = 27247\n"
      ]
     },
     "execution_count": 115,
     "metadata": {},
     "output_type": "execute_result"
    }
   ],
   "source": [
    "df_result.count()"
   ]
  },
  {
   "cell_type": "markdown",
   "metadata": {},
   "source": [
    "### Group By and  Aggregation"
   ]
  },
  {
   "cell_type": "code",
   "execution_count": 116,
   "metadata": {},
   "outputs": [
    {
     "name": "stdout",
     "output_type": "stream",
     "text": [
      "+----------------+----------+\n",
      "|          Suburb|max(Price)|\n",
      "+----------------+----------+\n",
      "|  Brunswick West| 2600000.0|\n",
      "| South Melbourne| 4600000.0|\n",
      "|    Ivanhoe East| 3850000.0|\n",
      "|    Princes Hill| 2980000.0|\n",
      "|      Cranbourne|  910500.0|\n",
      "|         Ashwood| 2100000.0|\n",
      "|       Brunswick| 2545000.0|\n",
      "|South Kingsville| 1320000.0|\n",
      "|        Brighton|    1.12E7|\n",
      "|        Oak Park| 1453000.0|\n",
      "|         Doveton|  707000.0|\n",
      "|       Albanvale|  655000.0|\n",
      "|      Brookfield|  555000.0|\n",
      "|        Lynbrook|  630000.0|\n",
      "|     Ferny Creek|  690000.0|\n",
      "|     Pascoe Vale| 1663000.0|\n",
      "| Blackburn North| 1570000.0|\n",
      "|     Sandringham| 4600000.0|\n",
      "|   Botanic Ridge|  750000.0|\n",
      "|          Carrum|  980000.0|\n",
      "+----------------+----------+\n",
      "only showing top 20 rows\n",
      "\n"
     ]
    }
   ],
   "source": [
    "df_result.groupBy(\"Suburb\").agg(max(\"Price\")).show()"
   ]
  },
  {
   "cell_type": "code",
   "execution_count": 117,
   "metadata": {},
   "outputs": [
    {
     "name": "stdout",
     "output_type": "stream",
     "text": [
      "+----------------+----------+\n",
      "|          Suburb|min(Price)|\n",
      "+----------------+----------+\n",
      "|  Brunswick West|  237000.0|\n",
      "| South Melbourne|  320000.0|\n",
      "|    Ivanhoe East|  405000.0|\n",
      "|    Princes Hill|  938000.0|\n",
      "|      Cranbourne|  490000.0|\n",
      "|         Ashwood|  535000.0|\n",
      "|       Brunswick|  170000.0|\n",
      "|South Kingsville|  300000.0|\n",
      "|        Brighton|  290000.0|\n",
      "|        Oak Park|  358500.0|\n",
      "|         Doveton|  396000.0|\n",
      "|       Albanvale|  415000.0|\n",
      "|      Brookfield|  445000.0|\n",
      "|        Lynbrook|  597500.0|\n",
      "|     Ferny Creek|  690000.0|\n",
      "|     Pascoe Vale|  248500.0|\n",
      "| Blackburn North|  590000.0|\n",
      "|     Sandringham|  430000.0|\n",
      "|   Botanic Ridge|  750000.0|\n",
      "|          Carrum|  435000.0|\n",
      "+----------------+----------+\n",
      "only showing top 20 rows\n",
      "\n"
     ]
    }
   ],
   "source": [
    "df_result.groupBy(\"Suburb\").agg(min(\"Price\")).show()"
   ]
  },
  {
   "cell_type": "code",
   "execution_count": 118,
   "metadata": {},
   "outputs": [
    {
     "name": "stdout",
     "output_type": "stream",
     "text": [
      "+--------+--------------------+\n",
      "|Distance|round(avg(Price), 0)|\n",
      "+--------+--------------------+\n",
      "|    14.9|            740966.0|\n",
      "|    13.4|           1222423.0|\n",
      "|    15.5|            976895.0|\n",
      "|    15.4|           1000869.0|\n",
      "|     2.4|           1064972.0|\n",
      "|     8.0|           1116152.0|\n",
      "|    10.2|           1600977.0|\n",
      "|    24.7|            628671.0|\n",
      "|    32.3|            713722.0|\n",
      "|     0.0|            858388.0|\n",
      "|    17.9|            832302.0|\n",
      "|    43.3|            594750.0|\n",
      "|    11.4|           1111867.0|\n",
      "|     5.4|           1761224.0|\n",
      "|    23.8|            600357.0|\n",
      "|    16.6|            564100.0|\n",
      "|     7.0|            974803.0|\n",
      "|    11.5|            776150.0|\n",
      "|     3.5|           1346543.0|\n",
      "|    31.7|            504432.0|\n",
      "+--------+--------------------+\n",
      "only showing top 20 rows\n",
      "\n"
     ]
    }
   ],
   "source": [
    "df_result.groupBy(\"Distance\").agg(round(mean(\"Price\"),0)).show()"
   ]
  },
  {
   "cell_type": "markdown",
   "metadata": {},
   "source": [
    "### Correlation\n",
    "\n",
    " Finding out correlations between \"Price\" and attributes:\n",
    "\n",
    "|-- Rooms\n",
    "|-- Distance\n",
    "|-- Rooms\n",
    "|-- Bathroom\n",
    "|-- Car\n",
    "|-- Landsize\n",
    "|-- BuildingArea\n",
    "|-- YearBuilt\n",
    "|-- Propertycount\n",
    "--|"
   ]
  },
  {
   "cell_type": "code",
   "execution_count": 119,
   "metadata": {},
   "outputs": [
    {
     "name": "stdout",
     "output_type": "stream",
     "text": [
      "+-------------------+\n",
      "| corr(Rooms, Price)|\n",
      "+-------------------+\n",
      "|0.46523834510759615|\n",
      "+-------------------+\n",
      "\n"
     ]
    }
   ],
   "source": [
    "df_result.select(corr(\"Rooms\",\"Price\")).show()"
   ]
  },
  {
   "cell_type": "code",
   "execution_count": 120,
   "metadata": {},
   "outputs": [
    {
     "name": "stdout",
     "output_type": "stream",
     "text": [
      "+---------------------+\n",
      "|corr(Distance, Price)|\n",
      "+---------------------+\n",
      "| -0.21138434279157942|\n",
      "+---------------------+\n",
      "\n"
     ]
    },
    {
     "data": {
      "text/plain": [
       "import org.apache.spark.sql.functions.corr\n"
      ]
     },
     "execution_count": 120,
     "metadata": {},
     "output_type": "execute_result"
    }
   ],
   "source": [
    "import org.apache.spark.sql.functions.corr\n",
    "df_result.select(corr(\"Distance\",\"Price\")).show()"
   ]
  },
  {
   "cell_type": "code",
   "execution_count": 121,
   "metadata": {},
   "outputs": [
    {
     "name": "stdout",
     "output_type": "stream",
     "text": [
      "+---------------------+\n",
      "|corr(Bathroom, Price)|\n",
      "+---------------------+\n",
      "|   0.4298780777015672|\n",
      "+---------------------+\n",
      "\n"
     ]
    }
   ],
   "source": [
    "df_result.select(corr(\"Bathroom\",\"Price\")).show()"
   ]
  },
  {
   "cell_type": "code",
   "execution_count": 122,
   "metadata": {},
   "outputs": [
    {
     "name": "stdout",
     "output_type": "stream",
     "text": [
      "+-------------------+\n",
      "|   corr(Car, Price)|\n",
      "+-------------------+\n",
      "|0.20180256061576263|\n",
      "+-------------------+\n",
      "\n"
     ]
    }
   ],
   "source": [
    "df_result.select(corr(\"Car\",\"Price\")).show()"
   ]
  },
  {
   "cell_type": "code",
   "execution_count": 123,
   "metadata": {},
   "outputs": [
    {
     "name": "stdout",
     "output_type": "stream",
     "text": [
      "+---------------------+\n",
      "|corr(Landsize, Price)|\n",
      "+---------------------+\n",
      "| 0.032748365249470925|\n",
      "+---------------------+\n",
      "\n"
     ]
    }
   ],
   "source": [
    "df_result.select(corr(\"Landsize\",\"Price\")).show()"
   ]
  },
  {
   "cell_type": "code",
   "execution_count": 124,
   "metadata": {},
   "outputs": [
    {
     "name": "stdout",
     "output_type": "stream",
     "text": [
      "+-------------------------+\n",
      "|corr(BuildingArea, Price)|\n",
      "+-------------------------+\n",
      "|       0.1007536394731018|\n",
      "+-------------------------+\n",
      "\n"
     ]
    }
   ],
   "source": [
    "df_result.select(corr(\"BuildingArea\",\"Price\")).show()"
   ]
  },
  {
   "cell_type": "code",
   "execution_count": 125,
   "metadata": {},
   "outputs": [
    {
     "name": "stdout",
     "output_type": "stream",
     "text": [
      "+----------------------+\n",
      "|corr(YearBuilt, Price)|\n",
      "+----------------------+\n",
      "|   -0.3333055641267079|\n",
      "+----------------------+\n",
      "\n"
     ]
    }
   ],
   "source": [
    "df_result.select(corr(\"YearBuilt\",\"Price\")).show()"
   ]
  },
  {
   "cell_type": "code",
   "execution_count": 126,
   "metadata": {},
   "outputs": [
    {
     "name": "stdout",
     "output_type": "stream",
     "text": [
      "+--------------------------+\n",
      "|corr(Propertycount, Price)|\n",
      "+--------------------------+\n",
      "|      -0.05901668608374418|\n",
      "+--------------------------+\n",
      "\n"
     ]
    }
   ],
   "source": [
    "df_result.select(corr(\"Propertycount\",\"Price\")).show()"
   ]
  },
  {
   "cell_type": "markdown",
   "metadata": {},
   "source": [
    "### Select relevant features:"
   ]
  },
  {
   "cell_type": "code",
   "execution_count": 127,
   "metadata": {},
   "outputs": [
    {
     "data": {
      "text/plain": [
       "df_result: org.apache.spark.sql.DataFrame = [Price: double, Method: string ... 10 more fields]\n"
      ]
     },
     "execution_count": 127,
     "metadata": {},
     "output_type": "execute_result"
    }
   ],
   "source": [
    "\n",
    "df_result = df_result.select(\"Price\",\"Method\",\"Type\",\"Distance\",\"Rooms\",\"Bathroom\",\"Car\",\"Landsize\",\"Propertycount\", \"Suburb\",\"Street\",\"Date\")"
   ]
  },
  {
   "cell_type": "markdown",
   "metadata": {},
   "source": [
    "#### Filtering null values"
   ]
  },
  {
   "cell_type": "code",
   "execution_count": 128,
   "metadata": {},
   "outputs": [
    {
     "data": {
      "text/plain": [
       "df_not_null: org.apache.spark.sql.DataFrame = [Price: double, Method: string ... 10 more fields]\n",
       "res101: Long = 17701\n"
      ]
     },
     "execution_count": 128,
     "metadata": {},
     "output_type": "execute_result"
    }
   ],
   "source": [
    "val df_not_null = df_result.na.drop\n",
    "df_not_null.count()"
   ]
  },
  {
   "cell_type": "code",
   "execution_count": 129,
   "metadata": {},
   "outputs": [
    {
     "name": "stdout",
     "output_type": "stream",
     "text": [
      "root\n",
      " |-- Price: double (nullable = true)\n",
      " |-- Method: string (nullable = true)\n",
      " |-- Type: string (nullable = true)\n",
      " |-- Distance: double (nullable = true)\n",
      " |-- Rooms: double (nullable = true)\n",
      " |-- Bathroom: double (nullable = true)\n",
      " |-- Car: double (nullable = true)\n",
      " |-- Landsize: double (nullable = true)\n",
      " |-- Propertycount: double (nullable = true)\n",
      " |-- Suburb: string (nullable = true)\n",
      " |-- Street: string (nullable = true)\n",
      " |-- Date: string (nullable = true)\n",
      "\n"
     ]
    }
   ],
   "source": [
    "df_not_null.printSchema()\n"
   ]
  },
  {
   "cell_type": "markdown",
   "metadata": {},
   "source": [
    "#### Write down clean data:"
   ]
  },
  {
   "cell_type": "code",
   "execution_count": 130,
   "metadata": {},
   "outputs": [],
   "source": [
    "! hadoop fs -mkdir -p /tmp/output"
   ]
  },
  {
   "cell_type": "code",
   "execution_count": 131,
   "metadata": {},
   "outputs": [
    {
     "name": "stdout",
     "output_type": "stream",
     "text": [
      "Found 3 items\n",
      "\n",
      "\n",
      "drwxrwx---   - root supergroup          0 2020-05-22 07:18 /tmp/hadoop-yarn\n",
      "\n",
      "\n",
      "drwxr-xr-x   - root supergroup          0 2020-05-22 07:24 /tmp/output\n",
      "\n",
      "\n",
      "drwxr-xr-x   - root supergroup          0 2020-05-22 07:20 /tmp/rs_in\n",
      "\n",
      "\n"
     ]
    }
   ],
   "source": [
    "! hadoop fs -ls /tmp/"
   ]
  },
  {
   "cell_type": "code",
   "execution_count": 132,
   "metadata": {},
   "outputs": [],
   "source": [
    "df_not_null\n",
    "   .coalesce(1)\n",
    "   .write\n",
    "   .format(\"csv\")\n",
    "   .option(\"header\",\"true\")\n",
    "   .mode(\"overwrite\").option(\"sep\",\",\")\n",
    "   .save(\"hdfs://localhost:9000/tmp/output\")"
   ]
  },
  {
   "cell_type": "code",
   "execution_count": 133,
   "metadata": {},
   "outputs": [
    {
     "name": "stdout",
     "output_type": "stream",
     "text": [
      "-rw-r--r--   3 root supergroup          0 2020-05-22 07:24 /tmp/output/_SUCCESS\n",
      "\n",
      "\n",
      "-rw-r--r--   3 root supergroup    1285556 2020-05-22 07:24 /tmp/output/part-00000-521117aa-7453-48dc-979b-96800950d356-c000.csv\n",
      "\n",
      "\n"
     ]
    }
   ],
   "source": [
    "! hadoop fs -ls -R /tmp/output"
   ]
  },
  {
   "cell_type": "markdown",
   "metadata": {},
   "source": [
    "Save the clean data to disk"
   ]
  },
  {
   "cell_type": "code",
   "execution_count": 134,
   "metadata": {},
   "outputs": [],
   "source": [
    "! hadoop fs -copyToLocal /tmp/output/\\*.csv ./../data-clean/mh.csv"
   ]
  },
  {
   "cell_type": "code",
   "execution_count": 135,
   "metadata": {},
   "outputs": [
    {
     "name": "stdout",
     "output_type": "stream",
     "text": [
      "mh.csv\r\n",
      "\n"
     ]
    }
   ],
   "source": [
    "! ls ./../data-clean/"
   ]
  },
  {
   "cell_type": "markdown",
   "metadata": {},
   "source": [
    "## References\n",
    "\n",
    "Apache Spark (n.d.). _Spark Scala API (Scaladoc). Overview._ https://spark.apache.org/docs/latest/api/java/overview-summary.html\n",
    "\n",
    "Apache Spark (n.d.). _Basic Statistic._ https://spark.apache.org/docs/latest/ml-statistics.html\n",
    "\n",
    "Bahadoor N. (2020). _Spark Tutorials_ https://allaboutscala.com/big-data/spark/#dataframe-statistics-correlation\n",
    "\n",
    "Databricks. (2020). _Introduction to DataFrames - Scala._  https://docs.databricks.com/spark/latest/dataframes-datasets/introduction-to-dataframes-scala.html \n",
    "\n",
    "Grimaldi E. (2018). _Pandas vs. Spark: how to handle dataframes (Part II.)_  https://towardsdatascience.com/python-pandas-vs-scala-how-to-handle-dataframes-part-ii-d3e5efe8287d \n",
    "\n",
    "Phatak M. (2016). _Statistical Data Exploration using Spark 2.0 - Part 2 : Shape of Data with Histograms_ http://blog.madhukaraphatak.com/statistical-data-exploration-spark-part-2/"
   ]
  },
  {
   "cell_type": "code",
   "execution_count": null,
   "metadata": {},
   "outputs": [],
   "source": []
  }
 ],
 "metadata": {
  "kernelspec": {
   "display_name": "spylon-kernel",
   "language": "scala",
   "name": "spylon-kernel"
  },
  "language_info": {
   "codemirror_mode": "text/x-scala",
   "file_extension": ".scala",
   "help_links": [
    {
     "text": "MetaKernel Magics",
     "url": "https://metakernel.readthedocs.io/en/latest/source/README.html"
    }
   ],
   "mimetype": "text/x-scala",
   "name": "scala",
   "pygments_lexer": "scala",
   "version": "0.4.1"
  }
 },
 "nbformat": 4,
 "nbformat_minor": 4
}
