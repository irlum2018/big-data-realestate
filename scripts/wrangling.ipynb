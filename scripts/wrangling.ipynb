{
 "cells": [
  {
   "cell_type": "code",
   "execution_count": null,
   "metadata": {},
   "outputs": [],
   "source": []
  },
  {
   "cell_type": "markdown",
   "metadata": {},
   "source": [
    "## Initialise Spark Session:"
   ]
  },
  {
   "cell_type": "code",
   "execution_count": 1,
   "metadata": {},
   "outputs": [
    {
     "data": {
      "text/plain": [
       "Intitializing Scala interpreter ..."
      ]
     },
     "metadata": {},
     "output_type": "display_data"
    },
    {
     "data": {
      "text/plain": [
       "Spark Web UI available at http://c8ed6e6c5b9e:4040\n",
       "SparkContext available as 'sc' (version = 2.4.5, master = local[*], app id = local-1589860725539)\n",
       "SparkSession available as 'spark'\n"
      ]
     },
     "metadata": {},
     "output_type": "display_data"
    },
    {
     "name": "stdout",
     "output_type": "stream",
     "text": [
      "2020-05-19 03:58:53,780 WARN  [Thread-4] sql.SparkSession$Builder (Logging.scala:logWarning(66)) - Using an existing SparkSession; some configuration may not take effect.\n"
     ]
    },
    {
     "data": {
      "text/plain": [
       "spark: org.apache.spark.sql.SparkSession = org.apache.spark.sql.SparkSession@e452704\n"
      ]
     },
     "execution_count": 1,
     "metadata": {},
     "output_type": "execute_result"
    }
   ],
   "source": [
    "val spark = org.apache.spark.sql.SparkSession.builder\n",
    "        .master(\"local\") \n",
    "        .appName(\"Spark CSV Reader\")\n",
    "        .getOrCreate;"
   ]
  },
  {
   "cell_type": "markdown",
   "metadata": {},
   "source": [
    "### Preparing HDFS"
   ]
  },
  {
   "cell_type": "code",
   "execution_count": 2,
   "metadata": {},
   "outputs": [
    {
     "name": "stdout",
     "output_type": "stream",
     "text": [
      "/home/sandpit/big-data-realestate/scripts\r\n",
      "\n"
     ]
    }
   ],
   "source": [
    "!pwd\n"
   ]
  },
  {
   "cell_type": "code",
   "execution_count": 3,
   "metadata": {},
   "outputs": [
    {
     "name": "stdout",
     "output_type": "stream",
     "text": [
      "34858\r\n",
      "\n"
     ]
    }
   ],
   "source": [
    "!cat ./../data-raw/Melbourne_housing_FULL.csv| wc -l"
   ]
  },
  {
   "cell_type": "code",
   "execution_count": 4,
   "metadata": {},
   "outputs": [
    {
     "name": "stdout",
     "output_type": "stream",
     "text": [
      "put: `/tmp/rs_in/mh.csv': File exists\n",
      "\n",
      "\n",
      "Found 3 items\n",
      "\n",
      "\n",
      "-rw-r--r--   1 root root    5018236 2020-05-15 05:20 /tmp/rs_in/mh.csv\n",
      "\n",
      "\n",
      "-rw-r--r--   1 root root     123637 2020-05-16 02:33 /tmp/rs_in/sales.csv\n",
      "\n",
      "\n",
      "-rw-r--r--   1 root root       5860 2020-05-19 00:12 /tmp/rs_in/test.csv\n",
      "\n",
      "\n"
     ]
    }
   ],
   "source": [
    "! hadoop fs -mkdir -p  /tmp/rs_in\n",
    "! hadoop fs -put   -p  ./../data-raw/Melbourne_housing_FULL.csv             /tmp/rs_in/mh.csv\n",
    "! hadoop fs -ls        /tmp/rs_in/"
   ]
  },
  {
   "cell_type": "code",
   "execution_count": 5,
   "metadata": {},
   "outputs": [
    {
     "name": "stdout",
     "output_type": "stream",
     "text": [
      "34858\r\n",
      "\n"
     ]
    }
   ],
   "source": [
    "!hadoop fs -cat /tmp/rs_in/mh.csv | wc -l"
   ]
  },
  {
   "cell_type": "markdown",
   "metadata": {},
   "source": [
    "### Get config info about hdfs:"
   ]
  },
  {
   "cell_type": "code",
   "execution_count": 6,
   "metadata": {},
   "outputs": [
    {
     "name": "stdout",
     "output_type": "stream",
     "text": [
      "hdfs://localhost:9000\r\n",
      "\n"
     ]
    }
   ],
   "source": [
    "!hdfs getconf -confKey fs.defaultFS"
   ]
  },
  {
   "cell_type": "code",
   "execution_count": 7,
   "metadata": {},
   "outputs": [
    {
     "data": {
      "text/plain": [
       "df: org.apache.spark.sql.DataFrame = [Suburb: string, Address: string ... 19 more fields]\n"
      ]
     },
     "execution_count": 7,
     "metadata": {},
     "output_type": "execute_result"
    }
   ],
   "source": [
    "val df = spark.read.format(\"csv\").option(\"header\", \"true\").load(\"hdfs://localhost:9000/tmp/rs_in/mh.csv\")"
   ]
  },
  {
   "cell_type": "markdown",
   "metadata": {},
   "source": [
    "### Print schema:"
   ]
  },
  {
   "cell_type": "code",
   "execution_count": 8,
   "metadata": {},
   "outputs": [
    {
     "name": "stdout",
     "output_type": "stream",
     "text": [
      "root\n",
      " |-- Suburb: string (nullable = true)\n",
      " |-- Address: string (nullable = true)\n",
      " |-- Rooms: string (nullable = true)\n",
      " |-- Type: string (nullable = true)\n",
      " |-- Price: string (nullable = true)\n",
      " |-- Method: string (nullable = true)\n",
      " |-- SellerG: string (nullable = true)\n",
      " |-- Date: string (nullable = true)\n",
      " |-- Distance: string (nullable = true)\n",
      " |-- Postcode: string (nullable = true)\n",
      " |-- Bedroom2: string (nullable = true)\n",
      " |-- Bathroom: string (nullable = true)\n",
      " |-- Car: string (nullable = true)\n",
      " |-- Landsize: string (nullable = true)\n",
      " |-- BuildingArea: string (nullable = true)\n",
      " |-- YearBuilt: string (nullable = true)\n",
      " |-- CouncilArea: string (nullable = true)\n",
      " |-- Lattitude: string (nullable = true)\n",
      " |-- Longtitude: string (nullable = true)\n",
      " |-- Regionname: string (nullable = true)\n",
      " |-- Propertycount: string (nullable = true)\n",
      "\n"
     ]
    }
   ],
   "source": [
    "df.printSchema()"
   ]
  },
  {
   "cell_type": "code",
   "execution_count": 9,
   "metadata": {},
   "outputs": [
    {
     "data": {
      "text/plain": [
       "res1: Array[String] = Array(Suburb, Address, Rooms, Type, Price, Method, SellerG, Date, Distance, Postcode, Bedroom2, Bathroom, Car, Landsize, BuildingArea, YearBuilt, CouncilArea, Lattitude, Longtitude, Regionname, Propertycount)\n"
      ]
     },
     "execution_count": 9,
     "metadata": {},
     "output_type": "execute_result"
    }
   ],
   "source": [
    "df.columns"
   ]
  },
  {
   "cell_type": "markdown",
   "metadata": {},
   "source": [
    "### Show column types:"
   ]
  },
  {
   "cell_type": "code",
   "execution_count": 10,
   "metadata": {},
   "outputs": [
    {
     "data": {
      "text/plain": [
       "res2: Array[(String, String)] = Array((Suburb,StringType), (Address,StringType), (Rooms,StringType), (Type,StringType), (Price,StringType), (Method,StringType), (SellerG,StringType), (Date,StringType), (Distance,StringType), (Postcode,StringType), (Bedroom2,StringType), (Bathroom,StringType), (Car,StringType), (Landsize,StringType), (BuildingArea,StringType), (YearBuilt,StringType), (CouncilArea,StringType), (Lattitude,StringType), (Longtitude,StringType), (Regionname,StringType), (Propertycount,StringType))\n"
      ]
     },
     "execution_count": 10,
     "metadata": {},
     "output_type": "execute_result"
    }
   ],
   "source": [
    "df.dtypes"
   ]
  },
  {
   "cell_type": "code",
   "execution_count": 11,
   "metadata": {},
   "outputs": [
    {
     "data": {
      "text/plain": [
       "res3: Array[(String, String)] = Array((Suburb,StringType))\n"
      ]
     },
     "execution_count": 11,
     "metadata": {},
     "output_type": "execute_result"
    }
   ],
   "source": [
    "df.dtypes.filter(colTup => colTup._1 == \"Suburb\")"
   ]
  },
  {
   "cell_type": "markdown",
   "metadata": {},
   "source": [
    "### Display first 12 columns:"
   ]
  },
  {
   "cell_type": "code",
   "execution_count": 12,
   "metadata": {},
   "outputs": [
    {
     "name": "stdout",
     "output_type": "stream",
     "text": [
      "+----------+-------------------+-----+----+-------+------+-------+---------+--------+--------+--------+----+\n",
      "|    Suburb|            Address|Rooms|Type|  Price|Method|SellerG|     Date|Distance|Postcode|Bathroom| Car|\n",
      "+----------+-------------------+-----+----+-------+------+-------+---------+--------+--------+--------+----+\n",
      "|Abbotsford|      68 Studley St|    2|   h|   null|    SS| Jellis|3/09/2016|     2.5|    3067|       1|   1|\n",
      "|Abbotsford|       85 Turner St|    2|   h|1480000|     S| Biggin|3/12/2016|     2.5|    3067|       1|   1|\n",
      "|Abbotsford|    25 Bloomburg St|    2|   h|1035000|     S| Biggin|4/02/2016|     2.5|    3067|       1|   0|\n",
      "|Abbotsford| 18/659 Victoria St|    3|   u|   null|    VB| Rounds|4/02/2016|     2.5|    3067|       2|   1|\n",
      "|Abbotsford|       5 Charles St|    3|   h|1465000|    SP| Biggin|4/03/2017|     2.5|    3067|       2|   0|\n",
      "|Abbotsford|   40 Federation La|    3|   h| 850000|    PI| Biggin|4/03/2017|     2.5|    3067|       2|   1|\n",
      "|Abbotsford|        55a Park St|    4|   h|1600000|    VB| Nelson|4/06/2016|     2.5|    3067|       1|   2|\n",
      "|Abbotsford|       16 Maugie St|    4|   h|   null|    SN| Nelson|6/08/2016|     2.5|    3067|       2|   2|\n",
      "|Abbotsford|       53 Turner St|    2|   h|   null|     S| Biggin|6/08/2016|     2.5|    3067|       1|   2|\n",
      "|Abbotsford|       99 Turner St|    2|   h|   null|     S|Collins|6/08/2016|     2.5|    3067|       2|   1|\n",
      "|Abbotsford|     129 Charles St|    2|   h| 941000|     S| Jellis|7/05/2016|     2.5|    3067|       1|   0|\n",
      "|Abbotsford|       124 Yarra St|    3|   h|1876000|     S| Nelson|7/05/2016|     2.5|    3067|       2|   0|\n",
      "|Abbotsford|121/56 Nicholson St|    2|   u|   null|    PI| Biggin|7/11/2016|     2.5|    3067|       2|   1|\n",
      "|Abbotsford|      17 Raphael St|    4|   h|   null|     W| Biggin|7/11/2016|     2.5|    3067|       2|   0|\n",
      "|Abbotsford|      98 Charles St|    2|   h|1636000|     S| Nelson|8/10/2016|     2.5|    3067|       1|   2|\n",
      "|Abbotsford|   217 Langridge St|    3|   h|1000000|     S| Jellis|8/10/2016|     2.5|    3067|    null|null|\n",
      "|Abbotsford|    18a Mollison St|    2|   t| 745000|     S| Jellis|8/10/2016|     2.5|    3067|    null|null|\n",
      "|Abbotsford| 6/241 Nicholson St|    1|   u| 300000|     S| Biggin|8/10/2016|     2.5|    3067|       1|   1|\n",
      "|Abbotsford|      10 Valiant St|    2|   h|1097000|     S| Biggin|8/10/2016|     2.5|    3067|       1|   2|\n",
      "|Abbotsford|403/609 Victoria St|    2|   u| 542000|     S| Dingle|8/10/2016|     2.5|    3067|    null|null|\n",
      "+----------+-------------------+-----+----+-------+------+-------+---------+--------+--------+--------+----+\n",
      "only showing top 20 rows\n",
      "\n"
     ]
    }
   ],
   "source": [
    "df.select(\"Suburb\",\"Address\",\"Rooms\",\"Type\",\"Price\",\"Method\",\"SellerG\",\"Date\",\"Distance\",\"Postcode\",\"Bathroom\",\"Car\").show()"
   ]
  },
  {
   "cell_type": "markdown",
   "metadata": {},
   "source": [
    "### Display last 8 columns:"
   ]
  },
  {
   "cell_type": "code",
   "execution_count": 13,
   "metadata": {},
   "outputs": [
    {
     "name": "stdout",
     "output_type": "stream",
     "text": [
      "+--------+------------+---------+------------------+---------+----------+--------------------+-------------+\n",
      "|Landsize|BuildingArea|YearBuilt|       CouncilArea|Lattitude|Longtitude|          Regionname|Propertycount|\n",
      "+--------+------------+---------+------------------+---------+----------+--------------------+-------------+\n",
      "|     126|        null|     null|Yarra City Council| -37.8014|  144.9958|Northern Metropol...|         4019|\n",
      "|     202|        null|     null|Yarra City Council| -37.7996|  144.9984|Northern Metropol...|         4019|\n",
      "|     156|          79|     1900|Yarra City Council| -37.8079|  144.9934|Northern Metropol...|         4019|\n",
      "|       0|        null|     null|Yarra City Council| -37.8114|  145.0116|Northern Metropol...|         4019|\n",
      "|     134|         150|     1900|Yarra City Council| -37.8093|  144.9944|Northern Metropol...|         4019|\n",
      "|      94|        null|     null|Yarra City Council| -37.7969|  144.9969|Northern Metropol...|         4019|\n",
      "|     120|         142|     2014|Yarra City Council| -37.8072|  144.9941|Northern Metropol...|         4019|\n",
      "|     400|         220|     2006|Yarra City Council| -37.7965|  144.9965|Northern Metropol...|         4019|\n",
      "|     201|        null|     1900|Yarra City Council| -37.7995|  144.9974|Northern Metropol...|         4019|\n",
      "|     202|        null|     1900|Yarra City Council| -37.7996|  144.9989|Northern Metropol...|         4019|\n",
      "+--------+------------+---------+------------------+---------+----------+--------------------+-------------+\n",
      "only showing top 10 rows\n",
      "\n"
     ]
    }
   ],
   "source": [
    "df.select(\"Landsize\",\"BuildingArea\",\"YearBuilt\",\"CouncilArea\",\"Lattitude\",\"Longtitude\",\"Regionname\",\"Propertycount\").show(10)"
   ]
  },
  {
   "cell_type": "markdown",
   "metadata": {},
   "source": [
    " <span style=\"font-size:16pt;color: red\">TO DO: write down null/not null; range of values; distinct for categorical and range and statistics for  for numerical             </span> .\n",
    "\n",
    "### Attributes\n",
    "#### Categorical:\n",
    "\n",
    " |-- Suburb:\n",
    " \n",
    " |-- Address: \n",
    " \n",
    " |-- Type: \n",
    " \n",
    " |-- Method:\n",
    " \n",
    " |-- SellerG: \n",
    " \n",
    " |-- Date: \n",
    " \n",
    " |-- CouncilArea:\n",
    " \n",
    " |-- Regionname:\n",
    " \n",
    "\n",
    "\n",
    "#### Numerical:\n",
    "\n",
    "|-- Rooms: \n",
    "\n",
    "|-- Price: \n",
    "\n",
    "|-- Distance: \n",
    "\n",
    "|-- Rooms:\n",
    "\n",
    "|-- Postcode: \n",
    "\n",
    "|-- Bedroom2:  <span style=\"font-size:16pt;color: red\">TO DO Shoud justify why were are dropping it</span> .\n",
    "\n",
    "|-- Bathroom: \n",
    "\n",
    "|-- Car: \n",
    "\n",
    "|-- Landsize: \n",
    "\n",
    "|-- BuildingArea: \n",
    "\n",
    "|-- YearBuilt: \n",
    "\n",
    "|-- Lattitude: \n",
    "\n",
    "|-- Longtitude: \n",
    "\n",
    "|-- Propertycount: <span style=\"font-size:16pt;color: red\">TO DO: what is property count?</span> .\n",
    "\n",
    " <span style=\"font-size:16pt;color: red\">TO DO: What are out attributes?</span> .\n"
   ]
  },
  {
   "cell_type": "code",
   "execution_count": 99,
   "metadata": {},
   "outputs": [
    {
     "name": "stdout",
     "output_type": "stream",
     "text": [
      "+-------+-----------------+----------+\n",
      "|summary|            price|    Suburb|\n",
      "+-------+-----------------+----------+\n",
      "|  count|            27247|     34857|\n",
      "|   mean|1050173.344955408|      null|\n",
      "| stddev|641467.1301045999|      null|\n",
      "|    min|          1000000|Abbotsford|\n",
      "|    max|           999999|  viewbank|\n",
      "+-------+-----------------+----------+\n",
      "\n"
     ]
    }
   ],
   "source": [
    "df.describe().select(\"summary\",\"price\",\"Suburb\").show()"
   ]
  },
  {
   "cell_type": "markdown",
   "metadata": {},
   "source": [
    "### Filtering"
   ]
  },
  {
   "cell_type": "code",
   "execution_count": 14,
   "metadata": {},
   "outputs": [
    {
     "name": "stdout",
     "output_type": "stream",
     "text": [
      "+-----------------+-----+----+-------+------+---------+----------+--------+--------+--------+----+\n",
      "|          Address|Rooms|Type|  Price|Method|  SellerG|      Date|Distance|Postcode|Bathroom| Car|\n",
      "+-----------------+-----+----+-------+------+---------+----------+--------+--------+--------+----+\n",
      "|     7 Marbray Dr|    4|   h|   null|    SN|Harcourts| 1/07/2017|    16.7|    3150|       1|   2|\n",
      "|      24 Owens Av|    4|   h|1250000|     S|      Ray| 1/07/2017|    16.7|    3150|    null|null|\n",
      "|515 Springvale Rd|    3|   h|   null|    PI|      Ray| 1/07/2017|    16.7|    3150|       1|   2|\n",
      "| 22 Stableford Av|    3|   h|   null|     S|      Ray| 1/07/2017|    16.7|    3150|    null|null|\n",
      "|  28 Brentwood Dr|    5|   h|   null|    PI|      Ray| 3/06/2017|    16.7|    3150|       5|   2|\n",
      "|2/70 Leicester Av|    3|   t|   null|    SP|      LLC| 3/06/2017|    16.7|    3150|    null|null|\n",
      "|    38 Margate Cr|    3|   h|   null|    SN| Woodards| 3/06/2017|    16.7|    3150|    null|null|\n",
      "|    91 Orchard St|    4|   h|1750000|     S|Harcourts| 3/06/2017|    16.7|    3150|       1|   2|\n",
      "|     1/8 Short St|    2|   u|1100000|     S|      Ray| 3/06/2017|    16.7|    3150|       1|   1|\n",
      "|      20 The Rise|    4|   h|   null|     S|   Jellis| 3/06/2017|    16.7|    3150|       2|   2|\n",
      "|  6/22 Tulloch Gr|    3|   t|   null|    PN|Harcourts| 3/06/2017|    16.7|    3150|       2|   2|\n",
      "|   53 Campbell St|    3|   h|3056000|    PI|  VICProp|17/06/2017|    16.7|    3150|       2|   2|\n",
      "|      19 Crown St|    3|   h|   null|    PI|Harcourts|17/06/2017|    16.7|    3150|       2|   4|\n",
      "|   24 Florence St|    3|   h|1900000|    PI|Harcourts|17/06/2017|    16.7|    3150|       1|   0|\n",
      "|   2 Grevillia Ct|    4|   h|   null|    SN|   Biggin|17/06/2017|    16.7|    3150|       2|   2|\n",
      "|    57 Hinkler Rd|    3|   h|   null|    PI|   Biggin|17/06/2017|    16.7|    3150|       2|   0|\n",
      "|    7 Kinnoull Gr|    5|   h|2650000|    PI|   Jellis|17/06/2017|    16.7|    3150|       3|   2|\n",
      "|1/28 Leicester Av|    3|   u| 895000|     S|      Ray|17/06/2017|    16.7|    3150|    null|null|\n",
      "|     10 Lennox Av|    6|   h|1290000|     S|Harcourts|17/06/2017|    16.7|    3150|    null|null|\n",
      "|    39b Summit Cr|    5|   h|1125000|    PI| Woodards|17/06/2017|    16.7|    3150|    null|null|\n",
      "+-----------------+-----+----+-------+------+---------+----------+--------+--------+--------+----+\n",
      "only showing top 20 rows\n",
      "\n"
     ]
    }
   ],
   "source": [
    "df.filter($\"Suburb\"===\"Glen Waverley\").select(\"Address\",\"Rooms\",\"Type\",\"Price\",\"Method\",\"SellerG\",\"Date\",\"Distance\",\"Postcode\",\"Bathroom\",\"Car\").show()"
   ]
  },
  {
   "cell_type": "code",
   "execution_count": 15,
   "metadata": {},
   "outputs": [
    {
     "name": "stdout",
     "output_type": "stream",
     "text": [
      "+-------------------+-----+----+-------+------+-------+---------+--------+--------+--------+----+-------------+\n",
      "|            Address|Rooms|Type|  Price|Method|SellerG|     Date|Distance|Postcode|Bathroom| Car|Propertycount|\n",
      "+-------------------+-----+----+-------+------+-------+---------+--------+--------+--------+----+-------------+\n",
      "|      68 Studley St|    2|   h|   null|    SS| Jellis|3/09/2016|     2.5|    3067|       1|   1|         4019|\n",
      "|       85 Turner St|    2|   h|1480000|     S| Biggin|3/12/2016|     2.5|    3067|       1|   1|         4019|\n",
      "|    25 Bloomburg St|    2|   h|1035000|     S| Biggin|4/02/2016|     2.5|    3067|       1|   0|         4019|\n",
      "| 18/659 Victoria St|    3|   u|   null|    VB| Rounds|4/02/2016|     2.5|    3067|       2|   1|         4019|\n",
      "|       5 Charles St|    3|   h|1465000|    SP| Biggin|4/03/2017|     2.5|    3067|       2|   0|         4019|\n",
      "|   40 Federation La|    3|   h| 850000|    PI| Biggin|4/03/2017|     2.5|    3067|       2|   1|         4019|\n",
      "|        55a Park St|    4|   h|1600000|    VB| Nelson|4/06/2016|     2.5|    3067|       1|   2|         4019|\n",
      "|       16 Maugie St|    4|   h|   null|    SN| Nelson|6/08/2016|     2.5|    3067|       2|   2|         4019|\n",
      "|       53 Turner St|    2|   h|   null|     S| Biggin|6/08/2016|     2.5|    3067|       1|   2|         4019|\n",
      "|       99 Turner St|    2|   h|   null|     S|Collins|6/08/2016|     2.5|    3067|       2|   1|         4019|\n",
      "|     129 Charles St|    2|   h| 941000|     S| Jellis|7/05/2016|     2.5|    3067|       1|   0|         4019|\n",
      "|       124 Yarra St|    3|   h|1876000|     S| Nelson|7/05/2016|     2.5|    3067|       2|   0|         4019|\n",
      "|121/56 Nicholson St|    2|   u|   null|    PI| Biggin|7/11/2016|     2.5|    3067|       2|   1|         4019|\n",
      "|      17 Raphael St|    4|   h|   null|     W| Biggin|7/11/2016|     2.5|    3067|       2|   0|         4019|\n",
      "|      98 Charles St|    2|   h|1636000|     S| Nelson|8/10/2016|     2.5|    3067|       1|   2|         4019|\n",
      "|   217 Langridge St|    3|   h|1000000|     S| Jellis|8/10/2016|     2.5|    3067|    null|null|         4019|\n",
      "|    18a Mollison St|    2|   t| 745000|     S| Jellis|8/10/2016|     2.5|    3067|    null|null|         4019|\n",
      "| 6/241 Nicholson St|    1|   u| 300000|     S| Biggin|8/10/2016|     2.5|    3067|       1|   1|         4019|\n",
      "|      10 Valiant St|    2|   h|1097000|     S| Biggin|8/10/2016|     2.5|    3067|       1|   2|         4019|\n",
      "|403/609 Victoria St|    2|   u| 542000|     S| Dingle|8/10/2016|     2.5|    3067|    null|null|         4019|\n",
      "+-------------------+-----+----+-------+------+-------+---------+--------+--------+--------+----+-------------+\n",
      "only showing top 20 rows\n",
      "\n"
     ]
    }
   ],
   "source": [
    "df.where(\"Suburb = 'Abbotsford'\").select(\"Address\",\"Rooms\",\"Type\",\"Price\",\"Method\",\"SellerG\",\"Date\",\"Distance\",\"Postcode\",\"Bathroom\",\"Car\", \"Propertycount\").show()"
   ]
  },
  {
   "cell_type": "code",
   "execution_count": 16,
   "metadata": {},
   "outputs": [
    {
     "data": {
      "text/plain": [
       "res8: Long = 53\n"
      ]
     },
     "execution_count": 16,
     "metadata": {},
     "output_type": "execute_result"
    }
   ],
   "source": [
    "df.where(\"Price >1000000\").filter(\"Suburb = 'Abbotsford'\").select(\"Address\",\"Rooms\",\"Type\",\"Price\",\"Method\",\"SellerG\",\"Date\",\"Distance\",\"Postcode\",\"Bathroom\",\"Car\", \"Propertycount\").count()"
   ]
  },
  {
   "cell_type": "code",
   "execution_count": 17,
   "metadata": {},
   "outputs": [
    {
     "name": "stdout",
     "output_type": "stream",
     "text": [
      "+-------------------+-----+----+-------+------+--------+----------+--------+--------+--------+----+-------------+\n",
      "|            Address|Rooms|Type|  Price|Method| SellerG|      Date|Distance|Postcode|Bathroom| Car|Propertycount|\n",
      "+-------------------+-----+----+-------+------+--------+----------+--------+--------+--------+----+-------------+\n",
      "|       85 Turner St|    2|   h|1480000|     S|  Biggin| 3/12/2016|     2.5|    3067|       1|   1|         4019|\n",
      "|    25 Bloomburg St|    2|   h|1035000|     S|  Biggin| 4/02/2016|     2.5|    3067|       1|   0|         4019|\n",
      "|       5 Charles St|    3|   h|1465000|    SP|  Biggin| 4/03/2017|     2.5|    3067|       2|   0|         4019|\n",
      "|        55a Park St|    4|   h|1600000|    VB|  Nelson| 4/06/2016|     2.5|    3067|       1|   2|         4019|\n",
      "|       124 Yarra St|    3|   h|1876000|     S|  Nelson| 7/05/2016|     2.5|    3067|       2|   0|         4019|\n",
      "|      98 Charles St|    2|   h|1636000|     S|  Nelson| 8/10/2016|     2.5|    3067|       1|   2|         4019|\n",
      "|      10 Valiant St|    2|   h|1097000|     S|  Biggin| 8/10/2016|     2.5|    3067|       1|   2|         4019|\n",
      "|    40 Nicholson St|    3|   h|1350000|    VB|  Nelson|12/11/2016|     2.5|    3067|       2|   2|         4019|\n",
      "|         22 Park St|    4|   h|1985000|     S|  Biggin|12/11/2016|     2.5|    3067|    null|null|         4019|\n",
      "|      45 William St|    2|   h|1172500|     S|  Biggin|13/08/2016|     2.5|    3067|       1|   1|         4019|\n",
      "|      16 William St|    2|   h|1310000|     S|  Jellis|15/10/2016|     2.5|    3067|       1|   2|         4019|\n",
      "|        42 Henry St|    3|   h|1200000|     S|  Jellis|16/07/2016|     2.5|    3067|       2|   1|         4019|\n",
      "|        78 Yarra St|    3|   h|1176500|     S|  LITTLE|16/07/2016|     2.5|    3067|       1|   1|         4019|\n",
      "|    3/72 Charles St|    4|   h|1330000|    PI|     Kay|18/03/2017|     2.5|    3067|       2|   2|         4019|\n",
      "|138/56 Nicholson St|    3|   u|1090000|     S|  Jellis|18/03/2017|     2.5|    3067|       2|   2|         4019|\n",
      "|     52a William St|    2|   h|1100000|    PI|  Biggin|18/06/2016|     2.5|    3067|       2|   1|         4019|\n",
      "|         49 Park St|    2|   h|1315000|     S|Marshall|19/11/2016|     2.5|    3067|       1|   0|         4019|\n",
      "|   48 Abbotsford St|    3|   h|1447500|    PI|  Nelson|22/08/2016|     2.5|    3067|       3|   1|         4019|\n",
      "|        159 Park St|    2|   h|1135000|     S|  Nelson|22/08/2016|     2.5|    3067|       2|   2|         4019|\n",
      "|       31 Turner St|    4|   h|1542000|     S| Collins|24/09/2016|     2.5|    3067|       3|   1|         4019|\n",
      "+-------------------+-----+----+-------+------+--------+----------+--------+--------+--------+----+-------------+\n",
      "only showing top 20 rows\n",
      "\n"
     ]
    }
   ],
   "source": [
    "df.where(\"Price >1000000\").filter(\"Suburb = 'Abbotsford'\").select(\"Address\",\"Rooms\",\"Type\",\"Price\",\"Method\",\"SellerG\",\"Date\",\"Distance\",\"Postcode\",\"Bathroom\",\"Car\", \"Propertycount\").show()"
   ]
  },
  {
   "cell_type": "code",
   "execution_count": 18,
   "metadata": {},
   "outputs": [
    {
     "data": {
      "text/plain": [
       "res10: Array[org.apache.spark.sql.Row] = Array([Abbotsford,85 Turner St,2,h,1480000,S,Biggin,3/12/2016,2.5,3067,2,1,1,202,null,null,Yarra City Council,-37.7996,144.9984,Northern Metropolitan,4019], [Abbotsford,25 Bloomburg St,2,h,1035000,S,Biggin,4/02/2016,2.5,3067,2,1,0,156,79,1900,Yarra City Council,-37.8079,144.9934,Northern Metropolitan,4019], [Abbotsford,5 Charles St,3,h,1465000,SP,Biggin,4/03/2017,2.5,3067,3,2,0,134,150,1900,Yarra City Council,-37.8093,144.9944,Northern Metropolitan,4019], [Abbotsford,55a Park St,4,h,1600000,VB,Nelson,4/06/2016,2.5,3067,3,1,2,120,142,2014,Yarra City Council,-37.8072,144.9941,Northern Metropolitan,4019], [Abbotsford,124 Yarra St,3,h,1876000,S,Nelson,7/05/2016,2.5,3067,4,2,0,245,210,1910,Yarra City Council,-37.8024,144.9993,Northern Metropolitan,401..."
      ]
     },
     "execution_count": 18,
     "metadata": {},
     "output_type": "execute_result"
    }
   ],
   "source": [
    "df.where(\"Price >1000000\").filter(\"Suburb = 'Abbotsford'\").collect()"
   ]
  },
  {
   "cell_type": "code",
   "execution_count": 19,
   "metadata": {},
   "outputs": [
    {
     "data": {
      "text/plain": [
       "res11: Long = 34857\n"
      ]
     },
     "execution_count": 19,
     "metadata": {},
     "output_type": "execute_result"
    }
   ],
   "source": [
    "df.select(\"Address\",\"Type\",\"Method\",\"SellerG\",\"Postcode\",\"CouncilArea\",\"Regionname\").count()"
   ]
  },
  {
   "cell_type": "markdown",
   "metadata": {},
   "source": [
    "### Categorical Attributes\n",
    "\n",
    "#### 1. Type"
   ]
  },
  {
   "cell_type": "markdown",
   "metadata": {},
   "source": [
    "#### Distinct values "
   ]
  },
  {
   "cell_type": "code",
   "execution_count": 20,
   "metadata": {},
   "outputs": [
    {
     "name": "stdout",
     "output_type": "stream",
     "text": [
      "+----+\n",
      "|Type|\n",
      "+----+\n",
      "|   h|\n",
      "|   u|\n",
      "|   t|\n",
      "+----+\n",
      "\n"
     ]
    },
    {
     "data": {
      "text/plain": [
       "import org.apache.spark.sql.functions.countDistinct\n"
      ]
     },
     "execution_count": 20,
     "metadata": {},
     "output_type": "execute_result"
    }
   ],
   "source": [
    "import org.apache.spark.sql.functions.countDistinct\n",
    "df.select(\"Type\").distinct.show()"
   ]
  },
  {
   "cell_type": "code",
   "execution_count": 104,
   "metadata": {},
   "outputs": [
    {
     "name": "stdout",
     "output_type": "stream",
     "text": [
      "+----+\n",
      "|Type|\n",
      "+----+\n",
      "|   T|\n",
      "|   U|\n",
      "|   H|\n",
      "+----+\n",
      "\n"
     ]
    },
    {
     "data": {
      "text/plain": [
       "df_result: org.apache.spark.sql.DataFrame = [Suburb: string, Address: string ... 19 more fields]\n"
      ]
     },
     "execution_count": 104,
     "metadata": {},
     "output_type": "execute_result"
    }
   ],
   "source": [
    "var df_result = df.withColumn(\"Type\", initcap(col(\"Type\")))\n",
    "df_result.select(\"Type\").distinct.show()"
   ]
  },
  {
   "cell_type": "markdown",
   "metadata": {},
   "source": [
    "#### Null values  "
   ]
  },
  {
   "cell_type": "code",
   "execution_count": 21,
   "metadata": {},
   "outputs": [
    {
     "data": {
      "text/plain": [
       "res13: Long = 0\n"
      ]
     },
     "execution_count": 21,
     "metadata": {},
     "output_type": "execute_result"
    }
   ],
   "source": [
    "df.filter(\"Type IS NULL\").count()"
   ]
  },
  {
   "cell_type": "markdown",
   "metadata": {},
   "source": [
    "#### 2. Method"
   ]
  },
  {
   "cell_type": "code",
   "execution_count": 22,
   "metadata": {},
   "outputs": [
    {
     "name": "stdout",
     "output_type": "stream",
     "text": [
      "+------+\n",
      "|Method|\n",
      "+------+\n",
      "|    PI|\n",
      "|    SA|\n",
      "|    SP|\n",
      "|    VB|\n",
      "|    PN|\n",
      "|     W|\n",
      "|     S|\n",
      "|    SN|\n",
      "|    SS|\n",
      "+------+\n",
      "\n"
     ]
    }
   ],
   "source": [
    "df.select(\"Method\").distinct.show()"
   ]
  },
  {
   "cell_type": "markdown",
   "metadata": {},
   "source": [
    "#### Null values  "
   ]
  },
  {
   "cell_type": "code",
   "execution_count": 23,
   "metadata": {},
   "outputs": [
    {
     "data": {
      "text/plain": [
       "res15: Long = 0\n"
      ]
     },
     "execution_count": 23,
     "metadata": {},
     "output_type": "execute_result"
    }
   ],
   "source": [
    "df.filter(\"Method IS NULL\").count()"
   ]
  },
  {
   "cell_type": "markdown",
   "metadata": {},
   "source": [
    "<span style=\"font-size:16pt;color: red\">TO DO</span> \n",
    "#### 3. Suburb"
   ]
  },
  {
   "cell_type": "code",
   "execution_count": 24,
   "metadata": {},
   "outputs": [
    {
     "data": {
      "text/plain": [
       "suburbs: org.apache.spark.sql.Dataset[org.apache.spark.sql.Row] = [Suburb: string]\n"
      ]
     },
     "execution_count": 24,
     "metadata": {},
     "output_type": "execute_result"
    }
   ],
   "source": [
    "val suburbs = df.select(\"Suburb\").distinct"
   ]
  },
  {
   "cell_type": "code",
   "execution_count": 25,
   "metadata": {},
   "outputs": [
    {
     "name": "stdout",
     "output_type": "stream",
     "text": [
      "+----------------+\n",
      "|          Suburb|\n",
      "+----------------+\n",
      "|  Brunswick West|\n",
      "| South Melbourne|\n",
      "|    Ivanhoe East|\n",
      "|    Princes Hill|\n",
      "|      Cranbourne|\n",
      "|         Ashwood|\n",
      "|       Brunswick|\n",
      "|South Kingsville|\n",
      "|        Brighton|\n",
      "|        Oak Park|\n",
      "|         Doveton|\n",
      "|       Albanvale|\n",
      "|      Brookfield|\n",
      "|        Lynbrook|\n",
      "|     Ferny Creek|\n",
      "|     Pascoe Vale|\n",
      "| Blackburn North|\n",
      "|         croydon|\n",
      "|     Sandringham|\n",
      "|   Botanic Ridge|\n",
      "+----------------+\n",
      "only showing top 20 rows\n",
      "\n"
     ]
    }
   ],
   "source": [
    "suburbs.show()"
   ]
  },
  {
   "cell_type": "code",
   "execution_count": 26,
   "metadata": {},
   "outputs": [
    {
     "data": {
      "text/plain": [
       "res17: Long = 351\n"
      ]
     },
     "execution_count": 26,
     "metadata": {},
     "output_type": "execute_result"
    }
   ],
   "source": [
    "suburbs.count()"
   ]
  },
  {
   "cell_type": "code",
   "execution_count": 27,
   "metadata": {},
   "outputs": [
    {
     "data": {
      "text/plain": [
       "res18: Long = 0\n"
      ]
     },
     "execution_count": 27,
     "metadata": {},
     "output_type": "execute_result"
    }
   ],
   "source": [
    "\n",
    "df.filter(\"Suburb IS NULL\").count()"
   ]
  },
  {
   "cell_type": "code",
   "execution_count": 105,
   "metadata": {},
   "outputs": [
    {
     "name": "stdout",
     "output_type": "stream",
     "text": [
      "+----------------+\n",
      "|          Suburb|\n",
      "+----------------+\n",
      "|  Brunswick West|\n",
      "| South Melbourne|\n",
      "|    Ivanhoe East|\n",
      "|    Princes Hill|\n",
      "|      Cranbourne|\n",
      "|         Ashwood|\n",
      "|       Brunswick|\n",
      "|South Kingsville|\n",
      "|        Brighton|\n",
      "|        Oak Park|\n",
      "|         Doveton|\n",
      "|       Albanvale|\n",
      "|      Brookfield|\n",
      "|        Lynbrook|\n",
      "|     Ferny Creek|\n",
      "|     Pascoe Vale|\n",
      "| Blackburn North|\n",
      "|     Sandringham|\n",
      "|   Botanic Ridge|\n",
      "|          Carrum|\n",
      "+----------------+\n",
      "only showing top 20 rows\n",
      "\n"
     ]
    },
    {
     "data": {
      "text/plain": [
       "import org.apache.spark.sql.functions._\n",
       "df_result: org.apache.spark.sql.DataFrame = [Suburb: string, Address: string ... 19 more fields]\n"
      ]
     },
     "execution_count": 105,
     "metadata": {},
     "output_type": "execute_result"
    }
   ],
   "source": [
    "// make first letter of suburb upper case\n",
    "import org.apache.spark.sql.functions._\n",
    "df_result = df_result.withColumn(\"Suburb\", initcap(col(\"Suburb\")))\n",
    "df_result.select(\"Suburb\").distinct.show()\n"
   ]
  },
  {
   "cell_type": "markdown",
   "metadata": {},
   "source": [
    "<span style=\"font-size:16pt;color: red\">TO DO</span> \n",
    "#### 4. SellerG"
   ]
  },
  {
   "cell_type": "code",
   "execution_count": 106,
   "metadata": {},
   "outputs": [
    {
     "data": {
      "text/plain": [
       "sellers: org.apache.spark.sql.Dataset[org.apache.spark.sql.Row] = [SellerG: string]\n"
      ]
     },
     "execution_count": 106,
     "metadata": {},
     "output_type": "execute_result"
    }
   ],
   "source": [
    "val sellers = df_result.select(\"SellerG\").distinct"
   ]
  },
  {
   "cell_type": "code",
   "execution_count": 110,
   "metadata": {},
   "outputs": [
    {
     "name": "stdout",
     "output_type": "stream",
     "text": [
      "+--------------------+\n",
      "|             SellerG|\n",
      "+--------------------+\n",
      "|              LITTLE|\n",
      "|                 S&L|\n",
      "|              Ristic|\n",
      "|            Langwell|\n",
      "|             Ruralco|\n",
      "|             Xynergy|\n",
      "|               Ryder|\n",
      "|               iSell|\n",
      "|               Scott|\n",
      "|              Wilson|\n",
      "|          McNaughton|\n",
      "|           Blackbird|\n",
      "|hockingstuart/Biggin|\n",
      "|               Lucas|\n",
      "|                 One|\n",
      "|         Buxton/Find|\n",
      "|                Real|\n",
      "|            Sterling|\n",
      "|             Compton|\n",
      "|           Tiernan's|\n",
      "|                 MSM|\n",
      "|            Westside|\n",
      "|            Keatings|\n",
      "|               Allan|\n",
      "|               iTRAK|\n",
      "|                W.B.|\n",
      "|           Clairmont|\n",
      "|                  Le|\n",
      "|             Meallin|\n",
      "|               Raine|\n",
      "|             Bayside|\n",
      "|                  RE|\n",
      "|             Sweeney|\n",
      "|              Hooper|\n",
      "|                AIME|\n",
      "|                Home|\n",
      "|       hockingstuart|\n",
      "|            Grantham|\n",
      "|               Jason|\n",
      "|           Landfield|\n",
      "|               Prof.|\n",
      "|             Matthew|\n",
      "|              Nguyen|\n",
      "|               Craig|\n",
      "|                 Jim|\n",
      "|                 Ray|\n",
      "|               Geoff|\n",
      "|              WeSell|\n",
      "|hockingstuart/Har...|\n",
      "|                  GL|\n",
      "|             Grant's|\n",
      "|             O'Brien|\n",
      "|            Coventry|\n",
      "|                 Ace|\n",
      "| Fletchers/Fletchers|\n",
      "|             Spencer|\n",
      "|             Rendina|\n",
      "|              Moonee|\n",
      "|   Private/Tiernan's|\n",
      "|               Barry|\n",
      "|               Bells|\n",
      "|            Haughton|\n",
      "|                 Oak|\n",
      "|               Roger|\n",
      "|              Knight|\n",
      "|              Biggin|\n",
      "|           Parkinson|\n",
      "|              iHomes|\n",
      "|                 M.J|\n",
      "|            Williams|\n",
      "|               REMAX|\n",
      "|                 Win|\n",
      "|                 YPA|\n",
      "|              Buxton|\n",
      "|                 HAR|\n",
      "|               Batty|\n",
      "|                 Joe|\n",
      "|            D'Aprano|\n",
      "|               Rosin|\n",
      "|             Jeffrey|\n",
      "|                Greg|\n",
      "|            Oriental|\n",
      "|                Hall|\n",
      "|                Zahn|\n",
      "|                 Vic|\n",
      "|          Waterfront|\n",
      "|          K.R.Peters|\n",
      "|                 C21|\n",
      "|             Rexhepi|\n",
      "|                   T|\n",
      "|            Chambers|\n",
      "|                 LJH|\n",
      "|              Darren|\n",
      "|              Quinta|\n",
      "|             VICPROP|\n",
      "|                Open|\n",
      "| hockingstuart/Barry|\n",
      "|                Icon|\n",
      "|              Besser|\n",
      "|                 PRD|\n",
      "|             Galldon|\n",
      "|               Pride|\n",
      "|            Pavilion|\n",
      "|              Walshe|\n",
      "|         Christopher|\n",
      "|               Kelly|\n",
      "|                iOne|\n",
      "|             CASTRAN|\n",
      "|              Weston|\n",
      "|                TRUE|\n",
      "|              Upside|\n",
      "|                Skad|\n",
      "|                Love|\n",
      "|              Cooper|\n",
      "|             Leaders|\n",
      "|             Charter|\n",
      "|              Hunter|\n",
      "|            Collings|\n",
      "|               Mason|\n",
      "|                Nick|\n",
      "|             Vicprop|\n",
      "|            Mitchell|\n",
      "|           Benchmark|\n",
      "|           Harcourts|\n",
      "|            Johnston|\n",
      "|           Schroeder|\n",
      "|            Conquest|\n",
      "|           Community|\n",
      "|                   L|\n",
      "|                  JY|\n",
      "|       Fletchers/One|\n",
      "|                 Ham|\n",
      "|                   U|\n",
      "|                Eric|\n",
      "|            McDonald|\n",
      "|                Gary|\n",
      "|              Bekdon|\n",
      "|              Edward|\n",
      "|          Millership|\n",
      "|                Sell|\n",
      "|               First|\n",
      "|        Abercromby's|\n",
      "|           Peninsula|\n",
      "|    Buxton/Advantage|\n",
      "|                Wood|\n",
      "|                Alex|\n",
      "|            Anderson|\n",
      "|               Boran|\n",
      "|              Janice|\n",
      "|                Weda|\n",
      "|          Australian|\n",
      "|hockingstuart/Cayzer|\n",
      "|             Royston|\n",
      "|                Ross|\n",
      "|             Donovan|\n",
      "|                Luxe|\n",
      "|             Appleby|\n",
      "|                 G&H|\n",
      "|          Harrington|\n",
      "|              Leased|\n",
      "|            Steveway|\n",
      "|              OBrien|\n",
      "|              Ascend|\n",
      "|                 R&H|\n",
      "|                JMRE|\n",
      "|               Prime|\n",
      "|              Cayzer|\n",
      "|             Emerson|\n",
      "|             Wyndham|\n",
      "|             Malvern|\n",
      "|              Barlow|\n",
      "|          Buckingham|\n",
      "|              Aquire|\n",
      "|              Allens|\n",
      "|             McGrath|\n",
      "|                 PSP|\n",
      "|           Sotheby's|\n",
      "|           Lindellas|\n",
      "|             Leading|\n",
      "|               Weast|\n",
      "|                 JRW|\n",
      "|                   J|\n",
      "|              Silver|\n",
      "|              Parkes|\n",
      "|              Domain|\n",
      "|                 LLC|\n",
      "|           Sandhurst|\n",
      "|              Jellis|\n",
      "|             Trimson|\n",
      "|                Reed|\n",
      "|                Mark|\n",
      "|              Direct|\n",
      "|            Nicholas|\n",
      "|             Victory|\n",
      "|                John|\n",
      "|                  RW|\n",
      "|              Obrien|\n",
      "|                  MJ|\n",
      "|                 Tim|\n",
      "|           Nicholson|\n",
      "|             Thomson|\n",
      "|              Branon|\n",
      "|                   A|\n",
      "|               Asset|\n",
      "|              Rounds|\n",
      "|       McGrath/First|\n",
      "|           Considine|\n",
      "|              Calder|\n",
      "|           Flannagan|\n",
      "|          Gellibrand|\n",
      "|                  LJ|\n",
      "|            Maitland|\n",
      "|               Peake|\n",
      "|              Dingle|\n",
      "|               Upper|\n",
      "|                Noel|\n",
      "|               Caine|\n",
      "|            Christou|\n",
      "|               Mandy|\n",
      "|            Changing|\n",
      "|              Bullen|\n",
      "|hockingstuart/hoc...|\n",
      "|              Benlor|\n",
      "|              Rodney|\n",
      "|hockingstuart/Vil...|\n",
      "|               Smart|\n",
      "|         Raine&Horne|\n",
      "|              Better|\n",
      "|                Kaye|\n",
      "|                Owen|\n",
      "|           iProperty|\n",
      "|       Buxton/Buxton|\n",
      "|            Morrison|\n",
      "|               Miles|\n",
      "|               Eview|\n",
      "|                Blue|\n",
      "|             Steller|\n",
      "|                   R|\n",
      "|               Homes|\n",
      "|              Iconek|\n",
      "|    McGrath/Langwell|\n",
      "|           Stockdale|\n",
      "|   Sweeney/Advantage|\n",
      "|             Leeburn|\n",
      "|              Tanner|\n",
      "|hockingstuart/Mar...|\n",
      "|             VICProp|\n",
      "|          Sutherland|\n",
      "|         O'Donoghues|\n",
      "|       PRDNationwide|\n",
      "|hockingstuart/Buxton|\n",
      "|                  Re|\n",
      "|            Marshall|\n",
      "|           Fletchers|\n",
      "|                MICM|\n",
      "|                 Ken|\n",
      "|             Burnham|\n",
      "|         CarlinSmith|\n",
      "|            Maddison|\n",
      "|                  FN|\n",
      "|              Joseph|\n",
      "|          buyMyplace|\n",
      "|                Only|\n",
      "|              Hodges|\n",
      "|             Follett|\n",
      "|              Philip|\n",
      "|               Pagan|\n",
      "|               White|\n",
      "|              Bustin|\n",
      "|               Elite|\n",
      "|                 Ash|\n",
      "|              Aumeca|\n",
      "|              Bowman|\n",
      "|              Nelson|\n",
      "|           Melbourne|\n",
      "|            Hamilton|\n",
      "|              Daniel|\n",
      "|              Bombay|\n",
      "|                Gold|\n",
      "|                Mega|\n",
      "|               Unity|\n",
      "|            Marvelli|\n",
      "|            Nicholls|\n",
      "|                 The|\n",
      "|      McGrath/Buxton|\n",
      "|             Century|\n",
      "|                  SN|\n",
      "|              Garvey|\n",
      "|             Surreal|\n",
      "|                 Jas|\n",
      "|            Nardella|\n",
      "|            WHITEFOX|\n",
      "|             Morleys|\n",
      "|               Space|\n",
      "|                Just|\n",
      "|              Sprint|\n",
      "|             Airport|\n",
      "|             Village|\n",
      "|               Crane|\n",
      "|           Sanctuary|\n",
      "|            Boutique|\n",
      "|              Assisi|\n",
      "|                 For|\n",
      "|          Propertyau|\n",
      "|              Rayner|\n",
      "|             Foxtons|\n",
      "|              Prowse|\n",
      "|     Sweeney/Burnham|\n",
      "|             Gunn&Co|\n",
      "|               Black|\n",
      "|                 Red|\n",
      "|                   P|\n",
      "|                 New|\n",
      "|             Whiting|\n",
      "|            McLennan|\n",
      "|                Free|\n",
      "|                 Can|\n",
      "|            Property|\n",
      "|             Meadows|\n",
      "|            VicHomes|\n",
      "|              Darras|\n",
      "|             Douglas|\n",
      "|            Rombotis|\n",
      "|              Veitch|\n",
      "|              Justin|\n",
      "|                Brad|\n",
      "|       Professionals|\n",
      "|             Hoskins|\n",
      "|            Reliance|\n",
      "|               Peter|\n",
      "|             Castran|\n",
      "|           Watermark|\n",
      "|        Purplebricks|\n",
      "|            Charlton|\n",
      "|     Buxton/Marshall|\n",
      "|               Reach|\n",
      "|               David|\n",
      "|               Point|\n",
      "|               Shape|\n",
      "|              People|\n",
      "|          Commercial|\n",
      "|              Thomas|\n",
      "|              Redina|\n",
      "|                Area|\n",
      "|                 Kay|\n",
      "|               Dixon|\n",
      "|                Paul|\n",
      "|                 Max|\n",
      "|               Brace|\n",
      "|             @Realty|\n",
      "|             McEwing|\n",
      "|             Collins|\n",
      "|hockingstuart/Jellis|\n",
      "|hockingstuart/Adv...|\n",
      "|              Luxton|\n",
      "|        Hayeswinckle|\n",
      "|                Hill|\n",
      "|         voglwalpole|\n",
      "|              Bradly|\n",
      "|               Inner|\n",
      "|              Naison|\n",
      "|            Mindacom|\n",
      "|               Karen|\n",
      "|              Create|\n",
      "|            Gardiner|\n",
      "|               Frank|\n",
      "|            Woodards|\n",
      "|                  RT|\n",
      "|               North|\n",
      "|                 ASL|\n",
      "|               Walsh|\n",
      "|               Avion|\n",
      "|hockingstuart/Swe...|\n",
      "|             Triwest|\n",
      "|             Holland|\n",
      "|               Burns|\n",
      "|              Carter|\n",
      "|                   H|\n",
      "|              Beller|\n",
      "|          Alexkarbon|\n",
      "|                Munn|\n",
      "|            Chisholm|\n",
      "|                 Del|\n",
      "|               Metro|\n",
      "|              Leyton|\n",
      "|             William|\n",
      "|     Harcourts/Barry|\n",
      "|             Methven|\n",
      "+--------------------+\n",
      "\n"
     ]
    }
   ],
   "source": [
    "sellers.show(388)"
   ]
  },
  {
   "cell_type": "code",
   "execution_count": 108,
   "metadata": {},
   "outputs": [
    {
     "data": {
      "text/plain": [
       "res88: Long = 388\n"
      ]
     },
     "execution_count": 108,
     "metadata": {},
     "output_type": "execute_result"
    }
   ],
   "source": [
    "sellers.count()"
   ]
  },
  {
   "cell_type": "code",
   "execution_count": 30,
   "metadata": {},
   "outputs": [
    {
     "data": {
      "text/plain": [
       "res21: Long = 0\n"
      ]
     },
     "execution_count": 30,
     "metadata": {},
     "output_type": "execute_result"
    }
   ],
   "source": [
    "\n",
    "df.filter(\"SellerG IS NULL\").count()"
   ]
  },
  {
   "cell_type": "markdown",
   "metadata": {},
   "source": [
    "<span style=\"font-size:16pt;color: red\">TO DO</span> \n",
    "#### 6. CouncilArea"
   ]
  },
  {
   "cell_type": "code",
   "execution_count": 112,
   "metadata": {},
   "outputs": [
    {
     "data": {
      "text/plain": [
       "sareas: org.apache.spark.sql.Dataset[org.apache.spark.sql.Row] = [CouncilArea: string]\n"
      ]
     },
     "execution_count": 112,
     "metadata": {},
     "output_type": "execute_result"
    }
   ],
   "source": [
    "val sareas = df.select(\"CouncilArea\").distinct()"
   ]
  },
  {
   "cell_type": "code",
   "execution_count": 115,
   "metadata": {},
   "outputs": [
    {
     "name": "stdout",
     "output_type": "stream",
     "text": [
      "+--------------------+\n",
      "|         CouncilArea|\n",
      "+--------------------+\n",
      "|Bayside City Council|\n",
      "|Greater Dandenong...|\n",
      "|   Hume City Council|\n",
      "|Glen Eira City Co...|\n",
      "|Kingston City Cou...|\n",
      "|Nillumbik Shire C...|\n",
      "| Monash City Council|\n",
      "|Macedon Ranges Sh...|\n",
      "|   Knox City Council|\n",
      "|Wyndham City Council|\n",
      "|Mitchell Shire Co...|\n",
      "|Maribyrnong City ...|\n",
      "|Whittlesea City C...|\n",
      "|Whitehorse City C...|\n",
      "|Frankston City Co...|\n",
      "|Manningham City C...|\n",
      "|Darebin City Council|\n",
      "|Moreland City Cou...|\n",
      "|Cardinia Shire Co...|\n",
      "|Moonee Valley Cit...|\n",
      "|Boroondara City C...|\n",
      "|Yarra Ranges Shir...|\n",
      "|  Casey City Council|\n",
      "|Port Phillip City...|\n",
      "|Brimbank City Cou...|\n",
      "|                #N/A|\n",
      "|Hobsons Bay City ...|\n",
      "|Banyule City Council|\n",
      "|Stonnington City ...|\n",
      "| Melton City Council|\n",
      "|  Yarra City Council|\n",
      "|Melbourne City Co...|\n",
      "|Moorabool Shire C...|\n",
      "|Maroondah City Co...|\n",
      "+--------------------+\n",
      "\n"
     ]
    }
   ],
   "source": [
    "sareas.show(40)"
   ]
  },
  {
   "cell_type": "code",
   "execution_count": 114,
   "metadata": {},
   "outputs": [
    {
     "data": {
      "text/plain": [
       "res93: Long = 34\n"
      ]
     },
     "execution_count": 114,
     "metadata": {},
     "output_type": "execute_result"
    }
   ],
   "source": [
    "sareas.count()"
   ]
  },
  {
   "cell_type": "code",
   "execution_count": 32,
   "metadata": {},
   "outputs": [
    {
     "data": {
      "text/plain": [
       "res23: Long = 0\n"
      ]
     },
     "execution_count": 32,
     "metadata": {},
     "output_type": "execute_result"
    }
   ],
   "source": [
    "\n",
    "df.filter(\"CouncilArea IS NULL\").count()"
   ]
  },
  {
   "cell_type": "markdown",
   "metadata": {},
   "source": [
    "<span style=\"font-size:16pt;color: red\">TO DO</span> \n",
    "#### 7. Postcode"
   ]
  },
  {
   "cell_type": "code",
   "execution_count": 117,
   "metadata": {},
   "outputs": [
    {
     "data": {
      "text/plain": [
       "postcodes: org.apache.spark.sql.Dataset[org.apache.spark.sql.Row] = [Postcode: string]\n"
      ]
     },
     "execution_count": 117,
     "metadata": {},
     "output_type": "execute_result"
    }
   ],
   "source": [
    "val postcodes = df.select(\"Postcode\").distinct()"
   ]
  },
  {
   "cell_type": "code",
   "execution_count": 118,
   "metadata": {},
   "outputs": [
    {
     "name": "stdout",
     "output_type": "stream",
     "text": [
      "+--------+\n",
      "|Postcode|\n",
      "+--------+\n",
      "|    3015|\n",
      "|    3200|\n",
      "|    3121|\n",
      "|    3167|\n",
      "|    3057|\n",
      "|    3179|\n",
      "|    3786|\n",
      "|    3089|\n",
      "|    3145|\n",
      "|    3808|\n",
      "|    3140|\n",
      "|    3187|\n",
      "|    3019|\n",
      "|    3107|\n",
      "|    3802|\n",
      "|    3074|\n",
      "|    3078|\n",
      "|    3207|\n",
      "|    3777|\n",
      "|    3090|\n",
      "+--------+\n",
      "only showing top 20 rows\n",
      "\n"
     ]
    }
   ],
   "source": [
    "postcodes.show()"
   ]
  },
  {
   "cell_type": "code",
   "execution_count": 119,
   "metadata": {},
   "outputs": [
    {
     "data": {
      "text/plain": [
       "res97: Long = 212\n"
      ]
     },
     "execution_count": 119,
     "metadata": {},
     "output_type": "execute_result"
    }
   ],
   "source": [
    "postcodes.count()"
   ]
  },
  {
   "cell_type": "code",
   "execution_count": 120,
   "metadata": {},
   "outputs": [
    {
     "data": {
      "text/plain": [
       "res98: Long = 0\n"
      ]
     },
     "execution_count": 120,
     "metadata": {},
     "output_type": "execute_result"
    }
   ],
   "source": [
    "\n",
    "df.filter(\"Postcode IS NULL\").count()"
   ]
  },
  {
   "cell_type": "markdown",
   "metadata": {},
   "source": [
    "<span style=\"font-size:16pt;color: red\">TO DO</span> \n",
    "#### 8. Regionname"
   ]
  },
  {
   "cell_type": "code",
   "execution_count": 121,
   "metadata": {},
   "outputs": [
    {
     "name": "stdout",
     "output_type": "stream",
     "text": [
      "+--------------------+\n",
      "|          Regionname|\n",
      "+--------------------+\n",
      "|South-Eastern Met...|\n",
      "|Western Metropolitan|\n",
      "|Eastern Metropolitan|\n",
      "|    Eastern Victoria|\n",
      "|                #N/A|\n",
      "|   Northern Victoria|\n",
      "|Northern Metropol...|\n",
      "|Southern Metropol...|\n",
      "|    Western Victoria|\n",
      "+--------------------+\n",
      "\n"
     ]
    }
   ],
   "source": [
    "df.select(\"Regionname\").distinct.show()"
   ]
  },
  {
   "cell_type": "code",
   "execution_count": 122,
   "metadata": {},
   "outputs": [
    {
     "data": {
      "text/plain": [
       "res100: Long = 0\n"
      ]
     },
     "execution_count": 122,
     "metadata": {},
     "output_type": "execute_result"
    }
   ],
   "source": [
    "\n",
    "df.filter(\"Regionname IS NULL\").count()"
   ]
  },
  {
   "cell_type": "markdown",
   "metadata": {},
   "source": [
    "<span style=\"font-size:16pt;color: red\">TO DO</span> \n",
    "#### Numercal attributes \n",
    "\n",
    "|-- Price:\n",
    " \n",
    "|-- Rooms:\n",
    "\n",
    "|-- Distance: \n",
    "\n",
    "|-- Bathroom: \n",
    "\n",
    "|-- Car: \n",
    "\n",
    "|-- Landsize: \n",
    "\n",
    "|-- BuildingArea: \n",
    "\n",
    "|-- YearBuilt:\n"
   ]
  },
  {
   "cell_type": "markdown",
   "metadata": {},
   "source": [
    "<span style=\"font-size:16pt;color: red\">TO DO</span> \n",
    "#### 1. Price"
   ]
  },
  {
   "cell_type": "code",
   "execution_count": 123,
   "metadata": {},
   "outputs": [
    {
     "data": {
      "text/plain": [
       "res101: Long = 7610\n"
      ]
     },
     "execution_count": 123,
     "metadata": {},
     "output_type": "execute_result"
    }
   ],
   "source": [
    "df_result.filter(df(\"Price\").isNull || df(\"Price\") === \"\" || df(\"Price\").isNaN).count()"
   ]
  },
  {
   "cell_type": "code",
   "execution_count": 124,
   "metadata": {},
   "outputs": [
    {
     "data": {
      "text/plain": [
       "res102: Long = 7610\n"
      ]
     },
     "execution_count": 124,
     "metadata": {},
     "output_type": "execute_result"
    }
   ],
   "source": [
    "df_result.filter(\"Price IS NULL\").count()"
   ]
  },
  {
   "cell_type": "code",
   "execution_count": 125,
   "metadata": {},
   "outputs": [
    {
     "name": "stdout",
     "output_type": "stream",
     "text": [
      "+-------------------+-----+----+-----+------+-------+----------+--------+--------+--------+----+-------------+\n",
      "|            Address|Rooms|Type|Price|Method|SellerG|      Date|Distance|Postcode|Bathroom| Car|Propertycount|\n",
      "+-------------------+-----+----+-----+------+-------+----------+--------+--------+--------+----+-------------+\n",
      "|      68 Studley St|    2|   H| null|    SS| Jellis| 3/09/2016|     2.5|    3067|       1|   1|         4019|\n",
      "| 18/659 Victoria St|    3|   U| null|    VB| Rounds| 4/02/2016|     2.5|    3067|       2|   1|         4019|\n",
      "|       16 Maugie St|    4|   H| null|    SN| Nelson| 6/08/2016|     2.5|    3067|       2|   2|         4019|\n",
      "|       53 Turner St|    2|   H| null|     S| Biggin| 6/08/2016|     2.5|    3067|       1|   2|         4019|\n",
      "|       99 Turner St|    2|   H| null|     S|Collins| 6/08/2016|     2.5|    3067|       2|   1|         4019|\n",
      "|121/56 Nicholson St|    2|   U| null|    PI| Biggin| 7/11/2016|     2.5|    3067|       2|   1|         4019|\n",
      "|      17 Raphael St|    4|   H| null|     W| Biggin| 7/11/2016|     2.5|    3067|       2|   0|         4019|\n",
      "|          2 Rich St|    2|   H| null|    SP| Biggin|10/12/2016|     2.5|    3067|       1|   1|         4019|\n",
      "| 16/11 Nicholson St|    3|   U| null|    PI| Philip|16/04/2016|     2.5|    3067|       2|   2|         4019|\n",
      "|    16b Mollison St|    2|   H| null|    PI| Biggin|16/07/2016|     2.5|    3067|    null|null|         4019|\n",
      "+-------------------+-----+----+-----+------+-------+----------+--------+--------+--------+----+-------------+\n",
      "only showing top 10 rows\n",
      "\n"
     ]
    }
   ],
   "source": [
    "df_result.filter(\"Price IS NULL\").select(\"Address\",\"Rooms\",\"Type\",\"Price\",\"Method\",\"SellerG\",\"Date\",\"Distance\",\"Postcode\",\"Bathroom\",\"Car\", \"Propertycount\").show(10)"
   ]
  },
  {
   "cell_type": "code",
   "execution_count": 126,
   "metadata": {},
   "outputs": [
    {
     "name": "stdout",
     "output_type": "stream",
     "text": [
      "+----------+----------+-----------------+\n",
      "|min(Price)|max(Price)|       avg(Price)|\n",
      "+----------+----------+-----------------+\n",
      "|   1000000|    999999|1050173.344955408|\n",
      "+----------+----------+-----------------+\n",
      "\n"
     ]
    }
   ],
   "source": [
    "df_result.select(min(df(\"Price\")), max(df(\"Price\")),mean(df(\"Price\"))).show()\n"
   ]
  },
  {
   "cell_type": "code",
   "execution_count": 128,
   "metadata": {},
   "outputs": [
    {
     "name": "stdout",
     "output_type": "stream",
     "text": [
      "+-------+-----------------+----------+\n",
      "|summary|            price|    Suburb|\n",
      "+-------+-----------------+----------+\n",
      "|  count|            27247|     34857|\n",
      "|   mean|1050173.344955408|      null|\n",
      "| stddev|641467.1301045999|      null|\n",
      "|    min|          1000000|Abbotsford|\n",
      "|    max|           999999|Yarraville|\n",
      "+-------+-----------------+----------+\n",
      "\n"
     ]
    }
   ],
   "source": [
    "df_result.describe().select(\"summary\",\"price\",\"Suburb\").show()"
   ]
  },
  {
   "cell_type": "code",
   "execution_count": 127,
   "metadata": {},
   "outputs": [
    {
     "name": "stdout",
     "output_type": "stream",
     "text": [
      "+----------------+-------------------------------------+\n",
      "|          Suburb|sort_array(collect_list(Price), true)|\n",
      "+----------------+-------------------------------------+\n",
      "|  Brunswick West|                 [1000000, 1000000...|\n",
      "|    Ivanhoe East|                 [1050000, 1260000...|\n",
      "| South Melbourne|                 [1000000, 1002000...|\n",
      "|      Cranbourne|                 [490000, 521000, ...|\n",
      "|    Princes Hill|                 [1100000, 1150000...|\n",
      "|         Ashwood|                 [1008000, 1020000...|\n",
      "|       Brunswick|                 [1000000, 1000000...|\n",
      "|South Kingsville|                 [1015000, 1030000...|\n",
      "|       Albanvale|                 [415000, 502000, ...|\n",
      "|        Brighton|                 [1002500, 1005000...|\n",
      "|      Brookfield|                 [445000, 456000, ...|\n",
      "|         Doveton|                 [396000, 430000, ...|\n",
      "|        Oak Park|                 [1000000, 1005000...|\n",
      "|        Lynbrook|                     [597500, 630000]|\n",
      "|     Ferny Creek|                             [690000]|\n",
      "|     Pascoe Vale|                 [1000000, 1000000...|\n",
      "| Blackburn North|                 [1001000, 1030000...|\n",
      "|   Botanic Ridge|                             [750000]|\n",
      "|     Sandringham|                 [1000000, 1017500...|\n",
      "|          Carrum|                 [435000, 495000, ...|\n",
      "+----------------+-------------------------------------+\n",
      "only showing top 20 rows\n",
      "\n"
     ]
    }
   ],
   "source": [
    "df_result.groupBy($\"Suburb\").agg(sort_array(collect_list($\"Price\"))).show()"
   ]
  },
  {
   "cell_type": "code",
   "execution_count": 70,
   "metadata": {},
   "outputs": [
    {
     "name": "stdout",
     "output_type": "stream",
     "text": [
      "+----------------+--------------------+\n",
      "|          Suburb|round(avg(Price), 0)|\n",
      "+----------------+--------------------+\n",
      "|  Brunswick West|            817657.0|\n",
      "| South Melbourne|           1349624.0|\n",
      "|    Ivanhoe East|           1769048.0|\n",
      "|    Princes Hill|           1633265.0|\n",
      "|      Cranbourne|            639455.0|\n",
      "|         Ashwood|           1173157.0|\n",
      "|       Brunswick|            977989.0|\n",
      "|South Kingsville|            784642.0|\n",
      "|        Brighton|           1984227.0|\n",
      "|        Oak Park|            804799.0|\n",
      "|         Doveton|            522974.0|\n",
      "|       Albanvale|            536056.0|\n",
      "|      Brookfield|            498500.0|\n",
      "|        Lynbrook|            613750.0|\n",
      "|     Ferny Creek|            690000.0|\n",
      "|     Pascoe Vale|            760727.0|\n",
      "| Blackburn North|           1136711.0|\n",
      "|         croydon|            730000.0|\n",
      "|     Sandringham|           1559589.0|\n",
      "|   Botanic Ridge|            750000.0|\n",
      "+----------------+--------------------+\n",
      "only showing top 20 rows\n",
      "\n"
     ]
    }
   ],
   "source": [
    "df_result.groupBy($\"Suburb\").agg(round(mean($\"Price\"))).show()"
   ]
  },
  {
   "cell_type": "markdown",
   "metadata": {},
   "source": [
    "<span style=\"font-size:16pt;color: red\">TO DO</span> \n",
    "#### 1. Rooms"
   ]
  },
  {
   "cell_type": "code",
   "execution_count": 83,
   "metadata": {},
   "outputs": [
    {
     "data": {
      "text/plain": [
       "res67: Long = 0\n"
      ]
     },
     "execution_count": 83,
     "metadata": {},
     "output_type": "execute_result"
    }
   ],
   "source": [
    "df_result.filter(\"Rooms IS NULL\").count()"
   ]
  },
  {
   "cell_type": "markdown",
   "metadata": {},
   "source": [
    "<span style=\"font-size:16pt;color: red\">TO DO</span> \n",
    "#### 1. Distance"
   ]
  },
  {
   "cell_type": "code",
   "execution_count": 84,
   "metadata": {},
   "outputs": [
    {
     "data": {
      "text/plain": [
       "res68: Long = 0\n"
      ]
     },
     "execution_count": 84,
     "metadata": {},
     "output_type": "execute_result"
    }
   ],
   "source": [
    "df_result.filter(\"Distance IS NULL\").count()"
   ]
  },
  {
   "cell_type": "markdown",
   "metadata": {},
   "source": [
    "<span style=\"font-size:16pt;color: red\">TO DO</span> \n",
    "#### 1. Bathroom"
   ]
  },
  {
   "cell_type": "code",
   "execution_count": 85,
   "metadata": {},
   "outputs": [
    {
     "data": {
      "text/plain": [
       "res69: Long = 8226\n"
      ]
     },
     "execution_count": 85,
     "metadata": {},
     "output_type": "execute_result"
    }
   ],
   "source": [
    "df_result.filter(df(\"Bathroom\").isNull || df(\"Bathroom\") === \"\" || df(\"Bathroom\").isNaN).count()"
   ]
  },
  {
   "cell_type": "code",
   "execution_count": 86,
   "metadata": {},
   "outputs": [
    {
     "data": {
      "text/plain": [
       "res70: Long = 8226\n"
      ]
     },
     "execution_count": 86,
     "metadata": {},
     "output_type": "execute_result"
    }
   ],
   "source": [
    "df_result.filter(\"Bathroom IS NULL\").count()"
   ]
  },
  {
   "cell_type": "markdown",
   "metadata": {},
   "source": [
    "<span style=\"font-size:16pt;color: red\">TO DO</span> \n",
    "#### 1. Car"
   ]
  },
  {
   "cell_type": "code",
   "execution_count": 87,
   "metadata": {},
   "outputs": [
    {
     "data": {
      "text/plain": [
       "res71: Long = 8728\n"
      ]
     },
     "execution_count": 87,
     "metadata": {},
     "output_type": "execute_result"
    }
   ],
   "source": [
    "df.filter(\"Car IS NULL\").count()"
   ]
  },
  {
   "cell_type": "markdown",
   "metadata": {},
   "source": [
    "<span style=\"font-size:16pt;color: red\">TO DO</span> \n",
    "#### 1. Landsize"
   ]
  },
  {
   "cell_type": "code",
   "execution_count": 88,
   "metadata": {},
   "outputs": [
    {
     "data": {
      "text/plain": [
       "res72: Long = 11810\n"
      ]
     },
     "execution_count": 88,
     "metadata": {},
     "output_type": "execute_result"
    }
   ],
   "source": [
    "df_result.filter(\"Landsize IS NULL\").count()"
   ]
  },
  {
   "cell_type": "markdown",
   "metadata": {},
   "source": [
    "<span style=\"font-size:16pt;color: red\">TO DO</span> \n",
    "#### 1. BuildingArea"
   ]
  },
  {
   "cell_type": "code",
   "execution_count": 89,
   "metadata": {},
   "outputs": [
    {
     "data": {
      "text/plain": [
       "res73: Long = 21115\n"
      ]
     },
     "execution_count": 89,
     "metadata": {},
     "output_type": "execute_result"
    }
   ],
   "source": [
    "df_result.filter(\"BuildingArea IS NULL\").count()"
   ]
  },
  {
   "cell_type": "markdown",
   "metadata": {},
   "source": [
    "<span style=\"font-size:16pt;color: red\">TO DO</span> \n",
    "#### 1. YearBuilt"
   ]
  },
  {
   "cell_type": "code",
   "execution_count": 90,
   "metadata": {},
   "outputs": [
    {
     "data": {
      "text/plain": [
       "res74: Long = 19306\n"
      ]
     },
     "execution_count": 90,
     "metadata": {},
     "output_type": "execute_result"
    }
   ],
   "source": [
    "df_result.filter(\"YearBuilt IS NULL\").count()"
   ]
  },
  {
   "cell_type": "markdown",
   "metadata": {},
   "source": [
    "#### Filtering null values"
   ]
  },
  {
   "cell_type": "code",
   "execution_count": 129,
   "metadata": {},
   "outputs": [
    {
     "data": {
      "text/plain": [
       "df_not_null: org.apache.spark.sql.DataFrame = [Suburb: string, Address: string ... 19 more fields]\n",
       "res107: Long = 8887\n"
      ]
     },
     "execution_count": 129,
     "metadata": {},
     "output_type": "execute_result"
    }
   ],
   "source": [
    "val df_not_null = df_result.na.drop\n",
    "df_not_null.count()"
   ]
  },
  {
   "cell_type": "code",
   "execution_count": 130,
   "metadata": {},
   "outputs": [
    {
     "name": "stdout",
     "output_type": "stream",
     "text": [
      "root\n",
      " |-- Suburb: string (nullable = true)\n",
      " |-- Address: string (nullable = true)\n",
      " |-- Rooms: string (nullable = true)\n",
      " |-- Type: string (nullable = true)\n",
      " |-- Price: string (nullable = true)\n",
      " |-- Method: string (nullable = true)\n",
      " |-- SellerG: string (nullable = true)\n",
      " |-- Date: string (nullable = true)\n",
      " |-- Distance: string (nullable = true)\n",
      " |-- Postcode: string (nullable = true)\n",
      " |-- Bedroom2: string (nullable = true)\n",
      " |-- Bathroom: string (nullable = true)\n",
      " |-- Car: string (nullable = true)\n",
      " |-- Landsize: string (nullable = true)\n",
      " |-- BuildingArea: string (nullable = true)\n",
      " |-- YearBuilt: string (nullable = true)\n",
      " |-- CouncilArea: string (nullable = true)\n",
      " |-- Lattitude: string (nullable = true)\n",
      " |-- Longtitude: string (nullable = true)\n",
      " |-- Regionname: string (nullable = true)\n",
      " |-- Propertycount: string (nullable = true)\n",
      "\n"
     ]
    },
    {
     "data": {
      "text/plain": [
       "df_filtered: org.apache.spark.sql.Dataset[org.apache.spark.sql.Row] = [Suburb: string, Address: string ... 19 more fields]\n"
      ]
     },
     "execution_count": 130,
     "metadata": {},
     "output_type": "execute_result"
    }
   ],
   "source": [
    "val df_filtered = df_result.filter(row => !row.anyNull);\n",
    "df_filtered.printSchema()\n"
   ]
  },
  {
   "cell_type": "code",
   "execution_count": 131,
   "metadata": {},
   "outputs": [
    {
     "data": {
      "text/plain": [
       "res109: Long = 0\n"
      ]
     },
     "execution_count": 131,
     "metadata": {},
     "output_type": "execute_result"
    }
   ],
   "source": [
    "df_filtered.filter(df(\"Price\").isNull || df(\"Price\") === \"\" || df(\"Price\").isNaN).count()"
   ]
  },
  {
   "cell_type": "code",
   "execution_count": 132,
   "metadata": {},
   "outputs": [
    {
     "name": "stdout",
     "output_type": "stream",
     "text": [
      "+----------------+-----+----+-------+------+--------+----------+--------+--------+--------+---+-------------+\n",
      "|         Address|Rooms|Type|  Price|Method| SellerG|      Date|Distance|Postcode|Bathroom|Car|Propertycount|\n",
      "+----------------+-----+----+-------+------+--------+----------+--------+--------+--------+---+-------------+\n",
      "| 25 Bloomburg St|    2|   H|1035000|     S|  Biggin| 4/02/2016|     2.5|    3067|       1|  0|         4019|\n",
      "|    5 Charles St|    3|   H|1465000|    SP|  Biggin| 4/03/2017|     2.5|    3067|       2|  0|         4019|\n",
      "|     55a Park St|    4|   H|1600000|    VB|  Nelson| 4/06/2016|     2.5|    3067|       1|  2|         4019|\n",
      "|    124 Yarra St|    3|   H|1876000|     S|  Nelson| 7/05/2016|     2.5|    3067|       2|  0|         4019|\n",
      "|   98 Charles St|    2|   H|1636000|     S|  Nelson| 8/10/2016|     2.5|    3067|       1|  2|         4019|\n",
      "|   10 Valiant St|    2|   H|1097000|     S|  Biggin| 8/10/2016|     2.5|    3067|       1|  2|         4019|\n",
      "| 40 Nicholson St|    3|   H|1350000|    VB|  Nelson|12/11/2016|     2.5|    3067|       2|  2|         4019|\n",
      "|   16 William St|    2|   H|1310000|     S|  Jellis|15/10/2016|     2.5|    3067|       1|  2|         4019|\n",
      "|     42 Henry St|    3|   H|1200000|     S|  Jellis|16/07/2016|     2.5|    3067|       2|  1|         4019|\n",
      "|     78 Yarra St|    3|   H|1176500|     S|  LITTLE|16/07/2016|     2.5|    3067|       1|  1|         4019|\n",
      "| 3/72 Charles St|    4|   H|1330000|    PI|     Kay|18/03/2017|     2.5|    3067|       2|  2|         4019|\n",
      "|  52a William St|    2|   H|1100000|    PI|  Biggin|18/06/2016|     2.5|    3067|       2|  1|         4019|\n",
      "|      49 Park St|    2|   H|1315000|     S|Marshall|19/11/2016|     2.5|    3067|       1|  0|         4019|\n",
      "|48 Abbotsford St|    3|   H|1447500|    PI|  Nelson|22/08/2016|     2.5|    3067|       3|  1|         4019|\n",
      "|     159 Park St|    2|   H|1135000|     S|  Nelson|22/08/2016|     2.5|    3067|       2|  2|         4019|\n",
      "|  60 Stafford St|    3|   H|1290000|     S|  Biggin|25/02/2017|     2.5|    3067|       1|  1|         4019|\n",
      "|   47 Studley St|    2|   H|1180000|     S|  Jellis|27/11/2016|     2.5|    3067|       1|  0|         4019|\n",
      "|     45 Yarra St|    3|   H|1195000|    SP|  Jellis|27/11/2016|     2.5|    3067|       2|  1|         4019|\n",
      "|200 Nicholson St|    2|   H|1012500|     S|  Nelson|28/05/2016|     2.5|    3067|       1|  0|         4019|\n",
      "|   27 Charles St|    2|   H|1030000|     S|  Biggin|30/07/2016|     2.5|    3067|       1|  1|         4019|\n",
      "+----------------+-----+----+-------+------+--------+----------+--------+--------+--------+---+-------------+\n",
      "only showing top 20 rows\n",
      "\n"
     ]
    }
   ],
   "source": [
    "df_filtered.where(\"Price >1000000\").filter(\"Suburb = 'Abbotsford'\").select(\n",
    "    \"Address\",\"Rooms\",\"Type\",\"Price\",\"Method\",\"SellerG\",\"Date\",\"Distance\",\"Postcode\",\"Bathroom\",\"Car\", \"Propertycount\").show()"
   ]
  },
  {
   "cell_type": "code",
   "execution_count": 133,
   "metadata": {},
   "outputs": [
    {
     "data": {
      "text/plain": [
       "res111: Long = 8887\n"
      ]
     },
     "execution_count": 133,
     "metadata": {},
     "output_type": "execute_result"
    }
   ],
   "source": [
    "df_filtered.count()"
   ]
  },
  {
   "cell_type": "markdown",
   "metadata": {},
   "source": [
    "#### Imputing null values"
   ]
  },
  {
   "cell_type": "code",
   "execution_count": null,
   "metadata": {},
   "outputs": [],
   "source": [
    "var df_imp = df.na.fill(\"N/A\")"
   ]
  },
  {
   "cell_type": "markdown",
   "metadata": {},
   "source": [
    "### Renaming Columns"
   ]
  },
  {
   "cell_type": "markdown",
   "metadata": {},
   "source": [
    "### Group By and  Aggregation"
   ]
  },
  {
   "cell_type": "code",
   "execution_count": null,
   "metadata": {},
   "outputs": [],
   "source": [
    "import org.apache.spark.sql.functions.*\n",
    "df.groupBy(\"Suburb\").agg(max(\"Price\")).show()"
   ]
  },
  {
   "cell_type": "code",
   "execution_count": null,
   "metadata": {},
   "outputs": [],
   "source": [
    "df.groupBy(\"Suburb\").agg(min(\"Price\")).show()"
   ]
  },
  {
   "cell_type": "code",
   "execution_count": null,
   "metadata": {},
   "outputs": [],
   "source": [
    "df.groupBy(\"Distance\").agg(median(\"Price\")).show()"
   ]
  },
  {
   "cell_type": "markdown",
   "metadata": {},
   "source": [
    "### Correlation\n",
    " <span style=\"font-size:16pt;color: red\">TO DO: FIND OUT CORRELATIONS between theses attributes </span> .\n",
    "\n",
    "Rooms:\n",
    "|-- Price:\n",
    "|-- Distance:\n",
    "|-- Rooms:\n",
    "|-- Bathroom:\n",
    "|-- Car:\n",
    "|-- Landsize:\n",
    "|-- BuildingArea:\n",
    "|-- YearBuilt:"
   ]
  },
  {
   "cell_type": "code",
   "execution_count": 134,
   "metadata": {},
   "outputs": [
    {
     "name": "stdout",
     "output_type": "stream",
     "text": [
      "+---------------------+\n",
      "|corr(Distance, Price)|\n",
      "+---------------------+\n",
      "| -0.21138434279157942|\n",
      "+---------------------+\n",
      "\n"
     ]
    },
    {
     "data": {
      "text/plain": [
       "import org.apache.spark.sql.functions.corr\n"
      ]
     },
     "execution_count": 134,
     "metadata": {},
     "output_type": "execute_result"
    }
   ],
   "source": [
    "import org.apache.spark.sql.functions.corr\n",
    "df_result.select(corr(\"Distance\",\"Price\")).show()"
   ]
  },
  {
   "cell_type": "code",
   "execution_count": 135,
   "metadata": {},
   "outputs": [
    {
     "name": "stdout",
     "output_type": "stream",
     "text": [
      "+-------------------+\n",
      "| corr(Rooms, Price)|\n",
      "+-------------------+\n",
      "|0.46523834510759615|\n",
      "+-------------------+\n",
      "\n"
     ]
    }
   ],
   "source": [
    "df_result.select(corr(\"Rooms\",\"Price\")).show()"
   ]
  },
  {
   "cell_type": "code",
   "execution_count": 136,
   "metadata": {},
   "outputs": [
    {
     "name": "stdout",
     "output_type": "stream",
     "text": [
      "+---------------------+\n",
      "|corr(Landsize, Price)|\n",
      "+---------------------+\n",
      "| 0.032748365249470925|\n",
      "+---------------------+\n",
      "\n"
     ]
    }
   ],
   "source": [
    "df_result.select(corr(\"Landsize\",\"Price\")).show()"
   ]
  },
  {
   "cell_type": "code",
   "execution_count": 137,
   "metadata": {},
   "outputs": [
    {
     "name": "stdout",
     "output_type": "stream",
     "text": [
      "+---------------------+\n",
      "|corr(Bathroom, Price)|\n",
      "+---------------------+\n",
      "|   0.4298780777015672|\n",
      "+---------------------+\n",
      "\n"
     ]
    }
   ],
   "source": [
    "df_result.select(corr(\"Bathroom\",\"Price\")).show()"
   ]
  },
  {
   "cell_type": "code",
   "execution_count": 138,
   "metadata": {},
   "outputs": [
    {
     "name": "stdout",
     "output_type": "stream",
     "text": [
      "+-------------------+\n",
      "|   corr(Car, Price)|\n",
      "+-------------------+\n",
      "|0.20180256061576263|\n",
      "+-------------------+\n",
      "\n"
     ]
    }
   ],
   "source": [
    "df_result.select(corr(\"Car\",\"Price\")).show()"
   ]
  },
  {
   "cell_type": "code",
   "execution_count": 139,
   "metadata": {},
   "outputs": [
    {
     "name": "stdout",
     "output_type": "stream",
     "text": [
      "+----------------------+\n",
      "|corr(YearBuilt, Price)|\n",
      "+----------------------+\n",
      "|   -0.3333055641267079|\n",
      "+----------------------+\n",
      "\n"
     ]
    }
   ],
   "source": [
    "df_result.select(corr(\"YearBuilt\",\"Price\")).show()"
   ]
  },
  {
   "cell_type": "code",
   "execution_count": 147,
   "metadata": {},
   "outputs": [
    {
     "name": "stdout",
     "output_type": "stream",
     "text": [
      "+-------------------------+\n",
      "|corr(BuildingArea, Price)|\n",
      "+-------------------------+\n",
      "|       0.1007536394731018|\n",
      "+-------------------------+\n",
      "\n"
     ]
    }
   ],
   "source": [
    "df_result.select(corr(\"BuildingArea\",\"Price\")).show()"
   ]
  },
  {
   "cell_type": "markdown",
   "metadata": {},
   "source": [
    "#### Write down clean data:"
   ]
  },
  {
   "cell_type": "code",
   "execution_count": 148,
   "metadata": {},
   "outputs": [],
   "source": [
    "df_result.write.format(\"csv\").option(\"header\",\"true\").mode(\"overwrite\").option(\"sep\",\",\").save(\"hdfs://localhost:9000/tmp/rs_out/mh.csv\") "
   ]
  },
  {
   "cell_type": "markdown",
   "metadata": {},
   "source": [
    "Save the clean data to disk"
   ]
  },
  {
   "cell_type": "code",
   "execution_count": null,
   "metadata": {},
   "outputs": [],
   "source": [
    "! hadoop fs -mkdir -p  /tmp/rs_out\n",
    "! hadoop fs –get /tmp/rs_out/mh.csv      ./../data-clean"
   ]
  },
  {
   "cell_type": "markdown",
   "metadata": {},
   "source": [
    "## References\n",
    "\n",
    "Apache Spark (n.d.). _Spark Scala API (Scaladoc). Overview._ https://spark.apache.org/docs/latest/api/java/overview-summary.html\n",
    "\n",
    "Apache Spark (n.d.). _Basic Statistic._ https://spark.apache.org/docs/latest/ml-statistics.html\n",
    "\n",
    "Bahadoor N. (2020). _Spark Tutorials_ https://allaboutscala.com/big-data/spark/#dataframe-statistics-correlation\n",
    "\n",
    "Databricks. (2020). _Introduction to DataFrames - Scala._  https://docs.databricks.com/spark/latest/dataframes-datasets/introduction-to-dataframes-scala.html \n",
    "\n",
    "Grimaldi E. (2018). _Pandas vs. Spark: how to handle dataframes (Part II.)_  https://towardsdatascience.com/python-pandas-vs-scala-how-to-handle-dataframes-part-ii-d3e5efe8287d \n",
    "\n"
   ]
  },
  {
   "cell_type": "code",
   "execution_count": null,
   "metadata": {},
   "outputs": [],
   "source": []
  }
 ],
 "metadata": {
  "kernelspec": {
   "display_name": "spylon-kernel",
   "language": "scala",
   "name": "spylon-kernel"
  },
  "language_info": {
   "codemirror_mode": "text/x-scala",
   "file_extension": ".scala",
   "help_links": [
    {
     "text": "MetaKernel Magics",
     "url": "https://metakernel.readthedocs.io/en/latest/source/README.html"
    }
   ],
   "mimetype": "text/x-scala",
   "name": "scala",
   "pygments_lexer": "scala",
   "version": "0.4.1"
  }
 },
 "nbformat": 4,
 "nbformat_minor": 4
}
